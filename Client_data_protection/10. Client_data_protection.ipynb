{
 "cells": [
  {
   "cell_type": "markdown",
   "metadata": {
    "toc": true
   },
   "source": [
    "<h1>Содержание<span class=\"tocSkip\"></span></h1>\n",
    "<div class=\"toc\"><ul class=\"toc-item\"><li><span><a href=\"#Загрузка-данных\" data-toc-modified-id=\"Загрузка-данных-1\"><span class=\"toc-item-num\">1&nbsp;&nbsp;</span>Загрузка данных</a></span></li><li><span><a href=\"#Умножение-матриц\" data-toc-modified-id=\"Умножение-матриц-2\"><span class=\"toc-item-num\">2&nbsp;&nbsp;</span>Умножение матриц</a></span></li><li><span><a href=\"#Алгоритм-преобразования\" data-toc-modified-id=\"Алгоритм-преобразования-3\"><span class=\"toc-item-num\">3&nbsp;&nbsp;</span>Алгоритм преобразования</a></span></li><li><span><a href=\"#Проверка-алгоритма\" data-toc-modified-id=\"Проверка-алгоритма-4\"><span class=\"toc-item-num\">4&nbsp;&nbsp;</span>Проверка алгоритма</a></span></li><li><span><a href=\"#Чек-лист-проверки\" data-toc-modified-id=\"Чек-лист-проверки-5\"><span class=\"toc-item-num\">5&nbsp;&nbsp;</span>Чек-лист проверки</a></span></li></ul></div>"
   ]
  },
  {
   "cell_type": "markdown",
   "metadata": {},
   "source": [
    "# Защита персональных данных клиентов"
   ]
  },
  {
   "cell_type": "markdown",
   "metadata": {},
   "source": [
    "Вам нужно защитить данные клиентов страховой компании «Хоть потоп». Разработайте такой метод преобразования данных, чтобы по ним было сложно восстановить персональную информацию. Обоснуйте корректность его работы.\n",
    "\n",
    "Нужно защитить данные, чтобы при преобразоШипунов В.Ю.вании качество моделей машинного обучения не ухудшилось. Подбирать наилучшую модель не требуется."
   ]
  },
  {
   "cell_type": "markdown",
   "metadata": {},
   "source": [
    "<div class=\"alert alert-success\">\n",
    "<b>✔️ Комментарий ревьювера:</b> Хорошо, когда есть небольшое описание проекта — так будет проще разобраться!\n",
    "    \n",
    "</div>"
   ]
  },
  {
   "cell_type": "markdown",
   "metadata": {},
   "source": [
    "## Загрузка данных"
   ]
  },
  {
   "cell_type": "code",
   "execution_count": 1,
   "metadata": {},
   "outputs": [],
   "source": [
    "import numpy as np\n",
    "import pandas as pd\n",
    "import seaborn as sns\n",
    "import matplotlib.pyplot as plt\n",
    "\n",
    "from sklearn.metrics import r2_score\n",
    "from sklearn.metrics import mean_squared_error\n",
    "from sklearn.model_selection import train_test_split\n",
    "\n",
    "from sklearn.linear_model import LinearRegression"
   ]
  },
  {
   "cell_type": "markdown",
   "metadata": {},
   "source": [
    "<div class=\"alert alert-success\">\n",
    "<b>✔️ Комментарий ревьювера:</b> Необходимые библиотеки импортированы, все хорошо\n",
    "    \n",
    "</div>"
   ]
  },
  {
   "cell_type": "code",
   "execution_count": 2,
   "metadata": {},
   "outputs": [],
   "source": [
    "data = pd.read_csv('/datasets/insurance.csv')"
   ]
  },
  {
   "cell_type": "code",
   "execution_count": 3,
   "metadata": {},
   "outputs": [
    {
     "data": {
      "text/html": [
       "<div>\n",
       "<style scoped>\n",
       "    .dataframe tbody tr th:only-of-type {\n",
       "        vertical-align: middle;\n",
       "    }\n",
       "\n",
       "    .dataframe tbody tr th {\n",
       "        vertical-align: top;\n",
       "    }\n",
       "\n",
       "    .dataframe thead th {\n",
       "        text-align: right;\n",
       "    }\n",
       "</style>\n",
       "<table border=\"1\" class=\"dataframe\">\n",
       "  <thead>\n",
       "    <tr style=\"text-align: right;\">\n",
       "      <th></th>\n",
       "      <th>Пол</th>\n",
       "      <th>Возраст</th>\n",
       "      <th>Зарплата</th>\n",
       "      <th>Члены семьи</th>\n",
       "      <th>Страховые выплаты</th>\n",
       "    </tr>\n",
       "  </thead>\n",
       "  <tbody>\n",
       "    <tr>\n",
       "      <th>0</th>\n",
       "      <td>1</td>\n",
       "      <td>41.0</td>\n",
       "      <td>49600.0</td>\n",
       "      <td>1</td>\n",
       "      <td>0</td>\n",
       "    </tr>\n",
       "    <tr>\n",
       "      <th>1</th>\n",
       "      <td>0</td>\n",
       "      <td>46.0</td>\n",
       "      <td>38000.0</td>\n",
       "      <td>1</td>\n",
       "      <td>1</td>\n",
       "    </tr>\n",
       "    <tr>\n",
       "      <th>2</th>\n",
       "      <td>0</td>\n",
       "      <td>29.0</td>\n",
       "      <td>21000.0</td>\n",
       "      <td>0</td>\n",
       "      <td>0</td>\n",
       "    </tr>\n",
       "    <tr>\n",
       "      <th>3</th>\n",
       "      <td>0</td>\n",
       "      <td>21.0</td>\n",
       "      <td>41700.0</td>\n",
       "      <td>2</td>\n",
       "      <td>0</td>\n",
       "    </tr>\n",
       "    <tr>\n",
       "      <th>4</th>\n",
       "      <td>1</td>\n",
       "      <td>28.0</td>\n",
       "      <td>26100.0</td>\n",
       "      <td>0</td>\n",
       "      <td>0</td>\n",
       "    </tr>\n",
       "  </tbody>\n",
       "</table>\n",
       "</div>"
      ],
      "text/plain": [
       "   Пол  Возраст  Зарплата  Члены семьи  Страховые выплаты\n",
       "0    1     41.0   49600.0            1                  0\n",
       "1    0     46.0   38000.0            1                  1\n",
       "2    0     29.0   21000.0            0                  0\n",
       "3    0     21.0   41700.0            2                  0\n",
       "4    1     28.0   26100.0            0                  0"
      ]
     },
     "execution_count": 3,
     "metadata": {},
     "output_type": "execute_result"
    }
   ],
   "source": [
    "data.head() "
   ]
  },
  {
   "cell_type": "code",
   "execution_count": 4,
   "metadata": {},
   "outputs": [
    {
     "name": "stdout",
     "output_type": "stream",
     "text": [
      "<class 'pandas.core.frame.DataFrame'>\n",
      "RangeIndex: 5000 entries, 0 to 4999\n",
      "Data columns (total 5 columns):\n",
      " #   Column             Non-Null Count  Dtype  \n",
      "---  ------             --------------  -----  \n",
      " 0   Пол                5000 non-null   int64  \n",
      " 1   Возраст            5000 non-null   float64\n",
      " 2   Зарплата           5000 non-null   float64\n",
      " 3   Члены семьи        5000 non-null   int64  \n",
      " 4   Страховые выплаты  5000 non-null   int64  \n",
      "dtypes: float64(2), int64(3)\n",
      "memory usage: 195.4 KB\n"
     ]
    }
   ],
   "source": [
    "data.info()"
   ]
  },
  {
   "cell_type": "code",
   "execution_count": 5,
   "metadata": {},
   "outputs": [
    {
     "data": {
      "text/plain": [
       "Пол                  0\n",
       "Возраст              0\n",
       "Зарплата             0\n",
       "Члены семьи          0\n",
       "Страховые выплаты    0\n",
       "dtype: int64"
      ]
     },
     "execution_count": 5,
     "metadata": {},
     "output_type": "execute_result"
    }
   ],
   "source": [
    "data.isna().sum()"
   ]
  },
  {
   "cell_type": "code",
   "execution_count": 6,
   "metadata": {},
   "outputs": [
    {
     "data": {
      "text/plain": [
       "153"
      ]
     },
     "execution_count": 6,
     "metadata": {},
     "output_type": "execute_result"
    }
   ],
   "source": [
    "data.duplicated().sum()"
   ]
  },
  {
   "cell_type": "code",
   "execution_count": 7,
   "metadata": {
    "scrolled": true
   },
   "outputs": [
    {
     "data": {
      "text/plain": [
       "0    4436\n",
       "1     423\n",
       "2     115\n",
       "3      18\n",
       "4       7\n",
       "5       1\n",
       "Name: Страховые выплаты, dtype: int64"
      ]
     },
     "execution_count": 7,
     "metadata": {},
     "output_type": "execute_result"
    }
   ],
   "source": [
    "data['Страховые выплаты'].value_counts()"
   ]
  },
  {
   "cell_type": "code",
   "execution_count": 8,
   "metadata": {
    "scrolled": true
   },
   "outputs": [
    {
     "data": {
      "text/html": [
       "<div>\n",
       "<style scoped>\n",
       "    .dataframe tbody tr th:only-of-type {\n",
       "        vertical-align: middle;\n",
       "    }\n",
       "\n",
       "    .dataframe tbody tr th {\n",
       "        vertical-align: top;\n",
       "    }\n",
       "\n",
       "    .dataframe thead th {\n",
       "        text-align: right;\n",
       "    }\n",
       "</style>\n",
       "<table border=\"1\" class=\"dataframe\">\n",
       "  <thead>\n",
       "    <tr style=\"text-align: right;\">\n",
       "      <th></th>\n",
       "      <th>Пол</th>\n",
       "      <th>Возраст</th>\n",
       "      <th>Зарплата</th>\n",
       "      <th>Члены семьи</th>\n",
       "      <th>Страховые выплаты</th>\n",
       "    </tr>\n",
       "  </thead>\n",
       "  <tbody>\n",
       "    <tr>\n",
       "      <th>count</th>\n",
       "      <td>5000.000000</td>\n",
       "      <td>5000.000000</td>\n",
       "      <td>5000.000000</td>\n",
       "      <td>5000.000000</td>\n",
       "      <td>5000.000000</td>\n",
       "    </tr>\n",
       "    <tr>\n",
       "      <th>mean</th>\n",
       "      <td>0.499000</td>\n",
       "      <td>30.952800</td>\n",
       "      <td>39916.360000</td>\n",
       "      <td>1.194200</td>\n",
       "      <td>0.148000</td>\n",
       "    </tr>\n",
       "    <tr>\n",
       "      <th>std</th>\n",
       "      <td>0.500049</td>\n",
       "      <td>8.440807</td>\n",
       "      <td>9900.083569</td>\n",
       "      <td>1.091387</td>\n",
       "      <td>0.463183</td>\n",
       "    </tr>\n",
       "    <tr>\n",
       "      <th>min</th>\n",
       "      <td>0.000000</td>\n",
       "      <td>18.000000</td>\n",
       "      <td>5300.000000</td>\n",
       "      <td>0.000000</td>\n",
       "      <td>0.000000</td>\n",
       "    </tr>\n",
       "    <tr>\n",
       "      <th>25%</th>\n",
       "      <td>0.000000</td>\n",
       "      <td>24.000000</td>\n",
       "      <td>33300.000000</td>\n",
       "      <td>0.000000</td>\n",
       "      <td>0.000000</td>\n",
       "    </tr>\n",
       "    <tr>\n",
       "      <th>50%</th>\n",
       "      <td>0.000000</td>\n",
       "      <td>30.000000</td>\n",
       "      <td>40200.000000</td>\n",
       "      <td>1.000000</td>\n",
       "      <td>0.000000</td>\n",
       "    </tr>\n",
       "    <tr>\n",
       "      <th>75%</th>\n",
       "      <td>1.000000</td>\n",
       "      <td>37.000000</td>\n",
       "      <td>46600.000000</td>\n",
       "      <td>2.000000</td>\n",
       "      <td>0.000000</td>\n",
       "    </tr>\n",
       "    <tr>\n",
       "      <th>max</th>\n",
       "      <td>1.000000</td>\n",
       "      <td>65.000000</td>\n",
       "      <td>79000.000000</td>\n",
       "      <td>6.000000</td>\n",
       "      <td>5.000000</td>\n",
       "    </tr>\n",
       "  </tbody>\n",
       "</table>\n",
       "</div>"
      ],
      "text/plain": [
       "               Пол      Возраст      Зарплата  Члены семьи  Страховые выплаты\n",
       "count  5000.000000  5000.000000   5000.000000  5000.000000        5000.000000\n",
       "mean      0.499000    30.952800  39916.360000     1.194200           0.148000\n",
       "std       0.500049     8.440807   9900.083569     1.091387           0.463183\n",
       "min       0.000000    18.000000   5300.000000     0.000000           0.000000\n",
       "25%       0.000000    24.000000  33300.000000     0.000000           0.000000\n",
       "50%       0.000000    30.000000  40200.000000     1.000000           0.000000\n",
       "75%       1.000000    37.000000  46600.000000     2.000000           0.000000\n",
       "max       1.000000    65.000000  79000.000000     6.000000           5.000000"
      ]
     },
     "execution_count": 8,
     "metadata": {},
     "output_type": "execute_result"
    }
   ],
   "source": [
    "data.describe()"
   ]
  },
  {
   "cell_type": "code",
   "execution_count": 9,
   "metadata": {
    "scrolled": true
   },
   "outputs": [
    {
     "data": {
      "image/png": "[encoded data removed]",
      "text/plain": [
       "<Figure size 834.5x720 with 20 Axes>"
      ]
     },
     "metadata": {},
     "output_type": "display_data"
    }
   ],
   "source": [
    "sns.set_style('whitegrid')\n",
    "# sns.color_palette(\"Set2\")\n",
    "# sns.color_palette(\"hls\", 8)\n",
    "sns.pairplot(data, hue='Страховые выплаты', diag_kind='hist', plot_kws={'alpha':0.8},palette =\"Set1\")\n",
    "plt.title(\"Графики зависимости целевой метки от параметров в данных\", fontsize=13)\n",
    "plt.show()"
   ]
  },
  {
   "cell_type": "markdown",
   "metadata": {},
   "source": [
    " Визуально ввыбросов не наблюдается, пропусков тоже\n",
    "- Пол : Примерно 50/50 мужчин и женщин\n",
    "- Медианное значение возрасата 37 лет, среднее 30. Распределение скошено влево.\n",
    "- По зарплате распределение близко к нормальному.\n",
    "-  В семье в среднем 1,1 член семьи, но медианное значение равно 1. \n",
    "- страховые выплаты. 4436 человек не получали никогда страховых выплат, 423 - одни раз, 115 -чел. 2 раза и тд. Один клиент получил выплаты целых 5 раз"
   ]
  },
  {
   "cell_type": "markdown",
   "metadata": {},
   "source": [
    "Выделим целевой признак и разделим данные на тренировочную и тестовую выборку"
   ]
  },
  {
   "cell_type": "code",
   "execution_count": 10,
   "metadata": {},
   "outputs": [],
   "source": [
    "features=data.drop(['Страховые выплаты'],axis=1)\n",
    "target=data['Страховые выплаты']"
   ]
  },
  {
   "cell_type": "code",
   "execution_count": 11,
   "metadata": {},
   "outputs": [],
   "source": [
    "train_features, test_features, train_target, test_target = train_test_split(\n",
    "    features,target, test_size=0.25, random_state=12345)"
   ]
  },
  {
   "cell_type": "code",
   "execution_count": 12,
   "metadata": {},
   "outputs": [
    {
     "name": "stdout",
     "output_type": "stream",
     "text": [
      "Размер тренировочной выборки- 75%\n",
      "Размер тестовой выборки - 25%\n"
     ]
    }
   ],
   "source": [
    "tf=train_features.shape[0]/features.shape[0]\n",
    "tt=test_target.shape[0]/target.shape[0]\n",
    "\n",
    "print(f'Размер тренировочной выборки- {tf:.0%}')\n",
    "print(f'Размер тестовой выборки - {tt:.0%}')"
   ]
  },
  {
   "cell_type": "markdown",
   "metadata": {},
   "source": [
    "## Умножение матриц"
   ]
  },
  {
   "cell_type": "code",
   "execution_count": 13,
   "metadata": {},
   "outputs": [],
   "source": [
    "# Из курса Залача 5.3 - Sample\n",
    "# features = data.drop('цена', axis=1)\n",
    "# target = data['цена']\n",
    "\n",
    "# class LinearRegression:\n",
    "#     def fit(self, train_features, train_target):\n",
    "#         X = np.concatenate((np.ones((train_features.shape[0], 1)), train_features), axis=1)\n",
    "#         y = train_target\n",
    "#         w = np.linalg.inv(X.T.dot(X)).dot(X.T) .dot(y)# < напишите код здесь >\n",
    "#         self.w = w[1:]\n",
    "#         self.w0 = w[0]\n",
    "\n",
    "#     def predict(self, test_features):\n",
    "#         return test_features.dot(self.w) + self.w0"
   ]
  },
  {
   "cell_type": "markdown",
   "metadata": {},
   "source": [
    "В этом задании вы можете записывать формулы в *Jupyter Notebook.*\n",
    "\n",
    "Чтобы записать формулу внутри текста, окружите её символами доллара \\\\$; если снаружи —  двойными символами \\\\$\\\\$. Эти формулы записываются на языке вёрстки *LaTeX.* \n",
    "\n",
    "Для примера мы записали формулы линейной регрессии. Можете их скопировать и отредактировать, чтобы решить задачу.\n",
    "\n",
    "Работать в *LaTeX* необязательно."
   ]
  },
  {
   "cell_type": "markdown",
   "metadata": {},
   "source": [
    "Обозначения:\n",
    "\n",
    "- $X$ — матрица признаков (нулевой столбец состоит из единиц)\n",
    "\n",
    "- $y$ — вектор целевого признака\n",
    "\n",
    "- $P$ — матрица, на которую умножаются признаки\n",
    "\n",
    "- $w$ — вектор весов линейной регрессии (нулевой элемент равен сдвигу)"
   ]
  },
  {
   "cell_type": "markdown",
   "metadata": {},
   "source": [
    "Предсказания:\n",
    "\n",
    "$$\n",
    "a = Xw\n",
    "$$\n",
    "\n",
    "Задача обучения:\n",
    "\n",
    "$$\n",
    "w = \\arg\\min_w MSE(Xw, y)\n",
    "$$\n",
    "\n",
    "Формула обучения:\n",
    "\n",
    "$$\n",
    "w = (X^T X)^{-1} X^T y\n",
    "$$\n",
    "\n"
   ]
  },
  {
   "cell_type": "code",
   "execution_count": 14,
   "metadata": {},
   "outputs": [],
   "source": [
    "class LinearRegress:\n",
    "    def fit(self, train_features, train_target):\n",
    "        X = np.concatenate((np.ones((train_features.shape[0], 1)), train_features), axis=1)\n",
    "        y = train_target\n",
    "        w = np.linalg.inv(X.T@X)@(X.T)@y# < напишите код здесь >\n",
    "        self.w = w[1:]\n",
    "        self.w0 = w[0]\n",
    "\n",
    "    def predict(self, test_features):\n",
    "        return test_features.dot(self.w) + self.w0"
   ]
  },
  {
   "cell_type": "code",
   "execution_count": 15,
   "metadata": {},
   "outputs": [
    {
     "name": "stdout",
     "output_type": "stream",
     "text": [
      "R2_score: 0.4352275712702667\n",
      "MSE: 0.11660517472525564\n"
     ]
    }
   ],
   "source": [
    "model = LinearRegress()\n",
    "model.fit(train_features, train_target)\n",
    "predictions = model.predict(test_features)\n",
    "\n",
    "R2_score = r2_score(test_target, predictions)\n",
    "MSE = mean_squared_error(predictions,test_target)\n",
    "\n",
    "print(f'R2_score: {R2_score}')\n",
    "print(f'MSE: {MSE}')"
   ]
  },
  {
   "cell_type": "markdown",
   "metadata": {},
   "source": [
    "Вычислим значения R2 и MSE с помощью модели линейной регрессии из Scikit-learn"
   ]
  },
  {
   "cell_type": "code",
   "execution_count": 16,
   "metadata": {},
   "outputs": [
    {
     "name": "stdout",
     "output_type": "stream",
     "text": [
      "R2_score Линейной регрессии из Scikit-learn неизменённой матрицы: 0.43522757127026546\n",
      "MSE Линейной регрессии из Scikit-learn неизменённой матрицы: 0.11660517472525592\n"
     ]
    }
   ],
   "source": [
    "model_l = LinearRegression()\n",
    "model_l.fit(train_features,train_target)\n",
    "predictions= model_l.predict(test_features)\n",
    "\n",
    "R2_score_l = r2_score(test_target, predictions)\n",
    "MSE_l = mean_squared_error(predictions,test_target)\n",
    "\n",
    "print(f'R2_score Линейной регрессии из Scikit-learn неизменённой матрицы: {R2_score_l}')\n",
    "print(f'MSE Линейной регрессии из Scikit-learn неизменённой матрицы: {MSE_l}')"
   ]
  },
  {
   "cell_type": "markdown",
   "metadata": {},
   "source": [
    "Произведём изменение признаков исходной матрицы данных методом умножения их на произвольную обратимую матрицу"
   ]
  },
  {
   "cell_type": "code",
   "execution_count": 17,
   "metadata": {},
   "outputs": [
    {
     "data": {
      "text/plain": [
       "array([[4.49850873, 4.61963516, 4.90916153, 5.89870382],\n",
       "       [6.69321784, 3.65332735, 6.2640646 , 5.21792142],\n",
       "       [6.16443015, 3.48893454, 4.7727673 , 5.17582116],\n",
       "       [4.62493842, 5.6866703 , 5.39161036, 3.08686009]])"
      ]
     },
     "execution_count": 17,
     "metadata": {},
     "output_type": "execute_result"
    }
   ],
   "source": [
    "rand_matrix=np.random.normal(5, size=(4,4))\n",
    "rand_matrix"
   ]
  },
  {
   "cell_type": "markdown",
   "metadata": {},
   "source": [
    "Проверим обратимость нашей матрицы"
   ]
  },
  {
   "cell_type": "code",
   "execution_count": 18,
   "metadata": {},
   "outputs": [
    {
     "data": {
      "text/plain": [
       "array([[-0.42109749, -0.30557397,  0.73628253,  0.0866653 ],\n",
       "       [ 0.01372431, -0.5103831 ,  0.32347525,  0.2941284 ],\n",
       "       [ 0.1374825 ,  0.83697171, -0.96700416, -0.0561025 ],\n",
       "       [ 0.36550159, -0.06381375, -0.01005838, -0.24975221]])"
      ]
     },
     "execution_count": 18,
     "metadata": {},
     "output_type": "execute_result"
    }
   ],
   "source": [
    "np.linalg.inv(rand_matrix)"
   ]
  },
  {
   "cell_type": "markdown",
   "metadata": {},
   "source": [
    "<div class=\"alert alert-success\">\n",
    "<b>✔️ Комментарий ревьювера:</b> Все хорошо, матрица является обратимой\n",
    "    \n",
    "</div>"
   ]
  },
  {
   "cell_type": "markdown",
   "metadata": {},
   "source": [
    "Произведём умножение признаков для тренировочной выборки на произвольную матрицу"
   ]
  },
  {
   "cell_type": "code",
   "execution_count": 19,
   "metadata": {},
   "outputs": [
    {
     "data": {
      "text/html": [
       "<div>\n",
       "<style scoped>\n",
       "    .dataframe tbody tr th:only-of-type {\n",
       "        vertical-align: middle;\n",
       "    }\n",
       "\n",
       "    .dataframe tbody tr th {\n",
       "        vertical-align: top;\n",
       "    }\n",
       "\n",
       "    .dataframe thead th {\n",
       "        text-align: right;\n",
       "    }\n",
       "</style>\n",
       "<table border=\"1\" class=\"dataframe\">\n",
       "  <thead>\n",
       "    <tr style=\"text-align: right;\">\n",
       "      <th></th>\n",
       "      <th>Пол</th>\n",
       "      <th>Возраст</th>\n",
       "      <th>Зарплата</th>\n",
       "      <th>Члены семьи</th>\n",
       "    </tr>\n",
       "  </thead>\n",
       "  <tbody>\n",
       "    <tr>\n",
       "      <th>3369</th>\n",
       "      <td>223449.303069</td>\n",
       "      <td>126466.829785</td>\n",
       "      <td>173053.831926</td>\n",
       "      <td>187598.082032</td>\n",
       "    </tr>\n",
       "    <tr>\n",
       "      <th>1441</th>\n",
       "      <td>355303.244276</td>\n",
       "      <td>201091.462357</td>\n",
       "      <td>275129.284023</td>\n",
       "      <td>298310.606618</td>\n",
       "    </tr>\n",
       "    <tr>\n",
       "      <th>571</th>\n",
       "      <td>253576.886875</td>\n",
       "      <td>143517.802803</td>\n",
       "      <td>196366.577839</td>\n",
       "      <td>212896.309857</td>\n",
       "    </tr>\n",
       "    <tr>\n",
       "      <th>225</th>\n",
       "      <td>278261.380327</td>\n",
       "      <td>157488.154278</td>\n",
       "      <td>215482.703311</td>\n",
       "      <td>233620.466167</td>\n",
       "    </tr>\n",
       "    <tr>\n",
       "      <th>2558</th>\n",
       "      <td>312150.291410</td>\n",
       "      <td>176672.020945</td>\n",
       "      <td>241719.522895</td>\n",
       "      <td>262074.915621</td>\n",
       "    </tr>\n",
       "  </tbody>\n",
       "</table>\n",
       "</div>"
      ],
      "text/plain": [
       "                Пол        Возраст       Зарплата    Члены семьи\n",
       "3369  223449.303069  126466.829785  173053.831926  187598.082032\n",
       "1441  355303.244276  201091.462357  275129.284023  298310.606618\n",
       "571   253576.886875  143517.802803  196366.577839  212896.309857\n",
       "225   278261.380327  157488.154278  215482.703311  233620.466167\n",
       "2558  312150.291410  176672.020945  241719.522895  262074.915621"
      ]
     },
     "execution_count": 19,
     "metadata": {},
     "output_type": "execute_result"
    }
   ],
   "source": [
    "train_features_matrix=train_features@rand_matrix\n",
    "train_features_matrix.columns = train_features.columns\n",
    "train_features_matrix.head()"
   ]
  },
  {
   "cell_type": "markdown",
   "metadata": {},
   "source": [
    "Произведём умножение признаков для тестовой выборки на произвольную матрицу"
   ]
  },
  {
   "cell_type": "code",
   "execution_count": 20,
   "metadata": {},
   "outputs": [
    {
     "data": {
      "text/html": [
       "<div>\n",
       "<style scoped>\n",
       "    .dataframe tbody tr th:only-of-type {\n",
       "        vertical-align: middle;\n",
       "    }\n",
       "\n",
       "    .dataframe tbody tr th {\n",
       "        vertical-align: top;\n",
       "    }\n",
       "\n",
       "    .dataframe thead th {\n",
       "        text-align: right;\n",
       "    }\n",
       "</style>\n",
       "<table border=\"1\" class=\"dataframe\">\n",
       "  <thead>\n",
       "    <tr style=\"text-align: right;\">\n",
       "      <th></th>\n",
       "      <th>Пол</th>\n",
       "      <th>Возраст</th>\n",
       "      <th>Зарплата</th>\n",
       "      <th>Члены семьи</th>\n",
       "    </tr>\n",
       "  </thead>\n",
       "  <tbody>\n",
       "    <tr>\n",
       "      <th>3183</th>\n",
       "      <td>240652.151603</td>\n",
       "      <td>136211.753604</td>\n",
       "      <td>186366.205398</td>\n",
       "      <td>202041.563931</td>\n",
       "    </tr>\n",
       "    <tr>\n",
       "      <th>1071</th>\n",
       "      <td>266030.850025</td>\n",
       "      <td>150567.118448</td>\n",
       "      <td>206030.257219</td>\n",
       "      <td>223344.961615</td>\n",
       "    </tr>\n",
       "    <tr>\n",
       "      <th>2640</th>\n",
       "      <td>259788.043116</td>\n",
       "      <td>147031.243600</td>\n",
       "      <td>201182.711146</td>\n",
       "      <td>218111.468307</td>\n",
       "    </tr>\n",
       "    <tr>\n",
       "      <th>2282</th>\n",
       "      <td>214656.033408</td>\n",
       "      <td>121487.988592</td>\n",
       "      <td>166217.583444</td>\n",
       "      <td>180222.934657</td>\n",
       "    </tr>\n",
       "    <tr>\n",
       "      <th>1595</th>\n",
       "      <td>246870.127491</td>\n",
       "      <td>139729.914764</td>\n",
       "      <td>191189.085218</td>\n",
       "      <td>207259.128459</td>\n",
       "    </tr>\n",
       "  </tbody>\n",
       "</table>\n",
       "</div>"
      ],
      "text/plain": [
       "                Пол        Возраст       Зарплата    Члены семьи\n",
       "3183  240652.151603  136211.753604  186366.205398  202041.563931\n",
       "1071  266030.850025  150567.118448  206030.257219  223344.961615\n",
       "2640  259788.043116  147031.243600  201182.711146  218111.468307\n",
       "2282  214656.033408  121487.988592  166217.583444  180222.934657\n",
       "1595  246870.127491  139729.914764  191189.085218  207259.128459"
      ]
     },
     "execution_count": 20,
     "metadata": {},
     "output_type": "execute_result"
    }
   ],
   "source": [
    "test_features_matrix = test_features@rand_matrix\n",
    "test_features_matrix.columns = test_features.columns\n",
    "test_features_matrix.head()"
   ]
  },
  {
   "cell_type": "markdown",
   "metadata": {},
   "source": [
    "Посчитаем результат по измененным данным"
   ]
  },
  {
   "cell_type": "code",
   "execution_count": 21,
   "metadata": {},
   "outputs": [
    {
     "name": "stdout",
     "output_type": "stream",
     "text": [
      "R2_score по измененным данным: 0.43522756260980855\n",
      "MSE по измененным данным: 0.11660517651332848\n"
     ]
    }
   ],
   "source": [
    "model_ch = LinearRegress()\n",
    "model_ch.fit(train_features_matrix, train_target)\n",
    "predictions_ch = model_ch.predict(test_features_matrix)\n",
    "\n",
    "R2_score_ch = r2_score(test_target, predictions_ch)\n",
    "MSE_ch = mean_squared_error(predictions_ch,test_target)\n",
    "\n",
    "print(f'R2_score по измененным данным: {R2_score_ch}')\n",
    "print(f'MSE по измененным данным: {MSE_ch}')"
   ]
  },
  {
   "cell_type": "markdown",
   "metadata": {},
   "source": [
    "**Ответ:** \n",
    "Если признаки исходных данных умножить на обратимую матрицу, то качество линейной регрессии не изменится....\n",
    "\n",
    "**Обоснование:** \n",
    "Изменение качества предсказания линейной регрессии не происходит при умножении признаков исходных данных, на обратимую матрицу, т.к. параметры линейной регрессии в исходной задаче и в преобразованной связаны между собой алгоритмом преобразования признаков, по результату работы которого предсказание вычисляется методом умножения признаков исходных данных на вектор по длине равный ширине таблицы признаков, который в свою очередь умножается на целевые признаки. По результату скалярного умножения создаётся число, на которое умножается тестовая выборка, и если эта выборка была преобразована умножением на ту же матрицу, то качество предсказания не изменится.\n"
   ]
  },
  {
   "cell_type": "markdown",
   "metadata": {},
   "source": [
    "## Алгоритм преобразования"
   ]
  },
  {
   "cell_type": "markdown",
   "metadata": {},
   "source": [
    "**Алгоритм**\n",
    "\n",
    " - Создаём произвольную матрицу\n",
    " - Проверяем её на обратимость\n",
    " - Умножаем DataSet на произвольную матрицу\n",
    " - Вычисляем R2score  и MSE  на исходных данных и на преобразованных\n",
    " - Проверяем способность восстановить данные с помощью умножения на матрицу \n",
    " - Сравниваем метрики для линейной регрессии на оригинальных и преобразованных данных."
   ]
  },
  {
   "cell_type": "markdown",
   "metadata": {},
   "source": [
    "<div class=\"alert alert-success\">\n",
    "<b>✔️ Комментарий ревьювера:</b> Хорошее описание алгоритма!\n",
    "    \n",
    "</div>"
   ]
  },
  {
   "cell_type": "markdown",
   "metadata": {},
   "source": [
    "**Обоснование**\n",
    "\n",
    "Если умножить признаки тренировочной и тестовой выборок на одну и ту же обратимую матрицу, то результатом предсказания будет произведение изменённой таблицы с признаками на вектор, который был получен из той же таблицы с изменёнными данными увеличенную на ту же величину, что и признаки тренировочных данных. Проверим работу данного алгоритма в следующей главе."
   ]
  },
  {
   "cell_type": "markdown",
   "metadata": {},
   "source": [
    "**Математическое обоснование Алгоритма**\n",
    "\n",
    "\n",
    "При матричном умножении (англ. matrix multiplication) по двум матрицам строится третья. Она состоит из скалярных произведений строк первой матрицы на столбцы второй. Так результатом произведения i-й строки матрицы A (Ai) на j-й столбец матрицы P (Pj) станет элемент матрицы С c индексами i, j (Mij):\n",
    "\n",
    "$$\n",
    "Mij = (Ai, Pj)\n",
    "$$\n",
    "\n",
    "Умножение матрицы на матрицу возможно, если ширина первой матрицы $А(m×n)$ равна высоте второй матрицы P(n×r). Тогда размер произведения этих матриц будет m×r. Размерность n «cхлопывается».\n",
    "\n",
    "\n",
    "**Свойства матриц**\n",
    "\n",
    "$$\n",
    "(AB)^T = B^T A^T\n",
    "$$\n",
    "\n",
    "$$\n",
    "(AB)^{-1} = B^{-1} A^{-1}\n",
    "$$\n",
    "\n",
    "При умножении признаков выборки A размерностью (5000, 4) на обратимую произвольную матрицу P c размерностью (4, 4), получается  новый  набор данных скалярных произведений M с размернотью (5000, 4)\n",
    "\n",
    "В каждую новую ячейку записывается результат сложения произведений строки i на столбец j. Так, например, в первой ячейке новой таблицы будет записан результат по этой формуле:\n",
    "\n",
    "\n",
    "$$\n",
    "M11=A11×P11+A12×P21+A13×P31+A14×P41\n",
    "$$\n",
    "\n",
    "Далее вычисляется  вектор w  по формуле:\n",
    " \n",
    "$$\n",
    "w = (X^T X)^{-1} X^T y\n",
    "$$\n",
    "\n",
    "В которой X - таблица признков, где нулевой столбец заполнен 1 (единицами), а y - вектор целевого признака\n",
    "\n",
    "\n",
    "$$\n",
    "Xi=(1Mi2Mi3Mi4Mi5)\n",
    "$$\n",
    "\n",
    "В Линейной регрессии предсказания вычисляются по формуле:\n",
    "\n",
    "$$\n",
    "a=Xw+w0\n",
    "$$\n",
    "\n",
    "где w0 - значение нулевого аргумента вектора w, которое предствляет собой величину сдвига модели, при подборе которого можно достигать более низкого значения среднеквадратичного отклонения MSE\n",
    "\n",
    "Рассмотрим упрощённую запись формулы предсказания Линейной регрессии a=Xiw, где Xi - новые строки признаков\n",
    "Подставим вместо параметра w, формулу её вычисления:\n",
    "\n",
    "$$\n",
    "a=Xiw=Xi(X^T X)^{−1}X^T y\n",
    "$$\n",
    "\n",
    "Упроситим формулу используя принцип ассоциативности $ A(BC)=(AB)C$ и то, что транспонированное произведение матриц равно произведению транспонированных матриц взятых в обратном порядке $(AB)^T = B^T A^T:$\n",
    "\n",
    "$$\n",
    "a=Xi(X^TX)^{−1}XTy=XiX^{−1}(XT)^{−1}XT y=XiX^{−1}y\n",
    "$$\n",
    "\n",
    "\n",
    "Домножим наши признаки на случайную матрицу P, в которой число строк равно чилу столбцов X и P - обратима, то есть из матрицы P можно получить матрицу $ P^{−1}$, при этом $P P^{−1}=E$, где E  - единичная матрица\n",
    "\n",
    "Если обучить нашу модель на новых (изменённых) признаках, то модель найдёт новые коэффициенты w′\n",
    "\n",
    "$$\n",
    "w′=((XP)^T(XP))^{−1}(XP)^Ty\n",
    "$$\n",
    "\n",
    "Подставим их в формулу предсказания и упростим выражение\n",
    "$$\n",
    "a′=XiPw′=XiP((XP)^T(XP))^{−1}(XP)^Ty=XiP(XP)^{−1}((XP)^T)^{−1}(XP)^Ty=XiX^{−1}y\n",
    "$$\n",
    "\n",
    "\n",
    "Таким образом, результат предсказания не изменится не смотря на измениения признаков, т.к. исходя из результатов преобразований очевидно, что a = a′"
   ]
  },
  {
   "cell_type": "markdown",
   "metadata": {},
   "source": [
    "\n",
    "$$\n",
    "w = (X^T X)^{-1} X^T y\n",
    "$$\n",
    "\n",
    "Домножим на P\n",
    "\n",
    "$$\n",
    "w_n = ((X P)^T (X P))^{-1} (X P)^T y\n",
    "$$\n",
    "\n",
    "\n",
    "С учетом $(AB)^T = B^T A^T$\n",
    "\n",
    "$$\n",
    "w_n = (P^T X^T X P))^{-1} P^T X^T  y\n",
    "$$\n",
    "\n",
    "$$\n",
    "w_new = (P^T X^T X P))^{-1} P^T X^T  y\n",
    "$$\n",
    "\n",
    "$$\n",
    "w_n = P^{-1} (X^T X)^{-1} (P^T)^{-1} P^T X^T  y\n",
    "$$\n",
    "\n",
    "$$\n",
    "w_n = P^{-1} (X^T X)^{-1} (P^T)^{-1} P^T X^T  y\n",
    "$$\n",
    "\n",
    "\n",
    "$ (P^T)^{-1} P^T = E$, отсюда:\n",
    "\n",
    "$$\n",
    "w_n = P^{-1} (X^T X)^{-1} X^T  y\n",
    "$$\n",
    "\n",
    "Таким образом:\n",
    "$$\n",
    "w_n = P^{-1} w\n",
    "$$\n",
    "\n",
    "$$\n",
    "w_n = P^{-1} (X^T X)^{-1} X^T  y\n",
    "$$\n",
    "\n",
    "\n",
    "Подставим в формулу предсказаний $a=Xw$ матрицу $X_n = XP $ и w_n. Тогда\n",
    " \n",
    "$$\n",
    "a_n = XP w_n  = X P P^{-1} w = a\n",
    "$$ "
   ]
  },
  {
   "cell_type": "markdown",
   "metadata": {},
   "source": [
    "## Проверка алгоритма"
   ]
  },
  {
   "cell_type": "markdown",
   "metadata": {},
   "source": [
    "Создадим матрцу P и проверим ее на обратимость"
   ]
  },
  {
   "cell_type": "code",
   "execution_count": 22,
   "metadata": {},
   "outputs": [
    {
     "data": {
      "text/plain": [
       "array([[5.55477053, 4.21597831, 5.44272306, 3.83530343],\n",
       "       [5.79120764, 6.06298291, 3.91646445, 6.88384488],\n",
       "       [3.90445004, 5.23296292, 2.77893945, 7.13809548],\n",
       "       [5.35909326, 2.31140947, 5.19138425, 4.18008719]])"
      ]
     },
     "execution_count": 22,
     "metadata": {},
     "output_type": "execute_result"
    }
   ],
   "source": [
    "P = np.random.normal(5, size=(4,4))\n",
    "P"
   ]
  },
  {
   "cell_type": "code",
   "execution_count": 23,
   "metadata": {},
   "outputs": [
    {
     "data": {
      "text/plain": [
       "array([[-0.61351236,  1.07502806, -0.88682513,  0.30691275],\n",
       "       [ 0.46088112, -0.02490369,  0.07041624, -0.50210044],\n",
       "       [ 0.62630136, -0.93206967,  0.61512236, -0.09010216],\n",
       "       [-0.24611593, -0.20690507,  0.33407945,  0.23529189]])"
      ]
     },
     "execution_count": 23,
     "metadata": {},
     "output_type": "execute_result"
    }
   ],
   "source": [
    "np.linalg.inv(P)"
   ]
  },
  {
   "cell_type": "markdown",
   "metadata": {},
   "source": [
    "Умножим признаки на новую матрицу и обозначим её M"
   ]
  },
  {
   "cell_type": "code",
   "execution_count": 24,
   "metadata": {},
   "outputs": [
    {
     "data": {
      "text/html": [
       "<div>\n",
       "<style scoped>\n",
       "    .dataframe tbody tr th:only-of-type {\n",
       "        vertical-align: middle;\n",
       "    }\n",
       "\n",
       "    .dataframe tbody tr th {\n",
       "        vertical-align: top;\n",
       "    }\n",
       "\n",
       "    .dataframe thead th {\n",
       "        text-align: right;\n",
       "    }\n",
       "</style>\n",
       "<table border=\"1\" class=\"dataframe\">\n",
       "  <thead>\n",
       "    <tr style=\"text-align: right;\">\n",
       "      <th></th>\n",
       "      <th>Пол</th>\n",
       "      <th>Возраст</th>\n",
       "      <th>Зарплата</th>\n",
       "      <th>Члены семьи</th>\n",
       "    </tr>\n",
       "  </thead>\n",
       "  <tbody>\n",
       "    <tr>\n",
       "      <th>3369</th>\n",
       "      <td>141601.027290</td>\n",
       "      <td>189700.493294</td>\n",
       "      <td>100776.650344</td>\n",
       "      <td>258703.076959</td>\n",
       "    </tr>\n",
       "    <tr>\n",
       "      <th>1441</th>\n",
       "      <td>225098.778213</td>\n",
       "      <td>301629.021490</td>\n",
       "      <td>160205.515114</td>\n",
       "      <td>411392.185459</td>\n",
       "    </tr>\n",
       "    <tr>\n",
       "      <th>571</th>\n",
       "      <td>160663.574438</td>\n",
       "      <td>215271.102804</td>\n",
       "      <td>114344.929841</td>\n",
       "      <td>293600.187195</td>\n",
       "    </tr>\n",
       "    <tr>\n",
       "      <th>225</th>\n",
       "      <td>176304.539434</td>\n",
       "      <td>236227.206408</td>\n",
       "      <td>125476.353518</td>\n",
       "      <td>322180.104480</td>\n",
       "    </tr>\n",
       "    <tr>\n",
       "      <th>2558</th>\n",
       "      <td>197767.000132</td>\n",
       "      <td>264992.624920</td>\n",
       "      <td>140753.962511</td>\n",
       "      <td>361423.158151</td>\n",
       "    </tr>\n",
       "  </tbody>\n",
       "</table>\n",
       "</div>"
      ],
      "text/plain": [
       "                Пол        Возраст       Зарплата    Члены семьи\n",
       "3369  141601.027290  189700.493294  100776.650344  258703.076959\n",
       "1441  225098.778213  301629.021490  160205.515114  411392.185459\n",
       "571   160663.574438  215271.102804  114344.929841  293600.187195\n",
       "225   176304.539434  236227.206408  125476.353518  322180.104480\n",
       "2558  197767.000132  264992.624920  140753.962511  361423.158151"
      ]
     },
     "execution_count": 24,
     "metadata": {},
     "output_type": "execute_result"
    }
   ],
   "source": [
    "M =train_features.dot(P)\n",
    "M.columns = train_features.columns\n",
    "M.head()"
   ]
  },
  {
   "cell_type": "markdown",
   "metadata": {},
   "source": [
    "Умножим тестовые данные на матрицу M"
   ]
  },
  {
   "cell_type": "code",
   "execution_count": 25,
   "metadata": {},
   "outputs": [
    {
     "data": {
      "text/html": [
       "<div>\n",
       "<style scoped>\n",
       "    .dataframe tbody tr th:only-of-type {\n",
       "        vertical-align: middle;\n",
       "    }\n",
       "\n",
       "    .dataframe tbody tr th {\n",
       "        vertical-align: top;\n",
       "    }\n",
       "\n",
       "    .dataframe thead th {\n",
       "        text-align: right;\n",
       "    }\n",
       "</style>\n",
       "<table border=\"1\" class=\"dataframe\">\n",
       "  <thead>\n",
       "    <tr style=\"text-align: right;\">\n",
       "      <th></th>\n",
       "      <th>Пол</th>\n",
       "      <th>Возраст</th>\n",
       "      <th>Зарплата</th>\n",
       "      <th>Члены семьи</th>\n",
       "    </tr>\n",
       "  </thead>\n",
       "  <tbody>\n",
       "    <tr>\n",
       "      <th>3183</th>\n",
       "      <td>152486.097838</td>\n",
       "      <td>204294.877886</td>\n",
       "      <td>108528.647603</td>\n",
       "      <td>278629.610802</td>\n",
       "    </tr>\n",
       "    <tr>\n",
       "      <th>1071</th>\n",
       "      <td>168582.075351</td>\n",
       "      <td>225848.473742</td>\n",
       "      <td>119978.496495</td>\n",
       "      <td>308004.467443</td>\n",
       "    </tr>\n",
       "    <tr>\n",
       "      <th>2640</th>\n",
       "      <td>164608.758610</td>\n",
       "      <td>220548.411171</td>\n",
       "      <td>117151.535886</td>\n",
       "      <td>300786.124802</td>\n",
       "    </tr>\n",
       "    <tr>\n",
       "      <th>2282</th>\n",
       "      <td>135990.685592</td>\n",
       "      <td>182228.369214</td>\n",
       "      <td>96785.422318</td>\n",
       "      <td>248543.399469</td>\n",
       "    </tr>\n",
       "    <tr>\n",
       "      <th>1595</th>\n",
       "      <td>156436.877541</td>\n",
       "      <td>209576.344668</td>\n",
       "      <td>111338.918774</td>\n",
       "      <td>285822.777037</td>\n",
       "    </tr>\n",
       "  </tbody>\n",
       "</table>\n",
       "</div>"
      ],
      "text/plain": [
       "                Пол        Возраст       Зарплата    Члены семьи\n",
       "3183  152486.097838  204294.877886  108528.647603  278629.610802\n",
       "1071  168582.075351  225848.473742  119978.496495  308004.467443\n",
       "2640  164608.758610  220548.411171  117151.535886  300786.124802\n",
       "2282  135990.685592  182228.369214   96785.422318  248543.399469\n",
       "1595  156436.877541  209576.344668  111338.918774  285822.777037"
      ]
     },
     "execution_count": 25,
     "metadata": {},
     "output_type": "execute_result"
    }
   ],
   "source": [
    "test_M = test_features.dot(P)\n",
    "test_M.columns = test_features.columns\n",
    "test_M.head()"
   ]
  },
  {
   "cell_type": "markdown",
   "metadata": {},
   "source": [
    " в нулевой столбец изменённой таблицы вносим значение 1"
   ]
  },
  {
   "cell_type": "code",
   "execution_count": 26,
   "metadata": {},
   "outputs": [],
   "source": [
    "X = np.concatenate((np.ones((M.shape[0], 1)), M), axis=1)"
   ]
  },
  {
   "cell_type": "code",
   "execution_count": 27,
   "metadata": {},
   "outputs": [
    {
     "data": {
      "text/html": [
       "<div>\n",
       "<style scoped>\n",
       "    .dataframe tbody tr th:only-of-type {\n",
       "        vertical-align: middle;\n",
       "    }\n",
       "\n",
       "    .dataframe tbody tr th {\n",
       "        vertical-align: top;\n",
       "    }\n",
       "\n",
       "    .dataframe thead th {\n",
       "        text-align: right;\n",
       "    }\n",
       "</style>\n",
       "<table border=\"1\" class=\"dataframe\">\n",
       "  <thead>\n",
       "    <tr style=\"text-align: right;\">\n",
       "      <th></th>\n",
       "      <th>0</th>\n",
       "      <th>1</th>\n",
       "      <th>2</th>\n",
       "      <th>3</th>\n",
       "      <th>4</th>\n",
       "    </tr>\n",
       "  </thead>\n",
       "  <tbody>\n",
       "    <tr>\n",
       "      <th>0</th>\n",
       "      <td>1.0</td>\n",
       "      <td>141601.027290</td>\n",
       "      <td>189700.493294</td>\n",
       "      <td>100776.650344</td>\n",
       "      <td>258703.076959</td>\n",
       "    </tr>\n",
       "    <tr>\n",
       "      <th>1</th>\n",
       "      <td>1.0</td>\n",
       "      <td>225098.778213</td>\n",
       "      <td>301629.021490</td>\n",
       "      <td>160205.515114</td>\n",
       "      <td>411392.185459</td>\n",
       "    </tr>\n",
       "    <tr>\n",
       "      <th>2</th>\n",
       "      <td>1.0</td>\n",
       "      <td>160663.574438</td>\n",
       "      <td>215271.102804</td>\n",
       "      <td>114344.929841</td>\n",
       "      <td>293600.187195</td>\n",
       "    </tr>\n",
       "    <tr>\n",
       "      <th>3</th>\n",
       "      <td>1.0</td>\n",
       "      <td>176304.539434</td>\n",
       "      <td>236227.206408</td>\n",
       "      <td>125476.353518</td>\n",
       "      <td>322180.104480</td>\n",
       "    </tr>\n",
       "    <tr>\n",
       "      <th>4</th>\n",
       "      <td>1.0</td>\n",
       "      <td>197767.000132</td>\n",
       "      <td>264992.624920</td>\n",
       "      <td>140753.962511</td>\n",
       "      <td>361423.158151</td>\n",
       "    </tr>\n",
       "  </tbody>\n",
       "</table>\n",
       "</div>"
      ],
      "text/plain": [
       "     0              1              2              3              4\n",
       "0  1.0  141601.027290  189700.493294  100776.650344  258703.076959\n",
       "1  1.0  225098.778213  301629.021490  160205.515114  411392.185459\n",
       "2  1.0  160663.574438  215271.102804  114344.929841  293600.187195\n",
       "3  1.0  176304.539434  236227.206408  125476.353518  322180.104480\n",
       "4  1.0  197767.000132  264992.624920  140753.962511  361423.158151"
      ]
     },
     "execution_count": 27,
     "metadata": {},
     "output_type": "execute_result"
    }
   ],
   "source": [
    "pd.DataFrame(X).head()"
   ]
  },
  {
   "cell_type": "markdown",
   "metadata": {},
   "source": [
    "Присвоим переменной у целевые признаки и найдем вектор w"
   ]
  },
  {
   "cell_type": "code",
   "execution_count": 28,
   "metadata": {},
   "outputs": [],
   "source": [
    "y = train_target\n",
    "w = np.linalg.inv(X.T.dot(X)).dot(X.T).dot(y)"
   ]
  },
  {
   "cell_type": "markdown",
   "metadata": {},
   "source": [
    "Вычислим переменную предсказанных значений a"
   ]
  },
  {
   "cell_type": "code",
   "execution_count": 29,
   "metadata": {},
   "outputs": [],
   "source": [
    "a = test_M.dot(w[1:]) + w[0]"
   ]
  },
  {
   "cell_type": "markdown",
   "metadata": {},
   "source": [
    "Рассчитаем R2 и MSE"
   ]
  },
  {
   "cell_type": "code",
   "execution_count": 30,
   "metadata": {},
   "outputs": [
    {
     "name": "stdout",
     "output_type": "stream",
     "text": [
      "R2_score: 0.43522756697428866\n",
      "MSE: 0.11660517561222046\n"
     ]
    }
   ],
   "source": [
    "R2_score_m=r2_score(test_target, a)\n",
    "MSE_m=mean_squared_error(a, test_target)\n",
    "print(f'R2_score: {R2_score_m}')\n",
    "print(f'MSE: {MSE_m}')\n"
   ]
  },
  {
   "cell_type": "code",
   "execution_count": 31,
   "metadata": {},
   "outputs": [
    {
     "data": {
      "text/html": [
       "<div>\n",
       "<style scoped>\n",
       "    .dataframe tbody tr th:only-of-type {\n",
       "        vertical-align: middle;\n",
       "    }\n",
       "\n",
       "    .dataframe tbody tr th {\n",
       "        vertical-align: top;\n",
       "    }\n",
       "\n",
       "    .dataframe thead th {\n",
       "        text-align: right;\n",
       "    }\n",
       "</style>\n",
       "<table border=\"1\" class=\"dataframe\">\n",
       "  <thead>\n",
       "    <tr style=\"text-align: right;\">\n",
       "      <th></th>\n",
       "      <th>Изменённая матрица</th>\n",
       "      <th>Неизменённая матрица</th>\n",
       "    </tr>\n",
       "  </thead>\n",
       "  <tbody>\n",
       "    <tr>\n",
       "      <th>R2_score</th>\n",
       "      <td>0.435228</td>\n",
       "      <td>0.435228</td>\n",
       "    </tr>\n",
       "    <tr>\n",
       "      <th>MSE</th>\n",
       "      <td>0.116605</td>\n",
       "      <td>0.116605</td>\n",
       "    </tr>\n",
       "  </tbody>\n",
       "</table>\n",
       "</div>"
      ],
      "text/plain": [
       "          Изменённая матрица  Неизменённая матрица\n",
       "R2_score            0.435228              0.435228\n",
       "MSE                 0.116605              0.116605"
      ]
     },
     "execution_count": 31,
     "metadata": {},
     "output_type": "execute_result"
    }
   ],
   "source": [
    "tabl = pd.DataFrame(index=['R2_score','MSE'], columns=['Изменённая матрица','Неизменённая матрица'])\n",
    "tabl['Изменённая матрица'] = R2_score_m, MSE_m\n",
    "tabl['Неизменённая матрица'] = R2_score_l, MSE_l\n",
    "\n",
    "tabl"
   ]
  },
  {
   "cell_type": "markdown",
   "metadata": {},
   "source": [
    "Умножение признаков на обратимую квадратную матрицу не повлияло на качество модели. Данные успешно зашифрованы. В то же время, это позволяет нам успешно предсказывать для каждого клиента количество страховых выплат."
   ]
  },
  {
   "cell_type": "markdown",
   "metadata": {},
   "source": [
    "## Чек-лист проверки"
   ]
  },
  {
   "cell_type": "markdown",
   "metadata": {},
   "source": [
    "Поставьте 'x' в выполненных пунктах. Далее нажмите Shift+Enter."
   ]
  },
  {
   "cell_type": "markdown",
   "metadata": {},
   "source": [
    "- [x]  Jupyter Notebook открыт\n",
    "- [x]  Весь код выполняется без ошибок\n",
    "- [x]  Ячейки с кодом расположены в порядке исполнения\n",
    "- [x]  Выполнен шаг 1: данные загружены\n",
    "- [x]  Выполнен шаг 2: получен ответ на вопрос об умножении матриц\n",
    "    - [x]  Указан правильный вариант ответа\n",
    "    - [x]  Вариант обоснован\n",
    "- [x]  Выполнен шаг 3: предложен алгоритм преобразования\n",
    "    - [x]  Алгоритм описан\n",
    "    - [x]  Алгоритм обоснован\n",
    "- [x]  Выполнен шаг 4: алгоритм проверен\n",
    "    - [x]  Алгоритм реализован\n",
    "    - [x]  Проведено сравнение качества моделей до и после преобразования"
   ]
  },
  {
   "cell_type": "code",
   "execution_count": null,
   "metadata": {},
   "outputs": [],
   "source": []
  }
 ],
 "metadata": {
  "ExecuteTimeLog": [
   {
    "duration": 1610,
    "start_time": "2023-03-29T18:48:22.100Z"
   },
   {
    "duration": 86,
    "start_time": "2023-03-29T18:48:23.713Z"
   },
   {
    "duration": 13,
    "start_time": "2023-03-29T18:48:23.801Z"
   },
   {
    "duration": 21,
    "start_time": "2023-03-29T18:58:03.438Z"
   },
   {
    "duration": 6,
    "start_time": "2023-03-29T18:59:09.375Z"
   },
   {
    "duration": 5,
    "start_time": "2023-03-29T18:59:52.682Z"
   },
   {
    "duration": 13,
    "start_time": "2023-03-29T19:05:19.284Z"
   },
   {
    "duration": 2680,
    "start_time": "2023-03-29T19:07:24.135Z"
   },
   {
    "duration": 6292,
    "start_time": "2023-03-29T19:08:28.264Z"
   },
   {
    "duration": 4,
    "start_time": "2023-03-29T19:20:19.397Z"
   },
   {
    "duration": 5,
    "start_time": "2023-03-29T19:23:43.599Z"
   },
   {
    "duration": 1489,
    "start_time": "2023-03-30T07:38:19.415Z"
   },
   {
    "duration": 93,
    "start_time": "2023-03-30T07:38:20.907Z"
   },
   {
    "duration": 13,
    "start_time": "2023-03-30T07:38:21.004Z"
   },
   {
    "duration": 27,
    "start_time": "2023-03-30T07:38:21.020Z"
   },
   {
    "duration": 37,
    "start_time": "2023-03-30T07:38:21.049Z"
   },
   {
    "duration": 57,
    "start_time": "2023-03-30T07:38:21.088Z"
   },
   {
    "duration": 10,
    "start_time": "2023-03-30T07:38:21.146Z"
   },
   {
    "duration": 18,
    "start_time": "2023-03-30T07:38:21.157Z"
   },
   {
    "duration": 6087,
    "start_time": "2023-03-30T07:38:21.176Z"
   },
   {
    "duration": 7,
    "start_time": "2023-03-30T07:38:27.264Z"
   },
   {
    "duration": 11,
    "start_time": "2023-03-30T07:38:27.272Z"
   },
   {
    "duration": 9,
    "start_time": "2023-03-30T07:38:27.284Z"
   },
   {
    "duration": 8,
    "start_time": "2023-03-30T07:38:27.296Z"
   },
   {
    "duration": 5,
    "start_time": "2023-03-30T07:38:27.372Z"
   },
   {
    "duration": 99,
    "start_time": "2023-03-30T07:38:27.379Z"
   },
   {
    "duration": 7,
    "start_time": "2023-03-30T07:38:27.479Z"
   },
   {
    "duration": 6085,
    "start_time": "2023-03-30T07:41:11.820Z"
   },
   {
    "duration": 19,
    "start_time": "2023-03-30T07:45:29.768Z"
   },
   {
    "duration": 107,
    "start_time": "2023-03-30T07:45:57.566Z"
   },
   {
    "duration": 10,
    "start_time": "2023-03-30T07:48:33.359Z"
   },
   {
    "duration": 6124,
    "start_time": "2023-03-30T07:49:21.979Z"
   },
   {
    "duration": 6563,
    "start_time": "2023-03-30T07:49:38.849Z"
   },
   {
    "duration": 5984,
    "start_time": "2023-03-30T07:49:56.159Z"
   },
   {
    "duration": 7974,
    "start_time": "2023-03-30T07:59:32.504Z"
   },
   {
    "duration": 7545,
    "start_time": "2023-03-30T08:01:01.580Z"
   },
   {
    "duration": 6265,
    "start_time": "2023-03-30T08:01:24.981Z"
   },
   {
    "duration": 7711,
    "start_time": "2023-03-30T08:02:36.559Z"
   },
   {
    "duration": 7343,
    "start_time": "2023-03-30T08:03:24.371Z"
   },
   {
    "duration": 7565,
    "start_time": "2023-03-30T08:21:08.303Z"
   },
   {
    "duration": 7284,
    "start_time": "2023-03-30T08:22:16.406Z"
   },
   {
    "duration": 7706,
    "start_time": "2023-03-30T08:31:24.113Z"
   },
   {
    "duration": 9,
    "start_time": "2023-03-30T09:42:57.594Z"
   },
   {
    "duration": 5,
    "start_time": "2023-03-30T09:43:01.075Z"
   },
   {
    "duration": 6,
    "start_time": "2023-03-30T09:43:03.170Z"
   },
   {
    "duration": 5,
    "start_time": "2023-03-30T09:43:05.051Z"
   },
   {
    "duration": 4,
    "start_time": "2023-03-30T09:43:44.756Z"
   },
   {
    "duration": 4,
    "start_time": "2023-03-30T09:55:23.356Z"
   },
   {
    "duration": 3,
    "start_time": "2023-03-30T09:55:29.825Z"
   },
   {
    "duration": 12,
    "start_time": "2023-03-30T09:55:39.843Z"
   },
   {
    "duration": 17,
    "start_time": "2023-03-30T10:02:29.557Z"
   },
   {
    "duration": 5,
    "start_time": "2023-03-30T10:02:43.195Z"
   },
   {
    "duration": 128,
    "start_time": "2023-03-30T10:02:46.371Z"
   },
   {
    "duration": 7,
    "start_time": "2023-03-30T10:04:46.346Z"
   },
   {
    "duration": 6,
    "start_time": "2023-03-30T10:09:57.238Z"
   },
   {
    "duration": 88,
    "start_time": "2023-03-30T10:18:18.195Z"
   },
   {
    "duration": 7,
    "start_time": "2023-03-30T10:21:13.486Z"
   },
   {
    "duration": 9,
    "start_time": "2023-03-30T10:55:17.884Z"
   },
   {
    "duration": 5,
    "start_time": "2023-03-30T10:55:57.727Z"
   },
   {
    "duration": 8,
    "start_time": "2023-03-30T10:56:51.421Z"
   },
   {
    "duration": 7599,
    "start_time": "2023-03-30T11:00:35.858Z"
   },
   {
    "duration": 103,
    "start_time": "2023-03-30T11:02:45.397Z"
   },
   {
    "duration": 4,
    "start_time": "2023-03-30T11:02:57.650Z"
   },
   {
    "duration": 21,
    "start_time": "2023-03-30T11:03:01.770Z"
   },
   {
    "duration": 11,
    "start_time": "2023-03-30T11:23:01.808Z"
   },
   {
    "duration": 9,
    "start_time": "2023-03-30T11:51:21.170Z"
   },
   {
    "duration": 7691,
    "start_time": "2023-03-30T13:55:41.670Z"
   },
   {
    "duration": 92,
    "start_time": "2023-03-30T13:56:36.053Z"
   },
   {
    "duration": 8264,
    "start_time": "2023-03-30T13:56:59.051Z"
   },
   {
    "duration": 8,
    "start_time": "2023-03-30T14:05:51.004Z"
   },
   {
    "duration": 51,
    "start_time": "2023-03-30T18:21:28.763Z"
   },
   {
    "duration": 1541,
    "start_time": "2023-03-30T20:23:01.675Z"
   },
   {
    "duration": 112,
    "start_time": "2023-03-30T20:23:03.218Z"
   },
   {
    "duration": 17,
    "start_time": "2023-03-30T20:23:03.332Z"
   },
   {
    "duration": 13,
    "start_time": "2023-03-30T20:23:03.351Z"
   },
   {
    "duration": 6,
    "start_time": "2023-03-30T20:23:03.366Z"
   },
   {
    "duration": 7,
    "start_time": "2023-03-30T20:23:03.374Z"
   },
   {
    "duration": 6,
    "start_time": "2023-03-30T20:23:03.383Z"
   },
   {
    "duration": 27,
    "start_time": "2023-03-30T20:23:03.391Z"
   },
   {
    "duration": 8417,
    "start_time": "2023-03-30T20:23:03.420Z"
   },
   {
    "duration": 4,
    "start_time": "2023-03-30T20:23:11.840Z"
   },
   {
    "duration": 8,
    "start_time": "2023-03-30T20:23:11.846Z"
   },
   {
    "duration": 4,
    "start_time": "2023-03-30T20:23:11.855Z"
   },
   {
    "duration": 3,
    "start_time": "2023-03-30T20:23:11.860Z"
   },
   {
    "duration": 145,
    "start_time": "2023-03-30T20:23:11.865Z"
   },
   {
    "duration": 19,
    "start_time": "2023-03-30T20:23:12.013Z"
   },
   {
    "duration": 182,
    "start_time": "2023-03-30T20:23:12.062Z"
   },
   {
    "duration": 1,
    "start_time": "2023-03-30T20:23:12.245Z"
   },
   {
    "duration": 0,
    "start_time": "2023-03-30T20:23:12.248Z"
   },
   {
    "duration": 0,
    "start_time": "2023-03-30T20:23:12.249Z"
   },
   {
    "duration": 0,
    "start_time": "2023-03-30T20:23:12.262Z"
   },
   {
    "duration": 0,
    "start_time": "2023-03-30T20:23:12.263Z"
   },
   {
    "duration": 0,
    "start_time": "2023-03-30T20:23:12.264Z"
   },
   {
    "duration": 0,
    "start_time": "2023-03-30T20:23:12.265Z"
   },
   {
    "duration": 0,
    "start_time": "2023-03-30T20:23:12.266Z"
   },
   {
    "duration": 0,
    "start_time": "2023-03-30T20:23:12.267Z"
   },
   {
    "duration": 0,
    "start_time": "2023-03-30T20:23:12.268Z"
   },
   {
    "duration": 0,
    "start_time": "2023-03-30T20:23:12.269Z"
   },
   {
    "duration": 0,
    "start_time": "2023-03-30T20:23:12.270Z"
   },
   {
    "duration": 0,
    "start_time": "2023-03-30T20:23:12.272Z"
   },
   {
    "duration": 0,
    "start_time": "2023-03-30T20:23:12.274Z"
   },
   {
    "duration": 0,
    "start_time": "2023-03-30T20:23:12.275Z"
   },
   {
    "duration": 0,
    "start_time": "2023-03-30T20:23:12.276Z"
   },
   {
    "duration": 1,
    "start_time": "2023-03-30T20:23:12.279Z"
   },
   {
    "duration": 1333,
    "start_time": "2023-03-30T20:24:43.219Z"
   },
   {
    "duration": 25,
    "start_time": "2023-03-30T20:24:44.554Z"
   },
   {
    "duration": 12,
    "start_time": "2023-03-30T20:24:44.581Z"
   },
   {
    "duration": 11,
    "start_time": "2023-03-30T20:24:44.594Z"
   },
   {
    "duration": 6,
    "start_time": "2023-03-30T20:24:44.607Z"
   },
   {
    "duration": 6,
    "start_time": "2023-03-30T20:24:44.614Z"
   },
   {
    "duration": 5,
    "start_time": "2023-03-30T20:24:44.622Z"
   },
   {
    "duration": 40,
    "start_time": "2023-03-30T20:24:44.628Z"
   },
   {
    "duration": 7772,
    "start_time": "2023-03-30T20:24:44.669Z"
   },
   {
    "duration": 4,
    "start_time": "2023-03-30T20:24:52.443Z"
   },
   {
    "duration": 6,
    "start_time": "2023-03-30T20:24:52.449Z"
   },
   {
    "duration": 9,
    "start_time": "2023-03-30T20:24:52.456Z"
   },
   {
    "duration": 10,
    "start_time": "2023-03-30T20:24:52.467Z"
   },
   {
    "duration": 169,
    "start_time": "2023-03-30T20:24:52.480Z"
   },
   {
    "duration": 20,
    "start_time": "2023-03-30T20:24:52.651Z"
   },
   {
    "duration": 91,
    "start_time": "2023-03-30T20:24:52.673Z"
   },
   {
    "duration": 5,
    "start_time": "2023-03-30T20:24:52.766Z"
   },
   {
    "duration": 100,
    "start_time": "2023-03-30T20:24:52.772Z"
   },
   {
    "duration": 89,
    "start_time": "2023-03-30T20:24:52.874Z"
   },
   {
    "duration": 98,
    "start_time": "2023-03-30T20:24:52.965Z"
   },
   {
    "duration": 0,
    "start_time": "2023-03-30T20:24:53.065Z"
   },
   {
    "duration": 0,
    "start_time": "2023-03-30T20:24:53.066Z"
   },
   {
    "duration": 0,
    "start_time": "2023-03-30T20:24:53.067Z"
   },
   {
    "duration": 0,
    "start_time": "2023-03-30T20:24:53.068Z"
   },
   {
    "duration": 0,
    "start_time": "2023-03-30T20:24:53.069Z"
   },
   {
    "duration": 0,
    "start_time": "2023-03-30T20:24:53.070Z"
   },
   {
    "duration": 0,
    "start_time": "2023-03-30T20:24:53.071Z"
   },
   {
    "duration": 0,
    "start_time": "2023-03-30T20:24:53.072Z"
   },
   {
    "duration": 0,
    "start_time": "2023-03-30T20:24:53.073Z"
   },
   {
    "duration": 0,
    "start_time": "2023-03-30T20:24:53.074Z"
   },
   {
    "duration": 0,
    "start_time": "2023-03-30T20:24:53.075Z"
   },
   {
    "duration": 0,
    "start_time": "2023-03-30T20:24:53.076Z"
   },
   {
    "duration": 0,
    "start_time": "2023-03-30T20:24:53.077Z"
   },
   {
    "duration": 10,
    "start_time": "2023-03-30T20:25:35.175Z"
   },
   {
    "duration": 11,
    "start_time": "2023-03-30T20:25:35.187Z"
   },
   {
    "duration": 62,
    "start_time": "2023-03-30T20:25:35.201Z"
   },
   {
    "duration": 6,
    "start_time": "2023-03-30T20:25:35.266Z"
   },
   {
    "duration": 95,
    "start_time": "2023-03-30T20:25:35.274Z"
   },
   {
    "duration": 93,
    "start_time": "2023-03-30T20:25:35.370Z"
   },
   {
    "duration": 0,
    "start_time": "2023-03-30T20:25:35.465Z"
   },
   {
    "duration": 0,
    "start_time": "2023-03-30T20:25:35.466Z"
   },
   {
    "duration": 0,
    "start_time": "2023-03-30T20:25:35.466Z"
   },
   {
    "duration": 0,
    "start_time": "2023-03-30T20:25:35.467Z"
   },
   {
    "duration": 0,
    "start_time": "2023-03-30T20:25:35.468Z"
   },
   {
    "duration": 0,
    "start_time": "2023-03-30T20:25:35.469Z"
   },
   {
    "duration": 0,
    "start_time": "2023-03-30T20:25:35.470Z"
   },
   {
    "duration": 9,
    "start_time": "2023-03-30T20:25:53.582Z"
   },
   {
    "duration": 4,
    "start_time": "2023-03-30T20:25:53.593Z"
   },
   {
    "duration": 14,
    "start_time": "2023-03-30T20:25:53.598Z"
   },
   {
    "duration": 7,
    "start_time": "2023-03-30T20:25:53.614Z"
   },
   {
    "duration": 41,
    "start_time": "2023-03-30T20:25:53.623Z"
   },
   {
    "duration": 7,
    "start_time": "2023-03-30T20:25:53.669Z"
   },
   {
    "duration": 11,
    "start_time": "2023-03-30T20:25:53.761Z"
   },
   {
    "duration": 1373,
    "start_time": "2023-03-30T20:28:25.262Z"
   },
   {
    "duration": 24,
    "start_time": "2023-03-30T20:28:26.637Z"
   },
   {
    "duration": 13,
    "start_time": "2023-03-30T20:28:26.663Z"
   },
   {
    "duration": 12,
    "start_time": "2023-03-30T20:28:26.678Z"
   },
   {
    "duration": 6,
    "start_time": "2023-03-30T20:28:26.691Z"
   },
   {
    "duration": 6,
    "start_time": "2023-03-30T20:28:26.698Z"
   },
   {
    "duration": 5,
    "start_time": "2023-03-30T20:28:26.706Z"
   },
   {
    "duration": 53,
    "start_time": "2023-03-30T20:28:26.712Z"
   },
   {
    "duration": 8258,
    "start_time": "2023-03-30T20:28:26.767Z"
   },
   {
    "duration": 4,
    "start_time": "2023-03-30T20:28:35.028Z"
   },
   {
    "duration": 10,
    "start_time": "2023-03-30T20:28:35.033Z"
   },
   {
    "duration": 7,
    "start_time": "2023-03-30T20:28:35.044Z"
   },
   {
    "duration": 15,
    "start_time": "2023-03-30T20:28:35.053Z"
   },
   {
    "duration": 193,
    "start_time": "2023-03-30T20:28:35.071Z"
   },
   {
    "duration": 9,
    "start_time": "2023-03-30T20:28:35.266Z"
   },
   {
    "duration": 86,
    "start_time": "2023-03-30T20:28:35.277Z"
   },
   {
    "duration": 10,
    "start_time": "2023-03-30T20:28:35.366Z"
   },
   {
    "duration": 85,
    "start_time": "2023-03-30T20:28:35.378Z"
   },
   {
    "duration": 11,
    "start_time": "2023-03-30T20:28:35.466Z"
   },
   {
    "duration": 94,
    "start_time": "2023-03-30T20:28:35.479Z"
   },
   {
    "duration": 10,
    "start_time": "2023-03-30T20:28:35.574Z"
   },
   {
    "duration": 5,
    "start_time": "2023-03-30T20:28:35.586Z"
   },
   {
    "duration": 74,
    "start_time": "2023-03-30T20:28:35.592Z"
   },
   {
    "duration": 96,
    "start_time": "2023-03-30T20:28:35.669Z"
   },
   {
    "duration": 96,
    "start_time": "2023-03-30T20:28:35.767Z"
   },
   {
    "duration": 3,
    "start_time": "2023-03-30T20:28:35.865Z"
   },
   {
    "duration": 14,
    "start_time": "2023-03-30T20:28:35.870Z"
   },
   {
    "duration": 5,
    "start_time": "2023-03-30T20:28:35.888Z"
   },
   {
    "duration": 67,
    "start_time": "2023-03-30T20:28:35.895Z"
   },
   {
    "duration": 9,
    "start_time": "2023-03-30T20:28:35.965Z"
   },
   {
    "duration": 90,
    "start_time": "2023-03-30T20:28:35.976Z"
   },
   {
    "duration": 2014,
    "start_time": "2023-03-31T06:56:39.873Z"
   },
   {
    "duration": 26,
    "start_time": "2023-03-31T06:56:41.888Z"
   },
   {
    "duration": 11,
    "start_time": "2023-03-31T06:56:41.916Z"
   },
   {
    "duration": 10,
    "start_time": "2023-03-31T06:56:41.929Z"
   },
   {
    "duration": 5,
    "start_time": "2023-03-31T06:56:41.940Z"
   },
   {
    "duration": 5,
    "start_time": "2023-03-31T06:56:41.947Z"
   },
   {
    "duration": 19,
    "start_time": "2023-03-31T06:56:41.953Z"
   },
   {
    "duration": 23,
    "start_time": "2023-03-31T06:56:41.973Z"
   },
   {
    "duration": 7739,
    "start_time": "2023-03-31T06:56:41.997Z"
   },
   {
    "duration": 4,
    "start_time": "2023-03-31T06:56:49.738Z"
   },
   {
    "duration": 13,
    "start_time": "2023-03-31T06:56:49.743Z"
   },
   {
    "duration": 13,
    "start_time": "2023-03-31T06:56:49.758Z"
   },
   {
    "duration": 3,
    "start_time": "2023-03-31T06:56:49.772Z"
   },
   {
    "duration": 206,
    "start_time": "2023-03-31T06:56:49.777Z"
   },
   {
    "duration": 8,
    "start_time": "2023-03-31T06:56:49.985Z"
   },
   {
    "duration": 79,
    "start_time": "2023-03-31T06:56:49.995Z"
   },
   {
    "duration": 96,
    "start_time": "2023-03-31T06:56:50.076Z"
   },
   {
    "duration": 4,
    "start_time": "2023-03-31T06:56:50.175Z"
   },
   {
    "duration": 94,
    "start_time": "2023-03-31T06:56:50.181Z"
   },
   {
    "duration": 9,
    "start_time": "2023-03-31T06:56:50.277Z"
   },
   {
    "duration": 21,
    "start_time": "2023-03-31T06:56:50.368Z"
   },
   {
    "duration": 82,
    "start_time": "2023-03-31T06:56:50.390Z"
   },
   {
    "duration": 10,
    "start_time": "2023-03-31T06:56:50.474Z"
   },
   {
    "duration": 98,
    "start_time": "2023-03-31T06:56:50.486Z"
   },
   {
    "duration": 84,
    "start_time": "2023-03-31T06:56:50.586Z"
   },
   {
    "duration": 5,
    "start_time": "2023-03-31T06:56:50.671Z"
   },
   {
    "duration": 10,
    "start_time": "2023-03-31T06:56:50.677Z"
   },
   {
    "duration": 8,
    "start_time": "2023-03-31T06:56:50.690Z"
   },
   {
    "duration": 4,
    "start_time": "2023-03-31T06:56:50.768Z"
   },
   {
    "duration": 5,
    "start_time": "2023-03-31T06:56:50.774Z"
   },
   {
    "duration": 95,
    "start_time": "2023-03-31T06:56:50.781Z"
   },
   {
    "duration": 2180,
    "start_time": "2023-03-31T07:35:52.776Z"
   },
   {
    "duration": 25,
    "start_time": "2023-03-31T07:35:54.958Z"
   },
   {
    "duration": 12,
    "start_time": "2023-03-31T07:35:54.985Z"
   },
   {
    "duration": 12,
    "start_time": "2023-03-31T07:35:54.999Z"
   },
   {
    "duration": 10,
    "start_time": "2023-03-31T07:35:55.012Z"
   },
   {
    "duration": 8,
    "start_time": "2023-03-31T07:35:55.023Z"
   },
   {
    "duration": 11,
    "start_time": "2023-03-31T07:35:55.032Z"
   },
   {
    "duration": 25,
    "start_time": "2023-03-31T07:35:55.044Z"
   },
   {
    "duration": 7292,
    "start_time": "2023-03-31T07:35:55.071Z"
   },
   {
    "duration": 4,
    "start_time": "2023-03-31T07:36:02.368Z"
   },
   {
    "duration": 18,
    "start_time": "2023-03-31T07:36:02.373Z"
   },
   {
    "duration": 4,
    "start_time": "2023-03-31T07:36:02.393Z"
   },
   {
    "duration": 3,
    "start_time": "2023-03-31T07:36:02.398Z"
   },
   {
    "duration": 14,
    "start_time": "2023-03-31T07:36:02.402Z"
   },
   {
    "duration": 12,
    "start_time": "2023-03-31T07:36:02.418Z"
   },
   {
    "duration": 9,
    "start_time": "2023-03-31T07:36:04.240Z"
   },
   {
    "duration": 5,
    "start_time": "2023-03-31T07:36:07.216Z"
   },
   {
    "duration": 5,
    "start_time": "2023-03-31T07:36:08.537Z"
   },
   {
    "duration": 11,
    "start_time": "2023-03-31T07:36:11.560Z"
   },
   {
    "duration": 12,
    "start_time": "2023-03-31T07:36:14.075Z"
   },
   {
    "duration": 10,
    "start_time": "2023-03-31T07:36:15.840Z"
   },
   {
    "duration": 5,
    "start_time": "2023-03-31T07:36:22.848Z"
   },
   {
    "duration": 137,
    "start_time": "2023-03-31T07:36:30.432Z"
   },
   {
    "duration": 7,
    "start_time": "2023-03-31T07:37:31.551Z"
   },
   {
    "duration": 5,
    "start_time": "2023-03-31T07:37:44.871Z"
   },
   {
    "duration": 4,
    "start_time": "2023-03-31T07:38:11.134Z"
   },
   {
    "duration": 12,
    "start_time": "2023-03-31T07:38:15.814Z"
   },
   {
    "duration": 12,
    "start_time": "2023-03-31T07:38:24.462Z"
   },
   {
    "duration": 5,
    "start_time": "2023-03-31T07:38:32.527Z"
   },
   {
    "duration": 3,
    "start_time": "2023-03-31T07:38:40.870Z"
   },
   {
    "duration": 5,
    "start_time": "2023-03-31T07:38:43.390Z"
   },
   {
    "duration": 1630,
    "start_time": "2023-03-31T11:21:51.135Z"
   },
   {
    "duration": 169,
    "start_time": "2023-03-31T11:21:52.769Z"
   },
   {
    "duration": 13,
    "start_time": "2023-03-31T11:21:52.939Z"
   },
   {
    "duration": 12,
    "start_time": "2023-03-31T11:21:52.954Z"
   },
   {
    "duration": 22,
    "start_time": "2023-03-31T11:21:52.970Z"
   },
   {
    "duration": 12,
    "start_time": "2023-03-31T11:21:52.996Z"
   },
   {
    "duration": 8,
    "start_time": "2023-03-31T11:21:53.014Z"
   },
   {
    "duration": 19,
    "start_time": "2023-03-31T11:21:53.024Z"
   },
   {
    "duration": 8568,
    "start_time": "2023-03-31T11:21:53.045Z"
   },
   {
    "duration": 9,
    "start_time": "2023-03-31T11:22:01.615Z"
   },
   {
    "duration": 20,
    "start_time": "2023-03-31T11:22:01.626Z"
   },
   {
    "duration": 42,
    "start_time": "2023-03-31T11:22:01.647Z"
   },
   {
    "duration": 10,
    "start_time": "2023-03-31T11:22:01.691Z"
   },
   {
    "duration": 131,
    "start_time": "2023-03-31T11:22:01.705Z"
   },
   {
    "duration": 63,
    "start_time": "2023-03-31T11:22:01.837Z"
   },
   {
    "duration": 74,
    "start_time": "2023-03-31T11:22:01.903Z"
   },
   {
    "duration": 10,
    "start_time": "2023-03-31T11:22:01.979Z"
   },
   {
    "duration": 91,
    "start_time": "2023-03-31T11:22:01.992Z"
   },
   {
    "duration": 37,
    "start_time": "2023-03-31T11:22:02.088Z"
   },
   {
    "duration": 73,
    "start_time": "2023-03-31T11:22:02.127Z"
   },
   {
    "duration": 25,
    "start_time": "2023-03-31T11:22:02.203Z"
   },
   {
    "duration": 49,
    "start_time": "2023-03-31T11:22:02.229Z"
   },
   {
    "duration": 28,
    "start_time": "2023-03-31T11:22:02.280Z"
   },
   {
    "duration": 64,
    "start_time": "2023-03-31T11:22:02.309Z"
   },
   {
    "duration": 14,
    "start_time": "2023-03-31T11:22:02.375Z"
   },
   {
    "duration": 19,
    "start_time": "2023-03-31T11:22:02.390Z"
   },
   {
    "duration": 14,
    "start_time": "2023-03-31T11:22:02.415Z"
   },
   {
    "duration": 48,
    "start_time": "2023-03-31T11:22:02.434Z"
   },
   {
    "duration": 14,
    "start_time": "2023-03-31T11:22:02.483Z"
   },
   {
    "duration": 12,
    "start_time": "2023-03-31T11:22:02.510Z"
   },
   {
    "duration": 19,
    "start_time": "2023-03-31T11:22:02.570Z"
   }
  ],
  "kernelspec": {
   "display_name": "Python 3 (ipykernel)",
   "language": "python",
   "name": "python3"
  },
  "language_info": {
   "codemirror_mode": {
    "name": "ipython",
    "version": 3
   },
   "file_extension": ".py",
   "mimetype": "text/x-python",
   "name": "python",
   "nbconvert_exporter": "python",
   "pygments_lexer": "ipython3",
   "version": "3.9.5"
  },
  "toc": {
   "base_numbering": 1,
   "nav_menu": {},
   "number_sections": true,
   "sideBar": true,
   "skip_h1_title": true,
   "title_cell": "Содержание",
   "title_sidebar": "Contents",
   "toc_cell": true,
   "toc_position": {
    "height": "calc(100% - 180px)",
    "left": "10px",
    "top": "150px",
    "width": "165px"
   },
   "toc_section_display": true,
   "toc_window_display": true
  }
 },
 "nbformat": 4,
 "nbformat_minor": 2
}
