{
 "cells": [
  {
   "cell_type": "markdown",
   "metadata": {},
   "source": [
    "\n",
    "**П Р О Е К Т**\n",
    "\n",
    "**анализ успешности компьютерных игр.**\n",
    "\n",
    "Доступны исторические данные о продажах игр, оценки пользователей и экспертов, жанры и платформы. Есть данные до 2016 года. Планируется кампания на 2017-й. Нужно выявить определяющие успешность игры закономерности. Это позволит сделать ставку на потенциально популярный продукт и спланировать рекламные кампании.\n",
    "\n",
    "**ПЛАН РАБОТЫ**\n",
    "\n",
    "**Предобработка данных**\n",
    "- Загрузка данных. \n",
    "- Предварительный анализ данных. \n",
    "\n",
    "**Подготовка данных**\n",
    "\n",
    "    - Проверка на дубликаты\n",
    "    - Замена названия столбцов (приведение к нижнему регистру)\n",
    "    - Преобразование данные в нужные типы.\n",
    "    - Обработка пропусков\n",
    "    - Посчитать суммарные продажи во всех регионах и записать их в отдельный столбец\n",
    "\n",
    "**Исследовательский анализ**\n",
    "\n",
    " - Посмотреть, сколько игр выпускалось в разные годы. Определить, важны ли данные за все периоды.\n",
    " - Посмотреть, как менялись продажи по платформам. Выберите платформы с наибольшими суммарными продажами и постройте распределение по годам.\n",
    " - Определить за какой характерный срок появляются новые и исчезают старые платформы.\n",
    " - Взять данные за соответствующий актуальный период. \n",
    "    - Определить, какие платформы лидируют по продажам, растут или падают. Выберать несколько потенциально прибыльных платформ\n",
    "    - Построить график «ящик с усами» по глобальным продажам каждой игры и разбивкой по платформам. Определить, велика ли разница в продажах.\n",
    "    - Посмотреть, как влияют на продажи внутри одной популярной платформы отзывы пользователей и критиков. Построить диаграмму рассеяния и посчитайте корреляцию между отзывами и продажами.\n",
    "    - Соотнести выводы с продажами игр на других платформах.\n",
    "    - Посмотреть на общее распределение игр по жанрам. Выделить жанры с высокими и низкими продажами.\n",
    "\n",
    "**Составить портрет пользователя каждого региона**\n",
    "\n",
    "    Определить для пользователя каждого региона (NA, EU, JP):\n",
    "    - Самые популярные платформы (топ-5).\n",
    "    - Самые популярные жанры (топ-5).\n",
    "    - Влияет ли рейтинг ESRB на продажи в отдельном регионе?\n",
    "\n",
    "**Проверка гипотез**\n",
    "\n",
    "    - Средние пользовательские рейтинги платформ Xbox One и PC одинаковые;\n",
    "    - Средние пользовательские рейтинги жанров Action (англ. «действие») и Sports (англ. «виды спорта») разные. \n",
    "\n",
    "**Общий вывод**"
   ]
  },
  {
   "cell_type": "markdown",
   "metadata": {},
   "source": [
    "\n",
    "\n",
    "\n",
    "\n",
    "\n",
    "\n",
    "\n",
    "\n",
    "\n",
    "\n",
    "# Шаг 1. \n",
    "## Подключаем необходимые библиотеки Python"
   ]
  },
  {
   "cell_type": "code",
   "execution_count": 1,
   "metadata": {},
   "outputs": [],
   "source": [
    "import pandas as pd\n",
    "import matplotlib.pyplot as plt\n",
    "import seaborn as sns\n",
    "import numpy as np\n",
    "from scipy import stats as st"
   ]
  },
  {
   "cell_type": "markdown",
   "metadata": {},
   "source": [
    "## Открываем файл с данными\n",
    "Путь к файлу: /datasets/games.csv."
   ]
  },
  {
   "cell_type": "code",
   "execution_count": 2,
   "metadata": {},
   "outputs": [],
   "source": [
    "data=pd.read_csv('/datasets/games.csv') # Открываем исходне данные и начинаем их анализировать"
   ]
  },
  {
   "cell_type": "code",
   "execution_count": 3,
   "metadata": {},
   "outputs": [
    {
     "data": {
      "text/html": [
       "<div>\n",
       "<style scoped>\n",
       "    .dataframe tbody tr th:only-of-type {\n",
       "        vertical-align: middle;\n",
       "    }\n",
       "\n",
       "    .dataframe tbody tr th {\n",
       "        vertical-align: top;\n",
       "    }\n",
       "\n",
       "    .dataframe thead th {\n",
       "        text-align: right;\n",
       "    }\n",
       "</style>\n",
       "<table border=\"1\" class=\"dataframe\">\n",
       "  <thead>\n",
       "    <tr style=\"text-align: right;\">\n",
       "      <th></th>\n",
       "      <th>Name</th>\n",
       "      <th>Platform</th>\n",
       "      <th>Year_of_Release</th>\n",
       "      <th>Genre</th>\n",
       "      <th>NA_sales</th>\n",
       "      <th>EU_sales</th>\n",
       "      <th>JP_sales</th>\n",
       "      <th>Other_sales</th>\n",
       "      <th>Critic_Score</th>\n",
       "      <th>User_Score</th>\n",
       "      <th>Rating</th>\n",
       "    </tr>\n",
       "  </thead>\n",
       "  <tbody>\n",
       "    <tr>\n",
       "      <th>0</th>\n",
       "      <td>Wii Sports</td>\n",
       "      <td>Wii</td>\n",
       "      <td>2006.0</td>\n",
       "      <td>Sports</td>\n",
       "      <td>41.36</td>\n",
       "      <td>28.96</td>\n",
       "      <td>3.77</td>\n",
       "      <td>8.45</td>\n",
       "      <td>76.0</td>\n",
       "      <td>8</td>\n",
       "      <td>E</td>\n",
       "    </tr>\n",
       "    <tr>\n",
       "      <th>1</th>\n",
       "      <td>Super Mario Bros.</td>\n",
       "      <td>NES</td>\n",
       "      <td>1985.0</td>\n",
       "      <td>Platform</td>\n",
       "      <td>29.08</td>\n",
       "      <td>3.58</td>\n",
       "      <td>6.81</td>\n",
       "      <td>0.77</td>\n",
       "      <td>NaN</td>\n",
       "      <td>NaN</td>\n",
       "      <td>NaN</td>\n",
       "    </tr>\n",
       "    <tr>\n",
       "      <th>2</th>\n",
       "      <td>Mario Kart Wii</td>\n",
       "      <td>Wii</td>\n",
       "      <td>2008.0</td>\n",
       "      <td>Racing</td>\n",
       "      <td>15.68</td>\n",
       "      <td>12.76</td>\n",
       "      <td>3.79</td>\n",
       "      <td>3.29</td>\n",
       "      <td>82.0</td>\n",
       "      <td>8.3</td>\n",
       "      <td>E</td>\n",
       "    </tr>\n",
       "    <tr>\n",
       "      <th>3</th>\n",
       "      <td>Wii Sports Resort</td>\n",
       "      <td>Wii</td>\n",
       "      <td>2009.0</td>\n",
       "      <td>Sports</td>\n",
       "      <td>15.61</td>\n",
       "      <td>10.93</td>\n",
       "      <td>3.28</td>\n",
       "      <td>2.95</td>\n",
       "      <td>80.0</td>\n",
       "      <td>8</td>\n",
       "      <td>E</td>\n",
       "    </tr>\n",
       "    <tr>\n",
       "      <th>4</th>\n",
       "      <td>Pokemon Red/Pokemon Blue</td>\n",
       "      <td>GB</td>\n",
       "      <td>1996.0</td>\n",
       "      <td>Role-Playing</td>\n",
       "      <td>11.27</td>\n",
       "      <td>8.89</td>\n",
       "      <td>10.22</td>\n",
       "      <td>1.00</td>\n",
       "      <td>NaN</td>\n",
       "      <td>NaN</td>\n",
       "      <td>NaN</td>\n",
       "    </tr>\n",
       "  </tbody>\n",
       "</table>\n",
       "</div>"
      ],
      "text/plain": [
       "                       Name Platform  Year_of_Release         Genre  NA_sales  \\\n",
       "0                Wii Sports      Wii           2006.0        Sports     41.36   \n",
       "1         Super Mario Bros.      NES           1985.0      Platform     29.08   \n",
       "2            Mario Kart Wii      Wii           2008.0        Racing     15.68   \n",
       "3         Wii Sports Resort      Wii           2009.0        Sports     15.61   \n",
       "4  Pokemon Red/Pokemon Blue       GB           1996.0  Role-Playing     11.27   \n",
       "\n",
       "   EU_sales  JP_sales  Other_sales  Critic_Score User_Score Rating  \n",
       "0     28.96      3.77         8.45          76.0          8      E  \n",
       "1      3.58      6.81         0.77           NaN        NaN    NaN  \n",
       "2     12.76      3.79         3.29          82.0        8.3      E  \n",
       "3     10.93      3.28         2.95          80.0          8      E  \n",
       "4      8.89     10.22         1.00           NaN        NaN    NaN  "
      ]
     },
     "execution_count": 3,
     "metadata": {},
     "output_type": "execute_result"
    }
   ],
   "source": [
    "data.head()"
   ]
  },
  {
   "cell_type": "code",
   "execution_count": 4,
   "metadata": {
    "scrolled": true
   },
   "outputs": [
    {
     "name": "stdout",
     "output_type": "stream",
     "text": [
      "<class 'pandas.core.frame.DataFrame'>\n",
      "RangeIndex: 16715 entries, 0 to 16714\n",
      "Data columns (total 11 columns):\n",
      " #   Column           Non-Null Count  Dtype  \n",
      "---  ------           --------------  -----  \n",
      " 0   Name             16713 non-null  object \n",
      " 1   Platform         16715 non-null  object \n",
      " 2   Year_of_Release  16446 non-null  float64\n",
      " 3   Genre            16713 non-null  object \n",
      " 4   NA_sales         16715 non-null  float64\n",
      " 5   EU_sales         16715 non-null  float64\n",
      " 6   JP_sales         16715 non-null  float64\n",
      " 7   Other_sales      16715 non-null  float64\n",
      " 8   Critic_Score     8137 non-null   float64\n",
      " 9   User_Score       10014 non-null  object \n",
      " 10  Rating           9949 non-null   object \n",
      "dtypes: float64(6), object(5)\n",
      "memory usage: 1.4+ MB\n"
     ]
    }
   ],
   "source": [
    "data.info()"
   ]
  },
  {
   "cell_type": "markdown",
   "metadata": {},
   "source": [
    "# Шаг 2. Подготовка данных\n",
    "- Проверка на дубликаты\n",
    "- Замените названия столбцов (приведите к нижнему регистру);\n",
    "- Преобразуйте данные в нужные типы. Опишите, в каких столбцах заменили тип данных и почему;\n",
    "- Обработайте пропуски при необходимости\n",
    "- Посчитайте суммарные продажи во всех регионах и запишите их в отдельный столбец.\n",
    "\n",
    "PS. В рамках выполнения проекта, сначало была предпринята попытка преобразования данных в нужные типы:\n",
    " - data['year_of_release']=data['year_of_release'].astype('int64')\n",
    " - data['user_score']=data['user_score'].astype('float64')\n",
    "\n",
    "Однако, из-за имеющихся в файле нецифровых значений появилась ошибка:\n",
    "\"ValueError: Cannot convert non-finite values (NA or inf) to integer\".\n",
    "\n",
    "Для ее устранения, необходимо сначала сделать рабту с пропусками, а затем изменение типов данных. Поэтому порядок задач был изменен."
   ]
  },
  {
   "cell_type": "markdown",
   "metadata": {},
   "source": [
    "## Проверка на дубликаты"
   ]
  },
  {
   "cell_type": "code",
   "execution_count": 5,
   "metadata": {},
   "outputs": [
    {
     "data": {
      "text/plain": [
       "0"
      ]
     },
     "execution_count": 5,
     "metadata": {},
     "output_type": "execute_result"
    }
   ],
   "source": [
    "data.duplicated().sum()"
   ]
  },
  {
   "cell_type": "markdown",
   "metadata": {},
   "source": [
    "Явных дубликатов не выявлено. "
   ]
  },
  {
   "cell_type": "markdown",
   "metadata": {},
   "source": [
    "## Замена названия столбцов (приведение к нижнему регистру)"
   ]
  },
  {
   "cell_type": "code",
   "execution_count": 6,
   "metadata": {},
   "outputs": [],
   "source": [
    "data.columns=data.columns.str.lower() "
   ]
  },
  {
   "cell_type": "code",
   "execution_count": 7,
   "metadata": {},
   "outputs": [
    {
     "data": {
      "text/plain": [
       "Index(['name', 'platform', 'year_of_release', 'genre', 'na_sales', 'eu_sales',\n",
       "       'jp_sales', 'other_sales', 'critic_score', 'user_score', 'rating'],\n",
       "      dtype='object')"
      ]
     },
     "execution_count": 7,
     "metadata": {},
     "output_type": "execute_result"
    }
   ],
   "source": [
    "data.columns #проверяем, что получилось "
   ]
  },
  {
   "cell_type": "markdown",
   "metadata": {},
   "source": [
    "## Обработка пропусков"
   ]
  },
  {
   "cell_type": "markdown",
   "metadata": {},
   "source": [
    "### Обработаем пропуски в столбце имя - data['name']"
   ]
  },
  {
   "cell_type": "code",
   "execution_count": 8,
   "metadata": {},
   "outputs": [
    {
     "data": {
      "text/plain": [
       "2"
      ]
     },
     "execution_count": 8,
     "metadata": {},
     "output_type": "execute_result"
    }
   ],
   "source": [
    "data['name'].isna().sum()"
   ]
  },
  {
   "cell_type": "code",
   "execution_count": 9,
   "metadata": {},
   "outputs": [
    {
     "data": {
      "text/html": [
       "<div>\n",
       "<style scoped>\n",
       "    .dataframe tbody tr th:only-of-type {\n",
       "        vertical-align: middle;\n",
       "    }\n",
       "\n",
       "    .dataframe tbody tr th {\n",
       "        vertical-align: top;\n",
       "    }\n",
       "\n",
       "    .dataframe thead th {\n",
       "        text-align: right;\n",
       "    }\n",
       "</style>\n",
       "<table border=\"1\" class=\"dataframe\">\n",
       "  <thead>\n",
       "    <tr style=\"text-align: right;\">\n",
       "      <th></th>\n",
       "      <th>name</th>\n",
       "      <th>platform</th>\n",
       "      <th>year_of_release</th>\n",
       "      <th>genre</th>\n",
       "      <th>na_sales</th>\n",
       "      <th>eu_sales</th>\n",
       "      <th>jp_sales</th>\n",
       "      <th>other_sales</th>\n",
       "      <th>critic_score</th>\n",
       "      <th>user_score</th>\n",
       "      <th>rating</th>\n",
       "    </tr>\n",
       "  </thead>\n",
       "  <tbody>\n",
       "    <tr>\n",
       "      <th>659</th>\n",
       "      <td>NaN</td>\n",
       "      <td>GEN</td>\n",
       "      <td>1993.0</td>\n",
       "      <td>NaN</td>\n",
       "      <td>1.78</td>\n",
       "      <td>0.53</td>\n",
       "      <td>0.00</td>\n",
       "      <td>0.08</td>\n",
       "      <td>NaN</td>\n",
       "      <td>NaN</td>\n",
       "      <td>NaN</td>\n",
       "    </tr>\n",
       "    <tr>\n",
       "      <th>14244</th>\n",
       "      <td>NaN</td>\n",
       "      <td>GEN</td>\n",
       "      <td>1993.0</td>\n",
       "      <td>NaN</td>\n",
       "      <td>0.00</td>\n",
       "      <td>0.00</td>\n",
       "      <td>0.03</td>\n",
       "      <td>0.00</td>\n",
       "      <td>NaN</td>\n",
       "      <td>NaN</td>\n",
       "      <td>NaN</td>\n",
       "    </tr>\n",
       "  </tbody>\n",
       "</table>\n",
       "</div>"
      ],
      "text/plain": [
       "      name platform  year_of_release genre  na_sales  eu_sales  jp_sales  \\\n",
       "659    NaN      GEN           1993.0   NaN      1.78      0.53      0.00   \n",
       "14244  NaN      GEN           1993.0   NaN      0.00      0.00      0.03   \n",
       "\n",
       "       other_sales  critic_score user_score rating  \n",
       "659           0.08           NaN        NaN    NaN  \n",
       "14244         0.00           NaN        NaN    NaN  "
      ]
     },
     "execution_count": 9,
     "metadata": {},
     "output_type": "execute_result"
    }
   ],
   "source": [
    "data[data['name'].isna()]"
   ]
  },
  {
   "cell_type": "markdown",
   "metadata": {},
   "source": [
    "### Также рассмотрим пропуски в столбце жанр data['genre']"
   ]
  },
  {
   "cell_type": "code",
   "execution_count": 10,
   "metadata": {},
   "outputs": [
    {
     "data": {
      "text/plain": [
       "2"
      ]
     },
     "execution_count": 10,
     "metadata": {},
     "output_type": "execute_result"
    }
   ],
   "source": [
    "data['genre'].isna().sum()"
   ]
  },
  {
   "cell_type": "code",
   "execution_count": 11,
   "metadata": {},
   "outputs": [
    {
     "data": {
      "text/html": [
       "<div>\n",
       "<style scoped>\n",
       "    .dataframe tbody tr th:only-of-type {\n",
       "        vertical-align: middle;\n",
       "    }\n",
       "\n",
       "    .dataframe tbody tr th {\n",
       "        vertical-align: top;\n",
       "    }\n",
       "\n",
       "    .dataframe thead th {\n",
       "        text-align: right;\n",
       "    }\n",
       "</style>\n",
       "<table border=\"1\" class=\"dataframe\">\n",
       "  <thead>\n",
       "    <tr style=\"text-align: right;\">\n",
       "      <th></th>\n",
       "      <th>name</th>\n",
       "      <th>platform</th>\n",
       "      <th>year_of_release</th>\n",
       "      <th>genre</th>\n",
       "      <th>na_sales</th>\n",
       "      <th>eu_sales</th>\n",
       "      <th>jp_sales</th>\n",
       "      <th>other_sales</th>\n",
       "      <th>critic_score</th>\n",
       "      <th>user_score</th>\n",
       "      <th>rating</th>\n",
       "    </tr>\n",
       "  </thead>\n",
       "  <tbody>\n",
       "    <tr>\n",
       "      <th>659</th>\n",
       "      <td>NaN</td>\n",
       "      <td>GEN</td>\n",
       "      <td>1993.0</td>\n",
       "      <td>NaN</td>\n",
       "      <td>1.78</td>\n",
       "      <td>0.53</td>\n",
       "      <td>0.00</td>\n",
       "      <td>0.08</td>\n",
       "      <td>NaN</td>\n",
       "      <td>NaN</td>\n",
       "      <td>NaN</td>\n",
       "    </tr>\n",
       "    <tr>\n",
       "      <th>14244</th>\n",
       "      <td>NaN</td>\n",
       "      <td>GEN</td>\n",
       "      <td>1993.0</td>\n",
       "      <td>NaN</td>\n",
       "      <td>0.00</td>\n",
       "      <td>0.00</td>\n",
       "      <td>0.03</td>\n",
       "      <td>0.00</td>\n",
       "      <td>NaN</td>\n",
       "      <td>NaN</td>\n",
       "      <td>NaN</td>\n",
       "    </tr>\n",
       "  </tbody>\n",
       "</table>\n",
       "</div>"
      ],
      "text/plain": [
       "      name platform  year_of_release genre  na_sales  eu_sales  jp_sales  \\\n",
       "659    NaN      GEN           1993.0   NaN      1.78      0.53      0.00   \n",
       "14244  NaN      GEN           1993.0   NaN      0.00      0.00      0.03   \n",
       "\n",
       "       other_sales  critic_score user_score rating  \n",
       "659           0.08           NaN        NaN    NaN  \n",
       "14244         0.00           NaN        NaN    NaN  "
      ]
     },
     "execution_count": 11,
     "metadata": {},
     "output_type": "execute_result"
    }
   ],
   "source": [
    "data[data['genre'].isna()]"
   ]
  },
  {
   "cell_type": "markdown",
   "metadata": {},
   "source": [
    "Пропуски платформы относятся к данным 1993 года. Пропуски наблюдаются, практически, во всех колонках, поэтому эти строки можно удалить."
   ]
  },
  {
   "cell_type": "code",
   "execution_count": 12,
   "metadata": {},
   "outputs": [],
   "source": [
    "data=data.dropna(subset=['name']) # Удаляем записи"
   ]
  },
  {
   "cell_type": "code",
   "execution_count": 13,
   "metadata": {},
   "outputs": [
    {
     "data": {
      "text/plain": [
       "0"
      ]
     },
     "execution_count": 13,
     "metadata": {},
     "output_type": "execute_result"
    }
   ],
   "source": [
    "data['name'].isna().sum()"
   ]
  },
  {
   "cell_type": "code",
   "execution_count": 14,
   "metadata": {},
   "outputs": [
    {
     "data": {
      "text/plain": [
       "0"
      ]
     },
     "execution_count": 14,
     "metadata": {},
     "output_type": "execute_result"
    }
   ],
   "source": [
    "data['genre'].isna().sum()"
   ]
  },
  {
   "cell_type": "markdown",
   "metadata": {},
   "source": [
    "### Рассмотрим пропуски в столбце data['year_of_release']"
   ]
  },
  {
   "cell_type": "code",
   "execution_count": 15,
   "metadata": {},
   "outputs": [
    {
     "data": {
      "text/plain": [
       "269"
      ]
     },
     "execution_count": 15,
     "metadata": {},
     "output_type": "execute_result"
    }
   ],
   "source": [
    "data['year_of_release'].isna().sum()"
   ]
  },
  {
   "cell_type": "code",
   "execution_count": 16,
   "metadata": {},
   "outputs": [
    {
     "data": {
      "text/html": [
       "<div>\n",
       "<style scoped>\n",
       "    .dataframe tbody tr th:only-of-type {\n",
       "        vertical-align: middle;\n",
       "    }\n",
       "\n",
       "    .dataframe tbody tr th {\n",
       "        vertical-align: top;\n",
       "    }\n",
       "\n",
       "    .dataframe thead th {\n",
       "        text-align: right;\n",
       "    }\n",
       "</style>\n",
       "<table border=\"1\" class=\"dataframe\">\n",
       "  <thead>\n",
       "    <tr style=\"text-align: right;\">\n",
       "      <th></th>\n",
       "      <th>name</th>\n",
       "      <th>platform</th>\n",
       "      <th>year_of_release</th>\n",
       "      <th>genre</th>\n",
       "      <th>na_sales</th>\n",
       "      <th>eu_sales</th>\n",
       "      <th>jp_sales</th>\n",
       "      <th>other_sales</th>\n",
       "      <th>critic_score</th>\n",
       "      <th>user_score</th>\n",
       "      <th>rating</th>\n",
       "    </tr>\n",
       "  </thead>\n",
       "  <tbody>\n",
       "    <tr>\n",
       "      <th>183</th>\n",
       "      <td>Madden NFL 2004</td>\n",
       "      <td>PS2</td>\n",
       "      <td>NaN</td>\n",
       "      <td>Sports</td>\n",
       "      <td>4.26</td>\n",
       "      <td>0.26</td>\n",
       "      <td>0.01</td>\n",
       "      <td>0.71</td>\n",
       "      <td>94.0</td>\n",
       "      <td>8.5</td>\n",
       "      <td>E</td>\n",
       "    </tr>\n",
       "    <tr>\n",
       "      <th>377</th>\n",
       "      <td>FIFA Soccer 2004</td>\n",
       "      <td>PS2</td>\n",
       "      <td>NaN</td>\n",
       "      <td>Sports</td>\n",
       "      <td>0.59</td>\n",
       "      <td>2.36</td>\n",
       "      <td>0.04</td>\n",
       "      <td>0.51</td>\n",
       "      <td>84.0</td>\n",
       "      <td>6.4</td>\n",
       "      <td>E</td>\n",
       "    </tr>\n",
       "    <tr>\n",
       "      <th>456</th>\n",
       "      <td>LEGO Batman: The Videogame</td>\n",
       "      <td>Wii</td>\n",
       "      <td>NaN</td>\n",
       "      <td>Action</td>\n",
       "      <td>1.80</td>\n",
       "      <td>0.97</td>\n",
       "      <td>0.00</td>\n",
       "      <td>0.29</td>\n",
       "      <td>74.0</td>\n",
       "      <td>7.9</td>\n",
       "      <td>E10+</td>\n",
       "    </tr>\n",
       "    <tr>\n",
       "      <th>475</th>\n",
       "      <td>wwe Smackdown vs. Raw 2006</td>\n",
       "      <td>PS2</td>\n",
       "      <td>NaN</td>\n",
       "      <td>Fighting</td>\n",
       "      <td>1.57</td>\n",
       "      <td>1.02</td>\n",
       "      <td>0.00</td>\n",
       "      <td>0.41</td>\n",
       "      <td>NaN</td>\n",
       "      <td>NaN</td>\n",
       "      <td>NaN</td>\n",
       "    </tr>\n",
       "    <tr>\n",
       "      <th>609</th>\n",
       "      <td>Space Invaders</td>\n",
       "      <td>2600</td>\n",
       "      <td>NaN</td>\n",
       "      <td>Shooter</td>\n",
       "      <td>2.36</td>\n",
       "      <td>0.14</td>\n",
       "      <td>0.00</td>\n",
       "      <td>0.03</td>\n",
       "      <td>NaN</td>\n",
       "      <td>NaN</td>\n",
       "      <td>NaN</td>\n",
       "    </tr>\n",
       "  </tbody>\n",
       "</table>\n",
       "</div>"
      ],
      "text/plain": [
       "                           name platform  year_of_release     genre  na_sales  \\\n",
       "183             Madden NFL 2004      PS2              NaN    Sports      4.26   \n",
       "377            FIFA Soccer 2004      PS2              NaN    Sports      0.59   \n",
       "456  LEGO Batman: The Videogame      Wii              NaN    Action      1.80   \n",
       "475  wwe Smackdown vs. Raw 2006      PS2              NaN  Fighting      1.57   \n",
       "609              Space Invaders     2600              NaN   Shooter      2.36   \n",
       "\n",
       "     eu_sales  jp_sales  other_sales  critic_score user_score rating  \n",
       "183      0.26      0.01         0.71          94.0        8.5      E  \n",
       "377      2.36      0.04         0.51          84.0        6.4      E  \n",
       "456      0.97      0.00         0.29          74.0        7.9   E10+  \n",
       "475      1.02      0.00         0.41           NaN        NaN    NaN  \n",
       "609      0.14      0.00         0.03           NaN        NaN    NaN  "
      ]
     },
     "execution_count": 16,
     "metadata": {},
     "output_type": "execute_result"
    }
   ],
   "source": [
    "data[data['year_of_release'].isna()].head()"
   ]
  },
  {
   "cell_type": "markdown",
   "metadata": {},
   "source": [
    "Удалим данные с пропусками "
   ]
  },
  {
   "cell_type": "code",
   "execution_count": 17,
   "metadata": {},
   "outputs": [],
   "source": [
    "data=data.dropna(subset=['year_of_release'])"
   ]
  },
  {
   "cell_type": "code",
   "execution_count": 18,
   "metadata": {},
   "outputs": [],
   "source": [
    "#data['year_of_release'].fillna(mean_year_of_release, inplace=True)"
   ]
  },
  {
   "cell_type": "code",
   "execution_count": 19,
   "metadata": {},
   "outputs": [
    {
     "data": {
      "text/plain": [
       "0"
      ]
     },
     "execution_count": 19,
     "metadata": {},
     "output_type": "execute_result"
    }
   ],
   "source": [
    "data['year_of_release'].isna().sum()"
   ]
  },
  {
   "cell_type": "markdown",
   "metadata": {},
   "source": [
    "### Рассмотрим пропуски в столбце оценка критиков data['critic_score'] - пропущено более половины значений"
   ]
  },
  {
   "cell_type": "code",
   "execution_count": 20,
   "metadata": {},
   "outputs": [
    {
     "data": {
      "text/plain": [
       "8461"
      ]
     },
     "execution_count": 20,
     "metadata": {},
     "output_type": "execute_result"
    }
   ],
   "source": [
    "data['critic_score'].isna().sum()"
   ]
  },
  {
   "cell_type": "code",
   "execution_count": 21,
   "metadata": {},
   "outputs": [
    {
     "data": {
      "text/html": [
       "<div>\n",
       "<style scoped>\n",
       "    .dataframe tbody tr th:only-of-type {\n",
       "        vertical-align: middle;\n",
       "    }\n",
       "\n",
       "    .dataframe tbody tr th {\n",
       "        vertical-align: top;\n",
       "    }\n",
       "\n",
       "    .dataframe thead th {\n",
       "        text-align: right;\n",
       "    }\n",
       "</style>\n",
       "<table border=\"1\" class=\"dataframe\">\n",
       "  <thead>\n",
       "    <tr style=\"text-align: right;\">\n",
       "      <th></th>\n",
       "      <th>name</th>\n",
       "      <th>platform</th>\n",
       "      <th>year_of_release</th>\n",
       "      <th>genre</th>\n",
       "      <th>na_sales</th>\n",
       "      <th>eu_sales</th>\n",
       "      <th>jp_sales</th>\n",
       "      <th>other_sales</th>\n",
       "      <th>critic_score</th>\n",
       "      <th>user_score</th>\n",
       "      <th>rating</th>\n",
       "    </tr>\n",
       "  </thead>\n",
       "  <tbody>\n",
       "    <tr>\n",
       "      <th>1</th>\n",
       "      <td>Super Mario Bros.</td>\n",
       "      <td>NES</td>\n",
       "      <td>1985.0</td>\n",
       "      <td>Platform</td>\n",
       "      <td>29.08</td>\n",
       "      <td>3.58</td>\n",
       "      <td>6.81</td>\n",
       "      <td>0.77</td>\n",
       "      <td>NaN</td>\n",
       "      <td>NaN</td>\n",
       "      <td>NaN</td>\n",
       "    </tr>\n",
       "    <tr>\n",
       "      <th>4</th>\n",
       "      <td>Pokemon Red/Pokemon Blue</td>\n",
       "      <td>GB</td>\n",
       "      <td>1996.0</td>\n",
       "      <td>Role-Playing</td>\n",
       "      <td>11.27</td>\n",
       "      <td>8.89</td>\n",
       "      <td>10.22</td>\n",
       "      <td>1.00</td>\n",
       "      <td>NaN</td>\n",
       "      <td>NaN</td>\n",
       "      <td>NaN</td>\n",
       "    </tr>\n",
       "    <tr>\n",
       "      <th>5</th>\n",
       "      <td>Tetris</td>\n",
       "      <td>GB</td>\n",
       "      <td>1989.0</td>\n",
       "      <td>Puzzle</td>\n",
       "      <td>23.20</td>\n",
       "      <td>2.26</td>\n",
       "      <td>4.22</td>\n",
       "      <td>0.58</td>\n",
       "      <td>NaN</td>\n",
       "      <td>NaN</td>\n",
       "      <td>NaN</td>\n",
       "    </tr>\n",
       "    <tr>\n",
       "      <th>9</th>\n",
       "      <td>Duck Hunt</td>\n",
       "      <td>NES</td>\n",
       "      <td>1984.0</td>\n",
       "      <td>Shooter</td>\n",
       "      <td>26.93</td>\n",
       "      <td>0.63</td>\n",
       "      <td>0.28</td>\n",
       "      <td>0.47</td>\n",
       "      <td>NaN</td>\n",
       "      <td>NaN</td>\n",
       "      <td>NaN</td>\n",
       "    </tr>\n",
       "    <tr>\n",
       "      <th>10</th>\n",
       "      <td>Nintendogs</td>\n",
       "      <td>DS</td>\n",
       "      <td>2005.0</td>\n",
       "      <td>Simulation</td>\n",
       "      <td>9.05</td>\n",
       "      <td>10.95</td>\n",
       "      <td>1.93</td>\n",
       "      <td>2.74</td>\n",
       "      <td>NaN</td>\n",
       "      <td>NaN</td>\n",
       "      <td>NaN</td>\n",
       "    </tr>\n",
       "    <tr>\n",
       "      <th>...</th>\n",
       "      <td>...</td>\n",
       "      <td>...</td>\n",
       "      <td>...</td>\n",
       "      <td>...</td>\n",
       "      <td>...</td>\n",
       "      <td>...</td>\n",
       "      <td>...</td>\n",
       "      <td>...</td>\n",
       "      <td>...</td>\n",
       "      <td>...</td>\n",
       "      <td>...</td>\n",
       "    </tr>\n",
       "    <tr>\n",
       "      <th>16710</th>\n",
       "      <td>Samurai Warriors: Sanada Maru</td>\n",
       "      <td>PS3</td>\n",
       "      <td>2016.0</td>\n",
       "      <td>Action</td>\n",
       "      <td>0.00</td>\n",
       "      <td>0.00</td>\n",
       "      <td>0.01</td>\n",
       "      <td>0.00</td>\n",
       "      <td>NaN</td>\n",
       "      <td>NaN</td>\n",
       "      <td>NaN</td>\n",
       "    </tr>\n",
       "    <tr>\n",
       "      <th>16711</th>\n",
       "      <td>LMA Manager 2007</td>\n",
       "      <td>X360</td>\n",
       "      <td>2006.0</td>\n",
       "      <td>Sports</td>\n",
       "      <td>0.00</td>\n",
       "      <td>0.01</td>\n",
       "      <td>0.00</td>\n",
       "      <td>0.00</td>\n",
       "      <td>NaN</td>\n",
       "      <td>NaN</td>\n",
       "      <td>NaN</td>\n",
       "    </tr>\n",
       "    <tr>\n",
       "      <th>16712</th>\n",
       "      <td>Haitaka no Psychedelica</td>\n",
       "      <td>PSV</td>\n",
       "      <td>2016.0</td>\n",
       "      <td>Adventure</td>\n",
       "      <td>0.00</td>\n",
       "      <td>0.00</td>\n",
       "      <td>0.01</td>\n",
       "      <td>0.00</td>\n",
       "      <td>NaN</td>\n",
       "      <td>NaN</td>\n",
       "      <td>NaN</td>\n",
       "    </tr>\n",
       "    <tr>\n",
       "      <th>16713</th>\n",
       "      <td>Spirits &amp; Spells</td>\n",
       "      <td>GBA</td>\n",
       "      <td>2003.0</td>\n",
       "      <td>Platform</td>\n",
       "      <td>0.01</td>\n",
       "      <td>0.00</td>\n",
       "      <td>0.00</td>\n",
       "      <td>0.00</td>\n",
       "      <td>NaN</td>\n",
       "      <td>NaN</td>\n",
       "      <td>NaN</td>\n",
       "    </tr>\n",
       "    <tr>\n",
       "      <th>16714</th>\n",
       "      <td>Winning Post 8 2016</td>\n",
       "      <td>PSV</td>\n",
       "      <td>2016.0</td>\n",
       "      <td>Simulation</td>\n",
       "      <td>0.00</td>\n",
       "      <td>0.00</td>\n",
       "      <td>0.01</td>\n",
       "      <td>0.00</td>\n",
       "      <td>NaN</td>\n",
       "      <td>NaN</td>\n",
       "      <td>NaN</td>\n",
       "    </tr>\n",
       "  </tbody>\n",
       "</table>\n",
       "<p>8461 rows × 11 columns</p>\n",
       "</div>"
      ],
      "text/plain": [
       "                                name platform  year_of_release         genre  \\\n",
       "1                  Super Mario Bros.      NES           1985.0      Platform   \n",
       "4           Pokemon Red/Pokemon Blue       GB           1996.0  Role-Playing   \n",
       "5                             Tetris       GB           1989.0        Puzzle   \n",
       "9                          Duck Hunt      NES           1984.0       Shooter   \n",
       "10                        Nintendogs       DS           2005.0    Simulation   \n",
       "...                              ...      ...              ...           ...   \n",
       "16710  Samurai Warriors: Sanada Maru      PS3           2016.0        Action   \n",
       "16711               LMA Manager 2007     X360           2006.0        Sports   \n",
       "16712        Haitaka no Psychedelica      PSV           2016.0     Adventure   \n",
       "16713               Spirits & Spells      GBA           2003.0      Platform   \n",
       "16714            Winning Post 8 2016      PSV           2016.0    Simulation   \n",
       "\n",
       "       na_sales  eu_sales  jp_sales  other_sales  critic_score user_score  \\\n",
       "1         29.08      3.58      6.81         0.77           NaN        NaN   \n",
       "4         11.27      8.89     10.22         1.00           NaN        NaN   \n",
       "5         23.20      2.26      4.22         0.58           NaN        NaN   \n",
       "9         26.93      0.63      0.28         0.47           NaN        NaN   \n",
       "10         9.05     10.95      1.93         2.74           NaN        NaN   \n",
       "...         ...       ...       ...          ...           ...        ...   \n",
       "16710      0.00      0.00      0.01         0.00           NaN        NaN   \n",
       "16711      0.00      0.01      0.00         0.00           NaN        NaN   \n",
       "16712      0.00      0.00      0.01         0.00           NaN        NaN   \n",
       "16713      0.01      0.00      0.00         0.00           NaN        NaN   \n",
       "16714      0.00      0.00      0.01         0.00           NaN        NaN   \n",
       "\n",
       "      rating  \n",
       "1        NaN  \n",
       "4        NaN  \n",
       "5        NaN  \n",
       "9        NaN  \n",
       "10       NaN  \n",
       "...      ...  \n",
       "16710    NaN  \n",
       "16711    NaN  \n",
       "16712    NaN  \n",
       "16713    NaN  \n",
       "16714    NaN  \n",
       "\n",
       "[8461 rows x 11 columns]"
      ]
     },
     "execution_count": 21,
     "metadata": {},
     "output_type": "execute_result"
    }
   ],
   "source": [
    "data[data['critic_score'].isna()]"
   ]
  },
  {
   "cell_type": "markdown",
   "metadata": {},
   "source": [
    "Построим сводную таблицу для определения средних для данных рейтинга пользователей в каждом жарне и платформе"
   ]
  },
  {
   "cell_type": "code",
   "execution_count": 22,
   "metadata": {},
   "outputs": [
    {
     "data": {
      "text/html": [
       "<div>\n",
       "<style scoped>\n",
       "    .dataframe tbody tr th:only-of-type {\n",
       "        vertical-align: middle;\n",
       "    }\n",
       "\n",
       "    .dataframe tbody tr th {\n",
       "        vertical-align: top;\n",
       "    }\n",
       "\n",
       "    .dataframe thead th {\n",
       "        text-align: right;\n",
       "    }\n",
       "</style>\n",
       "<table border=\"1\" class=\"dataframe\">\n",
       "  <thead>\n",
       "    <tr style=\"text-align: right;\">\n",
       "      <th>genre</th>\n",
       "      <th>Action</th>\n",
       "      <th>Adventure</th>\n",
       "      <th>Fighting</th>\n",
       "      <th>Misc</th>\n",
       "      <th>Platform</th>\n",
       "      <th>Puzzle</th>\n",
       "      <th>Racing</th>\n",
       "      <th>Role-Playing</th>\n",
       "      <th>Shooter</th>\n",
       "      <th>Simulation</th>\n",
       "      <th>Sports</th>\n",
       "      <th>Strategy</th>\n",
       "    </tr>\n",
       "    <tr>\n",
       "      <th>platform</th>\n",
       "      <th></th>\n",
       "      <th></th>\n",
       "      <th></th>\n",
       "      <th></th>\n",
       "      <th></th>\n",
       "      <th></th>\n",
       "      <th></th>\n",
       "      <th></th>\n",
       "      <th></th>\n",
       "      <th></th>\n",
       "      <th></th>\n",
       "      <th></th>\n",
       "    </tr>\n",
       "  </thead>\n",
       "  <tbody>\n",
       "    <tr>\n",
       "      <th>3DS</th>\n",
       "      <td>62.982759</td>\n",
       "      <td>67.500000</td>\n",
       "      <td>68.857143</td>\n",
       "      <td>69.100000</td>\n",
       "      <td>72.444444</td>\n",
       "      <td>67.100000</td>\n",
       "      <td>62.000000</td>\n",
       "      <td>72.576923</td>\n",
       "      <td>78.000000</td>\n",
       "      <td>69.300000</td>\n",
       "      <td>62.285714</td>\n",
       "      <td>63.333333</td>\n",
       "    </tr>\n",
       "    <tr>\n",
       "      <th>DC</th>\n",
       "      <td>NaN</td>\n",
       "      <td>88.000000</td>\n",
       "      <td>89.000000</td>\n",
       "      <td>NaN</td>\n",
       "      <td>89.000000</td>\n",
       "      <td>NaN</td>\n",
       "      <td>83.000000</td>\n",
       "      <td>88.000000</td>\n",
       "      <td>83.000000</td>\n",
       "      <td>82.000000</td>\n",
       "      <td>97.000000</td>\n",
       "      <td>NaN</td>\n",
       "    </tr>\n",
       "    <tr>\n",
       "      <th>DS</th>\n",
       "      <td>58.325926</td>\n",
       "      <td>61.293103</td>\n",
       "      <td>63.133333</td>\n",
       "      <td>63.322581</td>\n",
       "      <td>67.648148</td>\n",
       "      <td>66.640000</td>\n",
       "      <td>58.310345</td>\n",
       "      <td>69.154639</td>\n",
       "      <td>66.531250</td>\n",
       "      <td>62.037037</td>\n",
       "      <td>63.575000</td>\n",
       "      <td>65.000000</td>\n",
       "    </tr>\n",
       "    <tr>\n",
       "      <th>GBA</th>\n",
       "      <td>62.176471</td>\n",
       "      <td>65.384615</td>\n",
       "      <td>67.250000</td>\n",
       "      <td>64.518519</td>\n",
       "      <td>67.807692</td>\n",
       "      <td>69.714286</td>\n",
       "      <td>67.547619</td>\n",
       "      <td>75.805556</td>\n",
       "      <td>66.142857</td>\n",
       "      <td>70.555556</td>\n",
       "      <td>69.740000</td>\n",
       "      <td>80.125000</td>\n",
       "    </tr>\n",
       "    <tr>\n",
       "      <th>GC</th>\n",
       "      <td>67.917647</td>\n",
       "      <td>64.571429</td>\n",
       "      <td>69.962963</td>\n",
       "      <td>63.565217</td>\n",
       "      <td>63.813559</td>\n",
       "      <td>66.600000</td>\n",
       "      <td>65.652174</td>\n",
       "      <td>72.956522</td>\n",
       "      <td>69.547619</td>\n",
       "      <td>77.200000</td>\n",
       "      <td>77.411111</td>\n",
       "      <td>74.875000</td>\n",
       "    </tr>\n",
       "    <tr>\n",
       "      <th>PC</th>\n",
       "      <td>74.248175</td>\n",
       "      <td>71.875000</td>\n",
       "      <td>76.333333</td>\n",
       "      <td>73.000000</td>\n",
       "      <td>74.800000</td>\n",
       "      <td>81.500000</td>\n",
       "      <td>77.444444</td>\n",
       "      <td>80.036145</td>\n",
       "      <td>76.553846</td>\n",
       "      <td>73.378049</td>\n",
       "      <td>80.333333</td>\n",
       "      <td>75.515873</td>\n",
       "    </tr>\n",
       "    <tr>\n",
       "      <th>PS</th>\n",
       "      <td>66.875000</td>\n",
       "      <td>55.625000</td>\n",
       "      <td>67.625000</td>\n",
       "      <td>73.833333</td>\n",
       "      <td>76.000000</td>\n",
       "      <td>81.000000</td>\n",
       "      <td>70.300000</td>\n",
       "      <td>79.428571</td>\n",
       "      <td>68.857143</td>\n",
       "      <td>80.500000</td>\n",
       "      <td>73.645161</td>\n",
       "      <td>63.800000</td>\n",
       "    </tr>\n",
       "    <tr>\n",
       "      <th>PS2</th>\n",
       "      <td>66.931727</td>\n",
       "      <td>62.348837</td>\n",
       "      <td>70.243590</td>\n",
       "      <td>67.628205</td>\n",
       "      <td>66.375000</td>\n",
       "      <td>72.636364</td>\n",
       "      <td>66.844720</td>\n",
       "      <td>71.563025</td>\n",
       "      <td>66.832117</td>\n",
       "      <td>70.603774</td>\n",
       "      <td>72.478632</td>\n",
       "      <td>69.900000</td>\n",
       "    </tr>\n",
       "    <tr>\n",
       "      <th>PS3</th>\n",
       "      <td>69.012766</td>\n",
       "      <td>68.300000</td>\n",
       "      <td>73.298246</td>\n",
       "      <td>72.166667</td>\n",
       "      <td>69.727273</td>\n",
       "      <td>74.000000</td>\n",
       "      <td>71.953846</td>\n",
       "      <td>70.551282</td>\n",
       "      <td>68.983871</td>\n",
       "      <td>62.800000</td>\n",
       "      <td>73.380952</td>\n",
       "      <td>73.375000</td>\n",
       "    </tr>\n",
       "    <tr>\n",
       "      <th>PS4</th>\n",
       "      <td>72.107143</td>\n",
       "      <td>73.428571</td>\n",
       "      <td>72.636364</td>\n",
       "      <td>70.555556</td>\n",
       "      <td>71.727273</td>\n",
       "      <td>88.000000</td>\n",
       "      <td>72.000000</td>\n",
       "      <td>73.375000</td>\n",
       "      <td>75.171429</td>\n",
       "      <td>72.500000</td>\n",
       "      <td>68.365854</td>\n",
       "      <td>69.750000</td>\n",
       "    </tr>\n",
       "    <tr>\n",
       "      <th>PSP</th>\n",
       "      <td>64.206897</td>\n",
       "      <td>63.461538</td>\n",
       "      <td>67.062500</td>\n",
       "      <td>66.034483</td>\n",
       "      <td>69.541667</td>\n",
       "      <td>65.538462</td>\n",
       "      <td>68.020833</td>\n",
       "      <td>68.728571</td>\n",
       "      <td>68.121212</td>\n",
       "      <td>60.000000</td>\n",
       "      <td>72.144928</td>\n",
       "      <td>70.642857</td>\n",
       "    </tr>\n",
       "    <tr>\n",
       "      <th>PSV</th>\n",
       "      <td>67.710526</td>\n",
       "      <td>71.400000</td>\n",
       "      <td>73.111111</td>\n",
       "      <td>77.750000</td>\n",
       "      <td>75.500000</td>\n",
       "      <td>69.000000</td>\n",
       "      <td>65.800000</td>\n",
       "      <td>71.258065</td>\n",
       "      <td>70.600000</td>\n",
       "      <td>NaN</td>\n",
       "      <td>72.833333</td>\n",
       "      <td>NaN</td>\n",
       "    </tr>\n",
       "    <tr>\n",
       "      <th>Wii</th>\n",
       "      <td>60.823944</td>\n",
       "      <td>60.387097</td>\n",
       "      <td>65.785714</td>\n",
       "      <td>62.829268</td>\n",
       "      <td>66.641026</td>\n",
       "      <td>66.318182</td>\n",
       "      <td>53.970588</td>\n",
       "      <td>67.884615</td>\n",
       "      <td>65.250000</td>\n",
       "      <td>64.515152</td>\n",
       "      <td>63.000000</td>\n",
       "      <td>68.375000</td>\n",
       "    </tr>\n",
       "    <tr>\n",
       "      <th>WiiU</th>\n",
       "      <td>70.179487</td>\n",
       "      <td>47.000000</td>\n",
       "      <td>66.000000</td>\n",
       "      <td>68.166667</td>\n",
       "      <td>75.750000</td>\n",
       "      <td>74.000000</td>\n",
       "      <td>88.000000</td>\n",
       "      <td>79.500000</td>\n",
       "      <td>71.600000</td>\n",
       "      <td>51.000000</td>\n",
       "      <td>64.833333</td>\n",
       "      <td>87.000000</td>\n",
       "    </tr>\n",
       "    <tr>\n",
       "      <th>X360</th>\n",
       "      <td>67.104167</td>\n",
       "      <td>60.937500</td>\n",
       "      <td>69.964912</td>\n",
       "      <td>67.614286</td>\n",
       "      <td>65.333333</td>\n",
       "      <td>53.000000</td>\n",
       "      <td>70.824324</td>\n",
       "      <td>71.793103</td>\n",
       "      <td>69.733766</td>\n",
       "      <td>65.172414</td>\n",
       "      <td>69.758170</td>\n",
       "      <td>71.894737</td>\n",
       "    </tr>\n",
       "    <tr>\n",
       "      <th>XB</th>\n",
       "      <td>67.445255</td>\n",
       "      <td>68.318182</td>\n",
       "      <td>64.615385</td>\n",
       "      <td>64.866667</td>\n",
       "      <td>67.025641</td>\n",
       "      <td>52.800000</td>\n",
       "      <td>67.532710</td>\n",
       "      <td>75.000000</td>\n",
       "      <td>69.923077</td>\n",
       "      <td>73.565217</td>\n",
       "      <td>76.796053</td>\n",
       "      <td>68.000000</td>\n",
       "    </tr>\n",
       "    <tr>\n",
       "      <th>XOne</th>\n",
       "      <td>71.490196</td>\n",
       "      <td>79.000000</td>\n",
       "      <td>63.400000</td>\n",
       "      <td>73.416667</td>\n",
       "      <td>74.000000</td>\n",
       "      <td>NaN</td>\n",
       "      <td>74.133333</td>\n",
       "      <td>80.777778</td>\n",
       "      <td>77.656250</td>\n",
       "      <td>59.000000</td>\n",
       "      <td>71.093750</td>\n",
       "      <td>70.000000</td>\n",
       "    </tr>\n",
       "  </tbody>\n",
       "</table>\n",
       "</div>"
      ],
      "text/plain": [
       "genre        Action  Adventure   Fighting       Misc   Platform     Puzzle  \\\n",
       "platform                                                                     \n",
       "3DS       62.982759  67.500000  68.857143  69.100000  72.444444  67.100000   \n",
       "DC              NaN  88.000000  89.000000        NaN  89.000000        NaN   \n",
       "DS        58.325926  61.293103  63.133333  63.322581  67.648148  66.640000   \n",
       "GBA       62.176471  65.384615  67.250000  64.518519  67.807692  69.714286   \n",
       "GC        67.917647  64.571429  69.962963  63.565217  63.813559  66.600000   \n",
       "PC        74.248175  71.875000  76.333333  73.000000  74.800000  81.500000   \n",
       "PS        66.875000  55.625000  67.625000  73.833333  76.000000  81.000000   \n",
       "PS2       66.931727  62.348837  70.243590  67.628205  66.375000  72.636364   \n",
       "PS3       69.012766  68.300000  73.298246  72.166667  69.727273  74.000000   \n",
       "PS4       72.107143  73.428571  72.636364  70.555556  71.727273  88.000000   \n",
       "PSP       64.206897  63.461538  67.062500  66.034483  69.541667  65.538462   \n",
       "PSV       67.710526  71.400000  73.111111  77.750000  75.500000  69.000000   \n",
       "Wii       60.823944  60.387097  65.785714  62.829268  66.641026  66.318182   \n",
       "WiiU      70.179487  47.000000  66.000000  68.166667  75.750000  74.000000   \n",
       "X360      67.104167  60.937500  69.964912  67.614286  65.333333  53.000000   \n",
       "XB        67.445255  68.318182  64.615385  64.866667  67.025641  52.800000   \n",
       "XOne      71.490196  79.000000  63.400000  73.416667  74.000000        NaN   \n",
       "\n",
       "genre        Racing  Role-Playing    Shooter  Simulation     Sports   Strategy  \n",
       "platform                                                                        \n",
       "3DS       62.000000     72.576923  78.000000   69.300000  62.285714  63.333333  \n",
       "DC        83.000000     88.000000  83.000000   82.000000  97.000000        NaN  \n",
       "DS        58.310345     69.154639  66.531250   62.037037  63.575000  65.000000  \n",
       "GBA       67.547619     75.805556  66.142857   70.555556  69.740000  80.125000  \n",
       "GC        65.652174     72.956522  69.547619   77.200000  77.411111  74.875000  \n",
       "PC        77.444444     80.036145  76.553846   73.378049  80.333333  75.515873  \n",
       "PS        70.300000     79.428571  68.857143   80.500000  73.645161  63.800000  \n",
       "PS2       66.844720     71.563025  66.832117   70.603774  72.478632  69.900000  \n",
       "PS3       71.953846     70.551282  68.983871   62.800000  73.380952  73.375000  \n",
       "PS4       72.000000     73.375000  75.171429   72.500000  68.365854  69.750000  \n",
       "PSP       68.020833     68.728571  68.121212   60.000000  72.144928  70.642857  \n",
       "PSV       65.800000     71.258065  70.600000         NaN  72.833333        NaN  \n",
       "Wii       53.970588     67.884615  65.250000   64.515152  63.000000  68.375000  \n",
       "WiiU      88.000000     79.500000  71.600000   51.000000  64.833333  87.000000  \n",
       "X360      70.824324     71.793103  69.733766   65.172414  69.758170  71.894737  \n",
       "XB        67.532710     75.000000  69.923077   73.565217  76.796053  68.000000  \n",
       "XOne      74.133333     80.777778  77.656250   59.000000  71.093750  70.000000  "
      ]
     },
     "execution_count": 22,
     "metadata": {},
     "output_type": "execute_result"
    }
   ],
   "source": [
    "critic_score_mean = data.pivot_table(index='platform',columns='genre',values='critic_score') \n",
    "critic_score_mean"
   ]
  },
  {
   "cell_type": "code",
   "execution_count": 23,
   "metadata": {},
   "outputs": [],
   "source": [
    "critic_score_mean = critic_score_mean.dropna()"
   ]
  },
  {
   "cell_type": "code",
   "execution_count": 24,
   "metadata": {},
   "outputs": [
    {
     "data": {
      "text/html": [
       "<div>\n",
       "<style scoped>\n",
       "    .dataframe tbody tr th:only-of-type {\n",
       "        vertical-align: middle;\n",
       "    }\n",
       "\n",
       "    .dataframe tbody tr th {\n",
       "        vertical-align: top;\n",
       "    }\n",
       "\n",
       "    .dataframe thead th {\n",
       "        text-align: right;\n",
       "    }\n",
       "</style>\n",
       "<table border=\"1\" class=\"dataframe\">\n",
       "  <thead>\n",
       "    <tr style=\"text-align: right;\">\n",
       "      <th>genre</th>\n",
       "      <th>Action</th>\n",
       "      <th>Adventure</th>\n",
       "      <th>Fighting</th>\n",
       "      <th>Misc</th>\n",
       "      <th>Platform</th>\n",
       "      <th>Puzzle</th>\n",
       "      <th>Racing</th>\n",
       "      <th>Role-Playing</th>\n",
       "      <th>Shooter</th>\n",
       "      <th>Simulation</th>\n",
       "      <th>Sports</th>\n",
       "      <th>Strategy</th>\n",
       "    </tr>\n",
       "    <tr>\n",
       "      <th>platform</th>\n",
       "      <th></th>\n",
       "      <th></th>\n",
       "      <th></th>\n",
       "      <th></th>\n",
       "      <th></th>\n",
       "      <th></th>\n",
       "      <th></th>\n",
       "      <th></th>\n",
       "      <th></th>\n",
       "      <th></th>\n",
       "      <th></th>\n",
       "      <th></th>\n",
       "    </tr>\n",
       "  </thead>\n",
       "  <tbody>\n",
       "    <tr>\n",
       "      <th>3DS</th>\n",
       "      <td>62.982759</td>\n",
       "      <td>67.500000</td>\n",
       "      <td>68.857143</td>\n",
       "      <td>69.100000</td>\n",
       "      <td>72.444444</td>\n",
       "      <td>67.100000</td>\n",
       "      <td>62.000000</td>\n",
       "      <td>72.576923</td>\n",
       "      <td>78.000000</td>\n",
       "      <td>69.300000</td>\n",
       "      <td>62.285714</td>\n",
       "      <td>63.333333</td>\n",
       "    </tr>\n",
       "    <tr>\n",
       "      <th>DS</th>\n",
       "      <td>58.325926</td>\n",
       "      <td>61.293103</td>\n",
       "      <td>63.133333</td>\n",
       "      <td>63.322581</td>\n",
       "      <td>67.648148</td>\n",
       "      <td>66.640000</td>\n",
       "      <td>58.310345</td>\n",
       "      <td>69.154639</td>\n",
       "      <td>66.531250</td>\n",
       "      <td>62.037037</td>\n",
       "      <td>63.575000</td>\n",
       "      <td>65.000000</td>\n",
       "    </tr>\n",
       "    <tr>\n",
       "      <th>GBA</th>\n",
       "      <td>62.176471</td>\n",
       "      <td>65.384615</td>\n",
       "      <td>67.250000</td>\n",
       "      <td>64.518519</td>\n",
       "      <td>67.807692</td>\n",
       "      <td>69.714286</td>\n",
       "      <td>67.547619</td>\n",
       "      <td>75.805556</td>\n",
       "      <td>66.142857</td>\n",
       "      <td>70.555556</td>\n",
       "      <td>69.740000</td>\n",
       "      <td>80.125000</td>\n",
       "    </tr>\n",
       "    <tr>\n",
       "      <th>GC</th>\n",
       "      <td>67.917647</td>\n",
       "      <td>64.571429</td>\n",
       "      <td>69.962963</td>\n",
       "      <td>63.565217</td>\n",
       "      <td>63.813559</td>\n",
       "      <td>66.600000</td>\n",
       "      <td>65.652174</td>\n",
       "      <td>72.956522</td>\n",
       "      <td>69.547619</td>\n",
       "      <td>77.200000</td>\n",
       "      <td>77.411111</td>\n",
       "      <td>74.875000</td>\n",
       "    </tr>\n",
       "    <tr>\n",
       "      <th>PC</th>\n",
       "      <td>74.248175</td>\n",
       "      <td>71.875000</td>\n",
       "      <td>76.333333</td>\n",
       "      <td>73.000000</td>\n",
       "      <td>74.800000</td>\n",
       "      <td>81.500000</td>\n",
       "      <td>77.444444</td>\n",
       "      <td>80.036145</td>\n",
       "      <td>76.553846</td>\n",
       "      <td>73.378049</td>\n",
       "      <td>80.333333</td>\n",
       "      <td>75.515873</td>\n",
       "    </tr>\n",
       "    <tr>\n",
       "      <th>PS</th>\n",
       "      <td>66.875000</td>\n",
       "      <td>55.625000</td>\n",
       "      <td>67.625000</td>\n",
       "      <td>73.833333</td>\n",
       "      <td>76.000000</td>\n",
       "      <td>81.000000</td>\n",
       "      <td>70.300000</td>\n",
       "      <td>79.428571</td>\n",
       "      <td>68.857143</td>\n",
       "      <td>80.500000</td>\n",
       "      <td>73.645161</td>\n",
       "      <td>63.800000</td>\n",
       "    </tr>\n",
       "    <tr>\n",
       "      <th>PS2</th>\n",
       "      <td>66.931727</td>\n",
       "      <td>62.348837</td>\n",
       "      <td>70.243590</td>\n",
       "      <td>67.628205</td>\n",
       "      <td>66.375000</td>\n",
       "      <td>72.636364</td>\n",
       "      <td>66.844720</td>\n",
       "      <td>71.563025</td>\n",
       "      <td>66.832117</td>\n",
       "      <td>70.603774</td>\n",
       "      <td>72.478632</td>\n",
       "      <td>69.900000</td>\n",
       "    </tr>\n",
       "    <tr>\n",
       "      <th>PS3</th>\n",
       "      <td>69.012766</td>\n",
       "      <td>68.300000</td>\n",
       "      <td>73.298246</td>\n",
       "      <td>72.166667</td>\n",
       "      <td>69.727273</td>\n",
       "      <td>74.000000</td>\n",
       "      <td>71.953846</td>\n",
       "      <td>70.551282</td>\n",
       "      <td>68.983871</td>\n",
       "      <td>62.800000</td>\n",
       "      <td>73.380952</td>\n",
       "      <td>73.375000</td>\n",
       "    </tr>\n",
       "    <tr>\n",
       "      <th>PS4</th>\n",
       "      <td>72.107143</td>\n",
       "      <td>73.428571</td>\n",
       "      <td>72.636364</td>\n",
       "      <td>70.555556</td>\n",
       "      <td>71.727273</td>\n",
       "      <td>88.000000</td>\n",
       "      <td>72.000000</td>\n",
       "      <td>73.375000</td>\n",
       "      <td>75.171429</td>\n",
       "      <td>72.500000</td>\n",
       "      <td>68.365854</td>\n",
       "      <td>69.750000</td>\n",
       "    </tr>\n",
       "    <tr>\n",
       "      <th>PSP</th>\n",
       "      <td>64.206897</td>\n",
       "      <td>63.461538</td>\n",
       "      <td>67.062500</td>\n",
       "      <td>66.034483</td>\n",
       "      <td>69.541667</td>\n",
       "      <td>65.538462</td>\n",
       "      <td>68.020833</td>\n",
       "      <td>68.728571</td>\n",
       "      <td>68.121212</td>\n",
       "      <td>60.000000</td>\n",
       "      <td>72.144928</td>\n",
       "      <td>70.642857</td>\n",
       "    </tr>\n",
       "    <tr>\n",
       "      <th>Wii</th>\n",
       "      <td>60.823944</td>\n",
       "      <td>60.387097</td>\n",
       "      <td>65.785714</td>\n",
       "      <td>62.829268</td>\n",
       "      <td>66.641026</td>\n",
       "      <td>66.318182</td>\n",
       "      <td>53.970588</td>\n",
       "      <td>67.884615</td>\n",
       "      <td>65.250000</td>\n",
       "      <td>64.515152</td>\n",
       "      <td>63.000000</td>\n",
       "      <td>68.375000</td>\n",
       "    </tr>\n",
       "    <tr>\n",
       "      <th>WiiU</th>\n",
       "      <td>70.179487</td>\n",
       "      <td>47.000000</td>\n",
       "      <td>66.000000</td>\n",
       "      <td>68.166667</td>\n",
       "      <td>75.750000</td>\n",
       "      <td>74.000000</td>\n",
       "      <td>88.000000</td>\n",
       "      <td>79.500000</td>\n",
       "      <td>71.600000</td>\n",
       "      <td>51.000000</td>\n",
       "      <td>64.833333</td>\n",
       "      <td>87.000000</td>\n",
       "    </tr>\n",
       "    <tr>\n",
       "      <th>X360</th>\n",
       "      <td>67.104167</td>\n",
       "      <td>60.937500</td>\n",
       "      <td>69.964912</td>\n",
       "      <td>67.614286</td>\n",
       "      <td>65.333333</td>\n",
       "      <td>53.000000</td>\n",
       "      <td>70.824324</td>\n",
       "      <td>71.793103</td>\n",
       "      <td>69.733766</td>\n",
       "      <td>65.172414</td>\n",
       "      <td>69.758170</td>\n",
       "      <td>71.894737</td>\n",
       "    </tr>\n",
       "    <tr>\n",
       "      <th>XB</th>\n",
       "      <td>67.445255</td>\n",
       "      <td>68.318182</td>\n",
       "      <td>64.615385</td>\n",
       "      <td>64.866667</td>\n",
       "      <td>67.025641</td>\n",
       "      <td>52.800000</td>\n",
       "      <td>67.532710</td>\n",
       "      <td>75.000000</td>\n",
       "      <td>69.923077</td>\n",
       "      <td>73.565217</td>\n",
       "      <td>76.796053</td>\n",
       "      <td>68.000000</td>\n",
       "    </tr>\n",
       "  </tbody>\n",
       "</table>\n",
       "</div>"
      ],
      "text/plain": [
       "genre        Action  Adventure   Fighting       Misc   Platform     Puzzle  \\\n",
       "platform                                                                     \n",
       "3DS       62.982759  67.500000  68.857143  69.100000  72.444444  67.100000   \n",
       "DS        58.325926  61.293103  63.133333  63.322581  67.648148  66.640000   \n",
       "GBA       62.176471  65.384615  67.250000  64.518519  67.807692  69.714286   \n",
       "GC        67.917647  64.571429  69.962963  63.565217  63.813559  66.600000   \n",
       "PC        74.248175  71.875000  76.333333  73.000000  74.800000  81.500000   \n",
       "PS        66.875000  55.625000  67.625000  73.833333  76.000000  81.000000   \n",
       "PS2       66.931727  62.348837  70.243590  67.628205  66.375000  72.636364   \n",
       "PS3       69.012766  68.300000  73.298246  72.166667  69.727273  74.000000   \n",
       "PS4       72.107143  73.428571  72.636364  70.555556  71.727273  88.000000   \n",
       "PSP       64.206897  63.461538  67.062500  66.034483  69.541667  65.538462   \n",
       "Wii       60.823944  60.387097  65.785714  62.829268  66.641026  66.318182   \n",
       "WiiU      70.179487  47.000000  66.000000  68.166667  75.750000  74.000000   \n",
       "X360      67.104167  60.937500  69.964912  67.614286  65.333333  53.000000   \n",
       "XB        67.445255  68.318182  64.615385  64.866667  67.025641  52.800000   \n",
       "\n",
       "genre        Racing  Role-Playing    Shooter  Simulation     Sports   Strategy  \n",
       "platform                                                                        \n",
       "3DS       62.000000     72.576923  78.000000   69.300000  62.285714  63.333333  \n",
       "DS        58.310345     69.154639  66.531250   62.037037  63.575000  65.000000  \n",
       "GBA       67.547619     75.805556  66.142857   70.555556  69.740000  80.125000  \n",
       "GC        65.652174     72.956522  69.547619   77.200000  77.411111  74.875000  \n",
       "PC        77.444444     80.036145  76.553846   73.378049  80.333333  75.515873  \n",
       "PS        70.300000     79.428571  68.857143   80.500000  73.645161  63.800000  \n",
       "PS2       66.844720     71.563025  66.832117   70.603774  72.478632  69.900000  \n",
       "PS3       71.953846     70.551282  68.983871   62.800000  73.380952  73.375000  \n",
       "PS4       72.000000     73.375000  75.171429   72.500000  68.365854  69.750000  \n",
       "PSP       68.020833     68.728571  68.121212   60.000000  72.144928  70.642857  \n",
       "Wii       53.970588     67.884615  65.250000   64.515152  63.000000  68.375000  \n",
       "WiiU      88.000000     79.500000  71.600000   51.000000  64.833333  87.000000  \n",
       "X360      70.824324     71.793103  69.733766   65.172414  69.758170  71.894737  \n",
       "XB        67.532710     75.000000  69.923077   73.565217  76.796053  68.000000  "
      ]
     },
     "execution_count": 24,
     "metadata": {},
     "output_type": "execute_result"
    }
   ],
   "source": [
    "critic_score_mean"
   ]
  },
  {
   "cell_type": "markdown",
   "metadata": {},
   "source": [
    "Построим теловую карту для наглядного представления данных"
   ]
  },
  {
   "cell_type": "code",
   "execution_count": 25,
   "metadata": {},
   "outputs": [
    {
     "data": {
      "text/plain": [
       "<AxesSubplot:xlabel='genre', ylabel='platform'>"
      ]
     },
     "execution_count": 25,
     "metadata": {},
     "output_type": "execute_result"
    },
    {
     "data": {
      "image/png": "[encoded data removed]",
      "text/plain": [
       "<Figure size 720x504 with 2 Axes>"
      ]
     },
     "metadata": {
      "needs_background": "light"
     },
     "output_type": "display_data"
    }
   ],
   "source": [
    "plt.figure(figsize=(10,7))\n",
    "sns.heatmap(critic_score_mean)"
   ]
  },
  {
   "cell_type": "markdown",
   "metadata": {},
   "source": [
    "Из графика видно, что средние значения рейтинга пользователей для каджой приставки не сильно отличаются по жанрам. Поэтому  можно было бы заполнять пропуски средними значениями относительно жанра игры.\n",
    "Однако по рекомендации наставника, было принято решение заменить пропуски на -1 и оставить все как есть, чтобы не исказить исходные данные."
   ]
  },
  {
   "cell_type": "code",
   "execution_count": 26,
   "metadata": {},
   "outputs": [],
   "source": [
    "data['critic_score'].fillna(-1, inplace=True)"
   ]
  },
  {
   "cell_type": "code",
   "execution_count": 27,
   "metadata": {},
   "outputs": [],
   "source": [
    "#mean_critic_score = data.groupby('genre')['critic_score'].transform('mean')"
   ]
  },
  {
   "cell_type": "code",
   "execution_count": 28,
   "metadata": {},
   "outputs": [],
   "source": [
    "#data['critic_score'].fillna(mean_critic_score,inplace=True)"
   ]
  },
  {
   "cell_type": "code",
   "execution_count": 29,
   "metadata": {},
   "outputs": [
    {
     "data": {
      "text/plain": [
       "0"
      ]
     },
     "execution_count": 29,
     "metadata": {},
     "output_type": "execute_result"
    }
   ],
   "source": [
    "data['critic_score'].isna().sum()"
   ]
  },
  {
   "cell_type": "markdown",
   "metadata": {},
   "source": [
    "### Рассмотрим пропуски в столбце data['user_score'] - пропущено чуть менее половины значений"
   ]
  },
  {
   "cell_type": "code",
   "execution_count": 30,
   "metadata": {},
   "outputs": [
    {
     "data": {
      "text/plain": [
       "6605"
      ]
     },
     "execution_count": 30,
     "metadata": {},
     "output_type": "execute_result"
    }
   ],
   "source": [
    "data['user_score'].isna().sum()"
   ]
  },
  {
   "cell_type": "code",
   "execution_count": 31,
   "metadata": {},
   "outputs": [
    {
     "data": {
      "text/plain": [
       "tbd    2376\n",
       "7.8     322\n",
       "8       285\n",
       "8.2     276\n",
       "8.3     252\n",
       "       ... \n",
       "0.6       2\n",
       "0.2       2\n",
       "0.9       2\n",
       "0         1\n",
       "9.7       1\n",
       "Name: user_score, Length: 96, dtype: int64"
      ]
     },
     "execution_count": 31,
     "metadata": {},
     "output_type": "execute_result"
    }
   ],
   "source": [
    "data['user_score'].value_counts()"
   ]
  },
  {
   "cell_type": "code",
   "execution_count": 32,
   "metadata": {},
   "outputs": [
    {
     "data": {
      "text/html": [
       "<div>\n",
       "<style scoped>\n",
       "    .dataframe tbody tr th:only-of-type {\n",
       "        vertical-align: middle;\n",
       "    }\n",
       "\n",
       "    .dataframe tbody tr th {\n",
       "        vertical-align: top;\n",
       "    }\n",
       "\n",
       "    .dataframe thead th {\n",
       "        text-align: right;\n",
       "    }\n",
       "</style>\n",
       "<table border=\"1\" class=\"dataframe\">\n",
       "  <thead>\n",
       "    <tr style=\"text-align: right;\">\n",
       "      <th></th>\n",
       "      <th>name</th>\n",
       "      <th>platform</th>\n",
       "      <th>year_of_release</th>\n",
       "      <th>genre</th>\n",
       "      <th>na_sales</th>\n",
       "      <th>eu_sales</th>\n",
       "      <th>jp_sales</th>\n",
       "      <th>other_sales</th>\n",
       "      <th>critic_score</th>\n",
       "      <th>user_score</th>\n",
       "      <th>rating</th>\n",
       "    </tr>\n",
       "  </thead>\n",
       "  <tbody>\n",
       "    <tr>\n",
       "      <th>119</th>\n",
       "      <td>Zumba Fitness</td>\n",
       "      <td>Wii</td>\n",
       "      <td>2010.0</td>\n",
       "      <td>Sports</td>\n",
       "      <td>3.45</td>\n",
       "      <td>2.59</td>\n",
       "      <td>0.0</td>\n",
       "      <td>0.66</td>\n",
       "      <td>-1.0</td>\n",
       "      <td>tbd</td>\n",
       "      <td>E</td>\n",
       "    </tr>\n",
       "    <tr>\n",
       "      <th>301</th>\n",
       "      <td>Namco Museum: 50th Anniversary</td>\n",
       "      <td>PS2</td>\n",
       "      <td>2005.0</td>\n",
       "      <td>Misc</td>\n",
       "      <td>2.08</td>\n",
       "      <td>1.35</td>\n",
       "      <td>0.0</td>\n",
       "      <td>0.54</td>\n",
       "      <td>61.0</td>\n",
       "      <td>tbd</td>\n",
       "      <td>E10+</td>\n",
       "    </tr>\n",
       "    <tr>\n",
       "      <th>520</th>\n",
       "      <td>Zumba Fitness 2</td>\n",
       "      <td>Wii</td>\n",
       "      <td>2011.0</td>\n",
       "      <td>Sports</td>\n",
       "      <td>1.51</td>\n",
       "      <td>1.03</td>\n",
       "      <td>0.0</td>\n",
       "      <td>0.27</td>\n",
       "      <td>-1.0</td>\n",
       "      <td>tbd</td>\n",
       "      <td>T</td>\n",
       "    </tr>\n",
       "    <tr>\n",
       "      <th>645</th>\n",
       "      <td>uDraw Studio</td>\n",
       "      <td>Wii</td>\n",
       "      <td>2010.0</td>\n",
       "      <td>Misc</td>\n",
       "      <td>1.65</td>\n",
       "      <td>0.57</td>\n",
       "      <td>0.0</td>\n",
       "      <td>0.20</td>\n",
       "      <td>71.0</td>\n",
       "      <td>tbd</td>\n",
       "      <td>E</td>\n",
       "    </tr>\n",
       "    <tr>\n",
       "      <th>718</th>\n",
       "      <td>Just Dance Kids</td>\n",
       "      <td>Wii</td>\n",
       "      <td>2010.0</td>\n",
       "      <td>Misc</td>\n",
       "      <td>1.52</td>\n",
       "      <td>0.54</td>\n",
       "      <td>0.0</td>\n",
       "      <td>0.18</td>\n",
       "      <td>-1.0</td>\n",
       "      <td>tbd</td>\n",
       "      <td>E</td>\n",
       "    </tr>\n",
       "    <tr>\n",
       "      <th>...</th>\n",
       "      <td>...</td>\n",
       "      <td>...</td>\n",
       "      <td>...</td>\n",
       "      <td>...</td>\n",
       "      <td>...</td>\n",
       "      <td>...</td>\n",
       "      <td>...</td>\n",
       "      <td>...</td>\n",
       "      <td>...</td>\n",
       "      <td>...</td>\n",
       "      <td>...</td>\n",
       "    </tr>\n",
       "    <tr>\n",
       "      <th>16695</th>\n",
       "      <td>Planet Monsters</td>\n",
       "      <td>GBA</td>\n",
       "      <td>2001.0</td>\n",
       "      <td>Action</td>\n",
       "      <td>0.01</td>\n",
       "      <td>0.00</td>\n",
       "      <td>0.0</td>\n",
       "      <td>0.00</td>\n",
       "      <td>67.0</td>\n",
       "      <td>tbd</td>\n",
       "      <td>E</td>\n",
       "    </tr>\n",
       "    <tr>\n",
       "      <th>16697</th>\n",
       "      <td>Bust-A-Move 3000</td>\n",
       "      <td>GC</td>\n",
       "      <td>2003.0</td>\n",
       "      <td>Puzzle</td>\n",
       "      <td>0.01</td>\n",
       "      <td>0.00</td>\n",
       "      <td>0.0</td>\n",
       "      <td>0.00</td>\n",
       "      <td>53.0</td>\n",
       "      <td>tbd</td>\n",
       "      <td>E</td>\n",
       "    </tr>\n",
       "    <tr>\n",
       "      <th>16698</th>\n",
       "      <td>Mega Brain Boost</td>\n",
       "      <td>DS</td>\n",
       "      <td>2008.0</td>\n",
       "      <td>Puzzle</td>\n",
       "      <td>0.01</td>\n",
       "      <td>0.00</td>\n",
       "      <td>0.0</td>\n",
       "      <td>0.00</td>\n",
       "      <td>48.0</td>\n",
       "      <td>tbd</td>\n",
       "      <td>E</td>\n",
       "    </tr>\n",
       "    <tr>\n",
       "      <th>16704</th>\n",
       "      <td>Plushees</td>\n",
       "      <td>DS</td>\n",
       "      <td>2008.0</td>\n",
       "      <td>Simulation</td>\n",
       "      <td>0.01</td>\n",
       "      <td>0.00</td>\n",
       "      <td>0.0</td>\n",
       "      <td>0.00</td>\n",
       "      <td>-1.0</td>\n",
       "      <td>tbd</td>\n",
       "      <td>E</td>\n",
       "    </tr>\n",
       "    <tr>\n",
       "      <th>16706</th>\n",
       "      <td>Men in Black II: Alien Escape</td>\n",
       "      <td>GC</td>\n",
       "      <td>2003.0</td>\n",
       "      <td>Shooter</td>\n",
       "      <td>0.01</td>\n",
       "      <td>0.00</td>\n",
       "      <td>0.0</td>\n",
       "      <td>0.00</td>\n",
       "      <td>-1.0</td>\n",
       "      <td>tbd</td>\n",
       "      <td>T</td>\n",
       "    </tr>\n",
       "  </tbody>\n",
       "</table>\n",
       "<p>2376 rows × 11 columns</p>\n",
       "</div>"
      ],
      "text/plain": [
       "                                 name platform  year_of_release       genre  \\\n",
       "119                     Zumba Fitness      Wii           2010.0      Sports   \n",
       "301    Namco Museum: 50th Anniversary      PS2           2005.0        Misc   \n",
       "520                   Zumba Fitness 2      Wii           2011.0      Sports   \n",
       "645                      uDraw Studio      Wii           2010.0        Misc   \n",
       "718                   Just Dance Kids      Wii           2010.0        Misc   \n",
       "...                               ...      ...              ...         ...   \n",
       "16695                 Planet Monsters      GBA           2001.0      Action   \n",
       "16697                Bust-A-Move 3000       GC           2003.0      Puzzle   \n",
       "16698                Mega Brain Boost       DS           2008.0      Puzzle   \n",
       "16704                        Plushees       DS           2008.0  Simulation   \n",
       "16706   Men in Black II: Alien Escape       GC           2003.0     Shooter   \n",
       "\n",
       "       na_sales  eu_sales  jp_sales  other_sales  critic_score user_score  \\\n",
       "119        3.45      2.59       0.0         0.66          -1.0        tbd   \n",
       "301        2.08      1.35       0.0         0.54          61.0        tbd   \n",
       "520        1.51      1.03       0.0         0.27          -1.0        tbd   \n",
       "645        1.65      0.57       0.0         0.20          71.0        tbd   \n",
       "718        1.52      0.54       0.0         0.18          -1.0        tbd   \n",
       "...         ...       ...       ...          ...           ...        ...   \n",
       "16695      0.01      0.00       0.0         0.00          67.0        tbd   \n",
       "16697      0.01      0.00       0.0         0.00          53.0        tbd   \n",
       "16698      0.01      0.00       0.0         0.00          48.0        tbd   \n",
       "16704      0.01      0.00       0.0         0.00          -1.0        tbd   \n",
       "16706      0.01      0.00       0.0         0.00          -1.0        tbd   \n",
       "\n",
       "      rating  \n",
       "119        E  \n",
       "301     E10+  \n",
       "520        T  \n",
       "645        E  \n",
       "718        E  \n",
       "...      ...  \n",
       "16695      E  \n",
       "16697      E  \n",
       "16698      E  \n",
       "16704      E  \n",
       "16706      T  \n",
       "\n",
       "[2376 rows x 11 columns]"
      ]
     },
     "execution_count": 32,
     "metadata": {},
     "output_type": "execute_result"
    }
   ],
   "source": [
    "tbd=data.query('user_score==\"tbd\"')\n",
    "tbd"
   ]
  },
  {
   "cell_type": "code",
   "execution_count": 33,
   "metadata": {},
   "outputs": [],
   "source": [
    "tbd_genre = tbd['genre'].value_counts()"
   ]
  },
  {
   "cell_type": "code",
   "execution_count": 34,
   "metadata": {},
   "outputs": [
    {
     "data": {
      "text/plain": [
       "<AxesSubplot:>"
      ]
     },
     "execution_count": 34,
     "metadata": {},
     "output_type": "execute_result"
    },
    {
     "data": {
      "image/png": "[encoded data removed]",
      "text/plain": [
       "<Figure size 432x288 with 1 Axes>"
      ]
     },
     "metadata": {
      "needs_background": "light"
     },
     "output_type": "display_data"
    }
   ],
   "source": [
    "tbd_genre.plot(kind=\"bar\")"
   ]
  },
  {
   "cell_type": "markdown",
   "metadata": {},
   "source": [
    "tbd (to be determined) - означает, что рейтинг еще не определен. Значение tbd присутствует во всех жанрах. Поэтому заменим их на -1."
   ]
  },
  {
   "cell_type": "code",
   "execution_count": 35,
   "metadata": {},
   "outputs": [],
   "source": [
    "data['user_score'] = data['user_score'].replace('tbd', -1) "
   ]
  },
  {
   "cell_type": "code",
   "execution_count": 36,
   "metadata": {},
   "outputs": [],
   "source": [
    "data['user_score'] = data['user_score'].fillna(-1) "
   ]
  },
  {
   "cell_type": "code",
   "execution_count": 37,
   "metadata": {},
   "outputs": [
    {
     "data": {
      "text/plain": [
       "-1     8981\n",
       "7.8     322\n",
       "8       285\n",
       "8.2     276\n",
       "8.3     252\n",
       "       ... \n",
       "0.6       2\n",
       "0.2       2\n",
       "0.9       2\n",
       "0         1\n",
       "9.7       1\n",
       "Name: user_score, Length: 96, dtype: int64"
      ]
     },
     "execution_count": 37,
     "metadata": {},
     "output_type": "execute_result"
    }
   ],
   "source": [
    "data['user_score'].value_counts()"
   ]
  },
  {
   "cell_type": "markdown",
   "metadata": {},
   "source": [
    "Данный код не применялся в финальной версии проекта "
   ]
  },
  {
   "cell_type": "code",
   "execution_count": 38,
   "metadata": {},
   "outputs": [],
   "source": [
    "#user_score_null = data[data['user_score']=='NaN']\n",
    "#user_score_count = user_score_null.pivot_table(index='platform',columns='genre',values='user_score', aggfunc = 'count')\n",
    "#user_score_count = data.pivot_table(index='platform',columns='genre',values='user_score', aggfunc = 'count') "
   ]
  },
  {
   "cell_type": "code",
   "execution_count": 39,
   "metadata": {},
   "outputs": [
    {
     "data": {
      "text/plain": [
       "0"
      ]
     },
     "execution_count": 39,
     "metadata": {},
     "output_type": "execute_result"
    }
   ],
   "source": [
    "data['user_score'].isna().sum()"
   ]
  },
  {
   "cell_type": "markdown",
   "metadata": {},
   "source": [
    "Первоначально планировалось заменить пропуски в столбце data['user_score'] нулями или средними значениями соответствующих выборок. Однако, после консультации с наставником, было принято решение заменить только tbd и пропуски на -1 и оставить все как есть. Я согласился с его логикой в том, что обнуление или замена средним исказят исходные данные, т.к. 0 или среднее - это релевантная оценка, а не tbd или пропуск данных.  "
   ]
  },
  {
   "cell_type": "markdown",
   "metadata": {},
   "source": [
    "### Рассмотрим пропуски в столбце рейтинг ESRB ['rating'] - пропущено чуть менее половины значений"
   ]
  },
  {
   "cell_type": "code",
   "execution_count": 40,
   "metadata": {},
   "outputs": [
    {
     "data": {
      "text/plain": [
       "6676"
      ]
     },
     "execution_count": 40,
     "metadata": {},
     "output_type": "execute_result"
    }
   ],
   "source": [
    "data['rating'].isna().sum()"
   ]
  },
  {
   "cell_type": "code",
   "execution_count": 41,
   "metadata": {},
   "outputs": [
    {
     "data": {
      "text/plain": [
       "E       3921\n",
       "T       2905\n",
       "M       1536\n",
       "E10+    1393\n",
       "EC         8\n",
       "K-A        3\n",
       "AO         1\n",
       "RP         1\n",
       "Name: rating, dtype: int64"
      ]
     },
     "execution_count": 41,
     "metadata": {},
     "output_type": "execute_result"
    }
   ],
   "source": [
    "data['rating'].value_counts()"
   ]
  },
  {
   "cell_type": "markdown",
   "metadata": {},
   "source": [
    "Не будем производить никаких замен, чтобы не исказить первоначальные данные (по аналогии со столбцом data['user_score']) "
   ]
  },
  {
   "cell_type": "code",
   "execution_count": 42,
   "metadata": {},
   "outputs": [],
   "source": [
    "data['rating'].fillna('NaN',inplace=True)"
   ]
  },
  {
   "cell_type": "code",
   "execution_count": 43,
   "metadata": {},
   "outputs": [
    {
     "data": {
      "text/plain": [
       "NaN     6676\n",
       "E       3921\n",
       "T       2905\n",
       "M       1536\n",
       "E10+    1393\n",
       "EC         8\n",
       "K-A        3\n",
       "AO         1\n",
       "RP         1\n",
       "Name: rating, dtype: int64"
      ]
     },
     "execution_count": 43,
     "metadata": {},
     "output_type": "execute_result"
    }
   ],
   "source": [
    "data['rating'].value_counts()"
   ]
  },
  {
   "cell_type": "markdown",
   "metadata": {},
   "source": [
    "## Преобразовывем данные в нужные типы."
   ]
  },
  {
   "cell_type": "markdown",
   "metadata": {},
   "source": [
    "Преобразуем типы данных в следующих столбцах:\n",
    " - data['year_of_release'] -> изменим тип данных на целые, в том числе для визуализации диаграмм.\n",
    " - data['user_score'] -> изменим тип данных на вещественные, чтобы можно было призводить математические операции"
   ]
  },
  {
   "cell_type": "code",
   "execution_count": 44,
   "metadata": {},
   "outputs": [],
   "source": [
    "data['year_of_release']=data['year_of_release'].astype('int64')\n",
    "data['user_score']=data['user_score'].astype('float64')"
   ]
  },
  {
   "cell_type": "markdown",
   "metadata": {},
   "source": [
    "## Cчитаем суммарные продажи во всех регионах и записываем их в отдельный столбец."
   ]
  },
  {
   "cell_type": "code",
   "execution_count": 45,
   "metadata": {},
   "outputs": [],
   "source": [
    "data['all_sales']=data['na_sales']+data['eu_sales']+data['jp_sales']+data['other_sales']\n",
    "# Создаю столбец с суммарной продажей игры во всех регионах "
   ]
  },
  {
   "cell_type": "code",
   "execution_count": 46,
   "metadata": {},
   "outputs": [
    {
     "data": {
      "text/plain": [
       "0.02    1014\n",
       "0.03     794\n",
       "0.01     778\n",
       "0.04     646\n",
       "0.05     635\n",
       "        ... \n",
       "3.33       1\n",
       "4.71       1\n",
       "5.19       1\n",
       "5.00       1\n",
       "0.21       1\n",
       "Name: all_sales, Length: 1004, dtype: int64"
      ]
     },
     "execution_count": 46,
     "metadata": {},
     "output_type": "execute_result"
    }
   ],
   "source": [
    "data['all_sales'].value_counts()"
   ]
  },
  {
   "cell_type": "code",
   "execution_count": 47,
   "metadata": {},
   "outputs": [
    {
     "data": {
      "text/html": [
       "<div>\n",
       "<style scoped>\n",
       "    .dataframe tbody tr th:only-of-type {\n",
       "        vertical-align: middle;\n",
       "    }\n",
       "\n",
       "    .dataframe tbody tr th {\n",
       "        vertical-align: top;\n",
       "    }\n",
       "\n",
       "    .dataframe thead th {\n",
       "        text-align: right;\n",
       "    }\n",
       "</style>\n",
       "<table border=\"1\" class=\"dataframe\">\n",
       "  <thead>\n",
       "    <tr style=\"text-align: right;\">\n",
       "      <th></th>\n",
       "      <th>name</th>\n",
       "      <th>platform</th>\n",
       "      <th>year_of_release</th>\n",
       "      <th>genre</th>\n",
       "      <th>na_sales</th>\n",
       "      <th>eu_sales</th>\n",
       "      <th>jp_sales</th>\n",
       "      <th>other_sales</th>\n",
       "      <th>critic_score</th>\n",
       "      <th>user_score</th>\n",
       "      <th>rating</th>\n",
       "      <th>all_sales</th>\n",
       "    </tr>\n",
       "  </thead>\n",
       "  <tbody>\n",
       "    <tr>\n",
       "      <th>0</th>\n",
       "      <td>Wii Sports</td>\n",
       "      <td>Wii</td>\n",
       "      <td>2006</td>\n",
       "      <td>Sports</td>\n",
       "      <td>41.36</td>\n",
       "      <td>28.96</td>\n",
       "      <td>3.77</td>\n",
       "      <td>8.45</td>\n",
       "      <td>76.0</td>\n",
       "      <td>8.0</td>\n",
       "      <td>E</td>\n",
       "      <td>82.54</td>\n",
       "    </tr>\n",
       "    <tr>\n",
       "      <th>1</th>\n",
       "      <td>Super Mario Bros.</td>\n",
       "      <td>NES</td>\n",
       "      <td>1985</td>\n",
       "      <td>Platform</td>\n",
       "      <td>29.08</td>\n",
       "      <td>3.58</td>\n",
       "      <td>6.81</td>\n",
       "      <td>0.77</td>\n",
       "      <td>-1.0</td>\n",
       "      <td>-1.0</td>\n",
       "      <td>NaN</td>\n",
       "      <td>40.24</td>\n",
       "    </tr>\n",
       "    <tr>\n",
       "      <th>2</th>\n",
       "      <td>Mario Kart Wii</td>\n",
       "      <td>Wii</td>\n",
       "      <td>2008</td>\n",
       "      <td>Racing</td>\n",
       "      <td>15.68</td>\n",
       "      <td>12.76</td>\n",
       "      <td>3.79</td>\n",
       "      <td>3.29</td>\n",
       "      <td>82.0</td>\n",
       "      <td>8.3</td>\n",
       "      <td>E</td>\n",
       "      <td>35.52</td>\n",
       "    </tr>\n",
       "    <tr>\n",
       "      <th>3</th>\n",
       "      <td>Wii Sports Resort</td>\n",
       "      <td>Wii</td>\n",
       "      <td>2009</td>\n",
       "      <td>Sports</td>\n",
       "      <td>15.61</td>\n",
       "      <td>10.93</td>\n",
       "      <td>3.28</td>\n",
       "      <td>2.95</td>\n",
       "      <td>80.0</td>\n",
       "      <td>8.0</td>\n",
       "      <td>E</td>\n",
       "      <td>32.77</td>\n",
       "    </tr>\n",
       "    <tr>\n",
       "      <th>4</th>\n",
       "      <td>Pokemon Red/Pokemon Blue</td>\n",
       "      <td>GB</td>\n",
       "      <td>1996</td>\n",
       "      <td>Role-Playing</td>\n",
       "      <td>11.27</td>\n",
       "      <td>8.89</td>\n",
       "      <td>10.22</td>\n",
       "      <td>1.00</td>\n",
       "      <td>-1.0</td>\n",
       "      <td>-1.0</td>\n",
       "      <td>NaN</td>\n",
       "      <td>31.38</td>\n",
       "    </tr>\n",
       "  </tbody>\n",
       "</table>\n",
       "</div>"
      ],
      "text/plain": [
       "                       name platform  year_of_release         genre  na_sales  \\\n",
       "0                Wii Sports      Wii             2006        Sports     41.36   \n",
       "1         Super Mario Bros.      NES             1985      Platform     29.08   \n",
       "2            Mario Kart Wii      Wii             2008        Racing     15.68   \n",
       "3         Wii Sports Resort      Wii             2009        Sports     15.61   \n",
       "4  Pokemon Red/Pokemon Blue       GB             1996  Role-Playing     11.27   \n",
       "\n",
       "   eu_sales  jp_sales  other_sales  critic_score  user_score rating  all_sales  \n",
       "0     28.96      3.77         8.45          76.0         8.0      E      82.54  \n",
       "1      3.58      6.81         0.77          -1.0        -1.0    NaN      40.24  \n",
       "2     12.76      3.79         3.29          82.0         8.3      E      35.52  \n",
       "3     10.93      3.28         2.95          80.0         8.0      E      32.77  \n",
       "4      8.89     10.22         1.00          -1.0        -1.0    NaN      31.38  "
      ]
     },
     "execution_count": 47,
     "metadata": {},
     "output_type": "execute_result"
    }
   ],
   "source": [
    "data.head()"
   ]
  },
  {
   "cell_type": "code",
   "execution_count": 48,
   "metadata": {},
   "outputs": [
    {
     "name": "stdout",
     "output_type": "stream",
     "text": [
      "<class 'pandas.core.frame.DataFrame'>\n",
      "Int64Index: 16444 entries, 0 to 16714\n",
      "Data columns (total 12 columns):\n",
      " #   Column           Non-Null Count  Dtype  \n",
      "---  ------           --------------  -----  \n",
      " 0   name             16444 non-null  object \n",
      " 1   platform         16444 non-null  object \n",
      " 2   year_of_release  16444 non-null  int64  \n",
      " 3   genre            16444 non-null  object \n",
      " 4   na_sales         16444 non-null  float64\n",
      " 5   eu_sales         16444 non-null  float64\n",
      " 6   jp_sales         16444 non-null  float64\n",
      " 7   other_sales      16444 non-null  float64\n",
      " 8   critic_score     16444 non-null  float64\n",
      " 9   user_score       16444 non-null  float64\n",
      " 10  rating           16444 non-null  object \n",
      " 11  all_sales        16444 non-null  float64\n",
      "dtypes: float64(7), int64(1), object(4)\n",
      "memory usage: 1.6+ MB\n"
     ]
    }
   ],
   "source": [
    "data.info()"
   ]
  },
  {
   "cell_type": "markdown",
   "metadata": {},
   "source": [
    "## Вывод по результатам обработки данных:\n",
    "\n",
    "**Была проведена работа по обогащению и корректировке первоначальных данных**\n",
    "\n",
    "Данные проверены на дубликаты.\n",
    "\n",
    "Названия столбцов переведены в нижний регистр.\n",
    "\n",
    "Проведена работа по заполнению пропусков:\n",
    "\n",
    "    - столбцы name и genre с пропущенными данными- удалили.    \n",
    "    - пропуски по годам релиза - удалили записи, т.к их немного. \n",
    "    - пропуски по оценке критиков, по пользовательским рейтингам и рейтингам ESRB не заполнялись, чтобы не искажать данные.\n",
    "\n",
    "Были реобразованы типы данных в следующих столбцах:\n",
    " - data['year_of_release'] -> изменим тип данных на целые, в том числе для визуализации диаграмм.\n",
    " - data['user_score'] -> изменим тип данных на вещественные, чтобы можно было призводить математические операции\n",
    "\n",
    "Добавлен столбец с суммарными продажами по всем регионам.\n",
    "¶"
   ]
  },
  {
   "cell_type": "markdown",
   "metadata": {},
   "source": [
    "# Шаг 3. Исследовательский анализ данных"
   ]
  },
  {
   "cell_type": "markdown",
   "metadata": {},
   "source": [
    "## Рассмотрим сколько игр выпускалось в разные годы. Важны ли данные за все периоды."
   ]
  },
  {
   "cell_type": "code",
   "execution_count": 49,
   "metadata": {},
   "outputs": [
    {
     "data": {
      "text/plain": [
       "<AxesSubplot:title={'center':'Зависимость появления игр от года'}, xlabel='year_of_release'>"
      ]
     },
     "execution_count": 49,
     "metadata": {},
     "output_type": "execute_result"
    },
    {
     "data": {
      "image/png": "[encoded data removed]",
      "text/plain": [
       "<Figure size 720x432 with 1 Axes>"
      ]
     },
     "metadata": {
      "needs_background": "light"
     },
     "output_type": "display_data"
    }
   ],
   "source": [
    "data.groupby('year_of_release')['name'].count().plot(x=\"year_of_release\",style=\"-o\",figsize=(10,6),title='Зависимость появления игр от года')"
   ]
  },
  {
   "cell_type": "markdown",
   "metadata": {},
   "source": [
    "Гафик показывает наличие трех основных трендов в индустрии компьютерных игр:\n",
    "- до 1995 г. новых игр почти не создавалось. Это было, по-видимому, связано со слабым развитием рынка Игровых приставок.\n",
    "- начиная с  1995 г. до 2009 г. наблюдался резкий рост в отрасли. \n",
    "- однако затем произошел сопоставимый спад. В 2016 году количество выпускаемых игр зафиксировано на уровне 2001 года.\n",
    "\n",
    "Из этого можно сделать вывод о том, что данные за 1985-1995 г не важны. "
   ]
  },
  {
   "cell_type": "markdown",
   "metadata": {},
   "source": [
    "## Рассмотрим, как менялись продажи по платформам."
   ]
  },
  {
   "cell_type": "code",
   "execution_count": 50,
   "metadata": {},
   "outputs": [],
   "source": [
    "sales_platform=data.pivot_table(index='platform',values=['na_sales','eu_sales','jp_sales','other_sales'],aggfunc='sum')"
   ]
  },
  {
   "cell_type": "code",
   "execution_count": 51,
   "metadata": {},
   "outputs": [
    {
     "data": {
      "text/html": [
       "<div>\n",
       "<style scoped>\n",
       "    .dataframe tbody tr th:only-of-type {\n",
       "        vertical-align: middle;\n",
       "    }\n",
       "\n",
       "    .dataframe tbody tr th {\n",
       "        vertical-align: top;\n",
       "    }\n",
       "\n",
       "    .dataframe thead th {\n",
       "        text-align: right;\n",
       "    }\n",
       "</style>\n",
       "<table border=\"1\" class=\"dataframe\">\n",
       "  <thead>\n",
       "    <tr style=\"text-align: right;\">\n",
       "      <th></th>\n",
       "      <th>eu_sales</th>\n",
       "      <th>jp_sales</th>\n",
       "      <th>na_sales</th>\n",
       "      <th>other_sales</th>\n",
       "      <th>all_sales</th>\n",
       "    </tr>\n",
       "    <tr>\n",
       "      <th>platform</th>\n",
       "      <th></th>\n",
       "      <th></th>\n",
       "      <th></th>\n",
       "      <th></th>\n",
       "      <th></th>\n",
       "    </tr>\n",
       "  </thead>\n",
       "  <tbody>\n",
       "    <tr>\n",
       "      <th>PS2</th>\n",
       "      <td>332.63</td>\n",
       "      <td>137.54</td>\n",
       "      <td>572.92</td>\n",
       "      <td>190.47</td>\n",
       "      <td>1233.56</td>\n",
       "    </tr>\n",
       "    <tr>\n",
       "      <th>X360</th>\n",
       "      <td>268.32</td>\n",
       "      <td>12.30</td>\n",
       "      <td>595.74</td>\n",
       "      <td>84.88</td>\n",
       "      <td>961.24</td>\n",
       "    </tr>\n",
       "    <tr>\n",
       "      <th>PS3</th>\n",
       "      <td>327.21</td>\n",
       "      <td>79.41</td>\n",
       "      <td>390.13</td>\n",
       "      <td>134.59</td>\n",
       "      <td>931.34</td>\n",
       "    </tr>\n",
       "    <tr>\n",
       "      <th>Wii</th>\n",
       "      <td>258.32</td>\n",
       "      <td>68.28</td>\n",
       "      <td>486.87</td>\n",
       "      <td>77.71</td>\n",
       "      <td>891.18</td>\n",
       "    </tr>\n",
       "    <tr>\n",
       "      <th>DS</th>\n",
       "      <td>188.41</td>\n",
       "      <td>175.02</td>\n",
       "      <td>380.31</td>\n",
       "      <td>59.04</td>\n",
       "      <td>802.78</td>\n",
       "    </tr>\n",
       "    <tr>\n",
       "      <th>PS</th>\n",
       "      <td>212.39</td>\n",
       "      <td>139.78</td>\n",
       "      <td>334.72</td>\n",
       "      <td>40.69</td>\n",
       "      <td>727.58</td>\n",
       "    </tr>\n",
       "    <tr>\n",
       "      <th>PS4</th>\n",
       "      <td>141.09</td>\n",
       "      <td>15.96</td>\n",
       "      <td>108.74</td>\n",
       "      <td>48.35</td>\n",
       "      <td>314.14</td>\n",
       "    </tr>\n",
       "    <tr>\n",
       "      <th>GBA</th>\n",
       "      <td>74.59</td>\n",
       "      <td>46.56</td>\n",
       "      <td>184.12</td>\n",
       "      <td>7.61</td>\n",
       "      <td>312.88</td>\n",
       "    </tr>\n",
       "    <tr>\n",
       "      <th>PSP</th>\n",
       "      <td>65.62</td>\n",
       "      <td>75.88</td>\n",
       "      <td>107.27</td>\n",
       "      <td>40.76</td>\n",
       "      <td>289.53</td>\n",
       "    </tr>\n",
       "    <tr>\n",
       "      <th>3DS</th>\n",
       "      <td>61.27</td>\n",
       "      <td>100.62</td>\n",
       "      <td>82.65</td>\n",
       "      <td>13.27</td>\n",
       "      <td>257.81</td>\n",
       "    </tr>\n",
       "  </tbody>\n",
       "</table>\n",
       "</div>"
      ],
      "text/plain": [
       "          eu_sales  jp_sales  na_sales  other_sales  all_sales\n",
       "platform                                                      \n",
       "PS2         332.63    137.54    572.92       190.47    1233.56\n",
       "X360        268.32     12.30    595.74        84.88     961.24\n",
       "PS3         327.21     79.41    390.13       134.59     931.34\n",
       "Wii         258.32     68.28    486.87        77.71     891.18\n",
       "DS          188.41    175.02    380.31        59.04     802.78\n",
       "PS          212.39    139.78    334.72        40.69     727.58\n",
       "PS4         141.09     15.96    108.74        48.35     314.14\n",
       "GBA          74.59     46.56    184.12         7.61     312.88\n",
       "PSP          65.62     75.88    107.27        40.76     289.53\n",
       "3DS          61.27    100.62     82.65        13.27     257.81"
      ]
     },
     "execution_count": 51,
     "metadata": {},
     "output_type": "execute_result"
    }
   ],
   "source": [
    "sales_platform['all_sales'] = sales_platform['na_sales']+sales_platform['eu_sales']+sales_platform['jp_sales']+sales_platform['other_sales']\n",
    "sales_platform = sales_platform.sort_values(by='all_sales', ascending=False)\n",
    "sales_platform.head(10)\n",
    "#иначе не строился график"
   ]
  },
  {
   "cell_type": "code",
   "execution_count": 52,
   "metadata": {
    "scrolled": false
   },
   "outputs": [
    {
     "data": {
      "text/plain": [
       "<AxesSubplot:title={'center':'Выручка каждой платформы'}, xlabel='platform'>"
      ]
     },
     "execution_count": 52,
     "metadata": {},
     "output_type": "execute_result"
    },
    {
     "data": {
      "image/png": "[encoded data removed]",
      "text/plain": [
       "<Figure size 1008x432 with 1 Axes>"
      ]
     },
     "metadata": {
      "needs_background": "light"
     },
     "output_type": "display_data"
    }
   ],
   "source": [
    "sales_platform.plot(kind='bar',figsize=(14,6), title='Выручка каждой платформы')"
   ]
  },
  {
   "cell_type": "markdown",
   "metadata": {},
   "source": [
    "Самые большие продажи  у платформ PS2, X360 и PS3."
   ]
  },
  {
   "cell_type": "markdown",
   "metadata": {},
   "source": [
    "## За какой характерный срок появляются новые и исчезают старые платформы"
   ]
  },
  {
   "cell_type": "code",
   "execution_count": 53,
   "metadata": {},
   "outputs": [],
   "source": [
    "sales_plat_year=data.pivot_table(index=\"platform\",columns='year_of_release',values='all_sales',aggfunc='sum')#сводная таблица платформ по годам. "
   ]
  },
  {
   "cell_type": "code",
   "execution_count": 54,
   "metadata": {},
   "outputs": [
    {
     "data": {
      "text/plain": [
       "<AxesSubplot:xlabel='year_of_release', ylabel='platform'>"
      ]
     },
     "execution_count": 54,
     "metadata": {},
     "output_type": "execute_result"
    },
    {
     "data": {
      "image/png": "[encoded data removed]",
      "text/plain": [
       "<Figure size 576x504 with 2 Axes>"
      ]
     },
     "metadata": {
      "needs_background": "light"
     },
     "output_type": "display_data"
    }
   ],
   "source": [
    "plt.figure(figsize=(8,7))\n",
    "sns.heatmap(sales_plat_year)"
   ]
  },
  {
   "cell_type": "markdown",
   "metadata": {},
   "source": [
    "Построена тепловая карта продаж всех приставок по годам. На графике хорошо видно платформы одного производителя, а также их ротацию. Например Sony с платформами: ps, ps2, ps3, ps4. "
   ]
  },
  {
   "cell_type": "markdown",
   "metadata": {},
   "source": [
    "### Определим, какие платформы лидируют по продажам, растут или падают. "
   ]
  },
  {
   "cell_type": "code",
   "execution_count": 55,
   "metadata": {},
   "outputs": [],
   "source": [
    "list_top_platform=['PS2','X360','PS3','Wii','DS','PS'] # Список top платформ "
   ]
  },
  {
   "cell_type": "code",
   "execution_count": 56,
   "metadata": {},
   "outputs": [],
   "source": [
    "top_platform = sales_plat_year.query('platform in @list_top_platform')"
   ]
  },
  {
   "cell_type": "code",
   "execution_count": 57,
   "metadata": {},
   "outputs": [
    {
     "data": {
      "text/plain": [
       "<AxesSubplot:xlabel='year_of_release', ylabel='platform'>"
      ]
     },
     "execution_count": 57,
     "metadata": {},
     "output_type": "execute_result"
    },
    {
     "data": {
      "image/png": "[encoded data removed]",
      "text/plain": [
       "<Figure size 576x504 with 2 Axes>"
      ]
     },
     "metadata": {
      "needs_background": "light"
     },
     "output_type": "display_data"
    }
   ],
   "source": [
    "plt.figure(figsize=(8,7))\n",
    "sns.heatmap(top_platform)"
   ]
  },
  {
   "cell_type": "markdown",
   "metadata": {},
   "source": [
    "Из графика видно, что платформа в среднем живет 8-10 лет. Пик продаж приходит в среднем через 4-6 лет, т.е. в самой середине срока жизни. Компания PS начинает релиз новой платформы примерно в это время, когда начинается спад у предыдущей версии."
   ]
  },
  {
   "cell_type": "markdown",
   "metadata": {},
   "source": [
    "### Анализ игр на 2017 год"
   ]
  },
  {
   "cell_type": "code",
   "execution_count": 58,
   "metadata": {},
   "outputs": [],
   "source": [
    "actual_data=data.query('year_of_release>=2014') #Для оценки 2017 года берем выборку с 2014 года"
   ]
  },
  {
   "cell_type": "code",
   "execution_count": 109,
   "metadata": {},
   "outputs": [
    {
     "data": {
      "text/plain": [
       "<AxesSubplot:title={'center':'Продажи по платформам с 2016 года'}, xlabel='platform'>"
      ]
     },
     "execution_count": 109,
     "metadata": {},
     "output_type": "execute_result"
    },
    {
     "data": {
      "image/png": "[encoded data removed]",
      "text/plain": [
       "<Figure size 720x288 with 1 Axes>"
      ]
     },
     "metadata": {
      "needs_background": "light"
     },
     "output_type": "display_data"
    }
   ],
   "source": [
    "actual_data.groupby('platform')['all_sales'].sum().sort_values(ascending=False).plot(figsize=(10,4),kind=\"bar\",title='Продажи по платформам с 2016 года')"
   ]
  },
  {
   "cell_type": "code",
   "execution_count": 60,
   "metadata": {},
   "outputs": [],
   "source": [
    "list_act_platform=['3DS','PS3','PS4','X360','XOne'] # Список активных платформ"
   ]
  },
  {
   "cell_type": "code",
   "execution_count": 61,
   "metadata": {},
   "outputs": [],
   "source": [
    "top_act_platform=sales_plat_year.query('platform in @list_act_platform') # срез по акривным платформам\n",
    "#top_act_platform"
   ]
  },
  {
   "cell_type": "code",
   "execution_count": 62,
   "metadata": {},
   "outputs": [
    {
     "data": {
      "text/plain": [
       "<AxesSubplot:xlabel='year_of_release', ylabel='platform'>"
      ]
     },
     "execution_count": 62,
     "metadata": {},
     "output_type": "execute_result"
    },
    {
     "data": {
      "image/png": "[encoded data removed]",
      "text/plain": [
       "<Figure size 576x360 with 2 Axes>"
      ]
     },
     "metadata": {
      "needs_background": "light"
     },
     "output_type": "display_data"
    }
   ],
   "source": [
    "plt.figure(figsize=(8,5))\n",
    "sns.heatmap(top_act_platform)"
   ]
  },
  {
   "cell_type": "markdown",
   "metadata": {},
   "source": [
    "Актуальной платформой можно назвать PS4. Она только недавно вышла на рынок. Сейчас, спустя десятилетие, можно уже говорить, что это однин из самых успешных проектов, который работает до сих пор."
   ]
  },
  {
   "cell_type": "markdown",
   "metadata": {},
   "source": [
    "### Построим график «ящик с усами» по глобальным продажам игр в разбивке по платформам."
   ]
  },
  {
   "cell_type": "code",
   "execution_count": 63,
   "metadata": {},
   "outputs": [],
   "source": [
    "actual_data=data.query('platform in @list_act_platform and year_of_release>=2014')\n",
    "#Дата сет с активными платформами и актуальным периодом"
   ]
  },
  {
   "cell_type": "code",
   "execution_count": 64,
   "metadata": {},
   "outputs": [
    {
     "data": {
      "text/html": [
       "<div>\n",
       "<style scoped>\n",
       "    .dataframe tbody tr th:only-of-type {\n",
       "        vertical-align: middle;\n",
       "    }\n",
       "\n",
       "    .dataframe tbody tr th {\n",
       "        vertical-align: top;\n",
       "    }\n",
       "\n",
       "    .dataframe thead th {\n",
       "        text-align: right;\n",
       "    }\n",
       "</style>\n",
       "<table border=\"1\" class=\"dataframe\">\n",
       "  <thead>\n",
       "    <tr style=\"text-align: right;\">\n",
       "      <th></th>\n",
       "      <th>name</th>\n",
       "      <th>platform</th>\n",
       "      <th>year_of_release</th>\n",
       "      <th>genre</th>\n",
       "      <th>na_sales</th>\n",
       "      <th>eu_sales</th>\n",
       "      <th>jp_sales</th>\n",
       "      <th>other_sales</th>\n",
       "      <th>critic_score</th>\n",
       "      <th>user_score</th>\n",
       "      <th>rating</th>\n",
       "      <th>all_sales</th>\n",
       "    </tr>\n",
       "  </thead>\n",
       "  <tbody>\n",
       "    <tr>\n",
       "      <th>31</th>\n",
       "      <td>Call of Duty: Black Ops 3</td>\n",
       "      <td>PS4</td>\n",
       "      <td>2015</td>\n",
       "      <td>Shooter</td>\n",
       "      <td>6.03</td>\n",
       "      <td>5.86</td>\n",
       "      <td>0.36</td>\n",
       "      <td>2.38</td>\n",
       "      <td>-1.0</td>\n",
       "      <td>-1.0</td>\n",
       "      <td>NaN</td>\n",
       "      <td>14.63</td>\n",
       "    </tr>\n",
       "    <tr>\n",
       "      <th>42</th>\n",
       "      <td>Grand Theft Auto V</td>\n",
       "      <td>PS4</td>\n",
       "      <td>2014</td>\n",
       "      <td>Action</td>\n",
       "      <td>3.96</td>\n",
       "      <td>6.31</td>\n",
       "      <td>0.38</td>\n",
       "      <td>1.97</td>\n",
       "      <td>97.0</td>\n",
       "      <td>8.3</td>\n",
       "      <td>M</td>\n",
       "      <td>12.62</td>\n",
       "    </tr>\n",
       "    <tr>\n",
       "      <th>47</th>\n",
       "      <td>Pokemon Omega Ruby/Pokemon Alpha Sapphire</td>\n",
       "      <td>3DS</td>\n",
       "      <td>2014</td>\n",
       "      <td>Role-Playing</td>\n",
       "      <td>4.35</td>\n",
       "      <td>3.49</td>\n",
       "      <td>3.10</td>\n",
       "      <td>0.74</td>\n",
       "      <td>-1.0</td>\n",
       "      <td>-1.0</td>\n",
       "      <td>NaN</td>\n",
       "      <td>11.68</td>\n",
       "    </tr>\n",
       "    <tr>\n",
       "      <th>77</th>\n",
       "      <td>FIFA 16</td>\n",
       "      <td>PS4</td>\n",
       "      <td>2015</td>\n",
       "      <td>Sports</td>\n",
       "      <td>1.12</td>\n",
       "      <td>6.12</td>\n",
       "      <td>0.06</td>\n",
       "      <td>1.28</td>\n",
       "      <td>82.0</td>\n",
       "      <td>4.3</td>\n",
       "      <td>E</td>\n",
       "      <td>8.58</td>\n",
       "    </tr>\n",
       "    <tr>\n",
       "      <th>87</th>\n",
       "      <td>Star Wars Battlefront (2015)</td>\n",
       "      <td>PS4</td>\n",
       "      <td>2015</td>\n",
       "      <td>Shooter</td>\n",
       "      <td>2.99</td>\n",
       "      <td>3.49</td>\n",
       "      <td>0.22</td>\n",
       "      <td>1.28</td>\n",
       "      <td>-1.0</td>\n",
       "      <td>-1.0</td>\n",
       "      <td>NaN</td>\n",
       "      <td>7.98</td>\n",
       "    </tr>\n",
       "  </tbody>\n",
       "</table>\n",
       "</div>"
      ],
      "text/plain": [
       "                                         name platform  year_of_release  \\\n",
       "31                  Call of Duty: Black Ops 3      PS4             2015   \n",
       "42                         Grand Theft Auto V      PS4             2014   \n",
       "47  Pokemon Omega Ruby/Pokemon Alpha Sapphire      3DS             2014   \n",
       "77                                    FIFA 16      PS4             2015   \n",
       "87               Star Wars Battlefront (2015)      PS4             2015   \n",
       "\n",
       "           genre  na_sales  eu_sales  jp_sales  other_sales  critic_score  \\\n",
       "31       Shooter      6.03      5.86      0.36         2.38          -1.0   \n",
       "42        Action      3.96      6.31      0.38         1.97          97.0   \n",
       "47  Role-Playing      4.35      3.49      3.10         0.74          -1.0   \n",
       "77        Sports      1.12      6.12      0.06         1.28          82.0   \n",
       "87       Shooter      2.99      3.49      0.22         1.28          -1.0   \n",
       "\n",
       "    user_score rating  all_sales  \n",
       "31        -1.0    NaN      14.63  \n",
       "42         8.3      M      12.62  \n",
       "47        -1.0    NaN      11.68  \n",
       "77         4.3      E       8.58  \n",
       "87        -1.0    NaN       7.98  "
      ]
     },
     "execution_count": 64,
     "metadata": {},
     "output_type": "execute_result"
    }
   ],
   "source": [
    "actual_data.head()"
   ]
  },
  {
   "cell_type": "code",
   "execution_count": 65,
   "metadata": {},
   "outputs": [
    {
     "name": "stdout",
     "output_type": "stream",
     "text": [
      "<class 'pandas.core.frame.DataFrame'>\n",
      "Int64Index: 1146 entries, 31 to 16710\n",
      "Data columns (total 12 columns):\n",
      " #   Column           Non-Null Count  Dtype  \n",
      "---  ------           --------------  -----  \n",
      " 0   name             1146 non-null   object \n",
      " 1   platform         1146 non-null   object \n",
      " 2   year_of_release  1146 non-null   int64  \n",
      " 3   genre            1146 non-null   object \n",
      " 4   na_sales         1146 non-null   float64\n",
      " 5   eu_sales         1146 non-null   float64\n",
      " 6   jp_sales         1146 non-null   float64\n",
      " 7   other_sales      1146 non-null   float64\n",
      " 8   critic_score     1146 non-null   float64\n",
      " 9   user_score       1146 non-null   float64\n",
      " 10  rating           1146 non-null   object \n",
      " 11  all_sales        1146 non-null   float64\n",
      "dtypes: float64(7), int64(1), object(4)\n",
      "memory usage: 116.4+ KB\n"
     ]
    }
   ],
   "source": [
    "actual_data.info()"
   ]
  },
  {
   "cell_type": "code",
   "execution_count": 66,
   "metadata": {},
   "outputs": [
    {
     "data": {
      "text/plain": [
       "<AxesSubplot:xlabel='platform', ylabel='all_sales'>"
      ]
     },
     "execution_count": 66,
     "metadata": {},
     "output_type": "execute_result"
    },
    {
     "data": {
      "image/png": "[encoded data removed]",
      "text/plain": [
       "<Figure size 1152x432 with 1 Axes>"
      ]
     },
     "metadata": {
      "needs_background": "light"
     },
     "output_type": "display_data"
    }
   ],
   "source": [
    "plt.figure(figsize=(16,6))\n",
    "plt.ylim(0,3)\n",
    "sns.boxplot(x='platform',y='all_sales', data=data)"
   ]
  },
  {
   "cell_type": "code",
   "execution_count": 67,
   "metadata": {},
   "outputs": [
    {
     "data": {
      "text/plain": [
       "<AxesSubplot:xlabel='platform', ylabel='all_sales'>"
      ]
     },
     "execution_count": 67,
     "metadata": {},
     "output_type": "execute_result"
    },
    {
     "data": {
      "image/png": "[encoded data removed]",
      "text/plain": [
       "<Figure size 1152x432 with 1 Axes>"
      ]
     },
     "metadata": {
      "needs_background": "light"
     },
     "output_type": "display_data"
    }
   ],
   "source": [
    "plt.figure(figsize=(16,6))\n",
    "plt.ylim(0,3)\n",
    "sns.boxplot(x='platform',y='all_sales', data=actual_data)"
   ]
  },
  {
   "cell_type": "markdown",
   "metadata": {},
   "source": [
    "Анализируя графики можно увидеть, что медиана продаж у платформ PS4 и Xone почти одинакова. При этом, медианы всех платформ сильно отличаются от средних в меньшую сторону."
   ]
  },
  {
   "cell_type": "markdown",
   "metadata": {},
   "source": [
    "### Влияние на продажи внутри одной популярной платформы отзывов пользователей и критиков. "
   ]
  },
  {
   "cell_type": "code",
   "execution_count": 68,
   "metadata": {},
   "outputs": [
    {
     "data": {
      "text/plain": [
       "<AxesSubplot:title={'center':'Зависимости продаж платформы  PS3 от отзывов пользователей'}, xlabel='user_score', ylabel='all_sales'>"
      ]
     },
     "execution_count": 68,
     "metadata": {},
     "output_type": "execute_result"
    },
    {
     "data": {
      "image/png": "[encoded data removed]",
      "text/plain": [
       "<Figure size 720x288 with 1 Axes>"
      ]
     },
     "metadata": {
      "needs_background": "light"
     },
     "output_type": "display_data"
    }
   ],
   "source": [
    "actual_data.query('platform==\"PS3\" and all_sales<=1.7 and user_score >= 0').sort_values(by='user_score',ascending=True).plot(kind='scatter',x='user_score',y='all_sales',figsize=(10,4),   title='Зависимости продаж платформы  PS3 от отзывов пользователей')"
   ]
  },
  {
   "cell_type": "code",
   "execution_count": 69,
   "metadata": {},
   "outputs": [
    {
     "data": {
      "text/plain": [
       "<AxesSubplot:title={'center':'Зависимость продаж платформы  PS3 от отзывов критиков'}, xlabel='critic_score', ylabel='all_sales'>"
      ]
     },
     "execution_count": 69,
     "metadata": {},
     "output_type": "execute_result"
    },
    {
     "data": {
      "image/png": "[encoded data removed]",
      "text/plain": [
       "<Figure size 720x288 with 1 Axes>"
      ]
     },
     "metadata": {
      "needs_background": "light"
     },
     "output_type": "display_data"
    }
   ],
   "source": [
    "actual_data.query('platform==\"PS3\" and all_sales<=1.7 and critic_score>=0').sort_values(by='critic_score',ascending=True).plot(kind='scatter',x='critic_score',y='all_sales',figsize=(10,4), title='Зависимость продаж платформы  PS3 от отзывов критиков')"
   ]
  },
  {
   "cell_type": "code",
   "execution_count": 70,
   "metadata": {},
   "outputs": [
    {
     "data": {
      "text/plain": [
       "0.12948449561848802"
      ]
     },
     "execution_count": 70,
     "metadata": {},
     "output_type": "execute_result"
    }
   ],
   "source": [
    "actual_data['all_sales'].corr(actual_data['user_score'])"
   ]
  },
  {
   "cell_type": "code",
   "execution_count": 71,
   "metadata": {},
   "outputs": [
    {
     "data": {
      "text/plain": [
       "0.20815301341843223"
      ]
     },
     "execution_count": 71,
     "metadata": {},
     "output_type": "execute_result"
    }
   ],
   "source": [
    "actual_data['all_sales'].corr(actual_data['critic_score'])"
   ]
  },
  {
   "cell_type": "markdown",
   "metadata": {},
   "source": [
    "Из графиков видно, что есть положительная зависимость между оценкой критиков и пользователей, но не такая большая."
   ]
  },
  {
   "cell_type": "markdown",
   "metadata": {},
   "source": [
    "По данным корреляции можно сделать вывод, что зависимость между продажами и отзывами критиков есть, но ниже средней. Корреляция положительная. Чем лучше отзыв критика, тем выше продажи. \n",
    "Отзывы пользователей не так сильно вляют на продажи. Корреляция слабая."
   ]
  },
  {
   "cell_type": "markdown",
   "metadata": {},
   "source": [
    "### Соотнесите выводы с продажами игр на других платформах."
   ]
  },
  {
   "cell_type": "code",
   "execution_count": 72,
   "metadata": {},
   "outputs": [],
   "source": [
    "list_dr_platform=['3DS','PS2','PS4','X360','XOne'] # Список других платформ, с которыми будем сравнивать"
   ]
  },
  {
   "cell_type": "code",
   "execution_count": 73,
   "metadata": {},
   "outputs": [],
   "source": [
    "actual_data=data.query('platform in @list_dr_platform and year_of_release>=2014')"
   ]
  },
  {
   "cell_type": "code",
   "execution_count": 74,
   "metadata": {},
   "outputs": [
    {
     "data": {
      "text/plain": [
       "<AxesSubplot:title={'center':'Зависимости продаж платформ от отзывов пользователей'}, xlabel='user_score', ylabel='all_sales'>"
      ]
     },
     "execution_count": 74,
     "metadata": {},
     "output_type": "execute_result"
    },
    {
     "data": {
      "image/png": "[encoded data removed]",
      "text/plain": [
       "<Figure size 720x288 with 1 Axes>"
      ]
     },
     "metadata": {
      "needs_background": "light"
     },
     "output_type": "display_data"
    }
   ],
   "source": [
    "sales_user = actual_data.query('all_sales<=1.7 and user_score >= 0')\n",
    "sales_user.sort_values(by='user_score',ascending=True).plot(kind='scatter',x='user_score',y='all_sales',figsize=(10,4), title='Зависимости продаж платформ от отзывов пользователей')"
   ]
  },
  {
   "cell_type": "code",
   "execution_count": 75,
   "metadata": {},
   "outputs": [
    {
     "data": {
      "text/plain": [
       "0.02360313488776539"
      ]
     },
     "execution_count": 75,
     "metadata": {},
     "output_type": "execute_result"
    }
   ],
   "source": [
    "sales_user['all_sales'].corr(sales_user['user_score'])"
   ]
  },
  {
   "cell_type": "markdown",
   "metadata": {},
   "source": []
  },
  {
   "cell_type": "code",
   "execution_count": 76,
   "metadata": {},
   "outputs": [
    {
     "data": {
      "text/plain": [
       "<AxesSubplot:title={'center':'Зависимость продаж платформ от отзывов критиков'}, xlabel='critic_score', ylabel='all_sales'>"
      ]
     },
     "execution_count": 76,
     "metadata": {},
     "output_type": "execute_result"
    },
    {
     "data": {
      "image/png": "[encoded data removed]",
      "text/plain": [
       "<Figure size 720x288 with 1 Axes>"
      ]
     },
     "metadata": {
      "needs_background": "light"
     },
     "output_type": "display_data"
    }
   ],
   "source": [
    "sales_critic = actual_data.query('all_sales<=1.7 and critic_score>=0')\n",
    "sales_critic.sort_values(by='critic_score',ascending=True).plot(kind='scatter',x='critic_score',y='all_sales',figsize=(10,4), title='Зависимость продаж платформ от отзывов критиков')"
   ]
  },
  {
   "cell_type": "code",
   "execution_count": 77,
   "metadata": {},
   "outputs": [
    {
     "data": {
      "text/plain": [
       "0.3775179421516911"
      ]
     },
     "execution_count": 77,
     "metadata": {},
     "output_type": "execute_result"
    }
   ],
   "source": [
    "sales_critic['all_sales'].corr(sales_critic['critic_score'])"
   ]
  },
  {
   "cell_type": "markdown",
   "metadata": {},
   "source": [
    "Очень схожая ситуация с платформой PS3. Зависимость между продажами и отзывами критиков положительная и относительно сильная. \n",
    "Отзывы пользователей практически не вляют на продажи, корреляция близка к нулю."
   ]
  },
  {
   "cell_type": "markdown",
   "metadata": {},
   "source": []
  },
  {
   "cell_type": "markdown",
   "metadata": {},
   "source": [
    "## Распределение игр по жанрам"
   ]
  },
  {
   "cell_type": "code",
   "execution_count": 78,
   "metadata": {},
   "outputs": [],
   "source": [
    "actual_data=data.query('year_of_release>=2014') "
   ]
  },
  {
   "cell_type": "code",
   "execution_count": 79,
   "metadata": {},
   "outputs": [],
   "source": [
    "count_genre=actual_data.groupby('genre')['all_sales'].count().sort_values(ascending=False)"
   ]
  },
  {
   "cell_type": "code",
   "execution_count": 80,
   "metadata": {},
   "outputs": [
    {
     "data": {
      "text/plain": [
       "<AxesSubplot:title={'center':'Количество продаж по жанрам'}, xlabel='genre'>"
      ]
     },
     "execution_count": 80,
     "metadata": {},
     "output_type": "execute_result"
    },
    {
     "data": {
      "image/png": "[encoded data removed]",
      "text/plain": [
       "<Figure size 720x432 with 1 Axes>"
      ]
     },
     "metadata": {
      "needs_background": "light"
     },
     "output_type": "display_data"
    }
   ],
   "source": [
    "count_genre.plot(y='genre',grid=True,figsize=(10,6),kind='bar',title='Количество продаж по жанрам')"
   ]
  },
  {
   "cell_type": "markdown",
   "metadata": {},
   "source": [
    "По количеству, больше всего покупают игры в жанре Action и Sport, а меньше всего игры в жанре puzzle, strategy."
   ]
  },
  {
   "cell_type": "code",
   "execution_count": 81,
   "metadata": {},
   "outputs": [
    {
     "data": {
      "text/plain": [
       "genre\n",
       "Shooter         0.515\n",
       "Sports          0.180\n",
       "Platform        0.140\n",
       "Fighting        0.125\n",
       "Role-Playing    0.110\n",
       "Simulation      0.100\n",
       "Action          0.090\n",
       "Misc            0.090\n",
       "Racing          0.090\n",
       "Strategy        0.060\n",
       "Puzzle          0.045\n",
       "Adventure       0.030\n",
       "Name: all_sales, dtype: float64"
      ]
     },
     "execution_count": 81,
     "metadata": {},
     "output_type": "execute_result"
    }
   ],
   "source": [
    "median_sale_genre=actual_data.groupby('genre')['all_sales'].median().sort_values(ascending=False)\n",
    "median_sale_genre"
   ]
  },
  {
   "cell_type": "code",
   "execution_count": 82,
   "metadata": {},
   "outputs": [
    {
     "data": {
      "text/plain": [
       "<AxesSubplot:title={'center':'Медианные продажи по жанрам'}, xlabel='genre'>"
      ]
     },
     "execution_count": 82,
     "metadata": {},
     "output_type": "execute_result"
    },
    {
     "data": {
      "image/png": "[encoded data removed]",
      "text/plain": [
       "<Figure size 720x432 with 1 Axes>"
      ]
     },
     "metadata": {
      "needs_background": "light"
     },
     "output_type": "display_data"
    }
   ],
   "source": [
    "median_sale_genre.plot(y='genre',grid=True,figsize=(10,6),kind='bar',alpha=0.7,title='Медианные продажи по жанрам')"
   ]
  },
  {
   "cell_type": "markdown",
   "metadata": {},
   "source": [
    "По выручке от продаж, самым высоким является сегмент shooter и sport. Меньше всего выручки у жанра Adventure."
   ]
  },
  {
   "cell_type": "markdown",
   "metadata": {},
   "source": [
    "# Шаг 4. Портрет пользователя каждого региона"
   ]
  },
  {
   "cell_type": "markdown",
   "metadata": {},
   "source": [
    "## Самые популярные платформы (топ-5)."
   ]
  },
  {
   "cell_type": "code",
   "execution_count": 83,
   "metadata": {},
   "outputs": [
    {
     "data": {
      "text/html": [
       "<div>\n",
       "<style scoped>\n",
       "    .dataframe tbody tr th:only-of-type {\n",
       "        vertical-align: middle;\n",
       "    }\n",
       "\n",
       "    .dataframe tbody tr th {\n",
       "        vertical-align: top;\n",
       "    }\n",
       "\n",
       "    .dataframe thead th {\n",
       "        text-align: right;\n",
       "    }\n",
       "</style>\n",
       "<table border=\"1\" class=\"dataframe\">\n",
       "  <thead>\n",
       "    <tr style=\"text-align: right;\">\n",
       "      <th></th>\n",
       "      <th>all_sales</th>\n",
       "      <th>na_sales</th>\n",
       "    </tr>\n",
       "    <tr>\n",
       "      <th>platform</th>\n",
       "      <th></th>\n",
       "      <th></th>\n",
       "    </tr>\n",
       "  </thead>\n",
       "  <tbody>\n",
       "    <tr>\n",
       "      <th>PS4</th>\n",
       "      <td>288.15</td>\n",
       "      <td>98.61</td>\n",
       "    </tr>\n",
       "    <tr>\n",
       "      <th>XOne</th>\n",
       "      <td>140.36</td>\n",
       "      <td>81.27</td>\n",
       "    </tr>\n",
       "    <tr>\n",
       "      <th>X360</th>\n",
       "      <td>48.22</td>\n",
       "      <td>28.30</td>\n",
       "    </tr>\n",
       "    <tr>\n",
       "      <th>3DS</th>\n",
       "      <td>86.68</td>\n",
       "      <td>22.64</td>\n",
       "    </tr>\n",
       "    <tr>\n",
       "      <th>PS3</th>\n",
       "      <td>68.18</td>\n",
       "      <td>22.05</td>\n",
       "    </tr>\n",
       "  </tbody>\n",
       "</table>\n",
       "</div>"
      ],
      "text/plain": [
       "          all_sales  na_sales\n",
       "platform                     \n",
       "PS4          288.15     98.61\n",
       "XOne         140.36     81.27\n",
       "X360          48.22     28.30\n",
       "3DS           86.68     22.64\n",
       "PS3           68.18     22.05"
      ]
     },
     "execution_count": 83,
     "metadata": {},
     "output_type": "execute_result"
    }
   ],
   "source": [
    "na_sales_platform = actual_data.pivot_table(index='platform',values=['na_sales','all_sales'],aggfunc=('sum')).sort_values(by='na_sales',ascending=False).head(5)\n",
    "na_sales_platform"
   ]
  },
  {
   "cell_type": "markdown",
   "metadata": {},
   "source": [
    "Самая популярная платформа в Северной Америке- PS4, затем XOne."
   ]
  },
  {
   "cell_type": "code",
   "execution_count": 84,
   "metadata": {},
   "outputs": [
    {
     "data": {
      "text/html": [
       "<div>\n",
       "<style scoped>\n",
       "    .dataframe tbody tr th:only-of-type {\n",
       "        vertical-align: middle;\n",
       "    }\n",
       "\n",
       "    .dataframe tbody tr th {\n",
       "        vertical-align: top;\n",
       "    }\n",
       "\n",
       "    .dataframe thead th {\n",
       "        text-align: right;\n",
       "    }\n",
       "</style>\n",
       "<table border=\"1\" class=\"dataframe\">\n",
       "  <thead>\n",
       "    <tr style=\"text-align: right;\">\n",
       "      <th></th>\n",
       "      <th>all_sales</th>\n",
       "      <th>eu_sales</th>\n",
       "    </tr>\n",
       "    <tr>\n",
       "      <th>platform</th>\n",
       "      <th></th>\n",
       "      <th></th>\n",
       "    </tr>\n",
       "  </thead>\n",
       "  <tbody>\n",
       "    <tr>\n",
       "      <th>PS4</th>\n",
       "      <td>288.15</td>\n",
       "      <td>130.04</td>\n",
       "    </tr>\n",
       "    <tr>\n",
       "      <th>XOne</th>\n",
       "      <td>140.36</td>\n",
       "      <td>46.25</td>\n",
       "    </tr>\n",
       "    <tr>\n",
       "      <th>PS3</th>\n",
       "      <td>68.18</td>\n",
       "      <td>25.54</td>\n",
       "    </tr>\n",
       "    <tr>\n",
       "      <th>PC</th>\n",
       "      <td>27.05</td>\n",
       "      <td>17.97</td>\n",
       "    </tr>\n",
       "    <tr>\n",
       "      <th>3DS</th>\n",
       "      <td>86.68</td>\n",
       "      <td>16.12</td>\n",
       "    </tr>\n",
       "  </tbody>\n",
       "</table>\n",
       "</div>"
      ],
      "text/plain": [
       "          all_sales  eu_sales\n",
       "platform                     \n",
       "PS4          288.15    130.04\n",
       "XOne         140.36     46.25\n",
       "PS3           68.18     25.54\n",
       "PC            27.05     17.97\n",
       "3DS           86.68     16.12"
      ]
     },
     "execution_count": 84,
     "metadata": {},
     "output_type": "execute_result"
    }
   ],
   "source": [
    "eu_sales_platform = actual_data.pivot_table(index='platform',values=['eu_sales','all_sales'],aggfunc=('sum')).sort_values(by='eu_sales',ascending=False).head(5)\n",
    "eu_sales_platform"
   ]
  },
  {
   "cell_type": "markdown",
   "metadata": {},
   "source": [
    "Самая популярная платформа в Европе тоже PS4, затем XOne."
   ]
  },
  {
   "cell_type": "code",
   "execution_count": 85,
   "metadata": {},
   "outputs": [
    {
     "data": {
      "text/html": [
       "<div>\n",
       "<style scoped>\n",
       "    .dataframe tbody tr th:only-of-type {\n",
       "        vertical-align: middle;\n",
       "    }\n",
       "\n",
       "    .dataframe tbody tr th {\n",
       "        vertical-align: top;\n",
       "    }\n",
       "\n",
       "    .dataframe thead th {\n",
       "        text-align: right;\n",
       "    }\n",
       "</style>\n",
       "<table border=\"1\" class=\"dataframe\">\n",
       "  <thead>\n",
       "    <tr style=\"text-align: right;\">\n",
       "      <th></th>\n",
       "      <th>all_sales</th>\n",
       "      <th>jp_sales</th>\n",
       "    </tr>\n",
       "    <tr>\n",
       "      <th>platform</th>\n",
       "      <th></th>\n",
       "      <th></th>\n",
       "    </tr>\n",
       "  </thead>\n",
       "  <tbody>\n",
       "    <tr>\n",
       "      <th>3DS</th>\n",
       "      <td>86.68</td>\n",
       "      <td>44.24</td>\n",
       "    </tr>\n",
       "    <tr>\n",
       "      <th>PS4</th>\n",
       "      <td>288.15</td>\n",
       "      <td>15.02</td>\n",
       "    </tr>\n",
       "    <tr>\n",
       "      <th>PSV</th>\n",
       "      <td>22.40</td>\n",
       "      <td>14.54</td>\n",
       "    </tr>\n",
       "    <tr>\n",
       "      <th>PS3</th>\n",
       "      <td>68.18</td>\n",
       "      <td>11.22</td>\n",
       "    </tr>\n",
       "    <tr>\n",
       "      <th>WiiU</th>\n",
       "      <td>42.98</td>\n",
       "      <td>7.31</td>\n",
       "    </tr>\n",
       "  </tbody>\n",
       "</table>\n",
       "</div>"
      ],
      "text/plain": [
       "          all_sales  jp_sales\n",
       "platform                     \n",
       "3DS           86.68     44.24\n",
       "PS4          288.15     15.02\n",
       "PSV           22.40     14.54\n",
       "PS3           68.18     11.22\n",
       "WiiU          42.98      7.31"
      ]
     },
     "execution_count": 85,
     "metadata": {},
     "output_type": "execute_result"
    }
   ],
   "source": [
    "jp_sales_platform = actual_data.pivot_table(index='platform',values=['jp_sales','all_sales'],aggfunc=('sum')).sort_values(by='jp_sales',ascending=False).head(5)\n",
    "jp_sales_platform"
   ]
  },
  {
   "cell_type": "markdown",
   "metadata": {},
   "source": [
    "Самая популярная платформа в Японии 3DS, затем PS4."
   ]
  },
  {
   "cell_type": "markdown",
   "metadata": {},
   "source": [
    "## Самые популярные жанры (топ-5)."
   ]
  },
  {
   "cell_type": "code",
   "execution_count": 86,
   "metadata": {},
   "outputs": [
    {
     "data": {
      "text/html": [
       "<div>\n",
       "<style scoped>\n",
       "    .dataframe tbody tr th:only-of-type {\n",
       "        vertical-align: middle;\n",
       "    }\n",
       "\n",
       "    .dataframe tbody tr th {\n",
       "        vertical-align: top;\n",
       "    }\n",
       "\n",
       "    .dataframe thead th {\n",
       "        text-align: right;\n",
       "    }\n",
       "</style>\n",
       "<table border=\"1\" class=\"dataframe\">\n",
       "  <thead>\n",
       "    <tr style=\"text-align: right;\">\n",
       "      <th></th>\n",
       "      <th>all_sales</th>\n",
       "      <th>na_sales</th>\n",
       "    </tr>\n",
       "    <tr>\n",
       "      <th>genre</th>\n",
       "      <th></th>\n",
       "      <th></th>\n",
       "    </tr>\n",
       "  </thead>\n",
       "  <tbody>\n",
       "    <tr>\n",
       "      <th>Shooter</th>\n",
       "      <td>170.94</td>\n",
       "      <td>79.02</td>\n",
       "    </tr>\n",
       "    <tr>\n",
       "      <th>Action</th>\n",
       "      <td>199.36</td>\n",
       "      <td>72.53</td>\n",
       "    </tr>\n",
       "    <tr>\n",
       "      <th>Sports</th>\n",
       "      <td>109.48</td>\n",
       "      <td>46.13</td>\n",
       "    </tr>\n",
       "    <tr>\n",
       "      <th>Role-Playing</th>\n",
       "      <td>101.44</td>\n",
       "      <td>33.47</td>\n",
       "    </tr>\n",
       "    <tr>\n",
       "      <th>Misc</th>\n",
       "      <td>37.55</td>\n",
       "      <td>15.05</td>\n",
       "    </tr>\n",
       "  </tbody>\n",
       "</table>\n",
       "</div>"
      ],
      "text/plain": [
       "              all_sales  na_sales\n",
       "genre                            \n",
       "Shooter          170.94     79.02\n",
       "Action           199.36     72.53\n",
       "Sports           109.48     46.13\n",
       "Role-Playing     101.44     33.47\n",
       "Misc              37.55     15.05"
      ]
     },
     "execution_count": 86,
     "metadata": {},
     "output_type": "execute_result"
    }
   ],
   "source": [
    "na_sales_genre = actual_data.pivot_table(index='genre',values=['na_sales','all_sales'],aggfunc=('sum')).sort_values(by='na_sales',ascending=False).head(5)\n",
    "na_sales_genre"
   ]
  },
  {
   "cell_type": "markdown",
   "metadata": {},
   "source": [
    "Самый популярный жанр в Северной Америке - это Shooter, затем идут Action и Sport."
   ]
  },
  {
   "cell_type": "code",
   "execution_count": 87,
   "metadata": {},
   "outputs": [
    {
     "data": {
      "text/html": [
       "<div>\n",
       "<style scoped>\n",
       "    .dataframe tbody tr th:only-of-type {\n",
       "        vertical-align: middle;\n",
       "    }\n",
       "\n",
       "    .dataframe tbody tr th {\n",
       "        vertical-align: top;\n",
       "    }\n",
       "\n",
       "    .dataframe thead th {\n",
       "        text-align: right;\n",
       "    }\n",
       "</style>\n",
       "<table border=\"1\" class=\"dataframe\">\n",
       "  <thead>\n",
       "    <tr style=\"text-align: right;\">\n",
       "      <th></th>\n",
       "      <th>all_sales</th>\n",
       "      <th>eu_sales</th>\n",
       "    </tr>\n",
       "    <tr>\n",
       "      <th>genre</th>\n",
       "      <th></th>\n",
       "      <th></th>\n",
       "    </tr>\n",
       "  </thead>\n",
       "  <tbody>\n",
       "    <tr>\n",
       "      <th>Action</th>\n",
       "      <td>199.36</td>\n",
       "      <td>74.68</td>\n",
       "    </tr>\n",
       "    <tr>\n",
       "      <th>Shooter</th>\n",
       "      <td>170.94</td>\n",
       "      <td>65.52</td>\n",
       "    </tr>\n",
       "    <tr>\n",
       "      <th>Sports</th>\n",
       "      <td>109.48</td>\n",
       "      <td>45.73</td>\n",
       "    </tr>\n",
       "    <tr>\n",
       "      <th>Role-Playing</th>\n",
       "      <td>101.44</td>\n",
       "      <td>28.17</td>\n",
       "    </tr>\n",
       "    <tr>\n",
       "      <th>Racing</th>\n",
       "      <td>27.52</td>\n",
       "      <td>14.13</td>\n",
       "    </tr>\n",
       "  </tbody>\n",
       "</table>\n",
       "</div>"
      ],
      "text/plain": [
       "              all_sales  eu_sales\n",
       "genre                            \n",
       "Action           199.36     74.68\n",
       "Shooter          170.94     65.52\n",
       "Sports           109.48     45.73\n",
       "Role-Playing     101.44     28.17\n",
       "Racing            27.52     14.13"
      ]
     },
     "execution_count": 87,
     "metadata": {},
     "output_type": "execute_result"
    }
   ],
   "source": [
    "eu_sales_genre = actual_data.pivot_table(index='genre',values=['eu_sales','all_sales'],aggfunc=('sum')).sort_values(by='eu_sales',ascending=False).head(5)\n",
    "eu_sales_genre"
   ]
  },
  {
   "cell_type": "markdown",
   "metadata": {},
   "source": [
    "В Европе самые популярные жанры такие же, как и в Северной Америке."
   ]
  },
  {
   "cell_type": "code",
   "execution_count": 88,
   "metadata": {},
   "outputs": [
    {
     "data": {
      "text/html": [
       "<div>\n",
       "<style scoped>\n",
       "    .dataframe tbody tr th:only-of-type {\n",
       "        vertical-align: middle;\n",
       "    }\n",
       "\n",
       "    .dataframe tbody tr th {\n",
       "        vertical-align: top;\n",
       "    }\n",
       "\n",
       "    .dataframe thead th {\n",
       "        text-align: right;\n",
       "    }\n",
       "</style>\n",
       "<table border=\"1\" class=\"dataframe\">\n",
       "  <thead>\n",
       "    <tr style=\"text-align: right;\">\n",
       "      <th></th>\n",
       "      <th>all_sales</th>\n",
       "      <th>jp_sales</th>\n",
       "    </tr>\n",
       "    <tr>\n",
       "      <th>genre</th>\n",
       "      <th></th>\n",
       "      <th></th>\n",
       "    </tr>\n",
       "  </thead>\n",
       "  <tbody>\n",
       "    <tr>\n",
       "      <th>Role-Playing</th>\n",
       "      <td>101.44</td>\n",
       "      <td>31.16</td>\n",
       "    </tr>\n",
       "    <tr>\n",
       "      <th>Action</th>\n",
       "      <td>199.36</td>\n",
       "      <td>29.58</td>\n",
       "    </tr>\n",
       "    <tr>\n",
       "      <th>Fighting</th>\n",
       "      <td>28.22</td>\n",
       "      <td>6.37</td>\n",
       "    </tr>\n",
       "    <tr>\n",
       "      <th>Misc</th>\n",
       "      <td>37.55</td>\n",
       "      <td>5.61</td>\n",
       "    </tr>\n",
       "    <tr>\n",
       "      <th>Shooter</th>\n",
       "      <td>170.94</td>\n",
       "      <td>4.87</td>\n",
       "    </tr>\n",
       "  </tbody>\n",
       "</table>\n",
       "</div>"
      ],
      "text/plain": [
       "              all_sales  jp_sales\n",
       "genre                            \n",
       "Role-Playing     101.44     31.16\n",
       "Action           199.36     29.58\n",
       "Fighting          28.22      6.37\n",
       "Misc              37.55      5.61\n",
       "Shooter          170.94      4.87"
      ]
     },
     "execution_count": 88,
     "metadata": {},
     "output_type": "execute_result"
    }
   ],
   "source": [
    "jp_sales_genre = actual_data.pivot_table(index='genre',values=['jp_sales','all_sales'],aggfunc=('sum')).sort_values(by='jp_sales',ascending=False).head(5)\n",
    "jp_sales_genre"
   ]
  },
  {
   "cell_type": "markdown",
   "metadata": {},
   "source": [
    "В Японии ситуация другая. На первом месте Role-Playing. Потом Action и Fighting."
   ]
  },
  {
   "cell_type": "markdown",
   "metadata": {},
   "source": [
    "## Влияет ли рейтинг ESRB на продажи в отдельном регионе"
   ]
  },
  {
   "cell_type": "code",
   "execution_count": 89,
   "metadata": {},
   "outputs": [
    {
     "data": {
      "text/html": [
       "<div>\n",
       "<style scoped>\n",
       "    .dataframe tbody tr th:only-of-type {\n",
       "        vertical-align: middle;\n",
       "    }\n",
       "\n",
       "    .dataframe tbody tr th {\n",
       "        vertical-align: top;\n",
       "    }\n",
       "\n",
       "    .dataframe thead th {\n",
       "        text-align: right;\n",
       "    }\n",
       "</style>\n",
       "<table border=\"1\" class=\"dataframe\">\n",
       "  <thead>\n",
       "    <tr style=\"text-align: right;\">\n",
       "      <th></th>\n",
       "      <th>na_sales</th>\n",
       "    </tr>\n",
       "    <tr>\n",
       "      <th>rating</th>\n",
       "      <th></th>\n",
       "    </tr>\n",
       "  </thead>\n",
       "  <tbody>\n",
       "    <tr>\n",
       "      <th>M</th>\n",
       "      <td>96.42</td>\n",
       "    </tr>\n",
       "    <tr>\n",
       "      <th>NaN</th>\n",
       "      <td>64.72</td>\n",
       "    </tr>\n",
       "    <tr>\n",
       "      <th>E</th>\n",
       "      <td>50.74</td>\n",
       "    </tr>\n",
       "    <tr>\n",
       "      <th>T</th>\n",
       "      <td>38.95</td>\n",
       "    </tr>\n",
       "    <tr>\n",
       "      <th>E10+</th>\n",
       "      <td>33.23</td>\n",
       "    </tr>\n",
       "  </tbody>\n",
       "</table>\n",
       "</div>"
      ],
      "text/plain": [
       "        na_sales\n",
       "rating          \n",
       "M          96.42\n",
       "NaN        64.72\n",
       "E          50.74\n",
       "T          38.95\n",
       "E10+       33.23"
      ]
     },
     "execution_count": 89,
     "metadata": {},
     "output_type": "execute_result"
    }
   ],
   "source": [
    "na_sales_ESRB=actual_data.pivot_table(index='rating',values=['na_sales'],aggfunc=('sum')).sort_values(by='na_sales',ascending=False)\n",
    "na_sales_ESRB"
   ]
  },
  {
   "cell_type": "code",
   "execution_count": 90,
   "metadata": {},
   "outputs": [
    {
     "data": {
      "text/html": [
       "<div>\n",
       "<style scoped>\n",
       "    .dataframe tbody tr th:only-of-type {\n",
       "        vertical-align: middle;\n",
       "    }\n",
       "\n",
       "    .dataframe tbody tr th {\n",
       "        vertical-align: top;\n",
       "    }\n",
       "\n",
       "    .dataframe thead th {\n",
       "        text-align: right;\n",
       "    }\n",
       "</style>\n",
       "<table border=\"1\" class=\"dataframe\">\n",
       "  <thead>\n",
       "    <tr style=\"text-align: right;\">\n",
       "      <th></th>\n",
       "      <th>eu_sales</th>\n",
       "    </tr>\n",
       "    <tr>\n",
       "      <th>rating</th>\n",
       "      <th></th>\n",
       "    </tr>\n",
       "  </thead>\n",
       "  <tbody>\n",
       "    <tr>\n",
       "      <th>M</th>\n",
       "      <td>93.44</td>\n",
       "    </tr>\n",
       "    <tr>\n",
       "      <th>NaN</th>\n",
       "      <td>58.95</td>\n",
       "    </tr>\n",
       "    <tr>\n",
       "      <th>E</th>\n",
       "      <td>58.06</td>\n",
       "    </tr>\n",
       "    <tr>\n",
       "      <th>T</th>\n",
       "      <td>34.07</td>\n",
       "    </tr>\n",
       "    <tr>\n",
       "      <th>E10+</th>\n",
       "      <td>26.16</td>\n",
       "    </tr>\n",
       "  </tbody>\n",
       "</table>\n",
       "</div>"
      ],
      "text/plain": [
       "        eu_sales\n",
       "rating          \n",
       "M          93.44\n",
       "NaN        58.95\n",
       "E          58.06\n",
       "T          34.07\n",
       "E10+       26.16"
      ]
     },
     "execution_count": 90,
     "metadata": {},
     "output_type": "execute_result"
    }
   ],
   "source": [
    "eu_sales_ESRB=actual_data.pivot_table(index='rating',values=['eu_sales'],aggfunc=('sum')).sort_values(by='eu_sales',ascending=False)\n",
    "eu_sales_ESRB"
   ]
  },
  {
   "cell_type": "code",
   "execution_count": 91,
   "metadata": {},
   "outputs": [
    {
     "data": {
      "text/html": [
       "<div>\n",
       "<style scoped>\n",
       "    .dataframe tbody tr th:only-of-type {\n",
       "        vertical-align: middle;\n",
       "    }\n",
       "\n",
       "    .dataframe tbody tr th {\n",
       "        vertical-align: top;\n",
       "    }\n",
       "\n",
       "    .dataframe thead th {\n",
       "        text-align: right;\n",
       "    }\n",
       "</style>\n",
       "<table border=\"1\" class=\"dataframe\">\n",
       "  <thead>\n",
       "    <tr style=\"text-align: right;\">\n",
       "      <th></th>\n",
       "      <th>jp_sales</th>\n",
       "    </tr>\n",
       "    <tr>\n",
       "      <th>rating</th>\n",
       "      <th></th>\n",
       "    </tr>\n",
       "  </thead>\n",
       "  <tbody>\n",
       "    <tr>\n",
       "      <th>NaN</th>\n",
       "      <td>56.90</td>\n",
       "    </tr>\n",
       "    <tr>\n",
       "      <th>T</th>\n",
       "      <td>14.78</td>\n",
       "    </tr>\n",
       "    <tr>\n",
       "      <th>E</th>\n",
       "      <td>8.94</td>\n",
       "    </tr>\n",
       "    <tr>\n",
       "      <th>M</th>\n",
       "      <td>8.01</td>\n",
       "    </tr>\n",
       "    <tr>\n",
       "      <th>E10+</th>\n",
       "      <td>4.46</td>\n",
       "    </tr>\n",
       "  </tbody>\n",
       "</table>\n",
       "</div>"
      ],
      "text/plain": [
       "        jp_sales\n",
       "rating          \n",
       "NaN        56.90\n",
       "T          14.78\n",
       "E           8.94\n",
       "M           8.01\n",
       "E10+        4.46"
      ]
     },
     "execution_count": 91,
     "metadata": {},
     "output_type": "execute_result"
    }
   ],
   "source": [
    "jp_sales_ESRB=actual_data.pivot_table(index='rating',values=['jp_sales'],aggfunc=('sum')).sort_values(by='jp_sales',ascending=False)\n",
    "jp_sales_ESRB"
   ]
  },
  {
   "cell_type": "markdown",
   "metadata": {},
   "source": [
    "Самые популярные возрастные ограничения в Америке и  Европе- M, без рейтинга и E, в Японии - без рейтинга и T. Из этого можно сделать вывод, что возрастное ограничение влияет на продажи, особенно в Америке и  Европе."
   ]
  },
  {
   "cell_type": "markdown",
   "metadata": {},
   "source": [
    "# Шаг 5. Проверка гипотезы"
   ]
  },
  {
   "cell_type": "markdown",
   "metadata": {},
   "source": [
    "## Средние пользовательские рейтинги платформ Xbox One и PC одинаковые"
   ]
  },
  {
   "cell_type": "markdown",
   "metadata": {},
   "source": [
    "Нулевая гипотеза: cредний пользовательский рейтинг платформы XOne и PC равны.\n",
    "Альтернативная гипотеза: cредний пользовательский рейтинг платформы XOne и PC не равны."
   ]
  },
  {
   "cell_type": "code",
   "execution_count": 92,
   "metadata": {},
   "outputs": [],
   "source": [
    "actual_data=data.query('year_of_release>=2014 and user_score>=0') "
   ]
  },
  {
   "cell_type": "code",
   "execution_count": 93,
   "metadata": {},
   "outputs": [],
   "source": [
    "XOne_data = actual_data.query('platform==\"XOne\"')\n",
    "XOne_data = XOne_data['user_score'] "
   ]
  },
  {
   "cell_type": "code",
   "execution_count": 94,
   "metadata": {},
   "outputs": [
    {
     "data": {
      "text/plain": [
       "count    165.000000\n",
       "mean       6.594545\n",
       "std        1.375139\n",
       "min        1.600000\n",
       "25%        5.800000\n",
       "50%        6.800000\n",
       "75%        7.600000\n",
       "max        9.200000\n",
       "Name: user_score, dtype: float64"
      ]
     },
     "execution_count": 94,
     "metadata": {},
     "output_type": "execute_result"
    }
   ],
   "source": [
    "XOne_data.describe()"
   ]
  },
  {
   "cell_type": "code",
   "execution_count": 95,
   "metadata": {},
   "outputs": [],
   "source": [
    "PC_data = actual_data.query('platform==\"PC\"')\n",
    "PC_data = PC_data['user_score'] "
   ]
  },
  {
   "cell_type": "code",
   "execution_count": 96,
   "metadata": {},
   "outputs": [
    {
     "data": {
      "text/plain": [
       "count    122.000000\n",
       "mean       6.298361\n",
       "std        1.703278\n",
       "min        1.400000\n",
       "25%        5.325000\n",
       "50%        6.800000\n",
       "75%        7.600000\n",
       "max        9.300000\n",
       "Name: user_score, dtype: float64"
      ]
     },
     "execution_count": 96,
     "metadata": {},
     "output_type": "execute_result"
    }
   ],
   "source": [
    "PC_data.describe()"
   ]
  },
  {
   "cell_type": "markdown",
   "metadata": {},
   "source": [
    "Проверим статистическую гипотизу.\n",
    "\n",
    " - Н0: cредний пользовательский рейтинг платформы XOne и PC равны.\n",
    " - H1: средние рейтинги по платформы разные\n",
    "Статистическая значимость alpha=5%"
   ]
  },
  {
   "cell_type": "code",
   "execution_count": 97,
   "metadata": {},
   "outputs": [],
   "source": [
    "alpha=0.05"
   ]
  },
  {
   "cell_type": "code",
   "execution_count": 98,
   "metadata": {},
   "outputs": [],
   "source": [
    "result1 = st.ttest_ind(XOne_data, PC_data) "
   ]
  },
  {
   "cell_type": "code",
   "execution_count": 99,
   "metadata": {},
   "outputs": [
    {
     "name": "stdout",
     "output_type": "stream",
     "text": [
      "Значение p-value: 0.10450507919348415\n"
     ]
    }
   ],
   "source": [
    "print('Значение p-value:', result1.pvalue)"
   ]
  },
  {
   "cell_type": "code",
   "execution_count": 100,
   "metadata": {},
   "outputs": [
    {
     "name": "stdout",
     "output_type": "stream",
     "text": [
      "Не получилось отвергнуть нулевую гипотезу\n"
     ]
    }
   ],
   "source": [
    "if result1.pvalue < alpha:\n",
    "    print('Отвергаем нулевую гипотезу')\n",
    "else:\n",
    "    print(\"Не получилось отвергнуть нулевую гипотезу\")"
   ]
  },
  {
   "cell_type": "markdown",
   "metadata": {},
   "source": [
    "Нулевая гипотеза не отвергнута. Средние значения двух генеральных выборок пользовательских рейтингов платформы XOne и PC равны."
   ]
  },
  {
   "cell_type": "markdown",
   "metadata": {},
   "source": [
    "## Средние пользовательские рейтинги жанров Action (англ. «действие», экшен-игры) и Sports (англ. «спортивные соревнования») разные."
   ]
  },
  {
   "cell_type": "code",
   "execution_count": 101,
   "metadata": {},
   "outputs": [],
   "source": [
    "action_data = actual_data.query('genre==\"Action\"')\n",
    "action_data = action_data['user_score'] "
   ]
  },
  {
   "cell_type": "code",
   "execution_count": 102,
   "metadata": {},
   "outputs": [
    {
     "data": {
      "text/plain": [
       "count    297.000000\n",
       "mean       6.760606\n",
       "std        1.377852\n",
       "min        2.000000\n",
       "25%        6.100000\n",
       "50%        7.100000\n",
       "75%        7.700000\n",
       "max        9.000000\n",
       "Name: user_score, dtype: float64"
      ]
     },
     "execution_count": 102,
     "metadata": {},
     "output_type": "execute_result"
    }
   ],
   "source": [
    "action_data.describe()"
   ]
  },
  {
   "cell_type": "code",
   "execution_count": 103,
   "metadata": {},
   "outputs": [],
   "source": [
    "sport_data = actual_data.query('genre==\"Sports\"')\n",
    "sport_data = sport_data['user_score']"
   ]
  },
  {
   "cell_type": "code",
   "execution_count": 104,
   "metadata": {},
   "outputs": [
    {
     "data": {
      "text/plain": [
       "count    127.000000\n",
       "mean       5.225197\n",
       "std        1.856604\n",
       "min        0.200000\n",
       "25%        4.000000\n",
       "50%        5.500000\n",
       "75%        6.650000\n",
       "max        8.800000\n",
       "Name: user_score, dtype: float64"
      ]
     },
     "execution_count": 104,
     "metadata": {},
     "output_type": "execute_result"
    }
   ],
   "source": [
    "sport_data.describe()"
   ]
  },
  {
   "cell_type": "markdown",
   "metadata": {},
   "source": [
    "**Проверяем статистическую гипотизу**\n",
    "\n",
    " - H0: средние рейтинги по жанрам одинаковые\n",
    " - H1: средние рейтинги по жанрам разные\n",
    " - Статистическая значимость alpha=5%"
   ]
  },
  {
   "cell_type": "code",
   "execution_count": 105,
   "metadata": {},
   "outputs": [],
   "source": [
    "alpha=0.05 "
   ]
  },
  {
   "cell_type": "code",
   "execution_count": 106,
   "metadata": {},
   "outputs": [],
   "source": [
    "results2 = st.ttest_ind(action_data, sport_data)"
   ]
  },
  {
   "cell_type": "code",
   "execution_count": 107,
   "metadata": {},
   "outputs": [
    {
     "name": "stdout",
     "output_type": "stream",
     "text": [
      "Значение p-value: 2.8711147985105864e-19\n"
     ]
    }
   ],
   "source": [
    "print('Значение p-value:', results2.pvalue)"
   ]
  },
  {
   "cell_type": "code",
   "execution_count": 108,
   "metadata": {},
   "outputs": [
    {
     "name": "stdout",
     "output_type": "stream",
     "text": [
      "Отвергаем нулевую гипотезу\n"
     ]
    }
   ],
   "source": [
    "if results2.pvalue < alpha:\n",
    "    print('Отвергаем нулевую гипотезу')\n",
    "else:\n",
    "    print(\"Не получилось отвергнуть нулевую гипотезу\")"
   ]
  },
  {
   "cell_type": "markdown",
   "metadata": {},
   "source": [
    "Вывод:\n",
    "\n",
    " В первом случае:\n",
    "    Результат говорит о том, что нулевая гипотеза не отвергается.\n",
    "    p-значение: 0.10450507919348415\n",
    "\n",
    " Во второй гипотезе:\n",
    "    Результат говорит о том, что нулевая гипотеза о равенстве средних отвергается.\n",
    "    p-значение:  2.8711147985105864e-19\n",
    "\n",
    " Значение статистической значимости в обоих случаях- 5%. "
   ]
  },
  {
   "cell_type": "markdown",
   "metadata": {},
   "source": [
    "# Шаг 6. Общий вывод"
   ]
  },
  {
   "cell_type": "markdown",
   "metadata": {},
   "source": [
    "**Результат обработки данных**\n",
    "\n",
    " - Была проведена работа по обогащению и корректировке первоначальных данных.\n",
    " - Данные проверены на дубликаты.\n",
    " - Названия столбцов переведены в нижний регистр.\n",
    " - Проведена работа по заполнению пропусков:\n",
    "    - столбцы name и genre с пропущенными данными- удалили.    \n",
    "    - пропуски по годам релиза - удалили записи, т.к их немного. \n",
    "    - пропуски по оценке критиков, по пользовательским рейтингам и рейтингам ESRB не заполнялись, чтобы не искажать данные.\n",
    " - Были реобразованы типы данных в следующих столбцах:\n",
    "    - data['year_of_release'] -> изменим тип данных на целые, в том числе для визуализации диаграмм.\n",
    "    - data['user_score'] -> изменим тип данных на вещественные, чтобы можно было призводить математические операции\n",
    " - Добавлен столбец с суммарными продажами по всем регионам.\n",
    "\n",
    "**Исследовательский анализ данных**\n",
    "\n",
    "Основные выводы:\n",
    "\n",
    " - Платформа в среднем живет 8-10 лет. Пик продаж приходит в среднем через 4-6 лет, т.е. в самой середине срока жизни. Компания PS начинает релиз новой платформы примерно в это время, когда начинается спад у предыдущей версии.\n",
    "\n",
    " - Актуальной платформой можно назвать PS4. Она только недавно вышла на рынок. Сейчас можно уже говорить, что это однин из мамых успешных проектов, который работает до сих пор.\n",
    "\n",
    " - По количеству, больше всего покупают игры в жанре Action, а меньше всего игры в жанре puzzle, strategy.\n",
    " - По выручке от продаж, самым высоким является сегмент shooter и sport. Меньше всего выручки у жанра Adventure.\n",
    "\n",
    " - Самыми популярными платформами в Северной Америке И Европе являются - PS4, затем XOne, в Японии - 3DS.\n",
    " - Самые популярные жанры игр в Америке и Еврове совпадают - это Action, Shooter и Sport.\n",
    "\n",
    "**Проверка статистичесих гипотез**\n",
    "\n",
    " - Средние пользовательские рейтинги платформ Xbox One и PC одинаковые - подтверждено;\n",
    " - Средние пользовательские рейтинги жанров Action и Sports разные - подтверждено.\n",
    "\n",
    "¶"
   ]
  }
 ],
 "metadata": {
  "ExecuteTimeLog": [
   {
    "duration": 1325,
    "start_time": "2023-01-16T07:37:09.253Z"
   },
   {
    "duration": 94,
    "start_time": "2023-01-16T07:37:15.878Z"
   },
   {
    "duration": 18,
    "start_time": "2023-01-16T07:37:19.872Z"
   },
   {
    "duration": 14,
    "start_time": "2023-01-16T07:37:45.472Z"
   },
   {
    "duration": 18,
    "start_time": "2023-01-16T07:39:07.864Z"
   },
   {
    "duration": 3,
    "start_time": "2023-01-16T07:47:20.014Z"
   },
   {
    "duration": 4,
    "start_time": "2023-01-16T07:47:40.034Z"
   },
   {
    "duration": 5,
    "start_time": "2023-01-16T08:06:44.479Z"
   },
   {
    "duration": 14,
    "start_time": "2023-01-16T08:07:09.271Z"
   },
   {
    "duration": 101,
    "start_time": "2023-01-16T08:09:48.813Z"
   },
   {
    "duration": 14,
    "start_time": "2023-01-16T08:11:22.724Z"
   },
   {
    "duration": 180,
    "start_time": "2023-01-16T17:20:17.642Z"
   },
   {
    "duration": 1415,
    "start_time": "2023-01-16T17:41:13.894Z"
   },
   {
    "duration": 96,
    "start_time": "2023-01-16T17:41:15.312Z"
   },
   {
    "duration": 22,
    "start_time": "2023-01-16T17:41:15.409Z"
   },
   {
    "duration": 16,
    "start_time": "2023-01-16T17:41:15.432Z"
   },
   {
    "duration": 3,
    "start_time": "2023-01-16T17:41:15.451Z"
   },
   {
    "duration": 12,
    "start_time": "2023-01-16T17:41:15.456Z"
   },
   {
    "duration": 13,
    "start_time": "2023-01-16T17:41:15.469Z"
   },
   {
    "duration": 24,
    "start_time": "2023-01-16T17:41:15.484Z"
   },
   {
    "duration": 1413,
    "start_time": "2023-01-16T17:41:15.510Z"
   },
   {
    "duration": 0,
    "start_time": "2023-01-16T17:41:16.924Z"
   },
   {
    "duration": 6,
    "start_time": "2023-01-16T17:41:58.915Z"
   },
   {
    "duration": 5,
    "start_time": "2023-01-16T17:43:44.933Z"
   },
   {
    "duration": 16,
    "start_time": "2023-01-16T17:43:47.574Z"
   },
   {
    "duration": 9,
    "start_time": "2023-01-16T17:47:18.854Z"
   },
   {
    "duration": 6,
    "start_time": "2023-01-16T17:48:20.449Z"
   },
   {
    "duration": 7,
    "start_time": "2023-01-16T17:48:23.415Z"
   },
   {
    "duration": 6,
    "start_time": "2023-01-16T17:53:49.509Z"
   },
   {
    "duration": 25,
    "start_time": "2023-01-16T17:53:52.636Z"
   },
   {
    "duration": 24,
    "start_time": "2023-01-16T17:55:20.692Z"
   },
   {
    "duration": 5,
    "start_time": "2023-01-16T18:09:22.783Z"
   },
   {
    "duration": 6,
    "start_time": "2023-01-16T18:09:24.612Z"
   },
   {
    "duration": 8,
    "start_time": "2023-01-16T18:10:15.646Z"
   },
   {
    "duration": 4,
    "start_time": "2023-01-16T18:10:29.468Z"
   },
   {
    "duration": 4,
    "start_time": "2023-01-16T18:10:33.191Z"
   },
   {
    "duration": 5,
    "start_time": "2023-01-16T18:10:35.921Z"
   },
   {
    "duration": 7,
    "start_time": "2023-01-16T18:11:02.455Z"
   },
   {
    "duration": 1107,
    "start_time": "2023-01-16T18:12:25.806Z"
   },
   {
    "duration": 7,
    "start_time": "2023-01-16T18:13:46.181Z"
   },
   {
    "duration": 38,
    "start_time": "2023-01-16T18:21:49.000Z"
   },
   {
    "duration": 6,
    "start_time": "2023-01-16T18:27:54.012Z"
   },
   {
    "duration": 3,
    "start_time": "2023-01-16T18:36:12.851Z"
   },
   {
    "duration": 52,
    "start_time": "2023-01-16T18:36:12.865Z"
   },
   {
    "duration": 16,
    "start_time": "2023-01-16T18:36:12.919Z"
   },
   {
    "duration": 38,
    "start_time": "2023-01-16T18:36:12.936Z"
   },
   {
    "duration": 8,
    "start_time": "2023-01-16T18:36:12.976Z"
   },
   {
    "duration": 14,
    "start_time": "2023-01-16T18:36:12.986Z"
   },
   {
    "duration": 25,
    "start_time": "2023-01-16T18:36:13.002Z"
   },
   {
    "duration": 27,
    "start_time": "2023-01-16T18:36:13.029Z"
   },
   {
    "duration": 22,
    "start_time": "2023-01-16T18:36:13.058Z"
   },
   {
    "duration": 26,
    "start_time": "2023-01-16T18:36:13.082Z"
   },
   {
    "duration": 21,
    "start_time": "2023-01-16T18:36:13.111Z"
   },
   {
    "duration": 21,
    "start_time": "2023-01-16T18:36:13.134Z"
   },
   {
    "duration": 16,
    "start_time": "2023-01-16T18:36:13.157Z"
   },
   {
    "duration": 20,
    "start_time": "2023-01-16T18:36:13.175Z"
   },
   {
    "duration": 27,
    "start_time": "2023-01-16T18:36:13.196Z"
   },
   {
    "duration": 6,
    "start_time": "2023-01-16T18:36:13.225Z"
   },
   {
    "duration": 18,
    "start_time": "2023-01-16T18:36:13.232Z"
   },
   {
    "duration": 14,
    "start_time": "2023-01-16T18:36:13.251Z"
   },
   {
    "duration": 13,
    "start_time": "2023-01-16T18:36:13.267Z"
   },
   {
    "duration": 17,
    "start_time": "2023-01-16T18:36:13.282Z"
   },
   {
    "duration": 30,
    "start_time": "2023-01-16T18:36:13.301Z"
   },
   {
    "duration": 18,
    "start_time": "2023-01-16T18:36:13.333Z"
   },
   {
    "duration": 25,
    "start_time": "2023-01-16T18:36:13.353Z"
   },
   {
    "duration": 10,
    "start_time": "2023-01-16T18:36:13.380Z"
   },
   {
    "duration": 29,
    "start_time": "2023-01-16T18:36:13.392Z"
   },
   {
    "duration": 17,
    "start_time": "2023-01-16T18:36:20.416Z"
   },
   {
    "duration": 534,
    "start_time": "2023-01-16T18:36:41.472Z"
   },
   {
    "duration": 3,
    "start_time": "2023-01-16T18:44:06.059Z"
   },
   {
    "duration": 64,
    "start_time": "2023-01-16T18:44:06.065Z"
   },
   {
    "duration": 15,
    "start_time": "2023-01-16T18:44:06.131Z"
   },
   {
    "duration": 26,
    "start_time": "2023-01-16T18:44:06.148Z"
   },
   {
    "duration": 4,
    "start_time": "2023-01-16T18:44:06.177Z"
   },
   {
    "duration": 11,
    "start_time": "2023-01-16T18:44:06.183Z"
   },
   {
    "duration": 10,
    "start_time": "2023-01-16T18:44:06.196Z"
   },
   {
    "duration": 27,
    "start_time": "2023-01-16T18:44:06.208Z"
   },
   {
    "duration": 6,
    "start_time": "2023-01-16T18:44:06.250Z"
   },
   {
    "duration": 19,
    "start_time": "2023-01-16T18:44:06.258Z"
   },
   {
    "duration": 14,
    "start_time": "2023-01-16T18:44:06.279Z"
   },
   {
    "duration": 7,
    "start_time": "2023-01-16T18:44:06.295Z"
   },
   {
    "duration": 7,
    "start_time": "2023-01-16T18:44:06.304Z"
   },
   {
    "duration": 6,
    "start_time": "2023-01-16T18:44:06.315Z"
   },
   {
    "duration": 23,
    "start_time": "2023-01-16T18:44:06.351Z"
   },
   {
    "duration": 5,
    "start_time": "2023-01-16T18:44:06.375Z"
   },
   {
    "duration": 6,
    "start_time": "2023-01-16T18:44:06.382Z"
   },
   {
    "duration": 9,
    "start_time": "2023-01-16T18:44:06.390Z"
   },
   {
    "duration": 4,
    "start_time": "2023-01-16T18:44:06.401Z"
   },
   {
    "duration": 7,
    "start_time": "2023-01-16T18:44:06.407Z"
   },
   {
    "duration": 53,
    "start_time": "2023-01-16T18:44:06.415Z"
   },
   {
    "duration": 19,
    "start_time": "2023-01-16T18:44:06.470Z"
   },
   {
    "duration": 20,
    "start_time": "2023-01-16T18:44:06.491Z"
   },
   {
    "duration": 9,
    "start_time": "2023-01-16T18:44:06.513Z"
   },
   {
    "duration": 40,
    "start_time": "2023-01-16T18:44:06.524Z"
   },
   {
    "duration": 441,
    "start_time": "2023-01-16T18:44:06.566Z"
   },
   {
    "duration": 7,
    "start_time": "2023-01-16T18:44:07.010Z"
   },
   {
    "duration": 4,
    "start_time": "2023-01-16T18:44:10.394Z"
   },
   {
    "duration": 5,
    "start_time": "2023-01-16T18:44:43.483Z"
   },
   {
    "duration": 1319,
    "start_time": "2023-01-16T18:47:00.422Z"
   },
   {
    "duration": 53,
    "start_time": "2023-01-16T18:47:01.744Z"
   },
   {
    "duration": 27,
    "start_time": "2023-01-16T18:47:01.800Z"
   },
   {
    "duration": 35,
    "start_time": "2023-01-16T18:47:01.830Z"
   },
   {
    "duration": 49,
    "start_time": "2023-01-16T18:47:01.866Z"
   },
   {
    "duration": 46,
    "start_time": "2023-01-16T18:47:01.917Z"
   },
   {
    "duration": 51,
    "start_time": "2023-01-16T18:47:01.965Z"
   },
   {
    "duration": 47,
    "start_time": "2023-01-16T18:47:02.018Z"
   },
   {
    "duration": 11,
    "start_time": "2023-01-16T18:47:02.067Z"
   },
   {
    "duration": 19,
    "start_time": "2023-01-16T18:47:02.082Z"
   },
   {
    "duration": 36,
    "start_time": "2023-01-16T18:47:02.103Z"
   },
   {
    "duration": 21,
    "start_time": "2023-01-16T18:47:02.141Z"
   },
   {
    "duration": 18,
    "start_time": "2023-01-16T18:47:02.164Z"
   },
   {
    "duration": 21,
    "start_time": "2023-01-16T18:47:02.183Z"
   },
   {
    "duration": 43,
    "start_time": "2023-01-16T18:47:02.207Z"
   },
   {
    "duration": 6,
    "start_time": "2023-01-16T18:47:02.252Z"
   },
   {
    "duration": 17,
    "start_time": "2023-01-16T18:47:02.260Z"
   },
   {
    "duration": 25,
    "start_time": "2023-01-16T18:47:02.279Z"
   },
   {
    "duration": 28,
    "start_time": "2023-01-16T18:47:02.306Z"
   },
   {
    "duration": 33,
    "start_time": "2023-01-16T18:47:02.337Z"
   },
   {
    "duration": 113,
    "start_time": "2023-01-16T18:47:02.371Z"
   },
   {
    "duration": 32,
    "start_time": "2023-01-16T18:47:02.486Z"
   },
   {
    "duration": 48,
    "start_time": "2023-01-16T18:47:02.521Z"
   },
   {
    "duration": 19,
    "start_time": "2023-01-16T18:47:02.571Z"
   },
   {
    "duration": 38,
    "start_time": "2023-01-16T18:47:02.592Z"
   },
   {
    "duration": 478,
    "start_time": "2023-01-16T18:47:02.632Z"
   },
   {
    "duration": 7,
    "start_time": "2023-01-16T18:47:03.112Z"
   },
   {
    "duration": 11,
    "start_time": "2023-01-16T18:47:03.122Z"
   },
   {
    "duration": 5,
    "start_time": "2023-01-16T18:47:07.829Z"
   },
   {
    "duration": 7,
    "start_time": "2023-01-16T18:48:47.293Z"
   },
   {
    "duration": 114,
    "start_time": "2023-01-16T19:04:36.036Z"
   },
   {
    "duration": 12,
    "start_time": "2023-01-16T19:05:04.724Z"
   },
   {
    "duration": 21,
    "start_time": "2023-01-16T19:05:40.747Z"
   },
   {
    "duration": 22,
    "start_time": "2023-01-16T19:07:43.117Z"
   },
   {
    "duration": 10,
    "start_time": "2023-01-16T19:08:52.227Z"
   },
   {
    "duration": 8,
    "start_time": "2023-01-16T19:11:52.669Z"
   },
   {
    "duration": 33,
    "start_time": "2023-01-16T19:12:56.688Z"
   },
   {
    "duration": 4,
    "start_time": "2023-01-16T19:19:13.708Z"
   },
   {
    "duration": 176,
    "start_time": "2023-01-16T19:19:34.321Z"
   },
   {
    "duration": 1813,
    "start_time": "2023-01-16T19:37:17.569Z"
   },
   {
    "duration": 70,
    "start_time": "2023-01-16T19:37:19.385Z"
   },
   {
    "duration": 29,
    "start_time": "2023-01-16T19:37:19.458Z"
   },
   {
    "duration": 28,
    "start_time": "2023-01-16T19:37:19.489Z"
   },
   {
    "duration": 34,
    "start_time": "2023-01-16T19:37:19.521Z"
   },
   {
    "duration": 32,
    "start_time": "2023-01-16T19:37:19.560Z"
   },
   {
    "duration": 52,
    "start_time": "2023-01-16T19:37:19.594Z"
   },
   {
    "duration": 42,
    "start_time": "2023-01-16T19:37:19.652Z"
   },
   {
    "duration": 34,
    "start_time": "2023-01-16T19:37:19.697Z"
   },
   {
    "duration": 35,
    "start_time": "2023-01-16T19:37:19.734Z"
   },
   {
    "duration": 21,
    "start_time": "2023-01-16T19:37:19.771Z"
   },
   {
    "duration": 9,
    "start_time": "2023-01-16T19:37:19.794Z"
   },
   {
    "duration": 26,
    "start_time": "2023-01-16T19:37:19.806Z"
   },
   {
    "duration": 28,
    "start_time": "2023-01-16T19:37:19.836Z"
   },
   {
    "duration": 54,
    "start_time": "2023-01-16T19:37:19.867Z"
   },
   {
    "duration": 9,
    "start_time": "2023-01-16T19:37:19.923Z"
   },
   {
    "duration": 34,
    "start_time": "2023-01-16T19:37:19.935Z"
   },
   {
    "duration": 8,
    "start_time": "2023-01-16T19:37:19.972Z"
   },
   {
    "duration": 18,
    "start_time": "2023-01-16T19:37:19.982Z"
   },
   {
    "duration": 20,
    "start_time": "2023-01-16T19:37:20.004Z"
   },
   {
    "duration": 69,
    "start_time": "2023-01-16T19:37:20.026Z"
   },
   {
    "duration": 26,
    "start_time": "2023-01-16T19:37:20.097Z"
   },
   {
    "duration": 72,
    "start_time": "2023-01-16T19:37:20.125Z"
   },
   {
    "duration": 25,
    "start_time": "2023-01-16T19:37:20.200Z"
   },
   {
    "duration": 53,
    "start_time": "2023-01-16T19:37:20.231Z"
   },
   {
    "duration": 674,
    "start_time": "2023-01-16T19:37:20.286Z"
   },
   {
    "duration": 8,
    "start_time": "2023-01-16T19:37:20.963Z"
   },
   {
    "duration": 16,
    "start_time": "2023-01-16T19:37:20.973Z"
   },
   {
    "duration": 12,
    "start_time": "2023-01-16T19:37:20.991Z"
   },
   {
    "duration": 9,
    "start_time": "2023-01-16T19:37:21.005Z"
   },
   {
    "duration": 40,
    "start_time": "2023-01-16T19:37:21.016Z"
   },
   {
    "duration": 37,
    "start_time": "2023-01-16T19:37:21.059Z"
   },
   {
    "duration": 6,
    "start_time": "2023-01-16T19:37:21.099Z"
   },
   {
    "duration": 311,
    "start_time": "2023-01-16T19:37:21.108Z"
   },
   {
    "duration": 5,
    "start_time": "2023-01-16T19:39:15.066Z"
   },
   {
    "duration": 7,
    "start_time": "2023-01-16T19:39:17.549Z"
   },
   {
    "duration": 109,
    "start_time": "2023-01-16T19:40:43.483Z"
   },
   {
    "duration": 5,
    "start_time": "2023-01-16T19:40:56.965Z"
   },
   {
    "duration": 8,
    "start_time": "2023-01-16T19:41:00.279Z"
   },
   {
    "duration": 12,
    "start_time": "2023-01-16T19:42:05.797Z"
   },
   {
    "duration": 4,
    "start_time": "2023-01-16T19:43:32.143Z"
   },
   {
    "duration": 8,
    "start_time": "2023-01-16T19:43:35.872Z"
   },
   {
    "duration": 7,
    "start_time": "2023-01-16T19:43:59.601Z"
   },
   {
    "duration": 6,
    "start_time": "2023-01-16T19:44:01.278Z"
   },
   {
    "duration": 9,
    "start_time": "2023-01-16T19:44:03.617Z"
   },
   {
    "duration": 10,
    "start_time": "2023-01-16T19:45:53.049Z"
   },
   {
    "duration": 6,
    "start_time": "2023-01-16T19:46:04.791Z"
   },
   {
    "duration": 9,
    "start_time": "2023-01-16T19:46:07.799Z"
   },
   {
    "duration": 5,
    "start_time": "2023-01-16T19:46:30.014Z"
   },
   {
    "duration": 8,
    "start_time": "2023-01-16T19:46:31.771Z"
   },
   {
    "duration": 5,
    "start_time": "2023-01-16T19:46:41.100Z"
   },
   {
    "duration": 6,
    "start_time": "2023-01-16T19:46:42.372Z"
   },
   {
    "duration": 5,
    "start_time": "2023-01-16T19:46:44.156Z"
   },
   {
    "duration": 11,
    "start_time": "2023-01-16T19:46:45.173Z"
   },
   {
    "duration": 68,
    "start_time": "2023-01-16T19:56:05.776Z"
   },
   {
    "duration": 1369,
    "start_time": "2023-01-16T20:32:19.479Z"
   },
   {
    "duration": 53,
    "start_time": "2023-01-16T20:32:20.851Z"
   },
   {
    "duration": 20,
    "start_time": "2023-01-16T20:32:20.906Z"
   },
   {
    "duration": 32,
    "start_time": "2023-01-16T20:32:20.928Z"
   },
   {
    "duration": 4,
    "start_time": "2023-01-16T20:32:20.962Z"
   },
   {
    "duration": 9,
    "start_time": "2023-01-16T20:32:20.968Z"
   },
   {
    "duration": 15,
    "start_time": "2023-01-16T20:32:20.979Z"
   },
   {
    "duration": 22,
    "start_time": "2023-01-16T20:32:20.996Z"
   },
   {
    "duration": 9,
    "start_time": "2023-01-16T20:32:21.020Z"
   },
   {
    "duration": 30,
    "start_time": "2023-01-16T20:32:21.032Z"
   },
   {
    "duration": 14,
    "start_time": "2023-01-16T20:32:21.064Z"
   },
   {
    "duration": 6,
    "start_time": "2023-01-16T20:32:21.080Z"
   },
   {
    "duration": 10,
    "start_time": "2023-01-16T20:32:21.088Z"
   },
   {
    "duration": 9,
    "start_time": "2023-01-16T20:32:21.100Z"
   },
   {
    "duration": 54,
    "start_time": "2023-01-16T20:32:21.111Z"
   },
   {
    "duration": 6,
    "start_time": "2023-01-16T20:32:21.168Z"
   },
   {
    "duration": 9,
    "start_time": "2023-01-16T20:32:21.176Z"
   },
   {
    "duration": 11,
    "start_time": "2023-01-16T20:32:21.186Z"
   },
   {
    "duration": 10,
    "start_time": "2023-01-16T20:32:21.198Z"
   },
   {
    "duration": 9,
    "start_time": "2023-01-16T20:32:21.210Z"
   },
   {
    "duration": 40,
    "start_time": "2023-01-16T20:32:21.221Z"
   },
   {
    "duration": 18,
    "start_time": "2023-01-16T20:32:21.263Z"
   },
   {
    "duration": 30,
    "start_time": "2023-01-16T20:32:21.283Z"
   },
   {
    "duration": 26,
    "start_time": "2023-01-16T20:32:21.316Z"
   },
   {
    "duration": 34,
    "start_time": "2023-01-16T20:32:21.344Z"
   },
   {
    "duration": 512,
    "start_time": "2023-01-16T20:32:21.380Z"
   },
   {
    "duration": 7,
    "start_time": "2023-01-16T20:32:21.894Z"
   },
   {
    "duration": 20,
    "start_time": "2023-01-16T20:32:21.905Z"
   },
   {
    "duration": 23,
    "start_time": "2023-01-16T20:32:21.927Z"
   },
   {
    "duration": 15,
    "start_time": "2023-01-16T20:32:21.952Z"
   },
   {
    "duration": 36,
    "start_time": "2023-01-16T20:32:21.969Z"
   },
   {
    "duration": 40,
    "start_time": "2023-01-16T20:32:22.008Z"
   },
   {
    "duration": 23,
    "start_time": "2023-01-16T20:32:22.050Z"
   },
   {
    "duration": 202,
    "start_time": "2023-01-16T20:32:22.075Z"
   },
   {
    "duration": 5,
    "start_time": "2023-01-16T20:32:22.279Z"
   },
   {
    "duration": 35,
    "start_time": "2023-01-16T20:32:22.286Z"
   },
   {
    "duration": 31,
    "start_time": "2023-01-16T20:32:22.323Z"
   },
   {
    "duration": 26,
    "start_time": "2023-01-16T20:32:22.356Z"
   },
   {
    "duration": 135,
    "start_time": "2023-01-16T20:32:22.384Z"
   },
   {
    "duration": 0,
    "start_time": "2023-01-16T20:32:22.521Z"
   },
   {
    "duration": 19,
    "start_time": "2023-01-16T20:32:49.696Z"
   },
   {
    "duration": 5,
    "start_time": "2023-01-16T20:38:45.423Z"
   },
   {
    "duration": 11,
    "start_time": "2023-01-16T20:38:50.455Z"
   },
   {
    "duration": 11,
    "start_time": "2023-01-16T20:39:09.251Z"
   },
   {
    "duration": 9,
    "start_time": "2023-01-16T20:39:39.575Z"
   },
   {
    "duration": 11,
    "start_time": "2023-01-16T20:40:05.974Z"
   },
   {
    "duration": 31,
    "start_time": "2023-01-16T20:40:40.731Z"
   },
   {
    "duration": 16,
    "start_time": "2023-01-16T20:40:51.606Z"
   },
   {
    "duration": 36,
    "start_time": "2023-01-16T20:40:52.853Z"
   },
   {
    "duration": 18,
    "start_time": "2023-01-16T20:42:20.234Z"
   },
   {
    "duration": 36,
    "start_time": "2023-01-16T20:42:26.512Z"
   },
   {
    "duration": 10,
    "start_time": "2023-01-16T20:50:23.719Z"
   },
   {
    "duration": 5,
    "start_time": "2023-01-16T20:50:31.562Z"
   },
   {
    "duration": 17,
    "start_time": "2023-01-16T20:50:33.257Z"
   },
   {
    "duration": 21,
    "start_time": "2023-01-16T20:50:48.381Z"
   },
   {
    "duration": 271,
    "start_time": "2023-01-16T20:51:08.832Z"
   },
   {
    "duration": 215,
    "start_time": "2023-01-16T20:53:26.549Z"
   },
   {
    "duration": 182,
    "start_time": "2023-01-16T20:53:43.791Z"
   },
   {
    "duration": 59,
    "start_time": "2023-01-17T07:40:23.380Z"
   },
   {
    "duration": 1642,
    "start_time": "2023-01-17T08:15:49.860Z"
   },
   {
    "duration": 226,
    "start_time": "2023-01-17T08:15:51.505Z"
   },
   {
    "duration": 32,
    "start_time": "2023-01-17T08:15:51.733Z"
   },
   {
    "duration": 33,
    "start_time": "2023-01-17T08:15:51.768Z"
   },
   {
    "duration": 3,
    "start_time": "2023-01-17T08:15:51.803Z"
   },
   {
    "duration": 21,
    "start_time": "2023-01-17T08:15:51.807Z"
   },
   {
    "duration": 21,
    "start_time": "2023-01-17T08:15:51.829Z"
   },
   {
    "duration": 31,
    "start_time": "2023-01-17T08:15:51.853Z"
   },
   {
    "duration": 17,
    "start_time": "2023-01-17T08:15:51.886Z"
   },
   {
    "duration": 25,
    "start_time": "2023-01-17T08:15:51.907Z"
   },
   {
    "duration": 28,
    "start_time": "2023-01-17T08:15:51.934Z"
   },
   {
    "duration": 6,
    "start_time": "2023-01-17T08:15:51.964Z"
   },
   {
    "duration": 15,
    "start_time": "2023-01-17T08:15:51.972Z"
   },
   {
    "duration": 11,
    "start_time": "2023-01-17T08:15:51.989Z"
   },
   {
    "duration": 31,
    "start_time": "2023-01-17T08:15:52.001Z"
   },
   {
    "duration": 25,
    "start_time": "2023-01-17T08:15:52.035Z"
   },
   {
    "duration": 13,
    "start_time": "2023-01-17T08:15:52.063Z"
   },
   {
    "duration": 10,
    "start_time": "2023-01-17T08:15:52.078Z"
   },
   {
    "duration": 21,
    "start_time": "2023-01-17T08:15:52.089Z"
   },
   {
    "duration": 15,
    "start_time": "2023-01-17T08:15:52.111Z"
   },
   {
    "duration": 42,
    "start_time": "2023-01-17T08:15:52.128Z"
   },
   {
    "duration": 16,
    "start_time": "2023-01-17T08:15:52.175Z"
   },
   {
    "duration": 19,
    "start_time": "2023-01-17T08:15:52.193Z"
   },
   {
    "duration": 25,
    "start_time": "2023-01-17T08:15:52.213Z"
   },
   {
    "duration": 49,
    "start_time": "2023-01-17T08:15:52.240Z"
   },
   {
    "duration": 531,
    "start_time": "2023-01-17T08:15:52.292Z"
   },
   {
    "duration": 5,
    "start_time": "2023-01-17T08:15:52.825Z"
   },
   {
    "duration": 29,
    "start_time": "2023-01-17T08:15:52.839Z"
   },
   {
    "duration": 14,
    "start_time": "2023-01-17T08:15:52.870Z"
   },
   {
    "duration": 19,
    "start_time": "2023-01-17T08:15:52.886Z"
   },
   {
    "duration": 18,
    "start_time": "2023-01-17T08:15:52.907Z"
   },
   {
    "duration": 42,
    "start_time": "2023-01-17T08:15:52.927Z"
   },
   {
    "duration": 4,
    "start_time": "2023-01-17T08:15:52.971Z"
   },
   {
    "duration": 198,
    "start_time": "2023-01-17T08:15:52.977Z"
   },
   {
    "duration": 5,
    "start_time": "2023-01-17T08:15:53.176Z"
   },
   {
    "duration": 15,
    "start_time": "2023-01-17T08:15:53.183Z"
   },
   {
    "duration": 7,
    "start_time": "2023-01-17T08:15:53.200Z"
   },
   {
    "duration": 10,
    "start_time": "2023-01-17T08:15:53.208Z"
   },
   {
    "duration": 22,
    "start_time": "2023-01-17T08:15:53.220Z"
   },
   {
    "duration": 24,
    "start_time": "2023-01-17T08:15:53.249Z"
   },
   {
    "duration": 15,
    "start_time": "2023-01-17T08:15:53.275Z"
   },
   {
    "duration": 67,
    "start_time": "2023-01-17T08:15:53.291Z"
   },
   {
    "duration": 13,
    "start_time": "2023-01-17T08:15:53.367Z"
   },
   {
    "duration": 8,
    "start_time": "2023-01-17T08:15:58.288Z"
   },
   {
    "duration": 6,
    "start_time": "2023-01-17T08:19:01.468Z"
   },
   {
    "duration": 9,
    "start_time": "2023-01-17T08:19:03.222Z"
   },
   {
    "duration": 6,
    "start_time": "2023-01-17T08:22:52.700Z"
   },
   {
    "duration": 7,
    "start_time": "2023-01-17T08:22:58.328Z"
   },
   {
    "duration": 18,
    "start_time": "2023-01-17T08:23:03.861Z"
   },
   {
    "duration": 23,
    "start_time": "2023-01-17T08:23:08.256Z"
   },
   {
    "duration": 233,
    "start_time": "2023-01-17T08:23:39.160Z"
   },
   {
    "duration": 22,
    "start_time": "2023-01-17T08:24:24.241Z"
   },
   {
    "duration": 686,
    "start_time": "2023-01-17T08:24:24.897Z"
   },
   {
    "duration": 764,
    "start_time": "2023-01-17T08:33:16.508Z"
   },
   {
    "duration": 19,
    "start_time": "2023-01-17T08:34:06.764Z"
   },
   {
    "duration": 17,
    "start_time": "2023-01-17T08:47:28.056Z"
   },
   {
    "duration": 602,
    "start_time": "2023-01-17T08:48:03.366Z"
   },
   {
    "duration": 636,
    "start_time": "2023-01-17T08:55:47.758Z"
   },
   {
    "duration": 35,
    "start_time": "2023-01-17T09:01:53.219Z"
   },
   {
    "duration": 127,
    "start_time": "2023-01-17T09:06:27.398Z"
   },
   {
    "duration": 19,
    "start_time": "2023-01-17T09:07:06.749Z"
   },
   {
    "duration": 734,
    "start_time": "2023-01-17T09:16:58.816Z"
   },
   {
    "duration": 12,
    "start_time": "2023-01-17T09:20:20.078Z"
   },
   {
    "duration": 20,
    "start_time": "2023-01-17T09:20:30.452Z"
   },
   {
    "duration": 640,
    "start_time": "2023-01-17T09:20:54.209Z"
   },
   {
    "duration": 1201,
    "start_time": "2023-01-17T09:37:56.065Z"
   },
   {
    "duration": 53,
    "start_time": "2023-01-17T09:37:57.268Z"
   },
   {
    "duration": 21,
    "start_time": "2023-01-17T09:37:57.324Z"
   },
   {
    "duration": 15,
    "start_time": "2023-01-17T09:37:57.347Z"
   },
   {
    "duration": 4,
    "start_time": "2023-01-17T09:37:57.364Z"
   },
   {
    "duration": 9,
    "start_time": "2023-01-17T09:37:57.369Z"
   },
   {
    "duration": 14,
    "start_time": "2023-01-17T09:37:57.380Z"
   },
   {
    "duration": 33,
    "start_time": "2023-01-17T09:37:57.396Z"
   },
   {
    "duration": 8,
    "start_time": "2023-01-17T09:37:57.437Z"
   },
   {
    "duration": 29,
    "start_time": "2023-01-17T09:37:57.449Z"
   },
   {
    "duration": 16,
    "start_time": "2023-01-17T09:37:57.481Z"
   },
   {
    "duration": 7,
    "start_time": "2023-01-17T09:37:57.499Z"
   },
   {
    "duration": 7,
    "start_time": "2023-01-17T09:37:57.507Z"
   },
   {
    "duration": 20,
    "start_time": "2023-01-17T09:37:57.516Z"
   },
   {
    "duration": 22,
    "start_time": "2023-01-17T09:37:57.538Z"
   },
   {
    "duration": 6,
    "start_time": "2023-01-17T09:37:57.562Z"
   },
   {
    "duration": 5,
    "start_time": "2023-01-17T09:37:57.570Z"
   },
   {
    "duration": 8,
    "start_time": "2023-01-17T09:37:57.576Z"
   },
   {
    "duration": 7,
    "start_time": "2023-01-17T09:37:57.586Z"
   },
   {
    "duration": 10,
    "start_time": "2023-01-17T09:37:57.594Z"
   },
   {
    "duration": 48,
    "start_time": "2023-01-17T09:37:57.606Z"
   },
   {
    "duration": 16,
    "start_time": "2023-01-17T09:37:57.655Z"
   },
   {
    "duration": 19,
    "start_time": "2023-01-17T09:37:57.673Z"
   },
   {
    "duration": 11,
    "start_time": "2023-01-17T09:37:57.693Z"
   },
   {
    "duration": 42,
    "start_time": "2023-01-17T09:37:57.705Z"
   },
   {
    "duration": 419,
    "start_time": "2023-01-17T09:37:57.749Z"
   },
   {
    "duration": 5,
    "start_time": "2023-01-17T09:37:58.170Z"
   },
   {
    "duration": 5,
    "start_time": "2023-01-17T09:37:58.179Z"
   },
   {
    "duration": 7,
    "start_time": "2023-01-17T09:37:58.186Z"
   },
   {
    "duration": 7,
    "start_time": "2023-01-17T09:37:58.194Z"
   },
   {
    "duration": 12,
    "start_time": "2023-01-17T09:37:58.203Z"
   },
   {
    "duration": 30,
    "start_time": "2023-01-17T09:37:58.239Z"
   },
   {
    "duration": 9,
    "start_time": "2023-01-17T09:37:58.272Z"
   },
   {
    "duration": 216,
    "start_time": "2023-01-17T09:37:58.283Z"
   },
   {
    "duration": 4,
    "start_time": "2023-01-17T09:37:58.501Z"
   },
   {
    "duration": 19,
    "start_time": "2023-01-17T09:37:58.507Z"
   },
   {
    "duration": 10,
    "start_time": "2023-01-17T09:37:58.529Z"
   },
   {
    "duration": 10,
    "start_time": "2023-01-17T09:37:58.541Z"
   },
   {
    "duration": 6,
    "start_time": "2023-01-17T09:37:58.553Z"
   },
   {
    "duration": 23,
    "start_time": "2023-01-17T09:37:58.561Z"
   },
   {
    "duration": 16,
    "start_time": "2023-01-17T09:37:58.586Z"
   },
   {
    "duration": 55,
    "start_time": "2023-01-17T09:37:58.604Z"
   },
   {
    "duration": 18,
    "start_time": "2023-01-17T09:37:58.661Z"
   },
   {
    "duration": 16,
    "start_time": "2023-01-17T09:37:58.681Z"
   },
   {
    "duration": 22,
    "start_time": "2023-01-17T09:37:58.699Z"
   },
   {
    "duration": 18,
    "start_time": "2023-01-17T09:37:58.724Z"
   },
   {
    "duration": 20,
    "start_time": "2023-01-17T09:37:58.744Z"
   },
   {
    "duration": 13,
    "start_time": "2023-01-17T09:37:58.766Z"
   },
   {
    "duration": 16,
    "start_time": "2023-01-17T09:37:58.781Z"
   },
   {
    "duration": 15,
    "start_time": "2023-01-17T09:37:58.799Z"
   },
   {
    "duration": 193,
    "start_time": "2023-01-17T09:37:58.816Z"
   },
   {
    "duration": 12,
    "start_time": "2023-01-17T09:37:59.011Z"
   },
   {
    "duration": 28,
    "start_time": "2023-01-17T09:37:59.024Z"
   },
   {
    "duration": 567,
    "start_time": "2023-01-17T09:37:59.054Z"
   },
   {
    "duration": 21,
    "start_time": "2023-01-17T09:37:59.623Z"
   },
   {
    "duration": 65,
    "start_time": "2023-01-17T09:37:59.645Z"
   },
   {
    "duration": 0,
    "start_time": "2023-01-17T09:37:59.712Z"
   },
   {
    "duration": 0,
    "start_time": "2023-01-17T09:37:59.713Z"
   },
   {
    "duration": 0,
    "start_time": "2023-01-17T09:37:59.714Z"
   },
   {
    "duration": 0,
    "start_time": "2023-01-17T09:37:59.715Z"
   },
   {
    "duration": 0,
    "start_time": "2023-01-17T09:37:59.716Z"
   },
   {
    "duration": 0,
    "start_time": "2023-01-17T09:37:59.717Z"
   },
   {
    "duration": 0,
    "start_time": "2023-01-17T09:37:59.718Z"
   },
   {
    "duration": 0,
    "start_time": "2023-01-17T09:37:59.737Z"
   },
   {
    "duration": 0,
    "start_time": "2023-01-17T09:37:59.738Z"
   },
   {
    "duration": 0,
    "start_time": "2023-01-17T09:37:59.739Z"
   },
   {
    "duration": 0,
    "start_time": "2023-01-17T09:37:59.740Z"
   },
   {
    "duration": 0,
    "start_time": "2023-01-17T09:37:59.742Z"
   },
   {
    "duration": 0,
    "start_time": "2023-01-17T09:37:59.742Z"
   },
   {
    "duration": 0,
    "start_time": "2023-01-17T09:37:59.743Z"
   },
   {
    "duration": 0,
    "start_time": "2023-01-17T09:37:59.744Z"
   },
   {
    "duration": 0,
    "start_time": "2023-01-17T09:37:59.746Z"
   },
   {
    "duration": 0,
    "start_time": "2023-01-17T09:37:59.747Z"
   },
   {
    "duration": 0,
    "start_time": "2023-01-17T09:37:59.747Z"
   },
   {
    "duration": 2,
    "start_time": "2023-01-17T18:02:50.986Z"
   },
   {
    "duration": 48,
    "start_time": "2023-01-17T18:02:51.005Z"
   },
   {
    "duration": 14,
    "start_time": "2023-01-17T18:02:51.055Z"
   },
   {
    "duration": 47,
    "start_time": "2023-01-17T18:02:51.070Z"
   },
   {
    "duration": 18,
    "start_time": "2023-01-17T18:02:51.119Z"
   },
   {
    "duration": 13,
    "start_time": "2023-01-17T18:02:51.139Z"
   },
   {
    "duration": 21,
    "start_time": "2023-01-17T18:02:51.154Z"
   },
   {
    "duration": 24,
    "start_time": "2023-01-17T18:02:51.177Z"
   },
   {
    "duration": 9,
    "start_time": "2023-01-17T18:02:51.203Z"
   },
   {
    "duration": 20,
    "start_time": "2023-01-17T18:02:51.214Z"
   },
   {
    "duration": 10,
    "start_time": "2023-01-17T18:02:51.237Z"
   },
   {
    "duration": 11,
    "start_time": "2023-01-17T18:02:51.248Z"
   },
   {
    "duration": 7,
    "start_time": "2023-01-17T18:02:51.260Z"
   },
   {
    "duration": 7,
    "start_time": "2023-01-17T18:02:51.269Z"
   },
   {
    "duration": 24,
    "start_time": "2023-01-17T18:02:51.277Z"
   },
   {
    "duration": 7,
    "start_time": "2023-01-17T18:02:51.313Z"
   },
   {
    "duration": 15,
    "start_time": "2023-01-17T18:02:51.322Z"
   },
   {
    "duration": 11,
    "start_time": "2023-01-17T18:02:51.338Z"
   },
   {
    "duration": 7,
    "start_time": "2023-01-17T18:02:51.351Z"
   },
   {
    "duration": 7,
    "start_time": "2023-01-17T18:02:51.359Z"
   },
   {
    "duration": 23,
    "start_time": "2023-01-17T18:02:51.368Z"
   },
   {
    "duration": 32,
    "start_time": "2023-01-17T18:02:51.392Z"
   },
   {
    "duration": 16,
    "start_time": "2023-01-17T18:02:51.427Z"
   },
   {
    "duration": 11,
    "start_time": "2023-01-17T18:02:51.445Z"
   },
   {
    "duration": 21,
    "start_time": "2023-01-17T18:02:51.458Z"
   },
   {
    "duration": 467,
    "start_time": "2023-01-17T18:02:51.481Z"
   },
   {
    "duration": 5,
    "start_time": "2023-01-17T18:02:51.950Z"
   },
   {
    "duration": 17,
    "start_time": "2023-01-17T18:02:51.956Z"
   },
   {
    "duration": 26,
    "start_time": "2023-01-17T18:02:51.975Z"
   },
   {
    "duration": 19,
    "start_time": "2023-01-17T18:02:52.003Z"
   },
   {
    "duration": 17,
    "start_time": "2023-01-17T18:02:52.024Z"
   },
   {
    "duration": 48,
    "start_time": "2023-01-17T18:02:52.042Z"
   },
   {
    "duration": 5,
    "start_time": "2023-01-17T18:02:52.091Z"
   },
   {
    "duration": 170,
    "start_time": "2023-01-17T18:02:52.097Z"
   },
   {
    "duration": 4,
    "start_time": "2023-01-17T18:02:52.269Z"
   },
   {
    "duration": 14,
    "start_time": "2023-01-17T18:02:52.275Z"
   },
   {
    "duration": 16,
    "start_time": "2023-01-17T18:02:52.290Z"
   },
   {
    "duration": 26,
    "start_time": "2023-01-17T18:02:52.308Z"
   },
   {
    "duration": 8,
    "start_time": "2023-01-17T18:02:52.336Z"
   },
   {
    "duration": 22,
    "start_time": "2023-01-17T18:02:52.345Z"
   },
   {
    "duration": 15,
    "start_time": "2023-01-17T18:02:52.371Z"
   },
   {
    "duration": 34,
    "start_time": "2023-01-17T18:02:52.388Z"
   },
   {
    "duration": 9,
    "start_time": "2023-01-17T18:02:52.424Z"
   },
   {
    "duration": 11,
    "start_time": "2023-01-17T18:02:52.435Z"
   },
   {
    "duration": 7,
    "start_time": "2023-01-17T18:02:52.448Z"
   },
   {
    "duration": 9,
    "start_time": "2023-01-17T18:02:52.457Z"
   },
   {
    "duration": 10,
    "start_time": "2023-01-17T18:02:52.467Z"
   },
   {
    "duration": 5,
    "start_time": "2023-01-17T18:02:52.479Z"
   },
   {
    "duration": 37,
    "start_time": "2023-01-17T18:02:52.486Z"
   },
   {
    "duration": 16,
    "start_time": "2023-01-17T18:02:52.526Z"
   },
   {
    "duration": 183,
    "start_time": "2023-01-17T18:02:52.544Z"
   },
   {
    "duration": 12,
    "start_time": "2023-01-17T18:02:52.729Z"
   },
   {
    "duration": 21,
    "start_time": "2023-01-17T18:02:52.743Z"
   },
   {
    "duration": 536,
    "start_time": "2023-01-17T18:02:52.765Z"
   },
   {
    "duration": 20,
    "start_time": "2023-01-17T18:02:53.303Z"
   },
   {
    "duration": 657,
    "start_time": "2023-01-17T18:02:53.325Z"
   },
   {
    "duration": 4,
    "start_time": "2023-01-17T18:02:53.984Z"
   },
   {
    "duration": 9,
    "start_time": "2023-01-17T18:02:53.989Z"
   },
   {
    "duration": 587,
    "start_time": "2023-01-17T18:02:54.000Z"
   },
   {
    "duration": 9,
    "start_time": "2023-01-17T18:02:54.589Z"
   },
   {
    "duration": 206,
    "start_time": "2023-01-17T18:02:54.600Z"
   },
   {
    "duration": 5,
    "start_time": "2023-01-17T18:02:54.808Z"
   },
   {
    "duration": 102,
    "start_time": "2023-01-17T18:02:54.814Z"
   },
   {
    "duration": 0,
    "start_time": "2023-01-17T18:02:54.918Z"
   },
   {
    "duration": 0,
    "start_time": "2023-01-17T18:02:54.920Z"
   },
   {
    "duration": 0,
    "start_time": "2023-01-17T18:02:54.921Z"
   },
   {
    "duration": 0,
    "start_time": "2023-01-17T18:02:54.923Z"
   },
   {
    "duration": 0,
    "start_time": "2023-01-17T18:02:54.924Z"
   },
   {
    "duration": 0,
    "start_time": "2023-01-17T18:02:54.926Z"
   },
   {
    "duration": 0,
    "start_time": "2023-01-17T18:02:54.927Z"
   },
   {
    "duration": 0,
    "start_time": "2023-01-17T18:02:54.929Z"
   },
   {
    "duration": 0,
    "start_time": "2023-01-17T18:02:54.930Z"
   },
   {
    "duration": 0,
    "start_time": "2023-01-17T18:02:54.931Z"
   },
   {
    "duration": 0,
    "start_time": "2023-01-17T18:02:54.932Z"
   },
   {
    "duration": 0,
    "start_time": "2023-01-17T18:02:54.933Z"
   },
   {
    "duration": 0,
    "start_time": "2023-01-17T18:02:54.934Z"
   },
   {
    "duration": 0,
    "start_time": "2023-01-17T18:02:54.935Z"
   },
   {
    "duration": 0,
    "start_time": "2023-01-17T18:02:54.936Z"
   },
   {
    "duration": 0,
    "start_time": "2023-01-17T18:02:54.937Z"
   },
   {
    "duration": 0,
    "start_time": "2023-01-17T18:02:54.939Z"
   },
   {
    "duration": 0,
    "start_time": "2023-01-17T18:02:54.940Z"
   },
   {
    "duration": 0,
    "start_time": "2023-01-17T18:02:54.942Z"
   },
   {
    "duration": 0,
    "start_time": "2023-01-17T18:02:54.943Z"
   },
   {
    "duration": 0,
    "start_time": "2023-01-17T18:02:54.944Z"
   },
   {
    "duration": 0,
    "start_time": "2023-01-17T18:02:54.945Z"
   },
   {
    "duration": 0,
    "start_time": "2023-01-17T18:02:54.947Z"
   },
   {
    "duration": 0,
    "start_time": "2023-01-17T18:02:54.948Z"
   },
   {
    "duration": 0,
    "start_time": "2023-01-17T18:02:54.950Z"
   },
   {
    "duration": 0,
    "start_time": "2023-01-17T18:02:54.951Z"
   },
   {
    "duration": 0,
    "start_time": "2023-01-17T18:02:54.952Z"
   },
   {
    "duration": 0,
    "start_time": "2023-01-17T18:02:54.954Z"
   },
   {
    "duration": 0,
    "start_time": "2023-01-17T18:02:54.955Z"
   },
   {
    "duration": 0,
    "start_time": "2023-01-17T18:02:54.956Z"
   },
   {
    "duration": 0,
    "start_time": "2023-01-17T18:02:55.013Z"
   },
   {
    "duration": 0,
    "start_time": "2023-01-17T18:02:55.015Z"
   },
   {
    "duration": 0,
    "start_time": "2023-01-17T18:02:55.016Z"
   },
   {
    "duration": 0,
    "start_time": "2023-01-17T18:02:55.018Z"
   },
   {
    "duration": 0,
    "start_time": "2023-01-17T18:02:55.019Z"
   },
   {
    "duration": 0,
    "start_time": "2023-01-17T18:02:55.021Z"
   },
   {
    "duration": 0,
    "start_time": "2023-01-17T18:02:55.022Z"
   },
   {
    "duration": 0,
    "start_time": "2023-01-17T18:02:55.023Z"
   },
   {
    "duration": 0,
    "start_time": "2023-01-17T18:02:55.025Z"
   },
   {
    "duration": 0,
    "start_time": "2023-01-17T18:02:55.026Z"
   },
   {
    "duration": 0,
    "start_time": "2023-01-17T18:02:55.028Z"
   },
   {
    "duration": 0,
    "start_time": "2023-01-17T18:02:55.029Z"
   },
   {
    "duration": 0,
    "start_time": "2023-01-17T18:02:55.030Z"
   },
   {
    "duration": 0,
    "start_time": "2023-01-17T18:02:55.031Z"
   },
   {
    "duration": 0,
    "start_time": "2023-01-17T18:02:55.032Z"
   },
   {
    "duration": 0,
    "start_time": "2023-01-17T18:02:55.033Z"
   },
   {
    "duration": 0,
    "start_time": "2023-01-17T18:02:55.034Z"
   },
   {
    "duration": 0,
    "start_time": "2023-01-17T18:02:55.035Z"
   },
   {
    "duration": 0,
    "start_time": "2023-01-17T18:02:55.036Z"
   },
   {
    "duration": 0,
    "start_time": "2023-01-17T18:02:55.037Z"
   },
   {
    "duration": 0,
    "start_time": "2023-01-17T18:02:55.038Z"
   },
   {
    "duration": 7,
    "start_time": "2023-01-17T18:09:24.806Z"
   },
   {
    "duration": 381,
    "start_time": "2023-01-17T18:09:27.722Z"
   },
   {
    "duration": 9,
    "start_time": "2023-01-17T18:09:34.598Z"
   },
   {
    "duration": 17,
    "start_time": "2023-01-17T18:09:34.613Z"
   },
   {
    "duration": 15,
    "start_time": "2023-01-17T18:09:34.632Z"
   },
   {
    "duration": 240,
    "start_time": "2023-01-17T18:09:34.649Z"
   },
   {
    "duration": 87,
    "start_time": "2023-01-17T18:09:34.890Z"
   },
   {
    "duration": 0,
    "start_time": "2023-01-17T18:09:34.980Z"
   },
   {
    "duration": 0,
    "start_time": "2023-01-17T18:09:34.981Z"
   },
   {
    "duration": 0,
    "start_time": "2023-01-17T18:09:34.982Z"
   },
   {
    "duration": 0,
    "start_time": "2023-01-17T18:09:34.984Z"
   },
   {
    "duration": 0,
    "start_time": "2023-01-17T18:09:34.985Z"
   },
   {
    "duration": 0,
    "start_time": "2023-01-17T18:09:34.986Z"
   },
   {
    "duration": 0,
    "start_time": "2023-01-17T18:09:34.987Z"
   },
   {
    "duration": 0,
    "start_time": "2023-01-17T18:09:34.988Z"
   },
   {
    "duration": 0,
    "start_time": "2023-01-17T18:09:34.989Z"
   },
   {
    "duration": 0,
    "start_time": "2023-01-17T18:09:34.990Z"
   },
   {
    "duration": 0,
    "start_time": "2023-01-17T18:09:34.991Z"
   },
   {
    "duration": 0,
    "start_time": "2023-01-17T18:09:34.992Z"
   },
   {
    "duration": 0,
    "start_time": "2023-01-17T18:09:34.993Z"
   },
   {
    "duration": 0,
    "start_time": "2023-01-17T18:09:34.994Z"
   },
   {
    "duration": 0,
    "start_time": "2023-01-17T18:09:34.995Z"
   },
   {
    "duration": 0,
    "start_time": "2023-01-17T18:09:34.996Z"
   },
   {
    "duration": 0,
    "start_time": "2023-01-17T18:09:34.997Z"
   },
   {
    "duration": 0,
    "start_time": "2023-01-17T18:09:34.998Z"
   },
   {
    "duration": 0,
    "start_time": "2023-01-17T18:09:34.999Z"
   },
   {
    "duration": 0,
    "start_time": "2023-01-17T18:09:35.000Z"
   },
   {
    "duration": 0,
    "start_time": "2023-01-17T18:09:35.001Z"
   },
   {
    "duration": 0,
    "start_time": "2023-01-17T18:09:35.002Z"
   },
   {
    "duration": 0,
    "start_time": "2023-01-17T18:09:35.003Z"
   },
   {
    "duration": 0,
    "start_time": "2023-01-17T18:09:35.004Z"
   },
   {
    "duration": 0,
    "start_time": "2023-01-17T18:09:35.004Z"
   },
   {
    "duration": 0,
    "start_time": "2023-01-17T18:09:35.005Z"
   },
   {
    "duration": 0,
    "start_time": "2023-01-17T18:09:35.006Z"
   },
   {
    "duration": 1,
    "start_time": "2023-01-17T18:09:35.007Z"
   },
   {
    "duration": 0,
    "start_time": "2023-01-17T18:09:35.009Z"
   },
   {
    "duration": 0,
    "start_time": "2023-01-17T18:09:35.010Z"
   },
   {
    "duration": 0,
    "start_time": "2023-01-17T18:09:35.010Z"
   },
   {
    "duration": 0,
    "start_time": "2023-01-17T18:09:35.012Z"
   },
   {
    "duration": 0,
    "start_time": "2023-01-17T18:09:35.013Z"
   },
   {
    "duration": 11,
    "start_time": "2023-01-17T18:09:35.016Z"
   },
   {
    "duration": 1,
    "start_time": "2023-01-17T18:09:35.028Z"
   },
   {
    "duration": 0,
    "start_time": "2023-01-17T18:09:35.030Z"
   },
   {
    "duration": 0,
    "start_time": "2023-01-17T18:09:35.031Z"
   },
   {
    "duration": 0,
    "start_time": "2023-01-17T18:09:35.032Z"
   },
   {
    "duration": 0,
    "start_time": "2023-01-17T18:09:35.033Z"
   },
   {
    "duration": 11,
    "start_time": "2023-01-17T18:09:35.035Z"
   },
   {
    "duration": 0,
    "start_time": "2023-01-17T18:09:35.049Z"
   },
   {
    "duration": 0,
    "start_time": "2023-01-17T18:09:35.050Z"
   },
   {
    "duration": 63,
    "start_time": "2023-01-17T18:09:35.056Z"
   },
   {
    "duration": 0,
    "start_time": "2023-01-17T18:09:35.121Z"
   },
   {
    "duration": 0,
    "start_time": "2023-01-17T18:09:35.122Z"
   },
   {
    "duration": 249,
    "start_time": "2023-01-17T18:10:50.428Z"
   },
   {
    "duration": 546,
    "start_time": "2023-01-17T18:10:58.906Z"
   },
   {
    "duration": 635,
    "start_time": "2023-01-17T18:11:12.577Z"
   },
   {
    "duration": 137,
    "start_time": "2023-01-17T18:12:07.062Z"
   },
   {
    "duration": 71,
    "start_time": "2023-01-17T18:12:16.506Z"
   },
   {
    "duration": 150,
    "start_time": "2023-01-17T18:12:39.733Z"
   },
   {
    "duration": 510,
    "start_time": "2023-01-17T18:18:15.573Z"
   },
   {
    "duration": 6,
    "start_time": "2023-01-17T18:20:21.919Z"
   },
   {
    "duration": 5,
    "start_time": "2023-01-17T18:20:21.931Z"
   },
   {
    "duration": 5,
    "start_time": "2023-01-17T18:20:21.953Z"
   },
   {
    "duration": 193,
    "start_time": "2023-01-17T18:20:21.960Z"
   },
   {
    "duration": 6,
    "start_time": "2023-01-17T18:20:22.155Z"
   },
   {
    "duration": 241,
    "start_time": "2023-01-17T18:20:22.163Z"
   },
   {
    "duration": 73,
    "start_time": "2023-01-17T18:20:22.407Z"
   },
   {
    "duration": 0,
    "start_time": "2023-01-17T18:20:22.482Z"
   },
   {
    "duration": 0,
    "start_time": "2023-01-17T18:20:22.484Z"
   },
   {
    "duration": 0,
    "start_time": "2023-01-17T18:20:22.485Z"
   },
   {
    "duration": 0,
    "start_time": "2023-01-17T18:20:22.487Z"
   },
   {
    "duration": 0,
    "start_time": "2023-01-17T18:20:22.488Z"
   },
   {
    "duration": 0,
    "start_time": "2023-01-17T18:20:22.490Z"
   },
   {
    "duration": 0,
    "start_time": "2023-01-17T18:20:22.491Z"
   },
   {
    "duration": 0,
    "start_time": "2023-01-17T18:20:22.492Z"
   },
   {
    "duration": 0,
    "start_time": "2023-01-17T18:20:22.492Z"
   },
   {
    "duration": 0,
    "start_time": "2023-01-17T18:20:22.493Z"
   },
   {
    "duration": 0,
    "start_time": "2023-01-17T18:20:22.494Z"
   },
   {
    "duration": 0,
    "start_time": "2023-01-17T18:20:22.495Z"
   },
   {
    "duration": 0,
    "start_time": "2023-01-17T18:20:22.496Z"
   },
   {
    "duration": 0,
    "start_time": "2023-01-17T18:20:22.497Z"
   },
   {
    "duration": 0,
    "start_time": "2023-01-17T18:20:22.498Z"
   },
   {
    "duration": 0,
    "start_time": "2023-01-17T18:20:22.499Z"
   },
   {
    "duration": 0,
    "start_time": "2023-01-17T18:20:22.501Z"
   },
   {
    "duration": 0,
    "start_time": "2023-01-17T18:20:22.502Z"
   },
   {
    "duration": 0,
    "start_time": "2023-01-17T18:20:22.503Z"
   },
   {
    "duration": 0,
    "start_time": "2023-01-17T18:20:22.504Z"
   },
   {
    "duration": 0,
    "start_time": "2023-01-17T18:20:22.505Z"
   },
   {
    "duration": 0,
    "start_time": "2023-01-17T18:20:22.506Z"
   },
   {
    "duration": 0,
    "start_time": "2023-01-17T18:20:22.507Z"
   },
   {
    "duration": 0,
    "start_time": "2023-01-17T18:20:22.508Z"
   },
   {
    "duration": 0,
    "start_time": "2023-01-17T18:20:22.509Z"
   },
   {
    "duration": 0,
    "start_time": "2023-01-17T18:20:22.510Z"
   },
   {
    "duration": 0,
    "start_time": "2023-01-17T18:20:22.511Z"
   },
   {
    "duration": 0,
    "start_time": "2023-01-17T18:20:22.512Z"
   },
   {
    "duration": 0,
    "start_time": "2023-01-17T18:20:22.513Z"
   },
   {
    "duration": 0,
    "start_time": "2023-01-17T18:20:22.515Z"
   },
   {
    "duration": 0,
    "start_time": "2023-01-17T18:20:22.516Z"
   },
   {
    "duration": 0,
    "start_time": "2023-01-17T18:20:22.517Z"
   },
   {
    "duration": 0,
    "start_time": "2023-01-17T18:20:22.518Z"
   },
   {
    "duration": 0,
    "start_time": "2023-01-17T18:20:22.519Z"
   },
   {
    "duration": 0,
    "start_time": "2023-01-17T18:20:22.520Z"
   },
   {
    "duration": 0,
    "start_time": "2023-01-17T18:20:22.521Z"
   },
   {
    "duration": 0,
    "start_time": "2023-01-17T18:20:22.522Z"
   },
   {
    "duration": 11,
    "start_time": "2023-01-17T18:20:49.965Z"
   },
   {
    "duration": 11,
    "start_time": "2023-01-17T18:22:24.248Z"
   },
   {
    "duration": 16,
    "start_time": "2023-01-17T18:22:48.687Z"
   },
   {
    "duration": 15,
    "start_time": "2023-01-17T18:24:21.607Z"
   },
   {
    "duration": 15,
    "start_time": "2023-01-17T18:25:35.262Z"
   },
   {
    "duration": 15,
    "start_time": "2023-01-17T18:26:31.062Z"
   },
   {
    "duration": 15,
    "start_time": "2023-01-17T18:27:31.633Z"
   },
   {
    "duration": 15,
    "start_time": "2023-01-17T18:27:58.998Z"
   },
   {
    "duration": 76,
    "start_time": "2023-01-17T18:28:57.146Z"
   },
   {
    "duration": 0,
    "start_time": "2023-01-17T18:28:57.224Z"
   },
   {
    "duration": 0,
    "start_time": "2023-01-17T18:28:57.225Z"
   },
   {
    "duration": 0,
    "start_time": "2023-01-17T18:28:57.226Z"
   },
   {
    "duration": 0,
    "start_time": "2023-01-17T18:28:57.228Z"
   },
   {
    "duration": 0,
    "start_time": "2023-01-17T18:28:57.229Z"
   },
   {
    "duration": 0,
    "start_time": "2023-01-17T18:28:57.230Z"
   },
   {
    "duration": 0,
    "start_time": "2023-01-17T18:28:57.231Z"
   },
   {
    "duration": 0,
    "start_time": "2023-01-17T18:28:57.232Z"
   },
   {
    "duration": 19,
    "start_time": "2023-01-17T18:28:57.234Z"
   },
   {
    "duration": 0,
    "start_time": "2023-01-17T18:28:57.255Z"
   },
   {
    "duration": 0,
    "start_time": "2023-01-17T18:28:57.256Z"
   },
   {
    "duration": 0,
    "start_time": "2023-01-17T18:28:57.258Z"
   },
   {
    "duration": 6,
    "start_time": "2023-01-17T18:28:57.264Z"
   },
   {
    "duration": 44,
    "start_time": "2023-01-17T18:28:57.272Z"
   },
   {
    "duration": 0,
    "start_time": "2023-01-17T18:28:57.318Z"
   },
   {
    "duration": 0,
    "start_time": "2023-01-17T18:28:57.320Z"
   },
   {
    "duration": 0,
    "start_time": "2023-01-17T18:28:57.321Z"
   },
   {
    "duration": 11,
    "start_time": "2023-01-17T18:28:57.332Z"
   },
   {
    "duration": 0,
    "start_time": "2023-01-17T18:28:57.345Z"
   },
   {
    "duration": 9,
    "start_time": "2023-01-17T18:28:57.353Z"
   },
   {
    "duration": 10,
    "start_time": "2023-01-17T18:28:57.366Z"
   },
   {
    "duration": 0,
    "start_time": "2023-01-17T18:28:57.378Z"
   },
   {
    "duration": 16,
    "start_time": "2023-01-17T18:28:57.406Z"
   },
   {
    "duration": 0,
    "start_time": "2023-01-17T18:28:57.423Z"
   },
   {
    "duration": 0,
    "start_time": "2023-01-17T18:28:57.425Z"
   },
   {
    "duration": 19,
    "start_time": "2023-01-17T18:28:57.432Z"
   },
   {
    "duration": 0,
    "start_time": "2023-01-17T18:28:57.453Z"
   },
   {
    "duration": 12,
    "start_time": "2023-01-17T18:28:57.455Z"
   },
   {
    "duration": 17,
    "start_time": "2023-01-17T18:28:57.471Z"
   },
   {
    "duration": 0,
    "start_time": "2023-01-17T18:28:57.489Z"
   },
   {
    "duration": 71,
    "start_time": "2023-01-17T18:28:57.512Z"
   },
   {
    "duration": 15,
    "start_time": "2023-01-17T18:30:07.075Z"
   },
   {
    "duration": 15,
    "start_time": "2023-01-17T18:30:28.891Z"
   },
   {
    "duration": 15,
    "start_time": "2023-01-17T18:30:32.508Z"
   },
   {
    "duration": 6,
    "start_time": "2023-01-17T18:30:38.684Z"
   },
   {
    "duration": 5,
    "start_time": "2023-01-17T18:30:41.543Z"
   },
   {
    "duration": 186,
    "start_time": "2023-01-17T18:30:44.826Z"
   },
   {
    "duration": 4,
    "start_time": "2023-01-17T18:31:02.445Z"
   },
   {
    "duration": 5,
    "start_time": "2023-01-17T18:31:07.223Z"
   },
   {
    "duration": 3,
    "start_time": "2023-01-17T18:31:10.547Z"
   },
   {
    "duration": 130,
    "start_time": "2023-01-17T18:31:27.689Z"
   },
   {
    "duration": 128,
    "start_time": "2023-01-17T18:32:45.156Z"
   },
   {
    "duration": 4,
    "start_time": "2023-01-17T18:32:49.710Z"
   },
   {
    "duration": 3,
    "start_time": "2023-01-17T18:32:57.209Z"
   },
   {
    "duration": 9,
    "start_time": "2023-01-17T18:32:57.216Z"
   },
   {
    "duration": 3,
    "start_time": "2023-01-17T18:32:57.230Z"
   },
   {
    "duration": 3,
    "start_time": "2023-01-17T18:32:57.248Z"
   },
   {
    "duration": 3,
    "start_time": "2023-01-17T18:32:57.265Z"
   },
   {
    "duration": 3,
    "start_time": "2023-01-17T18:32:57.278Z"
   },
   {
    "duration": 73,
    "start_time": "2023-01-17T18:32:57.302Z"
   },
   {
    "duration": 0,
    "start_time": "2023-01-17T18:32:57.377Z"
   },
   {
    "duration": 0,
    "start_time": "2023-01-17T18:32:57.378Z"
   },
   {
    "duration": 0,
    "start_time": "2023-01-17T18:32:57.379Z"
   },
   {
    "duration": 0,
    "start_time": "2023-01-17T18:32:57.380Z"
   },
   {
    "duration": 0,
    "start_time": "2023-01-17T18:32:57.381Z"
   },
   {
    "duration": 0,
    "start_time": "2023-01-17T18:32:57.382Z"
   },
   {
    "duration": 9,
    "start_time": "2023-01-17T18:32:57.388Z"
   },
   {
    "duration": 10,
    "start_time": "2023-01-17T18:32:57.399Z"
   },
   {
    "duration": 0,
    "start_time": "2023-01-17T18:32:57.410Z"
   },
   {
    "duration": 11,
    "start_time": "2023-01-17T18:32:57.422Z"
   },
   {
    "duration": 5,
    "start_time": "2023-01-17T18:32:57.445Z"
   },
   {
    "duration": 19,
    "start_time": "2023-01-17T18:32:57.454Z"
   },
   {
    "duration": 0,
    "start_time": "2023-01-17T18:32:57.474Z"
   },
   {
    "duration": 0,
    "start_time": "2023-01-17T18:32:57.476Z"
   },
   {
    "duration": 73,
    "start_time": "2023-01-17T18:32:57.479Z"
   },
   {
    "duration": 10,
    "start_time": "2023-01-17T18:33:26.862Z"
   },
   {
    "duration": 9,
    "start_time": "2023-01-17T18:33:43.192Z"
   },
   {
    "duration": 6,
    "start_time": "2023-01-17T18:34:13.232Z"
   },
   {
    "duration": 4,
    "start_time": "2023-01-17T18:34:14.763Z"
   },
   {
    "duration": 4,
    "start_time": "2023-01-17T18:34:16.316Z"
   },
   {
    "duration": 4,
    "start_time": "2023-01-17T18:34:17.358Z"
   },
   {
    "duration": 169,
    "start_time": "2023-01-17T18:34:18.587Z"
   },
   {
    "duration": 2,
    "start_time": "2023-01-17T18:34:42.556Z"
   },
   {
    "duration": 9,
    "start_time": "2023-01-17T18:34:43.361Z"
   },
   {
    "duration": 3,
    "start_time": "2023-01-17T18:34:44.127Z"
   },
   {
    "duration": 6,
    "start_time": "2023-01-17T18:35:09.762Z"
   },
   {
    "duration": 4,
    "start_time": "2023-01-17T18:35:10.638Z"
   },
   {
    "duration": 4,
    "start_time": "2023-01-17T18:35:13.310Z"
   },
   {
    "duration": 4,
    "start_time": "2023-01-17T18:35:14.134Z"
   },
   {
    "duration": 171,
    "start_time": "2023-01-17T18:35:14.944Z"
   },
   {
    "duration": 1184,
    "start_time": "2023-01-17T18:36:26.450Z"
   },
   {
    "duration": 48,
    "start_time": "2023-01-17T18:36:27.636Z"
   },
   {
    "duration": 17,
    "start_time": "2023-01-17T18:36:27.686Z"
   },
   {
    "duration": 15,
    "start_time": "2023-01-17T18:36:27.705Z"
   },
   {
    "duration": 3,
    "start_time": "2023-01-17T18:36:27.722Z"
   },
   {
    "duration": 11,
    "start_time": "2023-01-17T18:36:27.726Z"
   },
   {
    "duration": 11,
    "start_time": "2023-01-17T18:36:27.739Z"
   },
   {
    "duration": 18,
    "start_time": "2023-01-17T18:36:27.751Z"
   },
   {
    "duration": 10,
    "start_time": "2023-01-17T18:36:27.771Z"
   },
   {
    "duration": 28,
    "start_time": "2023-01-17T18:36:27.783Z"
   },
   {
    "duration": 10,
    "start_time": "2023-01-17T18:36:27.812Z"
   },
   {
    "duration": 6,
    "start_time": "2023-01-17T18:36:27.824Z"
   },
   {
    "duration": 15,
    "start_time": "2023-01-17T18:36:27.832Z"
   },
   {
    "duration": 9,
    "start_time": "2023-01-17T18:36:27.849Z"
   },
   {
    "duration": 22,
    "start_time": "2023-01-17T18:36:27.859Z"
   },
   {
    "duration": 6,
    "start_time": "2023-01-17T18:36:27.883Z"
   },
   {
    "duration": 31,
    "start_time": "2023-01-17T18:36:27.891Z"
   },
   {
    "duration": 13,
    "start_time": "2023-01-17T18:36:27.924Z"
   },
   {
    "duration": 9,
    "start_time": "2023-01-17T18:36:27.939Z"
   },
   {
    "duration": 8,
    "start_time": "2023-01-17T18:36:27.951Z"
   },
   {
    "duration": 22,
    "start_time": "2023-01-17T18:36:27.961Z"
   },
   {
    "duration": 28,
    "start_time": "2023-01-17T18:36:27.985Z"
   },
   {
    "duration": 20,
    "start_time": "2023-01-17T18:36:28.015Z"
   },
   {
    "duration": 7,
    "start_time": "2023-01-17T18:36:28.037Z"
   },
   {
    "duration": 31,
    "start_time": "2023-01-17T18:36:28.046Z"
   },
   {
    "duration": 447,
    "start_time": "2023-01-17T18:36:28.079Z"
   },
   {
    "duration": 6,
    "start_time": "2023-01-17T18:36:28.527Z"
   },
   {
    "duration": 14,
    "start_time": "2023-01-17T18:36:28.537Z"
   },
   {
    "duration": 14,
    "start_time": "2023-01-17T18:36:28.553Z"
   },
   {
    "duration": 11,
    "start_time": "2023-01-17T18:36:28.569Z"
   },
   {
    "duration": 16,
    "start_time": "2023-01-17T18:36:28.582Z"
   },
   {
    "duration": 37,
    "start_time": "2023-01-17T18:36:28.599Z"
   },
   {
    "duration": 10,
    "start_time": "2023-01-17T18:36:28.638Z"
   },
   {
    "duration": 158,
    "start_time": "2023-01-17T18:36:28.649Z"
   },
   {
    "duration": 5,
    "start_time": "2023-01-17T18:36:28.812Z"
   },
   {
    "duration": 9,
    "start_time": "2023-01-17T18:36:28.818Z"
   },
   {
    "duration": 6,
    "start_time": "2023-01-17T18:36:28.829Z"
   },
   {
    "duration": 10,
    "start_time": "2023-01-17T18:36:28.837Z"
   },
   {
    "duration": 8,
    "start_time": "2023-01-17T18:36:28.848Z"
   },
   {
    "duration": 17,
    "start_time": "2023-01-17T18:36:28.858Z"
   },
   {
    "duration": 37,
    "start_time": "2023-01-17T18:36:28.876Z"
   },
   {
    "duration": 36,
    "start_time": "2023-01-17T18:36:28.915Z"
   },
   {
    "duration": 15,
    "start_time": "2023-01-17T18:36:28.953Z"
   },
   {
    "duration": 11,
    "start_time": "2023-01-17T18:36:28.970Z"
   },
   {
    "duration": 7,
    "start_time": "2023-01-17T18:36:28.983Z"
   },
   {
    "duration": 12,
    "start_time": "2023-01-17T18:36:28.991Z"
   },
   {
    "duration": 8,
    "start_time": "2023-01-17T18:36:29.005Z"
   },
   {
    "duration": 8,
    "start_time": "2023-01-17T18:36:29.015Z"
   },
   {
    "duration": 17,
    "start_time": "2023-01-17T18:36:29.025Z"
   },
   {
    "duration": 14,
    "start_time": "2023-01-17T18:36:29.045Z"
   },
   {
    "duration": 195,
    "start_time": "2023-01-17T18:36:29.061Z"
   },
   {
    "duration": 11,
    "start_time": "2023-01-17T18:36:29.258Z"
   },
   {
    "duration": 19,
    "start_time": "2023-01-17T18:36:29.271Z"
   },
   {
    "duration": 558,
    "start_time": "2023-01-17T18:36:29.292Z"
   },
   {
    "duration": 15,
    "start_time": "2023-01-17T18:36:29.852Z"
   },
   {
    "duration": 763,
    "start_time": "2023-01-17T18:36:29.869Z"
   },
   {
    "duration": 5,
    "start_time": "2023-01-17T18:36:30.634Z"
   },
   {
    "duration": 53,
    "start_time": "2023-01-17T18:36:30.641Z"
   },
   {
    "duration": 600,
    "start_time": "2023-01-17T18:36:30.696Z"
   },
   {
    "duration": 17,
    "start_time": "2023-01-17T18:36:31.297Z"
   },
   {
    "duration": 205,
    "start_time": "2023-01-17T18:36:31.316Z"
   },
   {
    "duration": 3,
    "start_time": "2023-01-17T18:36:31.524Z"
   },
   {
    "duration": 31,
    "start_time": "2023-01-17T18:36:31.529Z"
   },
   {
    "duration": 414,
    "start_time": "2023-01-17T18:36:31.562Z"
   },
   {
    "duration": 9,
    "start_time": "2023-01-17T18:36:31.978Z"
   },
   {
    "duration": 32,
    "start_time": "2023-01-17T18:36:31.988Z"
   },
   {
    "duration": 16,
    "start_time": "2023-01-17T18:36:32.022Z"
   },
   {
    "duration": 555,
    "start_time": "2023-01-17T18:36:32.040Z"
   },
   {
    "duration": 168,
    "start_time": "2023-01-17T18:36:32.597Z"
   },
   {
    "duration": 152,
    "start_time": "2023-01-17T18:36:32.766Z"
   },
   {
    "duration": 6,
    "start_time": "2023-01-17T18:36:32.920Z"
   },
   {
    "duration": 16,
    "start_time": "2023-01-17T18:36:32.928Z"
   },
   {
    "duration": 6,
    "start_time": "2023-01-17T18:36:32.947Z"
   },
   {
    "duration": 229,
    "start_time": "2023-01-17T18:36:32.956Z"
   },
   {
    "duration": 5,
    "start_time": "2023-01-17T18:36:33.188Z"
   },
   {
    "duration": 282,
    "start_time": "2023-01-17T18:36:33.194Z"
   },
   {
    "duration": 16,
    "start_time": "2023-01-17T18:36:33.478Z"
   },
   {
    "duration": 28,
    "start_time": "2023-01-17T18:36:33.497Z"
   },
   {
    "duration": 15,
    "start_time": "2023-01-17T18:36:33.527Z"
   },
   {
    "duration": 16,
    "start_time": "2023-01-17T18:36:33.544Z"
   },
   {
    "duration": 17,
    "start_time": "2023-01-17T18:36:33.562Z"
   },
   {
    "duration": 17,
    "start_time": "2023-01-17T18:36:33.621Z"
   },
   {
    "duration": 20,
    "start_time": "2023-01-17T18:36:33.640Z"
   },
   {
    "duration": 13,
    "start_time": "2023-01-17T18:36:33.662Z"
   },
   {
    "duration": 37,
    "start_time": "2023-01-17T18:36:33.677Z"
   },
   {
    "duration": 5,
    "start_time": "2023-01-17T18:36:33.716Z"
   },
   {
    "duration": 8,
    "start_time": "2023-01-17T18:36:33.723Z"
   },
   {
    "duration": 183,
    "start_time": "2023-01-17T18:36:33.732Z"
   },
   {
    "duration": 4,
    "start_time": "2023-01-17T18:36:33.917Z"
   },
   {
    "duration": 10,
    "start_time": "2023-01-17T18:36:33.923Z"
   },
   {
    "duration": 13,
    "start_time": "2023-01-17T18:36:33.935Z"
   },
   {
    "duration": 143,
    "start_time": "2023-01-17T18:36:33.950Z"
   },
   {
    "duration": 4,
    "start_time": "2023-01-17T18:36:34.094Z"
   },
   {
    "duration": 21,
    "start_time": "2023-01-17T18:36:34.100Z"
   },
   {
    "duration": 21,
    "start_time": "2023-01-17T18:36:34.123Z"
   },
   {
    "duration": 9,
    "start_time": "2023-01-17T18:36:34.146Z"
   },
   {
    "duration": 7,
    "start_time": "2023-01-17T18:36:34.157Z"
   },
   {
    "duration": 7,
    "start_time": "2023-01-17T18:36:34.165Z"
   },
   {
    "duration": 72,
    "start_time": "2023-01-17T18:36:34.173Z"
   },
   {
    "duration": 0,
    "start_time": "2023-01-17T18:36:34.247Z"
   },
   {
    "duration": 0,
    "start_time": "2023-01-17T18:36:34.248Z"
   },
   {
    "duration": 0,
    "start_time": "2023-01-17T18:36:34.249Z"
   },
   {
    "duration": 0,
    "start_time": "2023-01-17T18:36:34.251Z"
   },
   {
    "duration": 0,
    "start_time": "2023-01-17T18:36:34.252Z"
   },
   {
    "duration": 0,
    "start_time": "2023-01-17T18:36:34.253Z"
   },
   {
    "duration": 0,
    "start_time": "2023-01-17T18:36:34.254Z"
   },
   {
    "duration": 0,
    "start_time": "2023-01-17T18:36:34.255Z"
   },
   {
    "duration": 0,
    "start_time": "2023-01-17T18:36:34.256Z"
   },
   {
    "duration": 0,
    "start_time": "2023-01-17T18:36:34.257Z"
   },
   {
    "duration": 0,
    "start_time": "2023-01-17T18:36:34.258Z"
   },
   {
    "duration": 0,
    "start_time": "2023-01-17T18:36:34.259Z"
   },
   {
    "duration": 0,
    "start_time": "2023-01-17T18:36:34.260Z"
   },
   {
    "duration": 0,
    "start_time": "2023-01-17T18:36:34.261Z"
   },
   {
    "duration": 0,
    "start_time": "2023-01-17T18:36:34.261Z"
   },
   {
    "duration": 6,
    "start_time": "2023-01-17T18:40:31.727Z"
   },
   {
    "duration": 162,
    "start_time": "2023-01-17T18:40:35.941Z"
   },
   {
    "duration": 5,
    "start_time": "2023-01-17T18:40:36.670Z"
   },
   {
    "duration": 4,
    "start_time": "2023-01-17T18:40:37.307Z"
   },
   {
    "duration": 4,
    "start_time": "2023-01-17T18:40:37.914Z"
   },
   {
    "duration": 125,
    "start_time": "2023-01-17T18:40:38.698Z"
   },
   {
    "duration": 4,
    "start_time": "2023-01-17T18:40:39.033Z"
   },
   {
    "duration": 4,
    "start_time": "2023-01-17T18:40:39.781Z"
   },
   {
    "duration": 3,
    "start_time": "2023-01-17T18:40:40.249Z"
   },
   {
    "duration": 3,
    "start_time": "2023-01-17T18:40:40.906Z"
   },
   {
    "duration": 3,
    "start_time": "2023-01-17T18:40:41.350Z"
   },
   {
    "duration": 3,
    "start_time": "2023-01-17T18:40:41.795Z"
   },
   {
    "duration": 76,
    "start_time": "2023-01-17T18:40:42.240Z"
   },
   {
    "duration": 6,
    "start_time": "2023-01-17T18:40:43.906Z"
   },
   {
    "duration": 4,
    "start_time": "2023-01-17T18:40:44.192Z"
   },
   {
    "duration": 4,
    "start_time": "2023-01-17T18:40:44.530Z"
   },
   {
    "duration": 3,
    "start_time": "2023-01-17T18:40:44.814Z"
   },
   {
    "duration": 163,
    "start_time": "2023-01-17T18:40:45.102Z"
   },
   {
    "duration": 5,
    "start_time": "2023-01-17T18:40:45.377Z"
   },
   {
    "duration": 5,
    "start_time": "2023-01-17T18:40:45.642Z"
   },
   {
    "duration": 4,
    "start_time": "2023-01-17T18:40:45.892Z"
   },
   {
    "duration": 4,
    "start_time": "2023-01-17T18:40:46.337Z"
   },
   {
    "duration": 185,
    "start_time": "2023-01-17T18:40:46.612Z"
   },
   {
    "duration": 2,
    "start_time": "2023-01-17T18:40:47.117Z"
   },
   {
    "duration": 4,
    "start_time": "2023-01-17T18:40:48.093Z"
   },
   {
    "duration": 4,
    "start_time": "2023-01-17T18:40:48.752Z"
   },
   {
    "duration": 82,
    "start_time": "2023-01-17T18:40:50.349Z"
   },
   {
    "duration": 67,
    "start_time": "2023-01-17T18:40:51.305Z"
   },
   {
    "duration": 523,
    "start_time": "2023-01-17T19:14:50.442Z"
   },
   {
    "duration": 57,
    "start_time": "2023-01-17T19:40:10.928Z"
   },
   {
    "duration": 1234,
    "start_time": "2023-01-17T19:40:26.584Z"
   },
   {
    "duration": 49,
    "start_time": "2023-01-17T19:40:27.820Z"
   },
   {
    "duration": 18,
    "start_time": "2023-01-17T19:40:27.871Z"
   },
   {
    "duration": 32,
    "start_time": "2023-01-17T19:40:27.891Z"
   },
   {
    "duration": 28,
    "start_time": "2023-01-17T19:40:27.926Z"
   },
   {
    "duration": 27,
    "start_time": "2023-01-17T19:40:27.956Z"
   },
   {
    "duration": 38,
    "start_time": "2023-01-17T19:40:27.985Z"
   },
   {
    "duration": 45,
    "start_time": "2023-01-17T19:40:28.029Z"
   },
   {
    "duration": 21,
    "start_time": "2023-01-17T19:40:28.076Z"
   },
   {
    "duration": 43,
    "start_time": "2023-01-17T19:40:28.100Z"
   },
   {
    "duration": 22,
    "start_time": "2023-01-17T19:40:28.145Z"
   },
   {
    "duration": 22,
    "start_time": "2023-01-17T19:40:28.169Z"
   },
   {
    "duration": 10,
    "start_time": "2023-01-17T19:40:28.192Z"
   },
   {
    "duration": 12,
    "start_time": "2023-01-17T19:40:28.203Z"
   },
   {
    "duration": 52,
    "start_time": "2023-01-17T19:40:28.222Z"
   },
   {
    "duration": 13,
    "start_time": "2023-01-17T19:40:28.276Z"
   },
   {
    "duration": 8,
    "start_time": "2023-01-17T19:40:28.291Z"
   },
   {
    "duration": 12,
    "start_time": "2023-01-17T19:40:28.301Z"
   },
   {
    "duration": 28,
    "start_time": "2023-01-17T19:40:28.315Z"
   },
   {
    "duration": 30,
    "start_time": "2023-01-17T19:40:28.345Z"
   },
   {
    "duration": 31,
    "start_time": "2023-01-17T19:40:28.377Z"
   },
   {
    "duration": 6,
    "start_time": "2023-01-17T19:40:28.410Z"
   },
   {
    "duration": 33,
    "start_time": "2023-01-17T19:40:28.418Z"
   },
   {
    "duration": 431,
    "start_time": "2023-01-17T19:40:28.453Z"
   },
   {
    "duration": 6,
    "start_time": "2023-01-17T19:40:28.886Z"
   },
   {
    "duration": 25,
    "start_time": "2023-01-17T19:40:28.893Z"
   },
   {
    "duration": 14,
    "start_time": "2023-01-17T19:40:28.921Z"
   },
   {
    "duration": 14,
    "start_time": "2023-01-17T19:40:28.939Z"
   },
   {
    "duration": 13,
    "start_time": "2023-01-17T19:40:28.955Z"
   },
   {
    "duration": 30,
    "start_time": "2023-01-17T19:40:28.970Z"
   },
   {
    "duration": 17,
    "start_time": "2023-01-17T19:40:29.002Z"
   },
   {
    "duration": 172,
    "start_time": "2023-01-17T19:40:29.027Z"
   },
   {
    "duration": 5,
    "start_time": "2023-01-17T19:40:29.201Z"
   },
   {
    "duration": 14,
    "start_time": "2023-01-17T19:40:29.215Z"
   },
   {
    "duration": 5,
    "start_time": "2023-01-17T19:40:29.231Z"
   },
   {
    "duration": 12,
    "start_time": "2023-01-17T19:40:29.238Z"
   },
   {
    "duration": 9,
    "start_time": "2023-01-17T19:40:29.252Z"
   },
   {
    "duration": 11,
    "start_time": "2023-01-17T19:40:29.263Z"
   },
   {
    "duration": 9,
    "start_time": "2023-01-17T19:40:29.276Z"
   },
   {
    "duration": 10,
    "start_time": "2023-01-17T19:40:29.287Z"
   },
   {
    "duration": 19,
    "start_time": "2023-01-17T19:40:29.298Z"
   },
   {
    "duration": 22,
    "start_time": "2023-01-17T19:40:29.319Z"
   },
   {
    "duration": 6,
    "start_time": "2023-01-17T19:40:29.344Z"
   },
   {
    "duration": 25,
    "start_time": "2023-01-17T19:40:29.352Z"
   },
   {
    "duration": 44,
    "start_time": "2023-01-17T19:40:29.378Z"
   },
   {
    "duration": 203,
    "start_time": "2023-01-17T19:40:29.424Z"
   },
   {
    "duration": 12,
    "start_time": "2023-01-17T19:40:29.628Z"
   },
   {
    "duration": 20,
    "start_time": "2023-01-17T19:40:29.641Z"
   },
   {
    "duration": 574,
    "start_time": "2023-01-17T19:40:29.663Z"
   },
   {
    "duration": 19,
    "start_time": "2023-01-17T19:40:30.242Z"
   },
   {
    "duration": 866,
    "start_time": "2023-01-17T19:40:30.264Z"
   },
   {
    "duration": 3,
    "start_time": "2023-01-17T19:40:31.132Z"
   },
   {
    "duration": 19,
    "start_time": "2023-01-17T19:40:31.136Z"
   },
   {
    "duration": 593,
    "start_time": "2023-01-17T19:40:31.156Z"
   },
   {
    "duration": 7,
    "start_time": "2023-01-17T19:40:31.751Z"
   },
   {
    "duration": 225,
    "start_time": "2023-01-17T19:40:31.760Z"
   },
   {
    "duration": 3,
    "start_time": "2023-01-17T19:40:31.987Z"
   },
   {
    "duration": 60,
    "start_time": "2023-01-17T19:40:31.992Z"
   },
   {
    "duration": 450,
    "start_time": "2023-01-17T19:40:32.054Z"
   },
   {
    "duration": 10,
    "start_time": "2023-01-17T19:40:32.505Z"
   },
   {
    "duration": 42,
    "start_time": "2023-01-17T19:40:32.516Z"
   },
   {
    "duration": 19,
    "start_time": "2023-01-17T19:40:32.559Z"
   },
   {
    "duration": 585,
    "start_time": "2023-01-17T19:40:32.580Z"
   },
   {
    "duration": 217,
    "start_time": "2023-01-17T19:40:33.167Z"
   },
   {
    "duration": 171,
    "start_time": "2023-01-17T19:40:33.386Z"
   },
   {
    "duration": 6,
    "start_time": "2023-01-17T19:40:33.559Z"
   },
   {
    "duration": 7,
    "start_time": "2023-01-17T19:40:33.567Z"
   },
   {
    "duration": 11,
    "start_time": "2023-01-17T19:40:33.576Z"
   },
   {
    "duration": 212,
    "start_time": "2023-01-17T19:40:33.589Z"
   },
   {
    "duration": 27,
    "start_time": "2023-01-17T19:40:33.803Z"
   },
   {
    "duration": 302,
    "start_time": "2023-01-17T19:40:33.833Z"
   },
   {
    "duration": 17,
    "start_time": "2023-01-17T19:40:34.137Z"
   },
   {
    "duration": 17,
    "start_time": "2023-01-17T19:40:34.156Z"
   },
   {
    "duration": 41,
    "start_time": "2023-01-17T19:40:34.175Z"
   },
   {
    "duration": 27,
    "start_time": "2023-01-17T19:40:34.218Z"
   },
   {
    "duration": 20,
    "start_time": "2023-01-17T19:40:34.247Z"
   },
   {
    "duration": 16,
    "start_time": "2023-01-17T19:40:34.269Z"
   },
   {
    "duration": 43,
    "start_time": "2023-01-17T19:40:34.286Z"
   },
   {
    "duration": 14,
    "start_time": "2023-01-17T19:40:34.331Z"
   },
   {
    "duration": 20,
    "start_time": "2023-01-17T19:40:34.346Z"
   },
   {
    "duration": 20,
    "start_time": "2023-01-17T19:40:34.368Z"
   },
   {
    "duration": 10,
    "start_time": "2023-01-17T19:40:34.393Z"
   },
   {
    "duration": 181,
    "start_time": "2023-01-17T19:40:34.405Z"
   },
   {
    "duration": 162,
    "start_time": "2023-01-17T19:40:34.588Z"
   },
   {
    "duration": 3,
    "start_time": "2023-01-17T19:40:34.752Z"
   },
   {
    "duration": 19,
    "start_time": "2023-01-17T19:40:34.757Z"
   },
   {
    "duration": 65,
    "start_time": "2023-01-17T19:40:34.778Z"
   },
   {
    "duration": 77,
    "start_time": "2023-01-17T19:40:34.845Z"
   },
   {
    "duration": 0,
    "start_time": "2023-01-17T19:40:34.923Z"
   },
   {
    "duration": 0,
    "start_time": "2023-01-17T19:40:34.926Z"
   },
   {
    "duration": 0,
    "start_time": "2023-01-17T19:40:34.929Z"
   },
   {
    "duration": 0,
    "start_time": "2023-01-17T19:40:34.932Z"
   },
   {
    "duration": 0,
    "start_time": "2023-01-17T19:40:34.933Z"
   },
   {
    "duration": 0,
    "start_time": "2023-01-17T19:40:34.934Z"
   },
   {
    "duration": 0,
    "start_time": "2023-01-17T19:40:34.936Z"
   },
   {
    "duration": 0,
    "start_time": "2023-01-17T19:40:34.937Z"
   },
   {
    "duration": 0,
    "start_time": "2023-01-17T19:40:34.939Z"
   },
   {
    "duration": 3,
    "start_time": "2023-01-17T19:48:23.303Z"
   },
   {
    "duration": 1161,
    "start_time": "2023-01-17T19:48:40.565Z"
   },
   {
    "duration": 60,
    "start_time": "2023-01-17T19:48:41.730Z"
   },
   {
    "duration": 19,
    "start_time": "2023-01-17T19:48:41.792Z"
   },
   {
    "duration": 28,
    "start_time": "2023-01-17T19:48:41.813Z"
   },
   {
    "duration": 5,
    "start_time": "2023-01-17T19:48:41.843Z"
   },
   {
    "duration": 26,
    "start_time": "2023-01-17T19:48:41.850Z"
   },
   {
    "duration": 13,
    "start_time": "2023-01-17T19:48:41.878Z"
   },
   {
    "duration": 40,
    "start_time": "2023-01-17T19:48:41.893Z"
   },
   {
    "duration": 23,
    "start_time": "2023-01-17T19:48:41.935Z"
   },
   {
    "duration": 19,
    "start_time": "2023-01-17T19:48:41.960Z"
   },
   {
    "duration": 20,
    "start_time": "2023-01-17T19:48:41.981Z"
   },
   {
    "duration": 40,
    "start_time": "2023-01-17T19:48:42.003Z"
   },
   {
    "duration": 31,
    "start_time": "2023-01-17T19:48:42.045Z"
   },
   {
    "duration": 31,
    "start_time": "2023-01-17T19:48:42.078Z"
   },
   {
    "duration": 42,
    "start_time": "2023-01-17T19:48:42.111Z"
   },
   {
    "duration": 5,
    "start_time": "2023-01-17T19:48:42.155Z"
   },
   {
    "duration": 20,
    "start_time": "2023-01-17T19:48:42.162Z"
   },
   {
    "duration": 22,
    "start_time": "2023-01-17T19:48:42.184Z"
   },
   {
    "duration": 46,
    "start_time": "2023-01-17T19:48:42.208Z"
   },
   {
    "duration": 33,
    "start_time": "2023-01-17T19:48:42.256Z"
   },
   {
    "duration": 40,
    "start_time": "2023-01-17T19:48:42.290Z"
   },
   {
    "duration": 4,
    "start_time": "2023-01-17T19:48:42.333Z"
   },
   {
    "duration": 37,
    "start_time": "2023-01-17T19:48:42.340Z"
   },
   {
    "duration": 476,
    "start_time": "2023-01-17T19:48:42.380Z"
   },
   {
    "duration": 5,
    "start_time": "2023-01-17T19:48:42.858Z"
   },
   {
    "duration": 28,
    "start_time": "2023-01-17T19:48:42.865Z"
   },
   {
    "duration": 46,
    "start_time": "2023-01-17T19:48:42.894Z"
   },
   {
    "duration": 21,
    "start_time": "2023-01-17T19:48:42.943Z"
   },
   {
    "duration": 30,
    "start_time": "2023-01-17T19:48:42.966Z"
   },
   {
    "duration": 37,
    "start_time": "2023-01-17T19:48:42.997Z"
   },
   {
    "duration": 24,
    "start_time": "2023-01-17T19:48:43.036Z"
   },
   {
    "duration": 181,
    "start_time": "2023-01-17T19:48:43.062Z"
   },
   {
    "duration": 4,
    "start_time": "2023-01-17T19:48:43.245Z"
   },
   {
    "duration": 38,
    "start_time": "2023-01-17T19:48:43.250Z"
   },
   {
    "duration": 20,
    "start_time": "2023-01-17T19:48:43.290Z"
   },
   {
    "duration": 4,
    "start_time": "2023-01-17T19:52:06.094Z"
   },
   {
    "duration": 18,
    "start_time": "2023-01-17T19:52:08.334Z"
   },
   {
    "duration": 6,
    "start_time": "2023-01-17T19:52:22.579Z"
   },
   {
    "duration": 7,
    "start_time": "2023-01-17T19:52:24.575Z"
   },
   {
    "duration": 7,
    "start_time": "2023-01-17T19:53:03.204Z"
   },
   {
    "duration": 7,
    "start_time": "2023-01-17T19:53:03.737Z"
   },
   {
    "duration": 6,
    "start_time": "2023-01-17T19:53:05.140Z"
   },
   {
    "duration": 8,
    "start_time": "2023-01-17T19:53:06.295Z"
   },
   {
    "duration": 1298,
    "start_time": "2023-01-17T19:56:59.734Z"
   },
   {
    "duration": 49,
    "start_time": "2023-01-17T19:57:01.035Z"
   },
   {
    "duration": 27,
    "start_time": "2023-01-17T19:57:01.086Z"
   },
   {
    "duration": 22,
    "start_time": "2023-01-17T19:57:01.118Z"
   },
   {
    "duration": 56,
    "start_time": "2023-01-17T19:57:01.142Z"
   },
   {
    "duration": 62,
    "start_time": "2023-01-17T19:57:01.200Z"
   },
   {
    "duration": 100,
    "start_time": "2023-01-17T19:57:01.264Z"
   },
   {
    "duration": 73,
    "start_time": "2023-01-17T19:57:01.366Z"
   },
   {
    "duration": 58,
    "start_time": "2023-01-17T19:57:01.441Z"
   },
   {
    "duration": 50,
    "start_time": "2023-01-17T19:57:01.503Z"
   },
   {
    "duration": 36,
    "start_time": "2023-01-17T19:57:01.554Z"
   },
   {
    "duration": 23,
    "start_time": "2023-01-17T19:57:01.592Z"
   },
   {
    "duration": 31,
    "start_time": "2023-01-17T19:57:01.621Z"
   },
   {
    "duration": 102,
    "start_time": "2023-01-17T19:57:01.654Z"
   },
   {
    "duration": 80,
    "start_time": "2023-01-17T19:57:01.758Z"
   },
   {
    "duration": 27,
    "start_time": "2023-01-17T19:57:01.840Z"
   },
   {
    "duration": 40,
    "start_time": "2023-01-17T19:57:01.869Z"
   },
   {
    "duration": 46,
    "start_time": "2023-01-17T19:57:01.912Z"
   },
   {
    "duration": 34,
    "start_time": "2023-01-17T19:57:01.960Z"
   },
   {
    "duration": 65,
    "start_time": "2023-01-17T19:57:01.995Z"
   },
   {
    "duration": 33,
    "start_time": "2023-01-17T19:57:02.062Z"
   },
   {
    "duration": 5,
    "start_time": "2023-01-17T19:57:02.096Z"
   },
   {
    "duration": 52,
    "start_time": "2023-01-17T19:57:02.103Z"
   },
   {
    "duration": 629,
    "start_time": "2023-01-17T19:57:02.157Z"
   },
   {
    "duration": 6,
    "start_time": "2023-01-17T19:57:02.788Z"
   },
   {
    "duration": 57,
    "start_time": "2023-01-17T19:57:02.796Z"
   },
   {
    "duration": 15,
    "start_time": "2023-01-17T19:57:02.855Z"
   },
   {
    "duration": 10,
    "start_time": "2023-01-17T19:57:02.874Z"
   },
   {
    "duration": 17,
    "start_time": "2023-01-17T19:57:02.886Z"
   },
   {
    "duration": 62,
    "start_time": "2023-01-17T19:57:02.905Z"
   },
   {
    "duration": 6,
    "start_time": "2023-01-17T19:57:02.969Z"
   },
   {
    "duration": 168,
    "start_time": "2023-01-17T19:57:02.977Z"
   },
   {
    "duration": 5,
    "start_time": "2023-01-17T19:57:03.146Z"
   },
   {
    "duration": 22,
    "start_time": "2023-01-17T19:57:03.154Z"
   },
   {
    "duration": 22,
    "start_time": "2023-01-17T19:57:03.178Z"
   },
   {
    "duration": 24,
    "start_time": "2023-01-17T19:57:03.202Z"
   },
   {
    "duration": 21,
    "start_time": "2023-01-17T19:57:03.228Z"
   },
   {
    "duration": 18,
    "start_time": "2023-01-17T19:57:03.251Z"
   },
   {
    "duration": 17,
    "start_time": "2023-01-17T19:57:03.272Z"
   },
   {
    "duration": 54,
    "start_time": "2023-01-17T19:57:03.291Z"
   },
   {
    "duration": 14,
    "start_time": "2023-01-17T19:57:03.347Z"
   },
   {
    "duration": 21,
    "start_time": "2023-01-17T19:57:03.363Z"
   },
   {
    "duration": 88,
    "start_time": "2023-01-17T19:57:03.386Z"
   },
   {
    "duration": 229,
    "start_time": "2023-01-17T19:57:03.476Z"
   },
   {
    "duration": 13,
    "start_time": "2023-01-17T19:57:03.707Z"
   },
   {
    "duration": 33,
    "start_time": "2023-01-17T19:57:03.722Z"
   },
   {
    "duration": 587,
    "start_time": "2023-01-17T19:57:03.757Z"
   },
   {
    "duration": 15,
    "start_time": "2023-01-17T19:57:04.346Z"
   },
   {
    "duration": 810,
    "start_time": "2023-01-17T19:57:04.363Z"
   },
   {
    "duration": 3,
    "start_time": "2023-01-17T19:57:05.175Z"
   },
   {
    "duration": 10,
    "start_time": "2023-01-17T19:57:05.180Z"
   },
   {
    "duration": 611,
    "start_time": "2023-01-17T19:57:05.192Z"
   },
   {
    "duration": 14,
    "start_time": "2023-01-17T19:57:05.806Z"
   },
   {
    "duration": 308,
    "start_time": "2023-01-17T19:57:05.824Z"
   },
   {
    "duration": 7,
    "start_time": "2023-01-17T19:57:06.135Z"
   },
   {
    "duration": 15,
    "start_time": "2023-01-17T19:57:06.144Z"
   },
   {
    "duration": 490,
    "start_time": "2023-01-17T19:57:06.162Z"
   },
   {
    "duration": 9,
    "start_time": "2023-01-17T19:57:06.653Z"
   },
   {
    "duration": 25,
    "start_time": "2023-01-17T19:57:06.664Z"
   },
   {
    "duration": 31,
    "start_time": "2023-01-17T19:57:06.691Z"
   },
   {
    "duration": 612,
    "start_time": "2023-01-17T19:57:06.725Z"
   },
   {
    "duration": 163,
    "start_time": "2023-01-17T19:57:07.339Z"
   },
   {
    "duration": 167,
    "start_time": "2023-01-17T19:57:07.504Z"
   },
   {
    "duration": 6,
    "start_time": "2023-01-17T19:57:07.672Z"
   },
   {
    "duration": 7,
    "start_time": "2023-01-17T19:57:07.680Z"
   },
   {
    "duration": 29,
    "start_time": "2023-01-17T19:57:07.689Z"
   },
   {
    "duration": 211,
    "start_time": "2023-01-17T19:57:07.720Z"
   },
   {
    "duration": 6,
    "start_time": "2023-01-17T19:57:07.933Z"
   },
   {
    "duration": 307,
    "start_time": "2023-01-17T19:57:07.941Z"
   },
   {
    "duration": 18,
    "start_time": "2023-01-17T19:57:08.250Z"
   },
   {
    "duration": 34,
    "start_time": "2023-01-17T19:57:08.271Z"
   },
   {
    "duration": 21,
    "start_time": "2023-01-17T19:57:08.316Z"
   },
   {
    "duration": 31,
    "start_time": "2023-01-17T19:57:08.340Z"
   },
   {
    "duration": 25,
    "start_time": "2023-01-17T19:57:08.373Z"
   },
   {
    "duration": 54,
    "start_time": "2023-01-17T19:57:08.400Z"
   },
   {
    "duration": 19,
    "start_time": "2023-01-17T19:57:08.456Z"
   },
   {
    "duration": 31,
    "start_time": "2023-01-17T19:57:08.477Z"
   },
   {
    "duration": 29,
    "start_time": "2023-01-17T19:57:08.511Z"
   },
   {
    "duration": 11,
    "start_time": "2023-01-17T19:57:08.543Z"
   },
   {
    "duration": 14,
    "start_time": "2023-01-17T19:57:08.555Z"
   },
   {
    "duration": 231,
    "start_time": "2023-01-17T19:57:08.572Z"
   },
   {
    "duration": 163,
    "start_time": "2023-01-17T19:57:08.810Z"
   },
   {
    "duration": 3,
    "start_time": "2023-01-17T19:57:08.975Z"
   },
   {
    "duration": 7,
    "start_time": "2023-01-17T19:57:08.980Z"
   },
   {
    "duration": 13,
    "start_time": "2023-01-17T19:57:08.989Z"
   },
   {
    "duration": 88,
    "start_time": "2023-01-17T19:57:09.003Z"
   },
   {
    "duration": 0,
    "start_time": "2023-01-17T19:57:09.094Z"
   },
   {
    "duration": 0,
    "start_time": "2023-01-17T19:57:09.096Z"
   },
   {
    "duration": 0,
    "start_time": "2023-01-17T19:57:09.098Z"
   },
   {
    "duration": 0,
    "start_time": "2023-01-17T19:57:09.100Z"
   },
   {
    "duration": 0,
    "start_time": "2023-01-17T19:57:09.102Z"
   },
   {
    "duration": 0,
    "start_time": "2023-01-17T19:57:09.103Z"
   },
   {
    "duration": 0,
    "start_time": "2023-01-17T19:57:09.104Z"
   },
   {
    "duration": 0,
    "start_time": "2023-01-17T19:57:09.106Z"
   },
   {
    "duration": 0,
    "start_time": "2023-01-17T19:57:09.108Z"
   },
   {
    "duration": 4,
    "start_time": "2023-01-17T19:57:47.347Z"
   },
   {
    "duration": 4,
    "start_time": "2023-01-17T19:57:48.704Z"
   },
   {
    "duration": 1186,
    "start_time": "2023-01-17T20:06:22.950Z"
   },
   {
    "duration": 58,
    "start_time": "2023-01-17T20:06:24.141Z"
   },
   {
    "duration": 24,
    "start_time": "2023-01-17T20:06:24.201Z"
   },
   {
    "duration": 35,
    "start_time": "2023-01-17T20:06:24.236Z"
   },
   {
    "duration": 4,
    "start_time": "2023-01-17T20:06:24.273Z"
   },
   {
    "duration": 9,
    "start_time": "2023-01-17T20:06:24.280Z"
   },
   {
    "duration": 9,
    "start_time": "2023-01-17T20:06:24.292Z"
   },
   {
    "duration": 23,
    "start_time": "2023-01-17T20:06:24.304Z"
   },
   {
    "duration": 29,
    "start_time": "2023-01-17T20:06:24.329Z"
   },
   {
    "duration": 18,
    "start_time": "2023-01-17T20:06:24.362Z"
   },
   {
    "duration": 16,
    "start_time": "2023-01-17T20:06:24.382Z"
   },
   {
    "duration": 7,
    "start_time": "2023-01-17T20:06:24.400Z"
   },
   {
    "duration": 31,
    "start_time": "2023-01-17T20:06:24.409Z"
   },
   {
    "duration": 11,
    "start_time": "2023-01-17T20:06:24.442Z"
   },
   {
    "duration": 21,
    "start_time": "2023-01-17T20:06:24.456Z"
   },
   {
    "duration": 8,
    "start_time": "2023-01-17T20:06:24.479Z"
   },
   {
    "duration": 5,
    "start_time": "2023-01-17T20:06:24.489Z"
   },
   {
    "duration": 18,
    "start_time": "2023-01-17T20:06:24.497Z"
   },
   {
    "duration": 12,
    "start_time": "2023-01-17T20:06:24.517Z"
   },
   {
    "duration": 73,
    "start_time": "2023-01-17T20:06:24.531Z"
   },
   {
    "duration": 51,
    "start_time": "2023-01-17T20:06:24.607Z"
   },
   {
    "duration": 5,
    "start_time": "2023-01-17T20:06:24.660Z"
   },
   {
    "duration": 46,
    "start_time": "2023-01-17T20:06:24.668Z"
   },
   {
    "duration": 550,
    "start_time": "2023-01-17T20:06:24.721Z"
   },
   {
    "duration": 7,
    "start_time": "2023-01-17T20:06:25.273Z"
   },
   {
    "duration": 18,
    "start_time": "2023-01-17T20:06:25.283Z"
   },
   {
    "duration": 15,
    "start_time": "2023-01-17T20:06:25.303Z"
   },
   {
    "duration": 19,
    "start_time": "2023-01-17T20:06:25.325Z"
   },
   {
    "duration": 15,
    "start_time": "2023-01-17T20:06:25.346Z"
   },
   {
    "duration": 55,
    "start_time": "2023-01-17T20:06:25.363Z"
   },
   {
    "duration": 16,
    "start_time": "2023-01-17T20:06:25.425Z"
   },
   {
    "duration": 168,
    "start_time": "2023-01-17T20:06:25.443Z"
   },
   {
    "duration": 14,
    "start_time": "2023-01-17T20:06:25.613Z"
   },
   {
    "duration": 17,
    "start_time": "2023-01-17T20:06:25.635Z"
   },
   {
    "duration": 11,
    "start_time": "2023-01-17T20:06:25.654Z"
   },
   {
    "duration": 12,
    "start_time": "2023-01-17T20:06:25.667Z"
   },
   {
    "duration": 11,
    "start_time": "2023-01-17T20:06:25.682Z"
   },
   {
    "duration": 16,
    "start_time": "2023-01-17T20:06:25.695Z"
   },
   {
    "duration": 37,
    "start_time": "2023-01-17T20:06:25.717Z"
   },
   {
    "duration": 10,
    "start_time": "2023-01-17T20:06:25.756Z"
   },
   {
    "duration": 8,
    "start_time": "2023-01-17T20:06:25.768Z"
   },
   {
    "duration": 34,
    "start_time": "2023-01-17T20:06:25.777Z"
   },
   {
    "duration": 51,
    "start_time": "2023-01-17T20:06:25.817Z"
   },
   {
    "duration": 212,
    "start_time": "2023-01-17T20:06:25.871Z"
   },
   {
    "duration": 13,
    "start_time": "2023-01-17T20:06:26.085Z"
   },
   {
    "duration": 34,
    "start_time": "2023-01-17T20:06:26.099Z"
   },
   {
    "duration": 590,
    "start_time": "2023-01-17T20:06:26.135Z"
   },
   {
    "duration": 14,
    "start_time": "2023-01-17T20:06:26.731Z"
   },
   {
    "duration": 781,
    "start_time": "2023-01-17T20:06:26.747Z"
   },
   {
    "duration": 3,
    "start_time": "2023-01-17T20:06:27.530Z"
   },
   {
    "duration": 16,
    "start_time": "2023-01-17T20:06:27.534Z"
   },
   {
    "duration": 603,
    "start_time": "2023-01-17T20:06:27.552Z"
   },
   {
    "duration": 8,
    "start_time": "2023-01-17T20:06:28.157Z"
   },
   {
    "duration": 200,
    "start_time": "2023-01-17T20:06:28.166Z"
   },
   {
    "duration": 4,
    "start_time": "2023-01-17T20:06:28.368Z"
   },
   {
    "duration": 11,
    "start_time": "2023-01-17T20:06:28.373Z"
   },
   {
    "duration": 410,
    "start_time": "2023-01-17T20:06:28.385Z"
   },
   {
    "duration": 7,
    "start_time": "2023-01-17T20:06:28.797Z"
   },
   {
    "duration": 36,
    "start_time": "2023-01-17T20:06:28.813Z"
   },
   {
    "duration": 14,
    "start_time": "2023-01-17T20:06:28.851Z"
   },
   {
    "duration": 581,
    "start_time": "2023-01-17T20:06:28.867Z"
   },
   {
    "duration": 170,
    "start_time": "2023-01-17T20:06:29.450Z"
   },
   {
    "duration": 153,
    "start_time": "2023-01-17T20:06:29.630Z"
   },
   {
    "duration": 33,
    "start_time": "2023-01-17T20:06:29.785Z"
   },
   {
    "duration": 10,
    "start_time": "2023-01-17T20:06:29.822Z"
   },
   {
    "duration": 6,
    "start_time": "2023-01-17T20:06:29.834Z"
   },
   {
    "duration": 318,
    "start_time": "2023-01-17T20:06:29.842Z"
   },
   {
    "duration": 5,
    "start_time": "2023-01-17T20:06:30.162Z"
   },
   {
    "duration": 326,
    "start_time": "2023-01-17T20:06:30.169Z"
   },
   {
    "duration": 50,
    "start_time": "2023-01-17T20:06:30.497Z"
   },
   {
    "duration": 53,
    "start_time": "2023-01-17T20:06:30.550Z"
   },
   {
    "duration": 66,
    "start_time": "2023-01-17T20:06:30.605Z"
   },
   {
    "duration": 25,
    "start_time": "2023-01-17T20:06:30.673Z"
   },
   {
    "duration": 37,
    "start_time": "2023-01-17T20:06:30.701Z"
   },
   {
    "duration": 64,
    "start_time": "2023-01-17T20:06:30.739Z"
   },
   {
    "duration": 76,
    "start_time": "2023-01-17T20:06:30.805Z"
   },
   {
    "duration": 46,
    "start_time": "2023-01-17T20:06:30.884Z"
   },
   {
    "duration": 44,
    "start_time": "2023-01-17T20:06:30.932Z"
   },
   {
    "duration": 22,
    "start_time": "2023-01-17T20:06:30.977Z"
   },
   {
    "duration": 58,
    "start_time": "2023-01-17T20:06:31.001Z"
   },
   {
    "duration": 316,
    "start_time": "2023-01-17T20:06:31.061Z"
   },
   {
    "duration": 157,
    "start_time": "2023-01-17T20:06:31.383Z"
   },
   {
    "duration": 3,
    "start_time": "2023-01-17T20:06:31.542Z"
   },
   {
    "duration": 14,
    "start_time": "2023-01-17T20:06:31.547Z"
   },
   {
    "duration": 7,
    "start_time": "2023-01-17T20:06:31.563Z"
   },
   {
    "duration": 81,
    "start_time": "2023-01-17T20:06:31.572Z"
   },
   {
    "duration": 0,
    "start_time": "2023-01-17T20:06:31.655Z"
   },
   {
    "duration": 0,
    "start_time": "2023-01-17T20:06:31.657Z"
   },
   {
    "duration": 0,
    "start_time": "2023-01-17T20:06:31.658Z"
   },
   {
    "duration": 0,
    "start_time": "2023-01-17T20:06:31.660Z"
   },
   {
    "duration": 0,
    "start_time": "2023-01-17T20:06:31.660Z"
   },
   {
    "duration": 0,
    "start_time": "2023-01-17T20:06:31.661Z"
   },
   {
    "duration": 0,
    "start_time": "2023-01-17T20:06:31.662Z"
   },
   {
    "duration": 0,
    "start_time": "2023-01-17T20:06:31.663Z"
   },
   {
    "duration": 0,
    "start_time": "2023-01-17T20:06:31.664Z"
   },
   {
    "duration": 586,
    "start_time": "2023-01-17T20:10:33.208Z"
   },
   {
    "duration": 46,
    "start_time": "2023-01-17T20:15:02.533Z"
   },
   {
    "duration": 1140,
    "start_time": "2023-01-17T20:15:12.027Z"
   },
   {
    "duration": 56,
    "start_time": "2023-01-17T20:15:13.169Z"
   },
   {
    "duration": 18,
    "start_time": "2023-01-17T20:15:13.227Z"
   },
   {
    "duration": 13,
    "start_time": "2023-01-17T20:15:13.247Z"
   },
   {
    "duration": 2,
    "start_time": "2023-01-17T20:15:13.262Z"
   },
   {
    "duration": 6,
    "start_time": "2023-01-17T20:15:13.266Z"
   },
   {
    "duration": 6,
    "start_time": "2023-01-17T20:15:13.273Z"
   },
   {
    "duration": 15,
    "start_time": "2023-01-17T20:15:13.280Z"
   },
   {
    "duration": 7,
    "start_time": "2023-01-17T20:15:13.320Z"
   },
   {
    "duration": 18,
    "start_time": "2023-01-17T20:15:13.330Z"
   },
   {
    "duration": 36,
    "start_time": "2023-01-17T20:15:13.350Z"
   },
   {
    "duration": 12,
    "start_time": "2023-01-17T20:15:13.388Z"
   },
   {
    "duration": 29,
    "start_time": "2023-01-17T20:15:13.401Z"
   },
   {
    "duration": 9,
    "start_time": "2023-01-17T20:15:13.431Z"
   },
   {
    "duration": 30,
    "start_time": "2023-01-17T20:15:13.442Z"
   },
   {
    "duration": 7,
    "start_time": "2023-01-17T20:15:13.474Z"
   },
   {
    "duration": 7,
    "start_time": "2023-01-17T20:15:13.482Z"
   },
   {
    "duration": 7,
    "start_time": "2023-01-17T20:15:13.490Z"
   },
   {
    "duration": 11,
    "start_time": "2023-01-17T20:15:13.498Z"
   },
   {
    "duration": 35,
    "start_time": "2023-01-17T20:15:13.510Z"
   },
   {
    "duration": 28,
    "start_time": "2023-01-17T20:15:13.547Z"
   },
   {
    "duration": 4,
    "start_time": "2023-01-17T20:15:13.577Z"
   },
   {
    "duration": 20,
    "start_time": "2023-01-17T20:15:13.582Z"
   },
   {
    "duration": 437,
    "start_time": "2023-01-17T20:15:13.616Z"
   },
   {
    "duration": 5,
    "start_time": "2023-01-17T20:15:14.055Z"
   },
   {
    "duration": 9,
    "start_time": "2023-01-17T20:15:14.061Z"
   },
   {
    "duration": 7,
    "start_time": "2023-01-17T20:15:14.071Z"
   },
   {
    "duration": 9,
    "start_time": "2023-01-17T20:15:14.081Z"
   },
   {
    "duration": 26,
    "start_time": "2023-01-17T20:15:14.091Z"
   },
   {
    "duration": 25,
    "start_time": "2023-01-17T20:15:14.125Z"
   },
   {
    "duration": 3,
    "start_time": "2023-01-17T20:15:14.152Z"
   },
   {
    "duration": 173,
    "start_time": "2023-01-17T20:15:14.156Z"
   },
   {
    "duration": 4,
    "start_time": "2023-01-17T20:15:14.331Z"
   },
   {
    "duration": 16,
    "start_time": "2023-01-17T20:15:14.337Z"
   },
   {
    "duration": 13,
    "start_time": "2023-01-17T20:15:14.355Z"
   },
   {
    "duration": 16,
    "start_time": "2023-01-17T20:15:19.365Z"
   },
   {
    "duration": 14,
    "start_time": "2023-01-17T20:16:19.281Z"
   },
   {
    "duration": 5,
    "start_time": "2023-01-17T20:17:40.507Z"
   },
   {
    "duration": 22,
    "start_time": "2023-01-17T20:20:45.719Z"
   },
   {
    "duration": 15,
    "start_time": "2023-01-17T20:20:52.747Z"
   },
   {
    "duration": 17,
    "start_time": "2023-01-17T20:21:32.522Z"
   },
   {
    "duration": 26,
    "start_time": "2023-01-17T20:22:06.220Z"
   },
   {
    "duration": 104,
    "start_time": "2023-01-17T20:44:04.735Z"
   },
   {
    "duration": 12,
    "start_time": "2023-01-17T20:44:45.870Z"
   },
   {
    "duration": 14,
    "start_time": "2023-01-17T20:46:05.734Z"
   },
   {
    "duration": 1168,
    "start_time": "2023-01-17T21:00:53.623Z"
   },
   {
    "duration": 48,
    "start_time": "2023-01-17T21:00:54.793Z"
   },
   {
    "duration": 17,
    "start_time": "2023-01-17T21:00:54.843Z"
   },
   {
    "duration": 22,
    "start_time": "2023-01-17T21:00:54.862Z"
   },
   {
    "duration": 11,
    "start_time": "2023-01-17T21:00:54.886Z"
   },
   {
    "duration": 12,
    "start_time": "2023-01-17T21:00:54.898Z"
   },
   {
    "duration": 14,
    "start_time": "2023-01-17T21:00:54.911Z"
   },
   {
    "duration": 19,
    "start_time": "2023-01-17T21:00:54.928Z"
   },
   {
    "duration": 41,
    "start_time": "2023-01-17T21:00:54.948Z"
   },
   {
    "duration": 34,
    "start_time": "2023-01-17T21:00:54.992Z"
   },
   {
    "duration": 10,
    "start_time": "2023-01-17T21:00:55.028Z"
   },
   {
    "duration": 19,
    "start_time": "2023-01-17T21:00:55.040Z"
   },
   {
    "duration": 11,
    "start_time": "2023-01-17T21:00:55.061Z"
   },
   {
    "duration": 12,
    "start_time": "2023-01-17T21:00:55.073Z"
   },
   {
    "duration": 17,
    "start_time": "2023-01-17T21:00:55.087Z"
   },
   {
    "duration": 10,
    "start_time": "2023-01-17T21:00:55.106Z"
   },
   {
    "duration": 11,
    "start_time": "2023-01-17T21:00:55.118Z"
   },
   {
    "duration": 12,
    "start_time": "2023-01-17T21:00:55.131Z"
   },
   {
    "duration": 7,
    "start_time": "2023-01-17T21:00:55.144Z"
   },
   {
    "duration": 24,
    "start_time": "2023-01-17T21:00:55.153Z"
   },
   {
    "duration": 50,
    "start_time": "2023-01-17T21:00:55.178Z"
   },
   {
    "duration": 3,
    "start_time": "2023-01-17T21:00:55.230Z"
   },
   {
    "duration": 18,
    "start_time": "2023-01-17T21:00:55.235Z"
   },
   {
    "duration": 467,
    "start_time": "2023-01-17T21:00:55.255Z"
   },
   {
    "duration": 7,
    "start_time": "2023-01-17T21:00:55.724Z"
   },
   {
    "duration": 6,
    "start_time": "2023-01-17T21:00:55.733Z"
   },
   {
    "duration": 20,
    "start_time": "2023-01-17T21:00:55.742Z"
   },
   {
    "duration": 8,
    "start_time": "2023-01-17T21:00:55.767Z"
   },
   {
    "duration": 14,
    "start_time": "2023-01-17T21:00:55.777Z"
   },
   {
    "duration": 37,
    "start_time": "2023-01-17T21:00:55.793Z"
   },
   {
    "duration": 4,
    "start_time": "2023-01-17T21:00:55.831Z"
   },
   {
    "duration": 163,
    "start_time": "2023-01-17T21:00:55.837Z"
   },
   {
    "duration": 13,
    "start_time": "2023-01-17T21:00:56.002Z"
   },
   {
    "duration": 9,
    "start_time": "2023-01-17T21:00:56.017Z"
   },
   {
    "duration": 23,
    "start_time": "2023-01-17T21:00:56.027Z"
   },
   {
    "duration": 10,
    "start_time": "2023-01-17T21:00:56.052Z"
   },
   {
    "duration": 4,
    "start_time": "2023-01-17T21:02:13.982Z"
   },
   {
    "duration": 8,
    "start_time": "2023-01-17T21:02:15.828Z"
   },
   {
    "duration": 1192,
    "start_time": "2023-01-17T21:02:30.952Z"
   },
   {
    "duration": 52,
    "start_time": "2023-01-17T21:02:32.146Z"
   },
   {
    "duration": 79,
    "start_time": "2023-01-17T21:02:32.199Z"
   },
   {
    "duration": 41,
    "start_time": "2023-01-17T21:02:32.280Z"
   },
   {
    "duration": 19,
    "start_time": "2023-01-17T21:02:32.323Z"
   },
   {
    "duration": 48,
    "start_time": "2023-01-17T21:02:32.343Z"
   },
   {
    "duration": 19,
    "start_time": "2023-01-17T21:02:32.393Z"
   },
   {
    "duration": 32,
    "start_time": "2023-01-17T21:02:32.414Z"
   },
   {
    "duration": 57,
    "start_time": "2023-01-17T21:02:32.448Z"
   },
   {
    "duration": 40,
    "start_time": "2023-01-17T21:02:32.508Z"
   },
   {
    "duration": 36,
    "start_time": "2023-01-17T21:02:32.550Z"
   },
   {
    "duration": 41,
    "start_time": "2023-01-17T21:02:32.588Z"
   },
   {
    "duration": 56,
    "start_time": "2023-01-17T21:02:32.632Z"
   },
   {
    "duration": 24,
    "start_time": "2023-01-17T21:02:32.690Z"
   },
   {
    "duration": 63,
    "start_time": "2023-01-17T21:02:32.715Z"
   },
   {
    "duration": 19,
    "start_time": "2023-01-17T21:02:32.779Z"
   },
   {
    "duration": 16,
    "start_time": "2023-01-17T21:02:32.800Z"
   },
   {
    "duration": 38,
    "start_time": "2023-01-17T21:02:32.818Z"
   },
   {
    "duration": 13,
    "start_time": "2023-01-17T21:02:32.858Z"
   },
   {
    "duration": 28,
    "start_time": "2023-01-17T21:02:32.873Z"
   },
   {
    "duration": 31,
    "start_time": "2023-01-17T21:02:32.902Z"
   },
   {
    "duration": 29,
    "start_time": "2023-01-17T21:02:32.935Z"
   },
   {
    "duration": 47,
    "start_time": "2023-01-17T21:02:32.966Z"
   },
   {
    "duration": 417,
    "start_time": "2023-01-17T21:02:33.015Z"
   },
   {
    "duration": 5,
    "start_time": "2023-01-17T21:02:33.433Z"
   },
   {
    "duration": 27,
    "start_time": "2023-01-17T21:02:33.440Z"
   },
   {
    "duration": 19,
    "start_time": "2023-01-17T21:02:33.469Z"
   },
   {
    "duration": 21,
    "start_time": "2023-01-17T21:02:33.491Z"
   },
   {
    "duration": 17,
    "start_time": "2023-01-17T21:02:33.513Z"
   },
   {
    "duration": 42,
    "start_time": "2023-01-17T21:02:33.532Z"
   },
   {
    "duration": 9,
    "start_time": "2023-01-17T21:02:33.576Z"
   },
   {
    "duration": 162,
    "start_time": "2023-01-17T21:02:33.586Z"
   },
   {
    "duration": 5,
    "start_time": "2023-01-17T21:02:33.749Z"
   },
   {
    "duration": 18,
    "start_time": "2023-01-17T21:02:33.755Z"
   },
   {
    "duration": 17,
    "start_time": "2023-01-17T21:02:33.775Z"
   },
   {
    "duration": 13,
    "start_time": "2023-01-17T21:02:33.794Z"
   },
   {
    "duration": 13,
    "start_time": "2023-01-17T21:02:33.809Z"
   },
   {
    "duration": 5,
    "start_time": "2023-01-17T21:03:36.738Z"
   },
   {
    "duration": 7,
    "start_time": "2023-01-17T21:03:43.452Z"
   },
   {
    "duration": 6,
    "start_time": "2023-01-17T21:04:19.197Z"
   },
   {
    "duration": 1271,
    "start_time": "2023-01-17T21:21:10.071Z"
   },
   {
    "duration": 49,
    "start_time": "2023-01-17T21:21:11.344Z"
   },
   {
    "duration": 18,
    "start_time": "2023-01-17T21:21:11.395Z"
   },
   {
    "duration": 20,
    "start_time": "2023-01-17T21:21:11.415Z"
   },
   {
    "duration": 8,
    "start_time": "2023-01-17T21:21:11.437Z"
   },
   {
    "duration": 21,
    "start_time": "2023-01-17T21:21:11.447Z"
   },
   {
    "duration": 14,
    "start_time": "2023-01-17T21:21:11.470Z"
   },
   {
    "duration": 26,
    "start_time": "2023-01-17T21:21:11.486Z"
   },
   {
    "duration": 10,
    "start_time": "2023-01-17T21:21:11.514Z"
   },
   {
    "duration": 24,
    "start_time": "2023-01-17T21:21:11.526Z"
   },
   {
    "duration": 23,
    "start_time": "2023-01-17T21:21:11.552Z"
   },
   {
    "duration": 12,
    "start_time": "2023-01-17T21:21:11.577Z"
   },
   {
    "duration": 12,
    "start_time": "2023-01-17T21:21:11.591Z"
   },
   {
    "duration": 19,
    "start_time": "2023-01-17T21:21:11.605Z"
   },
   {
    "duration": 24,
    "start_time": "2023-01-17T21:21:11.626Z"
   },
   {
    "duration": 16,
    "start_time": "2023-01-17T21:21:11.651Z"
   },
   {
    "duration": 15,
    "start_time": "2023-01-17T21:21:11.669Z"
   },
   {
    "duration": 16,
    "start_time": "2023-01-17T21:21:11.685Z"
   },
   {
    "duration": 23,
    "start_time": "2023-01-17T21:21:11.703Z"
   },
   {
    "duration": 32,
    "start_time": "2023-01-17T21:21:11.728Z"
   },
   {
    "duration": 31,
    "start_time": "2023-01-17T21:21:11.762Z"
   },
   {
    "duration": 4,
    "start_time": "2023-01-17T21:21:11.795Z"
   },
   {
    "duration": 31,
    "start_time": "2023-01-17T21:21:11.801Z"
   },
   {
    "duration": 399,
    "start_time": "2023-01-17T21:21:11.834Z"
   },
   {
    "duration": 6,
    "start_time": "2023-01-17T21:21:12.234Z"
   },
   {
    "duration": 26,
    "start_time": "2023-01-17T21:21:12.241Z"
   },
   {
    "duration": 18,
    "start_time": "2023-01-17T21:21:12.268Z"
   },
   {
    "duration": 30,
    "start_time": "2023-01-17T21:21:12.290Z"
   },
   {
    "duration": 16,
    "start_time": "2023-01-17T21:21:12.321Z"
   },
   {
    "duration": 45,
    "start_time": "2023-01-17T21:21:12.339Z"
   },
   {
    "duration": 4,
    "start_time": "2023-01-17T21:21:12.386Z"
   },
   {
    "duration": 176,
    "start_time": "2023-01-17T21:21:12.392Z"
   },
   {
    "duration": 4,
    "start_time": "2023-01-17T21:21:12.570Z"
   },
   {
    "duration": 28,
    "start_time": "2023-01-17T21:21:12.575Z"
   },
   {
    "duration": 34,
    "start_time": "2023-01-17T21:21:12.605Z"
   },
   {
    "duration": 15,
    "start_time": "2023-01-17T21:21:12.640Z"
   },
   {
    "duration": 28,
    "start_time": "2023-01-17T21:21:12.657Z"
   },
   {
    "duration": 27,
    "start_time": "2023-01-17T21:21:12.687Z"
   },
   {
    "duration": 15,
    "start_time": "2023-01-17T21:21:12.715Z"
   },
   {
    "duration": 23,
    "start_time": "2023-01-17T21:21:12.732Z"
   },
   {
    "duration": 24,
    "start_time": "2023-01-17T21:21:12.756Z"
   },
   {
    "duration": 28,
    "start_time": "2023-01-17T21:21:12.783Z"
   },
   {
    "duration": 7,
    "start_time": "2023-01-17T21:21:12.813Z"
   },
   {
    "duration": 47,
    "start_time": "2023-01-17T21:21:12.822Z"
   },
   {
    "duration": 38,
    "start_time": "2023-01-17T21:21:12.871Z"
   },
   {
    "duration": 215,
    "start_time": "2023-01-17T21:21:12.912Z"
   },
   {
    "duration": 16,
    "start_time": "2023-01-17T21:21:13.128Z"
   },
   {
    "duration": 45,
    "start_time": "2023-01-17T21:21:13.145Z"
   },
   {
    "duration": 541,
    "start_time": "2023-01-17T21:21:13.192Z"
   },
   {
    "duration": 15,
    "start_time": "2023-01-17T21:21:13.735Z"
   },
   {
    "duration": 678,
    "start_time": "2023-01-17T21:21:13.752Z"
   },
   {
    "duration": 3,
    "start_time": "2023-01-17T21:21:14.431Z"
   },
   {
    "duration": 20,
    "start_time": "2023-01-17T21:21:14.436Z"
   },
   {
    "duration": 614,
    "start_time": "2023-01-17T21:21:14.457Z"
   },
   {
    "duration": 7,
    "start_time": "2023-01-17T21:21:15.073Z"
   },
   {
    "duration": 218,
    "start_time": "2023-01-17T21:21:15.082Z"
   },
   {
    "duration": 4,
    "start_time": "2023-01-17T21:21:15.301Z"
   },
   {
    "duration": 15,
    "start_time": "2023-01-17T21:21:15.312Z"
   },
   {
    "duration": 115,
    "start_time": "2023-01-17T21:21:15.330Z"
   },
   {
    "duration": 0,
    "start_time": "2023-01-17T21:21:15.447Z"
   },
   {
    "duration": 0,
    "start_time": "2023-01-17T21:21:15.448Z"
   },
   {
    "duration": 0,
    "start_time": "2023-01-17T21:21:15.449Z"
   },
   {
    "duration": 0,
    "start_time": "2023-01-17T21:21:15.450Z"
   },
   {
    "duration": 0,
    "start_time": "2023-01-17T21:21:15.451Z"
   },
   {
    "duration": 0,
    "start_time": "2023-01-17T21:21:15.452Z"
   },
   {
    "duration": 0,
    "start_time": "2023-01-17T21:21:15.453Z"
   },
   {
    "duration": 26,
    "start_time": "2023-01-17T21:22:39.046Z"
   },
   {
    "duration": 24,
    "start_time": "2023-01-17T21:24:49.271Z"
   },
   {
    "duration": 25,
    "start_time": "2023-01-17T21:28:08.360Z"
   },
   {
    "duration": 368,
    "start_time": "2023-01-17T21:28:39.036Z"
   },
   {
    "duration": 8,
    "start_time": "2023-01-17T21:30:08.873Z"
   },
   {
    "duration": 16,
    "start_time": "2023-01-17T21:30:17.113Z"
   },
   {
    "duration": 13,
    "start_time": "2023-01-17T21:30:22.286Z"
   },
   {
    "duration": 161,
    "start_time": "2023-01-17T21:30:37.309Z"
   },
   {
    "duration": 164,
    "start_time": "2023-01-17T21:30:52.103Z"
   },
   {
    "duration": 167,
    "start_time": "2023-01-17T21:31:18.282Z"
   },
   {
    "duration": 157,
    "start_time": "2023-01-17T21:31:27.861Z"
   },
   {
    "duration": 161,
    "start_time": "2023-01-17T21:31:52.620Z"
   },
   {
    "duration": 608,
    "start_time": "2023-01-17T21:33:20.338Z"
   },
   {
    "duration": 526,
    "start_time": "2023-01-17T21:33:40.700Z"
   },
   {
    "duration": 151,
    "start_time": "2023-01-17T21:33:41.229Z"
   },
   {
    "duration": 152,
    "start_time": "2023-01-17T21:33:41.382Z"
   },
   {
    "duration": 6,
    "start_time": "2023-01-17T21:33:41.537Z"
   },
   {
    "duration": 20,
    "start_time": "2023-01-17T21:33:41.544Z"
   },
   {
    "duration": 11,
    "start_time": "2023-01-17T21:33:41.566Z"
   },
   {
    "duration": 187,
    "start_time": "2023-01-17T21:33:41.579Z"
   },
   {
    "duration": 6,
    "start_time": "2023-01-17T21:33:41.768Z"
   },
   {
    "duration": 200,
    "start_time": "2023-01-17T21:33:41.775Z"
   },
   {
    "duration": 15,
    "start_time": "2023-01-17T21:33:41.978Z"
   },
   {
    "duration": 31,
    "start_time": "2023-01-17T21:33:41.994Z"
   },
   {
    "duration": 131,
    "start_time": "2023-01-17T21:33:42.027Z"
   },
   {
    "duration": 15,
    "start_time": "2023-01-17T21:33:42.160Z"
   },
   {
    "duration": 21,
    "start_time": "2023-01-17T21:33:42.176Z"
   },
   {
    "duration": 28,
    "start_time": "2023-01-17T21:33:42.199Z"
   },
   {
    "duration": 14,
    "start_time": "2023-01-17T21:33:42.228Z"
   },
   {
    "duration": 20,
    "start_time": "2023-01-17T21:33:42.243Z"
   },
   {
    "duration": 13,
    "start_time": "2023-01-17T21:33:42.265Z"
   },
   {
    "duration": 14,
    "start_time": "2023-01-17T21:33:42.279Z"
   },
   {
    "duration": 26,
    "start_time": "2023-01-17T21:33:42.295Z"
   },
   {
    "duration": 176,
    "start_time": "2023-01-17T21:33:42.323Z"
   },
   {
    "duration": 162,
    "start_time": "2023-01-17T21:33:42.501Z"
   },
   {
    "duration": 3,
    "start_time": "2023-01-17T21:33:42.665Z"
   },
   {
    "duration": 7,
    "start_time": "2023-01-17T21:33:42.670Z"
   },
   {
    "duration": 7,
    "start_time": "2023-01-17T21:33:42.679Z"
   },
   {
    "duration": 79,
    "start_time": "2023-01-17T21:33:42.688Z"
   },
   {
    "duration": 0,
    "start_time": "2023-01-17T21:33:42.769Z"
   },
   {
    "duration": 0,
    "start_time": "2023-01-17T21:33:42.771Z"
   },
   {
    "duration": 0,
    "start_time": "2023-01-17T21:33:42.773Z"
   },
   {
    "duration": 0,
    "start_time": "2023-01-17T21:33:42.775Z"
   },
   {
    "duration": 0,
    "start_time": "2023-01-17T21:33:42.776Z"
   },
   {
    "duration": 0,
    "start_time": "2023-01-17T21:33:42.778Z"
   },
   {
    "duration": 0,
    "start_time": "2023-01-17T21:33:42.779Z"
   },
   {
    "duration": 0,
    "start_time": "2023-01-17T21:33:42.781Z"
   },
   {
    "duration": 0,
    "start_time": "2023-01-17T21:33:42.782Z"
   },
   {
    "duration": 8,
    "start_time": "2023-01-17T21:36:16.411Z"
   },
   {
    "duration": 19,
    "start_time": "2023-01-17T21:40:23.627Z"
   },
   {
    "duration": 15,
    "start_time": "2023-01-17T21:40:32.198Z"
   },
   {
    "duration": 1260,
    "start_time": "2023-01-18T06:44:47.562Z"
   },
   {
    "duration": 89,
    "start_time": "2023-01-18T06:44:48.824Z"
   },
   {
    "duration": 22,
    "start_time": "2023-01-18T06:44:48.915Z"
   },
   {
    "duration": 18,
    "start_time": "2023-01-18T06:44:48.938Z"
   },
   {
    "duration": 11,
    "start_time": "2023-01-18T06:44:48.959Z"
   },
   {
    "duration": 7,
    "start_time": "2023-01-18T06:44:48.971Z"
   },
   {
    "duration": 7,
    "start_time": "2023-01-18T06:44:48.980Z"
   },
   {
    "duration": 31,
    "start_time": "2023-01-18T06:44:48.989Z"
   },
   {
    "duration": 12,
    "start_time": "2023-01-18T06:44:49.021Z"
   },
   {
    "duration": 15,
    "start_time": "2023-01-18T06:44:49.035Z"
   },
   {
    "duration": 15,
    "start_time": "2023-01-18T06:44:49.051Z"
   },
   {
    "duration": 6,
    "start_time": "2023-01-18T06:44:49.068Z"
   },
   {
    "duration": 7,
    "start_time": "2023-01-18T06:44:49.076Z"
   },
   {
    "duration": 9,
    "start_time": "2023-01-18T06:44:49.086Z"
   },
   {
    "duration": 31,
    "start_time": "2023-01-18T06:44:49.097Z"
   },
   {
    "duration": 10,
    "start_time": "2023-01-18T06:44:49.130Z"
   },
   {
    "duration": 10,
    "start_time": "2023-01-18T06:44:49.142Z"
   },
   {
    "duration": 11,
    "start_time": "2023-01-18T06:44:49.153Z"
   },
   {
    "duration": 13,
    "start_time": "2023-01-18T06:44:49.165Z"
   },
   {
    "duration": 34,
    "start_time": "2023-01-18T06:44:49.179Z"
   },
   {
    "duration": 33,
    "start_time": "2023-01-18T06:44:49.215Z"
   },
   {
    "duration": 5,
    "start_time": "2023-01-18T06:44:49.249Z"
   },
   {
    "duration": 26,
    "start_time": "2023-01-18T06:44:49.255Z"
   },
   {
    "duration": 471,
    "start_time": "2023-01-18T06:44:49.283Z"
   },
   {
    "duration": 6,
    "start_time": "2023-01-18T06:44:49.756Z"
   },
   {
    "duration": 8,
    "start_time": "2023-01-18T06:44:49.764Z"
   },
   {
    "duration": 7,
    "start_time": "2023-01-18T06:44:49.774Z"
   },
   {
    "duration": 7,
    "start_time": "2023-01-18T06:44:49.782Z"
   },
   {
    "duration": 23,
    "start_time": "2023-01-18T06:44:49.790Z"
   },
   {
    "duration": 26,
    "start_time": "2023-01-18T06:44:49.814Z"
   },
   {
    "duration": 3,
    "start_time": "2023-01-18T06:44:49.842Z"
   },
   {
    "duration": 168,
    "start_time": "2023-01-18T06:44:49.847Z"
   },
   {
    "duration": 5,
    "start_time": "2023-01-18T06:44:50.017Z"
   },
   {
    "duration": 18,
    "start_time": "2023-01-18T06:44:50.024Z"
   },
   {
    "duration": 15,
    "start_time": "2023-01-18T06:44:50.044Z"
   },
   {
    "duration": 25,
    "start_time": "2023-01-18T06:44:50.061Z"
   },
   {
    "duration": 14,
    "start_time": "2023-01-18T06:44:50.087Z"
   },
   {
    "duration": 14,
    "start_time": "2023-01-18T06:44:50.102Z"
   },
   {
    "duration": 15,
    "start_time": "2023-01-18T06:44:50.118Z"
   },
   {
    "duration": 17,
    "start_time": "2023-01-18T06:44:50.135Z"
   },
   {
    "duration": 14,
    "start_time": "2023-01-18T06:44:50.157Z"
   },
   {
    "duration": 16,
    "start_time": "2023-01-18T06:44:50.173Z"
   },
   {
    "duration": 21,
    "start_time": "2023-01-18T06:44:50.190Z"
   },
   {
    "duration": 35,
    "start_time": "2023-01-18T06:44:50.213Z"
   },
   {
    "duration": 39,
    "start_time": "2023-01-18T06:44:50.250Z"
   },
   {
    "duration": 187,
    "start_time": "2023-01-18T06:44:50.291Z"
   },
   {
    "duration": 12,
    "start_time": "2023-01-18T06:44:50.479Z"
   },
   {
    "duration": 26,
    "start_time": "2023-01-18T06:44:50.493Z"
   },
   {
    "duration": 528,
    "start_time": "2023-01-18T06:44:50.521Z"
   },
   {
    "duration": 14,
    "start_time": "2023-01-18T06:44:51.050Z"
   },
   {
    "duration": 694,
    "start_time": "2023-01-18T06:44:51.065Z"
   },
   {
    "duration": 2,
    "start_time": "2023-01-18T06:44:51.761Z"
   },
   {
    "duration": 14,
    "start_time": "2023-01-18T06:44:51.765Z"
   },
   {
    "duration": 476,
    "start_time": "2023-01-18T06:44:51.780Z"
   },
   {
    "duration": 8,
    "start_time": "2023-01-18T06:44:52.258Z"
   },
   {
    "duration": 192,
    "start_time": "2023-01-18T06:44:52.268Z"
   },
   {
    "duration": 3,
    "start_time": "2023-01-18T06:44:52.461Z"
   },
   {
    "duration": 11,
    "start_time": "2023-01-18T06:44:52.466Z"
   },
   {
    "duration": 418,
    "start_time": "2023-01-18T06:44:52.479Z"
   },
   {
    "duration": 14,
    "start_time": "2023-01-18T06:44:52.899Z"
   },
   {
    "duration": 26,
    "start_time": "2023-01-18T06:44:52.914Z"
   },
   {
    "duration": 25,
    "start_time": "2023-01-18T06:44:52.942Z"
   },
   {
    "duration": 517,
    "start_time": "2023-01-18T06:45:09.841Z"
   },
   {
    "duration": 14,
    "start_time": "2023-01-18T06:47:47.076Z"
   },
   {
    "duration": 98,
    "start_time": "2023-01-18T06:48:35.753Z"
   },
   {
    "duration": 6,
    "start_time": "2023-01-18T06:48:46.954Z"
   },
   {
    "duration": 6,
    "start_time": "2023-01-18T06:50:16.292Z"
   },
   {
    "duration": 5,
    "start_time": "2023-01-18T06:52:57.788Z"
   },
   {
    "duration": 6,
    "start_time": "2023-01-18T06:52:59.248Z"
   },
   {
    "duration": 1222,
    "start_time": "2023-01-18T07:30:10.707Z"
   },
   {
    "duration": 48,
    "start_time": "2023-01-18T07:30:11.931Z"
   },
   {
    "duration": 19,
    "start_time": "2023-01-18T07:30:11.981Z"
   },
   {
    "duration": 15,
    "start_time": "2023-01-18T07:30:12.002Z"
   },
   {
    "duration": 3,
    "start_time": "2023-01-18T07:30:12.019Z"
   },
   {
    "duration": 8,
    "start_time": "2023-01-18T07:30:12.023Z"
   },
   {
    "duration": 10,
    "start_time": "2023-01-18T07:30:12.032Z"
   },
   {
    "duration": 17,
    "start_time": "2023-01-18T07:30:12.044Z"
   },
   {
    "duration": 12,
    "start_time": "2023-01-18T07:30:12.063Z"
   },
   {
    "duration": 19,
    "start_time": "2023-01-18T07:30:12.077Z"
   },
   {
    "duration": 8,
    "start_time": "2023-01-18T07:30:12.114Z"
   },
   {
    "duration": 29,
    "start_time": "2023-01-18T07:30:12.124Z"
   },
   {
    "duration": 9,
    "start_time": "2023-01-18T07:30:12.155Z"
   },
   {
    "duration": 10,
    "start_time": "2023-01-18T07:30:12.166Z"
   },
   {
    "duration": 27,
    "start_time": "2023-01-18T07:30:12.178Z"
   },
   {
    "duration": 8,
    "start_time": "2023-01-18T07:30:12.206Z"
   },
   {
    "duration": 8,
    "start_time": "2023-01-18T07:30:12.215Z"
   },
   {
    "duration": 17,
    "start_time": "2023-01-18T07:30:12.225Z"
   },
   {
    "duration": 9,
    "start_time": "2023-01-18T07:30:12.243Z"
   },
   {
    "duration": 30,
    "start_time": "2023-01-18T07:30:12.254Z"
   },
   {
    "duration": 30,
    "start_time": "2023-01-18T07:30:12.285Z"
   },
   {
    "duration": 3,
    "start_time": "2023-01-18T07:30:12.317Z"
   },
   {
    "duration": 25,
    "start_time": "2023-01-18T07:30:12.322Z"
   },
   {
    "duration": 438,
    "start_time": "2023-01-18T07:30:12.349Z"
   },
   {
    "duration": 6,
    "start_time": "2023-01-18T07:30:12.789Z"
   },
   {
    "duration": 18,
    "start_time": "2023-01-18T07:30:12.796Z"
   },
   {
    "duration": 5,
    "start_time": "2023-01-18T07:30:12.815Z"
   },
   {
    "duration": 7,
    "start_time": "2023-01-18T07:30:12.823Z"
   },
   {
    "duration": 17,
    "start_time": "2023-01-18T07:30:12.831Z"
   },
   {
    "duration": 32,
    "start_time": "2023-01-18T07:30:12.850Z"
   },
   {
    "duration": 4,
    "start_time": "2023-01-18T07:30:12.884Z"
   },
   {
    "duration": 174,
    "start_time": "2023-01-18T07:30:12.890Z"
   },
   {
    "duration": 5,
    "start_time": "2023-01-18T07:30:13.065Z"
   },
   {
    "duration": 20,
    "start_time": "2023-01-18T07:30:13.071Z"
   },
   {
    "duration": 16,
    "start_time": "2023-01-18T07:30:13.092Z"
   },
   {
    "duration": 11,
    "start_time": "2023-01-18T07:30:13.110Z"
   },
   {
    "duration": 28,
    "start_time": "2023-01-18T07:30:13.122Z"
   },
   {
    "duration": 19,
    "start_time": "2023-01-18T07:30:13.152Z"
   },
   {
    "duration": 16,
    "start_time": "2023-01-18T07:30:13.173Z"
   },
   {
    "duration": 21,
    "start_time": "2023-01-18T07:30:13.191Z"
   },
   {
    "duration": 18,
    "start_time": "2023-01-18T07:30:13.214Z"
   },
   {
    "duration": 26,
    "start_time": "2023-01-18T07:30:13.233Z"
   },
   {
    "duration": 14,
    "start_time": "2023-01-18T07:30:13.261Z"
   },
   {
    "duration": 21,
    "start_time": "2023-01-18T07:30:13.277Z"
   },
   {
    "duration": 23,
    "start_time": "2023-01-18T07:30:13.300Z"
   },
   {
    "duration": 21,
    "start_time": "2023-01-18T07:30:13.325Z"
   },
   {
    "duration": 172,
    "start_time": "2023-01-18T07:30:13.348Z"
   },
   {
    "duration": 11,
    "start_time": "2023-01-18T07:30:13.522Z"
   },
   {
    "duration": 15,
    "start_time": "2023-01-18T07:30:13.534Z"
   },
   {
    "duration": 538,
    "start_time": "2023-01-18T07:30:13.551Z"
   },
   {
    "duration": 15,
    "start_time": "2023-01-18T07:30:14.090Z"
   },
   {
    "duration": 700,
    "start_time": "2023-01-18T07:30:14.114Z"
   },
   {
    "duration": 3,
    "start_time": "2023-01-18T07:30:14.817Z"
   },
   {
    "duration": 25,
    "start_time": "2023-01-18T07:30:14.822Z"
   },
   {
    "duration": 467,
    "start_time": "2023-01-18T07:30:14.849Z"
   },
   {
    "duration": 7,
    "start_time": "2023-01-18T07:30:15.318Z"
   },
   {
    "duration": 244,
    "start_time": "2023-01-18T07:30:15.328Z"
   },
   {
    "duration": 4,
    "start_time": "2023-01-18T07:30:15.574Z"
   },
   {
    "duration": 25,
    "start_time": "2023-01-18T07:30:15.580Z"
   },
   {
    "duration": 410,
    "start_time": "2023-01-18T07:30:15.606Z"
   },
   {
    "duration": 6,
    "start_time": "2023-01-18T07:30:16.019Z"
   },
   {
    "duration": 29,
    "start_time": "2023-01-18T07:30:16.027Z"
   },
   {
    "duration": 38,
    "start_time": "2023-01-18T07:30:16.058Z"
   },
   {
    "duration": 23,
    "start_time": "2023-01-18T07:30:16.098Z"
   },
   {
    "duration": 520,
    "start_time": "2023-01-18T07:30:30.628Z"
   },
   {
    "duration": 541,
    "start_time": "2023-01-18T07:30:46.951Z"
   },
   {
    "duration": 622,
    "start_time": "2023-01-18T08:29:43.084Z"
   },
   {
    "duration": 192,
    "start_time": "2023-01-18T08:31:22.366Z"
   },
   {
    "duration": 1194,
    "start_time": "2023-01-18T08:32:54.932Z"
   },
   {
    "duration": 48,
    "start_time": "2023-01-18T08:32:56.128Z"
   },
   {
    "duration": 19,
    "start_time": "2023-01-18T08:32:56.177Z"
   },
   {
    "duration": 13,
    "start_time": "2023-01-18T08:32:56.198Z"
   },
   {
    "duration": 7,
    "start_time": "2023-01-18T08:32:56.212Z"
   },
   {
    "duration": 15,
    "start_time": "2023-01-18T08:32:56.221Z"
   },
   {
    "duration": 10,
    "start_time": "2023-01-18T08:32:56.238Z"
   },
   {
    "duration": 20,
    "start_time": "2023-01-18T08:32:56.250Z"
   },
   {
    "duration": 6,
    "start_time": "2023-01-18T08:32:56.272Z"
   },
   {
    "duration": 15,
    "start_time": "2023-01-18T08:32:56.281Z"
   },
   {
    "duration": 21,
    "start_time": "2023-01-18T08:32:56.297Z"
   },
   {
    "duration": 5,
    "start_time": "2023-01-18T08:32:56.319Z"
   },
   {
    "duration": 12,
    "start_time": "2023-01-18T08:32:56.325Z"
   },
   {
    "duration": 7,
    "start_time": "2023-01-18T08:32:56.339Z"
   },
   {
    "duration": 15,
    "start_time": "2023-01-18T08:32:56.348Z"
   },
   {
    "duration": 8,
    "start_time": "2023-01-18T08:32:56.365Z"
   },
   {
    "duration": 5,
    "start_time": "2023-01-18T08:32:56.375Z"
   },
   {
    "duration": 8,
    "start_time": "2023-01-18T08:32:56.382Z"
   },
   {
    "duration": 23,
    "start_time": "2023-01-18T08:32:56.392Z"
   },
   {
    "duration": 26,
    "start_time": "2023-01-18T08:32:56.417Z"
   },
   {
    "duration": 30,
    "start_time": "2023-01-18T08:32:56.445Z"
   },
   {
    "duration": 4,
    "start_time": "2023-01-18T08:32:56.476Z"
   },
   {
    "duration": 35,
    "start_time": "2023-01-18T08:32:56.481Z"
   },
   {
    "duration": 400,
    "start_time": "2023-01-18T08:32:56.518Z"
   },
   {
    "duration": 7,
    "start_time": "2023-01-18T08:32:56.920Z"
   },
   {
    "duration": 26,
    "start_time": "2023-01-18T08:32:56.928Z"
   },
   {
    "duration": 31,
    "start_time": "2023-01-18T08:32:56.955Z"
   },
   {
    "duration": 7,
    "start_time": "2023-01-18T08:32:56.991Z"
   },
   {
    "duration": 14,
    "start_time": "2023-01-18T08:32:56.999Z"
   },
   {
    "duration": 31,
    "start_time": "2023-01-18T08:32:57.015Z"
   },
   {
    "duration": 4,
    "start_time": "2023-01-18T08:32:57.048Z"
   },
   {
    "duration": 160,
    "start_time": "2023-01-18T08:32:57.053Z"
   },
   {
    "duration": 5,
    "start_time": "2023-01-18T08:32:57.214Z"
   },
   {
    "duration": 9,
    "start_time": "2023-01-18T08:32:57.220Z"
   },
   {
    "duration": 15,
    "start_time": "2023-01-18T08:32:57.230Z"
   },
   {
    "duration": 8,
    "start_time": "2023-01-18T08:32:57.246Z"
   },
   {
    "duration": 11,
    "start_time": "2023-01-18T08:32:57.255Z"
   },
   {
    "duration": 9,
    "start_time": "2023-01-18T08:32:57.267Z"
   },
   {
    "duration": 11,
    "start_time": "2023-01-18T08:32:57.278Z"
   },
   {
    "duration": 7,
    "start_time": "2023-01-18T08:32:57.291Z"
   },
   {
    "duration": 13,
    "start_time": "2023-01-18T08:32:57.300Z"
   },
   {
    "duration": 9,
    "start_time": "2023-01-18T08:32:57.315Z"
   },
   {
    "duration": 6,
    "start_time": "2023-01-18T08:32:57.326Z"
   },
   {
    "duration": 16,
    "start_time": "2023-01-18T08:32:57.334Z"
   },
   {
    "duration": 15,
    "start_time": "2023-01-18T08:32:57.351Z"
   },
   {
    "duration": 17,
    "start_time": "2023-01-18T08:32:57.367Z"
   },
   {
    "duration": 177,
    "start_time": "2023-01-18T08:32:57.386Z"
   },
   {
    "duration": 12,
    "start_time": "2023-01-18T08:32:57.565Z"
   },
   {
    "duration": 15,
    "start_time": "2023-01-18T08:32:57.578Z"
   },
   {
    "duration": 0,
    "start_time": "2023-01-18T08:33:02.581Z"
   },
   {
    "duration": 0,
    "start_time": "2023-01-18T08:33:02.582Z"
   },
   {
    "duration": 0,
    "start_time": "2023-01-18T08:33:02.583Z"
   },
   {
    "duration": 0,
    "start_time": "2023-01-18T08:33:02.583Z"
   },
   {
    "duration": 0,
    "start_time": "2023-01-18T08:33:02.585Z"
   },
   {
    "duration": 0,
    "start_time": "2023-01-18T08:33:02.586Z"
   },
   {
    "duration": 1,
    "start_time": "2023-01-18T08:33:02.586Z"
   },
   {
    "duration": 0,
    "start_time": "2023-01-18T08:33:02.588Z"
   },
   {
    "duration": 0,
    "start_time": "2023-01-18T08:33:02.589Z"
   },
   {
    "duration": 0,
    "start_time": "2023-01-18T08:33:02.590Z"
   },
   {
    "duration": 0,
    "start_time": "2023-01-18T08:33:02.591Z"
   },
   {
    "duration": 0,
    "start_time": "2023-01-18T08:33:02.592Z"
   },
   {
    "duration": 0,
    "start_time": "2023-01-18T08:33:02.592Z"
   },
   {
    "duration": 0,
    "start_time": "2023-01-18T08:33:02.593Z"
   },
   {
    "duration": 0,
    "start_time": "2023-01-18T08:33:02.594Z"
   },
   {
    "duration": 0,
    "start_time": "2023-01-18T08:33:02.595Z"
   },
   {
    "duration": 0,
    "start_time": "2023-01-18T08:33:02.596Z"
   },
   {
    "duration": 0,
    "start_time": "2023-01-18T08:33:02.597Z"
   },
   {
    "duration": 0,
    "start_time": "2023-01-18T08:33:02.598Z"
   },
   {
    "duration": 0,
    "start_time": "2023-01-18T08:33:02.599Z"
   },
   {
    "duration": 0,
    "start_time": "2023-01-18T08:33:02.600Z"
   },
   {
    "duration": 0,
    "start_time": "2023-01-18T08:33:02.601Z"
   },
   {
    "duration": 0,
    "start_time": "2023-01-18T08:33:02.602Z"
   },
   {
    "duration": 0,
    "start_time": "2023-01-18T08:33:02.603Z"
   },
   {
    "duration": 0,
    "start_time": "2023-01-18T08:33:02.604Z"
   },
   {
    "duration": 0,
    "start_time": "2023-01-18T08:33:02.605Z"
   },
   {
    "duration": 0,
    "start_time": "2023-01-18T08:33:02.606Z"
   },
   {
    "duration": 0,
    "start_time": "2023-01-18T08:33:02.607Z"
   },
   {
    "duration": 0,
    "start_time": "2023-01-18T08:33:02.612Z"
   },
   {
    "duration": 0,
    "start_time": "2023-01-18T08:33:02.613Z"
   },
   {
    "duration": 0,
    "start_time": "2023-01-18T08:33:02.614Z"
   },
   {
    "duration": 0,
    "start_time": "2023-01-18T08:33:02.616Z"
   },
   {
    "duration": 0,
    "start_time": "2023-01-18T08:33:02.617Z"
   },
   {
    "duration": 0,
    "start_time": "2023-01-18T08:33:02.618Z"
   },
   {
    "duration": 0,
    "start_time": "2023-01-18T08:33:02.618Z"
   },
   {
    "duration": 1,
    "start_time": "2023-01-18T08:33:02.619Z"
   },
   {
    "duration": 0,
    "start_time": "2023-01-18T08:33:02.620Z"
   },
   {
    "duration": 0,
    "start_time": "2023-01-18T08:33:02.621Z"
   },
   {
    "duration": 0,
    "start_time": "2023-01-18T08:33:02.622Z"
   },
   {
    "duration": 0,
    "start_time": "2023-01-18T08:33:02.623Z"
   },
   {
    "duration": 0,
    "start_time": "2023-01-18T08:33:02.624Z"
   },
   {
    "duration": 0,
    "start_time": "2023-01-18T08:33:02.625Z"
   },
   {
    "duration": 0,
    "start_time": "2023-01-18T08:33:02.626Z"
   },
   {
    "duration": 0,
    "start_time": "2023-01-18T08:33:02.627Z"
   },
   {
    "duration": 0,
    "start_time": "2023-01-18T08:33:02.628Z"
   },
   {
    "duration": 0,
    "start_time": "2023-01-18T08:33:02.629Z"
   },
   {
    "duration": 0,
    "start_time": "2023-01-18T08:33:02.629Z"
   },
   {
    "duration": 0,
    "start_time": "2023-01-18T08:33:02.630Z"
   },
   {
    "duration": 0,
    "start_time": "2023-01-18T08:33:02.631Z"
   },
   {
    "duration": 0,
    "start_time": "2023-01-18T08:33:02.633Z"
   },
   {
    "duration": 0,
    "start_time": "2023-01-18T08:33:02.634Z"
   },
   {
    "duration": 0,
    "start_time": "2023-01-18T08:33:02.635Z"
   },
   {
    "duration": 0,
    "start_time": "2023-01-18T08:33:02.636Z"
   },
   {
    "duration": 0,
    "start_time": "2023-01-18T08:33:02.637Z"
   },
   {
    "duration": 0,
    "start_time": "2023-01-18T08:33:02.639Z"
   },
   {
    "duration": 0,
    "start_time": "2023-01-18T08:33:02.640Z"
   },
   {
    "duration": 0,
    "start_time": "2023-01-18T08:33:02.640Z"
   },
   {
    "duration": 0,
    "start_time": "2023-01-18T08:33:02.641Z"
   },
   {
    "duration": 0,
    "start_time": "2023-01-18T08:33:02.642Z"
   },
   {
    "duration": 0,
    "start_time": "2023-01-18T08:33:02.643Z"
   },
   {
    "duration": 0,
    "start_time": "2023-01-18T08:33:02.644Z"
   },
   {
    "duration": 0,
    "start_time": "2023-01-18T08:33:02.645Z"
   },
   {
    "duration": 0,
    "start_time": "2023-01-18T08:33:02.646Z"
   },
   {
    "duration": 0,
    "start_time": "2023-01-18T08:33:02.647Z"
   },
   {
    "duration": 0,
    "start_time": "2023-01-18T08:33:02.648Z"
   },
   {
    "duration": 0,
    "start_time": "2023-01-18T08:33:02.649Z"
   },
   {
    "duration": 0,
    "start_time": "2023-01-18T08:33:02.713Z"
   },
   {
    "duration": 0,
    "start_time": "2023-01-18T08:33:02.713Z"
   },
   {
    "duration": 0,
    "start_time": "2023-01-18T08:33:02.714Z"
   },
   {
    "duration": 0,
    "start_time": "2023-01-18T08:33:02.715Z"
   },
   {
    "duration": 0,
    "start_time": "2023-01-18T08:33:02.717Z"
   },
   {
    "duration": 0,
    "start_time": "2023-01-18T08:33:02.717Z"
   },
   {
    "duration": 0,
    "start_time": "2023-01-18T08:33:02.718Z"
   },
   {
    "duration": 0,
    "start_time": "2023-01-18T08:33:02.720Z"
   },
   {
    "duration": 0,
    "start_time": "2023-01-18T08:33:02.721Z"
   },
   {
    "duration": 0,
    "start_time": "2023-01-18T08:33:02.722Z"
   },
   {
    "duration": 0,
    "start_time": "2023-01-18T08:33:02.723Z"
   },
   {
    "duration": 0,
    "start_time": "2023-01-18T08:33:02.724Z"
   },
   {
    "duration": 0,
    "start_time": "2023-01-18T08:33:02.724Z"
   },
   {
    "duration": 0,
    "start_time": "2023-01-18T08:33:02.726Z"
   },
   {
    "duration": 0,
    "start_time": "2023-01-18T08:33:02.726Z"
   },
   {
    "duration": 0,
    "start_time": "2023-01-18T08:33:02.727Z"
   },
   {
    "duration": 0,
    "start_time": "2023-01-18T08:33:02.728Z"
   },
   {
    "duration": 0,
    "start_time": "2023-01-18T08:33:02.729Z"
   },
   {
    "duration": 0,
    "start_time": "2023-01-18T08:33:02.730Z"
   },
   {
    "duration": 0,
    "start_time": "2023-01-18T08:33:02.731Z"
   },
   {
    "duration": 0,
    "start_time": "2023-01-18T08:33:02.732Z"
   },
   {
    "duration": 0,
    "start_time": "2023-01-18T08:33:02.733Z"
   },
   {
    "duration": 0,
    "start_time": "2023-01-18T08:33:02.734Z"
   },
   {
    "duration": 0,
    "start_time": "2023-01-18T08:33:02.735Z"
   },
   {
    "duration": 0,
    "start_time": "2023-01-18T08:33:02.736Z"
   },
   {
    "duration": 0,
    "start_time": "2023-01-18T08:33:02.737Z"
   },
   {
    "duration": 0,
    "start_time": "2023-01-18T08:33:02.738Z"
   },
   {
    "duration": 0,
    "start_time": "2023-01-18T08:33:02.739Z"
   },
   {
    "duration": 0,
    "start_time": "2023-01-18T08:33:02.740Z"
   },
   {
    "duration": 0,
    "start_time": "2023-01-18T08:33:02.741Z"
   },
   {
    "duration": 0,
    "start_time": "2023-01-18T08:33:02.742Z"
   },
   {
    "duration": 0,
    "start_time": "2023-01-18T08:33:02.743Z"
   },
   {
    "duration": 3,
    "start_time": "2023-01-18T08:33:27.569Z"
   },
   {
    "duration": 65,
    "start_time": "2023-01-18T08:33:27.574Z"
   },
   {
    "duration": 18,
    "start_time": "2023-01-18T08:33:27.641Z"
   },
   {
    "duration": 38,
    "start_time": "2023-01-18T08:33:27.661Z"
   },
   {
    "duration": 7,
    "start_time": "2023-01-18T08:33:27.701Z"
   },
   {
    "duration": 16,
    "start_time": "2023-01-18T08:33:27.709Z"
   },
   {
    "duration": 16,
    "start_time": "2023-01-18T08:33:27.726Z"
   },
   {
    "duration": 25,
    "start_time": "2023-01-18T08:33:27.743Z"
   },
   {
    "duration": 17,
    "start_time": "2023-01-18T08:33:27.769Z"
   },
   {
    "duration": 37,
    "start_time": "2023-01-18T08:33:27.788Z"
   },
   {
    "duration": 25,
    "start_time": "2023-01-18T08:33:27.826Z"
   },
   {
    "duration": 17,
    "start_time": "2023-01-18T08:33:27.853Z"
   },
   {
    "duration": 18,
    "start_time": "2023-01-18T08:33:27.871Z"
   },
   {
    "duration": 18,
    "start_time": "2023-01-18T08:33:27.892Z"
   },
   {
    "duration": 23,
    "start_time": "2023-01-18T08:33:27.911Z"
   },
   {
    "duration": 22,
    "start_time": "2023-01-18T08:33:27.936Z"
   },
   {
    "duration": 14,
    "start_time": "2023-01-18T08:33:27.960Z"
   },
   {
    "duration": 21,
    "start_time": "2023-01-18T08:33:27.976Z"
   },
   {
    "duration": 25,
    "start_time": "2023-01-18T08:33:27.999Z"
   },
   {
    "duration": 44,
    "start_time": "2023-01-18T08:33:28.025Z"
   },
   {
    "duration": 28,
    "start_time": "2023-01-18T08:33:28.071Z"
   },
   {
    "duration": 4,
    "start_time": "2023-01-18T08:33:28.101Z"
   },
   {
    "duration": 29,
    "start_time": "2023-01-18T08:33:28.107Z"
   },
   {
    "duration": 414,
    "start_time": "2023-01-18T08:33:28.138Z"
   },
   {
    "duration": 6,
    "start_time": "2023-01-18T08:33:28.554Z"
   },
   {
    "duration": 7,
    "start_time": "2023-01-18T08:33:28.562Z"
   },
   {
    "duration": 22,
    "start_time": "2023-01-18T08:33:28.571Z"
   },
   {
    "duration": 14,
    "start_time": "2023-01-18T08:33:28.595Z"
   },
   {
    "duration": 30,
    "start_time": "2023-01-18T08:33:28.611Z"
   },
   {
    "duration": 42,
    "start_time": "2023-01-18T08:33:28.643Z"
   },
   {
    "duration": 4,
    "start_time": "2023-01-18T08:33:28.687Z"
   },
   {
    "duration": 161,
    "start_time": "2023-01-18T08:33:28.693Z"
   },
   {
    "duration": 5,
    "start_time": "2023-01-18T08:33:28.855Z"
   },
   {
    "duration": 11,
    "start_time": "2023-01-18T08:33:28.861Z"
   },
   {
    "duration": 19,
    "start_time": "2023-01-18T08:33:28.874Z"
   },
   {
    "duration": 32,
    "start_time": "2023-01-18T08:33:28.894Z"
   },
   {
    "duration": 31,
    "start_time": "2023-01-18T08:33:28.928Z"
   },
   {
    "duration": 20,
    "start_time": "2023-01-18T08:33:28.961Z"
   },
   {
    "duration": 23,
    "start_time": "2023-01-18T08:33:28.983Z"
   },
   {
    "duration": 12,
    "start_time": "2023-01-18T08:33:29.008Z"
   },
   {
    "duration": 19,
    "start_time": "2023-01-18T08:33:29.025Z"
   },
   {
    "duration": 21,
    "start_time": "2023-01-18T08:33:29.045Z"
   },
   {
    "duration": 14,
    "start_time": "2023-01-18T08:33:29.067Z"
   },
   {
    "duration": 20,
    "start_time": "2023-01-18T08:33:29.082Z"
   },
   {
    "duration": 26,
    "start_time": "2023-01-18T08:33:29.103Z"
   },
   {
    "duration": 33,
    "start_time": "2023-01-18T08:33:29.131Z"
   },
   {
    "duration": 160,
    "start_time": "2023-01-18T08:33:29.166Z"
   },
   {
    "duration": 11,
    "start_time": "2023-01-18T08:33:29.328Z"
   },
   {
    "duration": 20,
    "start_time": "2023-01-18T08:33:29.341Z"
   },
   {
    "duration": 523,
    "start_time": "2023-01-18T08:33:29.362Z"
   },
   {
    "duration": 14,
    "start_time": "2023-01-18T08:33:29.887Z"
   },
   {
    "duration": 743,
    "start_time": "2023-01-18T08:33:29.902Z"
   },
   {
    "duration": 3,
    "start_time": "2023-01-18T08:33:30.646Z"
   },
   {
    "duration": 39,
    "start_time": "2023-01-18T08:33:30.651Z"
   },
   {
    "duration": 415,
    "start_time": "2023-01-18T08:33:30.692Z"
   },
   {
    "duration": 6,
    "start_time": "2023-01-18T08:33:31.113Z"
   },
   {
    "duration": 233,
    "start_time": "2023-01-18T08:33:31.121Z"
   },
   {
    "duration": 2,
    "start_time": "2023-01-18T08:33:31.356Z"
   },
   {
    "duration": 17,
    "start_time": "2023-01-18T08:33:31.360Z"
   },
   {
    "duration": 519,
    "start_time": "2023-01-18T08:33:31.379Z"
   },
   {
    "duration": 13,
    "start_time": "2023-01-18T08:33:31.900Z"
   },
   {
    "duration": 26,
    "start_time": "2023-01-18T08:33:31.914Z"
   },
   {
    "duration": 24,
    "start_time": "2023-01-18T08:33:31.942Z"
   },
   {
    "duration": 12,
    "start_time": "2023-01-18T08:33:31.968Z"
   },
   {
    "duration": 560,
    "start_time": "2023-01-18T08:33:31.982Z"
   },
   {
    "duration": 205,
    "start_time": "2023-01-18T08:33:32.544Z"
   },
   {
    "duration": 172,
    "start_time": "2023-01-18T08:33:32.751Z"
   },
   {
    "duration": 166,
    "start_time": "2023-01-18T08:33:32.924Z"
   },
   {
    "duration": 5,
    "start_time": "2023-01-18T08:33:33.092Z"
   },
   {
    "duration": 18,
    "start_time": "2023-01-18T08:33:33.098Z"
   },
   {
    "duration": 8,
    "start_time": "2023-01-18T08:33:33.117Z"
   },
   {
    "duration": 188,
    "start_time": "2023-01-18T08:33:33.127Z"
   },
   {
    "duration": 9,
    "start_time": "2023-01-18T08:33:33.316Z"
   },
   {
    "duration": 223,
    "start_time": "2023-01-18T08:33:33.326Z"
   },
   {
    "duration": 17,
    "start_time": "2023-01-18T08:33:33.551Z"
   },
   {
    "duration": 21,
    "start_time": "2023-01-18T08:33:33.570Z"
   },
   {
    "duration": 28,
    "start_time": "2023-01-18T08:33:33.593Z"
   },
   {
    "duration": 16,
    "start_time": "2023-01-18T08:33:33.622Z"
   },
   {
    "duration": 16,
    "start_time": "2023-01-18T08:33:33.639Z"
   },
   {
    "duration": 14,
    "start_time": "2023-01-18T08:33:33.657Z"
   },
   {
    "duration": 41,
    "start_time": "2023-01-18T08:33:33.673Z"
   },
   {
    "duration": 13,
    "start_time": "2023-01-18T08:33:33.715Z"
   },
   {
    "duration": 16,
    "start_time": "2023-01-18T08:33:33.730Z"
   },
   {
    "duration": 7,
    "start_time": "2023-01-18T08:33:33.747Z"
   },
   {
    "duration": 10,
    "start_time": "2023-01-18T08:33:33.755Z"
   },
   {
    "duration": 22,
    "start_time": "2023-01-18T08:33:33.766Z"
   },
   {
    "duration": 7,
    "start_time": "2023-01-18T08:33:33.790Z"
   },
   {
    "duration": 10,
    "start_time": "2023-01-18T08:33:33.799Z"
   },
   {
    "duration": 67,
    "start_time": "2023-01-18T08:33:33.812Z"
   },
   {
    "duration": 0,
    "start_time": "2023-01-18T08:33:33.881Z"
   },
   {
    "duration": 0,
    "start_time": "2023-01-18T08:33:33.882Z"
   },
   {
    "duration": 0,
    "start_time": "2023-01-18T08:33:33.883Z"
   },
   {
    "duration": 0,
    "start_time": "2023-01-18T08:33:33.884Z"
   },
   {
    "duration": 0,
    "start_time": "2023-01-18T08:33:33.886Z"
   },
   {
    "duration": 0,
    "start_time": "2023-01-18T08:33:33.887Z"
   },
   {
    "duration": 0,
    "start_time": "2023-01-18T08:33:33.888Z"
   },
   {
    "duration": 0,
    "start_time": "2023-01-18T08:33:33.889Z"
   },
   {
    "duration": 0,
    "start_time": "2023-01-18T08:33:33.890Z"
   },
   {
    "duration": 6,
    "start_time": "2023-01-18T08:39:07.016Z"
   },
   {
    "duration": 5,
    "start_time": "2023-01-18T08:39:07.626Z"
   },
   {
    "duration": 174,
    "start_time": "2023-01-18T08:39:08.125Z"
   },
   {
    "duration": 180,
    "start_time": "2023-01-18T08:39:08.612Z"
   },
   {
    "duration": 2,
    "start_time": "2023-01-18T08:39:10.929Z"
   },
   {
    "duration": 4,
    "start_time": "2023-01-18T08:39:11.645Z"
   },
   {
    "duration": 4,
    "start_time": "2023-01-18T08:39:12.327Z"
   },
   {
    "duration": 69,
    "start_time": "2023-01-18T08:39:13.421Z"
   },
   {
    "duration": 1160,
    "start_time": "2023-01-18T08:54:28.777Z"
   },
   {
    "duration": 46,
    "start_time": "2023-01-18T08:54:29.939Z"
   },
   {
    "duration": 17,
    "start_time": "2023-01-18T08:54:29.986Z"
   },
   {
    "duration": 13,
    "start_time": "2023-01-18T08:54:30.005Z"
   },
   {
    "duration": 4,
    "start_time": "2023-01-18T08:54:30.020Z"
   },
   {
    "duration": 30,
    "start_time": "2023-01-18T08:54:30.025Z"
   },
   {
    "duration": 15,
    "start_time": "2023-01-18T08:54:30.056Z"
   },
   {
    "duration": 27,
    "start_time": "2023-01-18T08:54:30.073Z"
   },
   {
    "duration": 39,
    "start_time": "2023-01-18T08:54:30.102Z"
   },
   {
    "duration": 27,
    "start_time": "2023-01-18T08:54:30.143Z"
   },
   {
    "duration": 24,
    "start_time": "2023-01-18T08:54:30.172Z"
   },
   {
    "duration": 8,
    "start_time": "2023-01-18T08:54:30.197Z"
   },
   {
    "duration": 8,
    "start_time": "2023-01-18T08:54:30.207Z"
   },
   {
    "duration": 20,
    "start_time": "2023-01-18T08:54:30.219Z"
   },
   {
    "duration": 34,
    "start_time": "2023-01-18T08:54:30.241Z"
   },
   {
    "duration": 23,
    "start_time": "2023-01-18T08:54:30.277Z"
   },
   {
    "duration": 53,
    "start_time": "2023-01-18T08:54:30.302Z"
   },
   {
    "duration": 28,
    "start_time": "2023-01-18T08:54:30.357Z"
   },
   {
    "duration": 27,
    "start_time": "2023-01-18T08:54:30.387Z"
   },
   {
    "duration": 47,
    "start_time": "2023-01-18T08:54:30.416Z"
   },
   {
    "duration": 53,
    "start_time": "2023-01-18T08:54:30.465Z"
   },
   {
    "duration": 5,
    "start_time": "2023-01-18T08:54:30.520Z"
   },
   {
    "duration": 49,
    "start_time": "2023-01-18T08:54:30.527Z"
   },
   {
    "duration": 448,
    "start_time": "2023-01-18T08:54:30.579Z"
   },
   {
    "duration": 5,
    "start_time": "2023-01-18T08:54:31.029Z"
   },
   {
    "duration": 106,
    "start_time": "2023-01-18T08:54:31.036Z"
   },
   {
    "duration": 42,
    "start_time": "2023-01-18T08:54:31.144Z"
   },
   {
    "duration": 23,
    "start_time": "2023-01-18T08:54:31.188Z"
   },
   {
    "duration": 58,
    "start_time": "2023-01-18T08:54:31.213Z"
   },
   {
    "duration": 50,
    "start_time": "2023-01-18T08:54:31.272Z"
   },
   {
    "duration": 4,
    "start_time": "2023-01-18T08:54:31.324Z"
   },
   {
    "duration": 187,
    "start_time": "2023-01-18T08:54:31.329Z"
   },
   {
    "duration": 4,
    "start_time": "2023-01-18T08:54:31.518Z"
   },
   {
    "duration": 17,
    "start_time": "2023-01-18T08:54:31.524Z"
   },
   {
    "duration": 29,
    "start_time": "2023-01-18T08:54:31.543Z"
   },
   {
    "duration": 30,
    "start_time": "2023-01-18T08:54:31.573Z"
   },
   {
    "duration": 25,
    "start_time": "2023-01-18T08:54:31.605Z"
   },
   {
    "duration": 37,
    "start_time": "2023-01-18T08:54:31.631Z"
   },
   {
    "duration": 32,
    "start_time": "2023-01-18T08:54:31.670Z"
   },
   {
    "duration": 17,
    "start_time": "2023-01-18T08:54:31.703Z"
   },
   {
    "duration": 17,
    "start_time": "2023-01-18T08:54:31.725Z"
   },
   {
    "duration": 29,
    "start_time": "2023-01-18T08:54:31.743Z"
   },
   {
    "duration": 30,
    "start_time": "2023-01-18T08:54:31.773Z"
   },
   {
    "duration": 67,
    "start_time": "2023-01-18T08:54:31.805Z"
   },
   {
    "duration": 54,
    "start_time": "2023-01-18T08:54:31.873Z"
   },
   {
    "duration": 67,
    "start_time": "2023-01-18T08:54:31.929Z"
   },
   {
    "duration": 169,
    "start_time": "2023-01-18T08:54:31.998Z"
   },
   {
    "duration": 12,
    "start_time": "2023-01-18T08:54:32.169Z"
   },
   {
    "duration": 19,
    "start_time": "2023-01-18T08:54:32.183Z"
   },
   {
    "duration": 522,
    "start_time": "2023-01-18T08:54:32.213Z"
   },
   {
    "duration": 16,
    "start_time": "2023-01-18T08:54:32.737Z"
   },
   {
    "duration": 689,
    "start_time": "2023-01-18T08:54:32.755Z"
   },
   {
    "duration": 3,
    "start_time": "2023-01-18T08:54:33.446Z"
   },
   {
    "duration": 9,
    "start_time": "2023-01-18T08:54:33.451Z"
   },
   {
    "duration": 437,
    "start_time": "2023-01-18T08:54:33.462Z"
   },
   {
    "duration": 14,
    "start_time": "2023-01-18T08:54:33.901Z"
   },
   {
    "duration": 182,
    "start_time": "2023-01-18T08:54:33.917Z"
   },
   {
    "duration": 3,
    "start_time": "2023-01-18T08:54:34.101Z"
   },
   {
    "duration": 4,
    "start_time": "2023-01-18T08:54:34.113Z"
   },
   {
    "duration": 375,
    "start_time": "2023-01-18T08:54:34.119Z"
   },
   {
    "duration": 7,
    "start_time": "2023-01-18T08:54:34.496Z"
   },
   {
    "duration": 14,
    "start_time": "2023-01-18T08:54:34.513Z"
   },
   {
    "duration": 16,
    "start_time": "2023-01-18T08:54:34.528Z"
   },
   {
    "duration": 7,
    "start_time": "2023-01-18T08:54:34.545Z"
   },
   {
    "duration": 581,
    "start_time": "2023-01-18T08:54:34.554Z"
   },
   {
    "duration": 187,
    "start_time": "2023-01-18T08:54:35.138Z"
   },
   {
    "duration": 161,
    "start_time": "2023-01-18T08:54:35.326Z"
   },
   {
    "duration": 157,
    "start_time": "2023-01-18T08:54:35.489Z"
   },
   {
    "duration": 5,
    "start_time": "2023-01-18T08:54:35.648Z"
   },
   {
    "duration": 16,
    "start_time": "2023-01-18T08:54:35.654Z"
   },
   {
    "duration": 7,
    "start_time": "2023-01-18T08:54:35.671Z"
   },
   {
    "duration": 197,
    "start_time": "2023-01-18T08:54:35.680Z"
   },
   {
    "duration": 7,
    "start_time": "2023-01-18T08:54:35.879Z"
   },
   {
    "duration": 275,
    "start_time": "2023-01-18T08:54:35.888Z"
   },
   {
    "duration": 15,
    "start_time": "2023-01-18T08:54:36.165Z"
   },
   {
    "duration": 37,
    "start_time": "2023-01-18T08:54:36.182Z"
   },
   {
    "duration": 30,
    "start_time": "2023-01-18T08:54:36.221Z"
   },
   {
    "duration": 28,
    "start_time": "2023-01-18T08:54:36.253Z"
   },
   {
    "duration": 14,
    "start_time": "2023-01-18T08:54:36.283Z"
   },
   {
    "duration": 41,
    "start_time": "2023-01-18T08:54:36.299Z"
   },
   {
    "duration": 19,
    "start_time": "2023-01-18T08:54:36.342Z"
   },
   {
    "duration": 41,
    "start_time": "2023-01-18T08:54:36.363Z"
   },
   {
    "duration": 19,
    "start_time": "2023-01-18T08:54:36.406Z"
   },
   {
    "duration": 13,
    "start_time": "2023-01-18T08:54:36.426Z"
   },
   {
    "duration": 7,
    "start_time": "2023-01-18T08:54:36.440Z"
   },
   {
    "duration": 60,
    "start_time": "2023-01-18T08:54:36.449Z"
   },
   {
    "duration": 34,
    "start_time": "2023-01-18T08:54:36.510Z"
   },
   {
    "duration": 12,
    "start_time": "2023-01-18T08:54:50.127Z"
   },
   {
    "duration": 7,
    "start_time": "2023-01-18T08:58:11.608Z"
   },
   {
    "duration": 103,
    "start_time": "2023-01-18T08:58:14.513Z"
   },
   {
    "duration": 7,
    "start_time": "2023-01-18T08:59:43.286Z"
   },
   {
    "duration": 8,
    "start_time": "2023-01-18T09:01:26.227Z"
   },
   {
    "duration": 10,
    "start_time": "2023-01-18T09:01:30.547Z"
   },
   {
    "duration": 182,
    "start_time": "2023-01-18T09:03:07.087Z"
   },
   {
    "duration": 8,
    "start_time": "2023-01-18T09:03:20.427Z"
   },
   {
    "duration": 7,
    "start_time": "2023-01-18T09:04:03.487Z"
   },
   {
    "duration": 8,
    "start_time": "2023-01-18T09:05:05.029Z"
   },
   {
    "duration": 7,
    "start_time": "2023-01-18T09:05:05.868Z"
   },
   {
    "duration": 2,
    "start_time": "2023-01-18T09:05:09.288Z"
   },
   {
    "duration": 10,
    "start_time": "2023-01-18T09:05:10.469Z"
   },
   {
    "duration": 6,
    "start_time": "2023-01-18T09:05:11.647Z"
   },
   {
    "duration": 3,
    "start_time": "2023-01-18T09:05:17.087Z"
   },
   {
    "duration": 858,
    "start_time": "2023-01-18T09:05:17.895Z"
   },
   {
    "duration": 3,
    "start_time": "2023-01-18T09:05:53.908Z"
   },
   {
    "duration": 3,
    "start_time": "2023-01-18T09:05:58.227Z"
   },
   {
    "duration": 94,
    "start_time": "2023-01-18T09:06:05.067Z"
   },
   {
    "duration": 4,
    "start_time": "2023-01-18T09:06:50.447Z"
   },
   {
    "duration": 3,
    "start_time": "2023-01-18T09:06:52.249Z"
   },
   {
    "duration": 73,
    "start_time": "2023-01-18T09:07:01.287Z"
   },
   {
    "duration": 3,
    "start_time": "2023-01-18T09:07:13.528Z"
   },
   {
    "duration": 8,
    "start_time": "2023-01-18T09:15:26.095Z"
   },
   {
    "duration": 3,
    "start_time": "2023-01-18T09:15:27.204Z"
   },
   {
    "duration": 7,
    "start_time": "2023-01-18T09:15:30.175Z"
   },
   {
    "duration": 7,
    "start_time": "2023-01-18T09:15:48.217Z"
   },
   {
    "duration": 6,
    "start_time": "2023-01-18T09:15:49.317Z"
   },
   {
    "duration": 6,
    "start_time": "2023-01-18T09:15:55.568Z"
   },
   {
    "duration": 6,
    "start_time": "2023-01-18T09:15:56.877Z"
   },
   {
    "duration": 2,
    "start_time": "2023-01-18T09:16:03.947Z"
   },
   {
    "duration": 4,
    "start_time": "2023-01-18T09:16:04.496Z"
   },
   {
    "duration": 3,
    "start_time": "2023-01-18T09:16:05.511Z"
   },
   {
    "duration": 3,
    "start_time": "2023-01-18T09:16:07.438Z"
   },
   {
    "duration": 71,
    "start_time": "2023-01-18T09:16:19.066Z"
   },
   {
    "duration": 9,
    "start_time": "2023-01-18T09:18:06.349Z"
   },
   {
    "duration": 1177,
    "start_time": "2023-01-18T09:47:11.039Z"
   },
   {
    "duration": 47,
    "start_time": "2023-01-18T09:47:12.218Z"
   },
   {
    "duration": 32,
    "start_time": "2023-01-18T09:47:12.266Z"
   },
   {
    "duration": 16,
    "start_time": "2023-01-18T09:47:12.300Z"
   },
   {
    "duration": 16,
    "start_time": "2023-01-18T09:47:12.318Z"
   },
   {
    "duration": 13,
    "start_time": "2023-01-18T09:47:12.336Z"
   },
   {
    "duration": 35,
    "start_time": "2023-01-18T09:47:12.350Z"
   },
   {
    "duration": 47,
    "start_time": "2023-01-18T09:47:12.386Z"
   },
   {
    "duration": 40,
    "start_time": "2023-01-18T09:47:12.436Z"
   },
   {
    "duration": 15,
    "start_time": "2023-01-18T09:47:12.480Z"
   },
   {
    "duration": 18,
    "start_time": "2023-01-18T09:47:12.496Z"
   },
   {
    "duration": 19,
    "start_time": "2023-01-18T09:47:12.516Z"
   },
   {
    "duration": 21,
    "start_time": "2023-01-18T09:47:12.536Z"
   },
   {
    "duration": 15,
    "start_time": "2023-01-18T09:47:12.559Z"
   },
   {
    "duration": 37,
    "start_time": "2023-01-18T09:47:12.576Z"
   },
   {
    "duration": 17,
    "start_time": "2023-01-18T09:47:12.614Z"
   },
   {
    "duration": 32,
    "start_time": "2023-01-18T09:47:12.633Z"
   },
   {
    "duration": 36,
    "start_time": "2023-01-18T09:47:12.668Z"
   },
   {
    "duration": 16,
    "start_time": "2023-01-18T09:47:12.706Z"
   },
   {
    "duration": 31,
    "start_time": "2023-01-18T09:47:12.724Z"
   },
   {
    "duration": 29,
    "start_time": "2023-01-18T09:47:12.758Z"
   },
   {
    "duration": 4,
    "start_time": "2023-01-18T09:47:12.789Z"
   },
   {
    "duration": 26,
    "start_time": "2023-01-18T09:47:12.795Z"
   },
   {
    "duration": 418,
    "start_time": "2023-01-18T09:47:12.823Z"
   },
   {
    "duration": 6,
    "start_time": "2023-01-18T09:47:13.242Z"
   },
   {
    "duration": 7,
    "start_time": "2023-01-18T09:47:13.249Z"
   },
   {
    "duration": 14,
    "start_time": "2023-01-18T09:47:13.258Z"
   },
   {
    "duration": 16,
    "start_time": "2023-01-18T09:47:13.275Z"
   },
   {
    "duration": 18,
    "start_time": "2023-01-18T09:47:13.293Z"
   },
   {
    "duration": 30,
    "start_time": "2023-01-18T09:47:13.312Z"
   },
   {
    "duration": 3,
    "start_time": "2023-01-18T09:47:13.344Z"
   },
   {
    "duration": 172,
    "start_time": "2023-01-18T09:47:13.349Z"
   },
   {
    "duration": 5,
    "start_time": "2023-01-18T09:47:13.522Z"
   },
   {
    "duration": 18,
    "start_time": "2023-01-18T09:47:13.529Z"
   },
   {
    "duration": 14,
    "start_time": "2023-01-18T09:47:13.549Z"
   },
   {
    "duration": 12,
    "start_time": "2023-01-18T09:47:13.566Z"
   },
   {
    "duration": 38,
    "start_time": "2023-01-18T09:47:13.580Z"
   },
   {
    "duration": 16,
    "start_time": "2023-01-18T09:47:13.620Z"
   },
   {
    "duration": 16,
    "start_time": "2023-01-18T09:47:13.638Z"
   },
   {
    "duration": 13,
    "start_time": "2023-01-18T09:47:13.656Z"
   },
   {
    "duration": 20,
    "start_time": "2023-01-18T09:47:13.671Z"
   },
   {
    "duration": 19,
    "start_time": "2023-01-18T09:47:13.694Z"
   },
   {
    "duration": 11,
    "start_time": "2023-01-18T09:47:13.716Z"
   },
   {
    "duration": 16,
    "start_time": "2023-01-18T09:47:13.729Z"
   },
   {
    "duration": 21,
    "start_time": "2023-01-18T09:47:13.747Z"
   },
   {
    "duration": 17,
    "start_time": "2023-01-18T09:47:13.769Z"
   },
   {
    "duration": 162,
    "start_time": "2023-01-18T09:47:13.788Z"
   },
   {
    "duration": 11,
    "start_time": "2023-01-18T09:47:13.952Z"
   },
   {
    "duration": 19,
    "start_time": "2023-01-18T09:47:13.965Z"
   },
   {
    "duration": 543,
    "start_time": "2023-01-18T09:47:13.986Z"
   },
   {
    "duration": 14,
    "start_time": "2023-01-18T09:47:14.531Z"
   },
   {
    "duration": 672,
    "start_time": "2023-01-18T09:47:14.547Z"
   },
   {
    "duration": 3,
    "start_time": "2023-01-18T09:47:15.221Z"
   },
   {
    "duration": 31,
    "start_time": "2023-01-18T09:47:15.225Z"
   },
   {
    "duration": 536,
    "start_time": "2023-01-18T09:47:15.258Z"
   },
   {
    "duration": 17,
    "start_time": "2023-01-18T09:47:15.796Z"
   },
   {
    "duration": 173,
    "start_time": "2023-01-18T09:47:15.815Z"
   },
   {
    "duration": 2,
    "start_time": "2023-01-18T09:47:15.990Z"
   },
   {
    "duration": 19,
    "start_time": "2023-01-18T09:47:15.994Z"
   },
   {
    "duration": 398,
    "start_time": "2023-01-18T09:47:16.015Z"
   },
   {
    "duration": 6,
    "start_time": "2023-01-18T09:47:16.415Z"
   },
   {
    "duration": 29,
    "start_time": "2023-01-18T09:47:16.423Z"
   },
   {
    "duration": 32,
    "start_time": "2023-01-18T09:47:16.453Z"
   },
   {
    "duration": 18,
    "start_time": "2023-01-18T09:47:16.486Z"
   },
   {
    "duration": 573,
    "start_time": "2023-01-18T09:47:16.506Z"
   },
   {
    "duration": 197,
    "start_time": "2023-01-18T09:47:17.081Z"
   },
   {
    "duration": 195,
    "start_time": "2023-01-18T09:47:17.280Z"
   },
   {
    "duration": 165,
    "start_time": "2023-01-18T09:47:17.477Z"
   },
   {
    "duration": 6,
    "start_time": "2023-01-18T09:47:17.644Z"
   },
   {
    "duration": 9,
    "start_time": "2023-01-18T09:47:17.652Z"
   },
   {
    "duration": 9,
    "start_time": "2023-01-18T09:47:17.662Z"
   },
   {
    "duration": 221,
    "start_time": "2023-01-18T09:47:17.673Z"
   },
   {
    "duration": 16,
    "start_time": "2023-01-18T09:47:17.896Z"
   },
   {
    "duration": 295,
    "start_time": "2023-01-18T09:47:17.914Z"
   },
   {
    "duration": 15,
    "start_time": "2023-01-18T09:47:18.213Z"
   },
   {
    "duration": 47,
    "start_time": "2023-01-18T09:47:18.230Z"
   },
   {
    "duration": 28,
    "start_time": "2023-01-18T09:47:18.279Z"
   },
   {
    "duration": 18,
    "start_time": "2023-01-18T09:47:18.309Z"
   },
   {
    "duration": 26,
    "start_time": "2023-01-18T09:47:18.329Z"
   },
   {
    "duration": 18,
    "start_time": "2023-01-18T09:47:18.357Z"
   },
   {
    "duration": 26,
    "start_time": "2023-01-18T09:47:18.377Z"
   },
   {
    "duration": 27,
    "start_time": "2023-01-18T09:47:18.408Z"
   },
   {
    "duration": 22,
    "start_time": "2023-01-18T09:47:18.436Z"
   },
   {
    "duration": 13,
    "start_time": "2023-01-18T09:47:18.460Z"
   },
   {
    "duration": 16,
    "start_time": "2023-01-18T09:47:18.475Z"
   },
   {
    "duration": 14,
    "start_time": "2023-01-18T09:47:18.493Z"
   },
   {
    "duration": 29,
    "start_time": "2023-01-18T09:47:18.509Z"
   },
   {
    "duration": 23,
    "start_time": "2023-01-18T09:47:18.540Z"
   },
   {
    "duration": 11,
    "start_time": "2023-01-18T09:47:18.565Z"
   },
   {
    "duration": 11,
    "start_time": "2023-01-18T09:47:18.577Z"
   },
   {
    "duration": 16,
    "start_time": "2023-01-18T09:47:18.590Z"
   },
   {
    "duration": 15,
    "start_time": "2023-01-18T09:47:18.609Z"
   },
   {
    "duration": 10,
    "start_time": "2023-01-18T09:47:18.627Z"
   },
   {
    "duration": 12,
    "start_time": "2023-01-18T09:47:18.640Z"
   },
   {
    "duration": 14,
    "start_time": "2023-01-18T09:47:18.654Z"
   },
   {
    "duration": 4,
    "start_time": "2023-01-18T09:47:18.670Z"
   },
   {
    "duration": 17,
    "start_time": "2023-01-18T09:47:18.676Z"
   },
   {
    "duration": 18,
    "start_time": "2023-01-18T09:47:18.696Z"
   },
   {
    "duration": 22,
    "start_time": "2023-01-18T09:47:18.717Z"
   },
   {
    "duration": 1324,
    "start_time": "2023-01-18T09:50:27.598Z"
   },
   {
    "duration": 50,
    "start_time": "2023-01-18T09:50:28.924Z"
   },
   {
    "duration": 19,
    "start_time": "2023-01-18T09:50:28.976Z"
   },
   {
    "duration": 15,
    "start_time": "2023-01-18T09:50:28.997Z"
   },
   {
    "duration": 3,
    "start_time": "2023-01-18T09:50:29.014Z"
   },
   {
    "duration": 7,
    "start_time": "2023-01-18T09:50:29.018Z"
   },
   {
    "duration": 9,
    "start_time": "2023-01-18T09:50:29.027Z"
   },
   {
    "duration": 16,
    "start_time": "2023-01-18T09:50:29.037Z"
   },
   {
    "duration": 7,
    "start_time": "2023-01-18T09:50:29.054Z"
   },
   {
    "duration": 14,
    "start_time": "2023-01-18T09:50:29.064Z"
   },
   {
    "duration": 10,
    "start_time": "2023-01-18T09:50:29.080Z"
   },
   {
    "duration": 25,
    "start_time": "2023-01-18T09:50:29.092Z"
   },
   {
    "duration": 8,
    "start_time": "2023-01-18T09:50:29.119Z"
   },
   {
    "duration": 10,
    "start_time": "2023-01-18T09:50:29.129Z"
   },
   {
    "duration": 16,
    "start_time": "2023-01-18T09:50:29.141Z"
   },
   {
    "duration": 8,
    "start_time": "2023-01-18T09:50:29.159Z"
   },
   {
    "duration": 6,
    "start_time": "2023-01-18T09:50:29.169Z"
   },
   {
    "duration": 8,
    "start_time": "2023-01-18T09:50:29.177Z"
   },
   {
    "duration": 27,
    "start_time": "2023-01-18T09:50:29.187Z"
   },
   {
    "duration": 29,
    "start_time": "2023-01-18T09:50:29.216Z"
   },
   {
    "duration": 30,
    "start_time": "2023-01-18T09:50:29.246Z"
   },
   {
    "duration": 4,
    "start_time": "2023-01-18T09:50:29.277Z"
   },
   {
    "duration": 31,
    "start_time": "2023-01-18T09:50:29.283Z"
   },
   {
    "duration": 410,
    "start_time": "2023-01-18T09:50:29.316Z"
   },
   {
    "duration": 6,
    "start_time": "2023-01-18T09:50:29.732Z"
   },
   {
    "duration": 4,
    "start_time": "2023-01-18T09:50:29.740Z"
   },
   {
    "duration": 6,
    "start_time": "2023-01-18T09:50:29.746Z"
   },
   {
    "duration": 5,
    "start_time": "2023-01-18T09:50:29.757Z"
   },
   {
    "duration": 11,
    "start_time": "2023-01-18T09:50:29.764Z"
   },
   {
    "duration": 46,
    "start_time": "2023-01-18T09:50:29.776Z"
   },
   {
    "duration": 4,
    "start_time": "2023-01-18T09:50:29.824Z"
   },
   {
    "duration": 195,
    "start_time": "2023-01-18T09:50:29.830Z"
   },
   {
    "duration": 5,
    "start_time": "2023-01-18T09:50:30.027Z"
   },
   {
    "duration": 13,
    "start_time": "2023-01-18T09:50:30.034Z"
   },
   {
    "duration": 11,
    "start_time": "2023-01-18T09:50:30.049Z"
   },
   {
    "duration": 15,
    "start_time": "2023-01-18T09:50:30.061Z"
   },
   {
    "duration": 22,
    "start_time": "2023-01-18T09:50:30.078Z"
   },
   {
    "duration": 8,
    "start_time": "2023-01-18T09:50:30.102Z"
   },
   {
    "duration": 14,
    "start_time": "2023-01-18T09:50:30.112Z"
   },
   {
    "duration": 11,
    "start_time": "2023-01-18T09:50:30.128Z"
   },
   {
    "duration": 14,
    "start_time": "2023-01-18T09:50:30.140Z"
   },
   {
    "duration": 14,
    "start_time": "2023-01-18T09:50:30.156Z"
   },
   {
    "duration": 14,
    "start_time": "2023-01-18T09:50:30.172Z"
   },
   {
    "duration": 13,
    "start_time": "2023-01-18T09:50:30.188Z"
   },
   {
    "duration": 16,
    "start_time": "2023-01-18T09:50:30.203Z"
   },
   {
    "duration": 34,
    "start_time": "2023-01-18T09:50:30.220Z"
   },
   {
    "duration": 184,
    "start_time": "2023-01-18T09:50:30.255Z"
   },
   {
    "duration": 15,
    "start_time": "2023-01-18T09:50:30.441Z"
   },
   {
    "duration": 41,
    "start_time": "2023-01-18T09:50:30.458Z"
   },
   {
    "duration": 566,
    "start_time": "2023-01-18T09:50:30.501Z"
   },
   {
    "duration": 14,
    "start_time": "2023-01-18T09:50:31.068Z"
   },
   {
    "duration": 667,
    "start_time": "2023-01-18T09:50:31.083Z"
   },
   {
    "duration": 2,
    "start_time": "2023-01-18T09:50:31.752Z"
   },
   {
    "duration": 31,
    "start_time": "2023-01-18T09:50:31.756Z"
   },
   {
    "duration": 491,
    "start_time": "2023-01-18T09:50:31.789Z"
   },
   {
    "duration": 7,
    "start_time": "2023-01-18T09:50:32.282Z"
   },
   {
    "duration": 214,
    "start_time": "2023-01-18T09:50:32.290Z"
   },
   {
    "duration": 7,
    "start_time": "2023-01-18T09:50:32.506Z"
   },
   {
    "duration": 115,
    "start_time": "2023-01-18T09:50:32.514Z"
   },
   {
    "duration": 392,
    "start_time": "2023-01-18T09:50:32.630Z"
   },
   {
    "duration": 7,
    "start_time": "2023-01-18T09:50:33.024Z"
   },
   {
    "duration": 29,
    "start_time": "2023-01-18T09:50:33.033Z"
   },
   {
    "duration": 25,
    "start_time": "2023-01-18T09:50:33.064Z"
   },
   {
    "duration": 10,
    "start_time": "2023-01-18T09:50:33.091Z"
   },
   {
    "duration": 542,
    "start_time": "2023-01-18T09:50:33.103Z"
   },
   {
    "duration": 184,
    "start_time": "2023-01-18T09:50:33.647Z"
   },
   {
    "duration": 164,
    "start_time": "2023-01-18T09:50:33.833Z"
   },
   {
    "duration": 158,
    "start_time": "2023-01-18T09:50:33.998Z"
   },
   {
    "duration": 5,
    "start_time": "2023-01-18T09:50:34.158Z"
   },
   {
    "duration": 62,
    "start_time": "2023-01-18T09:50:34.164Z"
   },
   {
    "duration": 11,
    "start_time": "2023-01-18T09:50:34.227Z"
   },
   {
    "duration": 173,
    "start_time": "2023-01-18T09:50:34.240Z"
   },
   {
    "duration": 7,
    "start_time": "2023-01-18T09:50:34.415Z"
   },
   {
    "duration": 308,
    "start_time": "2023-01-18T09:50:34.423Z"
   },
   {
    "duration": 15,
    "start_time": "2023-01-18T09:50:34.732Z"
   },
   {
    "duration": 20,
    "start_time": "2023-01-18T09:50:34.749Z"
   },
   {
    "duration": 14,
    "start_time": "2023-01-18T09:50:34.770Z"
   },
   {
    "duration": 30,
    "start_time": "2023-01-18T09:50:34.785Z"
   },
   {
    "duration": 13,
    "start_time": "2023-01-18T09:50:34.817Z"
   },
   {
    "duration": 17,
    "start_time": "2023-01-18T09:50:34.832Z"
   },
   {
    "duration": 12,
    "start_time": "2023-01-18T09:50:34.850Z"
   },
   {
    "duration": 14,
    "start_time": "2023-01-18T09:50:34.867Z"
   },
   {
    "duration": 42,
    "start_time": "2023-01-18T09:50:34.882Z"
   },
   {
    "duration": 28,
    "start_time": "2023-01-18T09:50:34.926Z"
   },
   {
    "duration": 20,
    "start_time": "2023-01-18T09:50:34.956Z"
   },
   {
    "duration": 8,
    "start_time": "2023-01-18T09:50:34.978Z"
   },
   {
    "duration": 8,
    "start_time": "2023-01-18T09:50:34.987Z"
   },
   {
    "duration": 15,
    "start_time": "2023-01-18T09:50:34.997Z"
   },
   {
    "duration": 20,
    "start_time": "2023-01-18T09:50:35.014Z"
   },
   {
    "duration": 9,
    "start_time": "2023-01-18T09:50:35.036Z"
   },
   {
    "duration": 9,
    "start_time": "2023-01-18T09:50:35.047Z"
   },
   {
    "duration": 17,
    "start_time": "2023-01-18T09:50:35.058Z"
   },
   {
    "duration": 20,
    "start_time": "2023-01-18T09:50:35.077Z"
   },
   {
    "duration": 11,
    "start_time": "2023-01-18T09:50:35.098Z"
   },
   {
    "duration": 18,
    "start_time": "2023-01-18T09:50:35.110Z"
   },
   {
    "duration": 12,
    "start_time": "2023-01-18T09:50:35.130Z"
   },
   {
    "duration": 11,
    "start_time": "2023-01-18T09:50:35.144Z"
   },
   {
    "duration": 9,
    "start_time": "2023-01-18T09:50:35.157Z"
   },
   {
    "duration": 6,
    "start_time": "2023-01-18T09:50:35.168Z"
   },
   {
    "duration": 1268,
    "start_time": "2023-01-18T09:54:51.511Z"
   },
   {
    "duration": 59,
    "start_time": "2023-01-18T09:54:52.781Z"
   },
   {
    "duration": 27,
    "start_time": "2023-01-18T09:54:52.842Z"
   },
   {
    "duration": 20,
    "start_time": "2023-01-18T09:54:52.872Z"
   },
   {
    "duration": 21,
    "start_time": "2023-01-18T09:54:52.894Z"
   },
   {
    "duration": 39,
    "start_time": "2023-01-18T09:54:52.917Z"
   },
   {
    "duration": 28,
    "start_time": "2023-01-18T09:54:52.958Z"
   },
   {
    "duration": 37,
    "start_time": "2023-01-18T09:54:52.988Z"
   },
   {
    "duration": 28,
    "start_time": "2023-01-18T09:54:53.029Z"
   },
   {
    "duration": 22,
    "start_time": "2023-01-18T09:54:53.061Z"
   },
   {
    "duration": 15,
    "start_time": "2023-01-18T09:54:53.085Z"
   },
   {
    "duration": 10,
    "start_time": "2023-01-18T09:54:53.102Z"
   },
   {
    "duration": 48,
    "start_time": "2023-01-18T09:54:53.121Z"
   },
   {
    "duration": 14,
    "start_time": "2023-01-18T09:54:53.171Z"
   },
   {
    "duration": 23,
    "start_time": "2023-01-18T09:54:53.187Z"
   },
   {
    "duration": 29,
    "start_time": "2023-01-18T09:54:53.213Z"
   },
   {
    "duration": 9,
    "start_time": "2023-01-18T09:54:53.244Z"
   },
   {
    "duration": 12,
    "start_time": "2023-01-18T09:54:53.254Z"
   },
   {
    "duration": 10,
    "start_time": "2023-01-18T09:54:53.268Z"
   },
   {
    "duration": 28,
    "start_time": "2023-01-18T09:54:53.280Z"
   },
   {
    "duration": 41,
    "start_time": "2023-01-18T09:54:53.310Z"
   },
   {
    "duration": 5,
    "start_time": "2023-01-18T09:54:53.353Z"
   },
   {
    "duration": 43,
    "start_time": "2023-01-18T09:54:53.360Z"
   },
   {
    "duration": 458,
    "start_time": "2023-01-18T09:54:53.405Z"
   },
   {
    "duration": 6,
    "start_time": "2023-01-18T09:54:53.865Z"
   },
   {
    "duration": 15,
    "start_time": "2023-01-18T09:54:53.872Z"
   },
   {
    "duration": 12,
    "start_time": "2023-01-18T09:54:53.889Z"
   },
   {
    "duration": 13,
    "start_time": "2023-01-18T09:54:53.906Z"
   },
   {
    "duration": 53,
    "start_time": "2023-01-18T09:54:53.921Z"
   },
   {
    "duration": 47,
    "start_time": "2023-01-18T09:54:53.976Z"
   },
   {
    "duration": 4,
    "start_time": "2023-01-18T09:54:54.025Z"
   },
   {
    "duration": 201,
    "start_time": "2023-01-18T09:54:54.032Z"
   },
   {
    "duration": 5,
    "start_time": "2023-01-18T09:54:54.235Z"
   },
   {
    "duration": 24,
    "start_time": "2023-01-18T09:54:54.241Z"
   },
   {
    "duration": 12,
    "start_time": "2023-01-18T09:54:54.267Z"
   },
   {
    "duration": 4,
    "start_time": "2023-01-18T09:54:54.281Z"
   },
   {
    "duration": 22,
    "start_time": "2023-01-18T09:54:54.287Z"
   },
   {
    "duration": 28,
    "start_time": "2023-01-18T09:54:54.313Z"
   },
   {
    "duration": 16,
    "start_time": "2023-01-18T09:54:54.343Z"
   },
   {
    "duration": 15,
    "start_time": "2023-01-18T09:54:54.360Z"
   },
   {
    "duration": 17,
    "start_time": "2023-01-18T09:54:54.377Z"
   },
   {
    "duration": 46,
    "start_time": "2023-01-18T09:54:54.396Z"
   },
   {
    "duration": 22,
    "start_time": "2023-01-18T09:54:54.444Z"
   },
   {
    "duration": 14,
    "start_time": "2023-01-18T09:54:54.468Z"
   },
   {
    "duration": 20,
    "start_time": "2023-01-18T09:54:54.484Z"
   },
   {
    "duration": 42,
    "start_time": "2023-01-18T09:54:54.506Z"
   },
   {
    "duration": 223,
    "start_time": "2023-01-18T09:54:54.550Z"
   },
   {
    "duration": 17,
    "start_time": "2023-01-18T09:54:54.775Z"
   },
   {
    "duration": 52,
    "start_time": "2023-01-18T09:54:54.794Z"
   },
   {
    "duration": 664,
    "start_time": "2023-01-18T09:54:54.847Z"
   },
   {
    "duration": 24,
    "start_time": "2023-01-18T09:54:55.513Z"
   },
   {
    "duration": 760,
    "start_time": "2023-01-18T09:54:55.540Z"
   },
   {
    "duration": 3,
    "start_time": "2023-01-18T09:54:56.302Z"
   },
   {
    "duration": 39,
    "start_time": "2023-01-18T09:54:56.307Z"
   },
   {
    "duration": 554,
    "start_time": "2023-01-18T09:54:56.348Z"
   },
   {
    "duration": 9,
    "start_time": "2023-01-18T09:54:56.905Z"
   },
   {
    "duration": 248,
    "start_time": "2023-01-18T09:54:56.916Z"
   },
   {
    "duration": 4,
    "start_time": "2023-01-18T09:54:57.167Z"
   },
   {
    "duration": 14,
    "start_time": "2023-01-18T09:54:57.173Z"
   },
   {
    "duration": 458,
    "start_time": "2023-01-18T09:54:57.189Z"
   },
   {
    "duration": 9,
    "start_time": "2023-01-18T09:54:57.648Z"
   },
   {
    "duration": 27,
    "start_time": "2023-01-18T09:54:57.659Z"
   },
   {
    "duration": 27,
    "start_time": "2023-01-18T09:54:57.688Z"
   },
   {
    "duration": 47,
    "start_time": "2023-01-18T09:54:57.717Z"
   },
   {
    "duration": 646,
    "start_time": "2023-01-18T09:54:57.765Z"
   },
   {
    "duration": 226,
    "start_time": "2023-01-18T09:54:58.415Z"
   },
   {
    "duration": 220,
    "start_time": "2023-01-18T09:54:58.643Z"
   },
   {
    "duration": 239,
    "start_time": "2023-01-18T09:54:58.869Z"
   },
   {
    "duration": 9,
    "start_time": "2023-01-18T09:54:59.110Z"
   },
   {
    "duration": 37,
    "start_time": "2023-01-18T09:54:59.121Z"
   },
   {
    "duration": 34,
    "start_time": "2023-01-18T09:54:59.160Z"
   },
   {
    "duration": 250,
    "start_time": "2023-01-18T09:54:59.196Z"
   },
   {
    "duration": 10,
    "start_time": "2023-01-18T09:54:59.448Z"
   },
   {
    "duration": 366,
    "start_time": "2023-01-18T09:54:59.460Z"
   },
   {
    "duration": 19,
    "start_time": "2023-01-18T09:54:59.830Z"
   },
   {
    "duration": 21,
    "start_time": "2023-01-18T09:54:59.851Z"
   },
   {
    "duration": 18,
    "start_time": "2023-01-18T09:54:59.874Z"
   },
   {
    "duration": 36,
    "start_time": "2023-01-18T09:54:59.894Z"
   },
   {
    "duration": 28,
    "start_time": "2023-01-18T09:54:59.933Z"
   },
   {
    "duration": 29,
    "start_time": "2023-01-18T09:54:59.964Z"
   },
   {
    "duration": 43,
    "start_time": "2023-01-18T09:54:59.996Z"
   },
   {
    "duration": 39,
    "start_time": "2023-01-18T09:55:00.045Z"
   },
   {
    "duration": 71,
    "start_time": "2023-01-18T09:55:00.087Z"
   },
   {
    "duration": 23,
    "start_time": "2023-01-18T09:55:00.160Z"
   },
   {
    "duration": 25,
    "start_time": "2023-01-18T09:55:00.185Z"
   },
   {
    "duration": 45,
    "start_time": "2023-01-18T09:55:00.211Z"
   },
   {
    "duration": 46,
    "start_time": "2023-01-18T09:55:00.258Z"
   },
   {
    "duration": 60,
    "start_time": "2023-01-18T09:55:00.305Z"
   },
   {
    "duration": 39,
    "start_time": "2023-01-18T09:55:00.367Z"
   },
   {
    "duration": 48,
    "start_time": "2023-01-18T09:55:00.408Z"
   },
   {
    "duration": 29,
    "start_time": "2023-01-18T09:55:00.459Z"
   },
   {
    "duration": 75,
    "start_time": "2023-01-18T09:55:00.490Z"
   },
   {
    "duration": 91,
    "start_time": "2023-01-18T09:55:00.567Z"
   },
   {
    "duration": 89,
    "start_time": "2023-01-18T09:55:00.660Z"
   },
   {
    "duration": 82,
    "start_time": "2023-01-18T09:55:00.752Z"
   },
   {
    "duration": 128,
    "start_time": "2023-01-18T09:55:00.836Z"
   },
   {
    "duration": 34,
    "start_time": "2023-01-18T09:55:00.965Z"
   },
   {
    "duration": 160,
    "start_time": "2023-01-18T09:55:01.001Z"
   },
   {
    "duration": 0,
    "start_time": "2023-01-18T09:55:01.162Z"
   },
   {
    "duration": 5,
    "start_time": "2023-01-18T09:55:29.728Z"
   },
   {
    "duration": 9,
    "start_time": "2023-01-18T09:55:34.328Z"
   },
   {
    "duration": 4,
    "start_time": "2023-01-18T09:55:44.726Z"
   },
   {
    "duration": 1207,
    "start_time": "2023-01-18T10:36:58.961Z"
   },
   {
    "duration": 48,
    "start_time": "2023-01-18T10:37:00.171Z"
   },
   {
    "duration": 16,
    "start_time": "2023-01-18T10:37:00.220Z"
   },
   {
    "duration": 21,
    "start_time": "2023-01-18T10:37:00.238Z"
   },
   {
    "duration": 25,
    "start_time": "2023-01-18T10:37:00.261Z"
   },
   {
    "duration": 27,
    "start_time": "2023-01-18T10:37:00.288Z"
   },
   {
    "duration": 12,
    "start_time": "2023-01-18T10:37:00.317Z"
   },
   {
    "duration": 22,
    "start_time": "2023-01-18T10:37:00.330Z"
   },
   {
    "duration": 11,
    "start_time": "2023-01-18T10:37:00.353Z"
   },
   {
    "duration": 34,
    "start_time": "2023-01-18T10:37:00.366Z"
   },
   {
    "duration": 33,
    "start_time": "2023-01-18T10:37:00.402Z"
   },
   {
    "duration": 16,
    "start_time": "2023-01-18T10:37:00.437Z"
   },
   {
    "duration": 15,
    "start_time": "2023-01-18T10:37:00.454Z"
   },
   {
    "duration": 15,
    "start_time": "2023-01-18T10:37:00.470Z"
   },
   {
    "duration": 42,
    "start_time": "2023-01-18T10:37:00.486Z"
   },
   {
    "duration": 15,
    "start_time": "2023-01-18T10:37:00.530Z"
   },
   {
    "duration": 23,
    "start_time": "2023-01-18T10:37:00.546Z"
   },
   {
    "duration": 22,
    "start_time": "2023-01-18T10:37:00.570Z"
   },
   {
    "duration": 30,
    "start_time": "2023-01-18T10:37:00.594Z"
   },
   {
    "duration": 31,
    "start_time": "2023-01-18T10:37:00.625Z"
   },
   {
    "duration": 27,
    "start_time": "2023-01-18T10:37:00.657Z"
   },
   {
    "duration": 21,
    "start_time": "2023-01-18T10:37:00.686Z"
   },
   {
    "duration": 38,
    "start_time": "2023-01-18T10:37:00.708Z"
   },
   {
    "duration": 442,
    "start_time": "2023-01-18T10:37:00.747Z"
   },
   {
    "duration": 5,
    "start_time": "2023-01-18T10:37:01.191Z"
   },
   {
    "duration": 40,
    "start_time": "2023-01-18T10:37:01.197Z"
   },
   {
    "duration": 38,
    "start_time": "2023-01-18T10:37:01.238Z"
   },
   {
    "duration": 20,
    "start_time": "2023-01-18T10:37:01.280Z"
   },
   {
    "duration": 23,
    "start_time": "2023-01-18T10:37:01.301Z"
   },
   {
    "duration": 47,
    "start_time": "2023-01-18T10:37:01.325Z"
   },
   {
    "duration": 3,
    "start_time": "2023-01-18T10:37:01.374Z"
   },
   {
    "duration": 174,
    "start_time": "2023-01-18T10:37:01.379Z"
   },
   {
    "duration": 5,
    "start_time": "2023-01-18T10:37:01.554Z"
   },
   {
    "duration": 109,
    "start_time": "2023-01-18T10:37:01.560Z"
   },
   {
    "duration": 41,
    "start_time": "2023-01-18T10:37:01.671Z"
   },
   {
    "duration": 23,
    "start_time": "2023-01-18T10:37:01.714Z"
   },
   {
    "duration": 64,
    "start_time": "2023-01-18T10:37:01.739Z"
   },
   {
    "duration": 10,
    "start_time": "2023-01-18T10:37:01.804Z"
   },
   {
    "duration": 17,
    "start_time": "2023-01-18T10:37:01.815Z"
   },
   {
    "duration": 31,
    "start_time": "2023-01-18T10:37:01.834Z"
   },
   {
    "duration": 15,
    "start_time": "2023-01-18T10:37:01.867Z"
   },
   {
    "duration": 32,
    "start_time": "2023-01-18T10:37:01.883Z"
   },
   {
    "duration": 74,
    "start_time": "2023-01-18T10:37:01.917Z"
   },
   {
    "duration": 18,
    "start_time": "2023-01-18T10:37:01.993Z"
   },
   {
    "duration": 29,
    "start_time": "2023-01-18T10:37:02.013Z"
   },
   {
    "duration": 30,
    "start_time": "2023-01-18T10:37:02.044Z"
   },
   {
    "duration": 139,
    "start_time": "2023-01-18T10:37:02.075Z"
   },
   {
    "duration": 10,
    "start_time": "2023-01-18T10:37:02.215Z"
   },
   {
    "duration": 24,
    "start_time": "2023-01-18T10:37:02.227Z"
   },
   {
    "duration": 462,
    "start_time": "2023-01-18T10:37:02.252Z"
   },
   {
    "duration": 13,
    "start_time": "2023-01-18T10:37:02.715Z"
   },
   {
    "duration": 690,
    "start_time": "2023-01-18T10:37:02.730Z"
   },
   {
    "duration": 3,
    "start_time": "2023-01-18T10:37:03.421Z"
   },
   {
    "duration": 11,
    "start_time": "2023-01-18T10:37:03.426Z"
   },
   {
    "duration": 413,
    "start_time": "2023-01-18T10:37:03.439Z"
   },
   {
    "duration": 6,
    "start_time": "2023-01-18T10:37:03.854Z"
   },
   {
    "duration": 194,
    "start_time": "2023-01-18T10:37:03.861Z"
   },
   {
    "duration": 4,
    "start_time": "2023-01-18T10:37:04.056Z"
   },
   {
    "duration": 17,
    "start_time": "2023-01-18T10:37:04.061Z"
   },
   {
    "duration": 378,
    "start_time": "2023-01-18T10:37:04.080Z"
   },
   {
    "duration": 18,
    "start_time": "2023-01-18T10:37:04.460Z"
   },
   {
    "duration": 14,
    "start_time": "2023-01-18T10:37:04.479Z"
   },
   {
    "duration": 12,
    "start_time": "2023-01-18T10:37:04.495Z"
   },
   {
    "duration": 6,
    "start_time": "2023-01-18T10:37:04.508Z"
   },
   {
    "duration": 528,
    "start_time": "2023-01-18T10:37:04.516Z"
   },
   {
    "duration": 193,
    "start_time": "2023-01-18T10:37:05.046Z"
   },
   {
    "duration": 152,
    "start_time": "2023-01-18T10:37:05.240Z"
   },
   {
    "duration": 170,
    "start_time": "2023-01-18T10:37:05.394Z"
   },
   {
    "duration": 15,
    "start_time": "2023-01-18T10:37:05.566Z"
   },
   {
    "duration": 14,
    "start_time": "2023-01-18T10:37:05.583Z"
   },
   {
    "duration": 9,
    "start_time": "2023-01-18T10:37:05.599Z"
   },
   {
    "duration": 232,
    "start_time": "2023-01-18T10:37:05.610Z"
   },
   {
    "duration": 8,
    "start_time": "2023-01-18T10:37:05.843Z"
   },
   {
    "duration": 278,
    "start_time": "2023-01-18T10:37:05.852Z"
   },
   {
    "duration": 17,
    "start_time": "2023-01-18T10:37:06.132Z"
   },
   {
    "duration": 30,
    "start_time": "2023-01-18T10:37:06.150Z"
   },
   {
    "duration": 15,
    "start_time": "2023-01-18T10:37:06.182Z"
   },
   {
    "duration": 17,
    "start_time": "2023-01-18T10:37:06.199Z"
   },
   {
    "duration": 15,
    "start_time": "2023-01-18T10:37:06.217Z"
   },
   {
    "duration": 17,
    "start_time": "2023-01-18T10:37:06.233Z"
   },
   {
    "duration": 42,
    "start_time": "2023-01-18T10:37:06.251Z"
   },
   {
    "duration": 17,
    "start_time": "2023-01-18T10:37:06.300Z"
   },
   {
    "duration": 20,
    "start_time": "2023-01-18T10:37:06.318Z"
   },
   {
    "duration": 8,
    "start_time": "2023-01-18T10:37:06.340Z"
   },
   {
    "duration": 11,
    "start_time": "2023-01-18T10:37:06.349Z"
   },
   {
    "duration": 16,
    "start_time": "2023-01-18T10:37:06.362Z"
   },
   {
    "duration": 11,
    "start_time": "2023-01-18T10:37:06.379Z"
   },
   {
    "duration": 3,
    "start_time": "2023-01-18T10:37:06.391Z"
   },
   {
    "duration": 11,
    "start_time": "2023-01-18T10:37:06.396Z"
   },
   {
    "duration": 16,
    "start_time": "2023-01-18T10:37:06.409Z"
   },
   {
    "duration": 8,
    "start_time": "2023-01-18T10:37:06.427Z"
   },
   {
    "duration": 11,
    "start_time": "2023-01-18T10:37:06.436Z"
   },
   {
    "duration": 7,
    "start_time": "2023-01-18T10:37:06.449Z"
   },
   {
    "duration": 5,
    "start_time": "2023-01-18T10:37:06.458Z"
   },
   {
    "duration": 19,
    "start_time": "2023-01-18T10:37:06.465Z"
   },
   {
    "duration": 9,
    "start_time": "2023-01-18T10:37:06.485Z"
   },
   {
    "duration": 10,
    "start_time": "2023-01-18T10:37:06.495Z"
   },
   {
    "duration": 8,
    "start_time": "2023-01-18T10:37:06.507Z"
   },
   {
    "duration": 7,
    "start_time": "2023-01-18T10:37:06.517Z"
   },
   {
    "duration": 55,
    "start_time": "2023-01-18T13:14:28.455Z"
   },
   {
    "duration": 1342,
    "start_time": "2023-01-18T13:14:55.094Z"
   },
   {
    "duration": 184,
    "start_time": "2023-01-18T13:14:56.438Z"
   },
   {
    "duration": 19,
    "start_time": "2023-01-18T13:14:56.624Z"
   },
   {
    "duration": 14,
    "start_time": "2023-01-18T13:14:56.644Z"
   },
   {
    "duration": 16,
    "start_time": "2023-01-18T13:15:03.974Z"
   },
   {
    "duration": 767,
    "start_time": "2023-01-18T13:38:41.682Z"
   },
   {
    "duration": 1079,
    "start_time": "2023-01-18T13:40:07.940Z"
   },
   {
    "duration": 61,
    "start_time": "2023-01-18T13:40:09.021Z"
   },
   {
    "duration": 18,
    "start_time": "2023-01-18T13:40:09.084Z"
   },
   {
    "duration": 13,
    "start_time": "2023-01-18T13:40:09.104Z"
   },
   {
    "duration": 17,
    "start_time": "2023-01-18T13:40:09.119Z"
   },
   {
    "duration": 3,
    "start_time": "2023-01-18T13:40:09.138Z"
   },
   {
    "duration": 11,
    "start_time": "2023-01-18T13:40:09.142Z"
   },
   {
    "duration": 7,
    "start_time": "2023-01-18T13:40:09.155Z"
   },
   {
    "duration": 38,
    "start_time": "2023-01-18T13:40:09.164Z"
   },
   {
    "duration": 7,
    "start_time": "2023-01-18T13:40:09.205Z"
   },
   {
    "duration": 23,
    "start_time": "2023-01-18T13:40:09.215Z"
   },
   {
    "duration": 10,
    "start_time": "2023-01-18T13:40:09.240Z"
   },
   {
    "duration": 5,
    "start_time": "2023-01-18T13:40:09.251Z"
   },
   {
    "duration": 22,
    "start_time": "2023-01-18T13:40:09.258Z"
   },
   {
    "duration": 15,
    "start_time": "2023-01-18T13:40:09.282Z"
   },
   {
    "duration": 24,
    "start_time": "2023-01-18T13:40:09.299Z"
   },
   {
    "duration": 6,
    "start_time": "2023-01-18T13:40:09.325Z"
   },
   {
    "duration": 20,
    "start_time": "2023-01-18T13:40:09.332Z"
   },
   {
    "duration": 5,
    "start_time": "2023-01-18T13:40:17.372Z"
   },
   {
    "duration": 4,
    "start_time": "2023-01-18T13:45:26.468Z"
   },
   {
    "duration": 2,
    "start_time": "2023-01-18T13:45:28.338Z"
   },
   {
    "duration": 2,
    "start_time": "2023-01-18T13:45:28.901Z"
   },
   {
    "duration": 4,
    "start_time": "2023-01-18T13:45:29.543Z"
   },
   {
    "duration": 1604,
    "start_time": "2023-01-18T16:37:21.339Z"
   },
   {
    "duration": 104,
    "start_time": "2023-01-18T16:37:22.946Z"
   },
   {
    "duration": 21,
    "start_time": "2023-01-18T16:37:23.052Z"
   },
   {
    "duration": 22,
    "start_time": "2023-01-18T16:37:23.076Z"
   },
   {
    "duration": 50,
    "start_time": "2023-01-18T16:37:23.100Z"
   },
   {
    "duration": 5,
    "start_time": "2023-01-18T16:37:23.153Z"
   },
   {
    "duration": 42,
    "start_time": "2023-01-18T16:37:23.160Z"
   },
   {
    "duration": 50,
    "start_time": "2023-01-18T16:37:23.204Z"
   },
   {
    "duration": 86,
    "start_time": "2023-01-18T16:37:23.256Z"
   },
   {
    "duration": 51,
    "start_time": "2023-01-18T16:37:23.346Z"
   },
   {
    "duration": 32,
    "start_time": "2023-01-18T16:37:23.400Z"
   },
   {
    "duration": 41,
    "start_time": "2023-01-18T16:37:23.434Z"
   },
   {
    "duration": 48,
    "start_time": "2023-01-18T16:37:23.477Z"
   },
   {
    "duration": 36,
    "start_time": "2023-01-18T16:37:23.526Z"
   },
   {
    "duration": 86,
    "start_time": "2023-01-18T16:37:23.564Z"
   },
   {
    "duration": 49,
    "start_time": "2023-01-18T16:37:23.652Z"
   },
   {
    "duration": 43,
    "start_time": "2023-01-18T16:37:23.703Z"
   },
   {
    "duration": 43,
    "start_time": "2023-01-18T16:37:23.748Z"
   },
   {
    "duration": 56,
    "start_time": "2023-01-18T16:37:23.797Z"
   },
   {
    "duration": 56,
    "start_time": "2023-01-18T16:37:23.855Z"
   },
   {
    "duration": 56,
    "start_time": "2023-01-18T16:37:23.913Z"
   },
   {
    "duration": 64,
    "start_time": "2023-01-18T16:37:23.971Z"
   },
   {
    "duration": 30,
    "start_time": "2023-01-18T16:37:24.038Z"
   },
   {
    "duration": 59,
    "start_time": "2023-01-18T16:37:24.070Z"
   },
   {
    "duration": 574,
    "start_time": "2023-01-18T16:37:24.131Z"
   },
   {
    "duration": 4,
    "start_time": "2023-01-18T16:37:24.707Z"
   },
   {
    "duration": 52,
    "start_time": "2023-01-18T16:37:24.712Z"
   },
   {
    "duration": 85,
    "start_time": "2023-01-18T16:37:24.770Z"
   },
   {
    "duration": 84,
    "start_time": "2023-01-18T16:37:24.856Z"
   },
   {
    "duration": 60,
    "start_time": "2023-01-18T16:37:24.942Z"
   },
   {
    "duration": 48,
    "start_time": "2023-01-18T16:37:25.003Z"
   },
   {
    "duration": 55,
    "start_time": "2023-01-18T16:37:25.052Z"
   },
   {
    "duration": 18,
    "start_time": "2023-01-18T16:37:25.109Z"
   },
   {
    "duration": 210,
    "start_time": "2023-01-18T16:37:25.129Z"
   },
   {
    "duration": 5,
    "start_time": "2023-01-18T16:37:25.340Z"
   },
   {
    "duration": 86,
    "start_time": "2023-01-18T16:37:25.347Z"
   },
   {
    "duration": 75,
    "start_time": "2023-01-18T16:37:25.435Z"
   },
   {
    "duration": 39,
    "start_time": "2023-01-18T16:37:25.512Z"
   },
   {
    "duration": 65,
    "start_time": "2023-01-18T16:37:25.552Z"
   },
   {
    "duration": 36,
    "start_time": "2023-01-18T16:37:25.619Z"
   },
   {
    "duration": 62,
    "start_time": "2023-01-18T16:37:25.657Z"
   },
   {
    "duration": 67,
    "start_time": "2023-01-18T16:37:25.720Z"
   },
   {
    "duration": 69,
    "start_time": "2023-01-18T16:37:25.790Z"
   },
   {
    "duration": 57,
    "start_time": "2023-01-18T16:37:25.861Z"
   },
   {
    "duration": 47,
    "start_time": "2023-01-18T16:37:25.920Z"
   },
   {
    "duration": 62,
    "start_time": "2023-01-18T16:37:25.968Z"
   },
   {
    "duration": 69,
    "start_time": "2023-01-18T16:37:26.032Z"
   },
   {
    "duration": 51,
    "start_time": "2023-01-18T16:37:26.103Z"
   },
   {
    "duration": 255,
    "start_time": "2023-01-18T16:37:26.156Z"
   },
   {
    "duration": 12,
    "start_time": "2023-01-18T16:37:26.413Z"
   },
   {
    "duration": 55,
    "start_time": "2023-01-18T16:37:26.427Z"
   },
   {
    "duration": 642,
    "start_time": "2023-01-18T16:37:26.486Z"
   },
   {
    "duration": 15,
    "start_time": "2023-01-18T16:37:27.130Z"
   },
   {
    "duration": 848,
    "start_time": "2023-01-18T16:37:27.148Z"
   },
   {
    "duration": 3,
    "start_time": "2023-01-18T16:37:27.998Z"
   },
   {
    "duration": 37,
    "start_time": "2023-01-18T16:37:28.005Z"
   },
   {
    "duration": 584,
    "start_time": "2023-01-18T16:37:28.043Z"
   },
   {
    "duration": 7,
    "start_time": "2023-01-18T16:37:28.630Z"
   },
   {
    "duration": 280,
    "start_time": "2023-01-18T16:37:28.639Z"
   },
   {
    "duration": 3,
    "start_time": "2023-01-18T16:37:28.920Z"
   },
   {
    "duration": 115,
    "start_time": "2023-01-18T16:37:28.925Z"
   },
   {
    "duration": 467,
    "start_time": "2023-01-18T16:37:29.042Z"
   },
   {
    "duration": 9,
    "start_time": "2023-01-18T16:37:29.511Z"
   },
   {
    "duration": 85,
    "start_time": "2023-01-18T16:37:29.522Z"
   },
   {
    "duration": 57,
    "start_time": "2023-01-18T16:37:29.611Z"
   },
   {
    "duration": 792,
    "start_time": "2023-01-18T16:37:29.670Z"
   },
   {
    "duration": 240,
    "start_time": "2023-01-18T16:37:30.465Z"
   },
   {
    "duration": 193,
    "start_time": "2023-01-18T16:37:30.707Z"
   },
   {
    "duration": 186,
    "start_time": "2023-01-18T16:37:30.902Z"
   },
   {
    "duration": 10,
    "start_time": "2023-01-18T16:37:31.089Z"
   },
   {
    "duration": 31,
    "start_time": "2023-01-18T16:37:31.101Z"
   },
   {
    "duration": 44,
    "start_time": "2023-01-18T16:37:31.134Z"
   },
   {
    "duration": 53,
    "start_time": "2023-01-18T16:37:31.180Z"
   },
   {
    "duration": 102,
    "start_time": "2023-01-18T16:37:31.235Z"
   },
   {
    "duration": 0,
    "start_time": "2023-01-18T16:37:31.340Z"
   },
   {
    "duration": 0,
    "start_time": "2023-01-18T16:37:31.342Z"
   },
   {
    "duration": 0,
    "start_time": "2023-01-18T16:37:31.343Z"
   },
   {
    "duration": 0,
    "start_time": "2023-01-18T16:37:31.344Z"
   },
   {
    "duration": 0,
    "start_time": "2023-01-18T16:37:31.345Z"
   },
   {
    "duration": 0,
    "start_time": "2023-01-18T16:37:31.346Z"
   },
   {
    "duration": 0,
    "start_time": "2023-01-18T16:37:31.347Z"
   },
   {
    "duration": 0,
    "start_time": "2023-01-18T16:37:31.349Z"
   },
   {
    "duration": 0,
    "start_time": "2023-01-18T16:37:31.351Z"
   },
   {
    "duration": 0,
    "start_time": "2023-01-18T16:37:31.352Z"
   },
   {
    "duration": 0,
    "start_time": "2023-01-18T16:37:31.354Z"
   },
   {
    "duration": 0,
    "start_time": "2023-01-18T16:37:31.355Z"
   },
   {
    "duration": 0,
    "start_time": "2023-01-18T16:37:31.357Z"
   },
   {
    "duration": 0,
    "start_time": "2023-01-18T16:37:31.359Z"
   },
   {
    "duration": 0,
    "start_time": "2023-01-18T16:37:31.360Z"
   },
   {
    "duration": 0,
    "start_time": "2023-01-18T16:37:31.361Z"
   },
   {
    "duration": 0,
    "start_time": "2023-01-18T16:37:31.363Z"
   },
   {
    "duration": 0,
    "start_time": "2023-01-18T16:37:31.363Z"
   },
   {
    "duration": 0,
    "start_time": "2023-01-18T16:37:31.365Z"
   },
   {
    "duration": 0,
    "start_time": "2023-01-18T16:37:31.367Z"
   },
   {
    "duration": 0,
    "start_time": "2023-01-18T16:37:31.368Z"
   },
   {
    "duration": 0,
    "start_time": "2023-01-18T16:37:31.370Z"
   },
   {
    "duration": 0,
    "start_time": "2023-01-18T16:37:31.372Z"
   },
   {
    "duration": 0,
    "start_time": "2023-01-18T16:37:31.374Z"
   },
   {
    "duration": 0,
    "start_time": "2023-01-18T16:37:31.375Z"
   },
   {
    "duration": 0,
    "start_time": "2023-01-18T16:37:31.376Z"
   },
   {
    "duration": 0,
    "start_time": "2023-01-18T16:37:31.391Z"
   },
   {
    "duration": 0,
    "start_time": "2023-01-18T16:37:31.392Z"
   },
   {
    "duration": 0,
    "start_time": "2023-01-18T16:37:31.392Z"
   },
   {
    "duration": 0,
    "start_time": "2023-01-18T16:37:31.393Z"
   },
   {
    "duration": 0,
    "start_time": "2023-01-18T16:37:31.394Z"
   },
   {
    "duration": 0,
    "start_time": "2023-01-18T16:37:31.394Z"
   },
   {
    "duration": 0,
    "start_time": "2023-01-18T16:37:31.395Z"
   },
   {
    "duration": 0,
    "start_time": "2023-01-18T16:37:31.396Z"
   },
   {
    "duration": 176,
    "start_time": "2023-01-18T16:38:24.842Z"
   },
   {
    "duration": 7,
    "start_time": "2023-01-18T16:38:33.091Z"
   },
   {
    "duration": 341,
    "start_time": "2023-01-18T16:38:39.604Z"
   },
   {
    "duration": 5,
    "start_time": "2023-01-18T16:38:45.449Z"
   },
   {
    "duration": 1472,
    "start_time": "2023-01-18T16:40:52.171Z"
   },
   {
    "duration": 75,
    "start_time": "2023-01-18T16:40:53.647Z"
   },
   {
    "duration": 22,
    "start_time": "2023-01-18T16:40:53.724Z"
   },
   {
    "duration": 46,
    "start_time": "2023-01-18T16:40:53.749Z"
   },
   {
    "duration": 21,
    "start_time": "2023-01-18T16:40:53.801Z"
   },
   {
    "duration": 3,
    "start_time": "2023-01-18T16:40:53.824Z"
   },
   {
    "duration": 9,
    "start_time": "2023-01-18T16:40:53.829Z"
   },
   {
    "duration": 7,
    "start_time": "2023-01-18T16:40:53.840Z"
   },
   {
    "duration": 49,
    "start_time": "2023-01-18T16:40:53.850Z"
   },
   {
    "duration": 8,
    "start_time": "2023-01-18T16:40:53.907Z"
   },
   {
    "duration": 24,
    "start_time": "2023-01-18T16:40:53.917Z"
   },
   {
    "duration": 17,
    "start_time": "2023-01-18T16:40:53.943Z"
   },
   {
    "duration": 26,
    "start_time": "2023-01-18T16:40:53.962Z"
   },
   {
    "duration": 9,
    "start_time": "2023-01-18T16:40:53.993Z"
   },
   {
    "duration": 9,
    "start_time": "2023-01-18T16:40:54.003Z"
   },
   {
    "duration": 18,
    "start_time": "2023-01-18T16:40:54.013Z"
   },
   {
    "duration": 9,
    "start_time": "2023-01-18T16:40:54.033Z"
   },
   {
    "duration": 4,
    "start_time": "2023-01-18T16:40:54.044Z"
   },
   {
    "duration": 45,
    "start_time": "2023-01-18T16:40:54.050Z"
   },
   {
    "duration": 28,
    "start_time": "2023-01-18T16:40:54.097Z"
   },
   {
    "duration": 32,
    "start_time": "2023-01-18T16:40:54.127Z"
   },
   {
    "duration": 47,
    "start_time": "2023-01-18T16:40:54.162Z"
   },
   {
    "duration": 5,
    "start_time": "2023-01-18T16:40:54.211Z"
   },
   {
    "duration": 23,
    "start_time": "2023-01-18T16:40:54.218Z"
   },
   {
    "duration": 506,
    "start_time": "2023-01-18T16:40:54.244Z"
   },
   {
    "duration": 4,
    "start_time": "2023-01-18T16:40:54.753Z"
   },
   {
    "duration": 8,
    "start_time": "2023-01-18T16:40:54.760Z"
   },
   {
    "duration": 16,
    "start_time": "2023-01-18T16:40:54.784Z"
   },
   {
    "duration": 9,
    "start_time": "2023-01-18T16:40:54.804Z"
   },
   {
    "duration": 26,
    "start_time": "2023-01-18T16:40:54.816Z"
   },
   {
    "duration": 15,
    "start_time": "2023-01-18T16:40:54.844Z"
   },
   {
    "duration": 38,
    "start_time": "2023-01-18T16:40:54.861Z"
   },
   {
    "duration": 5,
    "start_time": "2023-01-18T16:40:54.905Z"
   },
   {
    "duration": 193,
    "start_time": "2023-01-18T16:40:54.912Z"
   },
   {
    "duration": 4,
    "start_time": "2023-01-18T16:40:55.108Z"
   },
   {
    "duration": 9,
    "start_time": "2023-01-18T16:40:55.114Z"
   },
   {
    "duration": 11,
    "start_time": "2023-01-18T16:40:55.125Z"
   },
   {
    "duration": 5,
    "start_time": "2023-01-18T16:40:55.138Z"
   },
   {
    "duration": 7,
    "start_time": "2023-01-18T16:40:55.146Z"
   },
   {
    "duration": 7,
    "start_time": "2023-01-18T16:40:55.155Z"
   },
   {
    "duration": 14,
    "start_time": "2023-01-18T16:40:55.190Z"
   },
   {
    "duration": 9,
    "start_time": "2023-01-18T16:40:55.206Z"
   },
   {
    "duration": 11,
    "start_time": "2023-01-18T16:40:55.217Z"
   },
   {
    "duration": 16,
    "start_time": "2023-01-18T16:40:55.230Z"
   },
   {
    "duration": 6,
    "start_time": "2023-01-18T16:40:55.249Z"
   },
   {
    "duration": 11,
    "start_time": "2023-01-18T16:40:55.257Z"
   },
   {
    "duration": 19,
    "start_time": "2023-01-18T16:40:55.285Z"
   },
   {
    "duration": 16,
    "start_time": "2023-01-18T16:40:55.306Z"
   },
   {
    "duration": 228,
    "start_time": "2023-01-18T16:40:55.324Z"
   },
   {
    "duration": 13,
    "start_time": "2023-01-18T16:40:55.554Z"
   },
   {
    "duration": 41,
    "start_time": "2023-01-18T16:40:55.570Z"
   },
   {
    "duration": 772,
    "start_time": "2023-01-18T16:40:55.614Z"
   },
   {
    "duration": 26,
    "start_time": "2023-01-18T16:40:56.388Z"
   },
   {
    "duration": 890,
    "start_time": "2023-01-18T16:40:56.419Z"
   },
   {
    "duration": 3,
    "start_time": "2023-01-18T16:40:57.311Z"
   },
   {
    "duration": 34,
    "start_time": "2023-01-18T16:40:57.316Z"
   },
   {
    "duration": 583,
    "start_time": "2023-01-18T16:40:57.352Z"
   },
   {
    "duration": 7,
    "start_time": "2023-01-18T16:40:57.937Z"
   },
   {
    "duration": 209,
    "start_time": "2023-01-18T16:40:57.946Z"
   },
   {
    "duration": 4,
    "start_time": "2023-01-18T16:40:58.157Z"
   },
   {
    "duration": 14,
    "start_time": "2023-01-18T16:40:58.163Z"
   },
   {
    "duration": 445,
    "start_time": "2023-01-18T16:40:58.189Z"
   },
   {
    "duration": 8,
    "start_time": "2023-01-18T16:40:58.636Z"
   },
   {
    "duration": 59,
    "start_time": "2023-01-18T16:40:58.646Z"
   },
   {
    "duration": 42,
    "start_time": "2023-01-18T16:40:58.707Z"
   },
   {
    "duration": 719,
    "start_time": "2023-01-18T16:40:58.751Z"
   },
   {
    "duration": 278,
    "start_time": "2023-01-18T16:40:59.471Z"
   },
   {
    "duration": 239,
    "start_time": "2023-01-18T16:40:59.751Z"
   },
   {
    "duration": 245,
    "start_time": "2023-01-18T16:40:59.992Z"
   },
   {
    "duration": 7,
    "start_time": "2023-01-18T16:41:00.239Z"
   },
   {
    "duration": 19,
    "start_time": "2023-01-18T16:41:00.248Z"
   },
   {
    "duration": 42,
    "start_time": "2023-01-18T16:41:00.269Z"
   },
   {
    "duration": 25,
    "start_time": "2023-01-18T16:41:00.314Z"
   },
   {
    "duration": 215,
    "start_time": "2023-01-18T16:41:00.342Z"
   },
   {
    "duration": 7,
    "start_time": "2023-01-18T16:41:00.559Z"
   },
   {
    "duration": 378,
    "start_time": "2023-01-18T16:41:00.569Z"
   },
   {
    "duration": 6,
    "start_time": "2023-01-18T16:41:00.949Z"
   },
   {
    "duration": 28,
    "start_time": "2023-01-18T16:41:00.957Z"
   },
   {
    "duration": 23,
    "start_time": "2023-01-18T16:41:00.993Z"
   },
   {
    "duration": 326,
    "start_time": "2023-01-18T16:41:01.018Z"
   },
   {
    "duration": 10,
    "start_time": "2023-01-18T16:41:01.346Z"
   },
   {
    "duration": 296,
    "start_time": "2023-01-18T16:41:01.364Z"
   },
   {
    "duration": 30,
    "start_time": "2023-01-18T16:41:01.663Z"
   },
   {
    "duration": 63,
    "start_time": "2023-01-18T16:41:01.695Z"
   },
   {
    "duration": 59,
    "start_time": "2023-01-18T16:41:01.760Z"
   },
   {
    "duration": 51,
    "start_time": "2023-01-18T16:41:01.821Z"
   },
   {
    "duration": 29,
    "start_time": "2023-01-18T16:41:01.874Z"
   },
   {
    "duration": 42,
    "start_time": "2023-01-18T16:41:01.906Z"
   },
   {
    "duration": 19,
    "start_time": "2023-01-18T16:41:01.950Z"
   },
   {
    "duration": 50,
    "start_time": "2023-01-18T16:41:01.971Z"
   },
   {
    "duration": 27,
    "start_time": "2023-01-18T16:41:02.023Z"
   },
   {
    "duration": 19,
    "start_time": "2023-01-18T16:41:02.052Z"
   },
   {
    "duration": 52,
    "start_time": "2023-01-18T16:41:02.074Z"
   },
   {
    "duration": 60,
    "start_time": "2023-01-18T16:41:02.128Z"
   },
   {
    "duration": 31,
    "start_time": "2023-01-18T16:41:02.189Z"
   },
   {
    "duration": 14,
    "start_time": "2023-01-18T16:41:02.223Z"
   },
   {
    "duration": 13,
    "start_time": "2023-01-18T16:41:02.239Z"
   },
   {
    "duration": 14,
    "start_time": "2023-01-18T16:41:02.254Z"
   },
   {
    "duration": 33,
    "start_time": "2023-01-18T16:41:02.270Z"
   },
   {
    "duration": 20,
    "start_time": "2023-01-18T16:41:02.305Z"
   },
   {
    "duration": 40,
    "start_time": "2023-01-18T16:41:02.327Z"
   },
   {
    "duration": 42,
    "start_time": "2023-01-18T16:41:02.369Z"
   },
   {
    "duration": 10,
    "start_time": "2023-01-18T16:41:02.413Z"
   },
   {
    "duration": 13,
    "start_time": "2023-01-18T16:41:02.425Z"
   },
   {
    "duration": 6,
    "start_time": "2023-01-18T16:41:02.440Z"
   },
   {
    "duration": 9,
    "start_time": "2023-01-18T16:41:02.448Z"
   },
   {
    "duration": 7,
    "start_time": "2023-01-18T16:41:02.460Z"
   },
   {
    "duration": 9,
    "start_time": "2023-01-18T16:41:02.470Z"
   },
   {
    "duration": 171,
    "start_time": "2023-01-18T17:04:57.888Z"
   },
   {
    "duration": 76,
    "start_time": "2023-01-18T17:20:16.190Z"
   }
  ],
  "kernelspec": {
   "display_name": "Python 3 (ipykernel)",
   "language": "python",
   "name": "python3"
  },
  "language_info": {
   "codemirror_mode": {
    "name": "ipython",
    "version": 3
   },
   "file_extension": ".py",
   "mimetype": "text/x-python",
   "name": "python",
   "nbconvert_exporter": "python",
   "pygments_lexer": "ipython3",
   "version": "3.9.5"
  },
  "toc": {
   "base_numbering": 1,
   "nav_menu": {},
   "number_sections": true,
   "sideBar": true,
   "skip_h1_title": true,
   "title_cell": "Table of Contents",
   "title_sidebar": "Contents",
   "toc_cell": false,
   "toc_position": {},
   "toc_section_display": true,
   "toc_window_display": false
  }
 },
 "nbformat": 4,
 "nbformat_minor": 2
}
