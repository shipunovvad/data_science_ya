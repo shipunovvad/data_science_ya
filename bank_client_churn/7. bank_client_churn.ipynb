{
 "cells": [
  {
   "cell_type": "markdown",
   "metadata": {
    "toc": true
   },
   "source": [
    "<h1>Содержание<span class=\"tocSkip\"></span></h1>\n",
    "<div class=\"toc\"><ul class=\"toc-item\"><li><span><a href=\"#Подготовка-данных\" data-toc-modified-id=\"Подготовка-данных-1\"><span class=\"toc-item-num\">1&nbsp;&nbsp;</span>Подготовка данных</a></span></li><li><span><a href=\"#Исследование-задачи\" data-toc-modified-id=\"Исследование-задачи-2\"><span class=\"toc-item-num\">2&nbsp;&nbsp;</span>Исследование задачи</a></span></li><li><span><a href=\"#Борьба-с-дисбалансом\" data-toc-modified-id=\"Борьба-с-дисбалансом-3\"><span class=\"toc-item-num\">3&nbsp;&nbsp;</span>Борьба с дисбалансом</a></span></li><li><span><a href=\"#Тестирование-модели\" data-toc-modified-id=\"Тестирование-модели-4\"><span class=\"toc-item-num\">4&nbsp;&nbsp;</span>Тестирование модели</a></span></li><li><span><a href=\"#Чек-лист-готовности-проекта\" data-toc-modified-id=\"Чек-лист-готовности-проекта-5\"><span class=\"toc-item-num\">5&nbsp;&nbsp;</span>Чек-лист готовности проекта</a></span></li></ul></div>"
   ]
  },
  {
   "cell_type": "markdown",
   "metadata": {},
   "source": [
    "# Отток клиентов"
   ]
  },
  {
   "cell_type": "markdown",
   "metadata": {},
   "source": [
    "Из «Бета-Банка» стали уходить клиенты. Каждый месяц. Немного, но заметно. Банковские маркетологи посчитали: сохранять текущих клиентов дешевле, чем привлекать новых.\n",
    "\n",
    "Нужно спрогнозировать, уйдёт клиент из банка в ближайшее время или нет. Вам предоставлены исторические данные о поведении клиентов и расторжении договоров с банком. \n",
    "\n",
    "Постройте модель с предельно большим значением *F1*-меры. Чтобы сдать проект успешно, нужно довести метрику до 0.59. Проверьте *F1*-меру на тестовой выборке самостоятельно.\n",
    "\n",
    "Дополнительно измеряйте *AUC-ROC*, сравнивайте её значение с *F1*-мерой.\n",
    "\n",
    "Источник данных: [https://www.kaggle.com/barelydedicated/bank-customer-churn-modeling](https://www.kaggle.com/barelydedicated/bank-customer-churn-modeling)"
   ]
  },
  {
   "cell_type": "code",
   "execution_count": 1,
   "metadata": {},
   "outputs": [],
   "source": [
    "import pandas as pd\n",
    "import matplotlib.pyplot as plt\n",
    "import seaborn as sns\n",
    "import numpy as np\n",
    "import time\n",
    "\n",
    "from sklearn.preprocessing import MinMaxScaler\n",
    "from sklearn.utils import shuffle\n",
    "from sklearn.model_selection import train_test_split, GridSearchCV\n",
    "from sklearn.metrics import accuracy_score, f1_score, recall_score, precision_score, roc_auc_score, roc_curve, confusion_matrix\n",
    "\n",
    "from sklearn.preprocessing import OrdinalEncoder \n",
    "\n",
    "from sklearn.linear_model import LogisticRegression\n",
    "from sklearn.ensemble import RandomForestClassifier\n",
    "from sklearn.preprocessing import StandardScaler\n",
    "from sklearn.tree import DecisionTreeClassifier\n",
    "from sklearn.dummy import DummyClassifier"
   ]
  },
  {
   "cell_type": "code",
   "execution_count": 2,
   "metadata": {},
   "outputs": [],
   "source": [
    "data.columns=data.columns.str.lower() # Определим random_state\n",
    "ran_st= 12345"
   ]
  },
  {
   "cell_type": "markdown",
   "metadata": {},
   "source": [
    "## Подготовка данных"
   ]
  },
  {
   "cell_type": "code",
   "execution_count": 3,
   "metadata": {},
   "outputs": [],
   "source": [
    "df = pd.read_csv('/datasets/Churn.csv')"
   ]
  },
  {
   "cell_type": "code",
   "execution_count": 4,
   "metadata": {
    "scrolled": true
   },
   "outputs": [
    {
     "data": {
      "text/html": [
       "<div>\n",
       "<style scoped>\n",
       "    .dataframe tbody tr th:only-of-type {\n",
       "        vertical-align: middle;\n",
       "    }\n",
       "\n",
       "    .dataframe tbody tr th {\n",
       "        vertical-align: top;\n",
       "    }\n",
       "\n",
       "    .dataframe thead th {\n",
       "        text-align: right;\n",
       "    }\n",
       "</style>\n",
       "<table border=\"1\" class=\"dataframe\">\n",
       "  <thead>\n",
       "    <tr style=\"text-align: right;\">\n",
       "      <th></th>\n",
       "      <th>RowNumber</th>\n",
       "      <th>CustomerId</th>\n",
       "      <th>Surname</th>\n",
       "      <th>CreditScore</th>\n",
       "      <th>Geography</th>\n",
       "      <th>Gender</th>\n",
       "      <th>Age</th>\n",
       "      <th>Tenure</th>\n",
       "      <th>Balance</th>\n",
       "      <th>NumOfProducts</th>\n",
       "      <th>HasCrCard</th>\n",
       "      <th>IsActiveMember</th>\n",
       "      <th>EstimatedSalary</th>\n",
       "      <th>Exited</th>\n",
       "    </tr>\n",
       "  </thead>\n",
       "  <tbody>\n",
       "    <tr>\n",
       "      <th>0</th>\n",
       "      <td>1</td>\n",
       "      <td>15634602</td>\n",
       "      <td>Hargrave</td>\n",
       "      <td>619</td>\n",
       "      <td>France</td>\n",
       "      <td>Female</td>\n",
       "      <td>42</td>\n",
       "      <td>2.0</td>\n",
       "      <td>0.00</td>\n",
       "      <td>1</td>\n",
       "      <td>1</td>\n",
       "      <td>1</td>\n",
       "      <td>101348.88</td>\n",
       "      <td>1</td>\n",
       "    </tr>\n",
       "    <tr>\n",
       "      <th>1</th>\n",
       "      <td>2</td>\n",
       "      <td>15647311</td>\n",
       "      <td>Hill</td>\n",
       "      <td>608</td>\n",
       "      <td>Spain</td>\n",
       "      <td>Female</td>\n",
       "      <td>41</td>\n",
       "      <td>1.0</td>\n",
       "      <td>83807.86</td>\n",
       "      <td>1</td>\n",
       "      <td>0</td>\n",
       "      <td>1</td>\n",
       "      <td>112542.58</td>\n",
       "      <td>0</td>\n",
       "    </tr>\n",
       "    <tr>\n",
       "      <th>2</th>\n",
       "      <td>3</td>\n",
       "      <td>15619304</td>\n",
       "      <td>Onio</td>\n",
       "      <td>502</td>\n",
       "      <td>France</td>\n",
       "      <td>Female</td>\n",
       "      <td>42</td>\n",
       "      <td>8.0</td>\n",
       "      <td>159660.80</td>\n",
       "      <td>3</td>\n",
       "      <td>1</td>\n",
       "      <td>0</td>\n",
       "      <td>113931.57</td>\n",
       "      <td>1</td>\n",
       "    </tr>\n",
       "    <tr>\n",
       "      <th>3</th>\n",
       "      <td>4</td>\n",
       "      <td>15701354</td>\n",
       "      <td>Boni</td>\n",
       "      <td>699</td>\n",
       "      <td>France</td>\n",
       "      <td>Female</td>\n",
       "      <td>39</td>\n",
       "      <td>1.0</td>\n",
       "      <td>0.00</td>\n",
       "      <td>2</td>\n",
       "      <td>0</td>\n",
       "      <td>0</td>\n",
       "      <td>93826.63</td>\n",
       "      <td>0</td>\n",
       "    </tr>\n",
       "    <tr>\n",
       "      <th>4</th>\n",
       "      <td>5</td>\n",
       "      <td>15737888</td>\n",
       "      <td>Mitchell</td>\n",
       "      <td>850</td>\n",
       "      <td>Spain</td>\n",
       "      <td>Female</td>\n",
       "      <td>43</td>\n",
       "      <td>2.0</td>\n",
       "      <td>125510.82</td>\n",
       "      <td>1</td>\n",
       "      <td>1</td>\n",
       "      <td>1</td>\n",
       "      <td>79084.10</td>\n",
       "      <td>0</td>\n",
       "    </tr>\n",
       "  </tbody>\n",
       "</table>\n",
       "</div>"
      ],
      "text/plain": [
       "   RowNumber  CustomerId   Surname  CreditScore Geography  Gender  Age  \\\n",
       "0          1    15634602  Hargrave          619    France  Female   42   \n",
       "1          2    15647311      Hill          608     Spain  Female   41   \n",
       "2          3    15619304      Onio          502    France  Female   42   \n",
       "3          4    15701354      Boni          699    France  Female   39   \n",
       "4          5    15737888  Mitchell          850     Spain  Female   43   \n",
       "\n",
       "   Tenure    Balance  NumOfProducts  HasCrCard  IsActiveMember  \\\n",
       "0     2.0       0.00              1          1               1   \n",
       "1     1.0   83807.86              1          0               1   \n",
       "2     8.0  159660.80              3          1               0   \n",
       "3     1.0       0.00              2          0               0   \n",
       "4     2.0  125510.82              1          1               1   \n",
       "\n",
       "   EstimatedSalary  Exited  \n",
       "0        101348.88       1  \n",
       "1        112542.58       0  \n",
       "2        113931.57       1  \n",
       "3         93826.63       0  \n",
       "4         79084.10       0  "
      ]
     },
     "execution_count": 4,
     "metadata": {},
     "output_type": "execute_result"
    }
   ],
   "source": [
    "df.head()"
   ]
  },
  {
   "cell_type": "markdown",
   "metadata": {},
   "source": [
    "**Признаки** *\n",
    "\n",
    " - RowNumber — индекс строки в данных\n",
    " - CustomerId — уникальный идентификатор клиента\n",
    " - Surname — фамилия\n",
    " - CreditScore — кредитный рейтинг\n",
    " - Geography — страна проживания\n",
    " - Gender — пол\n",
    " - Age — возраст\n",
    " - Tenure — сколько лет человек является клиентом банка\n",
    " - Balance — баланс на счёте\n",
    " - NumOfProducts — количество продуктов банка, используемых клиентом\n",
    " - HasCrCard — наличие кредитной карты\n",
    " - IsActiveMember — активность клиента\n",
    " - EstimatedSalary — предполагаемая зарплата\n",
    " \n",
    "**Целевой признак**\n",
    "\n",
    " - Exited — факт ухода клиента\n",
    " \n",
    " \n",
    "  *Из описания задачи"
   ]
  },
  {
   "cell_type": "code",
   "execution_count": 5,
   "metadata": {
    "scrolled": true
   },
   "outputs": [
    {
     "name": "stdout",
     "output_type": "stream",
     "text": [
      "<class 'pandas.core.frame.DataFrame'>\n",
      "RangeIndex: 10000 entries, 0 to 9999\n",
      "Data columns (total 14 columns):\n",
      " #   Column           Non-Null Count  Dtype  \n",
      "---  ------           --------------  -----  \n",
      " 0   RowNumber        10000 non-null  int64  \n",
      " 1   CustomerId       10000 non-null  int64  \n",
      " 2   Surname          10000 non-null  object \n",
      " 3   CreditScore      10000 non-null  int64  \n",
      " 4   Geography        10000 non-null  object \n",
      " 5   Gender           10000 non-null  object \n",
      " 6   Age              10000 non-null  int64  \n",
      " 7   Tenure           9091 non-null   float64\n",
      " 8   Balance          10000 non-null  float64\n",
      " 9   NumOfProducts    10000 non-null  int64  \n",
      " 10  HasCrCard        10000 non-null  int64  \n",
      " 11  IsActiveMember   10000 non-null  int64  \n",
      " 12  EstimatedSalary  10000 non-null  float64\n",
      " 13  Exited           10000 non-null  int64  \n",
      "dtypes: float64(3), int64(8), object(3)\n",
      "memory usage: 1.1+ MB\n"
     ]
    }
   ],
   "source": [
    "df.info()"
   ]
  },
  {
   "cell_type": "code",
   "execution_count": 6,
   "metadata": {},
   "outputs": [
    {
     "data": {
      "text/plain": [
       "0"
      ]
     },
     "execution_count": 6,
     "metadata": {},
     "output_type": "execute_result"
    }
   ],
   "source": [
    "df.duplicated().sum()"
   ]
  },
  {
   "cell_type": "code",
   "execution_count": 7,
   "metadata": {},
   "outputs": [
    {
     "data": {
      "text/plain": [
       "RowNumber            0\n",
       "CustomerId           0\n",
       "Surname              0\n",
       "CreditScore          0\n",
       "Geography            0\n",
       "Gender               0\n",
       "Age                  0\n",
       "Tenure             909\n",
       "Balance              0\n",
       "NumOfProducts        0\n",
       "HasCrCard            0\n",
       "IsActiveMember       0\n",
       "EstimatedSalary      0\n",
       "Exited               0\n",
       "dtype: int64"
      ]
     },
     "execution_count": 7,
     "metadata": {},
     "output_type": "execute_result"
    }
   ],
   "source": [
    "df.isna().sum()"
   ]
  },
  {
   "cell_type": "code",
   "execution_count": 8,
   "metadata": {},
   "outputs": [
    {
     "data": {
      "text/plain": [
       "1.0     952\n",
       "2.0     950\n",
       "8.0     933\n",
       "3.0     928\n",
       "5.0     927\n",
       "7.0     925\n",
       "4.0     885\n",
       "9.0     882\n",
       "6.0     881\n",
       "10.0    446\n",
       "0.0     382\n",
       "Name: Tenure, dtype: int64"
      ]
     },
     "execution_count": 8,
     "metadata": {},
     "output_type": "execute_result"
    }
   ],
   "source": [
    "df['Tenure'].value_counts()"
   ]
  },
  {
   "cell_type": "code",
   "execution_count": 9,
   "metadata": {},
   "outputs": [
    {
     "data": {
      "image/png": "[encoded data removed]",
      "text/plain": [
       "<Figure size 864x432 with 1 Axes>"
      ]
     },
     "metadata": {
      "needs_background": "light"
     },
     "output_type": "display_data"
    }
   ],
   "source": [
    "d.fgroupby('Tenure')['Exited'].count().plot(figsize=(12,6),kind='bar',title='Отток клиентов в зависимости от Tenure')\n",
    "plt.show()"
   ]
  },
  {
   "cell_type": "markdown",
   "metadata": {},
   "source": [
    "Три варианта решения:\n",
    "\n",
    "- Удалить объекты с пропущенными значениями, так как их немного (менее 10%) (df.dropna(inplace=True)\n",
    "- Заменить пропуски на минимальное значение (0) (df['Tenure'] = df['Tenure'].fillna(0))\n",
    "- Заменить пропуски на медианное значение \n",
    "\n",
    "Решение: Заменим нулевыми значениями"
   ]
  },
  {
   "cell_type": "code",
   "execution_count": 10,
   "metadata": {},
   "outputs": [],
   "source": [
    "#df['Tenure'] = df['Tenure'].fillna(0)\n",
    "ten_median = df['Tenure'].median()\n",
    "df['Tenure'] = df['Tenure'].fillna(ten_median)"
   ]
  },
  {
   "cell_type": "code",
   "execution_count": 11,
   "metadata": {},
   "outputs": [
    {
     "data": {
      "text/plain": [
       "5.0     1836\n",
       "1.0      952\n",
       "2.0      950\n",
       "8.0      933\n",
       "3.0      928\n",
       "7.0      925\n",
       "4.0      885\n",
       "9.0      882\n",
       "6.0      881\n",
       "10.0     446\n",
       "0.0      382\n",
       "Name: Tenure, dtype: int64"
      ]
     },
     "execution_count": 11,
     "metadata": {},
     "output_type": "execute_result"
    }
   ],
   "source": [
    "df['Tenure'].value_counts()"
   ]
  },
  {
   "cell_type": "code",
   "execution_count": 12,
   "metadata": {},
   "outputs": [
    {
     "data": {
      "text/html": [
       "<div>\n",
       "<style scoped>\n",
       "    .dataframe tbody tr th:only-of-type {\n",
       "        vertical-align: middle;\n",
       "    }\n",
       "\n",
       "    .dataframe tbody tr th {\n",
       "        vertical-align: top;\n",
       "    }\n",
       "\n",
       "    .dataframe thead th {\n",
       "        text-align: right;\n",
       "    }\n",
       "</style>\n",
       "<table border=\"1\" class=\"dataframe\">\n",
       "  <thead>\n",
       "    <tr style=\"text-align: right;\">\n",
       "      <th></th>\n",
       "      <th>RowNumber</th>\n",
       "      <th>CustomerId</th>\n",
       "      <th>CreditScore</th>\n",
       "      <th>Age</th>\n",
       "      <th>Tenure</th>\n",
       "      <th>Balance</th>\n",
       "      <th>NumOfProducts</th>\n",
       "      <th>HasCrCard</th>\n",
       "      <th>IsActiveMember</th>\n",
       "      <th>EstimatedSalary</th>\n",
       "      <th>Exited</th>\n",
       "    </tr>\n",
       "  </thead>\n",
       "  <tbody>\n",
       "    <tr>\n",
       "      <th>count</th>\n",
       "      <td>10000.00000</td>\n",
       "      <td>1.000000e+04</td>\n",
       "      <td>10000.000000</td>\n",
       "      <td>10000.000000</td>\n",
       "      <td>10000.00000</td>\n",
       "      <td>10000.000000</td>\n",
       "      <td>10000.000000</td>\n",
       "      <td>10000.00000</td>\n",
       "      <td>10000.000000</td>\n",
       "      <td>10000.000000</td>\n",
       "      <td>10000.000000</td>\n",
       "    </tr>\n",
       "    <tr>\n",
       "      <th>mean</th>\n",
       "      <td>5000.50000</td>\n",
       "      <td>1.569094e+07</td>\n",
       "      <td>650.528800</td>\n",
       "      <td>38.921800</td>\n",
       "      <td>4.99790</td>\n",
       "      <td>76485.889288</td>\n",
       "      <td>1.530200</td>\n",
       "      <td>0.70550</td>\n",
       "      <td>0.515100</td>\n",
       "      <td>100090.239881</td>\n",
       "      <td>0.203700</td>\n",
       "    </tr>\n",
       "    <tr>\n",
       "      <th>std</th>\n",
       "      <td>2886.89568</td>\n",
       "      <td>7.193619e+04</td>\n",
       "      <td>96.653299</td>\n",
       "      <td>10.487806</td>\n",
       "      <td>2.76001</td>\n",
       "      <td>62397.405202</td>\n",
       "      <td>0.581654</td>\n",
       "      <td>0.45584</td>\n",
       "      <td>0.499797</td>\n",
       "      <td>57510.492818</td>\n",
       "      <td>0.402769</td>\n",
       "    </tr>\n",
       "    <tr>\n",
       "      <th>min</th>\n",
       "      <td>1.00000</td>\n",
       "      <td>1.556570e+07</td>\n",
       "      <td>350.000000</td>\n",
       "      <td>18.000000</td>\n",
       "      <td>0.00000</td>\n",
       "      <td>0.000000</td>\n",
       "      <td>1.000000</td>\n",
       "      <td>0.00000</td>\n",
       "      <td>0.000000</td>\n",
       "      <td>11.580000</td>\n",
       "      <td>0.000000</td>\n",
       "    </tr>\n",
       "    <tr>\n",
       "      <th>25%</th>\n",
       "      <td>2500.75000</td>\n",
       "      <td>1.562853e+07</td>\n",
       "      <td>584.000000</td>\n",
       "      <td>32.000000</td>\n",
       "      <td>3.00000</td>\n",
       "      <td>0.000000</td>\n",
       "      <td>1.000000</td>\n",
       "      <td>0.00000</td>\n",
       "      <td>0.000000</td>\n",
       "      <td>51002.110000</td>\n",
       "      <td>0.000000</td>\n",
       "    </tr>\n",
       "    <tr>\n",
       "      <th>50%</th>\n",
       "      <td>5000.50000</td>\n",
       "      <td>1.569074e+07</td>\n",
       "      <td>652.000000</td>\n",
       "      <td>37.000000</td>\n",
       "      <td>5.00000</td>\n",
       "      <td>97198.540000</td>\n",
       "      <td>1.000000</td>\n",
       "      <td>1.00000</td>\n",
       "      <td>1.000000</td>\n",
       "      <td>100193.915000</td>\n",
       "      <td>0.000000</td>\n",
       "    </tr>\n",
       "    <tr>\n",
       "      <th>75%</th>\n",
       "      <td>7500.25000</td>\n",
       "      <td>1.575323e+07</td>\n",
       "      <td>718.000000</td>\n",
       "      <td>44.000000</td>\n",
       "      <td>7.00000</td>\n",
       "      <td>127644.240000</td>\n",
       "      <td>2.000000</td>\n",
       "      <td>1.00000</td>\n",
       "      <td>1.000000</td>\n",
       "      <td>149388.247500</td>\n",
       "      <td>0.000000</td>\n",
       "    </tr>\n",
       "    <tr>\n",
       "      <th>max</th>\n",
       "      <td>10000.00000</td>\n",
       "      <td>1.581569e+07</td>\n",
       "      <td>850.000000</td>\n",
       "      <td>92.000000</td>\n",
       "      <td>10.00000</td>\n",
       "      <td>250898.090000</td>\n",
       "      <td>4.000000</td>\n",
       "      <td>1.00000</td>\n",
       "      <td>1.000000</td>\n",
       "      <td>199992.480000</td>\n",
       "      <td>1.000000</td>\n",
       "    </tr>\n",
       "  </tbody>\n",
       "</table>\n",
       "</div>"
      ],
      "text/plain": [
       "         RowNumber    CustomerId   CreditScore           Age       Tenure  \\\n",
       "count  10000.00000  1.000000e+04  10000.000000  10000.000000  10000.00000   \n",
       "mean    5000.50000  1.569094e+07    650.528800     38.921800      4.99790   \n",
       "std     2886.89568  7.193619e+04     96.653299     10.487806      2.76001   \n",
       "min        1.00000  1.556570e+07    350.000000     18.000000      0.00000   \n",
       "25%     2500.75000  1.562853e+07    584.000000     32.000000      3.00000   \n",
       "50%     5000.50000  1.569074e+07    652.000000     37.000000      5.00000   \n",
       "75%     7500.25000  1.575323e+07    718.000000     44.000000      7.00000   \n",
       "max    10000.00000  1.581569e+07    850.000000     92.000000     10.00000   \n",
       "\n",
       "             Balance  NumOfProducts    HasCrCard  IsActiveMember  \\\n",
       "count   10000.000000   10000.000000  10000.00000    10000.000000   \n",
       "mean    76485.889288       1.530200      0.70550        0.515100   \n",
       "std     62397.405202       0.581654      0.45584        0.499797   \n",
       "min         0.000000       1.000000      0.00000        0.000000   \n",
       "25%         0.000000       1.000000      0.00000        0.000000   \n",
       "50%     97198.540000       1.000000      1.00000        1.000000   \n",
       "75%    127644.240000       2.000000      1.00000        1.000000   \n",
       "max    250898.090000       4.000000      1.00000        1.000000   \n",
       "\n",
       "       EstimatedSalary        Exited  \n",
       "count     10000.000000  10000.000000  \n",
       "mean     100090.239881      0.203700  \n",
       "std       57510.492818      0.402769  \n",
       "min          11.580000      0.000000  \n",
       "25%       51002.110000      0.000000  \n",
       "50%      100193.915000      0.000000  \n",
       "75%      149388.247500      0.000000  \n",
       "max      199992.480000      1.000000  "
      ]
     },
     "execution_count": 12,
     "metadata": {},
     "output_type": "execute_result"
    }
   ],
   "source": [
    "df.describe()"
   ]
  },
  {
   "cell_type": "markdown",
   "metadata": {},
   "source": []
  },
  {
   "cell_type": "markdown",
   "metadata": {},
   "source": [
    "**Вывод**\n",
    "\n",
    " - RowNumber, CustomerId, Surname — столбцы можно удалить, т.к они относятся к идентификационным признакам клиента и не используются в модели ML.\n",
    " - CreditScore — следует проверить распределение и сохранить данный столбец.\n",
    " - Geography —  выполнить преобразование техникой прямого кодирования (далее - OHE) или ordinal encoding\n",
    " - Gender — преобразовать OHE или ordinal encoding.\n",
    " - AgeTenure, \tBalance,\tNumOfProducts,\tHasCrCard,\tIsActiveMember,\tEstimatedSalary, Exited — оставить в исходном формате."
   ]
  },
  {
   "cell_type": "code",
   "execution_count": 13,
   "metadata": {},
   "outputs": [],
   "source": [
    "#Удалим столбцы, которые не будут использованы при построении модели \n",
    "drop_col = ['RowNumber','CustomerId', 'Surname']\n",
    "df = df.drop(drop_col, axis=1)"
   ]
  },
  {
   "cell_type": "code",
   "execution_count": 14,
   "metadata": {},
   "outputs": [
    {
     "data": {
      "text/html": [
       "<div>\n",
       "<style scoped>\n",
       "    .dataframe tbody tr th:only-of-type {\n",
       "        vertical-align: middle;\n",
       "    }\n",
       "\n",
       "    .dataframe tbody tr th {\n",
       "        vertical-align: top;\n",
       "    }\n",
       "\n",
       "    .dataframe thead th {\n",
       "        text-align: right;\n",
       "    }\n",
       "</style>\n",
       "<table border=\"1\" class=\"dataframe\">\n",
       "  <thead>\n",
       "    <tr style=\"text-align: right;\">\n",
       "      <th></th>\n",
       "      <th>CreditScore</th>\n",
       "      <th>Geography</th>\n",
       "      <th>Gender</th>\n",
       "      <th>Age</th>\n",
       "      <th>Tenure</th>\n",
       "      <th>Balance</th>\n",
       "      <th>NumOfProducts</th>\n",
       "      <th>HasCrCard</th>\n",
       "      <th>IsActiveMember</th>\n",
       "      <th>EstimatedSalary</th>\n",
       "      <th>Exited</th>\n",
       "    </tr>\n",
       "  </thead>\n",
       "  <tbody>\n",
       "    <tr>\n",
       "      <th>0</th>\n",
       "      <td>619</td>\n",
       "      <td>France</td>\n",
       "      <td>Female</td>\n",
       "      <td>42</td>\n",
       "      <td>2.0</td>\n",
       "      <td>0.00</td>\n",
       "      <td>1</td>\n",
       "      <td>1</td>\n",
       "      <td>1</td>\n",
       "      <td>101348.88</td>\n",
       "      <td>1</td>\n",
       "    </tr>\n",
       "    <tr>\n",
       "      <th>1</th>\n",
       "      <td>608</td>\n",
       "      <td>Spain</td>\n",
       "      <td>Female</td>\n",
       "      <td>41</td>\n",
       "      <td>1.0</td>\n",
       "      <td>83807.86</td>\n",
       "      <td>1</td>\n",
       "      <td>0</td>\n",
       "      <td>1</td>\n",
       "      <td>112542.58</td>\n",
       "      <td>0</td>\n",
       "    </tr>\n",
       "    <tr>\n",
       "      <th>2</th>\n",
       "      <td>502</td>\n",
       "      <td>France</td>\n",
       "      <td>Female</td>\n",
       "      <td>42</td>\n",
       "      <td>8.0</td>\n",
       "      <td>159660.80</td>\n",
       "      <td>3</td>\n",
       "      <td>1</td>\n",
       "      <td>0</td>\n",
       "      <td>113931.57</td>\n",
       "      <td>1</td>\n",
       "    </tr>\n",
       "    <tr>\n",
       "      <th>3</th>\n",
       "      <td>699</td>\n",
       "      <td>France</td>\n",
       "      <td>Female</td>\n",
       "      <td>39</td>\n",
       "      <td>1.0</td>\n",
       "      <td>0.00</td>\n",
       "      <td>2</td>\n",
       "      <td>0</td>\n",
       "      <td>0</td>\n",
       "      <td>93826.63</td>\n",
       "      <td>0</td>\n",
       "    </tr>\n",
       "    <tr>\n",
       "      <th>4</th>\n",
       "      <td>850</td>\n",
       "      <td>Spain</td>\n",
       "      <td>Female</td>\n",
       "      <td>43</td>\n",
       "      <td>2.0</td>\n",
       "      <td>125510.82</td>\n",
       "      <td>1</td>\n",
       "      <td>1</td>\n",
       "      <td>1</td>\n",
       "      <td>79084.10</td>\n",
       "      <td>0</td>\n",
       "    </tr>\n",
       "  </tbody>\n",
       "</table>\n",
       "</div>"
      ],
      "text/plain": [
       "   CreditScore Geography  Gender  Age  Tenure    Balance  NumOfProducts  \\\n",
       "0          619    France  Female   42     2.0       0.00              1   \n",
       "1          608     Spain  Female   41     1.0   83807.86              1   \n",
       "2          502    France  Female   42     8.0  159660.80              3   \n",
       "3          699    France  Female   39     1.0       0.00              2   \n",
       "4          850     Spain  Female   43     2.0  125510.82              1   \n",
       "\n",
       "   HasCrCard  IsActiveMember  EstimatedSalary  Exited  \n",
       "0          1               1        101348.88       1  \n",
       "1          0               1        112542.58       0  \n",
       "2          1               0        113931.57       1  \n",
       "3          0               0         93826.63       0  \n",
       "4          1               1         79084.10       0  "
      ]
     },
     "execution_count": 14,
     "metadata": {},
     "output_type": "execute_result"
    }
   ],
   "source": [
    "df.head()"
   ]
  },
  {
   "cell_type": "code",
   "execution_count": 15,
   "metadata": {},
   "outputs": [
    {
     "data": {
      "text/plain": [
       "(10000, 11)"
      ]
     },
     "execution_count": 15,
     "metadata": {},
     "output_type": "execute_result"
    }
   ],
   "source": [
    "df.shape"
   ]
  },
  {
   "cell_type": "code",
   "execution_count": 16,
   "metadata": {},
   "outputs": [
    {
     "data": {
      "text/plain": [
       "array(['France', 'Spain', 'Germany'], dtype=object)"
      ]
     },
     "execution_count": 16,
     "metadata": {},
     "output_type": "execute_result"
    }
   ],
   "source": [
    "df['Geography'].unique()"
   ]
  },
  {
   "cell_type": "markdown",
   "metadata": {},
   "source": [
    "Вывод по графику: \n",
    "Первоначально построил график со всеми переменными. \n",
    "Однако сильной зависимости  между большинством переменных отмечено не было. \n",
    "\n",
    "Изначально были предположения, что уход клиентов связан со следующими факторами:\n",
    "  - плохим обслуживаением на какой-то отдельно взятой территории\n",
    "  - принадлежность к группе лиц определенного возраста\n",
    "  - по генедерному признакую,  \n",
    "  \n",
    "Изначально былагипотеза, что некоторые ушедшие клиенты хотят дополнительных услуг, например, цифровизации, или которым предлагают \"какие-то новомодные фенечки\" в других кредитных организациях..\n",
    "Однако эти предположения не подтверждаются графиками.\n",
    "\n",
    "Из графиков увидел одну интересную зависимость: уходят, в основном те клиенты, кто пользуется 3-4 продуктами банка. Вероятно, им нужны дополнительные услуги которые Банк не может предложить. Также возможно, что качество предлагаемых услуг не соответствует рыночным характеристикам или сервису. "
   ]
  },
  {
   "cell_type": "code",
   "execution_count": 17,
   "metadata": {},
   "outputs": [],
   "source": [
    "# Обработаем данные методом OHE, что позволит нам использовать разные модели и не попасть в дамми ловушку\n",
    "#df = pd.get_dummies(df, drop_first=True)\n",
    "#df.head()"
   ]
  },
  {
   "cell_type": "markdown",
   "metadata": {},
   "source": [
    "##Ordinal Encoder"
   ]
  },
  {
   "cell_type": "code",
   "execution_count": 18,
   "metadata": {},
   "outputs": [],
   "source": [
    "encoder = OrdinalEncoder()\n",
    "df = pd.DataFrame(encoder.fit_transform(df), columns=df.columns)"
   ]
  },
  {
   "cell_type": "code",
   "execution_count": 19,
   "metadata": {},
   "outputs": [
    {
     "name": "stdout",
     "output_type": "stream",
     "text": [
      "<class 'pandas.core.frame.DataFrame'>\n",
      "RangeIndex: 10000 entries, 0 to 9999\n",
      "Data columns (total 11 columns):\n",
      " #   Column           Non-Null Count  Dtype  \n",
      "---  ------           --------------  -----  \n",
      " 0   CreditScore      10000 non-null  float64\n",
      " 1   Geography        10000 non-null  float64\n",
      " 2   Gender           10000 non-null  float64\n",
      " 3   Age              10000 non-null  float64\n",
      " 4   Tenure           10000 non-null  float64\n",
      " 5   Balance          10000 non-null  float64\n",
      " 6   NumOfProducts    10000 non-null  float64\n",
      " 7   HasCrCard        10000 non-null  float64\n",
      " 8   IsActiveMember   10000 non-null  float64\n",
      " 9   EstimatedSalary  10000 non-null  float64\n",
      " 10  Exited           10000 non-null  float64\n",
      "dtypes: float64(11)\n",
      "memory usage: 859.5 KB\n"
     ]
    }
   ],
   "source": [
    "df.info()"
   ]
  },
  {
   "cell_type": "markdown",
   "metadata": {},
   "source": [
    "При прямом кодировании, в новом датафрейме количество столбцов увеличелось на 1. Столбец Geography содержал 3 класса, Gender_Male 2 класса — в результате мы получили только 2 и 1 столбцов соответственно, что позволяет избежать дами-ловушки.\n",
    "\n",
    "По рекоменндации ревьюера, применили Порядковое кодирование. "
   ]
  },
  {
   "cell_type": "code",
   "execution_count": 20,
   "metadata": {},
   "outputs": [],
   "source": [
    "#sns.pairplot(df, hue='Exited') \n",
    "#Закомментировал, чтобы не занимать места и время на построение. Оставил только с \n",
    "#выборочным количеством переменных"
   ]
  },
  {
   "cell_type": "code",
   "execution_count": 21,
   "metadata": {},
   "outputs": [],
   "source": [
    "for_pl = ['Age', 'Tenure', 'NumOfProducts', 'Exited']\n",
    "df_plot = df[for_pl]\n",
    "#df_plot.head() - для проверки"
   ]
  },
  {
   "cell_type": "code",
   "execution_count": 22,
   "metadata": {},
   "outputs": [
    {
     "data": {
      "text/plain": [
       "<seaborn.axisgrid.PairGrid at 0x7fc08066a1c0>"
      ]
     },
     "execution_count": 22,
     "metadata": {},
     "output_type": "execute_result"
    },
    {
     "data": {
      "image/png": "[encoded data removed]",
      "text/plain": [
       "<Figure size 591.875x540 with 12 Axes>"
      ]
     },
     "metadata": {
      "needs_background": "light"
     },
     "output_type": "display_data"
    }
   ],
   "source": [
    "sns.pairplot(df_plot, hue='Exited')"
   ]
  },
  {
   "cell_type": "code",
   "execution_count": 23,
   "metadata": {},
   "outputs": [],
   "source": [
    "#Разделим данные на признаки и целевой признак\n",
    "features = df.drop('Exited', axis=1)\n",
    "target = df['Exited']"
   ]
  },
  {
   "cell_type": "markdown",
   "metadata": {},
   "source": [
    "Сформируем выборки для моделирования:\n",
    " - Обучающая - 60% \n",
    " - Валидационная - 20% \n",
    " - Тестовая - 20%"
   ]
  },
  {
   "cell_type": "code",
   "execution_count": 24,
   "metadata": {},
   "outputs": [],
   "source": [
    "features_train, features_validtest, target_train, target_validtest = train_test_split(\n",
    "    features, target, test_size=0.4, stratify=target, random_state=ran_st)"
   ]
  },
  {
   "cell_type": "code",
   "execution_count": 25,
   "metadata": {},
   "outputs": [],
   "source": [
    "features_valid, features_test, target_valid, target_test = train_test_split(\n",
    "    features_validtest, target_validtest, test_size=0.5, random_state=ran_st)"
   ]
  },
  {
   "cell_type": "code",
   "execution_count": 26,
   "metadata": {},
   "outputs": [
    {
     "name": "stdout",
     "output_type": "stream",
     "text": [
      "Количество строк в target_train по классам: [4778 1222]\n",
      "Количество строк в target_valid по классам: [1609  391]\n",
      "Количество строк в target_test по классам: [1576  424]\n"
     ]
    }
   ],
   "source": [
    "# Скопировал и подправил из того, что скинул в своём комментарии\n",
    "print(f\"Количество строк в target_train по классам: {np.bincount(target_train)}\")\n",
    "print(f\"Количество строк в target_valid по классам: {np.bincount(target_valid)}\")\n",
    "print(f\"Количество строк в target_test по классам: {np.bincount(target_test)}\")"
   ]
  },
  {
   "cell_type": "markdown",
   "metadata": {},
   "source": [
    "<div class=\"alert alert-info\">\n",
    "<font size=\"4\"></font>\n",
    "    <font size=\"3\", color = \"black\">\n",
    "Впрочем, нам сложно сравнивать баланс когда разное количество элементов в выборке, лучше нормализовывать и смотреть именно отношение одного к другому, а не просто количества элементов:"
   ]
  },
  {
   "cell_type": "code",
   "execution_count": 27,
   "metadata": {},
   "outputs": [
    {
     "name": "stdout",
     "output_type": "stream",
     "text": [
      "Количество строк в target_train по классам:\n",
      " 0.0    0.796333\n",
      "1.0    0.203667\n",
      "Name: Exited, dtype: float64\n",
      "Количество строк в target_valid по классам:\n",
      " 0.0    0.8045\n",
      "1.0    0.1955\n",
      "Name: Exited, dtype: float64\n",
      "Количество строк в target_test по классам:\n",
      " 0.0    0.788\n",
      "1.0    0.212\n",
      "Name: Exited, dtype: float64\n"
     ]
    }
   ],
   "source": [
    "# От ревьюера:\n",
    "print(f\"Количество строк в target_train по классам:\\n {target_train.value_counts(normalize=True)}\")\n",
    "print(f\"Количество строк в target_valid по классам:\\n {target_valid.value_counts(normalize=True)}\")\n",
    "print(f\"Количество строк в target_test по классам:\\n {target_test.value_counts(normalize=True)}\")"
   ]
  },
  {
   "cell_type": "markdown",
   "metadata": {},
   "source": [
    "<div class=\"alert alert-info\">\n",
    "<font size=\"4\"></font>\n",
    "    <font size=\"3\", color = \"black\">\n",
    "Видно, что расхождения балансов классов не критичные, но есть.\n",
    "\n",
    "А если бы мы использовали параметр stratify в обоих разбиениях:"
   ]
  },
  {
   "cell_type": "code",
   "execution_count": 28,
   "metadata": {},
   "outputs": [
    {
     "name": "stdout",
     "output_type": "stream",
     "text": [
      "Количество строк в target_train по классам:\n",
      " 0.0    0.796333\n",
      "1.0    0.203667\n",
      "Name: Exited, dtype: float64\n",
      "Количество строк в target_valid по классам:\n",
      " 0.0    0.796\n",
      "1.0    0.204\n",
      "Name: Exited, dtype: float64\n",
      "Количество строк в target_test по классам:\n",
      " 0.0    0.7965\n",
      "1.0    0.2035\n",
      "Name: Exited, dtype: float64\n"
     ]
    }
   ],
   "source": [
    "# КОД РЕВЬЮЕРА\n",
    "X_train, X_validtest, y_train, y_validtest = train_test_split(\n",
    "    features, target, test_size=0.4, stratify=target, random_state=ran_st)\n",
    "\n",
    "X_valid, X_test, y_valid, y_test = train_test_split(\n",
    "    X_validtest, y_validtest, test_size=0.5, random_state=ran_st, stratify=y_validtest)\n",
    "\n",
    "print(f\"Количество строк в target_train по классам:\\n {y_train.value_counts(normalize=True)}\")\n",
    "print(f\"Количество строк в target_valid по классам:\\n {y_valid.value_counts(normalize=True)}\")\n",
    "print(f\"Количество строк в target_test по классам:\\n {y_test.value_counts(normalize=True)}\")"
   ]
  },
  {
   "cell_type": "markdown",
   "metadata": {},
   "source": [
    "<div class=\"alert alert-info\">\n",
    "<font size=\"4\"></font>\n",
    "    <font size=\"3\", color = \"black\">\n",
    "Балансы во всех 3 выборках почти идентичны.\n",
    "В текущей задаче не слишком критично, но чем сильнее дисбаланс в исходных данных, тем сильнее потенциально опаснее разбивать на выборки без stratify."
   ]
  },
  {
   "cell_type": "code",
   "execution_count": 29,
   "metadata": {},
   "outputs": [
    {
     "name": "stdout",
     "output_type": "stream",
     "text": [
      "(6000, 10)\n",
      "(2000, 10)\n",
      "(2000, 10)\n"
     ]
    }
   ],
   "source": [
    "print(features_train.shape)\n",
    "print(features_valid.shape)\n",
    "print(features_test.shape)"
   ]
  },
  {
   "cell_type": "markdown",
   "metadata": {},
   "source": [
    "Данные готовы для моделирования"
   ]
  },
  {
   "cell_type": "markdown",
   "metadata": {},
   "source": [
    "<div class=\"alert alert-success\">\n",
    "<font size=\"4\"><b>✔️ Комментарий ревьюера</b></font>\n",
    "    <br /> \n",
    "    <font size=\"3\", color = \"black\">\n",
    "<br />\n",
    "баланс выборок ОК"
   ]
  },
  {
   "cell_type": "markdown",
   "metadata": {},
   "source": [
    "## Исследование задачи"
   ]
  },
  {
   "cell_type": "code",
   "execution_count": 30,
   "metadata": {},
   "outputs": [
    {
     "data": {
      "text/plain": [
       "<AxesSubplot:title={'center':'Результирующий признак'}>"
      ]
     },
     "execution_count": 30,
     "metadata": {},
     "output_type": "execute_result"
    },
    {
     "data": {
      "image/png": "[encoded data removed]",
      "text/plain": [
       "<Figure size 432x432 with 1 Axes>"
      ]
     },
     "metadata": {
      "needs_background": "light"
     },
     "output_type": "display_data"
    }
   ],
   "source": [
    "#График оттока и оставшихся клиентов\n",
    "df['Exited'].value_counts().plot(\n",
    "    kind='bar', grid=True,figsize=(6,6),title='Результирующий признак')"
   ]
  },
  {
   "cell_type": "markdown",
   "metadata": {},
   "source": [
    "Соотношение ушедших и оставшихся клиентов составляет 1:4. Это говорит, что присутствует дисбаланс в данных."
   ]
  },
  {
   "cell_type": "code",
   "execution_count": 31,
   "metadata": {},
   "outputs": [
    {
     "data": {
      "text/html": [
       "<div>\n",
       "<style scoped>\n",
       "    .dataframe tbody tr th:only-of-type {\n",
       "        vertical-align: middle;\n",
       "    }\n",
       "\n",
       "    .dataframe tbody tr th {\n",
       "        vertical-align: top;\n",
       "    }\n",
       "\n",
       "    .dataframe thead th {\n",
       "        text-align: right;\n",
       "    }\n",
       "</style>\n",
       "<table border=\"1\" class=\"dataframe\">\n",
       "  <thead>\n",
       "    <tr style=\"text-align: right;\">\n",
       "      <th></th>\n",
       "      <th>CreditScore</th>\n",
       "      <th>Geography</th>\n",
       "      <th>Gender</th>\n",
       "      <th>Age</th>\n",
       "      <th>Tenure</th>\n",
       "      <th>Balance</th>\n",
       "      <th>NumOfProducts</th>\n",
       "      <th>HasCrCard</th>\n",
       "      <th>IsActiveMember</th>\n",
       "      <th>EstimatedSalary</th>\n",
       "      <th>Exited</th>\n",
       "    </tr>\n",
       "  </thead>\n",
       "  <tbody>\n",
       "    <tr>\n",
       "      <th>CreditScore</th>\n",
       "      <td>1.000000</td>\n",
       "      <td>0.008054</td>\n",
       "      <td>-0.002991</td>\n",
       "      <td>-0.003697</td>\n",
       "      <td>-0.000267</td>\n",
       "      <td>0.002516</td>\n",
       "      <td>0.012171</td>\n",
       "      <td>-0.005326</td>\n",
       "      <td>0.025445</td>\n",
       "      <td>-0.001140</td>\n",
       "      <td>-0.026002</td>\n",
       "    </tr>\n",
       "    <tr>\n",
       "      <th>Geography</th>\n",
       "      <td>0.008054</td>\n",
       "      <td>1.000000</td>\n",
       "      <td>0.004719</td>\n",
       "      <td>0.022881</td>\n",
       "      <td>-0.000846</td>\n",
       "      <td>0.051726</td>\n",
       "      <td>0.003972</td>\n",
       "      <td>-0.008523</td>\n",
       "      <td>0.006724</td>\n",
       "      <td>-0.001277</td>\n",
       "      <td>0.035943</td>\n",
       "    </tr>\n",
       "    <tr>\n",
       "      <th>Gender</th>\n",
       "      <td>-0.002991</td>\n",
       "      <td>0.004719</td>\n",
       "      <td>1.000000</td>\n",
       "      <td>-0.027664</td>\n",
       "      <td>0.012041</td>\n",
       "      <td>0.016055</td>\n",
       "      <td>-0.021859</td>\n",
       "      <td>0.005766</td>\n",
       "      <td>0.022544</td>\n",
       "      <td>-0.008269</td>\n",
       "      <td>-0.106512</td>\n",
       "    </tr>\n",
       "    <tr>\n",
       "      <th>Age</th>\n",
       "      <td>-0.003697</td>\n",
       "      <td>0.022881</td>\n",
       "      <td>-0.027664</td>\n",
       "      <td>1.000000</td>\n",
       "      <td>-0.012578</td>\n",
       "      <td>0.019862</td>\n",
       "      <td>-0.030707</td>\n",
       "      <td>-0.011697</td>\n",
       "      <td>0.085408</td>\n",
       "      <td>-0.007334</td>\n",
       "      <td>0.285537</td>\n",
       "    </tr>\n",
       "    <tr>\n",
       "      <th>Tenure</th>\n",
       "      <td>-0.000267</td>\n",
       "      <td>-0.000846</td>\n",
       "      <td>0.012041</td>\n",
       "      <td>-0.012578</td>\n",
       "      <td>1.000000</td>\n",
       "      <td>-0.003280</td>\n",
       "      <td>0.011409</td>\n",
       "      <td>0.025979</td>\n",
       "      <td>-0.030681</td>\n",
       "      <td>0.010080</td>\n",
       "      <td>-0.015989</td>\n",
       "    </tr>\n",
       "    <tr>\n",
       "      <th>Balance</th>\n",
       "      <td>0.002516</td>\n",
       "      <td>0.051726</td>\n",
       "      <td>0.016055</td>\n",
       "      <td>0.019862</td>\n",
       "      <td>-0.003280</td>\n",
       "      <td>1.000000</td>\n",
       "      <td>-0.238570</td>\n",
       "      <td>-0.005535</td>\n",
       "      <td>-0.013556</td>\n",
       "      <td>0.009749</td>\n",
       "      <td>0.097264</td>\n",
       "    </tr>\n",
       "    <tr>\n",
       "      <th>NumOfProducts</th>\n",
       "      <td>0.012171</td>\n",
       "      <td>0.003972</td>\n",
       "      <td>-0.021859</td>\n",
       "      <td>-0.030707</td>\n",
       "      <td>0.011409</td>\n",
       "      <td>-0.238570</td>\n",
       "      <td>1.000000</td>\n",
       "      <td>0.003183</td>\n",
       "      <td>0.009612</td>\n",
       "      <td>0.014248</td>\n",
       "      <td>-0.047820</td>\n",
       "    </tr>\n",
       "    <tr>\n",
       "      <th>HasCrCard</th>\n",
       "      <td>-0.005326</td>\n",
       "      <td>-0.008523</td>\n",
       "      <td>0.005766</td>\n",
       "      <td>-0.011697</td>\n",
       "      <td>0.025979</td>\n",
       "      <td>-0.005535</td>\n",
       "      <td>0.003183</td>\n",
       "      <td>1.000000</td>\n",
       "      <td>-0.011866</td>\n",
       "      <td>-0.010042</td>\n",
       "      <td>-0.007138</td>\n",
       "    </tr>\n",
       "    <tr>\n",
       "      <th>IsActiveMember</th>\n",
       "      <td>0.025445</td>\n",
       "      <td>0.006724</td>\n",
       "      <td>0.022544</td>\n",
       "      <td>0.085408</td>\n",
       "      <td>-0.030681</td>\n",
       "      <td>-0.013556</td>\n",
       "      <td>0.009612</td>\n",
       "      <td>-0.011866</td>\n",
       "      <td>1.000000</td>\n",
       "      <td>-0.011469</td>\n",
       "      <td>-0.156128</td>\n",
       "    </tr>\n",
       "    <tr>\n",
       "      <th>EstimatedSalary</th>\n",
       "      <td>-0.001140</td>\n",
       "      <td>-0.001277</td>\n",
       "      <td>-0.008269</td>\n",
       "      <td>-0.007334</td>\n",
       "      <td>0.010080</td>\n",
       "      <td>0.009749</td>\n",
       "      <td>0.014248</td>\n",
       "      <td>-0.010042</td>\n",
       "      <td>-0.011469</td>\n",
       "      <td>1.000000</td>\n",
       "      <td>0.012081</td>\n",
       "    </tr>\n",
       "    <tr>\n",
       "      <th>Exited</th>\n",
       "      <td>-0.026002</td>\n",
       "      <td>0.035943</td>\n",
       "      <td>-0.106512</td>\n",
       "      <td>0.285537</td>\n",
       "      <td>-0.015989</td>\n",
       "      <td>0.097264</td>\n",
       "      <td>-0.047820</td>\n",
       "      <td>-0.007138</td>\n",
       "      <td>-0.156128</td>\n",
       "      <td>0.012081</td>\n",
       "      <td>1.000000</td>\n",
       "    </tr>\n",
       "  </tbody>\n",
       "</table>\n",
       "</div>"
      ],
      "text/plain": [
       "                 CreditScore  Geography    Gender       Age    Tenure  \\\n",
       "CreditScore         1.000000   0.008054 -0.002991 -0.003697 -0.000267   \n",
       "Geography           0.008054   1.000000  0.004719  0.022881 -0.000846   \n",
       "Gender             -0.002991   0.004719  1.000000 -0.027664  0.012041   \n",
       "Age                -0.003697   0.022881 -0.027664  1.000000 -0.012578   \n",
       "Tenure             -0.000267  -0.000846  0.012041 -0.012578  1.000000   \n",
       "Balance             0.002516   0.051726  0.016055  0.019862 -0.003280   \n",
       "NumOfProducts       0.012171   0.003972 -0.021859 -0.030707  0.011409   \n",
       "HasCrCard          -0.005326  -0.008523  0.005766 -0.011697  0.025979   \n",
       "IsActiveMember      0.025445   0.006724  0.022544  0.085408 -0.030681   \n",
       "EstimatedSalary    -0.001140  -0.001277 -0.008269 -0.007334  0.010080   \n",
       "Exited             -0.026002   0.035943 -0.106512  0.285537 -0.015989   \n",
       "\n",
       "                  Balance  NumOfProducts  HasCrCard  IsActiveMember  \\\n",
       "CreditScore      0.002516       0.012171  -0.005326        0.025445   \n",
       "Geography        0.051726       0.003972  -0.008523        0.006724   \n",
       "Gender           0.016055      -0.021859   0.005766        0.022544   \n",
       "Age              0.019862      -0.030707  -0.011697        0.085408   \n",
       "Tenure          -0.003280       0.011409   0.025979       -0.030681   \n",
       "Balance          1.000000      -0.238570  -0.005535       -0.013556   \n",
       "NumOfProducts   -0.238570       1.000000   0.003183        0.009612   \n",
       "HasCrCard       -0.005535       0.003183   1.000000       -0.011866   \n",
       "IsActiveMember  -0.013556       0.009612  -0.011866        1.000000   \n",
       "EstimatedSalary  0.009749       0.014248  -0.010042       -0.011469   \n",
       "Exited           0.097264      -0.047820  -0.007138       -0.156128   \n",
       "\n",
       "                 EstimatedSalary    Exited  \n",
       "CreditScore            -0.001140 -0.026002  \n",
       "Geography              -0.001277  0.035943  \n",
       "Gender                 -0.008269 -0.106512  \n",
       "Age                    -0.007334  0.285537  \n",
       "Tenure                  0.010080 -0.015989  \n",
       "Balance                 0.009749  0.097264  \n",
       "NumOfProducts           0.014248 -0.047820  \n",
       "HasCrCard              -0.010042 -0.007138  \n",
       "IsActiveMember         -0.011469 -0.156128  \n",
       "EstimatedSalary         1.000000  0.012081  \n",
       "Exited                  0.012081  1.000000  "
      ]
     },
     "execution_count": 31,
     "metadata": {},
     "output_type": "execute_result"
    }
   ],
   "source": [
    "df.corr()"
   ]
  },
  {
   "cell_type": "markdown",
   "metadata": {},
   "source": [
    "<div class=\"alert alert-warning\">\n",
    "<font size=\"4\"><b>⚠️ Комментарий ревьюера V2</b></font>\n",
    "    <br /> \n",
    "    <font size=\"3\", color = \"black\">\n",
    "<br />\n",
    "Тут есть нюанс: коэффициенты корреляции Пирсона и Спирмена преподалагют, что признаки численные, а ты вычисляешь корреляции в том числе и для категориальных. Надо понимать, что коэффициенты корреляции Пирсона и Спирмена для категориальных признаков - не самая адекватная оценка из зависимости.\n",
    "\n",
    "В работе это ничего не ломает, но как факт лучше об этом знать."
   ]
  },
  {
   "cell_type": "markdown",
   "metadata": {},
   "source": [
    "Признаки не сильно коррелируются с целевым признаком, поэтому линейные методы прогнозирования не подойдут."
   ]
  },
  {
   "cell_type": "markdown",
   "metadata": {},
   "source": [
    "Стандартизируем тестовую и валидную выборку, т.к есть значения неоднородны. "
   ]
  },
  {
   "cell_type": "code",
   "execution_count": 32,
   "metadata": {
    "scrolled": true
   },
   "outputs": [
    {
     "name": "stderr",
     "output_type": "stream",
     "text": [
      "/tmp/ipykernel_598/1454025539.py:3: SettingWithCopyWarning: \n",
      "A value is trying to be set on a copy of a slice from a DataFrame.\n",
      "Try using .loc[row_indexer,col_indexer] = value instead\n",
      "\n",
      "See the caveats in the documentation: https://pandas.pydata.org/pandas-docs/stable/user_guide/indexing.html#returning-a-view-versus-a-copy\n",
      "  features_train[numeric] = scaler.fit_transform(features_train[numeric])\n",
      "/opt/conda/lib/python3.9/site-packages/pandas/core/indexing.py:1637: SettingWithCopyWarning: \n",
      "A value is trying to be set on a copy of a slice from a DataFrame\n",
      "\n",
      "See the caveats in the documentation: https://pandas.pydata.org/pandas-docs/stable/user_guide/indexing.html#returning-a-view-versus-a-copy\n",
      "  self._setitem_single_block(indexer, value, name)\n",
      "/opt/conda/lib/python3.9/site-packages/pandas/core/indexing.py:692: SettingWithCopyWarning: \n",
      "A value is trying to be set on a copy of a slice from a DataFrame\n",
      "\n",
      "See the caveats in the documentation: https://pandas.pydata.org/pandas-docs/stable/user_guide/indexing.html#returning-a-view-versus-a-copy\n",
      "  iloc._setitem_with_indexer(indexer, value, self.name)\n",
      "/tmp/ipykernel_598/1454025539.py:4: SettingWithCopyWarning: \n",
      "A value is trying to be set on a copy of a slice from a DataFrame.\n",
      "Try using .loc[row_indexer,col_indexer] = value instead\n",
      "\n",
      "See the caveats in the documentation: https://pandas.pydata.org/pandas-docs/stable/user_guide/indexing.html#returning-a-view-versus-a-copy\n",
      "  features_valid[numeric] = scaler.transform(features_valid[numeric])\n",
      "/opt/conda/lib/python3.9/site-packages/pandas/core/indexing.py:1637: SettingWithCopyWarning: \n",
      "A value is trying to be set on a copy of a slice from a DataFrame\n",
      "\n",
      "See the caveats in the documentation: https://pandas.pydata.org/pandas-docs/stable/user_guide/indexing.html#returning-a-view-versus-a-copy\n",
      "  self._setitem_single_block(indexer, value, name)\n",
      "/opt/conda/lib/python3.9/site-packages/pandas/core/indexing.py:692: SettingWithCopyWarning: \n",
      "A value is trying to be set on a copy of a slice from a DataFrame\n",
      "\n",
      "See the caveats in the documentation: https://pandas.pydata.org/pandas-docs/stable/user_guide/indexing.html#returning-a-view-versus-a-copy\n",
      "  iloc._setitem_with_indexer(indexer, value, self.name)\n",
      "/tmp/ipykernel_598/1454025539.py:5: SettingWithCopyWarning: \n",
      "A value is trying to be set on a copy of a slice from a DataFrame.\n",
      "Try using .loc[row_indexer,col_indexer] = value instead\n",
      "\n",
      "See the caveats in the documentation: https://pandas.pydata.org/pandas-docs/stable/user_guide/indexing.html#returning-a-view-versus-a-copy\n",
      "  features_test[numeric] = scaler.transform(features_test[numeric])\n",
      "/opt/conda/lib/python3.9/site-packages/pandas/core/indexing.py:1637: SettingWithCopyWarning: \n",
      "A value is trying to be set on a copy of a slice from a DataFrame\n",
      "\n",
      "See the caveats in the documentation: https://pandas.pydata.org/pandas-docs/stable/user_guide/indexing.html#returning-a-view-versus-a-copy\n",
      "  self._setitem_single_block(indexer, value, name)\n",
      "/opt/conda/lib/python3.9/site-packages/pandas/core/indexing.py:692: SettingWithCopyWarning: \n",
      "A value is trying to be set on a copy of a slice from a DataFrame\n",
      "\n",
      "See the caveats in the documentation: https://pandas.pydata.org/pandas-docs/stable/user_guide/indexing.html#returning-a-view-versus-a-copy\n",
      "  iloc._setitem_with_indexer(indexer, value, self.name)\n"
     ]
    }
   ],
   "source": [
    "numeric = ['CreditScore', 'Age', 'Tenure', 'Balance', 'EstimatedSalary']\n",
    "scaler=StandardScaler()\n",
    "features_train[numeric] = scaler.fit_transform(features_train[numeric])\n",
    "features_valid[numeric] = scaler.transform(features_valid[numeric])\n",
    "features_test[numeric] = scaler.transform(features_test[numeric])\n",
    "\n",
    "#scaler.fit(features_train[numeric])\n",
    "#features_train[numeric] = scaler.transform(features_train[numeric])\n",
    "#features_valid[numeric] = scaler.transform(features_valid[numeric])\n",
    "#features_test[numeric] = scaler.transform(features_test[numeric])"
   ]
  },
  {
   "cell_type": "markdown",
   "metadata": {},
   "source": [
    "В результате мы получили масштабированные признаки для выборок. "
   ]
  },
  {
   "cell_type": "markdown",
   "metadata": {},
   "source": [
    "Посчитаем accuracy для всех моделей (с учетом понимания, что accuracy не является показателььной мерой, когда наблюдается сильный дисбаланс классов)."
   ]
  },
  {
   "cell_type": "code",
   "execution_count": 33,
   "metadata": {},
   "outputs": [],
   "source": [
    "# def all_models_accuracy(features_train, target_train, features_valid, target_valid):\n",
    "#    model_tree = DecisionTreeClassifier(random_state=ran_st)\n",
    "#    tree_score = model_tree.fit(features_train, target_train).score(features_valid, target_valid)\n",
    "#    \n",
    "#    model_forest = RandomForestClassifier(max_depth=7, n_estimators=43, min_samples_leaf=3, random_state=ran_st)\n",
    "#    forest_score = model_forest.fit(features_train, target_train).score(features_valid, target_valid)\n",
    "#    \n",
    "#    model_logistic = LogisticRegression(solver = 'liblinear', random_state=ran_st)\n",
    "#   logistic_score = model_logistic.fit(features_train, target_train).score(features_valid, target_valid)\n",
    "#   \n",
    "#    print(\"Точность:\" \"дерево решений - \", tree_score, \"случайный лес - \", forest_score, \"логистческая регрессия - \", logistic_score)"
   ]
  },
  {
   "cell_type": "code",
   "execution_count": 34,
   "metadata": {},
   "outputs": [],
   "source": [
    "#all_models_accuracy(features_train, target_train, features_valid, target_valid)"
   ]
  },
  {
   "cell_type": "markdown",
   "metadata": {},
   "source": [
    "**Обучение моделей и поиск лучших параметров без учета баланса классов выборки**"
   ]
  },
  {
   "cell_type": "code",
   "execution_count": 35,
   "metadata": {},
   "outputs": [],
   "source": [
    "#Функция для расчета 'fpr,tpr,thresholds'\n",
    "def fpr_tpr_thresholds(model, features_valid, target_valid):\n",
    "    probabilities_valid = model.predict_proba(features_valid)\n",
    "    probabilities_one_valid = probabilities_valid[:, 1]\n",
    "    fpr,tpr,thresholds=roc_curve(target_valid, probabilities_one_valid)\n",
    "    return fpr, tpr, thresholds"
   ]
  },
  {
   "cell_type": "code",
   "execution_count": 36,
   "metadata": {},
   "outputs": [],
   "source": [
    "#Функция для расчета 'ROC-кривой'\n",
    "def roc_auc(model, features_valid, target_valid):\n",
    "    probabilities_valid = model.predict_proba(features_valid)\n",
    "    probabilities_one_valid = probabilities_valid[:, 1]\n",
    "    roc_auc = roc_auc_score(target_valid, probabilities_one_valid)\n",
    "    return roc_auc\n",
    "    #print(\"'ROC-кривая', roc_auc) "
   ]
  },
  {
   "cell_type": "code",
   "execution_count": 37,
   "metadata": {},
   "outputs": [],
   "source": [
    "#Функция для расчета полноты, точности и F1-меры\n",
    "def rec_prec_f1(target_valid, prediction):\n",
    "    print(\"Полнота\" , recall_score(target_valid, prediction))\n",
    "    print(\"Точность\", precision_score(target_valid, prediction))\n",
    "    print(\"F1-мера\", f1_score(target_valid, prediction))"
   ]
  },
  {
   "cell_type": "markdown",
   "metadata": {},
   "source": [
    "**Дерево решений без взвешивания классов**"
   ]
  },
  {
   "cell_type": "code",
   "execution_count": 38,
   "metadata": {},
   "outputs": [
    {
     "name": "stdout",
     "output_type": "stream",
     "text": [
      "max_depth: 8 F1: 0.5552147239263803\n",
      "ROC AUC: 0.7668159759918235\n"
     ]
    }
   ],
   "source": [
    "#Дерево решений (без взвешивания классов)\n",
    "f1_max = 0\n",
    "depth_max = 0\n",
    "for depth in range(3,15,1):\n",
    "    model_tree=DecisionTreeClassifier(max_depth=depth,random_state=ran_st).fit(features_train,target_train)\n",
    "    prediction_tree = model_tree.predict(features_valid)\n",
    "    f1 = f1_score(target_valid, prediction_tree)\n",
    "    if f1_max < f1:\n",
    "        f1_max =  f1\n",
    "        depth_max = depth\n",
    "\n",
    "best_model_tree_pure = DecisionTreeClassifier(max_depth=depth_max,random_state=ran_st).fit(features_train,target_train)\n",
    "\n",
    "f1_tree_pure = f1_max\n",
    "fpr_tree_pure, tpr_tree_pure, thresholds_tree_pure = fpr_tpr_thresholds(best_model_tree_pure, features_valid, target_valid)\n",
    "roc_auc_tree_pure = roc_auc(best_model_tree_pure, features_valid, target_valid)\n",
    "\n",
    "print('max_depth:',depth_max,'F1:',f1_tree_pure)\n",
    "print('ROC AUC:',roc_auc_tree_pure)"
   ]
  },
  {
   "cell_type": "markdown",
   "metadata": {},
   "source": [
    "<div class=\"alert alert-info\">\n",
    "<font size=\"4\">🍕<b> Комментарий ревьюера</b></font>\n",
    "    <br /> \n",
    "    <font size=\"3\", color = \"black\">\n",
    "<br />\n",
    "Было бы неплохо ещё создать глобальную переменную типа best_model и хранить в ней лучшую модель, чтобы потом, на тестировании, не обучать модель заново\n",
    "        \n",
    "        Сделал, также и гиперпараметры"
   ]
  },
  {
   "cell_type": "markdown",
   "metadata": {},
   "source": [
    "**Случайный лес без взвешивания классов**"
   ]
  },
  {
   "cell_type": "code",
   "execution_count": 39,
   "metadata": {},
   "outputs": [
    {
     "name": "stdout",
     "output_type": "stream",
     "text": [
      "estim 80 max_depth 11 F1: 0.564935064935065\n",
      "ROC AUC: 0.8555805817341393\n"
     ]
    }
   ],
   "source": [
    "#Случайный лес (без взвешивания классов)\n",
    "f1_max = 0\n",
    "n_estim_max = 0\n",
    "max_depth_max = 0\n",
    "for n_estim in range(40,100,1):\n",
    "    for max_depth in range(3,15,1):\n",
    "        model_forest=RandomForestClassifier(max_depth=max_depth,n_estimators=n_estim,random_state=ran_st).fit(features_train,target_train)\n",
    "        prediction_forest = model_forest.predict(features_valid)\n",
    "        f1 = f1_score(target_valid, prediction_forest)\n",
    "        if f1_max < f1:\n",
    "            f1_max =  f1\n",
    "            n_estim_max = n_estim\n",
    "            max_depth_max = max_depth\n",
    "\n",
    "best_model_forest_pure = RandomForestClassifier(\n",
    "    max_depth=max_depth_max,n_estimators=n_estim_max,random_state=ran_st).fit(features_train,target_train)\n",
    "\n",
    "fpr_forest_pure, tpr_forest_pure, thresholds_forest_pure = fpr_tpr_thresholds(best_model_forest_pure, features_valid, target_valid)\n",
    "f1_forest_pure = f1_max\n",
    "roc_auc_forest_pure = roc_auc(best_model_forest_pure, features_valid, target_valid)\n",
    "\n",
    "n_estim_final_pure = n_estim_max\n",
    "max_depth_final_pure = max_depth_max\n",
    "\n",
    "print('estim',n_estim_max, 'max_depth', max_depth_max, 'F1:',f1_forest_pure)   \n",
    "print('ROC AUC:',roc_auc_forest_pure)  "
   ]
  },
  {
   "cell_type": "markdown",
   "metadata": {},
   "source": [
    "**Логистическая регрессия без взвешивания классов**"
   ]
  },
  {
   "cell_type": "code",
   "execution_count": 40,
   "metadata": {},
   "outputs": [
    {
     "name": "stdout",
     "output_type": "stream",
     "text": [
      "F1: 0.22396856581532418\n",
      "ROC AUC: 0.7637489886651014\n"
     ]
    }
   ],
   "source": [
    "#Логистическая регрессии (без взвешивание классов)\n",
    "model_logistic=LogisticRegression(solver = 'liblinear', random_state=ran_st).fit(features_train,target_train)\n",
    "prediction_logistic = model_logistic.predict(features_valid)\n",
    "\n",
    "\n",
    "f1_log_pure = f1_score(target_valid, prediction_logistic)\n",
    "fpr_log_pure, tpr_log_pure, thresholds_log_pure = fpr_tpr_thresholds(model_logistic, features_valid, target_valid)\n",
    "roc_auc_log_pure = roc_auc(model_logistic, features_valid, target_valid)\n",
    "\n",
    "print('F1:',f1_log_pure)   \n",
    "print('ROC AUC:',roc_auc_log_pure)"
   ]
  },
  {
   "cell_type": "markdown",
   "metadata": {},
   "source": [
    "**Вывод:**\n",
    "Рассматривая заранее преподготовленные данные с дисбалансом с помощью разных моделей,  получили, что саммая лучшая модель оказалась Дерево решения. При значении max_depth=7,  F1 меру составила 0,586 на тестовой(валидной) выборке."
   ]
  },
  {
   "cell_type": "markdown",
   "metadata": {},
   "source": [
    "## Борьба с дисбалансом"
   ]
  },
  {
   "cell_type": "markdown",
   "metadata": {},
   "source": [
    "Три способа борьбы с дисбалансом:\n",
    " - Взвешивание классов\n",
    " - Увеличение выборки \n",
    " - Уменьшение выборки"
   ]
  },
  {
   "cell_type": "markdown",
   "metadata": {},
   "source": [
    "**Взвешивание классов (с помощью аргумента class_weight='balanced')**"
   ]
  },
  {
   "cell_type": "code",
   "execution_count": 41,
   "metadata": {},
   "outputs": [
    {
     "name": "stdout",
     "output_type": "stream",
     "text": [
      "max_depth: 4 F1: 0.5636172450052577\n",
      "ROC AUC: 0.8195699064882798\n"
     ]
    }
   ],
   "source": [
    "#Дерево решений (взвешивание классов)\n",
    "#%%time\n",
    "f1_max = 0\n",
    "depth_max = 0\n",
    "for depth in range(3,15,1):\n",
    "    model_tree=DecisionTreeClassifier(max_depth=depth,random_state=ran_st, class_weight='balanced')\n",
    "    model_tree.fit(features_train,target_train)\n",
    "    prediction_tree = model_tree.predict(features_valid)\n",
    "    f1 = f1_score(target_valid, prediction_tree)\n",
    "    if f1_max < f1:\n",
    "        f1_max =  f1\n",
    "        depth_max = depth\n",
    "    \n",
    "\n",
    "best_model_tree_balance = DecisionTreeClassifier(\n",
    "    max_depth=depth_max,random_state=ran_st, class_weight='balanced').fit(features_train,target_train)\n",
    "\n",
    "f1_tree_balance = f1_max\n",
    "fpr_tree_balance, tpr_tree_balance, thresholds_tree_balance = fpr_tpr_thresholds(best_model_tree_balance, features_valid, target_valid)\n",
    "roc_auc_tree_balance = roc_auc(best_model_tree_balance, features_valid, target_valid)\n",
    "\n",
    "print('max_depth:',depth_max,'F1:',f1_tree_balance)\n",
    "print('ROC AUC:',roc_auc_tree_balance)\n"
   ]
  },
  {
   "cell_type": "code",
   "execution_count": 42,
   "metadata": {},
   "outputs": [
    {
     "name": "stdout",
     "output_type": "stream",
     "text": [
      "estim 65 max_depth 7 F1: 0.6076502732240437\n",
      "ROC AUC: 0.8564405144336762\n"
     ]
    }
   ],
   "source": [
    "#Случайный лес (взвешивание классов)\n",
    "#%%time\n",
    "f1_max = 0\n",
    "n_estim_max = 0\n",
    "max_depth_max = 0\n",
    "for n_estim in range(40,100,1):\n",
    "    for max_depth in range(3,15,1):\n",
    "        model_forest=RandomForestClassifier(\n",
    "            max_depth=max_depth,n_estimators=n_estim,random_state=ran_st, class_weight='balanced').fit(features_train,target_train)\n",
    "        prediction_forest = model_forest.predict(features_valid)\n",
    "        f1 = f1_score(target_valid, prediction_forest)\n",
    "        if f1_max < f1:\n",
    "            f1_max =  f1\n",
    "            n_estim_max = n_estim\n",
    "            max_depth_max = max_depth \n",
    "\n",
    "best_model_forest_balance = RandomForestClassifier(\n",
    "    max_depth=max_depth_max,n_estimators=n_estim_max,random_state=ran_st, class_weight='balanced').fit(features_train,target_train)\n",
    "\n",
    "fpr_forest_balance, tpr_forest_balance, thresholds_forest_balance = fpr_tpr_thresholds(best_model_forest_balance, features_valid, target_valid)\n",
    "f1_forest_balance = f1_max\n",
    "roc_auc_forest_balance = roc_auc(best_model_forest_balance, features_valid, target_valid)\n",
    "\n",
    "n_estim_final_bal = n_estim_max\n",
    "max_depth_final_bal = max_depth_max\n",
    "\n",
    "print('estim',n_estim_max, 'max_depth', max_depth_max, 'F1:',f1_forest_balance)   \n",
    "print('ROC AUC:',roc_auc_forest_balance)  "
   ]
  },
  {
   "cell_type": "code",
   "execution_count": 43,
   "metadata": {},
   "outputs": [
    {
     "name": "stdout",
     "output_type": "stream",
     "text": [
      "F1: 0.4847428073234525\n",
      "ROC AUC: 0.7704424759067839\n"
     ]
    }
   ],
   "source": [
    "#Логистическая регрессии (взвешивание классов)\n",
    "model_logistic=LogisticRegression(solver = 'liblinear', random_state=ran_st, class_weight='balanced').fit(features_train,target_train)\n",
    "prediction_logistic = model_logistic.predict(features_valid)\n",
    "\n",
    "f1_log_balance = f1_score(target_valid, prediction_logistic)\n",
    "fpr_log_balance, tpr_log_balance, thresholds_log_balance = fpr_tpr_thresholds(model_logistic, features_valid, target_valid)\n",
    "roc_auc_log_balance = roc_auc(model_logistic, features_valid, target_valid)\n",
    "\n",
    "print('F1:',f1_log_balance)   \n",
    "print('ROC AUC:',roc_auc_log_balance)"
   ]
  },
  {
   "cell_type": "code",
   "execution_count": 44,
   "metadata": {},
   "outputs": [
    {
     "data": {
      "text/plain": [
       "<Figure size 432x288 with 0 Axes>"
      ]
     },
     "metadata": {},
     "output_type": "display_data"
    },
    {
     "data": {
      "image/png": "[encoded data removed]",
      "text/plain": [
       "<Figure size 720x504 with 1 Axes>"
      ]
     },
     "metadata": {
      "needs_background": "light"
     },
     "output_type": "display_data"
    }
   ],
   "source": [
    "plt.figure()\n",
    "\n",
    "plt.figure(figsize=(10,7))\n",
    "plt.plot([0, 1], [0, 1], linestyle='--')\n",
    "plt.xlim([0.0, 1.0])\n",
    "plt.ylim([0.0, 1.0])\n",
    "plt.plot(fpr_tree_balance,tpr_tree_balance)\n",
    "plt.plot(fpr_forest_balance,tpr_forest_balance)\n",
    "plt.plot(fpr_log_balance,tpr_log_balance)\n",
    "plt.xlabel('False Positive Rate')\n",
    "plt.ylabel('True Positive Rate')\n",
    "plt.title('ROC-кривые для моделей после взвешивания классов')\n",
    "plt.legend(('Случайная модель','Случайный лес','Логистическая регрессия','Дерево решения'), loc= 'upper left') \n",
    "plt.show()"
   ]
  },
  {
   "cell_type": "markdown",
   "metadata": {},
   "source": [
    "**С помощью функции Upsampling (увеличим количество клиентов, ушедших из Банка Exited = 1)**"
   ]
  },
  {
   "cell_type": "code",
   "execution_count": 45,
   "metadata": {},
   "outputs": [],
   "source": [
    "def upsample(features, target, repeat):\n",
    "    features_zeros = features[target == 0]\n",
    "    features_ones = features[target == 1]\n",
    "    target_zeros = target[target == 0]\n",
    "    target_ones = target[target == 1]\n",
    "\n",
    "    features_upsampled = pd.concat([features_zeros] + [features_ones] * repeat)\n",
    "    target_upsampled = pd.concat([target_zeros] + [target_ones] * repeat)\n",
    "    features_upsampled, target_upsampled = shuffle(features_upsampled, target_upsampled, random_state=ran_st)\n",
    "    \n",
    "    return features_upsampled, target_upsampled"
   ]
  },
  {
   "cell_type": "code",
   "execution_count": 46,
   "metadata": {},
   "outputs": [],
   "source": [
    "features_upsampled, target_upsampled = upsample(features_train, target_train, 4)"
   ]
  },
  {
   "cell_type": "code",
   "execution_count": 47,
   "metadata": {},
   "outputs": [
    {
     "name": "stdout",
     "output_type": "stream",
     "text": [
      "max_depth: 4 F1: 0.5636172450052577\n",
      "ROC AUC: 0.8195699064882798\n"
     ]
    }
   ],
   "source": [
    "#Дерево решений (Upsampling)\n",
    "#%%time\n",
    "f1_max = 0\n",
    "depth_max = 0\n",
    "for depth in range(3,15,1):\n",
    "    model_tree=DecisionTreeClassifier(max_depth=depth,random_state=ran_st)\n",
    "    model_tree.fit(features_upsampled, target_upsampled)\n",
    "    prediction_tree = model_tree.predict(features_valid)\n",
    "    f1 = f1_score(target_valid, prediction_tree)\n",
    "    if f1_max < f1:\n",
    "        f1_max =  f1\n",
    "        depth_max = depth\n",
    "    \n",
    "\n",
    "best_model_tree_up = DecisionTreeClassifier(\n",
    "    max_depth=depth_max,random_state=ran_st).fit(features_upsampled, target_upsampled)\n",
    "\n",
    "f1_tree_up = f1_max\n",
    "fpr_tree_up, tpr_tree_up, thresholds_tree_up = fpr_tpr_thresholds(best_model_tree_up, features_valid, target_valid)\n",
    "roc_auc_tree_up = roc_auc(best_model_tree_up, features_valid, target_valid)\n",
    "\n",
    "print('max_depth:',depth_max,'F1:',f1_tree_up)\n",
    "print('ROC AUC:',roc_auc_tree_up)"
   ]
  },
  {
   "cell_type": "code",
   "execution_count": 48,
   "metadata": {},
   "outputs": [
    {
     "name": "stdout",
     "output_type": "stream",
     "text": [
      "estim 74 max_depth 9 F1: 0.6114101184068892\n",
      "ROC AUC: 0.851071101015865\n"
     ]
    }
   ],
   "source": [
    "#Случайный лес (Upsampling)\n",
    "#%%time\n",
    "f1_max = 0\n",
    "n_estim_max = 0\n",
    "max_depth_max = 0\n",
    "for n_estim in range(40,100,1):\n",
    "    for max_depth in range(3,15,1):\n",
    "        model_forest=RandomForestClassifier(max_depth=max_depth,n_estimators=n_estim,random_state=ran_st)\n",
    "        model_forest.fit(features_upsampled, target_upsampled)\n",
    "        prediction_forest = model_forest.predict(features_valid)\n",
    "        f1 = f1_score(target_valid, prediction_forest)\n",
    "        if f1_max < f1:\n",
    "            f1_max =  f1\n",
    "            n_estim_max = n_estim\n",
    "            max_depth_max = max_depth \n",
    "            \n",
    "            \n",
    "best_model_forest_up = RandomForestClassifier(\n",
    "    max_depth=max_depth_max,n_estimators=n_estim_max,random_state=ran_st).fit(features_upsampled, target_upsampled) \n",
    "\n",
    "fpr_forest_up, tpr_forest_up, thresholds_forest_up = fpr_tpr_thresholds(best_model_forest_up, features_valid, target_valid)\n",
    "f1_forest_up = f1_max\n",
    "roc_auc_forest_up = roc_auc(best_model_forest_up, features_valid, target_valid)\n",
    "\n",
    "n_estim_final_up = n_estim_max\n",
    "max_depth_final_up = max_depth_max\n",
    "\n",
    "print('estim',n_estim_max, 'max_depth', max_depth_max, 'F1:',f1_forest_up)   \n",
    "print('ROC AUC:',roc_auc_forest_up)  "
   ]
  },
  {
   "cell_type": "code",
   "execution_count": 49,
   "metadata": {},
   "outputs": [
    {
     "name": "stdout",
     "output_type": "stream",
     "text": [
      "F1: 0.48068669527896996\n",
      "ROC AUC: 0.7704218120896046\n"
     ]
    }
   ],
   "source": [
    "#Логистическая регрессия (Upsampling)\n",
    "model_logistic = LogisticRegression(random_state=ran_st,solver='liblinear')\n",
    "model_logistic.fit(features_upsampled, target_upsampled)\n",
    "prediction_logistic = model_logistic.predict(features_valid)\n",
    "\n",
    "f1_log_up = f1_score(target_valid, prediction_logistic)\n",
    "fpr_log_up, tpr_log_up, thresholds_log_up = fpr_tpr_thresholds(model_logistic, features_valid, target_valid)\n",
    "roc_auc_log_up = roc_auc(model_logistic, features_valid, target_valid)\n",
    "\n",
    "print('F1:',f1_log_up)   \n",
    "print('ROC AUC:',roc_auc_log_up)"
   ]
  },
  {
   "cell_type": "code",
   "execution_count": 50,
   "metadata": {},
   "outputs": [
    {
     "data": {
      "text/plain": [
       "<Figure size 432x288 with 0 Axes>"
      ]
     },
     "metadata": {},
     "output_type": "display_data"
    },
    {
     "data": {
      "image/png": "[encoded data removed]",
      "text/plain": [
       "<Figure size 720x504 with 1 Axes>"
      ]
     },
     "metadata": {
      "needs_background": "light"
     },
     "output_type": "display_data"
    }
   ],
   "source": [
    "plt.figure()\n",
    "\n",
    "plt.figure(figsize=(10,7))\n",
    "plt.plot([0, 1], [0, 1], linestyle='--')\n",
    "plt.xlim([0.0, 1.0])\n",
    "plt.ylim([0.0, 1.0])\n",
    "plt.plot(fpr_tree_up,tpr_tree_up)\n",
    "plt.plot(fpr_forest_up,tpr_forest_up)\n",
    "plt.plot(fpr_log_up,tpr_log_up)\n",
    "plt.xlabel('False Positive Rate')\n",
    "plt.ylabel('True Positive Rate')\n",
    "plt.title('ROC-кривые для моделей после Upsampling')\n",
    "plt.legend(('Случайная модель','Случайный лес','Логистическая регрессия','Дерево решения'), loc= 'upper left') \n",
    "plt.show()"
   ]
  },
  {
   "cell_type": "markdown",
   "metadata": {},
   "source": [
    "**С помощью функции Downsampling (уменьшим количество клиентов, не ушедших из Банка Exited = 0)**"
   ]
  },
  {
   "cell_type": "code",
   "execution_count": 51,
   "metadata": {},
   "outputs": [],
   "source": [
    "def downsample(features, target, fraction):\n",
    "    features_zeros = features[target == 0]\n",
    "    features_ones = features[target == 1]\n",
    "    target_zeros = target[target == 0]\n",
    "    target_ones = target[target == 1]\n",
    "\n",
    "    features_downsampled = pd.concat(\n",
    "        [features_zeros.sample(frac=fraction, random_state=ran_st)] + [features_ones])\n",
    "    target_downsampled = pd.concat(\n",
    "        [target_zeros.sample(frac=fraction, random_state=ran_st)] + [target_ones])\n",
    "    \n",
    "    features_downsampled, target_downsampled = shuffle(\n",
    "        features_downsampled, target_downsampled, random_state=ran_st)\n",
    "    \n",
    "    return features_downsampled, target_downsampled\n"
   ]
  },
  {
   "cell_type": "code",
   "execution_count": 52,
   "metadata": {},
   "outputs": [],
   "source": [
    "features_downsampled, target_downsampled = downsample(features_train, target_train, 0.25)"
   ]
  },
  {
   "cell_type": "code",
   "execution_count": 53,
   "metadata": {},
   "outputs": [
    {
     "name": "stdout",
     "output_type": "stream",
     "text": [
      "max_depth: 4 F1: 0.5623678646934461\n",
      "ROC AUC: 0.819049337247802\n"
     ]
    }
   ],
   "source": [
    "#Дерево решений (Downsampling)\n",
    "#%%time\n",
    "f1_max = 0\n",
    "depth_max = 0\n",
    "for depth in range(3,15,1):\n",
    "    model_tree=DecisionTreeClassifier(max_depth=depth,random_state=ran_st)\n",
    "    model_tree.fit(features_downsampled, target_downsampled)\n",
    "    prediction_tree = model_tree.predict(features_valid)\n",
    "    f1 = f1_score(target_valid, prediction_tree)\n",
    "    if f1_max < f1:\n",
    "        f1_max =  f1\n",
    "        depth_max = depth   \n",
    "\n",
    "best_model_tree_down = DecisionTreeClassifier(max_depth=depth_max,random_state=ran_st).fit(features_downsampled, target_downsampled)\n",
    "\n",
    "f1_tree_down = f1_max\n",
    "fpr_tree_down, tpr_tree_down, thresholds_tree_down = fpr_tpr_thresholds(best_model_tree_down, features_valid, target_valid)\n",
    "roc_auc_tree_down = roc_auc(best_model_tree_down, features_valid, target_valid)\n",
    "\n",
    "print('max_depth:',depth_max,'F1:',f1_tree_down)\n",
    "print('ROC AUC:',roc_auc_tree_down)"
   ]
  },
  {
   "cell_type": "code",
   "execution_count": 54,
   "metadata": {},
   "outputs": [
    {
     "name": "stdout",
     "output_type": "stream",
     "text": [
      "estim 72 max_depth 5 F1: 0.5931034482758621\n",
      "ROC AUC: 0.8494402489831018\n"
     ]
    }
   ],
   "source": [
    "#Случайный лес (Downsampling)\n",
    "#%%time\n",
    "f1_max = 0\n",
    "n_estim_max = 0\n",
    "max_depth_max = 0\n",
    "for n_estim in range(40,100,1):\n",
    "    for max_depth in range(3,15,1):\n",
    "        model_forest=RandomForestClassifier(max_depth=max_depth,n_estimators=n_estim,random_state=ran_st).fit(features_downsampled, target_downsampled)\n",
    "        prediction_forest = model_forest.predict(features_valid)\n",
    "        f1 = f1_score(target_valid, prediction_forest)\n",
    "        if f1_max < f1:\n",
    "            f1_max =  f1\n",
    "            n_estim_max = n_estim\n",
    "            max_depth_max = max_depth   \n",
    "\n",
    "best_model_forest_down = RandomForestClassifier(\n",
    "    max_depth=max_depth_max,n_estimators=n_estim_max,random_state=ran_st).fit(features_downsampled, target_downsampled)\n",
    "\n",
    "fpr_forest_down, tpr_forest_down, thresholds_forest_down = fpr_tpr_thresholds(best_model_forest_down, features_valid, target_valid)\n",
    "f1_forest_down = f1_max\n",
    "roc_auc_forest_down = roc_auc(best_model_forest_down, features_valid, target_valid)\n",
    "\n",
    "n_estim_final_down = n_estim_max\n",
    "max_depth_final_down = max_depth_max\n",
    "\n",
    "print('estim',n_estim_max, 'max_depth', max_depth_max, 'F1:',f1_forest_down)   \n",
    "print('ROC AUC:',roc_auc_forest_down)  "
   ]
  },
  {
   "cell_type": "code",
   "execution_count": 55,
   "metadata": {},
   "outputs": [
    {
     "name": "stdout",
     "output_type": "stream",
     "text": [
      "F1: 0.48578811369509045\n",
      "ROC AUC: 0.7686574400073753\n"
     ]
    }
   ],
   "source": [
    "#Логистическая регрессия (Downsampling)\n",
    "model_logistic = LogisticRegression(random_state=ran_st,solver='liblinear').fit(features_downsampled, target_downsampled)\n",
    "prediction_logistic = model_logistic.predict(features_valid)\n",
    "\n",
    "f1_log_down = f1_score(target_valid, prediction_logistic)\n",
    "fpr_log_down, tpr_log_down, thresholds_log_down = fpr_tpr_thresholds(model_logistic, features_valid, target_valid)\n",
    "roc_auc_log_down = roc_auc(model_logistic, features_valid, target_valid)\n",
    "\n",
    "print('F1:',f1_log_down)   \n",
    "print('ROC AUC:',roc_auc_log_down)"
   ]
  },
  {
   "cell_type": "code",
   "execution_count": 56,
   "metadata": {},
   "outputs": [
    {
     "data": {
      "text/plain": [
       "<Figure size 432x288 with 0 Axes>"
      ]
     },
     "metadata": {},
     "output_type": "display_data"
    },
    {
     "data": {
      "image/png": "[encoded data removed]",
      "text/plain": [
       "<Figure size 720x504 with 1 Axes>"
      ]
     },
     "metadata": {
      "needs_background": "light"
     },
     "output_type": "display_data"
    }
   ],
   "source": [
    "plt.figure()\n",
    "\n",
    "plt.figure(figsize=(10,7))\n",
    "plt.plot([0, 1], [0, 1], linestyle='--')\n",
    "plt.xlim([0.0, 1.0])\n",
    "plt.ylim([0.0, 1.0])\n",
    "plt.plot(fpr_tree_down,tpr_tree_down)\n",
    "plt.plot(fpr_forest_down,tpr_forest_down)\n",
    "plt.plot(fpr_log_down,tpr_log_down)\n",
    "plt.xlabel('False Positive Rate')\n",
    "plt.ylabel('True Positive Rate')\n",
    "plt.title('ROC-кривые для моделей после Downsampling')\n",
    "plt.legend(('Случайная модель','Случайный лес','Логистическая регрессия','Дерево решения'), loc= 'upper left') \n",
    "plt.show()"
   ]
  },
  {
   "cell_type": "markdown",
   "metadata": {},
   "source": [
    "Вывод: Самая лучшая модель оказалась модель Случайный лес со взвешенными классами."
   ]
  },
  {
   "cell_type": "markdown",
   "metadata": {},
   "source": [
    "<div class=\"alert alert-success\">\n",
    "<font size=\"4\"><b>✔️ Комментарий ревьюера</b></font>\n",
    "    <br /> \n",
    "    <font size=\"3\", color = \"black\">\n",
    "<br />\n",
    "В целом по борьбе с дисбалансом всё весьма неплохо, одобряю"
   ]
  },
  {
   "cell_type": "markdown",
   "metadata": {},
   "source": [
    "## Тестирование модели"
   ]
  },
  {
   "cell_type": "code",
   "execution_count": 57,
   "metadata": {},
   "outputs": [
    {
     "name": "stdout",
     "output_type": "stream",
     "text": [
      "Полнота 0.7193396226415094\n",
      "Точность 0.5669144981412639\n",
      "F1-мера 0.6340956340956341\n"
     ]
    }
   ],
   "source": [
    "#Обучим финальную модель\n",
    "#Случайный лес (Upsampling)\n",
    "model_final=RandomForestClassifier(max_depth=max_depth_final_up,n_estimators=n_estim_final_up,random_state=ran_st)\n",
    "model_final.fit(features_upsampled, target_upsampled)\n",
    "model_final_prediction = model_final.predict(features_test)\n",
    "rec_prec_f1(target_test, model_final_prediction)\n",
    "model_final_valid = model_final.predict_proba(features_test)[:, 1]"
   ]
  },
  {
   "cell_type": "markdown",
   "metadata": {},
   "source": [
    "<div class=\"alert alert-success\">\n",
    "<font size=\"4\"><b>✔️ Комментарий ревьюера V2</b></font>\n",
    "    <br /> \n",
    "    <font size=\"3\", color = \"black\">\n",
    "<br />    \n",
    "Хорошая метрика!\n",
    "<br />"
   ]
  },
  {
   "cell_type": "code",
   "execution_count": 65,
   "metadata": {},
   "outputs": [],
   "source": [
    "#Обучим финальную модель\n",
    "#Случайный лес (Balanced)\n",
    "#model_final=RandomForestClassifier(max_depth=max_depth_final_bal,n_estimators=n_estim_final_bal,random_state=ran_st, class_weight='balanced')\n",
    "#model_final.fit(features_train,target_train)\n",
    "#model_final_prediction = model_final.predict(features_test)\n",
    "#rec_prec_f1(target_test, model_final_prediction)\n",
    "#model_final_valid = model_final.predict_proba(features_test)[:, 1]"
   ]
  },
  {
   "cell_type": "code",
   "execution_count": 66,
   "metadata": {},
   "outputs": [
    {
     "data": {
      "text/plain": [
       "0    2000\n",
       "dtype: int64"
      ]
     },
     "execution_count": 66,
     "metadata": {},
     "output_type": "execute_result"
    }
   ],
   "source": [
    "#Создаем константную модель\n",
    "target_predict_constant = pd.Series([0]*len(target_test))\n",
    "target_predict_constant.value_counts()"
   ]
  },
  {
   "cell_type": "code",
   "execution_count": 67,
   "metadata": {},
   "outputs": [
    {
     "name": "stdout",
     "output_type": "stream",
     "text": [
      "accuracy_score константой модели: 0.8045\n",
      "accuracy_score финальной модели: 0.672\n",
      "AUC-ROC константой модели: 0.5\n",
      "AUC-ROC финальной модели: 0.8650317857484915\n"
     ]
    }
   ],
   "source": [
    "#Сравним показатель точности (accuracy_score) константной модели и финальной\n",
    "print('accuracy_score константой модели:', accuracy_score(target_valid, target_predict_constant))\n",
    "print('accuracy_score финальной модели:', accuracy_score(target_test, model_final_prediction))\n",
    "#Дополнительно сравним AUC-ROC — единственный параметр подающийся сравнению, потому что константная подель содержит только негативные ответы\n",
    "print('AUC-ROC константой модели:', roc_auc_score(target_valid, target_predict_constant))\n",
    "print('AUC-ROC финальной модели:', roc_auc_score(target_test, model_final_valid))"
   ]
  },
  {
   "cell_type": "code",
   "execution_count": 68,
   "metadata": {},
   "outputs": [],
   "source": [
    "roc_auc_final = roc_auc(model_final, features_valid, target_valid)\n",
    "fpr_final,tpr_final,thresholds_final = fpr_tpr_thresholds(model_final, features_valid, target_valid)"
   ]
  },
  {
   "cell_type": "code",
   "execution_count": 69,
   "metadata": {},
   "outputs": [
    {
     "data": {
      "text/plain": [
       "<Figure size 432x288 with 0 Axes>"
      ]
     },
     "metadata": {},
     "output_type": "display_data"
    },
    {
     "data": {
      "image/png": "[encoded data removed]",
      "text/plain": [
       "<Figure size 720x504 with 1 Axes>"
      ]
     },
     "metadata": {
      "needs_background": "light"
     },
     "output_type": "display_data"
    }
   ],
   "source": [
    "plt.figure()\n",
    "\n",
    "plt.figure(figsize=(10,7))\n",
    "plt.plot([0, 1], [0, 1], linestyle='--')\n",
    "plt.xlim([0.0, 1.0])\n",
    "plt.ylim([0.0, 1.0])\n",
    "plt.plot(fpr_final, tpr_final)\n",
    "plt.xlabel('False Positive Rate')\n",
    "plt.ylabel('True Positive Rate')\n",
    "plt.title('ROC-кривая')\n",
    "plt.legend(('Случайная модель','Лучшая модель'), loc= 'upper left') \n",
    "plt.show()"
   ]
  },
  {
   "cell_type": "code",
   "execution_count": 70,
   "metadata": {},
   "outputs": [],
   "source": [
    "tree_array = [f1_tree_pure, f1_tree_balance, f1_tree_up, f1_tree_down]\n",
    "forest_array = [f1_forest_pure, f1_forest_balance, f1_forest_up, f1_forest_down]\n",
    "log_array = [f1_log_pure, f1_log_balance, f1_log_up, f1_log_down]\n",
    "rezult={'Дерево Решения':np.array(tree_array),'Случайный лес':np.array(forest_array),'Логистическая регрессия':np.array(log_array)}\n",
    "rezult_df=pd.DataFrame(rezult,index=['F1 до балансировки','F1 после балансировки', 'F1 после Upsampling', 'F1 после Downsampling'])\n"
   ]
  },
  {
   "cell_type": "markdown",
   "metadata": {},
   "source": [
    "**Общий вывод:**"
   ]
  },
  {
   "cell_type": "code",
   "execution_count": 71,
   "metadata": {},
   "outputs": [
    {
     "data": {
      "text/html": [
       "<div>\n",
       "<style scoped>\n",
       "    .dataframe tbody tr th:only-of-type {\n",
       "        vertical-align: middle;\n",
       "    }\n",
       "\n",
       "    .dataframe tbody tr th {\n",
       "        vertical-align: top;\n",
       "    }\n",
       "\n",
       "    .dataframe thead th {\n",
       "        text-align: right;\n",
       "    }\n",
       "</style>\n",
       "<table border=\"1\" class=\"dataframe\">\n",
       "  <thead>\n",
       "    <tr style=\"text-align: right;\">\n",
       "      <th></th>\n",
       "      <th>Дерево Решения</th>\n",
       "      <th>Случайный лес</th>\n",
       "      <th>Логистическая регрессия</th>\n",
       "    </tr>\n",
       "  </thead>\n",
       "  <tbody>\n",
       "    <tr>\n",
       "      <th>F1 до балансировки</th>\n",
       "      <td>0.555215</td>\n",
       "      <td>0.564935</td>\n",
       "      <td>0.223969</td>\n",
       "    </tr>\n",
       "    <tr>\n",
       "      <th>F1 после балансировки</th>\n",
       "      <td>0.563617</td>\n",
       "      <td>0.607650</td>\n",
       "      <td>0.484743</td>\n",
       "    </tr>\n",
       "    <tr>\n",
       "      <th>F1 после Upsampling</th>\n",
       "      <td>0.563617</td>\n",
       "      <td>0.611410</td>\n",
       "      <td>0.480687</td>\n",
       "    </tr>\n",
       "    <tr>\n",
       "      <th>F1 после Downsampling</th>\n",
       "      <td>0.562368</td>\n",
       "      <td>0.593103</td>\n",
       "      <td>0.485788</td>\n",
       "    </tr>\n",
       "  </tbody>\n",
       "</table>\n",
       "</div>"
      ],
      "text/plain": [
       "                       Дерево Решения  Случайный лес  Логистическая регрессия\n",
       "F1 до балансировки           0.555215       0.564935                 0.223969\n",
       "F1 после балансировки        0.563617       0.607650                 0.484743\n",
       "F1 после Upsampling          0.563617       0.611410                 0.480687\n",
       "F1 после Downsampling        0.562368       0.593103                 0.485788"
      ]
     },
     "execution_count": 71,
     "metadata": {},
     "output_type": "execute_result"
    }
   ],
   "source": [
    "rezult_df"
   ]
  },
  {
   "cell_type": "markdown",
   "metadata": {},
   "source": [
    "В первоначальные данных наблюдался значительный дисбаланс, из-за чего обученная на этих данных модель не проходила проверку на адекватность. Все модели не первоначальных данных характеризовались высокой степенью ошибок и низким качеством F1.\n",
    "  \n",
    "Для Разобрали несколько вариантов борьбы с дисбалансом upsampling и downsampling.\n",
    "\n",
    "При замене пропущенных значений Tenure на \"0\", самая лучшая модель оказалась модель \"Случайный лес\" со взвешенными классами.\n",
    "\n",
    "                        Дерево Решения\tСлучайный лес\tЛогистическая регрессия\n",
    "     F1 до балансировки\t    0.554140\t0.583468\t0.227006\n",
    "     F1 после балансировки\t0.563617\t0.615730\t0.479863\n",
    "     F1 после Upsampling\t0.563617\t0.611289\t0.476351\n",
    "     F1 после Downsampling\t0.564211\t0.599609\t0.483404\n",
    "\n",
    "\n",
    "\n",
    " - Полнота 0.7122641509433962\n",
    " - Точность 0.568738229755179\n",
    " - F1-мера 0.6324607329842932\n",
    " \n",
    " \n",
    " Исследованs метрики *AUC-ROC* и *accuracy*\n",
    " - accuracy_score константой модели: 0.8045\n",
    " - accuracy_score финальной модели: 0.8245\n",
    " - AUC-ROC константой модели: 0.5\n",
    " - AUC-ROC финальной модели: 0.8647923450818888\n",
    "\n",
    "\n",
    "При замене пропущенных значений Tenure на \"медиану\", самая лучшая модель оказалась модель \"Случайный лес\" Upsampling.\n",
    "\n",
    " - Полнота 0.7193396226415094\n",
    " - Точность 0.5669144981412639\n",
    " - F1-мера 0.6340956340956341\n",
    "\n",
    " Исследованs метрики *AUC-ROC* и *accuracy*\n",
    " - accuracy_score константой модели: 0.8045\n",
    " - accuracy_score финальной модели: 0.824\n",
    " - AUC-ROC константой модели: 0.5\n",
    " - AUC-ROC финальной модели: 0.8695183052389618\n",
    " \n",
    "\n",
    " \n",
    "В дополнение: Уходят, в основном те, кто пользуется 3-4 продуктами банка. Вероятно, им нужны дополнительные услуги которые Банк не может предложить. Также возможно, что качество предлагаемых услуг не соответствует рыночным характеристикам или сервису. "
   ]
  },
  {
   "cell_type": "markdown",
   "metadata": {},
   "source": [
    "## Чек-лист готовности проекта"
   ]
  },
  {
   "cell_type": "markdown",
   "metadata": {},
   "source": [
    "Поставьте 'x' в выполненных пунктах. Далее нажмите Shift+Enter."
   ]
  },
  {
   "cell_type": "markdown",
   "metadata": {},
   "source": [
    "- [x]  Jupyter Notebook открыт\n",
    "- [x]  Весь код выполняется без ошибок\n",
    "- [x]  Ячейки с кодом расположены в порядке исполнения\n",
    "- [x]  Выполнен шаг 1: данные подготовлены\n",
    "- [x]  Выполнен шаг 2: задача исследована\n",
    "    - [x]  Исследован баланс классов\n",
    "    - [x]  Изучены модели без учёта дисбаланса\n",
    "    - [x]  Написаны выводы по результатам исследования\n",
    "- [x]  Выполнен шаг 3: учтён дисбаланс\n",
    "    - [x]  Применено несколько способов борьбы с дисбалансом\n",
    "    - [x]  Написаны выводы по результатам исследования\n",
    "- [x]  Выполнен шаг 4: проведено тестирование\n",
    "- [x]  Удалось достичь *F1*-меры не менее 0.59\n",
    "- [x]  Исследована метрика *AUC-ROC*"
   ]
  },
  {
   "cell_type": "code",
   "execution_count": null,
   "metadata": {},
   "outputs": [],
   "source": []
  }
 ],
 "metadata": {
  "ExecuteTimeLog": [
   {
    "duration": 1543,
    "start_time": "2023-02-15T18:59:01.658Z"
   },
   {
    "duration": 358,
    "start_time": "2023-02-15T18:59:03.204Z"
   },
   {
    "duration": 15,
    "start_time": "2023-02-15T18:59:03.564Z"
   },
   {
    "duration": 16,
    "start_time": "2023-02-15T18:59:03.580Z"
   },
   {
    "duration": 9,
    "start_time": "2023-02-15T18:59:03.598Z"
   },
   {
    "duration": 6,
    "start_time": "2023-02-15T18:59:03.608Z"
   },
   {
    "duration": 7,
    "start_time": "2023-02-15T18:59:03.616Z"
   },
   {
    "duration": 38,
    "start_time": "2023-02-15T18:59:03.624Z"
   },
   {
    "duration": 12,
    "start_time": "2023-02-15T18:59:03.663Z"
   },
   {
    "duration": 120,
    "start_time": "2023-02-15T18:59:03.676Z"
   },
   {
    "duration": 0,
    "start_time": "2023-02-15T18:59:03.798Z"
   },
   {
    "duration": 0,
    "start_time": "2023-02-15T18:59:03.803Z"
   },
   {
    "duration": 0,
    "start_time": "2023-02-15T18:59:03.805Z"
   },
   {
    "duration": 0,
    "start_time": "2023-02-15T18:59:03.806Z"
   },
   {
    "duration": 0,
    "start_time": "2023-02-15T18:59:03.807Z"
   },
   {
    "duration": 0,
    "start_time": "2023-02-15T18:59:03.808Z"
   },
   {
    "duration": 0,
    "start_time": "2023-02-15T18:59:03.810Z"
   },
   {
    "duration": 0,
    "start_time": "2023-02-15T18:59:03.811Z"
   },
   {
    "duration": 0,
    "start_time": "2023-02-15T18:59:03.812Z"
   },
   {
    "duration": 0,
    "start_time": "2023-02-15T18:59:03.813Z"
   },
   {
    "duration": 0,
    "start_time": "2023-02-15T18:59:03.814Z"
   },
   {
    "duration": 0,
    "start_time": "2023-02-15T18:59:03.816Z"
   },
   {
    "duration": 0,
    "start_time": "2023-02-15T18:59:03.817Z"
   },
   {
    "duration": 13,
    "start_time": "2023-02-15T18:59:51.816Z"
   },
   {
    "duration": 4,
    "start_time": "2023-02-15T19:00:07.221Z"
   },
   {
    "duration": 3,
    "start_time": "2023-02-15T19:00:26.260Z"
   },
   {
    "duration": 48,
    "start_time": "2023-02-15T19:00:26.265Z"
   },
   {
    "duration": 13,
    "start_time": "2023-02-15T19:00:26.314Z"
   },
   {
    "duration": 14,
    "start_time": "2023-02-15T19:00:26.329Z"
   },
   {
    "duration": 11,
    "start_time": "2023-02-15T19:00:26.346Z"
   },
   {
    "duration": 8,
    "start_time": "2023-02-15T19:00:26.359Z"
   },
   {
    "duration": 37,
    "start_time": "2023-02-15T19:00:26.368Z"
   },
   {
    "duration": 40,
    "start_time": "2023-02-15T19:00:26.406Z"
   },
   {
    "duration": 11,
    "start_time": "2023-02-15T19:00:26.448Z"
   },
   {
    "duration": 4,
    "start_time": "2023-02-15T19:00:26.461Z"
   },
   {
    "duration": 39,
    "start_time": "2023-02-15T19:00:26.466Z"
   },
   {
    "duration": 4,
    "start_time": "2023-02-15T19:00:26.507Z"
   },
   {
    "duration": 167,
    "start_time": "2023-02-15T19:00:26.513Z"
   },
   {
    "duration": 0,
    "start_time": "2023-02-15T19:00:26.683Z"
   },
   {
    "duration": 0,
    "start_time": "2023-02-15T19:00:26.685Z"
   },
   {
    "duration": 0,
    "start_time": "2023-02-15T19:00:26.687Z"
   },
   {
    "duration": 0,
    "start_time": "2023-02-15T19:00:26.688Z"
   },
   {
    "duration": 1,
    "start_time": "2023-02-15T19:00:26.690Z"
   },
   {
    "duration": 0,
    "start_time": "2023-02-15T19:00:26.692Z"
   },
   {
    "duration": 0,
    "start_time": "2023-02-15T19:00:26.693Z"
   },
   {
    "duration": 0,
    "start_time": "2023-02-15T19:00:26.695Z"
   },
   {
    "duration": 0,
    "start_time": "2023-02-15T19:00:26.697Z"
   },
   {
    "duration": 0,
    "start_time": "2023-02-15T19:00:26.699Z"
   },
   {
    "duration": 71,
    "start_time": "2023-02-15T19:00:43.701Z"
   },
   {
    "duration": 94,
    "start_time": "2023-02-15T19:01:23.201Z"
   },
   {
    "duration": 105,
    "start_time": "2023-02-15T19:01:39.708Z"
   },
   {
    "duration": 6,
    "start_time": "2023-02-15T19:02:34.983Z"
   },
   {
    "duration": 6,
    "start_time": "2023-02-15T19:02:49.439Z"
   },
   {
    "duration": 4,
    "start_time": "2023-02-15T19:02:50.608Z"
   },
   {
    "duration": 8,
    "start_time": "2023-02-15T19:03:41.140Z"
   },
   {
    "duration": 5,
    "start_time": "2023-02-15T19:03:42.086Z"
   },
   {
    "duration": 4,
    "start_time": "2023-02-15T19:03:42.703Z"
   },
   {
    "duration": 3,
    "start_time": "2023-02-15T19:04:49.026Z"
   },
   {
    "duration": 8,
    "start_time": "2023-02-15T19:04:50.501Z"
   },
   {
    "duration": 24,
    "start_time": "2023-02-15T19:04:52.233Z"
   },
   {
    "duration": 9,
    "start_time": "2023-02-15T19:05:26.147Z"
   },
   {
    "duration": 29,
    "start_time": "2023-02-15T19:05:27.293Z"
   },
   {
    "duration": 70,
    "start_time": "2023-02-15T19:05:28.864Z"
   },
   {
    "duration": 20,
    "start_time": "2023-02-15T19:05:30.051Z"
   },
   {
    "duration": 20,
    "start_time": "2023-02-15T19:06:08.476Z"
   },
   {
    "duration": 4,
    "start_time": "2023-02-15T19:06:55.450Z"
   },
   {
    "duration": 251,
    "start_time": "2023-02-15T19:06:56.303Z"
   },
   {
    "duration": 7,
    "start_time": "2023-02-15T19:07:14.224Z"
   },
   {
    "duration": 70,
    "start_time": "2023-02-15T19:07:16.050Z"
   },
   {
    "duration": 140,
    "start_time": "2023-02-15T19:07:29.024Z"
   },
   {
    "duration": 120,
    "start_time": "2023-02-15T19:07:46.907Z"
   },
   {
    "duration": 1658,
    "start_time": "2023-02-16T07:35:02.865Z"
   },
   {
    "duration": 77,
    "start_time": "2023-02-16T07:35:04.525Z"
   },
   {
    "duration": 19,
    "start_time": "2023-02-16T07:35:04.603Z"
   },
   {
    "duration": 14,
    "start_time": "2023-02-16T07:35:04.624Z"
   },
   {
    "duration": 13,
    "start_time": "2023-02-16T07:35:04.640Z"
   },
   {
    "duration": 7,
    "start_time": "2023-02-16T07:35:04.654Z"
   },
   {
    "duration": 16,
    "start_time": "2023-02-16T07:35:04.662Z"
   },
   {
    "duration": 62,
    "start_time": "2023-02-16T07:35:04.680Z"
   },
   {
    "duration": 9352,
    "start_time": "2023-02-16T07:35:04.744Z"
   },
   {
    "duration": 0,
    "start_time": "2023-02-16T07:35:14.099Z"
   },
   {
    "duration": 0,
    "start_time": "2023-02-16T07:35:14.101Z"
   },
   {
    "duration": 0,
    "start_time": "2023-02-16T07:35:14.102Z"
   },
   {
    "duration": 0,
    "start_time": "2023-02-16T07:35:14.103Z"
   },
   {
    "duration": 0,
    "start_time": "2023-02-16T07:35:14.104Z"
   },
   {
    "duration": 0,
    "start_time": "2023-02-16T07:35:14.105Z"
   },
   {
    "duration": 0,
    "start_time": "2023-02-16T07:35:14.106Z"
   },
   {
    "duration": 0,
    "start_time": "2023-02-16T07:35:14.107Z"
   },
   {
    "duration": 0,
    "start_time": "2023-02-16T07:35:14.108Z"
   },
   {
    "duration": 0,
    "start_time": "2023-02-16T07:35:14.109Z"
   },
   {
    "duration": 0,
    "start_time": "2023-02-16T07:35:14.109Z"
   },
   {
    "duration": 0,
    "start_time": "2023-02-16T07:35:14.110Z"
   },
   {
    "duration": 0,
    "start_time": "2023-02-16T07:35:14.111Z"
   },
   {
    "duration": 0,
    "start_time": "2023-02-16T07:35:14.112Z"
   },
   {
    "duration": 0,
    "start_time": "2023-02-16T07:35:14.113Z"
   },
   {
    "duration": 0,
    "start_time": "2023-02-16T07:35:14.114Z"
   },
   {
    "duration": 0,
    "start_time": "2023-02-16T07:35:14.115Z"
   },
   {
    "duration": 0,
    "start_time": "2023-02-16T07:35:14.116Z"
   },
   {
    "duration": 0,
    "start_time": "2023-02-16T07:35:14.116Z"
   },
   {
    "duration": 0,
    "start_time": "2023-02-16T07:35:14.118Z"
   },
   {
    "duration": 0,
    "start_time": "2023-02-16T07:35:14.119Z"
   },
   {
    "duration": 0,
    "start_time": "2023-02-16T07:35:14.120Z"
   },
   {
    "duration": 0,
    "start_time": "2023-02-16T07:35:14.120Z"
   },
   {
    "duration": 0,
    "start_time": "2023-02-16T07:35:14.121Z"
   },
   {
    "duration": 0,
    "start_time": "2023-02-16T07:35:14.122Z"
   },
   {
    "duration": 0,
    "start_time": "2023-02-16T07:35:14.123Z"
   },
   {
    "duration": 8032,
    "start_time": "2023-02-16T07:36:19.637Z"
   },
   {
    "duration": 56942,
    "start_time": "2023-02-16T07:37:57.049Z"
   },
   {
    "duration": 13,
    "start_time": "2023-02-16T07:41:31.941Z"
   },
   {
    "duration": 4,
    "start_time": "2023-02-16T07:41:40.874Z"
   },
   {
    "duration": 35518,
    "start_time": "2023-02-16T07:41:46.629Z"
   },
   {
    "duration": 4,
    "start_time": "2023-02-16T12:40:08.301Z"
   },
   {
    "duration": 37,
    "start_time": "2023-02-16T12:40:08.375Z"
   },
   {
    "duration": 28,
    "start_time": "2023-02-16T12:40:08.430Z"
   },
   {
    "duration": 13,
    "start_time": "2023-02-16T12:40:08.484Z"
   },
   {
    "duration": 24,
    "start_time": "2023-02-16T12:40:08.499Z"
   },
   {
    "duration": 14,
    "start_time": "2023-02-16T12:40:08.528Z"
   },
   {
    "duration": 26,
    "start_time": "2023-02-16T12:40:08.544Z"
   },
   {
    "duration": 57,
    "start_time": "2023-02-16T12:40:08.572Z"
   },
   {
    "duration": 4,
    "start_time": "2023-02-16T12:40:08.640Z"
   },
   {
    "duration": 28,
    "start_time": "2023-02-16T12:40:08.649Z"
   },
   {
    "duration": 4,
    "start_time": "2023-02-16T12:40:08.679Z"
   },
   {
    "duration": 43249,
    "start_time": "2023-02-16T12:40:08.685Z"
   },
   {
    "duration": 35,
    "start_time": "2023-02-16T12:40:51.936Z"
   },
   {
    "duration": 29,
    "start_time": "2023-02-16T12:40:51.973Z"
   },
   {
    "duration": 14,
    "start_time": "2023-02-16T12:40:52.005Z"
   },
   {
    "duration": 62,
    "start_time": "2023-02-16T12:40:52.020Z"
   },
   {
    "duration": 9,
    "start_time": "2023-02-16T12:40:52.083Z"
   },
   {
    "duration": 11,
    "start_time": "2023-02-16T12:40:52.094Z"
   },
   {
    "duration": 280,
    "start_time": "2023-02-16T12:40:52.107Z"
   },
   {
    "duration": 39,
    "start_time": "2023-02-16T12:40:52.392Z"
   },
   {
    "duration": 154,
    "start_time": "2023-02-16T12:40:52.432Z"
   },
   {
    "duration": 0,
    "start_time": "2023-02-16T12:40:52.588Z"
   },
   {
    "duration": 0,
    "start_time": "2023-02-16T12:40:52.589Z"
   },
   {
    "duration": 0,
    "start_time": "2023-02-16T12:40:52.590Z"
   },
   {
    "duration": 0,
    "start_time": "2023-02-16T12:40:52.592Z"
   },
   {
    "duration": 0,
    "start_time": "2023-02-16T12:40:52.592Z"
   },
   {
    "duration": 30,
    "start_time": "2023-02-16T12:42:39.971Z"
   },
   {
    "duration": 32,
    "start_time": "2023-02-16T12:44:11.751Z"
   },
   {
    "duration": 25,
    "start_time": "2023-02-16T12:44:31.375Z"
   },
   {
    "duration": 54,
    "start_time": "2023-02-16T12:44:41.897Z"
   },
   {
    "duration": 33,
    "start_time": "2023-02-16T12:46:33.748Z"
   },
   {
    "duration": 458,
    "start_time": "2023-02-16T12:47:32.178Z"
   },
   {
    "duration": 499,
    "start_time": "2023-02-16T12:48:17.174Z"
   },
   {
    "duration": 119,
    "start_time": "2023-02-16T12:48:27.040Z"
   },
   {
    "duration": 85,
    "start_time": "2023-02-16T12:48:48.076Z"
   },
   {
    "duration": 0,
    "start_time": "2023-02-16T12:55:30.292Z"
   },
   {
    "duration": 1548,
    "start_time": "2023-02-16T13:02:25.952Z"
   },
   {
    "duration": 59,
    "start_time": "2023-02-16T13:02:27.502Z"
   },
   {
    "duration": 17,
    "start_time": "2023-02-16T13:02:27.563Z"
   },
   {
    "duration": 17,
    "start_time": "2023-02-16T13:02:27.583Z"
   },
   {
    "duration": 21,
    "start_time": "2023-02-16T13:02:27.602Z"
   },
   {
    "duration": 17,
    "start_time": "2023-02-16T13:02:27.624Z"
   },
   {
    "duration": 16,
    "start_time": "2023-02-16T13:02:27.642Z"
   },
   {
    "duration": 44,
    "start_time": "2023-02-16T13:02:27.660Z"
   },
   {
    "duration": 19,
    "start_time": "2023-02-16T13:02:27.706Z"
   },
   {
    "duration": 34,
    "start_time": "2023-02-16T13:02:27.731Z"
   },
   {
    "duration": 4,
    "start_time": "2023-02-16T13:02:27.767Z"
   },
   {
    "duration": 37966,
    "start_time": "2023-02-16T13:02:27.775Z"
   },
   {
    "duration": 17,
    "start_time": "2023-02-16T13:03:05.743Z"
   },
   {
    "duration": 11,
    "start_time": "2023-02-16T13:03:05.762Z"
   },
   {
    "duration": 5,
    "start_time": "2023-02-16T13:03:05.774Z"
   },
   {
    "duration": 8,
    "start_time": "2023-02-16T13:03:05.780Z"
   },
   {
    "duration": 38,
    "start_time": "2023-02-16T13:03:05.789Z"
   },
   {
    "duration": 7,
    "start_time": "2023-02-16T13:03:05.828Z"
   },
   {
    "duration": 162,
    "start_time": "2023-02-16T13:03:05.837Z"
   },
   {
    "duration": 38,
    "start_time": "2023-02-16T13:03:06.000Z"
   },
   {
    "duration": 26,
    "start_time": "2023-02-16T13:03:06.040Z"
   },
   {
    "duration": 382,
    "start_time": "2023-02-16T13:03:06.068Z"
   },
   {
    "duration": 74,
    "start_time": "2023-02-16T13:04:51.673Z"
   },
   {
    "duration": 128906,
    "start_time": "2023-02-16T13:05:37.055Z"
   },
   {
    "duration": 130912,
    "start_time": "2023-02-16T13:15:37.780Z"
   },
   {
    "duration": 27,
    "start_time": "2023-02-16T13:17:58.460Z"
   },
   {
    "duration": 5,
    "start_time": "2023-02-16T13:18:23.101Z"
   },
   {
    "duration": 5,
    "start_time": "2023-02-16T13:18:47.780Z"
   },
   {
    "duration": 146,
    "start_time": "2023-02-16T13:18:50.234Z"
   },
   {
    "duration": 4,
    "start_time": "2023-02-16T13:19:46.063Z"
   },
   {
    "duration": 14,
    "start_time": "2023-02-16T13:20:13.212Z"
   },
   {
    "duration": 304,
    "start_time": "2023-02-16T13:20:14.708Z"
   },
   {
    "duration": 87,
    "start_time": "2023-02-16T13:24:12.477Z"
   },
   {
    "duration": 402,
    "start_time": "2023-02-16T13:24:50.849Z"
   },
   {
    "duration": 518,
    "start_time": "2023-02-16T13:25:03.992Z"
   },
   {
    "duration": 486,
    "start_time": "2023-02-16T13:25:17.669Z"
   },
   {
    "duration": 41,
    "start_time": "2023-02-16T13:25:37.044Z"
   },
   {
    "duration": 3,
    "start_time": "2023-02-16T13:25:57.080Z"
   },
   {
    "duration": 45,
    "start_time": "2023-02-16T13:26:13.054Z"
   },
   {
    "duration": 475,
    "start_time": "2023-02-16T13:27:06.540Z"
   },
   {
    "duration": 36,
    "start_time": "2023-02-16T13:28:29.754Z"
   },
   {
    "duration": 96,
    "start_time": "2023-02-16T13:28:32.381Z"
   },
   {
    "duration": 83,
    "start_time": "2023-02-16T13:28:59.544Z"
   },
   {
    "duration": 91,
    "start_time": "2023-02-16T13:29:10.836Z"
   },
   {
    "duration": 7,
    "start_time": "2023-02-16T13:29:36.053Z"
   },
   {
    "duration": 10,
    "start_time": "2023-02-16T13:29:37.581Z"
   },
   {
    "duration": 52,
    "start_time": "2023-02-16T13:29:39.042Z"
   },
   {
    "duration": 50,
    "start_time": "2023-02-16T13:31:46.165Z"
   },
   {
    "duration": 150,
    "start_time": "2023-02-16T13:33:38.001Z"
   },
   {
    "duration": 77,
    "start_time": "2023-02-16T13:34:09.358Z"
   },
   {
    "duration": 46,
    "start_time": "2023-02-16T13:35:48.848Z"
   },
   {
    "duration": 128,
    "start_time": "2023-02-16T13:35:52.247Z"
   },
   {
    "duration": 65,
    "start_time": "2023-02-16T13:35:56.594Z"
   },
   {
    "duration": 1137,
    "start_time": "2023-02-16T13:46:26.046Z"
   },
   {
    "duration": 1121,
    "start_time": "2023-02-16T13:48:04.866Z"
   },
   {
    "duration": 17,
    "start_time": "2023-02-16T13:49:03.801Z"
   },
   {
    "duration": 19,
    "start_time": "2023-02-16T13:50:49.781Z"
   },
   {
    "duration": 1706,
    "start_time": "2023-02-16T13:59:32.361Z"
   },
   {
    "duration": 37,
    "start_time": "2023-02-16T13:59:34.071Z"
   },
   {
    "duration": 41,
    "start_time": "2023-02-16T13:59:34.109Z"
   },
   {
    "duration": 19,
    "start_time": "2023-02-16T13:59:34.163Z"
   },
   {
    "duration": 11,
    "start_time": "2023-02-16T13:59:34.184Z"
   },
   {
    "duration": 7,
    "start_time": "2023-02-16T13:59:34.197Z"
   },
   {
    "duration": 46,
    "start_time": "2023-02-16T13:59:34.205Z"
   },
   {
    "duration": 91,
    "start_time": "2023-02-16T13:59:34.259Z"
   },
   {
    "duration": 5,
    "start_time": "2023-02-16T13:59:34.369Z"
   },
   {
    "duration": 15,
    "start_time": "2023-02-16T13:59:34.377Z"
   },
   {
    "duration": 5,
    "start_time": "2023-02-16T13:59:34.394Z"
   },
   {
    "duration": 236,
    "start_time": "2023-02-16T13:59:34.401Z"
   },
   {
    "duration": 0,
    "start_time": "2023-02-16T13:59:34.640Z"
   },
   {
    "duration": 0,
    "start_time": "2023-02-16T13:59:34.642Z"
   },
   {
    "duration": 0,
    "start_time": "2023-02-16T13:59:34.643Z"
   },
   {
    "duration": 0,
    "start_time": "2023-02-16T13:59:34.644Z"
   },
   {
    "duration": 0,
    "start_time": "2023-02-16T13:59:34.645Z"
   },
   {
    "duration": 0,
    "start_time": "2023-02-16T13:59:34.646Z"
   },
   {
    "duration": 0,
    "start_time": "2023-02-16T13:59:34.651Z"
   },
   {
    "duration": 0,
    "start_time": "2023-02-16T13:59:34.652Z"
   },
   {
    "duration": 0,
    "start_time": "2023-02-16T13:59:34.653Z"
   },
   {
    "duration": 0,
    "start_time": "2023-02-16T13:59:34.655Z"
   },
   {
    "duration": 0,
    "start_time": "2023-02-16T13:59:34.656Z"
   },
   {
    "duration": 0,
    "start_time": "2023-02-16T13:59:34.657Z"
   },
   {
    "duration": 0,
    "start_time": "2023-02-16T13:59:34.659Z"
   },
   {
    "duration": 0,
    "start_time": "2023-02-16T13:59:34.660Z"
   },
   {
    "duration": 0,
    "start_time": "2023-02-16T13:59:34.661Z"
   },
   {
    "duration": 0,
    "start_time": "2023-02-16T13:59:34.663Z"
   },
   {
    "duration": 0,
    "start_time": "2023-02-16T13:59:34.664Z"
   },
   {
    "duration": 0,
    "start_time": "2023-02-16T13:59:34.666Z"
   },
   {
    "duration": 0,
    "start_time": "2023-02-16T13:59:34.667Z"
   },
   {
    "duration": 0,
    "start_time": "2023-02-16T13:59:34.668Z"
   },
   {
    "duration": 0,
    "start_time": "2023-02-16T13:59:34.669Z"
   },
   {
    "duration": 0,
    "start_time": "2023-02-16T13:59:34.670Z"
   },
   {
    "duration": 0,
    "start_time": "2023-02-16T13:59:34.672Z"
   },
   {
    "duration": 0,
    "start_time": "2023-02-16T13:59:34.673Z"
   },
   {
    "duration": 0,
    "start_time": "2023-02-16T13:59:34.677Z"
   },
   {
    "duration": 0,
    "start_time": "2023-02-16T13:59:34.681Z"
   },
   {
    "duration": 0,
    "start_time": "2023-02-16T13:59:34.683Z"
   },
   {
    "duration": 0,
    "start_time": "2023-02-16T13:59:34.684Z"
   },
   {
    "duration": 0,
    "start_time": "2023-02-16T13:59:34.685Z"
   },
   {
    "duration": 0,
    "start_time": "2023-02-16T13:59:34.686Z"
   },
   {
    "duration": 0,
    "start_time": "2023-02-16T13:59:34.687Z"
   },
   {
    "duration": 0,
    "start_time": "2023-02-16T13:59:34.688Z"
   },
   {
    "duration": 0,
    "start_time": "2023-02-16T13:59:34.690Z"
   },
   {
    "duration": 0,
    "start_time": "2023-02-16T13:59:34.691Z"
   },
   {
    "duration": 22799,
    "start_time": "2023-02-16T14:00:00.209Z"
   },
   {
    "duration": 58,
    "start_time": "2023-02-16T14:01:48.889Z"
   },
   {
    "duration": 12,
    "start_time": "2023-02-16T14:01:48.949Z"
   },
   {
    "duration": 4,
    "start_time": "2023-02-16T14:01:48.963Z"
   },
   {
    "duration": 8,
    "start_time": "2023-02-16T14:01:48.969Z"
   },
   {
    "duration": 5,
    "start_time": "2023-02-16T14:01:48.979Z"
   },
   {
    "duration": 7,
    "start_time": "2023-02-16T14:01:48.985Z"
   },
   {
    "duration": 169,
    "start_time": "2023-02-16T14:01:48.993Z"
   },
   {
    "duration": 24,
    "start_time": "2023-02-16T14:01:49.163Z"
   },
   {
    "duration": 42,
    "start_time": "2023-02-16T14:01:49.189Z"
   },
   {
    "duration": 467,
    "start_time": "2023-02-16T14:01:49.233Z"
   },
   {
    "duration": 132867,
    "start_time": "2023-02-16T14:01:49.701Z"
   },
   {
    "duration": 49,
    "start_time": "2023-02-16T14:04:02.570Z"
   },
   {
    "duration": 24,
    "start_time": "2023-02-16T14:04:02.623Z"
   },
   {
    "duration": 398,
    "start_time": "2023-02-16T14:04:02.731Z"
   },
   {
    "duration": 12,
    "start_time": "2023-02-16T14:04:03.131Z"
   },
   {
    "duration": 136,
    "start_time": "2023-02-16T14:04:03.145Z"
   },
   {
    "duration": 177,
    "start_time": "2023-02-16T14:04:03.283Z"
   },
   {
    "duration": 89,
    "start_time": "2023-02-16T14:04:03.462Z"
   },
   {
    "duration": 64,
    "start_time": "2023-02-16T14:04:03.553Z"
   },
   {
    "duration": 45,
    "start_time": "2023-02-16T14:04:03.620Z"
   },
   {
    "duration": 89,
    "start_time": "2023-02-16T14:04:03.666Z"
   },
   {
    "duration": 123,
    "start_time": "2023-02-16T14:04:03.758Z"
   },
   {
    "duration": 64,
    "start_time": "2023-02-16T14:04:03.883Z"
   },
   {
    "duration": 66,
    "start_time": "2023-02-16T14:04:03.949Z"
   },
   {
    "duration": 141,
    "start_time": "2023-02-16T14:04:04.017Z"
   },
   {
    "duration": 20,
    "start_time": "2023-02-16T14:04:04.160Z"
   },
   {
    "duration": 66,
    "start_time": "2023-02-16T14:04:04.181Z"
   },
   {
    "duration": 59,
    "start_time": "2023-02-16T14:04:04.256Z"
   },
   {
    "duration": 26,
    "start_time": "2023-02-16T14:04:04.317Z"
   },
   {
    "duration": 0,
    "start_time": "2023-02-16T14:04:04.412Z"
   },
   {
    "duration": 0,
    "start_time": "2023-02-16T14:04:04.413Z"
   },
   {
    "duration": 0,
    "start_time": "2023-02-16T14:04:04.431Z"
   },
   {
    "duration": 0,
    "start_time": "2023-02-16T14:04:04.439Z"
   },
   {
    "duration": 0,
    "start_time": "2023-02-16T14:04:04.441Z"
   },
   {
    "duration": 96,
    "start_time": "2023-02-16T14:15:46.966Z"
   },
   {
    "duration": 15,
    "start_time": "2023-02-16T14:16:11.564Z"
   },
   {
    "duration": 93,
    "start_time": "2023-02-16T14:17:28.539Z"
   },
   {
    "duration": 13,
    "start_time": "2023-02-16T14:17:29.761Z"
   },
   {
    "duration": 24,
    "start_time": "2023-02-16T14:18:11.525Z"
   },
   {
    "duration": 52,
    "start_time": "2023-02-16T14:18:14.739Z"
   },
   {
    "duration": 6,
    "start_time": "2023-02-16T14:18:35.664Z"
   },
   {
    "duration": 77,
    "start_time": "2023-02-16T14:18:37.367Z"
   },
   {
    "duration": 18,
    "start_time": "2023-02-16T14:18:46.963Z"
   },
   {
    "duration": 82,
    "start_time": "2023-02-16T14:22:08.644Z"
   },
   {
    "duration": 31,
    "start_time": "2023-02-16T14:22:13.198Z"
   },
   {
    "duration": 1495,
    "start_time": "2023-02-16T14:52:04.497Z"
   },
   {
    "duration": 67,
    "start_time": "2023-02-16T14:52:05.993Z"
   },
   {
    "duration": 17,
    "start_time": "2023-02-16T14:52:06.061Z"
   },
   {
    "duration": 12,
    "start_time": "2023-02-16T14:52:06.080Z"
   },
   {
    "duration": 49,
    "start_time": "2023-02-16T14:52:06.095Z"
   },
   {
    "duration": 9,
    "start_time": "2023-02-16T14:52:06.152Z"
   },
   {
    "duration": 4,
    "start_time": "2023-02-16T14:52:06.163Z"
   },
   {
    "duration": 35,
    "start_time": "2023-02-16T14:52:06.169Z"
   },
   {
    "duration": 17,
    "start_time": "2023-02-16T14:52:06.206Z"
   },
   {
    "duration": 25,
    "start_time": "2023-02-16T14:52:06.235Z"
   },
   {
    "duration": 6,
    "start_time": "2023-02-16T14:52:06.262Z"
   },
   {
    "duration": 21153,
    "start_time": "2023-02-16T14:52:06.270Z"
   },
   {
    "duration": 36,
    "start_time": "2023-02-16T14:52:27.425Z"
   },
   {
    "duration": 11,
    "start_time": "2023-02-16T14:52:27.464Z"
   },
   {
    "duration": 6,
    "start_time": "2023-02-16T14:52:27.476Z"
   },
   {
    "duration": 19,
    "start_time": "2023-02-16T14:52:27.483Z"
   },
   {
    "duration": 31,
    "start_time": "2023-02-16T14:52:27.504Z"
   },
   {
    "duration": 20,
    "start_time": "2023-02-16T14:52:27.537Z"
   },
   {
    "duration": 132,
    "start_time": "2023-02-16T14:52:27.559Z"
   },
   {
    "duration": 38,
    "start_time": "2023-02-16T14:52:27.693Z"
   },
   {
    "duration": 30,
    "start_time": "2023-02-16T14:52:27.732Z"
   },
   {
    "duration": 4,
    "start_time": "2023-02-16T14:52:27.764Z"
   },
   {
    "duration": 299,
    "start_time": "2023-02-16T14:52:27.770Z"
   },
   {
    "duration": 583,
    "start_time": "2023-02-16T14:52:28.071Z"
   },
   {
    "duration": 128100,
    "start_time": "2023-02-16T14:52:28.656Z"
   },
   {
    "duration": 59,
    "start_time": "2023-02-16T14:54:36.758Z"
   },
   {
    "duration": 5,
    "start_time": "2023-02-16T14:54:36.828Z"
   },
   {
    "duration": 596,
    "start_time": "2023-02-16T14:54:36.835Z"
   },
   {
    "duration": 128633,
    "start_time": "2023-02-16T14:54:37.433Z"
   },
   {
    "duration": 81,
    "start_time": "2023-02-16T14:56:46.067Z"
   },
   {
    "duration": 9,
    "start_time": "2023-02-16T14:56:46.212Z"
   },
   {
    "duration": 50,
    "start_time": "2023-02-16T14:56:46.222Z"
   },
   {
    "duration": 566,
    "start_time": "2023-02-16T14:56:46.273Z"
   },
   {
    "duration": 176048,
    "start_time": "2023-02-16T14:56:46.844Z"
   },
   {
    "duration": 233,
    "start_time": "2023-02-16T14:59:42.894Z"
   },
   {
    "duration": 15,
    "start_time": "2023-02-16T14:59:43.140Z"
   },
   {
    "duration": 20,
    "start_time": "2023-02-16T14:59:43.159Z"
   },
   {
    "duration": 266,
    "start_time": "2023-02-16T14:59:43.182Z"
   },
   {
    "duration": 75780,
    "start_time": "2023-02-16T14:59:43.459Z"
   },
   {
    "duration": 93,
    "start_time": "2023-02-16T15:00:59.240Z"
   },
   {
    "duration": 280,
    "start_time": "2023-02-16T15:04:07.591Z"
   },
   {
    "duration": 18,
    "start_time": "2023-02-16T15:04:11.590Z"
   },
   {
    "duration": 21,
    "start_time": "2023-02-16T15:05:17.668Z"
   },
   {
    "duration": 7,
    "start_time": "2023-02-16T15:05:22.349Z"
   },
   {
    "duration": 160,
    "start_time": "2023-02-16T15:05:25.134Z"
   },
   {
    "duration": 12,
    "start_time": "2023-02-16T15:05:48.377Z"
   },
   {
    "duration": 13,
    "start_time": "2023-02-16T15:06:31.247Z"
   },
   {
    "duration": 11,
    "start_time": "2023-02-16T15:06:49.271Z"
   },
   {
    "duration": 14,
    "start_time": "2023-02-16T15:07:03.063Z"
   },
   {
    "duration": 10,
    "start_time": "2023-02-16T15:07:19.551Z"
   },
   {
    "duration": 89,
    "start_time": "2023-02-16T18:26:12.536Z"
   },
   {
    "duration": 1704,
    "start_time": "2023-02-16T18:34:16.960Z"
   },
   {
    "duration": 177,
    "start_time": "2023-02-16T18:34:18.667Z"
   },
   {
    "duration": 22,
    "start_time": "2023-02-16T18:34:18.846Z"
   },
   {
    "duration": 13,
    "start_time": "2023-02-16T18:34:18.870Z"
   },
   {
    "duration": 11,
    "start_time": "2023-02-16T18:34:18.885Z"
   },
   {
    "duration": 7,
    "start_time": "2023-02-16T18:34:18.897Z"
   },
   {
    "duration": 9,
    "start_time": "2023-02-16T18:34:18.905Z"
   },
   {
    "duration": 57,
    "start_time": "2023-02-16T18:34:18.916Z"
   },
   {
    "duration": 4,
    "start_time": "2023-02-16T18:34:18.975Z"
   },
   {
    "duration": 11,
    "start_time": "2023-02-16T18:34:18.981Z"
   },
   {
    "duration": 6,
    "start_time": "2023-02-16T18:34:18.994Z"
   },
   {
    "duration": 20735,
    "start_time": "2023-02-16T18:34:19.002Z"
   },
   {
    "duration": 22,
    "start_time": "2023-02-16T18:34:39.738Z"
   },
   {
    "duration": 10,
    "start_time": "2023-02-16T18:34:39.765Z"
   },
   {
    "duration": 6,
    "start_time": "2023-02-16T18:34:39.777Z"
   },
   {
    "duration": 6,
    "start_time": "2023-02-16T18:34:39.784Z"
   },
   {
    "duration": 6,
    "start_time": "2023-02-16T18:34:39.791Z"
   },
   {
    "duration": 6,
    "start_time": "2023-02-16T18:34:39.798Z"
   },
   {
    "duration": 171,
    "start_time": "2023-02-16T18:34:39.805Z"
   },
   {
    "duration": 25,
    "start_time": "2023-02-16T18:34:39.978Z"
   },
   {
    "duration": 26,
    "start_time": "2023-02-16T18:34:40.004Z"
   },
   {
    "duration": 7,
    "start_time": "2023-02-16T18:34:40.048Z"
   },
   {
    "duration": 297,
    "start_time": "2023-02-16T18:34:40.058Z"
   },
   {
    "duration": 524,
    "start_time": "2023-02-16T18:34:40.357Z"
   },
   {
    "duration": 39738,
    "start_time": "2023-02-16T18:34:40.883Z"
   },
   {
    "duration": 44,
    "start_time": "2023-02-16T18:35:20.623Z"
   },
   {
    "duration": 11,
    "start_time": "2023-02-16T18:35:20.751Z"
   },
   {
    "duration": 235,
    "start_time": "2023-02-16T18:35:20.766Z"
   },
   {
    "duration": 55996,
    "start_time": "2023-02-16T18:35:21.003Z"
   },
   {
    "duration": 150,
    "start_time": "2023-02-16T18:36:17.001Z"
   },
   {
    "duration": 6,
    "start_time": "2023-02-16T18:36:17.158Z"
   },
   {
    "duration": 14,
    "start_time": "2023-02-16T18:36:17.165Z"
   },
   {
    "duration": 187,
    "start_time": "2023-02-16T18:36:17.180Z"
   },
   {
    "duration": 108908,
    "start_time": "2023-02-16T18:36:17.369Z"
   },
   {
    "duration": 80,
    "start_time": "2023-02-16T18:38:06.279Z"
   },
   {
    "duration": 6,
    "start_time": "2023-02-16T18:38:06.361Z"
   },
   {
    "duration": 120,
    "start_time": "2023-02-16T18:38:06.369Z"
   },
   {
    "duration": 115,
    "start_time": "2023-02-16T18:38:06.491Z"
   },
   {
    "duration": 25575,
    "start_time": "2023-02-16T18:38:06.610Z"
   },
   {
    "duration": 62,
    "start_time": "2023-02-16T18:38:32.187Z"
   },
   {
    "duration": 333,
    "start_time": "2023-02-16T18:38:32.255Z"
   },
   {
    "duration": 20,
    "start_time": "2023-02-16T18:38:32.589Z"
   },
   {
    "duration": 17,
    "start_time": "2023-02-16T18:38:32.611Z"
   },
   {
    "duration": 28,
    "start_time": "2023-02-16T18:38:32.630Z"
   },
   {
    "duration": 15,
    "start_time": "2023-02-16T18:38:32.661Z"
   },
   {
    "duration": 23,
    "start_time": "2023-02-16T18:38:32.678Z"
   },
   {
    "duration": 194,
    "start_time": "2023-02-16T18:38:32.703Z"
   },
   {
    "duration": 120,
    "start_time": "2023-02-16T18:38:32.900Z"
   },
   {
    "duration": 0,
    "start_time": "2023-02-16T18:38:33.022Z"
   },
   {
    "duration": 276,
    "start_time": "2023-02-16T18:55:20.468Z"
   },
   {
    "duration": 8,
    "start_time": "2023-02-16T18:57:38.580Z"
   },
   {
    "duration": 277,
    "start_time": "2023-02-16T18:57:55.146Z"
   },
   {
    "duration": 241,
    "start_time": "2023-02-16T18:58:31.404Z"
   },
   {
    "duration": 25010,
    "start_time": "2023-02-16T19:07:21.724Z"
   },
   {
    "duration": 29726,
    "start_time": "2023-02-16T19:08:45.779Z"
   },
   {
    "duration": 10,
    "start_time": "2023-02-16T19:09:15.508Z"
   },
   {
    "duration": 237,
    "start_time": "2023-02-16T19:25:45.061Z"
   },
   {
    "duration": 1505,
    "start_time": "2023-02-16T19:27:13.562Z"
   },
   {
    "duration": 43,
    "start_time": "2023-02-16T19:27:15.069Z"
   },
   {
    "duration": 17,
    "start_time": "2023-02-16T19:27:15.114Z"
   },
   {
    "duration": 13,
    "start_time": "2023-02-16T19:27:15.133Z"
   },
   {
    "duration": 16,
    "start_time": "2023-02-16T19:27:15.149Z"
   },
   {
    "duration": 9,
    "start_time": "2023-02-16T19:27:15.166Z"
   },
   {
    "duration": 4,
    "start_time": "2023-02-16T19:27:15.177Z"
   },
   {
    "duration": 39,
    "start_time": "2023-02-16T19:27:15.184Z"
   },
   {
    "duration": 31,
    "start_time": "2023-02-16T19:27:15.225Z"
   },
   {
    "duration": 15,
    "start_time": "2023-02-16T19:27:15.259Z"
   },
   {
    "duration": 5,
    "start_time": "2023-02-16T19:27:15.276Z"
   },
   {
    "duration": 136,
    "start_time": "2023-02-16T19:27:15.282Z"
   },
   {
    "duration": 0,
    "start_time": "2023-02-16T19:27:15.421Z"
   },
   {
    "duration": 0,
    "start_time": "2023-02-16T19:27:15.423Z"
   },
   {
    "duration": 0,
    "start_time": "2023-02-16T19:27:15.424Z"
   },
   {
    "duration": 0,
    "start_time": "2023-02-16T19:27:15.425Z"
   },
   {
    "duration": 0,
    "start_time": "2023-02-16T19:27:15.426Z"
   },
   {
    "duration": 0,
    "start_time": "2023-02-16T19:27:15.427Z"
   },
   {
    "duration": 0,
    "start_time": "2023-02-16T19:27:15.428Z"
   },
   {
    "duration": 0,
    "start_time": "2023-02-16T19:27:15.429Z"
   },
   {
    "duration": 0,
    "start_time": "2023-02-16T19:27:15.456Z"
   },
   {
    "duration": 0,
    "start_time": "2023-02-16T19:27:15.456Z"
   },
   {
    "duration": 0,
    "start_time": "2023-02-16T19:27:15.457Z"
   },
   {
    "duration": 0,
    "start_time": "2023-02-16T19:27:15.458Z"
   },
   {
    "duration": 0,
    "start_time": "2023-02-16T19:27:15.458Z"
   },
   {
    "duration": 0,
    "start_time": "2023-02-16T19:27:15.459Z"
   },
   {
    "duration": 0,
    "start_time": "2023-02-16T19:27:15.461Z"
   },
   {
    "duration": 0,
    "start_time": "2023-02-16T19:27:15.462Z"
   },
   {
    "duration": 0,
    "start_time": "2023-02-16T19:27:15.463Z"
   },
   {
    "duration": 0,
    "start_time": "2023-02-16T19:27:15.464Z"
   },
   {
    "duration": 0,
    "start_time": "2023-02-16T19:27:15.470Z"
   },
   {
    "duration": 0,
    "start_time": "2023-02-16T19:27:15.470Z"
   },
   {
    "duration": 0,
    "start_time": "2023-02-16T19:27:15.472Z"
   },
   {
    "duration": 0,
    "start_time": "2023-02-16T19:27:15.473Z"
   },
   {
    "duration": 0,
    "start_time": "2023-02-16T19:27:15.474Z"
   },
   {
    "duration": 0,
    "start_time": "2023-02-16T19:27:15.475Z"
   },
   {
    "duration": 0,
    "start_time": "2023-02-16T19:27:15.476Z"
   },
   {
    "duration": 0,
    "start_time": "2023-02-16T19:27:15.477Z"
   },
   {
    "duration": 0,
    "start_time": "2023-02-16T19:27:15.477Z"
   },
   {
    "duration": 0,
    "start_time": "2023-02-16T19:27:15.478Z"
   },
   {
    "duration": 0,
    "start_time": "2023-02-16T19:27:15.479Z"
   },
   {
    "duration": 0,
    "start_time": "2023-02-16T19:27:15.480Z"
   },
   {
    "duration": 0,
    "start_time": "2023-02-16T19:27:15.481Z"
   },
   {
    "duration": 0,
    "start_time": "2023-02-16T19:27:15.482Z"
   },
   {
    "duration": 0,
    "start_time": "2023-02-16T19:27:15.483Z"
   },
   {
    "duration": 0,
    "start_time": "2023-02-16T19:27:15.484Z"
   },
   {
    "duration": 0,
    "start_time": "2023-02-16T19:27:15.485Z"
   },
   {
    "duration": 14949,
    "start_time": "2023-02-16T19:27:49.620Z"
   },
   {
    "duration": 1560,
    "start_time": "2023-02-16T19:30:04.351Z"
   },
   {
    "duration": 49,
    "start_time": "2023-02-16T19:30:05.914Z"
   },
   {
    "duration": 18,
    "start_time": "2023-02-16T19:30:05.965Z"
   },
   {
    "duration": 14,
    "start_time": "2023-02-16T19:30:05.985Z"
   },
   {
    "duration": 13,
    "start_time": "2023-02-16T19:30:06.001Z"
   },
   {
    "duration": 7,
    "start_time": "2023-02-16T19:30:06.016Z"
   },
   {
    "duration": 4,
    "start_time": "2023-02-16T19:30:06.051Z"
   },
   {
    "duration": 57,
    "start_time": "2023-02-16T19:30:06.057Z"
   },
   {
    "duration": 5,
    "start_time": "2023-02-16T19:30:06.116Z"
   },
   {
    "duration": 19,
    "start_time": "2023-02-16T19:30:06.123Z"
   },
   {
    "duration": 23,
    "start_time": "2023-02-16T19:30:06.151Z"
   },
   {
    "duration": 14761,
    "start_time": "2023-02-16T19:30:06.176Z"
   },
   {
    "duration": 24,
    "start_time": "2023-02-16T19:30:20.939Z"
   },
   {
    "duration": 15,
    "start_time": "2023-02-16T19:30:20.968Z"
   },
   {
    "duration": 22,
    "start_time": "2023-02-16T19:30:20.985Z"
   },
   {
    "duration": 19,
    "start_time": "2023-02-16T19:30:21.009Z"
   },
   {
    "duration": 7,
    "start_time": "2023-02-16T19:30:21.030Z"
   },
   {
    "duration": 36,
    "start_time": "2023-02-16T19:30:21.039Z"
   },
   {
    "duration": 166,
    "start_time": "2023-02-16T19:30:21.076Z"
   },
   {
    "duration": 24,
    "start_time": "2023-02-16T19:30:21.243Z"
   },
   {
    "duration": 136,
    "start_time": "2023-02-16T19:30:21.269Z"
   },
   {
    "duration": 0,
    "start_time": "2023-02-16T19:30:21.407Z"
   },
   {
    "duration": 0,
    "start_time": "2023-02-16T19:30:21.409Z"
   },
   {
    "duration": 0,
    "start_time": "2023-02-16T19:30:21.411Z"
   },
   {
    "duration": 0,
    "start_time": "2023-02-16T19:30:21.412Z"
   },
   {
    "duration": 0,
    "start_time": "2023-02-16T19:30:21.414Z"
   },
   {
    "duration": 0,
    "start_time": "2023-02-16T19:30:21.416Z"
   },
   {
    "duration": 0,
    "start_time": "2023-02-16T19:30:21.417Z"
   },
   {
    "duration": 0,
    "start_time": "2023-02-16T19:30:21.419Z"
   },
   {
    "duration": 0,
    "start_time": "2023-02-16T19:30:21.420Z"
   },
   {
    "duration": 0,
    "start_time": "2023-02-16T19:30:21.422Z"
   },
   {
    "duration": 0,
    "start_time": "2023-02-16T19:30:21.450Z"
   },
   {
    "duration": 0,
    "start_time": "2023-02-16T19:30:21.450Z"
   },
   {
    "duration": 0,
    "start_time": "2023-02-16T19:30:21.451Z"
   },
   {
    "duration": 0,
    "start_time": "2023-02-16T19:30:21.458Z"
   },
   {
    "duration": 0,
    "start_time": "2023-02-16T19:30:21.459Z"
   },
   {
    "duration": 0,
    "start_time": "2023-02-16T19:30:21.460Z"
   },
   {
    "duration": 0,
    "start_time": "2023-02-16T19:30:21.461Z"
   },
   {
    "duration": 0,
    "start_time": "2023-02-16T19:30:21.462Z"
   },
   {
    "duration": 0,
    "start_time": "2023-02-16T19:30:21.462Z"
   },
   {
    "duration": 0,
    "start_time": "2023-02-16T19:30:21.463Z"
   },
   {
    "duration": 0,
    "start_time": "2023-02-16T19:30:21.464Z"
   },
   {
    "duration": 0,
    "start_time": "2023-02-16T19:30:21.465Z"
   },
   {
    "duration": 0,
    "start_time": "2023-02-16T19:30:21.466Z"
   },
   {
    "duration": 0,
    "start_time": "2023-02-16T19:30:21.466Z"
   },
   {
    "duration": 0,
    "start_time": "2023-02-16T19:30:21.467Z"
   },
   {
    "duration": 0,
    "start_time": "2023-02-16T19:30:21.468Z"
   },
   {
    "duration": 33,
    "start_time": "2023-02-16T19:34:13.297Z"
   },
   {
    "duration": 6,
    "start_time": "2023-02-16T19:34:26.210Z"
   },
   {
    "duration": 331,
    "start_time": "2023-02-16T19:34:26.219Z"
   },
   {
    "duration": 419,
    "start_time": "2023-02-16T19:34:26.563Z"
   },
   {
    "duration": 38810,
    "start_time": "2023-02-16T19:34:26.984Z"
   },
   {
    "duration": 62,
    "start_time": "2023-02-16T19:35:05.796Z"
   },
   {
    "duration": 5,
    "start_time": "2023-02-16T19:35:05.860Z"
   },
   {
    "duration": 221,
    "start_time": "2023-02-16T19:35:05.869Z"
   },
   {
    "duration": 54707,
    "start_time": "2023-02-16T19:35:06.092Z"
   },
   {
    "duration": 55,
    "start_time": "2023-02-16T19:36:00.801Z"
   },
   {
    "duration": 93,
    "start_time": "2023-02-16T19:36:00.863Z"
   },
   {
    "duration": 53,
    "start_time": "2023-02-16T19:36:00.957Z"
   },
   {
    "duration": 154,
    "start_time": "2023-02-16T19:36:01.012Z"
   },
   {
    "duration": 108929,
    "start_time": "2023-02-16T19:36:01.168Z"
   },
   {
    "duration": 61,
    "start_time": "2023-02-16T19:37:50.099Z"
   },
   {
    "duration": 89,
    "start_time": "2023-02-16T19:37:50.163Z"
   },
   {
    "duration": 38,
    "start_time": "2023-02-16T19:37:50.255Z"
   },
   {
    "duration": 93,
    "start_time": "2023-02-16T19:37:50.294Z"
   },
   {
    "duration": 24883,
    "start_time": "2023-02-16T19:37:50.389Z"
   },
   {
    "duration": 85,
    "start_time": "2023-02-16T19:38:15.274Z"
   },
   {
    "duration": 337,
    "start_time": "2023-02-16T19:38:15.369Z"
   },
   {
    "duration": 26127,
    "start_time": "2023-02-16T19:38:15.708Z"
   },
   {
    "duration": 13,
    "start_time": "2023-02-16T19:38:41.836Z"
   },
   {
    "duration": 14,
    "start_time": "2023-02-16T19:38:41.864Z"
   },
   {
    "duration": 0,
    "start_time": "2023-02-16T19:38:41.880Z"
   },
   {
    "duration": 0,
    "start_time": "2023-02-16T19:38:41.880Z"
   },
   {
    "duration": 0,
    "start_time": "2023-02-16T19:38:41.882Z"
   },
   {
    "duration": 1513,
    "start_time": "2023-02-16T19:44:15.431Z"
   },
   {
    "duration": 55,
    "start_time": "2023-02-16T19:44:16.947Z"
   },
   {
    "duration": 23,
    "start_time": "2023-02-16T19:44:17.004Z"
   },
   {
    "duration": 24,
    "start_time": "2023-02-16T19:44:17.029Z"
   },
   {
    "duration": 17,
    "start_time": "2023-02-16T19:44:17.056Z"
   },
   {
    "duration": 10,
    "start_time": "2023-02-16T19:44:17.075Z"
   },
   {
    "duration": 8,
    "start_time": "2023-02-16T19:44:17.088Z"
   },
   {
    "duration": 76,
    "start_time": "2023-02-16T19:44:17.098Z"
   },
   {
    "duration": 4,
    "start_time": "2023-02-16T19:44:17.177Z"
   },
   {
    "duration": 18,
    "start_time": "2023-02-16T19:44:17.183Z"
   },
   {
    "duration": 9,
    "start_time": "2023-02-16T19:44:17.202Z"
   },
   {
    "duration": 14421,
    "start_time": "2023-02-16T19:44:17.212Z"
   },
   {
    "duration": 17,
    "start_time": "2023-02-16T19:44:31.635Z"
   },
   {
    "duration": 18,
    "start_time": "2023-02-16T19:44:31.656Z"
   },
   {
    "duration": 5,
    "start_time": "2023-02-16T19:44:31.675Z"
   },
   {
    "duration": 7,
    "start_time": "2023-02-16T19:44:31.681Z"
   },
   {
    "duration": 8,
    "start_time": "2023-02-16T19:44:31.690Z"
   },
   {
    "duration": 6,
    "start_time": "2023-02-16T19:44:31.701Z"
   },
   {
    "duration": 170,
    "start_time": "2023-02-16T19:44:31.709Z"
   },
   {
    "duration": 18,
    "start_time": "2023-02-16T19:44:31.880Z"
   },
   {
    "duration": 23,
    "start_time": "2023-02-16T19:44:31.899Z"
   },
   {
    "duration": 26,
    "start_time": "2023-02-16T19:44:31.923Z"
   },
   {
    "duration": 247,
    "start_time": "2023-02-16T19:44:31.951Z"
   },
   {
    "duration": 463,
    "start_time": "2023-02-16T19:44:32.200Z"
   },
   {
    "duration": 38305,
    "start_time": "2023-02-16T19:44:32.664Z"
   },
   {
    "duration": 80,
    "start_time": "2023-02-16T19:45:10.970Z"
   },
   {
    "duration": 9,
    "start_time": "2023-02-16T19:45:11.052Z"
   },
   {
    "duration": 108,
    "start_time": "2023-02-16T19:45:11.063Z"
   },
   {
    "duration": 0,
    "start_time": "2023-02-16T19:45:11.172Z"
   },
   {
    "duration": 0,
    "start_time": "2023-02-16T19:45:11.174Z"
   },
   {
    "duration": 0,
    "start_time": "2023-02-16T19:45:11.175Z"
   },
   {
    "duration": 0,
    "start_time": "2023-02-16T19:45:11.176Z"
   },
   {
    "duration": 0,
    "start_time": "2023-02-16T19:45:11.177Z"
   },
   {
    "duration": 0,
    "start_time": "2023-02-16T19:45:11.178Z"
   },
   {
    "duration": 0,
    "start_time": "2023-02-16T19:45:11.179Z"
   },
   {
    "duration": 0,
    "start_time": "2023-02-16T19:45:11.180Z"
   },
   {
    "duration": 0,
    "start_time": "2023-02-16T19:45:11.181Z"
   },
   {
    "duration": 0,
    "start_time": "2023-02-16T19:45:11.182Z"
   },
   {
    "duration": 0,
    "start_time": "2023-02-16T19:45:11.184Z"
   },
   {
    "duration": 0,
    "start_time": "2023-02-16T19:45:11.185Z"
   },
   {
    "duration": 0,
    "start_time": "2023-02-16T19:45:11.186Z"
   },
   {
    "duration": 0,
    "start_time": "2023-02-16T19:45:11.187Z"
   },
   {
    "duration": 0,
    "start_time": "2023-02-16T19:45:11.188Z"
   },
   {
    "duration": 0,
    "start_time": "2023-02-16T19:45:11.189Z"
   },
   {
    "duration": 0,
    "start_time": "2023-02-16T19:45:11.190Z"
   },
   {
    "duration": 0,
    "start_time": "2023-02-16T19:45:11.191Z"
   },
   {
    "duration": 0,
    "start_time": "2023-02-16T19:45:11.192Z"
   },
   {
    "duration": 5,
    "start_time": "2023-02-16T19:58:00.023Z"
   },
   {
    "duration": 1664,
    "start_time": "2023-02-16T19:58:21.606Z"
   },
   {
    "duration": 48,
    "start_time": "2023-02-16T19:58:23.274Z"
   },
   {
    "duration": 19,
    "start_time": "2023-02-16T19:58:23.323Z"
   },
   {
    "duration": 24,
    "start_time": "2023-02-16T19:58:23.344Z"
   },
   {
    "duration": 54,
    "start_time": "2023-02-16T19:58:23.371Z"
   },
   {
    "duration": 29,
    "start_time": "2023-02-16T19:58:23.427Z"
   },
   {
    "duration": 50,
    "start_time": "2023-02-16T19:58:23.458Z"
   },
   {
    "duration": 66,
    "start_time": "2023-02-16T19:58:23.510Z"
   },
   {
    "duration": 6,
    "start_time": "2023-02-16T19:58:23.577Z"
   },
   {
    "duration": 24,
    "start_time": "2023-02-16T19:58:23.587Z"
   },
   {
    "duration": 10,
    "start_time": "2023-02-16T19:58:23.613Z"
   },
   {
    "duration": 15638,
    "start_time": "2023-02-16T19:58:23.624Z"
   },
   {
    "duration": 22,
    "start_time": "2023-02-16T19:58:39.272Z"
   },
   {
    "duration": 11,
    "start_time": "2023-02-16T19:58:39.297Z"
   },
   {
    "duration": 4,
    "start_time": "2023-02-16T19:58:39.309Z"
   },
   {
    "duration": 7,
    "start_time": "2023-02-16T19:58:39.315Z"
   },
   {
    "duration": 10,
    "start_time": "2023-02-16T19:58:39.324Z"
   },
   {
    "duration": 18,
    "start_time": "2023-02-16T19:58:39.336Z"
   },
   {
    "duration": 178,
    "start_time": "2023-02-16T19:58:39.356Z"
   },
   {
    "duration": 24,
    "start_time": "2023-02-16T19:58:39.536Z"
   },
   {
    "duration": 31,
    "start_time": "2023-02-16T19:58:39.564Z"
   },
   {
    "duration": 6,
    "start_time": "2023-02-16T19:58:39.597Z"
   },
   {
    "duration": 283,
    "start_time": "2023-02-16T19:58:39.605Z"
   },
   {
    "duration": 489,
    "start_time": "2023-02-16T19:58:39.890Z"
   },
   {
    "duration": 41324,
    "start_time": "2023-02-16T19:58:40.383Z"
   },
   {
    "duration": 48,
    "start_time": "2023-02-16T19:59:21.709Z"
   },
   {
    "duration": 10,
    "start_time": "2023-02-16T19:59:21.763Z"
   },
   {
    "duration": 229,
    "start_time": "2023-02-16T19:59:21.776Z"
   },
   {
    "duration": 6,
    "start_time": "2023-02-16T19:59:22.007Z"
   },
   {
    "duration": 0,
    "start_time": "2023-02-16T19:59:22.015Z"
   },
   {
    "duration": 0,
    "start_time": "2023-02-16T19:59:22.016Z"
   },
   {
    "duration": 0,
    "start_time": "2023-02-16T19:59:22.017Z"
   },
   {
    "duration": 0,
    "start_time": "2023-02-16T19:59:22.019Z"
   },
   {
    "duration": 0,
    "start_time": "2023-02-16T19:59:22.020Z"
   },
   {
    "duration": 0,
    "start_time": "2023-02-16T19:59:22.022Z"
   },
   {
    "duration": 0,
    "start_time": "2023-02-16T19:59:22.024Z"
   },
   {
    "duration": 0,
    "start_time": "2023-02-16T19:59:22.025Z"
   },
   {
    "duration": 0,
    "start_time": "2023-02-16T19:59:22.026Z"
   },
   {
    "duration": 0,
    "start_time": "2023-02-16T19:59:22.027Z"
   },
   {
    "duration": 0,
    "start_time": "2023-02-16T19:59:22.048Z"
   },
   {
    "duration": 0,
    "start_time": "2023-02-16T19:59:22.049Z"
   },
   {
    "duration": 0,
    "start_time": "2023-02-16T19:59:22.050Z"
   },
   {
    "duration": 0,
    "start_time": "2023-02-16T19:59:22.053Z"
   },
   {
    "duration": 0,
    "start_time": "2023-02-16T19:59:22.054Z"
   },
   {
    "duration": 0,
    "start_time": "2023-02-16T19:59:22.055Z"
   },
   {
    "duration": 0,
    "start_time": "2023-02-16T19:59:22.056Z"
   },
   {
    "duration": 0,
    "start_time": "2023-02-16T19:59:22.057Z"
   },
   {
    "duration": 37664,
    "start_time": "2023-02-16T19:59:36.241Z"
   },
   {
    "duration": 0,
    "start_time": "2023-02-16T20:00:13.906Z"
   },
   {
    "duration": 0,
    "start_time": "2023-02-16T20:05:00.023Z"
   },
   {
    "duration": 0,
    "start_time": "2023-02-16T20:05:00.024Z"
   },
   {
    "duration": 0,
    "start_time": "2023-02-16T20:05:00.024Z"
   },
   {
    "duration": 0,
    "start_time": "2023-02-16T20:05:00.025Z"
   },
   {
    "duration": 0,
    "start_time": "2023-02-16T20:05:00.027Z"
   },
   {
    "duration": 0,
    "start_time": "2023-02-16T20:05:00.028Z"
   },
   {
    "duration": 0,
    "start_time": "2023-02-16T20:05:00.029Z"
   },
   {
    "duration": 0,
    "start_time": "2023-02-16T20:05:00.049Z"
   },
   {
    "duration": 0,
    "start_time": "2023-02-16T20:05:00.050Z"
   },
   {
    "duration": 0,
    "start_time": "2023-02-16T20:05:00.051Z"
   },
   {
    "duration": 0,
    "start_time": "2023-02-16T20:05:00.051Z"
   },
   {
    "duration": 0,
    "start_time": "2023-02-16T20:05:00.052Z"
   },
   {
    "duration": 0,
    "start_time": "2023-02-16T20:05:00.053Z"
   },
   {
    "duration": 0,
    "start_time": "2023-02-16T20:05:00.054Z"
   },
   {
    "duration": 0,
    "start_time": "2023-02-16T20:05:00.055Z"
   },
   {
    "duration": 0,
    "start_time": "2023-02-16T20:05:00.056Z"
   },
   {
    "duration": 0,
    "start_time": "2023-02-16T20:05:00.057Z"
   },
   {
    "duration": 0,
    "start_time": "2023-02-16T20:05:00.058Z"
   },
   {
    "duration": 0,
    "start_time": "2023-02-16T20:05:00.059Z"
   },
   {
    "duration": 0,
    "start_time": "2023-02-16T20:05:00.066Z"
   },
   {
    "duration": 0,
    "start_time": "2023-02-16T20:05:00.067Z"
   },
   {
    "duration": 0,
    "start_time": "2023-02-16T20:05:00.067Z"
   },
   {
    "duration": 0,
    "start_time": "2023-02-16T20:05:00.068Z"
   },
   {
    "duration": 0,
    "start_time": "2023-02-16T20:05:00.069Z"
   },
   {
    "duration": 0,
    "start_time": "2023-02-16T20:05:00.069Z"
   },
   {
    "duration": 0,
    "start_time": "2023-02-16T20:05:00.070Z"
   },
   {
    "duration": 0,
    "start_time": "2023-02-16T20:05:00.072Z"
   },
   {
    "duration": 0,
    "start_time": "2023-02-16T20:05:00.074Z"
   },
   {
    "duration": 0,
    "start_time": "2023-02-16T20:05:00.075Z"
   },
   {
    "duration": 0,
    "start_time": "2023-02-16T20:05:00.077Z"
   },
   {
    "duration": 0,
    "start_time": "2023-02-16T20:05:00.078Z"
   },
   {
    "duration": 0,
    "start_time": "2023-02-16T20:05:00.081Z"
   },
   {
    "duration": 0,
    "start_time": "2023-02-16T20:05:00.082Z"
   },
   {
    "duration": 0,
    "start_time": "2023-02-16T20:05:00.083Z"
   },
   {
    "duration": 0,
    "start_time": "2023-02-16T20:05:00.086Z"
   },
   {
    "duration": 1,
    "start_time": "2023-02-16T20:05:00.089Z"
   },
   {
    "duration": 0,
    "start_time": "2023-02-16T20:05:00.091Z"
   },
   {
    "duration": 0,
    "start_time": "2023-02-16T20:05:00.092Z"
   },
   {
    "duration": 0,
    "start_time": "2023-02-16T20:05:00.093Z"
   },
   {
    "duration": 0,
    "start_time": "2023-02-16T20:05:00.094Z"
   },
   {
    "duration": 0,
    "start_time": "2023-02-16T20:05:00.095Z"
   },
   {
    "duration": 0,
    "start_time": "2023-02-16T20:05:00.096Z"
   },
   {
    "duration": 0,
    "start_time": "2023-02-16T20:05:00.150Z"
   },
   {
    "duration": 0,
    "start_time": "2023-02-16T20:05:00.151Z"
   },
   {
    "duration": 0,
    "start_time": "2023-02-16T20:05:00.152Z"
   },
   {
    "duration": 0,
    "start_time": "2023-02-16T20:05:00.153Z"
   },
   {
    "duration": 1,
    "start_time": "2023-02-16T20:05:00.154Z"
   },
   {
    "duration": 5,
    "start_time": "2023-02-16T20:05:16.210Z"
   },
   {
    "duration": 56,
    "start_time": "2023-02-16T20:05:16.218Z"
   },
   {
    "duration": 24,
    "start_time": "2023-02-16T20:05:16.277Z"
   },
   {
    "duration": 37,
    "start_time": "2023-02-16T20:05:16.305Z"
   },
   {
    "duration": 15,
    "start_time": "2023-02-16T20:05:16.344Z"
   },
   {
    "duration": 32,
    "start_time": "2023-02-16T20:05:16.361Z"
   },
   {
    "duration": 14,
    "start_time": "2023-02-16T20:05:16.395Z"
   },
   {
    "duration": 71,
    "start_time": "2023-02-16T20:05:16.411Z"
   },
   {
    "duration": 5,
    "start_time": "2023-02-16T20:05:16.485Z"
   },
   {
    "duration": 22,
    "start_time": "2023-02-16T20:05:16.495Z"
   },
   {
    "duration": 13,
    "start_time": "2023-02-16T20:05:16.520Z"
   },
   {
    "duration": 15108,
    "start_time": "2023-02-16T20:05:16.535Z"
   },
   {
    "duration": 31,
    "start_time": "2023-02-16T20:05:31.646Z"
   },
   {
    "duration": 15,
    "start_time": "2023-02-16T20:05:31.679Z"
   },
   {
    "duration": 16,
    "start_time": "2023-02-16T20:05:31.696Z"
   },
   {
    "duration": 6,
    "start_time": "2023-02-16T20:05:31.714Z"
   },
   {
    "duration": 7,
    "start_time": "2023-02-16T20:05:31.722Z"
   },
   {
    "duration": 25,
    "start_time": "2023-02-16T20:05:31.731Z"
   },
   {
    "duration": 159,
    "start_time": "2023-02-16T20:05:31.757Z"
   },
   {
    "duration": 19,
    "start_time": "2023-02-16T20:05:31.918Z"
   },
   {
    "duration": 34,
    "start_time": "2023-02-16T20:05:31.940Z"
   },
   {
    "duration": 6,
    "start_time": "2023-02-16T20:05:31.977Z"
   },
   {
    "duration": 282,
    "start_time": "2023-02-16T20:05:31.985Z"
   },
   {
    "duration": 508,
    "start_time": "2023-02-16T20:05:32.272Z"
   },
   {
    "duration": 39638,
    "start_time": "2023-02-16T20:05:32.782Z"
   },
   {
    "duration": 132,
    "start_time": "2023-02-16T20:06:12.422Z"
   },
   {
    "duration": 5,
    "start_time": "2023-02-16T20:06:12.556Z"
   },
   {
    "duration": 199,
    "start_time": "2023-02-16T20:06:12.566Z"
   },
   {
    "duration": 56073,
    "start_time": "2023-02-16T20:06:12.767Z"
   },
   {
    "duration": 37,
    "start_time": "2023-02-16T20:07:08.842Z"
   },
   {
    "duration": 116,
    "start_time": "2023-02-16T20:07:08.956Z"
   },
   {
    "duration": 16,
    "start_time": "2023-02-16T20:07:09.074Z"
   },
   {
    "duration": 151,
    "start_time": "2023-02-16T20:07:09.091Z"
   },
   {
    "duration": 107878,
    "start_time": "2023-02-16T20:07:09.244Z"
   },
   {
    "duration": 141,
    "start_time": "2023-02-16T20:08:57.124Z"
   },
   {
    "duration": 7,
    "start_time": "2023-02-16T20:08:57.350Z"
   },
   {
    "duration": 32,
    "start_time": "2023-02-16T20:08:57.359Z"
   },
   {
    "duration": 84,
    "start_time": "2023-02-16T20:08:57.394Z"
   },
   {
    "duration": 25244,
    "start_time": "2023-02-16T20:08:57.480Z"
   },
   {
    "duration": 46,
    "start_time": "2023-02-16T20:09:22.726Z"
   },
   {
    "duration": 288,
    "start_time": "2023-02-16T20:09:22.856Z"
   },
   {
    "duration": 26817,
    "start_time": "2023-02-16T20:09:23.148Z"
   },
   {
    "duration": 7,
    "start_time": "2023-02-16T20:09:49.967Z"
   },
   {
    "duration": 17,
    "start_time": "2023-02-16T20:09:49.976Z"
   },
   {
    "duration": 0,
    "start_time": "2023-02-16T20:09:49.994Z"
   },
   {
    "duration": 0,
    "start_time": "2023-02-16T20:09:49.996Z"
   },
   {
    "duration": 0,
    "start_time": "2023-02-16T20:09:49.997Z"
   },
   {
    "duration": 91,
    "start_time": "2023-02-16T20:15:37.378Z"
   },
   {
    "duration": 320,
    "start_time": "2023-02-16T20:15:54.877Z"
   },
   {
    "duration": 265,
    "start_time": "2023-02-16T20:16:03.323Z"
   },
   {
    "duration": 55,
    "start_time": "2023-02-16T20:20:34.069Z"
   },
   {
    "duration": 15,
    "start_time": "2023-02-16T20:20:34.263Z"
   },
   {
    "duration": 1544,
    "start_time": "2023-02-16T20:34:34.278Z"
   },
   {
    "duration": 64,
    "start_time": "2023-02-16T20:34:35.824Z"
   },
   {
    "duration": 19,
    "start_time": "2023-02-16T20:34:35.890Z"
   },
   {
    "duration": 15,
    "start_time": "2023-02-16T20:34:35.911Z"
   },
   {
    "duration": 12,
    "start_time": "2023-02-16T20:34:35.929Z"
   },
   {
    "duration": 10,
    "start_time": "2023-02-16T20:34:35.948Z"
   },
   {
    "duration": 27,
    "start_time": "2023-02-16T20:34:35.962Z"
   },
   {
    "duration": 41,
    "start_time": "2023-02-16T20:34:35.990Z"
   },
   {
    "duration": 5,
    "start_time": "2023-02-16T20:34:36.032Z"
   },
   {
    "duration": 37,
    "start_time": "2023-02-16T20:34:36.038Z"
   },
   {
    "duration": 9,
    "start_time": "2023-02-16T20:34:36.078Z"
   },
   {
    "duration": 15900,
    "start_time": "2023-02-16T20:34:36.089Z"
   },
   {
    "duration": 19,
    "start_time": "2023-02-16T20:34:51.991Z"
   },
   {
    "duration": 17,
    "start_time": "2023-02-16T20:34:52.015Z"
   },
   {
    "duration": 19,
    "start_time": "2023-02-16T20:34:52.034Z"
   },
   {
    "duration": 38,
    "start_time": "2023-02-16T20:34:52.055Z"
   },
   {
    "duration": 9,
    "start_time": "2023-02-16T20:34:52.095Z"
   },
   {
    "duration": 12,
    "start_time": "2023-02-16T20:34:52.106Z"
   },
   {
    "duration": 165,
    "start_time": "2023-02-16T20:34:52.120Z"
   },
   {
    "duration": 21,
    "start_time": "2023-02-16T20:34:52.290Z"
   },
   {
    "duration": 49,
    "start_time": "2023-02-16T20:34:52.313Z"
   },
   {
    "duration": 5,
    "start_time": "2023-02-16T20:34:52.364Z"
   },
   {
    "duration": 320,
    "start_time": "2023-02-16T20:34:52.374Z"
   },
   {
    "duration": 457,
    "start_time": "2023-02-16T20:34:52.748Z"
   },
   {
    "duration": 41240,
    "start_time": "2023-02-16T20:34:53.207Z"
   },
   {
    "duration": 40,
    "start_time": "2023-02-16T20:35:34.449Z"
   },
   {
    "duration": 200,
    "start_time": "2023-02-16T20:35:34.493Z"
   },
   {
    "duration": 167,
    "start_time": "2023-02-16T20:35:34.695Z"
   },
   {
    "duration": 58559,
    "start_time": "2023-02-16T20:35:34.870Z"
   },
   {
    "duration": 49,
    "start_time": "2023-02-16T20:36:33.431Z"
   },
   {
    "duration": 85,
    "start_time": "2023-02-16T20:36:33.482Z"
   },
   {
    "duration": 115,
    "start_time": "2023-02-16T20:36:33.575Z"
   },
   {
    "duration": 166,
    "start_time": "2023-02-16T20:36:33.692Z"
   },
   {
    "duration": 117803,
    "start_time": "2023-02-16T20:36:33.864Z"
   },
   {
    "duration": 93,
    "start_time": "2023-02-16T20:38:31.669Z"
   },
   {
    "duration": 78,
    "start_time": "2023-02-16T20:38:31.770Z"
   },
   {
    "duration": 42,
    "start_time": "2023-02-16T20:38:31.852Z"
   },
   {
    "duration": 90,
    "start_time": "2023-02-16T20:38:31.895Z"
   },
   {
    "duration": 27663,
    "start_time": "2023-02-16T20:38:31.987Z"
   },
   {
    "duration": 94,
    "start_time": "2023-02-16T20:38:59.656Z"
   },
   {
    "duration": 381,
    "start_time": "2023-02-16T20:38:59.762Z"
   },
   {
    "duration": 366,
    "start_time": "2023-02-16T20:39:00.149Z"
   },
   {
    "duration": 271,
    "start_time": "2023-02-16T20:39:00.517Z"
   },
   {
    "duration": 28495,
    "start_time": "2023-02-16T20:39:00.792Z"
   },
   {
    "duration": 7,
    "start_time": "2023-02-16T20:39:29.289Z"
   },
   {
    "duration": 160,
    "start_time": "2023-02-16T20:39:29.298Z"
   },
   {
    "duration": 0,
    "start_time": "2023-02-16T20:39:29.463Z"
   },
   {
    "duration": 0,
    "start_time": "2023-02-16T20:39:29.467Z"
   },
   {
    "duration": 0,
    "start_time": "2023-02-16T20:39:29.473Z"
   },
   {
    "duration": 91,
    "start_time": "2023-02-16T20:40:40.183Z"
   },
   {
    "duration": 313,
    "start_time": "2023-02-16T20:40:40.276Z"
   },
   {
    "duration": 274,
    "start_time": "2023-02-16T20:40:40.591Z"
   },
   {
    "duration": 83,
    "start_time": "2023-02-16T20:40:52.607Z"
   },
   {
    "duration": 324,
    "start_time": "2023-02-16T20:41:01.423Z"
   },
   {
    "duration": 285,
    "start_time": "2023-02-16T20:41:07.606Z"
   },
   {
    "duration": 29,
    "start_time": "2023-02-16T20:42:16.584Z"
   },
   {
    "duration": 40,
    "start_time": "2023-02-16T20:42:16.623Z"
   },
   {
    "duration": 9,
    "start_time": "2023-02-16T20:42:16.704Z"
   },
   {
    "duration": 13,
    "start_time": "2023-02-16T20:43:02.498Z"
   },
   {
    "duration": 30,
    "start_time": "2023-02-16T20:43:02.576Z"
   },
   {
    "duration": 3,
    "start_time": "2023-02-16T20:43:08.242Z"
   },
   {
    "duration": 13,
    "start_time": "2023-02-16T20:43:22.340Z"
   },
   {
    "duration": 30,
    "start_time": "2023-02-16T20:43:22.401Z"
   },
   {
    "duration": 4,
    "start_time": "2023-02-16T20:43:46.009Z"
   },
   {
    "duration": 8,
    "start_time": "2023-02-16T20:43:46.112Z"
   },
   {
    "duration": 7,
    "start_time": "2023-02-16T20:44:36.084Z"
   },
   {
    "duration": 7,
    "start_time": "2023-02-16T20:44:37.027Z"
   },
   {
    "duration": 1611,
    "start_time": "2023-02-16T20:45:10.033Z"
   },
   {
    "duration": 67,
    "start_time": "2023-02-16T20:45:11.646Z"
   },
   {
    "duration": 18,
    "start_time": "2023-02-16T20:45:11.714Z"
   },
   {
    "duration": 23,
    "start_time": "2023-02-16T20:45:11.735Z"
   },
   {
    "duration": 37,
    "start_time": "2023-02-16T20:45:11.762Z"
   },
   {
    "duration": 11,
    "start_time": "2023-02-16T20:45:11.801Z"
   },
   {
    "duration": 5,
    "start_time": "2023-02-16T20:45:11.814Z"
   },
   {
    "duration": 51,
    "start_time": "2023-02-16T20:45:11.820Z"
   },
   {
    "duration": 3,
    "start_time": "2023-02-16T20:45:11.872Z"
   },
   {
    "duration": 22,
    "start_time": "2023-02-16T20:45:11.879Z"
   },
   {
    "duration": 7,
    "start_time": "2023-02-16T20:45:11.904Z"
   },
   {
    "duration": 16679,
    "start_time": "2023-02-16T20:45:11.912Z"
   },
   {
    "duration": 20,
    "start_time": "2023-02-16T20:45:28.594Z"
   },
   {
    "duration": 13,
    "start_time": "2023-02-16T20:45:28.616Z"
   },
   {
    "duration": 6,
    "start_time": "2023-02-16T20:45:28.631Z"
   },
   {
    "duration": 17,
    "start_time": "2023-02-16T20:45:28.639Z"
   },
   {
    "duration": 46,
    "start_time": "2023-02-16T20:45:28.658Z"
   },
   {
    "duration": 4,
    "start_time": "2023-02-16T20:45:28.706Z"
   },
   {
    "duration": 193,
    "start_time": "2023-02-16T20:45:28.713Z"
   },
   {
    "duration": 20,
    "start_time": "2023-02-16T20:45:28.908Z"
   },
   {
    "duration": 61,
    "start_time": "2023-02-16T20:45:28.930Z"
   },
   {
    "duration": 4,
    "start_time": "2023-02-16T20:45:28.993Z"
   },
   {
    "duration": 290,
    "start_time": "2023-02-16T20:45:28.999Z"
   },
   {
    "duration": 525,
    "start_time": "2023-02-16T20:45:29.292Z"
   },
   {
    "duration": 43124,
    "start_time": "2023-02-16T20:45:29.818Z"
   },
   {
    "duration": 48,
    "start_time": "2023-02-16T20:46:12.944Z"
   },
   {
    "duration": 155,
    "start_time": "2023-02-16T20:46:12.999Z"
   },
   {
    "duration": 151,
    "start_time": "2023-02-16T20:46:13.161Z"
   },
   {
    "duration": 60385,
    "start_time": "2023-02-16T20:46:13.314Z"
   },
   {
    "duration": 172,
    "start_time": "2023-02-16T20:47:13.701Z"
   },
   {
    "duration": 8,
    "start_time": "2023-02-16T20:47:13.878Z"
   },
   {
    "duration": 38,
    "start_time": "2023-02-16T20:47:13.889Z"
   },
   {
    "duration": 192,
    "start_time": "2023-02-16T20:47:13.930Z"
   },
   {
    "duration": 120908,
    "start_time": "2023-02-16T20:47:14.124Z"
   },
   {
    "duration": 116,
    "start_time": "2023-02-16T20:49:15.035Z"
   },
   {
    "duration": 9,
    "start_time": "2023-02-16T20:49:15.154Z"
   },
   {
    "duration": 133,
    "start_time": "2023-02-16T20:49:15.165Z"
   },
   {
    "duration": 94,
    "start_time": "2023-02-16T20:49:15.300Z"
   },
   {
    "duration": 27692,
    "start_time": "2023-02-16T20:49:15.397Z"
   },
   {
    "duration": 65,
    "start_time": "2023-02-16T20:49:43.092Z"
   },
   {
    "duration": 173,
    "start_time": "2023-02-16T20:49:43.159Z"
   },
   {
    "duration": 342,
    "start_time": "2023-02-16T20:49:43.334Z"
   },
   {
    "duration": 292,
    "start_time": "2023-02-16T20:49:43.677Z"
   },
   {
    "duration": 29013,
    "start_time": "2023-02-16T20:49:43.977Z"
   },
   {
    "duration": 8,
    "start_time": "2023-02-16T20:50:12.992Z"
   },
   {
    "duration": 16,
    "start_time": "2023-02-16T20:50:13.002Z"
   },
   {
    "duration": 51,
    "start_time": "2023-02-16T20:50:13.021Z"
   },
   {
    "duration": 16,
    "start_time": "2023-02-16T20:50:13.078Z"
   },
   {
    "duration": 13,
    "start_time": "2023-02-16T20:50:13.096Z"
   },
   {
    "duration": 1482,
    "start_time": "2023-02-16T21:45:40.561Z"
   },
   {
    "duration": 58,
    "start_time": "2023-02-16T21:45:42.045Z"
   },
   {
    "duration": 17,
    "start_time": "2023-02-16T21:45:42.104Z"
   },
   {
    "duration": 14,
    "start_time": "2023-02-16T21:45:42.123Z"
   },
   {
    "duration": 24,
    "start_time": "2023-02-16T21:45:42.140Z"
   },
   {
    "duration": 13,
    "start_time": "2023-02-16T21:45:42.170Z"
   },
   {
    "duration": 9,
    "start_time": "2023-02-16T21:45:42.184Z"
   },
   {
    "duration": 42,
    "start_time": "2023-02-16T21:45:42.194Z"
   },
   {
    "duration": 4,
    "start_time": "2023-02-16T21:45:42.237Z"
   },
   {
    "duration": 21,
    "start_time": "2023-02-16T21:45:42.243Z"
   },
   {
    "duration": 10,
    "start_time": "2023-02-16T21:45:42.268Z"
   },
   {
    "duration": 1418,
    "start_time": "2023-02-16T21:45:42.279Z"
   },
   {
    "duration": 0,
    "start_time": "2023-02-16T21:45:43.701Z"
   },
   {
    "duration": 0,
    "start_time": "2023-02-16T21:45:43.703Z"
   },
   {
    "duration": 0,
    "start_time": "2023-02-16T21:45:43.704Z"
   },
   {
    "duration": 0,
    "start_time": "2023-02-16T21:45:43.706Z"
   },
   {
    "duration": 0,
    "start_time": "2023-02-16T21:45:43.708Z"
   },
   {
    "duration": 0,
    "start_time": "2023-02-16T21:45:43.709Z"
   },
   {
    "duration": 0,
    "start_time": "2023-02-16T21:45:43.711Z"
   },
   {
    "duration": 0,
    "start_time": "2023-02-16T21:45:43.712Z"
   },
   {
    "duration": 0,
    "start_time": "2023-02-16T21:45:43.714Z"
   },
   {
    "duration": 0,
    "start_time": "2023-02-16T21:45:43.715Z"
   },
   {
    "duration": 0,
    "start_time": "2023-02-16T21:45:43.716Z"
   },
   {
    "duration": 0,
    "start_time": "2023-02-16T21:45:43.718Z"
   },
   {
    "duration": 0,
    "start_time": "2023-02-16T21:45:43.719Z"
   },
   {
    "duration": 0,
    "start_time": "2023-02-16T21:45:43.720Z"
   },
   {
    "duration": 0,
    "start_time": "2023-02-16T21:45:43.722Z"
   },
   {
    "duration": 0,
    "start_time": "2023-02-16T21:45:43.723Z"
   },
   {
    "duration": 0,
    "start_time": "2023-02-16T21:45:43.724Z"
   },
   {
    "duration": 0,
    "start_time": "2023-02-16T21:45:43.725Z"
   },
   {
    "duration": 0,
    "start_time": "2023-02-16T21:45:43.726Z"
   },
   {
    "duration": 0,
    "start_time": "2023-02-16T21:45:43.728Z"
   },
   {
    "duration": 0,
    "start_time": "2023-02-16T21:45:43.729Z"
   },
   {
    "duration": 0,
    "start_time": "2023-02-16T21:45:43.730Z"
   },
   {
    "duration": 0,
    "start_time": "2023-02-16T21:45:43.732Z"
   },
   {
    "duration": 0,
    "start_time": "2023-02-16T21:45:43.733Z"
   },
   {
    "duration": 0,
    "start_time": "2023-02-16T21:45:43.735Z"
   },
   {
    "duration": 0,
    "start_time": "2023-02-16T21:45:43.749Z"
   },
   {
    "duration": 0,
    "start_time": "2023-02-16T21:45:43.750Z"
   },
   {
    "duration": 1,
    "start_time": "2023-02-16T21:45:43.756Z"
   },
   {
    "duration": 0,
    "start_time": "2023-02-16T21:45:43.758Z"
   },
   {
    "duration": 0,
    "start_time": "2023-02-16T21:45:43.758Z"
   },
   {
    "duration": 0,
    "start_time": "2023-02-16T21:45:43.759Z"
   },
   {
    "duration": 0,
    "start_time": "2023-02-16T21:45:43.761Z"
   },
   {
    "duration": 0,
    "start_time": "2023-02-16T21:45:43.762Z"
   },
   {
    "duration": 0,
    "start_time": "2023-02-16T21:45:43.764Z"
   },
   {
    "duration": 0,
    "start_time": "2023-02-16T21:45:43.765Z"
   },
   {
    "duration": 0,
    "start_time": "2023-02-16T21:45:43.765Z"
   },
   {
    "duration": 1,
    "start_time": "2023-02-16T21:45:43.766Z"
   },
   {
    "duration": 0,
    "start_time": "2023-02-16T21:45:43.770Z"
   },
   {
    "duration": 7,
    "start_time": "2023-02-16T21:47:13.366Z"
   },
   {
    "duration": 29645,
    "start_time": "2023-02-16T21:47:13.476Z"
   },
   {
    "duration": 25,
    "start_time": "2023-02-16T21:47:43.123Z"
   },
   {
    "duration": 21,
    "start_time": "2023-02-16T21:47:43.149Z"
   },
   {
    "duration": 9,
    "start_time": "2023-02-16T21:47:43.173Z"
   },
   {
    "duration": 8,
    "start_time": "2023-02-16T21:47:43.184Z"
   },
   {
    "duration": 6,
    "start_time": "2023-02-16T21:47:43.194Z"
   },
   {
    "duration": 6,
    "start_time": "2023-02-16T21:47:43.202Z"
   },
   {
    "duration": 170,
    "start_time": "2023-02-16T21:47:43.210Z"
   },
   {
    "duration": 35,
    "start_time": "2023-02-16T21:47:43.382Z"
   },
   {
    "duration": 56,
    "start_time": "2023-02-16T21:47:43.422Z"
   },
   {
    "duration": 7,
    "start_time": "2023-02-16T21:47:43.480Z"
   },
   {
    "duration": 377,
    "start_time": "2023-02-16T21:47:43.489Z"
   },
   {
    "duration": 487,
    "start_time": "2023-02-16T21:47:43.868Z"
   },
   {
    "duration": 41707,
    "start_time": "2023-02-16T21:47:44.360Z"
   },
   {
    "duration": 89,
    "start_time": "2023-02-16T21:48:26.068Z"
   },
   {
    "duration": 8,
    "start_time": "2023-02-16T21:48:26.160Z"
   },
   {
    "duration": 274,
    "start_time": "2023-02-16T21:48:26.173Z"
   },
   {
    "duration": 57956,
    "start_time": "2023-02-16T21:48:26.451Z"
   },
   {
    "duration": 154,
    "start_time": "2023-02-16T21:49:24.409Z"
   },
   {
    "duration": 8,
    "start_time": "2023-02-16T21:49:24.571Z"
   },
   {
    "duration": 70,
    "start_time": "2023-02-16T21:49:24.581Z"
   },
   {
    "duration": 182,
    "start_time": "2023-02-16T21:49:24.657Z"
   },
   {
    "duration": 114423,
    "start_time": "2023-02-16T21:49:24.842Z"
   },
   {
    "duration": 96,
    "start_time": "2023-02-16T21:51:19.267Z"
   },
   {
    "duration": 86,
    "start_time": "2023-02-16T21:51:19.365Z"
   },
   {
    "duration": 28,
    "start_time": "2023-02-16T21:51:19.455Z"
   },
   {
    "duration": 93,
    "start_time": "2023-02-16T21:51:19.484Z"
   },
   {
    "duration": 25740,
    "start_time": "2023-02-16T21:51:19.580Z"
   },
   {
    "duration": 35,
    "start_time": "2023-02-16T21:51:45.322Z"
   },
   {
    "duration": 209,
    "start_time": "2023-02-16T21:51:45.359Z"
   },
   {
    "duration": 312,
    "start_time": "2023-02-16T21:51:45.570Z"
   },
   {
    "duration": 261,
    "start_time": "2023-02-16T21:51:45.884Z"
   },
   {
    "duration": 27091,
    "start_time": "2023-02-16T21:51:46.148Z"
   },
   {
    "duration": 16,
    "start_time": "2023-02-16T21:52:13.241Z"
   },
   {
    "duration": 18,
    "start_time": "2023-02-16T21:52:13.261Z"
   },
   {
    "duration": 26,
    "start_time": "2023-02-16T21:52:13.281Z"
   },
   {
    "duration": 5,
    "start_time": "2023-02-16T21:52:13.309Z"
   },
   {
    "duration": 15,
    "start_time": "2023-02-16T21:52:13.316Z"
   },
   {
    "duration": 303,
    "start_time": "2023-02-16T21:52:35.309Z"
   },
   {
    "duration": 27107,
    "start_time": "2023-02-16T21:52:35.614Z"
   },
   {
    "duration": 406,
    "start_time": "2023-02-16T21:54:19.062Z"
   },
   {
    "duration": 283,
    "start_time": "2023-02-16T21:54:27.612Z"
   },
   {
    "duration": 289,
    "start_time": "2023-02-16T21:59:09.583Z"
   },
   {
    "duration": 376,
    "start_time": "2023-02-16T21:59:09.874Z"
   },
   {
    "duration": 348,
    "start_time": "2023-02-16T21:59:20.231Z"
   },
   {
    "duration": 268,
    "start_time": "2023-02-16T21:59:20.581Z"
   },
   {
    "duration": 296,
    "start_time": "2023-02-16T21:59:51.145Z"
   },
   {
    "duration": 345,
    "start_time": "2023-02-16T21:59:51.443Z"
   },
   {
    "duration": 269,
    "start_time": "2023-02-16T22:00:06.570Z"
   },
   {
    "duration": 1437,
    "start_time": "2023-02-16T22:10:06.601Z"
   },
   {
    "duration": 66,
    "start_time": "2023-02-16T22:10:08.040Z"
   },
   {
    "duration": 20,
    "start_time": "2023-02-16T22:10:08.107Z"
   },
   {
    "duration": 14,
    "start_time": "2023-02-16T22:10:08.128Z"
   },
   {
    "duration": 17,
    "start_time": "2023-02-16T22:10:08.144Z"
   },
   {
    "duration": 28,
    "start_time": "2023-02-16T22:10:08.163Z"
   },
   {
    "duration": 5,
    "start_time": "2023-02-16T22:10:08.193Z"
   },
   {
    "duration": 39,
    "start_time": "2023-02-16T22:10:08.200Z"
   },
   {
    "duration": 11,
    "start_time": "2023-02-16T22:10:08.242Z"
   },
   {
    "duration": 32,
    "start_time": "2023-02-16T22:10:08.255Z"
   },
   {
    "duration": 4,
    "start_time": "2023-02-16T22:10:08.289Z"
   },
   {
    "duration": 6,
    "start_time": "2023-02-16T22:10:08.295Z"
   },
   {
    "duration": 30485,
    "start_time": "2023-02-16T22:10:08.303Z"
   },
   {
    "duration": 20,
    "start_time": "2023-02-16T22:10:38.791Z"
   },
   {
    "duration": 11,
    "start_time": "2023-02-16T22:10:38.813Z"
   },
   {
    "duration": 4,
    "start_time": "2023-02-16T22:10:38.827Z"
   },
   {
    "duration": 8,
    "start_time": "2023-02-16T22:10:38.833Z"
   },
   {
    "duration": 23,
    "start_time": "2023-02-16T22:10:38.843Z"
   },
   {
    "duration": 14,
    "start_time": "2023-02-16T22:10:38.873Z"
   },
   {
    "duration": 141,
    "start_time": "2023-02-16T22:10:38.889Z"
   },
   {
    "duration": 31,
    "start_time": "2023-02-16T22:10:39.032Z"
   },
   {
    "duration": 39,
    "start_time": "2023-02-16T22:10:39.065Z"
   },
   {
    "duration": 6,
    "start_time": "2023-02-16T22:10:39.106Z"
   },
   {
    "duration": 362,
    "start_time": "2023-02-16T22:10:39.114Z"
   },
   {
    "duration": 432,
    "start_time": "2023-02-16T22:10:39.548Z"
   },
   {
    "duration": 42819,
    "start_time": "2023-02-16T22:10:39.984Z"
   },
   {
    "duration": 51,
    "start_time": "2023-02-16T22:11:22.805Z"
   },
   {
    "duration": 103,
    "start_time": "2023-02-16T22:11:22.858Z"
   },
   {
    "duration": 170,
    "start_time": "2023-02-16T22:11:22.963Z"
   },
   {
    "duration": 60056,
    "start_time": "2023-02-16T22:11:23.135Z"
   },
   {
    "duration": 87,
    "start_time": "2023-02-16T22:12:23.197Z"
   },
   {
    "duration": 66,
    "start_time": "2023-02-16T22:12:23.289Z"
   },
   {
    "duration": 51,
    "start_time": "2023-02-16T22:12:23.359Z"
   },
   {
    "duration": 246,
    "start_time": "2023-02-16T22:12:23.413Z"
   },
   {
    "duration": 118705,
    "start_time": "2023-02-16T22:12:23.667Z"
   },
   {
    "duration": 77,
    "start_time": "2023-02-16T22:14:22.383Z"
   },
   {
    "duration": 8,
    "start_time": "2023-02-16T22:14:22.462Z"
   },
   {
    "duration": 122,
    "start_time": "2023-02-16T22:14:22.474Z"
   },
   {
    "duration": 96,
    "start_time": "2023-02-16T22:14:22.598Z"
   },
   {
    "duration": 26776,
    "start_time": "2023-02-16T22:14:22.697Z"
   },
   {
    "duration": 170,
    "start_time": "2023-02-16T22:14:49.484Z"
   },
   {
    "duration": 330,
    "start_time": "2023-02-16T22:14:49.662Z"
   },
   {
    "duration": 368,
    "start_time": "2023-02-16T22:14:49.995Z"
   },
   {
    "duration": 262,
    "start_time": "2023-02-16T22:14:50.367Z"
   },
   {
    "duration": 6,
    "start_time": "2023-02-16T22:14:50.631Z"
   },
   {
    "duration": 15,
    "start_time": "2023-02-16T22:14:50.639Z"
   },
   {
    "duration": 61,
    "start_time": "2023-02-16T22:14:50.656Z"
   },
   {
    "duration": 187,
    "start_time": "2023-02-16T22:14:50.718Z"
   },
   {
    "duration": 4,
    "start_time": "2023-02-16T22:14:50.907Z"
   },
   {
    "duration": 20,
    "start_time": "2023-02-16T22:14:50.912Z"
   },
   {
    "duration": 11,
    "start_time": "2023-02-16T22:17:11.831Z"
   },
   {
    "duration": 10,
    "start_time": "2023-02-16T22:17:14.182Z"
   },
   {
    "duration": 45,
    "start_time": "2023-02-16T22:17:18.377Z"
   },
   {
    "duration": 5,
    "start_time": "2023-02-16T22:19:29.579Z"
   },
   {
    "duration": 9,
    "start_time": "2023-02-16T22:19:31.273Z"
   },
   {
    "duration": 1574,
    "start_time": "2023-02-18T10:50:38.108Z"
   },
   {
    "duration": 3,
    "start_time": "2023-02-18T10:50:39.685Z"
   },
   {
    "duration": 86,
    "start_time": "2023-02-18T10:50:39.690Z"
   },
   {
    "duration": 16,
    "start_time": "2023-02-18T10:50:39.778Z"
   },
   {
    "duration": 14,
    "start_time": "2023-02-18T10:50:39.796Z"
   },
   {
    "duration": 16,
    "start_time": "2023-02-18T10:50:39.812Z"
   },
   {
    "duration": 7,
    "start_time": "2023-02-18T10:50:39.830Z"
   },
   {
    "duration": 8,
    "start_time": "2023-02-18T10:50:39.839Z"
   },
   {
    "duration": 41,
    "start_time": "2023-02-18T10:50:39.848Z"
   },
   {
    "duration": 4,
    "start_time": "2023-02-18T10:50:39.891Z"
   },
   {
    "duration": 15,
    "start_time": "2023-02-18T10:50:39.897Z"
   },
   {
    "duration": 23,
    "start_time": "2023-02-18T10:50:39.914Z"
   },
   {
    "duration": 6,
    "start_time": "2023-02-18T10:50:39.940Z"
   },
   {
    "duration": 5,
    "start_time": "2023-02-18T10:50:39.950Z"
   },
   {
    "duration": 113,
    "start_time": "2023-02-18T10:50:39.957Z"
   },
   {
    "duration": 0,
    "start_time": "2023-02-18T10:50:40.072Z"
   },
   {
    "duration": 0,
    "start_time": "2023-02-18T10:50:40.073Z"
   },
   {
    "duration": 0,
    "start_time": "2023-02-18T10:50:40.073Z"
   },
   {
    "duration": 0,
    "start_time": "2023-02-18T10:50:40.075Z"
   },
   {
    "duration": 0,
    "start_time": "2023-02-18T10:50:40.075Z"
   },
   {
    "duration": 0,
    "start_time": "2023-02-18T10:50:40.077Z"
   },
   {
    "duration": 0,
    "start_time": "2023-02-18T10:50:40.078Z"
   },
   {
    "duration": 0,
    "start_time": "2023-02-18T10:50:40.079Z"
   },
   {
    "duration": 0,
    "start_time": "2023-02-18T10:50:40.080Z"
   },
   {
    "duration": 0,
    "start_time": "2023-02-18T10:50:40.081Z"
   },
   {
    "duration": 0,
    "start_time": "2023-02-18T10:50:40.082Z"
   },
   {
    "duration": 0,
    "start_time": "2023-02-18T10:50:40.084Z"
   },
   {
    "duration": 0,
    "start_time": "2023-02-18T10:50:40.085Z"
   },
   {
    "duration": 0,
    "start_time": "2023-02-18T10:50:40.087Z"
   },
   {
    "duration": 0,
    "start_time": "2023-02-18T10:50:40.088Z"
   },
   {
    "duration": 0,
    "start_time": "2023-02-18T10:50:40.089Z"
   },
   {
    "duration": 0,
    "start_time": "2023-02-18T10:50:40.091Z"
   },
   {
    "duration": 0,
    "start_time": "2023-02-18T10:50:40.092Z"
   },
   {
    "duration": 0,
    "start_time": "2023-02-18T10:50:40.093Z"
   },
   {
    "duration": 0,
    "start_time": "2023-02-18T10:50:40.138Z"
   },
   {
    "duration": 0,
    "start_time": "2023-02-18T10:50:40.139Z"
   },
   {
    "duration": 0,
    "start_time": "2023-02-18T10:50:40.140Z"
   },
   {
    "duration": 0,
    "start_time": "2023-02-18T10:50:40.142Z"
   },
   {
    "duration": 0,
    "start_time": "2023-02-18T10:50:40.143Z"
   },
   {
    "duration": 0,
    "start_time": "2023-02-18T10:50:40.145Z"
   },
   {
    "duration": 0,
    "start_time": "2023-02-18T10:50:40.146Z"
   },
   {
    "duration": 0,
    "start_time": "2023-02-18T10:50:40.147Z"
   },
   {
    "duration": 0,
    "start_time": "2023-02-18T10:50:40.149Z"
   },
   {
    "duration": 0,
    "start_time": "2023-02-18T10:50:40.150Z"
   },
   {
    "duration": 0,
    "start_time": "2023-02-18T10:50:40.151Z"
   },
   {
    "duration": 0,
    "start_time": "2023-02-18T10:50:40.153Z"
   },
   {
    "duration": 0,
    "start_time": "2023-02-18T10:50:40.154Z"
   },
   {
    "duration": 0,
    "start_time": "2023-02-18T10:50:40.155Z"
   },
   {
    "duration": 0,
    "start_time": "2023-02-18T10:50:40.157Z"
   },
   {
    "duration": 0,
    "start_time": "2023-02-18T10:50:40.158Z"
   },
   {
    "duration": 1,
    "start_time": "2023-02-18T10:50:40.159Z"
   },
   {
    "duration": 693,
    "start_time": "2023-02-18T10:51:05.440Z"
   },
   {
    "duration": 12,
    "start_time": "2023-02-18T10:52:17.221Z"
   },
   {
    "duration": 658,
    "start_time": "2023-02-18T10:53:13.756Z"
   },
   {
    "duration": 14,
    "start_time": "2023-02-18T10:54:24.762Z"
   },
   {
    "duration": 1322,
    "start_time": "2023-02-18T11:22:02.528Z"
   },
   {
    "duration": 2,
    "start_time": "2023-02-18T11:22:03.852Z"
   },
   {
    "duration": 40,
    "start_time": "2023-02-18T11:22:03.856Z"
   },
   {
    "duration": 21,
    "start_time": "2023-02-18T11:22:03.897Z"
   },
   {
    "duration": 15,
    "start_time": "2023-02-18T11:22:03.920Z"
   },
   {
    "duration": 10,
    "start_time": "2023-02-18T11:22:03.936Z"
   },
   {
    "duration": 7,
    "start_time": "2023-02-18T11:22:03.948Z"
   },
   {
    "duration": 4,
    "start_time": "2023-02-18T11:22:03.956Z"
   },
   {
    "duration": 39,
    "start_time": "2023-02-18T11:22:03.961Z"
   },
   {
    "duration": 4,
    "start_time": "2023-02-18T11:22:04.002Z"
   },
   {
    "duration": 36,
    "start_time": "2023-02-18T11:22:04.008Z"
   },
   {
    "duration": 3,
    "start_time": "2023-02-18T11:22:04.046Z"
   },
   {
    "duration": 6,
    "start_time": "2023-02-18T11:22:04.051Z"
   },
   {
    "duration": 5,
    "start_time": "2023-02-18T11:22:04.059Z"
   },
   {
    "duration": 119,
    "start_time": "2023-02-18T11:22:04.065Z"
   },
   {
    "duration": 760,
    "start_time": "2023-02-18T11:23:17.632Z"
   },
   {
    "duration": 11,
    "start_time": "2023-02-18T11:23:23.657Z"
   },
   {
    "duration": 4472,
    "start_time": "2023-02-18T11:23:55.824Z"
   },
   {
    "duration": 8,
    "start_time": "2023-02-18T11:27:29.052Z"
   },
   {
    "duration": 4286,
    "start_time": "2023-02-18T11:27:32.206Z"
   },
   {
    "duration": 8,
    "start_time": "2023-02-18T11:34:34.306Z"
   },
   {
    "duration": 4482,
    "start_time": "2023-02-18T11:34:58.426Z"
   },
   {
    "duration": 10,
    "start_time": "2023-02-18T12:03:12.240Z"
   },
   {
    "duration": 6,
    "start_time": "2023-02-18T12:03:27.301Z"
   },
   {
    "duration": 5,
    "start_time": "2023-02-18T12:31:28.881Z"
   },
   {
    "duration": 5,
    "start_time": "2023-02-18T17:37:19.833Z"
   },
   {
    "duration": 6,
    "start_time": "2023-02-18T17:37:19.840Z"
   },
   {
    "duration": 37,
    "start_time": "2023-02-18T17:37:19.848Z"
   },
   {
    "duration": 13,
    "start_time": "2023-02-18T17:37:19.932Z"
   },
   {
    "duration": 125,
    "start_time": "2023-02-18T17:37:19.946Z"
   },
   {
    "duration": 14,
    "start_time": "2023-02-18T17:37:20.073Z"
   },
   {
    "duration": 30,
    "start_time": "2023-02-18T17:37:20.089Z"
   },
   {
    "duration": 18,
    "start_time": "2023-02-18T17:37:20.121Z"
   },
   {
    "duration": 203,
    "start_time": "2023-02-18T17:37:20.141Z"
   },
   {
    "duration": 4,
    "start_time": "2023-02-18T17:37:20.346Z"
   },
   {
    "duration": 18,
    "start_time": "2023-02-18T17:37:20.352Z"
   },
   {
    "duration": 76,
    "start_time": "2023-02-18T17:37:20.371Z"
   },
   {
    "duration": 4,
    "start_time": "2023-02-18T17:37:20.449Z"
   },
   {
    "duration": 19,
    "start_time": "2023-02-18T17:37:20.455Z"
   },
   {
    "duration": 15,
    "start_time": "2023-02-18T17:37:20.476Z"
   },
   {
    "duration": 11,
    "start_time": "2023-02-18T17:37:20.492Z"
   },
   {
    "duration": 6,
    "start_time": "2023-02-18T17:37:20.507Z"
   },
   {
    "duration": 23,
    "start_time": "2023-02-18T17:37:20.514Z"
   },
   {
    "duration": 4863,
    "start_time": "2023-02-18T17:37:20.540Z"
   },
   {
    "duration": 17,
    "start_time": "2023-02-18T17:37:25.405Z"
   },
   {
    "duration": 23,
    "start_time": "2023-02-18T17:37:25.423Z"
   },
   {
    "duration": 4,
    "start_time": "2023-02-18T17:37:25.448Z"
   },
   {
    "duration": 12,
    "start_time": "2023-02-18T17:37:25.454Z"
   },
   {
    "duration": 6,
    "start_time": "2023-02-18T17:37:25.468Z"
   },
   {
    "duration": 10,
    "start_time": "2023-02-18T17:37:25.475Z"
   },
   {
    "duration": 153,
    "start_time": "2023-02-18T17:37:25.487Z"
   },
   {
    "duration": 23,
    "start_time": "2023-02-18T17:37:25.641Z"
   },
   {
    "duration": 31,
    "start_time": "2023-02-18T17:37:25.666Z"
   },
   {
    "duration": 2,
    "start_time": "2023-02-18T17:37:25.699Z"
   },
   {
    "duration": 11,
    "start_time": "2023-02-18T17:37:25.703Z"
   },
   {
    "duration": 386,
    "start_time": "2023-02-18T17:37:25.716Z"
   },
   {
    "duration": 119291,
    "start_time": "2023-02-18T17:37:26.104Z"
   },
   {
    "duration": 19,
    "start_time": "2023-02-18T17:39:25.397Z"
   },
   {
    "duration": 4,
    "start_time": "2023-02-18T17:39:25.438Z"
   },
   {
    "duration": 254,
    "start_time": "2023-02-18T17:39:25.444Z"
   },
   {
    "duration": 51009,
    "start_time": "2023-02-18T17:39:25.700Z"
   },
   {
    "duration": 36,
    "start_time": "2023-02-18T17:40:16.711Z"
   },
   {
    "duration": 93,
    "start_time": "2023-02-18T17:40:16.748Z"
   },
   {
    "duration": 101,
    "start_time": "2023-02-18T17:40:16.843Z"
   },
   {
    "duration": 192,
    "start_time": "2023-02-18T17:40:16.946Z"
   },
   {
    "duration": 98374,
    "start_time": "2023-02-18T17:40:17.140Z"
   },
   {
    "duration": 36,
    "start_time": "2023-02-18T17:41:55.516Z"
   },
   {
    "duration": 84,
    "start_time": "2023-02-18T17:41:55.554Z"
   },
   {
    "duration": 108,
    "start_time": "2023-02-18T17:41:55.642Z"
   },
   {
    "duration": 92,
    "start_time": "2023-02-18T17:41:55.752Z"
   },
   {
    "duration": 22635,
    "start_time": "2023-02-18T17:41:55.846Z"
   },
   {
    "duration": 56,
    "start_time": "2023-02-18T17:42:18.482Z"
   },
   {
    "duration": 389,
    "start_time": "2023-02-18T17:42:18.540Z"
   },
   {
    "duration": 240,
    "start_time": "2023-02-18T17:42:18.930Z"
   },
   {
    "duration": 6,
    "start_time": "2023-02-18T17:42:19.171Z"
   },
   {
    "duration": 10,
    "start_time": "2023-02-18T17:42:19.178Z"
   },
   {
    "duration": 26,
    "start_time": "2023-02-18T17:42:19.190Z"
   },
   {
    "duration": 156,
    "start_time": "2023-02-18T17:42:19.237Z"
   },
   {
    "duration": 3,
    "start_time": "2023-02-18T17:42:19.395Z"
   },
   {
    "duration": 10,
    "start_time": "2023-02-18T17:42:19.399Z"
   },
   {
    "duration": 1520,
    "start_time": "2023-02-19T17:40:00.327Z"
   },
   {
    "duration": 239,
    "start_time": "2023-02-19T17:40:10.713Z"
   },
   {
    "duration": 57,
    "start_time": "2023-02-19T17:41:05.067Z"
   },
   {
    "duration": 129,
    "start_time": "2023-02-19T17:43:16.152Z"
   },
   {
    "duration": 6,
    "start_time": "2023-02-19T17:45:18.581Z"
   },
   {
    "duration": 18,
    "start_time": "2023-02-19T17:45:22.964Z"
   },
   {
    "duration": 17,
    "start_time": "2023-02-19T17:46:16.995Z"
   },
   {
    "duration": 5,
    "start_time": "2023-02-19T17:46:48.361Z"
   },
   {
    "duration": 8,
    "start_time": "2023-02-19T17:46:55.358Z"
   },
   {
    "duration": 1638,
    "start_time": "2023-02-21T09:03:24.823Z"
   },
   {
    "duration": 2,
    "start_time": "2023-02-21T09:03:26.463Z"
   },
   {
    "duration": 96,
    "start_time": "2023-02-21T09:03:26.467Z"
   },
   {
    "duration": 19,
    "start_time": "2023-02-21T09:03:26.565Z"
   },
   {
    "duration": 23,
    "start_time": "2023-02-21T09:03:26.588Z"
   },
   {
    "duration": 16,
    "start_time": "2023-02-21T09:03:26.613Z"
   },
   {
    "duration": 10,
    "start_time": "2023-02-21T09:03:26.631Z"
   },
   {
    "duration": 8,
    "start_time": "2023-02-21T09:03:26.643Z"
   },
   {
    "duration": 212,
    "start_time": "2023-02-21T09:03:26.653Z"
   },
   {
    "duration": 3,
    "start_time": "2023-02-21T09:03:26.867Z"
   },
   {
    "duration": 11,
    "start_time": "2023-02-21T09:03:26.872Z"
   },
   {
    "duration": 54,
    "start_time": "2023-02-21T09:03:26.884Z"
   },
   {
    "duration": 4,
    "start_time": "2023-02-21T09:03:26.940Z"
   },
   {
    "duration": 14,
    "start_time": "2023-02-21T09:03:26.947Z"
   },
   {
    "duration": 7,
    "start_time": "2023-02-21T09:03:26.963Z"
   },
   {
    "duration": 8,
    "start_time": "2023-02-21T09:03:26.971Z"
   },
   {
    "duration": 22,
    "start_time": "2023-02-21T09:03:26.981Z"
   },
   {
    "duration": 138,
    "start_time": "2023-02-21T09:03:27.005Z"
   },
   {
    "duration": 0,
    "start_time": "2023-02-21T09:03:27.145Z"
   },
   {
    "duration": 0,
    "start_time": "2023-02-21T09:03:27.147Z"
   },
   {
    "duration": 0,
    "start_time": "2023-02-21T09:03:27.148Z"
   },
   {
    "duration": 0,
    "start_time": "2023-02-21T09:03:27.149Z"
   },
   {
    "duration": 0,
    "start_time": "2023-02-21T09:03:27.150Z"
   },
   {
    "duration": 0,
    "start_time": "2023-02-21T09:03:27.151Z"
   },
   {
    "duration": 0,
    "start_time": "2023-02-21T09:03:27.152Z"
   },
   {
    "duration": 0,
    "start_time": "2023-02-21T09:03:27.154Z"
   },
   {
    "duration": 0,
    "start_time": "2023-02-21T09:03:27.155Z"
   },
   {
    "duration": 0,
    "start_time": "2023-02-21T09:03:27.156Z"
   },
   {
    "duration": 0,
    "start_time": "2023-02-21T09:03:27.157Z"
   },
   {
    "duration": 0,
    "start_time": "2023-02-21T09:03:27.158Z"
   },
   {
    "duration": 0,
    "start_time": "2023-02-21T09:03:27.160Z"
   },
   {
    "duration": 0,
    "start_time": "2023-02-21T09:03:27.160Z"
   },
   {
    "duration": 0,
    "start_time": "2023-02-21T09:03:27.162Z"
   },
   {
    "duration": 0,
    "start_time": "2023-02-21T09:03:27.163Z"
   },
   {
    "duration": 0,
    "start_time": "2023-02-21T09:03:27.164Z"
   },
   {
    "duration": 0,
    "start_time": "2023-02-21T09:03:27.165Z"
   },
   {
    "duration": 0,
    "start_time": "2023-02-21T09:03:27.166Z"
   },
   {
    "duration": 0,
    "start_time": "2023-02-21T09:03:27.167Z"
   },
   {
    "duration": 0,
    "start_time": "2023-02-21T09:03:27.203Z"
   },
   {
    "duration": 0,
    "start_time": "2023-02-21T09:03:27.204Z"
   },
   {
    "duration": 0,
    "start_time": "2023-02-21T09:03:27.205Z"
   },
   {
    "duration": 0,
    "start_time": "2023-02-21T09:03:27.207Z"
   },
   {
    "duration": 0,
    "start_time": "2023-02-21T09:03:27.208Z"
   },
   {
    "duration": 0,
    "start_time": "2023-02-21T09:03:27.210Z"
   },
   {
    "duration": 0,
    "start_time": "2023-02-21T09:03:27.211Z"
   },
   {
    "duration": 0,
    "start_time": "2023-02-21T09:03:27.213Z"
   },
   {
    "duration": 0,
    "start_time": "2023-02-21T09:03:27.214Z"
   },
   {
    "duration": 0,
    "start_time": "2023-02-21T09:03:27.215Z"
   },
   {
    "duration": 0,
    "start_time": "2023-02-21T09:03:27.216Z"
   },
   {
    "duration": 0,
    "start_time": "2023-02-21T09:03:27.218Z"
   },
   {
    "duration": 0,
    "start_time": "2023-02-21T09:03:27.219Z"
   },
   {
    "duration": 0,
    "start_time": "2023-02-21T09:03:27.220Z"
   },
   {
    "duration": 0,
    "start_time": "2023-02-21T09:03:27.222Z"
   },
   {
    "duration": 0,
    "start_time": "2023-02-21T09:03:27.223Z"
   },
   {
    "duration": 0,
    "start_time": "2023-02-21T09:03:27.224Z"
   },
   {
    "duration": 0,
    "start_time": "2023-02-21T09:03:27.225Z"
   },
   {
    "duration": 0,
    "start_time": "2023-02-21T09:03:27.227Z"
   },
   {
    "duration": 0,
    "start_time": "2023-02-21T09:03:27.228Z"
   },
   {
    "duration": 0,
    "start_time": "2023-02-21T09:03:27.229Z"
   },
   {
    "duration": 0,
    "start_time": "2023-02-21T09:03:27.231Z"
   },
   {
    "duration": 0,
    "start_time": "2023-02-21T09:03:27.232Z"
   },
   {
    "duration": 5,
    "start_time": "2023-02-21T09:04:33.452Z"
   },
   {
    "duration": 11,
    "start_time": "2023-02-21T09:04:33.459Z"
   },
   {
    "duration": 42,
    "start_time": "2023-02-21T09:04:33.472Z"
   },
   {
    "duration": 14,
    "start_time": "2023-02-21T09:04:33.516Z"
   },
   {
    "duration": 14,
    "start_time": "2023-02-21T09:04:33.532Z"
   },
   {
    "duration": 18,
    "start_time": "2023-02-21T09:04:33.548Z"
   },
   {
    "duration": 12,
    "start_time": "2023-02-21T09:04:33.568Z"
   },
   {
    "duration": 32,
    "start_time": "2023-02-21T09:04:33.581Z"
   },
   {
    "duration": 173,
    "start_time": "2023-02-21T09:04:33.615Z"
   },
   {
    "duration": 4,
    "start_time": "2023-02-21T09:04:33.789Z"
   },
   {
    "duration": 7,
    "start_time": "2023-02-21T09:04:33.803Z"
   },
   {
    "duration": 44,
    "start_time": "2023-02-21T09:04:33.812Z"
   },
   {
    "duration": 4,
    "start_time": "2023-02-21T09:04:33.860Z"
   },
   {
    "duration": 38,
    "start_time": "2023-02-21T09:04:33.866Z"
   },
   {
    "duration": 4,
    "start_time": "2023-02-21T09:04:33.906Z"
   },
   {
    "duration": 8,
    "start_time": "2023-02-21T09:04:33.912Z"
   },
   {
    "duration": 4,
    "start_time": "2023-02-21T09:04:33.922Z"
   },
   {
    "duration": 22,
    "start_time": "2023-02-21T09:04:51.421Z"
   },
   {
    "duration": 1420,
    "start_time": "2023-02-21T09:05:16.540Z"
   },
   {
    "duration": 3,
    "start_time": "2023-02-21T09:05:17.962Z"
   },
   {
    "duration": 43,
    "start_time": "2023-02-21T09:05:17.967Z"
   },
   {
    "duration": 19,
    "start_time": "2023-02-21T09:05:18.012Z"
   },
   {
    "duration": 14,
    "start_time": "2023-02-21T09:05:18.034Z"
   },
   {
    "duration": 13,
    "start_time": "2023-02-21T09:05:18.050Z"
   },
   {
    "duration": 39,
    "start_time": "2023-02-21T09:05:18.065Z"
   },
   {
    "duration": 7,
    "start_time": "2023-02-21T09:05:18.106Z"
   },
   {
    "duration": 197,
    "start_time": "2023-02-21T09:05:18.115Z"
   },
   {
    "duration": 4,
    "start_time": "2023-02-21T09:05:18.314Z"
   },
   {
    "duration": 11,
    "start_time": "2023-02-21T09:05:18.320Z"
   },
   {
    "duration": 48,
    "start_time": "2023-02-21T09:05:18.333Z"
   },
   {
    "duration": 4,
    "start_time": "2023-02-21T09:05:18.382Z"
   },
   {
    "duration": 12,
    "start_time": "2023-02-21T09:05:18.402Z"
   },
   {
    "duration": 20,
    "start_time": "2023-02-21T09:05:18.416Z"
   },
   {
    "duration": 8,
    "start_time": "2023-02-21T09:05:18.437Z"
   },
   {
    "duration": 6,
    "start_time": "2023-02-21T09:05:18.447Z"
   },
   {
    "duration": 25,
    "start_time": "2023-02-21T09:05:18.455Z"
   },
   {
    "duration": 22,
    "start_time": "2023-02-21T09:05:18.482Z"
   },
   {
    "duration": 3,
    "start_time": "2023-02-21T09:05:18.505Z"
   },
   {
    "duration": 9,
    "start_time": "2023-02-21T09:05:18.509Z"
   },
   {
    "duration": 4721,
    "start_time": "2023-02-21T09:05:18.520Z"
   },
   {
    "duration": 5,
    "start_time": "2023-02-21T09:05:23.243Z"
   },
   {
    "duration": 15,
    "start_time": "2023-02-21T09:05:23.250Z"
   },
   {
    "duration": 5,
    "start_time": "2023-02-21T09:05:23.267Z"
   },
   {
    "duration": 6,
    "start_time": "2023-02-21T09:05:23.274Z"
   },
   {
    "duration": 130,
    "start_time": "2023-02-21T09:05:23.282Z"
   },
   {
    "duration": 21,
    "start_time": "2023-02-21T09:05:23.414Z"
   },
   {
    "duration": 24,
    "start_time": "2023-02-21T09:05:23.437Z"
   },
   {
    "duration": 3,
    "start_time": "2023-02-21T09:05:23.462Z"
   },
   {
    "duration": 12,
    "start_time": "2023-02-21T09:05:23.467Z"
   },
   {
    "duration": 415,
    "start_time": "2023-02-21T09:05:23.503Z"
   },
   {
    "duration": 0,
    "start_time": "2023-02-21T09:05:23.920Z"
   },
   {
    "duration": 0,
    "start_time": "2023-02-21T09:05:23.921Z"
   },
   {
    "duration": 0,
    "start_time": "2023-02-21T09:05:23.923Z"
   },
   {
    "duration": 0,
    "start_time": "2023-02-21T09:05:23.924Z"
   },
   {
    "duration": 0,
    "start_time": "2023-02-21T09:05:23.925Z"
   },
   {
    "duration": 0,
    "start_time": "2023-02-21T09:05:23.926Z"
   },
   {
    "duration": 0,
    "start_time": "2023-02-21T09:05:23.927Z"
   },
   {
    "duration": 0,
    "start_time": "2023-02-21T09:05:23.928Z"
   },
   {
    "duration": 0,
    "start_time": "2023-02-21T09:05:23.929Z"
   },
   {
    "duration": 0,
    "start_time": "2023-02-21T09:05:23.931Z"
   },
   {
    "duration": 0,
    "start_time": "2023-02-21T09:05:23.932Z"
   },
   {
    "duration": 0,
    "start_time": "2023-02-21T09:05:23.933Z"
   },
   {
    "duration": 0,
    "start_time": "2023-02-21T09:05:23.934Z"
   },
   {
    "duration": 0,
    "start_time": "2023-02-21T09:05:23.935Z"
   },
   {
    "duration": 0,
    "start_time": "2023-02-21T09:05:23.936Z"
   },
   {
    "duration": 0,
    "start_time": "2023-02-21T09:05:23.937Z"
   },
   {
    "duration": 0,
    "start_time": "2023-02-21T09:05:23.938Z"
   },
   {
    "duration": 0,
    "start_time": "2023-02-21T09:05:23.940Z"
   },
   {
    "duration": 0,
    "start_time": "2023-02-21T09:05:23.941Z"
   },
   {
    "duration": 0,
    "start_time": "2023-02-21T09:05:23.942Z"
   },
   {
    "duration": 0,
    "start_time": "2023-02-21T09:05:23.943Z"
   },
   {
    "duration": 0,
    "start_time": "2023-02-21T09:05:23.944Z"
   },
   {
    "duration": 0,
    "start_time": "2023-02-21T09:05:23.946Z"
   },
   {
    "duration": 0,
    "start_time": "2023-02-21T09:05:23.947Z"
   },
   {
    "duration": 0,
    "start_time": "2023-02-21T09:05:23.948Z"
   },
   {
    "duration": 0,
    "start_time": "2023-02-21T09:05:23.950Z"
   },
   {
    "duration": 0,
    "start_time": "2023-02-21T09:05:23.951Z"
   },
   {
    "duration": 0,
    "start_time": "2023-02-21T09:05:23.953Z"
   },
   {
    "duration": 0,
    "start_time": "2023-02-21T09:05:24.004Z"
   },
   {
    "duration": 3,
    "start_time": "2023-02-21T09:07:33.920Z"
   },
   {
    "duration": 23,
    "start_time": "2023-02-21T09:07:33.925Z"
   },
   {
    "duration": 16,
    "start_time": "2023-02-21T09:07:33.949Z"
   },
   {
    "duration": 346,
    "start_time": "2023-02-21T09:07:33.967Z"
   },
   {
    "duration": 30614,
    "start_time": "2023-02-21T09:07:34.315Z"
   },
   {
    "duration": 0,
    "start_time": "2023-02-21T09:08:04.931Z"
   },
   {
    "duration": 0,
    "start_time": "2023-02-21T09:08:04.932Z"
   },
   {
    "duration": 0,
    "start_time": "2023-02-21T09:08:04.933Z"
   },
   {
    "duration": 0,
    "start_time": "2023-02-21T09:08:04.934Z"
   },
   {
    "duration": 0,
    "start_time": "2023-02-21T09:08:04.935Z"
   },
   {
    "duration": 0,
    "start_time": "2023-02-21T09:08:04.936Z"
   },
   {
    "duration": 0,
    "start_time": "2023-02-21T09:08:04.937Z"
   },
   {
    "duration": 0,
    "start_time": "2023-02-21T09:08:04.938Z"
   },
   {
    "duration": 0,
    "start_time": "2023-02-21T09:08:04.939Z"
   },
   {
    "duration": 0,
    "start_time": "2023-02-21T09:08:04.940Z"
   },
   {
    "duration": 0,
    "start_time": "2023-02-21T09:08:04.941Z"
   },
   {
    "duration": 0,
    "start_time": "2023-02-21T09:08:04.942Z"
   },
   {
    "duration": 0,
    "start_time": "2023-02-21T09:08:04.944Z"
   },
   {
    "duration": 0,
    "start_time": "2023-02-21T09:08:04.945Z"
   },
   {
    "duration": 0,
    "start_time": "2023-02-21T09:08:04.946Z"
   },
   {
    "duration": 0,
    "start_time": "2023-02-21T09:08:04.947Z"
   },
   {
    "duration": 0,
    "start_time": "2023-02-21T09:08:04.948Z"
   },
   {
    "duration": 0,
    "start_time": "2023-02-21T09:08:04.949Z"
   },
   {
    "duration": 0,
    "start_time": "2023-02-21T09:08:04.950Z"
   },
   {
    "duration": 0,
    "start_time": "2023-02-21T09:08:04.951Z"
   },
   {
    "duration": 0,
    "start_time": "2023-02-21T09:08:04.952Z"
   },
   {
    "duration": 0,
    "start_time": "2023-02-21T09:08:04.953Z"
   },
   {
    "duration": 0,
    "start_time": "2023-02-21T09:08:04.954Z"
   },
   {
    "duration": 0,
    "start_time": "2023-02-21T09:08:04.955Z"
   },
   {
    "duration": 0,
    "start_time": "2023-02-21T09:08:04.956Z"
   },
   {
    "duration": 30274,
    "start_time": "2023-02-21T09:09:11.991Z"
   },
   {
    "duration": 136,
    "start_time": "2023-02-21T09:09:42.267Z"
   },
   {
    "duration": 423,
    "start_time": "2023-02-21T09:09:42.405Z"
   },
   {
    "duration": 30327,
    "start_time": "2023-02-21T09:09:42.830Z"
   },
   {
    "duration": 0,
    "start_time": "2023-02-21T09:10:13.159Z"
   },
   {
    "duration": 0,
    "start_time": "2023-02-21T09:10:13.160Z"
   },
   {
    "duration": 0,
    "start_time": "2023-02-21T09:10:13.161Z"
   },
   {
    "duration": 0,
    "start_time": "2023-02-21T09:10:13.162Z"
   },
   {
    "duration": 0,
    "start_time": "2023-02-21T09:10:13.164Z"
   },
   {
    "duration": 0,
    "start_time": "2023-02-21T09:10:13.165Z"
   },
   {
    "duration": 0,
    "start_time": "2023-02-21T09:10:13.166Z"
   },
   {
    "duration": 0,
    "start_time": "2023-02-21T09:10:13.167Z"
   },
   {
    "duration": 0,
    "start_time": "2023-02-21T09:10:13.168Z"
   },
   {
    "duration": 0,
    "start_time": "2023-02-21T09:10:13.169Z"
   },
   {
    "duration": 0,
    "start_time": "2023-02-21T09:10:13.170Z"
   },
   {
    "duration": 0,
    "start_time": "2023-02-21T09:10:13.170Z"
   },
   {
    "duration": 0,
    "start_time": "2023-02-21T09:10:13.171Z"
   },
   {
    "duration": 1,
    "start_time": "2023-02-21T09:10:13.172Z"
   },
   {
    "duration": 0,
    "start_time": "2023-02-21T09:10:13.173Z"
   },
   {
    "duration": 0,
    "start_time": "2023-02-21T09:10:13.174Z"
   },
   {
    "duration": 0,
    "start_time": "2023-02-21T09:10:13.175Z"
   },
   {
    "duration": 0,
    "start_time": "2023-02-21T09:10:13.203Z"
   },
   {
    "duration": 0,
    "start_time": "2023-02-21T09:10:13.205Z"
   },
   {
    "duration": 0,
    "start_time": "2023-02-21T09:10:13.206Z"
   },
   {
    "duration": 0,
    "start_time": "2023-02-21T09:10:13.208Z"
   },
   {
    "duration": 0,
    "start_time": "2023-02-21T09:10:13.209Z"
   },
   {
    "duration": 30264,
    "start_time": "2023-02-21T09:10:24.646Z"
   },
   {
    "duration": 60,
    "start_time": "2023-02-21T09:11:11.543Z"
   },
   {
    "duration": 290,
    "start_time": "2023-02-21T09:11:11.607Z"
   },
   {
    "duration": 5,
    "start_time": "2023-02-21T09:11:11.898Z"
   },
   {
    "duration": 13,
    "start_time": "2023-02-21T09:11:11.906Z"
   },
   {
    "duration": 403,
    "start_time": "2023-02-21T09:11:11.921Z"
   },
   {
    "duration": 41939,
    "start_time": "2023-02-21T09:11:12.326Z"
   },
   {
    "duration": 138,
    "start_time": "2023-02-21T09:11:54.267Z"
   },
   {
    "duration": 298,
    "start_time": "2023-02-21T09:11:54.408Z"
   },
   {
    "duration": 5,
    "start_time": "2023-02-21T09:11:54.708Z"
   },
   {
    "duration": 14,
    "start_time": "2023-02-21T09:11:54.716Z"
   },
   {
    "duration": 1431,
    "start_time": "2023-02-21T09:11:54.732Z"
   },
   {
    "duration": 17911,
    "start_time": "2023-02-21T09:11:56.165Z"
   },
   {
    "duration": 126,
    "start_time": "2023-02-21T09:12:14.078Z"
   },
   {
    "duration": 334,
    "start_time": "2023-02-21T09:12:14.206Z"
   },
   {
    "duration": 375,
    "start_time": "2023-02-21T09:12:14.542Z"
   },
   {
    "duration": 3,
    "start_time": "2023-02-21T09:12:14.919Z"
   },
   {
    "duration": 10,
    "start_time": "2023-02-21T09:12:14.923Z"
   },
   {
    "duration": 14,
    "start_time": "2023-02-21T09:12:14.935Z"
   },
   {
    "duration": 62,
    "start_time": "2023-02-21T09:12:14.950Z"
   },
   {
    "duration": 189,
    "start_time": "2023-02-21T09:12:15.014Z"
   },
   {
    "duration": 5,
    "start_time": "2023-02-21T09:12:15.204Z"
   },
   {
    "duration": 18,
    "start_time": "2023-02-21T09:12:15.211Z"
   },
   {
    "duration": 170,
    "start_time": "2023-02-21T09:17:12.715Z"
   },
   {
    "duration": 1464,
    "start_time": "2023-02-21T09:17:39.454Z"
   },
   {
    "duration": 3,
    "start_time": "2023-02-21T09:17:40.921Z"
   },
   {
    "duration": 46,
    "start_time": "2023-02-21T09:17:40.926Z"
   },
   {
    "duration": 18,
    "start_time": "2023-02-21T09:17:40.973Z"
   },
   {
    "duration": 18,
    "start_time": "2023-02-21T09:17:40.993Z"
   },
   {
    "duration": 19,
    "start_time": "2023-02-21T09:17:41.013Z"
   },
   {
    "duration": 11,
    "start_time": "2023-02-21T09:17:41.035Z"
   },
   {
    "duration": 8,
    "start_time": "2023-02-21T09:17:41.049Z"
   },
   {
    "duration": 221,
    "start_time": "2023-02-21T09:17:41.060Z"
   },
   {
    "duration": 4,
    "start_time": "2023-02-21T09:17:41.283Z"
   },
   {
    "duration": 21,
    "start_time": "2023-02-21T09:17:41.289Z"
   },
   {
    "duration": 45,
    "start_time": "2023-02-21T09:17:41.312Z"
   },
   {
    "duration": 4,
    "start_time": "2023-02-21T09:17:41.359Z"
   },
   {
    "duration": 16,
    "start_time": "2023-02-21T09:17:41.367Z"
   },
   {
    "duration": 21,
    "start_time": "2023-02-21T09:17:41.384Z"
   },
   {
    "duration": 8,
    "start_time": "2023-02-21T09:17:41.407Z"
   },
   {
    "duration": 4,
    "start_time": "2023-02-21T09:17:41.417Z"
   },
   {
    "duration": 23,
    "start_time": "2023-02-21T09:17:41.423Z"
   },
   {
    "duration": 10,
    "start_time": "2023-02-21T09:17:41.448Z"
   },
   {
    "duration": 7,
    "start_time": "2023-02-21T09:17:41.460Z"
   },
   {
    "duration": 34,
    "start_time": "2023-02-21T09:17:41.469Z"
   },
   {
    "duration": 5088,
    "start_time": "2023-02-21T09:17:41.505Z"
   },
   {
    "duration": 4,
    "start_time": "2023-02-21T09:17:46.595Z"
   },
   {
    "duration": 12,
    "start_time": "2023-02-21T09:17:46.601Z"
   },
   {
    "duration": 5,
    "start_time": "2023-02-21T09:17:46.615Z"
   },
   {
    "duration": 7,
    "start_time": "2023-02-21T09:17:46.621Z"
   },
   {
    "duration": 145,
    "start_time": "2023-02-21T09:17:46.630Z"
   },
   {
    "duration": 31,
    "start_time": "2023-02-21T09:17:46.777Z"
   },
   {
    "duration": 22,
    "start_time": "2023-02-21T09:17:46.810Z"
   },
   {
    "duration": 3,
    "start_time": "2023-02-21T09:17:46.833Z"
   },
   {
    "duration": 8,
    "start_time": "2023-02-21T09:17:46.838Z"
   },
   {
    "duration": 8,
    "start_time": "2023-02-21T09:17:46.847Z"
   },
   {
    "duration": 11,
    "start_time": "2023-02-21T09:17:46.857Z"
   },
   {
    "duration": 26,
    "start_time": "2023-02-21T09:17:46.870Z"
   },
   {
    "duration": 306,
    "start_time": "2023-02-21T09:17:46.898Z"
   },
   {
    "duration": 284249,
    "start_time": "2023-02-21T09:17:47.207Z"
   },
   {
    "duration": 59,
    "start_time": "2023-02-21T09:22:31.458Z"
   },
   {
    "duration": 431,
    "start_time": "2023-02-21T09:22:31.605Z"
   },
   {
    "duration": 282681,
    "start_time": "2023-02-21T09:22:32.038Z"
   },
   {
    "duration": 88,
    "start_time": "2023-02-21T09:27:14.721Z"
   },
   {
    "duration": 395,
    "start_time": "2023-02-21T09:27:14.814Z"
   },
   {
    "duration": 5,
    "start_time": "2023-02-21T09:27:15.211Z"
   },
   {
    "duration": 21,
    "start_time": "2023-02-21T09:27:15.218Z"
   },
   {
    "duration": 373,
    "start_time": "2023-02-21T09:27:15.241Z"
   },
   {
    "duration": 367599,
    "start_time": "2023-02-21T09:27:15.616Z"
   },
   {
    "duration": 92,
    "start_time": "2023-02-21T09:33:23.216Z"
   },
   {
    "duration": 367,
    "start_time": "2023-02-21T09:33:23.310Z"
   },
   {
    "duration": 5,
    "start_time": "2023-02-21T09:33:23.679Z"
   },
   {
    "duration": 23,
    "start_time": "2023-02-21T09:33:23.685Z"
   },
   {
    "duration": 176,
    "start_time": "2023-02-21T09:33:23.710Z"
   },
   {
    "duration": 156940,
    "start_time": "2023-02-21T09:33:23.887Z"
   },
   {
    "duration": 79,
    "start_time": "2023-02-21T09:36:00.829Z"
   },
   {
    "duration": 373,
    "start_time": "2023-02-21T09:36:00.910Z"
   },
   {
    "duration": 447,
    "start_time": "2023-02-21T09:36:01.284Z"
   },
   {
    "duration": 3,
    "start_time": "2023-02-21T09:36:01.733Z"
   },
   {
    "duration": 29,
    "start_time": "2023-02-21T09:36:01.737Z"
   },
   {
    "duration": 18,
    "start_time": "2023-02-21T09:36:01.767Z"
   },
   {
    "duration": 80,
    "start_time": "2023-02-21T09:36:01.787Z"
   },
   {
    "duration": 182,
    "start_time": "2023-02-21T09:36:01.869Z"
   },
   {
    "duration": 5,
    "start_time": "2023-02-21T09:36:02.053Z"
   },
   {
    "duration": 17,
    "start_time": "2023-02-21T09:36:02.059Z"
   },
   {
    "duration": 1570,
    "start_time": "2023-02-21T13:45:31.732Z"
   },
   {
    "duration": 3,
    "start_time": "2023-02-21T13:45:33.304Z"
   },
   {
    "duration": 132,
    "start_time": "2023-02-21T13:45:33.310Z"
   },
   {
    "duration": 20,
    "start_time": "2023-02-21T13:45:33.443Z"
   },
   {
    "duration": 16,
    "start_time": "2023-02-21T13:45:33.466Z"
   },
   {
    "duration": 22,
    "start_time": "2023-02-21T13:45:33.483Z"
   },
   {
    "duration": 7,
    "start_time": "2023-02-21T13:45:33.507Z"
   },
   {
    "duration": 6,
    "start_time": "2023-02-21T13:45:33.515Z"
   },
   {
    "duration": 177,
    "start_time": "2023-02-21T13:45:33.522Z"
   },
   {
    "duration": 9,
    "start_time": "2023-02-21T13:45:33.701Z"
   },
   {
    "duration": 5,
    "start_time": "2023-02-21T13:45:33.711Z"
   },
   {
    "duration": 42,
    "start_time": "2023-02-21T13:45:33.718Z"
   },
   {
    "duration": 4,
    "start_time": "2023-02-21T13:45:33.761Z"
   },
   {
    "duration": 11,
    "start_time": "2023-02-21T13:45:33.768Z"
   },
   {
    "duration": 4,
    "start_time": "2023-02-21T13:45:33.780Z"
   },
   {
    "duration": 26,
    "start_time": "2023-02-21T13:45:33.785Z"
   },
   {
    "duration": 8,
    "start_time": "2023-02-21T13:45:33.812Z"
   },
   {
    "duration": 25,
    "start_time": "2023-02-21T13:45:33.821Z"
   },
   {
    "duration": 9,
    "start_time": "2023-02-21T13:45:33.847Z"
   },
   {
    "duration": 5,
    "start_time": "2023-02-21T13:45:33.857Z"
   },
   {
    "duration": 10,
    "start_time": "2023-02-21T13:45:33.863Z"
   },
   {
    "duration": 4482,
    "start_time": "2023-02-21T13:45:33.874Z"
   },
   {
    "duration": 4,
    "start_time": "2023-02-21T13:45:38.357Z"
   },
   {
    "duration": 9,
    "start_time": "2023-02-21T13:45:38.363Z"
   },
   {
    "duration": 6,
    "start_time": "2023-02-21T13:45:38.374Z"
   },
   {
    "duration": 8,
    "start_time": "2023-02-21T13:45:38.382Z"
   },
   {
    "duration": 121,
    "start_time": "2023-02-21T13:45:38.392Z"
   },
   {
    "duration": 17,
    "start_time": "2023-02-21T13:45:38.515Z"
   },
   {
    "duration": 18,
    "start_time": "2023-02-21T13:45:38.534Z"
   },
   {
    "duration": 3,
    "start_time": "2023-02-21T13:45:38.553Z"
   },
   {
    "duration": 6,
    "start_time": "2023-02-21T13:45:38.557Z"
   },
   {
    "duration": 6,
    "start_time": "2023-02-21T13:45:38.565Z"
   },
   {
    "duration": 3,
    "start_time": "2023-02-21T13:45:38.573Z"
   },
   {
    "duration": 3,
    "start_time": "2023-02-21T13:45:38.578Z"
   },
   {
    "duration": 347,
    "start_time": "2023-02-21T13:45:38.583Z"
   },
   {
    "duration": 293987,
    "start_time": "2023-02-21T13:45:38.932Z"
   },
   {
    "duration": 85,
    "start_time": "2023-02-21T13:50:32.926Z"
   },
   {
    "duration": 436,
    "start_time": "2023-02-21T13:50:33.019Z"
   },
   {
    "duration": 299768,
    "start_time": "2023-02-21T13:50:33.457Z"
   },
   {
    "duration": 99,
    "start_time": "2023-02-21T13:55:33.227Z"
   },
   {
    "duration": 271,
    "start_time": "2023-02-21T13:55:33.410Z"
   },
   {
    "duration": 4,
    "start_time": "2023-02-21T13:55:33.682Z"
   },
   {
    "duration": 9,
    "start_time": "2023-02-21T13:55:33.687Z"
   },
   {
    "duration": 426,
    "start_time": "2023-02-21T13:55:33.697Z"
   },
   {
    "duration": 407024,
    "start_time": "2023-02-21T13:55:34.124Z"
   },
   {
    "duration": 82,
    "start_time": "2023-02-21T14:02:21.149Z"
   },
   {
    "duration": 278,
    "start_time": "2023-02-21T14:02:21.316Z"
   },
   {
    "duration": 4,
    "start_time": "2023-02-21T14:02:21.595Z"
   },
   {
    "duration": 23,
    "start_time": "2023-02-21T14:02:21.601Z"
   },
   {
    "duration": 163,
    "start_time": "2023-02-21T14:02:21.625Z"
   },
   {
    "duration": 165991,
    "start_time": "2023-02-21T14:02:21.790Z"
   },
   {
    "duration": 144,
    "start_time": "2023-02-21T14:05:07.783Z"
   },
   {
    "duration": 377,
    "start_time": "2023-02-21T14:05:07.929Z"
   },
   {
    "duration": 690,
    "start_time": "2023-02-21T14:05:08.307Z"
   },
   {
    "duration": 2,
    "start_time": "2023-02-21T14:05:08.999Z"
   },
   {
    "duration": 20,
    "start_time": "2023-02-21T14:05:09.002Z"
   },
   {
    "duration": 17,
    "start_time": "2023-02-21T14:05:09.023Z"
   },
   {
    "duration": 54,
    "start_time": "2023-02-21T14:05:09.042Z"
   },
   {
    "duration": 169,
    "start_time": "2023-02-21T14:05:09.098Z"
   },
   {
    "duration": 6,
    "start_time": "2023-02-21T14:05:09.269Z"
   },
   {
    "duration": 173,
    "start_time": "2023-02-21T14:05:09.277Z"
   },
   {
    "duration": 1448,
    "start_time": "2023-02-22T17:42:02.913Z"
   },
   {
    "duration": 2,
    "start_time": "2023-02-22T17:42:04.363Z"
   },
   {
    "duration": 84,
    "start_time": "2023-02-22T17:42:04.367Z"
   },
   {
    "duration": 16,
    "start_time": "2023-02-22T17:42:04.452Z"
   },
   {
    "duration": 14,
    "start_time": "2023-02-22T17:42:04.471Z"
   },
   {
    "duration": 10,
    "start_time": "2023-02-22T17:42:04.487Z"
   },
   {
    "duration": 7,
    "start_time": "2023-02-22T17:42:04.499Z"
   },
   {
    "duration": 9,
    "start_time": "2023-02-22T17:42:04.508Z"
   },
   {
    "duration": 168,
    "start_time": "2023-02-22T17:42:04.518Z"
   },
   {
    "duration": 5,
    "start_time": "2023-02-22T17:42:04.687Z"
   },
   {
    "duration": 9,
    "start_time": "2023-02-22T17:42:04.693Z"
   },
   {
    "duration": 38,
    "start_time": "2023-02-22T17:42:04.703Z"
   },
   {
    "duration": 4,
    "start_time": "2023-02-22T17:42:04.742Z"
   },
   {
    "duration": 12,
    "start_time": "2023-02-22T17:42:04.748Z"
   },
   {
    "duration": 27,
    "start_time": "2023-02-22T17:42:04.762Z"
   },
   {
    "duration": 5,
    "start_time": "2023-02-22T17:42:04.790Z"
   },
   {
    "duration": 4,
    "start_time": "2023-02-22T17:42:04.796Z"
   },
   {
    "duration": 22,
    "start_time": "2023-02-22T17:42:04.802Z"
   },
   {
    "duration": 9,
    "start_time": "2023-02-22T17:42:04.825Z"
   },
   {
    "duration": 1,
    "start_time": "2023-02-22T17:42:04.836Z"
   },
   {
    "duration": 15,
    "start_time": "2023-02-22T17:42:04.839Z"
   },
   {
    "duration": 4388,
    "start_time": "2023-02-22T17:42:04.856Z"
   },
   {
    "duration": 5,
    "start_time": "2023-02-22T17:42:09.246Z"
   },
   {
    "duration": 16,
    "start_time": "2023-02-22T17:42:09.252Z"
   },
   {
    "duration": 4,
    "start_time": "2023-02-22T17:42:09.269Z"
   },
   {
    "duration": 5,
    "start_time": "2023-02-22T17:42:09.275Z"
   },
   {
    "duration": 110,
    "start_time": "2023-02-22T17:42:09.282Z"
   },
   {
    "duration": 16,
    "start_time": "2023-02-22T17:42:09.394Z"
   },
   {
    "duration": 15,
    "start_time": "2023-02-22T17:42:09.412Z"
   },
   {
    "duration": 2,
    "start_time": "2023-02-22T17:42:09.429Z"
   },
   {
    "duration": 20,
    "start_time": "2023-02-22T17:42:09.433Z"
   },
   {
    "duration": 5,
    "start_time": "2023-02-22T17:42:09.455Z"
   },
   {
    "duration": 5,
    "start_time": "2023-02-22T17:42:09.461Z"
   },
   {
    "duration": 5,
    "start_time": "2023-02-22T17:42:09.467Z"
   },
   {
    "duration": 266,
    "start_time": "2023-02-22T17:42:09.474Z"
   },
   {
    "duration": 246011,
    "start_time": "2023-02-22T17:42:09.742Z"
   },
   {
    "duration": 39,
    "start_time": "2023-02-22T17:46:15.754Z"
   },
   {
    "duration": 460,
    "start_time": "2023-02-22T17:46:15.795Z"
   },
   {
    "duration": 245203,
    "start_time": "2023-02-22T17:46:16.256Z"
   },
   {
    "duration": 37,
    "start_time": "2023-02-22T17:50:21.460Z"
   },
   {
    "duration": 267,
    "start_time": "2023-02-22T17:50:21.585Z"
   },
   {
    "duration": 4,
    "start_time": "2023-02-22T17:50:21.853Z"
   },
   {
    "duration": 11,
    "start_time": "2023-02-22T17:50:21.859Z"
   },
   {
    "duration": 343,
    "start_time": "2023-02-22T17:50:21.871Z"
   },
   {
    "duration": 336528,
    "start_time": "2023-02-22T17:50:22.215Z"
   },
   {
    "duration": 48,
    "start_time": "2023-02-22T17:55:58.744Z"
   },
   {
    "duration": 350,
    "start_time": "2023-02-22T17:55:58.793Z"
   },
   {
    "duration": 3,
    "start_time": "2023-02-22T17:55:59.145Z"
   },
   {
    "duration": 10,
    "start_time": "2023-02-22T17:55:59.150Z"
   },
   {
    "duration": 149,
    "start_time": "2023-02-22T17:55:59.162Z"
   },
   {
    "duration": 144275,
    "start_time": "2023-02-22T17:55:59.312Z"
   },
   {
    "duration": 22,
    "start_time": "2023-02-22T17:58:23.588Z"
   },
   {
    "duration": 281,
    "start_time": "2023-02-22T17:58:23.687Z"
   },
   {
    "duration": 634,
    "start_time": "2023-02-22T17:58:23.970Z"
   },
   {
    "duration": 3,
    "start_time": "2023-02-22T17:58:24.606Z"
   },
   {
    "duration": 14,
    "start_time": "2023-02-22T17:58:24.611Z"
   },
   {
    "duration": 16,
    "start_time": "2023-02-22T17:58:24.626Z"
   },
   {
    "duration": 77,
    "start_time": "2023-02-22T17:58:24.644Z"
   },
   {
    "duration": 179,
    "start_time": "2023-02-22T17:58:24.723Z"
   },
   {
    "duration": 4,
    "start_time": "2023-02-22T17:58:24.904Z"
   },
   {
    "duration": 17,
    "start_time": "2023-02-22T17:58:24.910Z"
   },
   {
    "duration": 1560,
    "start_time": "2023-02-22T22:06:32.410Z"
   },
   {
    "duration": 2,
    "start_time": "2023-02-22T22:06:33.973Z"
   },
   {
    "duration": 85,
    "start_time": "2023-02-22T22:06:33.977Z"
   },
   {
    "duration": 18,
    "start_time": "2023-02-22T22:06:34.064Z"
   },
   {
    "duration": 15,
    "start_time": "2023-02-22T22:06:34.083Z"
   },
   {
    "duration": 11,
    "start_time": "2023-02-22T22:06:34.100Z"
   },
   {
    "duration": 7,
    "start_time": "2023-02-22T22:06:34.113Z"
   },
   {
    "duration": 23,
    "start_time": "2023-02-22T22:06:34.122Z"
   },
   {
    "duration": 187,
    "start_time": "2023-02-22T22:06:34.146Z"
   },
   {
    "duration": 5,
    "start_time": "2023-02-22T22:06:34.340Z"
   },
   {
    "duration": 10,
    "start_time": "2023-02-22T22:06:34.347Z"
   },
   {
    "duration": 46,
    "start_time": "2023-02-22T22:06:34.358Z"
   },
   {
    "duration": 4,
    "start_time": "2023-02-22T22:06:34.406Z"
   },
   {
    "duration": 36,
    "start_time": "2023-02-22T22:06:34.412Z"
   },
   {
    "duration": 7,
    "start_time": "2023-02-22T22:06:34.449Z"
   },
   {
    "duration": 9,
    "start_time": "2023-02-22T22:06:34.457Z"
   },
   {
    "duration": 3,
    "start_time": "2023-02-22T22:06:34.467Z"
   },
   {
    "duration": 28,
    "start_time": "2023-02-22T22:06:34.472Z"
   },
   {
    "duration": 12,
    "start_time": "2023-02-22T22:06:34.501Z"
   },
   {
    "duration": 27,
    "start_time": "2023-02-22T22:06:34.515Z"
   },
   {
    "duration": 7,
    "start_time": "2023-02-22T22:06:34.544Z"
   },
   {
    "duration": 4821,
    "start_time": "2023-02-22T22:06:34.552Z"
   },
   {
    "duration": 4,
    "start_time": "2023-02-22T22:06:39.375Z"
   },
   {
    "duration": 13,
    "start_time": "2023-02-22T22:06:39.381Z"
   },
   {
    "duration": 6,
    "start_time": "2023-02-22T22:06:39.395Z"
   },
   {
    "duration": 5,
    "start_time": "2023-02-22T22:06:39.403Z"
   },
   {
    "duration": 31,
    "start_time": "2023-02-22T22:06:39.410Z"
   },
   {
    "duration": 141,
    "start_time": "2023-02-22T22:06:39.445Z"
   },
   {
    "duration": 22,
    "start_time": "2023-02-22T22:06:39.588Z"
   },
   {
    "duration": 37,
    "start_time": "2023-02-22T22:06:39.611Z"
   },
   {
    "duration": 2,
    "start_time": "2023-02-22T22:06:39.650Z"
   },
   {
    "duration": 5,
    "start_time": "2023-02-22T22:06:39.654Z"
   },
   {
    "duration": 5,
    "start_time": "2023-02-22T22:06:39.661Z"
   },
   {
    "duration": 8,
    "start_time": "2023-02-22T22:06:39.668Z"
   },
   {
    "duration": 17,
    "start_time": "2023-02-22T22:06:39.678Z"
   },
   {
    "duration": 311,
    "start_time": "2023-02-22T22:06:39.696Z"
   },
   {
    "duration": 255725,
    "start_time": "2023-02-22T22:06:40.010Z"
   },
   {
    "duration": 0,
    "start_time": "2023-02-22T22:10:55.740Z"
   },
   {
    "duration": 0,
    "start_time": "2023-02-22T22:10:55.741Z"
   },
   {
    "duration": 0,
    "start_time": "2023-02-22T22:10:55.742Z"
   },
   {
    "duration": 0,
    "start_time": "2023-02-22T22:10:55.743Z"
   },
   {
    "duration": 0,
    "start_time": "2023-02-22T22:10:55.744Z"
   },
   {
    "duration": 0,
    "start_time": "2023-02-22T22:10:55.746Z"
   },
   {
    "duration": 0,
    "start_time": "2023-02-22T22:10:55.747Z"
   },
   {
    "duration": 0,
    "start_time": "2023-02-22T22:10:55.748Z"
   },
   {
    "duration": 0,
    "start_time": "2023-02-22T22:10:55.749Z"
   },
   {
    "duration": 0,
    "start_time": "2023-02-22T22:10:55.750Z"
   },
   {
    "duration": 0,
    "start_time": "2023-02-22T22:10:55.751Z"
   },
   {
    "duration": 0,
    "start_time": "2023-02-22T22:10:55.752Z"
   },
   {
    "duration": 0,
    "start_time": "2023-02-22T22:10:55.753Z"
   },
   {
    "duration": 0,
    "start_time": "2023-02-22T22:10:55.754Z"
   },
   {
    "duration": 0,
    "start_time": "2023-02-22T22:10:55.756Z"
   },
   {
    "duration": 0,
    "start_time": "2023-02-22T22:10:55.757Z"
   },
   {
    "duration": 0,
    "start_time": "2023-02-22T22:10:55.758Z"
   },
   {
    "duration": 0,
    "start_time": "2023-02-22T22:10:55.760Z"
   },
   {
    "duration": 0,
    "start_time": "2023-02-22T22:10:55.761Z"
   },
   {
    "duration": 0,
    "start_time": "2023-02-22T22:10:55.762Z"
   },
   {
    "duration": 0,
    "start_time": "2023-02-22T22:10:55.763Z"
   },
   {
    "duration": 0,
    "start_time": "2023-02-22T22:10:55.764Z"
   },
   {
    "duration": 0,
    "start_time": "2023-02-22T22:10:55.765Z"
   },
   {
    "duration": 0,
    "start_time": "2023-02-22T22:10:55.766Z"
   },
   {
    "duration": 0,
    "start_time": "2023-02-22T22:10:55.767Z"
   },
   {
    "duration": 1563,
    "start_time": "2023-02-22T22:11:02.510Z"
   },
   {
    "duration": 2,
    "start_time": "2023-02-22T22:11:04.076Z"
   },
   {
    "duration": 47,
    "start_time": "2023-02-22T22:11:04.081Z"
   },
   {
    "duration": 19,
    "start_time": "2023-02-22T22:11:04.130Z"
   },
   {
    "duration": 21,
    "start_time": "2023-02-22T22:11:04.151Z"
   },
   {
    "duration": 13,
    "start_time": "2023-02-22T22:11:04.175Z"
   },
   {
    "duration": 9,
    "start_time": "2023-02-22T22:11:04.190Z"
   },
   {
    "duration": 9,
    "start_time": "2023-02-22T22:11:04.201Z"
   },
   {
    "duration": 183,
    "start_time": "2023-02-22T22:11:04.240Z"
   },
   {
    "duration": 13,
    "start_time": "2023-02-22T22:11:04.427Z"
   },
   {
    "duration": 14,
    "start_time": "2023-02-22T22:11:04.442Z"
   },
   {
    "duration": 49,
    "start_time": "2023-02-22T22:11:04.458Z"
   },
   {
    "duration": 5,
    "start_time": "2023-02-22T22:11:04.509Z"
   },
   {
    "duration": 25,
    "start_time": "2023-02-22T22:11:04.517Z"
   },
   {
    "duration": 6,
    "start_time": "2023-02-22T22:11:04.544Z"
   },
   {
    "duration": 9,
    "start_time": "2023-02-22T22:11:04.551Z"
   },
   {
    "duration": 5,
    "start_time": "2023-02-22T22:11:04.561Z"
   },
   {
    "duration": 29,
    "start_time": "2023-02-22T22:11:04.567Z"
   },
   {
    "duration": 10,
    "start_time": "2023-02-22T22:11:04.598Z"
   },
   {
    "duration": 2,
    "start_time": "2023-02-22T22:11:04.610Z"
   },
   {
    "duration": 26,
    "start_time": "2023-02-22T22:11:04.614Z"
   },
   {
    "duration": 4703,
    "start_time": "2023-02-22T22:11:04.642Z"
   },
   {
    "duration": 5,
    "start_time": "2023-02-22T22:11:09.347Z"
   },
   {
    "duration": 74,
    "start_time": "2023-02-22T22:11:09.353Z"
   },
   {
    "duration": 46,
    "start_time": "2023-02-22T22:11:09.429Z"
   },
   {
    "duration": 11,
    "start_time": "2023-02-22T22:11:09.477Z"
   },
   {
    "duration": 12,
    "start_time": "2023-02-22T22:11:09.490Z"
   },
   {
    "duration": 6,
    "start_time": "2023-02-22T22:11:09.507Z"
   },
   {
    "duration": 174,
    "start_time": "2023-02-22T22:11:09.515Z"
   },
   {
    "duration": 21,
    "start_time": "2023-02-22T22:11:09.690Z"
   },
   {
    "duration": 32,
    "start_time": "2023-02-22T22:11:09.713Z"
   },
   {
    "duration": 19,
    "start_time": "2023-02-22T22:11:09.746Z"
   },
   {
    "duration": 14,
    "start_time": "2023-02-22T22:11:09.767Z"
   },
   {
    "duration": 8,
    "start_time": "2023-02-22T22:11:09.783Z"
   },
   {
    "duration": 18,
    "start_time": "2023-02-22T22:11:09.792Z"
   },
   {
    "duration": 16,
    "start_time": "2023-02-22T22:11:09.812Z"
   },
   {
    "duration": 324,
    "start_time": "2023-02-22T22:11:09.830Z"
   },
   {
    "duration": 214700,
    "start_time": "2023-02-22T22:11:10.156Z"
   },
   {
    "duration": 0,
    "start_time": "2023-02-22T22:14:44.858Z"
   },
   {
    "duration": 0,
    "start_time": "2023-02-22T22:14:44.859Z"
   },
   {
    "duration": 0,
    "start_time": "2023-02-22T22:14:44.860Z"
   },
   {
    "duration": 0,
    "start_time": "2023-02-22T22:14:44.861Z"
   },
   {
    "duration": 0,
    "start_time": "2023-02-22T22:14:44.862Z"
   },
   {
    "duration": 0,
    "start_time": "2023-02-22T22:14:44.863Z"
   },
   {
    "duration": 0,
    "start_time": "2023-02-22T22:14:44.864Z"
   },
   {
    "duration": 0,
    "start_time": "2023-02-22T22:14:44.865Z"
   },
   {
    "duration": 0,
    "start_time": "2023-02-22T22:14:44.866Z"
   },
   {
    "duration": 0,
    "start_time": "2023-02-22T22:14:44.867Z"
   },
   {
    "duration": 0,
    "start_time": "2023-02-22T22:14:44.868Z"
   },
   {
    "duration": 0,
    "start_time": "2023-02-22T22:14:44.869Z"
   },
   {
    "duration": 0,
    "start_time": "2023-02-22T22:14:44.870Z"
   },
   {
    "duration": 0,
    "start_time": "2023-02-22T22:14:44.872Z"
   },
   {
    "duration": 0,
    "start_time": "2023-02-22T22:14:44.873Z"
   },
   {
    "duration": 0,
    "start_time": "2023-02-22T22:14:44.873Z"
   },
   {
    "duration": 0,
    "start_time": "2023-02-22T22:14:44.875Z"
   },
   {
    "duration": 0,
    "start_time": "2023-02-22T22:14:44.876Z"
   },
   {
    "duration": 0,
    "start_time": "2023-02-22T22:14:44.877Z"
   },
   {
    "duration": 0,
    "start_time": "2023-02-22T22:14:44.877Z"
   },
   {
    "duration": 0,
    "start_time": "2023-02-22T22:14:44.878Z"
   },
   {
    "duration": 0,
    "start_time": "2023-02-22T22:14:44.879Z"
   },
   {
    "duration": 0,
    "start_time": "2023-02-22T22:14:44.881Z"
   },
   {
    "duration": 0,
    "start_time": "2023-02-22T22:14:44.882Z"
   },
   {
    "duration": 0,
    "start_time": "2023-02-22T22:14:44.883Z"
   },
   {
    "duration": 9,
    "start_time": "2023-02-22T22:15:15.473Z"
   },
   {
    "duration": 16,
    "start_time": "2023-02-22T22:20:17.001Z"
   },
   {
    "duration": 18,
    "start_time": "2023-02-22T22:20:55.349Z"
   },
   {
    "duration": 1524,
    "start_time": "2023-02-22T22:24:06.981Z"
   },
   {
    "duration": 3,
    "start_time": "2023-02-22T22:24:08.507Z"
   },
   {
    "duration": 42,
    "start_time": "2023-02-22T22:24:08.511Z"
   },
   {
    "duration": 19,
    "start_time": "2023-02-22T22:24:08.555Z"
   },
   {
    "duration": 16,
    "start_time": "2023-02-22T22:24:08.576Z"
   },
   {
    "duration": 25,
    "start_time": "2023-02-22T22:24:08.593Z"
   },
   {
    "duration": 21,
    "start_time": "2023-02-22T22:24:08.620Z"
   },
   {
    "duration": 7,
    "start_time": "2023-02-22T22:24:08.642Z"
   },
   {
    "duration": 211,
    "start_time": "2023-02-22T22:24:08.650Z"
   },
   {
    "duration": 8,
    "start_time": "2023-02-22T22:24:08.864Z"
   },
   {
    "duration": 11,
    "start_time": "2023-02-22T22:24:08.874Z"
   },
   {
    "duration": 71,
    "start_time": "2023-02-22T22:24:08.887Z"
   },
   {
    "duration": 5,
    "start_time": "2023-02-22T22:24:08.961Z"
   },
   {
    "duration": 30,
    "start_time": "2023-02-22T22:24:08.971Z"
   },
   {
    "duration": 11,
    "start_time": "2023-02-22T22:24:09.002Z"
   },
   {
    "duration": 9,
    "start_time": "2023-02-22T22:24:09.015Z"
   },
   {
    "duration": 6,
    "start_time": "2023-02-22T22:24:09.025Z"
   },
   {
    "duration": 29,
    "start_time": "2023-02-22T22:24:09.033Z"
   },
   {
    "duration": 10,
    "start_time": "2023-02-22T22:24:09.064Z"
   },
   {
    "duration": 2,
    "start_time": "2023-02-22T22:24:09.075Z"
   },
   {
    "duration": 7,
    "start_time": "2023-02-22T22:24:09.079Z"
   },
   {
    "duration": 4737,
    "start_time": "2023-02-22T22:24:09.087Z"
   },
   {
    "duration": 4,
    "start_time": "2023-02-22T22:24:13.826Z"
   },
   {
    "duration": 9,
    "start_time": "2023-02-22T22:24:13.839Z"
   },
   {
    "duration": 4,
    "start_time": "2023-02-22T22:24:13.850Z"
   },
   {
    "duration": 6,
    "start_time": "2023-02-22T22:24:13.855Z"
   },
   {
    "duration": 9,
    "start_time": "2023-02-22T22:24:13.863Z"
   },
   {
    "duration": 18,
    "start_time": "2023-02-22T22:24:13.874Z"
   },
   {
    "duration": 11,
    "start_time": "2023-02-22T22:24:13.894Z"
   },
   {
    "duration": 141,
    "start_time": "2023-02-22T22:24:13.940Z"
   },
   {
    "duration": 21,
    "start_time": "2023-02-22T22:24:14.082Z"
   },
   {
    "duration": 36,
    "start_time": "2023-02-22T22:24:14.105Z"
   },
   {
    "duration": 3,
    "start_time": "2023-02-22T22:24:14.142Z"
   },
   {
    "duration": 11,
    "start_time": "2023-02-22T22:24:14.147Z"
   },
   {
    "duration": 5,
    "start_time": "2023-02-22T22:24:14.159Z"
   },
   {
    "duration": 7,
    "start_time": "2023-02-22T22:24:14.166Z"
   },
   {
    "duration": 6,
    "start_time": "2023-02-22T22:24:14.175Z"
   },
   {
    "duration": 315,
    "start_time": "2023-02-22T22:24:14.183Z"
   },
   {
    "duration": 280919,
    "start_time": "2023-02-22T22:24:14.500Z"
   },
   {
    "duration": 120,
    "start_time": "2023-02-22T22:28:55.421Z"
   },
   {
    "duration": 310,
    "start_time": "2023-02-22T22:28:55.639Z"
   },
   {
    "duration": 285702,
    "start_time": "2023-02-22T22:28:55.951Z"
   },
   {
    "duration": 95,
    "start_time": "2023-02-22T22:33:41.655Z"
   },
   {
    "duration": 302,
    "start_time": "2023-02-22T22:33:41.843Z"
   },
   {
    "duration": 5,
    "start_time": "2023-02-22T22:33:42.147Z"
   },
   {
    "duration": 11,
    "start_time": "2023-02-22T22:33:42.153Z"
   },
   {
    "duration": 394,
    "start_time": "2023-02-22T22:33:42.166Z"
   },
   {
    "duration": 386445,
    "start_time": "2023-02-22T22:33:42.562Z"
   },
   {
    "duration": 132,
    "start_time": "2023-02-22T22:40:09.009Z"
   },
   {
    "duration": 283,
    "start_time": "2023-02-22T22:40:09.144Z"
   },
   {
    "duration": 13,
    "start_time": "2023-02-22T22:40:09.428Z"
   },
   {
    "duration": 11,
    "start_time": "2023-02-22T22:40:09.443Z"
   },
   {
    "duration": 165,
    "start_time": "2023-02-22T22:40:09.456Z"
   },
   {
    "duration": 161217,
    "start_time": "2023-02-22T22:40:09.623Z"
   },
   {
    "duration": 105,
    "start_time": "2023-02-22T22:42:50.841Z"
   },
   {
    "duration": 328,
    "start_time": "2023-02-22T22:42:50.948Z"
   },
   {
    "duration": 673,
    "start_time": "2023-02-22T22:42:51.277Z"
   },
   {
    "duration": 2,
    "start_time": "2023-02-22T22:42:51.952Z"
   },
   {
    "duration": 20,
    "start_time": "2023-02-22T22:42:51.956Z"
   },
   {
    "duration": 22,
    "start_time": "2023-02-22T22:42:51.978Z"
   },
   {
    "duration": 66,
    "start_time": "2023-02-22T22:42:52.002Z"
   },
   {
    "duration": 183,
    "start_time": "2023-02-22T22:42:52.070Z"
   },
   {
    "duration": 6,
    "start_time": "2023-02-22T22:42:52.255Z"
   },
   {
    "duration": 14,
    "start_time": "2023-02-22T22:42:52.262Z"
   },
   {
    "duration": 2732,
    "start_time": "2023-02-22T23:37:26.939Z"
   },
   {
    "duration": 2,
    "start_time": "2023-02-22T23:37:29.673Z"
   },
   {
    "duration": 91,
    "start_time": "2023-02-22T23:37:29.677Z"
   },
   {
    "duration": 71,
    "start_time": "2023-02-22T23:37:29.770Z"
   },
   {
    "duration": 16,
    "start_time": "2023-02-22T23:37:29.843Z"
   },
   {
    "duration": 80,
    "start_time": "2023-02-22T23:37:29.861Z"
   },
   {
    "duration": 11,
    "start_time": "2023-02-22T23:37:29.943Z"
   },
   {
    "duration": 8,
    "start_time": "2023-02-22T23:37:29.956Z"
   },
   {
    "duration": 401,
    "start_time": "2023-02-22T23:37:29.966Z"
   },
   {
    "duration": 5,
    "start_time": "2023-02-22T23:37:30.370Z"
   },
   {
    "duration": 92,
    "start_time": "2023-02-22T23:37:30.377Z"
   },
   {
    "duration": 97,
    "start_time": "2023-02-22T23:37:30.471Z"
   },
   {
    "duration": 4,
    "start_time": "2023-02-22T23:37:30.570Z"
   },
   {
    "duration": 72,
    "start_time": "2023-02-22T23:37:30.576Z"
   },
   {
    "duration": 14,
    "start_time": "2023-02-22T23:37:30.650Z"
   },
   {
    "duration": 30,
    "start_time": "2023-02-22T23:37:30.666Z"
   },
   {
    "duration": 2,
    "start_time": "2023-02-22T23:37:30.741Z"
   },
   {
    "duration": 95,
    "start_time": "2023-02-22T23:37:30.745Z"
   },
   {
    "duration": 10,
    "start_time": "2023-02-22T23:37:30.842Z"
   },
   {
    "duration": 16,
    "start_time": "2023-02-22T23:37:30.854Z"
   },
   {
    "duration": 17,
    "start_time": "2023-02-22T23:37:30.872Z"
   },
   {
    "duration": 9316,
    "start_time": "2023-02-22T23:37:30.940Z"
   },
   {
    "duration": 5,
    "start_time": "2023-02-22T23:37:40.258Z"
   },
   {
    "duration": 14,
    "start_time": "2023-02-22T23:37:40.265Z"
   },
   {
    "duration": 59,
    "start_time": "2023-02-22T23:37:40.281Z"
   },
   {
    "duration": 13,
    "start_time": "2023-02-22T23:37:40.343Z"
   },
   {
    "duration": 16,
    "start_time": "2023-02-22T23:37:40.358Z"
   },
   {
    "duration": 75,
    "start_time": "2023-02-22T23:37:40.380Z"
   },
   {
    "duration": 3,
    "start_time": "2023-02-22T23:37:40.457Z"
   },
   {
    "duration": 297,
    "start_time": "2023-02-22T23:37:40.462Z"
   },
   {
    "duration": 80,
    "start_time": "2023-02-22T23:37:40.761Z"
   },
   {
    "duration": 20,
    "start_time": "2023-02-22T23:37:40.844Z"
   },
   {
    "duration": 2,
    "start_time": "2023-02-22T23:37:40.866Z"
   },
   {
    "duration": 70,
    "start_time": "2023-02-22T23:37:40.870Z"
   },
   {
    "duration": 5,
    "start_time": "2023-02-22T23:37:40.943Z"
   },
   {
    "duration": 4,
    "start_time": "2023-02-22T23:37:40.950Z"
   },
   {
    "duration": 7,
    "start_time": "2023-02-22T23:37:40.956Z"
   },
   {
    "duration": 681,
    "start_time": "2023-02-22T23:37:40.965Z"
   },
   {
    "duration": 443876,
    "start_time": "2023-02-22T23:37:41.648Z"
   },
   {
    "duration": 116,
    "start_time": "2023-02-22T23:45:05.526Z"
   },
   {
    "duration": 416,
    "start_time": "2023-02-22T23:45:05.646Z"
   },
   {
    "duration": 287430,
    "start_time": "2023-02-22T23:45:06.064Z"
   },
   {
    "duration": 62,
    "start_time": "2023-02-22T23:49:53.495Z"
   },
   {
    "duration": 394,
    "start_time": "2023-02-22T23:49:53.560Z"
   },
   {
    "duration": 4,
    "start_time": "2023-02-22T23:49:53.956Z"
   },
   {
    "duration": 11,
    "start_time": "2023-02-22T23:49:53.961Z"
   },
   {
    "duration": 379,
    "start_time": "2023-02-22T23:49:53.973Z"
   },
   {
    "duration": 394849,
    "start_time": "2023-02-22T23:49:54.354Z"
   },
   {
    "duration": 141,
    "start_time": "2023-02-22T23:56:29.205Z"
   },
   {
    "duration": 378,
    "start_time": "2023-02-22T23:56:29.348Z"
   },
   {
    "duration": 15,
    "start_time": "2023-02-22T23:56:29.728Z"
   },
   {
    "duration": 15,
    "start_time": "2023-02-22T23:56:29.746Z"
   },
   {
    "duration": 178,
    "start_time": "2023-02-22T23:56:29.763Z"
   },
   {
    "duration": 164773,
    "start_time": "2023-02-22T23:56:29.942Z"
   },
   {
    "duration": 134,
    "start_time": "2023-02-22T23:59:14.717Z"
   },
   {
    "duration": 386,
    "start_time": "2023-02-22T23:59:14.853Z"
   },
   {
    "duration": 664,
    "start_time": "2023-02-22T23:59:15.241Z"
   },
   {
    "duration": 13,
    "start_time": "2023-02-22T23:59:15.907Z"
   },
   {
    "duration": 11,
    "start_time": "2023-02-22T23:59:15.922Z"
   },
   {
    "duration": 16,
    "start_time": "2023-02-22T23:59:15.935Z"
   },
   {
    "duration": 101,
    "start_time": "2023-02-22T23:59:15.953Z"
   },
   {
    "duration": 197,
    "start_time": "2023-02-22T23:59:16.056Z"
   },
   {
    "duration": 5,
    "start_time": "2023-02-22T23:59:16.254Z"
   },
   {
    "duration": 12,
    "start_time": "2023-02-22T23:59:16.261Z"
   },
   {
    "duration": 20,
    "start_time": "2023-02-23T00:07:50.757Z"
   },
   {
    "duration": 18,
    "start_time": "2023-02-23T00:08:44.141Z"
   },
   {
    "duration": 100,
    "start_time": "2023-02-23T00:09:03.142Z"
   },
   {
    "duration": 2032,
    "start_time": "2023-02-23T00:09:32.453Z"
   },
   {
    "duration": 2114,
    "start_time": "2023-02-23T00:09:47.566Z"
   },
   {
    "duration": 19,
    "start_time": "2023-02-23T00:10:00.476Z"
   },
   {
    "duration": 746,
    "start_time": "2023-02-23T00:17:34.728Z"
   },
   {
    "duration": 771,
    "start_time": "2023-02-23T00:17:51.032Z"
   },
   {
    "duration": 421,
    "start_time": "2023-02-23T00:18:05.234Z"
   },
   {
    "duration": 224,
    "start_time": "2023-02-23T00:18:15.116Z"
   },
   {
    "duration": 232,
    "start_time": "2023-02-23T00:19:07.796Z"
   },
   {
    "duration": 599,
    "start_time": "2023-02-23T00:19:29.732Z"
   },
   {
    "duration": 631,
    "start_time": "2023-02-23T00:21:05.225Z"
   },
   {
    "duration": 40,
    "start_time": "2023-02-23T00:21:06.782Z"
   },
   {
    "duration": 5,
    "start_time": "2023-02-23T00:21:20.537Z"
   },
   {
    "duration": 5,
    "start_time": "2023-02-23T00:21:43.454Z"
   },
   {
    "duration": 19,
    "start_time": "2023-02-23T00:21:48.789Z"
   },
   {
    "duration": 14,
    "start_time": "2023-02-23T00:21:59.394Z"
   },
   {
    "duration": 2199,
    "start_time": "2023-02-23T00:22:15.497Z"
   },
   {
    "duration": 39,
    "start_time": "2023-02-23T00:23:04.864Z"
   },
   {
    "duration": 46,
    "start_time": "2023-02-23T00:24:36.603Z"
   },
   {
    "duration": 115,
    "start_time": "2023-02-23T00:25:25.329Z"
   },
   {
    "duration": 502,
    "start_time": "2023-02-23T00:26:23.317Z"
   },
   {
    "duration": 674,
    "start_time": "2023-02-23T00:27:06.629Z"
   },
   {
    "duration": 44,
    "start_time": "2023-02-23T00:27:07.840Z"
   },
   {
    "duration": 504,
    "start_time": "2023-02-23T00:28:34.614Z"
   },
   {
    "duration": 1589,
    "start_time": "2023-02-23T00:29:39.301Z"
   },
   {
    "duration": 3,
    "start_time": "2023-02-23T00:29:40.893Z"
   },
   {
    "duration": 42,
    "start_time": "2023-02-23T00:29:40.898Z"
   },
   {
    "duration": 21,
    "start_time": "2023-02-23T00:29:40.944Z"
   },
   {
    "duration": 16,
    "start_time": "2023-02-23T00:29:40.967Z"
   },
   {
    "duration": 11,
    "start_time": "2023-02-23T00:29:40.985Z"
   },
   {
    "duration": 8,
    "start_time": "2023-02-23T00:29:40.998Z"
   },
   {
    "duration": 43,
    "start_time": "2023-02-23T00:29:41.007Z"
   },
   {
    "duration": 188,
    "start_time": "2023-02-23T00:29:41.052Z"
   },
   {
    "duration": 5,
    "start_time": "2023-02-23T00:29:41.242Z"
   },
   {
    "duration": 29,
    "start_time": "2023-02-23T00:29:41.248Z"
   },
   {
    "duration": 59,
    "start_time": "2023-02-23T00:29:41.279Z"
   },
   {
    "duration": 6,
    "start_time": "2023-02-23T00:29:41.340Z"
   },
   {
    "duration": 16,
    "start_time": "2023-02-23T00:29:41.348Z"
   },
   {
    "duration": 6,
    "start_time": "2023-02-23T00:29:41.366Z"
   },
   {
    "duration": 8,
    "start_time": "2023-02-23T00:29:41.374Z"
   },
   {
    "duration": 6,
    "start_time": "2023-02-23T00:29:41.384Z"
   },
   {
    "duration": 26,
    "start_time": "2023-02-23T00:29:41.391Z"
   },
   {
    "duration": 28,
    "start_time": "2023-02-23T00:29:41.419Z"
   },
   {
    "duration": 2,
    "start_time": "2023-02-23T00:29:41.450Z"
   },
   {
    "duration": 21,
    "start_time": "2023-02-23T00:29:41.455Z"
   },
   {
    "duration": 4838,
    "start_time": "2023-02-23T00:29:41.478Z"
   },
   {
    "duration": 4,
    "start_time": "2023-02-23T00:29:46.318Z"
   },
   {
    "duration": 9,
    "start_time": "2023-02-23T00:29:46.340Z"
   },
   {
    "duration": 5,
    "start_time": "2023-02-23T00:29:46.351Z"
   },
   {
    "duration": 7,
    "start_time": "2023-02-23T00:29:46.358Z"
   },
   {
    "duration": 10,
    "start_time": "2023-02-23T00:29:46.368Z"
   },
   {
    "duration": 19,
    "start_time": "2023-02-23T00:29:46.382Z"
   },
   {
    "duration": 4,
    "start_time": "2023-02-23T00:29:46.402Z"
   },
   {
    "duration": 145,
    "start_time": "2023-02-23T00:29:46.440Z"
   },
   {
    "duration": 21,
    "start_time": "2023-02-23T00:29:46.587Z"
   },
   {
    "duration": 37,
    "start_time": "2023-02-23T00:29:46.610Z"
   },
   {
    "duration": 2,
    "start_time": "2023-02-23T00:29:46.649Z"
   },
   {
    "duration": 9,
    "start_time": "2023-02-23T00:29:46.653Z"
   },
   {
    "duration": 13,
    "start_time": "2023-02-23T00:29:46.663Z"
   },
   {
    "duration": 9,
    "start_time": "2023-02-23T00:29:46.678Z"
   },
   {
    "duration": 10,
    "start_time": "2023-02-23T00:29:46.688Z"
   },
   {
    "duration": 311,
    "start_time": "2023-02-23T00:29:46.700Z"
   },
   {
    "duration": 284477,
    "start_time": "2023-02-23T00:29:47.012Z"
   },
   {
    "duration": 148,
    "start_time": "2023-02-23T00:34:31.491Z"
   },
   {
    "duration": 457,
    "start_time": "2023-02-23T00:34:31.646Z"
   },
   {
    "duration": 283904,
    "start_time": "2023-02-23T00:34:32.105Z"
   },
   {
    "duration": 43,
    "start_time": "2023-02-23T00:39:16.011Z"
   },
   {
    "duration": 294,
    "start_time": "2023-02-23T00:39:16.139Z"
   },
   {
    "duration": 5,
    "start_time": "2023-02-23T00:39:16.435Z"
   },
   {
    "duration": 12,
    "start_time": "2023-02-23T00:39:16.441Z"
   },
   {
    "duration": 390,
    "start_time": "2023-02-23T00:39:16.455Z"
   },
   {
    "duration": 382537,
    "start_time": "2023-02-23T00:39:16.847Z"
   },
   {
    "duration": 155,
    "start_time": "2023-02-23T00:45:39.386Z"
   },
   {
    "duration": 283,
    "start_time": "2023-02-23T00:45:39.543Z"
   },
   {
    "duration": 11,
    "start_time": "2023-02-23T00:45:39.829Z"
   },
   {
    "duration": 12,
    "start_time": "2023-02-23T00:45:39.841Z"
   },
   {
    "duration": 167,
    "start_time": "2023-02-23T00:45:39.855Z"
   },
   {
    "duration": 157707,
    "start_time": "2023-02-23T00:45:40.024Z"
   },
   {
    "duration": 103,
    "start_time": "2023-02-23T00:48:17.739Z"
   },
   {
    "duration": 299,
    "start_time": "2023-02-23T00:48:17.845Z"
   },
   {
    "duration": 639,
    "start_time": "2023-02-23T00:48:18.145Z"
   },
   {
    "duration": 510,
    "start_time": "2023-02-23T00:48:18.786Z"
   },
   {
    "duration": 49,
    "start_time": "2023-02-23T00:48:19.298Z"
   },
   {
    "duration": 17,
    "start_time": "2023-02-23T00:48:19.349Z"
   },
   {
    "duration": 125,
    "start_time": "2023-02-23T00:48:19.440Z"
   },
   {
    "duration": 5,
    "start_time": "2023-02-23T00:48:19.567Z"
   },
   {
    "duration": 25,
    "start_time": "2023-02-23T00:48:19.574Z"
   },
   {
    "duration": 18,
    "start_time": "2023-02-23T00:48:19.601Z"
   },
   {
    "duration": 3,
    "start_time": "2023-02-23T00:48:19.639Z"
   },
   {
    "duration": 9,
    "start_time": "2023-02-23T00:48:19.643Z"
   },
   {
    "duration": 12,
    "start_time": "2023-02-23T00:48:19.654Z"
   },
   {
    "duration": 80,
    "start_time": "2023-02-23T00:48:19.667Z"
   },
   {
    "duration": 170,
    "start_time": "2023-02-23T00:48:19.749Z"
   },
   {
    "duration": 5,
    "start_time": "2023-02-23T00:48:19.920Z"
   },
   {
    "duration": 19,
    "start_time": "2023-02-23T00:48:19.926Z"
   }
  ],
  "kernelspec": {
   "display_name": "Python 3 (ipykernel)",
   "language": "python",
   "name": "python3"
  },
  "language_info": {
   "codemirror_mode": {
    "name": "ipython",
    "version": 3
   },
   "file_extension": ".py",
   "mimetype": "text/x-python",
   "name": "python",
   "nbconvert_exporter": "python",
   "pygments_lexer": "ipython3",
   "version": "3.9.5"
  },
  "toc": {
   "base_numbering": 1,
   "nav_menu": {},
   "number_sections": true,
   "sideBar": true,
   "skip_h1_title": true,
   "title_cell": "Содержание",
   "title_sidebar": "Contents",
   "toc_cell": true,
   "toc_position": {
    "height": "calc(100% - 180px)",
    "left": "10px",
    "top": "150px",
    "width": "165px"
   },
   "toc_section_display": true,
   "toc_window_display": true
  }
 },
 "nbformat": 4,
 "nbformat_minor": 2
}
