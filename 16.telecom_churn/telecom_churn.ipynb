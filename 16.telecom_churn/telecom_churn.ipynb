{
 "cells": [
  {
   "cell_type": "markdown",
   "metadata": {},
   "source": [
    "**Проект телекоммуникации**"
   ]
  },
  {
   "cell_type": "markdown",
   "metadata": {},
   "source": [
    "## Описание проекта: телекоммуникации"
   ]
  },
  {
   "cell_type": "markdown",
   "metadata": {},
   "source": [
    "Оператор связи «Ниединогоразрыва.ком» хочет научиться прогнозировать отток клиентов. Если выяснится, что пользователь планирует уйти, ему будут предложены промокоды и специальные условия. Команда оператора собрала персональные данные о некоторых клиентах, информацию об их тарифах и договорах."
   ]
  },
  {
   "cell_type": "markdown",
   "metadata": {},
   "source": [
    "### Описание услуг"
   ]
  },
  {
   "cell_type": "markdown",
   "metadata": {},
   "source": [
    "Оператор предоставляет два основных типа услуг:\n",
    "\n",
    "Стационарную телефонную связь. Возможно подключение телефонного аппарата к нескольким линиям одновременно.\n",
    "Интернет. Подключение может быть двух типов: через телефонную линию (DSL, от англ. digital subscriber line, «цифровая абонентская линия») или оптоволоконный кабель (Fiber optic).\n",
    "Также доступны такие услуги:\n",
    "\n",
    " - Интернет-безопасность: антивирус (DeviceProtection) и блокировка небезопасных сайтов (OnlineSecurity);\n",
    " - Выделенная линия технической поддержки (TechSupport);\n",
    " - Облачное хранилище файлов для резервного копирования данных (OnlineBackup);\n",
    " - Стриминговое телевидение (StreamingTV) и каталог фильмов (StreamingMovies).\n",
    "\n",
    "За услуги клиенты могут платить каждый месяц или заключить договор на 1–2 года. Доступны различные способы расчёта и возможность получения электронного чека."
   ]
  },
  {
   "cell_type": "markdown",
   "metadata": {},
   "source": [
    "### Описание данных"
   ]
  },
  {
   "cell_type": "markdown",
   "metadata": {},
   "source": [
    "Данные состоят из файлов, полученных из разных источников:\n",
    "\n",
    " - contract.csv — информация о договоре;\n",
    " - personal.csv — персональные данные клиента;\n",
    " - internet.csv — информация об интернет-услугах;\n",
    " - phone.csv — информация об услугах телефонии."
   ]
  },
  {
   "cell_type": "markdown",
   "metadata": {},
   "source": [
    "### Описание полей данных"
   ]
  },
  {
   "cell_type": "markdown",
   "metadata": {},
   "source": [
    " - BeginDate – дата начала пользования услугами.\n",
    " - EndDate – дата окончания пользования услугами.\n",
    " - Type – тип оплаты: ежемесячный, годовой и тд.\n",
    " - PaperlessBilling – безналичный расчет.\n",
    " - PaymentMethod – способ оплаты.\n",
    " - MonthlyCharges – ежемесячные траты на услуги.\n",
    " - TotalCharges – всего потрачено денег на услуги.\n",
    " - Dependents – наличие иждивенцев.\n",
    " - Senior Citizen – наличие пенсионного статуса по возрасту.\n",
    " - Partner – наличие супруга(и).\n",
    " - MultipleLines – наличие возможности ведения параллельных линий во время звонка.\n",
    "\n",
    "Во всех файлах столбец customerID содержит код клиента.\n",
    "\n",
    "Информация о договорах актуальна на 1 февраля 2020."
   ]
  },
  {
   "cell_type": "markdown",
   "metadata": {},
   "source": [
    "## План работы"
   ]
  },
  {
   "cell_type": "markdown",
   "metadata": {},
   "source": [
    "1. Загрузить данные, сделать их предварительный анализ: рассмотреть и проанализировать каждый набор данных, посмотреть взаимосвязи.\n",
    "\n",
    "2. Провести предобработку данных, объединить данные, подготовить признаки и, при необходимости, добавить новые признаки. Выделить/создать целевой признак. Сделать исследовательский анализ данных (EDA) и выводы по результатам EDA.\n",
    "\n",
    "3. Разделить итоговый датасет на тренировочную и тестовую выборки. В случае необходимости, провести кодирование и масштабирование.\n",
    "\n",
    "4. Определить модели, подходящие для исследования (предварительно предполагается использовать Классификаторы LogisticRegression, CatBoost, LightGBM и одну из ассемблинговых моделей), провести подбор гиперпараметров, выделить важные фичи.\n",
    "\n",
    "5. Сравнить модели по результатам кросс-валидации и оценить эффективность лучшей модели на тестовой выборке.\n",
    "\n",
    "6. Провести анализ влияния различных факторов лучшей модели.\n",
    "\n",
    "7. Общий вывод по результатам исследования.\n",
    "\n",
    "PS: В процессе проведения исследования, план работ может быть скорректирован исходя из полученных результатов, а также в случае появления других дополнительных предпосылок."
   ]
  },
  {
   "cell_type": "code",
   "execution_count": null,
   "metadata": {},
   "outputs": [],
   "source": [
    "!pip install -U catboost"
   ]
  },
  {
   "cell_type": "code",
   "execution_count": null,
   "metadata": {},
   "outputs": [],
   "source": [
    "!pip install -U seaborn"
   ]
  },
  {
   "cell_type": "code",
   "execution_count": null,
   "metadata": {},
   "outputs": [],
   "source": [
    "!pip install -U scikit-learn"
   ]
  },
  {
   "cell_type": "code",
   "execution_count": null,
   "metadata": {},
   "outputs": [],
   "source": [
    "!pip install phik"
   ]
  },
  {
   "cell_type": "code",
   "execution_count": null,
   "metadata": {},
   "outputs": [],
   "source": [
    "! pip install shap"
   ]
  },
  {
   "cell_type": "code",
   "execution_count": null,
   "metadata": {},
   "outputs": [],
   "source": [
    "import pandas as pd\n",
    "import numpy as np\n",
    "\n",
    "import seaborn as sns\n",
    "import matplotlib.pyplot as plt\n",
    "\n",
    "import warnings\n",
    "warnings.filterwarnings(\"ignore\")\n",
    "import phik\n",
    "import shap\n",
    "\n",
    "from time import time\n",
    "# import tqdm\n",
    "from tqdm.notebook import tqdm\n",
    "from statsmodels.stats.outliers_influence import variance_inflation_factor\n",
    "from sklearn.utils import shuffle\n",
    "from sklearn.linear_model import LogisticRegression\n",
    "from sklearn.ensemble import RandomForestClassifier\n",
    "from catboost import CatBoostClassifier, Pool, cv\n",
    "from lightgbm import LGBMClassifier\n",
    "from sklearn.compose import make_column_transformer\n",
    "from sklearn.pipeline import make_pipeline\n",
    "\n",
    "from sklearn.model_selection import (\n",
    "    GridSearchCV, \n",
    "    RandomizedSearchCV,\n",
    "    train_test_split,\n",
    "    cross_val_score\n",
    ")\n",
    "\n",
    "from sklearn.preprocessing import (\n",
    "    OneHotEncoder,\n",
    "    OrdinalEncoder,\n",
    "    StandardScaler\n",
    ")\n",
    "\n",
    "from sklearn.metrics import roc_auc_score, f1_score, confusion_matrix, make_scorer, roc_curve\n",
    "\n",
    "RST = 30723"
   ]
  },
  {
   "cell_type": "code",
   "execution_count": null,
   "metadata": {},
   "outputs": [],
   "source": [
    "contract = pd.read_csv('/datasets/contract_new.csv', index_col=['customerID'],\n",
    "                          parse_dates=['BeginDate', 'EndDate'])\n",
    "personal = pd.read_csv('/datasets/personal_new.csv', index_col='customerID')\n",
    "internet = pd.read_csv('/datasets/internet_new.csv', index_col='customerID')\n",
    "phone = pd.read_csv('/datasets/phone_new.csv', index_col='customerID')"
   ]
  },
  {
   "cell_type": "markdown",
   "metadata": {},
   "source": [
    "## Предварительный анализ данных"
   ]
  },
  {
   "cell_type": "markdown",
   "metadata": {},
   "source": [
    "### Проанализируем таблицу **сontract**"
   ]
  },
  {
   "cell_type": "code",
   "execution_count": null,
   "metadata": {},
   "outputs": [],
   "source": [
    "contract.head()"
   ]
  },
  {
   "cell_type": "code",
   "execution_count": null,
   "metadata": {},
   "outputs": [],
   "source": [
    "contract.info()"
   ]
  },
  {
   "cell_type": "code",
   "execution_count": null,
   "metadata": {},
   "outputs": [],
   "source": [
    "#Проверим на пропуски\n",
    "contract.isna().sum()"
   ]
  },
  {
   "cell_type": "code",
   "execution_count": null,
   "metadata": {},
   "outputs": [],
   "source": [
    "# Проверим задвоенные значения\n",
    "contract.index.duplicated().sum()\n",
    "#contract.duplicated()"
   ]
  },
  {
   "cell_type": "code",
   "execution_count": null,
   "metadata": {},
   "outputs": [],
   "source": [
    "contract['EndDate'].value_counts()"
   ]
  },
  {
   "cell_type": "code",
   "execution_count": null,
   "metadata": {},
   "outputs": [],
   "source": [
    "contract['BeginDate'].value_counts().sort_values(ascending = True)"
   ]
  },
  {
   "cell_type": "code",
   "execution_count": null,
   "metadata": {},
   "outputs": [],
   "source": [
    "contract['BeginDate'].hist(figsize=(12,6))"
   ]
  },
  {
   "cell_type": "code",
   "execution_count": null,
   "metadata": {},
   "outputs": [],
   "source": [
    "contract['Type'].hist(figsize=(12,6))"
   ]
  },
  {
   "cell_type": "code",
   "execution_count": null,
   "metadata": {},
   "outputs": [],
   "source": [
    "contract['PaperlessBilling'].hist(figsize=(12,6))"
   ]
  },
  {
   "cell_type": "code",
   "execution_count": null,
   "metadata": {},
   "outputs": [],
   "source": [
    "contract['PaymentMethod'].hist(figsize=(12,6))"
   ]
  },
  {
   "cell_type": "code",
   "execution_count": null,
   "metadata": {},
   "outputs": [],
   "source": [
    "contract.groupby('Type')['MonthlyCharges'].count()"
   ]
  },
  {
   "cell_type": "code",
   "execution_count": null,
   "metadata": {},
   "outputs": [],
   "source": [
    "# Построим распределение признака `MonthlyCharges`\n",
    "contract['MonthlyCharges'].hist(bins=100, figsize=(12,6))"
   ]
  },
  {
   "cell_type": "markdown",
   "metadata": {},
   "source": [
    "Вывод по таблице **contract**\n",
    "\n",
    "- данные готовы для анализа, пропусков и дублирующих значений нет.\n",
    "- необходимо изменить тип данных для признаков BeginDate, EndDate, MonthlyCharges, TotalCharges\n",
    "- большенство клиентов выбирают платить каждый месяц. При этом, количество клиентов, которые оплачивают сразу на 2 года, больше, чем те, кто  оплачивают год.\n",
    "- Чаще клиенты выбирают электронную оплату. \n",
    "- еобходимо подробнее изучить ежемесячную оплату, изучить выброс в ней и распредение.\n"
   ]
  },
  {
   "cell_type": "markdown",
   "metadata": {},
   "source": [
    "### Проанализируем таблицу **personal**"
   ]
  },
  {
   "cell_type": "code",
   "execution_count": null,
   "metadata": {},
   "outputs": [],
   "source": [
    "personal.head()"
   ]
  },
  {
   "cell_type": "code",
   "execution_count": null,
   "metadata": {},
   "outputs": [],
   "source": [
    "personal.info()"
   ]
  },
  {
   "cell_type": "code",
   "execution_count": null,
   "metadata": {},
   "outputs": [],
   "source": [
    "# Проверим наличие пропусков\n",
    "personal.isna().sum()"
   ]
  },
  {
   "cell_type": "code",
   "execution_count": null,
   "metadata": {},
   "outputs": [],
   "source": [
    "# Проверим задвоенные значения\n",
    "personal.index.duplicated().sum()"
   ]
  },
  {
   "cell_type": "code",
   "execution_count": null,
   "metadata": {},
   "outputs": [],
   "source": [
    "# Распределение \n",
    "personal['gender'].hist(figsize=(5,4))\n",
    "plt.title('Пол клиента');"
   ]
  },
  {
   "cell_type": "code",
   "execution_count": null,
   "metadata": {},
   "outputs": [],
   "source": [
    "personal['SeniorCitizen'].value_counts(normalize = True)"
   ]
  },
  {
   "cell_type": "code",
   "execution_count": null,
   "metadata": {},
   "outputs": [],
   "source": [
    "personal['Partner'].value_counts(normalize = True)"
   ]
  },
  {
   "cell_type": "code",
   "execution_count": null,
   "metadata": {},
   "outputs": [],
   "source": [
    "personal['Dependents'].value_counts(normalize = True)"
   ]
  },
  {
   "cell_type": "markdown",
   "metadata": {},
   "source": [
    "Вывод по таблице **personal**\n",
    " - данные готовы для анализа, пропусков и дублирующих значений нет.\n",
    " - Клиенты распределены почти поровну по половому признаку.\n",
    " - Доля стариков значительно меньше, около 16%.\n",
    " - Доля женатых клиентов и неженатых клиентов - практически одинакова.\n",
    " - Отмечается перевес клиентов,  у которых нет иждивенцев. "
   ]
  },
  {
   "cell_type": "markdown",
   "metadata": {},
   "source": [
    "### Проанализируем таблицу **internet**"
   ]
  },
  {
   "cell_type": "code",
   "execution_count": null,
   "metadata": {},
   "outputs": [],
   "source": [
    "internet.head()"
   ]
  },
  {
   "cell_type": "code",
   "execution_count": null,
   "metadata": {},
   "outputs": [],
   "source": [
    "internet.info()"
   ]
  },
  {
   "cell_type": "code",
   "execution_count": null,
   "metadata": {},
   "outputs": [],
   "source": [
    "#Проверим на пропуски\n",
    "internet.isna().sum()"
   ]
  },
  {
   "cell_type": "code",
   "execution_count": null,
   "metadata": {},
   "outputs": [],
   "source": [
    "# Проверим задвоенные значения\n",
    "internet.index.duplicated().sum()"
   ]
  },
  {
   "cell_type": "code",
   "execution_count": null,
   "metadata": {},
   "outputs": [],
   "source": [
    "plt.style.use('fivethirtyeight')\n",
    "plt.figure(figsize=[20,15])\n",
    "plot_number=1\n",
    "for i in internet.columns:\n",
    "    ax=plt.subplot(3,3,plot_number)\n",
    "    sns.histplot(internet[i])\n",
    "    plot_number+=1\n",
    "\n",
    "plt.tight_layout()\n",
    "plt.show()"
   ]
  },
  {
   "cell_type": "code",
   "execution_count": null,
   "metadata": {},
   "outputs": [],
   "source": [
    "print('Тип интернет подключения:')\n",
    "internet['InternetService'].value_counts(normalize = True)"
   ]
  },
  {
   "cell_type": "code",
   "execution_count": null,
   "metadata": {},
   "outputs": [],
   "source": [
    "print('OnlineSecurity:')\n",
    "internet['OnlineSecurity'].value_counts(normalize = True)"
   ]
  },
  {
   "cell_type": "code",
   "execution_count": null,
   "metadata": {},
   "outputs": [],
   "source": [
    "print('OnlineBackup:')\n",
    "internet['OnlineBackup'].value_counts(normalize = True)"
   ]
  },
  {
   "cell_type": "code",
   "execution_count": null,
   "metadata": {},
   "outputs": [],
   "source": [
    "print('TechSupport:' )\n",
    "internet['TechSupport'].value_counts(normalize = True)"
   ]
  },
  {
   "cell_type": "code",
   "execution_count": null,
   "metadata": {},
   "outputs": [],
   "source": [
    "print('DeviceProtection:') \n",
    "internet['DeviceProtection'].value_counts(normalize = True)"
   ]
  },
  {
   "cell_type": "code",
   "execution_count": null,
   "metadata": {},
   "outputs": [],
   "source": [
    "print('Стриминговое телевидение')\n",
    "internet['StreamingTV'].value_counts(normalize = True)"
   ]
  },
  {
   "cell_type": "code",
   "execution_count": null,
   "metadata": {},
   "outputs": [],
   "source": [
    "print('Каталог фильмов')\n",
    "internet['StreamingMovies'].value_counts(normalize = True)"
   ]
  },
  {
   "cell_type": "markdown",
   "metadata": {},
   "source": [
    "Вывод по таблице **internet**\n",
    " - данные готовы для анализа, пропусков и дублирующих значений нет.\n",
    " - количество записей меньше, чем в предыдущих таблицах.В этом наборе данных присутсвуют уже не все пользователи, так не все клиенты компнии пользуются доступом в Интернет через этого провайдера.\n",
    " - пользователи чаще выбирают оптоволокно\n",
    " - услугами безопасности и техподдержкой пользуется меньшая половина позователнй \n",
    " - в стриминговых услугах почти равное распределение пользователей."
   ]
  },
  {
   "cell_type": "markdown",
   "metadata": {},
   "source": [
    "### Проанализируем таблицу **phone**"
   ]
  },
  {
   "cell_type": "code",
   "execution_count": null,
   "metadata": {},
   "outputs": [],
   "source": [
    "phone.head()"
   ]
  },
  {
   "cell_type": "code",
   "execution_count": null,
   "metadata": {},
   "outputs": [],
   "source": [
    "phone.info()"
   ]
  },
  {
   "cell_type": "code",
   "execution_count": null,
   "metadata": {},
   "outputs": [],
   "source": [
    "#Проверим на пропуски\n",
    "phone.isna().sum()"
   ]
  },
  {
   "cell_type": "code",
   "execution_count": null,
   "metadata": {},
   "outputs": [],
   "source": [
    "# Проверим задвоенные значения\n",
    "phone.index.duplicated().sum()"
   ]
  },
  {
   "cell_type": "code",
   "execution_count": null,
   "metadata": {},
   "outputs": [],
   "source": [
    "phone['MultipleLines'].hist()\n",
    "plt.title('Возможность ведения параллельных линий');"
   ]
  },
  {
   "cell_type": "markdown",
   "metadata": {},
   "source": [
    "Вывод по таблице **phone**\n",
    "\n",
    " - данные готовы для анализа, пропусков и дублирующих значений нет.\n",
    " - только часть клиентов использует услугу телефонии.\n",
    " - у большинства пользователй отсутствует функция ведения параллельных линий"
   ]
  },
  {
   "cell_type": "markdown",
   "metadata": {},
   "source": [
    "## Предобработка и исследовательский анализ данных (EDA)"
   ]
  },
  {
   "cell_type": "markdown",
   "metadata": {},
   "source": [
    "### Предобработка данных"
   ]
  },
  {
   "cell_type": "markdown",
   "metadata": {},
   "source": [
    "Добавим категориальный признак"
   ]
  },
  {
   "cell_type": "code",
   "execution_count": null,
   "metadata": {},
   "outputs": [],
   "source": [
    "contract['target'] = (contract['EndDate'] != 'No').astype(int)"
   ]
  },
  {
   "cell_type": "markdown",
   "metadata": {},
   "source": [
    "Перобразуем тип данных у признаков BeginDate, EndDate, MonthlyCharges, TotalCharges и заменим пропущенные значения"
   ]
  },
  {
   "cell_type": "code",
   "execution_count": null,
   "metadata": {},
   "outputs": [],
   "source": [
    "contract['BeginDate'] = pd.to_datetime(contract['BeginDate'])"
   ]
  },
  {
   "cell_type": "code",
   "execution_count": null,
   "metadata": {},
   "outputs": [],
   "source": [
    "contract['MonthlyCharges'] = contract['MonthlyCharges'].astype(float)"
   ]
  },
  {
   "cell_type": "code",
   "execution_count": null,
   "metadata": {},
   "outputs": [],
   "source": [
    "contract['EndDate'] = contract['EndDate'].replace('No', '2020-02-01')\n",
    "contract['EndDate'] = pd.to_datetime(contract['EndDate'])"
   ]
  },
  {
   "cell_type": "code",
   "execution_count": null,
   "metadata": {
    "scrolled": true
   },
   "outputs": [],
   "source": [
    "contract.query('TotalCharges ==  \" \"')"
   ]
  },
  {
   "cell_type": "markdown",
   "metadata": {},
   "source": [
    "Все пропуски обьясняются банальным отсутствием комисии, т.к. клиенты не пользовались услугами компании "
   ]
  },
  {
   "cell_type": "code",
   "execution_count": null,
   "metadata": {},
   "outputs": [],
   "source": [
    "contract['TotalCharges'] = contract['TotalCharges'].replace(' ', '0')\n",
    "contract['TotalCharges'] = contract['TotalCharges'].astype(float)"
   ]
  },
  {
   "cell_type": "code",
   "execution_count": null,
   "metadata": {},
   "outputs": [],
   "source": [
    "# проверка contract['TotalCharges'].value_counts()"
   ]
  },
  {
   "cell_type": "code",
   "execution_count": null,
   "metadata": {},
   "outputs": [],
   "source": [
    "personal['SeniorCitizen'] = personal['SeniorCitizen'].astype(str) # добавил для OHE"
   ]
  },
  {
   "cell_type": "markdown",
   "metadata": {},
   "source": [
    "Добавление дополнительных признаков"
   ]
  },
  {
   "cell_type": "code",
   "execution_count": null,
   "metadata": {},
   "outputs": [],
   "source": [
    "# Количество дней в течение которых клиент  пользовался услугами\n",
    "contract['period'] = (contract['EndDate'] - contract['BeginDate']).dt.days"
   ]
  },
  {
   "cell_type": "code",
   "execution_count": null,
   "metadata": {},
   "outputs": [],
   "source": [
    "#В таблицы internet и phone добавим признаки для информативности при объединении\n",
    "internet['Internet'] = '1'\n",
    "phone['Phone'] = '1'"
   ]
  },
  {
   "cell_type": "markdown",
   "metadata": {},
   "source": [
    "Объединение признаков"
   ]
  },
  {
   "cell_type": "code",
   "execution_count": null,
   "metadata": {},
   "outputs": [],
   "source": [
    "# contract = contract.join(personal)\n",
    "# contract = contract.join(internet)\n",
    "# contract = contract.join(phone)\n",
    "\n",
    "contract = pd.merge(contract, personal, left_index=True, right_index=True, how='left' )\n",
    "contract = pd.merge(contract, internet, left_index=True, right_index=True, how='left' )\n",
    "contract = pd.merge(contract, phone, left_index=True, right_index=True, how='left' )"
   ]
  },
  {
   "cell_type": "code",
   "execution_count": null,
   "metadata": {},
   "outputs": [],
   "source": [
    "df=contract.copy()"
   ]
  },
  {
   "cell_type": "code",
   "execution_count": null,
   "metadata": {},
   "outputs": [],
   "source": [
    "df.info()"
   ]
  },
  {
   "cell_type": "code",
   "execution_count": null,
   "metadata": {},
   "outputs": [],
   "source": [
    "df = df.fillna('No')"
   ]
  },
  {
   "cell_type": "code",
   "execution_count": null,
   "metadata": {},
   "outputs": [],
   "source": [
    "# Категориальная переменная на основании вышеуказанной\n",
    "# contract['q_period'] = pd.qcut(contract['period'], 3)\n",
    "# contract['q_period']\n",
    "df['cl_cat'] = pd.qcut(df['period'], 3, labels=['1','2','3'])\n",
    "df['cl_cat']"
   ]
  },
  {
   "cell_type": "code",
   "execution_count": null,
   "metadata": {},
   "outputs": [],
   "source": [
    "df.info()"
   ]
  },
  {
   "cell_type": "code",
   "execution_count": null,
   "metadata": {
    "scrolled": true
   },
   "outputs": [],
   "source": [
    "df.head(20)"
   ]
  },
  {
   "cell_type": "markdown",
   "metadata": {},
   "source": [
    "### Исследовательский анализ данных (EDA). "
   ]
  },
  {
   "cell_type": "code",
   "execution_count": null,
   "metadata": {},
   "outputs": [],
   "source": [
    "df.phik_matrix()"
   ]
  },
  {
   "cell_type": "markdown",
   "metadata": {},
   "source": [
    "Наблюдается мультиколлениарность между рядом признаков: target, EndDate,  period  и BeginDate. Это весьма логично, т.к. признаки  target и period  строились на основании BeginDate и EndDate. Чтобы избежать проблемы переобучения, при подготовке датасета для машинного обучения, BeginDate и EndDate необходимо будет удалить."
   ]
  },
  {
   "cell_type": "code",
   "execution_count": null,
   "metadata": {},
   "outputs": [],
   "source": [
    "ph_t = df.phik_matrix()\n",
    "ph_t.iloc[:, 7].sort_values(ascending=True).plot.barh(figsize = (14,10), label='probability', color='b', legend=True)\n",
    "plt.title('Влияние параметров на результирующий признак', fontsize=32)\n",
    "plt.show()"
   ]
  },
  {
   "cell_type": "code",
   "execution_count": null,
   "metadata": {},
   "outputs": [],
   "source": [
    "phik_overview = df.phik_matrix()\n",
    "phik_overview['target'].sort_values(ascending=False)"
   ]
  },
  {
   "cell_type": "markdown",
   "metadata": {},
   "source": [
    "Вышеукзанный график показывает \"вклад\" каждого признака в общий результат. "
   ]
  },
  {
   "cell_type": "markdown",
   "metadata": {},
   "source": [
    "Распределение целевого признака"
   ]
  },
  {
   "cell_type": "code",
   "execution_count": null,
   "metadata": {},
   "outputs": [],
   "source": [
    "df['target'].hist(figsize=(12,6))\n",
    "plt.title('Баланс классов');"
   ]
  },
  {
   "cell_type": "code",
   "execution_count": null,
   "metadata": {},
   "outputs": [],
   "source": [
    "df['target'].value_counts()"
   ]
  },
  {
   "cell_type": "code",
   "execution_count": null,
   "metadata": {},
   "outputs": [],
   "source": [
    "df['target'].value_counts(normalize = True)"
   ]
  },
  {
   "cell_type": "markdown",
   "metadata": {},
   "source": [
    "Наблюдается существенный дисбаланс целевого признака. Только 15,6 % клиентов отвергли сервис заказчика."
   ]
  },
  {
   "cell_type": "code",
   "execution_count": null,
   "metadata": {},
   "outputs": [],
   "source": [
    "sns.pairplot(df, hue = 'target')"
   ]
  },
  {
   "cell_type": "markdown",
   "metadata": {},
   "source": [
    "На графике видно что плоность ушедших клиентов больше у дорогих клиентов, у которых ежемесечный платеж выше. Необходимо разобрать отдельно. С точки зрения общих платежей, очень ушедших клиентов, кто обеспечил существенную выручку компании. "
   ]
  },
  {
   "cell_type": "code",
   "execution_count": null,
   "metadata": {},
   "outputs": [],
   "source": [
    "f, axes = plt.subplots(1, 1, figsize=(18, 9))\n",
    "axes.set_title('Распределения доли ежемесячных платежей клиентов', fontsize=22)\n",
    "axes.set_ylabel('Количество значений', fontsize=15)\n",
    "sns.histplot(df[df['target'] == 0]['MonthlyCharges'], bins=30, color = 'b')\n",
    "sns.histplot(df[df['target'] == 1]['MonthlyCharges'], bins = 30, color = 'r')\n",
    "axes.set_xlabel('Размер выручки', fontsize=15)\n",
    "plt.axvline(df[df['target']  == 0]['MonthlyCharges'].mean(), 0, color = 'b', linestyle='--', linewidth = 4)\n",
    "plt.axvline(df[df['target']  == 1]['MonthlyCharges'].mean(), 0, color = 'r', linestyle='--', linewidth = 4)\n",
    "axes.legend(labels=[\"Среднее значение для действующих клиентов\",\"Среднее значение для ушедших клиентов\", \n",
    "                    \"Оставшиеся клиенты\",\"Ушедшие клиенты\"], fontsize=12);"
   ]
  },
  {
   "cell_type": "markdown",
   "metadata": {},
   "source": [
    "Из графика видно, что уходят клиенты с большим среднемесячным платежом"
   ]
  },
  {
   "cell_type": "markdown",
   "metadata": {},
   "source": [
    "**Вывод по результатам EDA.**\n",
    "\n",
    " - Был проведен исследовательский анализ данных.\n",
    " - Выявлен дизбаланс классов результирующего признака.\n",
    " - Показано,  что в основном ушедшие клиенты были те, у которых ежемесечный платеж был от 70 до 110.\n",
    " - Также наблюдается нулевая корреляция между результирующим признаком и использованием услуг телефони, т.е. аказчик в первую очередь выступает, телефонным оператором, а уже потом как интернет провайдер.\n",
    " - Используя пакет Phik, рассмотрели какие параметры оказывают наибольшее влияние на конечный резульат.\n",
    " -  Была выявлена мультиколлениарность между рядом признаков: target, EndDate, period и BeginDate. Это весьма логично, т.к. мы построили признаки target и period на основании BeginDate и EndDate. Чтобы избежать проблемы переобучения, при подготовке датасета для машинного обучения, BeginDate и EndDate необходимо будет удалить.\n",
    " \n"
   ]
  },
  {
   "cell_type": "markdown",
   "metadata": {},
   "source": [
    "##  Разделение датасета на тренировочную и тестовую выборки. Кодирование и масштабирование"
   ]
  },
  {
   "cell_type": "code",
   "execution_count": null,
   "metadata": {},
   "outputs": [],
   "source": [
    "df.columns#.to_list()\n",
    "df.dtypes"
   ]
  },
  {
   "cell_type": "code",
   "execution_count": null,
   "metadata": {},
   "outputs": [],
   "source": [
    "#Удаляем лишние ячейки\n",
    "data = df.drop(['EndDate', 'BeginDate'], axis=1,  errors='ignore') #inplace= True,\n",
    "data.columns"
   ]
  },
  {
   "cell_type": "code",
   "execution_count": null,
   "metadata": {},
   "outputs": [],
   "source": [
    "# features = df.drop('target', axis=1)\n",
    "# target = df['target']\n",
    "X=[col for col in data.columns if col != 'target']\n",
    "y=['target']\n",
    "X"
   ]
  },
  {
   "cell_type": "code",
   "execution_count": null,
   "metadata": {},
   "outputs": [],
   "source": [
    "numeric_features = ['MonthlyCharges', 'TotalCharges', 'period']"
   ]
  },
  {
   "cell_type": "code",
   "execution_count": null,
   "metadata": {},
   "outputs": [],
   "source": [
    "cat_features = [col for col in data.columns if (col not in numeric_features) and  (col != 'target')]\n",
    "cat_features"
   ]
  },
  {
   "cell_type": "code",
   "execution_count": null,
   "metadata": {},
   "outputs": [],
   "source": [
    "X_train, X_test, y_train, y_test, = train_test_split(data[X], data[y], test_size=0.25, stratify=data[y], random_state=RST)        "
   ]
  },
  {
   "cell_type": "code",
   "execution_count": null,
   "metadata": {},
   "outputs": [],
   "source": [
    "print(f\"Количество строк в X_train по классам: {X_train.shape[0]}\")\n",
    "print(f\"Количество строк в X_test по классам: {X_test.shape[0]}\")\n",
    "\n",
    "print(f\"Количество строк в y_train по классам: {y_train.shape[0]}\")\n",
    "print(f\"Количество строк в y_test по классам: {y_test.shape[0]}\")\n",
    "\n",
    "\n",
    "print(f\"Пропорция по X: {X_test.shape[0]/X_train.shape[0]}\")\n",
    "print(f\"Пропорция по y: {y_test.shape[0]/y_train.shape[0]}\")"
   ]
  },
  {
   "cell_type": "code",
   "execution_count": null,
   "metadata": {},
   "outputs": [],
   "source": [
    "train = pd.merge(X_train, y_train, left_index=True, right_index=True, how='left' )\n",
    "test = pd.merge(X_test, y_test, left_index=True, right_index=True, how='left' )"
   ]
  },
  {
   "cell_type": "code",
   "execution_count": null,
   "metadata": {},
   "outputs": [],
   "source": [
    "print(f\"Количество строк в train по классам: {train.shape}\")\n",
    "print(f\"Количество строк в test по классам: {test.shape}\")"
   ]
  },
  {
   "cell_type": "markdown",
   "metadata": {},
   "source": [
    "Создадим два набора данных. Один оставим без преобразования (для использования в PipeLine и для бустинговых моделей), а второй стандартизируеи и закодируем."
   ]
  },
  {
   "cell_type": "code",
   "execution_count": null,
   "metadata": {},
   "outputs": [],
   "source": [
    "X_train_st = X_train.copy()\n",
    "X_test_st = X_test.copy()\n",
    "y_train_st = y_train.copy()\n",
    "y_test_st = y_test.copy()"
   ]
  },
  {
   "cell_type": "markdown",
   "metadata": {},
   "source": [
    "Кодируем признаки методом OHE"
   ]
  },
  {
   "cell_type": "code",
   "execution_count": null,
   "metadata": {},
   "outputs": [],
   "source": [
    "X_train_st[cat_features].dtypes"
   ]
  },
  {
   "cell_type": "code",
   "execution_count": null,
   "metadata": {},
   "outputs": [],
   "source": [
    "X_train_st['MultipleLines'].value_counts()"
   ]
  },
  {
   "cell_type": "code",
   "execution_count": null,
   "metadata": {},
   "outputs": [],
   "source": [
    "ohe_features = cat_features #['MonthlyCharges', 'TotalCharges', 'period']"
   ]
  },
  {
   "cell_type": "code",
   "execution_count": null,
   "metadata": {},
   "outputs": [],
   "source": [
    "encoder_ohe = OneHotEncoder(drop='first', handle_unknown='error', sparse=False)"
   ]
  },
  {
   "cell_type": "code",
   "execution_count": null,
   "metadata": {},
   "outputs": [],
   "source": [
    "encoder_ohe.fit(X_train_st[ohe_features])"
   ]
  },
  {
   "cell_type": "code",
   "execution_count": null,
   "metadata": {},
   "outputs": [],
   "source": [
    "X_train_st[encoder_ohe.get_feature_names_out()] = encoder_ohe.transform(X_train_st[ohe_features])"
   ]
  },
  {
   "cell_type": "code",
   "execution_count": null,
   "metadata": {},
   "outputs": [],
   "source": [
    "X_train_st = X_train_st.drop(ohe_features, axis=1)"
   ]
  },
  {
   "cell_type": "code",
   "execution_count": null,
   "metadata": {},
   "outputs": [],
   "source": [
    "X_test_st[encoder_ohe.get_feature_names_out()] = encoder_ohe.transform(X_test_st[ohe_features])"
   ]
  },
  {
   "cell_type": "code",
   "execution_count": null,
   "metadata": {},
   "outputs": [],
   "source": [
    "X_test_st = X_test_st.drop(ohe_features, axis=1)"
   ]
  },
  {
   "cell_type": "code",
   "execution_count": null,
   "metadata": {},
   "outputs": [],
   "source": [
    "X_train_st.head()"
   ]
  },
  {
   "cell_type": "markdown",
   "metadata": {},
   "source": [
    "Cтандартизируем признаки "
   ]
  },
  {
   "cell_type": "code",
   "execution_count": null,
   "metadata": {},
   "outputs": [],
   "source": [
    "scaler = StandardScaler()\n",
    "scaler.fit(X_train_st[numeric_features])\n",
    "X_train_st[numeric_features] = scaler.transform(X_train_st[numeric_features])\n",
    "X_test_st[numeric_features]  = scaler.transform(X_test_st[numeric_features])"
   ]
  },
  {
   "cell_type": "markdown",
   "metadata": {},
   "source": [
    "## Моделирование"
   ]
  },
  {
   "cell_type": "code",
   "execution_count": null,
   "metadata": {},
   "outputs": [],
   "source": [
    "%%time\n",
    "# Логистическая регрессия\n",
    "#  https://stackoverflow.com/questions/39163354/evaluating-logistic-regression-with-cross-validation\n",
    "model_log = LogisticRegression(solver = 'liblinear', random_state=RST, class_weight='balanced')\n",
    "roc_auc_log = cross_val_score(model_log, X_train_st, y_train_st, cv=4,scoring='roc_auc').mean()\n",
    "print (roc_auc_log)"
   ]
  },
  {
   "cell_type": "code",
   "execution_count": null,
   "metadata": {},
   "outputs": [],
   "source": [
    "%%time\n",
    "# Случайный лес\n",
    "\n",
    "model_rf = RandomForestClassifier(random_state=RST)\n",
    "\n",
    "param_grid_rf = {\n",
    "    'n_estimators': range(50, 251, 50),\n",
    "    'max_depth': range(2, 15),\n",
    "    'min_samples_split': (2, 3, 4),\n",
    "    'min_samples_leaf': (1, 2, 3, 4)\n",
    "}\n",
    "model_rf.fit(X_train_st, y_train_st) "
   ]
  },
  {
   "cell_type": "code",
   "execution_count": null,
   "metadata": {},
   "outputs": [],
   "source": [
    "%%time\n",
    "rf_grid = RandomizedSearchCV(model_rf,  param_grid_rf, scoring='roc_auc', cv=4)\n",
    "rf_grid.fit(X_train_st, y_train_st)"
   ]
  },
  {
   "cell_type": "code",
   "execution_count": null,
   "metadata": {},
   "outputs": [],
   "source": [
    "rf_grid.best_params_"
   ]
  },
  {
   "cell_type": "code",
   "execution_count": null,
   "metadata": {},
   "outputs": [],
   "source": [
    "roc_auc_rf = rf_grid.best_score_\n",
    "roc_auc_rf"
   ]
  },
  {
   "cell_type": "code",
   "execution_count": null,
   "metadata": {
    "scrolled": true
   },
   "outputs": [],
   "source": [
    "grid = {'learning_rate': [0.01, 0.05, 0,1],\n",
    "        'depth': [4, 6],\n",
    "        'l2_leaf_reg': [1, 3, 5]}\n",
    "\n",
    "#grid = {'learning_rate': [0.03, 0.1]}\n",
    "\n",
    "params = {'cat_features': cat_features,\n",
    "              'eval_metric': 'AUC',\n",
    "               'eval_metric': 'AUC',\n",
    "              'random_seed': RST,\n",
    "              'iterations' :1000, \n",
    "              'early_stopping_rounds': 200,\n",
    "              'verbose':200}\n",
    "\n",
    "cat_model = CatBoostClassifier(**params)\n",
    "\n",
    "cv_dataset = Pool(data=X_train, label=y_train, cat_features=cat_features, has_header=True)    \n",
    "grid_search_result = cat_model.grid_search(grid, cv_dataset, cv=2 )\n"
   ]
  },
  {
   "cell_type": "code",
   "execution_count": null,
   "metadata": {
    "scrolled": true
   },
   "outputs": [],
   "source": [
    "# cat_search = GridSearchCV(cat_model, grid, cv=5, scoring='roc_auc')\n",
    "cat_search = cv(cat_model, grid, cv=5, scoring='roc_auc')\n",
    "cat_search.fit(X_train, y_train)"
   ]
  },
  {
   "cell_type": "code",
   "execution_count": null,
   "metadata": {},
   "outputs": [],
   "source": [
    "cat_model.best_score_"
   ]
  },
  {
   "cell_type": "code",
   "execution_count": null,
   "metadata": {
    "scrolled": true
   },
   "outputs": [],
   "source": [
    "cat_model.get_params()"
   ]
  },
  {
   "cell_type": "code",
   "execution_count": null,
   "metadata": {
    "scrolled": true
   },
   "outputs": [],
   "source": [
    "for key,value in cat_model.get_all_params().items():\n",
    "    print('{}, {}'.format(key,value))"
   ]
  },
  {
   "cell_type": "code",
   "execution_count": null,
   "metadata": {
    "scrolled": true
   },
   "outputs": [],
   "source": [
    "cv_roc_cat= cross_val_score(cat_search, X_train, y_train, cv=2,  verbose=20)"
   ]
  },
  {
   "cell_type": "code",
   "execution_count": null,
   "metadata": {},
   "outputs": [],
   "source": [
    "roc_auc_cat= cv_roc_cat.mean()\n",
    "print('ROC_AUC Catboost:', roc_auc_cat)\n"
   ]
  },
  {
   "cell_type": "markdown",
   "metadata": {},
   "source": [
    "LightGBM"
   ]
  },
  {
   "cell_type": "code",
   "execution_count": null,
   "metadata": {},
   "outputs": [],
   "source": [
    "%%time\n",
    "#LightGBM\n",
    "import lightgbm\n",
    "lgbm_train_data = lightgbm.Dataset(X_train, label=y_train, )\n",
    "\n",
    "X_train[cat_features].astype('category')\n",
    "\n",
    "LightGBM_model = LGBMClassifier()\n",
    "hyperparams = [{'max_depth' : [1], # -1, 1\n",
    "                'learning_rate':[0.3], \n",
    "                'n_estimators' : [100],  # 200\n",
    "                'random_state':RST}]\n",
    "\n",
    "\n",
    "lgcv = GridSearchCV(LightGBM_model, hyperparams, scoring='roc_auc',cv=3)\n",
    "LightGBM_model.fit(X_train_st, y_train_st)"
   ]
  },
  {
   "cell_type": "code",
   "execution_count": null,
   "metadata": {},
   "outputs": [],
   "source": [
    "cv_roc_lgbm = cross_val_score(LightGBM_model, X_train_st, y_train_st, cv=4, verbose=20)"
   ]
  },
  {
   "cell_type": "code",
   "execution_count": null,
   "metadata": {},
   "outputs": [],
   "source": [
    "roc_auc_lg= cv_roc_lgbm.mean()\n",
    "print('ROC_AUC LGBM:', roc_auc_lg)"
   ]
  },
  {
   "cell_type": "markdown",
   "metadata": {},
   "source": [
    "## Сравнить модели и оценить их эффективность на тестовой выборке"
   ]
  },
  {
   "cell_type": "code",
   "execution_count": null,
   "metadata": {
    "scrolled": true
   },
   "outputs": [],
   "source": [
    "result = pd.DataFrame(\n",
    "    [roc_auc_log, roc_auc_rf, roc_auc_cat, roc_auc_lg], \n",
    "    index=['LogisticRegression', 'RandomForest', 'CatBoostClassifier', 'LGBM'], \n",
    "    columns=['ROC-AUC']\n",
    ")\n",
    "result"
   ]
  },
  {
   "cell_type": "markdown",
   "metadata": {},
   "source": [
    "Лучший результат на трейнинговой выборке показал CatBoost"
   ]
  },
  {
   "cell_type": "code",
   "execution_count": null,
   "metadata": {
    "scrolled": true
   },
   "outputs": [],
   "source": [
    "# predicted_probalities = cat_search.best_estimator_.predict_proba(X_test)[:, 1]\n",
    "probabilities_valid = cat_search.best_estimator_.predict_proba(X_test)\n",
    "probabilities_one_test = probabilities_valid[:, 1]\n",
    "\n",
    "roc_auc = roc_auc_score(y_test, probabilities_one_test)\n",
    "roc_auc"
   ]
  },
  {
   "cell_type": "code",
   "execution_count": null,
   "metadata": {},
   "outputs": [],
   "source": [
    "predict_test = cat_search.best_estimator_.predict(X_test)\n",
    "\n",
    "print('Метрики CatBoost')\n",
    "print('ROC AUC:', roc_auc_score(y_test, probabilities_one_test))\n",
    "print('F1:', f1_score(y_test, predict_test))\n",
    "print()\n"
   ]
  },
  {
   "cell_type": "code",
   "execution_count": null,
   "metadata": {},
   "outputs": [],
   "source": [
    "fpr, tpr, thresholds = roc_curve(y_test, probabilities_one_test)\n",
    "\n",
    "plt.figure(figsize=[12,9])\n",
    "\n",
    "plt.plot([0, 1], [0, 1], linestyle='--', label='RandomModel')\n",
    "\n",
    "\n",
    "plt.xlim([-0.02,1])\n",
    "plt.ylim([-0.02,1])\n",
    "\n",
    "plt.xlabel(\"False Positive Rate\")\n",
    "plt.ylabel(\"True Positive Rate\")\n",
    "plt.plot(fpr, tpr, label='CatBoost')\n",
    "plt.legend(loc='lower right', fontsize='x-large')\n",
    "\n",
    "plt.title(\"ROC-кривая\")\n",
    "plt.show()"
   ]
  },
  {
   "cell_type": "code",
   "execution_count": null,
   "metadata": {},
   "outputs": [],
   "source": [
    "# model.get_feature_importance(prettified=True)\n",
    "# phik_overview['Exited'].sort_values(ascending=False)"
   ]
  },
  {
   "cell_type": "code",
   "execution_count": null,
   "metadata": {},
   "outputs": [],
   "source": [
    "importances_df = pd.DataFrame(cat_search.best_estimator_.feature_importances_, index = X_test.columns, columns=['importances'])\n",
    "importances_df = importances_df.sort_values(by='importances', ascending=False)\n",
    "importances_df"
   ]
  },
  {
   "cell_type": "code",
   "execution_count": null,
   "metadata": {},
   "outputs": [],
   "source": [
    "importances_df.plot(kind='barh', figsize=(10, 8), title='Важность факторов')\n",
    "plt.show()"
   ]
  },
  {
   "cell_type": "markdown",
   "metadata": {},
   "source": [
    "**Shap**"
   ]
  },
  {
   "cell_type": "code",
   "execution_count": null,
   "metadata": {},
   "outputs": [],
   "source": [
    "! pip install shap"
   ]
  },
  {
   "cell_type": "code",
   "execution_count": null,
   "metadata": {},
   "outputs": [],
   "source": [
    "import shap\n",
    "shap.initjs()"
   ]
  },
  {
   "cell_type": "code",
   "execution_count": null,
   "metadata": {},
   "outputs": [],
   "source": [
    "explainer = shap.TreeExplainer(model)\n",
    "shap_values = explainer.shap_values(test[X])"
   ]
  },
  {
   "cell_type": "code",
   "execution_count": null,
   "metadata": {},
   "outputs": [],
   "source": [
    "shap.summary_plot(shap_values, test[X])"
   ]
  },
  {
   "cell_type": "code",
   "execution_count": null,
   "metadata": {},
   "outputs": [],
   "source": [
    "shap.dependence_plot(\"NumOfProducts\", shap_values, test[X])"
   ]
  },
  {
   "cell_type": "markdown",
   "metadata": {},
   "source": [
    "**Дополнительное задание**"
   ]
  },
  {
   "cell_type": "code",
   "execution_count": null,
   "metadata": {},
   "outputs": [],
   "source": [
    "# test['y_score_no_cross_val'] = model.predict_proba(test_data)[:,1]"
   ]
  },
  {
   "cell_type": "code",
   "execution_count": null,
   "metadata": {},
   "outputs": [],
   "source": [
    "# probabilities_valid = cat_search.best_estimator_.predict_proba(X_test)\n",
    "# probabilities_one_test = probabilities_valid[:, 1]\n",
    "\n",
    "# roc_auc = roc_auc_score(y_test, probabilities_one_test)\n",
    "# roc_auc\n",
    "\n",
    "# cat_search.best_estimator_.predict_proba(X_test)"
   ]
  },
  {
   "cell_type": "code",
   "execution_count": null,
   "metadata": {},
   "outputs": [],
   "source": [
    "test['score_catboost'] = cat_search.best_estimator_.predict_proba(X_test)[:,1]"
   ]
  },
  {
   "cell_type": "code",
   "execution_count": null,
   "metadata": {},
   "outputs": [],
   "source": [
    "test"
   ]
  },
  {
   "cell_type": "code",
   "execution_count": null,
   "metadata": {},
   "outputs": [],
   "source": [
    "plt.style.use('dark_background')\n",
    "test['score_catboost'].hist()"
   ]
  },
  {
   "cell_type": "code",
   "execution_count": null,
   "metadata": {},
   "outputs": [],
   "source": [
    "test['y_pred'] = (test['score_catboost'] > 0.5) * 1"
   ]
  },
  {
   "cell_type": "code",
   "execution_count": null,
   "metadata": {},
   "outputs": [],
   "source": [
    "test['y_pred'].mean()"
   ]
  },
  {
   "cell_type": "code",
   "execution_count": null,
   "metadata": {},
   "outputs": [],
   "source": [
    "confusion_matrix(test[y],test['y_pred'])"
   ]
  },
  {
   "cell_type": "code",
   "execution_count": null,
   "metadata": {},
   "outputs": [],
   "source": [
    "tn, fp, fn, tp = confusion_matrix(test[y],test['y_pred']).ravel()"
   ]
  },
  {
   "cell_type": "code",
   "execution_count": null,
   "metadata": {},
   "outputs": [],
   "source": [
    "tn, fp, fn, tp"
   ]
  },
  {
   "cell_type": "code",
   "execution_count": null,
   "metadata": {},
   "outputs": [],
   "source": [
    "test['y_pred_new'] = (test['score_catboost'] > 0.4) * 1"
   ]
  },
  {
   "cell_type": "code",
   "execution_count": null,
   "metadata": {},
   "outputs": [],
   "source": [
    "f1_score(test[y],test['y_pred'])"
   ]
  },
  {
   "cell_type": "code",
   "execution_count": null,
   "metadata": {},
   "outputs": [],
   "source": [
    "f1_score(test[y],test['y_pred_new'])"
   ]
  },
  {
   "cell_type": "code",
   "execution_count": null,
   "metadata": {},
   "outputs": [],
   "source": [
    "len(test['score_catboost'])"
   ]
  },
  {
   "cell_type": "code",
   "execution_count": null,
   "metadata": {},
   "outputs": [],
   "source": [
    "test['score_catboost'].nunique()"
   ]
  },
  {
   "cell_type": "code",
   "execution_count": null,
   "metadata": {},
   "outputs": [],
   "source": [
    "thrs = [0] + list(test['score_catboost'].unique())"
   ]
  },
  {
   "cell_type": "code",
   "execution_count": null,
   "metadata": {},
   "outputs": [],
   "source": [
    "from tqdm.notebook import tqdm"
   ]
  },
  {
   "cell_type": "code",
   "execution_count": null,
   "metadata": {},
   "outputs": [],
   "source": [
    "result = []\n",
    "for thr in tqdm(thrs):\n",
    "    test['y_pred_new'] = (test['score_catboost'] > thr) * 1\n",
    "    result.append((thr, f1_score(test[y],test['y_pred_new'])))"
   ]
  },
  {
   "cell_type": "code",
   "execution_count": null,
   "metadata": {},
   "outputs": [],
   "source": [
    "t = pd.DataFrame(result,columns=['thr','f1'])"
   ]
  },
  {
   "cell_type": "code",
   "execution_count": null,
   "metadata": {},
   "outputs": [],
   "source": [
    "\n",
    "t.sort_values('f1',ascending=False)\n"
   ]
  },
  {
   "cell_type": "code",
   "execution_count": null,
   "metadata": {},
   "outputs": [],
   "source": [
    "t[t['f1'] == t['f1'].max()]"
   ]
  },
  {
   "cell_type": "code",
   "execution_count": null,
   "metadata": {},
   "outputs": [],
   "source": [
    "test['y_pred_new'] = (test['score_catboost'] > 0.49978) * 1"
   ]
  },
  {
   "cell_type": "code",
   "execution_count": null,
   "metadata": {},
   "outputs": [],
   "source": [
    "confusion_matrix(test[y],test['y_pred_new'])"
   ]
  },
  {
   "cell_type": "code",
   "execution_count": null,
   "metadata": {},
   "outputs": [],
   "source": [
    "from sklearn.metrics import accuracy_score\n",
    "accuracy_score(test[y],test['y_pred'])"
   ]
  },
  {
   "cell_type": "code",
   "execution_count": null,
   "metadata": {},
   "outputs": [],
   "source": [
    "accuracy_score(test[y],test['y_pred_new'])"
   ]
  },
  {
   "cell_type": "code",
   "execution_count": null,
   "metadata": {},
   "outputs": [],
   "source": [
    "from sklearn.metrics import classification_report"
   ]
  },
  {
   "cell_type": "code",
   "execution_count": null,
   "metadata": {},
   "outputs": [],
   "source": [
    "print(classification_report(test[y],test['y_pred']))"
   ]
  },
  {
   "cell_type": "code",
   "execution_count": null,
   "metadata": {},
   "outputs": [],
   "source": [
    "print(classification_report(test[y],test['y_pred_new']))"
   ]
  },
  {
   "cell_type": "code",
   "execution_count": null,
   "metadata": {},
   "outputs": [],
   "source": [
    "result1 = []\n",
    "for thr in tqdm(thrs):\n",
    "    test['y_pred_new'] = (test['score_catboost'] > thr) * 1\n",
    "    result.append((thr, accuracy_score(test[y],test['y_pred_new'])))"
   ]
  },
  {
   "cell_type": "code",
   "execution_count": null,
   "metadata": {},
   "outputs": [],
   "source": [
    "t1 = pd.DataFrame(result1,columns=['thr','accur'])\n",
    "t1"
   ]
  },
  {
   "cell_type": "code",
   "execution_count": null,
   "metadata": {},
   "outputs": [],
   "source": [
    "t1.sort_values('accur',ascending=False)"
   ]
  },
  {
   "cell_type": "code",
   "execution_count": null,
   "metadata": {},
   "outputs": [],
   "source": [
    "t1[t1['accur'] == t1['accur'].max()]"
   ]
  },
  {
   "cell_type": "markdown",
   "metadata": {},
   "source": [
    "## Общий вывод по результатам исследования"
   ]
  },
  {
   "cell_type": "markdown",
   "metadata": {},
   "source": [
    "В рамках проекта было проведено исследование поведения клиентов оператора связи «Ниединогоразрыва.ком». \n",
    "\n",
    "\n",
    "На первом этапе были загружены данные, сделан их предварительный анализ.\n",
    "Сделан исследовательский анализ данных (EDA).  Сделана визуализация влияния признаков с использованием пакета phik.\n",
    "\n",
    "Были построены модели машинного обучения и подобранны гиперпараметры.\n",
    "Были обучены 4 модели:\n",
    "\n",
    " - LogisticRegression,\n",
    " - RandomForestClassifier\n",
    " - CatBoostClassifier\n",
    " - LGBM\n",
    "\n",
    " - Лучший результат показала модель CatBoostClassifier со значением ROC-AUC на тестовой выборке 0.91, что выше, чем требуемое значение.\n",
    "\n",
    " - Самые важные факторы - сколько клиент пользуется услугами и сколько он платит в месяц"
   ]
  },
  {
   "cell_type": "markdown",
   "metadata": {},
   "source": [
    "# Отчет по итогам проекта"
   ]
  },
  {
   "attachments": {
    "image-2.png": {
     "image/png": "[encoded data removed]"
    },
    "image-3.png": {
     "image/png": "[encoded data removed]"
    },
    "image.png": {
     "image/png": "[encoded data removed]"
    }
   },
   "cell_type": "markdown",
   "metadata": {},
   "source": [
    "Описание проекта\n",
    "\n",
    "Оператор связи «Ниединогоразрыва.ком» хочет научиться прогнозировать отток клиентов. Если выяснится, что пользователь планирует уйти, ему будут предложены промокоды и специальные условия. Команда оператора собрала персональные данные о некоторых клиентах, информацию об их тарифах и договорах.\n",
    "Исследование в рамках проекта было проведено в соответствии с первоначально составленным планом, в котором были предусмотрены все необходимые шаги, чтобы добиться основной цели проекта.\n",
    "\n",
    "Первоначальный план проекта:\n",
    "\n",
    "1. Загрузить данные, сделать их предварительный анализ: рассмотреть и проанализировать каждый набор данных, посмотреть взаимосвязи.\n",
    "2. Провести предобработку данных, объединить данные, подготовить признаки и, при необходимости, добавить новые признаки. Выделить/создать целевой признак. Сделать исследовательский анализ данных (EDA) и выводы по результатам EDA.\n",
    "3. Разделить итоговый датасет на тренировочную и тестовую выборки. В случае необходимости, провести кодирование и масштабирование.\n",
    "4. Определить модели, подходящие для исследования (предварительно предполагается использовать Классификаторы LogisticRegression, CatBoost, LightGBM и одну из ассемблинговых моделей - RandomForest), провести подбор гиперпараметров, выделить важные фичи.\n",
    "5. Сравнить модели по результатам кросс-валидации и оценить эффективность лучшей модели на тестовой выборке.\n",
    "6. Провести анализ влияния различных факторов лучшей модели.\n",
    "7. Общий вывод по результатам исследования.\n",
    "\n",
    "Все пункты первоначального плана проекта были выполнены, новых глобальных задач не появилось.\n",
    "\n",
    "В ходе роботы над проектом был сделано:\n",
    " - Установлены или обновлены необходимые пакеты Jupyter, которые отсутствовали в тренажере.\n",
    " -  Импортированы библиотеки, которые использовались для анализа.\n",
    " - Загружены первоначальные данные.\n",
    " - Произведен предварительный анализ данных, что дало понимание, каким образом их необходимо подготовить для машинного обучения. В рамках анализа, дынные были проверены на отсутствие пропусков, дубликаты, а также проанализированы их типы.\n",
    "\n",
    "- В рамках предобработки данных были добавлены дополнительные признаки, а также изменили типы данных у уже имеющихся. Осуществлена сборка всех датасетов в один большой, заполнены образовавшиеся пропуски.\n",
    "\n",
    "    •\tДобавили категориальный признак «target», показывающий уход клиента от компании.\n",
    "\n",
    "    •\tПреобразовали типы данных у признаков BeginDate и EndDate (на datetime), MonthlyCharges, TotalCharges (на float), а также заменены пропущенные значения.\n",
    "\n",
    "    •\tПредварительно в столбце 'EndDate' значения 'No' были заменены на текущую дату - '2020-02-01', а пропуски в столбце 'TotalCharges' - на '0'.\n",
    "\n",
    "    •\tДобавлен признак 'period' - количество дней, в течение которых клиент пользовался услугами компании\n",
    "\n",
    "    •\tНа основании вышеуказанного признака, создали также категорийный признак 'cl_cat', состоящий из 3 категорий.\n",
    "\n",
    "    •\tВ датасеты Internet и Phone были добавим признаки, показывающие пользуются ли клиенты этими услугами. Это сделано для объединения в один датасет, чтобы не потерять информативность при объединении\n",
    "\n",
    "    •\tобъединения таблиц в один большой датасет было сделано с помощью функции «merge» по Индексам, т.к. поле id клиента было занесено как Индекс в каждом датасете при импортировании данных\n",
    "\n",
    "    •\tПри создании одного большего датасета, образовались пропуски так как в 2х датасетах отсутствуют некоторое количество клиентов. Пропуски были заменены на «No».\n",
    "\n",
    "В дальнейшем, также пришлось поменять тип параметра «SeniorCitizen» с Int на String. Это было сделано, т.к. этот параметр был отнесен в разряд категориальных переменных, а CatBoost принимает в качестве таких переменных только данные , которые не имеют формат Integer.\n",
    "\n",
    "Исследовательских анализ данных, в котором были детально рассмотрены особенности полученного дата сета, показал:\n",
    " -\tВыявлен дисбаланс классов результирующего признака.\n",
    " -\tПоказано, что в основном ушедшие клиенты были те, у которых ежемесячный платеж был от 70 до 110.\n",
    " -\tТакже наблюдается нулевая корреляция между результирующим признаком и использованием услуг телефони, т.е. аказчик в первую очередь выступает, телефонным оператором, а уже потом как интернет провайдер.\n",
    " - Используя пакет Phik, рассмотрели какие параметры оказывают наибольшее влияние на конечный результат. Сделана визуализация влияния признаков.\n",
    " - Была выявлена мультиколлениарность между рядом признаков: target, EndDate, period и BeginDate. Это весьма логично, т.к. мы построили признаки target и period на основании BeginDate и EndDate. Чтобы избежать проблемы переобучения, при подготовке датасета для машинного обучения, BeginDate и EndDate необходимо будет удалить.\n",
    "\n",
    "![image-3.png](attachment:image-3.png)\n",
    "\n",
    "\n",
    "\n",
    "Подготовка данных для машинного обучения.\n",
    "С учетом того, что в рамках проекта мы планировали использовать разные модели машинного обучения, было подготовлено 2 набора данных. Один набор данных был закодирован и масштабирован, а другой оставлен в первозданном виде, т.к. в Бустинговых моделях эти функции являются встроенными в пакет.\n",
    "\n",
    "Изначально, с помощью функции test_train_ split датасет был разбит на тестовую (25%) и тренировочную выборки. Чтобы избежать перекоса в данных, при разбиении была использована стратификация.\n",
    "\n",
    "После разбиения, для одного набора данных было сделано кодирование категориальных признаков методом прямого кодирования OHE и масштабирование числовых признаков методом стандартизации при помощи StandardScaler для того, чтобы числовые признаки привести к одной размерности.\n",
    "\n",
    "\n",
    "Борьба с дисбалансом классов методами upsample, downsample не проводилась. Была использована балансировка классов внутри модели;\n",
    "\n",
    "Перед обучением были удалены признаки BeginDate, EndDate. \n",
    "\n",
    "Обучение моделей: \n",
    "В рамках выполнения данного проекта были обучены 4 модели: \n",
    " - LogisticRegression,\n",
    " - RandomForestClassifier\n",
    " - CatBoostClassifier\n",
    " - LGBM\n",
    "\n",
    "Было проведено обучение моделей и их проверка на кросс-валидации, а затем была выбрана лучшая по результатам на трейнинговой выборке.\n",
    "В результате обучения лучше все себя показала модель CatBosstClassifier, на ней была достигнута метрика ROC_AUC = 0.91\n",
    "\n",
    "Таблица с результатами обучения на :\n",
    "\n",
    "                        ROC-AUC\n",
    " - LogisticRegression  - 0.793918\n",
    " - RandomForest       -  0.820824\n",
    " - CatBoostClassifier -  0.911588\n",
    " - LGBM\t              -  0.879023\n",
    "\n",
    "Гиперпараметры лучшей модели CatBoost:\n",
    " - 'depth' - 4\n",
    " - 'l2_leaf_reg' - 1\n",
    " - 'learning_rat' - 0.1\n",
    " \n",
    " \n",
    " Random State  = 30723 (дата начала финальног проекта)\n",
    "\n",
    "В дальнейшем продолжено тестирование модели CatBoostClassifier.\n",
    "В итоге была обучена модель CatBoostClassifier и на тесте была достигнута метрика ROC-AUC равная 0,91. \n",
    "\n",
    "![image.png](attachment:image.png) \n",
    "\n",
    "\n",
    "Была визуализирована важность признаков.\n",
    "![image-2.png](attachment:image-2.png)\n",
    " \n",
    "\n",
    "Какие трудности возникли и как вы их преодолели?\n",
    "Особых трудностей, в ходе выполнения работы не было.\n"
   ]
  },
  {
   "cell_type": "code",
   "execution_count": null,
   "metadata": {},
   "outputs": [],
   "source": []
  }
 ],
 "metadata": {
  "ExecuteTimeLog": [
   {
    "duration": 1997,
    "start_time": "2023-07-03T10:31:48.219Z"
   },
   {
    "duration": 492,
    "start_time": "2023-07-03T10:31:53.679Z"
   },
   {
    "duration": 22,
    "start_time": "2023-07-03T10:32:18.615Z"
   },
   {
    "duration": 12,
    "start_time": "2023-07-03T10:34:34.093Z"
   },
   {
    "duration": 16,
    "start_time": "2023-07-03T10:41:30.492Z"
   },
   {
    "duration": 10,
    "start_time": "2023-07-03T10:43:00.982Z"
   },
   {
    "duration": 17,
    "start_time": "2023-07-03T10:49:03.483Z"
   },
   {
    "duration": 19,
    "start_time": "2023-07-03T10:49:15.546Z"
   },
   {
    "duration": 12,
    "start_time": "2023-07-03T10:50:03.039Z"
   },
   {
    "duration": 11,
    "start_time": "2023-07-03T10:50:30.519Z"
   },
   {
    "duration": 5,
    "start_time": "2023-07-03T10:51:08.385Z"
   },
   {
    "duration": 11,
    "start_time": "2023-07-03T10:51:14.275Z"
   },
   {
    "duration": 2,
    "start_time": "2023-07-03T10:51:37.296Z"
   },
   {
    "duration": 299,
    "start_time": "2023-07-03T10:53:28.871Z"
   },
   {
    "duration": 136,
    "start_time": "2023-07-03T10:53:53.562Z"
   },
   {
    "duration": 180,
    "start_time": "2023-07-03T10:54:38.294Z"
   },
   {
    "duration": 5,
    "start_time": "2023-07-03T10:55:39.031Z"
   },
   {
    "duration": 7,
    "start_time": "2023-07-03T10:55:45.971Z"
   },
   {
    "duration": 9,
    "start_time": "2023-07-03T10:57:05.251Z"
   },
   {
    "duration": 3186,
    "start_time": "2023-07-03T10:57:14.145Z"
   },
   {
    "duration": 321,
    "start_time": "2023-07-03T10:57:25.619Z"
   },
   {
    "duration": 8,
    "start_time": "2023-07-03T11:01:17.411Z"
   },
   {
    "duration": 7,
    "start_time": "2023-07-03T11:02:04.317Z"
   },
   {
    "duration": 132,
    "start_time": "2023-07-03T11:10:32.811Z"
   },
   {
    "duration": 146,
    "start_time": "2023-07-03T11:11:41.292Z"
   },
   {
    "duration": 5,
    "start_time": "2023-07-03T11:55:15.799Z"
   },
   {
    "duration": 7,
    "start_time": "2023-07-03T11:55:44.532Z"
   },
   {
    "duration": 157,
    "start_time": "2023-07-03T11:56:04.000Z"
   },
   {
    "duration": 7,
    "start_time": "2023-07-03T11:56:29.566Z"
   },
   {
    "duration": 8,
    "start_time": "2023-07-03T12:21:03.204Z"
   },
   {
    "duration": 144,
    "start_time": "2023-07-03T12:21:17.058Z"
   },
   {
    "duration": 8,
    "start_time": "2023-07-03T12:21:29.250Z"
   },
   {
    "duration": 165,
    "start_time": "2023-07-03T12:21:57.917Z"
   },
   {
    "duration": 15,
    "start_time": "2023-07-03T12:22:44.132Z"
   },
   {
    "duration": 540,
    "start_time": "2023-07-03T12:25:18.871Z"
   },
   {
    "duration": 4,
    "start_time": "2023-07-03T14:05:23.527Z"
   },
   {
    "duration": 1760,
    "start_time": "2023-07-03T14:05:50.994Z"
   },
   {
    "duration": 544,
    "start_time": "2023-07-03T14:05:52.756Z"
   },
   {
    "duration": 18,
    "start_time": "2023-07-03T14:05:53.302Z"
   },
   {
    "duration": 14,
    "start_time": "2023-07-03T14:05:53.322Z"
   },
   {
    "duration": 10,
    "start_time": "2023-07-03T14:05:53.339Z"
   },
   {
    "duration": 12,
    "start_time": "2023-07-03T14:05:53.351Z"
   },
   {
    "duration": 9,
    "start_time": "2023-07-03T14:05:53.365Z"
   },
   {
    "duration": 8,
    "start_time": "2023-07-03T14:05:53.376Z"
   },
   {
    "duration": 287,
    "start_time": "2023-07-03T14:05:53.386Z"
   },
   {
    "duration": 169,
    "start_time": "2023-07-03T14:05:53.676Z"
   },
   {
    "duration": 261,
    "start_time": "2023-07-03T14:05:53.847Z"
   },
   {
    "duration": 148,
    "start_time": "2023-07-03T14:05:54.110Z"
   },
   {
    "duration": 7,
    "start_time": "2023-07-03T14:05:54.259Z"
   },
   {
    "duration": 283,
    "start_time": "2023-07-03T14:05:54.267Z"
   },
   {
    "duration": 8,
    "start_time": "2023-07-03T14:05:54.551Z"
   },
   {
    "duration": 13,
    "start_time": "2023-07-03T14:06:17.023Z"
   },
   {
    "duration": 7,
    "start_time": "2023-07-03T14:11:11.753Z"
   },
   {
    "duration": 7,
    "start_time": "2023-07-03T14:11:37.726Z"
   },
   {
    "duration": 5,
    "start_time": "2023-07-03T14:11:42.452Z"
   },
   {
    "duration": 113,
    "start_time": "2023-07-03T14:12:58.397Z"
   },
   {
    "duration": 117,
    "start_time": "2023-07-03T14:15:05.703Z"
   },
   {
    "duration": 10,
    "start_time": "2023-07-03T14:15:56.520Z"
   },
   {
    "duration": 10,
    "start_time": "2023-07-03T14:16:05.653Z"
   },
   {
    "duration": 76,
    "start_time": "2023-07-03T14:17:49.993Z"
   },
   {
    "duration": 7,
    "start_time": "2023-07-03T14:17:56.948Z"
   },
   {
    "duration": 9,
    "start_time": "2023-07-03T14:20:02.974Z"
   },
   {
    "duration": 16,
    "start_time": "2023-07-03T14:36:05.401Z"
   },
   {
    "duration": 15,
    "start_time": "2023-07-03T14:38:54.547Z"
   },
   {
    "duration": 9,
    "start_time": "2023-07-03T14:39:44.234Z"
   },
   {
    "duration": 5,
    "start_time": "2023-07-03T14:39:48.199Z"
   },
   {
    "duration": 5,
    "start_time": "2023-07-03T14:42:27.559Z"
   },
   {
    "duration": 124,
    "start_time": "2023-07-03T14:48:08.458Z"
   },
   {
    "duration": 146,
    "start_time": "2023-07-03T14:48:38.407Z"
   },
   {
    "duration": 163,
    "start_time": "2023-07-03T14:48:47.002Z"
   },
   {
    "duration": 134,
    "start_time": "2023-07-03T14:48:55.789Z"
   },
   {
    "duration": 147,
    "start_time": "2023-07-03T14:49:21.149Z"
   },
   {
    "duration": 16,
    "start_time": "2023-07-03T14:57:15.428Z"
   },
   {
    "duration": 21,
    "start_time": "2023-07-03T14:59:28.998Z"
   },
   {
    "duration": 20,
    "start_time": "2023-07-03T14:59:45.028Z"
   },
   {
    "duration": 12,
    "start_time": "2023-07-03T14:59:58.435Z"
   },
   {
    "duration": 12,
    "start_time": "2023-07-03T15:00:04.079Z"
   },
   {
    "duration": 19,
    "start_time": "2023-07-03T15:01:51.671Z"
   },
   {
    "duration": 19,
    "start_time": "2023-07-03T15:02:02.682Z"
   },
   {
    "duration": 1629,
    "start_time": "2023-07-03T16:16:14.335Z"
   },
   {
    "duration": 135,
    "start_time": "2023-07-03T16:16:15.966Z"
   },
   {
    "duration": 23,
    "start_time": "2023-07-03T16:16:16.103Z"
   },
   {
    "duration": 25,
    "start_time": "2023-07-03T16:16:16.129Z"
   },
   {
    "duration": 22,
    "start_time": "2023-07-03T16:16:16.156Z"
   },
   {
    "duration": 27,
    "start_time": "2023-07-03T16:16:16.182Z"
   },
   {
    "duration": 12,
    "start_time": "2023-07-03T16:16:16.211Z"
   },
   {
    "duration": 13,
    "start_time": "2023-07-03T16:16:16.227Z"
   },
   {
    "duration": 328,
    "start_time": "2023-07-03T16:16:16.242Z"
   },
   {
    "duration": 189,
    "start_time": "2023-07-03T16:16:16.573Z"
   },
   {
    "duration": 245,
    "start_time": "2023-07-03T16:16:16.764Z"
   },
   {
    "duration": 169,
    "start_time": "2023-07-03T16:16:17.015Z"
   },
   {
    "duration": 8,
    "start_time": "2023-07-03T16:16:17.185Z"
   },
   {
    "duration": 307,
    "start_time": "2023-07-03T16:16:17.195Z"
   },
   {
    "duration": 15,
    "start_time": "2023-07-03T16:16:17.505Z"
   },
   {
    "duration": 28,
    "start_time": "2023-07-03T16:16:17.521Z"
   },
   {
    "duration": 17,
    "start_time": "2023-07-03T16:16:17.552Z"
   },
   {
    "duration": 18,
    "start_time": "2023-07-03T16:16:17.570Z"
   },
   {
    "duration": 138,
    "start_time": "2023-07-03T16:16:17.590Z"
   },
   {
    "duration": 10,
    "start_time": "2023-07-03T16:16:17.731Z"
   },
   {
    "duration": 33,
    "start_time": "2023-07-03T16:16:17.743Z"
   },
   {
    "duration": 46,
    "start_time": "2023-07-03T16:16:17.778Z"
   },
   {
    "duration": 37,
    "start_time": "2023-07-03T16:16:17.827Z"
   },
   {
    "duration": 36,
    "start_time": "2023-07-03T16:16:17.866Z"
   },
   {
    "duration": 31,
    "start_time": "2023-07-03T16:16:17.904Z"
   },
   {
    "duration": 54,
    "start_time": "2023-07-03T16:16:17.938Z"
   },
   {
    "duration": 172,
    "start_time": "2023-07-03T16:16:17.994Z"
   },
   {
    "duration": 0,
    "start_time": "2023-07-03T16:16:18.168Z"
   },
   {
    "duration": 0,
    "start_time": "2023-07-03T16:16:18.170Z"
   },
   {
    "duration": 0,
    "start_time": "2023-07-03T16:16:18.171Z"
   },
   {
    "duration": 0,
    "start_time": "2023-07-03T16:16:18.172Z"
   },
   {
    "duration": 0,
    "start_time": "2023-07-03T16:16:18.174Z"
   },
   {
    "duration": 0,
    "start_time": "2023-07-03T16:16:18.175Z"
   },
   {
    "duration": 0,
    "start_time": "2023-07-03T16:16:18.176Z"
   },
   {
    "duration": 138,
    "start_time": "2023-07-03T16:47:32.342Z"
   },
   {
    "duration": 142,
    "start_time": "2023-07-03T16:48:49.328Z"
   },
   {
    "duration": 9,
    "start_time": "2023-07-03T16:50:29.755Z"
   },
   {
    "duration": 7,
    "start_time": "2023-07-03T16:52:37.627Z"
   },
   {
    "duration": 3104,
    "start_time": "2023-07-04T07:44:43.987Z"
   },
   {
    "duration": 530,
    "start_time": "2023-07-04T07:44:47.093Z"
   },
   {
    "duration": 2352,
    "start_time": "2023-07-04T08:39:17.329Z"
   },
   {
    "duration": 0,
    "start_time": "2023-07-04T08:39:19.684Z"
   },
   {
    "duration": 0,
    "start_time": "2023-07-04T08:39:19.685Z"
   },
   {
    "duration": 0,
    "start_time": "2023-07-04T08:39:19.686Z"
   },
   {
    "duration": 0,
    "start_time": "2023-07-04T08:39:19.687Z"
   },
   {
    "duration": 0,
    "start_time": "2023-07-04T08:39:19.688Z"
   },
   {
    "duration": 0,
    "start_time": "2023-07-04T08:39:19.689Z"
   },
   {
    "duration": 0,
    "start_time": "2023-07-04T08:39:19.690Z"
   },
   {
    "duration": 0,
    "start_time": "2023-07-04T08:39:19.701Z"
   },
   {
    "duration": 0,
    "start_time": "2023-07-04T08:39:19.702Z"
   },
   {
    "duration": 0,
    "start_time": "2023-07-04T08:39:19.702Z"
   },
   {
    "duration": 0,
    "start_time": "2023-07-04T08:39:19.703Z"
   },
   {
    "duration": 0,
    "start_time": "2023-07-04T08:39:19.717Z"
   },
   {
    "duration": 0,
    "start_time": "2023-07-04T08:39:19.718Z"
   },
   {
    "duration": 0,
    "start_time": "2023-07-04T08:39:19.718Z"
   },
   {
    "duration": 0,
    "start_time": "2023-07-04T08:39:19.719Z"
   },
   {
    "duration": 0,
    "start_time": "2023-07-04T08:39:19.719Z"
   },
   {
    "duration": 0,
    "start_time": "2023-07-04T08:39:19.720Z"
   },
   {
    "duration": 0,
    "start_time": "2023-07-04T08:39:19.723Z"
   },
   {
    "duration": 0,
    "start_time": "2023-07-04T08:39:19.728Z"
   },
   {
    "duration": 0,
    "start_time": "2023-07-04T08:39:19.729Z"
   },
   {
    "duration": 0,
    "start_time": "2023-07-04T08:39:19.729Z"
   },
   {
    "duration": 0,
    "start_time": "2023-07-04T08:39:19.730Z"
   },
   {
    "duration": 0,
    "start_time": "2023-07-04T08:39:19.730Z"
   },
   {
    "duration": 0,
    "start_time": "2023-07-04T08:39:19.731Z"
   },
   {
    "duration": 0,
    "start_time": "2023-07-04T08:39:19.732Z"
   },
   {
    "duration": 0,
    "start_time": "2023-07-04T08:39:19.732Z"
   },
   {
    "duration": 0,
    "start_time": "2023-07-04T08:39:19.737Z"
   },
   {
    "duration": 0,
    "start_time": "2023-07-04T08:39:19.738Z"
   },
   {
    "duration": 0,
    "start_time": "2023-07-04T08:39:19.738Z"
   },
   {
    "duration": 0,
    "start_time": "2023-07-04T08:39:19.739Z"
   },
   {
    "duration": 0,
    "start_time": "2023-07-04T08:39:19.740Z"
   },
   {
    "duration": 0,
    "start_time": "2023-07-04T08:39:19.741Z"
   },
   {
    "duration": 0,
    "start_time": "2023-07-04T08:39:19.742Z"
   },
   {
    "duration": 0,
    "start_time": "2023-07-04T08:39:19.743Z"
   },
   {
    "duration": 0,
    "start_time": "2023-07-04T08:39:19.745Z"
   },
   {
    "duration": 0,
    "start_time": "2023-07-04T08:39:19.746Z"
   },
   {
    "duration": 0,
    "start_time": "2023-07-04T08:39:19.747Z"
   },
   {
    "duration": 0,
    "start_time": "2023-07-04T08:39:19.748Z"
   },
   {
    "duration": 0,
    "start_time": "2023-07-04T08:39:19.748Z"
   },
   {
    "duration": 0,
    "start_time": "2023-07-04T08:39:19.749Z"
   },
   {
    "duration": 0,
    "start_time": "2023-07-04T08:39:19.750Z"
   },
   {
    "duration": 0,
    "start_time": "2023-07-04T08:39:19.751Z"
   },
   {
    "duration": 818,
    "start_time": "2023-07-04T08:40:06.607Z"
   },
   {
    "duration": 3737,
    "start_time": "2023-07-04T08:40:46.292Z"
   },
   {
    "duration": 2387,
    "start_time": "2023-07-04T08:41:04.694Z"
   },
   {
    "duration": 1929,
    "start_time": "2023-07-04T08:41:07.083Z"
   },
   {
    "duration": 570,
    "start_time": "2023-07-04T08:41:09.014Z"
   },
   {
    "duration": 27,
    "start_time": "2023-07-04T08:41:09.586Z"
   },
   {
    "duration": 45,
    "start_time": "2023-07-04T08:41:09.614Z"
   },
   {
    "duration": 8,
    "start_time": "2023-07-04T08:41:09.661Z"
   },
   {
    "duration": 18,
    "start_time": "2023-07-04T08:41:09.671Z"
   },
   {
    "duration": 27,
    "start_time": "2023-07-04T08:41:09.690Z"
   },
   {
    "duration": 51,
    "start_time": "2023-07-04T08:41:09.718Z"
   },
   {
    "duration": 323,
    "start_time": "2023-07-04T08:41:09.772Z"
   },
   {
    "duration": 154,
    "start_time": "2023-07-04T08:41:10.097Z"
   },
   {
    "duration": 217,
    "start_time": "2023-07-04T08:41:10.252Z"
   },
   {
    "duration": 126,
    "start_time": "2023-07-04T08:41:10.470Z"
   },
   {
    "duration": 14,
    "start_time": "2023-07-04T08:41:10.600Z"
   },
   {
    "duration": 352,
    "start_time": "2023-07-04T08:41:10.624Z"
   },
   {
    "duration": 8,
    "start_time": "2023-07-04T08:41:10.978Z"
   },
   {
    "duration": 63,
    "start_time": "2023-07-04T08:41:10.988Z"
   },
   {
    "duration": 32,
    "start_time": "2023-07-04T08:41:11.053Z"
   },
   {
    "duration": 47,
    "start_time": "2023-07-04T08:41:11.087Z"
   },
   {
    "duration": 144,
    "start_time": "2023-07-04T08:41:11.138Z"
   },
   {
    "duration": 7,
    "start_time": "2023-07-04T08:41:11.284Z"
   },
   {
    "duration": 60,
    "start_time": "2023-07-04T08:41:11.292Z"
   },
   {
    "duration": 31,
    "start_time": "2023-07-04T08:41:11.353Z"
   },
   {
    "duration": 40,
    "start_time": "2023-07-04T08:41:11.386Z"
   },
   {
    "duration": 27,
    "start_time": "2023-07-04T08:41:11.442Z"
   },
   {
    "duration": 66,
    "start_time": "2023-07-04T08:41:11.471Z"
   },
   {
    "duration": 11,
    "start_time": "2023-07-04T08:41:11.544Z"
   },
   {
    "duration": 187,
    "start_time": "2023-07-04T08:41:11.558Z"
   },
   {
    "duration": 7,
    "start_time": "2023-07-04T08:41:11.747Z"
   },
   {
    "duration": 23,
    "start_time": "2023-07-04T08:41:11.756Z"
   },
   {
    "duration": 16,
    "start_time": "2023-07-04T08:41:11.781Z"
   },
   {
    "duration": 46,
    "start_time": "2023-07-04T08:41:11.805Z"
   },
   {
    "duration": 129,
    "start_time": "2023-07-04T08:41:11.853Z"
   },
   {
    "duration": 99,
    "start_time": "2023-07-04T08:41:11.984Z"
   },
   {
    "duration": 6,
    "start_time": "2023-07-04T08:41:12.085Z"
   },
   {
    "duration": 66,
    "start_time": "2023-07-04T08:41:12.093Z"
   },
   {
    "duration": 14,
    "start_time": "2023-07-04T08:41:12.161Z"
   },
   {
    "duration": 22,
    "start_time": "2023-07-04T08:41:12.177Z"
   },
   {
    "duration": 142,
    "start_time": "2023-07-04T08:41:12.218Z"
   },
   {
    "duration": 4,
    "start_time": "2023-07-04T08:41:12.361Z"
   },
   {
    "duration": 75,
    "start_time": "2023-07-04T08:41:12.366Z"
   },
   {
    "duration": 24,
    "start_time": "2023-07-04T08:41:12.443Z"
   },
   {
    "duration": 16,
    "start_time": "2023-07-04T08:41:12.468Z"
   },
   {
    "duration": 65,
    "start_time": "2023-07-04T08:41:12.486Z"
   },
   {
    "duration": 1983,
    "start_time": "2023-07-04T17:45:16.491Z"
   },
   {
    "duration": 5,
    "start_time": "2023-07-04T17:45:18.476Z"
   },
   {
    "duration": 112,
    "start_time": "2023-07-04T17:45:18.483Z"
   },
   {
    "duration": 13,
    "start_time": "2023-07-04T17:45:18.597Z"
   },
   {
    "duration": 19,
    "start_time": "2023-07-04T17:45:18.613Z"
   },
   {
    "duration": 8,
    "start_time": "2023-07-04T17:45:18.634Z"
   },
   {
    "duration": 6,
    "start_time": "2023-07-04T17:45:18.643Z"
   },
   {
    "duration": 10,
    "start_time": "2023-07-04T17:45:18.650Z"
   },
   {
    "duration": 7,
    "start_time": "2023-07-04T17:45:18.661Z"
   },
   {
    "duration": 176,
    "start_time": "2023-07-04T17:45:18.670Z"
   },
   {
    "duration": 173,
    "start_time": "2023-07-04T17:45:18.848Z"
   },
   {
    "duration": 145,
    "start_time": "2023-07-04T17:45:19.022Z"
   },
   {
    "duration": 142,
    "start_time": "2023-07-04T17:45:19.169Z"
   },
   {
    "duration": 7,
    "start_time": "2023-07-04T17:45:19.314Z"
   },
   {
    "duration": 394,
    "start_time": "2023-07-04T17:45:19.323Z"
   },
   {
    "duration": 7,
    "start_time": "2023-07-04T17:45:19.719Z"
   },
   {
    "duration": 15,
    "start_time": "2023-07-04T17:45:19.727Z"
   },
   {
    "duration": 7,
    "start_time": "2023-07-04T17:45:19.756Z"
   },
   {
    "duration": 5,
    "start_time": "2023-07-04T17:45:19.764Z"
   },
   {
    "duration": 129,
    "start_time": "2023-07-04T17:45:19.770Z"
   },
   {
    "duration": 6,
    "start_time": "2023-07-04T17:45:19.901Z"
   },
   {
    "duration": 28,
    "start_time": "2023-07-04T17:45:19.908Z"
   },
   {
    "duration": 7,
    "start_time": "2023-07-04T17:45:19.938Z"
   },
   {
    "duration": 18,
    "start_time": "2023-07-04T17:45:19.947Z"
   },
   {
    "duration": 12,
    "start_time": "2023-07-04T17:45:19.967Z"
   },
   {
    "duration": 12,
    "start_time": "2023-07-04T17:45:19.981Z"
   },
   {
    "duration": 5,
    "start_time": "2023-07-04T17:45:19.995Z"
   },
   {
    "duration": 138,
    "start_time": "2023-07-04T17:45:20.002Z"
   },
   {
    "duration": 16,
    "start_time": "2023-07-04T17:45:20.142Z"
   },
   {
    "duration": 9,
    "start_time": "2023-07-04T17:45:20.160Z"
   },
   {
    "duration": 12,
    "start_time": "2023-07-04T17:45:20.171Z"
   },
   {
    "duration": 9,
    "start_time": "2023-07-04T17:45:20.185Z"
   },
   {
    "duration": 120,
    "start_time": "2023-07-04T17:45:20.195Z"
   },
   {
    "duration": 113,
    "start_time": "2023-07-04T17:45:20.317Z"
   },
   {
    "duration": 7,
    "start_time": "2023-07-04T17:45:20.431Z"
   },
   {
    "duration": 29,
    "start_time": "2023-07-04T17:45:20.439Z"
   },
   {
    "duration": 12,
    "start_time": "2023-07-04T17:45:20.470Z"
   },
   {
    "duration": 5,
    "start_time": "2023-07-04T17:45:20.484Z"
   },
   {
    "duration": 115,
    "start_time": "2023-07-04T17:45:20.491Z"
   },
   {
    "duration": 4,
    "start_time": "2023-07-04T17:45:20.608Z"
   },
   {
    "duration": 23,
    "start_time": "2023-07-04T17:45:20.616Z"
   },
   {
    "duration": 4,
    "start_time": "2023-07-04T17:45:20.641Z"
   },
   {
    "duration": 24,
    "start_time": "2023-07-04T17:45:20.646Z"
   },
   {
    "duration": 10,
    "start_time": "2023-07-04T17:45:20.672Z"
   },
   {
    "duration": 13,
    "start_time": "2023-07-04T17:45:20.683Z"
   },
   {
    "duration": 31,
    "start_time": "2023-07-04T17:45:20.697Z"
   },
   {
    "duration": 0,
    "start_time": "2023-07-04T17:45:20.730Z"
   },
   {
    "duration": 0,
    "start_time": "2023-07-04T17:45:20.731Z"
   },
   {
    "duration": 0,
    "start_time": "2023-07-04T17:45:20.733Z"
   },
   {
    "duration": 0,
    "start_time": "2023-07-04T17:45:20.733Z"
   },
   {
    "duration": 2,
    "start_time": "2023-07-04T17:46:04.450Z"
   },
   {
    "duration": 5,
    "start_time": "2023-07-04T17:46:38.105Z"
   },
   {
    "duration": 1147,
    "start_time": "2023-07-04T18:12:13.145Z"
   },
   {
    "duration": 5,
    "start_time": "2023-07-04T18:12:20.443Z"
   },
   {
    "duration": 7,
    "start_time": "2023-07-04T18:12:23.838Z"
   },
   {
    "duration": 5,
    "start_time": "2023-07-04T18:12:25.376Z"
   },
   {
    "duration": 14,
    "start_time": "2023-07-04T18:12:27.078Z"
   },
   {
    "duration": 5,
    "start_time": "2023-07-04T18:12:28.402Z"
   },
   {
    "duration": 20,
    "start_time": "2023-07-04T18:12:50.122Z"
   },
   {
    "duration": 20,
    "start_time": "2023-07-04T18:14:39.016Z"
   },
   {
    "duration": 17,
    "start_time": "2023-07-04T18:15:35.502Z"
   },
   {
    "duration": 17,
    "start_time": "2023-07-04T18:15:38.705Z"
   },
   {
    "duration": 19,
    "start_time": "2023-07-04T18:25:49.512Z"
   },
   {
    "duration": 16,
    "start_time": "2023-07-04T18:26:40.895Z"
   },
   {
    "duration": 80,
    "start_time": "2023-07-04T18:50:13.496Z"
   },
   {
    "duration": 104,
    "start_time": "2023-07-04T18:50:38.995Z"
   },
   {
    "duration": 66,
    "start_time": "2023-07-04T18:50:56.026Z"
   },
   {
    "duration": 96,
    "start_time": "2023-07-04T18:51:06.097Z"
   },
   {
    "duration": 108,
    "start_time": "2023-07-04T18:51:17.326Z"
   },
   {
    "duration": 64,
    "start_time": "2023-07-04T18:51:35.013Z"
   },
   {
    "duration": 62,
    "start_time": "2023-07-04T18:54:29.849Z"
   },
   {
    "duration": 3,
    "start_time": "2023-07-04T18:54:51.633Z"
   },
   {
    "duration": 60,
    "start_time": "2023-07-04T18:54:56.074Z"
   },
   {
    "duration": 110,
    "start_time": "2023-07-04T18:56:08.232Z"
   },
   {
    "duration": 5,
    "start_time": "2023-07-04T18:59:10.846Z"
   },
   {
    "duration": 1944,
    "start_time": "2023-07-04T19:17:38.302Z"
   },
   {
    "duration": 1495,
    "start_time": "2023-07-04T19:17:40.249Z"
   },
   {
    "duration": 103,
    "start_time": "2023-07-04T19:17:41.746Z"
   },
   {
    "duration": 15,
    "start_time": "2023-07-04T19:17:41.852Z"
   },
   {
    "duration": 12,
    "start_time": "2023-07-04T19:17:41.869Z"
   },
   {
    "duration": 6,
    "start_time": "2023-07-04T19:17:41.883Z"
   },
   {
    "duration": 11,
    "start_time": "2023-07-04T19:17:41.891Z"
   },
   {
    "duration": 9,
    "start_time": "2023-07-04T19:17:41.904Z"
   },
   {
    "duration": 16,
    "start_time": "2023-07-04T19:17:41.914Z"
   },
   {
    "duration": 253,
    "start_time": "2023-07-04T19:17:41.932Z"
   },
   {
    "duration": 144,
    "start_time": "2023-07-04T19:17:42.186Z"
   },
   {
    "duration": 207,
    "start_time": "2023-07-04T19:17:42.332Z"
   },
   {
    "duration": 129,
    "start_time": "2023-07-04T19:17:42.541Z"
   },
   {
    "duration": 7,
    "start_time": "2023-07-04T19:17:42.673Z"
   },
   {
    "duration": 259,
    "start_time": "2023-07-04T19:17:42.681Z"
   },
   {
    "duration": 15,
    "start_time": "2023-07-04T19:17:42.942Z"
   },
   {
    "duration": 17,
    "start_time": "2023-07-04T19:17:42.958Z"
   },
   {
    "duration": 27,
    "start_time": "2023-07-04T19:17:42.977Z"
   },
   {
    "duration": 10,
    "start_time": "2023-07-04T19:17:43.006Z"
   },
   {
    "duration": 123,
    "start_time": "2023-07-04T19:17:43.018Z"
   },
   {
    "duration": 7,
    "start_time": "2023-07-04T19:17:43.143Z"
   },
   {
    "duration": 9,
    "start_time": "2023-07-04T19:17:43.152Z"
   },
   {
    "duration": 12,
    "start_time": "2023-07-04T19:17:43.162Z"
   },
   {
    "duration": 14,
    "start_time": "2023-07-04T19:17:43.175Z"
   },
   {
    "duration": 13,
    "start_time": "2023-07-04T19:17:43.191Z"
   },
   {
    "duration": 8,
    "start_time": "2023-07-04T19:17:43.205Z"
   },
   {
    "duration": 5,
    "start_time": "2023-07-04T19:17:43.215Z"
   },
   {
    "duration": 136,
    "start_time": "2023-07-04T19:17:43.222Z"
   },
   {
    "duration": 7,
    "start_time": "2023-07-04T19:17:43.359Z"
   },
   {
    "duration": 9,
    "start_time": "2023-07-04T19:17:43.367Z"
   },
   {
    "duration": 13,
    "start_time": "2023-07-04T19:17:43.377Z"
   },
   {
    "duration": 7,
    "start_time": "2023-07-04T19:17:43.392Z"
   },
   {
    "duration": 112,
    "start_time": "2023-07-04T19:17:43.400Z"
   },
   {
    "duration": 100,
    "start_time": "2023-07-04T19:17:43.513Z"
   },
   {
    "duration": 7,
    "start_time": "2023-07-04T19:17:43.614Z"
   },
   {
    "duration": 11,
    "start_time": "2023-07-04T19:17:43.622Z"
   },
   {
    "duration": 22,
    "start_time": "2023-07-04T19:17:43.635Z"
   },
   {
    "duration": 9,
    "start_time": "2023-07-04T19:17:43.659Z"
   },
   {
    "duration": 115,
    "start_time": "2023-07-04T19:17:43.669Z"
   },
   {
    "duration": 4,
    "start_time": "2023-07-04T19:17:43.786Z"
   },
   {
    "duration": 11,
    "start_time": "2023-07-04T19:17:43.793Z"
   },
   {
    "duration": 8,
    "start_time": "2023-07-04T19:17:43.806Z"
   },
   {
    "duration": 8,
    "start_time": "2023-07-04T19:17:43.815Z"
   },
   {
    "duration": 6,
    "start_time": "2023-07-04T19:17:43.824Z"
   },
   {
    "duration": 4,
    "start_time": "2023-07-04T19:17:43.832Z"
   },
   {
    "duration": 21,
    "start_time": "2023-07-04T19:17:43.837Z"
   },
   {
    "duration": 11,
    "start_time": "2023-07-04T19:17:43.859Z"
   },
   {
    "duration": 3,
    "start_time": "2023-07-04T19:17:43.871Z"
   },
   {
    "duration": 6,
    "start_time": "2023-07-04T19:17:43.875Z"
   },
   {
    "duration": 6,
    "start_time": "2023-07-04T19:17:43.882Z"
   },
   {
    "duration": 3,
    "start_time": "2023-07-04T19:17:43.889Z"
   },
   {
    "duration": 16,
    "start_time": "2023-07-04T19:17:43.894Z"
   },
   {
    "duration": 4,
    "start_time": "2023-07-04T19:17:43.912Z"
   },
   {
    "duration": 43,
    "start_time": "2023-07-04T19:17:43.917Z"
   },
   {
    "duration": 17,
    "start_time": "2023-07-04T19:17:43.961Z"
   },
   {
    "duration": 18,
    "start_time": "2023-07-04T19:17:43.980Z"
   },
   {
    "duration": 3,
    "start_time": "2023-07-04T19:17:44.000Z"
   },
   {
    "duration": 6,
    "start_time": "2023-07-04T19:17:44.005Z"
   },
   {
    "duration": 6,
    "start_time": "2023-07-04T19:17:44.013Z"
   },
   {
    "duration": 8,
    "start_time": "2023-07-04T19:17:44.020Z"
   },
   {
    "duration": 12,
    "start_time": "2023-07-04T19:18:37.258Z"
   },
   {
    "duration": 19,
    "start_time": "2023-07-04T19:18:40.107Z"
   },
   {
    "duration": 27,
    "start_time": "2023-07-04T19:19:19.409Z"
   },
   {
    "duration": 2283,
    "start_time": "2023-07-04T19:28:49.897Z"
   },
   {
    "duration": 107,
    "start_time": "2023-07-04T19:29:10.402Z"
   },
   {
    "duration": 2810,
    "start_time": "2023-07-04T19:29:57.001Z"
   },
   {
    "duration": 2753,
    "start_time": "2023-07-04T19:33:25.633Z"
   },
   {
    "duration": 2847,
    "start_time": "2023-07-04T19:33:52.398Z"
   },
   {
    "duration": 2821,
    "start_time": "2023-07-04T19:36:19.617Z"
   },
   {
    "duration": 10,
    "start_time": "2023-07-04T19:42:07.037Z"
   },
   {
    "duration": 135,
    "start_time": "2023-07-04T19:42:19.699Z"
   },
   {
    "duration": 7,
    "start_time": "2023-07-04T19:44:06.956Z"
   },
   {
    "duration": 5,
    "start_time": "2023-07-04T19:45:26.708Z"
   },
   {
    "duration": 2635,
    "start_time": "2023-07-04T19:51:19.673Z"
   },
   {
    "duration": 6425,
    "start_time": "2023-07-04T19:51:32.548Z"
   },
   {
    "duration": 337,
    "start_time": "2023-07-04T19:56:03.908Z"
   },
   {
    "duration": 6,
    "start_time": "2023-07-04T19:59:52.612Z"
   },
   {
    "duration": 444,
    "start_time": "2023-07-04T20:00:50.035Z"
   },
   {
    "duration": 447,
    "start_time": "2023-07-04T20:01:16.329Z"
   },
   {
    "duration": 474,
    "start_time": "2023-07-04T20:02:11.970Z"
   },
   {
    "duration": 455,
    "start_time": "2023-07-04T20:02:58.458Z"
   },
   {
    "duration": 441,
    "start_time": "2023-07-04T20:03:12.836Z"
   },
   {
    "duration": 433,
    "start_time": "2023-07-04T20:03:23.508Z"
   },
   {
    "duration": 467,
    "start_time": "2023-07-04T20:03:35.873Z"
   },
   {
    "duration": 619,
    "start_time": "2023-07-04T20:04:14.237Z"
   },
   {
    "duration": 451,
    "start_time": "2023-07-04T20:06:08.910Z"
   },
   {
    "duration": 275,
    "start_time": "2023-07-04T20:06:21.533Z"
   },
   {
    "duration": 427,
    "start_time": "2023-07-04T20:07:26.053Z"
   },
   {
    "duration": 440,
    "start_time": "2023-07-04T20:53:50.963Z"
   },
   {
    "duration": 2,
    "start_time": "2023-07-04T21:00:36.202Z"
   },
   {
    "duration": 3,
    "start_time": "2023-07-04T21:01:18.657Z"
   },
   {
    "duration": 14,
    "start_time": "2023-07-04T21:01:39.752Z"
   },
   {
    "duration": 9,
    "start_time": "2023-07-04T21:02:23.713Z"
   },
   {
    "duration": 10,
    "start_time": "2023-07-04T21:06:52.847Z"
   },
   {
    "duration": 2145,
    "start_time": "2023-07-04T21:07:29.222Z"
   },
   {
    "duration": 6,
    "start_time": "2023-07-04T21:07:31.512Z"
   },
   {
    "duration": 4,
    "start_time": "2023-07-04T21:12:20.913Z"
   },
   {
    "duration": 1172,
    "start_time": "2023-07-05T06:27:28.443Z"
   },
   {
    "duration": 1460,
    "start_time": "2023-07-05T06:27:29.618Z"
   },
   {
    "duration": 0,
    "start_time": "2023-07-05T06:27:31.082Z"
   },
   {
    "duration": 0,
    "start_time": "2023-07-05T06:27:31.083Z"
   },
   {
    "duration": 0,
    "start_time": "2023-07-05T06:27:31.085Z"
   },
   {
    "duration": 0,
    "start_time": "2023-07-05T06:27:31.086Z"
   },
   {
    "duration": 0,
    "start_time": "2023-07-05T06:27:31.087Z"
   },
   {
    "duration": 0,
    "start_time": "2023-07-05T06:27:31.089Z"
   },
   {
    "duration": 0,
    "start_time": "2023-07-05T06:27:31.090Z"
   },
   {
    "duration": 0,
    "start_time": "2023-07-05T06:27:31.092Z"
   },
   {
    "duration": 0,
    "start_time": "2023-07-05T06:27:31.094Z"
   },
   {
    "duration": 0,
    "start_time": "2023-07-05T06:27:31.113Z"
   },
   {
    "duration": 0,
    "start_time": "2023-07-05T06:27:31.115Z"
   },
   {
    "duration": 0,
    "start_time": "2023-07-05T06:27:31.116Z"
   },
   {
    "duration": 0,
    "start_time": "2023-07-05T06:27:31.117Z"
   },
   {
    "duration": 0,
    "start_time": "2023-07-05T06:27:31.118Z"
   },
   {
    "duration": 0,
    "start_time": "2023-07-05T06:27:31.119Z"
   },
   {
    "duration": 0,
    "start_time": "2023-07-05T06:27:31.120Z"
   },
   {
    "duration": 0,
    "start_time": "2023-07-05T06:27:31.121Z"
   },
   {
    "duration": 0,
    "start_time": "2023-07-05T06:27:31.122Z"
   },
   {
    "duration": 0,
    "start_time": "2023-07-05T06:27:31.123Z"
   },
   {
    "duration": 0,
    "start_time": "2023-07-05T06:27:31.124Z"
   },
   {
    "duration": 0,
    "start_time": "2023-07-05T06:27:31.125Z"
   },
   {
    "duration": 0,
    "start_time": "2023-07-05T06:27:31.126Z"
   },
   {
    "duration": 0,
    "start_time": "2023-07-05T06:27:31.128Z"
   },
   {
    "duration": 0,
    "start_time": "2023-07-05T06:27:31.128Z"
   },
   {
    "duration": 0,
    "start_time": "2023-07-05T06:27:31.129Z"
   },
   {
    "duration": 0,
    "start_time": "2023-07-05T06:27:31.130Z"
   },
   {
    "duration": 0,
    "start_time": "2023-07-05T06:27:31.131Z"
   },
   {
    "duration": 0,
    "start_time": "2023-07-05T06:27:31.132Z"
   },
   {
    "duration": 0,
    "start_time": "2023-07-05T06:27:31.134Z"
   },
   {
    "duration": 0,
    "start_time": "2023-07-05T06:27:31.135Z"
   },
   {
    "duration": 0,
    "start_time": "2023-07-05T06:27:31.137Z"
   },
   {
    "duration": 0,
    "start_time": "2023-07-05T06:27:31.138Z"
   },
   {
    "duration": 0,
    "start_time": "2023-07-05T06:27:31.139Z"
   },
   {
    "duration": 0,
    "start_time": "2023-07-05T06:27:31.140Z"
   },
   {
    "duration": 0,
    "start_time": "2023-07-05T06:27:31.141Z"
   },
   {
    "duration": 0,
    "start_time": "2023-07-05T06:27:31.143Z"
   },
   {
    "duration": 0,
    "start_time": "2023-07-05T06:27:31.144Z"
   },
   {
    "duration": 0,
    "start_time": "2023-07-05T06:27:31.145Z"
   },
   {
    "duration": 0,
    "start_time": "2023-07-05T06:27:31.146Z"
   },
   {
    "duration": 0,
    "start_time": "2023-07-05T06:27:31.148Z"
   },
   {
    "duration": 0,
    "start_time": "2023-07-05T06:27:31.149Z"
   },
   {
    "duration": 0,
    "start_time": "2023-07-05T06:27:31.215Z"
   },
   {
    "duration": 0,
    "start_time": "2023-07-05T06:27:31.216Z"
   },
   {
    "duration": 0,
    "start_time": "2023-07-05T06:27:31.217Z"
   },
   {
    "duration": 0,
    "start_time": "2023-07-05T06:27:31.219Z"
   },
   {
    "duration": 0,
    "start_time": "2023-07-05T06:27:31.220Z"
   },
   {
    "duration": 0,
    "start_time": "2023-07-05T06:27:31.221Z"
   },
   {
    "duration": 0,
    "start_time": "2023-07-05T06:27:31.222Z"
   },
   {
    "duration": 0,
    "start_time": "2023-07-05T06:27:31.223Z"
   },
   {
    "duration": 0,
    "start_time": "2023-07-05T06:27:31.225Z"
   },
   {
    "duration": 0,
    "start_time": "2023-07-05T06:27:31.226Z"
   },
   {
    "duration": 0,
    "start_time": "2023-07-05T06:27:31.227Z"
   },
   {
    "duration": 0,
    "start_time": "2023-07-05T06:27:31.228Z"
   },
   {
    "duration": 0,
    "start_time": "2023-07-05T06:27:31.229Z"
   },
   {
    "duration": 0,
    "start_time": "2023-07-05T06:27:31.230Z"
   },
   {
    "duration": 0,
    "start_time": "2023-07-05T06:27:31.231Z"
   },
   {
    "duration": 0,
    "start_time": "2023-07-05T06:27:31.232Z"
   },
   {
    "duration": 0,
    "start_time": "2023-07-05T06:27:31.232Z"
   },
   {
    "duration": 1,
    "start_time": "2023-07-05T06:27:31.233Z"
   },
   {
    "duration": 1,
    "start_time": "2023-07-05T06:27:31.234Z"
   },
   {
    "duration": 0,
    "start_time": "2023-07-05T06:27:31.235Z"
   },
   {
    "duration": 0,
    "start_time": "2023-07-05T06:27:31.236Z"
   },
   {
    "duration": 0,
    "start_time": "2023-07-05T06:27:31.237Z"
   },
   {
    "duration": 0,
    "start_time": "2023-07-05T06:27:31.238Z"
   },
   {
    "duration": 0,
    "start_time": "2023-07-05T06:27:31.240Z"
   },
   {
    "duration": 0,
    "start_time": "2023-07-05T06:27:31.241Z"
   },
   {
    "duration": 0,
    "start_time": "2023-07-05T06:27:31.242Z"
   },
   {
    "duration": 0,
    "start_time": "2023-07-05T06:27:31.243Z"
   },
   {
    "duration": 0,
    "start_time": "2023-07-05T06:27:31.245Z"
   },
   {
    "duration": 0,
    "start_time": "2023-07-05T06:27:31.246Z"
   },
   {
    "duration": 0,
    "start_time": "2023-07-05T06:27:31.247Z"
   },
   {
    "duration": 0,
    "start_time": "2023-07-05T06:27:31.248Z"
   },
   {
    "duration": 0,
    "start_time": "2023-07-05T06:27:31.250Z"
   },
   {
    "duration": 0,
    "start_time": "2023-07-05T06:27:31.250Z"
   },
   {
    "duration": 0,
    "start_time": "2023-07-05T06:27:31.251Z"
   },
   {
    "duration": 0,
    "start_time": "2023-07-05T06:27:31.252Z"
   },
   {
    "duration": 2856,
    "start_time": "2023-07-05T06:31:11.967Z"
   },
   {
    "duration": 1432,
    "start_time": "2023-07-05T06:31:14.825Z"
   },
   {
    "duration": 442,
    "start_time": "2023-07-05T06:31:16.259Z"
   },
   {
    "duration": 15,
    "start_time": "2023-07-05T06:31:16.703Z"
   },
   {
    "duration": 12,
    "start_time": "2023-07-05T06:31:16.720Z"
   },
   {
    "duration": 7,
    "start_time": "2023-07-05T06:31:16.734Z"
   },
   {
    "duration": 12,
    "start_time": "2023-07-05T06:31:16.742Z"
   },
   {
    "duration": 16,
    "start_time": "2023-07-05T06:31:16.755Z"
   },
   {
    "duration": 15,
    "start_time": "2023-07-05T06:31:16.772Z"
   },
   {
    "duration": 259,
    "start_time": "2023-07-05T06:31:16.790Z"
   },
   {
    "duration": 152,
    "start_time": "2023-07-05T06:31:17.051Z"
   },
   {
    "duration": 210,
    "start_time": "2023-07-05T06:31:17.205Z"
   },
   {
    "duration": 140,
    "start_time": "2023-07-05T06:31:17.417Z"
   },
   {
    "duration": 6,
    "start_time": "2023-07-05T06:31:17.559Z"
   },
   {
    "duration": 284,
    "start_time": "2023-07-05T06:31:17.567Z"
   },
   {
    "duration": 8,
    "start_time": "2023-07-05T06:31:17.853Z"
   },
   {
    "duration": 20,
    "start_time": "2023-07-05T06:31:17.862Z"
   },
   {
    "duration": 8,
    "start_time": "2023-07-05T06:31:17.884Z"
   },
   {
    "duration": 20,
    "start_time": "2023-07-05T06:31:17.894Z"
   },
   {
    "duration": 137,
    "start_time": "2023-07-05T06:31:17.916Z"
   },
   {
    "duration": 8,
    "start_time": "2023-07-05T06:31:18.055Z"
   },
   {
    "duration": 13,
    "start_time": "2023-07-05T06:31:18.064Z"
   },
   {
    "duration": 10,
    "start_time": "2023-07-05T06:31:18.079Z"
   },
   {
    "duration": 24,
    "start_time": "2023-07-05T06:31:18.091Z"
   },
   {
    "duration": 19,
    "start_time": "2023-07-05T06:31:18.117Z"
   },
   {
    "duration": 34,
    "start_time": "2023-07-05T06:31:18.138Z"
   },
   {
    "duration": 8,
    "start_time": "2023-07-05T06:31:18.174Z"
   },
   {
    "duration": 129,
    "start_time": "2023-07-05T06:31:18.186Z"
   },
   {
    "duration": 6,
    "start_time": "2023-07-05T06:31:18.317Z"
   },
   {
    "duration": 14,
    "start_time": "2023-07-05T06:31:18.325Z"
   },
   {
    "duration": 8,
    "start_time": "2023-07-05T06:31:18.341Z"
   },
   {
    "duration": 8,
    "start_time": "2023-07-05T06:31:18.350Z"
   },
   {
    "duration": 131,
    "start_time": "2023-07-05T06:31:18.360Z"
   },
   {
    "duration": 111,
    "start_time": "2023-07-05T06:31:18.492Z"
   },
   {
    "duration": 10,
    "start_time": "2023-07-05T06:31:18.604Z"
   },
   {
    "duration": 12,
    "start_time": "2023-07-05T06:31:18.616Z"
   },
   {
    "duration": 10,
    "start_time": "2023-07-05T06:31:18.630Z"
   },
   {
    "duration": 8,
    "start_time": "2023-07-05T06:31:18.641Z"
   },
   {
    "duration": 152,
    "start_time": "2023-07-05T06:31:18.651Z"
   },
   {
    "duration": 10,
    "start_time": "2023-07-05T06:31:18.805Z"
   },
   {
    "duration": 17,
    "start_time": "2023-07-05T06:31:18.816Z"
   },
   {
    "duration": 5,
    "start_time": "2023-07-05T06:31:18.834Z"
   },
   {
    "duration": 10,
    "start_time": "2023-07-05T06:31:18.841Z"
   },
   {
    "duration": 22,
    "start_time": "2023-07-05T06:31:18.853Z"
   },
   {
    "duration": 5,
    "start_time": "2023-07-05T06:31:18.876Z"
   },
   {
    "duration": 6,
    "start_time": "2023-07-05T06:31:18.883Z"
   },
   {
    "duration": 25,
    "start_time": "2023-07-05T06:31:18.891Z"
   },
   {
    "duration": 3,
    "start_time": "2023-07-05T06:31:18.918Z"
   },
   {
    "duration": 9,
    "start_time": "2023-07-05T06:31:18.922Z"
   },
   {
    "duration": 8,
    "start_time": "2023-07-05T06:31:18.933Z"
   },
   {
    "duration": 4,
    "start_time": "2023-07-05T06:31:18.942Z"
   },
   {
    "duration": 19,
    "start_time": "2023-07-05T06:31:18.948Z"
   },
   {
    "duration": 5,
    "start_time": "2023-07-05T06:31:18.969Z"
   },
   {
    "duration": 39,
    "start_time": "2023-07-05T06:31:18.975Z"
   },
   {
    "duration": 18,
    "start_time": "2023-07-05T06:31:19.016Z"
   },
   {
    "duration": 20,
    "start_time": "2023-07-05T06:31:19.036Z"
   },
   {
    "duration": 58,
    "start_time": "2023-07-05T06:31:19.058Z"
   },
   {
    "duration": 2555,
    "start_time": "2023-07-05T06:31:19.118Z"
   },
   {
    "duration": 2953,
    "start_time": "2023-07-05T06:31:21.676Z"
   },
   {
    "duration": 2325,
    "start_time": "2023-07-05T06:31:24.631Z"
   },
   {
    "duration": 6,
    "start_time": "2023-07-05T06:31:26.958Z"
   },
   {
    "duration": 157,
    "start_time": "2023-07-05T06:31:26.966Z"
   },
   {
    "duration": 5,
    "start_time": "2023-07-05T06:31:27.124Z"
   },
   {
    "duration": 6,
    "start_time": "2023-07-05T06:31:27.131Z"
   },
   {
    "duration": 6929,
    "start_time": "2023-07-05T06:31:27.138Z"
   },
   {
    "duration": 468,
    "start_time": "2023-07-05T06:31:34.069Z"
   },
   {
    "duration": 87,
    "start_time": "2023-07-05T06:31:34.539Z"
   },
   {
    "duration": 0,
    "start_time": "2023-07-05T06:31:34.627Z"
   },
   {
    "duration": 0,
    "start_time": "2023-07-05T06:31:34.629Z"
   },
   {
    "duration": 0,
    "start_time": "2023-07-05T06:31:34.630Z"
   },
   {
    "duration": 0,
    "start_time": "2023-07-05T06:31:34.631Z"
   },
   {
    "duration": 0,
    "start_time": "2023-07-05T06:31:34.633Z"
   },
   {
    "duration": 0,
    "start_time": "2023-07-05T06:31:34.634Z"
   },
   {
    "duration": 0,
    "start_time": "2023-07-05T06:31:34.635Z"
   },
   {
    "duration": 0,
    "start_time": "2023-07-05T06:31:34.636Z"
   },
   {
    "duration": 0,
    "start_time": "2023-07-05T06:31:34.637Z"
   },
   {
    "duration": 0,
    "start_time": "2023-07-05T06:31:34.638Z"
   },
   {
    "duration": 0,
    "start_time": "2023-07-05T06:31:34.639Z"
   },
   {
    "duration": 2994,
    "start_time": "2023-07-05T06:33:09.919Z"
   },
   {
    "duration": 3056,
    "start_time": "2023-07-05T06:33:48.960Z"
   },
   {
    "duration": 2887,
    "start_time": "2023-07-05T06:34:28.833Z"
   },
   {
    "duration": 2402,
    "start_time": "2023-07-05T06:34:44.532Z"
   },
   {
    "duration": 2795,
    "start_time": "2023-07-05T06:35:14.896Z"
   },
   {
    "duration": 5,
    "start_time": "2023-07-05T06:36:48.396Z"
   },
   {
    "duration": 5,
    "start_time": "2023-07-05T06:37:02.194Z"
   },
   {
    "duration": 113,
    "start_time": "2023-07-05T06:52:15.704Z"
   },
   {
    "duration": 13,
    "start_time": "2023-07-05T06:52:21.622Z"
   },
   {
    "duration": 11,
    "start_time": "2023-07-05T06:55:48.597Z"
   },
   {
    "duration": 9,
    "start_time": "2023-07-05T06:55:55.309Z"
   },
   {
    "duration": 10,
    "start_time": "2023-07-05T06:56:48.893Z"
   },
   {
    "duration": 10,
    "start_time": "2023-07-05T07:01:53.840Z"
   },
   {
    "duration": 4,
    "start_time": "2023-07-05T07:02:00.822Z"
   },
   {
    "duration": 9,
    "start_time": "2023-07-05T07:03:17.804Z"
   },
   {
    "duration": 10,
    "start_time": "2023-07-05T07:05:14.203Z"
   },
   {
    "duration": 4,
    "start_time": "2023-07-05T07:05:32.460Z"
   },
   {
    "duration": 10,
    "start_time": "2023-07-05T07:06:03.343Z"
   },
   {
    "duration": 11,
    "start_time": "2023-07-05T07:06:09.038Z"
   },
   {
    "duration": 6,
    "start_time": "2023-07-05T07:07:24.809Z"
   },
   {
    "duration": 8,
    "start_time": "2023-07-05T07:17:33.951Z"
   },
   {
    "duration": 3,
    "start_time": "2023-07-05T07:17:41.106Z"
   },
   {
    "duration": 4,
    "start_time": "2023-07-05T07:17:42.002Z"
   },
   {
    "duration": 76,
    "start_time": "2023-07-05T07:17:53.162Z"
   },
   {
    "duration": 5,
    "start_time": "2023-07-05T07:18:01.507Z"
   },
   {
    "duration": 12,
    "start_time": "2023-07-05T07:19:43.351Z"
   },
   {
    "duration": 5,
    "start_time": "2023-07-05T07:19:51.232Z"
   },
   {
    "duration": 4,
    "start_time": "2023-07-05T07:22:20.650Z"
   },
   {
    "duration": 6,
    "start_time": "2023-07-05T07:22:25.331Z"
   },
   {
    "duration": 7,
    "start_time": "2023-07-05T07:22:34.302Z"
   },
   {
    "duration": 5,
    "start_time": "2023-07-05T07:23:01.204Z"
   },
   {
    "duration": 3,
    "start_time": "2023-07-05T07:23:10.205Z"
   },
   {
    "duration": 5,
    "start_time": "2023-07-05T07:23:11.499Z"
   },
   {
    "duration": 13,
    "start_time": "2023-07-05T07:29:20.258Z"
   },
   {
    "duration": 36,
    "start_time": "2023-07-05T07:29:36.663Z"
   },
   {
    "duration": 187,
    "start_time": "2023-07-05T07:29:38.794Z"
   },
   {
    "duration": 4,
    "start_time": "2023-07-05T07:36:05.890Z"
   },
   {
    "duration": 5,
    "start_time": "2023-07-05T07:39:13.019Z"
   },
   {
    "duration": 4,
    "start_time": "2023-07-05T08:09:20.591Z"
   },
   {
    "duration": 11,
    "start_time": "2023-07-05T08:33:43.246Z"
   },
   {
    "duration": 5,
    "start_time": "2023-07-05T08:34:01.755Z"
   },
   {
    "duration": 16,
    "start_time": "2023-07-05T08:34:19.171Z"
   },
   {
    "duration": 38,
    "start_time": "2023-07-05T08:35:59.711Z"
   },
   {
    "duration": 3,
    "start_time": "2023-07-05T08:36:40.612Z"
   },
   {
    "duration": 13,
    "start_time": "2023-07-05T08:37:53.192Z"
   },
   {
    "duration": 6,
    "start_time": "2023-07-05T08:38:58.317Z"
   },
   {
    "duration": 2232,
    "start_time": "2023-07-05T09:24:28.944Z"
   },
   {
    "duration": 1536,
    "start_time": "2023-07-05T09:24:31.179Z"
   },
   {
    "duration": 101,
    "start_time": "2023-07-05T09:24:32.716Z"
   },
   {
    "duration": 15,
    "start_time": "2023-07-05T09:24:32.819Z"
   },
   {
    "duration": 40,
    "start_time": "2023-07-05T09:24:32.835Z"
   },
   {
    "duration": 18,
    "start_time": "2023-07-05T09:24:32.877Z"
   },
   {
    "duration": 8,
    "start_time": "2023-07-05T09:24:32.896Z"
   },
   {
    "duration": 22,
    "start_time": "2023-07-05T09:24:32.906Z"
   },
   {
    "duration": 22,
    "start_time": "2023-07-05T09:24:32.930Z"
   },
   {
    "duration": 279,
    "start_time": "2023-07-05T09:24:32.955Z"
   },
   {
    "duration": 152,
    "start_time": "2023-07-05T09:24:33.236Z"
   },
   {
    "duration": 224,
    "start_time": "2023-07-05T09:24:33.390Z"
   },
   {
    "duration": 151,
    "start_time": "2023-07-05T09:24:33.616Z"
   },
   {
    "duration": 7,
    "start_time": "2023-07-05T09:24:33.768Z"
   },
   {
    "duration": 302,
    "start_time": "2023-07-05T09:24:33.776Z"
   },
   {
    "duration": 8,
    "start_time": "2023-07-05T09:24:34.080Z"
   },
   {
    "duration": 30,
    "start_time": "2023-07-05T09:24:34.090Z"
   },
   {
    "duration": 15,
    "start_time": "2023-07-05T09:24:34.122Z"
   },
   {
    "duration": 7,
    "start_time": "2023-07-05T09:24:34.139Z"
   },
   {
    "duration": 134,
    "start_time": "2023-07-05T09:24:34.147Z"
   },
   {
    "duration": 8,
    "start_time": "2023-07-05T09:24:34.282Z"
   },
   {
    "duration": 10,
    "start_time": "2023-07-05T09:24:34.291Z"
   },
   {
    "duration": 7,
    "start_time": "2023-07-05T09:24:34.314Z"
   },
   {
    "duration": 21,
    "start_time": "2023-07-05T09:24:34.322Z"
   },
   {
    "duration": 17,
    "start_time": "2023-07-05T09:24:34.345Z"
   },
   {
    "duration": 10,
    "start_time": "2023-07-05T09:24:34.364Z"
   },
   {
    "duration": 5,
    "start_time": "2023-07-05T09:24:34.376Z"
   },
   {
    "duration": 154,
    "start_time": "2023-07-05T09:24:34.387Z"
   },
   {
    "duration": 8,
    "start_time": "2023-07-05T09:24:34.542Z"
   },
   {
    "duration": 10,
    "start_time": "2023-07-05T09:24:34.552Z"
   },
   {
    "duration": 18,
    "start_time": "2023-07-05T09:24:34.564Z"
   },
   {
    "duration": 13,
    "start_time": "2023-07-05T09:24:34.584Z"
   },
   {
    "duration": 110,
    "start_time": "2023-07-05T09:24:34.613Z"
   },
   {
    "duration": 115,
    "start_time": "2023-07-05T09:24:34.725Z"
   },
   {
    "duration": 7,
    "start_time": "2023-07-05T09:24:34.842Z"
   },
   {
    "duration": 14,
    "start_time": "2023-07-05T09:24:34.850Z"
   },
   {
    "duration": 32,
    "start_time": "2023-07-05T09:24:34.866Z"
   },
   {
    "duration": 6,
    "start_time": "2023-07-05T09:24:34.899Z"
   },
   {
    "duration": 120,
    "start_time": "2023-07-05T09:24:34.907Z"
   },
   {
    "duration": 4,
    "start_time": "2023-07-05T09:24:35.029Z"
   },
   {
    "duration": 22,
    "start_time": "2023-07-05T09:24:35.035Z"
   },
   {
    "duration": 7,
    "start_time": "2023-07-05T09:24:35.059Z"
   },
   {
    "duration": 15,
    "start_time": "2023-07-05T09:24:35.067Z"
   },
   {
    "duration": 8,
    "start_time": "2023-07-05T09:24:35.084Z"
   },
   {
    "duration": 3,
    "start_time": "2023-07-05T09:24:35.094Z"
   },
   {
    "duration": 9,
    "start_time": "2023-07-05T09:24:35.098Z"
   },
   {
    "duration": 18,
    "start_time": "2023-07-05T09:24:35.108Z"
   },
   {
    "duration": 3,
    "start_time": "2023-07-05T09:24:35.127Z"
   },
   {
    "duration": 8,
    "start_time": "2023-07-05T09:24:35.132Z"
   },
   {
    "duration": 6,
    "start_time": "2023-07-05T09:24:35.142Z"
   },
   {
    "duration": 5,
    "start_time": "2023-07-05T09:24:35.150Z"
   },
   {
    "duration": 31,
    "start_time": "2023-07-05T09:24:35.157Z"
   },
   {
    "duration": 6,
    "start_time": "2023-07-05T09:24:35.189Z"
   },
   {
    "duration": 31,
    "start_time": "2023-07-05T09:24:35.197Z"
   },
   {
    "duration": 18,
    "start_time": "2023-07-05T09:24:35.230Z"
   },
   {
    "duration": 18,
    "start_time": "2023-07-05T09:24:35.250Z"
   },
   {
    "duration": 52,
    "start_time": "2023-07-05T09:24:35.271Z"
   },
   {
    "duration": 2468,
    "start_time": "2023-07-05T09:24:35.326Z"
   },
   {
    "duration": 3009,
    "start_time": "2023-07-05T09:24:37.796Z"
   },
   {
    "duration": 2395,
    "start_time": "2023-07-05T09:24:40.813Z"
   },
   {
    "duration": 167,
    "start_time": "2023-07-05T09:24:43.213Z"
   },
   {
    "duration": 6,
    "start_time": "2023-07-05T09:24:43.382Z"
   },
   {
    "duration": 23,
    "start_time": "2023-07-05T09:24:43.390Z"
   },
   {
    "duration": 7376,
    "start_time": "2023-07-05T09:24:43.415Z"
   },
   {
    "duration": 475,
    "start_time": "2023-07-05T09:24:50.793Z"
   },
   {
    "duration": 5,
    "start_time": "2023-07-05T09:24:51.270Z"
   },
   {
    "duration": 40,
    "start_time": "2023-07-05T09:24:51.276Z"
   },
   {
    "duration": 25,
    "start_time": "2023-07-05T09:24:51.318Z"
   },
   {
    "duration": 41,
    "start_time": "2023-07-05T09:24:51.345Z"
   },
   {
    "duration": 36,
    "start_time": "2023-07-05T09:24:51.388Z"
   },
   {
    "duration": 78,
    "start_time": "2023-07-05T09:24:51.426Z"
   },
   {
    "duration": 11,
    "start_time": "2023-07-05T09:24:51.506Z"
   },
   {
    "duration": 53,
    "start_time": "2023-07-05T09:24:51.518Z"
   },
   {
    "duration": 33,
    "start_time": "2023-07-05T09:24:51.573Z"
   },
   {
    "duration": 36,
    "start_time": "2023-07-05T09:24:51.607Z"
   },
   {
    "duration": 33,
    "start_time": "2023-07-05T09:24:51.646Z"
   },
   {
    "duration": 143,
    "start_time": "2023-07-05T09:24:51.681Z"
   },
   {
    "duration": 0,
    "start_time": "2023-07-05T09:24:51.826Z"
   },
   {
    "duration": 0,
    "start_time": "2023-07-05T09:24:51.827Z"
   },
   {
    "duration": 0,
    "start_time": "2023-07-05T09:24:51.828Z"
   },
   {
    "duration": 0,
    "start_time": "2023-07-05T09:24:51.829Z"
   },
   {
    "duration": 0,
    "start_time": "2023-07-05T09:24:51.830Z"
   },
   {
    "duration": 0,
    "start_time": "2023-07-05T09:24:51.831Z"
   },
   {
    "duration": 0,
    "start_time": "2023-07-05T09:24:51.832Z"
   },
   {
    "duration": 0,
    "start_time": "2023-07-05T09:24:51.833Z"
   },
   {
    "duration": 3,
    "start_time": "2023-07-05T09:25:42.891Z"
   },
   {
    "duration": 19,
    "start_time": "2023-07-05T09:25:45.771Z"
   },
   {
    "duration": 9,
    "start_time": "2023-07-05T09:26:39.623Z"
   },
   {
    "duration": 2080,
    "start_time": "2023-07-05T09:30:38.445Z"
   },
   {
    "duration": 1499,
    "start_time": "2023-07-05T09:30:40.527Z"
   },
   {
    "duration": 101,
    "start_time": "2023-07-05T09:30:42.027Z"
   },
   {
    "duration": 15,
    "start_time": "2023-07-05T09:30:42.130Z"
   },
   {
    "duration": 14,
    "start_time": "2023-07-05T09:30:42.147Z"
   },
   {
    "duration": 8,
    "start_time": "2023-07-05T09:30:42.163Z"
   },
   {
    "duration": 6,
    "start_time": "2023-07-05T09:30:42.172Z"
   },
   {
    "duration": 15,
    "start_time": "2023-07-05T09:30:42.180Z"
   },
   {
    "duration": 13,
    "start_time": "2023-07-05T09:30:42.212Z"
   },
   {
    "duration": 260,
    "start_time": "2023-07-05T09:30:42.228Z"
   },
   {
    "duration": 143,
    "start_time": "2023-07-05T09:30:42.490Z"
   },
   {
    "duration": 219,
    "start_time": "2023-07-05T09:30:42.634Z"
   },
   {
    "duration": 145,
    "start_time": "2023-07-05T09:30:42.855Z"
   },
   {
    "duration": 14,
    "start_time": "2023-07-05T09:30:43.001Z"
   },
   {
    "duration": 273,
    "start_time": "2023-07-05T09:30:43.017Z"
   },
   {
    "duration": 8,
    "start_time": "2023-07-05T09:30:43.293Z"
   },
   {
    "duration": 11,
    "start_time": "2023-07-05T09:30:43.314Z"
   },
   {
    "duration": 7,
    "start_time": "2023-07-05T09:30:43.327Z"
   },
   {
    "duration": 9,
    "start_time": "2023-07-05T09:30:43.335Z"
   },
   {
    "duration": 155,
    "start_time": "2023-07-05T09:30:43.346Z"
   },
   {
    "duration": 11,
    "start_time": "2023-07-05T09:30:43.503Z"
   },
   {
    "duration": 8,
    "start_time": "2023-07-05T09:30:43.516Z"
   },
   {
    "duration": 20,
    "start_time": "2023-07-05T09:30:43.526Z"
   },
   {
    "duration": 25,
    "start_time": "2023-07-05T09:30:43.547Z"
   },
   {
    "duration": 29,
    "start_time": "2023-07-05T09:30:43.574Z"
   },
   {
    "duration": 19,
    "start_time": "2023-07-05T09:30:43.605Z"
   },
   {
    "duration": 16,
    "start_time": "2023-07-05T09:30:43.626Z"
   },
   {
    "duration": 126,
    "start_time": "2023-07-05T09:30:43.647Z"
   },
   {
    "duration": 7,
    "start_time": "2023-07-05T09:30:43.775Z"
   },
   {
    "duration": 22,
    "start_time": "2023-07-05T09:30:43.784Z"
   },
   {
    "duration": 24,
    "start_time": "2023-07-05T09:30:43.807Z"
   },
   {
    "duration": 30,
    "start_time": "2023-07-05T09:30:43.832Z"
   },
   {
    "duration": 126,
    "start_time": "2023-07-05T09:30:43.864Z"
   },
   {
    "duration": 121,
    "start_time": "2023-07-05T09:30:43.992Z"
   },
   {
    "duration": 8,
    "start_time": "2023-07-05T09:30:44.115Z"
   },
   {
    "duration": 33,
    "start_time": "2023-07-05T09:30:44.124Z"
   },
   {
    "duration": 26,
    "start_time": "2023-07-05T09:30:44.159Z"
   },
   {
    "duration": 25,
    "start_time": "2023-07-05T09:30:44.187Z"
   },
   {
    "duration": 145,
    "start_time": "2023-07-05T09:30:44.214Z"
   },
   {
    "duration": 4,
    "start_time": "2023-07-05T09:30:44.361Z"
   },
   {
    "duration": 32,
    "start_time": "2023-07-05T09:30:44.367Z"
   },
   {
    "duration": 12,
    "start_time": "2023-07-05T09:30:44.400Z"
   },
   {
    "duration": 48,
    "start_time": "2023-07-05T09:30:44.414Z"
   },
   {
    "duration": 22,
    "start_time": "2023-07-05T09:30:44.463Z"
   },
   {
    "duration": 1517,
    "start_time": "2023-07-05T09:30:44.487Z"
   },
   {
    "duration": 0,
    "start_time": "2023-07-05T09:30:46.006Z"
   },
   {
    "duration": 1,
    "start_time": "2023-07-05T09:30:46.007Z"
   },
   {
    "duration": 0,
    "start_time": "2023-07-05T09:30:46.009Z"
   },
   {
    "duration": 0,
    "start_time": "2023-07-05T09:30:46.011Z"
   },
   {
    "duration": 0,
    "start_time": "2023-07-05T09:30:46.012Z"
   },
   {
    "duration": 0,
    "start_time": "2023-07-05T09:30:46.014Z"
   },
   {
    "duration": 0,
    "start_time": "2023-07-05T09:30:46.015Z"
   },
   {
    "duration": 0,
    "start_time": "2023-07-05T09:30:46.017Z"
   },
   {
    "duration": 0,
    "start_time": "2023-07-05T09:30:46.019Z"
   },
   {
    "duration": 0,
    "start_time": "2023-07-05T09:30:46.020Z"
   },
   {
    "duration": 0,
    "start_time": "2023-07-05T09:30:46.022Z"
   },
   {
    "duration": 0,
    "start_time": "2023-07-05T09:30:46.023Z"
   },
   {
    "duration": 0,
    "start_time": "2023-07-05T09:30:46.025Z"
   },
   {
    "duration": 0,
    "start_time": "2023-07-05T09:30:46.026Z"
   },
   {
    "duration": 0,
    "start_time": "2023-07-05T09:30:46.029Z"
   },
   {
    "duration": 0,
    "start_time": "2023-07-05T09:30:46.030Z"
   },
   {
    "duration": 0,
    "start_time": "2023-07-05T09:30:46.031Z"
   },
   {
    "duration": 0,
    "start_time": "2023-07-05T09:30:46.032Z"
   },
   {
    "duration": 0,
    "start_time": "2023-07-05T09:30:46.033Z"
   },
   {
    "duration": 0,
    "start_time": "2023-07-05T09:30:46.035Z"
   },
   {
    "duration": 0,
    "start_time": "2023-07-05T09:30:46.036Z"
   },
   {
    "duration": 0,
    "start_time": "2023-07-05T09:30:46.037Z"
   },
   {
    "duration": 0,
    "start_time": "2023-07-05T09:30:46.038Z"
   },
   {
    "duration": 0,
    "start_time": "2023-07-05T09:30:46.039Z"
   },
   {
    "duration": 0,
    "start_time": "2023-07-05T09:30:46.040Z"
   },
   {
    "duration": 0,
    "start_time": "2023-07-05T09:30:46.041Z"
   },
   {
    "duration": 0,
    "start_time": "2023-07-05T09:30:46.043Z"
   },
   {
    "duration": 0,
    "start_time": "2023-07-05T09:30:46.044Z"
   },
   {
    "duration": 0,
    "start_time": "2023-07-05T09:30:46.045Z"
   },
   {
    "duration": 0,
    "start_time": "2023-07-05T09:30:46.046Z"
   },
   {
    "duration": 0,
    "start_time": "2023-07-05T09:30:46.047Z"
   },
   {
    "duration": 0,
    "start_time": "2023-07-05T09:30:46.048Z"
   },
   {
    "duration": 0,
    "start_time": "2023-07-05T09:30:46.049Z"
   },
   {
    "duration": 0,
    "start_time": "2023-07-05T09:30:46.050Z"
   },
   {
    "duration": 0,
    "start_time": "2023-07-05T09:30:46.051Z"
   },
   {
    "duration": 0,
    "start_time": "2023-07-05T09:30:46.053Z"
   },
   {
    "duration": 0,
    "start_time": "2023-07-05T09:30:46.053Z"
   },
   {
    "duration": 0,
    "start_time": "2023-07-05T09:30:46.114Z"
   },
   {
    "duration": 0,
    "start_time": "2023-07-05T09:30:46.115Z"
   },
   {
    "duration": 0,
    "start_time": "2023-07-05T09:30:46.116Z"
   },
   {
    "duration": 0,
    "start_time": "2023-07-05T09:30:46.118Z"
   },
   {
    "duration": 11,
    "start_time": "2023-07-05T09:32:51.098Z"
   },
   {
    "duration": 2189,
    "start_time": "2023-07-05T09:33:22.568Z"
   },
   {
    "duration": 1483,
    "start_time": "2023-07-05T09:33:24.759Z"
   },
   {
    "duration": 102,
    "start_time": "2023-07-05T09:33:26.244Z"
   },
   {
    "duration": 17,
    "start_time": "2023-07-05T09:33:26.349Z"
   },
   {
    "duration": 37,
    "start_time": "2023-07-05T09:33:26.368Z"
   },
   {
    "duration": 11,
    "start_time": "2023-07-05T09:33:26.407Z"
   },
   {
    "duration": 27,
    "start_time": "2023-07-05T09:33:26.420Z"
   },
   {
    "duration": 42,
    "start_time": "2023-07-05T09:33:26.448Z"
   },
   {
    "duration": 25,
    "start_time": "2023-07-05T09:33:26.491Z"
   },
   {
    "duration": 266,
    "start_time": "2023-07-05T09:33:26.520Z"
   },
   {
    "duration": 158,
    "start_time": "2023-07-05T09:33:26.787Z"
   },
   {
    "duration": 225,
    "start_time": "2023-07-05T09:33:26.947Z"
   },
   {
    "duration": 150,
    "start_time": "2023-07-05T09:33:27.174Z"
   },
   {
    "duration": 8,
    "start_time": "2023-07-05T09:33:27.326Z"
   },
   {
    "duration": 290,
    "start_time": "2023-07-05T09:33:27.336Z"
   },
   {
    "duration": 10,
    "start_time": "2023-07-05T09:33:27.628Z"
   },
   {
    "duration": 40,
    "start_time": "2023-07-05T09:33:27.640Z"
   },
   {
    "duration": 33,
    "start_time": "2023-07-05T09:33:27.682Z"
   },
   {
    "duration": 32,
    "start_time": "2023-07-05T09:33:27.717Z"
   },
   {
    "duration": 155,
    "start_time": "2023-07-05T09:33:27.751Z"
   },
   {
    "duration": 9,
    "start_time": "2023-07-05T09:33:27.912Z"
   },
   {
    "duration": 20,
    "start_time": "2023-07-05T09:33:27.922Z"
   },
   {
    "duration": 35,
    "start_time": "2023-07-05T09:33:27.943Z"
   },
   {
    "duration": 28,
    "start_time": "2023-07-05T09:33:27.980Z"
   },
   {
    "duration": 49,
    "start_time": "2023-07-05T09:33:28.010Z"
   },
   {
    "duration": 31,
    "start_time": "2023-07-05T09:33:28.060Z"
   },
   {
    "duration": 34,
    "start_time": "2023-07-05T09:33:28.092Z"
   },
   {
    "duration": 169,
    "start_time": "2023-07-05T09:33:28.131Z"
   },
   {
    "duration": 12,
    "start_time": "2023-07-05T09:33:28.302Z"
   },
   {
    "duration": 25,
    "start_time": "2023-07-05T09:33:28.315Z"
   },
   {
    "duration": 31,
    "start_time": "2023-07-05T09:33:28.343Z"
   },
   {
    "duration": 44,
    "start_time": "2023-07-05T09:33:28.376Z"
   },
   {
    "duration": 144,
    "start_time": "2023-07-05T09:33:28.423Z"
   },
   {
    "duration": 117,
    "start_time": "2023-07-05T09:33:28.569Z"
   },
   {
    "duration": 7,
    "start_time": "2023-07-05T09:33:28.688Z"
   },
   {
    "duration": 41,
    "start_time": "2023-07-05T09:33:28.697Z"
   },
   {
    "duration": 38,
    "start_time": "2023-07-05T09:33:28.739Z"
   },
   {
    "duration": 51,
    "start_time": "2023-07-05T09:33:28.779Z"
   },
   {
    "duration": 146,
    "start_time": "2023-07-05T09:33:28.832Z"
   },
   {
    "duration": 81,
    "start_time": "2023-07-05T09:33:28.980Z"
   },
   {
    "duration": 38,
    "start_time": "2023-07-05T09:33:29.062Z"
   },
   {
    "duration": 23,
    "start_time": "2023-07-05T09:33:29.102Z"
   },
   {
    "duration": 22,
    "start_time": "2023-07-05T09:33:29.127Z"
   },
   {
    "duration": 30,
    "start_time": "2023-07-05T09:33:29.151Z"
   },
   {
    "duration": 34,
    "start_time": "2023-07-05T09:33:29.183Z"
   },
   {
    "duration": 48,
    "start_time": "2023-07-05T09:33:29.219Z"
   },
   {
    "duration": 65,
    "start_time": "2023-07-05T09:33:29.269Z"
   },
   {
    "duration": 19,
    "start_time": "2023-07-05T09:33:29.336Z"
   },
   {
    "duration": 24,
    "start_time": "2023-07-05T09:33:29.356Z"
   },
   {
    "duration": 31,
    "start_time": "2023-07-05T09:33:29.381Z"
   },
   {
    "duration": 18,
    "start_time": "2023-07-05T09:33:29.414Z"
   },
   {
    "duration": 35,
    "start_time": "2023-07-05T09:33:29.433Z"
   },
   {
    "duration": 19,
    "start_time": "2023-07-05T09:33:29.469Z"
   },
   {
    "duration": 40,
    "start_time": "2023-07-05T09:33:29.490Z"
   },
   {
    "duration": 51,
    "start_time": "2023-07-05T09:33:29.531Z"
   },
   {
    "duration": 26,
    "start_time": "2023-07-05T09:33:29.584Z"
   },
   {
    "duration": 53,
    "start_time": "2023-07-05T09:33:29.613Z"
   },
   {
    "duration": 2616,
    "start_time": "2023-07-05T09:33:29.668Z"
   },
   {
    "duration": 3132,
    "start_time": "2023-07-05T09:33:32.285Z"
   },
   {
    "duration": 2406,
    "start_time": "2023-07-05T09:33:35.419Z"
   },
   {
    "duration": 160,
    "start_time": "2023-07-05T09:33:37.828Z"
   },
   {
    "duration": 6,
    "start_time": "2023-07-05T09:33:37.991Z"
   },
   {
    "duration": 31,
    "start_time": "2023-07-05T09:33:37.999Z"
   },
   {
    "duration": 7276,
    "start_time": "2023-07-05T09:33:38.031Z"
   },
   {
    "duration": 496,
    "start_time": "2023-07-05T09:33:45.309Z"
   },
   {
    "duration": 11,
    "start_time": "2023-07-05T09:33:45.806Z"
   },
   {
    "duration": 36,
    "start_time": "2023-07-05T09:33:45.819Z"
   },
   {
    "duration": 24,
    "start_time": "2023-07-05T09:33:45.857Z"
   },
   {
    "duration": 7,
    "start_time": "2023-07-05T09:33:45.883Z"
   },
   {
    "duration": 30,
    "start_time": "2023-07-05T09:33:45.892Z"
   },
   {
    "duration": 32,
    "start_time": "2023-07-05T09:33:45.924Z"
   },
   {
    "duration": 68,
    "start_time": "2023-07-05T09:33:45.957Z"
   },
   {
    "duration": 5,
    "start_time": "2023-07-05T09:33:46.027Z"
   },
   {
    "duration": 56,
    "start_time": "2023-07-05T09:33:46.034Z"
   },
   {
    "duration": 46,
    "start_time": "2023-07-05T09:33:46.092Z"
   },
   {
    "duration": 26,
    "start_time": "2023-07-05T09:33:46.140Z"
   },
   {
    "duration": 35,
    "start_time": "2023-07-05T09:33:46.168Z"
   },
   {
    "duration": 151,
    "start_time": "2023-07-05T09:33:46.205Z"
   },
   {
    "duration": 0,
    "start_time": "2023-07-05T09:33:46.358Z"
   },
   {
    "duration": 0,
    "start_time": "2023-07-05T09:33:46.359Z"
   },
   {
    "duration": 0,
    "start_time": "2023-07-05T09:33:46.361Z"
   },
   {
    "duration": 0,
    "start_time": "2023-07-05T09:33:46.362Z"
   },
   {
    "duration": 0,
    "start_time": "2023-07-05T09:33:46.364Z"
   },
   {
    "duration": 0,
    "start_time": "2023-07-05T09:33:46.365Z"
   },
   {
    "duration": 0,
    "start_time": "2023-07-05T09:33:46.367Z"
   },
   {
    "duration": 0,
    "start_time": "2023-07-05T09:33:46.369Z"
   },
   {
    "duration": 3,
    "start_time": "2023-07-05T09:35:06.572Z"
   },
   {
    "duration": 20,
    "start_time": "2023-07-05T09:35:08.451Z"
   },
   {
    "duration": 2125,
    "start_time": "2023-07-05T09:37:00.649Z"
   },
   {
    "duration": 1521,
    "start_time": "2023-07-05T09:37:02.776Z"
   },
   {
    "duration": 101,
    "start_time": "2023-07-05T09:37:04.299Z"
   },
   {
    "duration": 15,
    "start_time": "2023-07-05T09:37:04.402Z"
   },
   {
    "duration": 13,
    "start_time": "2023-07-05T09:37:04.419Z"
   },
   {
    "duration": 10,
    "start_time": "2023-07-05T09:37:04.433Z"
   },
   {
    "duration": 13,
    "start_time": "2023-07-05T09:37:04.445Z"
   },
   {
    "duration": 21,
    "start_time": "2023-07-05T09:37:04.460Z"
   },
   {
    "duration": 20,
    "start_time": "2023-07-05T09:37:04.483Z"
   },
   {
    "duration": 246,
    "start_time": "2023-07-05T09:37:04.504Z"
   },
   {
    "duration": 150,
    "start_time": "2023-07-05T09:37:04.752Z"
   },
   {
    "duration": 223,
    "start_time": "2023-07-05T09:37:04.905Z"
   },
   {
    "duration": 146,
    "start_time": "2023-07-05T09:37:05.130Z"
   },
   {
    "duration": 6,
    "start_time": "2023-07-05T09:37:05.279Z"
   },
   {
    "duration": 274,
    "start_time": "2023-07-05T09:37:05.287Z"
   },
   {
    "duration": 9,
    "start_time": "2023-07-05T09:37:05.562Z"
   },
   {
    "duration": 37,
    "start_time": "2023-07-05T09:37:05.573Z"
   },
   {
    "duration": 19,
    "start_time": "2023-07-05T09:37:05.611Z"
   },
   {
    "duration": 17,
    "start_time": "2023-07-05T09:37:05.632Z"
   },
   {
    "duration": 140,
    "start_time": "2023-07-05T09:37:05.652Z"
   },
   {
    "duration": 7,
    "start_time": "2023-07-05T09:37:05.794Z"
   },
   {
    "duration": 56,
    "start_time": "2023-07-05T09:37:05.813Z"
   },
   {
    "duration": 21,
    "start_time": "2023-07-05T09:37:05.871Z"
   },
   {
    "duration": 29,
    "start_time": "2023-07-05T09:37:05.894Z"
   },
   {
    "duration": 14,
    "start_time": "2023-07-05T09:37:05.925Z"
   },
   {
    "duration": 12,
    "start_time": "2023-07-05T09:37:05.941Z"
   },
   {
    "duration": 19,
    "start_time": "2023-07-05T09:37:05.954Z"
   },
   {
    "duration": 151,
    "start_time": "2023-07-05T09:37:05.975Z"
   },
   {
    "duration": 7,
    "start_time": "2023-07-05T09:37:06.127Z"
   },
   {
    "duration": 13,
    "start_time": "2023-07-05T09:37:06.135Z"
   },
   {
    "duration": 19,
    "start_time": "2023-07-05T09:37:06.149Z"
   },
   {
    "duration": 11,
    "start_time": "2023-07-05T09:37:06.170Z"
   },
   {
    "duration": 125,
    "start_time": "2023-07-05T09:37:06.183Z"
   },
   {
    "duration": 108,
    "start_time": "2023-07-05T09:37:06.310Z"
   },
   {
    "duration": 6,
    "start_time": "2023-07-05T09:37:06.420Z"
   },
   {
    "duration": 31,
    "start_time": "2023-07-05T09:37:06.427Z"
   },
   {
    "duration": 16,
    "start_time": "2023-07-05T09:37:06.460Z"
   },
   {
    "duration": 20,
    "start_time": "2023-07-05T09:37:06.478Z"
   },
   {
    "duration": 123,
    "start_time": "2023-07-05T09:37:06.500Z"
   },
   {
    "duration": 4,
    "start_time": "2023-07-05T09:37:06.625Z"
   },
   {
    "duration": 20,
    "start_time": "2023-07-05T09:37:06.633Z"
   },
   {
    "duration": 10,
    "start_time": "2023-07-05T09:37:06.655Z"
   },
   {
    "duration": 7,
    "start_time": "2023-07-05T09:37:06.667Z"
   },
   {
    "duration": 7,
    "start_time": "2023-07-05T09:37:06.675Z"
   },
   {
    "duration": 9,
    "start_time": "2023-07-05T09:37:06.684Z"
   },
   {
    "duration": 21,
    "start_time": "2023-07-05T09:37:06.695Z"
   },
   {
    "duration": 24,
    "start_time": "2023-07-05T09:37:06.718Z"
   },
   {
    "duration": 2,
    "start_time": "2023-07-05T09:37:06.744Z"
   },
   {
    "duration": 16,
    "start_time": "2023-07-05T09:37:06.748Z"
   },
   {
    "duration": 7,
    "start_time": "2023-07-05T09:37:06.765Z"
   },
   {
    "duration": 4,
    "start_time": "2023-07-05T09:37:06.774Z"
   },
   {
    "duration": 26,
    "start_time": "2023-07-05T09:37:06.779Z"
   },
   {
    "duration": 3,
    "start_time": "2023-07-05T09:37:06.807Z"
   },
   {
    "duration": 18,
    "start_time": "2023-07-05T09:37:06.812Z"
   },
   {
    "duration": 24,
    "start_time": "2023-07-05T09:37:06.832Z"
   },
   {
    "duration": 29,
    "start_time": "2023-07-05T09:37:06.859Z"
   },
   {
    "duration": 60,
    "start_time": "2023-07-05T09:37:06.890Z"
   },
   {
    "duration": 2581,
    "start_time": "2023-07-05T09:37:06.952Z"
   },
   {
    "duration": 2982,
    "start_time": "2023-07-05T09:37:09.534Z"
   },
   {
    "duration": 2489,
    "start_time": "2023-07-05T09:37:12.518Z"
   },
   {
    "duration": 174,
    "start_time": "2023-07-05T09:37:15.012Z"
   },
   {
    "duration": 7,
    "start_time": "2023-07-05T09:37:15.188Z"
   },
   {
    "duration": 22,
    "start_time": "2023-07-05T09:37:15.197Z"
   },
   {
    "duration": 7510,
    "start_time": "2023-07-05T09:37:15.221Z"
   },
   {
    "duration": 505,
    "start_time": "2023-07-05T09:37:22.733Z"
   },
   {
    "duration": 6,
    "start_time": "2023-07-05T09:37:23.239Z"
   },
   {
    "duration": 28,
    "start_time": "2023-07-05T09:37:23.246Z"
   },
   {
    "duration": 12,
    "start_time": "2023-07-05T09:37:23.276Z"
   },
   {
    "duration": 26,
    "start_time": "2023-07-05T09:37:23.290Z"
   },
   {
    "duration": 21,
    "start_time": "2023-07-05T09:37:23.318Z"
   },
   {
    "duration": 14,
    "start_time": "2023-07-05T09:37:23.341Z"
   },
   {
    "duration": 57,
    "start_time": "2023-07-05T09:37:23.356Z"
   },
   {
    "duration": 4,
    "start_time": "2023-07-05T09:37:23.415Z"
   },
   {
    "duration": 28,
    "start_time": "2023-07-05T09:37:23.421Z"
   },
   {
    "duration": 11,
    "start_time": "2023-07-05T09:37:23.451Z"
   },
   {
    "duration": 4,
    "start_time": "2023-07-05T09:37:23.463Z"
   },
   {
    "duration": 6,
    "start_time": "2023-07-05T09:37:23.469Z"
   },
   {
    "duration": 163,
    "start_time": "2023-07-05T09:37:23.477Z"
   },
   {
    "duration": 0,
    "start_time": "2023-07-05T09:37:23.642Z"
   },
   {
    "duration": 0,
    "start_time": "2023-07-05T09:37:23.643Z"
   },
   {
    "duration": 0,
    "start_time": "2023-07-05T09:37:23.644Z"
   },
   {
    "duration": 0,
    "start_time": "2023-07-05T09:37:23.646Z"
   },
   {
    "duration": 0,
    "start_time": "2023-07-05T09:37:23.647Z"
   },
   {
    "duration": 0,
    "start_time": "2023-07-05T09:37:23.648Z"
   },
   {
    "duration": 0,
    "start_time": "2023-07-05T09:37:23.649Z"
   },
   {
    "duration": 0,
    "start_time": "2023-07-05T09:37:23.651Z"
   },
   {
    "duration": 7,
    "start_time": "2023-07-05T09:42:45.173Z"
   },
   {
    "duration": 2190,
    "start_time": "2023-07-05T09:43:01.586Z"
   },
   {
    "duration": 1635,
    "start_time": "2023-07-05T09:43:03.778Z"
   },
   {
    "duration": 102,
    "start_time": "2023-07-05T09:43:05.415Z"
   },
   {
    "duration": 17,
    "start_time": "2023-07-05T09:43:05.520Z"
   },
   {
    "duration": 38,
    "start_time": "2023-07-05T09:43:05.539Z"
   },
   {
    "duration": 19,
    "start_time": "2023-07-05T09:43:05.579Z"
   },
   {
    "duration": 22,
    "start_time": "2023-07-05T09:43:05.601Z"
   },
   {
    "duration": 47,
    "start_time": "2023-07-05T09:43:05.625Z"
   },
   {
    "duration": 52,
    "start_time": "2023-07-05T09:43:05.674Z"
   },
   {
    "duration": 288,
    "start_time": "2023-07-05T09:43:05.730Z"
   },
   {
    "duration": 166,
    "start_time": "2023-07-05T09:43:06.020Z"
   },
   {
    "duration": 225,
    "start_time": "2023-07-05T09:43:06.188Z"
   },
   {
    "duration": 143,
    "start_time": "2023-07-05T09:43:06.415Z"
   },
   {
    "duration": 7,
    "start_time": "2023-07-05T09:43:06.559Z"
   },
   {
    "duration": 295,
    "start_time": "2023-07-05T09:43:06.568Z"
   },
   {
    "duration": 10,
    "start_time": "2023-07-05T09:43:06.864Z"
   },
   {
    "duration": 41,
    "start_time": "2023-07-05T09:43:06.875Z"
   },
   {
    "duration": 25,
    "start_time": "2023-07-05T09:43:06.918Z"
   },
   {
    "duration": 12,
    "start_time": "2023-07-05T09:43:06.944Z"
   },
   {
    "duration": 138,
    "start_time": "2023-07-05T09:43:06.958Z"
   },
   {
    "duration": 17,
    "start_time": "2023-07-05T09:43:07.097Z"
   },
   {
    "duration": 6,
    "start_time": "2023-07-05T09:43:07.116Z"
   },
   {
    "duration": 17,
    "start_time": "2023-07-05T09:43:07.124Z"
   },
   {
    "duration": 35,
    "start_time": "2023-07-05T09:43:07.144Z"
   },
   {
    "duration": 20,
    "start_time": "2023-07-05T09:43:07.181Z"
   },
   {
    "duration": 9,
    "start_time": "2023-07-05T09:43:07.203Z"
   },
   {
    "duration": 10,
    "start_time": "2023-07-05T09:43:07.214Z"
   },
   {
    "duration": 151,
    "start_time": "2023-07-05T09:43:07.231Z"
   },
   {
    "duration": 8,
    "start_time": "2023-07-05T09:43:07.384Z"
   },
   {
    "duration": 28,
    "start_time": "2023-07-05T09:43:07.394Z"
   },
   {
    "duration": 14,
    "start_time": "2023-07-05T09:43:07.425Z"
   },
   {
    "duration": 18,
    "start_time": "2023-07-05T09:43:07.440Z"
   },
   {
    "duration": 115,
    "start_time": "2023-07-05T09:43:07.459Z"
   },
   {
    "duration": 117,
    "start_time": "2023-07-05T09:43:07.576Z"
   },
   {
    "duration": 6,
    "start_time": "2023-07-05T09:43:07.695Z"
   },
   {
    "duration": 11,
    "start_time": "2023-07-05T09:43:07.714Z"
   },
   {
    "duration": 9,
    "start_time": "2023-07-05T09:43:07.727Z"
   },
   {
    "duration": 17,
    "start_time": "2023-07-05T09:43:07.737Z"
   },
   {
    "duration": 132,
    "start_time": "2023-07-05T09:43:07.756Z"
   },
   {
    "duration": 5,
    "start_time": "2023-07-05T09:43:07.890Z"
   },
   {
    "duration": 25,
    "start_time": "2023-07-05T09:43:07.896Z"
   },
   {
    "duration": 9,
    "start_time": "2023-07-05T09:43:07.923Z"
   },
   {
    "duration": 18,
    "start_time": "2023-07-05T09:43:07.934Z"
   },
   {
    "duration": 17,
    "start_time": "2023-07-05T09:43:07.954Z"
   },
   {
    "duration": 21,
    "start_time": "2023-07-05T09:43:07.973Z"
   },
   {
    "duration": 19,
    "start_time": "2023-07-05T09:43:07.996Z"
   },
   {
    "duration": 28,
    "start_time": "2023-07-05T09:43:08.017Z"
   },
   {
    "duration": 3,
    "start_time": "2023-07-05T09:43:08.046Z"
   },
   {
    "duration": 13,
    "start_time": "2023-07-05T09:43:08.051Z"
   },
   {
    "duration": 30,
    "start_time": "2023-07-05T09:43:08.065Z"
   },
   {
    "duration": 15,
    "start_time": "2023-07-05T09:43:08.097Z"
   },
   {
    "duration": 43,
    "start_time": "2023-07-05T09:43:08.114Z"
   },
   {
    "duration": 7,
    "start_time": "2023-07-05T09:43:08.159Z"
   },
   {
    "duration": 39,
    "start_time": "2023-07-05T09:43:08.168Z"
   },
   {
    "duration": 21,
    "start_time": "2023-07-05T09:43:08.208Z"
   },
   {
    "duration": 18,
    "start_time": "2023-07-05T09:43:08.230Z"
   },
   {
    "duration": 29,
    "start_time": "2023-07-05T09:43:08.249Z"
   },
   {
    "duration": 2688,
    "start_time": "2023-07-05T09:43:08.280Z"
   },
   {
    "duration": 3268,
    "start_time": "2023-07-05T09:43:10.969Z"
   },
   {
    "duration": 2582,
    "start_time": "2023-07-05T09:43:14.239Z"
   },
   {
    "duration": 161,
    "start_time": "2023-07-05T09:43:16.823Z"
   },
   {
    "duration": 7,
    "start_time": "2023-07-05T09:43:16.986Z"
   },
   {
    "duration": 20,
    "start_time": "2023-07-05T09:43:16.995Z"
   },
   {
    "duration": 7573,
    "start_time": "2023-07-05T09:43:17.018Z"
   },
   {
    "duration": 569,
    "start_time": "2023-07-05T09:43:24.593Z"
   },
   {
    "duration": 7,
    "start_time": "2023-07-05T09:43:25.165Z"
   },
   {
    "duration": 46,
    "start_time": "2023-07-05T09:43:25.174Z"
   },
   {
    "duration": 1459,
    "start_time": "2023-07-05T09:43:25.223Z"
   },
   {
    "duration": 0,
    "start_time": "2023-07-05T09:43:26.684Z"
   },
   {
    "duration": 0,
    "start_time": "2023-07-05T09:43:26.685Z"
   },
   {
    "duration": 0,
    "start_time": "2023-07-05T09:43:26.686Z"
   },
   {
    "duration": 0,
    "start_time": "2023-07-05T09:43:26.687Z"
   },
   {
    "duration": 0,
    "start_time": "2023-07-05T09:43:26.688Z"
   },
   {
    "duration": 0,
    "start_time": "2023-07-05T09:43:26.690Z"
   },
   {
    "duration": 0,
    "start_time": "2023-07-05T09:43:26.691Z"
   },
   {
    "duration": 0,
    "start_time": "2023-07-05T09:43:26.692Z"
   },
   {
    "duration": 0,
    "start_time": "2023-07-05T09:43:26.693Z"
   },
   {
    "duration": 0,
    "start_time": "2023-07-05T09:43:26.695Z"
   },
   {
    "duration": 0,
    "start_time": "2023-07-05T09:43:26.697Z"
   },
   {
    "duration": 0,
    "start_time": "2023-07-05T09:43:26.699Z"
   },
   {
    "duration": 0,
    "start_time": "2023-07-05T09:43:26.700Z"
   },
   {
    "duration": 0,
    "start_time": "2023-07-05T09:43:26.702Z"
   },
   {
    "duration": 0,
    "start_time": "2023-07-05T09:43:26.703Z"
   },
   {
    "duration": 0,
    "start_time": "2023-07-05T09:43:26.705Z"
   },
   {
    "duration": 0,
    "start_time": "2023-07-05T09:43:26.707Z"
   },
   {
    "duration": 0,
    "start_time": "2023-07-05T09:43:26.709Z"
   },
   {
    "duration": 2,
    "start_time": "2023-07-05T09:43:39.635Z"
   },
   {
    "duration": 7,
    "start_time": "2023-07-05T09:43:40.335Z"
   },
   {
    "duration": 4,
    "start_time": "2023-07-05T09:43:42.142Z"
   },
   {
    "duration": 4,
    "start_time": "2023-07-05T09:43:43.267Z"
   },
   {
    "duration": 38,
    "start_time": "2023-07-05T09:43:44.527Z"
   },
   {
    "duration": 5,
    "start_time": "2023-07-05T09:43:45.322Z"
   },
   {
    "duration": 5,
    "start_time": "2023-07-05T09:43:46.956Z"
   },
   {
    "duration": 8,
    "start_time": "2023-07-05T09:43:48.472Z"
   },
   {
    "duration": 4,
    "start_time": "2023-07-05T09:43:51.692Z"
   },
   {
    "duration": 4,
    "start_time": "2023-07-05T09:43:52.526Z"
   },
   {
    "duration": 32,
    "start_time": "2023-07-05T09:43:53.233Z"
   },
   {
    "duration": 3,
    "start_time": "2023-07-05T09:45:17.960Z"
   },
   {
    "duration": 13,
    "start_time": "2023-07-05T09:45:19.158Z"
   },
   {
    "duration": 6,
    "start_time": "2023-07-05T09:46:36.472Z"
   },
   {
    "duration": 7,
    "start_time": "2023-07-05T09:46:49.778Z"
   },
   {
    "duration": 7,
    "start_time": "2023-07-05T09:47:32.332Z"
   },
   {
    "duration": 2116,
    "start_time": "2023-07-05T09:49:19.571Z"
   },
   {
    "duration": 1515,
    "start_time": "2023-07-05T09:49:21.691Z"
   },
   {
    "duration": 103,
    "start_time": "2023-07-05T09:49:23.207Z"
   },
   {
    "duration": 16,
    "start_time": "2023-07-05T09:49:23.312Z"
   },
   {
    "duration": 13,
    "start_time": "2023-07-05T09:49:23.331Z"
   },
   {
    "duration": 12,
    "start_time": "2023-07-05T09:49:23.346Z"
   },
   {
    "duration": 8,
    "start_time": "2023-07-05T09:49:23.361Z"
   },
   {
    "duration": 26,
    "start_time": "2023-07-05T09:49:23.371Z"
   },
   {
    "duration": 19,
    "start_time": "2023-07-05T09:49:23.399Z"
   },
   {
    "duration": 271,
    "start_time": "2023-07-05T09:49:23.422Z"
   },
   {
    "duration": 158,
    "start_time": "2023-07-05T09:49:23.695Z"
   },
   {
    "duration": 238,
    "start_time": "2023-07-05T09:49:23.855Z"
   },
   {
    "duration": 151,
    "start_time": "2023-07-05T09:49:24.095Z"
   },
   {
    "duration": 8,
    "start_time": "2023-07-05T09:49:24.248Z"
   },
   {
    "duration": 278,
    "start_time": "2023-07-05T09:49:24.257Z"
   },
   {
    "duration": 9,
    "start_time": "2023-07-05T09:49:24.538Z"
   },
   {
    "duration": 12,
    "start_time": "2023-07-05T09:49:24.549Z"
   },
   {
    "duration": 7,
    "start_time": "2023-07-05T09:49:24.563Z"
   },
   {
    "duration": 15,
    "start_time": "2023-07-05T09:49:24.572Z"
   },
   {
    "duration": 150,
    "start_time": "2023-07-05T09:49:24.589Z"
   },
   {
    "duration": 8,
    "start_time": "2023-07-05T09:49:24.742Z"
   },
   {
    "duration": 12,
    "start_time": "2023-07-05T09:49:24.752Z"
   },
   {
    "duration": 25,
    "start_time": "2023-07-05T09:49:24.765Z"
   },
   {
    "duration": 37,
    "start_time": "2023-07-05T09:49:24.792Z"
   },
   {
    "duration": 22,
    "start_time": "2023-07-05T09:49:24.831Z"
   },
   {
    "duration": 14,
    "start_time": "2023-07-05T09:49:24.855Z"
   },
   {
    "duration": 14,
    "start_time": "2023-07-05T09:49:24.871Z"
   },
   {
    "duration": 126,
    "start_time": "2023-07-05T09:49:24.889Z"
   },
   {
    "duration": 7,
    "start_time": "2023-07-05T09:49:25.017Z"
   },
   {
    "duration": 10,
    "start_time": "2023-07-05T09:49:25.025Z"
   },
   {
    "duration": 15,
    "start_time": "2023-07-05T09:49:25.036Z"
   },
   {
    "duration": 9,
    "start_time": "2023-07-05T09:49:25.052Z"
   },
   {
    "duration": 137,
    "start_time": "2023-07-05T09:49:25.062Z"
   },
   {
    "duration": 125,
    "start_time": "2023-07-05T09:49:25.201Z"
   },
   {
    "duration": 8,
    "start_time": "2023-07-05T09:49:25.327Z"
   },
   {
    "duration": 16,
    "start_time": "2023-07-05T09:49:25.337Z"
   },
   {
    "duration": 8,
    "start_time": "2023-07-05T09:49:25.355Z"
   },
   {
    "duration": 8,
    "start_time": "2023-07-05T09:49:25.365Z"
   },
   {
    "duration": 164,
    "start_time": "2023-07-05T09:49:25.375Z"
   },
   {
    "duration": 6,
    "start_time": "2023-07-05T09:49:25.541Z"
   },
   {
    "duration": 19,
    "start_time": "2023-07-05T09:49:25.549Z"
   },
   {
    "duration": 5,
    "start_time": "2023-07-05T09:49:25.570Z"
   },
   {
    "duration": 11,
    "start_time": "2023-07-05T09:49:25.577Z"
   },
   {
    "duration": 28,
    "start_time": "2023-07-05T09:49:25.590Z"
   },
   {
    "duration": 5,
    "start_time": "2023-07-05T09:49:25.620Z"
   },
   {
    "duration": 7,
    "start_time": "2023-07-05T09:49:25.627Z"
   },
   {
    "duration": 25,
    "start_time": "2023-07-05T09:49:25.637Z"
   },
   {
    "duration": 4,
    "start_time": "2023-07-05T09:49:25.664Z"
   },
   {
    "duration": 8,
    "start_time": "2023-07-05T09:49:25.670Z"
   },
   {
    "duration": 33,
    "start_time": "2023-07-05T09:49:25.680Z"
   },
   {
    "duration": 5,
    "start_time": "2023-07-05T09:49:25.715Z"
   },
   {
    "duration": 16,
    "start_time": "2023-07-05T09:49:25.722Z"
   },
   {
    "duration": 3,
    "start_time": "2023-07-05T09:49:25.740Z"
   },
   {
    "duration": 20,
    "start_time": "2023-07-05T09:49:25.745Z"
   },
   {
    "duration": 13,
    "start_time": "2023-07-05T09:49:25.766Z"
   },
   {
    "duration": 46,
    "start_time": "2023-07-05T09:49:25.781Z"
   },
   {
    "duration": 29,
    "start_time": "2023-07-05T09:49:25.829Z"
   },
   {
    "duration": 2554,
    "start_time": "2023-07-05T09:49:25.860Z"
   },
   {
    "duration": 3092,
    "start_time": "2023-07-05T09:49:28.416Z"
   },
   {
    "duration": 2479,
    "start_time": "2023-07-05T09:49:31.514Z"
   },
   {
    "duration": 164,
    "start_time": "2023-07-05T09:49:33.995Z"
   },
   {
    "duration": 6,
    "start_time": "2023-07-05T09:49:34.161Z"
   },
   {
    "duration": 29,
    "start_time": "2023-07-05T09:49:34.168Z"
   },
   {
    "duration": 7277,
    "start_time": "2023-07-05T09:49:34.198Z"
   },
   {
    "duration": 491,
    "start_time": "2023-07-05T09:49:41.477Z"
   },
   {
    "duration": 6,
    "start_time": "2023-07-05T09:49:41.970Z"
   },
   {
    "duration": 23,
    "start_time": "2023-07-05T09:49:41.977Z"
   },
   {
    "duration": 32,
    "start_time": "2023-07-05T09:49:42.002Z"
   },
   {
    "duration": 28,
    "start_time": "2023-07-05T09:49:42.035Z"
   },
   {
    "duration": 6,
    "start_time": "2023-07-05T09:49:42.065Z"
   },
   {
    "duration": 13,
    "start_time": "2023-07-05T09:49:42.072Z"
   },
   {
    "duration": 49,
    "start_time": "2023-07-05T09:49:42.087Z"
   },
   {
    "duration": 5,
    "start_time": "2023-07-05T09:49:42.138Z"
   },
   {
    "duration": 32,
    "start_time": "2023-07-05T09:49:42.144Z"
   },
   {
    "duration": 38,
    "start_time": "2023-07-05T09:49:42.178Z"
   },
   {
    "duration": 33,
    "start_time": "2023-07-05T09:49:42.218Z"
   },
   {
    "duration": 23,
    "start_time": "2023-07-05T09:49:42.253Z"
   },
   {
    "duration": 16,
    "start_time": "2023-07-05T09:49:42.278Z"
   },
   {
    "duration": 137,
    "start_time": "2023-07-05T09:49:42.296Z"
   },
   {
    "duration": 0,
    "start_time": "2023-07-05T09:49:42.435Z"
   },
   {
    "duration": 0,
    "start_time": "2023-07-05T09:49:42.436Z"
   },
   {
    "duration": 0,
    "start_time": "2023-07-05T09:49:42.437Z"
   },
   {
    "duration": 0,
    "start_time": "2023-07-05T09:49:42.438Z"
   },
   {
    "duration": 0,
    "start_time": "2023-07-05T09:49:42.440Z"
   },
   {
    "duration": 0,
    "start_time": "2023-07-05T09:49:42.441Z"
   },
   {
    "duration": 0,
    "start_time": "2023-07-05T09:49:42.442Z"
   },
   {
    "duration": 0,
    "start_time": "2023-07-05T09:49:42.443Z"
   },
   {
    "duration": 3,
    "start_time": "2023-07-05T09:50:31.635Z"
   },
   {
    "duration": 10,
    "start_time": "2023-07-05T09:50:32.655Z"
   },
   {
    "duration": 36,
    "start_time": "2023-07-05T09:51:00.411Z"
   },
   {
    "duration": 883,
    "start_time": "2023-07-05T09:52:32.951Z"
   },
   {
    "duration": 876,
    "start_time": "2023-07-05T09:52:55.752Z"
   },
   {
    "duration": 2096,
    "start_time": "2023-07-05T09:53:02.352Z"
   },
   {
    "duration": 6057,
    "start_time": "2023-07-05T09:53:27.332Z"
   },
   {
    "duration": 2519,
    "start_time": "2023-07-05T09:53:51.520Z"
   },
   {
    "duration": 2555,
    "start_time": "2023-07-05T09:55:14.722Z"
   },
   {
    "duration": 2158,
    "start_time": "2023-07-05T09:55:17.280Z"
   },
   {
    "duration": 1416,
    "start_time": "2023-07-05T09:55:19.440Z"
   },
   {
    "duration": 105,
    "start_time": "2023-07-05T09:55:20.858Z"
   },
   {
    "duration": 17,
    "start_time": "2023-07-05T09:55:20.966Z"
   },
   {
    "duration": 17,
    "start_time": "2023-07-05T09:55:20.985Z"
   },
   {
    "duration": 19,
    "start_time": "2023-07-05T09:55:21.004Z"
   },
   {
    "duration": 34,
    "start_time": "2023-07-05T09:55:21.025Z"
   },
   {
    "duration": 38,
    "start_time": "2023-07-05T09:55:21.061Z"
   },
   {
    "duration": 31,
    "start_time": "2023-07-05T09:55:21.101Z"
   },
   {
    "duration": 272,
    "start_time": "2023-07-05T09:55:21.134Z"
   },
   {
    "duration": 148,
    "start_time": "2023-07-05T09:55:21.408Z"
   },
   {
    "duration": 150,
    "start_time": "2023-07-05T09:55:21.558Z"
   },
   {
    "duration": 223,
    "start_time": "2023-07-05T09:55:21.715Z"
   },
   {
    "duration": 7,
    "start_time": "2023-07-05T09:55:21.939Z"
   },
   {
    "duration": 323,
    "start_time": "2023-07-05T09:55:21.947Z"
   },
   {
    "duration": 9,
    "start_time": "2023-07-05T09:55:22.272Z"
   },
   {
    "duration": 22,
    "start_time": "2023-07-05T09:55:22.282Z"
   },
   {
    "duration": 25,
    "start_time": "2023-07-05T09:55:22.306Z"
   },
   {
    "duration": 26,
    "start_time": "2023-07-05T09:55:22.333Z"
   },
   {
    "duration": 146,
    "start_time": "2023-07-05T09:55:22.361Z"
   },
   {
    "duration": 9,
    "start_time": "2023-07-05T09:55:22.509Z"
   },
   {
    "duration": 17,
    "start_time": "2023-07-05T09:55:22.520Z"
   },
   {
    "duration": 23,
    "start_time": "2023-07-05T09:55:22.539Z"
   },
   {
    "duration": 22,
    "start_time": "2023-07-05T09:55:22.564Z"
   },
   {
    "duration": 43,
    "start_time": "2023-07-05T09:55:22.587Z"
   },
   {
    "duration": 26,
    "start_time": "2023-07-05T09:55:22.631Z"
   },
   {
    "duration": 20,
    "start_time": "2023-07-05T09:55:22.659Z"
   },
   {
    "duration": 125,
    "start_time": "2023-07-05T09:55:22.681Z"
   },
   {
    "duration": 11,
    "start_time": "2023-07-05T09:55:22.808Z"
   },
   {
    "duration": 96,
    "start_time": "2023-07-05T09:55:22.821Z"
   },
   {
    "duration": 32,
    "start_time": "2023-07-05T09:55:22.919Z"
   },
   {
    "duration": 73,
    "start_time": "2023-07-05T09:55:22.952Z"
   },
   {
    "duration": 142,
    "start_time": "2023-07-05T09:55:23.027Z"
   },
   {
    "duration": 120,
    "start_time": "2023-07-05T09:55:23.171Z"
   },
   {
    "duration": 7,
    "start_time": "2023-07-05T09:55:23.293Z"
   },
   {
    "duration": 16,
    "start_time": "2023-07-05T09:55:23.317Z"
   },
   {
    "duration": 28,
    "start_time": "2023-07-05T09:55:23.335Z"
   },
   {
    "duration": 25,
    "start_time": "2023-07-05T09:55:23.365Z"
   },
   {
    "duration": 154,
    "start_time": "2023-07-05T09:55:23.392Z"
   },
   {
    "duration": 5,
    "start_time": "2023-07-05T09:55:23.550Z"
   },
   {
    "duration": 23,
    "start_time": "2023-07-05T09:55:23.557Z"
   },
   {
    "duration": 9,
    "start_time": "2023-07-05T09:55:23.582Z"
   },
   {
    "duration": 20,
    "start_time": "2023-07-05T09:55:23.593Z"
   },
   {
    "duration": 9,
    "start_time": "2023-07-05T09:55:23.615Z"
   },
   {
    "duration": 13,
    "start_time": "2023-07-05T09:55:23.627Z"
   },
   {
    "duration": 31,
    "start_time": "2023-07-05T09:55:23.642Z"
   },
   {
    "duration": 27,
    "start_time": "2023-07-05T09:55:23.674Z"
   },
   {
    "duration": 47,
    "start_time": "2023-07-05T09:55:23.702Z"
   },
   {
    "duration": 59,
    "start_time": "2023-07-05T09:55:23.750Z"
   },
   {
    "duration": 19,
    "start_time": "2023-07-05T09:55:23.811Z"
   },
   {
    "duration": 18,
    "start_time": "2023-07-05T09:55:23.831Z"
   },
   {
    "duration": 39,
    "start_time": "2023-07-05T09:55:23.851Z"
   },
   {
    "duration": 25,
    "start_time": "2023-07-05T09:55:23.892Z"
   },
   {
    "duration": 45,
    "start_time": "2023-07-05T09:55:23.919Z"
   },
   {
    "duration": 36,
    "start_time": "2023-07-05T09:55:23.967Z"
   },
   {
    "duration": 43,
    "start_time": "2023-07-05T09:55:24.006Z"
   },
   {
    "duration": 99,
    "start_time": "2023-07-05T09:55:24.052Z"
   },
   {
    "duration": 2491,
    "start_time": "2023-07-05T09:55:24.153Z"
   },
   {
    "duration": 2880,
    "start_time": "2023-07-05T09:55:26.646Z"
   },
   {
    "duration": 2545,
    "start_time": "2023-07-05T09:55:29.528Z"
   },
   {
    "duration": 183,
    "start_time": "2023-07-05T09:55:32.075Z"
   },
   {
    "duration": 5,
    "start_time": "2023-07-05T09:55:32.260Z"
   },
   {
    "duration": 31,
    "start_time": "2023-07-05T09:55:32.267Z"
   },
   {
    "duration": 7163,
    "start_time": "2023-07-05T09:55:32.300Z"
   },
   {
    "duration": 545,
    "start_time": "2023-07-05T09:55:39.465Z"
   },
   {
    "duration": 7,
    "start_time": "2023-07-05T09:55:40.011Z"
   },
   {
    "duration": 14,
    "start_time": "2023-07-05T09:55:40.020Z"
   },
   {
    "duration": 8,
    "start_time": "2023-07-05T09:55:40.036Z"
   },
   {
    "duration": 18,
    "start_time": "2023-07-05T09:55:40.046Z"
   },
   {
    "duration": 5,
    "start_time": "2023-07-05T09:55:40.066Z"
   },
   {
    "duration": 23,
    "start_time": "2023-07-05T09:55:40.073Z"
   },
   {
    "duration": 46,
    "start_time": "2023-07-05T09:55:40.098Z"
   },
   {
    "duration": 4,
    "start_time": "2023-07-05T09:55:40.146Z"
   },
   {
    "duration": 14,
    "start_time": "2023-07-05T09:55:40.152Z"
   },
   {
    "duration": 19,
    "start_time": "2023-07-05T09:55:40.168Z"
   },
   {
    "duration": 22,
    "start_time": "2023-07-05T09:55:40.189Z"
   },
   {
    "duration": 27,
    "start_time": "2023-07-05T09:55:40.213Z"
   },
   {
    "duration": 17,
    "start_time": "2023-07-05T09:55:40.242Z"
   },
   {
    "duration": 36,
    "start_time": "2023-07-05T09:55:40.261Z"
   },
   {
    "duration": 80,
    "start_time": "2023-07-05T09:55:40.299Z"
   },
   {
    "duration": 6,
    "start_time": "2023-07-05T09:55:40.381Z"
   },
   {
    "duration": 38,
    "start_time": "2023-07-05T09:55:40.389Z"
   },
   {
    "duration": 5,
    "start_time": "2023-07-05T09:55:40.429Z"
   },
   {
    "duration": 23,
    "start_time": "2023-07-05T09:55:40.436Z"
   },
   {
    "duration": 35,
    "start_time": "2023-07-05T09:55:40.461Z"
   },
   {
    "duration": 3,
    "start_time": "2023-07-05T09:55:40.497Z"
   },
   {
    "duration": 10,
    "start_time": "2023-07-05T09:55:40.501Z"
   },
   {
    "duration": 33,
    "start_time": "2023-07-05T10:01:21.733Z"
   },
   {
    "duration": 143,
    "start_time": "2023-07-05T10:08:19.732Z"
   },
   {
    "duration": 3,
    "start_time": "2023-07-05T10:16:50.796Z"
   },
   {
    "duration": 23,
    "start_time": "2023-07-05T10:26:32.616Z"
   },
   {
    "duration": 1936,
    "start_time": "2023-07-05T11:11:10.676Z"
   },
   {
    "duration": 1808,
    "start_time": "2023-07-05T11:11:25.415Z"
   },
   {
    "duration": 603,
    "start_time": "2023-07-05T11:12:05.343Z"
   },
   {
    "duration": 649,
    "start_time": "2023-07-05T11:13:02.479Z"
   },
   {
    "duration": 78,
    "start_time": "2023-07-05T11:48:10.741Z"
   },
   {
    "duration": 89,
    "start_time": "2023-07-05T11:49:05.855Z"
   },
   {
    "duration": 164,
    "start_time": "2023-07-05T11:49:36.196Z"
   },
   {
    "duration": 4,
    "start_time": "2023-07-05T11:52:02.143Z"
   },
   {
    "duration": 142,
    "start_time": "2023-07-05T11:57:51.734Z"
   },
   {
    "duration": 132,
    "start_time": "2023-07-05T11:59:52.053Z"
   },
   {
    "duration": 2972,
    "start_time": "2023-07-05T12:05:57.672Z"
   },
   {
    "duration": 2912,
    "start_time": "2023-07-05T12:06:26.743Z"
   },
   {
    "duration": 3,
    "start_time": "2023-07-05T12:07:10.217Z"
   },
   {
    "duration": 124,
    "start_time": "2023-07-05T12:07:54.296Z"
   },
   {
    "duration": 3132,
    "start_time": "2023-07-05T12:08:46.325Z"
   },
   {
    "duration": 10,
    "start_time": "2023-07-05T12:08:56.736Z"
   },
   {
    "duration": 134,
    "start_time": "2023-07-05T12:09:06.403Z"
   },
   {
    "duration": 1362,
    "start_time": "2023-07-05T12:09:49.022Z"
   },
   {
    "duration": 116,
    "start_time": "2023-07-05T12:12:28.895Z"
   },
   {
    "duration": 8,
    "start_time": "2023-07-05T12:12:41.083Z"
   },
   {
    "duration": 7,
    "start_time": "2023-07-05T12:13:49.396Z"
   },
   {
    "duration": 7,
    "start_time": "2023-07-05T12:14:21.930Z"
   },
   {
    "duration": 121,
    "start_time": "2023-07-05T12:16:02.985Z"
   },
   {
    "duration": 143,
    "start_time": "2023-07-05T12:16:21.283Z"
   },
   {
    "duration": 510,
    "start_time": "2023-07-05T12:17:03.242Z"
   },
   {
    "duration": 454,
    "start_time": "2023-07-05T12:17:20.646Z"
   },
   {
    "duration": 548,
    "start_time": "2023-07-05T12:17:27.315Z"
   },
   {
    "duration": 680,
    "start_time": "2023-07-05T12:23:23.093Z"
   },
   {
    "duration": 11,
    "start_time": "2023-07-05T12:23:34.598Z"
   },
   {
    "duration": 3,
    "start_time": "2023-07-05T12:25:31.004Z"
   },
   {
    "duration": 615376,
    "start_time": "2023-07-05T12:26:51.387Z"
   },
   {
    "duration": 2423,
    "start_time": "2023-07-05T13:34:14.720Z"
   },
   {
    "duration": 2498,
    "start_time": "2023-07-05T13:34:17.145Z"
   },
   {
    "duration": 2129,
    "start_time": "2023-07-05T13:34:19.646Z"
   },
   {
    "duration": 1359,
    "start_time": "2023-07-05T13:34:21.777Z"
   },
   {
    "duration": 111,
    "start_time": "2023-07-05T13:34:23.139Z"
   },
   {
    "duration": 13,
    "start_time": "2023-07-05T13:34:23.252Z"
   },
   {
    "duration": 16,
    "start_time": "2023-07-05T13:34:23.267Z"
   },
   {
    "duration": 27,
    "start_time": "2023-07-05T13:34:23.284Z"
   },
   {
    "duration": 22,
    "start_time": "2023-07-05T13:34:23.313Z"
   },
   {
    "duration": 20,
    "start_time": "2023-07-05T13:34:23.337Z"
   },
   {
    "duration": 25,
    "start_time": "2023-07-05T13:34:23.359Z"
   },
   {
    "duration": 285,
    "start_time": "2023-07-05T13:34:23.386Z"
   },
   {
    "duration": 172,
    "start_time": "2023-07-05T13:34:23.673Z"
   },
   {
    "duration": 239,
    "start_time": "2023-07-05T13:34:23.848Z"
   },
   {
    "duration": 143,
    "start_time": "2023-07-05T13:34:24.089Z"
   },
   {
    "duration": 8,
    "start_time": "2023-07-05T13:34:24.234Z"
   },
   {
    "duration": 277,
    "start_time": "2023-07-05T13:34:24.244Z"
   },
   {
    "duration": 13,
    "start_time": "2023-07-05T13:34:24.527Z"
   },
   {
    "duration": 34,
    "start_time": "2023-07-05T13:34:24.542Z"
   },
   {
    "duration": 43,
    "start_time": "2023-07-05T13:34:24.578Z"
   },
   {
    "duration": 21,
    "start_time": "2023-07-05T13:34:24.623Z"
   },
   {
    "duration": 120,
    "start_time": "2023-07-05T13:34:24.646Z"
   },
   {
    "duration": 7,
    "start_time": "2023-07-05T13:34:24.768Z"
   },
   {
    "duration": 23,
    "start_time": "2023-07-05T13:34:24.776Z"
   },
   {
    "duration": 27,
    "start_time": "2023-07-05T13:34:24.801Z"
   },
   {
    "duration": 20,
    "start_time": "2023-07-05T13:34:24.829Z"
   },
   {
    "duration": 43,
    "start_time": "2023-07-05T13:34:24.851Z"
   },
   {
    "duration": 12,
    "start_time": "2023-07-05T13:34:24.896Z"
   },
   {
    "duration": 25,
    "start_time": "2023-07-05T13:34:24.909Z"
   },
   {
    "duration": 1043,
    "start_time": "2023-07-05T13:34:24.936Z"
   },
   {
    "duration": 7,
    "start_time": "2023-07-05T13:34:25.981Z"
   },
   {
    "duration": 38,
    "start_time": "2023-07-05T13:34:25.989Z"
   },
   {
    "duration": 12,
    "start_time": "2023-07-05T13:34:26.029Z"
   },
   {
    "duration": 23,
    "start_time": "2023-07-05T13:34:26.043Z"
   },
   {
    "duration": 21,
    "start_time": "2023-07-05T13:34:26.068Z"
   },
   {
    "duration": 31,
    "start_time": "2023-07-05T13:34:26.091Z"
   },
   {
    "duration": 22,
    "start_time": "2023-07-05T13:34:26.126Z"
   },
   {
    "duration": 31,
    "start_time": "2023-07-05T13:34:26.150Z"
   },
   {
    "duration": 37,
    "start_time": "2023-07-05T13:34:26.182Z"
   },
   {
    "duration": 10,
    "start_time": "2023-07-05T13:34:26.221Z"
   },
   {
    "duration": 9,
    "start_time": "2023-07-05T13:34:26.239Z"
   },
   {
    "duration": 136,
    "start_time": "2023-07-05T13:34:26.250Z"
   },
   {
    "duration": 5,
    "start_time": "2023-07-05T13:34:26.388Z"
   },
   {
    "duration": 34,
    "start_time": "2023-07-05T13:34:26.394Z"
   },
   {
    "duration": 19,
    "start_time": "2023-07-05T13:34:26.430Z"
   },
   {
    "duration": 40,
    "start_time": "2023-07-05T13:34:26.450Z"
   },
   {
    "duration": 32,
    "start_time": "2023-07-05T13:34:26.492Z"
   },
   {
    "duration": 26,
    "start_time": "2023-07-05T13:34:26.525Z"
   },
   {
    "duration": 22,
    "start_time": "2023-07-05T13:34:26.553Z"
   },
   {
    "duration": 24,
    "start_time": "2023-07-05T13:34:26.577Z"
   },
   {
    "duration": 9,
    "start_time": "2023-07-05T13:34:26.603Z"
   },
   {
    "duration": 17,
    "start_time": "2023-07-05T13:34:26.618Z"
   },
   {
    "duration": 16,
    "start_time": "2023-07-05T13:34:26.636Z"
   },
   {
    "duration": 14,
    "start_time": "2023-07-05T13:34:26.654Z"
   },
   {
    "duration": 37,
    "start_time": "2023-07-05T13:34:26.670Z"
   },
   {
    "duration": 11,
    "start_time": "2023-07-05T13:34:26.710Z"
   },
   {
    "duration": 22,
    "start_time": "2023-07-05T13:34:26.731Z"
   },
   {
    "duration": 15,
    "start_time": "2023-07-05T13:34:26.754Z"
   },
   {
    "duration": 32,
    "start_time": "2023-07-05T13:34:26.771Z"
   },
   {
    "duration": 35,
    "start_time": "2023-07-05T13:34:26.805Z"
   },
   {
    "duration": 2589,
    "start_time": "2023-07-05T13:34:26.841Z"
   },
   {
    "duration": 3013,
    "start_time": "2023-07-05T13:34:29.432Z"
   },
   {
    "duration": 2307,
    "start_time": "2023-07-05T13:34:32.447Z"
   },
   {
    "duration": 150,
    "start_time": "2023-07-05T13:34:34.756Z"
   },
   {
    "duration": 18,
    "start_time": "2023-07-05T13:34:34.908Z"
   },
   {
    "duration": 30,
    "start_time": "2023-07-05T13:34:34.931Z"
   },
   {
    "duration": 7264,
    "start_time": "2023-07-05T13:34:34.963Z"
   },
   {
    "duration": 518,
    "start_time": "2023-07-05T13:34:42.229Z"
   },
   {
    "duration": 6,
    "start_time": "2023-07-05T13:34:42.749Z"
   },
   {
    "duration": 15,
    "start_time": "2023-07-05T13:34:42.758Z"
   },
   {
    "duration": 7,
    "start_time": "2023-07-05T13:34:42.775Z"
   },
   {
    "duration": 6,
    "start_time": "2023-07-05T13:34:42.784Z"
   },
   {
    "duration": 29,
    "start_time": "2023-07-05T13:34:42.792Z"
   },
   {
    "duration": 21,
    "start_time": "2023-07-05T13:34:42.824Z"
   },
   {
    "duration": 50,
    "start_time": "2023-07-05T13:34:42.847Z"
   },
   {
    "duration": 5,
    "start_time": "2023-07-05T13:34:42.899Z"
   },
   {
    "duration": 20,
    "start_time": "2023-07-05T13:34:42.905Z"
   },
   {
    "duration": 11,
    "start_time": "2023-07-05T13:34:42.927Z"
   },
   {
    "duration": 9,
    "start_time": "2023-07-05T13:34:42.940Z"
   },
   {
    "duration": 11,
    "start_time": "2023-07-05T13:34:42.951Z"
   },
   {
    "duration": 5,
    "start_time": "2023-07-05T13:34:42.964Z"
   },
   {
    "duration": 17,
    "start_time": "2023-07-05T13:34:42.970Z"
   },
   {
    "duration": 76,
    "start_time": "2023-07-05T13:34:42.989Z"
   },
   {
    "duration": 6,
    "start_time": "2023-07-05T13:34:43.067Z"
   },
   {
    "duration": 58,
    "start_time": "2023-07-05T13:34:43.076Z"
   },
   {
    "duration": 6,
    "start_time": "2023-07-05T13:34:43.136Z"
   },
   {
    "duration": 50,
    "start_time": "2023-07-05T13:34:43.145Z"
   },
   {
    "duration": 7,
    "start_time": "2023-07-05T13:34:43.197Z"
   },
   {
    "duration": 43,
    "start_time": "2023-07-05T13:34:43.206Z"
   },
   {
    "duration": 5,
    "start_time": "2023-07-05T13:34:43.251Z"
   },
   {
    "duration": 15,
    "start_time": "2023-07-05T13:34:43.257Z"
   },
   {
    "duration": 13,
    "start_time": "2023-07-05T13:34:43.274Z"
   },
   {
    "duration": 546,
    "start_time": "2023-07-05T13:34:43.289Z"
   },
   {
    "duration": 613,
    "start_time": "2023-07-05T13:34:50.796Z"
   },
   {
    "duration": 39,
    "start_time": "2023-07-05T13:34:58.375Z"
   },
   {
    "duration": 25639,
    "start_time": "2023-07-05T13:35:14.536Z"
   },
   {
    "duration": 123,
    "start_time": "2023-07-05T13:36:12.749Z"
   },
   {
    "duration": 4,
    "start_time": "2023-07-05T13:37:24.960Z"
   },
   {
    "duration": 4,
    "start_time": "2023-07-05T13:41:14.097Z"
   },
   {
    "duration": 10,
    "start_time": "2023-07-05T13:41:32.961Z"
   },
   {
    "duration": 4,
    "start_time": "2023-07-05T13:41:45.387Z"
   },
   {
    "duration": 39,
    "start_time": "2023-07-05T14:10:58.524Z"
   },
   {
    "duration": 34,
    "start_time": "2023-07-05T14:11:11.782Z"
   },
   {
    "duration": 5,
    "start_time": "2023-07-05T14:14:51.228Z"
   },
   {
    "duration": 55,
    "start_time": "2023-07-05T14:15:05.752Z"
   },
   {
    "duration": 1899,
    "start_time": "2023-07-05T14:15:24.909Z"
   },
   {
    "duration": 5,
    "start_time": "2023-07-05T14:16:34.462Z"
   },
   {
    "duration": 6,
    "start_time": "2023-07-05T14:17:16.944Z"
   },
   {
    "duration": 2976,
    "start_time": "2023-07-05T14:17:31.148Z"
   },
   {
    "duration": 2468,
    "start_time": "2023-07-05T14:17:34.127Z"
   },
   {
    "duration": 2010,
    "start_time": "2023-07-05T14:17:36.597Z"
   },
   {
    "duration": 1453,
    "start_time": "2023-07-05T14:17:38.609Z"
   },
   {
    "duration": 105,
    "start_time": "2023-07-05T14:17:40.064Z"
   },
   {
    "duration": 16,
    "start_time": "2023-07-05T14:17:40.171Z"
   },
   {
    "duration": 13,
    "start_time": "2023-07-05T14:17:40.188Z"
   },
   {
    "duration": 9,
    "start_time": "2023-07-05T14:17:40.203Z"
   },
   {
    "duration": 4,
    "start_time": "2023-07-05T14:17:40.213Z"
   },
   {
    "duration": 8,
    "start_time": "2023-07-05T14:17:40.220Z"
   },
   {
    "duration": 16,
    "start_time": "2023-07-05T14:17:40.230Z"
   },
   {
    "duration": 254,
    "start_time": "2023-07-05T14:17:40.248Z"
   },
   {
    "duration": 148,
    "start_time": "2023-07-05T14:17:40.504Z"
   },
   {
    "duration": 217,
    "start_time": "2023-07-05T14:17:40.654Z"
   },
   {
    "duration": 130,
    "start_time": "2023-07-05T14:17:40.873Z"
   },
   {
    "duration": 11,
    "start_time": "2023-07-05T14:17:41.005Z"
   },
   {
    "duration": 284,
    "start_time": "2023-07-05T14:17:41.018Z"
   },
   {
    "duration": 11,
    "start_time": "2023-07-05T14:17:41.303Z"
   },
   {
    "duration": 26,
    "start_time": "2023-07-05T14:17:41.316Z"
   },
   {
    "duration": 26,
    "start_time": "2023-07-05T14:17:41.343Z"
   },
   {
    "duration": 7,
    "start_time": "2023-07-05T14:17:41.371Z"
   },
   {
    "duration": 127,
    "start_time": "2023-07-05T14:17:41.380Z"
   },
   {
    "duration": 10,
    "start_time": "2023-07-05T14:17:41.509Z"
   },
   {
    "duration": 7,
    "start_time": "2023-07-05T14:17:41.520Z"
   },
   {
    "duration": 9,
    "start_time": "2023-07-05T14:17:41.529Z"
   },
   {
    "duration": 12,
    "start_time": "2023-07-05T14:17:41.539Z"
   },
   {
    "duration": 20,
    "start_time": "2023-07-05T14:17:41.553Z"
   },
   {
    "duration": 10,
    "start_time": "2023-07-05T14:17:41.577Z"
   },
   {
    "duration": 29,
    "start_time": "2023-07-05T14:17:41.589Z"
   },
   {
    "duration": 972,
    "start_time": "2023-07-05T14:17:41.620Z"
   },
   {
    "duration": 7,
    "start_time": "2023-07-05T14:17:42.593Z"
   },
   {
    "duration": 16,
    "start_time": "2023-07-05T14:17:42.602Z"
   },
   {
    "duration": 10,
    "start_time": "2023-07-05T14:17:42.620Z"
   },
   {
    "duration": 17,
    "start_time": "2023-07-05T14:17:42.632Z"
   },
   {
    "duration": 22,
    "start_time": "2023-07-05T14:17:42.651Z"
   },
   {
    "duration": 21,
    "start_time": "2023-07-05T14:17:42.675Z"
   },
   {
    "duration": 13,
    "start_time": "2023-07-05T14:17:42.698Z"
   },
   {
    "duration": 13,
    "start_time": "2023-07-05T14:17:42.712Z"
   },
   {
    "duration": 14,
    "start_time": "2023-07-05T14:17:42.727Z"
   },
   {
    "duration": 14,
    "start_time": "2023-07-05T14:17:42.743Z"
   },
   {
    "duration": 7,
    "start_time": "2023-07-05T14:17:42.759Z"
   },
   {
    "duration": 136,
    "start_time": "2023-07-05T14:17:42.768Z"
   },
   {
    "duration": 9,
    "start_time": "2023-07-05T14:17:42.906Z"
   },
   {
    "duration": 23,
    "start_time": "2023-07-05T14:17:42.917Z"
   },
   {
    "duration": 25,
    "start_time": "2023-07-05T14:17:42.942Z"
   },
   {
    "duration": 48,
    "start_time": "2023-07-05T14:17:42.969Z"
   },
   {
    "duration": 14,
    "start_time": "2023-07-05T14:17:43.019Z"
   },
   {
    "duration": 11,
    "start_time": "2023-07-05T14:17:43.035Z"
   },
   {
    "duration": 25,
    "start_time": "2023-07-05T14:17:43.048Z"
   },
   {
    "duration": 12,
    "start_time": "2023-07-05T14:17:43.075Z"
   },
   {
    "duration": 3,
    "start_time": "2023-07-05T14:17:43.089Z"
   },
   {
    "duration": 15,
    "start_time": "2023-07-05T14:17:43.093Z"
   },
   {
    "duration": 23,
    "start_time": "2023-07-05T14:17:43.110Z"
   },
   {
    "duration": 15,
    "start_time": "2023-07-05T14:17:43.135Z"
   },
   {
    "duration": 17,
    "start_time": "2023-07-05T14:17:43.153Z"
   },
   {
    "duration": 4,
    "start_time": "2023-07-05T14:17:43.172Z"
   },
   {
    "duration": 35,
    "start_time": "2023-07-05T14:17:43.178Z"
   },
   {
    "duration": 14,
    "start_time": "2023-07-05T14:17:43.216Z"
   },
   {
    "duration": 20,
    "start_time": "2023-07-05T14:17:43.232Z"
   },
   {
    "duration": 40,
    "start_time": "2023-07-05T14:17:43.254Z"
   },
   {
    "duration": 2498,
    "start_time": "2023-07-05T14:17:43.296Z"
   },
   {
    "duration": 2932,
    "start_time": "2023-07-05T14:17:45.795Z"
   },
   {
    "duration": 2353,
    "start_time": "2023-07-05T14:17:48.729Z"
   },
   {
    "duration": 161,
    "start_time": "2023-07-05T14:17:51.084Z"
   },
   {
    "duration": 5,
    "start_time": "2023-07-05T14:17:51.247Z"
   },
   {
    "duration": 35,
    "start_time": "2023-07-05T14:17:51.254Z"
   },
   {
    "duration": 6884,
    "start_time": "2023-07-05T14:17:51.290Z"
   },
   {
    "duration": 486,
    "start_time": "2023-07-05T14:17:58.176Z"
   },
   {
    "duration": 5,
    "start_time": "2023-07-05T14:17:58.664Z"
   },
   {
    "duration": 21,
    "start_time": "2023-07-05T14:17:58.671Z"
   },
   {
    "duration": 13,
    "start_time": "2023-07-05T14:17:58.694Z"
   },
   {
    "duration": 11,
    "start_time": "2023-07-05T14:17:58.709Z"
   },
   {
    "duration": 27,
    "start_time": "2023-07-05T14:17:58.721Z"
   },
   {
    "duration": 16,
    "start_time": "2023-07-05T14:17:58.749Z"
   },
   {
    "duration": 54,
    "start_time": "2023-07-05T14:17:58.767Z"
   },
   {
    "duration": 5,
    "start_time": "2023-07-05T14:17:58.823Z"
   },
   {
    "duration": 10,
    "start_time": "2023-07-05T14:17:58.829Z"
   },
   {
    "duration": 10,
    "start_time": "2023-07-05T14:17:58.841Z"
   },
   {
    "duration": 13,
    "start_time": "2023-07-05T14:17:58.852Z"
   },
   {
    "duration": 34,
    "start_time": "2023-07-05T14:17:58.867Z"
   },
   {
    "duration": 8,
    "start_time": "2023-07-05T14:17:58.903Z"
   },
   {
    "duration": 29,
    "start_time": "2023-07-05T14:17:58.917Z"
   },
   {
    "duration": 63,
    "start_time": "2023-07-05T14:17:58.948Z"
   },
   {
    "duration": 8,
    "start_time": "2023-07-05T14:17:59.013Z"
   },
   {
    "duration": 34,
    "start_time": "2023-07-05T14:17:59.022Z"
   },
   {
    "duration": 4,
    "start_time": "2023-07-05T14:17:59.058Z"
   },
   {
    "duration": 34,
    "start_time": "2023-07-05T14:17:59.064Z"
   },
   {
    "duration": 15,
    "start_time": "2023-07-05T14:17:59.100Z"
   },
   {
    "duration": 27,
    "start_time": "2023-07-05T14:17:59.116Z"
   },
   {
    "duration": 30,
    "start_time": "2023-07-05T14:17:59.145Z"
   },
   {
    "duration": 19,
    "start_time": "2023-07-05T14:17:59.177Z"
   },
   {
    "duration": 631,
    "start_time": "2023-07-05T14:17:59.198Z"
   },
   {
    "duration": 813,
    "start_time": "2023-07-05T14:17:59.831Z"
   },
   {
    "duration": 26221,
    "start_time": "2023-07-05T14:18:00.646Z"
   },
   {
    "duration": 134,
    "start_time": "2023-07-05T14:18:26.869Z"
   },
   {
    "duration": 0,
    "start_time": "2023-07-05T14:18:27.005Z"
   },
   {
    "duration": 0,
    "start_time": "2023-07-05T14:18:27.007Z"
   },
   {
    "duration": 0,
    "start_time": "2023-07-05T14:18:27.013Z"
   },
   {
    "duration": 0,
    "start_time": "2023-07-05T14:18:27.014Z"
   },
   {
    "duration": 0,
    "start_time": "2023-07-05T14:18:27.015Z"
   },
   {
    "duration": 0,
    "start_time": "2023-07-05T14:18:27.016Z"
   },
   {
    "duration": 0,
    "start_time": "2023-07-05T14:18:27.017Z"
   },
   {
    "duration": 0,
    "start_time": "2023-07-05T14:18:27.019Z"
   },
   {
    "duration": 0,
    "start_time": "2023-07-05T14:18:27.019Z"
   },
   {
    "duration": 4,
    "start_time": "2023-07-05T14:18:40.585Z"
   },
   {
    "duration": 4,
    "start_time": "2023-07-05T14:18:46.404Z"
   },
   {
    "duration": 4,
    "start_time": "2023-07-05T14:19:04.003Z"
   },
   {
    "duration": 6,
    "start_time": "2023-07-05T14:19:12.244Z"
   },
   {
    "duration": 839,
    "start_time": "2023-07-05T14:19:17.644Z"
   },
   {
    "duration": 20,
    "start_time": "2023-07-05T14:20:27.545Z"
   },
   {
    "duration": 3,
    "start_time": "2023-07-05T14:20:30.003Z"
   },
   {
    "duration": 515,
    "start_time": "2023-07-05T14:20:47.216Z"
   },
   {
    "duration": 9,
    "start_time": "2023-07-05T14:21:06.242Z"
   },
   {
    "duration": 20,
    "start_time": "2023-07-05T14:30:20.384Z"
   },
   {
    "duration": 3,
    "start_time": "2023-07-05T14:30:25.435Z"
   },
   {
    "duration": 20,
    "start_time": "2023-07-05T14:30:47.316Z"
   },
   {
    "duration": 3,
    "start_time": "2023-07-05T14:30:48.623Z"
   },
   {
    "duration": 19,
    "start_time": "2023-07-05T14:33:37.735Z"
   },
   {
    "duration": 13,
    "start_time": "2023-07-05T14:34:58.709Z"
   },
   {
    "duration": 12,
    "start_time": "2023-07-05T14:35:43.877Z"
   },
   {
    "duration": 10,
    "start_time": "2023-07-05T14:35:59.502Z"
   },
   {
    "duration": 11,
    "start_time": "2023-07-05T14:37:21.071Z"
   },
   {
    "duration": 4,
    "start_time": "2023-07-05T14:37:40.571Z"
   },
   {
    "duration": 11,
    "start_time": "2023-07-05T14:38:13.396Z"
   },
   {
    "duration": 21,
    "start_time": "2023-07-05T14:38:45.870Z"
   },
   {
    "duration": 79,
    "start_time": "2023-07-05T14:38:48.471Z"
   },
   {
    "duration": 13,
    "start_time": "2023-07-05T14:39:53.628Z"
   },
   {
    "duration": 60,
    "start_time": "2023-07-05T14:40:37.436Z"
   },
   {
    "duration": 84,
    "start_time": "2023-07-05T14:40:48.810Z"
   },
   {
    "duration": 80,
    "start_time": "2023-07-05T14:41:08.549Z"
   },
   {
    "duration": 82,
    "start_time": "2023-07-05T14:41:41.493Z"
   },
   {
    "duration": 64,
    "start_time": "2023-07-05T14:41:51.563Z"
   },
   {
    "duration": 60,
    "start_time": "2023-07-05T14:42:02.620Z"
   },
   {
    "duration": 11873,
    "start_time": "2023-07-05T14:42:34.231Z"
   },
   {
    "duration": 2790,
    "start_time": "2023-07-05T14:43:12.072Z"
   },
   {
    "duration": 4203,
    "start_time": "2023-07-05T14:43:14.865Z"
   },
   {
    "duration": 2812,
    "start_time": "2023-07-05T14:43:19.070Z"
   },
   {
    "duration": 2228,
    "start_time": "2023-07-05T14:43:21.884Z"
   },
   {
    "duration": 1818,
    "start_time": "2023-07-05T14:43:24.115Z"
   },
   {
    "duration": 128,
    "start_time": "2023-07-05T14:43:25.935Z"
   },
   {
    "duration": 15,
    "start_time": "2023-07-05T14:43:26.064Z"
   },
   {
    "duration": 16,
    "start_time": "2023-07-05T14:43:26.081Z"
   },
   {
    "duration": 7,
    "start_time": "2023-07-05T14:43:26.099Z"
   },
   {
    "duration": 20,
    "start_time": "2023-07-05T14:43:26.109Z"
   },
   {
    "duration": 7,
    "start_time": "2023-07-05T14:43:26.131Z"
   },
   {
    "duration": 8,
    "start_time": "2023-07-05T14:43:26.140Z"
   },
   {
    "duration": 335,
    "start_time": "2023-07-05T14:43:26.149Z"
   },
   {
    "duration": 156,
    "start_time": "2023-07-05T14:43:26.485Z"
   },
   {
    "duration": 137,
    "start_time": "2023-07-05T14:43:26.643Z"
   },
   {
    "duration": 148,
    "start_time": "2023-07-05T14:43:26.782Z"
   },
   {
    "duration": 13,
    "start_time": "2023-07-05T14:43:26.932Z"
   },
   {
    "duration": 300,
    "start_time": "2023-07-05T14:43:26.947Z"
   },
   {
    "duration": 8,
    "start_time": "2023-07-05T14:43:27.249Z"
   },
   {
    "duration": 12,
    "start_time": "2023-07-05T14:43:27.259Z"
   },
   {
    "duration": 24,
    "start_time": "2023-07-05T14:43:27.273Z"
   },
   {
    "duration": 10,
    "start_time": "2023-07-05T14:43:27.299Z"
   },
   {
    "duration": 134,
    "start_time": "2023-07-05T14:43:27.311Z"
   },
   {
    "duration": 7,
    "start_time": "2023-07-05T14:43:27.447Z"
   },
   {
    "duration": 8,
    "start_time": "2023-07-05T14:43:27.456Z"
   },
   {
    "duration": 14,
    "start_time": "2023-07-05T14:43:27.465Z"
   },
   {
    "duration": 12,
    "start_time": "2023-07-05T14:43:27.480Z"
   },
   {
    "duration": 34,
    "start_time": "2023-07-05T14:43:27.496Z"
   },
   {
    "duration": 9,
    "start_time": "2023-07-05T14:43:27.537Z"
   },
   {
    "duration": 8,
    "start_time": "2023-07-05T14:43:27.548Z"
   },
   {
    "duration": 1025,
    "start_time": "2023-07-05T14:43:27.558Z"
   },
   {
    "duration": 7,
    "start_time": "2023-07-05T14:43:28.584Z"
   },
   {
    "duration": 8,
    "start_time": "2023-07-05T14:43:28.593Z"
   },
   {
    "duration": 8,
    "start_time": "2023-07-05T14:43:28.614Z"
   },
   {
    "duration": 9,
    "start_time": "2023-07-05T14:43:28.630Z"
   },
   {
    "duration": 11,
    "start_time": "2023-07-05T14:43:28.641Z"
   },
   {
    "duration": 7,
    "start_time": "2023-07-05T14:43:28.654Z"
   },
   {
    "duration": 7,
    "start_time": "2023-07-05T14:43:28.662Z"
   },
   {
    "duration": 9,
    "start_time": "2023-07-05T14:43:28.671Z"
   },
   {
    "duration": 129,
    "start_time": "2023-07-05T14:43:28.681Z"
   },
   {
    "duration": 20,
    "start_time": "2023-07-05T14:43:28.813Z"
   },
   {
    "duration": 5,
    "start_time": "2023-07-05T14:43:28.842Z"
   },
   {
    "duration": 125,
    "start_time": "2023-07-05T14:43:28.848Z"
   },
   {
    "duration": 4,
    "start_time": "2023-07-05T14:43:28.975Z"
   },
   {
    "duration": 13,
    "start_time": "2023-07-05T14:43:28.980Z"
   },
   {
    "duration": 14,
    "start_time": "2023-07-05T14:43:28.994Z"
   },
   {
    "duration": 22,
    "start_time": "2023-07-05T14:43:29.009Z"
   },
   {
    "duration": 7,
    "start_time": "2023-07-05T14:43:29.035Z"
   },
   {
    "duration": 8,
    "start_time": "2023-07-05T14:43:29.044Z"
   },
   {
    "duration": 9,
    "start_time": "2023-07-05T14:43:29.053Z"
   },
   {
    "duration": 13,
    "start_time": "2023-07-05T14:43:29.063Z"
   },
   {
    "duration": 2,
    "start_time": "2023-07-05T14:43:29.078Z"
   },
   {
    "duration": 7,
    "start_time": "2023-07-05T14:43:29.082Z"
   },
   {
    "duration": 23,
    "start_time": "2023-07-05T14:43:29.091Z"
   },
   {
    "duration": 30,
    "start_time": "2023-07-05T14:43:29.120Z"
   },
   {
    "duration": 18,
    "start_time": "2023-07-05T14:43:29.151Z"
   },
   {
    "duration": 3,
    "start_time": "2023-07-05T14:43:29.171Z"
   },
   {
    "duration": 28,
    "start_time": "2023-07-05T14:43:29.175Z"
   },
   {
    "duration": 17,
    "start_time": "2023-07-05T14:43:29.205Z"
   },
   {
    "duration": 23,
    "start_time": "2023-07-05T14:43:29.228Z"
   },
   {
    "duration": 27,
    "start_time": "2023-07-05T14:43:29.252Z"
   },
   {
    "duration": 2507,
    "start_time": "2023-07-05T14:43:29.280Z"
   },
   {
    "duration": 3056,
    "start_time": "2023-07-05T14:43:31.788Z"
   },
   {
    "duration": 2422,
    "start_time": "2023-07-05T14:43:34.846Z"
   },
   {
    "duration": 164,
    "start_time": "2023-07-05T14:43:37.269Z"
   },
   {
    "duration": 7,
    "start_time": "2023-07-05T14:43:37.434Z"
   },
   {
    "duration": 13,
    "start_time": "2023-07-05T14:43:37.443Z"
   },
   {
    "duration": 7406,
    "start_time": "2023-07-05T14:43:37.458Z"
   },
   {
    "duration": 518,
    "start_time": "2023-07-05T14:43:44.865Z"
   },
   {
    "duration": 5,
    "start_time": "2023-07-05T14:43:45.385Z"
   },
   {
    "duration": 30,
    "start_time": "2023-07-05T14:43:45.392Z"
   },
   {
    "duration": 15,
    "start_time": "2023-07-05T14:43:45.424Z"
   },
   {
    "duration": 22,
    "start_time": "2023-07-05T14:43:45.443Z"
   },
   {
    "duration": 25,
    "start_time": "2023-07-05T14:43:45.467Z"
   },
   {
    "duration": 15,
    "start_time": "2023-07-05T14:43:45.495Z"
   },
   {
    "duration": 59,
    "start_time": "2023-07-05T14:43:45.512Z"
   },
   {
    "duration": 5,
    "start_time": "2023-07-05T14:43:45.572Z"
   },
   {
    "duration": 29,
    "start_time": "2023-07-05T14:43:45.579Z"
   },
   {
    "duration": 35,
    "start_time": "2023-07-05T14:43:45.610Z"
   },
   {
    "duration": 22,
    "start_time": "2023-07-05T14:43:45.647Z"
   },
   {
    "duration": 22,
    "start_time": "2023-07-05T14:43:45.671Z"
   },
   {
    "duration": 23,
    "start_time": "2023-07-05T14:43:45.701Z"
   },
   {
    "duration": 18,
    "start_time": "2023-07-05T14:43:45.726Z"
   },
   {
    "duration": 79,
    "start_time": "2023-07-05T14:43:45.745Z"
   },
   {
    "duration": 13,
    "start_time": "2023-07-05T14:43:45.831Z"
   },
   {
    "duration": 36,
    "start_time": "2023-07-05T14:43:45.847Z"
   },
   {
    "duration": 5,
    "start_time": "2023-07-05T14:43:45.885Z"
   },
   {
    "duration": 63,
    "start_time": "2023-07-05T14:43:45.891Z"
   },
   {
    "duration": 3,
    "start_time": "2023-07-05T14:43:45.955Z"
   },
   {
    "duration": 30,
    "start_time": "2023-07-05T14:43:45.959Z"
   },
   {
    "duration": 9,
    "start_time": "2023-07-05T14:43:45.991Z"
   },
   {
    "duration": 38,
    "start_time": "2023-07-05T14:43:46.002Z"
   },
   {
    "duration": 603,
    "start_time": "2023-07-05T14:43:46.042Z"
   },
   {
    "duration": 820,
    "start_time": "2023-07-05T14:43:46.647Z"
   },
   {
    "duration": 27980,
    "start_time": "2023-07-05T14:43:47.469Z"
   },
   {
    "duration": 4,
    "start_time": "2023-07-05T14:44:15.450Z"
   },
   {
    "duration": 25,
    "start_time": "2023-07-05T14:44:15.455Z"
   },
   {
    "duration": 20,
    "start_time": "2023-07-05T14:44:15.482Z"
   },
   {
    "duration": 36,
    "start_time": "2023-07-05T14:44:15.503Z"
   },
   {
    "duration": 43,
    "start_time": "2023-07-05T14:44:15.541Z"
   },
   {
    "duration": 90,
    "start_time": "2023-07-05T14:44:15.586Z"
   },
   {
    "duration": 0,
    "start_time": "2023-07-05T14:44:15.677Z"
   },
   {
    "duration": 0,
    "start_time": "2023-07-05T14:44:15.679Z"
   },
   {
    "duration": 0,
    "start_time": "2023-07-05T14:44:15.680Z"
   },
   {
    "duration": 0,
    "start_time": "2023-07-05T14:44:15.681Z"
   },
   {
    "duration": 0,
    "start_time": "2023-07-05T14:44:15.682Z"
   },
   {
    "duration": 0,
    "start_time": "2023-07-05T14:44:15.683Z"
   },
   {
    "duration": 0,
    "start_time": "2023-07-05T14:44:15.685Z"
   },
   {
    "duration": 7,
    "start_time": "2023-07-05T14:51:06.202Z"
   },
   {
    "duration": 141,
    "start_time": "2023-07-05T14:56:07.843Z"
   },
   {
    "duration": 12,
    "start_time": "2023-07-05T14:56:24.960Z"
   },
   {
    "duration": 4,
    "start_time": "2023-07-05T14:58:34.071Z"
   },
   {
    "duration": 4,
    "start_time": "2023-07-05T14:58:46.221Z"
   },
   {
    "duration": 22,
    "start_time": "2023-07-05T16:13:40.190Z"
   },
   {
    "duration": 23,
    "start_time": "2023-07-05T16:14:23.295Z"
   },
   {
    "duration": 953,
    "start_time": "2023-07-05T16:14:24.967Z"
   },
   {
    "duration": 24,
    "start_time": "2023-07-05T16:16:03.988Z"
   },
   {
    "duration": 15,
    "start_time": "2023-07-05T16:16:26.764Z"
   },
   {
    "duration": 2687,
    "start_time": "2023-07-05T16:39:18.663Z"
   },
   {
    "duration": 2350,
    "start_time": "2023-07-05T16:39:21.352Z"
   },
   {
    "duration": 2526,
    "start_time": "2023-07-05T16:39:23.704Z"
   },
   {
    "duration": 2007,
    "start_time": "2023-07-05T16:39:26.233Z"
   },
   {
    "duration": 1785,
    "start_time": "2023-07-05T16:39:28.242Z"
   },
   {
    "duration": 101,
    "start_time": "2023-07-05T16:39:30.029Z"
   },
   {
    "duration": 17,
    "start_time": "2023-07-05T16:39:30.131Z"
   },
   {
    "duration": 30,
    "start_time": "2023-07-05T16:39:30.150Z"
   },
   {
    "duration": 11,
    "start_time": "2023-07-05T16:39:30.182Z"
   },
   {
    "duration": 25,
    "start_time": "2023-07-05T16:39:30.196Z"
   },
   {
    "duration": 35,
    "start_time": "2023-07-05T16:39:30.223Z"
   },
   {
    "duration": 32,
    "start_time": "2023-07-05T16:39:30.260Z"
   },
   {
    "duration": 342,
    "start_time": "2023-07-05T16:39:30.293Z"
   },
   {
    "duration": 168,
    "start_time": "2023-07-05T16:39:30.637Z"
   },
   {
    "duration": 151,
    "start_time": "2023-07-05T16:39:30.813Z"
   },
   {
    "duration": 153,
    "start_time": "2023-07-05T16:39:30.966Z"
   },
   {
    "duration": 7,
    "start_time": "2023-07-05T16:39:31.122Z"
   },
   {
    "duration": 295,
    "start_time": "2023-07-05T16:39:31.131Z"
   },
   {
    "duration": 9,
    "start_time": "2023-07-05T16:39:31.428Z"
   },
   {
    "duration": 20,
    "start_time": "2023-07-05T16:39:31.439Z"
   },
   {
    "duration": 28,
    "start_time": "2023-07-05T16:39:31.461Z"
   },
   {
    "duration": 20,
    "start_time": "2023-07-05T16:39:31.491Z"
   },
   {
    "duration": 126,
    "start_time": "2023-07-05T16:39:31.513Z"
   },
   {
    "duration": 18,
    "start_time": "2023-07-05T16:39:31.642Z"
   },
   {
    "duration": 35,
    "start_time": "2023-07-05T16:39:31.662Z"
   },
   {
    "duration": 78,
    "start_time": "2023-07-05T16:39:31.698Z"
   },
   {
    "duration": 12,
    "start_time": "2023-07-05T16:39:31.778Z"
   },
   {
    "duration": 14,
    "start_time": "2023-07-05T16:39:31.794Z"
   },
   {
    "duration": 11,
    "start_time": "2023-07-05T16:39:31.810Z"
   },
   {
    "duration": 10,
    "start_time": "2023-07-05T16:39:31.823Z"
   },
   {
    "duration": 1026,
    "start_time": "2023-07-05T16:39:31.835Z"
   },
   {
    "duration": 7,
    "start_time": "2023-07-05T16:39:32.862Z"
   },
   {
    "duration": 16,
    "start_time": "2023-07-05T16:39:32.871Z"
   },
   {
    "duration": 30,
    "start_time": "2023-07-05T16:39:32.889Z"
   },
   {
    "duration": 22,
    "start_time": "2023-07-05T16:39:32.921Z"
   },
   {
    "duration": 31,
    "start_time": "2023-07-05T16:39:32.945Z"
   },
   {
    "duration": 20,
    "start_time": "2023-07-05T16:39:32.978Z"
   },
   {
    "duration": 19,
    "start_time": "2023-07-05T16:39:33.000Z"
   },
   {
    "duration": 18,
    "start_time": "2023-07-05T16:39:33.020Z"
   },
   {
    "duration": 122,
    "start_time": "2023-07-05T16:39:33.039Z"
   },
   {
    "duration": 8,
    "start_time": "2023-07-05T16:39:33.163Z"
   },
   {
    "duration": 7,
    "start_time": "2023-07-05T16:39:33.172Z"
   },
   {
    "duration": 126,
    "start_time": "2023-07-05T16:39:33.181Z"
   },
   {
    "duration": 5,
    "start_time": "2023-07-05T16:39:33.313Z"
   },
   {
    "duration": 27,
    "start_time": "2023-07-05T16:39:33.320Z"
   },
   {
    "duration": 11,
    "start_time": "2023-07-05T16:39:33.348Z"
   },
   {
    "duration": 9,
    "start_time": "2023-07-05T16:39:33.360Z"
   },
   {
    "duration": 5,
    "start_time": "2023-07-05T16:39:33.371Z"
   },
   {
    "duration": 5,
    "start_time": "2023-07-05T16:39:33.378Z"
   },
   {
    "duration": 6,
    "start_time": "2023-07-05T16:39:33.385Z"
   },
   {
    "duration": 29,
    "start_time": "2023-07-05T16:39:33.393Z"
   },
   {
    "duration": 3,
    "start_time": "2023-07-05T16:39:33.424Z"
   },
   {
    "duration": 12,
    "start_time": "2023-07-05T16:39:33.428Z"
   },
   {
    "duration": 10,
    "start_time": "2023-07-05T16:39:33.441Z"
   },
   {
    "duration": 4,
    "start_time": "2023-07-05T16:39:33.452Z"
   },
   {
    "duration": 17,
    "start_time": "2023-07-05T16:39:33.458Z"
   },
   {
    "duration": 3,
    "start_time": "2023-07-05T16:39:33.477Z"
   },
   {
    "duration": 42,
    "start_time": "2023-07-05T16:39:33.482Z"
   },
   {
    "duration": 12,
    "start_time": "2023-07-05T16:39:33.526Z"
   },
   {
    "duration": 18,
    "start_time": "2023-07-05T16:39:33.540Z"
   },
   {
    "duration": 59,
    "start_time": "2023-07-05T16:39:33.560Z"
   },
   {
    "duration": 2344,
    "start_time": "2023-07-05T16:39:33.622Z"
   },
   {
    "duration": 2856,
    "start_time": "2023-07-05T16:39:35.968Z"
   },
   {
    "duration": 2407,
    "start_time": "2023-07-05T16:39:38.826Z"
   },
   {
    "duration": 169,
    "start_time": "2023-07-05T16:39:41.234Z"
   },
   {
    "duration": 10,
    "start_time": "2023-07-05T16:39:41.404Z"
   },
   {
    "duration": 11,
    "start_time": "2023-07-05T16:39:41.416Z"
   },
   {
    "duration": 7049,
    "start_time": "2023-07-05T16:39:41.428Z"
   },
   {
    "duration": 534,
    "start_time": "2023-07-05T16:39:48.479Z"
   },
   {
    "duration": 6,
    "start_time": "2023-07-05T16:39:49.015Z"
   },
   {
    "duration": 11,
    "start_time": "2023-07-05T16:39:49.022Z"
   },
   {
    "duration": 14,
    "start_time": "2023-07-05T16:39:49.034Z"
   },
   {
    "duration": 5,
    "start_time": "2023-07-05T16:39:49.050Z"
   },
   {
    "duration": 8,
    "start_time": "2023-07-05T16:39:49.056Z"
   },
   {
    "duration": 24,
    "start_time": "2023-07-05T16:39:49.066Z"
   },
   {
    "duration": 42,
    "start_time": "2023-07-05T16:39:49.091Z"
   },
   {
    "duration": 5,
    "start_time": "2023-07-05T16:39:49.135Z"
   },
   {
    "duration": 7,
    "start_time": "2023-07-05T16:39:49.142Z"
   },
   {
    "duration": 9,
    "start_time": "2023-07-05T16:39:49.151Z"
   },
   {
    "duration": 7,
    "start_time": "2023-07-05T16:39:49.161Z"
   },
   {
    "duration": 4,
    "start_time": "2023-07-05T16:39:49.170Z"
   },
   {
    "duration": 3,
    "start_time": "2023-07-05T16:39:49.179Z"
   },
   {
    "duration": 16,
    "start_time": "2023-07-05T16:39:49.213Z"
   },
   {
    "duration": 61,
    "start_time": "2023-07-05T16:39:49.231Z"
   },
   {
    "duration": 23,
    "start_time": "2023-07-05T16:39:49.294Z"
   },
   {
    "duration": 32,
    "start_time": "2023-07-05T16:39:49.319Z"
   },
   {
    "duration": 12,
    "start_time": "2023-07-05T16:39:49.353Z"
   },
   {
    "duration": 33,
    "start_time": "2023-07-05T16:39:49.366Z"
   },
   {
    "duration": 20,
    "start_time": "2023-07-05T16:39:49.401Z"
   },
   {
    "duration": 35,
    "start_time": "2023-07-05T16:39:49.423Z"
   },
   {
    "duration": 5,
    "start_time": "2023-07-05T16:39:49.460Z"
   },
   {
    "duration": 18,
    "start_time": "2023-07-05T16:39:49.467Z"
   },
   {
    "duration": 732,
    "start_time": "2023-07-05T16:39:49.487Z"
   },
   {
    "duration": 730,
    "start_time": "2023-07-05T16:39:50.221Z"
   },
   {
    "duration": 16933,
    "start_time": "2023-07-05T16:39:50.952Z"
   },
   {
    "duration": 5,
    "start_time": "2023-07-05T16:40:07.886Z"
   },
   {
    "duration": 9,
    "start_time": "2023-07-05T16:40:07.893Z"
   },
   {
    "duration": 6,
    "start_time": "2023-07-05T16:40:07.913Z"
   },
   {
    "duration": 255,
    "start_time": "2023-07-05T16:54:33.635Z"
   },
   {
    "duration": 58,
    "start_time": "2023-07-05T16:55:20.852Z"
   },
   {
    "duration": 157,
    "start_time": "2023-07-05T16:55:29.234Z"
   },
   {
    "duration": 7,
    "start_time": "2023-07-05T17:07:49.808Z"
   },
   {
    "duration": 103,
    "start_time": "2023-07-05T17:08:03.923Z"
   },
   {
    "duration": 342575,
    "start_time": "2023-07-05T17:08:51.255Z"
   },
   {
    "duration": 12,
    "start_time": "2023-07-05T17:19:05.063Z"
   },
   {
    "duration": 6,
    "start_time": "2023-07-05T17:23:58.197Z"
   },
   {
    "duration": 13,
    "start_time": "2023-07-05T17:24:55.283Z"
   },
   {
    "duration": 4,
    "start_time": "2023-07-05T17:25:40.459Z"
   },
   {
    "duration": 12,
    "start_time": "2023-07-05T17:25:59.437Z"
   },
   {
    "duration": 12,
    "start_time": "2023-07-05T17:26:25.680Z"
   },
   {
    "duration": 18,
    "start_time": "2023-07-05T17:31:26.415Z"
   },
   {
    "duration": 86,
    "start_time": "2023-07-05T17:31:57.427Z"
   },
   {
    "duration": 22,
    "start_time": "2023-07-05T17:33:02.331Z"
   },
   {
    "duration": 8,
    "start_time": "2023-07-05T17:33:19.890Z"
   },
   {
    "duration": 25,
    "start_time": "2023-07-05T17:33:44.206Z"
   },
   {
    "duration": 19,
    "start_time": "2023-07-05T17:34:11.444Z"
   },
   {
    "duration": 39,
    "start_time": "2023-07-05T17:37:23.774Z"
   },
   {
    "duration": 12,
    "start_time": "2023-07-05T17:37:26.815Z"
   },
   {
    "duration": 12,
    "start_time": "2023-07-05T17:39:46.264Z"
   },
   {
    "duration": 153,
    "start_time": "2023-07-05T17:46:35.665Z"
   },
   {
    "duration": 10,
    "start_time": "2023-07-05T17:46:37.913Z"
   },
   {
    "duration": 26,
    "start_time": "2023-07-05T17:47:05.123Z"
   },
   {
    "duration": 50,
    "start_time": "2023-07-05T18:11:42.967Z"
   },
   {
    "duration": 37,
    "start_time": "2023-07-05T18:12:04.673Z"
   },
   {
    "duration": 1337,
    "start_time": "2023-07-05T18:12:18.839Z"
   },
   {
    "duration": 4780,
    "start_time": "2023-07-05T18:13:31.999Z"
   },
   {
    "duration": 4818,
    "start_time": "2023-07-05T18:14:51.013Z"
   },
   {
    "duration": 6,
    "start_time": "2023-07-05T18:17:34.993Z"
   },
   {
    "duration": 58,
    "start_time": "2023-07-05T18:38:58.430Z"
   },
   {
    "duration": 1439187,
    "start_time": "2023-07-05T18:39:38.839Z"
   },
   {
    "duration": 11,
    "start_time": "2023-07-05T19:11:59.047Z"
   },
   {
    "duration": 11,
    "start_time": "2023-07-05T19:12:05.596Z"
   },
   {
    "duration": 5,
    "start_time": "2023-07-05T19:14:10.072Z"
   },
   {
    "duration": 23,
    "start_time": "2023-07-05T19:15:22.830Z"
   },
   {
    "duration": 93,
    "start_time": "2023-07-05T19:17:07.552Z"
   },
   {
    "duration": 16,
    "start_time": "2023-07-05T19:17:44.491Z"
   },
   {
    "duration": 16,
    "start_time": "2023-07-05T19:21:03.748Z"
   },
   {
    "duration": 20934,
    "start_time": "2023-07-05T19:21:34.571Z"
   },
   {
    "duration": 50,
    "start_time": "2023-07-05T19:26:39.003Z"
   },
   {
    "duration": 47,
    "start_time": "2023-07-05T19:27:20.818Z"
   },
   {
    "duration": 32,
    "start_time": "2023-07-05T19:27:34.952Z"
   },
   {
    "duration": 51,
    "start_time": "2023-07-05T19:28:00.894Z"
   },
   {
    "duration": 41,
    "start_time": "2023-07-05T19:29:56.192Z"
   },
   {
    "duration": 35,
    "start_time": "2023-07-05T19:30:44.351Z"
   },
   {
    "duration": 3131,
    "start_time": "2023-07-05T19:35:59.351Z"
   },
   {
    "duration": 2575,
    "start_time": "2023-07-05T19:36:02.485Z"
   },
   {
    "duration": 2800,
    "start_time": "2023-07-05T19:36:05.063Z"
   },
   {
    "duration": 2386,
    "start_time": "2023-07-05T19:36:07.865Z"
   },
   {
    "duration": 2646,
    "start_time": "2023-07-05T19:36:10.253Z"
   },
   {
    "duration": 519,
    "start_time": "2023-07-05T19:36:12.901Z"
   },
   {
    "duration": 106,
    "start_time": "2023-07-05T19:36:13.422Z"
   },
   {
    "duration": 25,
    "start_time": "2023-07-05T19:36:13.531Z"
   },
   {
    "duration": 7,
    "start_time": "2023-07-05T19:36:13.558Z"
   },
   {
    "duration": 6,
    "start_time": "2023-07-05T19:36:13.568Z"
   },
   {
    "duration": 8,
    "start_time": "2023-07-05T19:36:13.576Z"
   },
   {
    "duration": 13,
    "start_time": "2023-07-05T19:36:13.585Z"
   },
   {
    "duration": 327,
    "start_time": "2023-07-05T19:36:13.619Z"
   },
   {
    "duration": 170,
    "start_time": "2023-07-05T19:36:13.952Z"
   },
   {
    "duration": 159,
    "start_time": "2023-07-05T19:36:14.124Z"
   },
   {
    "duration": 167,
    "start_time": "2023-07-05T19:36:14.284Z"
   },
   {
    "duration": 9,
    "start_time": "2023-07-05T19:36:14.453Z"
   },
   {
    "duration": 322,
    "start_time": "2023-07-05T19:36:14.463Z"
   },
   {
    "duration": 9,
    "start_time": "2023-07-05T19:36:14.786Z"
   },
   {
    "duration": 27,
    "start_time": "2023-07-05T19:36:14.796Z"
   },
   {
    "duration": 15,
    "start_time": "2023-07-05T19:36:14.825Z"
   },
   {
    "duration": 10,
    "start_time": "2023-07-05T19:36:14.842Z"
   },
   {
    "duration": 136,
    "start_time": "2023-07-05T19:36:14.853Z"
   },
   {
    "duration": 8,
    "start_time": "2023-07-05T19:36:14.991Z"
   },
   {
    "duration": 32,
    "start_time": "2023-07-05T19:36:15.000Z"
   },
   {
    "duration": 24,
    "start_time": "2023-07-05T19:36:15.034Z"
   },
   {
    "duration": 25,
    "start_time": "2023-07-05T19:36:15.060Z"
   },
   {
    "duration": 36,
    "start_time": "2023-07-05T19:36:15.089Z"
   },
   {
    "duration": 17,
    "start_time": "2023-07-05T19:36:15.127Z"
   },
   {
    "duration": 14,
    "start_time": "2023-07-05T19:36:15.146Z"
   },
   {
    "duration": 1156,
    "start_time": "2023-07-05T19:36:15.161Z"
   },
   {
    "duration": 13,
    "start_time": "2023-07-05T19:36:16.319Z"
   },
   {
    "duration": 28,
    "start_time": "2023-07-05T19:36:16.334Z"
   },
   {
    "duration": 24,
    "start_time": "2023-07-05T19:36:16.364Z"
   },
   {
    "duration": 17,
    "start_time": "2023-07-05T19:36:16.390Z"
   },
   {
    "duration": 31,
    "start_time": "2023-07-05T19:36:16.409Z"
   },
   {
    "duration": 14,
    "start_time": "2023-07-05T19:36:16.442Z"
   },
   {
    "duration": 20,
    "start_time": "2023-07-05T19:36:16.458Z"
   },
   {
    "duration": 15,
    "start_time": "2023-07-05T19:36:16.480Z"
   },
   {
    "duration": 166,
    "start_time": "2023-07-05T19:36:16.497Z"
   },
   {
    "duration": 16,
    "start_time": "2023-07-05T19:36:16.665Z"
   },
   {
    "duration": 8,
    "start_time": "2023-07-05T19:36:16.683Z"
   },
   {
    "duration": 167,
    "start_time": "2023-07-05T19:36:16.692Z"
   },
   {
    "duration": 5,
    "start_time": "2023-07-05T19:36:16.861Z"
   },
   {
    "duration": 15,
    "start_time": "2023-07-05T19:36:16.868Z"
   },
   {
    "duration": 9,
    "start_time": "2023-07-05T19:36:16.885Z"
   },
   {
    "duration": 12,
    "start_time": "2023-07-05T19:36:16.896Z"
   },
   {
    "duration": 8,
    "start_time": "2023-07-05T19:36:16.921Z"
   },
   {
    "duration": 8,
    "start_time": "2023-07-05T19:36:16.931Z"
   },
   {
    "duration": 17,
    "start_time": "2023-07-05T19:36:16.941Z"
   },
   {
    "duration": 22,
    "start_time": "2023-07-05T19:36:16.960Z"
   },
   {
    "duration": 3,
    "start_time": "2023-07-05T19:36:16.984Z"
   },
   {
    "duration": 8,
    "start_time": "2023-07-05T19:36:16.988Z"
   },
   {
    "duration": 8,
    "start_time": "2023-07-05T19:36:16.998Z"
   },
   {
    "duration": 6,
    "start_time": "2023-07-05T19:36:17.007Z"
   },
   {
    "duration": 30,
    "start_time": "2023-07-05T19:36:17.017Z"
   },
   {
    "duration": 10,
    "start_time": "2023-07-05T19:36:17.050Z"
   },
   {
    "duration": 19,
    "start_time": "2023-07-05T19:36:17.062Z"
   },
   {
    "duration": 18,
    "start_time": "2023-07-05T19:36:17.083Z"
   },
   {
    "duration": 28,
    "start_time": "2023-07-05T19:36:17.103Z"
   },
   {
    "duration": 61,
    "start_time": "2023-07-05T19:36:17.133Z"
   },
   {
    "duration": 2783,
    "start_time": "2023-07-05T19:36:17.196Z"
   },
   {
    "duration": 3289,
    "start_time": "2023-07-05T19:36:19.987Z"
   },
   {
    "duration": 2647,
    "start_time": "2023-07-05T19:36:23.278Z"
   },
   {
    "duration": 218,
    "start_time": "2023-07-05T19:36:25.927Z"
   },
   {
    "duration": 10,
    "start_time": "2023-07-05T19:36:26.148Z"
   },
   {
    "duration": 14,
    "start_time": "2023-07-05T19:36:26.160Z"
   },
   {
    "duration": 8596,
    "start_time": "2023-07-05T19:36:26.176Z"
   },
   {
    "duration": 553,
    "start_time": "2023-07-05T19:36:34.774Z"
   },
   {
    "duration": 6,
    "start_time": "2023-07-05T19:36:35.329Z"
   },
   {
    "duration": 48,
    "start_time": "2023-07-05T19:36:35.337Z"
   },
   {
    "duration": 21,
    "start_time": "2023-07-05T19:36:35.387Z"
   },
   {
    "duration": 20,
    "start_time": "2023-07-05T19:36:35.410Z"
   },
   {
    "duration": 9,
    "start_time": "2023-07-05T19:36:35.432Z"
   },
   {
    "duration": 13,
    "start_time": "2023-07-05T19:36:35.442Z"
   },
   {
    "duration": 50,
    "start_time": "2023-07-05T19:36:35.457Z"
   },
   {
    "duration": 13,
    "start_time": "2023-07-05T19:36:35.509Z"
   },
   {
    "duration": 20,
    "start_time": "2023-07-05T19:36:35.523Z"
   },
   {
    "duration": 11,
    "start_time": "2023-07-05T19:36:35.545Z"
   },
   {
    "duration": 15,
    "start_time": "2023-07-05T19:36:35.557Z"
   },
   {
    "duration": 32,
    "start_time": "2023-07-05T19:36:35.574Z"
   },
   {
    "duration": 8,
    "start_time": "2023-07-05T19:36:35.612Z"
   },
   {
    "duration": 43,
    "start_time": "2023-07-05T19:36:35.623Z"
   },
   {
    "duration": 87,
    "start_time": "2023-07-05T19:36:35.670Z"
   },
   {
    "duration": 6,
    "start_time": "2023-07-05T19:36:35.759Z"
   },
   {
    "duration": 31,
    "start_time": "2023-07-05T19:36:35.767Z"
   },
   {
    "duration": 13,
    "start_time": "2023-07-05T19:36:35.800Z"
   },
   {
    "duration": 43,
    "start_time": "2023-07-05T19:36:35.815Z"
   },
   {
    "duration": 3,
    "start_time": "2023-07-05T19:36:35.860Z"
   },
   {
    "duration": 34,
    "start_time": "2023-07-05T19:36:35.865Z"
   },
   {
    "duration": 22,
    "start_time": "2023-07-05T19:36:35.901Z"
   },
   {
    "duration": 20,
    "start_time": "2023-07-05T19:36:35.925Z"
   },
   {
    "duration": 572,
    "start_time": "2023-07-05T19:36:35.947Z"
   },
   {
    "duration": 813,
    "start_time": "2023-07-05T19:36:36.529Z"
   },
   {
    "duration": 37288,
    "start_time": "2023-07-05T19:36:37.344Z"
   },
   {
    "duration": 8,
    "start_time": "2023-07-05T19:37:14.633Z"
   },
   {
    "duration": 14,
    "start_time": "2023-07-05T19:37:14.643Z"
   },
   {
    "duration": 188,
    "start_time": "2023-07-05T19:37:14.659Z"
   },
   {
    "duration": 0,
    "start_time": "2023-07-05T19:37:14.851Z"
   },
   {
    "duration": 0,
    "start_time": "2023-07-05T19:37:14.854Z"
   },
   {
    "duration": 0,
    "start_time": "2023-07-05T19:37:14.855Z"
   },
   {
    "duration": 0,
    "start_time": "2023-07-05T19:37:14.856Z"
   },
   {
    "duration": 0,
    "start_time": "2023-07-05T19:37:14.857Z"
   },
   {
    "duration": 0,
    "start_time": "2023-07-05T19:37:14.859Z"
   },
   {
    "duration": 0,
    "start_time": "2023-07-05T19:37:14.860Z"
   },
   {
    "duration": 0,
    "start_time": "2023-07-05T19:37:14.860Z"
   },
   {
    "duration": 0,
    "start_time": "2023-07-05T19:37:14.861Z"
   },
   {
    "duration": 0,
    "start_time": "2023-07-05T19:37:14.863Z"
   },
   {
    "duration": 0,
    "start_time": "2023-07-05T19:37:14.864Z"
   },
   {
    "duration": 0,
    "start_time": "2023-07-05T19:37:14.865Z"
   },
   {
    "duration": 0,
    "start_time": "2023-07-05T19:37:14.866Z"
   },
   {
    "duration": 0,
    "start_time": "2023-07-05T19:37:14.868Z"
   },
   {
    "duration": 1,
    "start_time": "2023-07-05T19:37:14.868Z"
   },
   {
    "duration": 116729,
    "start_time": "2023-07-05T19:39:33.970Z"
   },
   {
    "duration": 67,
    "start_time": "2023-07-05T19:41:37.905Z"
   },
   {
    "duration": 4,
    "start_time": "2023-07-05T19:45:45.399Z"
   },
   {
    "duration": 5,
    "start_time": "2023-07-05T19:48:26.390Z"
   },
   {
    "duration": 63,
    "start_time": "2023-07-05T19:50:10.564Z"
   },
   {
    "duration": 164,
    "start_time": "2023-07-05T20:05:10.536Z"
   },
   {
    "duration": 13,
    "start_time": "2023-07-05T20:05:48.268Z"
   },
   {
    "duration": 10,
    "start_time": "2023-07-05T20:07:23.483Z"
   },
   {
    "duration": 5,
    "start_time": "2023-07-05T20:08:55.462Z"
   },
   {
    "duration": 23,
    "start_time": "2023-07-05T20:11:08.968Z"
   },
   {
    "duration": 6,
    "start_time": "2023-07-05T20:13:09.509Z"
   },
   {
    "duration": 29,
    "start_time": "2023-07-05T20:13:40.050Z"
   },
   {
    "duration": 10,
    "start_time": "2023-07-05T20:13:45.295Z"
   },
   {
    "duration": 8,
    "start_time": "2023-07-05T20:14:07.111Z"
   },
   {
    "duration": 10,
    "start_time": "2023-07-05T20:16:43.576Z"
   },
   {
    "duration": 3,
    "start_time": "2023-07-05T20:17:20.587Z"
   },
   {
    "duration": 199,
    "start_time": "2023-07-05T20:19:10.244Z"
   },
   {
    "duration": 31,
    "start_time": "2023-07-05T20:19:21.465Z"
   },
   {
    "duration": 19,
    "start_time": "2023-07-05T20:20:07.161Z"
   },
   {
    "duration": 12,
    "start_time": "2023-07-05T20:20:08.433Z"
   },
   {
    "duration": 39329,
    "start_time": "2023-07-05T20:20:42.253Z"
   },
   {
    "duration": 6,
    "start_time": "2023-07-05T20:21:34.284Z"
   },
   {
    "duration": 3588,
    "start_time": "2023-07-05T20:26:36.336Z"
   },
   {
    "duration": 3085,
    "start_time": "2023-07-05T20:26:39.927Z"
   },
   {
    "duration": 3290,
    "start_time": "2023-07-05T20:26:43.014Z"
   },
   {
    "duration": 2895,
    "start_time": "2023-07-05T20:26:46.306Z"
   },
   {
    "duration": 2209,
    "start_time": "2023-07-05T20:26:49.203Z"
   },
   {
    "duration": 176,
    "start_time": "2023-07-05T20:26:51.414Z"
   },
   {
    "duration": 112,
    "start_time": "2023-07-05T20:26:51.593Z"
   },
   {
    "duration": 45,
    "start_time": "2023-07-05T20:26:51.707Z"
   },
   {
    "duration": 24,
    "start_time": "2023-07-05T20:26:51.754Z"
   },
   {
    "duration": 31,
    "start_time": "2023-07-05T20:26:51.780Z"
   },
   {
    "duration": 56,
    "start_time": "2023-07-05T20:26:51.812Z"
   },
   {
    "duration": 33,
    "start_time": "2023-07-05T20:26:51.870Z"
   },
   {
    "duration": 372,
    "start_time": "2023-07-05T20:26:51.905Z"
   },
   {
    "duration": 190,
    "start_time": "2023-07-05T20:26:52.284Z"
   },
   {
    "duration": 197,
    "start_time": "2023-07-05T20:26:52.479Z"
   },
   {
    "duration": 176,
    "start_time": "2023-07-05T20:26:52.678Z"
   },
   {
    "duration": 7,
    "start_time": "2023-07-05T20:26:52.856Z"
   },
   {
    "duration": 437,
    "start_time": "2023-07-05T20:26:52.865Z"
   },
   {
    "duration": 13,
    "start_time": "2023-07-05T20:26:53.305Z"
   },
   {
    "duration": 50,
    "start_time": "2023-07-05T20:26:53.320Z"
   },
   {
    "duration": 11,
    "start_time": "2023-07-05T20:26:53.373Z"
   },
   {
    "duration": 11,
    "start_time": "2023-07-05T20:26:53.385Z"
   },
   {
    "duration": 174,
    "start_time": "2023-07-05T20:26:53.399Z"
   },
   {
    "duration": 9,
    "start_time": "2023-07-05T20:26:53.575Z"
   },
   {
    "duration": 14,
    "start_time": "2023-07-05T20:26:53.585Z"
   },
   {
    "duration": 42,
    "start_time": "2023-07-05T20:26:53.601Z"
   },
   {
    "duration": 30,
    "start_time": "2023-07-05T20:26:53.645Z"
   },
   {
    "duration": 24,
    "start_time": "2023-07-05T20:26:53.676Z"
   },
   {
    "duration": 10,
    "start_time": "2023-07-05T20:26:53.701Z"
   },
   {
    "duration": 15,
    "start_time": "2023-07-05T20:26:53.713Z"
   },
   {
    "duration": 1307,
    "start_time": "2023-07-05T20:26:53.730Z"
   },
   {
    "duration": 14,
    "start_time": "2023-07-05T20:26:55.039Z"
   },
   {
    "duration": 8,
    "start_time": "2023-07-05T20:26:55.055Z"
   },
   {
    "duration": 62,
    "start_time": "2023-07-05T20:26:55.071Z"
   },
   {
    "duration": 15,
    "start_time": "2023-07-05T20:26:55.135Z"
   },
   {
    "duration": 14,
    "start_time": "2023-07-05T20:26:55.152Z"
   },
   {
    "duration": 33,
    "start_time": "2023-07-05T20:26:55.168Z"
   },
   {
    "duration": 25,
    "start_time": "2023-07-05T20:26:55.203Z"
   },
   {
    "duration": 38,
    "start_time": "2023-07-05T20:26:55.232Z"
   },
   {
    "duration": 180,
    "start_time": "2023-07-05T20:26:55.274Z"
   },
   {
    "duration": 17,
    "start_time": "2023-07-05T20:26:55.468Z"
   },
   {
    "duration": 33,
    "start_time": "2023-07-05T20:26:55.487Z"
   },
   {
    "duration": 199,
    "start_time": "2023-07-05T20:26:55.521Z"
   },
   {
    "duration": 9,
    "start_time": "2023-07-05T20:26:55.726Z"
   },
   {
    "duration": 31,
    "start_time": "2023-07-05T20:26:55.737Z"
   },
   {
    "duration": 25,
    "start_time": "2023-07-05T20:26:55.770Z"
   },
   {
    "duration": 16,
    "start_time": "2023-07-05T20:26:55.797Z"
   },
   {
    "duration": 31,
    "start_time": "2023-07-05T20:26:55.815Z"
   },
   {
    "duration": 13,
    "start_time": "2023-07-05T20:26:55.848Z"
   },
   {
    "duration": 12,
    "start_time": "2023-07-05T20:26:55.864Z"
   },
   {
    "duration": 22,
    "start_time": "2023-07-05T20:26:55.878Z"
   },
   {
    "duration": 3,
    "start_time": "2023-07-05T20:26:55.902Z"
   },
   {
    "duration": 11,
    "start_time": "2023-07-05T20:26:55.907Z"
   },
   {
    "duration": 9,
    "start_time": "2023-07-05T20:26:55.922Z"
   },
   {
    "duration": 6,
    "start_time": "2023-07-05T20:26:55.933Z"
   },
   {
    "duration": 26,
    "start_time": "2023-07-05T20:26:55.957Z"
   },
   {
    "duration": 4,
    "start_time": "2023-07-05T20:26:55.986Z"
   },
   {
    "duration": 42,
    "start_time": "2023-07-05T20:26:55.992Z"
   },
   {
    "duration": 20,
    "start_time": "2023-07-05T20:26:56.036Z"
   },
   {
    "duration": 31,
    "start_time": "2023-07-05T20:26:56.058Z"
   },
   {
    "duration": 81,
    "start_time": "2023-07-05T20:26:56.091Z"
   },
   {
    "duration": 2915,
    "start_time": "2023-07-05T20:26:56.175Z"
   },
   {
    "duration": 3706,
    "start_time": "2023-07-05T20:26:59.091Z"
   },
   {
    "duration": 2892,
    "start_time": "2023-07-05T20:27:02.799Z"
   },
   {
    "duration": 199,
    "start_time": "2023-07-05T20:27:05.693Z"
   },
   {
    "duration": 6,
    "start_time": "2023-07-05T20:27:05.894Z"
   },
   {
    "duration": 32,
    "start_time": "2023-07-05T20:27:05.902Z"
   },
   {
    "duration": 9532,
    "start_time": "2023-07-05T20:27:05.935Z"
   },
   {
    "duration": 562,
    "start_time": "2023-07-05T20:27:15.472Z"
   },
   {
    "duration": 8,
    "start_time": "2023-07-05T20:27:16.036Z"
   },
   {
    "duration": 24,
    "start_time": "2023-07-05T20:27:16.046Z"
   },
   {
    "duration": 10,
    "start_time": "2023-07-05T20:27:16.078Z"
   },
   {
    "duration": 15,
    "start_time": "2023-07-05T20:27:16.089Z"
   },
   {
    "duration": 11,
    "start_time": "2023-07-05T20:27:16.106Z"
   },
   {
    "duration": 6,
    "start_time": "2023-07-05T20:27:16.123Z"
   },
   {
    "duration": 79,
    "start_time": "2023-07-05T20:27:16.132Z"
   },
   {
    "duration": 8,
    "start_time": "2023-07-05T20:27:16.215Z"
   },
   {
    "duration": 7,
    "start_time": "2023-07-05T20:27:16.227Z"
   },
   {
    "duration": 13,
    "start_time": "2023-07-05T20:27:16.241Z"
   },
   {
    "duration": 11,
    "start_time": "2023-07-05T20:27:16.257Z"
   },
   {
    "duration": 10,
    "start_time": "2023-07-05T20:27:16.270Z"
   },
   {
    "duration": 5,
    "start_time": "2023-07-05T20:27:16.283Z"
   },
   {
    "duration": 36,
    "start_time": "2023-07-05T20:27:16.290Z"
   },
   {
    "duration": 90,
    "start_time": "2023-07-05T20:27:16.330Z"
   },
   {
    "duration": 8,
    "start_time": "2023-07-05T20:27:16.421Z"
   },
   {
    "duration": 37,
    "start_time": "2023-07-05T20:27:16.433Z"
   },
   {
    "duration": 10,
    "start_time": "2023-07-05T20:27:16.472Z"
   },
   {
    "duration": 61,
    "start_time": "2023-07-05T20:27:16.484Z"
   },
   {
    "duration": 4,
    "start_time": "2023-07-05T20:27:16.547Z"
   },
   {
    "duration": 30,
    "start_time": "2023-07-05T20:27:16.552Z"
   },
   {
    "duration": 3,
    "start_time": "2023-07-05T20:27:16.584Z"
   },
   {
    "duration": 12,
    "start_time": "2023-07-05T20:27:16.589Z"
   },
   {
    "duration": 559,
    "start_time": "2023-07-05T20:27:16.603Z"
   },
   {
    "duration": 923,
    "start_time": "2023-07-05T20:27:17.227Z"
   },
   {
    "duration": 34440,
    "start_time": "2023-07-05T20:27:18.152Z"
   },
   {
    "duration": 5,
    "start_time": "2023-07-05T20:27:52.594Z"
   },
   {
    "duration": 13,
    "start_time": "2023-07-05T20:27:52.601Z"
   },
   {
    "duration": 138736,
    "start_time": "2023-07-05T20:27:52.621Z"
   },
   {
    "duration": 9,
    "start_time": "2023-07-05T20:30:11.359Z"
   },
   {
    "duration": 18,
    "start_time": "2023-07-05T20:30:11.373Z"
   },
   {
    "duration": 33,
    "start_time": "2023-07-05T20:30:11.393Z"
   },
   {
    "duration": 36581,
    "start_time": "2023-07-05T20:30:11.428Z"
   },
   {
    "duration": 13,
    "start_time": "2023-07-05T20:30:48.011Z"
   },
   {
    "duration": 269,
    "start_time": "2023-07-05T20:30:48.026Z"
   },
   {
    "duration": 0,
    "start_time": "2023-07-05T20:30:48.298Z"
   },
   {
    "duration": 0,
    "start_time": "2023-07-05T20:30:48.302Z"
   },
   {
    "duration": 0,
    "start_time": "2023-07-05T20:30:48.303Z"
   },
   {
    "duration": 404055,
    "start_time": "2023-07-05T20:32:05.094Z"
   },
   {
    "duration": 1261715,
    "start_time": "2023-07-05T20:39:12.366Z"
   },
   {
    "duration": 5,
    "start_time": "2023-07-05T21:06:54.038Z"
   },
   {
    "duration": 14,
    "start_time": "2023-07-05T21:06:57.541Z"
   },
   {
    "duration": 9,
    "start_time": "2023-07-05T21:07:11.355Z"
   },
   {
    "duration": 20,
    "start_time": "2023-07-05T21:07:17.312Z"
   },
   {
    "duration": 12,
    "start_time": "2023-07-05T21:19:13.684Z"
   },
   {
    "duration": 12,
    "start_time": "2023-07-05T21:19:42.368Z"
   },
   {
    "duration": 735545,
    "start_time": "2023-07-05T21:19:52.193Z"
   },
   {
    "duration": 53,
    "start_time": "2023-07-05T21:32:07.740Z"
   },
   {
    "duration": 61,
    "start_time": "2023-07-05T21:33:21.712Z"
   },
   {
    "duration": 96,
    "start_time": "2023-07-05T21:34:58.570Z"
   },
   {
    "duration": 26,
    "start_time": "2023-07-05T21:35:07.702Z"
   },
   {
    "duration": 34,
    "start_time": "2023-07-05T21:35:38.547Z"
   },
   {
    "duration": 116,
    "start_time": "2023-07-05T21:35:41.195Z"
   },
   {
    "duration": 6,
    "start_time": "2023-07-05T21:37:59.695Z"
   },
   {
    "duration": 27,
    "start_time": "2023-07-05T21:38:11.178Z"
   },
   {
    "duration": 6,
    "start_time": "2023-07-05T21:38:30.871Z"
   },
   {
    "duration": 3,
    "start_time": "2023-07-05T21:39:08.802Z"
   },
   {
    "duration": 46,
    "start_time": "2023-07-05T21:39:50.731Z"
   },
   {
    "duration": 176,
    "start_time": "2023-07-05T21:39:52.527Z"
   },
   {
    "duration": 4426,
    "start_time": "2023-07-05T21:40:34.227Z"
   },
   {
    "duration": 3756,
    "start_time": "2023-07-05T21:40:38.655Z"
   },
   {
    "duration": 3769,
    "start_time": "2023-07-05T21:40:42.424Z"
   },
   {
    "duration": 3133,
    "start_time": "2023-07-05T21:40:46.196Z"
   },
   {
    "duration": 2439,
    "start_time": "2023-07-05T21:40:49.331Z"
   },
   {
    "duration": 138,
    "start_time": "2023-07-05T21:40:51.772Z"
   },
   {
    "duration": 154,
    "start_time": "2023-07-05T21:40:51.913Z"
   },
   {
    "duration": 18,
    "start_time": "2023-07-05T21:40:52.069Z"
   },
   {
    "duration": 70,
    "start_time": "2023-07-05T21:40:52.089Z"
   },
   {
    "duration": 40,
    "start_time": "2023-07-05T21:40:52.162Z"
   },
   {
    "duration": 131,
    "start_time": "2023-07-05T21:40:52.204Z"
   },
   {
    "duration": 86,
    "start_time": "2023-07-05T21:40:52.343Z"
   },
   {
    "duration": 460,
    "start_time": "2023-07-05T21:40:52.439Z"
   },
   {
    "duration": 227,
    "start_time": "2023-07-05T21:40:52.901Z"
   },
   {
    "duration": 190,
    "start_time": "2023-07-05T21:40:53.130Z"
   },
   {
    "duration": 205,
    "start_time": "2023-07-05T21:40:53.322Z"
   },
   {
    "duration": 11,
    "start_time": "2023-07-05T21:40:53.533Z"
   },
   {
    "duration": 491,
    "start_time": "2023-07-05T21:40:53.549Z"
   },
   {
    "duration": 36,
    "start_time": "2023-07-05T21:40:54.049Z"
   },
   {
    "duration": 66,
    "start_time": "2023-07-05T21:40:54.088Z"
   },
   {
    "duration": 11,
    "start_time": "2023-07-05T21:40:54.161Z"
   },
   {
    "duration": 26,
    "start_time": "2023-07-05T21:40:54.175Z"
   },
   {
    "duration": 225,
    "start_time": "2023-07-05T21:40:54.204Z"
   },
   {
    "duration": 9,
    "start_time": "2023-07-05T21:40:54.432Z"
   },
   {
    "duration": 16,
    "start_time": "2023-07-05T21:40:54.443Z"
   },
   {
    "duration": 32,
    "start_time": "2023-07-05T21:40:54.461Z"
   },
   {
    "duration": 11,
    "start_time": "2023-07-05T21:40:54.495Z"
   },
   {
    "duration": 31,
    "start_time": "2023-07-05T21:40:54.511Z"
   },
   {
    "duration": 9,
    "start_time": "2023-07-05T21:40:54.545Z"
   },
   {
    "duration": 12,
    "start_time": "2023-07-05T21:40:54.556Z"
   },
   {
    "duration": 1341,
    "start_time": "2023-07-05T21:40:54.570Z"
   },
   {
    "duration": 19,
    "start_time": "2023-07-05T21:40:55.914Z"
   },
   {
    "duration": 18,
    "start_time": "2023-07-05T21:40:55.943Z"
   },
   {
    "duration": 11,
    "start_time": "2023-07-05T21:40:55.964Z"
   },
   {
    "duration": 14,
    "start_time": "2023-07-05T21:40:55.978Z"
   },
   {
    "duration": 13,
    "start_time": "2023-07-05T21:40:55.994Z"
   },
   {
    "duration": 32,
    "start_time": "2023-07-05T21:40:56.008Z"
   },
   {
    "duration": 18,
    "start_time": "2023-07-05T21:40:56.042Z"
   },
   {
    "duration": 28,
    "start_time": "2023-07-05T21:40:56.062Z"
   },
   {
    "duration": 169,
    "start_time": "2023-07-05T21:40:56.092Z"
   },
   {
    "duration": 16,
    "start_time": "2023-07-05T21:40:56.263Z"
   },
   {
    "duration": 12,
    "start_time": "2023-07-05T21:40:56.284Z"
   },
   {
    "duration": 208,
    "start_time": "2023-07-05T21:40:56.297Z"
   },
   {
    "duration": 12,
    "start_time": "2023-07-05T21:40:56.507Z"
   },
   {
    "duration": 21,
    "start_time": "2023-07-05T21:40:56.521Z"
   },
   {
    "duration": 36,
    "start_time": "2023-07-05T21:40:56.544Z"
   },
   {
    "duration": 51,
    "start_time": "2023-07-05T21:40:56.582Z"
   },
   {
    "duration": 8,
    "start_time": "2023-07-05T21:40:56.636Z"
   },
   {
    "duration": 15,
    "start_time": "2023-07-05T21:40:56.645Z"
   },
   {
    "duration": 8,
    "start_time": "2023-07-05T21:40:56.664Z"
   },
   {
    "duration": 17,
    "start_time": "2023-07-05T21:40:56.678Z"
   },
   {
    "duration": 3,
    "start_time": "2023-07-05T21:40:56.697Z"
   },
   {
    "duration": 26,
    "start_time": "2023-07-05T21:40:56.702Z"
   },
   {
    "duration": 36,
    "start_time": "2023-07-05T21:40:56.729Z"
   },
   {
    "duration": 17,
    "start_time": "2023-07-05T21:40:56.767Z"
   },
   {
    "duration": 22,
    "start_time": "2023-07-05T21:40:56.786Z"
   },
   {
    "duration": 24,
    "start_time": "2023-07-05T21:40:56.811Z"
   },
   {
    "duration": 34,
    "start_time": "2023-07-05T21:40:56.837Z"
   },
   {
    "duration": 29,
    "start_time": "2023-07-05T21:40:56.873Z"
   },
   {
    "duration": 39,
    "start_time": "2023-07-05T21:40:56.904Z"
   },
   {
    "duration": 46,
    "start_time": "2023-07-05T21:40:56.945Z"
   },
   {
    "duration": 3069,
    "start_time": "2023-07-05T21:40:56.993Z"
   },
   {
    "duration": 4868,
    "start_time": "2023-07-05T21:41:00.064Z"
   },
   {
    "duration": 3368,
    "start_time": "2023-07-05T21:41:04.935Z"
   },
   {
    "duration": 227,
    "start_time": "2023-07-05T21:41:08.306Z"
   },
   {
    "duration": 17,
    "start_time": "2023-07-05T21:41:08.538Z"
   },
   {
    "duration": 16,
    "start_time": "2023-07-05T21:41:08.562Z"
   },
   {
    "duration": 11682,
    "start_time": "2023-07-05T21:41:08.586Z"
   },
   {
    "duration": 715,
    "start_time": "2023-07-05T21:41:20.277Z"
   },
   {
    "duration": 8,
    "start_time": "2023-07-05T21:41:20.999Z"
   },
   {
    "duration": 28,
    "start_time": "2023-07-05T21:41:21.009Z"
   },
   {
    "duration": 15,
    "start_time": "2023-07-05T21:41:21.039Z"
   },
   {
    "duration": 8,
    "start_time": "2023-07-05T21:41:21.057Z"
   },
   {
    "duration": 11,
    "start_time": "2023-07-05T21:41:21.071Z"
   },
   {
    "duration": 22,
    "start_time": "2023-07-05T21:41:21.087Z"
   },
   {
    "duration": 91,
    "start_time": "2023-07-05T21:41:21.112Z"
   },
   {
    "duration": 11,
    "start_time": "2023-07-05T21:41:21.222Z"
   },
   {
    "duration": 30,
    "start_time": "2023-07-05T21:41:21.235Z"
   },
   {
    "duration": 32,
    "start_time": "2023-07-05T21:41:21.274Z"
   },
   {
    "duration": 31,
    "start_time": "2023-07-05T21:41:21.308Z"
   },
   {
    "duration": 139,
    "start_time": "2023-07-05T21:41:21.343Z"
   },
   {
    "duration": 43,
    "start_time": "2023-07-05T21:41:21.490Z"
   },
   {
    "duration": 61,
    "start_time": "2023-07-05T21:41:21.535Z"
   },
   {
    "duration": 126,
    "start_time": "2023-07-05T21:41:21.598Z"
   },
   {
    "duration": 8,
    "start_time": "2023-07-05T21:41:21.726Z"
   },
   {
    "duration": 55,
    "start_time": "2023-07-05T21:41:21.738Z"
   },
   {
    "duration": 9,
    "start_time": "2023-07-05T21:41:21.798Z"
   },
   {
    "duration": 68,
    "start_time": "2023-07-05T21:41:21.809Z"
   },
   {
    "duration": 8,
    "start_time": "2023-07-05T21:41:21.879Z"
   },
   {
    "duration": 25,
    "start_time": "2023-07-05T21:41:21.889Z"
   },
   {
    "duration": 7,
    "start_time": "2023-07-05T21:41:21.920Z"
   },
   {
    "duration": 11,
    "start_time": "2023-07-05T21:41:21.935Z"
   },
   {
    "duration": 580,
    "start_time": "2023-07-05T21:41:21.951Z"
   },
   {
    "duration": 961,
    "start_time": "2023-07-05T21:41:22.539Z"
   },
   {
    "duration": 40888,
    "start_time": "2023-07-05T21:41:23.503Z"
   },
   {
    "duration": 4,
    "start_time": "2023-07-05T21:42:04.392Z"
   },
   {
    "duration": 34,
    "start_time": "2023-07-05T21:42:04.398Z"
   },
   {
    "duration": 126708,
    "start_time": "2023-07-05T21:42:04.433Z"
   },
   {
    "duration": 763767,
    "start_time": "2023-07-05T21:44:11.142Z"
   },
   {
    "duration": 3,
    "start_time": "2023-07-05T21:56:54.911Z"
   },
   {
    "duration": 18,
    "start_time": "2023-07-05T21:56:54.916Z"
   },
   {
    "duration": 6,
    "start_time": "2023-07-05T21:56:54.937Z"
   },
   {
    "duration": 34521,
    "start_time": "2023-07-05T21:56:54.950Z"
   },
   {
    "duration": 10,
    "start_time": "2023-07-05T21:57:29.481Z"
   },
   {
    "duration": 166137,
    "start_time": "2023-07-05T21:57:29.495Z"
   },
   {
    "duration": 1119755,
    "start_time": "2023-07-05T22:00:15.634Z"
   },
   {
    "duration": 5,
    "start_time": "2023-07-05T22:18:55.392Z"
   },
   {
    "duration": 36,
    "start_time": "2023-07-05T22:18:55.399Z"
   },
   {
    "duration": 57,
    "start_time": "2023-07-05T22:18:55.437Z"
   },
   {
    "duration": 148,
    "start_time": "2023-07-05T22:18:55.499Z"
   },
   {
    "duration": 0,
    "start_time": "2023-07-05T22:18:55.650Z"
   },
   {
    "duration": 0,
    "start_time": "2023-07-05T22:18:55.652Z"
   },
   {
    "duration": 0,
    "start_time": "2023-07-05T22:18:55.654Z"
   },
   {
    "duration": 0,
    "start_time": "2023-07-05T22:18:55.656Z"
   },
   {
    "duration": 55,
    "start_time": "2023-07-05T22:19:53.520Z"
   },
   {
    "duration": 6,
    "start_time": "2023-07-05T22:19:58.379Z"
   },
   {
    "duration": 4,
    "start_time": "2023-07-05T22:19:59.539Z"
   },
   {
    "duration": 281,
    "start_time": "2023-07-05T22:20:00.589Z"
   },
   {
    "duration": 55,
    "start_time": "2023-07-05T22:20:27.552Z"
   },
   {
    "duration": 47,
    "start_time": "2023-07-05T22:20:35.788Z"
   },
   {
    "duration": 305,
    "start_time": "2023-07-05T22:20:41.139Z"
   },
   {
    "duration": 304,
    "start_time": "2023-07-05T22:22:01.683Z"
   },
   {
    "duration": 11,
    "start_time": "2023-07-05T22:22:14.697Z"
   },
   {
    "duration": 488,
    "start_time": "2023-07-05T22:22:59.232Z"
   },
   {
    "duration": 425,
    "start_time": "2023-07-05T22:23:19.244Z"
   },
   {
    "duration": 385,
    "start_time": "2023-07-05T22:24:15.799Z"
   },
   {
    "duration": 385,
    "start_time": "2023-07-05T22:24:39.678Z"
   },
   {
    "duration": 303,
    "start_time": "2023-07-05T22:26:16.030Z"
   },
   {
    "duration": 304,
    "start_time": "2023-07-05T22:26:27.751Z"
   },
   {
    "duration": 278,
    "start_time": "2023-07-05T22:26:48.054Z"
   },
   {
    "duration": 12949,
    "start_time": "2023-07-07T07:58:28.362Z"
   },
   {
    "duration": 3089,
    "start_time": "2023-07-07T07:58:41.313Z"
   },
   {
    "duration": 9809,
    "start_time": "2023-07-07T07:58:44.404Z"
   },
   {
    "duration": 2948,
    "start_time": "2023-07-07T07:58:54.216Z"
   },
   {
    "duration": 1955,
    "start_time": "2023-07-07T07:58:57.167Z"
   },
   {
    "duration": 380,
    "start_time": "2023-07-07T07:58:59.124Z"
   },
   {
    "duration": 17,
    "start_time": "2023-07-07T07:58:59.506Z"
   },
   {
    "duration": 14,
    "start_time": "2023-07-07T07:58:59.524Z"
   },
   {
    "duration": 7,
    "start_time": "2023-07-07T07:58:59.540Z"
   },
   {
    "duration": 33,
    "start_time": "2023-07-07T07:58:59.549Z"
   },
   {
    "duration": 21,
    "start_time": "2023-07-07T07:58:59.584Z"
   },
   {
    "duration": 6,
    "start_time": "2023-07-07T07:58:59.607Z"
   },
   {
    "duration": 270,
    "start_time": "2023-07-07T07:58:59.615Z"
   },
   {
    "duration": 158,
    "start_time": "2023-07-07T07:58:59.889Z"
   },
   {
    "duration": 145,
    "start_time": "2023-07-07T07:59:00.049Z"
   },
   {
    "duration": 142,
    "start_time": "2023-07-07T07:59:00.196Z"
   },
   {
    "duration": 7,
    "start_time": "2023-07-07T07:59:00.340Z"
   },
   {
    "duration": 308,
    "start_time": "2023-07-07T07:59:00.349Z"
   },
   {
    "duration": 21,
    "start_time": "2023-07-07T07:59:00.658Z"
   },
   {
    "duration": 36,
    "start_time": "2023-07-07T07:59:00.681Z"
   },
   {
    "duration": 36,
    "start_time": "2023-07-07T07:59:00.719Z"
   },
   {
    "duration": 50,
    "start_time": "2023-07-07T07:59:00.757Z"
   },
   {
    "duration": 156,
    "start_time": "2023-07-07T07:59:00.809Z"
   },
   {
    "duration": 8,
    "start_time": "2023-07-07T07:59:00.975Z"
   },
   {
    "duration": 27,
    "start_time": "2023-07-07T07:59:00.985Z"
   },
   {
    "duration": 22,
    "start_time": "2023-07-07T07:59:01.014Z"
   },
   {
    "duration": 57,
    "start_time": "2023-07-07T07:59:01.038Z"
   },
   {
    "duration": 38,
    "start_time": "2023-07-07T07:59:01.097Z"
   },
   {
    "duration": 45,
    "start_time": "2023-07-07T07:59:01.137Z"
   },
   {
    "duration": 31,
    "start_time": "2023-07-07T07:59:01.184Z"
   },
   {
    "duration": 1348,
    "start_time": "2023-07-07T07:59:01.217Z"
   },
   {
    "duration": 10,
    "start_time": "2023-07-07T07:59:02.577Z"
   },
   {
    "duration": 64,
    "start_time": "2023-07-07T07:59:02.589Z"
   },
   {
    "duration": 45,
    "start_time": "2023-07-07T07:59:02.655Z"
   },
   {
    "duration": 19,
    "start_time": "2023-07-07T07:59:02.703Z"
   },
   {
    "duration": 12,
    "start_time": "2023-07-07T07:59:02.724Z"
   },
   {
    "duration": 7,
    "start_time": "2023-07-07T07:59:02.738Z"
   },
   {
    "duration": 9,
    "start_time": "2023-07-07T07:59:02.747Z"
   },
   {
    "duration": 8,
    "start_time": "2023-07-07T07:59:02.758Z"
   },
   {
    "duration": 22,
    "start_time": "2023-07-07T07:59:02.772Z"
   },
   {
    "duration": 34,
    "start_time": "2023-07-07T07:59:02.799Z"
   },
   {
    "duration": 10,
    "start_time": "2023-07-07T07:59:02.835Z"
   },
   {
    "duration": 145,
    "start_time": "2023-07-07T07:59:02.846Z"
   },
   {
    "duration": 5,
    "start_time": "2023-07-07T07:59:02.994Z"
   },
   {
    "duration": 21,
    "start_time": "2023-07-07T07:59:03.001Z"
   },
   {
    "duration": 5,
    "start_time": "2023-07-07T07:59:03.024Z"
   },
   {
    "duration": 32,
    "start_time": "2023-07-07T07:59:03.031Z"
   },
   {
    "duration": 24,
    "start_time": "2023-07-07T07:59:03.065Z"
   },
   {
    "duration": 15,
    "start_time": "2023-07-07T07:59:03.090Z"
   },
   {
    "duration": 2,
    "start_time": "2023-07-07T07:59:03.107Z"
   },
   {
    "duration": 171,
    "start_time": "2023-07-07T07:59:03.111Z"
   },
   {
    "duration": 0,
    "start_time": "2023-07-07T07:59:03.288Z"
   },
   {
    "duration": 0,
    "start_time": "2023-07-07T07:59:03.289Z"
   },
   {
    "duration": 0,
    "start_time": "2023-07-07T07:59:03.291Z"
   },
   {
    "duration": 0,
    "start_time": "2023-07-07T07:59:03.293Z"
   },
   {
    "duration": 0,
    "start_time": "2023-07-07T07:59:03.294Z"
   },
   {
    "duration": 0,
    "start_time": "2023-07-07T07:59:03.297Z"
   },
   {
    "duration": 0,
    "start_time": "2023-07-07T07:59:03.299Z"
   },
   {
    "duration": 0,
    "start_time": "2023-07-07T07:59:03.300Z"
   },
   {
    "duration": 0,
    "start_time": "2023-07-07T07:59:03.301Z"
   },
   {
    "duration": 0,
    "start_time": "2023-07-07T07:59:03.302Z"
   },
   {
    "duration": 1,
    "start_time": "2023-07-07T07:59:03.303Z"
   },
   {
    "duration": 0,
    "start_time": "2023-07-07T07:59:03.305Z"
   },
   {
    "duration": 0,
    "start_time": "2023-07-07T07:59:03.307Z"
   },
   {
    "duration": 0,
    "start_time": "2023-07-07T07:59:03.308Z"
   },
   {
    "duration": 0,
    "start_time": "2023-07-07T07:59:03.309Z"
   },
   {
    "duration": 0,
    "start_time": "2023-07-07T07:59:03.310Z"
   },
   {
    "duration": 0,
    "start_time": "2023-07-07T07:59:03.311Z"
   },
   {
    "duration": 0,
    "start_time": "2023-07-07T07:59:03.312Z"
   },
   {
    "duration": 0,
    "start_time": "2023-07-07T07:59:03.312Z"
   },
   {
    "duration": 0,
    "start_time": "2023-07-07T07:59:03.313Z"
   },
   {
    "duration": 0,
    "start_time": "2023-07-07T07:59:03.314Z"
   },
   {
    "duration": 0,
    "start_time": "2023-07-07T07:59:03.315Z"
   },
   {
    "duration": 0,
    "start_time": "2023-07-07T07:59:03.315Z"
   },
   {
    "duration": 0,
    "start_time": "2023-07-07T07:59:03.316Z"
   },
   {
    "duration": 0,
    "start_time": "2023-07-07T07:59:03.317Z"
   },
   {
    "duration": 0,
    "start_time": "2023-07-07T07:59:03.323Z"
   },
   {
    "duration": 0,
    "start_time": "2023-07-07T07:59:03.376Z"
   },
   {
    "duration": 0,
    "start_time": "2023-07-07T07:59:03.378Z"
   },
   {
    "duration": 0,
    "start_time": "2023-07-07T07:59:03.379Z"
   },
   {
    "duration": 0,
    "start_time": "2023-07-07T07:59:03.381Z"
   },
   {
    "duration": 0,
    "start_time": "2023-07-07T07:59:03.382Z"
   },
   {
    "duration": 0,
    "start_time": "2023-07-07T07:59:03.383Z"
   },
   {
    "duration": 0,
    "start_time": "2023-07-07T07:59:03.384Z"
   },
   {
    "duration": 0,
    "start_time": "2023-07-07T07:59:03.386Z"
   },
   {
    "duration": 0,
    "start_time": "2023-07-07T07:59:03.387Z"
   },
   {
    "duration": 0,
    "start_time": "2023-07-07T07:59:03.388Z"
   },
   {
    "duration": 0,
    "start_time": "2023-07-07T07:59:03.389Z"
   },
   {
    "duration": 0,
    "start_time": "2023-07-07T07:59:03.392Z"
   },
   {
    "duration": 0,
    "start_time": "2023-07-07T07:59:03.393Z"
   },
   {
    "duration": 0,
    "start_time": "2023-07-07T07:59:03.394Z"
   },
   {
    "duration": 0,
    "start_time": "2023-07-07T07:59:03.395Z"
   },
   {
    "duration": 0,
    "start_time": "2023-07-07T07:59:03.396Z"
   },
   {
    "duration": 0,
    "start_time": "2023-07-07T07:59:03.398Z"
   },
   {
    "duration": 0,
    "start_time": "2023-07-07T07:59:03.398Z"
   },
   {
    "duration": 0,
    "start_time": "2023-07-07T07:59:03.400Z"
   },
   {
    "duration": 0,
    "start_time": "2023-07-07T07:59:03.401Z"
   },
   {
    "duration": 0,
    "start_time": "2023-07-07T07:59:03.402Z"
   },
   {
    "duration": 0,
    "start_time": "2023-07-07T07:59:03.404Z"
   },
   {
    "duration": 0,
    "start_time": "2023-07-07T07:59:03.405Z"
   },
   {
    "duration": 0,
    "start_time": "2023-07-07T07:59:03.406Z"
   },
   {
    "duration": 0,
    "start_time": "2023-07-07T07:59:03.407Z"
   },
   {
    "duration": 0,
    "start_time": "2023-07-07T07:59:03.408Z"
   },
   {
    "duration": 0,
    "start_time": "2023-07-07T07:59:03.410Z"
   },
   {
    "duration": 0,
    "start_time": "2023-07-07T07:59:03.411Z"
   },
   {
    "duration": 0,
    "start_time": "2023-07-07T07:59:03.412Z"
   },
   {
    "duration": 0,
    "start_time": "2023-07-07T07:59:03.414Z"
   },
   {
    "duration": 0,
    "start_time": "2023-07-07T07:59:03.469Z"
   },
   {
    "duration": 0,
    "start_time": "2023-07-07T07:59:03.470Z"
   },
   {
    "duration": 0,
    "start_time": "2023-07-07T07:59:03.473Z"
   },
   {
    "duration": 0,
    "start_time": "2023-07-07T07:59:03.474Z"
   },
   {
    "duration": 0,
    "start_time": "2023-07-07T07:59:03.475Z"
   },
   {
    "duration": 0,
    "start_time": "2023-07-07T07:59:03.476Z"
   },
   {
    "duration": 0,
    "start_time": "2023-07-07T07:59:03.477Z"
   },
   {
    "duration": 0,
    "start_time": "2023-07-07T07:59:03.478Z"
   },
   {
    "duration": 0,
    "start_time": "2023-07-07T07:59:03.479Z"
   },
   {
    "duration": 9,
    "start_time": "2023-07-07T08:02:34.917Z"
   },
   {
    "duration": 2920,
    "start_time": "2023-07-07T08:02:47.831Z"
   },
   {
    "duration": 2499,
    "start_time": "2023-07-07T08:02:50.754Z"
   },
   {
    "duration": 2724,
    "start_time": "2023-07-07T08:02:53.256Z"
   },
   {
    "duration": 2097,
    "start_time": "2023-07-07T08:02:55.982Z"
   },
   {
    "duration": 1729,
    "start_time": "2023-07-07T08:02:58.083Z"
   },
   {
    "duration": 113,
    "start_time": "2023-07-07T08:02:59.813Z"
   },
   {
    "duration": 108,
    "start_time": "2023-07-07T08:02:59.928Z"
   },
   {
    "duration": 42,
    "start_time": "2023-07-07T08:03:00.038Z"
   },
   {
    "duration": 46,
    "start_time": "2023-07-07T08:03:00.082Z"
   },
   {
    "duration": 22,
    "start_time": "2023-07-07T08:03:00.131Z"
   },
   {
    "duration": 20,
    "start_time": "2023-07-07T08:03:00.155Z"
   },
   {
    "duration": 45,
    "start_time": "2023-07-07T08:03:00.178Z"
   },
   {
    "duration": 309,
    "start_time": "2023-07-07T08:03:00.225Z"
   },
   {
    "duration": 161,
    "start_time": "2023-07-07T08:03:00.538Z"
   },
   {
    "duration": 153,
    "start_time": "2023-07-07T08:03:00.702Z"
   },
   {
    "duration": 155,
    "start_time": "2023-07-07T08:03:00.857Z"
   },
   {
    "duration": 7,
    "start_time": "2023-07-07T08:03:01.013Z"
   },
   {
    "duration": 309,
    "start_time": "2023-07-07T08:03:01.022Z"
   },
   {
    "duration": 10,
    "start_time": "2023-07-07T08:03:01.333Z"
   },
   {
    "duration": 44,
    "start_time": "2023-07-07T08:03:01.344Z"
   },
   {
    "duration": 72,
    "start_time": "2023-07-07T08:03:01.390Z"
   },
   {
    "duration": 101,
    "start_time": "2023-07-07T08:03:01.464Z"
   },
   {
    "duration": 148,
    "start_time": "2023-07-07T08:03:01.577Z"
   },
   {
    "duration": 8,
    "start_time": "2023-07-07T08:03:01.727Z"
   },
   {
    "duration": 53,
    "start_time": "2023-07-07T08:03:01.737Z"
   },
   {
    "duration": 129,
    "start_time": "2023-07-07T08:03:01.792Z"
   },
   {
    "duration": 111,
    "start_time": "2023-07-07T08:03:01.923Z"
   },
   {
    "duration": 179,
    "start_time": "2023-07-07T08:03:02.037Z"
   },
   {
    "duration": 70,
    "start_time": "2023-07-07T08:03:02.218Z"
   },
   {
    "duration": 64,
    "start_time": "2023-07-07T08:03:02.291Z"
   },
   {
    "duration": 1151,
    "start_time": "2023-07-07T08:03:02.358Z"
   },
   {
    "duration": 8,
    "start_time": "2023-07-07T08:03:03.511Z"
   },
   {
    "duration": 25,
    "start_time": "2023-07-07T08:03:03.521Z"
   },
   {
    "duration": 18,
    "start_time": "2023-07-07T08:03:03.548Z"
   },
   {
    "duration": 32,
    "start_time": "2023-07-07T08:03:03.568Z"
   },
   {
    "duration": 15,
    "start_time": "2023-07-07T08:03:03.602Z"
   },
   {
    "duration": 14,
    "start_time": "2023-07-07T08:03:03.619Z"
   },
   {
    "duration": 12,
    "start_time": "2023-07-07T08:03:03.635Z"
   },
   {
    "duration": 14,
    "start_time": "2023-07-07T08:03:03.649Z"
   },
   {
    "duration": 144,
    "start_time": "2023-07-07T08:03:03.665Z"
   },
   {
    "duration": 31,
    "start_time": "2023-07-07T08:03:03.814Z"
   },
   {
    "duration": 16,
    "start_time": "2023-07-07T08:03:03.847Z"
   },
   {
    "duration": 220,
    "start_time": "2023-07-07T08:03:03.866Z"
   },
   {
    "duration": 6,
    "start_time": "2023-07-07T08:03:04.088Z"
   },
   {
    "duration": 13,
    "start_time": "2023-07-07T08:03:04.096Z"
   },
   {
    "duration": 14,
    "start_time": "2023-07-07T08:03:04.111Z"
   },
   {
    "duration": 24,
    "start_time": "2023-07-07T08:03:04.127Z"
   },
   {
    "duration": 32,
    "start_time": "2023-07-07T08:03:04.153Z"
   },
   {
    "duration": 16,
    "start_time": "2023-07-07T08:03:04.187Z"
   },
   {
    "duration": 23,
    "start_time": "2023-07-07T08:03:04.206Z"
   },
   {
    "duration": 26,
    "start_time": "2023-07-07T08:03:04.231Z"
   },
   {
    "duration": 26,
    "start_time": "2023-07-07T08:03:04.259Z"
   },
   {
    "duration": 293,
    "start_time": "2023-07-07T08:03:04.287Z"
   },
   {
    "duration": 0,
    "start_time": "2023-07-07T08:03:04.582Z"
   },
   {
    "duration": 0,
    "start_time": "2023-07-07T08:03:04.584Z"
   },
   {
    "duration": 0,
    "start_time": "2023-07-07T08:03:04.586Z"
   },
   {
    "duration": 0,
    "start_time": "2023-07-07T08:03:04.588Z"
   },
   {
    "duration": 0,
    "start_time": "2023-07-07T08:03:04.589Z"
   },
   {
    "duration": 0,
    "start_time": "2023-07-07T08:03:04.592Z"
   },
   {
    "duration": 0,
    "start_time": "2023-07-07T08:03:04.593Z"
   },
   {
    "duration": 0,
    "start_time": "2023-07-07T08:03:04.595Z"
   },
   {
    "duration": 0,
    "start_time": "2023-07-07T08:03:04.596Z"
   },
   {
    "duration": 0,
    "start_time": "2023-07-07T08:03:04.598Z"
   },
   {
    "duration": 0,
    "start_time": "2023-07-07T08:03:04.600Z"
   },
   {
    "duration": 1,
    "start_time": "2023-07-07T08:03:04.601Z"
   },
   {
    "duration": 0,
    "start_time": "2023-07-07T08:03:04.603Z"
   },
   {
    "duration": 0,
    "start_time": "2023-07-07T08:03:04.605Z"
   },
   {
    "duration": 0,
    "start_time": "2023-07-07T08:03:04.606Z"
   },
   {
    "duration": 0,
    "start_time": "2023-07-07T08:03:04.608Z"
   },
   {
    "duration": 0,
    "start_time": "2023-07-07T08:03:04.609Z"
   },
   {
    "duration": 0,
    "start_time": "2023-07-07T08:03:04.610Z"
   },
   {
    "duration": 0,
    "start_time": "2023-07-07T08:03:04.611Z"
   },
   {
    "duration": 0,
    "start_time": "2023-07-07T08:03:04.612Z"
   },
   {
    "duration": 0,
    "start_time": "2023-07-07T08:03:04.613Z"
   },
   {
    "duration": 0,
    "start_time": "2023-07-07T08:03:04.615Z"
   },
   {
    "duration": 0,
    "start_time": "2023-07-07T08:03:04.616Z"
   },
   {
    "duration": 0,
    "start_time": "2023-07-07T08:03:04.617Z"
   },
   {
    "duration": 0,
    "start_time": "2023-07-07T08:03:04.618Z"
   },
   {
    "duration": 0,
    "start_time": "2023-07-07T08:03:04.674Z"
   },
   {
    "duration": 0,
    "start_time": "2023-07-07T08:03:04.675Z"
   },
   {
    "duration": 0,
    "start_time": "2023-07-07T08:03:04.682Z"
   },
   {
    "duration": 0,
    "start_time": "2023-07-07T08:03:04.683Z"
   },
   {
    "duration": 0,
    "start_time": "2023-07-07T08:03:04.685Z"
   },
   {
    "duration": 0,
    "start_time": "2023-07-07T08:03:04.686Z"
   },
   {
    "duration": 0,
    "start_time": "2023-07-07T08:03:04.687Z"
   },
   {
    "duration": 0,
    "start_time": "2023-07-07T08:03:04.689Z"
   },
   {
    "duration": 0,
    "start_time": "2023-07-07T08:03:04.691Z"
   },
   {
    "duration": 0,
    "start_time": "2023-07-07T08:03:04.692Z"
   },
   {
    "duration": 0,
    "start_time": "2023-07-07T08:03:04.693Z"
   },
   {
    "duration": 0,
    "start_time": "2023-07-07T08:03:04.695Z"
   },
   {
    "duration": 0,
    "start_time": "2023-07-07T08:03:04.697Z"
   },
   {
    "duration": 0,
    "start_time": "2023-07-07T08:03:04.699Z"
   },
   {
    "duration": 0,
    "start_time": "2023-07-07T08:03:04.701Z"
   },
   {
    "duration": 0,
    "start_time": "2023-07-07T08:03:04.702Z"
   },
   {
    "duration": 0,
    "start_time": "2023-07-07T08:03:04.704Z"
   },
   {
    "duration": 0,
    "start_time": "2023-07-07T08:03:04.706Z"
   },
   {
    "duration": 0,
    "start_time": "2023-07-07T08:03:04.707Z"
   },
   {
    "duration": 0,
    "start_time": "2023-07-07T08:03:04.709Z"
   },
   {
    "duration": 0,
    "start_time": "2023-07-07T08:03:04.711Z"
   },
   {
    "duration": 0,
    "start_time": "2023-07-07T08:03:04.712Z"
   },
   {
    "duration": 0,
    "start_time": "2023-07-07T08:03:04.714Z"
   },
   {
    "duration": 0,
    "start_time": "2023-07-07T08:03:04.768Z"
   },
   {
    "duration": 0,
    "start_time": "2023-07-07T08:03:04.769Z"
   },
   {
    "duration": 0,
    "start_time": "2023-07-07T08:03:04.771Z"
   },
   {
    "duration": 0,
    "start_time": "2023-07-07T08:03:04.772Z"
   },
   {
    "duration": 0,
    "start_time": "2023-07-07T08:03:04.773Z"
   },
   {
    "duration": 0,
    "start_time": "2023-07-07T08:03:04.773Z"
   },
   {
    "duration": 0,
    "start_time": "2023-07-07T08:03:04.774Z"
   },
   {
    "duration": 0,
    "start_time": "2023-07-07T08:03:04.775Z"
   },
   {
    "duration": 0,
    "start_time": "2023-07-07T08:03:04.776Z"
   },
   {
    "duration": 0,
    "start_time": "2023-07-07T08:03:04.777Z"
   },
   {
    "duration": 0,
    "start_time": "2023-07-07T08:03:04.778Z"
   },
   {
    "duration": 0,
    "start_time": "2023-07-07T08:03:04.779Z"
   },
   {
    "duration": 0,
    "start_time": "2023-07-07T08:03:04.782Z"
   },
   {
    "duration": 0,
    "start_time": "2023-07-07T08:03:04.783Z"
   },
   {
    "duration": 0,
    "start_time": "2023-07-07T08:03:04.783Z"
   },
   {
    "duration": 11,
    "start_time": "2023-07-07T08:11:12.294Z"
   },
   {
    "duration": 2610,
    "start_time": "2023-07-07T08:11:37.414Z"
   },
   {
    "duration": 2352,
    "start_time": "2023-07-07T08:11:40.026Z"
   },
   {
    "duration": 2627,
    "start_time": "2023-07-07T08:11:42.379Z"
   },
   {
    "duration": 2066,
    "start_time": "2023-07-07T08:11:45.008Z"
   },
   {
    "duration": 1838,
    "start_time": "2023-07-07T08:11:47.076Z"
   },
   {
    "duration": 113,
    "start_time": "2023-07-07T08:11:48.916Z"
   },
   {
    "duration": 115,
    "start_time": "2023-07-07T08:11:49.031Z"
   },
   {
    "duration": 19,
    "start_time": "2023-07-07T08:11:49.148Z"
   },
   {
    "duration": 9,
    "start_time": "2023-07-07T08:11:49.169Z"
   },
   {
    "duration": 8,
    "start_time": "2023-07-07T08:11:49.180Z"
   },
   {
    "duration": 13,
    "start_time": "2023-07-07T08:11:49.189Z"
   },
   {
    "duration": 10,
    "start_time": "2023-07-07T08:11:49.203Z"
   },
   {
    "duration": 298,
    "start_time": "2023-07-07T08:11:49.215Z"
   },
   {
    "duration": 157,
    "start_time": "2023-07-07T08:11:49.516Z"
   },
   {
    "duration": 160,
    "start_time": "2023-07-07T08:11:49.674Z"
   },
   {
    "duration": 160,
    "start_time": "2023-07-07T08:11:49.836Z"
   },
   {
    "duration": 8,
    "start_time": "2023-07-07T08:11:49.998Z"
   },
   {
    "duration": 325,
    "start_time": "2023-07-07T08:11:50.007Z"
   },
   {
    "duration": 9,
    "start_time": "2023-07-07T08:11:50.334Z"
   },
   {
    "duration": 26,
    "start_time": "2023-07-07T08:11:50.345Z"
   },
   {
    "duration": 10,
    "start_time": "2023-07-07T08:11:50.373Z"
   },
   {
    "duration": 17,
    "start_time": "2023-07-07T08:11:50.384Z"
   },
   {
    "duration": 134,
    "start_time": "2023-07-07T08:11:50.403Z"
   },
   {
    "duration": 9,
    "start_time": "2023-07-07T08:11:50.538Z"
   },
   {
    "duration": 22,
    "start_time": "2023-07-07T08:11:50.549Z"
   },
   {
    "duration": 16,
    "start_time": "2023-07-07T08:11:50.573Z"
   },
   {
    "duration": 17,
    "start_time": "2023-07-07T08:11:50.591Z"
   },
   {
    "duration": 15,
    "start_time": "2023-07-07T08:11:50.610Z"
   },
   {
    "duration": 14,
    "start_time": "2023-07-07T08:11:50.627Z"
   },
   {
    "duration": 11,
    "start_time": "2023-07-07T08:11:50.643Z"
   },
   {
    "duration": 1161,
    "start_time": "2023-07-07T08:11:50.656Z"
   },
   {
    "duration": 10,
    "start_time": "2023-07-07T08:11:51.820Z"
   },
   {
    "duration": 18,
    "start_time": "2023-07-07T08:11:51.832Z"
   },
   {
    "duration": 16,
    "start_time": "2023-07-07T08:11:51.852Z"
   },
   {
    "duration": 24,
    "start_time": "2023-07-07T08:11:51.870Z"
   },
   {
    "duration": 41,
    "start_time": "2023-07-07T08:11:51.896Z"
   },
   {
    "duration": 17,
    "start_time": "2023-07-07T08:11:51.939Z"
   },
   {
    "duration": 17,
    "start_time": "2023-07-07T08:11:51.958Z"
   },
   {
    "duration": 23,
    "start_time": "2023-07-07T08:11:51.978Z"
   },
   {
    "duration": 141,
    "start_time": "2023-07-07T08:11:52.003Z"
   },
   {
    "duration": 35,
    "start_time": "2023-07-07T08:11:52.150Z"
   },
   {
    "duration": 29,
    "start_time": "2023-07-07T08:11:52.187Z"
   },
   {
    "duration": 159,
    "start_time": "2023-07-07T08:11:52.218Z"
   },
   {
    "duration": 5,
    "start_time": "2023-07-07T08:11:52.378Z"
   },
   {
    "duration": 26,
    "start_time": "2023-07-07T08:11:52.385Z"
   },
   {
    "duration": 8,
    "start_time": "2023-07-07T08:11:52.414Z"
   },
   {
    "duration": 15,
    "start_time": "2023-07-07T08:11:52.424Z"
   },
   {
    "duration": 42,
    "start_time": "2023-07-07T08:11:52.441Z"
   },
   {
    "duration": 35,
    "start_time": "2023-07-07T08:11:52.486Z"
   },
   {
    "duration": 12,
    "start_time": "2023-07-07T08:11:52.523Z"
   },
   {
    "duration": 24,
    "start_time": "2023-07-07T08:11:52.537Z"
   },
   {
    "duration": 16,
    "start_time": "2023-07-07T08:11:52.563Z"
   },
   {
    "duration": 64,
    "start_time": "2023-07-07T08:11:52.580Z"
   },
   {
    "duration": 21,
    "start_time": "2023-07-07T08:11:52.646Z"
   },
   {
    "duration": 24,
    "start_time": "2023-07-07T08:11:52.669Z"
   },
   {
    "duration": 24,
    "start_time": "2023-07-07T08:11:52.695Z"
   },
   {
    "duration": 11,
    "start_time": "2023-07-07T08:11:52.720Z"
   },
   {
    "duration": 19,
    "start_time": "2023-07-07T08:11:52.733Z"
   },
   {
    "duration": 4,
    "start_time": "2023-07-07T08:11:52.754Z"
   },
   {
    "duration": 28,
    "start_time": "2023-07-07T08:11:52.759Z"
   },
   {
    "duration": 173,
    "start_time": "2023-07-07T08:11:52.789Z"
   },
   {
    "duration": 0,
    "start_time": "2023-07-07T08:11:52.964Z"
   },
   {
    "duration": 0,
    "start_time": "2023-07-07T08:11:52.965Z"
   },
   {
    "duration": 0,
    "start_time": "2023-07-07T08:11:52.966Z"
   },
   {
    "duration": 0,
    "start_time": "2023-07-07T08:11:52.967Z"
   },
   {
    "duration": 0,
    "start_time": "2023-07-07T08:11:52.968Z"
   },
   {
    "duration": 0,
    "start_time": "2023-07-07T08:11:52.969Z"
   },
   {
    "duration": 0,
    "start_time": "2023-07-07T08:11:52.971Z"
   },
   {
    "duration": 0,
    "start_time": "2023-07-07T08:11:52.972Z"
   },
   {
    "duration": 0,
    "start_time": "2023-07-07T08:11:52.973Z"
   },
   {
    "duration": 0,
    "start_time": "2023-07-07T08:11:52.975Z"
   },
   {
    "duration": 0,
    "start_time": "2023-07-07T08:11:52.976Z"
   },
   {
    "duration": 0,
    "start_time": "2023-07-07T08:11:52.977Z"
   },
   {
    "duration": 0,
    "start_time": "2023-07-07T08:11:52.978Z"
   },
   {
    "duration": 0,
    "start_time": "2023-07-07T08:11:52.979Z"
   },
   {
    "duration": 0,
    "start_time": "2023-07-07T08:11:52.981Z"
   },
   {
    "duration": 0,
    "start_time": "2023-07-07T08:11:52.982Z"
   },
   {
    "duration": 0,
    "start_time": "2023-07-07T08:11:52.984Z"
   },
   {
    "duration": 0,
    "start_time": "2023-07-07T08:11:52.985Z"
   },
   {
    "duration": 0,
    "start_time": "2023-07-07T08:11:52.987Z"
   },
   {
    "duration": 0,
    "start_time": "2023-07-07T08:11:52.989Z"
   },
   {
    "duration": 0,
    "start_time": "2023-07-07T08:11:52.990Z"
   },
   {
    "duration": 0,
    "start_time": "2023-07-07T08:11:52.992Z"
   },
   {
    "duration": 0,
    "start_time": "2023-07-07T08:11:52.993Z"
   },
   {
    "duration": 0,
    "start_time": "2023-07-07T08:11:52.995Z"
   },
   {
    "duration": 0,
    "start_time": "2023-07-07T08:11:52.997Z"
   },
   {
    "duration": 0,
    "start_time": "2023-07-07T08:11:53.000Z"
   },
   {
    "duration": 0,
    "start_time": "2023-07-07T08:11:53.001Z"
   },
   {
    "duration": 0,
    "start_time": "2023-07-07T08:11:53.003Z"
   },
   {
    "duration": 0,
    "start_time": "2023-07-07T08:11:53.004Z"
   },
   {
    "duration": 0,
    "start_time": "2023-07-07T08:11:53.006Z"
   },
   {
    "duration": 0,
    "start_time": "2023-07-07T08:11:53.007Z"
   },
   {
    "duration": 0,
    "start_time": "2023-07-07T08:11:53.070Z"
   },
   {
    "duration": 0,
    "start_time": "2023-07-07T08:11:53.072Z"
   },
   {
    "duration": 0,
    "start_time": "2023-07-07T08:11:53.074Z"
   },
   {
    "duration": 0,
    "start_time": "2023-07-07T08:11:53.076Z"
   },
   {
    "duration": 0,
    "start_time": "2023-07-07T08:11:53.079Z"
   },
   {
    "duration": 0,
    "start_time": "2023-07-07T08:11:53.080Z"
   },
   {
    "duration": 0,
    "start_time": "2023-07-07T08:11:53.081Z"
   },
   {
    "duration": 0,
    "start_time": "2023-07-07T08:11:53.082Z"
   },
   {
    "duration": 0,
    "start_time": "2023-07-07T08:11:53.084Z"
   },
   {
    "duration": 0,
    "start_time": "2023-07-07T08:11:53.085Z"
   },
   {
    "duration": 0,
    "start_time": "2023-07-07T08:11:53.086Z"
   },
   {
    "duration": 0,
    "start_time": "2023-07-07T08:11:53.087Z"
   },
   {
    "duration": 0,
    "start_time": "2023-07-07T08:11:53.089Z"
   },
   {
    "duration": 0,
    "start_time": "2023-07-07T08:11:53.090Z"
   },
   {
    "duration": 0,
    "start_time": "2023-07-07T08:11:53.091Z"
   },
   {
    "duration": 0,
    "start_time": "2023-07-07T08:11:53.092Z"
   },
   {
    "duration": 0,
    "start_time": "2023-07-07T08:11:53.093Z"
   },
   {
    "duration": 0,
    "start_time": "2023-07-07T08:11:53.095Z"
   },
   {
    "duration": 0,
    "start_time": "2023-07-07T08:11:53.096Z"
   },
   {
    "duration": 0,
    "start_time": "2023-07-07T08:11:53.097Z"
   },
   {
    "duration": 0,
    "start_time": "2023-07-07T08:11:53.098Z"
   },
   {
    "duration": 0,
    "start_time": "2023-07-07T08:11:53.100Z"
   },
   {
    "duration": 0,
    "start_time": "2023-07-07T08:11:53.101Z"
   },
   {
    "duration": 0,
    "start_time": "2023-07-07T08:11:53.103Z"
   },
   {
    "duration": 2976,
    "start_time": "2023-07-07T08:18:38.693Z"
   },
   {
    "duration": 2391,
    "start_time": "2023-07-07T08:18:41.672Z"
   },
   {
    "duration": 2590,
    "start_time": "2023-07-07T08:18:44.066Z"
   },
   {
    "duration": 2290,
    "start_time": "2023-07-07T08:18:46.659Z"
   },
   {
    "duration": 1815,
    "start_time": "2023-07-07T08:18:48.952Z"
   },
   {
    "duration": 110,
    "start_time": "2023-07-07T08:18:50.769Z"
   },
   {
    "duration": 101,
    "start_time": "2023-07-07T08:18:50.881Z"
   },
   {
    "duration": 56,
    "start_time": "2023-07-07T08:18:50.984Z"
   },
   {
    "duration": 33,
    "start_time": "2023-07-07T08:18:51.042Z"
   },
   {
    "duration": 41,
    "start_time": "2023-07-07T08:18:51.077Z"
   },
   {
    "duration": 42,
    "start_time": "2023-07-07T08:18:51.119Z"
   },
   {
    "duration": 46,
    "start_time": "2023-07-07T08:18:51.163Z"
   },
   {
    "duration": 284,
    "start_time": "2023-07-07T08:18:51.211Z"
   },
   {
    "duration": 164,
    "start_time": "2023-07-07T08:18:51.500Z"
   },
   {
    "duration": 150,
    "start_time": "2023-07-07T08:18:51.666Z"
   },
   {
    "duration": 159,
    "start_time": "2023-07-07T08:18:51.818Z"
   },
   {
    "duration": 7,
    "start_time": "2023-07-07T08:18:51.979Z"
   },
   {
    "duration": 316,
    "start_time": "2023-07-07T08:18:51.988Z"
   },
   {
    "duration": 11,
    "start_time": "2023-07-07T08:18:52.306Z"
   },
   {
    "duration": 67,
    "start_time": "2023-07-07T08:18:52.318Z"
   },
   {
    "duration": 38,
    "start_time": "2023-07-07T08:18:52.386Z"
   },
   {
    "duration": 32,
    "start_time": "2023-07-07T08:18:52.426Z"
   },
   {
    "duration": 153,
    "start_time": "2023-07-07T08:18:52.460Z"
   },
   {
    "duration": 8,
    "start_time": "2023-07-07T08:18:52.616Z"
   },
   {
    "duration": 35,
    "start_time": "2023-07-07T08:18:52.625Z"
   },
   {
    "duration": 36,
    "start_time": "2023-07-07T08:18:52.662Z"
   },
   {
    "duration": 40,
    "start_time": "2023-07-07T08:18:52.699Z"
   },
   {
    "duration": 22,
    "start_time": "2023-07-07T08:18:52.742Z"
   },
   {
    "duration": 51,
    "start_time": "2023-07-07T08:18:52.766Z"
   },
   {
    "duration": 19,
    "start_time": "2023-07-07T08:18:52.818Z"
   },
   {
    "duration": 1086,
    "start_time": "2023-07-07T08:18:52.839Z"
   },
   {
    "duration": 9,
    "start_time": "2023-07-07T08:18:53.928Z"
   },
   {
    "duration": 28,
    "start_time": "2023-07-07T08:18:53.940Z"
   },
   {
    "duration": 21,
    "start_time": "2023-07-07T08:18:53.970Z"
   },
   {
    "duration": 40,
    "start_time": "2023-07-07T08:18:53.993Z"
   },
   {
    "duration": 19,
    "start_time": "2023-07-07T08:18:54.036Z"
   },
   {
    "duration": 26,
    "start_time": "2023-07-07T08:18:54.057Z"
   },
   {
    "duration": 19,
    "start_time": "2023-07-07T08:18:54.085Z"
   },
   {
    "duration": 15,
    "start_time": "2023-07-07T08:18:54.107Z"
   },
   {
    "duration": 155,
    "start_time": "2023-07-07T08:18:54.125Z"
   },
   {
    "duration": 18,
    "start_time": "2023-07-07T08:18:54.286Z"
   },
   {
    "duration": 13,
    "start_time": "2023-07-07T08:18:54.305Z"
   },
   {
    "duration": 140,
    "start_time": "2023-07-07T08:18:54.320Z"
   },
   {
    "duration": 5,
    "start_time": "2023-07-07T08:18:54.462Z"
   },
   {
    "duration": 17,
    "start_time": "2023-07-07T08:18:54.469Z"
   },
   {
    "duration": 18,
    "start_time": "2023-07-07T08:18:54.488Z"
   },
   {
    "duration": 21,
    "start_time": "2023-07-07T08:18:54.508Z"
   },
   {
    "duration": 26,
    "start_time": "2023-07-07T08:18:54.531Z"
   },
   {
    "duration": 17,
    "start_time": "2023-07-07T08:18:54.559Z"
   },
   {
    "duration": 9,
    "start_time": "2023-07-07T08:18:54.578Z"
   },
   {
    "duration": 12,
    "start_time": "2023-07-07T08:18:54.589Z"
   },
   {
    "duration": 21,
    "start_time": "2023-07-07T08:18:54.602Z"
   },
   {
    "duration": 8,
    "start_time": "2023-07-07T08:18:54.625Z"
   },
   {
    "duration": 21,
    "start_time": "2023-07-07T08:18:54.634Z"
   },
   {
    "duration": 3,
    "start_time": "2023-07-07T08:18:54.657Z"
   },
   {
    "duration": 22,
    "start_time": "2023-07-07T08:18:54.662Z"
   },
   {
    "duration": 13,
    "start_time": "2023-07-07T08:18:54.686Z"
   },
   {
    "duration": 19,
    "start_time": "2023-07-07T08:18:54.701Z"
   },
   {
    "duration": 3,
    "start_time": "2023-07-07T08:18:54.722Z"
   },
   {
    "duration": 35,
    "start_time": "2023-07-07T08:18:54.727Z"
   },
   {
    "duration": 13,
    "start_time": "2023-07-07T08:18:54.764Z"
   },
   {
    "duration": 25,
    "start_time": "2023-07-07T08:18:54.779Z"
   },
   {
    "duration": 36,
    "start_time": "2023-07-07T08:18:54.806Z"
   },
   {
    "duration": 2212,
    "start_time": "2023-07-07T08:18:54.844Z"
   },
   {
    "duration": 2827,
    "start_time": "2023-07-07T08:18:57.058Z"
   },
   {
    "duration": 2248,
    "start_time": "2023-07-07T08:18:59.887Z"
   },
   {
    "duration": 182,
    "start_time": "2023-07-07T08:19:02.138Z"
   },
   {
    "duration": 6,
    "start_time": "2023-07-07T08:19:02.323Z"
   },
   {
    "duration": 33,
    "start_time": "2023-07-07T08:19:02.331Z"
   },
   {
    "duration": 4288,
    "start_time": "2023-07-07T08:19:02.366Z"
   },
   {
    "duration": 559,
    "start_time": "2023-07-07T08:19:06.656Z"
   },
   {
    "duration": 5,
    "start_time": "2023-07-07T08:19:07.217Z"
   },
   {
    "duration": 15,
    "start_time": "2023-07-07T08:19:07.224Z"
   },
   {
    "duration": 12,
    "start_time": "2023-07-07T08:19:07.241Z"
   },
   {
    "duration": 14,
    "start_time": "2023-07-07T08:19:07.255Z"
   },
   {
    "duration": 11,
    "start_time": "2023-07-07T08:19:07.271Z"
   },
   {
    "duration": 42,
    "start_time": "2023-07-07T08:19:07.284Z"
   },
   {
    "duration": 5,
    "start_time": "2023-07-07T08:19:07.328Z"
   },
   {
    "duration": 9,
    "start_time": "2023-07-07T08:19:07.335Z"
   },
   {
    "duration": 17,
    "start_time": "2023-07-07T08:19:07.345Z"
   },
   {
    "duration": 13,
    "start_time": "2023-07-07T08:19:07.367Z"
   },
   {
    "duration": 24,
    "start_time": "2023-07-07T08:19:07.382Z"
   },
   {
    "duration": 14,
    "start_time": "2023-07-07T08:19:07.408Z"
   },
   {
    "duration": 23,
    "start_time": "2023-07-07T08:19:07.424Z"
   },
   {
    "duration": 70,
    "start_time": "2023-07-07T08:19:07.449Z"
   },
   {
    "duration": 6,
    "start_time": "2023-07-07T08:19:07.521Z"
   },
   {
    "duration": 49,
    "start_time": "2023-07-07T08:19:07.528Z"
   },
   {
    "duration": 4,
    "start_time": "2023-07-07T08:19:07.579Z"
   },
   {
    "duration": 49,
    "start_time": "2023-07-07T08:19:07.585Z"
   },
   {
    "duration": 7,
    "start_time": "2023-07-07T08:19:07.636Z"
   },
   {
    "duration": 22,
    "start_time": "2023-07-07T08:19:07.645Z"
   },
   {
    "duration": 4,
    "start_time": "2023-07-07T08:19:07.669Z"
   },
   {
    "duration": 14,
    "start_time": "2023-07-07T08:19:07.674Z"
   },
   {
    "duration": 592,
    "start_time": "2023-07-07T08:19:07.689Z"
   },
   {
    "duration": 650,
    "start_time": "2023-07-07T08:19:08.368Z"
   },
   {
    "duration": 19662,
    "start_time": "2023-07-07T08:19:09.019Z"
   },
   {
    "duration": 5,
    "start_time": "2023-07-07T08:19:28.682Z"
   },
   {
    "duration": 39,
    "start_time": "2023-07-07T08:19:28.689Z"
   },
   {
    "duration": 61819,
    "start_time": "2023-07-07T08:19:28.730Z"
   },
   {
    "duration": 0,
    "start_time": "2023-07-07T08:20:30.551Z"
   },
   {
    "duration": 0,
    "start_time": "2023-07-07T08:20:30.552Z"
   },
   {
    "duration": 0,
    "start_time": "2023-07-07T08:20:30.553Z"
   },
   {
    "duration": 0,
    "start_time": "2023-07-07T08:20:30.554Z"
   },
   {
    "duration": 0,
    "start_time": "2023-07-07T08:20:30.555Z"
   },
   {
    "duration": 0,
    "start_time": "2023-07-07T08:20:30.557Z"
   },
   {
    "duration": 0,
    "start_time": "2023-07-07T08:20:30.559Z"
   },
   {
    "duration": 0,
    "start_time": "2023-07-07T08:20:30.560Z"
   },
   {
    "duration": 0,
    "start_time": "2023-07-07T08:20:30.562Z"
   },
   {
    "duration": 0,
    "start_time": "2023-07-07T08:20:30.563Z"
   },
   {
    "duration": 0,
    "start_time": "2023-07-07T08:20:30.565Z"
   },
   {
    "duration": 0,
    "start_time": "2023-07-07T08:20:30.566Z"
   },
   {
    "duration": 0,
    "start_time": "2023-07-07T08:20:30.567Z"
   },
   {
    "duration": 0,
    "start_time": "2023-07-07T08:20:30.568Z"
   },
   {
    "duration": 1,
    "start_time": "2023-07-07T08:20:30.569Z"
   },
   {
    "duration": 0,
    "start_time": "2023-07-07T08:20:30.571Z"
   },
   {
    "duration": 0,
    "start_time": "2023-07-07T08:20:30.572Z"
   },
   {
    "duration": 2798,
    "start_time": "2023-07-07T08:21:05.422Z"
   },
   {
    "duration": 2286,
    "start_time": "2023-07-07T08:21:08.223Z"
   },
   {
    "duration": 2426,
    "start_time": "2023-07-07T08:21:10.511Z"
   },
   {
    "duration": 2116,
    "start_time": "2023-07-07T08:21:12.940Z"
   },
   {
    "duration": 1747,
    "start_time": "2023-07-07T08:21:15.060Z"
   },
   {
    "duration": 105,
    "start_time": "2023-07-07T08:21:16.808Z"
   },
   {
    "duration": 91,
    "start_time": "2023-07-07T08:21:16.915Z"
   },
   {
    "duration": 13,
    "start_time": "2023-07-07T08:21:17.008Z"
   },
   {
    "duration": 30,
    "start_time": "2023-07-07T08:21:17.022Z"
   },
   {
    "duration": 9,
    "start_time": "2023-07-07T08:21:17.053Z"
   },
   {
    "duration": 8,
    "start_time": "2023-07-07T08:21:17.063Z"
   },
   {
    "duration": 22,
    "start_time": "2023-07-07T08:21:17.073Z"
   },
   {
    "duration": 252,
    "start_time": "2023-07-07T08:21:17.096Z"
   },
   {
    "duration": 144,
    "start_time": "2023-07-07T08:21:17.351Z"
   },
   {
    "duration": 150,
    "start_time": "2023-07-07T08:21:17.497Z"
   },
   {
    "duration": 141,
    "start_time": "2023-07-07T08:21:17.649Z"
   },
   {
    "duration": 9,
    "start_time": "2023-07-07T08:21:17.792Z"
   },
   {
    "duration": 268,
    "start_time": "2023-07-07T08:21:17.802Z"
   },
   {
    "duration": 8,
    "start_time": "2023-07-07T08:21:18.072Z"
   },
   {
    "duration": 15,
    "start_time": "2023-07-07T08:21:18.081Z"
   },
   {
    "duration": 7,
    "start_time": "2023-07-07T08:21:18.097Z"
   },
   {
    "duration": 7,
    "start_time": "2023-07-07T08:21:18.106Z"
   },
   {
    "duration": 130,
    "start_time": "2023-07-07T08:21:18.115Z"
   },
   {
    "duration": 7,
    "start_time": "2023-07-07T08:21:18.247Z"
   },
   {
    "duration": 11,
    "start_time": "2023-07-07T08:21:18.266Z"
   },
   {
    "duration": 9,
    "start_time": "2023-07-07T08:21:18.279Z"
   },
   {
    "duration": 12,
    "start_time": "2023-07-07T08:21:18.290Z"
   },
   {
    "duration": 17,
    "start_time": "2023-07-07T08:21:18.303Z"
   },
   {
    "duration": 6,
    "start_time": "2023-07-07T08:21:18.322Z"
   },
   {
    "duration": 8,
    "start_time": "2023-07-07T08:21:18.329Z"
   },
   {
    "duration": 1010,
    "start_time": "2023-07-07T08:21:18.339Z"
   },
   {
    "duration": 7,
    "start_time": "2023-07-07T08:21:19.350Z"
   },
   {
    "duration": 10,
    "start_time": "2023-07-07T08:21:19.359Z"
   },
   {
    "duration": 8,
    "start_time": "2023-07-07T08:21:19.370Z"
   },
   {
    "duration": 7,
    "start_time": "2023-07-07T08:21:19.380Z"
   },
   {
    "duration": 12,
    "start_time": "2023-07-07T08:21:19.388Z"
   },
   {
    "duration": 6,
    "start_time": "2023-07-07T08:21:19.402Z"
   },
   {
    "duration": 29,
    "start_time": "2023-07-07T08:21:19.409Z"
   },
   {
    "duration": 28,
    "start_time": "2023-07-07T08:21:19.440Z"
   },
   {
    "duration": 122,
    "start_time": "2023-07-07T08:21:19.470Z"
   },
   {
    "duration": 7,
    "start_time": "2023-07-07T08:21:19.598Z"
   },
   {
    "duration": 11,
    "start_time": "2023-07-07T08:21:19.607Z"
   },
   {
    "duration": 134,
    "start_time": "2023-07-07T08:21:19.619Z"
   },
   {
    "duration": 4,
    "start_time": "2023-07-07T08:21:19.755Z"
   },
   {
    "duration": 17,
    "start_time": "2023-07-07T08:21:19.767Z"
   },
   {
    "duration": 14,
    "start_time": "2023-07-07T08:21:19.786Z"
   },
   {
    "duration": 10,
    "start_time": "2023-07-07T08:21:19.802Z"
   },
   {
    "duration": 30,
    "start_time": "2023-07-07T08:21:19.813Z"
   },
   {
    "duration": 8,
    "start_time": "2023-07-07T08:21:19.845Z"
   },
   {
    "duration": 7,
    "start_time": "2023-07-07T08:21:19.854Z"
   },
   {
    "duration": 11,
    "start_time": "2023-07-07T08:21:19.863Z"
   },
   {
    "duration": 21,
    "start_time": "2023-07-07T08:21:19.876Z"
   },
   {
    "duration": 27,
    "start_time": "2023-07-07T08:21:19.899Z"
   },
   {
    "duration": 26,
    "start_time": "2023-07-07T08:21:19.928Z"
   },
   {
    "duration": 3,
    "start_time": "2023-07-07T08:21:19.955Z"
   },
   {
    "duration": 40,
    "start_time": "2023-07-07T08:21:19.960Z"
   },
   {
    "duration": 13,
    "start_time": "2023-07-07T08:21:20.001Z"
   },
   {
    "duration": 23,
    "start_time": "2023-07-07T08:21:20.016Z"
   },
   {
    "duration": 8,
    "start_time": "2023-07-07T08:21:20.041Z"
   },
   {
    "duration": 7,
    "start_time": "2023-07-07T08:21:20.050Z"
   },
   {
    "duration": 15,
    "start_time": "2023-07-07T08:21:20.058Z"
   },
   {
    "duration": 26,
    "start_time": "2023-07-07T08:21:20.075Z"
   },
   {
    "duration": 32,
    "start_time": "2023-07-07T08:21:20.103Z"
   },
   {
    "duration": 2161,
    "start_time": "2023-07-07T08:21:20.137Z"
   },
   {
    "duration": 2789,
    "start_time": "2023-07-07T08:21:22.301Z"
   },
   {
    "duration": 2190,
    "start_time": "2023-07-07T08:21:25.092Z"
   },
   {
    "duration": 178,
    "start_time": "2023-07-07T08:21:27.284Z"
   },
   {
    "duration": 7,
    "start_time": "2023-07-07T08:21:27.467Z"
   },
   {
    "duration": 10,
    "start_time": "2023-07-07T08:21:27.475Z"
   },
   {
    "duration": 4043,
    "start_time": "2023-07-07T08:21:27.487Z"
   },
   {
    "duration": 528,
    "start_time": "2023-07-07T08:21:31.532Z"
   },
   {
    "duration": 9,
    "start_time": "2023-07-07T08:21:32.062Z"
   },
   {
    "duration": 44,
    "start_time": "2023-07-07T08:21:32.073Z"
   },
   {
    "duration": 36,
    "start_time": "2023-07-07T08:21:32.119Z"
   },
   {
    "duration": 33,
    "start_time": "2023-07-07T08:21:32.157Z"
   },
   {
    "duration": 23,
    "start_time": "2023-07-07T08:21:32.192Z"
   },
   {
    "duration": 75,
    "start_time": "2023-07-07T08:21:32.216Z"
   },
   {
    "duration": 8,
    "start_time": "2023-07-07T08:21:32.293Z"
   },
   {
    "duration": 34,
    "start_time": "2023-07-07T08:21:32.302Z"
   },
   {
    "duration": 16,
    "start_time": "2023-07-07T08:21:32.338Z"
   },
   {
    "duration": 26,
    "start_time": "2023-07-07T08:21:32.356Z"
   },
   {
    "duration": 28,
    "start_time": "2023-07-07T08:21:32.384Z"
   },
   {
    "duration": 30,
    "start_time": "2023-07-07T08:21:32.414Z"
   },
   {
    "duration": 33,
    "start_time": "2023-07-07T08:21:32.446Z"
   },
   {
    "duration": 118,
    "start_time": "2023-07-07T08:21:32.481Z"
   },
   {
    "duration": 6,
    "start_time": "2023-07-07T08:21:32.601Z"
   },
   {
    "duration": 36,
    "start_time": "2023-07-07T08:21:32.609Z"
   },
   {
    "duration": 6,
    "start_time": "2023-07-07T08:21:32.649Z"
   },
   {
    "duration": 42,
    "start_time": "2023-07-07T08:21:32.657Z"
   },
   {
    "duration": 16,
    "start_time": "2023-07-07T08:21:32.700Z"
   },
   {
    "duration": 39,
    "start_time": "2023-07-07T08:21:32.718Z"
   },
   {
    "duration": 4,
    "start_time": "2023-07-07T08:21:32.759Z"
   },
   {
    "duration": 44,
    "start_time": "2023-07-07T08:21:32.764Z"
   },
   {
    "duration": 670,
    "start_time": "2023-07-07T08:21:32.809Z"
   },
   {
    "duration": 789,
    "start_time": "2023-07-07T08:21:33.481Z"
   },
   {
    "duration": 22797,
    "start_time": "2023-07-07T08:21:34.272Z"
   },
   {
    "duration": 4,
    "start_time": "2023-07-07T08:21:57.071Z"
   },
   {
    "duration": 19,
    "start_time": "2023-07-07T08:21:57.077Z"
   },
   {
    "duration": 99932,
    "start_time": "2023-07-07T08:21:57.098Z"
   },
   {
    "duration": 511990,
    "start_time": "2023-07-07T08:23:37.032Z"
   },
   {
    "duration": 4,
    "start_time": "2023-07-07T08:32:09.024Z"
   },
   {
    "duration": 14,
    "start_time": "2023-07-07T08:32:09.030Z"
   },
   {
    "duration": 16,
    "start_time": "2023-07-07T08:32:09.046Z"
   },
   {
    "duration": 1820909,
    "start_time": "2023-07-07T08:32:09.064Z"
   },
   {
    "duration": 4,
    "start_time": "2023-07-07T09:02:29.974Z"
   },
   {
    "duration": 1698,
    "start_time": "2023-07-07T09:02:29.979Z"
   },
   {
    "duration": 5595,
    "start_time": "2023-07-07T09:02:31.679Z"
   },
   {
    "duration": 4,
    "start_time": "2023-07-07T09:02:37.277Z"
   },
   {
    "duration": 32,
    "start_time": "2023-07-07T09:02:37.283Z"
   },
   {
    "duration": 26,
    "start_time": "2023-07-07T09:02:37.317Z"
   },
   {
    "duration": 3,
    "start_time": "2023-07-07T09:02:37.344Z"
   },
   {
    "duration": 10,
    "start_time": "2023-07-07T09:02:37.368Z"
   },
   {
    "duration": 46,
    "start_time": "2023-07-07T09:02:37.380Z"
   },
   {
    "duration": 224,
    "start_time": "2023-07-07T09:02:37.428Z"
   },
   {
    "duration": 14,
    "start_time": "2023-07-07T09:02:37.654Z"
   },
   {
    "duration": 283,
    "start_time": "2023-07-07T09:02:37.670Z"
   },
   {
    "duration": 205,
    "start_time": "2023-07-07T09:27:13.648Z"
   },
   {
    "duration": 139,
    "start_time": "2023-07-07T09:28:24.720Z"
   },
   {
    "duration": 67,
    "start_time": "2023-07-07T09:34:51.809Z"
   },
   {
    "duration": 78,
    "start_time": "2023-07-07T09:35:26.818Z"
   },
   {
    "duration": 82,
    "start_time": "2023-07-07T09:36:50.456Z"
   },
   {
    "duration": 104,
    "start_time": "2023-07-07T09:37:08.914Z"
   },
   {
    "duration": 82,
    "start_time": "2023-07-07T09:39:33.078Z"
   },
   {
    "duration": 92,
    "start_time": "2023-07-07T09:39:44.049Z"
   },
   {
    "duration": 82,
    "start_time": "2023-07-07T09:40:16.580Z"
   },
   {
    "duration": 47,
    "start_time": "2023-07-07T09:40:38.870Z"
   },
   {
    "duration": 81,
    "start_time": "2023-07-07T09:41:29.484Z"
   },
   {
    "duration": 120,
    "start_time": "2023-07-07T09:42:39.940Z"
   },
   {
    "duration": 178,
    "start_time": "2023-07-07T09:46:37.605Z"
   },
   {
    "duration": 102,
    "start_time": "2023-07-07T09:49:43.258Z"
   },
   {
    "duration": 89,
    "start_time": "2023-07-07T09:51:25.966Z"
   },
   {
    "duration": 95,
    "start_time": "2023-07-07T09:51:56.931Z"
   },
   {
    "duration": 109,
    "start_time": "2023-07-07T09:55:25.021Z"
   },
   {
    "duration": 3651,
    "start_time": "2023-07-07T09:55:51.533Z"
   },
   {
    "duration": 80,
    "start_time": "2023-07-07T09:56:29.423Z"
   },
   {
    "duration": 5418,
    "start_time": "2023-07-07T09:56:49.168Z"
   },
   {
    "duration": 2924,
    "start_time": "2023-07-07T09:57:46.384Z"
   },
   {
    "duration": 2458,
    "start_time": "2023-07-07T09:57:49.310Z"
   },
   {
    "duration": 2636,
    "start_time": "2023-07-07T09:57:51.770Z"
   },
   {
    "duration": 2157,
    "start_time": "2023-07-07T09:57:54.408Z"
   },
   {
    "duration": 1760,
    "start_time": "2023-07-07T09:57:56.568Z"
   },
   {
    "duration": 107,
    "start_time": "2023-07-07T09:57:58.330Z"
   },
   {
    "duration": 101,
    "start_time": "2023-07-07T09:57:58.438Z"
   },
   {
    "duration": 25,
    "start_time": "2023-07-07T09:57:58.542Z"
   },
   {
    "duration": 18,
    "start_time": "2023-07-07T09:57:58.569Z"
   },
   {
    "duration": 6,
    "start_time": "2023-07-07T09:57:58.588Z"
   },
   {
    "duration": 16,
    "start_time": "2023-07-07T09:57:58.595Z"
   },
   {
    "duration": 8,
    "start_time": "2023-07-07T09:57:58.612Z"
   },
   {
    "duration": 279,
    "start_time": "2023-07-07T09:57:58.622Z"
   },
   {
    "duration": 157,
    "start_time": "2023-07-07T09:57:58.904Z"
   },
   {
    "duration": 148,
    "start_time": "2023-07-07T09:57:59.063Z"
   },
   {
    "duration": 146,
    "start_time": "2023-07-07T09:57:59.212Z"
   },
   {
    "duration": 7,
    "start_time": "2023-07-07T09:57:59.366Z"
   },
   {
    "duration": 279,
    "start_time": "2023-07-07T09:57:59.375Z"
   },
   {
    "duration": 16,
    "start_time": "2023-07-07T09:57:59.655Z"
   },
   {
    "duration": 15,
    "start_time": "2023-07-07T09:57:59.672Z"
   },
   {
    "duration": 9,
    "start_time": "2023-07-07T09:57:59.689Z"
   },
   {
    "duration": 6,
    "start_time": "2023-07-07T09:57:59.699Z"
   },
   {
    "duration": 138,
    "start_time": "2023-07-07T09:57:59.707Z"
   },
   {
    "duration": 8,
    "start_time": "2023-07-07T09:57:59.847Z"
   },
   {
    "duration": 11,
    "start_time": "2023-07-07T09:57:59.857Z"
   },
   {
    "duration": 10,
    "start_time": "2023-07-07T09:57:59.869Z"
   },
   {
    "duration": 13,
    "start_time": "2023-07-07T09:57:59.880Z"
   },
   {
    "duration": 15,
    "start_time": "2023-07-07T09:57:59.895Z"
   },
   {
    "duration": 8,
    "start_time": "2023-07-07T09:57:59.911Z"
   },
   {
    "duration": 5,
    "start_time": "2023-07-07T09:57:59.921Z"
   },
   {
    "duration": 1102,
    "start_time": "2023-07-07T09:57:59.927Z"
   },
   {
    "duration": 7,
    "start_time": "2023-07-07T09:58:01.032Z"
   },
   {
    "duration": 44,
    "start_time": "2023-07-07T09:58:01.041Z"
   },
   {
    "duration": 21,
    "start_time": "2023-07-07T09:58:01.087Z"
   },
   {
    "duration": 38,
    "start_time": "2023-07-07T09:58:01.110Z"
   },
   {
    "duration": 36,
    "start_time": "2023-07-07T09:58:01.150Z"
   },
   {
    "duration": 67,
    "start_time": "2023-07-07T09:58:01.188Z"
   },
   {
    "duration": 70,
    "start_time": "2023-07-07T09:58:01.257Z"
   },
   {
    "duration": 41,
    "start_time": "2023-07-07T09:58:01.329Z"
   },
   {
    "duration": 149,
    "start_time": "2023-07-07T09:58:01.372Z"
   },
   {
    "duration": 45,
    "start_time": "2023-07-07T09:58:01.527Z"
   },
   {
    "duration": 68,
    "start_time": "2023-07-07T09:58:01.573Z"
   },
   {
    "duration": 197,
    "start_time": "2023-07-07T09:58:01.643Z"
   },
   {
    "duration": 5,
    "start_time": "2023-07-07T09:58:01.842Z"
   },
   {
    "duration": 63,
    "start_time": "2023-07-07T09:58:01.849Z"
   },
   {
    "duration": 45,
    "start_time": "2023-07-07T09:58:01.913Z"
   },
   {
    "duration": 52,
    "start_time": "2023-07-07T09:58:01.960Z"
   },
   {
    "duration": 96,
    "start_time": "2023-07-07T09:58:02.013Z"
   },
   {
    "duration": 45,
    "start_time": "2023-07-07T09:58:02.110Z"
   },
   {
    "duration": 43,
    "start_time": "2023-07-07T09:58:02.158Z"
   },
   {
    "duration": 72,
    "start_time": "2023-07-07T09:58:02.203Z"
   },
   {
    "duration": 55,
    "start_time": "2023-07-07T09:58:02.277Z"
   },
   {
    "duration": 48,
    "start_time": "2023-07-07T09:58:02.335Z"
   },
   {
    "duration": 54,
    "start_time": "2023-07-07T09:58:02.385Z"
   },
   {
    "duration": 29,
    "start_time": "2023-07-07T09:58:02.441Z"
   },
   {
    "duration": 40,
    "start_time": "2023-07-07T09:58:02.472Z"
   },
   {
    "duration": 30,
    "start_time": "2023-07-07T09:58:02.514Z"
   },
   {
    "duration": 31,
    "start_time": "2023-07-07T09:58:02.546Z"
   },
   {
    "duration": 19,
    "start_time": "2023-07-07T09:58:02.579Z"
   },
   {
    "duration": 30,
    "start_time": "2023-07-07T09:58:02.600Z"
   },
   {
    "duration": 26,
    "start_time": "2023-07-07T09:58:02.632Z"
   },
   {
    "duration": 60,
    "start_time": "2023-07-07T09:58:02.660Z"
   },
   {
    "duration": 33,
    "start_time": "2023-07-07T09:58:02.721Z"
   },
   {
    "duration": 2261,
    "start_time": "2023-07-07T09:58:02.756Z"
   },
   {
    "duration": 2855,
    "start_time": "2023-07-07T09:58:05.019Z"
   },
   {
    "duration": 2156,
    "start_time": "2023-07-07T09:58:07.876Z"
   },
   {
    "duration": 158,
    "start_time": "2023-07-07T09:58:10.034Z"
   },
   {
    "duration": 6,
    "start_time": "2023-07-07T09:58:10.195Z"
   },
   {
    "duration": 26,
    "start_time": "2023-07-07T09:58:10.202Z"
   },
   {
    "duration": 4253,
    "start_time": "2023-07-07T09:58:10.230Z"
   },
   {
    "duration": 526,
    "start_time": "2023-07-07T09:58:14.485Z"
   },
   {
    "duration": 6,
    "start_time": "2023-07-07T09:58:15.013Z"
   },
   {
    "duration": 46,
    "start_time": "2023-07-07T09:58:15.021Z"
   },
   {
    "duration": 33,
    "start_time": "2023-07-07T09:58:15.069Z"
   },
   {
    "duration": 16,
    "start_time": "2023-07-07T09:58:15.104Z"
   },
   {
    "duration": 10,
    "start_time": "2023-07-07T09:58:15.121Z"
   },
   {
    "duration": 42,
    "start_time": "2023-07-07T09:58:15.133Z"
   },
   {
    "duration": 11,
    "start_time": "2023-07-07T09:58:15.177Z"
   },
   {
    "duration": 6,
    "start_time": "2023-07-07T09:58:15.190Z"
   },
   {
    "duration": 12,
    "start_time": "2023-07-07T09:58:15.198Z"
   },
   {
    "duration": 18,
    "start_time": "2023-07-07T09:58:15.211Z"
   },
   {
    "duration": 10,
    "start_time": "2023-07-07T09:58:15.230Z"
   },
   {
    "duration": 15,
    "start_time": "2023-07-07T09:58:15.242Z"
   },
   {
    "duration": 23,
    "start_time": "2023-07-07T09:58:15.259Z"
   },
   {
    "duration": 58,
    "start_time": "2023-07-07T09:58:15.284Z"
   },
   {
    "duration": 6,
    "start_time": "2023-07-07T09:58:15.345Z"
   },
   {
    "duration": 34,
    "start_time": "2023-07-07T09:58:15.352Z"
   },
   {
    "duration": 5,
    "start_time": "2023-07-07T09:58:15.388Z"
   },
   {
    "duration": 53,
    "start_time": "2023-07-07T09:58:15.395Z"
   },
   {
    "duration": 42,
    "start_time": "2023-07-07T09:58:15.449Z"
   },
   {
    "duration": 44,
    "start_time": "2023-07-07T09:58:15.492Z"
   },
   {
    "duration": 3,
    "start_time": "2023-07-07T09:58:15.538Z"
   },
   {
    "duration": 27,
    "start_time": "2023-07-07T09:58:15.542Z"
   },
   {
    "duration": 610,
    "start_time": "2023-07-07T09:58:15.571Z"
   },
   {
    "duration": 813,
    "start_time": "2023-07-07T09:58:16.183Z"
   },
   {
    "duration": 20657,
    "start_time": "2023-07-07T09:58:16.997Z"
   },
   {
    "duration": 12,
    "start_time": "2023-07-07T09:58:37.656Z"
   },
   {
    "duration": 20,
    "start_time": "2023-07-07T09:58:37.670Z"
   },
   {
    "duration": 100611,
    "start_time": "2023-07-07T09:58:37.692Z"
   },
   {
    "duration": 523289,
    "start_time": "2023-07-07T10:00:18.305Z"
   },
   {
    "duration": 4,
    "start_time": "2023-07-07T10:09:01.596Z"
   },
   {
    "duration": 82,
    "start_time": "2023-07-07T10:09:01.602Z"
   },
   {
    "duration": 308,
    "start_time": "2023-07-07T10:09:01.685Z"
   },
   {
    "duration": 1775189,
    "start_time": "2023-07-07T10:09:01.995Z"
   },
   {
    "duration": 4,
    "start_time": "2023-07-07T10:38:37.186Z"
   },
   {
    "duration": 1385,
    "start_time": "2023-07-07T10:38:37.192Z"
   },
   {
    "duration": 5199,
    "start_time": "2023-07-07T10:38:38.580Z"
   },
   {
    "duration": 3,
    "start_time": "2023-07-07T10:38:43.781Z"
   },
   {
    "duration": 18,
    "start_time": "2023-07-07T10:38:43.786Z"
   },
   {
    "duration": 78,
    "start_time": "2023-07-07T10:38:43.806Z"
   },
   {
    "duration": 13,
    "start_time": "2023-07-07T10:38:43.886Z"
   },
   {
    "duration": 17,
    "start_time": "2023-07-07T10:38:43.901Z"
   },
   {
    "duration": 36,
    "start_time": "2023-07-07T10:38:43.920Z"
   },
   {
    "duration": 228,
    "start_time": "2023-07-07T10:38:43.958Z"
   },
   {
    "duration": 11,
    "start_time": "2023-07-07T10:38:44.188Z"
   },
   {
    "duration": 286,
    "start_time": "2023-07-07T10:38:44.201Z"
   },
   {
    "duration": 11901,
    "start_time": "2023-07-11T12:38:15.904Z"
   },
   {
    "duration": 3175,
    "start_time": "2023-07-11T12:38:27.807Z"
   },
   {
    "duration": 6273,
    "start_time": "2023-07-11T12:38:30.984Z"
   },
   {
    "duration": 3191,
    "start_time": "2023-07-11T12:38:37.259Z"
   },
   {
    "duration": 1922,
    "start_time": "2023-07-11T12:38:40.453Z"
   },
   {
    "duration": 315,
    "start_time": "2023-07-11T12:38:42.376Z"
   },
   {
    "duration": 14,
    "start_time": "2023-07-11T12:38:42.692Z"
   },
   {
    "duration": 23,
    "start_time": "2023-07-11T12:38:42.707Z"
   },
   {
    "duration": 28,
    "start_time": "2023-07-11T12:38:42.732Z"
   },
   {
    "duration": 31,
    "start_time": "2023-07-11T12:38:42.761Z"
   },
   {
    "duration": 26,
    "start_time": "2023-07-11T12:38:42.794Z"
   },
   {
    "duration": 38,
    "start_time": "2023-07-11T12:38:42.822Z"
   },
   {
    "duration": 245,
    "start_time": "2023-07-11T12:38:42.861Z"
   },
   {
    "duration": 145,
    "start_time": "2023-07-11T12:38:43.108Z"
   },
   {
    "duration": 135,
    "start_time": "2023-07-11T12:38:43.255Z"
   },
   {
    "duration": 156,
    "start_time": "2023-07-11T12:38:43.392Z"
   },
   {
    "duration": 6,
    "start_time": "2023-07-11T12:38:43.550Z"
   },
   {
    "duration": 308,
    "start_time": "2023-07-11T12:38:43.557Z"
   },
   {
    "duration": 7,
    "start_time": "2023-07-11T12:38:43.867Z"
   },
   {
    "duration": 47,
    "start_time": "2023-07-11T12:38:43.875Z"
   },
   {
    "duration": 40,
    "start_time": "2023-07-11T12:38:43.924Z"
   },
   {
    "duration": 17,
    "start_time": "2023-07-11T12:38:43.966Z"
   },
   {
    "duration": 142,
    "start_time": "2023-07-11T12:38:43.984Z"
   },
   {
    "duration": 16,
    "start_time": "2023-07-11T12:38:44.133Z"
   },
   {
    "duration": 44,
    "start_time": "2023-07-11T12:38:44.150Z"
   },
   {
    "duration": 49,
    "start_time": "2023-07-11T12:38:44.196Z"
   },
   {
    "duration": 26,
    "start_time": "2023-07-11T12:38:44.246Z"
   },
   {
    "duration": 33,
    "start_time": "2023-07-11T12:38:44.273Z"
   },
   {
    "duration": 40,
    "start_time": "2023-07-11T12:38:44.307Z"
   },
   {
    "duration": 31,
    "start_time": "2023-07-11T12:38:44.348Z"
   },
   {
    "duration": 1123,
    "start_time": "2023-07-11T12:38:44.380Z"
   },
   {
    "duration": 7,
    "start_time": "2023-07-11T12:38:45.505Z"
   },
   {
    "duration": 13,
    "start_time": "2023-07-11T12:38:45.533Z"
   },
   {
    "duration": 31,
    "start_time": "2023-07-11T12:38:45.550Z"
   },
   {
    "duration": 30,
    "start_time": "2023-07-11T12:38:45.583Z"
   },
   {
    "duration": 14,
    "start_time": "2023-07-11T12:38:45.615Z"
   },
   {
    "duration": 39,
    "start_time": "2023-07-11T12:38:45.631Z"
   },
   {
    "duration": 25,
    "start_time": "2023-07-11T12:38:45.672Z"
   },
   {
    "duration": 50,
    "start_time": "2023-07-11T12:38:45.700Z"
   },
   {
    "duration": 49,
    "start_time": "2023-07-11T12:38:45.752Z"
   },
   {
    "duration": 62,
    "start_time": "2023-07-11T12:38:45.805Z"
   },
   {
    "duration": 29,
    "start_time": "2023-07-11T12:38:45.869Z"
   },
   {
    "duration": 182,
    "start_time": "2023-07-11T12:38:45.899Z"
   },
   {
    "duration": 4,
    "start_time": "2023-07-11T12:38:46.082Z"
   },
   {
    "duration": 67,
    "start_time": "2023-07-11T12:38:46.088Z"
   },
   {
    "duration": 14,
    "start_time": "2023-07-11T12:38:46.157Z"
   },
   {
    "duration": 20,
    "start_time": "2023-07-11T12:38:46.172Z"
   },
   {
    "duration": 31,
    "start_time": "2023-07-11T12:38:46.194Z"
   },
   {
    "duration": 25,
    "start_time": "2023-07-11T12:38:46.227Z"
   },
   {
    "duration": 20,
    "start_time": "2023-07-11T12:38:46.254Z"
   },
   {
    "duration": 15,
    "start_time": "2023-07-11T12:38:46.276Z"
   },
   {
    "duration": 52,
    "start_time": "2023-07-11T12:38:46.292Z"
   },
   {
    "duration": 51,
    "start_time": "2023-07-11T12:38:46.345Z"
   },
   {
    "duration": 69,
    "start_time": "2023-07-11T12:38:46.397Z"
   },
   {
    "duration": 17,
    "start_time": "2023-07-11T12:38:46.468Z"
   },
   {
    "duration": 55,
    "start_time": "2023-07-11T12:38:46.486Z"
   },
   {
    "duration": 35,
    "start_time": "2023-07-11T12:38:46.544Z"
   },
   {
    "duration": 35,
    "start_time": "2023-07-11T12:38:46.580Z"
   },
   {
    "duration": 49,
    "start_time": "2023-07-11T12:38:46.616Z"
   },
   {
    "duration": 40,
    "start_time": "2023-07-11T12:38:46.666Z"
   },
   {
    "duration": 2078,
    "start_time": "2023-07-11T12:38:46.708Z"
   },
   {
    "duration": 2662,
    "start_time": "2023-07-11T12:38:48.788Z"
   },
   {
    "duration": 2036,
    "start_time": "2023-07-11T12:38:51.452Z"
   },
   {
    "duration": 156,
    "start_time": "2023-07-11T12:38:53.490Z"
   },
   {
    "duration": 6,
    "start_time": "2023-07-11T12:38:53.647Z"
   },
   {
    "duration": 20,
    "start_time": "2023-07-11T12:38:53.655Z"
   },
   {
    "duration": 3857,
    "start_time": "2023-07-11T12:38:53.676Z"
   },
   {
    "duration": 516,
    "start_time": "2023-07-11T12:38:57.535Z"
   },
   {
    "duration": 5,
    "start_time": "2023-07-11T12:38:58.052Z"
   },
   {
    "duration": 21,
    "start_time": "2023-07-11T12:38:58.059Z"
   },
   {
    "duration": 17,
    "start_time": "2023-07-11T12:38:58.082Z"
   },
   {
    "duration": 20,
    "start_time": "2023-07-11T12:38:58.100Z"
   },
   {
    "duration": 32,
    "start_time": "2023-07-11T12:38:58.122Z"
   },
   {
    "duration": 74,
    "start_time": "2023-07-11T12:38:58.156Z"
   },
   {
    "duration": 27,
    "start_time": "2023-07-11T12:38:58.231Z"
   },
   {
    "duration": 23,
    "start_time": "2023-07-11T12:38:58.260Z"
   },
   {
    "duration": 19,
    "start_time": "2023-07-11T12:38:58.284Z"
   },
   {
    "duration": 18,
    "start_time": "2023-07-11T12:38:58.305Z"
   },
   {
    "duration": 22,
    "start_time": "2023-07-11T12:38:58.324Z"
   },
   {
    "duration": 14,
    "start_time": "2023-07-11T12:38:58.347Z"
   },
   {
    "duration": 26,
    "start_time": "2023-07-11T12:38:58.363Z"
   },
   {
    "duration": 69,
    "start_time": "2023-07-11T12:38:58.390Z"
   },
   {
    "duration": 7,
    "start_time": "2023-07-11T12:38:58.460Z"
   },
   {
    "duration": 36,
    "start_time": "2023-07-11T12:38:58.468Z"
   },
   {
    "duration": 23,
    "start_time": "2023-07-11T12:38:58.506Z"
   },
   {
    "duration": 55,
    "start_time": "2023-07-11T12:38:58.530Z"
   },
   {
    "duration": 22,
    "start_time": "2023-07-11T12:38:58.587Z"
   },
   {
    "duration": 635,
    "start_time": "2023-07-11T12:38:58.610Z"
   },
   {
    "duration": 725,
    "start_time": "2023-07-11T12:38:59.247Z"
   },
   {
    "duration": 20720,
    "start_time": "2023-07-11T12:38:59.973Z"
   },
   {
    "duration": 3,
    "start_time": "2023-07-11T12:39:20.695Z"
   },
   {
    "duration": 69,
    "start_time": "2023-07-11T12:39:20.700Z"
   },
   {
    "duration": 93013,
    "start_time": "2023-07-11T12:39:20.771Z"
   },
   {
    "duration": 504025,
    "start_time": "2023-07-11T12:40:53.786Z"
   },
   {
    "duration": 5,
    "start_time": "2023-07-11T12:49:17.813Z"
   },
   {
    "duration": 12,
    "start_time": "2023-07-11T12:49:17.819Z"
   },
   {
    "duration": 31,
    "start_time": "2023-07-11T12:49:17.842Z"
   },
   {
    "duration": 2839,
    "start_time": "2023-07-11T13:14:05.448Z"
   },
   {
    "duration": 2362,
    "start_time": "2023-07-11T13:14:08.289Z"
   },
   {
    "duration": 2637,
    "start_time": "2023-07-11T13:14:10.653Z"
   },
   {
    "duration": 2330,
    "start_time": "2023-07-11T13:14:13.292Z"
   },
   {
    "duration": 1794,
    "start_time": "2023-07-11T13:14:15.624Z"
   },
   {
    "duration": 120,
    "start_time": "2023-07-11T13:14:17.419Z"
   },
   {
    "duration": 88,
    "start_time": "2023-07-11T13:14:17.542Z"
   },
   {
    "duration": 30,
    "start_time": "2023-07-11T13:14:17.632Z"
   },
   {
    "duration": 8,
    "start_time": "2023-07-11T13:14:17.664Z"
   },
   {
    "duration": 10,
    "start_time": "2023-07-11T13:14:17.674Z"
   },
   {
    "duration": 9,
    "start_time": "2023-07-11T13:14:17.686Z"
   },
   {
    "duration": 7,
    "start_time": "2023-07-11T13:14:17.697Z"
   },
   {
    "duration": 256,
    "start_time": "2023-07-11T13:14:17.706Z"
   },
   {
    "duration": 147,
    "start_time": "2023-07-11T13:14:17.965Z"
   },
   {
    "duration": 142,
    "start_time": "2023-07-11T13:14:18.113Z"
   },
   {
    "duration": 137,
    "start_time": "2023-07-11T13:14:18.256Z"
   },
   {
    "duration": 7,
    "start_time": "2023-07-11T13:14:18.394Z"
   },
   {
    "duration": 265,
    "start_time": "2023-07-11T13:14:18.402Z"
   },
   {
    "duration": 8,
    "start_time": "2023-07-11T13:14:18.668Z"
   },
   {
    "duration": 18,
    "start_time": "2023-07-11T13:14:18.677Z"
   },
   {
    "duration": 16,
    "start_time": "2023-07-11T13:14:18.696Z"
   },
   {
    "duration": 11,
    "start_time": "2023-07-11T13:14:18.713Z"
   },
   {
    "duration": 134,
    "start_time": "2023-07-11T13:14:18.725Z"
   },
   {
    "duration": 7,
    "start_time": "2023-07-11T13:14:18.860Z"
   },
   {
    "duration": 7,
    "start_time": "2023-07-11T13:14:18.868Z"
   },
   {
    "duration": 9,
    "start_time": "2023-07-11T13:14:18.876Z"
   },
   {
    "duration": 12,
    "start_time": "2023-07-11T13:14:18.886Z"
   },
   {
    "duration": 40,
    "start_time": "2023-07-11T13:14:18.899Z"
   },
   {
    "duration": 9,
    "start_time": "2023-07-11T13:14:18.941Z"
   },
   {
    "duration": 10,
    "start_time": "2023-07-11T13:14:18.952Z"
   },
   {
    "duration": 952,
    "start_time": "2023-07-11T13:14:18.963Z"
   },
   {
    "duration": 7,
    "start_time": "2023-07-11T13:14:19.917Z"
   },
   {
    "duration": 35,
    "start_time": "2023-07-11T13:14:19.925Z"
   },
   {
    "duration": 22,
    "start_time": "2023-07-11T13:14:19.962Z"
   },
   {
    "duration": 24,
    "start_time": "2023-07-11T13:14:19.986Z"
   },
   {
    "duration": 32,
    "start_time": "2023-07-11T13:14:20.011Z"
   },
   {
    "duration": 40,
    "start_time": "2023-07-11T13:14:20.044Z"
   },
   {
    "duration": 15,
    "start_time": "2023-07-11T13:14:20.086Z"
   },
   {
    "duration": 11,
    "start_time": "2023-07-11T13:14:20.102Z"
   },
   {
    "duration": 108,
    "start_time": "2023-07-11T13:14:20.114Z"
   },
   {
    "duration": 25,
    "start_time": "2023-07-11T13:14:20.231Z"
   },
   {
    "duration": 24,
    "start_time": "2023-07-11T13:14:20.257Z"
   },
   {
    "duration": 120,
    "start_time": "2023-07-11T13:14:20.282Z"
   },
   {
    "duration": 4,
    "start_time": "2023-07-11T13:14:20.404Z"
   },
   {
    "duration": 20,
    "start_time": "2023-07-11T13:14:20.410Z"
   },
   {
    "duration": 27,
    "start_time": "2023-07-11T13:14:20.432Z"
   },
   {
    "duration": 19,
    "start_time": "2023-07-11T13:14:20.461Z"
   },
   {
    "duration": 40,
    "start_time": "2023-07-11T13:14:20.482Z"
   },
   {
    "duration": 5,
    "start_time": "2023-07-11T13:14:20.524Z"
   },
   {
    "duration": 23,
    "start_time": "2023-07-11T13:14:20.531Z"
   },
   {
    "duration": 16,
    "start_time": "2023-07-11T13:14:20.555Z"
   },
   {
    "duration": 11,
    "start_time": "2023-07-11T13:14:20.573Z"
   },
   {
    "duration": 16,
    "start_time": "2023-07-11T13:14:20.585Z"
   },
   {
    "duration": 18,
    "start_time": "2023-07-11T13:14:20.603Z"
   },
   {
    "duration": 3,
    "start_time": "2023-07-11T13:14:20.622Z"
   },
   {
    "duration": 85,
    "start_time": "2023-07-11T13:14:20.626Z"
   },
   {
    "duration": 39,
    "start_time": "2023-07-11T13:14:20.713Z"
   },
   {
    "duration": 69,
    "start_time": "2023-07-11T13:14:20.754Z"
   },
   {
    "duration": 127,
    "start_time": "2023-07-11T13:14:20.824Z"
   },
   {
    "duration": 41,
    "start_time": "2023-07-11T13:14:20.952Z"
   },
   {
    "duration": 2415,
    "start_time": "2023-07-11T13:14:20.994Z"
   },
   {
    "duration": 2728,
    "start_time": "2023-07-11T13:14:23.411Z"
   },
   {
    "duration": 2079,
    "start_time": "2023-07-11T13:14:26.142Z"
   },
   {
    "duration": 150,
    "start_time": "2023-07-11T13:14:28.223Z"
   },
   {
    "duration": 6,
    "start_time": "2023-07-11T13:14:28.374Z"
   },
   {
    "duration": 15,
    "start_time": "2023-07-11T13:14:28.381Z"
   },
   {
    "duration": 3963,
    "start_time": "2023-07-11T13:14:28.398Z"
   },
   {
    "duration": 503,
    "start_time": "2023-07-11T13:14:32.363Z"
   },
   {
    "duration": 9,
    "start_time": "2023-07-11T13:14:32.868Z"
   },
   {
    "duration": 21,
    "start_time": "2023-07-11T13:14:32.880Z"
   },
   {
    "duration": 24,
    "start_time": "2023-07-11T13:14:32.903Z"
   },
   {
    "duration": 24,
    "start_time": "2023-07-11T13:14:32.929Z"
   },
   {
    "duration": 18,
    "start_time": "2023-07-11T13:14:32.955Z"
   },
   {
    "duration": 67,
    "start_time": "2023-07-11T13:14:32.975Z"
   },
   {
    "duration": 7,
    "start_time": "2023-07-11T13:14:33.047Z"
   },
   {
    "duration": 40,
    "start_time": "2023-07-11T13:14:33.057Z"
   },
   {
    "duration": 3,
    "start_time": "2023-07-11T13:14:33.100Z"
   },
   {
    "duration": 15,
    "start_time": "2023-07-11T13:14:33.105Z"
   },
   {
    "duration": 19,
    "start_time": "2023-07-11T13:14:33.122Z"
   },
   {
    "duration": 27,
    "start_time": "2023-07-11T13:14:33.145Z"
   },
   {
    "duration": 23,
    "start_time": "2023-07-11T13:14:33.174Z"
   },
   {
    "duration": 22,
    "start_time": "2023-07-11T13:14:33.199Z"
   },
   {
    "duration": 42,
    "start_time": "2023-07-11T13:14:33.223Z"
   },
   {
    "duration": 84,
    "start_time": "2023-07-11T13:14:33.266Z"
   },
   {
    "duration": 23,
    "start_time": "2023-07-11T13:14:33.353Z"
   },
   {
    "duration": 127,
    "start_time": "2023-07-11T13:14:33.379Z"
   },
   {
    "duration": 6,
    "start_time": "2023-07-11T13:14:33.509Z"
   },
   {
    "duration": 77,
    "start_time": "2023-07-11T13:14:33.517Z"
   },
   {
    "duration": 17,
    "start_time": "2023-07-11T13:14:33.596Z"
   },
   {
    "duration": 538,
    "start_time": "2023-07-11T13:14:33.615Z"
   },
   {
    "duration": 776,
    "start_time": "2023-07-11T13:14:34.156Z"
   },
   {
    "duration": 25622,
    "start_time": "2023-07-11T13:14:34.939Z"
   },
   {
    "duration": 4,
    "start_time": "2023-07-11T13:15:00.563Z"
   },
   {
    "duration": 41,
    "start_time": "2023-07-11T13:15:00.569Z"
   },
   {
    "duration": 94715,
    "start_time": "2023-07-11T13:15:00.612Z"
   },
   {
    "duration": 551624,
    "start_time": "2023-07-11T13:16:35.328Z"
   },
   {
    "duration": 3,
    "start_time": "2023-07-11T13:25:46.954Z"
   },
   {
    "duration": 9,
    "start_time": "2023-07-11T13:25:46.958Z"
   },
   {
    "duration": 12,
    "start_time": "2023-07-11T13:25:46.968Z"
   },
   {
    "duration": 2167597,
    "start_time": "2023-07-11T13:25:46.981Z"
   },
   {
    "duration": 3,
    "start_time": "2023-07-11T14:01:54.579Z"
   },
   {
    "duration": 422890,
    "start_time": "2023-07-11T14:01:54.584Z"
   },
   {
    "duration": 1457302,
    "start_time": "2023-07-11T14:08:57.476Z"
   },
   {
    "duration": 58,
    "start_time": "2023-07-11T14:33:14.780Z"
   },
   {
    "duration": 38,
    "start_time": "2023-07-11T14:33:14.848Z"
   },
   {
    "duration": 37,
    "start_time": "2023-07-11T14:33:14.888Z"
   },
   {
    "duration": 36,
    "start_time": "2023-07-11T14:33:14.926Z"
   },
   {
    "duration": 217,
    "start_time": "2023-07-11T14:33:14.963Z"
   },
   {
    "duration": 9,
    "start_time": "2023-07-11T14:33:15.182Z"
   },
   {
    "duration": 295,
    "start_time": "2023-07-11T14:33:15.192Z"
   },
   {
    "duration": 3,
    "start_time": "2023-07-11T14:33:15.488Z"
   },
   {
    "duration": 62,
    "start_time": "2023-07-11T14:33:15.493Z"
   },
   {
    "duration": 13,
    "start_time": "2023-07-11T14:39:12.057Z"
   },
   {
    "duration": 59,
    "start_time": "2023-07-11T14:39:17.029Z"
   },
   {
    "duration": 142,
    "start_time": "2023-07-11T14:39:37.559Z"
   },
   {
    "duration": 5,
    "start_time": "2023-07-11T14:40:06.497Z"
   },
   {
    "duration": 4,
    "start_time": "2023-07-11T14:40:07.592Z"
   },
   {
    "duration": 14,
    "start_time": "2023-07-11T14:40:17.827Z"
   },
   {
    "duration": 8,
    "start_time": "2023-07-11T14:43:26.681Z"
   },
   {
    "duration": 8,
    "start_time": "2023-07-11T14:43:27.841Z"
   },
   {
    "duration": 5,
    "start_time": "2023-07-11T14:44:43.883Z"
   },
   {
    "duration": 20,
    "start_time": "2023-07-11T14:44:51.853Z"
   },
   {
    "duration": 14,
    "start_time": "2023-07-11T14:44:52.991Z"
   },
   {
    "duration": 4,
    "start_time": "2023-07-11T14:44:59.297Z"
   },
   {
    "duration": 14,
    "start_time": "2023-07-11T14:45:04.844Z"
   },
   {
    "duration": 4,
    "start_time": "2023-07-11T14:45:06.376Z"
   },
   {
    "duration": 3,
    "start_time": "2023-07-11T14:45:10.894Z"
   },
   {
    "duration": 150,
    "start_time": "2023-07-11T14:45:11.694Z"
   },
   {
    "duration": 4,
    "start_time": "2023-07-11T14:45:23.616Z"
   },
   {
    "duration": 2656,
    "start_time": "2023-07-11T14:45:24.934Z"
   },
   {
    "duration": 68,
    "start_time": "2023-07-11T14:46:16.250Z"
   },
   {
    "duration": 16742,
    "start_time": "2023-07-11T14:46:37.997Z"
   },
   {
    "duration": 4,
    "start_time": "2023-07-11T14:46:57.989Z"
   },
   {
    "duration": 17,
    "start_time": "2023-07-11T14:46:59.229Z"
   },
   {
    "duration": 11,
    "start_time": "2023-07-11T14:47:09.559Z"
   },
   {
    "duration": 12,
    "start_time": "2023-07-11T14:50:47.762Z"
   },
   {
    "duration": 10,
    "start_time": "2023-07-11T14:51:45.284Z"
   },
   {
    "duration": 9,
    "start_time": "2023-07-11T14:54:42.612Z"
   },
   {
    "duration": 9,
    "start_time": "2023-07-11T14:55:02.601Z"
   },
   {
    "duration": 4,
    "start_time": "2023-07-11T14:55:27.498Z"
   },
   {
    "duration": 13,
    "start_time": "2023-07-11T14:55:29.160Z"
   },
   {
    "duration": 11,
    "start_time": "2023-07-11T14:55:33.721Z"
   },
   {
    "duration": 9,
    "start_time": "2023-07-11T14:55:43.687Z"
   },
   {
    "duration": 3,
    "start_time": "2023-07-11T14:57:58.683Z"
   },
   {
    "duration": 20,
    "start_time": "2023-07-11T14:58:00.030Z"
   },
   {
    "duration": 15,
    "start_time": "2023-07-11T14:58:19.159Z"
   },
   {
    "duration": 9001,
    "start_time": "2023-07-11T15:02:02.718Z"
   },
   {
    "duration": 5,
    "start_time": "2023-07-11T15:02:15.085Z"
   },
   {
    "duration": 17,
    "start_time": "2023-07-11T15:02:17.528Z"
   },
   {
    "duration": 35,
    "start_time": "2023-07-11T15:03:48.529Z"
   },
   {
    "duration": 14,
    "start_time": "2023-07-11T15:03:55.134Z"
   },
   {
    "duration": 9,
    "start_time": "2023-07-11T15:04:05.614Z"
   },
   {
    "duration": 9,
    "start_time": "2023-07-11T15:05:18.183Z"
   },
   {
    "duration": 53,
    "start_time": "2023-07-11T17:28:36.884Z"
   },
   {
    "duration": 12207,
    "start_time": "2023-07-11T17:28:58.569Z"
   },
   {
    "duration": 3414,
    "start_time": "2023-07-11T17:29:10.779Z"
   },
   {
    "duration": 7652,
    "start_time": "2023-07-11T17:29:14.196Z"
   },
   {
    "duration": 3099,
    "start_time": "2023-07-11T17:29:21.850Z"
   },
   {
    "duration": 2299,
    "start_time": "2023-07-11T17:29:24.951Z"
   },
   {
    "duration": 400,
    "start_time": "2023-07-11T17:29:27.252Z"
   },
   {
    "duration": 14,
    "start_time": "2023-07-11T17:29:27.653Z"
   },
   {
    "duration": 14,
    "start_time": "2023-07-11T17:29:27.668Z"
   },
   {
    "duration": 18,
    "start_time": "2023-07-11T17:29:27.684Z"
   },
   {
    "duration": 4,
    "start_time": "2023-07-11T17:29:27.705Z"
   },
   {
    "duration": 13,
    "start_time": "2023-07-11T17:29:27.711Z"
   },
   {
    "duration": 8,
    "start_time": "2023-07-11T17:29:27.726Z"
   },
   {
    "duration": 272,
    "start_time": "2023-07-11T17:29:27.735Z"
   },
   {
    "duration": 150,
    "start_time": "2023-07-11T17:29:28.009Z"
   },
   {
    "duration": 155,
    "start_time": "2023-07-11T17:29:28.160Z"
   },
   {
    "duration": 137,
    "start_time": "2023-07-11T17:29:28.317Z"
   },
   {
    "duration": 7,
    "start_time": "2023-07-11T17:29:28.455Z"
   },
   {
    "duration": 253,
    "start_time": "2023-07-11T17:29:28.475Z"
   },
   {
    "duration": 8,
    "start_time": "2023-07-11T17:29:28.729Z"
   },
   {
    "duration": 20,
    "start_time": "2023-07-11T17:29:28.739Z"
   },
   {
    "duration": 19,
    "start_time": "2023-07-11T17:29:28.761Z"
   },
   {
    "duration": 19,
    "start_time": "2023-07-11T17:29:28.781Z"
   },
   {
    "duration": 119,
    "start_time": "2023-07-11T17:29:28.802Z"
   },
   {
    "duration": 7,
    "start_time": "2023-07-11T17:29:28.922Z"
   },
   {
    "duration": 9,
    "start_time": "2023-07-11T17:29:28.931Z"
   },
   {
    "duration": 13,
    "start_time": "2023-07-11T17:29:28.941Z"
   },
   {
    "duration": 25,
    "start_time": "2023-07-11T17:29:28.955Z"
   },
   {
    "duration": 16,
    "start_time": "2023-07-11T17:29:28.985Z"
   },
   {
    "duration": 18,
    "start_time": "2023-07-11T17:29:29.004Z"
   },
   {
    "duration": 9,
    "start_time": "2023-07-11T17:29:29.023Z"
   },
   {
    "duration": 1143,
    "start_time": "2023-07-11T17:29:29.033Z"
   },
   {
    "duration": 10,
    "start_time": "2023-07-11T17:29:30.178Z"
   },
   {
    "duration": 137,
    "start_time": "2023-07-11T17:29:30.190Z"
   },
   {
    "duration": 107,
    "start_time": "2023-07-11T17:29:30.328Z"
   },
   {
    "duration": 93,
    "start_time": "2023-07-11T17:29:30.436Z"
   },
   {
    "duration": 59,
    "start_time": "2023-07-11T17:29:30.531Z"
   },
   {
    "duration": 67,
    "start_time": "2023-07-11T17:29:30.592Z"
   },
   {
    "duration": 102,
    "start_time": "2023-07-11T17:29:30.661Z"
   },
   {
    "duration": 73,
    "start_time": "2023-07-11T17:29:30.765Z"
   },
   {
    "duration": 89,
    "start_time": "2023-07-11T17:29:30.840Z"
   },
   {
    "duration": 101,
    "start_time": "2023-07-11T17:29:30.931Z"
   },
   {
    "duration": 73,
    "start_time": "2023-07-11T17:29:31.034Z"
   },
   {
    "duration": 241,
    "start_time": "2023-07-11T17:29:31.109Z"
   },
   {
    "duration": 74,
    "start_time": "2023-07-11T17:29:31.351Z"
   },
   {
    "duration": 86,
    "start_time": "2023-07-11T17:29:31.427Z"
   },
   {
    "duration": 30,
    "start_time": "2023-07-11T17:29:31.514Z"
   },
   {
    "duration": 86,
    "start_time": "2023-07-11T17:29:31.546Z"
   },
   {
    "duration": 280,
    "start_time": "2023-07-11T17:29:31.634Z"
   },
   {
    "duration": 29,
    "start_time": "2023-07-11T17:29:31.916Z"
   },
   {
    "duration": 30,
    "start_time": "2023-07-11T17:29:31.946Z"
   },
   {
    "duration": 42,
    "start_time": "2023-07-11T17:29:31.978Z"
   },
   {
    "duration": 31,
    "start_time": "2023-07-11T17:29:32.021Z"
   },
   {
    "duration": 35,
    "start_time": "2023-07-11T17:29:32.054Z"
   },
   {
    "duration": 23,
    "start_time": "2023-07-11T17:29:32.091Z"
   },
   {
    "duration": 9,
    "start_time": "2023-07-11T17:29:32.116Z"
   },
   {
    "duration": 36,
    "start_time": "2023-07-11T17:29:32.127Z"
   },
   {
    "duration": 46,
    "start_time": "2023-07-11T17:29:32.165Z"
   },
   {
    "duration": 39,
    "start_time": "2023-07-11T17:29:32.212Z"
   },
   {
    "duration": 81,
    "start_time": "2023-07-11T17:29:32.252Z"
   },
   {
    "duration": 77,
    "start_time": "2023-07-11T17:29:32.335Z"
   },
   {
    "duration": 2128,
    "start_time": "2023-07-11T17:29:32.414Z"
   },
   {
    "duration": 2758,
    "start_time": "2023-07-11T17:29:34.544Z"
   },
   {
    "duration": 2133,
    "start_time": "2023-07-11T17:29:37.303Z"
   },
   {
    "duration": 158,
    "start_time": "2023-07-11T17:29:39.438Z"
   },
   {
    "duration": 6,
    "start_time": "2023-07-11T17:29:39.597Z"
   },
   {
    "duration": 19,
    "start_time": "2023-07-11T17:29:39.605Z"
   },
   {
    "duration": 3879,
    "start_time": "2023-07-11T17:29:39.625Z"
   },
   {
    "duration": 511,
    "start_time": "2023-07-11T17:29:43.506Z"
   },
   {
    "duration": 6,
    "start_time": "2023-07-11T17:29:44.019Z"
   },
   {
    "duration": 8,
    "start_time": "2023-07-11T17:29:44.027Z"
   },
   {
    "duration": 6,
    "start_time": "2023-07-11T17:29:44.037Z"
   },
   {
    "duration": 11,
    "start_time": "2023-07-11T17:29:44.045Z"
   },
   {
    "duration": 7,
    "start_time": "2023-07-11T17:29:44.074Z"
   },
   {
    "duration": 58,
    "start_time": "2023-07-11T17:29:44.083Z"
   },
   {
    "duration": 5,
    "start_time": "2023-07-11T17:29:44.143Z"
   },
   {
    "duration": 21,
    "start_time": "2023-07-11T17:29:44.149Z"
   },
   {
    "duration": 24,
    "start_time": "2023-07-11T17:29:44.172Z"
   },
   {
    "duration": 16,
    "start_time": "2023-07-11T17:29:44.198Z"
   },
   {
    "duration": 8,
    "start_time": "2023-07-11T17:29:44.215Z"
   },
   {
    "duration": 7,
    "start_time": "2023-07-11T17:29:44.225Z"
   },
   {
    "duration": 6,
    "start_time": "2023-07-11T17:29:44.233Z"
   },
   {
    "duration": 5,
    "start_time": "2023-07-11T17:29:44.246Z"
   },
   {
    "duration": 17,
    "start_time": "2023-07-11T17:29:44.253Z"
   },
   {
    "duration": 76,
    "start_time": "2023-07-11T17:29:44.271Z"
   },
   {
    "duration": 5,
    "start_time": "2023-07-11T17:29:44.349Z"
   },
   {
    "duration": 67,
    "start_time": "2023-07-11T17:29:44.355Z"
   },
   {
    "duration": 5,
    "start_time": "2023-07-11T17:29:44.423Z"
   },
   {
    "duration": 49,
    "start_time": "2023-07-11T17:29:44.429Z"
   },
   {
    "duration": 37,
    "start_time": "2023-07-11T17:29:44.480Z"
   },
   {
    "duration": 589,
    "start_time": "2023-07-11T17:29:44.519Z"
   },
   {
    "duration": 671,
    "start_time": "2023-07-11T17:29:45.177Z"
   },
   {
    "duration": 27096,
    "start_time": "2023-07-11T17:29:45.850Z"
   },
   {
    "duration": 4,
    "start_time": "2023-07-11T17:30:12.947Z"
   },
   {
    "duration": 18,
    "start_time": "2023-07-11T17:30:12.953Z"
   },
   {
    "duration": 108819,
    "start_time": "2023-07-11T17:30:12.976Z"
   },
   {
    "duration": 662737,
    "start_time": "2023-07-11T17:32:01.796Z"
   },
   {
    "duration": 3,
    "start_time": "2023-07-11T17:43:04.534Z"
   },
   {
    "duration": 7,
    "start_time": "2023-07-11T17:43:04.539Z"
   },
   {
    "duration": 10,
    "start_time": "2023-07-11T17:43:04.548Z"
   }
  ],
  "kernelspec": {
   "display_name": "Python 3 (ipykernel)",
   "language": "python",
   "name": "python3"
  },
  "language_info": {
   "codemirror_mode": {
    "name": "ipython",
    "version": 3
   },
   "file_extension": ".py",
   "mimetype": "text/x-python",
   "name": "python",
   "nbconvert_exporter": "python",
   "pygments_lexer": "ipython3",
   "version": "3.9.5"
  },
  "toc": {
   "base_numbering": 1,
   "nav_menu": {},
   "number_sections": true,
   "sideBar": true,
   "skip_h1_title": true,
   "title_cell": "Table of Contents",
   "title_sidebar": "Contents",
   "toc_cell": false,
   "toc_position": {},
   "toc_section_display": true,
   "toc_window_display": false
  }
 },
 "nbformat": 4,
 "nbformat_minor": 2
}
