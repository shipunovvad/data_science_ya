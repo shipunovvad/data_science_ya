{
 "cells": [
  {
   "cell_type": "code",
   "execution_count": 1,
   "metadata": {
    "collapsed": true
   },
   "outputs": [
    {
     "name": "stdout",
     "output_type": "stream",
     "text": [
      "Requirement already satisfied: spacy in /opt/conda/lib/python3.9/site-packages (3.2.0)\n",
      "Requirement already satisfied: tqdm<5.0.0,>=4.38.0 in /opt/conda/lib/python3.9/site-packages (from spacy) (4.61.2)\n",
      "Requirement already satisfied: setuptools in /opt/conda/lib/python3.9/site-packages (from spacy) (49.6.0.post20210108)\n",
      "Requirement already satisfied: pathy>=0.3.5 in /opt/conda/lib/python3.9/site-packages (from spacy) (0.6.2)\n",
      "Requirement already satisfied: murmurhash<1.1.0,>=0.28.0 in /opt/conda/lib/python3.9/site-packages (from spacy) (1.0.8)\n",
      "Requirement already satisfied: blis<0.8.0,>=0.4.0 in /opt/conda/lib/python3.9/site-packages (from spacy) (0.7.8)\n",
      "Requirement already satisfied: preshed<3.1.0,>=3.0.2 in /opt/conda/lib/python3.9/site-packages (from spacy) (3.0.7)\n",
      "Requirement already satisfied: srsly<3.0.0,>=2.4.1 in /opt/conda/lib/python3.9/site-packages (from spacy) (2.4.4)\n",
      "Requirement already satisfied: packaging>=20.0 in /opt/conda/lib/python3.9/site-packages (from spacy) (21.3)\n",
      "Requirement already satisfied: pydantic!=1.8,!=1.8.1,<1.9.0,>=1.7.4 in /opt/conda/lib/python3.9/site-packages (from spacy) (1.8.2)\n",
      "Requirement already satisfied: numpy>=1.15.0 in /opt/conda/lib/python3.9/site-packages (from spacy) (1.21.1)\n",
      "Requirement already satisfied: spacy-legacy<3.1.0,>=3.0.8 in /opt/conda/lib/python3.9/site-packages (from spacy) (3.0.10)\n",
      "Requirement already satisfied: langcodes<4.0.0,>=3.2.0 in /opt/conda/lib/python3.9/site-packages (from spacy) (3.3.0)\n",
      "Requirement already satisfied: spacy-loggers<2.0.0,>=1.0.0 in /opt/conda/lib/python3.9/site-packages (from spacy) (1.0.3)\n",
      "Requirement already satisfied: jinja2 in /opt/conda/lib/python3.9/site-packages (from spacy) (3.0.1)\n",
      "Requirement already satisfied: thinc<8.1.0,>=8.0.12 in /opt/conda/lib/python3.9/site-packages (from spacy) (8.0.17)\n",
      "Requirement already satisfied: wasabi<1.1.0,>=0.8.1 in /opt/conda/lib/python3.9/site-packages (from spacy) (0.10.1)\n",
      "Requirement already satisfied: typer<0.5.0,>=0.3.0 in /opt/conda/lib/python3.9/site-packages (from spacy) (0.4.2)\n",
      "Requirement already satisfied: requests<3.0.0,>=2.13.0 in /opt/conda/lib/python3.9/site-packages (from spacy) (2.25.1)\n",
      "Requirement already satisfied: catalogue<2.1.0,>=2.0.6 in /opt/conda/lib/python3.9/site-packages (from spacy) (2.0.8)\n",
      "Requirement already satisfied: cymem<2.1.0,>=2.0.2 in /opt/conda/lib/python3.9/site-packages (from spacy) (2.0.6)\n",
      "Requirement already satisfied: pyparsing!=3.0.5,>=2.0.2 in /opt/conda/lib/python3.9/site-packages (from packaging>=20.0->spacy) (2.4.7)\n",
      "Requirement already satisfied: smart-open<6.0.0,>=5.2.1 in /opt/conda/lib/python3.9/site-packages (from pathy>=0.3.5->spacy) (5.2.1)\n",
      "Requirement already satisfied: typing-extensions>=3.7.4.3 in /opt/conda/lib/python3.9/site-packages (from pydantic!=1.8,!=1.8.1,<1.9.0,>=1.7.4->spacy) (4.3.0)\n",
      "Requirement already satisfied: certifi>=2017.4.17 in /opt/conda/lib/python3.9/site-packages (from requests<3.0.0,>=2.13.0->spacy) (2022.6.15)\n",
      "Requirement already satisfied: urllib3<1.27,>=1.21.1 in /opt/conda/lib/python3.9/site-packages (from requests<3.0.0,>=2.13.0->spacy) (1.26.6)\n",
      "Requirement already satisfied: idna<3,>=2.5 in /opt/conda/lib/python3.9/site-packages (from requests<3.0.0,>=2.13.0->spacy) (2.10)\n",
      "Requirement already satisfied: chardet<5,>=3.0.2 in /opt/conda/lib/python3.9/site-packages (from requests<3.0.0,>=2.13.0->spacy) (4.0.0)\n",
      "Requirement already satisfied: click<9.0.0,>=7.1.1 in /opt/conda/lib/python3.9/site-packages (from typer<0.5.0,>=0.3.0->spacy) (8.1.3)\n",
      "Requirement already satisfied: MarkupSafe>=2.0 in /opt/conda/lib/python3.9/site-packages (from jinja2->spacy) (2.1.1)\n"
     ]
    }
   ],
   "source": [
    "! pip install spacy"
   ]
  },
  {
   "cell_type": "code",
   "execution_count": 2,
   "metadata": {
    "collapsed": true
   },
   "outputs": [
    {
     "name": "stdout",
     "output_type": "stream",
     "text": [
      "\u001b[38;5;3m⚠ As of spaCy v3.0, shortcuts like 'en' are deprecated. Please use the\n",
      "full pipeline package name 'en_core_web_sm' instead.\u001b[0m\n",
      "Collecting en-core-web-sm==3.2.0\n",
      "  Downloading https://github.com/explosion/spacy-models/releases/download/en_core_web_sm-3.2.0/en_core_web_sm-3.2.0-py3-none-any.whl (13.9 MB)\n",
      "\u001b[K     |████████████████████████████████| 13.9 MB 2.6 MB/s eta 0:00:01\n",
      "\u001b[?25hRequirement already satisfied: spacy<3.3.0,>=3.2.0 in /opt/conda/lib/python3.9/site-packages (from en-core-web-sm==3.2.0) (3.2.0)\n",
      "Requirement already satisfied: spacy-loggers<2.0.0,>=1.0.0 in /opt/conda/lib/python3.9/site-packages (from spacy<3.3.0,>=3.2.0->en-core-web-sm==3.2.0) (1.0.3)\n",
      "Requirement already satisfied: wasabi<1.1.0,>=0.8.1 in /opt/conda/lib/python3.9/site-packages (from spacy<3.3.0,>=3.2.0->en-core-web-sm==3.2.0) (0.10.1)\n",
      "Requirement already satisfied: numpy>=1.15.0 in /opt/conda/lib/python3.9/site-packages (from spacy<3.3.0,>=3.2.0->en-core-web-sm==3.2.0) (1.21.1)\n",
      "Requirement already satisfied: cymem<2.1.0,>=2.0.2 in /opt/conda/lib/python3.9/site-packages (from spacy<3.3.0,>=3.2.0->en-core-web-sm==3.2.0) (2.0.6)\n",
      "Requirement already satisfied: langcodes<4.0.0,>=3.2.0 in /opt/conda/lib/python3.9/site-packages (from spacy<3.3.0,>=3.2.0->en-core-web-sm==3.2.0) (3.3.0)\n",
      "Requirement already satisfied: preshed<3.1.0,>=3.0.2 in /opt/conda/lib/python3.9/site-packages (from spacy<3.3.0,>=3.2.0->en-core-web-sm==3.2.0) (3.0.7)\n",
      "Requirement already satisfied: typer<0.5.0,>=0.3.0 in /opt/conda/lib/python3.9/site-packages (from spacy<3.3.0,>=3.2.0->en-core-web-sm==3.2.0) (0.4.2)\n",
      "Requirement already satisfied: murmurhash<1.1.0,>=0.28.0 in /opt/conda/lib/python3.9/site-packages (from spacy<3.3.0,>=3.2.0->en-core-web-sm==3.2.0) (1.0.8)\n",
      "Requirement already satisfied: blis<0.8.0,>=0.4.0 in /opt/conda/lib/python3.9/site-packages (from spacy<3.3.0,>=3.2.0->en-core-web-sm==3.2.0) (0.7.8)\n",
      "Requirement already satisfied: packaging>=20.0 in /opt/conda/lib/python3.9/site-packages (from spacy<3.3.0,>=3.2.0->en-core-web-sm==3.2.0) (21.3)\n",
      "Requirement already satisfied: pathy>=0.3.5 in /opt/conda/lib/python3.9/site-packages (from spacy<3.3.0,>=3.2.0->en-core-web-sm==3.2.0) (0.6.2)\n",
      "Requirement already satisfied: jinja2 in /opt/conda/lib/python3.9/site-packages (from spacy<3.3.0,>=3.2.0->en-core-web-sm==3.2.0) (3.0.1)\n",
      "Requirement already satisfied: spacy-legacy<3.1.0,>=3.0.8 in /opt/conda/lib/python3.9/site-packages (from spacy<3.3.0,>=3.2.0->en-core-web-sm==3.2.0) (3.0.10)\n",
      "Requirement already satisfied: requests<3.0.0,>=2.13.0 in /opt/conda/lib/python3.9/site-packages (from spacy<3.3.0,>=3.2.0->en-core-web-sm==3.2.0) (2.25.1)\n",
      "Requirement already satisfied: pydantic!=1.8,!=1.8.1,<1.9.0,>=1.7.4 in /opt/conda/lib/python3.9/site-packages (from spacy<3.3.0,>=3.2.0->en-core-web-sm==3.2.0) (1.8.2)\n",
      "Requirement already satisfied: thinc<8.1.0,>=8.0.12 in /opt/conda/lib/python3.9/site-packages (from spacy<3.3.0,>=3.2.0->en-core-web-sm==3.2.0) (8.0.17)\n",
      "Requirement already satisfied: catalogue<2.1.0,>=2.0.6 in /opt/conda/lib/python3.9/site-packages (from spacy<3.3.0,>=3.2.0->en-core-web-sm==3.2.0) (2.0.8)\n",
      "Requirement already satisfied: tqdm<5.0.0,>=4.38.0 in /opt/conda/lib/python3.9/site-packages (from spacy<3.3.0,>=3.2.0->en-core-web-sm==3.2.0) (4.61.2)\n",
      "Requirement already satisfied: srsly<3.0.0,>=2.4.1 in /opt/conda/lib/python3.9/site-packages (from spacy<3.3.0,>=3.2.0->en-core-web-sm==3.2.0) (2.4.4)\n",
      "Requirement already satisfied: setuptools in /opt/conda/lib/python3.9/site-packages (from spacy<3.3.0,>=3.2.0->en-core-web-sm==3.2.0) (49.6.0.post20210108)\n",
      "Requirement already satisfied: pyparsing!=3.0.5,>=2.0.2 in /opt/conda/lib/python3.9/site-packages (from packaging>=20.0->spacy<3.3.0,>=3.2.0->en-core-web-sm==3.2.0) (2.4.7)\n",
      "Requirement already satisfied: smart-open<6.0.0,>=5.2.1 in /opt/conda/lib/python3.9/site-packages (from pathy>=0.3.5->spacy<3.3.0,>=3.2.0->en-core-web-sm==3.2.0) (5.2.1)\n",
      "Requirement already satisfied: typing-extensions>=3.7.4.3 in /opt/conda/lib/python3.9/site-packages (from pydantic!=1.8,!=1.8.1,<1.9.0,>=1.7.4->spacy<3.3.0,>=3.2.0->en-core-web-sm==3.2.0) (4.3.0)\n",
      "Requirement already satisfied: urllib3<1.27,>=1.21.1 in /opt/conda/lib/python3.9/site-packages (from requests<3.0.0,>=2.13.0->spacy<3.3.0,>=3.2.0->en-core-web-sm==3.2.0) (1.26.6)\n",
      "Requirement already satisfied: certifi>=2017.4.17 in /opt/conda/lib/python3.9/site-packages (from requests<3.0.0,>=2.13.0->spacy<3.3.0,>=3.2.0->en-core-web-sm==3.2.0) (2022.6.15)\n",
      "Requirement already satisfied: chardet<5,>=3.0.2 in /opt/conda/lib/python3.9/site-packages (from requests<3.0.0,>=2.13.0->spacy<3.3.0,>=3.2.0->en-core-web-sm==3.2.0) (4.0.0)\n",
      "Requirement already satisfied: idna<3,>=2.5 in /opt/conda/lib/python3.9/site-packages (from requests<3.0.0,>=2.13.0->spacy<3.3.0,>=3.2.0->en-core-web-sm==3.2.0) (2.10)\n",
      "Requirement already satisfied: click<9.0.0,>=7.1.1 in /opt/conda/lib/python3.9/site-packages (from typer<0.5.0,>=0.3.0->spacy<3.3.0,>=3.2.0->en-core-web-sm==3.2.0) (8.1.3)\n",
      "Requirement already satisfied: MarkupSafe>=2.0 in /opt/conda/lib/python3.9/site-packages (from jinja2->spacy<3.3.0,>=3.2.0->en-core-web-sm==3.2.0) (2.1.1)\n",
      "\u001b[38;5;2m✔ Download and installation successful\u001b[0m\n",
      "You can now load the package via spacy.load('en_core_web_sm')\n"
     ]
    }
   ],
   "source": [
    "! spacy download en"
   ]
  },
  {
   "cell_type": "markdown",
   "metadata": {
    "toc": true
   },
   "source": [
    "<h1>Содержание<span class=\"tocSkip\"></span></h1>\n",
    "<div class=\"toc\"><ul class=\"toc-item\"><li><span><a href=\"#Подготовка\" data-toc-modified-id=\"Подготовка-1\"><span class=\"toc-item-num\">1&nbsp;&nbsp;</span>Подготовка</a></span></li><li><span><a href=\"#Обучение\" data-toc-modified-id=\"Обучение-2\"><span class=\"toc-item-num\">2&nbsp;&nbsp;</span>Обучение</a></span></li><li><span><a href=\"#Выводы\" data-toc-modified-id=\"Выводы-3\"><span class=\"toc-item-num\">3&nbsp;&nbsp;</span>Выводы</a></span></li><li><span><a href=\"#Чек-лист-проверки\" data-toc-modified-id=\"Чек-лист-проверки-4\"><span class=\"toc-item-num\">4&nbsp;&nbsp;</span>Чек-лист проверки</a></span></li></ul></div>"
   ]
  },
  {
   "cell_type": "markdown",
   "metadata": {},
   "source": [
    "# Проект для «Викишоп»"
   ]
  },
  {
   "cell_type": "markdown",
   "metadata": {},
   "source": [
    "Интернет-магазин «Викишоп» запускает новый сервис. Теперь пользователи могут редактировать и дополнять описания товаров, как в вики-сообществах. То есть клиенты предлагают свои правки и комментируют изменения других. Магазину нужен инструмент, который будет искать токсичные комментарии и отправлять их на модерацию. \n",
    "\n",
    "Обучите модель классифицировать комментарии на позитивные и негативные. В вашем распоряжении набор данных с разметкой о токсичности правок.\n",
    "\n",
    "Постройте модель со значением метрики качества *F1* не меньше 0.75. \n",
    "\n",
    "**Инструкция по выполнению проекта**\n",
    "\n",
    "1. Загрузите и подготовьте данные.\n",
    "2. Обучите разные модели. \n",
    "3. Сделайте выводы.\n",
    "\n",
    "Для выполнения проекта применять *BERT* необязательно, но вы можете попробовать.\n",
    "\n",
    "**Описание данных**\n",
    "\n",
    "Данные находятся в файле `toxic_comments.csv`. Столбец *text* в нём содержит текст комментария, а *toxic* — целевой признак."
   ]
  },
  {
   "cell_type": "markdown",
   "metadata": {},
   "source": [
    "## Подготовка"
   ]
  },
  {
   "cell_type": "code",
   "execution_count": 3,
   "metadata": {},
   "outputs": [
    {
     "name": "stderr",
     "output_type": "stream",
     "text": [
      "[nltk_data] Downloading package wordnet to /home/jovyan/nltk_data...\n",
      "[nltk_data]   Package wordnet is already up-to-date!\n",
      "[nltk_data] Downloading package averaged_perceptron_tagger to\n",
      "[nltk_data]     /home/jovyan/nltk_data...\n",
      "[nltk_data]   Package averaged_perceptron_tagger is already up-to-\n",
      "[nltk_data]       date!\n"
     ]
    },
    {
     "data": {
      "text/plain": [
       "True"
      ]
     },
     "execution_count": 3,
     "metadata": {},
     "output_type": "execute_result"
    }
   ],
   "source": [
    "import numpy as np\n",
    "import pandas as pd\n",
    "import matplotlib.pyplot as plt\n",
    "\n",
    "\n",
    "import re\n",
    "import nltk\n",
    "from time import time\n",
    "import tqdm\n",
    "nltk.download('wordnet')  \n",
    "from nltk.corpus import stopwords\n",
    "from nltk.stem import WordNetLemmatizer\n",
    "\n",
    "import spacy\n",
    "\n",
    "# from nltk.corpus import stopwords as nltk_stopwords\n",
    "from sklearn.feature_extraction.text import TfidfVectorizer\n",
    "from sklearn.model_selection import train_test_split, cross_val_score, GridSearchCV\n",
    "from sklearn.linear_model import LogisticRegression, SGDClassifier\n",
    "from sklearn.tree import DecisionTreeClassifier\n",
    "from catboost import CatBoostClassifier, Pool, cv\n",
    "from lightgbm import LGBMClassifier\n",
    "\n",
    "from sklearn.metrics import f1_score, precision_score, recall_score, accuracy_score, roc_auc_score, roc_curve\n",
    "from sklearn.utils import shuffle\n",
    "\n",
    "import warnings\n",
    "warnings.filterwarnings('ignore')\n",
    "import time\n",
    "\n",
    "nltk.download('averaged_perceptron_tagger')"
   ]
  },
  {
   "cell_type": "code",
   "execution_count": 4,
   "metadata": {},
   "outputs": [],
   "source": [
    "toxic_comments = pd.read_csv('/datasets/toxic_comments.csv')\n",
    "df = toxic_comments.copy()"
   ]
  },
  {
   "cell_type": "code",
   "execution_count": 5,
   "metadata": {},
   "outputs": [
    {
     "name": "stdout",
     "output_type": "stream",
     "text": [
      "<class 'pandas.core.frame.DataFrame'>\n",
      "RangeIndex: 159292 entries, 0 to 159291\n",
      "Data columns (total 3 columns):\n",
      " #   Column      Non-Null Count   Dtype \n",
      "---  ------      --------------   ----- \n",
      " 0   Unnamed: 0  159292 non-null  int64 \n",
      " 1   text        159292 non-null  object\n",
      " 2   toxic       159292 non-null  int64 \n",
      "dtypes: int64(2), object(1)\n",
      "memory usage: 3.6+ MB\n"
     ]
    }
   ],
   "source": [
    "df.info()"
   ]
  },
  {
   "cell_type": "code",
   "execution_count": 6,
   "metadata": {},
   "outputs": [
    {
     "data": {
      "text/html": [
       "<div>\n",
       "<style scoped>\n",
       "    .dataframe tbody tr th:only-of-type {\n",
       "        vertical-align: middle;\n",
       "    }\n",
       "\n",
       "    .dataframe tbody tr th {\n",
       "        vertical-align: top;\n",
       "    }\n",
       "\n",
       "    .dataframe thead th {\n",
       "        text-align: right;\n",
       "    }\n",
       "</style>\n",
       "<table border=\"1\" class=\"dataframe\">\n",
       "  <thead>\n",
       "    <tr style=\"text-align: right;\">\n",
       "      <th></th>\n",
       "      <th>Unnamed: 0</th>\n",
       "      <th>text</th>\n",
       "      <th>toxic</th>\n",
       "    </tr>\n",
       "  </thead>\n",
       "  <tbody>\n",
       "    <tr>\n",
       "      <th>33496</th>\n",
       "      <td>33536</td>\n",
       "      <td>Getting additional opinions does seem like a b...</td>\n",
       "      <td>0</td>\n",
       "    </tr>\n",
       "    <tr>\n",
       "      <th>135984</th>\n",
       "      <td>136122</td>\n",
       "      <td>\"\\nOn 17 April, 2007, Did you know? was update...</td>\n",
       "      <td>0</td>\n",
       "    </tr>\n",
       "    <tr>\n",
       "      <th>9637</th>\n",
       "      <td>9650</td>\n",
       "      <td>Vandalism Removed \\nI have undid your edit to ...</td>\n",
       "      <td>0</td>\n",
       "    </tr>\n",
       "    <tr>\n",
       "      <th>42659</th>\n",
       "      <td>42709</td>\n",
       "      <td>\"==Live To Win==\\nThe tie-in with the song is ...</td>\n",
       "      <td>0</td>\n",
       "    </tr>\n",
       "    <tr>\n",
       "      <th>40102</th>\n",
       "      <td>40152</td>\n",
       "      <td>Pictures were taken from the Greek Ministry of...</td>\n",
       "      <td>0</td>\n",
       "    </tr>\n",
       "    <tr>\n",
       "      <th>157948</th>\n",
       "      <td>158107</td>\n",
       "      <td>What is the device used for stiring contents o...</td>\n",
       "      <td>0</td>\n",
       "    </tr>\n",
       "    <tr>\n",
       "      <th>37887</th>\n",
       "      <td>37933</td>\n",
       "      <td>The opinnion of the predeeding ost represents ...</td>\n",
       "      <td>0</td>\n",
       "    </tr>\n",
       "    <tr>\n",
       "      <th>147120</th>\n",
       "      <td>147276</td>\n",
       "      <td>Good to read your reply.  I re-checked the tal...</td>\n",
       "      <td>0</td>\n",
       "    </tr>\n",
       "    <tr>\n",
       "      <th>64993</th>\n",
       "      <td>65060</td>\n",
       "      <td>Are you serious? \\n\\nHow is calling someone a ...</td>\n",
       "      <td>0</td>\n",
       "    </tr>\n",
       "    <tr>\n",
       "      <th>33786</th>\n",
       "      <td>33826</td>\n",
       "      <td>Make up and spandex are</td>\n",
       "      <td>0</td>\n",
       "    </tr>\n",
       "  </tbody>\n",
       "</table>\n",
       "</div>"
      ],
      "text/plain": [
       "        Unnamed: 0                                               text  toxic\n",
       "33496        33536  Getting additional opinions does seem like a b...      0\n",
       "135984      136122  \"\\nOn 17 April, 2007, Did you know? was update...      0\n",
       "9637          9650  Vandalism Removed \\nI have undid your edit to ...      0\n",
       "42659        42709  \"==Live To Win==\\nThe tie-in with the song is ...      0\n",
       "40102        40152  Pictures were taken from the Greek Ministry of...      0\n",
       "157948      158107  What is the device used for stiring contents o...      0\n",
       "37887        37933  The opinnion of the predeeding ost represents ...      0\n",
       "147120      147276  Good to read your reply.  I re-checked the tal...      0\n",
       "64993        65060  Are you serious? \\n\\nHow is calling someone a ...      0\n",
       "33786        33826                            Make up and spandex are      0"
      ]
     },
     "execution_count": 6,
     "metadata": {},
     "output_type": "execute_result"
    }
   ],
   "source": [
    "df.sample(10)"
   ]
  },
  {
   "cell_type": "code",
   "execution_count": 7,
   "metadata": {},
   "outputs": [
    {
     "data": {
      "text/plain": [
       "0    0.898388\n",
       "1    0.101612\n",
       "Name: toxic, dtype: float64"
      ]
     },
     "execution_count": 7,
     "metadata": {},
     "output_type": "execute_result"
    }
   ],
   "source": [
    "df['toxic'].value_counts(normalize =True)"
   ]
  },
  {
   "cell_type": "markdown",
   "metadata": {},
   "source": [
    "классы несбалансированы, поэтому необходимо применить балансировку"
   ]
  },
  {
   "cell_type": "code",
   "execution_count": 8,
   "metadata": {},
   "outputs": [
    {
     "name": "stderr",
     "output_type": "stream",
     "text": [
      "100%|██████████| 159292/159292 [01:21<00:00, 1958.80it/s]\n"
     ]
    }
   ],
   "source": [
    "from tqdm import trange, tqdm\n",
    "\n",
    "df = df[['text','toxic']]\n",
    "corpus = df['text'].values\n",
    " \n",
    "def get_wordnet_pos(text):\n",
    "    \"\"\"Map POS tag to first character lemmatize() accepts\"\"\"\n",
    "    tag = nltk.pos_tag([text])[0][1][0].upper()\n",
    "    tag_dict = {\"J\": wordnet.ADJ,\n",
    "                \"N\": wordnet.NOUN,\n",
    "                \"V\": wordnet.VERB,\n",
    "                \"R\": wordnet.ADV}\n",
    "    return tag_dict.get(tag, wordnet.NOUN)\n",
    " \n",
    "def clear_text(text):\n",
    "    cl_text = re.sub(r\"[^a-zA-Z' ]\", \" \", text)\n",
    "    clear_list = cl_text.split()\n",
    "    clear_text = ' '.join(clear_list)\n",
    "    return clear_text\n",
    " \n",
    "wnl = WordNetLemmatizer()\n",
    "def lemmatize(text):\n",
    "    #lemm_list = [wnl.lemmatize(w, get_wordnet_pos(w)) for w in nltk.word_tokenize(text)] \n",
    "    lemm_list = [wnl.lemmatize(w) for w in nltk.word_tokenize(text)] \n",
    "    lemm_text = \" \".join(lemm_list)\n",
    "    return lemm_text\n",
    " \n",
    "lemm=[]\n",
    "for i in tqdm(range(len(corpus))):\n",
    "    lemm.append(lemmatize(clear_text(corpus[i])))\n",
    "\n",
    "df['lemm_text']=pd.Series(lemm, index=df.index)"
   ]
  },
  {
   "cell_type": "code",
   "execution_count": 15,
   "metadata": {},
   "outputs": [],
   "source": [
    "# %%time\n",
    "# df['lemm_text'] = df['text'].apply(lemmatize_text1)\n",
    "corpus = df['lemm_text'].values"
   ]
  },
  {
   "cell_type": "code",
   "execution_count": 16,
   "metadata": {
    "scrolled": true
   },
   "outputs": [
    {
     "data": {
      "text/plain": [
       "array([\"Explanation Why the edits made under my username Hardcore Metallica Fan were reverted They were n't vandalism just closure on some GAs after I voted at New York Dolls FAC And please do n't remove the template from the talk page since I 'm retired now\",\n",
       "       \"D'aww He match this background colour I 'm seemingly stuck with Thanks talk January UTC\",\n",
       "       \"Hey man I 'm really not trying to edit war It 's just that this guy is constantly removing relevant information and talking to me through edits instead of my talk page He seems to care more about the formatting than the actual info\"],\n",
       "      dtype=object)"
      ]
     },
     "execution_count": 16,
     "metadata": {},
     "output_type": "execute_result"
    }
   ],
   "source": [
    "corpus[:3]"
   ]
  },
  {
   "cell_type": "markdown",
   "metadata": {},
   "source": [
    "** Сделал 2 способами **"
   ]
  },
  {
   "cell_type": "code",
   "execution_count": 8,
   "metadata": {},
   "outputs": [
    {
     "name": "stdout",
     "output_type": "stream",
     "text": [
      "CPU times: user 531 ms, sys: 36 ms, total: 567 ms\n",
      "Wall time: 749 ms\n"
     ]
    }
   ],
   "source": [
    "%%time\n",
    "#  Добавил лематизацию методом  spacy\n",
    "nlp = spacy.load('en_core_web_sm', disable=['parser', 'ner'])\n",
    "\n",
    "def lemmatize_text(text):\n",
    "    text = text.lower()\n",
    "    doc = nlp(text)\n",
    "    lemm_text = \" \".join([token.lemma_ for token in doc])\n",
    "    cleared_text = re.sub(r'[^a-zA-Z]', ' ', lemm_text) \n",
    "    return \" \".join(cleared_text.split())"
   ]
  },
  {
   "cell_type": "code",
   "execution_count": 11,
   "metadata": {},
   "outputs": [
    {
     "name": "stderr",
     "output_type": "stream",
     "text": [
      "100%|██████████| 159292/159292 [21:16<00:00, 124.80it/s] "
     ]
    },
    {
     "name": "stdout",
     "output_type": "stream",
     "text": [
      "CPU times: user 20min 21s, sys: 12.5 s, total: 20min 34s\n",
      "Wall time: 21min 16s\n"
     ]
    },
    {
     "name": "stderr",
     "output_type": "stream",
     "text": [
      "\n"
     ]
    }
   ],
   "source": [
    "%%time\n",
    "tqdm.pandas()\n",
    "df['lemm_text'] = df['text'].progress_apply(lemmatize_text)\n",
    "# corpus = df['lemm_text'].values"
   ]
  },
  {
   "cell_type": "code",
   "execution_count": 13,
   "metadata": {
    "scrolled": true
   },
   "outputs": [
    {
     "data": {
      "text/html": [
       "<div>\n",
       "<style scoped>\n",
       "    .dataframe tbody tr th:only-of-type {\n",
       "        vertical-align: middle;\n",
       "    }\n",
       "\n",
       "    .dataframe tbody tr th {\n",
       "        vertical-align: top;\n",
       "    }\n",
       "\n",
       "    .dataframe thead th {\n",
       "        text-align: right;\n",
       "    }\n",
       "</style>\n",
       "<table border=\"1\" class=\"dataframe\">\n",
       "  <thead>\n",
       "    <tr style=\"text-align: right;\">\n",
       "      <th></th>\n",
       "      <th>Unnamed: 0</th>\n",
       "      <th>text</th>\n",
       "      <th>toxic</th>\n",
       "      <th>lemm_text</th>\n",
       "    </tr>\n",
       "  </thead>\n",
       "  <tbody>\n",
       "    <tr>\n",
       "      <th>0</th>\n",
       "      <td>0</td>\n",
       "      <td>Explanation\\nWhy the edits made under my usern...</td>\n",
       "      <td>0</td>\n",
       "      <td>explanation why the edit make under my usernam...</td>\n",
       "    </tr>\n",
       "    <tr>\n",
       "      <th>1</th>\n",
       "      <td>1</td>\n",
       "      <td>D'aww! He matches this background colour I'm s...</td>\n",
       "      <td>0</td>\n",
       "      <td>d aww he match this background colour I be see...</td>\n",
       "    </tr>\n",
       "    <tr>\n",
       "      <th>2</th>\n",
       "      <td>2</td>\n",
       "      <td>Hey man, I'm really not trying to edit war. It...</td>\n",
       "      <td>0</td>\n",
       "      <td>hey man I be really not try to edit war it be ...</td>\n",
       "    </tr>\n",
       "    <tr>\n",
       "      <th>3</th>\n",
       "      <td>3</td>\n",
       "      <td>\"\\nMore\\nI can't make any real suggestions on ...</td>\n",
       "      <td>0</td>\n",
       "      <td>more I can not make any real suggestion on imp...</td>\n",
       "    </tr>\n",
       "    <tr>\n",
       "      <th>4</th>\n",
       "      <td>4</td>\n",
       "      <td>You, sir, are my hero. Any chance you remember...</td>\n",
       "      <td>0</td>\n",
       "      <td>you sir be my hero any chance you remember wha...</td>\n",
       "    </tr>\n",
       "  </tbody>\n",
       "</table>\n",
       "</div>"
      ],
      "text/plain": [
       "   Unnamed: 0                                               text  toxic  \\\n",
       "0           0  Explanation\\nWhy the edits made under my usern...      0   \n",
       "1           1  D'aww! He matches this background colour I'm s...      0   \n",
       "2           2  Hey man, I'm really not trying to edit war. It...      0   \n",
       "3           3  \"\\nMore\\nI can't make any real suggestions on ...      0   \n",
       "4           4  You, sir, are my hero. Any chance you remember...      0   \n",
       "\n",
       "                                           lemm_text  \n",
       "0  explanation why the edit make under my usernam...  \n",
       "1  d aww he match this background colour I be see...  \n",
       "2  hey man I be really not try to edit war it be ...  \n",
       "3  more I can not make any real suggestion on imp...  \n",
       "4  you sir be my hero any chance you remember wha...  "
      ]
     },
     "execution_count": 13,
     "metadata": {},
     "output_type": "execute_result"
    }
   ],
   "source": [
    "df.head()"
   ]
  },
  {
   "cell_type": "markdown",
   "metadata": {},
   "source": [
    "Разобьем на выборки"
   ]
  },
  {
   "cell_type": "code",
   "execution_count": 12,
   "metadata": {},
   "outputs": [],
   "source": [
    "features = corpus\n",
    "target = df['toxic'].values\n",
    "\n",
    "X_train, X_test, y_train, y_test = train_test_split(features, target, test_size=0.2, random_state=42)"
   ]
  },
  {
   "cell_type": "code",
   "execution_count": 13,
   "metadata": {},
   "outputs": [],
   "source": [
    "stop_words = set(stopwords.words('english'))\n",
    "\n",
    "count_tf_idf = TfidfVectorizer(stop_words = stop_words)\n",
    "X_train = count_tf_idf.fit_transform(X_train)"
   ]
  },
  {
   "cell_type": "code",
   "execution_count": 14,
   "metadata": {},
   "outputs": [],
   "source": [
    "X_test = count_tf_idf.transform(X_test)"
   ]
  },
  {
   "cell_type": "markdown",
   "metadata": {},
   "source": [
    "[Пайплайн](https://www.helenkapatsa.ru/paiplain/)<br> дополнительная опция"
   ]
  },
  {
   "cell_type": "code",
   "execution_count": 15,
   "metadata": {},
   "outputs": [
    {
     "data": {
      "text/plain": [
       "Pipeline(steps=[('vect', TfidfVectorizer()), ('clf', ComplementNB())])"
      ]
     },
     "execution_count": 15,
     "metadata": {},
     "output_type": "execute_result"
    }
   ],
   "source": [
    "# from sklearn.feature_extraction.text import TfidfVectorizer\n",
    "# from sklearn.naive_bayes import ComplementNB\n",
    "# from sklearn.pipeline import Pipeline\n",
    "\n",
    "# pipeline = Pipeline(\n",
    "#     [\n",
    "#         (\"vect\", TfidfVectorizer()),\n",
    "#         (\"clf\", ComplementNB()),\n",
    "#     ]\n",
    "# )\n",
    "# pipeline"
   ]
  },
  {
   "cell_type": "code",
   "execution_count": 16,
   "metadata": {},
   "outputs": [],
   "source": [
    "# parameter_grid = {\n",
    "#     \"vect__max_df\": (0.2, 0.4, 0.6, 0.8, 1.0),\n",
    "# #     \"vect__min_df\": (1, 3, 5, 10),\n",
    "# #     \"vect__ngram_range\": ((1, 1), (1, 2)),  # unigrams or bigrams\n",
    "# #     \"vect__norm\": (\"l1\", \"l2\"),\n",
    "#     \"clf__alpha\": np.logspace(-6, 6, 13),\n",
    "# }"
   ]
  },
  {
   "cell_type": "code",
   "execution_count": 17,
   "metadata": {},
   "outputs": [
    {
     "name": "stdout",
     "output_type": "stream",
     "text": [
      "Performing grid search...\n",
      "Hyperparameters to be evaluated:\n",
      "{'clf__alpha': array([1.e-06, 1.e-05, 1.e-04, 1.e-03, 1.e-02, 1.e-01, 1.e+00, 1.e+01,\n",
      "       1.e+02, 1.e+03, 1.e+04, 1.e+05, 1.e+06]),\n",
      " 'vect__max_df': (0.2, 0.4, 0.6, 0.8, 1.0),\n",
      " 'vect__min_df': (1, 3, 5, 10),\n",
      " 'vect__ngram_range': ((1, 1), (1, 2)),\n",
      " 'vect__norm': ('l1', 'l2')}\n"
     ]
    }
   ],
   "source": [
    "# from pprint import pprint\n",
    "# from sklearn.model_selection import RandomizedSearchCV\n",
    "\n",
    "# random_search = RandomizedSearchCV(\n",
    "#     estimator=pipeline,\n",
    "#     param_distributions=parameter_grid,\n",
    "#     n_iter=40,\n",
    "#     random_state=0,\n",
    "#     n_jobs=2,\n",
    "#     verbose=1,\n",
    "# )\n",
    "\n",
    "# print(\"Performing grid search...\")\n",
    "# print(\"Hyperparameters to be evaluated:\")\n",
    "# pprint(parameter_grid)"
   ]
  },
  {
   "cell_type": "code",
   "execution_count": 19,
   "metadata": {},
   "outputs": [],
   "source": [
    "# # t0 = time()\n",
    "# random_search.fit(X_train, y_train)\n",
    "# # print(f\"Done in {time() - t0:.3f}s\")"
   ]
  },
  {
   "cell_type": "code",
   "execution_count": 20,
   "metadata": {},
   "outputs": [],
   "source": [
    "# print(\"Best parameters combination found:\")\n",
    "# best_parameters = random_search.best_estimator_.get_params()\n",
    "# for param_name in sorted(parameter_grid.keys()):\n",
    "#     print(f\"{param_name}: {best_parameters[param_name]}\")"
   ]
  },
  {
   "cell_type": "markdown",
   "metadata": {},
   "source": [
    "## Обучение"
   ]
  },
  {
   "cell_type": "code",
   "execution_count": 23,
   "metadata": {},
   "outputs": [
    {
     "name": "stdout",
     "output_type": "stream",
     "text": [
      "Лучшие параметры модели:\n",
      "{'C': 10, 'class_weight': 'balanced'}\n",
      "F1: 0.7686488549827536\n",
      "CPU times: user 54.6 s, sys: 1min 57s, total: 2min 52s\n",
      "Wall time: 2min 53s\n"
     ]
    }
   ],
   "source": [
    "%%time\n",
    "#LogisticRegression\n",
    "lr_model = LogisticRegression()\n",
    "hyperparams = [{'C':[10],   \n",
    "                'class_weight':['balanced']}]\n",
    "lrcv = GridSearchCV(lr_model, hyperparams, scoring='f1',cv=3)\n",
    "lrcv.fit(X_train, y_train)\n",
    "lr_best_params = lrcv.best_params_\n",
    "\n",
    "print(\"Лучшие параметры модели:\")\n",
    "print(lr_best_params)\n",
    "print('F1:', lrcv.best_score_)"
   ]
  },
  {
   "cell_type": "code",
   "execution_count": 30,
   "metadata": {},
   "outputs": [
    {
     "name": "stdout",
     "output_type": "stream",
     "text": [
      "CPU times: user 42 µs, sys: 34 µs, total: 76 µs\n",
      "Wall time: 80.1 µs\n"
     ]
    }
   ],
   "source": [
    "%%time\n",
    "#CatBoost\n",
    "cat = CatBoostClassifier(eval_metric=\"F1\", \n",
    "                                   iterations=100, \n",
    "                                   max_depth=6, \n",
    "                                   learning_rate=0.9, \n",
    "                                   random_state=42\n",
    "                                   )\n",
    "# text_features=[\"text_lemm\"]"
   ]
  },
  {
   "cell_type": "code",
   "execution_count": 31,
   "metadata": {},
   "outputs": [
    {
     "name": "stderr",
     "output_type": "stream",
     "text": [
      "[Parallel(n_jobs=1)]: Using backend SequentialBackend with 1 concurrent workers.\n"
     ]
    },
    {
     "name": "stdout",
     "output_type": "stream",
     "text": [
      "[CV] START .....................................................................\n",
      "0:\tlearn: 0.4270639\ttotal: 2.52s\tremaining: 4m 9s\n",
      "1:\tlearn: 0.5762580\ttotal: 4.36s\tremaining: 3m 33s\n",
      "2:\tlearn: 0.6136415\ttotal: 6.24s\tremaining: 3m 21s\n",
      "3:\tlearn: 0.6385088\ttotal: 8.1s\tremaining: 3m 14s\n",
      "4:\tlearn: 0.6612109\ttotal: 9.89s\tremaining: 3m 7s\n",
      "5:\tlearn: 0.6641965\ttotal: 11.7s\tremaining: 3m 3s\n",
      "6:\tlearn: 0.6733842\ttotal: 13.6s\tremaining: 3m\n",
      "7:\tlearn: 0.6864191\ttotal: 15.3s\tremaining: 2m 56s\n",
      "8:\tlearn: 0.6937566\ttotal: 17.1s\tremaining: 2m 52s\n",
      "9:\tlearn: 0.7004467\ttotal: 18.9s\tremaining: 2m 50s\n",
      "10:\tlearn: 0.7062418\ttotal: 20.8s\tremaining: 2m 48s\n",
      "11:\tlearn: 0.7103825\ttotal: 22.6s\tremaining: 2m 45s\n",
      "12:\tlearn: 0.7211229\ttotal: 24.5s\tremaining: 2m 43s\n",
      "13:\tlearn: 0.7226718\ttotal: 26.3s\tremaining: 2m 41s\n",
      "14:\tlearn: 0.7268756\ttotal: 28.1s\tremaining: 2m 39s\n",
      "15:\tlearn: 0.7278229\ttotal: 29.9s\tremaining: 2m 37s\n",
      "16:\tlearn: 0.7304396\ttotal: 31.8s\tremaining: 2m 35s\n",
      "17:\tlearn: 0.7386062\ttotal: 33.5s\tremaining: 2m 32s\n",
      "18:\tlearn: 0.7430315\ttotal: 35.3s\tremaining: 2m 30s\n",
      "19:\tlearn: 0.7439273\ttotal: 37.1s\tremaining: 2m 28s\n",
      "20:\tlearn: 0.7465550\ttotal: 38.9s\tremaining: 2m 26s\n",
      "21:\tlearn: 0.7492419\ttotal: 40.6s\tremaining: 2m 23s\n",
      "22:\tlearn: 0.7502355\ttotal: 42.3s\tremaining: 2m 21s\n",
      "23:\tlearn: 0.7522332\ttotal: 44s\tremaining: 2m 19s\n",
      "24:\tlearn: 0.7534771\ttotal: 45.8s\tremaining: 2m 17s\n",
      "25:\tlearn: 0.7558358\ttotal: 47.6s\tremaining: 2m 15s\n",
      "26:\tlearn: 0.7563036\ttotal: 49.4s\tremaining: 2m 13s\n",
      "27:\tlearn: 0.7592667\ttotal: 51.3s\tremaining: 2m 11s\n",
      "28:\tlearn: 0.7608870\ttotal: 53.2s\tremaining: 2m 10s\n",
      "29:\tlearn: 0.7615359\ttotal: 55.2s\tremaining: 2m 8s\n",
      "30:\tlearn: 0.7637355\ttotal: 57.2s\tremaining: 2m 7s\n",
      "31:\tlearn: 0.7651712\ttotal: 59.2s\tremaining: 2m 5s\n",
      "32:\tlearn: 0.7663812\ttotal: 1m 1s\tremaining: 2m 3s\n",
      "33:\tlearn: 0.7678536\ttotal: 1m 2s\tremaining: 2m 1s\n",
      "34:\tlearn: 0.7700655\ttotal: 1m 4s\tremaining: 2m\n",
      "35:\tlearn: 0.7716098\ttotal: 1m 6s\tremaining: 1m 58s\n",
      "36:\tlearn: 0.7730604\ttotal: 1m 8s\tremaining: 1m 56s\n",
      "37:\tlearn: 0.7750577\ttotal: 1m 10s\tremaining: 1m 54s\n",
      "38:\tlearn: 0.7759166\ttotal: 1m 11s\tremaining: 1m 52s\n",
      "39:\tlearn: 0.7772730\ttotal: 1m 13s\tremaining: 1m 50s\n",
      "40:\tlearn: 0.7773311\ttotal: 1m 15s\tremaining: 1m 48s\n",
      "41:\tlearn: 0.7798033\ttotal: 1m 17s\tremaining: 1m 47s\n",
      "42:\tlearn: 0.7809736\ttotal: 1m 19s\tremaining: 1m 45s\n",
      "43:\tlearn: 0.7823580\ttotal: 1m 21s\tremaining: 1m 43s\n",
      "44:\tlearn: 0.7839288\ttotal: 1m 22s\tremaining: 1m 41s\n",
      "45:\tlearn: 0.7847240\ttotal: 1m 24s\tremaining: 1m 39s\n",
      "46:\tlearn: 0.7854389\ttotal: 1m 26s\tremaining: 1m 37s\n",
      "47:\tlearn: 0.7859993\ttotal: 1m 28s\tremaining: 1m 35s\n",
      "48:\tlearn: 0.7867137\ttotal: 1m 30s\tremaining: 1m 34s\n",
      "49:\tlearn: 0.7873717\ttotal: 1m 32s\tremaining: 1m 32s\n",
      "50:\tlearn: 0.7884251\ttotal: 1m 34s\tremaining: 1m 30s\n",
      "51:\tlearn: 0.7895527\ttotal: 1m 36s\tremaining: 1m 28s\n",
      "52:\tlearn: 0.7900542\ttotal: 1m 37s\tremaining: 1m 26s\n",
      "53:\tlearn: 0.7909464\ttotal: 1m 39s\tremaining: 1m 24s\n",
      "54:\tlearn: 0.7909980\ttotal: 1m 41s\tremaining: 1m 22s\n",
      "55:\tlearn: 0.7912618\ttotal: 1m 43s\tremaining: 1m 20s\n",
      "56:\tlearn: 0.7915498\ttotal: 1m 44s\tremaining: 1m 19s\n",
      "57:\tlearn: 0.7916558\ttotal: 1m 46s\tremaining: 1m 17s\n",
      "58:\tlearn: 0.7921799\ttotal: 1m 48s\tremaining: 1m 15s\n",
      "59:\tlearn: 0.7931820\ttotal: 1m 50s\tremaining: 1m 13s\n",
      "60:\tlearn: 0.7933099\ttotal: 1m 51s\tremaining: 1m 11s\n",
      "61:\tlearn: 0.7950068\ttotal: 1m 53s\tremaining: 1m 9s\n",
      "62:\tlearn: 0.7959727\ttotal: 1m 55s\tremaining: 1m 7s\n",
      "63:\tlearn: 0.7964418\ttotal: 1m 57s\tremaining: 1m 6s\n",
      "64:\tlearn: 0.7966245\ttotal: 1m 59s\tremaining: 1m 4s\n",
      "65:\tlearn: 0.7966751\ttotal: 2m\tremaining: 1m 2s\n",
      "66:\tlearn: 0.7970657\ttotal: 2m 2s\tremaining: 1m\n",
      "67:\tlearn: 0.7978199\ttotal: 2m 4s\tremaining: 58.5s\n",
      "68:\tlearn: 0.7997408\ttotal: 2m 6s\tremaining: 56.7s\n",
      "69:\tlearn: 0.8002072\ttotal: 2m 7s\tremaining: 54.9s\n",
      "70:\tlearn: 0.8007511\ttotal: 2m 9s\tremaining: 53s\n",
      "71:\tlearn: 0.8012945\ttotal: 2m 11s\tremaining: 51.1s\n",
      "72:\tlearn: 0.8017861\ttotal: 2m 13s\tremaining: 49.3s\n",
      "73:\tlearn: 0.8021736\ttotal: 2m 15s\tremaining: 47.5s\n",
      "74:\tlearn: 0.8026129\ttotal: 2m 16s\tremaining: 45.6s\n",
      "75:\tlearn: 0.8032596\ttotal: 2m 18s\tremaining: 43.8s\n",
      "76:\tlearn: 0.8036984\ttotal: 2m 20s\tremaining: 42s\n",
      "77:\tlearn: 0.8039051\ttotal: 2m 22s\tremaining: 40.1s\n",
      "78:\tlearn: 0.8041370\ttotal: 2m 24s\tremaining: 38.3s\n",
      "79:\tlearn: 0.8042410\ttotal: 2m 25s\tremaining: 36.5s\n",
      "80:\tlearn: 0.8046794\ttotal: 2m 27s\tremaining: 34.7s\n",
      "81:\tlearn: 0.8054264\ttotal: 2m 29s\tremaining: 32.8s\n",
      "82:\tlearn: 0.8059412\ttotal: 2m 31s\tremaining: 31s\n",
      "83:\tlearn: 0.8061475\ttotal: 2m 33s\tremaining: 29.2s\n",
      "84:\tlearn: 0.8063037\ttotal: 2m 34s\tremaining: 27.3s\n",
      "85:\tlearn: 0.8074614\ttotal: 2m 36s\tremaining: 25.5s\n",
      "86:\tlearn: 0.8090640\ttotal: 2m 38s\tremaining: 23.7s\n",
      "87:\tlearn: 0.8100598\ttotal: 2m 40s\tremaining: 21.9s\n",
      "88:\tlearn: 0.8106022\ttotal: 2m 42s\tremaining: 20.1s\n",
      "89:\tlearn: 0.8112662\ttotal: 2m 44s\tremaining: 18.2s\n",
      "90:\tlearn: 0.8117768\ttotal: 2m 45s\tremaining: 16.4s\n",
      "91:\tlearn: 0.8123876\ttotal: 2m 47s\tremaining: 14.6s\n",
      "92:\tlearn: 0.8125924\ttotal: 2m 49s\tremaining: 12.8s\n",
      "93:\tlearn: 0.8131021\ttotal: 2m 51s\tremaining: 10.9s\n",
      "94:\tlearn: 0.8136116\ttotal: 2m 53s\tremaining: 9.11s\n",
      "95:\tlearn: 0.8141207\ttotal: 2m 54s\tremaining: 7.29s\n",
      "96:\tlearn: 0.8143682\ttotal: 2m 56s\tremaining: 5.47s\n",
      "97:\tlearn: 0.8157018\ttotal: 2m 58s\tremaining: 3.65s\n",
      "98:\tlearn: 0.8169194\ttotal: 3m\tremaining: 1.82s\n",
      "99:\tlearn: 0.8173735\ttotal: 3m 2s\tremaining: 0us\n",
      "[CV] END ................................ score: (test=0.744) total time= 3.5min\n",
      "[CV] START .....................................................................\n"
     ]
    },
    {
     "name": "stderr",
     "output_type": "stream",
     "text": [
      "[Parallel(n_jobs=1)]: Done   1 out of   1 | elapsed:  3.5min remaining:    0.0s\n"
     ]
    },
    {
     "name": "stdout",
     "output_type": "stream",
     "text": [
      "0:\tlearn: 0.4198020\ttotal: 2.53s\tremaining: 4m 10s\n",
      "1:\tlearn: 0.5711645\ttotal: 4.53s\tremaining: 3m 41s\n",
      "2:\tlearn: 0.5977559\ttotal: 6.45s\tremaining: 3m 28s\n",
      "3:\tlearn: 0.6170752\ttotal: 8.38s\tremaining: 3m 21s\n",
      "4:\tlearn: 0.6440854\ttotal: 10.3s\tremaining: 3m 15s\n",
      "5:\tlearn: 0.6409272\ttotal: 12.3s\tremaining: 3m 12s\n",
      "6:\tlearn: 0.6574736\ttotal: 14.3s\tremaining: 3m 9s\n",
      "7:\tlearn: 0.6672531\ttotal: 16.2s\tremaining: 3m 6s\n",
      "8:\tlearn: 0.6801567\ttotal: 18.1s\tremaining: 3m 3s\n",
      "9:\tlearn: 0.6943909\ttotal: 20.1s\tremaining: 3m\n",
      "10:\tlearn: 0.6994605\ttotal: 22s\tremaining: 2m 57s\n",
      "11:\tlearn: 0.7057163\ttotal: 23.9s\tremaining: 2m 55s\n",
      "12:\tlearn: 0.7127273\ttotal: 25.8s\tremaining: 2m 52s\n",
      "13:\tlearn: 0.7164948\ttotal: 27.7s\tremaining: 2m 50s\n",
      "14:\tlearn: 0.7206545\ttotal: 29.6s\tremaining: 2m 47s\n",
      "15:\tlearn: 0.7242713\ttotal: 31.5s\tremaining: 2m 45s\n",
      "16:\tlearn: 0.7282482\ttotal: 33.3s\tremaining: 2m 42s\n",
      "17:\tlearn: 0.7321220\ttotal: 35.1s\tremaining: 2m 39s\n",
      "18:\tlearn: 0.7328307\ttotal: 36.9s\tremaining: 2m 37s\n",
      "19:\tlearn: 0.7364108\ttotal: 38.6s\tremaining: 2m 34s\n",
      "20:\tlearn: 0.7390505\ttotal: 40.4s\tremaining: 2m 31s\n",
      "21:\tlearn: 0.7418808\ttotal: 42.2s\tremaining: 2m 29s\n",
      "22:\tlearn: 0.7448332\ttotal: 44.1s\tremaining: 2m 27s\n",
      "23:\tlearn: 0.7463250\ttotal: 45.9s\tremaining: 2m 25s\n",
      "24:\tlearn: 0.7484357\ttotal: 47.7s\tremaining: 2m 23s\n",
      "25:\tlearn: 0.7522456\ttotal: 49.5s\tremaining: 2m 20s\n",
      "26:\tlearn: 0.7541181\ttotal: 51.3s\tremaining: 2m 18s\n",
      "27:\tlearn: 0.7557992\ttotal: 53.1s\tremaining: 2m 16s\n",
      "28:\tlearn: 0.7579214\ttotal: 55s\tremaining: 2m 14s\n",
      "29:\tlearn: 0.7594160\ttotal: 56.7s\tremaining: 2m 12s\n",
      "30:\tlearn: 0.7603757\ttotal: 58.6s\tremaining: 2m 10s\n",
      "31:\tlearn: 0.7613530\ttotal: 1m\tremaining: 2m 8s\n",
      "32:\tlearn: 0.7637450\ttotal: 1m 2s\tremaining: 2m 6s\n",
      "33:\tlearn: 0.7649947\ttotal: 1m 4s\tremaining: 2m 4s\n",
      "34:\tlearn: 0.7662226\ttotal: 1m 6s\tremaining: 2m 2s\n",
      "35:\tlearn: 0.7681409\ttotal: 1m 7s\tremaining: 2m\n",
      "36:\tlearn: 0.7693122\ttotal: 1m 9s\tremaining: 1m 58s\n",
      "37:\tlearn: 0.7708471\ttotal: 1m 11s\tremaining: 1m 56s\n",
      "38:\tlearn: 0.7730627\ttotal: 1m 13s\tremaining: 1m 54s\n",
      "39:\tlearn: 0.7742445\ttotal: 1m 14s\tremaining: 1m 52s\n",
      "40:\tlearn: 0.7752122\ttotal: 1m 16s\tremaining: 1m 50s\n",
      "41:\tlearn: 0.7761194\ttotal: 1m 18s\tremaining: 1m 48s\n",
      "42:\tlearn: 0.7779091\ttotal: 1m 20s\tremaining: 1m 46s\n",
      "43:\tlearn: 0.7793076\ttotal: 1m 21s\tremaining: 1m 44s\n",
      "44:\tlearn: 0.7818741\ttotal: 1m 23s\tremaining: 1m 42s\n",
      "45:\tlearn: 0.7832168\ttotal: 1m 25s\tremaining: 1m 40s\n",
      "46:\tlearn: 0.7841191\ttotal: 1m 27s\tremaining: 1m 38s\n",
      "47:\tlearn: 0.7855139\ttotal: 1m 29s\tremaining: 1m 36s\n",
      "48:\tlearn: 0.7883866\ttotal: 1m 31s\tremaining: 1m 34s\n",
      "49:\tlearn: 0.7888001\ttotal: 1m 33s\tremaining: 1m 33s\n",
      "50:\tlearn: 0.7908967\ttotal: 1m 34s\tremaining: 1m 31s\n",
      "51:\tlearn: 0.7915451\ttotal: 1m 36s\tremaining: 1m 29s\n",
      "52:\tlearn: 0.7919071\ttotal: 1m 38s\tremaining: 1m 27s\n",
      "53:\tlearn: 0.7924284\ttotal: 1m 40s\tremaining: 1m 25s\n",
      "54:\tlearn: 0.7925580\ttotal: 1m 41s\tremaining: 1m 23s\n",
      "55:\tlearn: 0.7938298\ttotal: 1m 43s\tremaining: 1m 21s\n",
      "56:\tlearn: 0.7959342\ttotal: 1m 45s\tremaining: 1m 19s\n",
      "57:\tlearn: 0.7963479\ttotal: 1m 47s\tremaining: 1m 17s\n",
      "58:\tlearn: 0.7968153\ttotal: 1m 49s\tremaining: 1m 15s\n",
      "59:\tlearn: 0.7987840\ttotal: 1m 50s\tremaining: 1m 13s\n",
      "60:\tlearn: 0.7992241\ttotal: 1m 52s\tremaining: 1m 12s\n",
      "61:\tlearn: 0.7993276\ttotal: 1m 54s\tremaining: 1m 10s\n",
      "62:\tlearn: 0.7998449\ttotal: 1m 56s\tremaining: 1m 8s\n",
      "63:\tlearn: 0.8001551\ttotal: 1m 58s\tremaining: 1m 6s\n",
      "64:\tlearn: 0.8004652\ttotal: 2m\tremaining: 1m 4s\n",
      "65:\tlearn: 0.8023496\ttotal: 2m 1s\tremaining: 1m 2s\n",
      "66:\tlearn: 0.8033295\ttotal: 2m 3s\tremaining: 1m\n",
      "67:\tlearn: 0.8036129\ttotal: 2m 5s\tremaining: 59s\n",
      "68:\tlearn: 0.8042301\ttotal: 2m 7s\tremaining: 57.2s\n",
      "69:\tlearn: 0.8043590\ttotal: 2m 8s\tremaining: 55.3s\n",
      "70:\tlearn: 0.8056182\ttotal: 2m 10s\tremaining: 53.4s\n",
      "71:\tlearn: 0.8064641\ttotal: 2m 12s\tremaining: 51.5s\n",
      "72:\tlearn: 0.8065307\ttotal: 2m 14s\tremaining: 49.7s\n",
      "73:\tlearn: 0.8066327\ttotal: 2m 16s\tremaining: 47.8s\n",
      "74:\tlearn: 0.8073004\ttotal: 2m 17s\tremaining: 46s\n",
      "75:\tlearn: 0.8079428\ttotal: 2m 19s\tremaining: 44.1s\n",
      "76:\tlearn: 0.8087904\ttotal: 2m 21s\tremaining: 42.2s\n",
      "77:\tlearn: 0.8090206\ttotal: 2m 23s\tremaining: 40.4s\n",
      "78:\tlearn: 0.8094809\ttotal: 2m 24s\tremaining: 38.5s\n",
      "79:\tlearn: 0.8100271\ttotal: 2m 26s\tremaining: 36.7s\n",
      "80:\tlearn: 0.8105914\ttotal: 2m 28s\tremaining: 34.8s\n",
      "81:\tlearn: 0.8112041\ttotal: 2m 30s\tremaining: 33s\n",
      "82:\tlearn: 0.8115345\ttotal: 2m 32s\tremaining: 31.1s\n",
      "83:\tlearn: 0.8125644\ttotal: 2m 33s\tremaining: 29.3s\n",
      "84:\tlearn: 0.8129987\ttotal: 2m 35s\tremaining: 27.4s\n",
      "85:\tlearn: 0.8136247\ttotal: 2m 37s\tremaining: 25.6s\n",
      "86:\tlearn: 0.8139535\ttotal: 2m 39s\tremaining: 23.8s\n",
      "87:\tlearn: 0.8151999\ttotal: 2m 40s\tremaining: 21.9s\n",
      "88:\tlearn: 0.8160462\ttotal: 2m 42s\tremaining: 20.1s\n",
      "89:\tlearn: 0.8164784\ttotal: 2m 44s\tremaining: 18.2s\n",
      "90:\tlearn: 0.8170912\ttotal: 2m 45s\tremaining: 16.4s\n",
      "91:\tlearn: 0.8179020\ttotal: 2m 47s\tremaining: 14.6s\n",
      "92:\tlearn: 0.8184324\ttotal: 2m 49s\tremaining: 12.8s\n",
      "93:\tlearn: 0.8177687\ttotal: 2m 51s\tremaining: 10.9s\n",
      "94:\tlearn: 0.8183679\ttotal: 2m 53s\tremaining: 9.11s\n",
      "95:\tlearn: 0.8193033\ttotal: 2m 54s\tremaining: 7.29s\n",
      "96:\tlearn: 0.8199655\ttotal: 2m 56s\tremaining: 5.46s\n",
      "97:\tlearn: 0.8205292\ttotal: 2m 58s\tremaining: 3.64s\n",
      "98:\tlearn: 0.8206275\ttotal: 3m\tremaining: 1.82s\n",
      "99:\tlearn: 0.8208765\ttotal: 3m 2s\tremaining: 0us\n",
      "[CV] END ................................ score: (test=0.739) total time= 3.5min\n",
      "[CV] START .....................................................................\n"
     ]
    },
    {
     "name": "stderr",
     "output_type": "stream",
     "text": [
      "[Parallel(n_jobs=1)]: Done   2 out of   2 | elapsed:  7.0min remaining:    0.0s\n"
     ]
    },
    {
     "name": "stdout",
     "output_type": "stream",
     "text": [
      "0:\tlearn: 0.3595018\ttotal: 2.46s\tremaining: 4m 3s\n",
      "1:\tlearn: 0.5425232\ttotal: 4.45s\tremaining: 3m 38s\n",
      "2:\tlearn: 0.5977134\ttotal: 6.4s\tremaining: 3m 26s\n",
      "3:\tlearn: 0.6265686\ttotal: 8.25s\tremaining: 3m 18s\n",
      "4:\tlearn: 0.6521645\ttotal: 10.2s\tremaining: 3m 13s\n",
      "5:\tlearn: 0.6671891\ttotal: 12.1s\tremaining: 3m 8s\n",
      "6:\tlearn: 0.6790185\ttotal: 13.9s\tremaining: 3m 4s\n",
      "7:\tlearn: 0.6855941\ttotal: 15.7s\tremaining: 3m\n",
      "8:\tlearn: 0.6940899\ttotal: 17.5s\tremaining: 2m 57s\n",
      "9:\tlearn: 0.6941135\ttotal: 19.4s\tremaining: 2m 54s\n",
      "10:\tlearn: 0.6945542\ttotal: 21.2s\tremaining: 2m 51s\n",
      "11:\tlearn: 0.7014225\ttotal: 23.1s\tremaining: 2m 49s\n",
      "12:\tlearn: 0.7037373\ttotal: 25s\tremaining: 2m 47s\n",
      "13:\tlearn: 0.7099687\ttotal: 26.9s\tremaining: 2m 45s\n",
      "14:\tlearn: 0.7156293\ttotal: 28.7s\tremaining: 2m 42s\n",
      "15:\tlearn: 0.7211605\ttotal: 30.6s\tremaining: 2m 40s\n",
      "16:\tlearn: 0.7231615\ttotal: 32.4s\tremaining: 2m 38s\n",
      "17:\tlearn: 0.7257511\ttotal: 34.2s\tremaining: 2m 35s\n",
      "18:\tlearn: 0.7291382\ttotal: 36s\tremaining: 2m 33s\n",
      "19:\tlearn: 0.7320101\ttotal: 37.8s\tremaining: 2m 31s\n",
      "20:\tlearn: 0.7354022\ttotal: 39.6s\tremaining: 2m 28s\n",
      "21:\tlearn: 0.7394170\ttotal: 41.4s\tremaining: 2m 26s\n",
      "22:\tlearn: 0.7413630\ttotal: 43.2s\tremaining: 2m 24s\n",
      "23:\tlearn: 0.7437458\ttotal: 45s\tremaining: 2m 22s\n",
      "24:\tlearn: 0.7451219\ttotal: 46.8s\tremaining: 2m 20s\n",
      "25:\tlearn: 0.7474761\ttotal: 48.5s\tremaining: 2m 18s\n",
      "26:\tlearn: 0.7496639\ttotal: 50.3s\tremaining: 2m 15s\n",
      "27:\tlearn: 0.7517778\ttotal: 52.1s\tremaining: 2m 13s\n",
      "28:\tlearn: 0.7540107\ttotal: 54s\tremaining: 2m 12s\n",
      "29:\tlearn: 0.7554576\ttotal: 55.8s\tremaining: 2m 10s\n",
      "30:\tlearn: 0.7565838\ttotal: 57.6s\tremaining: 2m 8s\n",
      "31:\tlearn: 0.7585840\ttotal: 59.5s\tremaining: 2m 6s\n",
      "32:\tlearn: 0.7596755\ttotal: 1m 1s\tremaining: 2m 4s\n",
      "33:\tlearn: 0.7628975\ttotal: 1m 3s\tremaining: 2m 2s\n",
      "34:\tlearn: 0.7631736\ttotal: 1m 4s\tremaining: 2m\n",
      "35:\tlearn: 0.7645539\ttotal: 1m 6s\tremaining: 1m 58s\n",
      "36:\tlearn: 0.7660981\ttotal: 1m 8s\tremaining: 1m 56s\n",
      "37:\tlearn: 0.7673405\ttotal: 1m 10s\tremaining: 1m 55s\n",
      "38:\tlearn: 0.7696970\ttotal: 1m 12s\tremaining: 1m 53s\n",
      "39:\tlearn: 0.7710431\ttotal: 1m 14s\tremaining: 1m 51s\n",
      "40:\tlearn: 0.7715395\ttotal: 1m 16s\tremaining: 1m 49s\n",
      "41:\tlearn: 0.7726197\ttotal: 1m 17s\tremaining: 1m 47s\n",
      "42:\tlearn: 0.7738080\ttotal: 1m 19s\tremaining: 1m 45s\n",
      "43:\tlearn: 0.7756948\ttotal: 1m 21s\tremaining: 1m 43s\n",
      "44:\tlearn: 0.7767881\ttotal: 1m 23s\tremaining: 1m 41s\n",
      "45:\tlearn: 0.7780395\ttotal: 1m 25s\tremaining: 1m 40s\n",
      "46:\tlearn: 0.7810689\ttotal: 1m 27s\tremaining: 1m 38s\n",
      "47:\tlearn: 0.7824104\ttotal: 1m 29s\tremaining: 1m 36s\n",
      "48:\tlearn: 0.7832823\ttotal: 1m 30s\tremaining: 1m 34s\n",
      "49:\tlearn: 0.7844413\ttotal: 1m 32s\tremaining: 1m 32s\n",
      "50:\tlearn: 0.7861970\ttotal: 1m 34s\tremaining: 1m 30s\n",
      "51:\tlearn: 0.7871705\ttotal: 1m 36s\tremaining: 1m 28s\n",
      "52:\tlearn: 0.7876192\ttotal: 1m 38s\tremaining: 1m 27s\n",
      "53:\tlearn: 0.7876703\ttotal: 1m 40s\tremaining: 1m 25s\n",
      "54:\tlearn: 0.7883268\ttotal: 1m 41s\tremaining: 1m 23s\n",
      "55:\tlearn: 0.7889278\ttotal: 1m 43s\tremaining: 1m 21s\n",
      "56:\tlearn: 0.7892929\ttotal: 1m 45s\tremaining: 1m 19s\n",
      "57:\tlearn: 0.7893987\ttotal: 1m 47s\tremaining: 1m 17s\n",
      "58:\tlearn: 0.7899987\ttotal: 1m 48s\tremaining: 1m 15s\n",
      "59:\tlearn: 0.7905983\ttotal: 1m 50s\tremaining: 1m 13s\n",
      "60:\tlearn: 0.7912003\ttotal: 1m 52s\tremaining: 1m 11s\n",
      "61:\tlearn: 0.7920843\ttotal: 1m 54s\tremaining: 1m 9s\n",
      "62:\tlearn: 0.7928918\ttotal: 1m 55s\tremaining: 1m 8s\n",
      "63:\tlearn: 0.7939809\ttotal: 1m 57s\tremaining: 1m 6s\n",
      "64:\tlearn: 0.7944233\ttotal: 1m 59s\tremaining: 1m 4s\n",
      "65:\tlearn: 0.7953081\ttotal: 2m 1s\tremaining: 1m 2s\n",
      "66:\tlearn: 0.7966265\ttotal: 2m 3s\tremaining: 1m\n",
      "67:\tlearn: 0.7969876\ttotal: 2m 5s\tremaining: 58.9s\n",
      "68:\tlearn: 0.7973234\ttotal: 2m 6s\tremaining: 57s\n",
      "69:\tlearn: 0.7981746\ttotal: 2m 8s\tremaining: 55.1s\n",
      "70:\tlearn: 0.7982518\ttotal: 2m 10s\tremaining: 53.3s\n",
      "71:\tlearn: 0.7989979\ttotal: 2m 12s\tremaining: 51.4s\n",
      "72:\tlearn: 0.7993835\ttotal: 2m 13s\tremaining: 49.5s\n",
      "73:\tlearn: 0.7999229\ttotal: 2m 15s\tremaining: 47.6s\n",
      "74:\tlearn: 0.8005905\ttotal: 2m 17s\tremaining: 45.7s\n",
      "75:\tlearn: 0.8014630\ttotal: 2m 19s\tremaining: 43.9s\n",
      "76:\tlearn: 0.8017452\ttotal: 2m 20s\tremaining: 42s\n",
      "77:\tlearn: 0.8021040\ttotal: 2m 22s\tremaining: 40.2s\n",
      "78:\tlearn: 0.8026679\ttotal: 2m 24s\tremaining: 38.3s\n",
      "79:\tlearn: 0.8034100\ttotal: 2m 26s\tremaining: 36.5s\n",
      "80:\tlearn: 0.8039982\ttotal: 2m 27s\tremaining: 34.7s\n",
      "81:\tlearn: 0.8041765\ttotal: 2m 29s\tremaining: 32.9s\n",
      "82:\tlearn: 0.8046875\ttotal: 2m 31s\tremaining: 31s\n",
      "83:\tlearn: 0.8057563\ttotal: 2m 33s\tremaining: 29.2s\n",
      "84:\tlearn: 0.8060866\ttotal: 2m 35s\tremaining: 27.4s\n",
      "85:\tlearn: 0.8064681\ttotal: 2m 37s\tremaining: 25.6s\n",
      "86:\tlearn: 0.8076677\ttotal: 2m 38s\tremaining: 23.8s\n",
      "87:\tlearn: 0.8077193\ttotal: 2m 40s\tremaining: 21.9s\n",
      "88:\tlearn: 0.8083041\ttotal: 2m 42s\tremaining: 20.1s\n",
      "89:\tlearn: 0.8094021\ttotal: 2m 44s\tremaining: 18.2s\n",
      "90:\tlearn: 0.8102689\ttotal: 2m 45s\tremaining: 16.4s\n",
      "91:\tlearn: 0.8108281\ttotal: 2m 47s\tremaining: 14.6s\n",
      "92:\tlearn: 0.8125956\ttotal: 2m 49s\tremaining: 12.8s\n",
      "93:\tlearn: 0.8128744\ttotal: 2m 51s\tremaining: 10.9s\n",
      "94:\tlearn: 0.8133801\ttotal: 2m 52s\tremaining: 9.1s\n",
      "95:\tlearn: 0.8140793\ttotal: 2m 54s\tremaining: 7.28s\n",
      "96:\tlearn: 0.8145839\ttotal: 2m 56s\tremaining: 5.46s\n",
      "97:\tlearn: 0.8151918\ttotal: 2m 58s\tremaining: 3.64s\n",
      "98:\tlearn: 0.8156204\ttotal: 3m\tremaining: 1.82s\n",
      "99:\tlearn: 0.8167493\ttotal: 3m 2s\tremaining: 0us\n",
      "[CV] END ................................ score: (test=0.746) total time= 3.5min\n"
     ]
    },
    {
     "name": "stderr",
     "output_type": "stream",
     "text": [
      "[Parallel(n_jobs=1)]: Done   3 out of   3 | elapsed: 10.4min remaining:    0.0s\n",
      "[Parallel(n_jobs=1)]: Done   3 out of   3 | elapsed: 10.4min finished\n"
     ]
    }
   ],
   "source": [
    "\n",
    "cvf1 = cross_val_score(cat, X_train, y_train, cv=3, scoring=\"f1\", verbose=20)"
   ]
  },
  {
   "cell_type": "code",
   "execution_count": 32,
   "metadata": {
    "scrolled": true
   },
   "outputs": [
    {
     "data": {
      "text/plain": [
       "0.743214087214533"
      ]
     },
     "execution_count": 32,
     "metadata": {},
     "output_type": "execute_result"
    }
   ],
   "source": [
    "cat.best_score= cvf1.mean()\n",
    "cat.best_score"
   ]
  },
  {
   "cell_type": "code",
   "execution_count": 33,
   "metadata": {},
   "outputs": [
    {
     "name": "stdout",
     "output_type": "stream",
     "text": [
      "0:\tlearn: 0.4186967\ttotal: 3.3s\tremaining: 5m 26s\n",
      "20:\tlearn: 0.7417861\ttotal: 53.6s\tremaining: 3m 21s\n",
      "40:\tlearn: 0.7709492\ttotal: 1m 41s\tremaining: 2m 26s\n",
      "60:\tlearn: 0.7928176\ttotal: 2m 29s\tremaining: 1m 35s\n",
      "80:\tlearn: 0.8057885\ttotal: 3m 17s\tremaining: 46.4s\n",
      "99:\tlearn: 0.8132157\ttotal: 4m 3s\tremaining: 0us\n",
      "F1: 0.743214087214533\n"
     ]
    }
   ],
   "source": [
    "cat.fit(X_train, y_train, verbose=20)\n",
    "print('F1:', cat.best_score)"
   ]
  },
  {
   "cell_type": "markdown",
   "metadata": {},
   "source": [
    "<font color='blue'><b>Комментарий ревьюера : </b></font> ✔️\\\n",
    "<font color='green'> 👍</font>"
   ]
  },
  {
   "cell_type": "markdown",
   "metadata": {},
   "source": [
    "**Сначала был поиск лучших параметров. Он выполнялся 6 часов\n",
    "Поэтому программу упростил**\n",
    "<!-- # grid = {'learning_rate': [0.1, 0.2]}\n",
    "# parameters = {'eval_metric': 'F1',\n",
    "#               'random_seed':42,\n",
    "#               'learning_rate': 0.01,\n",
    "#                'early_stopping_rounds': 200,\n",
    "#               'verbose':200}\n",
    "# cv_dataset = Pool(data=X_train, label= y_train)    \n",
    "# cat = CatBoostClassifier(**parameters)\n",
    "# catcv = cat.grid_search(grid,cv_dataset, cv=4) -->\n",
    "\n",
    "#CAT_best_params = cat.best_params_\n",
    "#print(\"Лучшие параметры модели:\")\n",
    "\n",
    "**Результаты подбора лучших гиперпарамеиров**\n",
    "0:\tlearn: 0.3587331\ttest: 0.3643288\tbest: 0.3643288 (0)\ttotal: 2.96s\tremaining: 49m 19s\n",
    "200:\tlearn: 0.6023715\ttest: 0.5879505\tbest: 0.5879505 (197)\ttotal: 7m 43s\tremaining: 30m 42s\n",
    "400:\tlearn: 0.6613216\ttest: 0.6479735\tbest: 0.6481387 (388)\ttotal: 15m 1s\tremaining: 22m 25s\n",
    "600:\tlearn: 0.6947535\ttest: 0.6755886\tbest: 0.6760913 (593)\ttotal: 22m 10s\tremaining: 14m 43s\n",
    "800:\tlearn: 0.7250473\ttest: 0.6967711\tbest: 0.6967711 (799)\ttotal: 29m 13s\tremaining: 7m 15s\n",
    "999:\tlearn: 0.7384238\ttest: 0.7076332\tbest: 0.7079731 (997)\ttotal: 36m 40s\tremaining: 0us\n",
    "\n",
    "bestTest = 0.7079731028\n",
    "bestIteration = 997\n",
    "\n",
    "0:\tloss: 0.7079731\tbest: 0.7079731 (0)\ttotal: 37m 37s\tremaining: 1h 15m 15s\n",
    "0:\tlearn: 0.3587331\ttest: 0.3643288\tbest: 0.3643288 (0)\ttotal: 3.22s\tremaining: 53m 38s\n",
    "200:\tlearn: 0.7112386\ttest: 0.6859524\tbest: 0.6859524 (200)\ttotal: 8m 19s\tremaining: 33m 3s\n",
    "400:\tlearn: 0.7593166\ttest: 0.7240244\tbest: 0.7241947 (398)\ttotal: 16m 15s\tremaining: 24m 17s\n",
    "600:\tlearn: 0.7796266\ttest: 0.7381616\tbest: 0.7383329 (597)\ttotal: 24m 18s\tremaining: 16m 8s\n",
    "800:\tlearn: 0.7983988\ttest: 0.7478181\tbest: 0.7478181 (799)\ttotal: 31m 57s\tremaining: 7m 56s\n",
    "999:\tlearn: 0.8115399\ttest: 0.7491425\tbest: 0.7497143 (982)\ttotal: 39m 23s\tremaining: 0us\n",
    "\n",
    "bestTest = 0.7497142857\n",
    "bestIteration = 982\n",
    "\n",
    "1:\tloss: 0.7497143\tbest: 0.7497143 (1)\ttotal: 1h 17m 1s\tremaining: 38m 30s\n",
    "0:\tlearn: 0.3587331\ttest: 0.3643288\tbest: 0.3643288 (0)\ttotal: 3.37s\tremaining: 56m 6s\n",
    "200:\tlearn: 0.7619917\ttest: 0.7236749\tbest: 0.7236749 (200)\ttotal: 8m 19s\tremaining: 33m 4s\n",
    "400:\tlearn: 0.7981325\ttest: 0.7425150\tbest: 0.7428045 (399)\ttotal: 16m 1s\tremaining: 23m 55s\n",
    "600:\tlearn: 0.8206192\ttest: 0.7516011\tbest: 0.7525160 (577)\ttotal: 23m 46s\tremaining: 15m 47s\n",
    "Stopped by overfitting detector  (200 iterations wait)\n",
    "\n",
    "bestTest = 0.752516011\n",
    "bestIteration = 577\n",
    "\n",
    "2:\tloss: 0.7525160\tbest: 0.7525160 (2)\ttotal: 1h 47m 22s\tremaining: 0us\n",
    "Estimating final quality...\n",
    "Training on fold [0/3]\n",
    "0:\tlearn: 0.4498744\ttest: 0.4459390\tbest: 0.4459390 (0)\ttotal: 2.33s\tremaining: 38m 48s\n",
    "200:\tlearn: 0.7608921\ttest: 0.7285376\tbest: 0.7285376 (200)\ttotal: 5m 54s\tremaining: 23m 29s\n",
    "400:\tlearn: 0.8020067\ttest: 0.7431843\tbest: 0.7440022 (390)\ttotal: 11m 32s\tremaining: 17m 15s\n",
    "600:\tlearn: 0.8192676\ttest: 0.7473927\tbest: 0.7474611 (585)\ttotal: 17m 19s\tremaining: 11m 30s\n",
    "800:\tlearn: 0.8302602\ttest: 0.7511105\tbest: 0.7511105 (793)\ttotal: 23m 6s\tremaining: 5m 44s\n",
    "999:\tlearn: 0.8395367\ttest: 0.7549296\tbest: 0.7549296 (999)\ttotal: 28m 29s\tremaining: 0us\n",
    "\n",
    "bestTest = 0.7549295775\n",
    "bestIteration = 999\n",
    "\n",
    "Training on fold [1/3]\n",
    "0:\tlearn: 0.3699757\ttest: 0.3607297\tbest: 0.3607297 (0)\ttotal: 2.51s\tremaining: 41m 49s\n",
    "200:\tlearn: 0.7600744\ttest: 0.7132240\tbest: 0.7148268 (197)\ttotal: 5m 43s\tremaining: 22m 43s\n",
    "400:\tlearn: 0.8042638\ttest: 0.7346269\tbest: 0.7350848 (369)\ttotal: 11m 17s\tremaining: 16m 51s\n",
    "600:\tlearn: 0.8211842\ttest: 0.7444880\tbest: 0.7446578 (595)\ttotal: 16m 48s\tremaining: 11m 9s\n",
    "800:\tlearn: 0.8294249\ttest: 0.7471373\tbest: 0.7474747 (799)\ttotal: 22m 20s\tremaining: 5m 33s\n",
    "999:\tlearn: 0.8407229\ttest: 0.7505696\tbest: 0.7506717 (934)\ttotal: 28m 1s\tremaining: 0us\n",
    "\n",
    "bestTest = 0.7506716819\n",
    "bestIteration = 934\n",
    "\n",
    "Training on fold [2/3]\n",
    "0:\tlearn: 0.4225833\ttest: 0.4276010\tbest: 0.4276010 (0)\ttotal: 2.76s\tremaining: 45m 55s\n",
    "200:\tlearn: 0.7632664\ttest: 0.7189303\tbest: 0.7190188 (194)\ttotal: 6m 1s\tremaining: 23m 57s\n",
    "400:\tlearn: 0.8063830\ttest: 0.7391304\tbest: 0.7391304 (400)\ttotal: 12m 44s\tremaining: 19m 2s\n",
    "600:\tlearn: 0.8232433\ttest: 0.7421522\tbest: 0.7423641 (587)\ttotal: 18m 50s\tremaining: 12m 30s\n",
    "800:\tlearn: 0.8337029\ttest: 0.7462199\tbest: 0.7462199 (799)\ttotal: 25m 7s\tremaining: 6m 14s\n",
    "999:\tlearn: 0.8418728\ttest: 0.7478615\tbest: 0.7478615 (998)\ttotal: 31m 18s\tremaining: 0us\n",
    "\n",
    "bestTest = 0.7478615071\n",
    "bestIteration = 998"
   ]
  },
  {
   "cell_type": "code",
   "execution_count": 34,
   "metadata": {},
   "outputs": [
    {
     "name": "stdout",
     "output_type": "stream",
     "text": [
      "CPU times: user 2min 52s, sys: 0 ns, total: 2min 52s\n",
      "Wall time: 2min 52s\n"
     ]
    },
    {
     "data": {
      "text/plain": [
       "LGBMClassifier()"
      ]
     },
     "execution_count": 34,
     "metadata": {},
     "output_type": "execute_result"
    }
   ],
   "source": [
    "%%time\n",
    "#LightGBM\n",
    "\n",
    "LightGBM_model = LGBMClassifier()\n",
    "hyperparams = [{'max_depth' : [1], # -1, 1\n",
    "                'learning_rate':[0.3], \n",
    "                'n_estimators' : [100],  # 200\n",
    "                'random_state':[42]}]\n",
    "lgcv = GridSearchCV(LightGBM_model, hyperparams, scoring='f1',cv=2)\n",
    "LightGBM_model.fit(X_train, y_train)"
   ]
  },
  {
   "cell_type": "code",
   "execution_count": 35,
   "metadata": {},
   "outputs": [],
   "source": [
    "lg_predict_train = LightGBM_model.predict(X_train)\n",
    "lgcv.best_score = f1_score(y_train, lg_predict_train)"
   ]
  },
  {
   "cell_type": "code",
   "execution_count": 36,
   "metadata": {},
   "outputs": [
    {
     "name": "stdout",
     "output_type": "stream",
     "text": [
      "F1: 0.7774873828406631\n"
     ]
    }
   ],
   "source": [
    "print('F1:', lgcv.best_score)"
   ]
  },
  {
   "cell_type": "markdown",
   "metadata": {},
   "source": [
    "## Выводы"
   ]
  },
  {
   "cell_type": "code",
   "execution_count": 37,
   "metadata": {},
   "outputs": [
    {
     "data": {
      "text/html": [
       "<div>\n",
       "<style scoped>\n",
       "    .dataframe tbody tr th:only-of-type {\n",
       "        vertical-align: middle;\n",
       "    }\n",
       "\n",
       "    .dataframe tbody tr th {\n",
       "        vertical-align: top;\n",
       "    }\n",
       "\n",
       "    .dataframe thead th {\n",
       "        text-align: right;\n",
       "    }\n",
       "</style>\n",
       "<table border=\"1\" class=\"dataframe\">\n",
       "  <thead>\n",
       "    <tr style=\"text-align: right;\">\n",
       "      <th></th>\n",
       "      <th>Линейная регрессия</th>\n",
       "      <th>CatBoost</th>\n",
       "      <th>LGBM</th>\n",
       "    </tr>\n",
       "  </thead>\n",
       "  <tbody>\n",
       "    <tr>\n",
       "      <th>F1</th>\n",
       "      <td>0.768649</td>\n",
       "      <td>0.743214</td>\n",
       "      <td>0.777487</td>\n",
       "    </tr>\n",
       "  </tbody>\n",
       "</table>\n",
       "</div>"
      ],
      "text/plain": [
       "    Линейная регрессия  CatBoost      LGBM\n",
       "F1            0.768649  0.743214  0.777487"
      ]
     },
     "execution_count": 37,
     "metadata": {},
     "output_type": "execute_result"
    }
   ],
   "source": [
    "lin_array =    [lrcv.best_score_]\n",
    "cat_array  = [cat.best_score]\n",
    "lg_array =    [lgcv.best_score]\n",
    "\n",
    "rezult={'Линейная регрессия':np.array(lin_array), 'CatBoost':np.array(cat_array), \n",
    "        'LGBM':np.array(lg_array)}\n",
    "rezult_df=pd.DataFrame(rezult,index=['F1'])\n",
    "rezult_df"
   ]
  },
  {
   "cell_type": "markdown",
   "metadata": {},
   "source": [
    "<font color='blue'><b>Комментарий ревьюера: </b></font> ✔️\\\n",
    "<font color='green'> Отлично, что есть табличка результатов для сравнения.</font>"
   ]
  },
  {
   "cell_type": "markdown",
   "metadata": {},
   "source": [
    "Все модели имеют значение F1 соответствующее 75. Лучший результат показал а модель LightGBM model. Но у LogisticRegression меньше ложно отрицательных предсказаний, а также она отработала на порядок быстрее. \n",
    "\n",
    "Такрим образом, для бизнеса лучше подходит модель LogisticRegression"
   ]
  },
  {
   "cell_type": "code",
   "execution_count": 38,
   "metadata": {},
   "outputs": [
    {
     "name": "stdout",
     "output_type": "stream",
     "text": [
      "F1 регрессии: 0.7715089589811935\n",
      "CPU times: user 16.8 s, sys: 35.1 s, total: 51.9 s\n",
      "Wall time: 52 s\n"
     ]
    }
   ],
   "source": [
    "%%time\n",
    "lr_model = LogisticRegression()\n",
    "lr_model.set_params(**lr_best_params)\n",
    "lr_model.fit(X_train, y_train)\n",
    "predict_test = lr_model.predict(X_test)\n",
    "f1 = f1_score(y_test, predict_test)\n",
    "print('F1 регрессии:', f1)"
   ]
  },
  {
   "cell_type": "markdown",
   "metadata": {},
   "source": [
    "<font color='blue'><b>Комментарий ревьюера: </b></font> ✔️\\\n",
    "<font color='green'>Тестирование проведено верно.</font>"
   ]
  },
  {
   "cell_type": "code",
   "execution_count": 39,
   "metadata": {},
   "outputs": [
    {
     "name": "stdout",
     "output_type": "stream",
     "text": [
      "Метрики LogisticRegression\n",
      "ROC AUC: 0.967904302447184\n",
      "F1: 0.7715089589811935\n",
      "Precision: 0.7333896396396397\n",
      "Recall: 0.8138081849422055\n",
      "Accuracy: 0.9515678458206472\n",
      "\n"
     ]
    },
    {
     "data": {
      "image/png": "[encoded data removed]",
      "text/plain": [
       "<Figure size 864x648 with 1 Axes>"
      ]
     },
     "metadata": {
      "needs_background": "light"
     },
     "output_type": "display_data"
    }
   ],
   "source": [
    "plt.figure(figsize=[12,9])\n",
    "\n",
    "plt.plot([0, 1], [0, 1], linestyle='--', label='RandomModel')\n",
    "\n",
    "\n",
    "classificator = LogisticRegression()\n",
    "classificator.set_params(**lr_best_params)\n",
    "classificator.fit(X_train, y_train)\n",
    "probabilities_test = classificator.predict_proba(X_test)\n",
    "probabilities_one_test = probabilities_test[:, 1]\n",
    "fpr, tpr, thresholds = roc_curve(y_test, probabilities_one_test)\n",
    "predict_test = classificator.predict(X_test)\n",
    "plt.plot(fpr, tpr, label='LogisticRegression')\n",
    "print('Метрики LogisticRegression')\n",
    "print('ROC AUC:', roc_auc_score(y_test, probabilities_one_test))\n",
    "print('F1:', f1_score(y_test, predict_test))\n",
    "print('Precision:', precision_score(y_test, predict_test))\n",
    "print('Recall:', recall_score(y_test, predict_test))\n",
    "print('Accuracy:', accuracy_score(y_test, predict_test))\n",
    "print()\n",
    "\n",
    "plt.xlim([0,1])\n",
    "plt.ylim([0,1])\n",
    "\n",
    "plt.xlabel(\"False Positive Rate\")\n",
    "plt.ylabel(\"True Positive Rate\")\n",
    "\n",
    "plt.legend(loc='lower right', fontsize='x-large')\n",
    "\n",
    "plt.title(\"ROC-кривая\")\n",
    "plt.show()"
   ]
  },
  {
   "cell_type": "markdown",
   "metadata": {},
   "source": [
    "**Вывод**\n",
    "\n",
    " - Подготовленны данные обучения.\n",
    "  - Cформированы обучающая и тестовая выборка.\n",
    "  - Обучены модели и выбрана лучшая из них.\n",
    "  - Проведено обучение на тестовых данных, F1 составил 0.77."
   ]
  },
  {
   "cell_type": "markdown",
   "metadata": {},
   "source": [
    "## Чек-лист проверки"
   ]
  },
  {
   "cell_type": "markdown",
   "metadata": {},
   "source": [
    "- [x]  Jupyter Notebook открыт\n",
    "- [x]  Весь код выполняется без ошибок\n",
    "- [x]  Ячейки с кодом расположены в порядке исполнения\n",
    "- [x]  Данные загружены и подготовлены\n",
    "- [x]  Модели обучены\n",
    "- [x]  Значение метрики *F1* не меньше 0.75\n",
    "- [x]  Выводы написаны"
   ]
  }
 ],
 "metadata": {
  "ExecuteTimeLog": [
   {
    "duration": 1568,
    "start_time": "2023-05-03T14:29:56.985Z"
   },
   {
    "duration": 2246,
    "start_time": "2023-05-03T14:29:58.554Z"
   },
   {
    "duration": 32,
    "start_time": "2023-05-03T14:30:02.323Z"
   },
   {
    "duration": 13,
    "start_time": "2023-05-03T14:31:07.245Z"
   },
   {
    "duration": 11,
    "start_time": "2023-05-03T14:31:20.307Z"
   },
   {
    "duration": 6,
    "start_time": "2023-05-03T14:33:20.451Z"
   },
   {
    "duration": 115,
    "start_time": "2023-05-03T14:33:57.495Z"
   },
   {
    "duration": 8,
    "start_time": "2023-05-03T14:34:06.824Z"
   },
   {
    "duration": 2563,
    "start_time": "2023-05-03T18:16:55.976Z"
   },
   {
    "duration": 491,
    "start_time": "2023-05-03T18:17:02.330Z"
   },
   {
    "duration": 1492,
    "start_time": "2023-05-03T18:54:39.889Z"
   },
   {
    "duration": 2269,
    "start_time": "2023-05-03T18:54:41.383Z"
   },
   {
    "duration": 27,
    "start_time": "2023-05-03T18:54:43.654Z"
   },
   {
    "duration": 14,
    "start_time": "2023-05-03T18:54:43.683Z"
   },
   {
    "duration": 7,
    "start_time": "2023-05-03T18:54:43.698Z"
   },
   {
    "duration": 6966,
    "start_time": "2023-05-03T18:54:43.706Z"
   },
   {
    "duration": 17,
    "start_time": "2023-05-03T18:54:50.674Z"
   },
   {
    "duration": 77,
    "start_time": "2023-05-03T18:54:50.693Z"
   },
   {
    "duration": 0,
    "start_time": "2023-05-03T18:54:50.771Z"
   },
   {
    "duration": 0,
    "start_time": "2023-05-03T18:54:50.773Z"
   },
   {
    "duration": 128,
    "start_time": "2023-05-03T18:56:18.709Z"
   },
   {
    "duration": 1541,
    "start_time": "2023-05-03T18:58:27.946Z"
   },
   {
    "duration": 863,
    "start_time": "2023-05-03T18:58:29.489Z"
   },
   {
    "duration": 29,
    "start_time": "2023-05-03T18:58:30.354Z"
   },
   {
    "duration": 78,
    "start_time": "2023-05-03T18:58:30.384Z"
   },
   {
    "duration": 34,
    "start_time": "2023-05-03T18:58:30.464Z"
   },
   {
    "duration": 6630,
    "start_time": "2023-05-03T18:58:30.500Z"
   },
   {
    "duration": 19,
    "start_time": "2023-05-03T18:58:37.134Z"
   },
   {
    "duration": 4997,
    "start_time": "2023-05-03T18:58:37.155Z"
   },
   {
    "duration": 127,
    "start_time": "2023-05-03T18:58:46.915Z"
   },
   {
    "duration": 19,
    "start_time": "2023-05-03T18:59:46.109Z"
   },
   {
    "duration": 5769,
    "start_time": "2023-05-03T18:59:47.278Z"
   },
   {
    "duration": 1448,
    "start_time": "2023-05-03T18:59:53.050Z"
   },
   {
    "duration": 129,
    "start_time": "2023-05-03T18:59:54.499Z"
   },
   {
    "duration": 172512,
    "start_time": "2023-05-03T19:00:07.728Z"
   },
   {
    "duration": 17626,
    "start_time": "2023-05-03T19:03:02.279Z"
   },
   {
    "duration": 191067,
    "start_time": "2023-05-03T19:03:21.594Z"
   },
   {
    "duration": 101,
    "start_time": "2023-05-03T19:11:30.591Z"
   },
   {
    "duration": 5,
    "start_time": "2023-05-03T19:13:05.100Z"
   },
   {
    "duration": 695,
    "start_time": "2023-05-03T19:13:09.625Z"
   },
   {
    "duration": 431425,
    "start_time": "2023-05-03T19:13:31.396Z"
   },
   {
    "duration": 14384987,
    "start_time": "2023-05-03T19:20:44.950Z"
   },
   {
    "duration": 125,
    "start_time": "2023-05-03T23:20:29.942Z"
   },
   {
    "duration": 111,
    "start_time": "2023-05-04T02:25:28.305Z"
   },
   {
    "duration": 259653,
    "start_time": "2023-05-04T02:28:00.176Z"
   },
   {
    "duration": 762,
    "start_time": "2023-05-04T02:34:51.936Z"
   },
   {
    "duration": 705,
    "start_time": "2023-05-04T02:35:59.875Z"
   },
   {
    "duration": 1593,
    "start_time": "2023-05-04T02:37:01.716Z"
   },
   {
    "duration": 825,
    "start_time": "2023-05-04T02:37:03.311Z"
   },
   {
    "duration": 22,
    "start_time": "2023-05-04T02:37:04.138Z"
   },
   {
    "duration": 16,
    "start_time": "2023-05-04T02:37:04.162Z"
   },
   {
    "duration": 7,
    "start_time": "2023-05-04T02:37:04.180Z"
   },
   {
    "duration": 6421,
    "start_time": "2023-05-04T02:37:04.188Z"
   },
   {
    "duration": 25,
    "start_time": "2023-05-04T02:37:10.611Z"
   },
   {
    "duration": 5046,
    "start_time": "2023-05-04T02:37:10.637Z"
   },
   {
    "duration": 1180,
    "start_time": "2023-05-04T02:37:15.684Z"
   },
   {
    "duration": 193889,
    "start_time": "2023-05-04T02:37:16.866Z"
   },
   {
    "duration": 1049,
    "start_time": "2023-05-04T02:40:30.758Z"
   },
   {
    "duration": 10236198,
    "start_time": "2023-05-04T02:40:31.808Z"
   },
   {
    "duration": 74,
    "start_time": "2023-05-04T05:31:08.007Z"
   },
   {
    "duration": 0,
    "start_time": "2023-05-04T05:31:08.082Z"
   },
   {
    "duration": 0,
    "start_time": "2023-05-04T05:31:08.084Z"
   },
   {
    "duration": 0,
    "start_time": "2023-05-04T05:31:08.085Z"
   },
   {
    "duration": 1859,
    "start_time": "2023-05-04T05:31:47.519Z"
   },
   {
    "duration": 1113,
    "start_time": "2023-05-04T05:31:49.380Z"
   },
   {
    "duration": 62,
    "start_time": "2023-05-04T05:31:50.495Z"
   },
   {
    "duration": 19,
    "start_time": "2023-05-04T05:31:50.564Z"
   },
   {
    "duration": 17,
    "start_time": "2023-05-04T05:31:50.585Z"
   },
   {
    "duration": 8607,
    "start_time": "2023-05-04T05:31:50.604Z"
   },
   {
    "duration": 40,
    "start_time": "2023-05-04T05:31:59.215Z"
   },
   {
    "duration": 6503,
    "start_time": "2023-05-04T05:31:59.262Z"
   },
   {
    "duration": 1492,
    "start_time": "2023-05-04T05:32:05.766Z"
   },
   {
    "duration": 215186,
    "start_time": "2023-05-04T05:32:07.259Z"
   },
   {
    "duration": 2761294,
    "start_time": "2023-05-04T05:35:42.447Z"
   },
   {
    "duration": 1376068,
    "start_time": "2023-05-04T06:21:43.746Z"
   },
   {
    "duration": 106,
    "start_time": "2023-05-04T06:44:39.816Z"
   },
   {
    "duration": 0,
    "start_time": "2023-05-04T06:44:39.924Z"
   },
   {
    "duration": 0,
    "start_time": "2023-05-04T06:44:39.926Z"
   },
   {
    "duration": 0,
    "start_time": "2023-05-04T06:44:39.935Z"
   },
   {
    "duration": 27,
    "start_time": "2023-05-04T06:47:35.421Z"
   },
   {
    "duration": 1780,
    "start_time": "2023-05-04T06:55:13.317Z"
   },
   {
    "duration": 2968,
    "start_time": "2023-05-04T06:55:15.099Z"
   },
   {
    "duration": 28,
    "start_time": "2023-05-04T06:55:18.069Z"
   },
   {
    "duration": 16,
    "start_time": "2023-05-04T06:55:18.098Z"
   },
   {
    "duration": 7,
    "start_time": "2023-05-04T06:55:18.116Z"
   },
   {
    "duration": 8677,
    "start_time": "2023-05-04T06:55:18.124Z"
   },
   {
    "duration": 42,
    "start_time": "2023-05-04T06:55:26.803Z"
   },
   {
    "duration": 6403,
    "start_time": "2023-05-04T06:55:26.855Z"
   },
   {
    "duration": 1436,
    "start_time": "2023-05-04T06:55:33.262Z"
   },
   {
    "duration": 217899,
    "start_time": "2023-05-04T06:55:41.143Z"
   },
   {
    "duration": 4,
    "start_time": "2023-05-04T06:59:25.612Z"
   },
   {
    "duration": 54,
    "start_time": "2023-05-04T06:59:59.805Z"
   },
   {
    "duration": 1798,
    "start_time": "2023-05-04T07:00:24.072Z"
   },
   {
    "duration": 10,
    "start_time": "2023-05-04T07:00:30.874Z"
   },
   {
    "duration": 13,
    "start_time": "2023-05-04T07:00:58.629Z"
   },
   {
    "duration": 9,
    "start_time": "2023-05-04T07:01:58.405Z"
   },
   {
    "duration": 13,
    "start_time": "2023-05-04T07:02:10.226Z"
   },
   {
    "duration": 10,
    "start_time": "2023-05-04T07:02:42.307Z"
   },
   {
    "duration": 18,
    "start_time": "2023-05-04T07:03:08.532Z"
   },
   {
    "duration": 20,
    "start_time": "2023-05-04T07:03:35.442Z"
   },
   {
    "duration": 1505,
    "start_time": "2023-05-04T07:03:55.589Z"
   },
   {
    "duration": 0,
    "start_time": "2023-05-04T07:03:57.096Z"
   },
   {
    "duration": 0,
    "start_time": "2023-05-04T07:03:57.098Z"
   },
   {
    "duration": 0,
    "start_time": "2023-05-04T07:03:57.099Z"
   },
   {
    "duration": 0,
    "start_time": "2023-05-04T07:03:57.100Z"
   },
   {
    "duration": 0,
    "start_time": "2023-05-04T07:03:57.101Z"
   },
   {
    "duration": 0,
    "start_time": "2023-05-04T07:03:57.102Z"
   },
   {
    "duration": 0,
    "start_time": "2023-05-04T07:03:57.103Z"
   },
   {
    "duration": 0,
    "start_time": "2023-05-04T07:03:57.104Z"
   },
   {
    "duration": 0,
    "start_time": "2023-05-04T07:03:57.105Z"
   },
   {
    "duration": 0,
    "start_time": "2023-05-04T07:03:57.106Z"
   },
   {
    "duration": 0,
    "start_time": "2023-05-04T07:03:57.107Z"
   },
   {
    "duration": 0,
    "start_time": "2023-05-04T07:03:57.107Z"
   },
   {
    "duration": 0,
    "start_time": "2023-05-04T07:03:57.108Z"
   },
   {
    "duration": 0,
    "start_time": "2023-05-04T07:03:57.109Z"
   },
   {
    "duration": 0,
    "start_time": "2023-05-04T07:03:57.134Z"
   },
   {
    "duration": 0,
    "start_time": "2023-05-04T07:03:57.135Z"
   },
   {
    "duration": 265,
    "start_time": "2023-05-04T07:04:58.310Z"
   },
   {
    "duration": 3007,
    "start_time": "2023-05-04T07:05:02.611Z"
   },
   {
    "duration": 39,
    "start_time": "2023-05-04T07:05:08.049Z"
   },
   {
    "duration": 18,
    "start_time": "2023-05-04T07:05:10.525Z"
   },
   {
    "duration": 7,
    "start_time": "2023-05-04T07:05:14.196Z"
   },
   {
    "duration": 8513,
    "start_time": "2023-05-04T07:05:17.859Z"
   },
   {
    "duration": 29,
    "start_time": "2023-05-04T07:05:32.731Z"
   },
   {
    "duration": 5941,
    "start_time": "2023-05-04T07:05:34.473Z"
   },
   {
    "duration": 1398,
    "start_time": "2023-05-04T07:05:42.002Z"
   },
   {
    "duration": 58565,
    "start_time": "2023-05-04T07:05:46.403Z"
   },
   {
    "duration": 4,
    "start_time": "2023-05-04T07:06:51.205Z"
   },
   {
    "duration": 19,
    "start_time": "2023-05-04T07:06:55.692Z"
   },
   {
    "duration": 626207,
    "start_time": "2023-05-04T07:07:04.350Z"
   },
   {
    "duration": 5,
    "start_time": "2023-05-04T07:17:30.564Z"
   },
   {
    "duration": 2,
    "start_time": "2023-05-04T07:18:09.474Z"
   },
   {
    "duration": 4,
    "start_time": "2023-05-04T07:18:29.918Z"
   },
   {
    "duration": 65,
    "start_time": "2023-05-04T07:19:14.519Z"
   },
   {
    "duration": 1940,
    "start_time": "2023-05-04T07:21:26.167Z"
   },
   {
    "duration": 3812,
    "start_time": "2023-05-04T07:21:28.108Z"
   },
   {
    "duration": 42,
    "start_time": "2023-05-04T07:21:31.921Z"
   },
   {
    "duration": 44,
    "start_time": "2023-05-04T07:21:31.965Z"
   },
   {
    "duration": 12,
    "start_time": "2023-05-04T07:21:32.012Z"
   },
   {
    "duration": 8011,
    "start_time": "2023-05-04T07:21:32.027Z"
   },
   {
    "duration": 26,
    "start_time": "2023-05-04T07:21:40.039Z"
   },
   {
    "duration": 6283,
    "start_time": "2023-05-04T07:21:40.072Z"
   },
   {
    "duration": 1536,
    "start_time": "2023-05-04T07:21:46.364Z"
   },
   {
    "duration": 1826,
    "start_time": "2023-05-04T07:23:00.127Z"
   },
   {
    "duration": 1090,
    "start_time": "2023-05-04T07:23:01.961Z"
   },
   {
    "duration": 37,
    "start_time": "2023-05-04T07:23:03.055Z"
   },
   {
    "duration": 22,
    "start_time": "2023-05-04T07:23:03.094Z"
   },
   {
    "duration": 33,
    "start_time": "2023-05-04T07:23:03.119Z"
   },
   {
    "duration": 8002,
    "start_time": "2023-05-04T07:23:03.162Z"
   },
   {
    "duration": 21,
    "start_time": "2023-05-04T07:23:11.169Z"
   },
   {
    "duration": 6830,
    "start_time": "2023-05-04T07:23:11.193Z"
   },
   {
    "duration": 1601,
    "start_time": "2023-05-04T07:23:18.025Z"
   },
   {
    "duration": 221951,
    "start_time": "2023-05-04T07:23:19.628Z"
   },
   {
    "duration": 4,
    "start_time": "2023-05-04T07:27:01.581Z"
   },
   {
    "duration": 662120,
    "start_time": "2023-05-04T07:27:01.587Z"
   },
   {
    "duration": 4,
    "start_time": "2023-05-04T07:38:03.710Z"
   },
   {
    "duration": 308750,
    "start_time": "2023-05-04T07:38:03.718Z"
   },
   {
    "duration": 1497029,
    "start_time": "2023-05-04T07:43:12.474Z"
   },
   {
    "duration": 11,
    "start_time": "2023-05-04T08:08:09.505Z"
   },
   {
    "duration": 0,
    "start_time": "2023-05-04T08:08:09.517Z"
   },
   {
    "duration": 0,
    "start_time": "2023-05-04T08:08:09.520Z"
   },
   {
    "duration": 4,
    "start_time": "2023-05-04T08:12:26.990Z"
   },
   {
    "duration": 849,
    "start_time": "2023-05-04T08:12:26.996Z"
   },
   {
    "duration": 30,
    "start_time": "2023-05-04T08:12:27.848Z"
   },
   {
    "duration": 11,
    "start_time": "2023-05-04T08:12:27.880Z"
   },
   {
    "duration": 9,
    "start_time": "2023-05-04T08:12:27.892Z"
   },
   {
    "duration": 6552,
    "start_time": "2023-05-04T08:12:27.902Z"
   },
   {
    "duration": 38,
    "start_time": "2023-05-04T08:12:34.456Z"
   },
   {
    "duration": 6005,
    "start_time": "2023-05-04T08:12:34.496Z"
   },
   {
    "duration": 1416,
    "start_time": "2023-05-04T08:12:40.504Z"
   },
   {
    "duration": 4149,
    "start_time": "2023-05-04T08:12:41.921Z"
   },
   {
    "duration": 16,
    "start_time": "2023-05-04T08:12:46.072Z"
   },
   {
    "duration": 1661,
    "start_time": "2023-05-04T08:13:07.703Z"
   },
   {
    "duration": 951,
    "start_time": "2023-05-04T08:13:09.369Z"
   },
   {
    "duration": 33,
    "start_time": "2023-05-04T08:13:10.321Z"
   },
   {
    "duration": 30,
    "start_time": "2023-05-04T08:13:10.355Z"
   },
   {
    "duration": 7,
    "start_time": "2023-05-04T08:13:10.387Z"
   },
   {
    "duration": 7898,
    "start_time": "2023-05-04T08:13:10.396Z"
   },
   {
    "duration": 18,
    "start_time": "2023-05-04T08:13:18.296Z"
   },
   {
    "duration": 6779,
    "start_time": "2023-05-04T08:13:18.315Z"
   },
   {
    "duration": 1797,
    "start_time": "2023-05-04T08:13:25.096Z"
   },
   {
    "duration": 216066,
    "start_time": "2023-05-04T08:13:26.896Z"
   },
   {
    "duration": 9,
    "start_time": "2023-05-04T08:17:03.037Z"
   },
   {
    "duration": 649617,
    "start_time": "2023-05-04T08:17:03.053Z"
   },
   {
    "duration": 16,
    "start_time": "2023-05-04T08:27:52.672Z"
   },
   {
    "duration": 338317,
    "start_time": "2023-05-04T08:27:52.693Z"
   },
   {
    "duration": 1532594,
    "start_time": "2023-05-04T08:33:31.013Z"
   },
   {
    "duration": 11,
    "start_time": "2023-05-04T08:59:03.609Z"
   },
   {
    "duration": 0,
    "start_time": "2023-05-04T08:59:03.622Z"
   },
   {
    "duration": 0,
    "start_time": "2023-05-04T08:59:03.623Z"
   },
   {
    "duration": 1436559,
    "start_time": "2023-05-04T09:00:18.167Z"
   },
   {
    "duration": 1468753,
    "start_time": "2023-05-04T09:28:05.630Z"
   },
   {
    "duration": 12,
    "start_time": "2023-05-04T09:55:02.576Z"
   },
   {
    "duration": 4,
    "start_time": "2023-05-04T09:56:06.890Z"
   },
   {
    "duration": 5,
    "start_time": "2023-05-04T09:56:40.994Z"
   },
   {
    "duration": 10,
    "start_time": "2023-05-04T09:57:12.315Z"
   },
   {
    "duration": 10273,
    "start_time": "2023-05-04T10:03:33.631Z"
   },
   {
    "duration": 4,
    "start_time": "2023-05-04T10:04:04.079Z"
   },
   {
    "duration": 9,
    "start_time": "2023-05-04T10:04:54.107Z"
   },
   {
    "duration": 140,
    "start_time": "2023-05-04T10:08:28.726Z"
   },
   {
    "duration": 47675,
    "start_time": "2023-05-04T10:09:23.864Z"
   },
   {
    "duration": 50085,
    "start_time": "2023-05-04T10:10:19.564Z"
   },
   {
    "duration": 48919,
    "start_time": "2023-05-04T10:11:38.029Z"
   },
   {
    "duration": 9666,
    "start_time": "2023-05-04T10:34:22.150Z"
   },
   {
    "duration": 3901,
    "start_time": "2023-05-04T10:34:31.819Z"
   },
   {
    "duration": 63,
    "start_time": "2023-05-04T10:34:35.722Z"
   },
   {
    "duration": 36,
    "start_time": "2023-05-04T10:34:35.788Z"
   },
   {
    "duration": 46,
    "start_time": "2023-05-04T10:34:35.826Z"
   },
   {
    "duration": 2104,
    "start_time": "2023-05-04T10:34:35.874Z"
   },
   {
    "duration": 16,
    "start_time": "2023-05-04T10:34:37.986Z"
   },
   {
    "duration": 624,
    "start_time": "2023-05-04T14:08:08.031Z"
   },
   {
    "duration": 603,
    "start_time": "2023-05-04T14:08:17.202Z"
   },
   {
    "duration": 2570,
    "start_time": "2023-05-04T14:08:24.013Z"
   },
   {
    "duration": 8251,
    "start_time": "2023-05-04T14:09:10.991Z"
   },
   {
    "duration": 3134,
    "start_time": "2023-05-04T17:04:15.153Z"
   },
   {
    "duration": 18366,
    "start_time": "2023-05-04T17:04:18.290Z"
   },
   {
    "duration": 6810,
    "start_time": "2023-05-04T17:04:36.666Z"
   },
   {
    "duration": 4796,
    "start_time": "2023-05-04T17:04:43.478Z"
   },
   {
    "duration": 35,
    "start_time": "2023-05-04T17:04:48.277Z"
   },
   {
    "duration": 57,
    "start_time": "2023-05-04T17:04:48.314Z"
   },
   {
    "duration": 23,
    "start_time": "2023-05-04T17:04:48.379Z"
   },
   {
    "duration": 67,
    "start_time": "2023-05-04T17:04:48.404Z"
   },
   {
    "duration": 22,
    "start_time": "2023-05-04T17:04:48.472Z"
   },
   {
    "duration": 600,
    "start_time": "2023-05-04T17:04:48.496Z"
   },
   {
    "duration": 186545,
    "start_time": "2023-05-04T17:07:14.235Z"
   },
   {
    "duration": 827,
    "start_time": "2023-05-04T17:10:22.779Z"
   },
   {
    "duration": 4264,
    "start_time": "2023-05-04T19:03:15.170Z"
   },
   {
    "duration": 9968,
    "start_time": "2023-05-04T19:03:19.437Z"
   },
   {
    "duration": 6926,
    "start_time": "2023-05-04T19:03:29.407Z"
   },
   {
    "duration": 2560,
    "start_time": "2023-05-04T19:03:36.337Z"
   },
   {
    "duration": 30,
    "start_time": "2023-05-04T19:03:38.899Z"
   },
   {
    "duration": 31,
    "start_time": "2023-05-04T19:03:38.930Z"
   },
   {
    "duration": 8,
    "start_time": "2023-05-04T19:03:38.963Z"
   },
   {
    "duration": 93,
    "start_time": "2023-05-04T19:03:38.973Z"
   },
   {
    "duration": 0,
    "start_time": "2023-05-04T19:03:39.068Z"
   },
   {
    "duration": 83,
    "start_time": "2023-05-04T19:05:38.604Z"
   },
   {
    "duration": 89,
    "start_time": "2023-05-04T19:06:40.162Z"
   },
   {
    "duration": 107,
    "start_time": "2023-05-04T19:08:28.807Z"
   },
   {
    "duration": 93,
    "start_time": "2023-05-04T19:08:44.830Z"
   },
   {
    "duration": 82,
    "start_time": "2023-05-04T19:10:43.646Z"
   },
   {
    "duration": 108,
    "start_time": "2023-05-04T19:11:35.453Z"
   },
   {
    "duration": 252,
    "start_time": "2023-05-04T19:12:04.918Z"
   },
   {
    "duration": 160,
    "start_time": "2023-05-04T19:15:05.150Z"
   },
   {
    "duration": 4,
    "start_time": "2023-05-04T19:16:50.919Z"
   },
   {
    "duration": 3,
    "start_time": "2023-05-04T19:16:53.649Z"
   },
   {
    "duration": 103,
    "start_time": "2023-05-04T19:16:55.626Z"
   },
   {
    "duration": 174,
    "start_time": "2023-05-04T19:17:22.348Z"
   },
   {
    "duration": 407,
    "start_time": "2023-05-04T19:17:40.403Z"
   },
   {
    "duration": 7086,
    "start_time": "2023-05-04T19:27:53.514Z"
   },
   {
    "duration": 1475,
    "start_time": "2023-05-04T19:28:22.472Z"
   },
   {
    "duration": 33,
    "start_time": "2023-05-04T19:28:25.782Z"
   },
   {
    "duration": 15,
    "start_time": "2023-05-04T19:28:28.791Z"
   },
   {
    "duration": 10,
    "start_time": "2023-05-04T19:28:35.700Z"
   },
   {
    "duration": 81,
    "start_time": "2023-05-04T19:28:40.249Z"
   },
   {
    "duration": 14,
    "start_time": "2023-05-04T19:37:45.289Z"
   },
   {
    "duration": 6,
    "start_time": "2023-05-04T19:39:36.979Z"
   },
   {
    "duration": 7,
    "start_time": "2023-05-04T19:42:31.219Z"
   },
   {
    "duration": 5,
    "start_time": "2023-05-04T19:42:58.821Z"
   },
   {
    "duration": 6,
    "start_time": "2023-05-04T19:43:14.155Z"
   },
   {
    "duration": 600,
    "start_time": "2023-05-04T19:45:04.411Z"
   },
   {
    "duration": 46,
    "start_time": "2023-05-04T19:45:57.226Z"
   },
   {
    "duration": 20,
    "start_time": "2023-05-04T19:46:27.884Z"
   },
   {
    "duration": 26,
    "start_time": "2023-05-04T19:46:35.031Z"
   },
   {
    "duration": 26,
    "start_time": "2023-05-04T19:47:51.138Z"
   },
   {
    "duration": 18,
    "start_time": "2023-05-04T19:48:55.484Z"
   },
   {
    "duration": 18,
    "start_time": "2023-05-04T19:49:15.585Z"
   },
   {
    "duration": 4735,
    "start_time": "2023-05-05T06:06:49.355Z"
   },
   {
    "duration": 3549,
    "start_time": "2023-05-05T06:06:58.766Z"
   },
   {
    "duration": 35,
    "start_time": "2023-05-05T06:07:03.254Z"
   },
   {
    "duration": 13,
    "start_time": "2023-05-05T06:07:07.380Z"
   },
   {
    "duration": 8,
    "start_time": "2023-05-05T06:07:11.334Z"
   },
   {
    "duration": 317,
    "start_time": "2023-05-05T06:07:15.266Z"
   },
   {
    "duration": 19,
    "start_time": "2023-05-05T06:11:07.793Z"
   },
   {
    "duration": 47,
    "start_time": "2023-05-05T06:16:10.100Z"
   },
   {
    "duration": 33,
    "start_time": "2023-05-05T06:18:26.947Z"
   },
   {
    "duration": 81425,
    "start_time": "2023-05-05T06:20:11.694Z"
   },
   {
    "duration": 65,
    "start_time": "2023-05-05T06:21:47.505Z"
   },
   {
    "duration": 3,
    "start_time": "2023-05-05T06:22:22.704Z"
   },
   {
    "duration": 2,
    "start_time": "2023-05-05T06:22:28.375Z"
   },
   {
    "duration": 5,
    "start_time": "2023-05-05T06:22:35.105Z"
   },
   {
    "duration": 2347,
    "start_time": "2023-05-05T06:24:10.619Z"
   },
   {
    "duration": 7533,
    "start_time": "2023-05-05T06:24:12.968Z"
   },
   {
    "duration": 4393,
    "start_time": "2023-05-05T06:24:20.503Z"
   },
   {
    "duration": 745,
    "start_time": "2023-05-05T06:24:24.898Z"
   },
   {
    "duration": 33,
    "start_time": "2023-05-05T06:24:25.645Z"
   },
   {
    "duration": 26,
    "start_time": "2023-05-05T06:24:25.680Z"
   },
   {
    "duration": 8,
    "start_time": "2023-05-05T06:24:25.708Z"
   },
   {
    "duration": 81394,
    "start_time": "2023-05-05T06:24:25.718Z"
   },
   {
    "duration": 2,
    "start_time": "2023-05-05T06:25:47.114Z"
   },
   {
    "duration": 10,
    "start_time": "2023-05-05T06:25:47.119Z"
   },
   {
    "duration": 11,
    "start_time": "2023-05-05T06:25:47.130Z"
   },
   {
    "duration": 27,
    "start_time": "2023-05-05T06:25:47.143Z"
   },
   {
    "duration": 6098,
    "start_time": "2023-05-05T06:25:47.172Z"
   },
   {
    "duration": 1566,
    "start_time": "2023-05-05T06:25:53.271Z"
   },
   {
    "duration": 8,
    "start_time": "2023-05-05T06:25:54.839Z"
   },
   {
    "duration": 4,
    "start_time": "2023-05-05T06:25:54.849Z"
   },
   {
    "duration": 21,
    "start_time": "2023-05-05T06:25:54.854Z"
   },
   {
    "duration": 9484,
    "start_time": "2023-05-05T06:25:54.877Z"
   },
   {
    "duration": 0,
    "start_time": "2023-05-05T06:26:04.363Z"
   },
   {
    "duration": 0,
    "start_time": "2023-05-05T06:26:04.365Z"
   },
   {
    "duration": 0,
    "start_time": "2023-05-05T06:26:04.366Z"
   },
   {
    "duration": 0,
    "start_time": "2023-05-05T06:26:04.367Z"
   },
   {
    "duration": 0,
    "start_time": "2023-05-05T06:26:04.368Z"
   },
   {
    "duration": 0,
    "start_time": "2023-05-05T06:26:04.369Z"
   },
   {
    "duration": 0,
    "start_time": "2023-05-05T06:26:04.370Z"
   },
   {
    "duration": 0,
    "start_time": "2023-05-05T06:26:04.371Z"
   },
   {
    "duration": 0,
    "start_time": "2023-05-05T06:26:04.372Z"
   },
   {
    "duration": 0,
    "start_time": "2023-05-05T06:26:04.373Z"
   },
   {
    "duration": 0,
    "start_time": "2023-05-05T06:26:04.394Z"
   },
   {
    "duration": 1,
    "start_time": "2023-05-05T06:26:04.395Z"
   },
   {
    "duration": 2,
    "start_time": "2023-05-05T06:27:57.988Z"
   },
   {
    "duration": 2,
    "start_time": "2023-05-05T06:28:04.846Z"
   },
   {
    "duration": 25,
    "start_time": "2023-05-05T06:28:11.928Z"
   },
   {
    "duration": 0,
    "start_time": "2023-05-05T06:28:11.955Z"
   },
   {
    "duration": 0,
    "start_time": "2023-05-05T06:28:11.957Z"
   },
   {
    "duration": 0,
    "start_time": "2023-05-05T06:28:11.958Z"
   },
   {
    "duration": 0,
    "start_time": "2023-05-05T06:28:11.959Z"
   },
   {
    "duration": 0,
    "start_time": "2023-05-05T06:28:11.960Z"
   },
   {
    "duration": 0,
    "start_time": "2023-05-05T06:28:11.961Z"
   },
   {
    "duration": 0,
    "start_time": "2023-05-05T06:28:11.962Z"
   },
   {
    "duration": 0,
    "start_time": "2023-05-05T06:28:11.962Z"
   },
   {
    "duration": 0,
    "start_time": "2023-05-05T06:28:11.963Z"
   },
   {
    "duration": 192,
    "start_time": "2023-05-05T06:28:11.965Z"
   },
   {
    "duration": 173026,
    "start_time": "2023-05-05T06:28:39.679Z"
   },
   {
    "duration": 4,
    "start_time": "2023-05-05T06:33:30.156Z"
   },
   {
    "duration": 19,
    "start_time": "2023-05-05T06:33:51.077Z"
   },
   {
    "duration": 57,
    "start_time": "2023-05-05T06:34:35.386Z"
   },
   {
    "duration": 4,
    "start_time": "2023-05-05T06:35:06.266Z"
   },
   {
    "duration": 4,
    "start_time": "2023-05-05T06:35:35.666Z"
   },
   {
    "duration": 48,
    "start_time": "2023-05-05T06:35:38.910Z"
   },
   {
    "duration": 4,
    "start_time": "2023-05-05T06:36:40.448Z"
   },
   {
    "duration": 625394,
    "start_time": "2023-05-05T06:36:43.146Z"
   },
   {
    "duration": 4,
    "start_time": "2023-05-05T06:48:29.074Z"
   },
   {
    "duration": 288745,
    "start_time": "2023-05-05T06:48:31.353Z"
   },
   {
    "duration": 172612,
    "start_time": "2023-05-05T06:54:53.526Z"
   },
   {
    "duration": 9512,
    "start_time": "2023-05-05T06:58:40.229Z"
   },
   {
    "duration": 3,
    "start_time": "2023-05-05T06:58:57.694Z"
   },
   {
    "duration": 10,
    "start_time": "2023-05-05T06:59:06.946Z"
   },
   {
    "duration": 52043,
    "start_time": "2023-05-05T06:59:06.958Z"
   },
   {
    "duration": 52495,
    "start_time": "2023-05-05T06:59:59.003Z"
   },
   {
    "duration": 2589,
    "start_time": "2023-05-05T15:25:45.571Z"
   },
   {
    "duration": 8278,
    "start_time": "2023-05-05T15:25:48.163Z"
   },
   {
    "duration": 6061,
    "start_time": "2023-05-05T15:25:56.444Z"
   },
   {
    "duration": 952,
    "start_time": "2023-05-05T15:26:02.508Z"
   },
   {
    "duration": 40,
    "start_time": "2023-05-05T15:26:03.463Z"
   },
   {
    "duration": 43,
    "start_time": "2023-05-05T15:26:03.505Z"
   },
   {
    "duration": 72,
    "start_time": "2023-05-05T15:26:03.551Z"
   },
   {
    "duration": 753,
    "start_time": "2023-05-05T15:27:38.681Z"
   },
   {
    "duration": 112445,
    "start_time": "2023-05-05T15:27:48.015Z"
   },
   {
    "duration": 204,
    "start_time": "2023-05-05T15:30:34.706Z"
   },
   {
    "duration": 1276416,
    "start_time": "2023-05-05T15:32:06.822Z"
   },
   {
    "duration": 19,
    "start_time": "2023-05-05T15:55:11.525Z"
   },
   {
    "duration": 9,
    "start_time": "2023-05-05T15:55:29.220Z"
   },
   {
    "duration": 1511,
    "start_time": "2023-05-05T15:56:05.094Z"
   },
   {
    "duration": 5,
    "start_time": "2023-05-05T15:56:10.397Z"
   },
   {
    "duration": 5,
    "start_time": "2023-05-05T15:56:17.600Z"
   }
  ],
  "kernelspec": {
   "display_name": "Python 3 (ipykernel)",
   "language": "python",
   "name": "python3"
  },
  "language_info": {
   "codemirror_mode": {
    "name": "ipython",
    "version": 3
   },
   "file_extension": ".py",
   "mimetype": "text/x-python",
   "name": "python",
   "nbconvert_exporter": "python",
   "pygments_lexer": "ipython3",
   "version": "3.9.5"
  },
  "toc": {
   "base_numbering": 1,
   "nav_menu": {},
   "number_sections": true,
   "sideBar": true,
   "skip_h1_title": true,
   "title_cell": "Содержание",
   "title_sidebar": "Contents",
   "toc_cell": true,
   "toc_position": {
    "height": "calc(100% - 180px)",
    "left": "10px",
    "top": "150px",
    "width": "302.391px"
   },
   "toc_section_display": true,
   "toc_window_display": false
  }
 },
 "nbformat": 4,
 "nbformat_minor": 2
}
