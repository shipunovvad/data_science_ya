{
 "cells": [
  {
   "cell_type": "markdown",
   "metadata": {},
   "source": [
    "# Определение стоимости автомобилей"
   ]
  },
  {
   "cell_type": "markdown",
   "metadata": {},
   "source": [
    "Сервис по продаже автомобилей с пробегом «Не бит, не крашен» разрабатывает приложение для привлечения новых клиентов. В нём можно быстро узнать рыночную стоимость своего автомобиля. В вашем распоряжении исторические данные: технические характеристики, комплектации и цены автомобилей. Вам нужно построить модель для определения стоимости. \n",
    "\n",
    "Заказчику важны:\n",
    "\n",
    "- качество предсказания;\n",
    "- скорость предсказания;\n",
    "- время обучения."
   ]
  },
  {
   "cell_type": "markdown",
   "metadata": {},
   "source": [
    "## Подготовка данных"
   ]
  },
  {
   "cell_type": "markdown",
   "metadata": {},
   "source": [
    "**Данный проект подрбно рассмотрен в видеокуре Глеба Михайлова, по которому учил Бустинг**\n",
    "\n",
    "В данном проекте буду делать без учета наработок в его курсе"
   ]
  },
  {
   "cell_type": "code",
   "execution_count": 1,
   "metadata": {},
   "outputs": [
    {
     "name": "stdout",
     "output_type": "stream",
     "text": [
      "Collecting phik\n",
      "  Downloading phik-0.12.3-cp39-cp39-manylinux_2_17_x86_64.manylinux2014_x86_64.whl (679 kB)\n",
      "\u001b[K     |████████████████████████████████| 679 kB 1.4 MB/s eta 0:00:01\n",
      "\u001b[?25hRequirement already satisfied: pandas>=0.25.1 in /opt/conda/lib/python3.9/site-packages (from phik) (1.2.4)\n",
      "Requirement already satisfied: numpy>=1.18.0 in /opt/conda/lib/python3.9/site-packages (from phik) (1.21.1)\n",
      "Requirement already satisfied: joblib>=0.14.1 in /opt/conda/lib/python3.9/site-packages (from phik) (1.1.0)\n",
      "Requirement already satisfied: matplotlib>=2.2.3 in /opt/conda/lib/python3.9/site-packages (from phik) (3.3.4)\n",
      "Requirement already satisfied: scipy>=1.5.2 in /opt/conda/lib/python3.9/site-packages (from phik) (1.9.1)\n",
      "Requirement already satisfied: pyparsing!=2.0.4,!=2.1.2,!=2.1.6,>=2.0.3 in /opt/conda/lib/python3.9/site-packages (from matplotlib>=2.2.3->phik) (2.4.7)\n",
      "Requirement already satisfied: python-dateutil>=2.1 in /opt/conda/lib/python3.9/site-packages (from matplotlib>=2.2.3->phik) (2.8.1)\n",
      "Requirement already satisfied: pillow>=6.2.0 in /opt/conda/lib/python3.9/site-packages (from matplotlib>=2.2.3->phik) (8.4.0)\n",
      "Requirement already satisfied: kiwisolver>=1.0.1 in /opt/conda/lib/python3.9/site-packages (from matplotlib>=2.2.3->phik) (1.4.4)\n",
      "Requirement already satisfied: cycler>=0.10 in /opt/conda/lib/python3.9/site-packages (from matplotlib>=2.2.3->phik) (0.11.0)\n",
      "Requirement already satisfied: pytz>=2017.3 in /opt/conda/lib/python3.9/site-packages (from pandas>=0.25.1->phik) (2021.1)\n",
      "Requirement already satisfied: six>=1.5 in /opt/conda/lib/python3.9/site-packages (from python-dateutil>=2.1->matplotlib>=2.2.3->phik) (1.16.0)\n",
      "Installing collected packages: phik\n",
      "Successfully installed phik-0.12.3\n"
     ]
    }
   ],
   "source": [
    "! pip install phik"
   ]
  },
  {
   "cell_type": "code",
   "execution_count": 2,
   "metadata": {},
   "outputs": [],
   "source": [
    "import pandas as pd\n",
    "import numpy as np\n",
    "import matplotlib.pyplot as plt\n",
    "import seaborn as sns\n",
    "import math\n",
    "import time\n",
    "\n",
    "\n",
    "\n",
    "# модели\n",
    "from sklearn.tree import DecisionTreeRegressor\n",
    "from sklearn.ensemble import RandomForestRegressor\n",
    "from sklearn.linear_model import LinearRegression\n",
    "from sklearn.dummy import DummyRegressor\n",
    "\n",
    "\n",
    "from sklearn.linear_model import Ridge\n",
    "\n",
    "\n",
    "\n",
    "# Вспомогательные методы\n",
    "from sklearn.base import BaseEstimator\n",
    "from sklearn.metrics import  make_scorer\n",
    "from sklearn.metrics import mean_squared_error as mse\n",
    "from sklearn.metrics import mean_squared_error\n",
    "from sklearn.model_selection import (\n",
    "    GridSearchCV, \n",
    "    RandomizedSearchCV,\n",
    "    train_test_split,\n",
    "    cross_val_score\n",
    ")\n",
    "from sklearn.pipeline import make_pipeline\n",
    "from sklearn.preprocessing import (\n",
    "    OneHotEncoder,\n",
    "    OrdinalEncoder,\n",
    "    StandardScaler,\n",
    "    LabelEncoder\n",
    ")\n",
    "from sklearn.metrics import make_scorer, mean_absolute_error\n",
    "from sklearn.model_selection import train_test_split\n",
    "# буст\n",
    "from catboost import CatBoostRegressor\n",
    "from lightgbm import LGBMRegressor\n",
    "import lightgbm as lgb\n",
    "import lightgbm\n",
    "import phik\n",
    "from phik import resources, report"
   ]
  },
  {
   "cell_type": "markdown",
   "metadata": {},
   "source": [
    "\n",
    "<div class=\"alert alert-block alert-success\">\n",
    "<b>Успех:</b> Импорты  на месте\n",
    "</div>\n"
   ]
  },
  {
   "cell_type": "code",
   "execution_count": 3,
   "metadata": {},
   "outputs": [],
   "source": [
    "RAN_ST = 12345 # опредилим  random_state"
   ]
  },
  {
   "cell_type": "code",
   "execution_count": 4,
   "metadata": {},
   "outputs": [],
   "source": [
    "df = pd.read_csv('/datasets/autos.csv')"
   ]
  },
  {
   "cell_type": "code",
   "execution_count": 5,
   "metadata": {},
   "outputs": [
    {
     "data": {
      "text/html": [
       "<div>\n",
       "<style scoped>\n",
       "    .dataframe tbody tr th:only-of-type {\n",
       "        vertical-align: middle;\n",
       "    }\n",
       "\n",
       "    .dataframe tbody tr th {\n",
       "        vertical-align: top;\n",
       "    }\n",
       "\n",
       "    .dataframe thead th {\n",
       "        text-align: right;\n",
       "    }\n",
       "</style>\n",
       "<table border=\"1\" class=\"dataframe\">\n",
       "  <thead>\n",
       "    <tr style=\"text-align: right;\">\n",
       "      <th></th>\n",
       "      <th>DateCrawled</th>\n",
       "      <th>Price</th>\n",
       "      <th>VehicleType</th>\n",
       "      <th>RegistrationYear</th>\n",
       "      <th>Gearbox</th>\n",
       "      <th>Power</th>\n",
       "      <th>Model</th>\n",
       "      <th>Kilometer</th>\n",
       "      <th>RegistrationMonth</th>\n",
       "      <th>FuelType</th>\n",
       "      <th>Brand</th>\n",
       "      <th>Repaired</th>\n",
       "      <th>DateCreated</th>\n",
       "      <th>NumberOfPictures</th>\n",
       "      <th>PostalCode</th>\n",
       "      <th>LastSeen</th>\n",
       "    </tr>\n",
       "  </thead>\n",
       "  <tbody>\n",
       "    <tr>\n",
       "      <th>0</th>\n",
       "      <td>2016-03-24 11:52:17</td>\n",
       "      <td>480</td>\n",
       "      <td>NaN</td>\n",
       "      <td>1993</td>\n",
       "      <td>manual</td>\n",
       "      <td>0</td>\n",
       "      <td>golf</td>\n",
       "      <td>150000</td>\n",
       "      <td>0</td>\n",
       "      <td>petrol</td>\n",
       "      <td>volkswagen</td>\n",
       "      <td>NaN</td>\n",
       "      <td>2016-03-24 00:00:00</td>\n",
       "      <td>0</td>\n",
       "      <td>70435</td>\n",
       "      <td>2016-04-07 03:16:57</td>\n",
       "    </tr>\n",
       "    <tr>\n",
       "      <th>1</th>\n",
       "      <td>2016-03-24 10:58:45</td>\n",
       "      <td>18300</td>\n",
       "      <td>coupe</td>\n",
       "      <td>2011</td>\n",
       "      <td>manual</td>\n",
       "      <td>190</td>\n",
       "      <td>NaN</td>\n",
       "      <td>125000</td>\n",
       "      <td>5</td>\n",
       "      <td>gasoline</td>\n",
       "      <td>audi</td>\n",
       "      <td>yes</td>\n",
       "      <td>2016-03-24 00:00:00</td>\n",
       "      <td>0</td>\n",
       "      <td>66954</td>\n",
       "      <td>2016-04-07 01:46:50</td>\n",
       "    </tr>\n",
       "    <tr>\n",
       "      <th>2</th>\n",
       "      <td>2016-03-14 12:52:21</td>\n",
       "      <td>9800</td>\n",
       "      <td>suv</td>\n",
       "      <td>2004</td>\n",
       "      <td>auto</td>\n",
       "      <td>163</td>\n",
       "      <td>grand</td>\n",
       "      <td>125000</td>\n",
       "      <td>8</td>\n",
       "      <td>gasoline</td>\n",
       "      <td>jeep</td>\n",
       "      <td>NaN</td>\n",
       "      <td>2016-03-14 00:00:00</td>\n",
       "      <td>0</td>\n",
       "      <td>90480</td>\n",
       "      <td>2016-04-05 12:47:46</td>\n",
       "    </tr>\n",
       "    <tr>\n",
       "      <th>3</th>\n",
       "      <td>2016-03-17 16:54:04</td>\n",
       "      <td>1500</td>\n",
       "      <td>small</td>\n",
       "      <td>2001</td>\n",
       "      <td>manual</td>\n",
       "      <td>75</td>\n",
       "      <td>golf</td>\n",
       "      <td>150000</td>\n",
       "      <td>6</td>\n",
       "      <td>petrol</td>\n",
       "      <td>volkswagen</td>\n",
       "      <td>no</td>\n",
       "      <td>2016-03-17 00:00:00</td>\n",
       "      <td>0</td>\n",
       "      <td>91074</td>\n",
       "      <td>2016-03-17 17:40:17</td>\n",
       "    </tr>\n",
       "    <tr>\n",
       "      <th>4</th>\n",
       "      <td>2016-03-31 17:25:20</td>\n",
       "      <td>3600</td>\n",
       "      <td>small</td>\n",
       "      <td>2008</td>\n",
       "      <td>manual</td>\n",
       "      <td>69</td>\n",
       "      <td>fabia</td>\n",
       "      <td>90000</td>\n",
       "      <td>7</td>\n",
       "      <td>gasoline</td>\n",
       "      <td>skoda</td>\n",
       "      <td>no</td>\n",
       "      <td>2016-03-31 00:00:00</td>\n",
       "      <td>0</td>\n",
       "      <td>60437</td>\n",
       "      <td>2016-04-06 10:17:21</td>\n",
       "    </tr>\n",
       "  </tbody>\n",
       "</table>\n",
       "</div>"
      ],
      "text/plain": [
       "           DateCrawled  Price VehicleType  RegistrationYear Gearbox  Power  \\\n",
       "0  2016-03-24 11:52:17    480         NaN              1993  manual      0   \n",
       "1  2016-03-24 10:58:45  18300       coupe              2011  manual    190   \n",
       "2  2016-03-14 12:52:21   9800         suv              2004    auto    163   \n",
       "3  2016-03-17 16:54:04   1500       small              2001  manual     75   \n",
       "4  2016-03-31 17:25:20   3600       small              2008  manual     69   \n",
       "\n",
       "   Model  Kilometer  RegistrationMonth  FuelType       Brand Repaired  \\\n",
       "0   golf     150000                  0    petrol  volkswagen      NaN   \n",
       "1    NaN     125000                  5  gasoline        audi      yes   \n",
       "2  grand     125000                  8  gasoline        jeep      NaN   \n",
       "3   golf     150000                  6    petrol  volkswagen       no   \n",
       "4  fabia      90000                  7  gasoline       skoda       no   \n",
       "\n",
       "           DateCreated  NumberOfPictures  PostalCode             LastSeen  \n",
       "0  2016-03-24 00:00:00                 0       70435  2016-04-07 03:16:57  \n",
       "1  2016-03-24 00:00:00                 0       66954  2016-04-07 01:46:50  \n",
       "2  2016-03-14 00:00:00                 0       90480  2016-04-05 12:47:46  \n",
       "3  2016-03-17 00:00:00                 0       91074  2016-03-17 17:40:17  \n",
       "4  2016-03-31 00:00:00                 0       60437  2016-04-06 10:17:21  "
      ]
     },
     "execution_count": 5,
     "metadata": {},
     "output_type": "execute_result"
    }
   ],
   "source": [
    "df.head()"
   ]
  },
  {
   "cell_type": "code",
   "execution_count": 6,
   "metadata": {},
   "outputs": [
    {
     "name": "stdout",
     "output_type": "stream",
     "text": [
      "<class 'pandas.core.frame.DataFrame'>\n",
      "RangeIndex: 354369 entries, 0 to 354368\n",
      "Data columns (total 16 columns):\n",
      " #   Column             Non-Null Count   Dtype \n",
      "---  ------             --------------   ----- \n",
      " 0   DateCrawled        354369 non-null  object\n",
      " 1   Price              354369 non-null  int64 \n",
      " 2   VehicleType        316879 non-null  object\n",
      " 3   RegistrationYear   354369 non-null  int64 \n",
      " 4   Gearbox            334536 non-null  object\n",
      " 5   Power              354369 non-null  int64 \n",
      " 6   Model              334664 non-null  object\n",
      " 7   Kilometer          354369 non-null  int64 \n",
      " 8   RegistrationMonth  354369 non-null  int64 \n",
      " 9   FuelType           321474 non-null  object\n",
      " 10  Brand              354369 non-null  object\n",
      " 11  Repaired           283215 non-null  object\n",
      " 12  DateCreated        354369 non-null  object\n",
      " 13  NumberOfPictures   354369 non-null  int64 \n",
      " 14  PostalCode         354369 non-null  int64 \n",
      " 15  LastSeen           354369 non-null  object\n",
      "dtypes: int64(7), object(9)\n",
      "memory usage: 43.3+ MB\n"
     ]
    }
   ],
   "source": [
    "df.info()"
   ]
  },
  {
   "cell_type": "code",
   "execution_count": 7,
   "metadata": {},
   "outputs": [
    {
     "data": {
      "text/plain": [
       "4"
      ]
     },
     "execution_count": 7,
     "metadata": {},
     "output_type": "execute_result"
    }
   ],
   "source": [
    "df.duplicated().sum()"
   ]
  },
  {
   "cell_type": "code",
   "execution_count": 8,
   "metadata": {},
   "outputs": [],
   "source": [
    "df = df.drop_duplicates()"
   ]
  },
  {
   "cell_type": "code",
   "execution_count": 9,
   "metadata": {},
   "outputs": [
    {
     "data": {
      "text/plain": [
       "0"
      ]
     },
     "execution_count": 9,
     "metadata": {},
     "output_type": "execute_result"
    }
   ],
   "source": [
    "df.duplicated().sum()"
   ]
  },
  {
   "cell_type": "code",
   "execution_count": 10,
   "metadata": {},
   "outputs": [
    {
     "data": {
      "text/plain": [
       "2016    354365\n",
       "Name: DateCrawled_Year, dtype: int64"
      ]
     },
     "execution_count": 10,
     "metadata": {},
     "output_type": "execute_result"
    }
   ],
   "source": [
    "df['DateCrawled'] =  pd.to_datetime(df['DateCrawled']) # format='%Y%m%d:%H:%M:%S'\n",
    "df['DateCrawled_Year']  = pd.DatetimeIndex(df['DateCrawled']).year\n",
    "df['DateCrawled_Year'].value_counts()"
   ]
  },
  {
   "cell_type": "code",
   "execution_count": 11,
   "metadata": {},
   "outputs": [
    {
     "data": {
      "text/plain": [
       "2016    354339\n",
       "2015        25\n",
       "2014         1\n",
       "Name: DateCreated_Year, dtype: int64"
      ]
     },
     "execution_count": 11,
     "metadata": {},
     "output_type": "execute_result"
    }
   ],
   "source": [
    "df['DateCreated'] =  pd.to_datetime(df['DateCreated']) # format='%Y%m%d:%H:%M:%S'\n",
    "df['DateCreated_Year']  = pd.DatetimeIndex(df['DateCreated']).year\n",
    "df['DateCreated_Year'].value_counts()"
   ]
  },
  {
   "cell_type": "code",
   "execution_count": 12,
   "metadata": {},
   "outputs": [
    {
     "data": {
      "text/plain": [
       "<AxesSubplot:>"
      ]
     },
     "execution_count": 12,
     "metadata": {},
     "output_type": "execute_result"
    },
    {
     "data": {
      "image/png": "[encoded data removed]",
      "text/plain": [
       "<Figure size 432x288 with 1 Axes>"
      ]
     },
     "metadata": {
      "needs_background": "light"
     },
     "output_type": "display_data"
    }
   ],
   "source": [
    "df['Price'].hist()"
   ]
  },
  {
   "cell_type": "code",
   "execution_count": 13,
   "metadata": {},
   "outputs": [
    {
     "data": {
      "image/png": "[encoded data removed]",
      "text/plain": [
       "<Figure size 432x288 with 1 Axes>"
      ]
     },
     "metadata": {
      "needs_background": "light"
     },
     "output_type": "display_data"
    }
   ],
   "source": [
    "sns.boxplot(data=df['Price'])\n",
    "plt.show()"
   ]
  },
  {
   "cell_type": "markdown",
   "metadata": {},
   "source": [
    " - Есть много пропущенных значений (необходима обоаботка) \n",
    " - Явные дубликаты удалили\n",
    " - Явных выбросов в столбцу Price нет.\n",
    " - Есть столбцы, которы не несут смысла для модели - удалим."
   ]
  },
  {
   "cell_type": "markdown",
   "metadata": {},
   "source": [
    "<div class=\"alert alert-block alert-success\">\n",
    "<b>Успех:</b> Удалить неинформативные признаки - верное решение.\n",
    "</div>"
   ]
  },
  {
   "cell_type": "code",
   "execution_count": 14,
   "metadata": {},
   "outputs": [
    {
     "data": {
      "text/plain": [
       "DateCrawled          0.000000\n",
       "Price                0.000000\n",
       "VehicleType          0.105795\n",
       "RegistrationYear     0.000000\n",
       "Gearbox              0.055968\n",
       "Power                0.000000\n",
       "Model                0.055607\n",
       "Kilometer            0.000000\n",
       "RegistrationMonth    0.000000\n",
       "FuelType             0.092828\n",
       "Brand                0.000000\n",
       "Repaired             0.200793\n",
       "DateCreated          0.000000\n",
       "NumberOfPictures     0.000000\n",
       "PostalCode           0.000000\n",
       "LastSeen             0.000000\n",
       "DateCrawled_Year     0.000000\n",
       "DateCreated_Year     0.000000\n",
       "dtype: float64"
      ]
     },
     "execution_count": 14,
     "metadata": {},
     "output_type": "execute_result"
    }
   ],
   "source": [
    "df.isna().sum()/df.shape[0]"
   ]
  },
  {
   "cell_type": "code",
   "execution_count": 15,
   "metadata": {},
   "outputs": [
    {
     "data": {
      "text/plain": [
       "manual    0.801863\n",
       "auto      0.198137\n",
       "Name: Gearbox, dtype: float64"
      ]
     },
     "execution_count": 15,
     "metadata": {},
     "output_type": "execute_result"
    }
   ],
   "source": [
    "df['Gearbox'].value_counts(normalize=True)\n",
    "# df['Model'].value_counts()\n",
    "# df['Repaired'].value_counts() #есть высокая вероятность, что пропущенные значения - это значит не чинили. \n",
    "#Но стопроцентной уверенности у меня нет"
   ]
  },
  {
   "cell_type": "code",
   "execution_count": 16,
   "metadata": {},
   "outputs": [
    {
     "data": {
      "text/plain": [
       "petrol      216349\n",
       "gasoline     98719\n",
       "lpg           5310\n",
       "cng            565\n",
       "hybrid         233\n",
       "other          204\n",
       "electric        90\n",
       "Name: FuelType, dtype: int64"
      ]
     },
     "execution_count": 16,
     "metadata": {},
     "output_type": "execute_result"
    }
   ],
   "source": [
    "df['FuelType'].value_counts()"
   ]
  },
  {
   "cell_type": "markdown",
   "metadata": {},
   "source": [
    "\n",
    "\n",
    "1.LNG (Liquified Natural Gas) – сжиженный природный газ. Получают при охлаждении природного газа до температуры –160°C. При этом происходит сжатие газа по объему в 600 раз, а его вес уменьшается вдвое по сравнению с газообразным состоянием.\n",
    "\n",
    "2.CNG (Compressed Natural Gas) – сжатый природный газ (метан): газообразные углеводороды, образующиеся в земной коре, высокоэкономичное энергетическое топливо.\n",
    "\n",
    "3.LPG (Liquified Petroleum Gas) – сжиженный газ (пропан-бутан). Газ, полученный при добыче и переработке нефти. В жидкое состояние переводят при охлаждении до критической температуры и последующей конденсации в результате отвода теплоты парообразования.\n",
    "\n",
    "4.SNG (Synthetic natural gas) – синтезированный природный газ (СПГ): газ, полученный из угля или нефти, состоит из тех же основных химических элементов, что и природный газ, и имеет такие же горючие свойства.\n",
    "https://www.drive2.ru/l/3409061/\n",
    "\n",
    "petrol и gasoline - это одно и тоже\n",
    "https://otvet.mail.ru/question/34949627"
   ]
  },
  {
   "cell_type": "code",
   "execution_count": 17,
   "metadata": {},
   "outputs": [],
   "source": [
    "df['FuelType'] = df['FuelType'].replace('gasoline', 'petrol').replace('lpg', 'gas').replace('cng', 'gas')"
   ]
  },
  {
   "cell_type": "code",
   "execution_count": 18,
   "metadata": {},
   "outputs": [
    {
     "data": {
      "text/plain": [
       "petrol      315068\n",
       "gas           5875\n",
       "hybrid         233\n",
       "other          204\n",
       "electric        90\n",
       "Name: FuelType, dtype: int64"
      ]
     },
     "execution_count": 18,
     "metadata": {},
     "output_type": "execute_result"
    }
   ],
   "source": [
    "df['FuelType'].value_counts()"
   ]
  },
  {
   "cell_type": "code",
   "execution_count": 19,
   "metadata": {},
   "outputs": [],
   "source": [
    "#  Применим заглушку для пропущенных значений, т.к их змена может исазить данные\n",
    "df['VehicleType'] = df['VehicleType'].fillna('undefined')\n",
    "df['Gearbox'] = df['Gearbox'].fillna('undefined')\n",
    "df['Model'] = df['Model'].fillna('undefined')\n",
    "df['FuelType'] = df['FuelType'].fillna('undefined')\n",
    "df['Repaired'] = df['Repaired'].fillna('undefined')"
   ]
  },
  {
   "cell_type": "code",
   "execution_count": 20,
   "metadata": {},
   "outputs": [
    {
     "data": {
      "text/plain": [
       "no           247158\n",
       "undefined     71154\n",
       "yes           36053\n",
       "Name: Repaired, dtype: int64"
      ]
     },
     "execution_count": 20,
     "metadata": {},
     "output_type": "execute_result"
    }
   ],
   "source": [
    "df['Repaired'].value_counts()"
   ]
  },
  {
   "cell_type": "code",
   "execution_count": 21,
   "metadata": {},
   "outputs": [],
   "source": [
    "#data.columns=data.columns.str.lower()  сначала изменил, потом не стал применять- падает наглядность"
   ]
  },
  {
   "cell_type": "code",
   "execution_count": 22,
   "metadata": {},
   "outputs": [
    {
     "name": "stdout",
     "output_type": "stream",
     "text": [
      "<class 'pandas.core.frame.DataFrame'>\n",
      "Int64Index: 354365 entries, 0 to 354368\n",
      "Data columns (total 18 columns):\n",
      " #   Column             Non-Null Count   Dtype         \n",
      "---  ------             --------------   -----         \n",
      " 0   DateCrawled        354365 non-null  datetime64[ns]\n",
      " 1   Price              354365 non-null  int64         \n",
      " 2   VehicleType        354365 non-null  object        \n",
      " 3   RegistrationYear   354365 non-null  int64         \n",
      " 4   Gearbox            354365 non-null  object        \n",
      " 5   Power              354365 non-null  int64         \n",
      " 6   Model              354365 non-null  object        \n",
      " 7   Kilometer          354365 non-null  int64         \n",
      " 8   RegistrationMonth  354365 non-null  int64         \n",
      " 9   FuelType           354365 non-null  object        \n",
      " 10  Brand              354365 non-null  object        \n",
      " 11  Repaired           354365 non-null  object        \n",
      " 12  DateCreated        354365 non-null  datetime64[ns]\n",
      " 13  NumberOfPictures   354365 non-null  int64         \n",
      " 14  PostalCode         354365 non-null  int64         \n",
      " 15  LastSeen           354365 non-null  object        \n",
      " 16  DateCrawled_Year   354365 non-null  int64         \n",
      " 17  DateCreated_Year   354365 non-null  int64         \n",
      "dtypes: datetime64[ns](2), int64(9), object(7)\n",
      "memory usage: 59.4+ MB\n"
     ]
    }
   ],
   "source": [
    "# Проверим результат\n",
    "df.info()"
   ]
  },
  {
   "cell_type": "code",
   "execution_count": 23,
   "metadata": {},
   "outputs": [
    {
     "data": {
      "text/plain": [
       "2000    24490\n",
       "1999    22727\n",
       "2005    22109\n",
       "2001    20123\n",
       "2006    19900\n",
       "        ...  \n",
       "4100        1\n",
       "1200        1\n",
       "5300        1\n",
       "8888        1\n",
       "2290        1\n",
       "Name: RegistrationYear, Length: 151, dtype: int64"
      ]
     },
     "execution_count": 23,
     "metadata": {},
     "output_type": "execute_result"
    }
   ],
   "source": [
    "df['RegistrationYear'].value_counts()"
   ]
  },
  {
   "cell_type": "code",
   "execution_count": 24,
   "metadata": {},
   "outputs": [
    {
     "data": {
      "text/plain": [
       "67     9999\n",
       "134    9996\n",
       "119    9450\n",
       "143    9229\n",
       "91     9000\n",
       "       ... \n",
       "102    1200\n",
       "39     1111\n",
       "133    1039\n",
       "118    1001\n",
       "70     1000\n",
       "Length: 151, dtype: int64"
      ]
     },
     "execution_count": 24,
     "metadata": {},
     "output_type": "execute_result"
    }
   ],
   "source": [
    "pd.Series(list(df.RegistrationYear.unique())).sort_values(ascending=False)"
   ]
  },
  {
   "cell_type": "code",
   "execution_count": 25,
   "metadata": {},
   "outputs": [
    {
     "data": {
      "text/plain": [
       "0    2016\n",
       "dtype: int64"
      ]
     },
     "execution_count": 25,
     "metadata": {},
     "output_type": "execute_result"
    }
   ],
   "source": [
    "pd.Series(list(df['DateCrawled_Year'].unique())).sort_values(ascending=False)"
   ]
  },
  {
   "cell_type": "code",
   "execution_count": 26,
   "metadata": {},
   "outputs": [
    {
     "data": {
      "text/plain": [
       "0    2016\n",
       "1    2015\n",
       "2    2014\n",
       "dtype: int64"
      ]
     },
     "execution_count": 26,
     "metadata": {},
     "output_type": "execute_result"
    }
   ],
   "source": [
    "pd.Series(list(df['DateCreated_Year'].unique())).sort_values(ascending=False)"
   ]
  },
  {
   "cell_type": "code",
   "execution_count": 27,
   "metadata": {},
   "outputs": [],
   "source": [
    "df=df.query('RegistrationYear >= 1950 & RegistrationYear < 2017') #исправил на 17"
   ]
  },
  {
   "cell_type": "code",
   "execution_count": 28,
   "metadata": {},
   "outputs": [
    {
     "name": "stdout",
     "output_type": "stream",
     "text": [
      "Колличество объявлений с нулевой ценой: 9954\n"
     ]
    }
   ],
   "source": [
    "print(\"Колличество объявлений с нулевой ценой:\",len(df.loc[df['Price'] == 0]))"
   ]
  },
  {
   "cell_type": "code",
   "execution_count": 29,
   "metadata": {},
   "outputs": [
    {
     "data": {
      "text/plain": [
       "10    2016\n",
       "31    2015\n",
       "7     2014\n",
       "27    2013\n",
       "23    2012\n",
       "      ... \n",
       "56    1954\n",
       "64    1953\n",
       "66    1952\n",
       "63    1951\n",
       "65    1950\n",
       "Length: 67, dtype: int64"
      ]
     },
     "execution_count": 29,
     "metadata": {},
     "output_type": "execute_result"
    }
   ],
   "source": [
    "pd.Series(list(df.RegistrationYear.unique())).sort_values(ascending=False)"
   ]
  },
  {
   "cell_type": "code",
   "execution_count": 30,
   "metadata": {},
   "outputs": [],
   "source": [
    "df=df.query('Price > 500')"
   ]
  },
  {
   "cell_type": "code",
   "execution_count": 31,
   "metadata": {},
   "outputs": [
    {
     "data": {
      "text/plain": [
       "0        24452\n",
       "75       19012\n",
       "150      13320\n",
       "140      12181\n",
       "101      11595\n",
       "         ...  \n",
       "1701         1\n",
       "560          1\n",
       "678          1\n",
       "8500         1\n",
       "17019        1\n",
       "Name: Power, Length: 649, dtype: int64"
      ]
     },
     "execution_count": 31,
     "metadata": {},
     "output_type": "execute_result"
    }
   ],
   "source": [
    "#аномалии в мощности \n",
    "df['Power'].value_counts()"
   ]
  },
  {
   "cell_type": "code",
   "execution_count": 32,
   "metadata": {},
   "outputs": [],
   "source": [
    "#df['Power'].dtypes"
   ]
  },
  {
   "cell_type": "code",
   "execution_count": 33,
   "metadata": {},
   "outputs": [
    {
     "data": {
      "text/plain": [
       "6925"
      ]
     },
     "execution_count": 33,
     "metadata": {},
     "output_type": "execute_result"
    }
   ],
   "source": [
    "df[df['Power'] > 250]['Power'].count()"
   ]
  },
  {
   "cell_type": "code",
   "execution_count": 34,
   "metadata": {},
   "outputs": [],
   "source": [
    "df = df[df['Power'] < 250]"
   ]
  },
  {
   "cell_type": "code",
   "execution_count": 35,
   "metadata": {},
   "outputs": [
    {
     "data": {
      "text/html": [
       "<div>\n",
       "<style scoped>\n",
       "    .dataframe tbody tr th:only-of-type {\n",
       "        vertical-align: middle;\n",
       "    }\n",
       "\n",
       "    .dataframe tbody tr th {\n",
       "        vertical-align: top;\n",
       "    }\n",
       "\n",
       "    .dataframe thead th {\n",
       "        text-align: right;\n",
       "    }\n",
       "</style>\n",
       "<table border=\"1\" class=\"dataframe\">\n",
       "  <thead>\n",
       "    <tr style=\"text-align: right;\">\n",
       "      <th></th>\n",
       "      <th>Price</th>\n",
       "      <th>VehicleType</th>\n",
       "      <th>RegistrationYear</th>\n",
       "      <th>Gearbox</th>\n",
       "      <th>Power</th>\n",
       "      <th>Model</th>\n",
       "      <th>Kilometer</th>\n",
       "      <th>FuelType</th>\n",
       "      <th>Brand</th>\n",
       "      <th>Repaired</th>\n",
       "    </tr>\n",
       "  </thead>\n",
       "  <tbody>\n",
       "    <tr>\n",
       "      <th>1</th>\n",
       "      <td>18300</td>\n",
       "      <td>coupe</td>\n",
       "      <td>2011</td>\n",
       "      <td>manual</td>\n",
       "      <td>190</td>\n",
       "      <td>undefined</td>\n",
       "      <td>125000</td>\n",
       "      <td>petrol</td>\n",
       "      <td>audi</td>\n",
       "      <td>yes</td>\n",
       "    </tr>\n",
       "    <tr>\n",
       "      <th>2</th>\n",
       "      <td>9800</td>\n",
       "      <td>suv</td>\n",
       "      <td>2004</td>\n",
       "      <td>auto</td>\n",
       "      <td>163</td>\n",
       "      <td>grand</td>\n",
       "      <td>125000</td>\n",
       "      <td>petrol</td>\n",
       "      <td>jeep</td>\n",
       "      <td>undefined</td>\n",
       "    </tr>\n",
       "    <tr>\n",
       "      <th>3</th>\n",
       "      <td>1500</td>\n",
       "      <td>small</td>\n",
       "      <td>2001</td>\n",
       "      <td>manual</td>\n",
       "      <td>75</td>\n",
       "      <td>golf</td>\n",
       "      <td>150000</td>\n",
       "      <td>petrol</td>\n",
       "      <td>volkswagen</td>\n",
       "      <td>no</td>\n",
       "    </tr>\n",
       "    <tr>\n",
       "      <th>4</th>\n",
       "      <td>3600</td>\n",
       "      <td>small</td>\n",
       "      <td>2008</td>\n",
       "      <td>manual</td>\n",
       "      <td>69</td>\n",
       "      <td>fabia</td>\n",
       "      <td>90000</td>\n",
       "      <td>petrol</td>\n",
       "      <td>skoda</td>\n",
       "      <td>no</td>\n",
       "    </tr>\n",
       "    <tr>\n",
       "      <th>5</th>\n",
       "      <td>650</td>\n",
       "      <td>sedan</td>\n",
       "      <td>1995</td>\n",
       "      <td>manual</td>\n",
       "      <td>102</td>\n",
       "      <td>3er</td>\n",
       "      <td>150000</td>\n",
       "      <td>petrol</td>\n",
       "      <td>bmw</td>\n",
       "      <td>yes</td>\n",
       "    </tr>\n",
       "  </tbody>\n",
       "</table>\n",
       "</div>"
      ],
      "text/plain": [
       "   Price VehicleType  RegistrationYear Gearbox  Power      Model  Kilometer  \\\n",
       "1  18300       coupe              2011  manual    190  undefined     125000   \n",
       "2   9800         suv              2004    auto    163      grand     125000   \n",
       "3   1500       small              2001  manual     75       golf     150000   \n",
       "4   3600       small              2008  manual     69      fabia      90000   \n",
       "5    650       sedan              1995  manual    102        3er     150000   \n",
       "\n",
       "  FuelType       Brand   Repaired  \n",
       "1   petrol        audi        yes  \n",
       "2   petrol        jeep  undefined  \n",
       "3   petrol  volkswagen         no  \n",
       "4   petrol       skoda         no  \n",
       "5   petrol         bmw        yes  "
      ]
     },
     "execution_count": 35,
     "metadata": {},
     "output_type": "execute_result"
    }
   ],
   "source": [
    "#Удалим столбцы, которые не будем использовать в модели\n",
    "df.drop(['DateCrawled', 'DateCreated', 'NumberOfPictures', 'PostalCode', 'LastSeen', 'RegistrationMonth', 'DateCrawled_Year', 'DateCreated_Year'], axis=1, inplace= True)\n",
    "df.head()"
   ]
  },
  {
   "cell_type": "code",
   "execution_count": 36,
   "metadata": {},
   "outputs": [],
   "source": [
    "# сбросим индексы\n",
    "df = df.reset_index(drop=True)"
   ]
  },
  {
   "cell_type": "code",
   "execution_count": 37,
   "metadata": {
    "scrolled": true
   },
   "outputs": [
    {
     "data": {
      "text/plain": [
       "<AxesSubplot:title={'center':'Зависимость цены от года'}, xlabel='RegistrationYear'>"
      ]
     },
     "execution_count": 37,
     "metadata": {},
     "output_type": "execute_result"
    },
    {
     "data": {
      "image/png": "[encoded data removed]",
      "text/plain": [
       "<Figure size 864x360 with 1 Axes>"
      ]
     },
     "metadata": {
      "needs_background": "light"
     },
     "output_type": "display_data"
    }
   ],
   "source": [
    "# for_plot = ['Age', 'Tenure', 'NumOfProducts', 'Exited']# df_plot = df[for_plot]\n",
    "# sns.pairplot(df, hue='Price')\n",
    "# actual_data.groupby('platform')['all_sales'].sum().sort_values(ascending=False).plot(figsize=(10,4),kind=\"bar\",title='Продажи по платформам с 2016 года')\n",
    "# #plt.ylim(0,3)\n",
    "# sns.plot(x='RegistrationYear',y='Price', data=df)\n",
    "# data.groupby('year_of_release')['name'].count().plot(x=\"year_of_release\",style=\"-o\",figsize=(10,6),title='Зависимость появления игр от года')\n",
    "df.groupby('RegistrationYear')['Price'].mean().plot(x=\"year\",style=\"-o\",figsize=(12,5),title='Зависимость цены от года')"
   ]
  },
  {
   "cell_type": "markdown",
   "metadata": {},
   "source": [
    "<div class=\"alert alert-block alert-info\">\n",
    "<b>Совет:</b> У нас разный возраст машин. Есть гипотеза, что для разных возрастов - своё ценообразование. Поэтому, можно попробовать ввести фактор \"тип возраста\" (ретро, супер-ретро, старая, новая... надо подумать..)..<br>\n",
    "\n",
    "\n",
    "</div>\n",
    "\n",
    "Сделал ниже"
   ]
  },
  {
   "cell_type": "code",
   "execution_count": 38,
   "metadata": {},
   "outputs": [],
   "source": [
    "dt=df.copy()"
   ]
  },
  {
   "cell_type": "code",
   "execution_count": 39,
   "metadata": {},
   "outputs": [
    {
     "data": {
      "text/html": [
       "<div>\n",
       "<style scoped>\n",
       "    .dataframe tbody tr th:only-of-type {\n",
       "        vertical-align: middle;\n",
       "    }\n",
       "\n",
       "    .dataframe tbody tr th {\n",
       "        vertical-align: top;\n",
       "    }\n",
       "\n",
       "    .dataframe thead th {\n",
       "        text-align: right;\n",
       "    }\n",
       "</style>\n",
       "<table border=\"1\" class=\"dataframe\">\n",
       "  <thead>\n",
       "    <tr style=\"text-align: right;\">\n",
       "      <th></th>\n",
       "      <th>Price</th>\n",
       "      <th>VehicleType</th>\n",
       "      <th>RegistrationYear</th>\n",
       "      <th>Gearbox</th>\n",
       "      <th>Power</th>\n",
       "      <th>Model</th>\n",
       "      <th>Kilometer</th>\n",
       "      <th>FuelType</th>\n",
       "      <th>Brand</th>\n",
       "      <th>Repaired</th>\n",
       "      <th>categ</th>\n",
       "    </tr>\n",
       "  </thead>\n",
       "  <tbody>\n",
       "    <tr>\n",
       "      <th>0</th>\n",
       "      <td>18300</td>\n",
       "      <td>coupe</td>\n",
       "      <td>2011</td>\n",
       "      <td>manual</td>\n",
       "      <td>190</td>\n",
       "      <td>undefined</td>\n",
       "      <td>125000</td>\n",
       "      <td>petrol</td>\n",
       "      <td>audi</td>\n",
       "      <td>yes</td>\n",
       "      <td>new</td>\n",
       "    </tr>\n",
       "    <tr>\n",
       "      <th>1</th>\n",
       "      <td>9800</td>\n",
       "      <td>suv</td>\n",
       "      <td>2004</td>\n",
       "      <td>auto</td>\n",
       "      <td>163</td>\n",
       "      <td>grand</td>\n",
       "      <td>125000</td>\n",
       "      <td>petrol</td>\n",
       "      <td>jeep</td>\n",
       "      <td>undefined</td>\n",
       "      <td>old</td>\n",
       "    </tr>\n",
       "    <tr>\n",
       "      <th>2</th>\n",
       "      <td>1500</td>\n",
       "      <td>small</td>\n",
       "      <td>2001</td>\n",
       "      <td>manual</td>\n",
       "      <td>75</td>\n",
       "      <td>golf</td>\n",
       "      <td>150000</td>\n",
       "      <td>petrol</td>\n",
       "      <td>volkswagen</td>\n",
       "      <td>no</td>\n",
       "      <td>retro</td>\n",
       "    </tr>\n",
       "    <tr>\n",
       "      <th>3</th>\n",
       "      <td>3600</td>\n",
       "      <td>small</td>\n",
       "      <td>2008</td>\n",
       "      <td>manual</td>\n",
       "      <td>69</td>\n",
       "      <td>fabia</td>\n",
       "      <td>90000</td>\n",
       "      <td>petrol</td>\n",
       "      <td>skoda</td>\n",
       "      <td>no</td>\n",
       "      <td>new</td>\n",
       "    </tr>\n",
       "    <tr>\n",
       "      <th>4</th>\n",
       "      <td>650</td>\n",
       "      <td>sedan</td>\n",
       "      <td>1995</td>\n",
       "      <td>manual</td>\n",
       "      <td>102</td>\n",
       "      <td>3er</td>\n",
       "      <td>150000</td>\n",
       "      <td>petrol</td>\n",
       "      <td>bmw</td>\n",
       "      <td>yes</td>\n",
       "      <td>retro</td>\n",
       "    </tr>\n",
       "  </tbody>\n",
       "</table>\n",
       "</div>"
      ],
      "text/plain": [
       "   Price VehicleType  RegistrationYear Gearbox  Power      Model  Kilometer  \\\n",
       "0  18300       coupe              2011  manual    190  undefined     125000   \n",
       "1   9800         suv              2004    auto    163      grand     125000   \n",
       "2   1500       small              2001  manual     75       golf     150000   \n",
       "3   3600       small              2008  manual     69      fabia      90000   \n",
       "4    650       sedan              1995  manual    102        3er     150000   \n",
       "\n",
       "  FuelType       Brand   Repaired  categ  \n",
       "0   petrol        audi        yes    new  \n",
       "1   petrol        jeep  undefined    old  \n",
       "2   petrol  volkswagen         no  retro  \n",
       "3   petrol       skoda         no    new  \n",
       "4   petrol         bmw        yes  retro  "
      ]
     },
     "execution_count": 39,
     "metadata": {},
     "output_type": "execute_result"
    }
   ],
   "source": [
    "dt['categ']=pd.qcut(dt['RegistrationYear'], 3, labels=[\"retro\",\"old\" , \"new\"]) #, [(1949.999, 2000.0] < (2000.0, 2005.0] < (2005.0, 2016.0]]\n",
    "dt.head()"
   ]
  },
  {
   "cell_type": "code",
   "execution_count": 40,
   "metadata": {
    "scrolled": true
   },
   "outputs": [
    {
     "data": {
      "text/plain": [
       "<AxesSubplot:title={'center':'Зависимость цены от категории'}, xlabel='categ'>"
      ]
     },
     "execution_count": 40,
     "metadata": {},
     "output_type": "execute_result"
    },
    {
     "data": {
      "image/png": "[encoded data removed]",
      "text/plain": [
       "<Figure size 864x360 with 1 Axes>"
      ]
     },
     "metadata": {
      "needs_background": "light"
     },
     "output_type": "display_data"
    }
   ],
   "source": [
    "dt.groupby('categ')['Price'].mean().plot(kind = 'bar', figsize=(12,5),title='Зависимость цены от категории')"
   ]
  },
  {
   "cell_type": "code",
   "execution_count": 41,
   "metadata": {},
   "outputs": [
    {
     "data": {
      "text/html": [
       "<div>\n",
       "<style scoped>\n",
       "    .dataframe tbody tr th:only-of-type {\n",
       "        vertical-align: middle;\n",
       "    }\n",
       "\n",
       "    .dataframe tbody tr th {\n",
       "        vertical-align: top;\n",
       "    }\n",
       "\n",
       "    .dataframe thead th {\n",
       "        text-align: right;\n",
       "    }\n",
       "</style>\n",
       "<table border=\"1\" class=\"dataframe\">\n",
       "  <thead>\n",
       "    <tr style=\"text-align: right;\">\n",
       "      <th></th>\n",
       "      <th>Price</th>\n",
       "      <th>RegistrationYear</th>\n",
       "      <th>Power</th>\n",
       "      <th>Kilometer</th>\n",
       "    </tr>\n",
       "  </thead>\n",
       "  <tbody>\n",
       "    <tr>\n",
       "      <th>Price</th>\n",
       "      <td>1.000000</td>\n",
       "      <td>0.458402</td>\n",
       "      <td>0.431925</td>\n",
       "      <td>-0.393226</td>\n",
       "    </tr>\n",
       "    <tr>\n",
       "      <th>RegistrationYear</th>\n",
       "      <td>0.458402</td>\n",
       "      <td>1.000000</td>\n",
       "      <td>0.149096</td>\n",
       "      <td>-0.253609</td>\n",
       "    </tr>\n",
       "    <tr>\n",
       "      <th>Power</th>\n",
       "      <td>0.431925</td>\n",
       "      <td>0.149096</td>\n",
       "      <td>1.000000</td>\n",
       "      <td>0.094079</td>\n",
       "    </tr>\n",
       "    <tr>\n",
       "      <th>Kilometer</th>\n",
       "      <td>-0.393226</td>\n",
       "      <td>-0.253609</td>\n",
       "      <td>0.094079</td>\n",
       "      <td>1.000000</td>\n",
       "    </tr>\n",
       "  </tbody>\n",
       "</table>\n",
       "</div>"
      ],
      "text/plain": [
       "                     Price  RegistrationYear     Power  Kilometer\n",
       "Price             1.000000          0.458402  0.431925  -0.393226\n",
       "RegistrationYear  0.458402          1.000000  0.149096  -0.253609\n",
       "Power             0.431925          0.149096  1.000000   0.094079\n",
       "Kilometer        -0.393226         -0.253609  0.094079   1.000000"
      ]
     },
     "execution_count": 41,
     "metadata": {},
     "output_type": "execute_result"
    }
   ],
   "source": [
    "df.corr()"
   ]
  },
  {
   "cell_type": "code",
   "execution_count": 42,
   "metadata": {
    "scrolled": true
   },
   "outputs": [
    {
     "data": {
      "text/plain": [
       "<AxesSubplot:>"
      ]
     },
     "execution_count": 42,
     "metadata": {},
     "output_type": "execute_result"
    },
    {
     "data": {
      "image/png": "[encoded data removed]",
      "text/plain": [
       "<Figure size 432x288 with 2 Axes>"
      ]
     },
     "metadata": {
      "needs_background": "light"
     },
     "output_type": "display_data"
    }
   ],
   "source": [
    "sns.heatmap(df.corr())"
   ]
  },
  {
   "cell_type": "markdown",
   "metadata": {},
   "source": [
    "Линейной зависимости между признеками нет, надо использовать ML"
   ]
  },
  {
   "cell_type": "code",
   "execution_count": 43,
   "metadata": {},
   "outputs": [
    {
     "name": "stdout",
     "output_type": "stream",
     "text": [
      "interval columns not set, guessing: ['Price', 'RegistrationYear', 'Power', 'Kilometer']\n"
     ]
    },
    {
     "data": {
      "text/html": [
       "<div>\n",
       "<style scoped>\n",
       "    .dataframe tbody tr th:only-of-type {\n",
       "        vertical-align: middle;\n",
       "    }\n",
       "\n",
       "    .dataframe tbody tr th {\n",
       "        vertical-align: top;\n",
       "    }\n",
       "\n",
       "    .dataframe thead th {\n",
       "        text-align: right;\n",
       "    }\n",
       "</style>\n",
       "<table border=\"1\" class=\"dataframe\">\n",
       "  <thead>\n",
       "    <tr style=\"text-align: right;\">\n",
       "      <th></th>\n",
       "      <th>Price</th>\n",
       "      <th>VehicleType</th>\n",
       "      <th>RegistrationYear</th>\n",
       "      <th>Gearbox</th>\n",
       "      <th>Power</th>\n",
       "      <th>Model</th>\n",
       "      <th>Kilometer</th>\n",
       "      <th>FuelType</th>\n",
       "      <th>Brand</th>\n",
       "      <th>Repaired</th>\n",
       "    </tr>\n",
       "  </thead>\n",
       "  <tbody>\n",
       "    <tr>\n",
       "      <th>Price</th>\n",
       "      <td>1.000000</td>\n",
       "      <td>0.248975</td>\n",
       "      <td>0.645675</td>\n",
       "      <td>0.258143</td>\n",
       "      <td>0.463415</td>\n",
       "      <td>0.559177</td>\n",
       "      <td>0.323697</td>\n",
       "      <td>0.102260</td>\n",
       "      <td>0.325010</td>\n",
       "      <td>0.280995</td>\n",
       "    </tr>\n",
       "    <tr>\n",
       "      <th>VehicleType</th>\n",
       "      <td>0.248975</td>\n",
       "      <td>1.000000</td>\n",
       "      <td>0.250622</td>\n",
       "      <td>0.456590</td>\n",
       "      <td>0.506761</td>\n",
       "      <td>0.898663</td>\n",
       "      <td>0.263503</td>\n",
       "      <td>0.319387</td>\n",
       "      <td>0.592766</td>\n",
       "      <td>0.380138</td>\n",
       "    </tr>\n",
       "    <tr>\n",
       "      <th>RegistrationYear</th>\n",
       "      <td>0.645675</td>\n",
       "      <td>0.250622</td>\n",
       "      <td>1.000000</td>\n",
       "      <td>0.113745</td>\n",
       "      <td>0.276842</td>\n",
       "      <td>0.626736</td>\n",
       "      <td>0.383659</td>\n",
       "      <td>0.099812</td>\n",
       "      <td>0.389547</td>\n",
       "      <td>0.156790</td>\n",
       "    </tr>\n",
       "    <tr>\n",
       "      <th>Gearbox</th>\n",
       "      <td>0.258143</td>\n",
       "      <td>0.456590</td>\n",
       "      <td>0.113745</td>\n",
       "      <td>1.000000</td>\n",
       "      <td>0.551002</td>\n",
       "      <td>0.608594</td>\n",
       "      <td>0.054435</td>\n",
       "      <td>0.380051</td>\n",
       "      <td>0.501404</td>\n",
       "      <td>0.394612</td>\n",
       "    </tr>\n",
       "    <tr>\n",
       "      <th>Power</th>\n",
       "      <td>0.463415</td>\n",
       "      <td>0.506761</td>\n",
       "      <td>0.276842</td>\n",
       "      <td>0.551002</td>\n",
       "      <td>1.000000</td>\n",
       "      <td>0.799740</td>\n",
       "      <td>0.140206</td>\n",
       "      <td>0.181919</td>\n",
       "      <td>0.600685</td>\n",
       "      <td>0.297813</td>\n",
       "    </tr>\n",
       "    <tr>\n",
       "      <th>Model</th>\n",
       "      <td>0.559177</td>\n",
       "      <td>0.898663</td>\n",
       "      <td>0.626736</td>\n",
       "      <td>0.608594</td>\n",
       "      <td>0.799740</td>\n",
       "      <td>1.000000</td>\n",
       "      <td>0.448552</td>\n",
       "      <td>0.368339</td>\n",
       "      <td>0.997899</td>\n",
       "      <td>0.268238</td>\n",
       "    </tr>\n",
       "    <tr>\n",
       "      <th>Kilometer</th>\n",
       "      <td>0.323697</td>\n",
       "      <td>0.263503</td>\n",
       "      <td>0.383659</td>\n",
       "      <td>0.054435</td>\n",
       "      <td>0.140206</td>\n",
       "      <td>0.448552</td>\n",
       "      <td>1.000000</td>\n",
       "      <td>0.092071</td>\n",
       "      <td>0.283961</td>\n",
       "      <td>0.202495</td>\n",
       "    </tr>\n",
       "    <tr>\n",
       "      <th>FuelType</th>\n",
       "      <td>0.102260</td>\n",
       "      <td>0.319387</td>\n",
       "      <td>0.099812</td>\n",
       "      <td>0.380051</td>\n",
       "      <td>0.181919</td>\n",
       "      <td>0.368339</td>\n",
       "      <td>0.092071</td>\n",
       "      <td>1.000000</td>\n",
       "      <td>0.245741</td>\n",
       "      <td>0.333722</td>\n",
       "    </tr>\n",
       "    <tr>\n",
       "      <th>Brand</th>\n",
       "      <td>0.325010</td>\n",
       "      <td>0.592766</td>\n",
       "      <td>0.389547</td>\n",
       "      <td>0.501404</td>\n",
       "      <td>0.600685</td>\n",
       "      <td>0.997899</td>\n",
       "      <td>0.283961</td>\n",
       "      <td>0.245741</td>\n",
       "      <td>1.000000</td>\n",
       "      <td>0.099716</td>\n",
       "    </tr>\n",
       "    <tr>\n",
       "      <th>Repaired</th>\n",
       "      <td>0.280995</td>\n",
       "      <td>0.380138</td>\n",
       "      <td>0.156790</td>\n",
       "      <td>0.394612</td>\n",
       "      <td>0.297813</td>\n",
       "      <td>0.268238</td>\n",
       "      <td>0.202495</td>\n",
       "      <td>0.333722</td>\n",
       "      <td>0.099716</td>\n",
       "      <td>1.000000</td>\n",
       "    </tr>\n",
       "  </tbody>\n",
       "</table>\n",
       "</div>"
      ],
      "text/plain": [
       "                     Price  VehicleType  RegistrationYear   Gearbox     Power  \\\n",
       "Price             1.000000     0.248975          0.645675  0.258143  0.463415   \n",
       "VehicleType       0.248975     1.000000          0.250622  0.456590  0.506761   \n",
       "RegistrationYear  0.645675     0.250622          1.000000  0.113745  0.276842   \n",
       "Gearbox           0.258143     0.456590          0.113745  1.000000  0.551002   \n",
       "Power             0.463415     0.506761          0.276842  0.551002  1.000000   \n",
       "Model             0.559177     0.898663          0.626736  0.608594  0.799740   \n",
       "Kilometer         0.323697     0.263503          0.383659  0.054435  0.140206   \n",
       "FuelType          0.102260     0.319387          0.099812  0.380051  0.181919   \n",
       "Brand             0.325010     0.592766          0.389547  0.501404  0.600685   \n",
       "Repaired          0.280995     0.380138          0.156790  0.394612  0.297813   \n",
       "\n",
       "                     Model  Kilometer  FuelType     Brand  Repaired  \n",
       "Price             0.559177   0.323697  0.102260  0.325010  0.280995  \n",
       "VehicleType       0.898663   0.263503  0.319387  0.592766  0.380138  \n",
       "RegistrationYear  0.626736   0.383659  0.099812  0.389547  0.156790  \n",
       "Gearbox           0.608594   0.054435  0.380051  0.501404  0.394612  \n",
       "Power             0.799740   0.140206  0.181919  0.600685  0.297813  \n",
       "Model             1.000000   0.448552  0.368339  0.997899  0.268238  \n",
       "Kilometer         0.448552   1.000000  0.092071  0.283961  0.202495  \n",
       "FuelType          0.368339   0.092071  1.000000  0.245741  0.333722  \n",
       "Brand             0.997899   0.283961  0.245741  1.000000  0.099716  \n",
       "Repaired          0.268238   0.202495  0.333722  0.099716  1.000000  "
      ]
     },
     "execution_count": 43,
     "metadata": {},
     "output_type": "execute_result"
    }
   ],
   "source": [
    "df.phik_matrix()"
   ]
  },
  {
   "cell_type": "markdown",
   "metadata": {},
   "source": [
    "**Вывод по Главе: Подготовили данные для анализа.Рассмотрели каждый признак и исключили признаки, не имеющие для нас значения.**"
   ]
  },
  {
   "cell_type": "markdown",
   "metadata": {},
   "source": [
    "## Обучение моделей"
   ]
  },
  {
   "cell_type": "code",
   "execution_count": 44,
   "metadata": {},
   "outputs": [],
   "source": [
    "# # функция RMSE\n",
    "# def rmse(target, predicted):\n",
    "#     return mse(target, predicted) ** 0.5"
   ]
  },
  {
   "cell_type": "code",
   "execution_count": 45,
   "metadata": {},
   "outputs": [
    {
     "data": {
      "text/plain": [
       "Index(['Price', 'VehicleType', 'RegistrationYear', 'Gearbox', 'Power', 'Model',\n",
       "       'Kilometer', 'FuelType', 'Brand', 'Repaired'],\n",
       "      dtype='object')"
      ]
     },
     "execution_count": 45,
     "metadata": {},
     "output_type": "execute_result"
    }
   ],
   "source": [
    "df.columns"
   ]
  },
  {
   "cell_type": "code",
   "execution_count": 46,
   "metadata": {},
   "outputs": [
    {
     "data": {
      "text/plain": [
       "10"
      ]
     },
     "execution_count": 46,
     "metadata": {},
     "output_type": "execute_result"
    }
   ],
   "source": [
    "df.shape[1]"
   ]
  },
  {
   "cell_type": "code",
   "execution_count": 47,
   "metadata": {},
   "outputs": [],
   "source": [
    "# выделим категориальные признаки для простых моделей\n",
    "cat_features = ['VehicleType', 'Gearbox', 'Brand', 'Model', 'FuelType',  'Repaired']\n",
    "num_features = ['RegistrationYear', 'Power', 'Kilometer']"
   ]
  },
  {
   "cell_type": "code",
   "execution_count": 48,
   "metadata": {},
   "outputs": [],
   "source": [
    "data1=df.copy() #делаем копию для простых моделей\n",
    "data2=df.copy() #делаем копию для catboost "
   ]
  },
  {
   "cell_type": "code",
   "execution_count": 49,
   "metadata": {},
   "outputs": [],
   "source": [
    "# Разделим признаки\n",
    "features = data1.drop(columns='Price')\n",
    "target = data1['Price']"
   ]
  },
  {
   "cell_type": "code",
   "execution_count": 50,
   "metadata": {},
   "outputs": [
    {
     "data": {
      "text/html": [
       "<div>\n",
       "<style scoped>\n",
       "    .dataframe tbody tr th:only-of-type {\n",
       "        vertical-align: middle;\n",
       "    }\n",
       "\n",
       "    .dataframe tbody tr th {\n",
       "        vertical-align: top;\n",
       "    }\n",
       "\n",
       "    .dataframe thead th {\n",
       "        text-align: right;\n",
       "    }\n",
       "</style>\n",
       "<table border=\"1\" class=\"dataframe\">\n",
       "  <thead>\n",
       "    <tr style=\"text-align: right;\">\n",
       "      <th></th>\n",
       "      <th>RegistrationYear</th>\n",
       "      <th>Power</th>\n",
       "      <th>Kilometer</th>\n",
       "      <th>VehicleType_convertible</th>\n",
       "      <th>VehicleType_coupe</th>\n",
       "      <th>VehicleType_other</th>\n",
       "      <th>VehicleType_sedan</th>\n",
       "      <th>VehicleType_small</th>\n",
       "      <th>VehicleType_suv</th>\n",
       "      <th>VehicleType_undefined</th>\n",
       "      <th>...</th>\n",
       "      <th>Model_ypsilon</th>\n",
       "      <th>Model_z_reihe</th>\n",
       "      <th>Model_zafira</th>\n",
       "      <th>FuelType_gas</th>\n",
       "      <th>FuelType_hybrid</th>\n",
       "      <th>FuelType_other</th>\n",
       "      <th>FuelType_petrol</th>\n",
       "      <th>FuelType_undefined</th>\n",
       "      <th>Repaired_undefined</th>\n",
       "      <th>Repaired_yes</th>\n",
       "    </tr>\n",
       "  </thead>\n",
       "  <tbody>\n",
       "    <tr>\n",
       "      <th>0</th>\n",
       "      <td>2011</td>\n",
       "      <td>190</td>\n",
       "      <td>125000</td>\n",
       "      <td>0</td>\n",
       "      <td>1</td>\n",
       "      <td>0</td>\n",
       "      <td>0</td>\n",
       "      <td>0</td>\n",
       "      <td>0</td>\n",
       "      <td>0</td>\n",
       "      <td>...</td>\n",
       "      <td>0</td>\n",
       "      <td>0</td>\n",
       "      <td>0</td>\n",
       "      <td>0</td>\n",
       "      <td>0</td>\n",
       "      <td>0</td>\n",
       "      <td>1</td>\n",
       "      <td>0</td>\n",
       "      <td>0</td>\n",
       "      <td>1</td>\n",
       "    </tr>\n",
       "    <tr>\n",
       "      <th>1</th>\n",
       "      <td>2004</td>\n",
       "      <td>163</td>\n",
       "      <td>125000</td>\n",
       "      <td>0</td>\n",
       "      <td>0</td>\n",
       "      <td>0</td>\n",
       "      <td>0</td>\n",
       "      <td>0</td>\n",
       "      <td>1</td>\n",
       "      <td>0</td>\n",
       "      <td>...</td>\n",
       "      <td>0</td>\n",
       "      <td>0</td>\n",
       "      <td>0</td>\n",
       "      <td>0</td>\n",
       "      <td>0</td>\n",
       "      <td>0</td>\n",
       "      <td>1</td>\n",
       "      <td>0</td>\n",
       "      <td>1</td>\n",
       "      <td>0</td>\n",
       "    </tr>\n",
       "    <tr>\n",
       "      <th>2</th>\n",
       "      <td>2001</td>\n",
       "      <td>75</td>\n",
       "      <td>150000</td>\n",
       "      <td>0</td>\n",
       "      <td>0</td>\n",
       "      <td>0</td>\n",
       "      <td>0</td>\n",
       "      <td>1</td>\n",
       "      <td>0</td>\n",
       "      <td>0</td>\n",
       "      <td>...</td>\n",
       "      <td>0</td>\n",
       "      <td>0</td>\n",
       "      <td>0</td>\n",
       "      <td>0</td>\n",
       "      <td>0</td>\n",
       "      <td>0</td>\n",
       "      <td>1</td>\n",
       "      <td>0</td>\n",
       "      <td>0</td>\n",
       "      <td>0</td>\n",
       "    </tr>\n",
       "    <tr>\n",
       "      <th>3</th>\n",
       "      <td>2008</td>\n",
       "      <td>69</td>\n",
       "      <td>90000</td>\n",
       "      <td>0</td>\n",
       "      <td>0</td>\n",
       "      <td>0</td>\n",
       "      <td>0</td>\n",
       "      <td>1</td>\n",
       "      <td>0</td>\n",
       "      <td>0</td>\n",
       "      <td>...</td>\n",
       "      <td>0</td>\n",
       "      <td>0</td>\n",
       "      <td>0</td>\n",
       "      <td>0</td>\n",
       "      <td>0</td>\n",
       "      <td>0</td>\n",
       "      <td>1</td>\n",
       "      <td>0</td>\n",
       "      <td>0</td>\n",
       "      <td>0</td>\n",
       "    </tr>\n",
       "    <tr>\n",
       "      <th>4</th>\n",
       "      <td>1995</td>\n",
       "      <td>102</td>\n",
       "      <td>150000</td>\n",
       "      <td>0</td>\n",
       "      <td>0</td>\n",
       "      <td>0</td>\n",
       "      <td>1</td>\n",
       "      <td>0</td>\n",
       "      <td>0</td>\n",
       "      <td>0</td>\n",
       "      <td>...</td>\n",
       "      <td>0</td>\n",
       "      <td>0</td>\n",
       "      <td>0</td>\n",
       "      <td>0</td>\n",
       "      <td>0</td>\n",
       "      <td>0</td>\n",
       "      <td>1</td>\n",
       "      <td>0</td>\n",
       "      <td>0</td>\n",
       "      <td>1</td>\n",
       "    </tr>\n",
       "  </tbody>\n",
       "</table>\n",
       "<p>5 rows × 308 columns</p>\n",
       "</div>"
      ],
      "text/plain": [
       "   RegistrationYear  Power  Kilometer  VehicleType_convertible  \\\n",
       "0              2011    190     125000                        0   \n",
       "1              2004    163     125000                        0   \n",
       "2              2001     75     150000                        0   \n",
       "3              2008     69      90000                        0   \n",
       "4              1995    102     150000                        0   \n",
       "\n",
       "   VehicleType_coupe  VehicleType_other  VehicleType_sedan  VehicleType_small  \\\n",
       "0                  1                  0                  0                  0   \n",
       "1                  0                  0                  0                  0   \n",
       "2                  0                  0                  0                  1   \n",
       "3                  0                  0                  0                  1   \n",
       "4                  0                  0                  1                  0   \n",
       "\n",
       "   VehicleType_suv  VehicleType_undefined  ...  Model_ypsilon  Model_z_reihe  \\\n",
       "0                0                      0  ...              0              0   \n",
       "1                1                      0  ...              0              0   \n",
       "2                0                      0  ...              0              0   \n",
       "3                0                      0  ...              0              0   \n",
       "4                0                      0  ...              0              0   \n",
       "\n",
       "   Model_zafira  FuelType_gas  FuelType_hybrid  FuelType_other  \\\n",
       "0             0             0                0               0   \n",
       "1             0             0                0               0   \n",
       "2             0             0                0               0   \n",
       "3             0             0                0               0   \n",
       "4             0             0                0               0   \n",
       "\n",
       "   FuelType_petrol  FuelType_undefined  Repaired_undefined  Repaired_yes  \n",
       "0                1                   0                   0             1  \n",
       "1                1                   0                   1             0  \n",
       "2                1                   0                   0             0  \n",
       "3                1                   0                   0             0  \n",
       "4                1                   0                   0             1  \n",
       "\n",
       "[5 rows x 308 columns]"
      ]
     },
     "execution_count": 50,
     "metadata": {},
     "output_type": "execute_result"
    }
   ],
   "source": [
    "# Подготовим  категориальные признаки с использованием OHE\n",
    "features = pd.get_dummies(features, columns=cat_features, drop_first=True)\n",
    "features.head()"
   ]
  },
  {
   "cell_type": "markdown",
   "metadata": {},
   "source": [
    "<div class=\"alert alert-block alert-success\">\n",
    "<b>Успех[2]:</b>  Хороши выбор\n",
    "</div>\n"
   ]
  },
  {
   "cell_type": "code",
   "execution_count": 51,
   "metadata": {},
   "outputs": [
    {
     "name": "stdout",
     "output_type": "stream",
     "text": [
      "0.75 0.25\n"
     ]
    }
   ],
   "source": [
    "features_train, features_test, target_train, target_test = train_test_split(\n",
    "    features, target, test_size=0.25, random_state=RAN_ST)\n",
    "print(features_train.shape[0]/features.shape[0], features_test.shape[0]/features.shape[0])"
   ]
  },
  {
   "cell_type": "markdown",
   "metadata": {},
   "source": [
    "\n",
    "<div class=\"alert alert-block alert-danger\">\n",
    "    \n",
    "\n",
    "<b>Ошибка:</b> `Стандартизирую численные признаки методомм Ordinal Encoding.` - это как?)\n",
    "  \n",
    "</div>\n",
    "Исправил. (Забыл стереть :) )"
   ]
  },
  {
   "cell_type": "code",
   "execution_count": 52,
   "metadata": {},
   "outputs": [
    {
     "name": "stderr",
     "output_type": "stream",
     "text": [
      "/tmp/ipykernel_48/1373527936.py:4: SettingWithCopyWarning: \n",
      "A value is trying to be set on a copy of a slice from a DataFrame.\n",
      "Try using .loc[row_indexer,col_indexer] = value instead\n",
      "\n",
      "See the caveats in the documentation: https://pandas.pydata.org/pandas-docs/stable/user_guide/indexing.html#returning-a-view-versus-a-copy\n",
      "  features_train[num_features] = scaler.transform(features_train[num_features])\n",
      "/opt/conda/lib/python3.9/site-packages/pandas/core/indexing.py:1738: SettingWithCopyWarning: \n",
      "A value is trying to be set on a copy of a slice from a DataFrame.\n",
      "Try using .loc[row_indexer,col_indexer] = value instead\n",
      "\n",
      "See the caveats in the documentation: https://pandas.pydata.org/pandas-docs/stable/user_guide/indexing.html#returning-a-view-versus-a-copy\n",
      "  self._setitem_single_column(loc, value[:, i].tolist(), pi)\n",
      "/tmp/ipykernel_48/1373527936.py:5: SettingWithCopyWarning: \n",
      "A value is trying to be set on a copy of a slice from a DataFrame.\n",
      "Try using .loc[row_indexer,col_indexer] = value instead\n",
      "\n",
      "See the caveats in the documentation: https://pandas.pydata.org/pandas-docs/stable/user_guide/indexing.html#returning-a-view-versus-a-copy\n",
      "  features_test[num_features] = scaler.transform(features_test[num_features])\n",
      "/opt/conda/lib/python3.9/site-packages/pandas/core/indexing.py:1738: SettingWithCopyWarning: \n",
      "A value is trying to be set on a copy of a slice from a DataFrame.\n",
      "Try using .loc[row_indexer,col_indexer] = value instead\n",
      "\n",
      "See the caveats in the documentation: https://pandas.pydata.org/pandas-docs/stable/user_guide/indexing.html#returning-a-view-versus-a-copy\n",
      "  self._setitem_single_column(loc, value[:, i].tolist(), pi)\n"
     ]
    }
   ],
   "source": [
    "# Проведем скалирование числовых признаков\n",
    "scaler = StandardScaler()\n",
    "scaler.fit(features_train[num_features])\n",
    "features_train[num_features] = scaler.transform(features_train[num_features])\n",
    "features_test[num_features] = scaler.transform(features_test[num_features]) \n",
    "#print(features_train.head())"
   ]
  },
  {
   "cell_type": "markdown",
   "metadata": {},
   "source": [
    "**ПРОСТЫЕ МОДЕЛИ**"
   ]
  },
  {
   "cell_type": "code",
   "execution_count": 53,
   "metadata": {},
   "outputs": [
    {
     "name": "stdout",
     "output_type": "stream",
     "text": [
      "rmse_i: [-2707.39028289 -2674.72632659 -2662.0285768  -2677.04984254]\n",
      "rmse: 2680.2987572044876\n",
      "CPU times: user 33.7 s, sys: 15.6 s, total: 49.3 s\n",
      "Wall time: 49.5 s\n"
     ]
    }
   ],
   "source": [
    "%%time\n",
    "# Линейная регрессия\n",
    "model_lr = LinearRegression()\n",
    "rmse_lr_i = cross_val_score(model_lr,\n",
    "                          features_train,\n",
    "                          target_train,\n",
    "                          scoring='neg_root_mean_squared_error',\n",
    "                          cv=4)\n",
    "\n",
    "rmse_lr = rmse_lr_i.mean()*-1\n",
    "\n",
    "print('rmse_i:', rmse_lr_i)\n",
    "print('rmse:', rmse_lr)"
   ]
  },
  {
   "cell_type": "code",
   "execution_count": 54,
   "metadata": {},
   "outputs": [
    {
     "name": "stdout",
     "output_type": "stream",
     "text": [
      "CPU times: user 11.5 s, sys: 4.63 s, total: 16.1 s\n",
      "Wall time: 16.1 s\n"
     ]
    }
   ],
   "source": [
    "%%time\n",
    "\n",
    "start = time.time()\n",
    "model_lr.fit(features_train, target_train)\n",
    "end = time.time()\n",
    "t_lr_fit=round(end-start,2)\n",
    "\n",
    "start = time.time()\n",
    "target_predict = model_lr.predict(features_train)\n",
    "end = time.time()\n",
    "t_lr_pr=round(end-start,2)\n",
    "\n",
    "\n",
    "# mse_lr = mse(target_train, target_predict, cv=4)\n",
    "# rmse_lr= round((mse_lr) ** 0.5, 2) \n",
    "# print(\"RMSE для линейной модели на тестовой выборке:\", rmse_lr)\n",
    "#Было"
   ]
  },
  {
   "cell_type": "code",
   "execution_count": 55,
   "metadata": {},
   "outputs": [
    {
     "name": "stdout",
     "output_type": "stream",
     "text": [
      "best_score tree: 1837.6108144917732\n",
      "best_params tree: {'max_depth': 17}\n",
      "CPU times: user 1min 31s, sys: 5.41 s, total: 1min 36s\n",
      "Wall time: 1min 36s\n"
     ]
    }
   ],
   "source": [
    "%%time\n",
    "# Дерево решений\n",
    "model_tr = DecisionTreeRegressor(criterion='mse', random_state=RAN_ST)\n",
    "param_grid_tr = {'max_depth': range(5, 20, 2)}\n",
    "gs_tr = GridSearchCV(\n",
    "    model_tr,\n",
    "    cv=4,\n",
    "    param_grid=param_grid_tr, \n",
    "    scoring='neg_root_mean_squared_error')\n",
    "gs_tr.fit(features_train, target_train)\n",
    "\n",
    "rmse_tr = gs_tr.best_score_ * -1                \n",
    "print(f'best_score tree: {gs_tr.best_score_ * -1}')\n",
    "print(f'best_params tree: {gs_tr.best_params_}')"
   ]
  },
  {
   "cell_type": "code",
   "execution_count": 56,
   "metadata": {},
   "outputs": [],
   "source": [
    "#gs_tr.cv_results_"
   ]
  },
  {
   "cell_type": "code",
   "execution_count": 57,
   "metadata": {},
   "outputs": [],
   "source": [
    "# d=gs_tr.best_params_['max_depth']\n",
    "# d"
   ]
  },
  {
   "cell_type": "code",
   "execution_count": 58,
   "metadata": {},
   "outputs": [
    {
     "name": "stdout",
     "output_type": "stream",
     "text": [
      "CPU times: user 4.97 s, sys: 296 ms, total: 5.27 s\n",
      "Wall time: 5.44 s\n"
     ]
    }
   ],
   "source": [
    "%%time\n",
    "d_tr=gs_tr.best_params_['max_depth']\n",
    "\n",
    "# Дерево решений с лучшими гиперпараметрами \n",
    "start = time.time()\n",
    "model_tr = DecisionTreeRegressor(criterion='mse', max_depth=d_tr, random_state=RAN_ST)\n",
    "model_tr.fit(features_train, target_train)\n",
    "end = time.time()\n",
    "t_tr_fit=round(end-start,2)\n",
    "\n",
    "start = time.time()\n",
    "target_predict = model_tr.predict(features_train)\n",
    "end = time.time()\n",
    "t_tr_pr=round(end-start,2)\n",
    "\n",
    "#Было\n",
    "# best_mse_model_tr  = 10_000_000\n",
    "# d_tr =0\n",
    "# for d in range(1, 16, 3):\n",
    "#     model_tr = DecisionTreeRegressor(criterion='mse', max_depth=d, random_state=RAN_ST)\n",
    "#     model_tr.fit(features_train, target_train)\n",
    "#     preds_tr = model_tr.predict(features_test)\n",
    "#     mse_model_tr = mean_squared_error(target_test, preds_tr)\n",
    "    \n",
    "    \n",
    "#     if mse_model_tr < best_mse_model_tr:\n",
    "#             best_mse_model_tr = mse_model_tr\n",
    "#             d_tr = d"
   ]
  },
  {
   "cell_type": "code",
   "execution_count": 59,
   "metadata": {
    "scrolled": true
   },
   "outputs": [],
   "source": [
    "# %%time\n",
    "\n",
    "# # случайный лес\n",
    "\n",
    "# model_fr = RandomForestRegressor(random_state=RAN_ST)\n",
    "# param_grid_fr = {'n_estimators': range(80,100,10),'max_depth': range(10,16,3)}\n",
    "# gs_fr = GridSearchCV(\n",
    "#     model_fr,\n",
    "#     cv=4,\n",
    "#     param_grid=param_grid_fr, \n",
    "#     scoring='neg_root_mean_squared_error')\n",
    "# gs_fr.fit(features_train, target_train)\n",
    "\n",
    "# rmse_fr = gs_fr.best_score_ * -1                \n",
    "# print(f'best_score RandomForest: {gs_fr.best_score_ * -1}')\n",
    "# print(f'best_params RandomForest: {gs_fr.best_params_}')\n",
    "\n",
    "# # best_score RandomForest: 1748.3586366743168\n",
    "# # best_params RandomForest: {'max_depth': 13, 'n_estimators': 90}\n",
    "# # CPU times: user 44min 24s, sys: 7.44 s, total: 44min 32s\n",
    "# # Wall time: 44min 34s\n"
   ]
  },
  {
   "cell_type": "markdown",
   "metadata": {},
   "source": [
    "Верхнюю ячейку посчитал, потом закоментировал, чтобы не ждать около часа при пересчете."
   ]
  },
  {
   "cell_type": "code",
   "execution_count": 60,
   "metadata": {},
   "outputs": [
    {
     "name": "stdout",
     "output_type": "stream",
     "text": [
      "CPU times: user 3min 53s, sys: 475 ms, total: 3min 54s\n",
      "Wall time: 3min 54s\n"
     ]
    }
   ],
   "source": [
    "%%time\n",
    "\n",
    "n_tr=90 #gs_fr.best_params_['n_estimators']\n",
    "d_tr=13 #gs_fr.best_params_['max_depth']\n",
    "# sl_tr=gs_fr.best_params_['min_samples_leaf']\n",
    "# ss_tr=gs_fr.best_params_['min_samples_split']\n",
    "\n",
    "# Лес с лучшими гиперпараметрами \n",
    "start = time.time()\n",
    "model_fr = RandomForestRegressor(max_depth=d_tr, n_estimators=n_tr, random_state=RAN_ST)\n",
    "model_fr.fit(features_train, target_train)\n",
    "end = time.time()\n",
    "t_fr_fit=round(end-start,2)\n",
    "\n",
    "start = time.time()\n",
    "target_predict = model_fr.predict(features_train)\n",
    "end = time.time()\n",
    "t_fr_pr=round(end-start,2)\n",
    "rmse_fr = 1748              "
   ]
  },
  {
   "cell_type": "code",
   "execution_count": 61,
   "metadata": {},
   "outputs": [],
   "source": [
    "#было best_mse_model_fr=10_000_000\n",
    "# d_fr=0\n",
    "# n_fr=0\n",
    "# for d in range(13, 14, 1):\n",
    "#     for n in range(80, 90, 10):\n",
    "#         model_fr = RandomForestRegressor(n_estimators=n, max_depth=d, random_state=RAN_ST)\n",
    "#         model_fr.fit(features_train, target_train)\n",
    "#         preds_fr = model_fr.predict(features_test)\n",
    "#         mse_model_fr = mean_squared_error(target_test, preds_fr)\n",
    "       \n",
    "#         if mse_model_fr < best_mse_model_fr:\n",
    "#             best_mse_model_fr = mse_model_fr\n",
    "#             d_fr = d\n",
    "#             n_fr = n\n",
    "            \n",
    "    \n",
    "# rmse_fr=round((best_mse_model_fr) ** 0.5, 2)            \n",
    "# print(\"RMSE для RandomForest модели на тестовой выборке:\", rmse_fr)            \n",
    "# print('Гиперпараметры  -  max_depth:', d_fr, 'max_n_estimators:', n_fr) \n",
    "# # end = time.time()\n",
    "# # t_fr=round(end-start,2)Лучшие параметры для RandomForest найдены за  1h 5min - поэтому сократил параметры в цикле. \n",
    "\n",
    "# Было:\n",
    "\n",
    "# for d in range(5, 18, 1):\n",
    "\n",
    "#     for n in range(50, 100, 5):\n",
    "\n",
    "\n",
    "# RMSE для RandomForest модели на тестовой выборке: 1891.55\n",
    "# Гиперпараметры  -  max_depth: 13 max_n_estimators: 80\n",
    "# CPU times: user 1h 4min 36s, sys: 19.8 s, total: 1h 4min 56s\n",
    "# Wall time: 1h 5min"
   ]
  },
  {
   "cell_type": "markdown",
   "metadata": {},
   "source": [
    "**CatBoost**"
   ]
  },
  {
   "cell_type": "code",
   "execution_count": 62,
   "metadata": {},
   "outputs": [],
   "source": [
    "# Разделим признаки для буста\n",
    "features = data2.drop(columns='Price')\n",
    "target = data2['Price']"
   ]
  },
  {
   "cell_type": "code",
   "execution_count": 63,
   "metadata": {},
   "outputs": [
    {
     "name": "stdout",
     "output_type": "stream",
     "text": [
      "0.75 0.25\n"
     ]
    }
   ],
   "source": [
    "features_train, features_test, target_train, target_test = train_test_split(\n",
    "    features, target, test_size=0.25, random_state=RAN_ST)\n",
    "print(features_train.shape[0]/features.shape[0], features_test.shape[0]/features.shape[0])"
   ]
  },
  {
   "cell_type": "code",
   "execution_count": 79,
   "metadata": {},
   "outputs": [
    {
     "name": "stdout",
     "output_type": "stream",
     "text": [
      "Fitting 3 folds for each of 2 candidates, totalling 6 fits\n",
      "[CV 1/3; 1/2] START learning_rate=0.1, random_state=12345.......................\n",
      "0:\tlearn: 4122.3940310\ttotal: 205ms\tremaining: 3m 25s\n",
      "1:\tlearn: 3872.0837627\ttotal: 413ms\tremaining: 3m 26s\n",
      "2:\tlearn: 3654.0114607\ttotal: 589ms\tremaining: 3m 15s\n",
      "3:\tlearn: 3453.5997387\ttotal: 758ms\tremaining: 3m 8s\n",
      "4:\tlearn: 3279.9787113\ttotal: 989ms\tremaining: 3m 16s\n",
      "5:\tlearn: 3125.7474599\ttotal: 1.19s\tremaining: 3m 16s\n",
      "6:\tlearn: 2993.8512390\ttotal: 1.33s\tremaining: 3m 8s\n",
      "7:\tlearn: 2876.9023113\ttotal: 1.51s\tremaining: 3m 7s\n",
      "8:\tlearn: 2769.1522013\ttotal: 1.68s\tremaining: 3m 5s\n",
      "9:\tlearn: 2676.3187016\ttotal: 1.88s\tremaining: 3m 6s\n",
      "10:\tlearn: 2589.8937775\ttotal: 2.07s\tremaining: 3m 6s\n",
      "11:\tlearn: 2520.5054841\ttotal: 2.25s\tremaining: 3m 5s\n",
      "12:\tlearn: 2454.7688732\ttotal: 2.46s\tremaining: 3m 6s\n",
      "13:\tlearn: 2398.8916122\ttotal: 2.62s\tremaining: 3m 4s\n",
      "14:\tlearn: 2343.2581496\ttotal: 2.78s\tremaining: 3m 2s\n",
      "15:\tlearn: 2299.5064095\ttotal: 2.94s\tremaining: 3m\n",
      "16:\tlearn: 2251.3274342\ttotal: 3.1s\tremaining: 2m 59s\n",
      "17:\tlearn: 2210.1437628\ttotal: 3.29s\tremaining: 2m 59s\n",
      "18:\tlearn: 2179.2421230\ttotal: 3.47s\tremaining: 2m 59s\n",
      "19:\tlearn: 2145.5229244\ttotal: 3.67s\tremaining: 3m\n",
      "20:\tlearn: 2112.1572759\ttotal: 3.83s\tremaining: 2m 58s\n",
      "21:\tlearn: 2081.0188442\ttotal: 4s\tremaining: 2m 57s\n",
      "22:\tlearn: 2058.0671707\ttotal: 4.15s\tremaining: 2m 56s\n",
      "23:\tlearn: 2037.4591905\ttotal: 4.28s\tremaining: 2m 54s\n",
      "24:\tlearn: 2017.8748690\ttotal: 4.41s\tremaining: 2m 51s\n",
      "25:\tlearn: 1999.7809342\ttotal: 4.6s\tremaining: 2m 52s\n",
      "26:\tlearn: 1984.5841909\ttotal: 4.73s\tremaining: 2m 50s\n",
      "27:\tlearn: 1970.3266800\ttotal: 4.92s\tremaining: 2m 50s\n",
      "28:\tlearn: 1959.7765872\ttotal: 5.05s\tremaining: 2m 49s\n",
      "29:\tlearn: 1948.9671823\ttotal: 5.17s\tremaining: 2m 47s\n",
      "30:\tlearn: 1938.3036195\ttotal: 5.31s\tremaining: 2m 46s\n",
      "31:\tlearn: 1928.2020687\ttotal: 5.49s\tremaining: 2m 46s\n",
      "32:\tlearn: 1918.1515190\ttotal: 5.63s\tremaining: 2m 44s\n",
      "33:\tlearn: 1910.7185424\ttotal: 5.75s\tremaining: 2m 43s\n",
      "34:\tlearn: 1902.4286286\ttotal: 5.96s\tremaining: 2m 44s\n",
      "35:\tlearn: 1896.5993770\ttotal: 6.14s\tremaining: 2m 44s\n",
      "36:\tlearn: 1889.9450696\ttotal: 6.32s\tremaining: 2m 44s\n",
      "37:\tlearn: 1882.6432047\ttotal: 6.47s\tremaining: 2m 43s\n",
      "38:\tlearn: 1877.1977249\ttotal: 6.65s\tremaining: 2m 43s\n",
      "39:\tlearn: 1872.3750881\ttotal: 6.82s\tremaining: 2m 43s\n",
      "40:\tlearn: 1867.0510771\ttotal: 6.98s\tremaining: 2m 43s\n",
      "41:\tlearn: 1863.3973896\ttotal: 7.12s\tremaining: 2m 42s\n",
      "42:\tlearn: 1859.0949945\ttotal: 7.27s\tremaining: 2m 41s\n",
      "43:\tlearn: 1854.1269292\ttotal: 7.48s\tremaining: 2m 42s\n",
      "44:\tlearn: 1850.2052732\ttotal: 7.69s\tremaining: 2m 43s\n",
      "45:\tlearn: 1845.1263877\ttotal: 7.85s\tremaining: 2m 42s\n",
      "46:\tlearn: 1841.6632014\ttotal: 8.02s\tremaining: 2m 42s\n",
      "47:\tlearn: 1837.3598515\ttotal: 8.18s\tremaining: 2m 42s\n",
      "48:\tlearn: 1833.4180450\ttotal: 8.3s\tremaining: 2m 41s\n",
      "49:\tlearn: 1829.9761994\ttotal: 8.46s\tremaining: 2m 40s\n",
      "50:\tlearn: 1825.8921642\ttotal: 8.66s\tremaining: 2m 41s\n",
      "51:\tlearn: 1822.4171014\ttotal: 8.84s\tremaining: 2m 41s\n",
      "52:\tlearn: 1819.4861678\ttotal: 8.99s\tremaining: 2m 40s\n",
      "53:\tlearn: 1817.4115469\ttotal: 9.14s\tremaining: 2m 40s\n",
      "54:\tlearn: 1814.6036717\ttotal: 9.3s\tremaining: 2m 39s\n",
      "55:\tlearn: 1811.9050972\ttotal: 9.43s\tremaining: 2m 38s\n",
      "56:\tlearn: 1809.0544277\ttotal: 9.56s\tremaining: 2m 38s\n",
      "57:\tlearn: 1806.3508657\ttotal: 9.66s\tremaining: 2m 36s\n",
      "58:\tlearn: 1804.1838005\ttotal: 9.87s\tremaining: 2m 37s\n",
      "59:\tlearn: 1801.7555308\ttotal: 10.1s\tremaining: 2m 37s\n",
      "60:\tlearn: 1798.9025006\ttotal: 10.2s\tremaining: 2m 36s\n",
      "61:\tlearn: 1796.5308468\ttotal: 10.4s\tremaining: 2m 37s\n",
      "62:\tlearn: 1793.4168050\ttotal: 10.6s\tremaining: 2m 37s\n",
      "63:\tlearn: 1791.5000993\ttotal: 10.8s\tremaining: 2m 37s\n",
      "64:\tlearn: 1789.7843212\ttotal: 11s\tremaining: 2m 37s\n",
      "65:\tlearn: 1788.3103665\ttotal: 11.1s\tremaining: 2m 36s\n",
      "66:\tlearn: 1786.6403246\ttotal: 11.3s\tremaining: 2m 37s\n",
      "67:\tlearn: 1784.9540280\ttotal: 11.4s\tremaining: 2m 36s\n",
      "68:\tlearn: 1782.9876586\ttotal: 11.6s\tremaining: 2m 35s\n",
      "69:\tlearn: 1781.0362811\ttotal: 11.8s\tremaining: 2m 36s\n",
      "70:\tlearn: 1779.1810428\ttotal: 12s\tremaining: 2m 36s\n",
      "71:\tlearn: 1777.4328518\ttotal: 12.1s\tremaining: 2m 35s\n",
      "72:\tlearn: 1773.6567777\ttotal: 12.2s\tremaining: 2m 34s\n",
      "73:\tlearn: 1772.5483988\ttotal: 12.3s\tremaining: 2m 34s\n",
      "74:\tlearn: 1770.8578826\ttotal: 12.5s\tremaining: 2m 34s\n",
      "75:\tlearn: 1769.3136762\ttotal: 12.7s\tremaining: 2m 33s\n",
      "76:\tlearn: 1767.1213067\ttotal: 12.8s\tremaining: 2m 33s\n",
      "77:\tlearn: 1766.0443916\ttotal: 13s\tremaining: 2m 33s\n",
      "78:\tlearn: 1764.2526983\ttotal: 13.2s\tremaining: 2m 33s\n",
      "79:\tlearn: 1762.3801006\ttotal: 13.3s\tremaining: 2m 33s\n",
      "80:\tlearn: 1761.0764890\ttotal: 13.5s\tremaining: 2m 32s\n",
      "81:\tlearn: 1759.4456574\ttotal: 13.7s\tremaining: 2m 33s\n",
      "82:\tlearn: 1757.0706871\ttotal: 13.8s\tremaining: 2m 32s\n",
      "83:\tlearn: 1755.5549945\ttotal: 14s\tremaining: 2m 32s\n",
      "84:\tlearn: 1753.8150732\ttotal: 14.1s\tremaining: 2m 31s\n",
      "85:\tlearn: 1752.8465601\ttotal: 14.2s\tremaining: 2m 31s\n",
      "86:\tlearn: 1750.5851968\ttotal: 14.4s\tremaining: 2m 30s\n",
      "87:\tlearn: 1749.4471176\ttotal: 14.5s\tremaining: 2m 30s\n",
      "88:\tlearn: 1748.6031682\ttotal: 14.7s\tremaining: 2m 30s\n",
      "89:\tlearn: 1747.4847931\ttotal: 14.9s\tremaining: 2m 30s\n",
      "90:\tlearn: 1747.0641395\ttotal: 15.1s\tremaining: 2m 30s\n",
      "91:\tlearn: 1745.1411869\ttotal: 15.2s\tremaining: 2m 30s\n",
      "92:\tlearn: 1744.0888718\ttotal: 15.4s\tremaining: 2m 30s\n",
      "93:\tlearn: 1743.1476474\ttotal: 15.6s\tremaining: 2m 30s\n",
      "94:\tlearn: 1740.6619189\ttotal: 15.7s\tremaining: 2m 29s\n",
      "95:\tlearn: 1739.0699300\ttotal: 15.9s\tremaining: 2m 29s\n",
      "96:\tlearn: 1737.7214743\ttotal: 16.1s\tremaining: 2m 29s\n",
      "97:\tlearn: 1736.8160512\ttotal: 16.2s\tremaining: 2m 29s\n",
      "98:\tlearn: 1735.5214014\ttotal: 16.4s\tremaining: 2m 29s\n",
      "99:\tlearn: 1734.2975235\ttotal: 16.5s\tremaining: 2m 28s\n",
      "100:\tlearn: 1733.0135256\ttotal: 16.7s\tremaining: 2m 28s\n",
      "101:\tlearn: 1731.3111442\ttotal: 16.9s\tremaining: 2m 28s\n",
      "102:\tlearn: 1730.4247829\ttotal: 17.1s\tremaining: 2m 28s\n",
      "103:\tlearn: 1729.1638901\ttotal: 17.2s\tremaining: 2m 28s\n",
      "104:\tlearn: 1728.5326230\ttotal: 17.4s\tremaining: 2m 28s\n",
      "105:\tlearn: 1727.4929912\ttotal: 17.6s\tremaining: 2m 28s\n",
      "106:\tlearn: 1726.4104138\ttotal: 17.7s\tremaining: 2m 27s\n",
      "107:\tlearn: 1724.9462574\ttotal: 17.9s\tremaining: 2m 28s\n",
      "108:\tlearn: 1723.3977504\ttotal: 18.1s\tremaining: 2m 27s\n",
      "109:\tlearn: 1722.4919547\ttotal: 18.2s\tremaining: 2m 26s\n",
      "110:\tlearn: 1721.3467495\ttotal: 18.3s\tremaining: 2m 26s\n",
      "111:\tlearn: 1720.4140076\ttotal: 18.5s\tremaining: 2m 26s\n",
      "112:\tlearn: 1719.3197081\ttotal: 18.7s\tremaining: 2m 26s\n",
      "113:\tlearn: 1718.3721494\ttotal: 18.8s\tremaining: 2m 26s\n",
      "114:\tlearn: 1717.3414406\ttotal: 19s\tremaining: 2m 26s\n",
      "115:\tlearn: 1716.4376832\ttotal: 19.1s\tremaining: 2m 25s\n",
      "116:\tlearn: 1715.4910260\ttotal: 19.3s\tremaining: 2m 25s\n",
      "117:\tlearn: 1714.2688299\ttotal: 19.5s\tremaining: 2m 25s\n",
      "118:\tlearn: 1713.3170807\ttotal: 19.7s\tremaining: 2m 25s\n",
      "119:\tlearn: 1712.0769102\ttotal: 19.8s\tremaining: 2m 25s\n",
      "120:\tlearn: 1711.0762576\ttotal: 20s\tremaining: 2m 25s\n",
      "121:\tlearn: 1709.5639284\ttotal: 20.2s\tremaining: 2m 25s\n",
      "122:\tlearn: 1708.5142198\ttotal: 20.4s\tremaining: 2m 25s\n",
      "123:\tlearn: 1707.2154442\ttotal: 20.5s\tremaining: 2m 24s\n",
      "124:\tlearn: 1706.2227068\ttotal: 20.7s\tremaining: 2m 25s\n",
      "125:\tlearn: 1705.4693395\ttotal: 20.9s\tremaining: 2m 24s\n",
      "126:\tlearn: 1705.1394786\ttotal: 21.1s\tremaining: 2m 24s\n",
      "127:\tlearn: 1703.7316444\ttotal: 21.2s\tremaining: 2m 24s\n",
      "128:\tlearn: 1702.2630336\ttotal: 21.4s\tremaining: 2m 24s\n",
      "129:\tlearn: 1701.6796806\ttotal: 21.6s\tremaining: 2m 24s\n",
      "130:\tlearn: 1700.3704557\ttotal: 21.7s\tremaining: 2m 23s\n",
      "131:\tlearn: 1699.4799153\ttotal: 21.8s\tremaining: 2m 23s\n",
      "132:\tlearn: 1698.4107919\ttotal: 22s\tremaining: 2m 23s\n",
      "133:\tlearn: 1697.4386918\ttotal: 22.2s\tremaining: 2m 23s\n",
      "134:\tlearn: 1697.3202412\ttotal: 22.3s\tremaining: 2m 23s\n",
      "135:\tlearn: 1696.1895422\ttotal: 22.5s\tremaining: 2m 23s\n",
      "136:\tlearn: 1694.7795449\ttotal: 22.7s\tremaining: 2m 22s\n",
      "137:\tlearn: 1693.4899882\ttotal: 22.8s\tremaining: 2m 22s\n",
      "138:\tlearn: 1692.6083385\ttotal: 22.9s\tremaining: 2m 22s\n",
      "139:\tlearn: 1691.5431044\ttotal: 23.1s\tremaining: 2m 21s\n",
      "140:\tlearn: 1690.2243229\ttotal: 23.2s\tremaining: 2m 21s\n",
      "141:\tlearn: 1689.5148940\ttotal: 23.4s\tremaining: 2m 21s\n",
      "142:\tlearn: 1688.6812862\ttotal: 23.5s\tremaining: 2m 21s\n",
      "143:\tlearn: 1687.3519397\ttotal: 23.7s\tremaining: 2m 20s\n",
      "144:\tlearn: 1686.7725711\ttotal: 23.9s\tremaining: 2m 20s\n",
      "145:\tlearn: 1686.0960966\ttotal: 24s\tremaining: 2m 20s\n",
      "146:\tlearn: 1684.8764657\ttotal: 24.2s\tremaining: 2m 20s\n",
      "147:\tlearn: 1683.8696435\ttotal: 24.3s\tremaining: 2m 20s\n"
     ]
    },
    {
     "name": "stdout",
     "output_type": "stream",
     "text": [
      "148:\tlearn: 1683.2456788\ttotal: 24.5s\tremaining: 2m 20s\n",
      "149:\tlearn: 1682.2412305\ttotal: 24.7s\tremaining: 2m 19s\n",
      "150:\tlearn: 1681.4688178\ttotal: 24.9s\tremaining: 2m 19s\n",
      "151:\tlearn: 1680.7964816\ttotal: 25s\tremaining: 2m 19s\n",
      "152:\tlearn: 1680.0810708\ttotal: 25.2s\tremaining: 2m 19s\n",
      "153:\tlearn: 1679.4533498\ttotal: 25.4s\tremaining: 2m 19s\n",
      "154:\tlearn: 1678.4222491\ttotal: 25.5s\tremaining: 2m 19s\n",
      "155:\tlearn: 1677.5012839\ttotal: 25.7s\tremaining: 2m 18s\n",
      "156:\tlearn: 1677.0758164\ttotal: 25.8s\tremaining: 2m 18s\n",
      "157:\tlearn: 1676.1303666\ttotal: 26s\tremaining: 2m 18s\n",
      "158:\tlearn: 1675.1634280\ttotal: 26.1s\tremaining: 2m 18s\n",
      "159:\tlearn: 1674.2656017\ttotal: 26.3s\tremaining: 2m 17s\n",
      "160:\tlearn: 1673.5347941\ttotal: 26.4s\tremaining: 2m 17s\n",
      "161:\tlearn: 1673.1862330\ttotal: 26.6s\tremaining: 2m 17s\n",
      "162:\tlearn: 1672.4453225\ttotal: 26.7s\tremaining: 2m 17s\n",
      "163:\tlearn: 1671.6506792\ttotal: 26.9s\tremaining: 2m 17s\n",
      "164:\tlearn: 1670.7820405\ttotal: 27.1s\tremaining: 2m 17s\n",
      "165:\tlearn: 1669.9066071\ttotal: 27.3s\tremaining: 2m 17s\n",
      "166:\tlearn: 1669.0753150\ttotal: 27.4s\tremaining: 2m 16s\n",
      "167:\tlearn: 1668.3928100\ttotal: 27.6s\tremaining: 2m 16s\n",
      "168:\tlearn: 1667.7553934\ttotal: 27.8s\tremaining: 2m 16s\n",
      "169:\tlearn: 1667.2711152\ttotal: 27.9s\tremaining: 2m 16s\n",
      "170:\tlearn: 1666.4144268\ttotal: 28.1s\tremaining: 2m 16s\n",
      "171:\tlearn: 1665.7034622\ttotal: 28.2s\tremaining: 2m 15s\n",
      "172:\tlearn: 1665.2802954\ttotal: 28.4s\tremaining: 2m 15s\n",
      "173:\tlearn: 1664.6551288\ttotal: 28.6s\tremaining: 2m 15s\n",
      "174:\tlearn: 1663.9686937\ttotal: 28.8s\tremaining: 2m 15s\n",
      "175:\tlearn: 1662.9318827\ttotal: 29s\tremaining: 2m 15s\n",
      "176:\tlearn: 1662.4079990\ttotal: 29.1s\tremaining: 2m 15s\n",
      "177:\tlearn: 1662.0463255\ttotal: 29.3s\tremaining: 2m 15s\n",
      "178:\tlearn: 1661.2909321\ttotal: 29.4s\tremaining: 2m 14s\n",
      "179:\tlearn: 1660.7034128\ttotal: 29.6s\tremaining: 2m 14s\n",
      "180:\tlearn: 1660.2459191\ttotal: 29.8s\tremaining: 2m 14s\n",
      "181:\tlearn: 1659.7954897\ttotal: 29.9s\tremaining: 2m 14s\n",
      "182:\tlearn: 1659.5260632\ttotal: 30.1s\tremaining: 2m 14s\n",
      "183:\tlearn: 1658.8374950\ttotal: 30.2s\tremaining: 2m 14s\n",
      "184:\tlearn: 1658.3239400\ttotal: 30.4s\tremaining: 2m 13s\n",
      "185:\tlearn: 1657.9564058\ttotal: 30.6s\tremaining: 2m 13s\n",
      "186:\tlearn: 1657.5749411\ttotal: 30.7s\tremaining: 2m 13s\n",
      "187:\tlearn: 1657.1403937\ttotal: 30.9s\tremaining: 2m 13s\n",
      "188:\tlearn: 1656.6608833\ttotal: 31.1s\tremaining: 2m 13s\n",
      "189:\tlearn: 1656.2448389\ttotal: 31.3s\tremaining: 2m 13s\n",
      "190:\tlearn: 1655.4677811\ttotal: 31.5s\tremaining: 2m 13s\n",
      "191:\tlearn: 1654.6531309\ttotal: 31.7s\tremaining: 2m 13s\n",
      "192:\tlearn: 1653.8550564\ttotal: 31.9s\tremaining: 2m 13s\n",
      "193:\tlearn: 1653.4617781\ttotal: 32.1s\tremaining: 2m 13s\n",
      "194:\tlearn: 1652.7111363\ttotal: 32.3s\tremaining: 2m 13s\n",
      "195:\tlearn: 1651.9304156\ttotal: 32.5s\tremaining: 2m 13s\n",
      "196:\tlearn: 1651.4816686\ttotal: 32.6s\tremaining: 2m 12s\n",
      "197:\tlearn: 1650.8289798\ttotal: 32.8s\tremaining: 2m 12s\n",
      "198:\tlearn: 1650.2301857\ttotal: 33s\tremaining: 2m 12s\n",
      "199:\tlearn: 1649.6885656\ttotal: 33.1s\tremaining: 2m 12s\n",
      "200:\tlearn: 1649.3755538\ttotal: 33.3s\tremaining: 2m 12s\n",
      "201:\tlearn: 1648.7590344\ttotal: 33.5s\tremaining: 2m 12s\n",
      "202:\tlearn: 1648.3619370\ttotal: 33.6s\tremaining: 2m 11s\n",
      "203:\tlearn: 1648.0953201\ttotal: 33.7s\tremaining: 2m 11s\n",
      "204:\tlearn: 1647.5952280\ttotal: 33.9s\tremaining: 2m 11s\n",
      "205:\tlearn: 1647.3369353\ttotal: 34.1s\tremaining: 2m 11s\n",
      "206:\tlearn: 1646.6503562\ttotal: 34.2s\tremaining: 2m 11s\n",
      "207:\tlearn: 1645.9513741\ttotal: 34.4s\tremaining: 2m 11s\n",
      "208:\tlearn: 1645.6478934\ttotal: 34.6s\tremaining: 2m 10s\n",
      "209:\tlearn: 1645.4606302\ttotal: 34.8s\tremaining: 2m 10s\n",
      "210:\tlearn: 1644.7988590\ttotal: 34.9s\tremaining: 2m 10s\n",
      "211:\tlearn: 1644.2316059\ttotal: 35.1s\tremaining: 2m 10s\n",
      "212:\tlearn: 1643.5900944\ttotal: 35.3s\tremaining: 2m 10s\n",
      "213:\tlearn: 1643.2369010\ttotal: 35.5s\tremaining: 2m 10s\n",
      "214:\tlearn: 1642.8275818\ttotal: 35.7s\tremaining: 2m 10s\n",
      "215:\tlearn: 1642.2754870\ttotal: 35.8s\tremaining: 2m 10s\n",
      "216:\tlearn: 1641.7529947\ttotal: 36s\tremaining: 2m 9s\n",
      "217:\tlearn: 1641.1190988\ttotal: 36.1s\tremaining: 2m 9s\n",
      "218:\tlearn: 1640.7854036\ttotal: 36.3s\tremaining: 2m 9s\n",
      "219:\tlearn: 1640.4776749\ttotal: 36.4s\tremaining: 2m 9s\n",
      "220:\tlearn: 1640.2152986\ttotal: 36.6s\tremaining: 2m 9s\n",
      "221:\tlearn: 1639.9260685\ttotal: 36.8s\tremaining: 2m 8s\n",
      "222:\tlearn: 1639.5615479\ttotal: 36.9s\tremaining: 2m 8s\n",
      "223:\tlearn: 1639.4416735\ttotal: 37.1s\tremaining: 2m 8s\n",
      "224:\tlearn: 1638.9750653\ttotal: 37.2s\tremaining: 2m 8s\n",
      "225:\tlearn: 1638.6524855\ttotal: 37.4s\tremaining: 2m 8s\n",
      "226:\tlearn: 1638.3928837\ttotal: 37.6s\tremaining: 2m 8s\n",
      "227:\tlearn: 1638.0161048\ttotal: 37.8s\tremaining: 2m 7s\n",
      "228:\tlearn: 1637.4426832\ttotal: 37.9s\tremaining: 2m 7s\n",
      "229:\tlearn: 1636.9666011\ttotal: 38.1s\tremaining: 2m 7s\n",
      "230:\tlearn: 1636.4794031\ttotal: 38.3s\tremaining: 2m 7s\n",
      "231:\tlearn: 1636.3337090\ttotal: 38.5s\tremaining: 2m 7s\n",
      "232:\tlearn: 1636.0609198\ttotal: 38.7s\tremaining: 2m 7s\n",
      "233:\tlearn: 1635.8007288\ttotal: 38.9s\tremaining: 2m 7s\n",
      "234:\tlearn: 1635.2662587\ttotal: 39s\tremaining: 2m 7s\n",
      "235:\tlearn: 1635.0727149\ttotal: 39.2s\tremaining: 2m 6s\n",
      "236:\tlearn: 1634.6194827\ttotal: 39.4s\tremaining: 2m 6s\n",
      "237:\tlearn: 1634.5163934\ttotal: 39.5s\tremaining: 2m 6s\n",
      "238:\tlearn: 1634.1644429\ttotal: 39.7s\tremaining: 2m 6s\n",
      "239:\tlearn: 1633.7524869\ttotal: 39.8s\tremaining: 2m 6s\n",
      "240:\tlearn: 1633.4892614\ttotal: 40s\tremaining: 2m 5s\n",
      "241:\tlearn: 1633.0901513\ttotal: 40.2s\tremaining: 2m 5s\n",
      "242:\tlearn: 1632.8211026\ttotal: 40.3s\tremaining: 2m 5s\n",
      "243:\tlearn: 1632.5492289\ttotal: 40.5s\tremaining: 2m 5s\n",
      "244:\tlearn: 1632.4792350\ttotal: 40.6s\tremaining: 2m 5s\n",
      "245:\tlearn: 1632.2661182\ttotal: 40.8s\tremaining: 2m 4s\n",
      "246:\tlearn: 1631.7382445\ttotal: 41s\tremaining: 2m 4s\n",
      "247:\tlearn: 1631.6298636\ttotal: 41.1s\tremaining: 2m 4s\n",
      "248:\tlearn: 1631.1855157\ttotal: 41.3s\tremaining: 2m 4s\n",
      "249:\tlearn: 1630.9807691\ttotal: 41.4s\tremaining: 2m 4s\n",
      "250:\tlearn: 1630.6597961\ttotal: 41.5s\tremaining: 2m 3s\n",
      "251:\tlearn: 1630.0080414\ttotal: 41.7s\tremaining: 2m 3s\n",
      "252:\tlearn: 1629.5102270\ttotal: 41.9s\tremaining: 2m 3s\n",
      "253:\tlearn: 1628.9567303\ttotal: 42s\tremaining: 2m 3s\n",
      "254:\tlearn: 1628.4941431\ttotal: 42.2s\tremaining: 2m 3s\n",
      "255:\tlearn: 1628.3168701\ttotal: 42.4s\tremaining: 2m 3s\n",
      "256:\tlearn: 1627.8557429\ttotal: 42.5s\tremaining: 2m 2s\n",
      "257:\tlearn: 1627.3376764\ttotal: 42.8s\tremaining: 2m 2s\n",
      "258:\tlearn: 1626.9190583\ttotal: 42.9s\tremaining: 2m 2s\n",
      "259:\tlearn: 1626.6234953\ttotal: 43.1s\tremaining: 2m 2s\n",
      "260:\tlearn: 1626.5771618\ttotal: 43.2s\tremaining: 2m 2s\n",
      "261:\tlearn: 1626.1380730\ttotal: 43.4s\tremaining: 2m 2s\n",
      "262:\tlearn: 1626.0004419\ttotal: 43.5s\tremaining: 2m 1s\n",
      "263:\tlearn: 1625.5815558\ttotal: 43.7s\tremaining: 2m 1s\n",
      "264:\tlearn: 1625.0641024\ttotal: 43.8s\tremaining: 2m 1s\n",
      "265:\tlearn: 1624.3903283\ttotal: 43.9s\tremaining: 2m 1s\n",
      "266:\tlearn: 1624.2316888\ttotal: 44.1s\tremaining: 2m 1s\n",
      "267:\tlearn: 1623.8391298\ttotal: 44.3s\tremaining: 2m 1s\n",
      "268:\tlearn: 1623.0505152\ttotal: 44.5s\tremaining: 2m\n",
      "269:\tlearn: 1622.5260732\ttotal: 44.6s\tremaining: 2m\n",
      "270:\tlearn: 1622.2439969\ttotal: 44.8s\tremaining: 2m\n",
      "271:\tlearn: 1622.0341173\ttotal: 44.9s\tremaining: 2m\n",
      "272:\tlearn: 1621.6610580\ttotal: 45.1s\tremaining: 2m\n",
      "273:\tlearn: 1621.2478358\ttotal: 45.2s\tremaining: 1m 59s\n",
      "274:\tlearn: 1620.8128515\ttotal: 45.4s\tremaining: 1m 59s\n",
      "275:\tlearn: 1620.7180182\ttotal: 45.5s\tremaining: 1m 59s\n",
      "276:\tlearn: 1620.5410168\ttotal: 45.6s\tremaining: 1m 59s\n",
      "277:\tlearn: 1620.4212206\ttotal: 45.8s\tremaining: 1m 58s\n",
      "278:\tlearn: 1619.8308526\ttotal: 45.9s\tremaining: 1m 58s\n",
      "279:\tlearn: 1619.5513431\ttotal: 46.1s\tremaining: 1m 58s\n",
      "280:\tlearn: 1619.4575207\ttotal: 46.3s\tremaining: 1m 58s\n",
      "281:\tlearn: 1618.7430054\ttotal: 46.5s\tremaining: 1m 58s\n",
      "282:\tlearn: 1618.6503699\ttotal: 46.6s\tremaining: 1m 58s\n",
      "283:\tlearn: 1618.4806522\ttotal: 46.8s\tremaining: 1m 57s\n",
      "284:\tlearn: 1618.3706865\ttotal: 46.9s\tremaining: 1m 57s\n",
      "285:\tlearn: 1617.9674306\ttotal: 47s\tremaining: 1m 57s\n",
      "286:\tlearn: 1617.8517551\ttotal: 47.2s\tremaining: 1m 57s\n",
      "287:\tlearn: 1617.7064093\ttotal: 47.4s\tremaining: 1m 57s\n",
      "288:\tlearn: 1617.1662470\ttotal: 47.6s\tremaining: 1m 56s\n",
      "289:\tlearn: 1616.7525137\ttotal: 47.7s\tremaining: 1m 56s\n",
      "290:\tlearn: 1616.4511858\ttotal: 47.9s\tremaining: 1m 56s\n",
      "291:\tlearn: 1616.1753793\ttotal: 48s\tremaining: 1m 56s\n",
      "292:\tlearn: 1615.4972944\ttotal: 48.2s\tremaining: 1m 56s\n",
      "293:\tlearn: 1615.1917902\ttotal: 48.4s\tremaining: 1m 56s\n",
      "294:\tlearn: 1615.1362517\ttotal: 48.5s\tremaining: 1m 55s\n",
      "295:\tlearn: 1614.8992541\ttotal: 48.7s\tremaining: 1m 55s\n",
      "296:\tlearn: 1614.6818849\ttotal: 48.9s\tremaining: 1m 55s\n"
     ]
    },
    {
     "name": "stdout",
     "output_type": "stream",
     "text": [
      "297:\tlearn: 1614.5120565\ttotal: 49s\tremaining: 1m 55s\n",
      "298:\tlearn: 1614.3019274\ttotal: 49.1s\tremaining: 1m 55s\n",
      "299:\tlearn: 1614.1377857\ttotal: 49.3s\tremaining: 1m 54s\n",
      "300:\tlearn: 1613.6239987\ttotal: 49.4s\tremaining: 1m 54s\n",
      "301:\tlearn: 1613.4632625\ttotal: 49.6s\tremaining: 1m 54s\n",
      "302:\tlearn: 1613.3737887\ttotal: 49.7s\tremaining: 1m 54s\n",
      "303:\tlearn: 1613.1312335\ttotal: 49.8s\tremaining: 1m 54s\n",
      "304:\tlearn: 1612.4726830\ttotal: 50s\tremaining: 1m 53s\n",
      "305:\tlearn: 1612.2265961\ttotal: 50.1s\tremaining: 1m 53s\n",
      "306:\tlearn: 1611.9285730\ttotal: 50.3s\tremaining: 1m 53s\n",
      "307:\tlearn: 1611.4644382\ttotal: 50.5s\tremaining: 1m 53s\n",
      "308:\tlearn: 1611.3231794\ttotal: 50.6s\tremaining: 1m 53s\n",
      "309:\tlearn: 1610.7963089\ttotal: 50.8s\tremaining: 1m 52s\n",
      "310:\tlearn: 1610.4331262\ttotal: 51s\tremaining: 1m 52s\n",
      "311:\tlearn: 1610.3231116\ttotal: 51.1s\tremaining: 1m 52s\n",
      "312:\tlearn: 1609.9725242\ttotal: 51.3s\tremaining: 1m 52s\n",
      "313:\tlearn: 1609.6780405\ttotal: 51.5s\tremaining: 1m 52s\n",
      "314:\tlearn: 1609.5661484\ttotal: 51.6s\tremaining: 1m 52s\n",
      "315:\tlearn: 1609.2655103\ttotal: 51.8s\tremaining: 1m 52s\n",
      "316:\tlearn: 1608.7538710\ttotal: 52s\tremaining: 1m 51s\n",
      "317:\tlearn: 1608.5012420\ttotal: 52.1s\tremaining: 1m 51s\n",
      "318:\tlearn: 1608.3895714\ttotal: 52.4s\tremaining: 1m 51s\n",
      "319:\tlearn: 1608.0954042\ttotal: 52.5s\tremaining: 1m 51s\n",
      "320:\tlearn: 1607.9779966\ttotal: 52.8s\tremaining: 1m 51s\n",
      "321:\tlearn: 1607.9737240\ttotal: 52.9s\tremaining: 1m 51s\n",
      "322:\tlearn: 1607.6871749\ttotal: 53s\tremaining: 1m 51s\n",
      "323:\tlearn: 1607.3689356\ttotal: 53.2s\tremaining: 1m 50s\n",
      "324:\tlearn: 1607.1752961\ttotal: 53.3s\tremaining: 1m 50s\n",
      "325:\tlearn: 1606.8542269\ttotal: 53.5s\tremaining: 1m 50s\n",
      "326:\tlearn: 1606.3114004\ttotal: 53.6s\tremaining: 1m 50s\n",
      "327:\tlearn: 1606.1043261\ttotal: 53.8s\tremaining: 1m 50s\n",
      "328:\tlearn: 1605.7467715\ttotal: 53.9s\tremaining: 1m 50s\n",
      "329:\tlearn: 1605.4574968\ttotal: 54.1s\tremaining: 1m 49s\n",
      "330:\tlearn: 1605.0482829\ttotal: 54.3s\tremaining: 1m 49s\n",
      "331:\tlearn: 1604.9927649\ttotal: 54.4s\tremaining: 1m 49s\n",
      "332:\tlearn: 1604.7745025\ttotal: 54.6s\tremaining: 1m 49s\n",
      "333:\tlearn: 1604.2736313\ttotal: 54.7s\tremaining: 1m 49s\n",
      "334:\tlearn: 1604.1373821\ttotal: 54.9s\tremaining: 1m 48s\n",
      "335:\tlearn: 1603.7600569\ttotal: 55s\tremaining: 1m 48s\n",
      "336:\tlearn: 1603.4364448\ttotal: 55.2s\tremaining: 1m 48s\n",
      "337:\tlearn: 1603.0257100\ttotal: 55.3s\tremaining: 1m 48s\n",
      "338:\tlearn: 1602.7757144\ttotal: 55.5s\tremaining: 1m 48s\n",
      "339:\tlearn: 1602.3635292\ttotal: 55.6s\tremaining: 1m 48s\n",
      "340:\tlearn: 1602.2517808\ttotal: 55.8s\tremaining: 1m 47s\n",
      "341:\tlearn: 1601.9253550\ttotal: 55.9s\tremaining: 1m 47s\n",
      "342:\tlearn: 1601.6405866\ttotal: 56.1s\tremaining: 1m 47s\n",
      "343:\tlearn: 1601.4420562\ttotal: 56.2s\tremaining: 1m 47s\n",
      "344:\tlearn: 1601.2036200\ttotal: 56.3s\tremaining: 1m 46s\n",
      "345:\tlearn: 1601.1046854\ttotal: 56.5s\tremaining: 1m 46s\n",
      "346:\tlearn: 1600.6702006\ttotal: 56.6s\tremaining: 1m 46s\n",
      "347:\tlearn: 1600.0588178\ttotal: 56.8s\tremaining: 1m 46s\n",
      "348:\tlearn: 1599.7780642\ttotal: 56.9s\tremaining: 1m 46s\n",
      "349:\tlearn: 1599.7115245\ttotal: 57s\tremaining: 1m 45s\n",
      "350:\tlearn: 1599.5586059\ttotal: 57.2s\tremaining: 1m 45s\n",
      "351:\tlearn: 1599.5443661\ttotal: 57.3s\tremaining: 1m 45s\n",
      "352:\tlearn: 1599.4648712\ttotal: 57.4s\tremaining: 1m 45s\n",
      "353:\tlearn: 1599.0173365\ttotal: 57.6s\tremaining: 1m 45s\n",
      "354:\tlearn: 1598.6713792\ttotal: 57.7s\tremaining: 1m 44s\n",
      "355:\tlearn: 1598.3725977\ttotal: 57.9s\tremaining: 1m 44s\n",
      "356:\tlearn: 1598.0338991\ttotal: 58.1s\tremaining: 1m 44s\n",
      "357:\tlearn: 1597.7843250\ttotal: 58.3s\tremaining: 1m 44s\n",
      "358:\tlearn: 1597.6116589\ttotal: 58.5s\tremaining: 1m 44s\n",
      "359:\tlearn: 1597.2744900\ttotal: 58.6s\tremaining: 1m 44s\n",
      "360:\tlearn: 1597.1321690\ttotal: 58.8s\tremaining: 1m 44s\n",
      "361:\tlearn: 1596.7134388\ttotal: 58.9s\tremaining: 1m 43s\n",
      "362:\tlearn: 1596.5184300\ttotal: 59.1s\tremaining: 1m 43s\n",
      "363:\tlearn: 1596.0763241\ttotal: 59.2s\tremaining: 1m 43s\n",
      "364:\tlearn: 1595.8105707\ttotal: 59.4s\tremaining: 1m 43s\n",
      "365:\tlearn: 1595.6628568\ttotal: 59.6s\tremaining: 1m 43s\n",
      "366:\tlearn: 1595.4633033\ttotal: 59.7s\tremaining: 1m 43s\n",
      "367:\tlearn: 1595.2536307\ttotal: 59.9s\tremaining: 1m 42s\n",
      "368:\tlearn: 1595.1255764\ttotal: 1m\tremaining: 1m 42s\n",
      "369:\tlearn: 1595.0296347\ttotal: 1m\tremaining: 1m 42s\n",
      "370:\tlearn: 1595.0030782\ttotal: 1m\tremaining: 1m 42s\n",
      "371:\tlearn: 1594.5755721\ttotal: 1m\tremaining: 1m 42s\n",
      "372:\tlearn: 1594.3296816\ttotal: 1m\tremaining: 1m 41s\n",
      "373:\tlearn: 1594.1654997\ttotal: 1m\tremaining: 1m 41s\n",
      "374:\tlearn: 1594.0511776\ttotal: 1m 1s\tremaining: 1m 41s\n",
      "375:\tlearn: 1593.9751776\ttotal: 1m 1s\tremaining: 1m 41s\n",
      "376:\tlearn: 1593.7391870\ttotal: 1m 1s\tremaining: 1m 41s\n",
      "377:\tlearn: 1593.5409957\ttotal: 1m 1s\tremaining: 1m 41s\n",
      "378:\tlearn: 1593.2815057\ttotal: 1m 1s\tremaining: 1m 40s\n",
      "379:\tlearn: 1593.1074704\ttotal: 1m 1s\tremaining: 1m 40s\n",
      "380:\tlearn: 1592.9731371\ttotal: 1m 1s\tremaining: 1m 40s\n",
      "381:\tlearn: 1592.8941626\ttotal: 1m 2s\tremaining: 1m 40s\n",
      "382:\tlearn: 1592.7265659\ttotal: 1m 2s\tremaining: 1m 40s\n",
      "383:\tlearn: 1592.6903399\ttotal: 1m 2s\tremaining: 1m 40s\n",
      "384:\tlearn: 1592.5240954\ttotal: 1m 2s\tremaining: 1m 39s\n",
      "385:\tlearn: 1592.4383608\ttotal: 1m 2s\tremaining: 1m 39s\n",
      "386:\tlearn: 1592.3618529\ttotal: 1m 2s\tremaining: 1m 39s\n",
      "387:\tlearn: 1592.2588502\ttotal: 1m 3s\tremaining: 1m 39s\n",
      "388:\tlearn: 1591.8196919\ttotal: 1m 3s\tremaining: 1m 39s\n",
      "389:\tlearn: 1591.5219318\ttotal: 1m 3s\tremaining: 1m 39s\n",
      "390:\tlearn: 1591.3536120\ttotal: 1m 3s\tremaining: 1m 39s\n",
      "391:\tlearn: 1591.1277614\ttotal: 1m 3s\tremaining: 1m 39s\n",
      "392:\tlearn: 1591.0111529\ttotal: 1m 4s\tremaining: 1m 38s\n",
      "393:\tlearn: 1590.6592007\ttotal: 1m 4s\tremaining: 1m 38s\n",
      "394:\tlearn: 1590.3402211\ttotal: 1m 4s\tremaining: 1m 38s\n",
      "395:\tlearn: 1590.2189798\ttotal: 1m 4s\tremaining: 1m 38s\n",
      "396:\tlearn: 1590.2084236\ttotal: 1m 4s\tremaining: 1m 38s\n",
      "397:\tlearn: 1590.0165811\ttotal: 1m 4s\tremaining: 1m 37s\n",
      "398:\tlearn: 1589.9427678\ttotal: 1m 4s\tremaining: 1m 37s\n",
      "399:\tlearn: 1589.8692228\ttotal: 1m 5s\tremaining: 1m 37s\n",
      "400:\tlearn: 1589.7420504\ttotal: 1m 5s\tremaining: 1m 37s\n",
      "401:\tlearn: 1589.4861310\ttotal: 1m 5s\tremaining: 1m 37s\n",
      "402:\tlearn: 1589.1660808\ttotal: 1m 5s\tremaining: 1m 37s\n",
      "403:\tlearn: 1589.0100990\ttotal: 1m 5s\tremaining: 1m 37s\n",
      "404:\tlearn: 1588.9834930\ttotal: 1m 5s\tremaining: 1m 36s\n",
      "405:\tlearn: 1588.7117801\ttotal: 1m 6s\tremaining: 1m 36s\n",
      "406:\tlearn: 1588.6364807\ttotal: 1m 6s\tremaining: 1m 36s\n",
      "407:\tlearn: 1588.5935820\ttotal: 1m 6s\tremaining: 1m 36s\n",
      "408:\tlearn: 1588.5182148\ttotal: 1m 6s\tremaining: 1m 36s\n",
      "409:\tlearn: 1588.4117332\ttotal: 1m 6s\tremaining: 1m 36s\n",
      "410:\tlearn: 1588.0670891\ttotal: 1m 6s\tremaining: 1m 35s\n",
      "411:\tlearn: 1587.7569142\ttotal: 1m 7s\tremaining: 1m 35s\n",
      "412:\tlearn: 1587.3920929\ttotal: 1m 7s\tremaining: 1m 35s\n",
      "413:\tlearn: 1587.2411884\ttotal: 1m 7s\tremaining: 1m 35s\n",
      "414:\tlearn: 1587.0056461\ttotal: 1m 7s\tremaining: 1m 35s\n",
      "415:\tlearn: 1586.7586033\ttotal: 1m 7s\tremaining: 1m 35s\n",
      "416:\tlearn: 1586.1587110\ttotal: 1m 8s\tremaining: 1m 35s\n",
      "417:\tlearn: 1586.0287780\ttotal: 1m 8s\tremaining: 1m 35s\n",
      "418:\tlearn: 1585.7571862\ttotal: 1m 8s\tremaining: 1m 34s\n",
      "419:\tlearn: 1585.5952333\ttotal: 1m 8s\tremaining: 1m 34s\n",
      "420:\tlearn: 1585.2490172\ttotal: 1m 8s\tremaining: 1m 34s\n",
      "421:\tlearn: 1585.0210452\ttotal: 1m 9s\tremaining: 1m 34s\n",
      "422:\tlearn: 1584.7355760\ttotal: 1m 9s\tremaining: 1m 34s\n",
      "423:\tlearn: 1584.4359214\ttotal: 1m 9s\tremaining: 1m 34s\n",
      "424:\tlearn: 1584.1476429\ttotal: 1m 9s\tremaining: 1m 34s\n",
      "425:\tlearn: 1584.1171952\ttotal: 1m 9s\tremaining: 1m 33s\n",
      "426:\tlearn: 1583.9962253\ttotal: 1m 9s\tremaining: 1m 33s\n",
      "427:\tlearn: 1583.8963147\ttotal: 1m 9s\tremaining: 1m 33s\n",
      "428:\tlearn: 1583.6691996\ttotal: 1m 10s\tremaining: 1m 33s\n",
      "429:\tlearn: 1583.4055051\ttotal: 1m 10s\tremaining: 1m 33s\n",
      "430:\tlearn: 1583.1689057\ttotal: 1m 10s\tremaining: 1m 32s\n",
      "431:\tlearn: 1583.0139027\ttotal: 1m 10s\tremaining: 1m 32s\n",
      "432:\tlearn: 1582.8349666\ttotal: 1m 10s\tremaining: 1m 32s\n",
      "433:\tlearn: 1582.6788679\ttotal: 1m 10s\tremaining: 1m 32s\n",
      "434:\tlearn: 1582.3249372\ttotal: 1m 10s\tremaining: 1m 32s\n",
      "435:\tlearn: 1582.1510390\ttotal: 1m 11s\tremaining: 1m 31s\n",
      "436:\tlearn: 1581.8608411\ttotal: 1m 11s\tremaining: 1m 31s\n",
      "437:\tlearn: 1581.7044449\ttotal: 1m 11s\tremaining: 1m 31s\n",
      "438:\tlearn: 1581.6114959\ttotal: 1m 11s\tremaining: 1m 31s\n",
      "439:\tlearn: 1581.5679416\ttotal: 1m 11s\tremaining: 1m 31s\n",
      "440:\tlearn: 1581.4542970\ttotal: 1m 11s\tremaining: 1m 31s\n",
      "441:\tlearn: 1581.2836179\ttotal: 1m 12s\tremaining: 1m 30s\n",
      "442:\tlearn: 1581.0023856\ttotal: 1m 12s\tremaining: 1m 30s\n",
      "443:\tlearn: 1580.8159224\ttotal: 1m 12s\tremaining: 1m 30s\n",
      "444:\tlearn: 1580.6783446\ttotal: 1m 12s\tremaining: 1m 30s\n"
     ]
    },
    {
     "name": "stdout",
     "output_type": "stream",
     "text": [
      "445:\tlearn: 1580.4986101\ttotal: 1m 12s\tremaining: 1m 30s\n",
      "446:\tlearn: 1580.3838523\ttotal: 1m 12s\tremaining: 1m 30s\n",
      "447:\tlearn: 1580.0740667\ttotal: 1m 12s\tremaining: 1m 29s\n",
      "448:\tlearn: 1580.0605195\ttotal: 1m 13s\tremaining: 1m 29s\n",
      "449:\tlearn: 1580.0192560\ttotal: 1m 13s\tremaining: 1m 29s\n",
      "450:\tlearn: 1579.8658929\ttotal: 1m 13s\tremaining: 1m 29s\n",
      "451:\tlearn: 1579.7587365\ttotal: 1m 13s\tremaining: 1m 29s\n",
      "452:\tlearn: 1579.6742476\ttotal: 1m 13s\tremaining: 1m 28s\n",
      "453:\tlearn: 1579.6161549\ttotal: 1m 13s\tremaining: 1m 28s\n",
      "454:\tlearn: 1579.4798859\ttotal: 1m 13s\tremaining: 1m 28s\n",
      "455:\tlearn: 1579.4158569\ttotal: 1m 14s\tremaining: 1m 28s\n",
      "456:\tlearn: 1579.2530804\ttotal: 1m 14s\tremaining: 1m 28s\n",
      "457:\tlearn: 1579.1712451\ttotal: 1m 14s\tremaining: 1m 28s\n",
      "458:\tlearn: 1579.0960335\ttotal: 1m 14s\tremaining: 1m 27s\n",
      "459:\tlearn: 1578.8292852\ttotal: 1m 14s\tremaining: 1m 27s\n",
      "460:\tlearn: 1578.4244955\ttotal: 1m 14s\tremaining: 1m 27s\n",
      "461:\tlearn: 1578.2081936\ttotal: 1m 15s\tremaining: 1m 27s\n",
      "462:\tlearn: 1577.9425140\ttotal: 1m 15s\tremaining: 1m 27s\n",
      "463:\tlearn: 1577.7798714\ttotal: 1m 15s\tremaining: 1m 27s\n",
      "464:\tlearn: 1577.4092929\ttotal: 1m 15s\tremaining: 1m 26s\n",
      "465:\tlearn: 1577.2237990\ttotal: 1m 15s\tremaining: 1m 26s\n",
      "466:\tlearn: 1576.9718784\ttotal: 1m 15s\tremaining: 1m 26s\n",
      "467:\tlearn: 1576.7029646\ttotal: 1m 15s\tremaining: 1m 26s\n",
      "468:\tlearn: 1576.4433526\ttotal: 1m 16s\tremaining: 1m 26s\n",
      "469:\tlearn: 1576.0668645\ttotal: 1m 16s\tremaining: 1m 26s\n",
      "470:\tlearn: 1575.7139370\ttotal: 1m 16s\tremaining: 1m 25s\n",
      "471:\tlearn: 1575.3536710\ttotal: 1m 16s\tremaining: 1m 25s\n",
      "472:\tlearn: 1575.1934938\ttotal: 1m 16s\tremaining: 1m 25s\n",
      "473:\tlearn: 1575.0837175\ttotal: 1m 16s\tremaining: 1m 25s\n",
      "474:\tlearn: 1574.9171267\ttotal: 1m 17s\tremaining: 1m 25s\n",
      "475:\tlearn: 1574.6948022\ttotal: 1m 17s\tremaining: 1m 25s\n",
      "476:\tlearn: 1574.4747445\ttotal: 1m 17s\tremaining: 1m 24s\n",
      "477:\tlearn: 1574.1545254\ttotal: 1m 17s\tremaining: 1m 24s\n",
      "478:\tlearn: 1574.0325257\ttotal: 1m 17s\tremaining: 1m 24s\n",
      "479:\tlearn: 1573.8599453\ttotal: 1m 17s\tremaining: 1m 24s\n",
      "480:\tlearn: 1573.7504889\ttotal: 1m 18s\tremaining: 1m 24s\n",
      "481:\tlearn: 1573.5456631\ttotal: 1m 18s\tremaining: 1m 24s\n",
      "482:\tlearn: 1573.2697734\ttotal: 1m 18s\tremaining: 1m 23s\n",
      "483:\tlearn: 1573.2151213\ttotal: 1m 18s\tremaining: 1m 23s\n",
      "484:\tlearn: 1573.1580236\ttotal: 1m 18s\tremaining: 1m 23s\n",
      "485:\tlearn: 1572.8401251\ttotal: 1m 19s\tremaining: 1m 23s\n",
      "486:\tlearn: 1572.8346901\ttotal: 1m 19s\tremaining: 1m 23s\n",
      "487:\tlearn: 1572.7477925\ttotal: 1m 19s\tremaining: 1m 23s\n",
      "488:\tlearn: 1572.6279347\ttotal: 1m 19s\tremaining: 1m 23s\n",
      "489:\tlearn: 1572.5047904\ttotal: 1m 19s\tremaining: 1m 22s\n",
      "490:\tlearn: 1572.3998003\ttotal: 1m 19s\tremaining: 1m 22s\n",
      "491:\tlearn: 1572.2384997\ttotal: 1m 19s\tremaining: 1m 22s\n",
      "492:\tlearn: 1572.2176104\ttotal: 1m 20s\tremaining: 1m 22s\n",
      "493:\tlearn: 1572.1825623\ttotal: 1m 20s\tremaining: 1m 22s\n",
      "494:\tlearn: 1572.1142312\ttotal: 1m 20s\tremaining: 1m 22s\n",
      "495:\tlearn: 1571.8310328\ttotal: 1m 20s\tremaining: 1m 22s\n",
      "496:\tlearn: 1571.7236546\ttotal: 1m 20s\tremaining: 1m 21s\n",
      "497:\tlearn: 1571.6303828\ttotal: 1m 20s\tremaining: 1m 21s\n",
      "498:\tlearn: 1571.6234315\ttotal: 1m 21s\tremaining: 1m 21s\n",
      "499:\tlearn: 1571.1924879\ttotal: 1m 21s\tremaining: 1m 21s\n",
      "500:\tlearn: 1571.1498145\ttotal: 1m 21s\tremaining: 1m 21s\n",
      "501:\tlearn: 1570.9880183\ttotal: 1m 21s\tremaining: 1m 21s\n",
      "502:\tlearn: 1570.8498786\ttotal: 1m 21s\tremaining: 1m 20s\n",
      "503:\tlearn: 1570.5264936\ttotal: 1m 22s\tremaining: 1m 20s\n",
      "504:\tlearn: 1570.4277386\ttotal: 1m 22s\tremaining: 1m 20s\n",
      "505:\tlearn: 1570.2698448\ttotal: 1m 22s\tremaining: 1m 20s\n",
      "506:\tlearn: 1569.7985450\ttotal: 1m 22s\tremaining: 1m 20s\n",
      "507:\tlearn: 1569.5763040\ttotal: 1m 22s\tremaining: 1m 20s\n",
      "508:\tlearn: 1569.5761580\ttotal: 1m 22s\tremaining: 1m 19s\n",
      "509:\tlearn: 1569.3036801\ttotal: 1m 23s\tremaining: 1m 19s\n",
      "510:\tlearn: 1568.9672335\ttotal: 1m 23s\tremaining: 1m 19s\n",
      "511:\tlearn: 1568.7469571\ttotal: 1m 23s\tremaining: 1m 19s\n",
      "512:\tlearn: 1568.5548779\ttotal: 1m 23s\tremaining: 1m 19s\n",
      "513:\tlearn: 1568.5547399\ttotal: 1m 23s\tremaining: 1m 19s\n",
      "514:\tlearn: 1568.2630614\ttotal: 1m 23s\tremaining: 1m 18s\n",
      "515:\tlearn: 1568.1252042\ttotal: 1m 23s\tremaining: 1m 18s\n",
      "516:\tlearn: 1568.0956148\ttotal: 1m 24s\tremaining: 1m 18s\n",
      "517:\tlearn: 1568.0444010\ttotal: 1m 24s\tremaining: 1m 18s\n",
      "518:\tlearn: 1568.0186967\ttotal: 1m 24s\tremaining: 1m 18s\n",
      "519:\tlearn: 1567.9819289\ttotal: 1m 24s\tremaining: 1m 17s\n",
      "520:\tlearn: 1567.9526875\ttotal: 1m 24s\tremaining: 1m 17s\n",
      "521:\tlearn: 1567.7534614\ttotal: 1m 24s\tremaining: 1m 17s\n",
      "522:\tlearn: 1567.6338711\ttotal: 1m 25s\tremaining: 1m 17s\n",
      "523:\tlearn: 1567.4389721\ttotal: 1m 25s\tremaining: 1m 17s\n",
      "524:\tlearn: 1567.2987154\ttotal: 1m 25s\tremaining: 1m 17s\n",
      "525:\tlearn: 1567.2004632\ttotal: 1m 25s\tremaining: 1m 17s\n",
      "526:\tlearn: 1567.1113777\ttotal: 1m 25s\tremaining: 1m 16s\n",
      "527:\tlearn: 1567.0239542\ttotal: 1m 25s\tremaining: 1m 16s\n",
      "528:\tlearn: 1566.6710557\ttotal: 1m 26s\tremaining: 1m 16s\n",
      "529:\tlearn: 1566.5478094\ttotal: 1m 26s\tremaining: 1m 16s\n",
      "530:\tlearn: 1566.5466302\ttotal: 1m 26s\tremaining: 1m 16s\n",
      "531:\tlearn: 1566.5167963\ttotal: 1m 26s\tremaining: 1m 16s\n",
      "532:\tlearn: 1566.2621055\ttotal: 1m 26s\tremaining: 1m 15s\n",
      "533:\tlearn: 1566.1247376\ttotal: 1m 26s\tremaining: 1m 15s\n",
      "534:\tlearn: 1566.0973762\ttotal: 1m 26s\tremaining: 1m 15s\n",
      "535:\tlearn: 1565.9729387\ttotal: 1m 27s\tremaining: 1m 15s\n",
      "536:\tlearn: 1565.8489108\ttotal: 1m 27s\tremaining: 1m 15s\n",
      "537:\tlearn: 1565.8198013\ttotal: 1m 27s\tremaining: 1m 15s\n",
      "538:\tlearn: 1565.5320765\ttotal: 1m 27s\tremaining: 1m 14s\n",
      "539:\tlearn: 1565.4155988\ttotal: 1m 27s\tremaining: 1m 14s\n",
      "540:\tlearn: 1565.3407546\ttotal: 1m 27s\tremaining: 1m 14s\n",
      "541:\tlearn: 1565.0308762\ttotal: 1m 28s\tremaining: 1m 14s\n",
      "542:\tlearn: 1564.9556699\ttotal: 1m 28s\tremaining: 1m 14s\n",
      "543:\tlearn: 1564.7614423\ttotal: 1m 28s\tremaining: 1m 14s\n",
      "544:\tlearn: 1564.7159093\ttotal: 1m 28s\tremaining: 1m 13s\n",
      "545:\tlearn: 1564.6661065\ttotal: 1m 28s\tremaining: 1m 13s\n",
      "546:\tlearn: 1564.5869830\ttotal: 1m 28s\tremaining: 1m 13s\n",
      "547:\tlearn: 1564.5644444\ttotal: 1m 28s\tremaining: 1m 13s\n",
      "548:\tlearn: 1564.5049855\ttotal: 1m 29s\tremaining: 1m 13s\n",
      "549:\tlearn: 1564.2845486\ttotal: 1m 29s\tremaining: 1m 13s\n",
      "550:\tlearn: 1564.0338118\ttotal: 1m 29s\tremaining: 1m 13s\n",
      "551:\tlearn: 1563.9951826\ttotal: 1m 29s\tremaining: 1m 12s\n",
      "552:\tlearn: 1563.8957030\ttotal: 1m 29s\tremaining: 1m 12s\n",
      "553:\tlearn: 1563.6606625\ttotal: 1m 30s\tremaining: 1m 12s\n",
      "554:\tlearn: 1563.2596966\ttotal: 1m 30s\tremaining: 1m 12s\n",
      "555:\tlearn: 1562.8401508\ttotal: 1m 30s\tremaining: 1m 12s\n",
      "556:\tlearn: 1562.7911075\ttotal: 1m 30s\tremaining: 1m 12s\n",
      "557:\tlearn: 1562.7438263\ttotal: 1m 30s\tremaining: 1m 11s\n",
      "558:\tlearn: 1562.5300031\ttotal: 1m 30s\tremaining: 1m 11s\n",
      "559:\tlearn: 1562.0790815\ttotal: 1m 31s\tremaining: 1m 11s\n",
      "560:\tlearn: 1561.9600044\ttotal: 1m 31s\tremaining: 1m 11s\n",
      "561:\tlearn: 1561.8132368\ttotal: 1m 31s\tremaining: 1m 11s\n",
      "562:\tlearn: 1561.6146293\ttotal: 1m 31s\tremaining: 1m 11s\n",
      "563:\tlearn: 1561.3445514\ttotal: 1m 31s\tremaining: 1m 10s\n",
      "564:\tlearn: 1561.2927318\ttotal: 1m 31s\tremaining: 1m 10s\n",
      "565:\tlearn: 1561.1839824\ttotal: 1m 32s\tremaining: 1m 10s\n",
      "566:\tlearn: 1560.9637994\ttotal: 1m 32s\tremaining: 1m 10s\n",
      "567:\tlearn: 1560.8758675\ttotal: 1m 32s\tremaining: 1m 10s\n",
      "568:\tlearn: 1560.7322777\ttotal: 1m 32s\tremaining: 1m 10s\n",
      "569:\tlearn: 1560.6558661\ttotal: 1m 32s\tremaining: 1m 9s\n",
      "570:\tlearn: 1560.5427288\ttotal: 1m 32s\tremaining: 1m 9s\n",
      "571:\tlearn: 1560.5234721\ttotal: 1m 33s\tremaining: 1m 9s\n",
      "572:\tlearn: 1560.3931195\ttotal: 1m 33s\tremaining: 1m 9s\n",
      "573:\tlearn: 1560.3007791\ttotal: 1m 33s\tremaining: 1m 9s\n",
      "574:\tlearn: 1560.1896640\ttotal: 1m 33s\tremaining: 1m 9s\n",
      "575:\tlearn: 1560.1504897\ttotal: 1m 33s\tremaining: 1m 8s\n",
      "576:\tlearn: 1560.0648485\ttotal: 1m 33s\tremaining: 1m 8s\n",
      "577:\tlearn: 1559.9725972\ttotal: 1m 34s\tremaining: 1m 8s\n",
      "578:\tlearn: 1559.8410589\ttotal: 1m 34s\tremaining: 1m 8s\n",
      "579:\tlearn: 1559.8001312\ttotal: 1m 34s\tremaining: 1m 8s\n",
      "580:\tlearn: 1559.7293039\ttotal: 1m 34s\tremaining: 1m 8s\n",
      "581:\tlearn: 1559.6718595\ttotal: 1m 34s\tremaining: 1m 8s\n",
      "582:\tlearn: 1559.4776755\ttotal: 1m 34s\tremaining: 1m 7s\n",
      "583:\tlearn: 1559.3816953\ttotal: 1m 35s\tremaining: 1m 7s\n",
      "584:\tlearn: 1559.2031168\ttotal: 1m 35s\tremaining: 1m 7s\n",
      "585:\tlearn: 1559.0203589\ttotal: 1m 35s\tremaining: 1m 7s\n",
      "586:\tlearn: 1558.8467421\ttotal: 1m 35s\tremaining: 1m 7s\n",
      "587:\tlearn: 1558.7782801\ttotal: 1m 35s\tremaining: 1m 7s\n",
      "588:\tlearn: 1558.6086670\ttotal: 1m 35s\tremaining: 1m 6s\n",
      "589:\tlearn: 1558.4775837\ttotal: 1m 35s\tremaining: 1m 6s\n"
     ]
    },
    {
     "name": "stdout",
     "output_type": "stream",
     "text": [
      "590:\tlearn: 1558.4142324\ttotal: 1m 36s\tremaining: 1m 6s\n",
      "591:\tlearn: 1558.2378695\ttotal: 1m 36s\tremaining: 1m 6s\n",
      "592:\tlearn: 1558.1822934\ttotal: 1m 36s\tremaining: 1m 6s\n",
      "593:\tlearn: 1558.1433828\ttotal: 1m 36s\tremaining: 1m 5s\n",
      "594:\tlearn: 1558.0339697\ttotal: 1m 36s\tremaining: 1m 5s\n",
      "595:\tlearn: 1557.9909986\ttotal: 1m 36s\tremaining: 1m 5s\n",
      "596:\tlearn: 1557.8733638\ttotal: 1m 36s\tremaining: 1m 5s\n",
      "597:\tlearn: 1557.3825383\ttotal: 1m 37s\tremaining: 1m 5s\n",
      "598:\tlearn: 1557.3380552\ttotal: 1m 37s\tremaining: 1m 5s\n",
      "599:\tlearn: 1557.0281398\ttotal: 1m 37s\tremaining: 1m 4s\n",
      "600:\tlearn: 1556.9331408\ttotal: 1m 37s\tremaining: 1m 4s\n",
      "601:\tlearn: 1556.7921959\ttotal: 1m 37s\tremaining: 1m 4s\n",
      "602:\tlearn: 1556.6416126\ttotal: 1m 37s\tremaining: 1m 4s\n",
      "603:\tlearn: 1556.5245563\ttotal: 1m 37s\tremaining: 1m 4s\n",
      "604:\tlearn: 1556.2778748\ttotal: 1m 38s\tremaining: 1m 4s\n",
      "605:\tlearn: 1556.1731215\ttotal: 1m 38s\tremaining: 1m 3s\n",
      "606:\tlearn: 1556.1563331\ttotal: 1m 38s\tremaining: 1m 3s\n",
      "607:\tlearn: 1556.0305584\ttotal: 1m 38s\tremaining: 1m 3s\n",
      "608:\tlearn: 1555.9795950\ttotal: 1m 38s\tremaining: 1m 3s\n",
      "609:\tlearn: 1555.7527716\ttotal: 1m 38s\tremaining: 1m 3s\n",
      "610:\tlearn: 1555.7285100\ttotal: 1m 39s\tremaining: 1m 3s\n",
      "611:\tlearn: 1555.6381421\ttotal: 1m 39s\tremaining: 1m 2s\n",
      "612:\tlearn: 1555.5362116\ttotal: 1m 39s\tremaining: 1m 2s\n",
      "613:\tlearn: 1555.4640281\ttotal: 1m 39s\tremaining: 1m 2s\n",
      "614:\tlearn: 1555.3616786\ttotal: 1m 39s\tremaining: 1m 2s\n",
      "615:\tlearn: 1555.3171515\ttotal: 1m 39s\tremaining: 1m 2s\n",
      "616:\tlearn: 1555.1941739\ttotal: 1m 39s\tremaining: 1m 2s\n",
      "617:\tlearn: 1554.9192042\ttotal: 1m 40s\tremaining: 1m 1s\n",
      "618:\tlearn: 1554.7445992\ttotal: 1m 40s\tremaining: 1m 1s\n",
      "619:\tlearn: 1554.7241410\ttotal: 1m 40s\tremaining: 1m 1s\n",
      "620:\tlearn: 1554.5989097\ttotal: 1m 40s\tremaining: 1m 1s\n",
      "621:\tlearn: 1554.4653200\ttotal: 1m 40s\tremaining: 1m 1s\n",
      "622:\tlearn: 1554.3938121\ttotal: 1m 40s\tremaining: 1m 1s\n",
      "623:\tlearn: 1554.2111128\ttotal: 1m 41s\tremaining: 1m\n",
      "624:\tlearn: 1554.0774121\ttotal: 1m 41s\tremaining: 1m\n",
      "625:\tlearn: 1553.7998398\ttotal: 1m 41s\tremaining: 1m\n",
      "626:\tlearn: 1553.7231284\ttotal: 1m 41s\tremaining: 1m\n",
      "627:\tlearn: 1553.4935703\ttotal: 1m 41s\tremaining: 1m\n",
      "628:\tlearn: 1553.3497750\ttotal: 1m 41s\tremaining: 1m\n",
      "629:\tlearn: 1553.2750005\ttotal: 1m 42s\tremaining: 59.9s\n",
      "630:\tlearn: 1553.1564850\ttotal: 1m 42s\tremaining: 59.8s\n",
      "631:\tlearn: 1553.0997679\ttotal: 1m 42s\tremaining: 59.6s\n",
      "632:\tlearn: 1552.9571448\ttotal: 1m 42s\tremaining: 59.4s\n",
      "633:\tlearn: 1552.8081594\ttotal: 1m 42s\tremaining: 59.2s\n",
      "634:\tlearn: 1552.6400428\ttotal: 1m 42s\tremaining: 59.1s\n",
      "635:\tlearn: 1552.3421172\ttotal: 1m 42s\tremaining: 58.9s\n",
      "636:\tlearn: 1552.2564758\ttotal: 1m 43s\tremaining: 58.8s\n",
      "637:\tlearn: 1551.9417464\ttotal: 1m 43s\tremaining: 58.6s\n",
      "638:\tlearn: 1551.8326545\ttotal: 1m 43s\tremaining: 58.4s\n",
      "639:\tlearn: 1551.6189930\ttotal: 1m 43s\tremaining: 58.3s\n",
      "640:\tlearn: 1551.5685105\ttotal: 1m 43s\tremaining: 58.1s\n",
      "641:\tlearn: 1551.4365557\ttotal: 1m 43s\tremaining: 58s\n",
      "642:\tlearn: 1551.3705840\ttotal: 1m 44s\tremaining: 57.8s\n",
      "643:\tlearn: 1551.1805389\ttotal: 1m 44s\tremaining: 57.7s\n",
      "644:\tlearn: 1550.9399046\ttotal: 1m 44s\tremaining: 57.5s\n",
      "645:\tlearn: 1550.7099455\ttotal: 1m 44s\tremaining: 57.4s\n",
      "646:\tlearn: 1550.5477283\ttotal: 1m 44s\tremaining: 57.2s\n",
      "647:\tlearn: 1550.4723084\ttotal: 1m 45s\tremaining: 57.1s\n",
      "648:\tlearn: 1550.2202856\ttotal: 1m 45s\tremaining: 56.9s\n",
      "649:\tlearn: 1550.1707105\ttotal: 1m 45s\tremaining: 56.8s\n",
      "650:\tlearn: 1550.0781895\ttotal: 1m 45s\tremaining: 56.6s\n",
      "651:\tlearn: 1549.9992796\ttotal: 1m 45s\tremaining: 56.5s\n",
      "652:\tlearn: 1549.9210162\ttotal: 1m 46s\tremaining: 56.3s\n",
      "653:\tlearn: 1549.8942116\ttotal: 1m 46s\tremaining: 56.1s\n",
      "654:\tlearn: 1549.7599077\ttotal: 1m 46s\tremaining: 56s\n",
      "655:\tlearn: 1549.6047238\ttotal: 1m 46s\tremaining: 55.9s\n",
      "656:\tlearn: 1549.2808425\ttotal: 1m 46s\tremaining: 55.7s\n",
      "657:\tlearn: 1549.2500416\ttotal: 1m 46s\tremaining: 55.5s\n",
      "658:\tlearn: 1548.9990155\ttotal: 1m 46s\tremaining: 55.4s\n",
      "659:\tlearn: 1548.8079623\ttotal: 1m 47s\tremaining: 55.2s\n",
      "660:\tlearn: 1548.6783752\ttotal: 1m 47s\tremaining: 55.1s\n",
      "661:\tlearn: 1548.4867396\ttotal: 1m 47s\tremaining: 54.9s\n",
      "662:\tlearn: 1548.2560763\ttotal: 1m 47s\tremaining: 54.7s\n",
      "663:\tlearn: 1548.1732160\ttotal: 1m 47s\tremaining: 54.6s\n",
      "664:\tlearn: 1548.0777105\ttotal: 1m 48s\tremaining: 54.4s\n",
      "665:\tlearn: 1548.0472602\ttotal: 1m 48s\tremaining: 54.3s\n",
      "666:\tlearn: 1547.9795749\ttotal: 1m 48s\tremaining: 54.1s\n",
      "667:\tlearn: 1547.6732669\ttotal: 1m 48s\tremaining: 54s\n",
      "668:\tlearn: 1547.6220679\ttotal: 1m 48s\tremaining: 53.8s\n",
      "669:\tlearn: 1547.4115924\ttotal: 1m 48s\tremaining: 53.6s\n",
      "670:\tlearn: 1547.3559140\ttotal: 1m 49s\tremaining: 53.5s\n",
      "671:\tlearn: 1547.2541135\ttotal: 1m 49s\tremaining: 53.3s\n",
      "672:\tlearn: 1547.1354304\ttotal: 1m 49s\tremaining: 53.1s\n",
      "673:\tlearn: 1546.8407410\ttotal: 1m 49s\tremaining: 53s\n",
      "674:\tlearn: 1546.7905999\ttotal: 1m 49s\tremaining: 52.8s\n",
      "675:\tlearn: 1546.7867963\ttotal: 1m 49s\tremaining: 52.7s\n",
      "676:\tlearn: 1546.7709662\ttotal: 1m 50s\tremaining: 52.5s\n",
      "677:\tlearn: 1546.6041307\ttotal: 1m 50s\tremaining: 52.4s\n",
      "678:\tlearn: 1546.5202497\ttotal: 1m 50s\tremaining: 52.2s\n",
      "679:\tlearn: 1546.3586184\ttotal: 1m 50s\tremaining: 52s\n",
      "680:\tlearn: 1546.1252924\ttotal: 1m 50s\tremaining: 51.9s\n",
      "681:\tlearn: 1546.0898681\ttotal: 1m 50s\tremaining: 51.7s\n",
      "682:\tlearn: 1545.9676866\ttotal: 1m 51s\tremaining: 51.6s\n",
      "683:\tlearn: 1545.9209451\ttotal: 1m 51s\tremaining: 51.4s\n",
      "684:\tlearn: 1545.8274278\ttotal: 1m 51s\tremaining: 51.3s\n",
      "685:\tlearn: 1545.7810408\ttotal: 1m 51s\tremaining: 51.1s\n",
      "686:\tlearn: 1545.7352124\ttotal: 1m 51s\tremaining: 50.9s\n",
      "687:\tlearn: 1545.6382628\ttotal: 1m 51s\tremaining: 50.8s\n",
      "688:\tlearn: 1545.6191478\ttotal: 1m 52s\tremaining: 50.6s\n",
      "689:\tlearn: 1545.5567229\ttotal: 1m 52s\tremaining: 50.4s\n",
      "690:\tlearn: 1545.3399859\ttotal: 1m 52s\tremaining: 50.3s\n",
      "691:\tlearn: 1545.2120265\ttotal: 1m 52s\tremaining: 50.1s\n",
      "692:\tlearn: 1545.1723416\ttotal: 1m 52s\tremaining: 49.9s\n",
      "693:\tlearn: 1545.1468320\ttotal: 1m 52s\tremaining: 49.8s\n",
      "694:\tlearn: 1545.0139777\ttotal: 1m 53s\tremaining: 49.7s\n",
      "695:\tlearn: 1544.9316928\ttotal: 1m 53s\tremaining: 49.5s\n",
      "696:\tlearn: 1544.6325271\ttotal: 1m 53s\tremaining: 49.3s\n",
      "697:\tlearn: 1544.4596954\ttotal: 1m 53s\tremaining: 49.2s\n",
      "698:\tlearn: 1544.2598799\ttotal: 1m 53s\tremaining: 49s\n",
      "699:\tlearn: 1544.2151195\ttotal: 1m 54s\tremaining: 48.9s\n",
      "700:\tlearn: 1544.0891680\ttotal: 1m 54s\tremaining: 48.7s\n",
      "701:\tlearn: 1543.7743161\ttotal: 1m 54s\tremaining: 48.6s\n",
      "702:\tlearn: 1543.7040618\ttotal: 1m 54s\tremaining: 48.4s\n",
      "703:\tlearn: 1543.5701345\ttotal: 1m 54s\tremaining: 48.2s\n",
      "704:\tlearn: 1543.5184423\ttotal: 1m 54s\tremaining: 48.1s\n",
      "705:\tlearn: 1543.3042009\ttotal: 1m 55s\tremaining: 47.9s\n",
      "706:\tlearn: 1543.1775192\ttotal: 1m 55s\tremaining: 47.7s\n",
      "707:\tlearn: 1543.0648939\ttotal: 1m 55s\tremaining: 47.6s\n",
      "708:\tlearn: 1542.8760387\ttotal: 1m 55s\tremaining: 47.4s\n",
      "709:\tlearn: 1542.8220321\ttotal: 1m 55s\tremaining: 47.3s\n",
      "710:\tlearn: 1542.7869217\ttotal: 1m 55s\tremaining: 47.1s\n",
      "711:\tlearn: 1542.7131446\ttotal: 1m 56s\tremaining: 47s\n",
      "712:\tlearn: 1542.5596215\ttotal: 1m 56s\tremaining: 46.8s\n",
      "713:\tlearn: 1542.4786621\ttotal: 1m 56s\tremaining: 46.6s\n",
      "714:\tlearn: 1542.3636617\ttotal: 1m 56s\tremaining: 46.5s\n",
      "715:\tlearn: 1542.2309276\ttotal: 1m 56s\tremaining: 46.3s\n",
      "716:\tlearn: 1542.1830968\ttotal: 1m 56s\tremaining: 46.2s\n",
      "717:\tlearn: 1542.1494521\ttotal: 1m 57s\tremaining: 46s\n",
      "718:\tlearn: 1541.8839400\ttotal: 1m 57s\tremaining: 45.8s\n",
      "719:\tlearn: 1541.7079306\ttotal: 1m 57s\tremaining: 45.7s\n",
      "720:\tlearn: 1541.6035112\ttotal: 1m 57s\tremaining: 45.5s\n",
      "721:\tlearn: 1541.5411001\ttotal: 1m 57s\tremaining: 45.3s\n",
      "722:\tlearn: 1541.4470512\ttotal: 1m 57s\tremaining: 45.1s\n",
      "723:\tlearn: 1541.3066496\ttotal: 1m 57s\tremaining: 45s\n",
      "724:\tlearn: 1541.0498332\ttotal: 1m 58s\tremaining: 44.8s\n",
      "725:\tlearn: 1540.9920236\ttotal: 1m 58s\tremaining: 44.6s\n",
      "726:\tlearn: 1540.8247852\ttotal: 1m 58s\tremaining: 44.5s\n",
      "727:\tlearn: 1540.6215412\ttotal: 1m 58s\tremaining: 44.3s\n",
      "728:\tlearn: 1540.4627299\ttotal: 1m 58s\tremaining: 44.1s\n",
      "729:\tlearn: 1540.3069209\ttotal: 1m 58s\tremaining: 44s\n",
      "730:\tlearn: 1540.0800076\ttotal: 1m 59s\tremaining: 43.8s\n",
      "731:\tlearn: 1539.8895705\ttotal: 1m 59s\tremaining: 43.7s\n",
      "732:\tlearn: 1539.8108273\ttotal: 1m 59s\tremaining: 43.5s\n",
      "733:\tlearn: 1539.7456225\ttotal: 1m 59s\tremaining: 43.3s\n",
      "734:\tlearn: 1539.6957344\ttotal: 1m 59s\tremaining: 43.2s\n",
      "735:\tlearn: 1539.5027130\ttotal: 1m 59s\tremaining: 43s\n",
      "736:\tlearn: 1539.4636304\ttotal: 2m\tremaining: 42.8s\n",
      "737:\tlearn: 1539.3798793\ttotal: 2m\tremaining: 42.7s\n"
     ]
    },
    {
     "name": "stdout",
     "output_type": "stream",
     "text": [
      "738:\tlearn: 1539.3069736\ttotal: 2m\tremaining: 42.5s\n",
      "739:\tlearn: 1539.2742166\ttotal: 2m\tremaining: 42.3s\n",
      "740:\tlearn: 1539.0227417\ttotal: 2m\tremaining: 42.2s\n",
      "741:\tlearn: 1538.8238253\ttotal: 2m\tremaining: 42s\n",
      "742:\tlearn: 1538.6150920\ttotal: 2m\tremaining: 41.8s\n",
      "743:\tlearn: 1538.5169308\ttotal: 2m 1s\tremaining: 41.7s\n",
      "744:\tlearn: 1538.4556542\ttotal: 2m 1s\tremaining: 41.5s\n",
      "745:\tlearn: 1538.3911403\ttotal: 2m 1s\tremaining: 41.3s\n",
      "746:\tlearn: 1538.1935205\ttotal: 2m 1s\tremaining: 41.2s\n",
      "747:\tlearn: 1538.0349001\ttotal: 2m 1s\tremaining: 41s\n",
      "748:\tlearn: 1537.8528730\ttotal: 2m 1s\tremaining: 40.9s\n",
      "749:\tlearn: 1537.7776521\ttotal: 2m 2s\tremaining: 40.7s\n",
      "750:\tlearn: 1537.7205188\ttotal: 2m 2s\tremaining: 40.6s\n",
      "751:\tlearn: 1537.6148013\ttotal: 2m 2s\tremaining: 40.4s\n",
      "752:\tlearn: 1537.5574168\ttotal: 2m 2s\tremaining: 40.2s\n",
      "753:\tlearn: 1537.3995627\ttotal: 2m 2s\tremaining: 40.1s\n",
      "754:\tlearn: 1537.1560252\ttotal: 2m 3s\tremaining: 39.9s\n",
      "755:\tlearn: 1537.0088841\ttotal: 2m 3s\tremaining: 39.8s\n",
      "756:\tlearn: 1536.9787605\ttotal: 2m 3s\tremaining: 39.6s\n",
      "757:\tlearn: 1536.7787201\ttotal: 2m 3s\tremaining: 39.4s\n",
      "758:\tlearn: 1536.6438101\ttotal: 2m 3s\tremaining: 39.3s\n",
      "759:\tlearn: 1536.4592120\ttotal: 2m 3s\tremaining: 39.1s\n",
      "760:\tlearn: 1536.3447661\ttotal: 2m 4s\tremaining: 39s\n",
      "761:\tlearn: 1536.3011888\ttotal: 2m 4s\tremaining: 38.8s\n",
      "762:\tlearn: 1536.1763450\ttotal: 2m 4s\tremaining: 38.7s\n",
      "763:\tlearn: 1536.1174183\ttotal: 2m 4s\tremaining: 38.5s\n",
      "764:\tlearn: 1535.9838722\ttotal: 2m 4s\tremaining: 38.3s\n",
      "765:\tlearn: 1535.9583943\ttotal: 2m 4s\tremaining: 38.2s\n",
      "766:\tlearn: 1535.9414381\ttotal: 2m 5s\tremaining: 38s\n",
      "767:\tlearn: 1535.5593229\ttotal: 2m 5s\tremaining: 37.8s\n",
      "768:\tlearn: 1535.3472684\ttotal: 2m 5s\tremaining: 37.7s\n",
      "769:\tlearn: 1535.3096524\ttotal: 2m 5s\tremaining: 37.5s\n",
      "770:\tlearn: 1535.1719841\ttotal: 2m 5s\tremaining: 37.4s\n",
      "771:\tlearn: 1535.1630480\ttotal: 2m 5s\tremaining: 37.2s\n",
      "772:\tlearn: 1534.9867637\ttotal: 2m 6s\tremaining: 37s\n",
      "773:\tlearn: 1534.9491248\ttotal: 2m 6s\tremaining: 36.9s\n",
      "774:\tlearn: 1534.8264765\ttotal: 2m 6s\tremaining: 36.7s\n",
      "775:\tlearn: 1534.6683126\ttotal: 2m 6s\tremaining: 36.5s\n",
      "776:\tlearn: 1534.5171719\ttotal: 2m 6s\tremaining: 36.4s\n",
      "777:\tlearn: 1534.4615788\ttotal: 2m 6s\tremaining: 36.2s\n",
      "778:\tlearn: 1534.4055717\ttotal: 2m 6s\tremaining: 36s\n",
      "779:\tlearn: 1534.3016800\ttotal: 2m 7s\tremaining: 35.9s\n",
      "780:\tlearn: 1534.2526056\ttotal: 2m 7s\tremaining: 35.7s\n",
      "781:\tlearn: 1534.1399718\ttotal: 2m 7s\tremaining: 35.5s\n",
      "782:\tlearn: 1534.0348933\ttotal: 2m 7s\tremaining: 35.4s\n",
      "783:\tlearn: 1533.8936740\ttotal: 2m 7s\tremaining: 35.2s\n",
      "784:\tlearn: 1533.8284579\ttotal: 2m 7s\tremaining: 35s\n",
      "785:\tlearn: 1533.6316335\ttotal: 2m 7s\tremaining: 34.8s\n",
      "786:\tlearn: 1533.5715983\ttotal: 2m 8s\tremaining: 34.7s\n",
      "787:\tlearn: 1533.4840711\ttotal: 2m 8s\tremaining: 34.5s\n",
      "788:\tlearn: 1533.4259460\ttotal: 2m 8s\tremaining: 34.4s\n",
      "789:\tlearn: 1533.3900052\ttotal: 2m 8s\tremaining: 34.2s\n",
      "790:\tlearn: 1533.3615201\ttotal: 2m 8s\tremaining: 34.1s\n",
      "791:\tlearn: 1533.1099364\ttotal: 2m 9s\tremaining: 33.9s\n",
      "792:\tlearn: 1532.9494430\ttotal: 2m 9s\tremaining: 33.7s\n",
      "793:\tlearn: 1532.7247040\ttotal: 2m 9s\tremaining: 33.6s\n",
      "794:\tlearn: 1532.5685121\ttotal: 2m 9s\tremaining: 33.4s\n",
      "795:\tlearn: 1532.3309114\ttotal: 2m 9s\tremaining: 33.3s\n",
      "796:\tlearn: 1532.2676315\ttotal: 2m 9s\tremaining: 33.1s\n",
      "797:\tlearn: 1532.1223978\ttotal: 2m 10s\tremaining: 32.9s\n",
      "798:\tlearn: 1532.0568221\ttotal: 2m 10s\tremaining: 32.8s\n",
      "799:\tlearn: 1531.8914851\ttotal: 2m 10s\tremaining: 32.6s\n",
      "800:\tlearn: 1531.7155997\ttotal: 2m 10s\tremaining: 32.5s\n",
      "801:\tlearn: 1531.6611543\ttotal: 2m 10s\tremaining: 32.3s\n",
      "802:\tlearn: 1531.5128020\ttotal: 2m 10s\tremaining: 32.1s\n",
      "803:\tlearn: 1531.4195868\ttotal: 2m 11s\tremaining: 32s\n",
      "804:\tlearn: 1531.2320846\ttotal: 2m 11s\tremaining: 31.8s\n",
      "805:\tlearn: 1531.1743195\ttotal: 2m 11s\tremaining: 31.7s\n",
      "806:\tlearn: 1531.1457915\ttotal: 2m 11s\tremaining: 31.5s\n",
      "807:\tlearn: 1530.8801665\ttotal: 2m 11s\tremaining: 31.3s\n",
      "808:\tlearn: 1530.7952912\ttotal: 2m 12s\tremaining: 31.2s\n",
      "809:\tlearn: 1530.6313835\ttotal: 2m 12s\tremaining: 31s\n",
      "810:\tlearn: 1530.5123388\ttotal: 2m 12s\tremaining: 30.8s\n",
      "811:\tlearn: 1530.4889140\ttotal: 2m 12s\tremaining: 30.7s\n",
      "812:\tlearn: 1530.3413798\ttotal: 2m 12s\tremaining: 30.5s\n",
      "813:\tlearn: 1530.2126361\ttotal: 2m 12s\tremaining: 30.4s\n",
      "814:\tlearn: 1530.0720003\ttotal: 2m 13s\tremaining: 30.2s\n",
      "815:\tlearn: 1529.9556960\ttotal: 2m 13s\tremaining: 30.1s\n",
      "816:\tlearn: 1529.8660932\ttotal: 2m 13s\tremaining: 29.9s\n",
      "817:\tlearn: 1529.7294214\ttotal: 2m 13s\tremaining: 29.7s\n",
      "818:\tlearn: 1529.4320515\ttotal: 2m 13s\tremaining: 29.6s\n",
      "819:\tlearn: 1529.4204156\ttotal: 2m 13s\tremaining: 29.4s\n",
      "820:\tlearn: 1529.3047760\ttotal: 2m 14s\tremaining: 29.2s\n",
      "821:\tlearn: 1529.2376648\ttotal: 2m 14s\tremaining: 29.1s\n",
      "822:\tlearn: 1529.1455085\ttotal: 2m 14s\tremaining: 28.9s\n",
      "823:\tlearn: 1528.9544156\ttotal: 2m 14s\tremaining: 28.8s\n",
      "824:\tlearn: 1528.7795893\ttotal: 2m 14s\tremaining: 28.6s\n",
      "825:\tlearn: 1528.7613320\ttotal: 2m 14s\tremaining: 28.4s\n",
      "826:\tlearn: 1528.6462181\ttotal: 2m 15s\tremaining: 28.3s\n",
      "827:\tlearn: 1528.5742863\ttotal: 2m 15s\tremaining: 28.1s\n",
      "828:\tlearn: 1528.5153529\ttotal: 2m 15s\tremaining: 27.9s\n",
      "829:\tlearn: 1528.3075539\ttotal: 2m 15s\tremaining: 27.8s\n",
      "830:\tlearn: 1528.2614886\ttotal: 2m 15s\tremaining: 27.6s\n",
      "831:\tlearn: 1528.0861901\ttotal: 2m 15s\tremaining: 27.4s\n",
      "832:\tlearn: 1528.0326958\ttotal: 2m 16s\tremaining: 27.3s\n",
      "833:\tlearn: 1527.9547639\ttotal: 2m 16s\tremaining: 27.1s\n",
      "834:\tlearn: 1527.8583371\ttotal: 2m 16s\tremaining: 26.9s\n",
      "835:\tlearn: 1527.6880560\ttotal: 2m 16s\tremaining: 26.8s\n",
      "836:\tlearn: 1527.6061750\ttotal: 2m 16s\tremaining: 26.6s\n",
      "837:\tlearn: 1527.5266948\ttotal: 2m 16s\tremaining: 26.5s\n",
      "838:\tlearn: 1527.4402498\ttotal: 2m 17s\tremaining: 26.3s\n",
      "839:\tlearn: 1527.2605341\ttotal: 2m 17s\tremaining: 26.1s\n",
      "840:\tlearn: 1527.1736278\ttotal: 2m 17s\tremaining: 26s\n",
      "841:\tlearn: 1527.1373928\ttotal: 2m 17s\tremaining: 25.8s\n",
      "842:\tlearn: 1527.0266483\ttotal: 2m 17s\tremaining: 25.7s\n",
      "843:\tlearn: 1527.0162188\ttotal: 2m 17s\tremaining: 25.5s\n",
      "844:\tlearn: 1526.9701712\ttotal: 2m 18s\tremaining: 25.3s\n",
      "845:\tlearn: 1526.8901910\ttotal: 2m 18s\tremaining: 25.2s\n",
      "846:\tlearn: 1526.7376836\ttotal: 2m 18s\tremaining: 25s\n",
      "847:\tlearn: 1526.5830799\ttotal: 2m 18s\tremaining: 24.8s\n",
      "848:\tlearn: 1526.4517826\ttotal: 2m 18s\tremaining: 24.7s\n",
      "849:\tlearn: 1526.2800710\ttotal: 2m 18s\tremaining: 24.5s\n",
      "850:\tlearn: 1526.0899025\ttotal: 2m 19s\tremaining: 24.3s\n",
      "851:\tlearn: 1525.9317779\ttotal: 2m 19s\tremaining: 24.2s\n",
      "852:\tlearn: 1525.6301426\ttotal: 2m 19s\tremaining: 24s\n",
      "853:\tlearn: 1525.4701855\ttotal: 2m 19s\tremaining: 23.9s\n",
      "854:\tlearn: 1525.3087827\ttotal: 2m 19s\tremaining: 23.7s\n",
      "855:\tlearn: 1525.2765420\ttotal: 2m 19s\tremaining: 23.5s\n",
      "856:\tlearn: 1525.1996625\ttotal: 2m 20s\tremaining: 23.4s\n",
      "857:\tlearn: 1525.1536009\ttotal: 2m 20s\tremaining: 23.2s\n",
      "858:\tlearn: 1524.9879563\ttotal: 2m 20s\tremaining: 23s\n",
      "859:\tlearn: 1524.9509534\ttotal: 2m 20s\tremaining: 22.9s\n",
      "860:\tlearn: 1524.7593680\ttotal: 2m 20s\tremaining: 22.7s\n",
      "861:\tlearn: 1524.7320943\ttotal: 2m 20s\tremaining: 22.6s\n",
      "862:\tlearn: 1524.7180553\ttotal: 2m 21s\tremaining: 22.4s\n",
      "863:\tlearn: 1524.5205025\ttotal: 2m 21s\tremaining: 22.2s\n",
      "864:\tlearn: 1524.4210105\ttotal: 2m 21s\tremaining: 22.1s\n",
      "865:\tlearn: 1524.3685978\ttotal: 2m 21s\tremaining: 21.9s\n",
      "866:\tlearn: 1524.3097855\ttotal: 2m 21s\tremaining: 21.8s\n",
      "867:\tlearn: 1524.1977612\ttotal: 2m 22s\tremaining: 21.6s\n",
      "868:\tlearn: 1524.1231925\ttotal: 2m 22s\tremaining: 21.4s\n",
      "869:\tlearn: 1524.0411148\ttotal: 2m 22s\tremaining: 21.3s\n",
      "870:\tlearn: 1523.9745316\ttotal: 2m 22s\tremaining: 21.1s\n",
      "871:\tlearn: 1523.8104178\ttotal: 2m 22s\tremaining: 20.9s\n",
      "872:\tlearn: 1523.6121938\ttotal: 2m 22s\tremaining: 20.8s\n",
      "873:\tlearn: 1523.5141133\ttotal: 2m 23s\tremaining: 20.6s\n",
      "874:\tlearn: 1523.3164649\ttotal: 2m 23s\tremaining: 20.4s\n",
      "875:\tlearn: 1523.1063845\ttotal: 2m 23s\tremaining: 20.3s\n",
      "876:\tlearn: 1522.9999414\ttotal: 2m 23s\tremaining: 20.1s\n",
      "877:\tlearn: 1522.9223725\ttotal: 2m 23s\tremaining: 20s\n",
      "878:\tlearn: 1522.8583749\ttotal: 2m 23s\tremaining: 19.8s\n",
      "879:\tlearn: 1522.7513402\ttotal: 2m 23s\tremaining: 19.6s\n",
      "880:\tlearn: 1522.7232322\ttotal: 2m 24s\tremaining: 19.5s\n",
      "881:\tlearn: 1522.6992235\ttotal: 2m 24s\tremaining: 19.3s\n",
      "882:\tlearn: 1522.5442623\ttotal: 2m 24s\tremaining: 19.1s\n",
      "883:\tlearn: 1522.4576751\ttotal: 2m 24s\tremaining: 19s\n",
      "884:\tlearn: 1522.3119326\ttotal: 2m 24s\tremaining: 18.8s\n",
      "885:\tlearn: 1522.0738537\ttotal: 2m 24s\tremaining: 18.6s\n",
      "886:\tlearn: 1521.9926432\ttotal: 2m 25s\tremaining: 18.5s\n",
      "887:\tlearn: 1521.9714929\ttotal: 2m 25s\tremaining: 18.3s\n"
     ]
    },
    {
     "name": "stdout",
     "output_type": "stream",
     "text": [
      "888:\tlearn: 1521.8956702\ttotal: 2m 25s\tremaining: 18.2s\n",
      "889:\tlearn: 1521.7144318\ttotal: 2m 25s\tremaining: 18s\n",
      "890:\tlearn: 1521.5690872\ttotal: 2m 25s\tremaining: 17.8s\n",
      "891:\tlearn: 1521.5046409\ttotal: 2m 25s\tremaining: 17.7s\n",
      "892:\tlearn: 1521.4050899\ttotal: 2m 26s\tremaining: 17.5s\n",
      "893:\tlearn: 1521.3336477\ttotal: 2m 26s\tremaining: 17.3s\n",
      "894:\tlearn: 1521.2278737\ttotal: 2m 26s\tremaining: 17.2s\n",
      "895:\tlearn: 1521.0913263\ttotal: 2m 26s\tremaining: 17s\n",
      "896:\tlearn: 1521.0818397\ttotal: 2m 26s\tremaining: 16.9s\n",
      "897:\tlearn: 1521.0726060\ttotal: 2m 27s\tremaining: 16.7s\n",
      "898:\tlearn: 1520.9801659\ttotal: 2m 27s\tremaining: 16.5s\n",
      "899:\tlearn: 1520.9646787\ttotal: 2m 27s\tremaining: 16.4s\n",
      "900:\tlearn: 1520.8853925\ttotal: 2m 27s\tremaining: 16.2s\n",
      "901:\tlearn: 1520.7772485\ttotal: 2m 27s\tremaining: 16s\n",
      "902:\tlearn: 1520.5593030\ttotal: 2m 27s\tremaining: 15.9s\n",
      "903:\tlearn: 1520.3261388\ttotal: 2m 27s\tremaining: 15.7s\n",
      "904:\tlearn: 1520.2860334\ttotal: 2m 28s\tremaining: 15.5s\n",
      "905:\tlearn: 1520.1430911\ttotal: 2m 28s\tremaining: 15.4s\n",
      "906:\tlearn: 1520.1349517\ttotal: 2m 28s\tremaining: 15.2s\n",
      "907:\tlearn: 1520.0579384\ttotal: 2m 28s\tremaining: 15s\n",
      "908:\tlearn: 1519.8237930\ttotal: 2m 28s\tremaining: 14.9s\n",
      "909:\tlearn: 1519.7620659\ttotal: 2m 28s\tremaining: 14.7s\n",
      "910:\tlearn: 1519.6891144\ttotal: 2m 28s\tremaining: 14.6s\n",
      "911:\tlearn: 1519.5243059\ttotal: 2m 29s\tremaining: 14.4s\n",
      "912:\tlearn: 1519.4539536\ttotal: 2m 29s\tremaining: 14.2s\n",
      "913:\tlearn: 1519.3691771\ttotal: 2m 29s\tremaining: 14.1s\n",
      "914:\tlearn: 1519.1651137\ttotal: 2m 29s\tremaining: 13.9s\n",
      "915:\tlearn: 1519.1144825\ttotal: 2m 29s\tremaining: 13.7s\n",
      "916:\tlearn: 1518.9589241\ttotal: 2m 29s\tremaining: 13.6s\n",
      "917:\tlearn: 1518.9151254\ttotal: 2m 30s\tremaining: 13.4s\n",
      "918:\tlearn: 1518.7643795\ttotal: 2m 30s\tremaining: 13.2s\n",
      "919:\tlearn: 1518.7210048\ttotal: 2m 30s\tremaining: 13.1s\n",
      "920:\tlearn: 1518.6191302\ttotal: 2m 30s\tremaining: 12.9s\n",
      "921:\tlearn: 1518.5294350\ttotal: 2m 30s\tremaining: 12.8s\n",
      "922:\tlearn: 1518.5098535\ttotal: 2m 30s\tremaining: 12.6s\n",
      "923:\tlearn: 1518.4174230\ttotal: 2m 31s\tremaining: 12.4s\n",
      "924:\tlearn: 1518.3477009\ttotal: 2m 31s\tremaining: 12.3s\n",
      "925:\tlearn: 1518.2972644\ttotal: 2m 31s\tremaining: 12.1s\n",
      "926:\tlearn: 1517.7912876\ttotal: 2m 31s\tremaining: 11.9s\n",
      "927:\tlearn: 1517.6653809\ttotal: 2m 31s\tremaining: 11.8s\n",
      "928:\tlearn: 1517.5705060\ttotal: 2m 32s\tremaining: 11.6s\n",
      "929:\tlearn: 1517.4307474\ttotal: 2m 32s\tremaining: 11.5s\n",
      "930:\tlearn: 1517.3007771\ttotal: 2m 32s\tremaining: 11.3s\n",
      "931:\tlearn: 1517.2802098\ttotal: 2m 32s\tremaining: 11.1s\n",
      "932:\tlearn: 1517.2240444\ttotal: 2m 32s\tremaining: 11s\n",
      "933:\tlearn: 1517.0849399\ttotal: 2m 32s\tremaining: 10.8s\n",
      "934:\tlearn: 1516.9754146\ttotal: 2m 33s\tremaining: 10.6s\n",
      "935:\tlearn: 1516.9039026\ttotal: 2m 33s\tremaining: 10.5s\n",
      "936:\tlearn: 1516.8636458\ttotal: 2m 33s\tremaining: 10.3s\n",
      "937:\tlearn: 1516.7033981\ttotal: 2m 33s\tremaining: 10.2s\n",
      "938:\tlearn: 1516.6545021\ttotal: 2m 33s\tremaining: 9.99s\n",
      "939:\tlearn: 1516.5228091\ttotal: 2m 33s\tremaining: 9.82s\n",
      "940:\tlearn: 1516.4649168\ttotal: 2m 34s\tremaining: 9.66s\n",
      "941:\tlearn: 1516.3482002\ttotal: 2m 34s\tremaining: 9.5s\n",
      "942:\tlearn: 1516.2012411\ttotal: 2m 34s\tremaining: 9.33s\n",
      "943:\tlearn: 1516.1929782\ttotal: 2m 34s\tremaining: 9.17s\n",
      "944:\tlearn: 1515.9047213\ttotal: 2m 34s\tremaining: 9s\n",
      "945:\tlearn: 1515.8100155\ttotal: 2m 34s\tremaining: 8.84s\n",
      "946:\tlearn: 1515.7991770\ttotal: 2m 34s\tremaining: 8.67s\n",
      "947:\tlearn: 1515.6779981\ttotal: 2m 35s\tremaining: 8.51s\n",
      "948:\tlearn: 1515.6678075\ttotal: 2m 35s\tremaining: 8.35s\n",
      "949:\tlearn: 1515.5886466\ttotal: 2m 35s\tremaining: 8.18s\n",
      "950:\tlearn: 1515.5352862\ttotal: 2m 35s\tremaining: 8.02s\n",
      "951:\tlearn: 1515.4151216\ttotal: 2m 35s\tremaining: 7.86s\n",
      "952:\tlearn: 1515.3671880\ttotal: 2m 35s\tremaining: 7.69s\n",
      "953:\tlearn: 1515.2927386\ttotal: 2m 36s\tremaining: 7.53s\n",
      "954:\tlearn: 1515.1695521\ttotal: 2m 36s\tremaining: 7.37s\n",
      "955:\tlearn: 1515.0762203\ttotal: 2m 36s\tremaining: 7.2s\n",
      "956:\tlearn: 1514.9685054\ttotal: 2m 36s\tremaining: 7.04s\n",
      "957:\tlearn: 1514.7972183\ttotal: 2m 36s\tremaining: 6.87s\n",
      "958:\tlearn: 1514.7564054\ttotal: 2m 36s\tremaining: 6.71s\n",
      "959:\tlearn: 1514.6520810\ttotal: 2m 37s\tremaining: 6.54s\n",
      "960:\tlearn: 1514.5739787\ttotal: 2m 37s\tremaining: 6.38s\n",
      "961:\tlearn: 1514.5262546\ttotal: 2m 37s\tremaining: 6.22s\n",
      "962:\tlearn: 1514.4865979\ttotal: 2m 37s\tremaining: 6.05s\n",
      "963:\tlearn: 1514.4106624\ttotal: 2m 37s\tremaining: 5.89s\n",
      "964:\tlearn: 1514.3178586\ttotal: 2m 37s\tremaining: 5.73s\n",
      "965:\tlearn: 1514.2907414\ttotal: 2m 38s\tremaining: 5.56s\n",
      "966:\tlearn: 1514.1887064\ttotal: 2m 38s\tremaining: 5.4s\n",
      "967:\tlearn: 1514.0682115\ttotal: 2m 38s\tremaining: 5.24s\n",
      "968:\tlearn: 1514.0347884\ttotal: 2m 38s\tremaining: 5.07s\n",
      "969:\tlearn: 1513.9151617\ttotal: 2m 38s\tremaining: 4.91s\n",
      "970:\tlearn: 1513.7919269\ttotal: 2m 38s\tremaining: 4.74s\n",
      "971:\tlearn: 1513.7080311\ttotal: 2m 39s\tremaining: 4.58s\n",
      "972:\tlearn: 1513.6050912\ttotal: 2m 39s\tremaining: 4.42s\n",
      "973:\tlearn: 1513.3967815\ttotal: 2m 39s\tremaining: 4.25s\n",
      "974:\tlearn: 1513.2566332\ttotal: 2m 39s\tremaining: 4.09s\n",
      "975:\tlearn: 1513.2045225\ttotal: 2m 39s\tremaining: 3.93s\n",
      "976:\tlearn: 1513.0775638\ttotal: 2m 39s\tremaining: 3.76s\n",
      "977:\tlearn: 1513.0473798\ttotal: 2m 40s\tremaining: 3.6s\n",
      "978:\tlearn: 1513.0063708\ttotal: 2m 40s\tremaining: 3.44s\n",
      "979:\tlearn: 1512.8059976\ttotal: 2m 40s\tremaining: 3.27s\n",
      "980:\tlearn: 1512.7500684\ttotal: 2m 40s\tremaining: 3.11s\n",
      "981:\tlearn: 1512.7064711\ttotal: 2m 40s\tremaining: 2.95s\n",
      "982:\tlearn: 1512.5600045\ttotal: 2m 40s\tremaining: 2.78s\n",
      "983:\tlearn: 1512.5143789\ttotal: 2m 41s\tremaining: 2.62s\n",
      "984:\tlearn: 1512.4065892\ttotal: 2m 41s\tremaining: 2.46s\n",
      "985:\tlearn: 1512.3592273\ttotal: 2m 41s\tremaining: 2.29s\n",
      "986:\tlearn: 1512.2774279\ttotal: 2m 41s\tremaining: 2.13s\n",
      "987:\tlearn: 1512.2449151\ttotal: 2m 41s\tremaining: 1.96s\n",
      "988:\tlearn: 1512.2369390\ttotal: 2m 41s\tremaining: 1.8s\n",
      "989:\tlearn: 1512.2143431\ttotal: 2m 42s\tremaining: 1.64s\n",
      "990:\tlearn: 1512.1696612\ttotal: 2m 42s\tremaining: 1.47s\n",
      "991:\tlearn: 1512.0920237\ttotal: 2m 42s\tremaining: 1.31s\n",
      "992:\tlearn: 1511.9352921\ttotal: 2m 42s\tremaining: 1.15s\n",
      "993:\tlearn: 1511.9075890\ttotal: 2m 42s\tremaining: 982ms\n",
      "994:\tlearn: 1511.8807222\ttotal: 2m 42s\tremaining: 818ms\n",
      "995:\tlearn: 1511.8058322\ttotal: 2m 42s\tremaining: 654ms\n",
      "996:\tlearn: 1511.7007146\ttotal: 2m 43s\tremaining: 491ms\n",
      "997:\tlearn: 1511.6661326\ttotal: 2m 43s\tremaining: 327ms\n",
      "998:\tlearn: 1511.6240817\ttotal: 2m 43s\tremaining: 164ms\n",
      "999:\tlearn: 1511.6010789\ttotal: 2m 43s\tremaining: 0us\n",
      "[CV 1/3; 1/2] END .....learning_rate=0.1, random_state=12345; total time= 2.8min\n",
      "[CV 2/3; 1/2] START learning_rate=0.1, random_state=12345.......................\n",
      "0:\tlearn: 4144.6108610\ttotal: 212ms\tremaining: 3m 31s\n",
      "1:\tlearn: 3891.9736125\ttotal: 402ms\tremaining: 3m 20s\n",
      "2:\tlearn: 3666.8940744\ttotal: 655ms\tremaining: 3m 37s\n",
      "3:\tlearn: 3472.9745529\ttotal: 869ms\tremaining: 3m 36s\n",
      "4:\tlearn: 3299.9240425\ttotal: 1.05s\tremaining: 3m 28s\n",
      "5:\tlearn: 3144.1813899\ttotal: 1.24s\tremaining: 3m 25s\n",
      "6:\tlearn: 3010.3523569\ttotal: 1.39s\tremaining: 3m 16s\n",
      "7:\tlearn: 2893.1262392\ttotal: 1.56s\tremaining: 3m 13s\n",
      "8:\tlearn: 2785.2745698\ttotal: 1.74s\tremaining: 3m 11s\n",
      "9:\tlearn: 2691.7897001\ttotal: 1.93s\tremaining: 3m 11s\n",
      "10:\tlearn: 2604.6106199\ttotal: 2.09s\tremaining: 3m 7s\n",
      "11:\tlearn: 2534.8550431\ttotal: 2.25s\tremaining: 3m 5s\n",
      "12:\tlearn: 2472.8740164\ttotal: 2.43s\tremaining: 3m 4s\n",
      "13:\tlearn: 2409.3618319\ttotal: 2.65s\tremaining: 3m 6s\n",
      "14:\tlearn: 2357.4971631\ttotal: 2.8s\tremaining: 3m 3s\n",
      "15:\tlearn: 2305.3685264\ttotal: 2.94s\tremaining: 3m\n",
      "16:\tlearn: 2253.1451900\ttotal: 3.11s\tremaining: 2m 59s\n",
      "17:\tlearn: 2214.6072211\ttotal: 3.27s\tremaining: 2m 58s\n",
      "18:\tlearn: 2178.0418709\ttotal: 3.42s\tremaining: 2m 56s\n",
      "19:\tlearn: 2147.3466709\ttotal: 3.55s\tremaining: 2m 53s\n",
      "20:\tlearn: 2115.3455014\ttotal: 3.73s\tremaining: 2m 53s\n",
      "21:\tlearn: 2085.6638263\ttotal: 3.89s\tremaining: 2m 53s\n",
      "22:\tlearn: 2061.7491092\ttotal: 4.03s\tremaining: 2m 51s\n",
      "23:\tlearn: 2041.1607871\ttotal: 4.18s\tremaining: 2m 49s\n",
      "24:\tlearn: 2022.6613149\ttotal: 4.34s\tremaining: 2m 49s\n",
      "25:\tlearn: 2007.4636438\ttotal: 4.47s\tremaining: 2m 47s\n",
      "26:\tlearn: 1991.7663390\ttotal: 4.69s\tremaining: 2m 48s\n",
      "27:\tlearn: 1978.7225431\ttotal: 4.86s\tremaining: 2m 48s\n",
      "28:\tlearn: 1964.9775875\ttotal: 5.04s\tremaining: 2m 48s\n",
      "29:\tlearn: 1952.9931692\ttotal: 5.21s\tremaining: 2m 48s\n",
      "30:\tlearn: 1942.6175817\ttotal: 5.35s\tremaining: 2m 47s\n",
      "31:\tlearn: 1934.8187989\ttotal: 5.46s\tremaining: 2m 45s\n",
      "32:\tlearn: 1926.0440308\ttotal: 5.63s\tremaining: 2m 44s\n",
      "33:\tlearn: 1916.6984765\ttotal: 5.83s\tremaining: 2m 45s\n"
     ]
    },
    {
     "name": "stdout",
     "output_type": "stream",
     "text": [
      "34:\tlearn: 1910.2659414\ttotal: 5.96s\tremaining: 2m 44s\n",
      "35:\tlearn: 1904.3090816\ttotal: 6.13s\tremaining: 2m 44s\n",
      "36:\tlearn: 1897.0883400\ttotal: 6.32s\tremaining: 2m 44s\n",
      "37:\tlearn: 1891.7640811\ttotal: 6.49s\tremaining: 2m 44s\n",
      "38:\tlearn: 1886.3669917\ttotal: 6.68s\tremaining: 2m 44s\n",
      "39:\tlearn: 1879.2284650\ttotal: 6.76s\tremaining: 2m 42s\n",
      "40:\tlearn: 1874.0793803\ttotal: 6.92s\tremaining: 2m 41s\n",
      "41:\tlearn: 1869.1842037\ttotal: 7.12s\tremaining: 2m 42s\n",
      "42:\tlearn: 1862.0747608\ttotal: 7.25s\tremaining: 2m 41s\n",
      "43:\tlearn: 1857.2007119\ttotal: 7.41s\tremaining: 2m 41s\n",
      "44:\tlearn: 1852.4344682\ttotal: 7.59s\tremaining: 2m 41s\n",
      "45:\tlearn: 1847.8301828\ttotal: 7.71s\tremaining: 2m 39s\n",
      "46:\tlearn: 1845.0445482\ttotal: 7.84s\tremaining: 2m 39s\n",
      "47:\tlearn: 1840.4991608\ttotal: 8.06s\tremaining: 2m 39s\n",
      "48:\tlearn: 1837.1952377\ttotal: 8.21s\tremaining: 2m 39s\n",
      "49:\tlearn: 1833.4394211\ttotal: 8.38s\tremaining: 2m 39s\n",
      "50:\tlearn: 1830.7761817\ttotal: 8.54s\tremaining: 2m 38s\n",
      "51:\tlearn: 1827.8005114\ttotal: 8.71s\tremaining: 2m 38s\n",
      "52:\tlearn: 1822.7095728\ttotal: 8.88s\tremaining: 2m 38s\n",
      "53:\tlearn: 1819.4839059\ttotal: 9.03s\tremaining: 2m 38s\n",
      "54:\tlearn: 1815.3484038\ttotal: 9.15s\tremaining: 2m 37s\n",
      "55:\tlearn: 1812.1414314\ttotal: 9.33s\tremaining: 2m 37s\n",
      "56:\tlearn: 1809.5920679\ttotal: 9.53s\tremaining: 2m 37s\n",
      "57:\tlearn: 1807.2705286\ttotal: 9.64s\tremaining: 2m 36s\n",
      "58:\tlearn: 1804.9871573\ttotal: 9.84s\tremaining: 2m 36s\n",
      "59:\tlearn: 1802.3153057\ttotal: 10.2s\tremaining: 2m 39s\n",
      "60:\tlearn: 1800.7607918\ttotal: 10.3s\tremaining: 2m 38s\n",
      "61:\tlearn: 1799.3163282\ttotal: 10.5s\tremaining: 2m 39s\n",
      "62:\tlearn: 1796.8234250\ttotal: 10.7s\tremaining: 2m 38s\n",
      "63:\tlearn: 1794.7458644\ttotal: 10.8s\tremaining: 2m 38s\n",
      "64:\tlearn: 1793.1438298\ttotal: 11s\tremaining: 2m 38s\n",
      "65:\tlearn: 1791.7949619\ttotal: 11.1s\tremaining: 2m 37s\n",
      "66:\tlearn: 1790.4587539\ttotal: 11.3s\tremaining: 2m 37s\n",
      "67:\tlearn: 1788.7262811\ttotal: 11.5s\tremaining: 2m 37s\n",
      "68:\tlearn: 1785.4315964\ttotal: 11.6s\tremaining: 2m 36s\n",
      "69:\tlearn: 1783.0455564\ttotal: 11.7s\tremaining: 2m 35s\n",
      "70:\tlearn: 1781.6102785\ttotal: 11.9s\tremaining: 2m 35s\n",
      "71:\tlearn: 1778.7961837\ttotal: 12s\tremaining: 2m 35s\n",
      "72:\tlearn: 1777.3368166\ttotal: 12.2s\tremaining: 2m 34s\n",
      "73:\tlearn: 1775.5816203\ttotal: 12.3s\tremaining: 2m 34s\n",
      "74:\tlearn: 1773.9760170\ttotal: 12.5s\tremaining: 2m 34s\n",
      "75:\tlearn: 1772.8934849\ttotal: 12.7s\tremaining: 2m 33s\n",
      "76:\tlearn: 1771.0802990\ttotal: 12.8s\tremaining: 2m 33s\n",
      "77:\tlearn: 1769.3585711\ttotal: 13s\tremaining: 2m 33s\n",
      "78:\tlearn: 1767.5042690\ttotal: 13.1s\tremaining: 2m 33s\n",
      "79:\tlearn: 1766.0277178\ttotal: 13.3s\tremaining: 2m 33s\n",
      "80:\tlearn: 1765.0123816\ttotal: 13.5s\tremaining: 2m 32s\n",
      "81:\tlearn: 1763.9669850\ttotal: 13.6s\tremaining: 2m 32s\n",
      "82:\tlearn: 1762.5808590\ttotal: 13.7s\tremaining: 2m 31s\n",
      "83:\tlearn: 1759.7311447\ttotal: 13.9s\tremaining: 2m 31s\n",
      "84:\tlearn: 1758.1949541\ttotal: 14.1s\tremaining: 2m 31s\n",
      "85:\tlearn: 1757.0133956\ttotal: 14.2s\tremaining: 2m 30s\n",
      "86:\tlearn: 1755.1137229\ttotal: 14.4s\tremaining: 2m 30s\n",
      "87:\tlearn: 1753.5690283\ttotal: 14.5s\tremaining: 2m 30s\n",
      "88:\tlearn: 1751.7891750\ttotal: 14.6s\tremaining: 2m 29s\n",
      "89:\tlearn: 1749.8565634\ttotal: 14.8s\tremaining: 2m 29s\n",
      "90:\tlearn: 1748.5740544\ttotal: 15s\tremaining: 2m 29s\n",
      "91:\tlearn: 1747.3595907\ttotal: 15.2s\tremaining: 2m 29s\n",
      "92:\tlearn: 1745.8288910\ttotal: 15.3s\tremaining: 2m 29s\n",
      "93:\tlearn: 1744.7182683\ttotal: 15.5s\tremaining: 2m 29s\n",
      "94:\tlearn: 1743.1848356\ttotal: 15.7s\tremaining: 2m 29s\n",
      "95:\tlearn: 1742.1371132\ttotal: 15.8s\tremaining: 2m 28s\n",
      "96:\tlearn: 1741.0709933\ttotal: 15.9s\tremaining: 2m 28s\n",
      "97:\tlearn: 1739.3877097\ttotal: 16.1s\tremaining: 2m 28s\n",
      "98:\tlearn: 1737.4927989\ttotal: 16.2s\tremaining: 2m 27s\n",
      "99:\tlearn: 1736.6300463\ttotal: 16.4s\tremaining: 2m 27s\n",
      "100:\tlearn: 1735.2366375\ttotal: 16.6s\tremaining: 2m 27s\n",
      "101:\tlearn: 1733.9745567\ttotal: 16.7s\tremaining: 2m 27s\n",
      "102:\tlearn: 1732.7037554\ttotal: 16.8s\tremaining: 2m 26s\n",
      "103:\tlearn: 1730.9119951\ttotal: 17s\tremaining: 2m 26s\n",
      "104:\tlearn: 1730.0192520\ttotal: 17.1s\tremaining: 2m 25s\n",
      "105:\tlearn: 1729.0648948\ttotal: 17.3s\tremaining: 2m 25s\n",
      "106:\tlearn: 1727.4452216\ttotal: 17.4s\tremaining: 2m 25s\n",
      "107:\tlearn: 1726.1075289\ttotal: 17.6s\tremaining: 2m 25s\n",
      "108:\tlearn: 1724.6079316\ttotal: 17.8s\tremaining: 2m 25s\n",
      "109:\tlearn: 1724.0993313\ttotal: 18s\tremaining: 2m 25s\n",
      "110:\tlearn: 1723.4120265\ttotal: 18.2s\tremaining: 2m 25s\n",
      "111:\tlearn: 1721.9467021\ttotal: 18.3s\tremaining: 2m 25s\n",
      "112:\tlearn: 1720.9642727\ttotal: 18.5s\tremaining: 2m 25s\n",
      "113:\tlearn: 1719.9059580\ttotal: 18.7s\tremaining: 2m 25s\n",
      "114:\tlearn: 1719.6358279\ttotal: 18.8s\tremaining: 2m 24s\n",
      "115:\tlearn: 1718.3786343\ttotal: 18.9s\tremaining: 2m 24s\n",
      "116:\tlearn: 1717.6473874\ttotal: 19.1s\tremaining: 2m 24s\n",
      "117:\tlearn: 1716.4360175\ttotal: 19.2s\tremaining: 2m 23s\n",
      "118:\tlearn: 1715.7406032\ttotal: 19.3s\tremaining: 2m 23s\n",
      "119:\tlearn: 1714.6278288\ttotal: 19.4s\tremaining: 2m 22s\n",
      "120:\tlearn: 1713.7895273\ttotal: 19.6s\tremaining: 2m 22s\n",
      "121:\tlearn: 1712.1672363\ttotal: 19.8s\tremaining: 2m 22s\n",
      "122:\tlearn: 1711.6292319\ttotal: 19.9s\tremaining: 2m 21s\n",
      "123:\tlearn: 1710.6737648\ttotal: 20s\tremaining: 2m 21s\n",
      "124:\tlearn: 1709.4203044\ttotal: 20.2s\tremaining: 2m 21s\n",
      "125:\tlearn: 1708.8038927\ttotal: 20.3s\tremaining: 2m 21s\n",
      "126:\tlearn: 1707.9388092\ttotal: 20.5s\tremaining: 2m 20s\n",
      "127:\tlearn: 1707.0120776\ttotal: 20.7s\tremaining: 2m 20s\n",
      "128:\tlearn: 1705.8157323\ttotal: 20.8s\tremaining: 2m 20s\n",
      "129:\tlearn: 1704.5053436\ttotal: 21s\tremaining: 2m 20s\n",
      "130:\tlearn: 1703.8885757\ttotal: 21.1s\tremaining: 2m 20s\n",
      "131:\tlearn: 1703.3750078\ttotal: 21.2s\tremaining: 2m 19s\n",
      "132:\tlearn: 1702.8580176\ttotal: 21.4s\tremaining: 2m 19s\n",
      "133:\tlearn: 1701.5888122\ttotal: 21.5s\tremaining: 2m 19s\n",
      "134:\tlearn: 1700.6393181\ttotal: 21.7s\tremaining: 2m 19s\n",
      "135:\tlearn: 1699.7038738\ttotal: 21.9s\tremaining: 2m 19s\n",
      "136:\tlearn: 1698.7342761\ttotal: 22.1s\tremaining: 2m 18s\n",
      "137:\tlearn: 1697.8336363\ttotal: 22.2s\tremaining: 2m 18s\n",
      "138:\tlearn: 1697.2104840\ttotal: 22.4s\tremaining: 2m 18s\n",
      "139:\tlearn: 1696.6107371\ttotal: 22.5s\tremaining: 2m 18s\n",
      "140:\tlearn: 1695.8031707\ttotal: 22.7s\tremaining: 2m 18s\n",
      "141:\tlearn: 1695.1324908\ttotal: 22.9s\tremaining: 2m 18s\n",
      "142:\tlearn: 1694.4782132\ttotal: 23s\tremaining: 2m 17s\n",
      "143:\tlearn: 1693.9274902\ttotal: 23.1s\tremaining: 2m 17s\n",
      "144:\tlearn: 1693.1740229\ttotal: 23.3s\tremaining: 2m 17s\n",
      "145:\tlearn: 1692.8705542\ttotal: 23.5s\tremaining: 2m 17s\n",
      "146:\tlearn: 1691.7127378\ttotal: 23.7s\tremaining: 2m 17s\n",
      "147:\tlearn: 1690.9025941\ttotal: 23.8s\tremaining: 2m 17s\n",
      "148:\tlearn: 1690.1672360\ttotal: 24s\tremaining: 2m 16s\n",
      "149:\tlearn: 1689.4419403\ttotal: 24.1s\tremaining: 2m 16s\n",
      "150:\tlearn: 1688.9409784\ttotal: 24.3s\tremaining: 2m 16s\n",
      "151:\tlearn: 1687.8440753\ttotal: 24.4s\tremaining: 2m 16s\n",
      "152:\tlearn: 1687.4352702\ttotal: 24.6s\tremaining: 2m 15s\n",
      "153:\tlearn: 1686.8000505\ttotal: 24.7s\tremaining: 2m 15s\n",
      "154:\tlearn: 1685.9671430\ttotal: 24.9s\tremaining: 2m 15s\n",
      "155:\tlearn: 1685.1799186\ttotal: 25.1s\tremaining: 2m 15s\n",
      "156:\tlearn: 1684.6592801\ttotal: 25.2s\tremaining: 2m 15s\n",
      "157:\tlearn: 1683.8020346\ttotal: 25.4s\tremaining: 2m 15s\n",
      "158:\tlearn: 1683.0304737\ttotal: 25.5s\tremaining: 2m 15s\n",
      "159:\tlearn: 1682.2562406\ttotal: 25.7s\tremaining: 2m 14s\n",
      "160:\tlearn: 1681.6096201\ttotal: 25.8s\tremaining: 2m 14s\n",
      "161:\tlearn: 1680.9292336\ttotal: 26s\tremaining: 2m 14s\n",
      "162:\tlearn: 1680.5618027\ttotal: 26.2s\tremaining: 2m 14s\n",
      "163:\tlearn: 1680.1787834\ttotal: 26.3s\tremaining: 2m 14s\n",
      "164:\tlearn: 1679.6648687\ttotal: 26.5s\tremaining: 2m 14s\n",
      "165:\tlearn: 1678.8653082\ttotal: 26.7s\tremaining: 2m 14s\n",
      "166:\tlearn: 1678.4587509\ttotal: 26.8s\tremaining: 2m 13s\n",
      "167:\tlearn: 1677.3982335\ttotal: 26.9s\tremaining: 2m 13s\n",
      "168:\tlearn: 1676.8378899\ttotal: 27.1s\tremaining: 2m 13s\n",
      "169:\tlearn: 1676.1540008\ttotal: 27.2s\tremaining: 2m 12s\n",
      "170:\tlearn: 1675.6826581\ttotal: 27.3s\tremaining: 2m 12s\n",
      "171:\tlearn: 1674.8831936\ttotal: 27.5s\tremaining: 2m 12s\n",
      "172:\tlearn: 1674.1862419\ttotal: 27.7s\tremaining: 2m 12s\n",
      "173:\tlearn: 1673.6948602\ttotal: 27.8s\tremaining: 2m 11s\n",
      "174:\tlearn: 1673.3229795\ttotal: 28s\tremaining: 2m 12s\n",
      "175:\tlearn: 1672.6924225\ttotal: 28.2s\tremaining: 2m 11s\n",
      "176:\tlearn: 1671.7095871\ttotal: 28.3s\tremaining: 2m 11s\n",
      "177:\tlearn: 1671.2225223\ttotal: 28.5s\tremaining: 2m 11s\n",
      "178:\tlearn: 1670.5891873\ttotal: 28.7s\tremaining: 2m 11s\n",
      "179:\tlearn: 1669.7630578\ttotal: 28.8s\tremaining: 2m 11s\n",
      "180:\tlearn: 1669.5139194\ttotal: 29s\tremaining: 2m 11s\n",
      "181:\tlearn: 1668.7973668\ttotal: 29.1s\tremaining: 2m 10s\n"
     ]
    },
    {
     "name": "stdout",
     "output_type": "stream",
     "text": [
      "182:\tlearn: 1668.1874624\ttotal: 29.2s\tremaining: 2m 10s\n",
      "183:\tlearn: 1667.8446957\ttotal: 29.4s\tremaining: 2m 10s\n",
      "184:\tlearn: 1667.6146048\ttotal: 29.5s\tremaining: 2m 10s\n",
      "185:\tlearn: 1667.3144252\ttotal: 29.7s\tremaining: 2m 10s\n",
      "186:\tlearn: 1666.5608303\ttotal: 29.9s\tremaining: 2m 10s\n",
      "187:\tlearn: 1665.9201437\ttotal: 30.1s\tremaining: 2m 9s\n",
      "188:\tlearn: 1665.3746214\ttotal: 30.3s\tremaining: 2m 9s\n",
      "189:\tlearn: 1664.8303575\ttotal: 30.4s\tremaining: 2m 9s\n",
      "190:\tlearn: 1664.2427928\ttotal: 30.6s\tremaining: 2m 9s\n",
      "191:\tlearn: 1663.6216383\ttotal: 30.8s\tremaining: 2m 9s\n",
      "192:\tlearn: 1662.9762625\ttotal: 30.9s\tremaining: 2m 9s\n",
      "193:\tlearn: 1662.5426372\ttotal: 31.1s\tremaining: 2m 9s\n",
      "194:\tlearn: 1662.1612711\ttotal: 31.2s\tremaining: 2m 8s\n",
      "195:\tlearn: 1661.6871920\ttotal: 31.3s\tremaining: 2m 8s\n",
      "196:\tlearn: 1661.4832133\ttotal: 31.5s\tremaining: 2m 8s\n",
      "197:\tlearn: 1661.0041253\ttotal: 31.6s\tremaining: 2m 7s\n",
      "198:\tlearn: 1660.8944241\ttotal: 31.8s\tremaining: 2m 7s\n",
      "199:\tlearn: 1660.5266482\ttotal: 31.9s\tremaining: 2m 7s\n",
      "200:\tlearn: 1660.1642753\ttotal: 32.1s\tremaining: 2m 7s\n",
      "201:\tlearn: 1659.6134321\ttotal: 32.2s\tremaining: 2m 7s\n",
      "202:\tlearn: 1659.1592761\ttotal: 32.4s\tremaining: 2m 7s\n",
      "203:\tlearn: 1658.9588148\ttotal: 32.6s\tremaining: 2m 7s\n",
      "204:\tlearn: 1658.4809689\ttotal: 32.7s\tremaining: 2m 6s\n",
      "205:\tlearn: 1658.0446379\ttotal: 32.9s\tremaining: 2m 6s\n",
      "206:\tlearn: 1657.3543583\ttotal: 33.1s\tremaining: 2m 6s\n",
      "207:\tlearn: 1657.0858562\ttotal: 33.2s\tremaining: 2m 6s\n",
      "208:\tlearn: 1656.8677552\ttotal: 33.4s\tremaining: 2m 6s\n",
      "209:\tlearn: 1656.6053441\ttotal: 33.6s\tremaining: 2m 6s\n",
      "210:\tlearn: 1656.2047029\ttotal: 33.7s\tremaining: 2m 6s\n",
      "211:\tlearn: 1655.9527793\ttotal: 33.9s\tremaining: 2m 6s\n",
      "212:\tlearn: 1655.4679016\ttotal: 34.1s\tremaining: 2m 6s\n",
      "213:\tlearn: 1655.3026005\ttotal: 34.3s\tremaining: 2m 5s\n",
      "214:\tlearn: 1655.0488359\ttotal: 34.4s\tremaining: 2m 5s\n",
      "215:\tlearn: 1654.9214394\ttotal: 34.5s\tremaining: 2m 5s\n",
      "216:\tlearn: 1654.7289849\ttotal: 34.7s\tremaining: 2m 5s\n",
      "217:\tlearn: 1654.1359516\ttotal: 34.9s\tremaining: 2m 5s\n",
      "218:\tlearn: 1653.7919881\ttotal: 35s\tremaining: 2m 4s\n",
      "219:\tlearn: 1653.2680590\ttotal: 35.2s\tremaining: 2m 4s\n",
      "220:\tlearn: 1652.7829640\ttotal: 35.4s\tremaining: 2m 4s\n",
      "221:\tlearn: 1652.3244896\ttotal: 35.6s\tremaining: 2m 4s\n",
      "222:\tlearn: 1651.8588153\ttotal: 35.7s\tremaining: 2m 4s\n",
      "223:\tlearn: 1651.2121685\ttotal: 35.9s\tremaining: 2m 4s\n",
      "224:\tlearn: 1650.7645606\ttotal: 36.1s\tremaining: 2m 4s\n",
      "225:\tlearn: 1650.0614901\ttotal: 36.2s\tremaining: 2m 4s\n",
      "226:\tlearn: 1649.3914100\ttotal: 36.4s\tremaining: 2m 3s\n",
      "227:\tlearn: 1648.7509479\ttotal: 36.5s\tremaining: 2m 3s\n",
      "228:\tlearn: 1648.3228282\ttotal: 36.7s\tremaining: 2m 3s\n",
      "229:\tlearn: 1647.7071450\ttotal: 36.8s\tremaining: 2m 3s\n",
      "230:\tlearn: 1647.3652268\ttotal: 37s\tremaining: 2m 3s\n",
      "231:\tlearn: 1647.2852256\ttotal: 37.1s\tremaining: 2m 2s\n",
      "232:\tlearn: 1647.1686553\ttotal: 37.3s\tremaining: 2m 2s\n",
      "233:\tlearn: 1646.8902911\ttotal: 37.4s\tremaining: 2m 2s\n",
      "234:\tlearn: 1646.5364390\ttotal: 37.6s\tremaining: 2m 2s\n",
      "235:\tlearn: 1646.2584728\ttotal: 37.8s\tremaining: 2m 2s\n",
      "236:\tlearn: 1645.9926392\ttotal: 38s\tremaining: 2m 2s\n",
      "237:\tlearn: 1645.5399867\ttotal: 38.1s\tremaining: 2m 2s\n",
      "238:\tlearn: 1645.3084584\ttotal: 38.3s\tremaining: 2m 1s\n",
      "239:\tlearn: 1644.9316885\ttotal: 38.4s\tremaining: 2m 1s\n",
      "240:\tlearn: 1644.3371176\ttotal: 38.6s\tremaining: 2m 1s\n",
      "241:\tlearn: 1643.9073575\ttotal: 38.8s\tremaining: 2m 1s\n",
      "242:\tlearn: 1643.4610155\ttotal: 38.9s\tremaining: 2m 1s\n",
      "243:\tlearn: 1643.0102619\ttotal: 39.1s\tremaining: 2m 1s\n",
      "244:\tlearn: 1642.5556319\ttotal: 39.3s\tremaining: 2m\n",
      "245:\tlearn: 1642.3424943\ttotal: 39.4s\tremaining: 2m\n",
      "246:\tlearn: 1642.0469667\ttotal: 39.6s\tremaining: 2m\n",
      "247:\tlearn: 1641.5271872\ttotal: 39.8s\tremaining: 2m\n",
      "248:\tlearn: 1641.1854431\ttotal: 39.9s\tremaining: 2m\n",
      "249:\tlearn: 1640.7789753\ttotal: 40s\tremaining: 2m\n",
      "250:\tlearn: 1640.5225229\ttotal: 40.2s\tremaining: 1m 59s\n",
      "251:\tlearn: 1640.3100667\ttotal: 40.3s\tremaining: 1m 59s\n",
      "252:\tlearn: 1639.9986391\ttotal: 40.4s\tremaining: 1m 59s\n",
      "253:\tlearn: 1639.7355915\ttotal: 40.6s\tremaining: 1m 59s\n",
      "254:\tlearn: 1639.4169110\ttotal: 40.8s\tremaining: 1m 59s\n",
      "255:\tlearn: 1638.9527998\ttotal: 40.9s\tremaining: 1m 58s\n",
      "256:\tlearn: 1638.5805746\ttotal: 41.1s\tremaining: 1m 58s\n",
      "257:\tlearn: 1638.5271147\ttotal: 41.2s\tremaining: 1m 58s\n",
      "258:\tlearn: 1638.2985333\ttotal: 41.4s\tremaining: 1m 58s\n",
      "259:\tlearn: 1638.0778027\ttotal: 41.5s\tremaining: 1m 58s\n",
      "260:\tlearn: 1637.9715737\ttotal: 41.6s\tremaining: 1m 57s\n",
      "261:\tlearn: 1637.3551791\ttotal: 41.8s\tremaining: 1m 57s\n",
      "262:\tlearn: 1636.8387580\ttotal: 42s\tremaining: 1m 57s\n",
      "263:\tlearn: 1636.3546123\ttotal: 42.2s\tremaining: 1m 57s\n",
      "264:\tlearn: 1635.6417956\ttotal: 42.4s\tremaining: 1m 57s\n",
      "265:\tlearn: 1635.3876534\ttotal: 42.5s\tremaining: 1m 57s\n",
      "266:\tlearn: 1635.2556622\ttotal: 42.7s\tremaining: 1m 57s\n",
      "267:\tlearn: 1634.6678240\ttotal: 42.9s\tremaining: 1m 57s\n",
      "268:\tlearn: 1634.0770657\ttotal: 43s\tremaining: 1m 56s\n",
      "269:\tlearn: 1633.9240894\ttotal: 43.2s\tremaining: 1m 56s\n",
      "270:\tlearn: 1633.3512040\ttotal: 43.3s\tremaining: 1m 56s\n",
      "271:\tlearn: 1633.0683512\ttotal: 43.5s\tremaining: 1m 56s\n",
      "272:\tlearn: 1633.0392230\ttotal: 43.6s\tremaining: 1m 56s\n",
      "273:\tlearn: 1632.6607873\ttotal: 43.8s\tremaining: 1m 56s\n",
      "274:\tlearn: 1632.0541461\ttotal: 44s\tremaining: 1m 55s\n",
      "275:\tlearn: 1631.9815893\ttotal: 44.1s\tremaining: 1m 55s\n",
      "276:\tlearn: 1631.6979544\ttotal: 44.2s\tremaining: 1m 55s\n",
      "277:\tlearn: 1631.4565475\ttotal: 44.5s\tremaining: 1m 55s\n",
      "278:\tlearn: 1630.9882533\ttotal: 44.6s\tremaining: 1m 55s\n",
      "279:\tlearn: 1630.6419920\ttotal: 44.8s\tremaining: 1m 55s\n",
      "280:\tlearn: 1630.5133603\ttotal: 45s\tremaining: 1m 55s\n",
      "281:\tlearn: 1630.0379331\ttotal: 45.2s\tremaining: 1m 55s\n",
      "282:\tlearn: 1629.6272719\ttotal: 45.4s\tremaining: 1m 54s\n",
      "283:\tlearn: 1629.3349057\ttotal: 45.5s\tremaining: 1m 54s\n",
      "284:\tlearn: 1628.9487805\ttotal: 45.7s\tremaining: 1m 54s\n",
      "285:\tlearn: 1628.6381553\ttotal: 45.9s\tremaining: 1m 54s\n",
      "286:\tlearn: 1628.3487978\ttotal: 46s\tremaining: 1m 54s\n",
      "287:\tlearn: 1628.2663307\ttotal: 46.2s\tremaining: 1m 54s\n",
      "288:\tlearn: 1628.1730835\ttotal: 46.4s\tremaining: 1m 54s\n",
      "289:\tlearn: 1627.7819194\ttotal: 46.6s\tremaining: 1m 54s\n",
      "290:\tlearn: 1627.4761167\ttotal: 46.7s\tremaining: 1m 53s\n",
      "291:\tlearn: 1627.0515213\ttotal: 46.9s\tremaining: 1m 53s\n",
      "292:\tlearn: 1626.7007637\ttotal: 47.1s\tremaining: 1m 53s\n",
      "293:\tlearn: 1626.4995136\ttotal: 47.2s\tremaining: 1m 53s\n",
      "294:\tlearn: 1626.1971091\ttotal: 47.4s\tremaining: 1m 53s\n",
      "295:\tlearn: 1625.6161756\ttotal: 47.5s\tremaining: 1m 53s\n",
      "296:\tlearn: 1625.5629099\ttotal: 47.7s\tremaining: 1m 52s\n",
      "297:\tlearn: 1625.2900530\ttotal: 47.9s\tremaining: 1m 52s\n",
      "298:\tlearn: 1625.0633042\ttotal: 48s\tremaining: 1m 52s\n",
      "299:\tlearn: 1624.6623944\ttotal: 48.1s\tremaining: 1m 52s\n",
      "300:\tlearn: 1624.2913143\ttotal: 48.3s\tremaining: 1m 52s\n",
      "301:\tlearn: 1624.1511499\ttotal: 48.4s\tremaining: 1m 51s\n",
      "302:\tlearn: 1623.9843625\ttotal: 48.6s\tremaining: 1m 51s\n",
      "303:\tlearn: 1623.8777689\ttotal: 48.8s\tremaining: 1m 51s\n",
      "304:\tlearn: 1623.5731839\ttotal: 48.9s\tremaining: 1m 51s\n",
      "305:\tlearn: 1623.1732389\ttotal: 49.1s\tremaining: 1m 51s\n",
      "306:\tlearn: 1622.8866062\ttotal: 49.3s\tremaining: 1m 51s\n",
      "307:\tlearn: 1622.8176605\ttotal: 49.5s\tremaining: 1m 51s\n",
      "308:\tlearn: 1622.6480443\ttotal: 49.7s\tremaining: 1m 51s\n",
      "309:\tlearn: 1622.3546376\ttotal: 49.9s\tremaining: 1m 51s\n",
      "310:\tlearn: 1622.0955657\ttotal: 50s\tremaining: 1m 50s\n",
      "311:\tlearn: 1621.6201118\ttotal: 50.2s\tremaining: 1m 50s\n",
      "312:\tlearn: 1621.4738175\ttotal: 50.3s\tremaining: 1m 50s\n",
      "313:\tlearn: 1621.3483305\ttotal: 50.5s\tremaining: 1m 50s\n",
      "314:\tlearn: 1620.8432767\ttotal: 50.6s\tremaining: 1m 50s\n",
      "315:\tlearn: 1620.7088299\ttotal: 50.8s\tremaining: 1m 50s\n",
      "316:\tlearn: 1620.4435001\ttotal: 51s\tremaining: 1m 49s\n",
      "317:\tlearn: 1620.2817465\ttotal: 51.2s\tremaining: 1m 49s\n",
      "318:\tlearn: 1619.9844422\ttotal: 51.4s\tremaining: 1m 49s\n",
      "319:\tlearn: 1619.8158404\ttotal: 51.6s\tremaining: 1m 49s\n",
      "320:\tlearn: 1619.7200641\ttotal: 51.8s\tremaining: 1m 49s\n",
      "321:\tlearn: 1619.6716550\ttotal: 51.9s\tremaining: 1m 49s\n",
      "322:\tlearn: 1619.1950056\ttotal: 52s\tremaining: 1m 49s\n",
      "323:\tlearn: 1618.7352837\ttotal: 52.2s\tremaining: 1m 48s\n",
      "324:\tlearn: 1618.2378347\ttotal: 52.4s\tremaining: 1m 48s\n",
      "325:\tlearn: 1617.9031978\ttotal: 52.6s\tremaining: 1m 48s\n",
      "326:\tlearn: 1617.5474994\ttotal: 52.7s\tremaining: 1m 48s\n",
      "327:\tlearn: 1617.2449352\ttotal: 52.9s\tremaining: 1m 48s\n",
      "328:\tlearn: 1616.7848004\ttotal: 53s\tremaining: 1m 48s\n",
      "329:\tlearn: 1616.7074151\ttotal: 53.2s\tremaining: 1m 47s\n",
      "330:\tlearn: 1616.5916774\ttotal: 53.4s\tremaining: 1m 47s\n"
     ]
    },
    {
     "name": "stdout",
     "output_type": "stream",
     "text": [
      "331:\tlearn: 1616.3217687\ttotal: 53.6s\tremaining: 1m 47s\n",
      "332:\tlearn: 1616.1175266\ttotal: 53.7s\tremaining: 1m 47s\n",
      "333:\tlearn: 1615.7589695\ttotal: 53.9s\tremaining: 1m 47s\n",
      "334:\tlearn: 1615.4936849\ttotal: 54.1s\tremaining: 1m 47s\n",
      "335:\tlearn: 1615.3013381\ttotal: 54.2s\tremaining: 1m 47s\n",
      "336:\tlearn: 1615.1244515\ttotal: 54.5s\tremaining: 1m 47s\n",
      "337:\tlearn: 1614.8288011\ttotal: 54.6s\tremaining: 1m 47s\n",
      "338:\tlearn: 1614.3627005\ttotal: 54.8s\tremaining: 1m 46s\n",
      "339:\tlearn: 1614.3148063\ttotal: 54.9s\tremaining: 1m 46s\n",
      "340:\tlearn: 1614.1143347\ttotal: 55.1s\tremaining: 1m 46s\n",
      "341:\tlearn: 1613.8876108\ttotal: 55.2s\tremaining: 1m 46s\n",
      "342:\tlearn: 1613.7989283\ttotal: 55.4s\tremaining: 1m 46s\n",
      "343:\tlearn: 1613.5780901\ttotal: 55.5s\tremaining: 1m 45s\n",
      "344:\tlearn: 1613.3633939\ttotal: 55.7s\tremaining: 1m 45s\n",
      "345:\tlearn: 1613.1835739\ttotal: 55.9s\tremaining: 1m 45s\n",
      "346:\tlearn: 1612.9952496\ttotal: 56s\tremaining: 1m 45s\n",
      "347:\tlearn: 1612.7183809\ttotal: 56.2s\tremaining: 1m 45s\n",
      "348:\tlearn: 1612.6109806\ttotal: 56.3s\tremaining: 1m 45s\n",
      "349:\tlearn: 1612.1506164\ttotal: 56.5s\tremaining: 1m 44s\n",
      "350:\tlearn: 1612.0136666\ttotal: 56.7s\tremaining: 1m 44s\n",
      "351:\tlearn: 1611.8379826\ttotal: 56.8s\tremaining: 1m 44s\n",
      "352:\tlearn: 1611.7688881\ttotal: 57s\tremaining: 1m 44s\n",
      "353:\tlearn: 1611.7276728\ttotal: 57.2s\tremaining: 1m 44s\n",
      "354:\tlearn: 1611.4936207\ttotal: 57.3s\tremaining: 1m 44s\n",
      "355:\tlearn: 1610.9431582\ttotal: 57.5s\tremaining: 1m 44s\n",
      "356:\tlearn: 1610.7307430\ttotal: 57.7s\tremaining: 1m 43s\n",
      "357:\tlearn: 1610.3614761\ttotal: 57.8s\tremaining: 1m 43s\n",
      "358:\tlearn: 1610.2950857\ttotal: 58s\tremaining: 1m 43s\n",
      "359:\tlearn: 1610.0231545\ttotal: 58.2s\tremaining: 1m 43s\n",
      "360:\tlearn: 1609.6865464\ttotal: 58.4s\tremaining: 1m 43s\n",
      "361:\tlearn: 1609.4128840\ttotal: 58.6s\tremaining: 1m 43s\n",
      "362:\tlearn: 1609.3009260\ttotal: 58.8s\tremaining: 1m 43s\n",
      "363:\tlearn: 1609.1824135\ttotal: 58.9s\tremaining: 1m 42s\n",
      "364:\tlearn: 1609.0301796\ttotal: 59.1s\tremaining: 1m 42s\n",
      "365:\tlearn: 1608.8811231\ttotal: 59.2s\tremaining: 1m 42s\n",
      "366:\tlearn: 1608.8397153\ttotal: 59.4s\tremaining: 1m 42s\n",
      "367:\tlearn: 1608.7485438\ttotal: 59.6s\tremaining: 1m 42s\n",
      "368:\tlearn: 1608.5600111\ttotal: 59.7s\tremaining: 1m 42s\n",
      "369:\tlearn: 1608.2603492\ttotal: 59.9s\tremaining: 1m 41s\n",
      "370:\tlearn: 1608.1418535\ttotal: 1m\tremaining: 1m 41s\n",
      "371:\tlearn: 1607.9797196\ttotal: 1m\tremaining: 1m 41s\n",
      "372:\tlearn: 1607.6436873\ttotal: 1m\tremaining: 1m 41s\n",
      "373:\tlearn: 1607.3801667\ttotal: 1m\tremaining: 1m 41s\n",
      "374:\tlearn: 1607.3578115\ttotal: 1m\tremaining: 1m 41s\n",
      "375:\tlearn: 1607.1554021\ttotal: 1m\tremaining: 1m 41s\n",
      "376:\tlearn: 1606.8998880\ttotal: 1m 1s\tremaining: 1m 40s\n",
      "377:\tlearn: 1606.8059531\ttotal: 1m 1s\tremaining: 1m 40s\n",
      "378:\tlearn: 1606.5546383\ttotal: 1m 1s\tremaining: 1m 40s\n",
      "379:\tlearn: 1606.3103628\ttotal: 1m 1s\tremaining: 1m 40s\n",
      "380:\tlearn: 1605.8468372\ttotal: 1m 1s\tremaining: 1m 40s\n",
      "381:\tlearn: 1605.5885889\ttotal: 1m 1s\tremaining: 1m 40s\n",
      "382:\tlearn: 1605.4827571\ttotal: 1m 2s\tremaining: 1m 40s\n",
      "383:\tlearn: 1605.4628593\ttotal: 1m 2s\tremaining: 1m 39s\n",
      "384:\tlearn: 1604.9620049\ttotal: 1m 2s\tremaining: 1m 39s\n",
      "385:\tlearn: 1604.7523578\ttotal: 1m 2s\tremaining: 1m 39s\n",
      "386:\tlearn: 1604.6223926\ttotal: 1m 2s\tremaining: 1m 39s\n",
      "387:\tlearn: 1604.4608203\ttotal: 1m 2s\tremaining: 1m 39s\n",
      "388:\tlearn: 1604.4442651\ttotal: 1m 2s\tremaining: 1m 38s\n",
      "389:\tlearn: 1604.2288614\ttotal: 1m 3s\tremaining: 1m 38s\n",
      "390:\tlearn: 1603.6054886\ttotal: 1m 3s\tremaining: 1m 38s\n",
      "391:\tlearn: 1603.4227034\ttotal: 1m 3s\tremaining: 1m 38s\n",
      "392:\tlearn: 1603.3167722\ttotal: 1m 3s\tremaining: 1m 38s\n",
      "393:\tlearn: 1603.1382037\ttotal: 1m 3s\tremaining: 1m 38s\n",
      "394:\tlearn: 1602.9378396\ttotal: 1m 4s\tremaining: 1m 38s\n",
      "395:\tlearn: 1602.8473820\ttotal: 1m 4s\tremaining: 1m 37s\n",
      "396:\tlearn: 1602.5872640\ttotal: 1m 4s\tremaining: 1m 37s\n",
      "397:\tlearn: 1602.5599098\ttotal: 1m 4s\tremaining: 1m 37s\n",
      "398:\tlearn: 1602.3711913\ttotal: 1m 4s\tremaining: 1m 37s\n",
      "399:\tlearn: 1602.3216415\ttotal: 1m 4s\tremaining: 1m 37s\n",
      "400:\tlearn: 1602.1038226\ttotal: 1m 5s\tremaining: 1m 37s\n",
      "401:\tlearn: 1601.6403139\ttotal: 1m 5s\tremaining: 1m 37s\n",
      "402:\tlearn: 1601.3662986\ttotal: 1m 5s\tremaining: 1m 36s\n",
      "403:\tlearn: 1600.8012785\ttotal: 1m 5s\tremaining: 1m 36s\n",
      "404:\tlearn: 1600.7579423\ttotal: 1m 5s\tremaining: 1m 36s\n",
      "405:\tlearn: 1600.3920812\ttotal: 1m 5s\tremaining: 1m 36s\n",
      "406:\tlearn: 1600.3078057\ttotal: 1m 6s\tremaining: 1m 36s\n",
      "407:\tlearn: 1600.2424976\ttotal: 1m 6s\tremaining: 1m 36s\n",
      "408:\tlearn: 1599.8213050\ttotal: 1m 6s\tremaining: 1m 36s\n",
      "409:\tlearn: 1599.5740993\ttotal: 1m 6s\tremaining: 1m 35s\n",
      "410:\tlearn: 1599.3839759\ttotal: 1m 6s\tremaining: 1m 35s\n",
      "411:\tlearn: 1599.2746841\ttotal: 1m 6s\tremaining: 1m 35s\n",
      "412:\tlearn: 1599.1785952\ttotal: 1m 7s\tremaining: 1m 35s\n",
      "413:\tlearn: 1598.8489778\ttotal: 1m 7s\tremaining: 1m 35s\n",
      "414:\tlearn: 1598.6136962\ttotal: 1m 7s\tremaining: 1m 35s\n",
      "415:\tlearn: 1598.4112875\ttotal: 1m 7s\tremaining: 1m 34s\n",
      "416:\tlearn: 1598.3366055\ttotal: 1m 7s\tremaining: 1m 34s\n",
      "417:\tlearn: 1597.8670343\ttotal: 1m 7s\tremaining: 1m 34s\n",
      "418:\tlearn: 1597.7177366\ttotal: 1m 8s\tremaining: 1m 34s\n",
      "419:\tlearn: 1597.6285530\ttotal: 1m 8s\tremaining: 1m 34s\n",
      "420:\tlearn: 1597.4160631\ttotal: 1m 8s\tremaining: 1m 34s\n",
      "421:\tlearn: 1597.2008563\ttotal: 1m 8s\tremaining: 1m 33s\n",
      "422:\tlearn: 1596.9962723\ttotal: 1m 8s\tremaining: 1m 33s\n",
      "423:\tlearn: 1596.6311532\ttotal: 1m 9s\tremaining: 1m 33s\n",
      "424:\tlearn: 1596.3828187\ttotal: 1m 9s\tremaining: 1m 33s\n",
      "425:\tlearn: 1596.1721584\ttotal: 1m 9s\tremaining: 1m 33s\n",
      "426:\tlearn: 1595.7919373\ttotal: 1m 9s\tremaining: 1m 33s\n",
      "427:\tlearn: 1595.4468854\ttotal: 1m 9s\tremaining: 1m 33s\n",
      "428:\tlearn: 1595.3390900\ttotal: 1m 9s\tremaining: 1m 32s\n",
      "429:\tlearn: 1595.0251858\ttotal: 1m 10s\tremaining: 1m 32s\n",
      "430:\tlearn: 1594.9196886\ttotal: 1m 10s\tremaining: 1m 32s\n",
      "431:\tlearn: 1594.8489996\ttotal: 1m 10s\tremaining: 1m 32s\n",
      "432:\tlearn: 1594.6371396\ttotal: 1m 10s\tremaining: 1m 32s\n",
      "433:\tlearn: 1594.6206350\ttotal: 1m 10s\tremaining: 1m 32s\n",
      "434:\tlearn: 1594.4970236\ttotal: 1m 10s\tremaining: 1m 31s\n",
      "435:\tlearn: 1594.4570825\ttotal: 1m 10s\tremaining: 1m 31s\n",
      "436:\tlearn: 1594.3046601\ttotal: 1m 11s\tremaining: 1m 31s\n",
      "437:\tlearn: 1594.1590063\ttotal: 1m 11s\tremaining: 1m 31s\n",
      "438:\tlearn: 1594.0833785\ttotal: 1m 11s\tremaining: 1m 31s\n",
      "439:\tlearn: 1593.6792159\ttotal: 1m 11s\tremaining: 1m 31s\n",
      "440:\tlearn: 1593.4467316\ttotal: 1m 11s\tremaining: 1m 31s\n",
      "441:\tlearn: 1593.3824937\ttotal: 1m 11s\tremaining: 1m 30s\n",
      "442:\tlearn: 1593.0814411\ttotal: 1m 12s\tremaining: 1m 30s\n",
      "443:\tlearn: 1593.0582364\ttotal: 1m 12s\tremaining: 1m 30s\n",
      "444:\tlearn: 1593.0121031\ttotal: 1m 12s\tremaining: 1m 30s\n",
      "445:\tlearn: 1592.8365344\ttotal: 1m 12s\tremaining: 1m 30s\n",
      "446:\tlearn: 1592.7284794\ttotal: 1m 12s\tremaining: 1m 30s\n",
      "447:\tlearn: 1592.5485042\ttotal: 1m 12s\tremaining: 1m 29s\n",
      "448:\tlearn: 1592.4446646\ttotal: 1m 13s\tremaining: 1m 29s\n",
      "449:\tlearn: 1592.3161659\ttotal: 1m 13s\tremaining: 1m 29s\n",
      "450:\tlearn: 1592.2987729\ttotal: 1m 13s\tremaining: 1m 29s\n",
      "451:\tlearn: 1591.9852677\ttotal: 1m 13s\tremaining: 1m 29s\n",
      "452:\tlearn: 1591.7903786\ttotal: 1m 13s\tremaining: 1m 29s\n",
      "453:\tlearn: 1591.6238924\ttotal: 1m 13s\tremaining: 1m 28s\n",
      "454:\tlearn: 1591.3484427\ttotal: 1m 14s\tremaining: 1m 28s\n",
      "455:\tlearn: 1591.3293854\ttotal: 1m 14s\tremaining: 1m 28s\n",
      "456:\tlearn: 1591.0897184\ttotal: 1m 14s\tremaining: 1m 28s\n",
      "457:\tlearn: 1590.8154803\ttotal: 1m 14s\tremaining: 1m 28s\n",
      "458:\tlearn: 1590.6075098\ttotal: 1m 14s\tremaining: 1m 28s\n",
      "459:\tlearn: 1590.3326408\ttotal: 1m 14s\tremaining: 1m 28s\n",
      "460:\tlearn: 1590.2135890\ttotal: 1m 15s\tremaining: 1m 27s\n",
      "461:\tlearn: 1590.0838398\ttotal: 1m 15s\tremaining: 1m 27s\n",
      "462:\tlearn: 1589.9047025\ttotal: 1m 15s\tremaining: 1m 27s\n",
      "463:\tlearn: 1589.6608071\ttotal: 1m 15s\tremaining: 1m 27s\n",
      "464:\tlearn: 1589.2334147\ttotal: 1m 15s\tremaining: 1m 27s\n",
      "465:\tlearn: 1588.8269234\ttotal: 1m 15s\tremaining: 1m 26s\n",
      "466:\tlearn: 1588.6381002\ttotal: 1m 16s\tremaining: 1m 26s\n",
      "467:\tlearn: 1588.5515995\ttotal: 1m 16s\tremaining: 1m 26s\n",
      "468:\tlearn: 1588.4334852\ttotal: 1m 16s\tremaining: 1m 26s\n",
      "469:\tlearn: 1587.9587093\ttotal: 1m 16s\tremaining: 1m 26s\n",
      "470:\tlearn: 1587.8113191\ttotal: 1m 16s\tremaining: 1m 26s\n",
      "471:\tlearn: 1587.6438418\ttotal: 1m 16s\tremaining: 1m 26s\n",
      "472:\tlearn: 1587.4854991\ttotal: 1m 17s\tremaining: 1m 25s\n",
      "473:\tlearn: 1587.1652759\ttotal: 1m 17s\tremaining: 1m 25s\n",
      "474:\tlearn: 1587.0980988\ttotal: 1m 17s\tremaining: 1m 25s\n",
      "475:\tlearn: 1586.7919635\ttotal: 1m 17s\tremaining: 1m 25s\n",
      "476:\tlearn: 1586.6436109\ttotal: 1m 17s\tremaining: 1m 25s\n",
      "477:\tlearn: 1586.4275633\ttotal: 1m 17s\tremaining: 1m 25s\n"
     ]
    },
    {
     "name": "stdout",
     "output_type": "stream",
     "text": [
      "478:\tlearn: 1586.2490643\ttotal: 1m 18s\tremaining: 1m 24s\n",
      "479:\tlearn: 1585.8176189\ttotal: 1m 18s\tremaining: 1m 24s\n",
      "480:\tlearn: 1585.5814878\ttotal: 1m 18s\tremaining: 1m 24s\n",
      "481:\tlearn: 1585.2291768\ttotal: 1m 18s\tremaining: 1m 24s\n",
      "482:\tlearn: 1585.0282732\ttotal: 1m 18s\tremaining: 1m 24s\n",
      "483:\tlearn: 1584.8900450\ttotal: 1m 18s\tremaining: 1m 24s\n",
      "484:\tlearn: 1584.7468968\ttotal: 1m 19s\tremaining: 1m 23s\n",
      "485:\tlearn: 1584.6923261\ttotal: 1m 19s\tremaining: 1m 23s\n",
      "486:\tlearn: 1584.6012356\ttotal: 1m 19s\tremaining: 1m 23s\n",
      "487:\tlearn: 1584.5425758\ttotal: 1m 19s\tremaining: 1m 23s\n",
      "488:\tlearn: 1584.4294408\ttotal: 1m 19s\tremaining: 1m 23s\n",
      "489:\tlearn: 1584.3147685\ttotal: 1m 19s\tremaining: 1m 23s\n",
      "490:\tlearn: 1584.2383016\ttotal: 1m 20s\tremaining: 1m 23s\n",
      "491:\tlearn: 1583.9486994\ttotal: 1m 20s\tremaining: 1m 22s\n",
      "492:\tlearn: 1583.6632848\ttotal: 1m 20s\tremaining: 1m 22s\n",
      "493:\tlearn: 1583.4632501\ttotal: 1m 20s\tremaining: 1m 22s\n",
      "494:\tlearn: 1583.3315384\ttotal: 1m 20s\tremaining: 1m 22s\n",
      "495:\tlearn: 1583.2303731\ttotal: 1m 21s\tremaining: 1m 22s\n",
      "496:\tlearn: 1583.0882164\ttotal: 1m 21s\tremaining: 1m 22s\n",
      "497:\tlearn: 1582.9347717\ttotal: 1m 21s\tremaining: 1m 22s\n",
      "498:\tlearn: 1582.9152221\ttotal: 1m 21s\tremaining: 1m 21s\n",
      "499:\tlearn: 1582.7359425\ttotal: 1m 21s\tremaining: 1m 21s\n",
      "500:\tlearn: 1582.5483665\ttotal: 1m 21s\tremaining: 1m 21s\n",
      "501:\tlearn: 1582.4682909\ttotal: 1m 22s\tremaining: 1m 21s\n",
      "502:\tlearn: 1582.3436440\ttotal: 1m 22s\tremaining: 1m 21s\n",
      "503:\tlearn: 1582.1629458\ttotal: 1m 22s\tremaining: 1m 21s\n",
      "504:\tlearn: 1581.9283174\ttotal: 1m 22s\tremaining: 1m 20s\n",
      "505:\tlearn: 1581.6968368\ttotal: 1m 22s\tremaining: 1m 20s\n",
      "506:\tlearn: 1581.4994323\ttotal: 1m 22s\tremaining: 1m 20s\n",
      "507:\tlearn: 1581.4606349\ttotal: 1m 23s\tremaining: 1m 20s\n",
      "508:\tlearn: 1581.3289833\ttotal: 1m 23s\tremaining: 1m 20s\n",
      "509:\tlearn: 1581.1569158\ttotal: 1m 23s\tremaining: 1m 20s\n",
      "510:\tlearn: 1581.1183267\ttotal: 1m 23s\tremaining: 1m 20s\n",
      "511:\tlearn: 1581.0648779\ttotal: 1m 23s\tremaining: 1m 19s\n",
      "512:\tlearn: 1580.9623096\ttotal: 1m 23s\tremaining: 1m 19s\n",
      "513:\tlearn: 1580.7992922\ttotal: 1m 24s\tremaining: 1m 19s\n",
      "514:\tlearn: 1580.5715341\ttotal: 1m 24s\tremaining: 1m 19s\n",
      "515:\tlearn: 1580.3423498\ttotal: 1m 24s\tremaining: 1m 19s\n",
      "516:\tlearn: 1580.3001400\ttotal: 1m 24s\tremaining: 1m 19s\n",
      "517:\tlearn: 1580.1927867\ttotal: 1m 24s\tremaining: 1m 18s\n",
      "518:\tlearn: 1580.0758674\ttotal: 1m 25s\tremaining: 1m 18s\n",
      "519:\tlearn: 1579.9824199\ttotal: 1m 25s\tremaining: 1m 18s\n",
      "520:\tlearn: 1579.8492813\ttotal: 1m 25s\tremaining: 1m 18s\n",
      "521:\tlearn: 1579.4520863\ttotal: 1m 25s\tremaining: 1m 18s\n",
      "522:\tlearn: 1579.2764656\ttotal: 1m 25s\tremaining: 1m 18s\n",
      "523:\tlearn: 1579.1351035\ttotal: 1m 25s\tremaining: 1m 17s\n",
      "524:\tlearn: 1579.0092293\ttotal: 1m 25s\tremaining: 1m 17s\n",
      "525:\tlearn: 1578.8881634\ttotal: 1m 26s\tremaining: 1m 17s\n",
      "526:\tlearn: 1578.6594448\ttotal: 1m 26s\tremaining: 1m 17s\n",
      "527:\tlearn: 1578.6436310\ttotal: 1m 26s\tremaining: 1m 17s\n",
      "528:\tlearn: 1578.5014404\ttotal: 1m 26s\tremaining: 1m 17s\n",
      "529:\tlearn: 1578.2908263\ttotal: 1m 26s\tremaining: 1m 17s\n",
      "530:\tlearn: 1578.0124534\ttotal: 1m 27s\tremaining: 1m 16s\n",
      "531:\tlearn: 1577.8775950\ttotal: 1m 27s\tremaining: 1m 16s\n",
      "532:\tlearn: 1577.4486655\ttotal: 1m 27s\tremaining: 1m 16s\n",
      "533:\tlearn: 1577.3578801\ttotal: 1m 27s\tremaining: 1m 16s\n",
      "534:\tlearn: 1577.2141434\ttotal: 1m 27s\tremaining: 1m 16s\n",
      "535:\tlearn: 1577.1079198\ttotal: 1m 27s\tremaining: 1m 16s\n",
      "536:\tlearn: 1577.0420784\ttotal: 1m 28s\tremaining: 1m 15s\n",
      "537:\tlearn: 1576.9367034\ttotal: 1m 28s\tremaining: 1m 15s\n",
      "538:\tlearn: 1576.7226722\ttotal: 1m 28s\tremaining: 1m 15s\n",
      "539:\tlearn: 1576.5782353\ttotal: 1m 28s\tremaining: 1m 15s\n",
      "540:\tlearn: 1576.4646160\ttotal: 1m 28s\tremaining: 1m 15s\n",
      "541:\tlearn: 1576.2799077\ttotal: 1m 28s\tremaining: 1m 15s\n",
      "542:\tlearn: 1576.2186305\ttotal: 1m 28s\tremaining: 1m 14s\n",
      "543:\tlearn: 1575.8444615\ttotal: 1m 29s\tremaining: 1m 14s\n",
      "544:\tlearn: 1575.7723404\ttotal: 1m 29s\tremaining: 1m 14s\n",
      "545:\tlearn: 1575.5052042\ttotal: 1m 29s\tremaining: 1m 14s\n",
      "546:\tlearn: 1575.2780787\ttotal: 1m 29s\tremaining: 1m 14s\n",
      "547:\tlearn: 1574.9652944\ttotal: 1m 29s\tremaining: 1m 14s\n",
      "548:\tlearn: 1574.4332204\ttotal: 1m 30s\tremaining: 1m 13s\n",
      "549:\tlearn: 1574.0583022\ttotal: 1m 30s\tremaining: 1m 13s\n",
      "550:\tlearn: 1573.9451585\ttotal: 1m 30s\tremaining: 1m 13s\n",
      "551:\tlearn: 1573.8174525\ttotal: 1m 30s\tremaining: 1m 13s\n",
      "552:\tlearn: 1573.7910300\ttotal: 1m 30s\tremaining: 1m 13s\n",
      "553:\tlearn: 1573.5418314\ttotal: 1m 30s\tremaining: 1m 13s\n",
      "554:\tlearn: 1573.4747510\ttotal: 1m 31s\tremaining: 1m 13s\n",
      "555:\tlearn: 1573.4215288\ttotal: 1m 31s\tremaining: 1m 12s\n",
      "556:\tlearn: 1573.3202801\ttotal: 1m 31s\tremaining: 1m 12s\n",
      "557:\tlearn: 1573.1603222\ttotal: 1m 31s\tremaining: 1m 12s\n",
      "558:\tlearn: 1573.0912275\ttotal: 1m 31s\tremaining: 1m 12s\n",
      "559:\tlearn: 1572.7850272\ttotal: 1m 31s\tremaining: 1m 12s\n",
      "560:\tlearn: 1572.5203905\ttotal: 1m 32s\tremaining: 1m 12s\n",
      "561:\tlearn: 1572.3076748\ttotal: 1m 32s\tremaining: 1m 11s\n",
      "562:\tlearn: 1572.0672173\ttotal: 1m 32s\tremaining: 1m 11s\n",
      "563:\tlearn: 1571.6861635\ttotal: 1m 32s\tremaining: 1m 11s\n",
      "564:\tlearn: 1571.4463675\ttotal: 1m 32s\tremaining: 1m 11s\n",
      "565:\tlearn: 1571.4140962\ttotal: 1m 32s\tremaining: 1m 11s\n",
      "566:\tlearn: 1571.2718628\ttotal: 1m 33s\tremaining: 1m 11s\n",
      "567:\tlearn: 1571.1902420\ttotal: 1m 33s\tremaining: 1m 10s\n",
      "568:\tlearn: 1570.9666820\ttotal: 1m 33s\tremaining: 1m 10s\n",
      "569:\tlearn: 1570.7708356\ttotal: 1m 33s\tremaining: 1m 10s\n",
      "570:\tlearn: 1570.4367973\ttotal: 1m 33s\tremaining: 1m 10s\n",
      "571:\tlearn: 1570.3595290\ttotal: 1m 33s\tremaining: 1m 10s\n",
      "572:\tlearn: 1570.1324980\ttotal: 1m 33s\tremaining: 1m 10s\n",
      "573:\tlearn: 1570.0582639\ttotal: 1m 34s\tremaining: 1m 9s\n",
      "574:\tlearn: 1569.9108755\ttotal: 1m 34s\tremaining: 1m 9s\n",
      "575:\tlearn: 1569.8753792\ttotal: 1m 34s\tremaining: 1m 9s\n",
      "576:\tlearn: 1569.6210453\ttotal: 1m 34s\tremaining: 1m 9s\n",
      "577:\tlearn: 1569.6169833\ttotal: 1m 34s\tremaining: 1m 9s\n",
      "578:\tlearn: 1569.5680089\ttotal: 1m 35s\tremaining: 1m 9s\n",
      "579:\tlearn: 1569.3031620\ttotal: 1m 35s\tremaining: 1m 8s\n",
      "580:\tlearn: 1569.0818225\ttotal: 1m 35s\tremaining: 1m 8s\n",
      "581:\tlearn: 1568.9045253\ttotal: 1m 35s\tremaining: 1m 8s\n",
      "582:\tlearn: 1568.5646366\ttotal: 1m 35s\tremaining: 1m 8s\n",
      "583:\tlearn: 1568.3174616\ttotal: 1m 35s\tremaining: 1m 8s\n",
      "584:\tlearn: 1568.2148937\ttotal: 1m 35s\tremaining: 1m 8s\n",
      "585:\tlearn: 1568.1115011\ttotal: 1m 36s\tremaining: 1m 7s\n",
      "586:\tlearn: 1568.0033096\ttotal: 1m 36s\tremaining: 1m 7s\n",
      "587:\tlearn: 1567.9271259\ttotal: 1m 36s\tremaining: 1m 7s\n",
      "588:\tlearn: 1567.7331014\ttotal: 1m 36s\tremaining: 1m 7s\n",
      "589:\tlearn: 1567.7294821\ttotal: 1m 36s\tremaining: 1m 7s\n",
      "590:\tlearn: 1567.6819274\ttotal: 1m 36s\tremaining: 1m 6s\n",
      "591:\tlearn: 1567.6720634\ttotal: 1m 36s\tremaining: 1m 6s\n",
      "592:\tlearn: 1567.5800760\ttotal: 1m 37s\tremaining: 1m 6s\n",
      "593:\tlearn: 1567.4477038\ttotal: 1m 37s\tremaining: 1m 6s\n",
      "594:\tlearn: 1567.4069489\ttotal: 1m 37s\tremaining: 1m 6s\n",
      "595:\tlearn: 1567.3238386\ttotal: 1m 37s\tremaining: 1m 6s\n",
      "596:\tlearn: 1567.2644631\ttotal: 1m 37s\tremaining: 1m 6s\n",
      "597:\tlearn: 1567.0528902\ttotal: 1m 37s\tremaining: 1m 5s\n",
      "598:\tlearn: 1566.7770431\ttotal: 1m 38s\tremaining: 1m 5s\n",
      "599:\tlearn: 1566.5062197\ttotal: 1m 38s\tremaining: 1m 5s\n",
      "600:\tlearn: 1566.4756423\ttotal: 1m 38s\tremaining: 1m 5s\n",
      "601:\tlearn: 1566.3558852\ttotal: 1m 38s\tremaining: 1m 5s\n",
      "602:\tlearn: 1566.2060872\ttotal: 1m 38s\tremaining: 1m 4s\n",
      "603:\tlearn: 1566.0949727\ttotal: 1m 38s\tremaining: 1m 4s\n",
      "604:\tlearn: 1566.0390260\ttotal: 1m 39s\tremaining: 1m 4s\n",
      "605:\tlearn: 1565.8705439\ttotal: 1m 39s\tremaining: 1m 4s\n",
      "606:\tlearn: 1565.7478891\ttotal: 1m 39s\tremaining: 1m 4s\n",
      "607:\tlearn: 1565.6043851\ttotal: 1m 39s\tremaining: 1m 4s\n",
      "608:\tlearn: 1565.4409116\ttotal: 1m 39s\tremaining: 1m 4s\n",
      "609:\tlearn: 1565.3500630\ttotal: 1m 39s\tremaining: 1m 3s\n",
      "610:\tlearn: 1565.2096305\ttotal: 1m 40s\tremaining: 1m 3s\n",
      "611:\tlearn: 1565.0931739\ttotal: 1m 40s\tremaining: 1m 3s\n",
      "612:\tlearn: 1564.8819394\ttotal: 1m 40s\tremaining: 1m 3s\n",
      "613:\tlearn: 1564.7949838\ttotal: 1m 40s\tremaining: 1m 3s\n",
      "614:\tlearn: 1564.7746312\ttotal: 1m 40s\tremaining: 1m 3s\n",
      "615:\tlearn: 1564.4760770\ttotal: 1m 41s\tremaining: 1m 2s\n",
      "616:\tlearn: 1564.2977995\ttotal: 1m 41s\tremaining: 1m 2s\n",
      "617:\tlearn: 1564.2298793\ttotal: 1m 41s\tremaining: 1m 2s\n",
      "618:\tlearn: 1564.1137550\ttotal: 1m 41s\tremaining: 1m 2s\n",
      "619:\tlearn: 1563.9351208\ttotal: 1m 41s\tremaining: 1m 2s\n",
      "620:\tlearn: 1563.8567210\ttotal: 1m 41s\tremaining: 1m 2s\n",
      "621:\tlearn: 1563.7249021\ttotal: 1m 41s\tremaining: 1m 1s\n",
      "622:\tlearn: 1563.4949427\ttotal: 1m 42s\tremaining: 1m 1s\n",
      "623:\tlearn: 1563.4799419\ttotal: 1m 42s\tremaining: 1m 1s\n"
     ]
    },
    {
     "name": "stdout",
     "output_type": "stream",
     "text": [
      "624:\tlearn: 1563.3552129\ttotal: 1m 42s\tremaining: 1m 1s\n",
      "625:\tlearn: 1563.1571904\ttotal: 1m 42s\tremaining: 1m 1s\n",
      "626:\tlearn: 1562.9613237\ttotal: 1m 42s\tremaining: 1m 1s\n",
      "627:\tlearn: 1562.6835956\ttotal: 1m 42s\tremaining: 1m\n",
      "628:\tlearn: 1562.4982240\ttotal: 1m 43s\tremaining: 1m\n",
      "629:\tlearn: 1562.3464890\ttotal: 1m 43s\tremaining: 1m\n",
      "630:\tlearn: 1562.1644559\ttotal: 1m 43s\tremaining: 1m\n",
      "631:\tlearn: 1561.9833282\ttotal: 1m 43s\tremaining: 1m\n",
      "632:\tlearn: 1561.7351562\ttotal: 1m 43s\tremaining: 1m\n",
      "633:\tlearn: 1561.6578407\ttotal: 1m 43s\tremaining: 60s\n",
      "634:\tlearn: 1561.4198276\ttotal: 1m 44s\tremaining: 59.8s\n",
      "635:\tlearn: 1561.2878907\ttotal: 1m 44s\tremaining: 59.7s\n",
      "636:\tlearn: 1561.1193788\ttotal: 1m 44s\tremaining: 59.5s\n",
      "637:\tlearn: 1561.0960736\ttotal: 1m 44s\tremaining: 59.4s\n",
      "638:\tlearn: 1560.9862788\ttotal: 1m 44s\tremaining: 59.2s\n",
      "639:\tlearn: 1560.9487501\ttotal: 1m 45s\tremaining: 59.1s\n",
      "640:\tlearn: 1560.9352268\ttotal: 1m 45s\tremaining: 58.9s\n",
      "641:\tlearn: 1560.8043754\ttotal: 1m 45s\tremaining: 58.7s\n",
      "642:\tlearn: 1560.7043756\ttotal: 1m 45s\tremaining: 58.6s\n",
      "643:\tlearn: 1560.4964865\ttotal: 1m 45s\tremaining: 58.4s\n",
      "644:\tlearn: 1560.2587178\ttotal: 1m 45s\tremaining: 58.2s\n",
      "645:\tlearn: 1560.0873654\ttotal: 1m 46s\tremaining: 58.1s\n",
      "646:\tlearn: 1560.0259369\ttotal: 1m 46s\tremaining: 57.9s\n",
      "647:\tlearn: 1559.9167280\ttotal: 1m 46s\tremaining: 57.7s\n",
      "648:\tlearn: 1559.7987223\ttotal: 1m 46s\tremaining: 57.6s\n",
      "649:\tlearn: 1559.7073820\ttotal: 1m 46s\tremaining: 57.4s\n",
      "650:\tlearn: 1559.6130749\ttotal: 1m 46s\tremaining: 57.3s\n",
      "651:\tlearn: 1559.4207785\ttotal: 1m 46s\tremaining: 57.1s\n",
      "652:\tlearn: 1559.2389821\ttotal: 1m 47s\tremaining: 57s\n",
      "653:\tlearn: 1559.0626966\ttotal: 1m 47s\tremaining: 56.8s\n",
      "654:\tlearn: 1558.9110452\ttotal: 1m 47s\tremaining: 56.6s\n",
      "655:\tlearn: 1558.6698327\ttotal: 1m 47s\tremaining: 56.5s\n",
      "656:\tlearn: 1558.4164582\ttotal: 1m 47s\tremaining: 56.3s\n",
      "657:\tlearn: 1558.1286597\ttotal: 1m 48s\tremaining: 56.2s\n",
      "658:\tlearn: 1558.1011030\ttotal: 1m 48s\tremaining: 56s\n",
      "659:\tlearn: 1557.9267514\ttotal: 1m 48s\tremaining: 55.9s\n",
      "660:\tlearn: 1557.8688397\ttotal: 1m 48s\tremaining: 55.7s\n",
      "661:\tlearn: 1557.7843649\ttotal: 1m 48s\tremaining: 55.5s\n",
      "662:\tlearn: 1557.6647586\ttotal: 1m 48s\tremaining: 55.4s\n",
      "663:\tlearn: 1557.5555141\ttotal: 1m 49s\tremaining: 55.2s\n",
      "664:\tlearn: 1557.4278526\ttotal: 1m 49s\tremaining: 55s\n",
      "665:\tlearn: 1557.3866298\ttotal: 1m 49s\tremaining: 54.9s\n",
      "666:\tlearn: 1557.3363385\ttotal: 1m 49s\tremaining: 54.7s\n",
      "667:\tlearn: 1557.3100990\ttotal: 1m 49s\tremaining: 54.5s\n",
      "668:\tlearn: 1557.2700637\ttotal: 1m 49s\tremaining: 54.4s\n",
      "669:\tlearn: 1557.1583018\ttotal: 1m 50s\tremaining: 54.2s\n",
      "670:\tlearn: 1557.0509347\ttotal: 1m 50s\tremaining: 54s\n",
      "671:\tlearn: 1556.9744877\ttotal: 1m 50s\tremaining: 53.9s\n",
      "672:\tlearn: 1556.8826070\ttotal: 1m 50s\tremaining: 53.7s\n",
      "673:\tlearn: 1556.7739848\ttotal: 1m 50s\tremaining: 53.6s\n",
      "674:\tlearn: 1556.5995123\ttotal: 1m 50s\tremaining: 53.4s\n",
      "675:\tlearn: 1556.5180390\ttotal: 1m 51s\tremaining: 53.2s\n",
      "676:\tlearn: 1556.4467458\ttotal: 1m 51s\tremaining: 53.1s\n",
      "677:\tlearn: 1556.1697422\ttotal: 1m 51s\tremaining: 52.9s\n",
      "678:\tlearn: 1556.0538561\ttotal: 1m 51s\tremaining: 52.7s\n",
      "679:\tlearn: 1555.9530828\ttotal: 1m 51s\tremaining: 52.6s\n",
      "680:\tlearn: 1555.6579387\ttotal: 1m 51s\tremaining: 52.4s\n",
      "681:\tlearn: 1555.4886110\ttotal: 1m 52s\tremaining: 52.3s\n",
      "682:\tlearn: 1555.4042870\ttotal: 1m 52s\tremaining: 52.1s\n",
      "683:\tlearn: 1555.3716895\ttotal: 1m 52s\tremaining: 51.9s\n",
      "684:\tlearn: 1555.2818713\ttotal: 1m 52s\tremaining: 51.8s\n",
      "685:\tlearn: 1555.0157605\ttotal: 1m 52s\tremaining: 51.6s\n",
      "686:\tlearn: 1554.8176073\ttotal: 1m 52s\tremaining: 51.4s\n",
      "687:\tlearn: 1554.6972686\ttotal: 1m 52s\tremaining: 51.2s\n",
      "688:\tlearn: 1554.6703931\ttotal: 1m 53s\tremaining: 51.1s\n",
      "689:\tlearn: 1554.6057646\ttotal: 1m 53s\tremaining: 50.9s\n",
      "690:\tlearn: 1554.4029966\ttotal: 1m 53s\tremaining: 50.7s\n",
      "691:\tlearn: 1554.2641658\ttotal: 1m 53s\tremaining: 50.6s\n",
      "692:\tlearn: 1554.1075346\ttotal: 1m 53s\tremaining: 50.4s\n",
      "693:\tlearn: 1553.9684497\ttotal: 1m 53s\tremaining: 50.3s\n",
      "694:\tlearn: 1553.8948386\ttotal: 1m 54s\tremaining: 50.1s\n",
      "695:\tlearn: 1553.6738502\ttotal: 1m 54s\tremaining: 50s\n",
      "696:\tlearn: 1553.5428525\ttotal: 1m 54s\tremaining: 49.8s\n",
      "697:\tlearn: 1553.4463814\ttotal: 1m 54s\tremaining: 49.6s\n",
      "698:\tlearn: 1553.3435164\ttotal: 1m 54s\tremaining: 49.5s\n",
      "699:\tlearn: 1553.2406169\ttotal: 1m 55s\tremaining: 49.3s\n",
      "700:\tlearn: 1553.2225910\ttotal: 1m 55s\tremaining: 49.1s\n",
      "701:\tlearn: 1553.1427539\ttotal: 1m 55s\tremaining: 49s\n",
      "702:\tlearn: 1552.8700238\ttotal: 1m 55s\tremaining: 48.8s\n",
      "703:\tlearn: 1552.6420789\ttotal: 1m 55s\tremaining: 48.7s\n",
      "704:\tlearn: 1552.5393734\ttotal: 1m 55s\tremaining: 48.5s\n",
      "705:\tlearn: 1552.5191043\ttotal: 1m 56s\tremaining: 48.3s\n",
      "706:\tlearn: 1552.2923702\ttotal: 1m 56s\tremaining: 48.1s\n",
      "707:\tlearn: 1552.2770997\ttotal: 1m 56s\tremaining: 48s\n",
      "708:\tlearn: 1552.2246527\ttotal: 1m 56s\tremaining: 47.8s\n",
      "709:\tlearn: 1552.0646553\ttotal: 1m 56s\tremaining: 47.7s\n",
      "710:\tlearn: 1551.9577546\ttotal: 1m 56s\tremaining: 47.5s\n",
      "711:\tlearn: 1551.8453056\ttotal: 1m 57s\tremaining: 47.4s\n",
      "712:\tlearn: 1551.7278240\ttotal: 1m 57s\tremaining: 47.2s\n",
      "713:\tlearn: 1551.5570767\ttotal: 1m 57s\tremaining: 47.1s\n",
      "714:\tlearn: 1551.4278676\ttotal: 1m 57s\tremaining: 46.9s\n",
      "715:\tlearn: 1551.3744552\ttotal: 1m 57s\tremaining: 46.7s\n",
      "716:\tlearn: 1551.2778198\ttotal: 1m 57s\tremaining: 46.5s\n",
      "717:\tlearn: 1551.1440175\ttotal: 1m 58s\tremaining: 46.4s\n",
      "718:\tlearn: 1551.0495947\ttotal: 1m 58s\tremaining: 46.2s\n",
      "719:\tlearn: 1550.9509744\ttotal: 1m 58s\tremaining: 46.1s\n",
      "720:\tlearn: 1550.6035886\ttotal: 1m 58s\tremaining: 45.9s\n",
      "721:\tlearn: 1550.5625887\ttotal: 1m 58s\tremaining: 45.8s\n",
      "722:\tlearn: 1550.3707285\ttotal: 1m 58s\tremaining: 45.6s\n",
      "723:\tlearn: 1550.3014001\ttotal: 1m 59s\tremaining: 45.4s\n",
      "724:\tlearn: 1550.2249046\ttotal: 1m 59s\tremaining: 45.3s\n",
      "725:\tlearn: 1550.1664170\ttotal: 1m 59s\tremaining: 45.1s\n",
      "726:\tlearn: 1550.1020415\ttotal: 1m 59s\tremaining: 44.9s\n",
      "727:\tlearn: 1550.0401850\ttotal: 1m 59s\tremaining: 44.8s\n",
      "728:\tlearn: 1549.9758109\ttotal: 1m 59s\tremaining: 44.6s\n",
      "729:\tlearn: 1549.8965107\ttotal: 2m\tremaining: 44.4s\n",
      "730:\tlearn: 1549.7945067\ttotal: 2m\tremaining: 44.3s\n",
      "731:\tlearn: 1549.7344406\ttotal: 2m\tremaining: 44.1s\n",
      "732:\tlearn: 1549.6496926\ttotal: 2m\tremaining: 43.9s\n",
      "733:\tlearn: 1549.5137426\ttotal: 2m\tremaining: 43.8s\n",
      "734:\tlearn: 1549.4542033\ttotal: 2m\tremaining: 43.6s\n",
      "735:\tlearn: 1549.3133815\ttotal: 2m 1s\tremaining: 43.4s\n",
      "736:\tlearn: 1549.1257737\ttotal: 2m 1s\tremaining: 43.3s\n",
      "737:\tlearn: 1548.9008128\ttotal: 2m 1s\tremaining: 43.1s\n",
      "738:\tlearn: 1548.8697398\ttotal: 2m 1s\tremaining: 43s\n",
      "739:\tlearn: 1548.6583982\ttotal: 2m 1s\tremaining: 42.8s\n",
      "740:\tlearn: 1548.5115693\ttotal: 2m 2s\tremaining: 42.6s\n",
      "741:\tlearn: 1548.3472558\ttotal: 2m 2s\tremaining: 42.5s\n",
      "742:\tlearn: 1548.1050722\ttotal: 2m 2s\tremaining: 42.3s\n",
      "743:\tlearn: 1547.9574350\ttotal: 2m 2s\tremaining: 42.2s\n",
      "744:\tlearn: 1547.7751319\ttotal: 2m 2s\tremaining: 42s\n",
      "745:\tlearn: 1547.5709133\ttotal: 2m 2s\tremaining: 41.9s\n",
      "746:\tlearn: 1547.5476794\ttotal: 2m 3s\tremaining: 41.7s\n",
      "747:\tlearn: 1547.3112552\ttotal: 2m 3s\tremaining: 41.5s\n",
      "748:\tlearn: 1547.1343662\ttotal: 2m 3s\tremaining: 41.3s\n",
      "749:\tlearn: 1546.8644228\ttotal: 2m 3s\tremaining: 41.2s\n",
      "750:\tlearn: 1546.8452469\ttotal: 2m 3s\tremaining: 41s\n",
      "751:\tlearn: 1546.6895535\ttotal: 2m 3s\tremaining: 40.9s\n",
      "752:\tlearn: 1546.4314254\ttotal: 2m 4s\tremaining: 40.7s\n",
      "753:\tlearn: 1546.2457756\ttotal: 2m 4s\tremaining: 40.5s\n",
      "754:\tlearn: 1546.1542921\ttotal: 2m 4s\tremaining: 40.4s\n",
      "755:\tlearn: 1545.9322545\ttotal: 2m 4s\tremaining: 40.2s\n",
      "756:\tlearn: 1545.8476911\ttotal: 2m 4s\tremaining: 40.1s\n",
      "757:\tlearn: 1545.7236857\ttotal: 2m 4s\tremaining: 39.9s\n",
      "758:\tlearn: 1545.6659132\ttotal: 2m 5s\tremaining: 39.7s\n",
      "759:\tlearn: 1545.6247487\ttotal: 2m 5s\tremaining: 39.5s\n",
      "760:\tlearn: 1545.5646343\ttotal: 2m 5s\tremaining: 39.4s\n",
      "761:\tlearn: 1545.4340016\ttotal: 2m 5s\tremaining: 39.2s\n",
      "762:\tlearn: 1545.3948861\ttotal: 2m 5s\tremaining: 39s\n",
      "763:\tlearn: 1545.3484779\ttotal: 2m 5s\tremaining: 38.9s\n",
      "764:\tlearn: 1545.1766227\ttotal: 2m 5s\tremaining: 38.7s\n",
      "765:\tlearn: 1544.9876007\ttotal: 2m 6s\tremaining: 38.5s\n",
      "766:\tlearn: 1544.9626162\ttotal: 2m 6s\tremaining: 38.3s\n",
      "767:\tlearn: 1544.7341539\ttotal: 2m 6s\tremaining: 38.2s\n",
      "768:\tlearn: 1544.6446164\ttotal: 2m 6s\tremaining: 38s\n",
      "769:\tlearn: 1544.5890793\ttotal: 2m 6s\tremaining: 37.9s\n",
      "770:\tlearn: 1544.4653210\ttotal: 2m 6s\tremaining: 37.7s\n",
      "771:\tlearn: 1544.0974482\ttotal: 2m 7s\tremaining: 37.5s\n",
      "772:\tlearn: 1543.8212953\ttotal: 2m 7s\tremaining: 37.4s\n"
     ]
    },
    {
     "name": "stdout",
     "output_type": "stream",
     "text": [
      "773:\tlearn: 1543.7115779\ttotal: 2m 7s\tremaining: 37.2s\n",
      "774:\tlearn: 1543.6983999\ttotal: 2m 7s\tremaining: 37.1s\n",
      "775:\tlearn: 1543.3890405\ttotal: 2m 7s\tremaining: 36.9s\n",
      "776:\tlearn: 1543.3123702\ttotal: 2m 8s\tremaining: 36.7s\n",
      "777:\tlearn: 1542.9688216\ttotal: 2m 8s\tremaining: 36.6s\n",
      "778:\tlearn: 1542.8992863\ttotal: 2m 8s\tremaining: 36.4s\n",
      "779:\tlearn: 1542.7242554\ttotal: 2m 8s\tremaining: 36.2s\n",
      "780:\tlearn: 1542.6955602\ttotal: 2m 8s\tremaining: 36.1s\n",
      "781:\tlearn: 1542.6472461\ttotal: 2m 8s\tremaining: 35.9s\n",
      "782:\tlearn: 1542.4293551\ttotal: 2m 9s\tremaining: 35.8s\n",
      "783:\tlearn: 1542.3650083\ttotal: 2m 9s\tremaining: 35.6s\n",
      "784:\tlearn: 1542.2248965\ttotal: 2m 9s\tremaining: 35.4s\n",
      "785:\tlearn: 1542.1541260\ttotal: 2m 9s\tremaining: 35.3s\n",
      "786:\tlearn: 1541.8970989\ttotal: 2m 9s\tremaining: 35.1s\n",
      "787:\tlearn: 1541.7312765\ttotal: 2m 9s\tremaining: 34.9s\n",
      "788:\tlearn: 1541.4646171\ttotal: 2m 10s\tremaining: 34.8s\n",
      "789:\tlearn: 1541.3041439\ttotal: 2m 10s\tremaining: 34.6s\n",
      "790:\tlearn: 1541.1747495\ttotal: 2m 10s\tremaining: 34.4s\n",
      "791:\tlearn: 1541.0909295\ttotal: 2m 10s\tremaining: 34.3s\n",
      "792:\tlearn: 1541.0231706\ttotal: 2m 10s\tremaining: 34.1s\n",
      "793:\tlearn: 1540.8569100\ttotal: 2m 10s\tremaining: 33.9s\n",
      "794:\tlearn: 1540.7508884\ttotal: 2m 10s\tremaining: 33.7s\n",
      "795:\tlearn: 1540.7118596\ttotal: 2m 11s\tremaining: 33.6s\n",
      "796:\tlearn: 1540.4576371\ttotal: 2m 11s\tremaining: 33.4s\n",
      "797:\tlearn: 1540.4358420\ttotal: 2m 11s\tremaining: 33.2s\n",
      "798:\tlearn: 1540.3721315\ttotal: 2m 11s\tremaining: 33.1s\n",
      "799:\tlearn: 1540.1973233\ttotal: 2m 11s\tremaining: 32.9s\n",
      "800:\tlearn: 1540.1409045\ttotal: 2m 11s\tremaining: 32.7s\n",
      "801:\tlearn: 1539.8308095\ttotal: 2m 11s\tremaining: 32.6s\n",
      "802:\tlearn: 1539.7908466\ttotal: 2m 12s\tremaining: 32.4s\n",
      "803:\tlearn: 1539.6578510\ttotal: 2m 12s\tremaining: 32.2s\n",
      "804:\tlearn: 1539.5222296\ttotal: 2m 12s\tremaining: 32.1s\n",
      "805:\tlearn: 1539.5118317\ttotal: 2m 12s\tremaining: 31.9s\n",
      "806:\tlearn: 1539.4511625\ttotal: 2m 12s\tremaining: 31.8s\n",
      "807:\tlearn: 1539.4204354\ttotal: 2m 12s\tremaining: 31.6s\n",
      "808:\tlearn: 1539.3884036\ttotal: 2m 13s\tremaining: 31.4s\n",
      "809:\tlearn: 1539.1883404\ttotal: 2m 13s\tremaining: 31.3s\n",
      "810:\tlearn: 1539.1115734\ttotal: 2m 13s\tremaining: 31.1s\n",
      "811:\tlearn: 1538.9958495\ttotal: 2m 13s\tremaining: 30.9s\n",
      "812:\tlearn: 1538.9366822\ttotal: 2m 13s\tremaining: 30.8s\n",
      "813:\tlearn: 1538.8670620\ttotal: 2m 13s\tremaining: 30.6s\n",
      "814:\tlearn: 1538.8258936\ttotal: 2m 13s\tremaining: 30.4s\n",
      "815:\tlearn: 1538.6949064\ttotal: 2m 14s\tremaining: 30.2s\n",
      "816:\tlearn: 1538.6580137\ttotal: 2m 14s\tremaining: 30.1s\n",
      "817:\tlearn: 1538.5862180\ttotal: 2m 14s\tremaining: 29.9s\n",
      "818:\tlearn: 1538.5311743\ttotal: 2m 14s\tremaining: 29.7s\n",
      "819:\tlearn: 1538.3997502\ttotal: 2m 14s\tremaining: 29.6s\n",
      "820:\tlearn: 1538.3397734\ttotal: 2m 14s\tremaining: 29.4s\n",
      "821:\tlearn: 1538.2661794\ttotal: 2m 15s\tremaining: 29.3s\n",
      "822:\tlearn: 1538.1887072\ttotal: 2m 15s\tremaining: 29.1s\n",
      "823:\tlearn: 1537.9487020\ttotal: 2m 15s\tremaining: 28.9s\n",
      "824:\tlearn: 1537.8757118\ttotal: 2m 15s\tremaining: 28.8s\n",
      "825:\tlearn: 1537.8357888\ttotal: 2m 15s\tremaining: 28.6s\n",
      "826:\tlearn: 1537.8266957\ttotal: 2m 15s\tremaining: 28.4s\n",
      "827:\tlearn: 1537.5541428\ttotal: 2m 15s\tremaining: 28.2s\n",
      "828:\tlearn: 1537.4488000\ttotal: 2m 16s\tremaining: 28.1s\n",
      "829:\tlearn: 1537.3719656\ttotal: 2m 16s\tremaining: 27.9s\n",
      "830:\tlearn: 1537.2766486\ttotal: 2m 16s\tremaining: 27.8s\n",
      "831:\tlearn: 1537.2111578\ttotal: 2m 16s\tremaining: 27.6s\n",
      "832:\tlearn: 1537.1730348\ttotal: 2m 16s\tremaining: 27.4s\n",
      "833:\tlearn: 1537.0653239\ttotal: 2m 17s\tremaining: 27.3s\n",
      "834:\tlearn: 1537.0436057\ttotal: 2m 17s\tremaining: 27.1s\n",
      "835:\tlearn: 1537.0315988\ttotal: 2m 17s\tremaining: 27s\n",
      "836:\tlearn: 1537.0119108\ttotal: 2m 17s\tremaining: 26.8s\n",
      "837:\tlearn: 1536.9353006\ttotal: 2m 17s\tremaining: 26.6s\n",
      "838:\tlearn: 1536.8523416\ttotal: 2m 17s\tremaining: 26.5s\n",
      "839:\tlearn: 1536.7805421\ttotal: 2m 18s\tremaining: 26.3s\n",
      "840:\tlearn: 1536.6926373\ttotal: 2m 18s\tremaining: 26.1s\n",
      "841:\tlearn: 1536.5517291\ttotal: 2m 18s\tremaining: 26s\n",
      "842:\tlearn: 1536.4283855\ttotal: 2m 18s\tremaining: 25.8s\n",
      "843:\tlearn: 1536.2357332\ttotal: 2m 18s\tremaining: 25.6s\n",
      "844:\tlearn: 1536.0958489\ttotal: 2m 18s\tremaining: 25.5s\n",
      "845:\tlearn: 1535.9634834\ttotal: 2m 19s\tremaining: 25.3s\n",
      "846:\tlearn: 1535.8893140\ttotal: 2m 19s\tremaining: 25.2s\n",
      "847:\tlearn: 1535.6637661\ttotal: 2m 19s\tremaining: 25s\n",
      "848:\tlearn: 1535.5686061\ttotal: 2m 19s\tremaining: 24.8s\n",
      "849:\tlearn: 1535.3951647\ttotal: 2m 19s\tremaining: 24.7s\n",
      "850:\tlearn: 1535.3710674\ttotal: 2m 19s\tremaining: 24.5s\n",
      "851:\tlearn: 1535.3595656\ttotal: 2m 20s\tremaining: 24.3s\n",
      "852:\tlearn: 1535.2961274\ttotal: 2m 20s\tremaining: 24.2s\n",
      "853:\tlearn: 1535.1948458\ttotal: 2m 20s\tremaining: 24s\n",
      "854:\tlearn: 1535.1297652\ttotal: 2m 20s\tremaining: 23.8s\n",
      "855:\tlearn: 1534.9805727\ttotal: 2m 20s\tremaining: 23.7s\n",
      "856:\tlearn: 1534.9178623\ttotal: 2m 20s\tremaining: 23.5s\n",
      "857:\tlearn: 1534.7831916\ttotal: 2m 21s\tremaining: 23.4s\n",
      "858:\tlearn: 1534.6542291\ttotal: 2m 21s\tremaining: 23.2s\n",
      "859:\tlearn: 1534.6283008\ttotal: 2m 21s\tremaining: 23s\n",
      "860:\tlearn: 1534.5971348\ttotal: 2m 21s\tremaining: 22.9s\n",
      "861:\tlearn: 1534.5311707\ttotal: 2m 21s\tremaining: 22.7s\n",
      "862:\tlearn: 1534.4879848\ttotal: 2m 21s\tremaining: 22.5s\n",
      "863:\tlearn: 1534.4302801\ttotal: 2m 22s\tremaining: 22.4s\n",
      "864:\tlearn: 1534.3087411\ttotal: 2m 22s\tremaining: 22.2s\n",
      "865:\tlearn: 1534.2577130\ttotal: 2m 22s\tremaining: 22s\n",
      "866:\tlearn: 1534.2191252\ttotal: 2m 22s\tremaining: 21.9s\n",
      "867:\tlearn: 1534.0793204\ttotal: 2m 22s\tremaining: 21.7s\n",
      "868:\tlearn: 1534.0212178\ttotal: 2m 22s\tremaining: 21.5s\n",
      "869:\tlearn: 1533.9411568\ttotal: 2m 23s\tremaining: 21.4s\n",
      "870:\tlearn: 1533.8999721\ttotal: 2m 23s\tremaining: 21.2s\n",
      "871:\tlearn: 1533.6896358\ttotal: 2m 23s\tremaining: 21s\n",
      "872:\tlearn: 1533.4064969\ttotal: 2m 23s\tremaining: 20.9s\n",
      "873:\tlearn: 1533.3114675\ttotal: 2m 23s\tremaining: 20.7s\n",
      "874:\tlearn: 1533.2333632\ttotal: 2m 23s\tremaining: 20.5s\n",
      "875:\tlearn: 1533.0896702\ttotal: 2m 23s\tremaining: 20.4s\n",
      "876:\tlearn: 1532.9609634\ttotal: 2m 24s\tremaining: 20.2s\n",
      "877:\tlearn: 1532.8520843\ttotal: 2m 24s\tremaining: 20.1s\n",
      "878:\tlearn: 1532.6682885\ttotal: 2m 24s\tremaining: 19.9s\n",
      "879:\tlearn: 1532.5673323\ttotal: 2m 24s\tremaining: 19.7s\n",
      "880:\tlearn: 1532.5002569\ttotal: 2m 24s\tremaining: 19.6s\n",
      "881:\tlearn: 1532.4207603\ttotal: 2m 25s\tremaining: 19.4s\n",
      "882:\tlearn: 1532.2875098\ttotal: 2m 25s\tremaining: 19.2s\n",
      "883:\tlearn: 1532.1067737\ttotal: 2m 25s\tremaining: 19.1s\n",
      "884:\tlearn: 1532.0166047\ttotal: 2m 25s\tremaining: 18.9s\n",
      "885:\tlearn: 1531.8911194\ttotal: 2m 25s\tremaining: 18.8s\n",
      "886:\tlearn: 1531.8019097\ttotal: 2m 25s\tremaining: 18.6s\n",
      "887:\tlearn: 1531.6495158\ttotal: 2m 26s\tremaining: 18.4s\n",
      "888:\tlearn: 1531.5343920\ttotal: 2m 26s\tremaining: 18.3s\n",
      "889:\tlearn: 1531.3473993\ttotal: 2m 26s\tremaining: 18.1s\n",
      "890:\tlearn: 1531.2823560\ttotal: 2m 26s\tremaining: 17.9s\n",
      "891:\tlearn: 1531.1654290\ttotal: 2m 26s\tremaining: 17.8s\n",
      "892:\tlearn: 1531.0188781\ttotal: 2m 26s\tremaining: 17.6s\n",
      "893:\tlearn: 1530.8536035\ttotal: 2m 27s\tremaining: 17.4s\n",
      "894:\tlearn: 1530.7063122\ttotal: 2m 27s\tremaining: 17.3s\n",
      "895:\tlearn: 1530.6887621\ttotal: 2m 27s\tremaining: 17.1s\n",
      "896:\tlearn: 1530.6541963\ttotal: 2m 27s\tremaining: 17s\n",
      "897:\tlearn: 1530.6367419\ttotal: 2m 27s\tremaining: 16.8s\n",
      "898:\tlearn: 1530.5362945\ttotal: 2m 27s\tremaining: 16.6s\n",
      "899:\tlearn: 1530.2769760\ttotal: 2m 28s\tremaining: 16.5s\n",
      "900:\tlearn: 1530.1943632\ttotal: 2m 28s\tremaining: 16.3s\n",
      "901:\tlearn: 1530.1635949\ttotal: 2m 28s\tremaining: 16.1s\n",
      "902:\tlearn: 1530.1532640\ttotal: 2m 28s\tremaining: 16s\n",
      "903:\tlearn: 1530.1434855\ttotal: 2m 28s\tremaining: 15.8s\n",
      "904:\tlearn: 1530.1221787\ttotal: 2m 28s\tremaining: 15.6s\n",
      "905:\tlearn: 1529.9594838\ttotal: 2m 29s\tremaining: 15.5s\n",
      "906:\tlearn: 1529.9406706\ttotal: 2m 29s\tremaining: 15.3s\n",
      "907:\tlearn: 1529.9245795\ttotal: 2m 29s\tremaining: 15.1s\n",
      "908:\tlearn: 1529.8213291\ttotal: 2m 29s\tremaining: 15s\n",
      "909:\tlearn: 1529.7084127\ttotal: 2m 29s\tremaining: 14.8s\n",
      "910:\tlearn: 1529.6895538\ttotal: 2m 29s\tremaining: 14.6s\n",
      "911:\tlearn: 1529.6742596\ttotal: 2m 30s\tremaining: 14.5s\n",
      "912:\tlearn: 1529.6162034\ttotal: 2m 30s\tremaining: 14.3s\n",
      "913:\tlearn: 1529.5443034\ttotal: 2m 30s\tremaining: 14.2s\n",
      "914:\tlearn: 1529.5291625\ttotal: 2m 30s\tremaining: 14s\n",
      "915:\tlearn: 1529.4911214\ttotal: 2m 30s\tremaining: 13.8s\n",
      "916:\tlearn: 1529.3907128\ttotal: 2m 30s\tremaining: 13.7s\n",
      "917:\tlearn: 1529.3512902\ttotal: 2m 31s\tremaining: 13.5s\n",
      "918:\tlearn: 1529.1803893\ttotal: 2m 31s\tremaining: 13.3s\n",
      "919:\tlearn: 1529.1549671\ttotal: 2m 31s\tremaining: 13.2s\n",
      "920:\tlearn: 1529.1327626\ttotal: 2m 31s\tremaining: 13s\n"
     ]
    },
    {
     "name": "stdout",
     "output_type": "stream",
     "text": [
      "921:\tlearn: 1528.9727271\ttotal: 2m 31s\tremaining: 12.8s\n",
      "922:\tlearn: 1528.9109840\ttotal: 2m 31s\tremaining: 12.7s\n",
      "923:\tlearn: 1528.8184120\ttotal: 2m 31s\tremaining: 12.5s\n",
      "924:\tlearn: 1528.7731558\ttotal: 2m 32s\tremaining: 12.3s\n",
      "925:\tlearn: 1528.7375638\ttotal: 2m 32s\tremaining: 12.2s\n",
      "926:\tlearn: 1528.6732054\ttotal: 2m 32s\tremaining: 12s\n",
      "927:\tlearn: 1528.6508980\ttotal: 2m 32s\tremaining: 11.8s\n",
      "928:\tlearn: 1528.6021861\ttotal: 2m 32s\tremaining: 11.7s\n",
      "929:\tlearn: 1528.5832072\ttotal: 2m 32s\tremaining: 11.5s\n",
      "930:\tlearn: 1528.4768170\ttotal: 2m 33s\tremaining: 11.3s\n",
      "931:\tlearn: 1528.3982863\ttotal: 2m 33s\tremaining: 11.2s\n",
      "932:\tlearn: 1528.3535348\ttotal: 2m 33s\tremaining: 11s\n",
      "933:\tlearn: 1528.2185852\ttotal: 2m 33s\tremaining: 10.8s\n",
      "934:\tlearn: 1528.2082247\ttotal: 2m 33s\tremaining: 10.7s\n",
      "935:\tlearn: 1528.0648169\ttotal: 2m 33s\tremaining: 10.5s\n",
      "936:\tlearn: 1527.9321592\ttotal: 2m 33s\tremaining: 10.3s\n",
      "937:\tlearn: 1527.8785341\ttotal: 2m 34s\tremaining: 10.2s\n",
      "938:\tlearn: 1527.7554384\ttotal: 2m 34s\tremaining: 10s\n",
      "939:\tlearn: 1527.7282565\ttotal: 2m 34s\tremaining: 9.86s\n",
      "940:\tlearn: 1527.5226731\ttotal: 2m 34s\tremaining: 9.69s\n",
      "941:\tlearn: 1527.3410240\ttotal: 2m 34s\tremaining: 9.53s\n",
      "942:\tlearn: 1527.1987101\ttotal: 2m 34s\tremaining: 9.37s\n",
      "943:\tlearn: 1527.1746361\ttotal: 2m 35s\tremaining: 9.21s\n",
      "944:\tlearn: 1526.9838957\ttotal: 2m 35s\tremaining: 9.04s\n",
      "945:\tlearn: 1526.8667517\ttotal: 2m 35s\tremaining: 8.88s\n",
      "946:\tlearn: 1526.7497983\ttotal: 2m 35s\tremaining: 8.71s\n",
      "947:\tlearn: 1526.7313784\ttotal: 2m 35s\tremaining: 8.55s\n",
      "948:\tlearn: 1526.6585813\ttotal: 2m 36s\tremaining: 8.38s\n",
      "949:\tlearn: 1526.6351984\ttotal: 2m 36s\tremaining: 8.22s\n",
      "950:\tlearn: 1526.5056514\ttotal: 2m 36s\tremaining: 8.06s\n",
      "951:\tlearn: 1526.2469037\ttotal: 2m 36s\tremaining: 7.89s\n",
      "952:\tlearn: 1526.2348953\ttotal: 2m 36s\tremaining: 7.73s\n",
      "953:\tlearn: 1526.0881125\ttotal: 2m 36s\tremaining: 7.56s\n",
      "954:\tlearn: 1525.9407770\ttotal: 2m 37s\tremaining: 7.4s\n",
      "955:\tlearn: 1525.9103600\ttotal: 2m 37s\tremaining: 7.24s\n",
      "956:\tlearn: 1525.8991719\ttotal: 2m 37s\tremaining: 7.07s\n",
      "957:\tlearn: 1525.8763785\ttotal: 2m 37s\tremaining: 6.91s\n",
      "958:\tlearn: 1525.7813849\ttotal: 2m 37s\tremaining: 6.74s\n",
      "959:\tlearn: 1525.6384671\ttotal: 2m 37s\tremaining: 6.57s\n",
      "960:\tlearn: 1525.6179413\ttotal: 2m 37s\tremaining: 6.41s\n",
      "961:\tlearn: 1525.5948734\ttotal: 2m 38s\tremaining: 6.24s\n",
      "962:\tlearn: 1525.4247876\ttotal: 2m 38s\tremaining: 6.08s\n",
      "963:\tlearn: 1525.3978219\ttotal: 2m 38s\tremaining: 5.91s\n",
      "964:\tlearn: 1525.3871736\ttotal: 2m 38s\tremaining: 5.75s\n",
      "965:\tlearn: 1525.1741648\ttotal: 2m 38s\tremaining: 5.58s\n",
      "966:\tlearn: 1525.1221873\ttotal: 2m 38s\tremaining: 5.42s\n",
      "967:\tlearn: 1525.0980265\ttotal: 2m 39s\tremaining: 5.26s\n",
      "968:\tlearn: 1524.9706484\ttotal: 2m 39s\tremaining: 5.09s\n",
      "969:\tlearn: 1524.9324823\ttotal: 2m 39s\tremaining: 4.92s\n",
      "970:\tlearn: 1524.9203833\ttotal: 2m 39s\tremaining: 4.76s\n",
      "971:\tlearn: 1524.7511864\ttotal: 2m 39s\tremaining: 4.6s\n",
      "972:\tlearn: 1524.6323875\ttotal: 2m 39s\tremaining: 4.43s\n",
      "973:\tlearn: 1524.3677366\ttotal: 2m 39s\tremaining: 4.27s\n",
      "974:\tlearn: 1524.2636089\ttotal: 2m 40s\tremaining: 4.1s\n",
      "975:\tlearn: 1524.1561678\ttotal: 2m 40s\tremaining: 3.94s\n",
      "976:\tlearn: 1523.9967651\ttotal: 2m 40s\tremaining: 3.78s\n",
      "977:\tlearn: 1523.8539661\ttotal: 2m 40s\tremaining: 3.61s\n",
      "978:\tlearn: 1523.6893083\ttotal: 2m 40s\tremaining: 3.45s\n",
      "979:\tlearn: 1523.5185057\ttotal: 2m 40s\tremaining: 3.28s\n",
      "980:\tlearn: 1523.3491771\ttotal: 2m 40s\tremaining: 3.12s\n",
      "981:\tlearn: 1523.3380419\ttotal: 2m 41s\tremaining: 2.95s\n",
      "982:\tlearn: 1523.3142882\ttotal: 2m 41s\tremaining: 2.79s\n",
      "983:\tlearn: 1523.2155957\ttotal: 2m 41s\tremaining: 2.63s\n",
      "984:\tlearn: 1523.1862498\ttotal: 2m 41s\tremaining: 2.46s\n",
      "985:\tlearn: 1523.0507805\ttotal: 2m 41s\tremaining: 2.3s\n",
      "986:\tlearn: 1522.9785019\ttotal: 2m 42s\tremaining: 2.13s\n",
      "987:\tlearn: 1522.9398392\ttotal: 2m 42s\tremaining: 1.97s\n",
      "988:\tlearn: 1522.7269723\ttotal: 2m 42s\tremaining: 1.81s\n",
      "989:\tlearn: 1522.6330057\ttotal: 2m 42s\tremaining: 1.64s\n",
      "990:\tlearn: 1522.4536409\ttotal: 2m 42s\tremaining: 1.48s\n",
      "991:\tlearn: 1522.2443157\ttotal: 2m 42s\tremaining: 1.31s\n",
      "992:\tlearn: 1522.2116164\ttotal: 2m 43s\tremaining: 1.15s\n",
      "993:\tlearn: 1521.9958228\ttotal: 2m 43s\tremaining: 986ms\n",
      "994:\tlearn: 1521.8833367\ttotal: 2m 43s\tremaining: 821ms\n",
      "995:\tlearn: 1521.7679389\ttotal: 2m 43s\tremaining: 657ms\n",
      "996:\tlearn: 1521.5909022\ttotal: 2m 43s\tremaining: 493ms\n",
      "997:\tlearn: 1521.5393372\ttotal: 2m 43s\tremaining: 328ms\n",
      "998:\tlearn: 1521.4553801\ttotal: 2m 44s\tremaining: 164ms\n",
      "999:\tlearn: 1521.4069545\ttotal: 2m 44s\tremaining: 0us\n",
      "[CV 2/3; 1/2] END .....learning_rate=0.1, random_state=12345; total time= 2.8min\n",
      "[CV 3/3; 1/2] START learning_rate=0.1, random_state=12345.......................\n",
      "0:\tlearn: 4131.5213859\ttotal: 216ms\tremaining: 3m 36s\n",
      "1:\tlearn: 3881.1013266\ttotal: 410ms\tremaining: 3m 24s\n",
      "2:\tlearn: 3657.7722668\ttotal: 656ms\tremaining: 3m 37s\n",
      "3:\tlearn: 3465.5956632\ttotal: 848ms\tremaining: 3m 31s\n",
      "4:\tlearn: 3292.1805411\ttotal: 1000ms\tremaining: 3m 18s\n",
      "5:\tlearn: 3144.7359344\ttotal: 1.17s\tremaining: 3m 13s\n",
      "6:\tlearn: 3008.1008889\ttotal: 1.4s\tremaining: 3m 18s\n",
      "7:\tlearn: 2892.2763237\ttotal: 1.61s\tremaining: 3m 19s\n",
      "8:\tlearn: 2790.6212696\ttotal: 1.79s\tremaining: 3m 17s\n",
      "9:\tlearn: 2699.3634977\ttotal: 2.01s\tremaining: 3m 19s\n",
      "10:\tlearn: 2609.7280765\ttotal: 2.18s\tremaining: 3m 16s\n",
      "11:\tlearn: 2537.4208190\ttotal: 2.41s\tremaining: 3m 18s\n",
      "12:\tlearn: 2473.5296311\ttotal: 2.61s\tremaining: 3m 17s\n",
      "13:\tlearn: 2405.5922075\ttotal: 2.77s\tremaining: 3m 15s\n",
      "14:\tlearn: 2352.2890268\ttotal: 2.91s\tremaining: 3m 11s\n",
      "15:\tlearn: 2303.4437516\ttotal: 3.07s\tremaining: 3m 8s\n",
      "16:\tlearn: 2260.2856080\ttotal: 3.21s\tremaining: 3m 5s\n",
      "17:\tlearn: 2217.8869014\ttotal: 3.37s\tremaining: 3m 3s\n",
      "18:\tlearn: 2181.6698807\ttotal: 3.51s\tremaining: 3m 1s\n",
      "19:\tlearn: 2146.4896248\ttotal: 3.69s\tremaining: 3m\n",
      "20:\tlearn: 2119.2035114\ttotal: 3.84s\tremaining: 2m 59s\n",
      "21:\tlearn: 2094.1357381\ttotal: 4.03s\tremaining: 2m 58s\n",
      "22:\tlearn: 2069.1191300\ttotal: 4.16s\tremaining: 2m 56s\n",
      "23:\tlearn: 2048.8544901\ttotal: 4.3s\tremaining: 2m 54s\n",
      "24:\tlearn: 2030.9709118\ttotal: 4.45s\tremaining: 2m 53s\n",
      "25:\tlearn: 2016.1275222\ttotal: 4.58s\tremaining: 2m 51s\n",
      "26:\tlearn: 1998.7073936\ttotal: 4.78s\tremaining: 2m 52s\n",
      "27:\tlearn: 1984.2973320\ttotal: 4.94s\tremaining: 2m 51s\n",
      "28:\tlearn: 1971.4953789\ttotal: 5.12s\tremaining: 2m 51s\n",
      "29:\tlearn: 1958.9209894\ttotal: 5.33s\tremaining: 2m 52s\n",
      "30:\tlearn: 1948.3687211\ttotal: 5.47s\tremaining: 2m 51s\n",
      "31:\tlearn: 1938.5300428\ttotal: 5.65s\tremaining: 2m 50s\n",
      "32:\tlearn: 1928.7623792\ttotal: 5.81s\tremaining: 2m 50s\n",
      "33:\tlearn: 1918.9034630\ttotal: 5.96s\tremaining: 2m 49s\n",
      "34:\tlearn: 1911.5397358\ttotal: 6.13s\tremaining: 2m 49s\n",
      "35:\tlearn: 1904.0968682\ttotal: 6.31s\tremaining: 2m 49s\n",
      "36:\tlearn: 1898.4660838\ttotal: 6.46s\tremaining: 2m 48s\n",
      "37:\tlearn: 1893.7775858\ttotal: 6.62s\tremaining: 2m 47s\n",
      "38:\tlearn: 1888.1285407\ttotal: 6.79s\tremaining: 2m 47s\n",
      "39:\tlearn: 1881.5352503\ttotal: 6.92s\tremaining: 2m 46s\n",
      "40:\tlearn: 1875.6976872\ttotal: 7.12s\tremaining: 2m 46s\n",
      "41:\tlearn: 1869.9231563\ttotal: 7.32s\tremaining: 2m 47s\n",
      "42:\tlearn: 1865.7991045\ttotal: 7.48s\tremaining: 2m 46s\n",
      "43:\tlearn: 1860.9248588\ttotal: 7.63s\tremaining: 2m 45s\n",
      "44:\tlearn: 1856.7540582\ttotal: 7.8s\tremaining: 2m 45s\n",
      "45:\tlearn: 1853.2595173\ttotal: 7.93s\tremaining: 2m 44s\n",
      "46:\tlearn: 1849.1388029\ttotal: 8.07s\tremaining: 2m 43s\n",
      "47:\tlearn: 1845.7352452\ttotal: 8.21s\tremaining: 2m 42s\n",
      "48:\tlearn: 1842.0393634\ttotal: 8.37s\tremaining: 2m 42s\n",
      "49:\tlearn: 1838.7450869\ttotal: 8.57s\tremaining: 2m 42s\n",
      "50:\tlearn: 1836.3849761\ttotal: 8.73s\tremaining: 2m 42s\n",
      "51:\tlearn: 1830.8106886\ttotal: 8.9s\tremaining: 2m 42s\n",
      "52:\tlearn: 1827.8608956\ttotal: 9.1s\tremaining: 2m 42s\n",
      "53:\tlearn: 1824.6250857\ttotal: 9.24s\tremaining: 2m 41s\n",
      "54:\tlearn: 1821.8611219\ttotal: 9.44s\tremaining: 2m 42s\n",
      "55:\tlearn: 1818.8183020\ttotal: 9.56s\tremaining: 2m 41s\n",
      "56:\tlearn: 1816.1460173\ttotal: 9.69s\tremaining: 2m 40s\n",
      "57:\tlearn: 1813.6065292\ttotal: 9.88s\tremaining: 2m 40s\n",
      "58:\tlearn: 1811.5969767\ttotal: 10s\tremaining: 2m 39s\n",
      "59:\tlearn: 1807.5971340\ttotal: 10.2s\tremaining: 2m 39s\n",
      "60:\tlearn: 1805.6937583\ttotal: 10.3s\tremaining: 2m 38s\n",
      "61:\tlearn: 1802.9259791\ttotal: 10.4s\tremaining: 2m 37s\n",
      "62:\tlearn: 1801.4349801\ttotal: 10.6s\tremaining: 2m 37s\n",
      "63:\tlearn: 1798.7125712\ttotal: 10.8s\tremaining: 2m 37s\n",
      "64:\tlearn: 1797.0280663\ttotal: 11s\tremaining: 2m 38s\n",
      "65:\tlearn: 1795.6081345\ttotal: 11.2s\tremaining: 2m 38s\n",
      "66:\tlearn: 1793.7761382\ttotal: 11.3s\tremaining: 2m 37s\n"
     ]
    },
    {
     "name": "stdout",
     "output_type": "stream",
     "text": [
      "67:\tlearn: 1791.8766019\ttotal: 11.5s\tremaining: 2m 37s\n",
      "68:\tlearn: 1789.3673477\ttotal: 11.7s\tremaining: 2m 37s\n",
      "69:\tlearn: 1786.2116195\ttotal: 11.8s\tremaining: 2m 36s\n",
      "70:\tlearn: 1783.1439478\ttotal: 11.9s\tremaining: 2m 35s\n",
      "71:\tlearn: 1780.8981725\ttotal: 12.1s\tremaining: 2m 36s\n",
      "72:\tlearn: 1778.6890216\ttotal: 12.3s\tremaining: 2m 36s\n",
      "73:\tlearn: 1777.2462267\ttotal: 12.5s\tremaining: 2m 35s\n",
      "74:\tlearn: 1775.8190488\ttotal: 12.6s\tremaining: 2m 35s\n",
      "75:\tlearn: 1774.1884899\ttotal: 12.8s\tremaining: 2m 35s\n",
      "76:\tlearn: 1771.7074571\ttotal: 12.9s\tremaining: 2m 34s\n",
      "77:\tlearn: 1769.8793248\ttotal: 13s\tremaining: 2m 34s\n",
      "78:\tlearn: 1768.5950477\ttotal: 13.2s\tremaining: 2m 33s\n",
      "79:\tlearn: 1766.9350118\ttotal: 13.4s\tremaining: 2m 33s\n",
      "80:\tlearn: 1765.8307241\ttotal: 13.5s\tremaining: 2m 33s\n",
      "81:\tlearn: 1763.5419041\ttotal: 13.6s\tremaining: 2m 32s\n",
      "82:\tlearn: 1762.5692201\ttotal: 13.8s\tremaining: 2m 32s\n",
      "83:\tlearn: 1761.5755847\ttotal: 13.9s\tremaining: 2m 32s\n",
      "84:\tlearn: 1760.3917228\ttotal: 14.1s\tremaining: 2m 32s\n",
      "85:\tlearn: 1759.1329008\ttotal: 14.2s\tremaining: 2m 31s\n",
      "86:\tlearn: 1757.4365315\ttotal: 14.3s\tremaining: 2m 30s\n",
      "87:\tlearn: 1756.4012147\ttotal: 14.5s\tremaining: 2m 30s\n",
      "88:\tlearn: 1755.1351024\ttotal: 14.7s\tremaining: 2m 30s\n",
      "89:\tlearn: 1753.9909542\ttotal: 14.9s\tremaining: 2m 30s\n",
      "90:\tlearn: 1752.8775470\ttotal: 15s\tremaining: 2m 30s\n",
      "91:\tlearn: 1751.5686319\ttotal: 15.2s\tremaining: 2m 30s\n",
      "92:\tlearn: 1750.9424592\ttotal: 15.3s\tremaining: 2m 29s\n",
      "93:\tlearn: 1749.3577332\ttotal: 15.5s\tremaining: 2m 29s\n",
      "94:\tlearn: 1748.3204084\ttotal: 15.7s\tremaining: 2m 29s\n",
      "95:\tlearn: 1747.1826086\ttotal: 15.8s\tremaining: 2m 28s\n",
      "96:\tlearn: 1746.0895416\ttotal: 16s\tremaining: 2m 28s\n",
      "97:\tlearn: 1744.4603789\ttotal: 16.1s\tremaining: 2m 28s\n",
      "98:\tlearn: 1743.5138898\ttotal: 16.3s\tremaining: 2m 28s\n",
      "99:\tlearn: 1741.9248658\ttotal: 16.4s\tremaining: 2m 27s\n",
      "100:\tlearn: 1740.5013781\ttotal: 16.6s\tremaining: 2m 28s\n",
      "101:\tlearn: 1738.7359560\ttotal: 16.8s\tremaining: 2m 27s\n",
      "102:\tlearn: 1738.0743795\ttotal: 17s\tremaining: 2m 27s\n",
      "103:\tlearn: 1736.6071913\ttotal: 17.1s\tremaining: 2m 27s\n",
      "104:\tlearn: 1736.0353052\ttotal: 17.2s\tremaining: 2m 26s\n",
      "105:\tlearn: 1735.2603640\ttotal: 17.4s\tremaining: 2m 26s\n",
      "106:\tlearn: 1734.0242915\ttotal: 17.6s\tremaining: 2m 26s\n",
      "107:\tlearn: 1732.4986709\ttotal: 17.8s\tremaining: 2m 27s\n",
      "108:\tlearn: 1731.8759099\ttotal: 18s\tremaining: 2m 26s\n",
      "109:\tlearn: 1731.3055620\ttotal: 18.1s\tremaining: 2m 26s\n",
      "110:\tlearn: 1730.5433251\ttotal: 18.3s\tremaining: 2m 26s\n",
      "111:\tlearn: 1728.9528069\ttotal: 18.4s\tremaining: 2m 25s\n",
      "112:\tlearn: 1727.6891690\ttotal: 18.5s\tremaining: 2m 25s\n",
      "113:\tlearn: 1726.3460757\ttotal: 18.7s\tremaining: 2m 25s\n",
      "114:\tlearn: 1725.1159779\ttotal: 18.8s\tremaining: 2m 24s\n",
      "115:\tlearn: 1723.8651930\ttotal: 19s\tremaining: 2m 24s\n",
      "116:\tlearn: 1722.6801507\ttotal: 19.1s\tremaining: 2m 24s\n",
      "117:\tlearn: 1721.2559232\ttotal: 19.3s\tremaining: 2m 24s\n",
      "118:\tlearn: 1720.6390050\ttotal: 19.5s\tremaining: 2m 24s\n",
      "119:\tlearn: 1719.2635210\ttotal: 19.7s\tremaining: 2m 24s\n",
      "120:\tlearn: 1717.5554442\ttotal: 19.8s\tremaining: 2m 24s\n",
      "121:\tlearn: 1717.1816060\ttotal: 20s\tremaining: 2m 23s\n",
      "122:\tlearn: 1716.0530343\ttotal: 20.1s\tremaining: 2m 23s\n",
      "123:\tlearn: 1714.6800524\ttotal: 20.2s\tremaining: 2m 23s\n",
      "124:\tlearn: 1714.1228650\ttotal: 20.5s\tremaining: 2m 23s\n",
      "125:\tlearn: 1713.8670350\ttotal: 20.6s\tremaining: 2m 23s\n",
      "126:\tlearn: 1712.8644223\ttotal: 20.7s\tremaining: 2m 22s\n",
      "127:\tlearn: 1712.2518608\ttotal: 20.9s\tremaining: 2m 22s\n",
      "128:\tlearn: 1711.3701802\ttotal: 21s\tremaining: 2m 21s\n",
      "129:\tlearn: 1710.6817523\ttotal: 21.2s\tremaining: 2m 21s\n",
      "130:\tlearn: 1710.0908715\ttotal: 21.4s\tremaining: 2m 21s\n",
      "131:\tlearn: 1708.8962288\ttotal: 21.5s\tremaining: 2m 21s\n",
      "132:\tlearn: 1708.0102268\ttotal: 21.6s\tremaining: 2m 21s\n",
      "133:\tlearn: 1706.8689406\ttotal: 21.8s\tremaining: 2m 20s\n",
      "134:\tlearn: 1706.5528386\ttotal: 21.9s\tremaining: 2m 20s\n",
      "135:\tlearn: 1706.2171024\ttotal: 22s\tremaining: 2m 20s\n",
      "136:\tlearn: 1705.9939604\ttotal: 22.2s\tremaining: 2m 19s\n",
      "137:\tlearn: 1705.7107680\ttotal: 22.3s\tremaining: 2m 19s\n",
      "138:\tlearn: 1705.5712560\ttotal: 22.4s\tremaining: 2m 18s\n",
      "139:\tlearn: 1703.9305675\ttotal: 22.5s\tremaining: 2m 18s\n",
      "140:\tlearn: 1703.3266933\ttotal: 22.7s\tremaining: 2m 18s\n",
      "141:\tlearn: 1703.2776570\ttotal: 22.9s\tremaining: 2m 18s\n",
      "142:\tlearn: 1702.9651202\ttotal: 23s\tremaining: 2m 17s\n",
      "143:\tlearn: 1701.9840296\ttotal: 23.1s\tremaining: 2m 17s\n",
      "144:\tlearn: 1701.7608709\ttotal: 23.3s\tremaining: 2m 17s\n",
      "145:\tlearn: 1701.5294952\ttotal: 23.4s\tremaining: 2m 17s\n",
      "146:\tlearn: 1700.9178030\ttotal: 23.6s\tremaining: 2m 16s\n",
      "147:\tlearn: 1700.4644236\ttotal: 23.8s\tremaining: 2m 16s\n",
      "148:\tlearn: 1698.9025197\ttotal: 23.9s\tremaining: 2m 16s\n",
      "149:\tlearn: 1698.2982267\ttotal: 24s\tremaining: 2m 16s\n",
      "150:\tlearn: 1697.4505167\ttotal: 24.2s\tremaining: 2m 15s\n",
      "151:\tlearn: 1695.8405003\ttotal: 24.4s\tremaining: 2m 15s\n",
      "152:\tlearn: 1695.2410408\ttotal: 24.5s\tremaining: 2m 15s\n",
      "153:\tlearn: 1694.7885164\ttotal: 24.7s\tremaining: 2m 15s\n",
      "154:\tlearn: 1694.0015450\ttotal: 24.8s\tremaining: 2m 15s\n",
      "155:\tlearn: 1693.2419597\ttotal: 24.9s\tremaining: 2m 14s\n",
      "156:\tlearn: 1692.7187376\ttotal: 25.1s\tremaining: 2m 14s\n",
      "157:\tlearn: 1691.6856855\ttotal: 25.2s\tremaining: 2m 14s\n",
      "158:\tlearn: 1691.1548431\ttotal: 25.4s\tremaining: 2m 14s\n",
      "159:\tlearn: 1690.5158495\ttotal: 25.5s\tremaining: 2m 14s\n",
      "160:\tlearn: 1690.2449265\ttotal: 25.6s\tremaining: 2m 13s\n",
      "161:\tlearn: 1689.8656264\ttotal: 25.8s\tremaining: 2m 13s\n",
      "162:\tlearn: 1688.9236227\ttotal: 25.9s\tremaining: 2m 13s\n",
      "163:\tlearn: 1688.6180317\ttotal: 26.1s\tremaining: 2m 13s\n",
      "164:\tlearn: 1688.2191086\ttotal: 26.3s\tremaining: 2m 12s\n",
      "165:\tlearn: 1687.9874221\ttotal: 26.4s\tremaining: 2m 12s\n",
      "166:\tlearn: 1687.3688935\ttotal: 26.6s\tremaining: 2m 12s\n",
      "167:\tlearn: 1686.7520892\ttotal: 26.7s\tremaining: 2m 12s\n",
      "168:\tlearn: 1686.0759728\ttotal: 26.9s\tremaining: 2m 12s\n",
      "169:\tlearn: 1685.3143648\ttotal: 27.1s\tremaining: 2m 12s\n",
      "170:\tlearn: 1684.9639108\ttotal: 27.2s\tremaining: 2m 12s\n",
      "171:\tlearn: 1683.7648138\ttotal: 27.4s\tremaining: 2m 11s\n",
      "172:\tlearn: 1682.7608789\ttotal: 27.6s\tremaining: 2m 11s\n",
      "173:\tlearn: 1681.7552056\ttotal: 27.7s\tremaining: 2m 11s\n",
      "174:\tlearn: 1680.9675636\ttotal: 27.9s\tremaining: 2m 11s\n",
      "175:\tlearn: 1680.4718526\ttotal: 28s\tremaining: 2m 11s\n",
      "176:\tlearn: 1680.2171352\ttotal: 28.1s\tremaining: 2m 10s\n",
      "177:\tlearn: 1679.4259315\ttotal: 28.3s\tremaining: 2m 10s\n",
      "178:\tlearn: 1678.6879771\ttotal: 28.5s\tremaining: 2m 10s\n",
      "179:\tlearn: 1677.9116354\ttotal: 28.6s\tremaining: 2m 10s\n",
      "180:\tlearn: 1677.2241858\ttotal: 28.7s\tremaining: 2m 10s\n",
      "181:\tlearn: 1676.6638352\ttotal: 28.9s\tremaining: 2m 9s\n",
      "182:\tlearn: 1676.2936965\ttotal: 29s\tremaining: 2m 9s\n",
      "183:\tlearn: 1675.4321583\ttotal: 29.2s\tremaining: 2m 9s\n",
      "184:\tlearn: 1674.8752553\ttotal: 29.3s\tremaining: 2m 9s\n",
      "185:\tlearn: 1674.6363456\ttotal: 29.5s\tremaining: 2m 8s\n",
      "186:\tlearn: 1674.1203194\ttotal: 29.6s\tremaining: 2m 8s\n",
      "187:\tlearn: 1673.5775828\ttotal: 29.8s\tremaining: 2m 8s\n",
      "188:\tlearn: 1673.1188661\ttotal: 29.9s\tremaining: 2m 8s\n",
      "189:\tlearn: 1672.4524656\ttotal: 30.1s\tremaining: 2m 8s\n",
      "190:\tlearn: 1672.0051283\ttotal: 30.3s\tremaining: 2m 8s\n",
      "191:\tlearn: 1671.3793045\ttotal: 30.4s\tremaining: 2m 7s\n",
      "192:\tlearn: 1670.8326668\ttotal: 30.6s\tremaining: 2m 7s\n",
      "193:\tlearn: 1670.2036764\ttotal: 30.7s\tremaining: 2m 7s\n",
      "194:\tlearn: 1670.0784831\ttotal: 30.9s\tremaining: 2m 7s\n",
      "195:\tlearn: 1669.6338361\ttotal: 31s\tremaining: 2m 7s\n",
      "196:\tlearn: 1669.3196926\ttotal: 31.2s\tremaining: 2m 7s\n",
      "197:\tlearn: 1668.6429151\ttotal: 31.4s\tremaining: 2m 6s\n",
      "198:\tlearn: 1667.8950476\ttotal: 31.5s\tremaining: 2m 6s\n",
      "199:\tlearn: 1667.3475010\ttotal: 31.7s\tremaining: 2m 6s\n",
      "200:\tlearn: 1667.1138195\ttotal: 31.8s\tremaining: 2m 6s\n",
      "201:\tlearn: 1666.7514897\ttotal: 32s\tremaining: 2m 6s\n",
      "202:\tlearn: 1666.4609285\ttotal: 32.1s\tremaining: 2m 6s\n",
      "203:\tlearn: 1666.0798010\ttotal: 32.2s\tremaining: 2m 5s\n",
      "204:\tlearn: 1665.3789967\ttotal: 32.4s\tremaining: 2m 5s\n",
      "205:\tlearn: 1664.7350348\ttotal: 32.6s\tremaining: 2m 5s\n",
      "206:\tlearn: 1664.1911245\ttotal: 32.8s\tremaining: 2m 5s\n",
      "207:\tlearn: 1663.8863438\ttotal: 32.9s\tremaining: 2m 5s\n",
      "208:\tlearn: 1663.7341086\ttotal: 33.1s\tremaining: 2m 5s\n",
      "209:\tlearn: 1662.9497578\ttotal: 33.2s\tremaining: 2m 4s\n",
      "210:\tlearn: 1662.3875961\ttotal: 33.4s\tremaining: 2m 4s\n",
      "211:\tlearn: 1662.0245913\ttotal: 33.5s\tremaining: 2m 4s\n",
      "212:\tlearn: 1661.0578375\ttotal: 33.7s\tremaining: 2m 4s\n",
      "213:\tlearn: 1660.6018741\ttotal: 33.9s\tremaining: 2m 4s\n",
      "214:\tlearn: 1660.3059980\ttotal: 34.1s\tremaining: 2m 4s\n",
      "215:\tlearn: 1659.8547092\ttotal: 34.2s\tremaining: 2m 4s\n"
     ]
    },
    {
     "name": "stdout",
     "output_type": "stream",
     "text": [
      "216:\tlearn: 1659.5426759\ttotal: 34.3s\tremaining: 2m 3s\n",
      "217:\tlearn: 1659.3715466\ttotal: 34.5s\tremaining: 2m 3s\n",
      "218:\tlearn: 1658.9813949\ttotal: 34.7s\tremaining: 2m 3s\n",
      "219:\tlearn: 1658.4187338\ttotal: 34.9s\tremaining: 2m 3s\n",
      "220:\tlearn: 1658.0226377\ttotal: 35s\tremaining: 2m 3s\n",
      "221:\tlearn: 1657.6327254\ttotal: 35.2s\tremaining: 2m 3s\n",
      "222:\tlearn: 1657.3035455\ttotal: 35.3s\tremaining: 2m 3s\n",
      "223:\tlearn: 1656.8580098\ttotal: 35.5s\tremaining: 2m 2s\n",
      "224:\tlearn: 1656.3776702\ttotal: 35.6s\tremaining: 2m 2s\n",
      "225:\tlearn: 1655.8137477\ttotal: 35.8s\tremaining: 2m 2s\n",
      "226:\tlearn: 1655.5448530\ttotal: 35.9s\tremaining: 2m 2s\n",
      "227:\tlearn: 1654.9981768\ttotal: 36.1s\tremaining: 2m 2s\n",
      "228:\tlearn: 1654.4960756\ttotal: 36.3s\tremaining: 2m 2s\n",
      "229:\tlearn: 1654.1305769\ttotal: 36.4s\tremaining: 2m 1s\n",
      "230:\tlearn: 1653.6395291\ttotal: 36.6s\tremaining: 2m 1s\n",
      "231:\tlearn: 1653.4455322\ttotal: 36.8s\tremaining: 2m 1s\n",
      "232:\tlearn: 1653.0548463\ttotal: 36.9s\tremaining: 2m 1s\n",
      "233:\tlearn: 1652.4358598\ttotal: 37.1s\tremaining: 2m 1s\n",
      "234:\tlearn: 1652.3017370\ttotal: 37.3s\tremaining: 2m 1s\n",
      "235:\tlearn: 1652.0877241\ttotal: 37.4s\tremaining: 2m 1s\n",
      "236:\tlearn: 1651.7171570\ttotal: 37.6s\tremaining: 2m 1s\n",
      "237:\tlearn: 1651.2295862\ttotal: 37.8s\tremaining: 2m\n",
      "238:\tlearn: 1651.0122503\ttotal: 37.9s\tremaining: 2m\n",
      "239:\tlearn: 1650.4809854\ttotal: 38.1s\tremaining: 2m\n",
      "240:\tlearn: 1650.2673969\ttotal: 38.2s\tremaining: 2m\n",
      "241:\tlearn: 1649.7694104\ttotal: 38.4s\tremaining: 2m\n",
      "242:\tlearn: 1649.5737006\ttotal: 38.5s\tremaining: 2m\n",
      "243:\tlearn: 1649.4433769\ttotal: 38.7s\tremaining: 1m 59s\n",
      "244:\tlearn: 1648.9237032\ttotal: 38.8s\tremaining: 1m 59s\n",
      "245:\tlearn: 1648.7766149\ttotal: 38.9s\tremaining: 1m 59s\n",
      "246:\tlearn: 1648.5145298\ttotal: 39.1s\tremaining: 1m 59s\n",
      "247:\tlearn: 1647.7612695\ttotal: 39.3s\tremaining: 1m 59s\n",
      "248:\tlearn: 1647.5330786\ttotal: 39.4s\tremaining: 1m 58s\n",
      "249:\tlearn: 1647.1823792\ttotal: 39.6s\tremaining: 1m 58s\n",
      "250:\tlearn: 1646.9011556\ttotal: 39.7s\tremaining: 1m 58s\n",
      "251:\tlearn: 1646.1214603\ttotal: 39.8s\tremaining: 1m 58s\n",
      "252:\tlearn: 1645.5566451\ttotal: 40s\tremaining: 1m 58s\n",
      "253:\tlearn: 1645.2347534\ttotal: 40.1s\tremaining: 1m 57s\n",
      "254:\tlearn: 1644.9101999\ttotal: 40.3s\tremaining: 1m 57s\n",
      "255:\tlearn: 1644.6262786\ttotal: 40.4s\tremaining: 1m 57s\n",
      "256:\tlearn: 1644.3210655\ttotal: 40.6s\tremaining: 1m 57s\n",
      "257:\tlearn: 1644.0962392\ttotal: 40.7s\tremaining: 1m 57s\n",
      "258:\tlearn: 1643.5038142\ttotal: 40.9s\tremaining: 1m 56s\n",
      "259:\tlearn: 1643.2751332\ttotal: 41s\tremaining: 1m 56s\n",
      "260:\tlearn: 1642.6424343\ttotal: 41.2s\tremaining: 1m 56s\n",
      "261:\tlearn: 1642.3821358\ttotal: 41.3s\tremaining: 1m 56s\n",
      "262:\tlearn: 1641.6872876\ttotal: 41.5s\tremaining: 1m 56s\n",
      "263:\tlearn: 1641.0755983\ttotal: 41.6s\tremaining: 1m 55s\n",
      "264:\tlearn: 1640.6945402\ttotal: 41.8s\tremaining: 1m 55s\n",
      "265:\tlearn: 1640.3330914\ttotal: 42s\tremaining: 1m 55s\n",
      "266:\tlearn: 1639.9637069\ttotal: 42.1s\tremaining: 1m 55s\n",
      "267:\tlearn: 1639.5937822\ttotal: 42.2s\tremaining: 1m 55s\n",
      "268:\tlearn: 1639.4453397\ttotal: 42.4s\tremaining: 1m 55s\n",
      "269:\tlearn: 1639.0397224\ttotal: 42.5s\tremaining: 1m 55s\n",
      "270:\tlearn: 1638.8403095\ttotal: 42.7s\tremaining: 1m 54s\n",
      "271:\tlearn: 1638.5722052\ttotal: 42.8s\tremaining: 1m 54s\n",
      "272:\tlearn: 1638.1633329\ttotal: 43s\tremaining: 1m 54s\n",
      "273:\tlearn: 1637.3888634\ttotal: 43.1s\tremaining: 1m 54s\n",
      "274:\tlearn: 1637.1490289\ttotal: 43.3s\tremaining: 1m 54s\n",
      "275:\tlearn: 1637.0468790\ttotal: 43.4s\tremaining: 1m 53s\n",
      "276:\tlearn: 1636.5671168\ttotal: 43.6s\tremaining: 1m 53s\n",
      "277:\tlearn: 1636.0029661\ttotal: 43.8s\tremaining: 1m 53s\n",
      "278:\tlearn: 1635.6792200\ttotal: 43.9s\tremaining: 1m 53s\n",
      "279:\tlearn: 1635.1662533\ttotal: 44.1s\tremaining: 1m 53s\n",
      "280:\tlearn: 1634.8529875\ttotal: 44.3s\tremaining: 1m 53s\n",
      "281:\tlearn: 1634.5477285\ttotal: 44.5s\tremaining: 1m 53s\n",
      "282:\tlearn: 1634.4112588\ttotal: 44.7s\tremaining: 1m 53s\n",
      "283:\tlearn: 1634.1623592\ttotal: 44.8s\tremaining: 1m 53s\n",
      "284:\tlearn: 1633.8063861\ttotal: 45s\tremaining: 1m 52s\n",
      "285:\tlearn: 1633.5306956\ttotal: 45.2s\tremaining: 1m 52s\n",
      "286:\tlearn: 1633.1287321\ttotal: 45.4s\tremaining: 1m 52s\n",
      "287:\tlearn: 1632.8181736\ttotal: 45.6s\tremaining: 1m 52s\n",
      "288:\tlearn: 1632.7977740\ttotal: 45.8s\tremaining: 1m 52s\n",
      "289:\tlearn: 1632.6636026\ttotal: 45.9s\tremaining: 1m 52s\n",
      "290:\tlearn: 1632.1453814\ttotal: 46s\tremaining: 1m 52s\n",
      "291:\tlearn: 1631.9013292\ttotal: 46.2s\tremaining: 1m 52s\n",
      "292:\tlearn: 1631.5916152\ttotal: 46.3s\tremaining: 1m 51s\n",
      "293:\tlearn: 1631.2247202\ttotal: 46.5s\tremaining: 1m 51s\n",
      "294:\tlearn: 1630.9336365\ttotal: 46.7s\tremaining: 1m 51s\n",
      "295:\tlearn: 1630.3890102\ttotal: 46.8s\tremaining: 1m 51s\n",
      "296:\tlearn: 1630.2748378\ttotal: 47s\tremaining: 1m 51s\n",
      "297:\tlearn: 1629.9996907\ttotal: 47.1s\tremaining: 1m 50s\n",
      "298:\tlearn: 1629.8551392\ttotal: 47.3s\tremaining: 1m 51s\n",
      "299:\tlearn: 1629.5030460\ttotal: 47.5s\tremaining: 1m 50s\n",
      "300:\tlearn: 1629.2309714\ttotal: 47.7s\tremaining: 1m 50s\n",
      "301:\tlearn: 1628.9345447\ttotal: 47.9s\tremaining: 1m 50s\n",
      "302:\tlearn: 1628.7533679\ttotal: 48s\tremaining: 1m 50s\n",
      "303:\tlearn: 1628.3981649\ttotal: 48.2s\tremaining: 1m 50s\n",
      "304:\tlearn: 1628.3223791\ttotal: 48.4s\tremaining: 1m 50s\n",
      "305:\tlearn: 1627.7112948\ttotal: 48.6s\tremaining: 1m 50s\n",
      "306:\tlearn: 1627.5247320\ttotal: 48.8s\tremaining: 1m 50s\n",
      "307:\tlearn: 1627.0621552\ttotal: 48.9s\tremaining: 1m 49s\n",
      "308:\tlearn: 1626.8550380\ttotal: 49.1s\tremaining: 1m 49s\n",
      "309:\tlearn: 1626.5012465\ttotal: 49.3s\tremaining: 1m 49s\n",
      "310:\tlearn: 1626.2518610\ttotal: 49.4s\tremaining: 1m 49s\n",
      "311:\tlearn: 1625.9179129\ttotal: 49.6s\tremaining: 1m 49s\n",
      "312:\tlearn: 1625.4324324\ttotal: 49.8s\tremaining: 1m 49s\n",
      "313:\tlearn: 1625.1693834\ttotal: 50s\tremaining: 1m 49s\n",
      "314:\tlearn: 1624.7672259\ttotal: 50.1s\tremaining: 1m 48s\n",
      "315:\tlearn: 1624.3627608\ttotal: 50.2s\tremaining: 1m 48s\n",
      "316:\tlearn: 1623.9854169\ttotal: 50.4s\tremaining: 1m 48s\n",
      "317:\tlearn: 1623.4179795\ttotal: 50.6s\tremaining: 1m 48s\n",
      "318:\tlearn: 1622.5548306\ttotal: 50.7s\tremaining: 1m 48s\n",
      "319:\tlearn: 1622.4055764\ttotal: 50.9s\tremaining: 1m 48s\n",
      "320:\tlearn: 1622.1355022\ttotal: 51s\tremaining: 1m 47s\n",
      "321:\tlearn: 1621.9935545\ttotal: 51.2s\tremaining: 1m 47s\n",
      "322:\tlearn: 1621.3856912\ttotal: 51.3s\tremaining: 1m 47s\n",
      "323:\tlearn: 1621.1126896\ttotal: 51.5s\tremaining: 1m 47s\n",
      "324:\tlearn: 1620.5442992\ttotal: 51.6s\tremaining: 1m 47s\n",
      "325:\tlearn: 1620.2024773\ttotal: 51.8s\tremaining: 1m 47s\n",
      "326:\tlearn: 1620.0191096\ttotal: 51.9s\tremaining: 1m 46s\n",
      "327:\tlearn: 1619.8949096\ttotal: 52.1s\tremaining: 1m 46s\n",
      "328:\tlearn: 1619.6797403\ttotal: 52.3s\tremaining: 1m 46s\n",
      "329:\tlearn: 1619.5934965\ttotal: 52.4s\tremaining: 1m 46s\n",
      "330:\tlearn: 1619.2400235\ttotal: 52.6s\tremaining: 1m 46s\n",
      "331:\tlearn: 1618.8174314\ttotal: 52.8s\tremaining: 1m 46s\n",
      "332:\tlearn: 1618.5828820\ttotal: 53s\tremaining: 1m 46s\n",
      "333:\tlearn: 1618.2782169\ttotal: 53.2s\tremaining: 1m 46s\n",
      "334:\tlearn: 1618.0594025\ttotal: 53.4s\tremaining: 1m 45s\n",
      "335:\tlearn: 1617.7370916\ttotal: 53.5s\tremaining: 1m 45s\n",
      "336:\tlearn: 1617.5390958\ttotal: 53.6s\tremaining: 1m 45s\n",
      "337:\tlearn: 1617.1207355\ttotal: 53.8s\tremaining: 1m 45s\n",
      "338:\tlearn: 1616.9303876\ttotal: 54s\tremaining: 1m 45s\n",
      "339:\tlearn: 1616.6891355\ttotal: 54.1s\tremaining: 1m 45s\n",
      "340:\tlearn: 1616.4662092\ttotal: 54.2s\tremaining: 1m 44s\n",
      "341:\tlearn: 1615.9937846\ttotal: 54.4s\tremaining: 1m 44s\n",
      "342:\tlearn: 1615.7712950\ttotal: 54.5s\tremaining: 1m 44s\n",
      "343:\tlearn: 1615.7258091\ttotal: 54.7s\tremaining: 1m 44s\n",
      "344:\tlearn: 1615.4599136\ttotal: 54.9s\tremaining: 1m 44s\n",
      "345:\tlearn: 1615.2469868\ttotal: 55s\tremaining: 1m 44s\n",
      "346:\tlearn: 1615.1966722\ttotal: 55.2s\tremaining: 1m 43s\n",
      "347:\tlearn: 1615.0019832\ttotal: 55.4s\tremaining: 1m 43s\n",
      "348:\tlearn: 1614.7236824\ttotal: 55.6s\tremaining: 1m 43s\n",
      "349:\tlearn: 1614.3505910\ttotal: 55.7s\tremaining: 1m 43s\n",
      "350:\tlearn: 1613.8874510\ttotal: 55.9s\tremaining: 1m 43s\n",
      "351:\tlearn: 1613.5590474\ttotal: 56.1s\tremaining: 1m 43s\n",
      "352:\tlearn: 1613.4027854\ttotal: 56.3s\tremaining: 1m 43s\n",
      "353:\tlearn: 1613.2036876\ttotal: 56.4s\tremaining: 1m 42s\n",
      "354:\tlearn: 1612.7891590\ttotal: 56.5s\tremaining: 1m 42s\n",
      "355:\tlearn: 1612.4855930\ttotal: 56.7s\tremaining: 1m 42s\n",
      "356:\tlearn: 1612.0562425\ttotal: 56.9s\tremaining: 1m 42s\n",
      "357:\tlearn: 1611.6429747\ttotal: 57.1s\tremaining: 1m 42s\n",
      "358:\tlearn: 1611.5209633\ttotal: 57.3s\tremaining: 1m 42s\n",
      "359:\tlearn: 1611.2133369\ttotal: 57.4s\tremaining: 1m 41s\n",
      "360:\tlearn: 1611.0822198\ttotal: 57.6s\tremaining: 1m 41s\n",
      "361:\tlearn: 1610.9179565\ttotal: 57.7s\tremaining: 1m 41s\n",
      "362:\tlearn: 1610.9051737\ttotal: 57.8s\tremaining: 1m 41s\n",
      "363:\tlearn: 1610.8263328\ttotal: 58s\tremaining: 1m 41s\n"
     ]
    },
    {
     "name": "stdout",
     "output_type": "stream",
     "text": [
      "364:\tlearn: 1610.5279429\ttotal: 58.1s\tremaining: 1m 41s\n",
      "365:\tlearn: 1610.5094305\ttotal: 58.3s\tremaining: 1m 40s\n",
      "366:\tlearn: 1610.1919075\ttotal: 58.4s\tremaining: 1m 40s\n",
      "367:\tlearn: 1610.1663693\ttotal: 58.6s\tremaining: 1m 40s\n",
      "368:\tlearn: 1609.9020411\ttotal: 58.7s\tremaining: 1m 40s\n",
      "369:\tlearn: 1609.8663450\ttotal: 58.9s\tremaining: 1m 40s\n",
      "370:\tlearn: 1609.7394199\ttotal: 59s\tremaining: 1m 40s\n",
      "371:\tlearn: 1609.6663964\ttotal: 59.1s\tremaining: 1m 39s\n",
      "372:\tlearn: 1609.5839929\ttotal: 59.3s\tremaining: 1m 39s\n",
      "373:\tlearn: 1609.3817330\ttotal: 59.5s\tremaining: 1m 39s\n",
      "374:\tlearn: 1609.2652403\ttotal: 59.6s\tremaining: 1m 39s\n",
      "375:\tlearn: 1608.9673892\ttotal: 59.8s\tremaining: 1m 39s\n",
      "376:\tlearn: 1608.7281040\ttotal: 59.9s\tremaining: 1m 39s\n",
      "377:\tlearn: 1608.4981235\ttotal: 1m\tremaining: 1m 38s\n",
      "378:\tlearn: 1608.3378686\ttotal: 1m\tremaining: 1m 38s\n",
      "379:\tlearn: 1608.2035376\ttotal: 1m\tremaining: 1m 38s\n",
      "380:\tlearn: 1607.9888888\ttotal: 1m\tremaining: 1m 38s\n",
      "381:\tlearn: 1607.7041869\ttotal: 1m\tremaining: 1m 38s\n",
      "382:\tlearn: 1607.3228924\ttotal: 1m\tremaining: 1m 38s\n",
      "383:\tlearn: 1607.1744785\ttotal: 1m 1s\tremaining: 1m 37s\n",
      "384:\tlearn: 1606.8684547\ttotal: 1m 1s\tremaining: 1m 37s\n",
      "385:\tlearn: 1606.5810118\ttotal: 1m 1s\tremaining: 1m 37s\n",
      "386:\tlearn: 1606.1040793\ttotal: 1m 1s\tremaining: 1m 37s\n",
      "387:\tlearn: 1605.9561899\ttotal: 1m 1s\tremaining: 1m 37s\n",
      "388:\tlearn: 1605.8203062\ttotal: 1m 1s\tremaining: 1m 37s\n",
      "389:\tlearn: 1605.5617701\ttotal: 1m 2s\tremaining: 1m 37s\n",
      "390:\tlearn: 1605.2328248\ttotal: 1m 2s\tremaining: 1m 37s\n",
      "391:\tlearn: 1605.0872909\ttotal: 1m 2s\tremaining: 1m 36s\n",
      "392:\tlearn: 1604.8541098\ttotal: 1m 2s\tremaining: 1m 36s\n",
      "393:\tlearn: 1604.3470783\ttotal: 1m 2s\tremaining: 1m 36s\n",
      "394:\tlearn: 1604.1917412\ttotal: 1m 2s\tremaining: 1m 36s\n",
      "395:\tlearn: 1604.0365856\ttotal: 1m 3s\tremaining: 1m 36s\n",
      "396:\tlearn: 1603.9724725\ttotal: 1m 3s\tremaining: 1m 36s\n",
      "397:\tlearn: 1603.8199487\ttotal: 1m 3s\tremaining: 1m 35s\n",
      "398:\tlearn: 1603.6224120\ttotal: 1m 3s\tremaining: 1m 35s\n",
      "399:\tlearn: 1603.5984556\ttotal: 1m 3s\tremaining: 1m 35s\n",
      "400:\tlearn: 1603.2831423\ttotal: 1m 3s\tremaining: 1m 35s\n",
      "401:\tlearn: 1603.2273252\ttotal: 1m 3s\tremaining: 1m 35s\n",
      "402:\tlearn: 1603.1100776\ttotal: 1m 4s\tremaining: 1m 34s\n",
      "403:\tlearn: 1602.8521544\ttotal: 1m 4s\tremaining: 1m 34s\n",
      "404:\tlearn: 1602.7099750\ttotal: 1m 4s\tremaining: 1m 34s\n",
      "405:\tlearn: 1602.3052638\ttotal: 1m 4s\tremaining: 1m 34s\n",
      "406:\tlearn: 1601.9044247\ttotal: 1m 4s\tremaining: 1m 34s\n",
      "407:\tlearn: 1601.7491349\ttotal: 1m 4s\tremaining: 1m 34s\n",
      "408:\tlearn: 1601.6574367\ttotal: 1m 5s\tremaining: 1m 34s\n",
      "409:\tlearn: 1601.5119869\ttotal: 1m 5s\tremaining: 1m 33s\n",
      "410:\tlearn: 1601.4297647\ttotal: 1m 5s\tremaining: 1m 33s\n",
      "411:\tlearn: 1601.0846060\ttotal: 1m 5s\tremaining: 1m 33s\n",
      "412:\tlearn: 1600.9644938\ttotal: 1m 5s\tremaining: 1m 33s\n",
      "413:\tlearn: 1600.7083705\ttotal: 1m 5s\tremaining: 1m 33s\n",
      "414:\tlearn: 1600.6316400\ttotal: 1m 6s\tremaining: 1m 33s\n",
      "415:\tlearn: 1600.3242934\ttotal: 1m 6s\tremaining: 1m 32s\n",
      "416:\tlearn: 1600.3088426\ttotal: 1m 6s\tremaining: 1m 32s\n",
      "417:\tlearn: 1600.0306658\ttotal: 1m 6s\tremaining: 1m 32s\n",
      "418:\tlearn: 1599.9070787\ttotal: 1m 6s\tremaining: 1m 32s\n",
      "419:\tlearn: 1599.6177398\ttotal: 1m 6s\tremaining: 1m 32s\n",
      "420:\tlearn: 1599.5608288\ttotal: 1m 7s\tremaining: 1m 32s\n",
      "421:\tlearn: 1599.3717899\ttotal: 1m 7s\tremaining: 1m 32s\n",
      "422:\tlearn: 1599.1190591\ttotal: 1m 7s\tremaining: 1m 31s\n",
      "423:\tlearn: 1598.6974421\ttotal: 1m 7s\tremaining: 1m 31s\n",
      "424:\tlearn: 1598.5159081\ttotal: 1m 7s\tremaining: 1m 31s\n",
      "425:\tlearn: 1598.4317786\ttotal: 1m 7s\tremaining: 1m 31s\n",
      "426:\tlearn: 1598.0666309\ttotal: 1m 8s\tremaining: 1m 31s\n",
      "427:\tlearn: 1597.9589643\ttotal: 1m 8s\tremaining: 1m 31s\n",
      "428:\tlearn: 1597.8424949\ttotal: 1m 8s\tremaining: 1m 30s\n",
      "429:\tlearn: 1597.7090836\ttotal: 1m 8s\tremaining: 1m 30s\n",
      "430:\tlearn: 1597.5149804\ttotal: 1m 8s\tremaining: 1m 30s\n",
      "431:\tlearn: 1597.3642358\ttotal: 1m 8s\tremaining: 1m 30s\n",
      "432:\tlearn: 1597.1486440\ttotal: 1m 8s\tremaining: 1m 30s\n",
      "433:\tlearn: 1596.7435961\ttotal: 1m 9s\tremaining: 1m 30s\n",
      "434:\tlearn: 1596.5363687\ttotal: 1m 9s\tremaining: 1m 29s\n",
      "435:\tlearn: 1596.3269983\ttotal: 1m 9s\tremaining: 1m 29s\n",
      "436:\tlearn: 1596.2923082\ttotal: 1m 9s\tremaining: 1m 29s\n",
      "437:\tlearn: 1596.2105838\ttotal: 1m 9s\tremaining: 1m 29s\n",
      "438:\tlearn: 1595.9185283\ttotal: 1m 9s\tremaining: 1m 29s\n",
      "439:\tlearn: 1595.6070548\ttotal: 1m 10s\tremaining: 1m 29s\n",
      "440:\tlearn: 1595.3439394\ttotal: 1m 10s\tremaining: 1m 29s\n",
      "441:\tlearn: 1595.1926520\ttotal: 1m 10s\tremaining: 1m 29s\n",
      "442:\tlearn: 1594.7817291\ttotal: 1m 10s\tremaining: 1m 28s\n",
      "443:\tlearn: 1594.7187377\ttotal: 1m 10s\tremaining: 1m 28s\n",
      "444:\tlearn: 1594.5511780\ttotal: 1m 11s\tremaining: 1m 28s\n",
      "445:\tlearn: 1594.3366273\ttotal: 1m 11s\tremaining: 1m 28s\n",
      "446:\tlearn: 1594.0977607\ttotal: 1m 11s\tremaining: 1m 28s\n",
      "447:\tlearn: 1593.8075586\ttotal: 1m 11s\tremaining: 1m 28s\n",
      "448:\tlearn: 1593.5319327\ttotal: 1m 11s\tremaining: 1m 27s\n",
      "449:\tlearn: 1593.3237424\ttotal: 1m 11s\tremaining: 1m 27s\n",
      "450:\tlearn: 1593.2846880\ttotal: 1m 12s\tremaining: 1m 27s\n",
      "451:\tlearn: 1593.0883193\ttotal: 1m 12s\tremaining: 1m 27s\n",
      "452:\tlearn: 1592.9271527\ttotal: 1m 12s\tremaining: 1m 27s\n",
      "453:\tlearn: 1592.8802056\ttotal: 1m 12s\tremaining: 1m 27s\n",
      "454:\tlearn: 1592.5012294\ttotal: 1m 12s\tremaining: 1m 27s\n",
      "455:\tlearn: 1592.3094238\ttotal: 1m 12s\tremaining: 1m 26s\n",
      "456:\tlearn: 1591.9539132\ttotal: 1m 13s\tremaining: 1m 26s\n",
      "457:\tlearn: 1591.8579237\ttotal: 1m 13s\tremaining: 1m 26s\n",
      "458:\tlearn: 1591.7775522\ttotal: 1m 13s\tremaining: 1m 26s\n",
      "459:\tlearn: 1591.6798705\ttotal: 1m 13s\tremaining: 1m 26s\n",
      "460:\tlearn: 1591.4815674\ttotal: 1m 13s\tremaining: 1m 26s\n",
      "461:\tlearn: 1591.3534696\ttotal: 1m 14s\tremaining: 1m 26s\n",
      "462:\tlearn: 1591.3111336\ttotal: 1m 14s\tremaining: 1m 26s\n",
      "463:\tlearn: 1591.0926841\ttotal: 1m 14s\tremaining: 1m 25s\n",
      "464:\tlearn: 1590.8312407\ttotal: 1m 14s\tremaining: 1m 25s\n",
      "465:\tlearn: 1590.5939447\ttotal: 1m 14s\tremaining: 1m 25s\n",
      "466:\tlearn: 1590.5149959\ttotal: 1m 14s\tremaining: 1m 25s\n",
      "467:\tlearn: 1590.3715178\ttotal: 1m 15s\tremaining: 1m 25s\n",
      "468:\tlearn: 1590.2317193\ttotal: 1m 15s\tremaining: 1m 25s\n",
      "469:\tlearn: 1589.9976512\ttotal: 1m 15s\tremaining: 1m 24s\n",
      "470:\tlearn: 1589.8790816\ttotal: 1m 15s\tremaining: 1m 24s\n",
      "471:\tlearn: 1589.5646102\ttotal: 1m 15s\tremaining: 1m 24s\n",
      "472:\tlearn: 1589.4095118\ttotal: 1m 15s\tremaining: 1m 24s\n",
      "473:\tlearn: 1589.1688966\ttotal: 1m 15s\tremaining: 1m 24s\n",
      "474:\tlearn: 1589.0868752\ttotal: 1m 16s\tremaining: 1m 24s\n",
      "475:\tlearn: 1588.7648101\ttotal: 1m 16s\tremaining: 1m 24s\n",
      "476:\tlearn: 1588.5926021\ttotal: 1m 16s\tremaining: 1m 23s\n",
      "477:\tlearn: 1588.4587888\ttotal: 1m 16s\tremaining: 1m 23s\n",
      "478:\tlearn: 1588.4185708\ttotal: 1m 16s\tremaining: 1m 23s\n",
      "479:\tlearn: 1588.3873919\ttotal: 1m 16s\tremaining: 1m 23s\n",
      "480:\tlearn: 1588.2225786\ttotal: 1m 17s\tremaining: 1m 23s\n",
      "481:\tlearn: 1588.0477633\ttotal: 1m 17s\tremaining: 1m 23s\n",
      "482:\tlearn: 1588.0092435\ttotal: 1m 17s\tremaining: 1m 22s\n",
      "483:\tlearn: 1587.9372132\ttotal: 1m 17s\tremaining: 1m 22s\n",
      "484:\tlearn: 1587.8772130\ttotal: 1m 17s\tremaining: 1m 22s\n",
      "485:\tlearn: 1587.8056372\ttotal: 1m 17s\tremaining: 1m 22s\n",
      "486:\tlearn: 1587.6247681\ttotal: 1m 18s\tremaining: 1m 22s\n",
      "487:\tlearn: 1587.3558903\ttotal: 1m 18s\tremaining: 1m 22s\n",
      "488:\tlearn: 1587.1014403\ttotal: 1m 18s\tremaining: 1m 21s\n",
      "489:\tlearn: 1587.0872993\ttotal: 1m 18s\tremaining: 1m 21s\n",
      "490:\tlearn: 1587.0449212\ttotal: 1m 18s\tremaining: 1m 21s\n",
      "491:\tlearn: 1586.9131277\ttotal: 1m 18s\tremaining: 1m 21s\n",
      "492:\tlearn: 1586.8478348\ttotal: 1m 19s\tremaining: 1m 21s\n",
      "493:\tlearn: 1586.7289097\ttotal: 1m 19s\tremaining: 1m 21s\n",
      "494:\tlearn: 1586.5883955\ttotal: 1m 19s\tremaining: 1m 20s\n",
      "495:\tlearn: 1586.5533629\ttotal: 1m 19s\tremaining: 1m 20s\n",
      "496:\tlearn: 1586.5403746\ttotal: 1m 19s\tremaining: 1m 20s\n",
      "497:\tlearn: 1586.4542198\ttotal: 1m 19s\tremaining: 1m 20s\n",
      "498:\tlearn: 1586.3906050\ttotal: 1m 19s\tremaining: 1m 20s\n",
      "499:\tlearn: 1586.2294718\ttotal: 1m 20s\tremaining: 1m 20s\n",
      "500:\tlearn: 1586.1647174\ttotal: 1m 20s\tremaining: 1m 19s\n",
      "501:\tlearn: 1586.0316657\ttotal: 1m 20s\tremaining: 1m 19s\n",
      "502:\tlearn: 1585.9432227\ttotal: 1m 20s\tremaining: 1m 19s\n",
      "503:\tlearn: 1585.9108942\ttotal: 1m 20s\tremaining: 1m 19s\n",
      "504:\tlearn: 1585.7170514\ttotal: 1m 20s\tremaining: 1m 19s\n",
      "505:\tlearn: 1585.6817880\ttotal: 1m 20s\tremaining: 1m 19s\n",
      "506:\tlearn: 1585.5711050\ttotal: 1m 21s\tremaining: 1m 18s\n",
      "507:\tlearn: 1585.5483700\ttotal: 1m 21s\tremaining: 1m 18s\n",
      "508:\tlearn: 1585.4468648\ttotal: 1m 21s\tremaining: 1m 18s\n",
      "509:\tlearn: 1585.2796812\ttotal: 1m 21s\tremaining: 1m 18s\n"
     ]
    },
    {
     "name": "stdout",
     "output_type": "stream",
     "text": [
      "510:\tlearn: 1585.0011612\ttotal: 1m 21s\tremaining: 1m 18s\n",
      "511:\tlearn: 1584.9430080\ttotal: 1m 22s\tremaining: 1m 18s\n",
      "512:\tlearn: 1584.6867562\ttotal: 1m 22s\tremaining: 1m 18s\n",
      "513:\tlearn: 1584.6263764\ttotal: 1m 22s\tremaining: 1m 17s\n",
      "514:\tlearn: 1584.3377537\ttotal: 1m 22s\tremaining: 1m 17s\n",
      "515:\tlearn: 1584.1517307\ttotal: 1m 22s\tremaining: 1m 17s\n",
      "516:\tlearn: 1584.0683692\ttotal: 1m 22s\tremaining: 1m 17s\n",
      "517:\tlearn: 1583.8056009\ttotal: 1m 23s\tremaining: 1m 17s\n",
      "518:\tlearn: 1583.5733145\ttotal: 1m 23s\tremaining: 1m 17s\n",
      "519:\tlearn: 1583.2572632\ttotal: 1m 23s\tremaining: 1m 17s\n",
      "520:\tlearn: 1583.0913514\ttotal: 1m 23s\tremaining: 1m 16s\n",
      "521:\tlearn: 1582.8663869\ttotal: 1m 23s\tremaining: 1m 16s\n",
      "522:\tlearn: 1582.6901002\ttotal: 1m 23s\tremaining: 1m 16s\n",
      "523:\tlearn: 1582.6199979\ttotal: 1m 24s\tremaining: 1m 16s\n",
      "524:\tlearn: 1582.4174099\ttotal: 1m 24s\tremaining: 1m 16s\n",
      "525:\tlearn: 1582.3877100\ttotal: 1m 24s\tremaining: 1m 15s\n",
      "526:\tlearn: 1582.2715758\ttotal: 1m 24s\tremaining: 1m 15s\n",
      "527:\tlearn: 1582.0854931\ttotal: 1m 24s\tremaining: 1m 15s\n",
      "528:\tlearn: 1582.0011169\ttotal: 1m 24s\tremaining: 1m 15s\n",
      "529:\tlearn: 1581.8652374\ttotal: 1m 24s\tremaining: 1m 15s\n",
      "530:\tlearn: 1581.6089961\ttotal: 1m 25s\tremaining: 1m 15s\n",
      "531:\tlearn: 1581.4930253\ttotal: 1m 25s\tremaining: 1m 14s\n",
      "532:\tlearn: 1581.4058860\ttotal: 1m 25s\tremaining: 1m 14s\n",
      "533:\tlearn: 1581.4030397\ttotal: 1m 25s\tremaining: 1m 14s\n",
      "534:\tlearn: 1581.2392310\ttotal: 1m 25s\tremaining: 1m 14s\n",
      "535:\tlearn: 1580.9900133\ttotal: 1m 25s\tremaining: 1m 14s\n",
      "536:\tlearn: 1580.7363720\ttotal: 1m 25s\tremaining: 1m 14s\n",
      "537:\tlearn: 1580.6579092\ttotal: 1m 26s\tremaining: 1m 13s\n",
      "538:\tlearn: 1580.6374903\ttotal: 1m 26s\tremaining: 1m 13s\n",
      "539:\tlearn: 1580.5572563\ttotal: 1m 26s\tremaining: 1m 13s\n",
      "540:\tlearn: 1580.1646177\ttotal: 1m 26s\tremaining: 1m 13s\n",
      "541:\tlearn: 1580.0715923\ttotal: 1m 26s\tremaining: 1m 13s\n",
      "542:\tlearn: 1579.8521897\ttotal: 1m 26s\tremaining: 1m 13s\n",
      "543:\tlearn: 1579.8131603\ttotal: 1m 27s\tremaining: 1m 12s\n",
      "544:\tlearn: 1579.4383177\ttotal: 1m 27s\tremaining: 1m 12s\n",
      "545:\tlearn: 1579.2341209\ttotal: 1m 27s\tremaining: 1m 12s\n",
      "546:\tlearn: 1578.9427113\ttotal: 1m 27s\tremaining: 1m 12s\n",
      "547:\tlearn: 1578.9090419\ttotal: 1m 27s\tremaining: 1m 12s\n",
      "548:\tlearn: 1578.7015727\ttotal: 1m 27s\tremaining: 1m 12s\n",
      "549:\tlearn: 1578.5950686\ttotal: 1m 27s\tremaining: 1m 11s\n",
      "550:\tlearn: 1578.5246626\ttotal: 1m 28s\tremaining: 1m 11s\n",
      "551:\tlearn: 1578.1569107\ttotal: 1m 28s\tremaining: 1m 11s\n",
      "552:\tlearn: 1577.8164761\ttotal: 1m 28s\tremaining: 1m 11s\n",
      "553:\tlearn: 1577.5533370\ttotal: 1m 28s\tremaining: 1m 11s\n",
      "554:\tlearn: 1577.2899137\ttotal: 1m 28s\tremaining: 1m 11s\n",
      "555:\tlearn: 1577.1869266\ttotal: 1m 29s\tremaining: 1m 11s\n",
      "556:\tlearn: 1576.9716343\ttotal: 1m 29s\tremaining: 1m 10s\n",
      "557:\tlearn: 1576.9538174\ttotal: 1m 29s\tremaining: 1m 10s\n",
      "558:\tlearn: 1576.8849828\ttotal: 1m 29s\tremaining: 1m 10s\n",
      "559:\tlearn: 1576.7078857\ttotal: 1m 29s\tremaining: 1m 10s\n",
      "560:\tlearn: 1576.6667138\ttotal: 1m 29s\tremaining: 1m 10s\n",
      "561:\tlearn: 1576.5593971\ttotal: 1m 29s\tremaining: 1m 10s\n",
      "562:\tlearn: 1576.4507230\ttotal: 1m 30s\tremaining: 1m 9s\n",
      "563:\tlearn: 1576.2358472\ttotal: 1m 30s\tremaining: 1m 9s\n",
      "564:\tlearn: 1576.1996733\ttotal: 1m 30s\tremaining: 1m 9s\n",
      "565:\tlearn: 1576.0203416\ttotal: 1m 30s\tremaining: 1m 9s\n",
      "566:\tlearn: 1575.7534011\ttotal: 1m 30s\tremaining: 1m 9s\n",
      "567:\tlearn: 1575.6053839\ttotal: 1m 30s\tremaining: 1m 9s\n",
      "568:\tlearn: 1575.5820299\ttotal: 1m 31s\tremaining: 1m 9s\n",
      "569:\tlearn: 1575.4931049\ttotal: 1m 31s\tremaining: 1m 8s\n",
      "570:\tlearn: 1575.4910380\ttotal: 1m 31s\tremaining: 1m 8s\n",
      "571:\tlearn: 1575.3263340\ttotal: 1m 31s\tremaining: 1m 8s\n",
      "572:\tlearn: 1575.2381278\ttotal: 1m 31s\tremaining: 1m 8s\n",
      "573:\tlearn: 1575.0591869\ttotal: 1m 32s\tremaining: 1m 8s\n",
      "574:\tlearn: 1574.9005637\ttotal: 1m 32s\tremaining: 1m 8s\n",
      "575:\tlearn: 1574.8638923\ttotal: 1m 32s\tremaining: 1m 7s\n",
      "576:\tlearn: 1574.7574155\ttotal: 1m 32s\tremaining: 1m 7s\n",
      "577:\tlearn: 1574.5948395\ttotal: 1m 32s\tremaining: 1m 7s\n",
      "578:\tlearn: 1574.5376057\ttotal: 1m 32s\tremaining: 1m 7s\n",
      "579:\tlearn: 1574.5273438\ttotal: 1m 32s\tremaining: 1m 7s\n",
      "580:\tlearn: 1574.4732224\ttotal: 1m 33s\tremaining: 1m 7s\n",
      "581:\tlearn: 1574.1826377\ttotal: 1m 33s\tremaining: 1m 6s\n",
      "582:\tlearn: 1573.9708143\ttotal: 1m 33s\tremaining: 1m 6s\n",
      "583:\tlearn: 1573.9261214\ttotal: 1m 33s\tremaining: 1m 6s\n",
      "584:\tlearn: 1573.8359754\ttotal: 1m 33s\tremaining: 1m 6s\n",
      "585:\tlearn: 1573.5220984\ttotal: 1m 33s\tremaining: 1m 6s\n",
      "586:\tlearn: 1573.4302906\ttotal: 1m 34s\tremaining: 1m 6s\n",
      "587:\tlearn: 1573.2059890\ttotal: 1m 34s\tremaining: 1m 6s\n",
      "588:\tlearn: 1573.0677555\ttotal: 1m 34s\tremaining: 1m 5s\n",
      "589:\tlearn: 1573.0320053\ttotal: 1m 34s\tremaining: 1m 5s\n",
      "590:\tlearn: 1572.9495500\ttotal: 1m 34s\tremaining: 1m 5s\n",
      "591:\tlearn: 1572.8389993\ttotal: 1m 34s\tremaining: 1m 5s\n",
      "592:\tlearn: 1572.6862050\ttotal: 1m 34s\tremaining: 1m 5s\n",
      "593:\tlearn: 1572.6619401\ttotal: 1m 35s\tremaining: 1m 4s\n",
      "594:\tlearn: 1572.6311234\ttotal: 1m 35s\tremaining: 1m 4s\n",
      "595:\tlearn: 1572.4555270\ttotal: 1m 35s\tremaining: 1m 4s\n",
      "596:\tlearn: 1572.4375464\ttotal: 1m 35s\tremaining: 1m 4s\n",
      "597:\tlearn: 1572.3461947\ttotal: 1m 35s\tremaining: 1m 4s\n",
      "598:\tlearn: 1572.1538180\ttotal: 1m 35s\tremaining: 1m 4s\n",
      "599:\tlearn: 1572.0289169\ttotal: 1m 36s\tremaining: 1m 4s\n",
      "600:\tlearn: 1571.9081962\ttotal: 1m 36s\tremaining: 1m 3s\n",
      "601:\tlearn: 1571.8801128\ttotal: 1m 36s\tremaining: 1m 3s\n",
      "602:\tlearn: 1571.7613207\ttotal: 1m 36s\tremaining: 1m 3s\n",
      "603:\tlearn: 1571.6623650\ttotal: 1m 36s\tremaining: 1m 3s\n",
      "604:\tlearn: 1571.5246666\ttotal: 1m 36s\tremaining: 1m 3s\n",
      "605:\tlearn: 1571.4673527\ttotal: 1m 36s\tremaining: 1m 3s\n",
      "606:\tlearn: 1571.4380947\ttotal: 1m 37s\tremaining: 1m 2s\n",
      "607:\tlearn: 1571.3818212\ttotal: 1m 37s\tremaining: 1m 2s\n",
      "608:\tlearn: 1571.3599909\ttotal: 1m 37s\tremaining: 1m 2s\n",
      "609:\tlearn: 1571.2413211\ttotal: 1m 37s\tremaining: 1m 2s\n",
      "610:\tlearn: 1571.1226016\ttotal: 1m 37s\tremaining: 1m 2s\n",
      "611:\tlearn: 1571.1052175\ttotal: 1m 38s\tremaining: 1m 2s\n",
      "612:\tlearn: 1571.0238060\ttotal: 1m 38s\tremaining: 1m 2s\n",
      "613:\tlearn: 1570.9327601\ttotal: 1m 38s\tremaining: 1m 1s\n",
      "614:\tlearn: 1570.8089003\ttotal: 1m 38s\tremaining: 1m 1s\n",
      "615:\tlearn: 1570.7527112\ttotal: 1m 38s\tremaining: 1m 1s\n",
      "616:\tlearn: 1570.6818085\ttotal: 1m 38s\tremaining: 1m 1s\n",
      "617:\tlearn: 1570.5695892\ttotal: 1m 39s\tremaining: 1m 1s\n",
      "618:\tlearn: 1570.5201349\ttotal: 1m 39s\tremaining: 1m 1s\n",
      "619:\tlearn: 1570.4849751\ttotal: 1m 39s\tremaining: 1m\n",
      "620:\tlearn: 1570.4022395\ttotal: 1m 39s\tremaining: 1m\n",
      "621:\tlearn: 1570.1207285\ttotal: 1m 39s\tremaining: 1m\n",
      "622:\tlearn: 1569.8893266\ttotal: 1m 39s\tremaining: 1m\n",
      "623:\tlearn: 1569.7037897\ttotal: 1m 39s\tremaining: 1m\n",
      "624:\tlearn: 1569.5566971\ttotal: 1m 40s\tremaining: 1m\n",
      "625:\tlearn: 1569.5077669\ttotal: 1m 40s\tremaining: 59.9s\n",
      "626:\tlearn: 1569.3863145\ttotal: 1m 40s\tremaining: 59.7s\n",
      "627:\tlearn: 1569.2784887\ttotal: 1m 40s\tremaining: 59.6s\n",
      "628:\tlearn: 1569.1614069\ttotal: 1m 40s\tremaining: 59.4s\n",
      "629:\tlearn: 1569.1031447\ttotal: 1m 40s\tremaining: 59.3s\n",
      "630:\tlearn: 1569.0485424\ttotal: 1m 41s\tremaining: 59.1s\n",
      "631:\tlearn: 1569.0034505\ttotal: 1m 41s\tremaining: 59s\n",
      "632:\tlearn: 1568.9778861\ttotal: 1m 41s\tremaining: 58.9s\n",
      "633:\tlearn: 1568.9563766\ttotal: 1m 41s\tremaining: 58.7s\n",
      "634:\tlearn: 1568.8062365\ttotal: 1m 41s\tremaining: 58.6s\n",
      "635:\tlearn: 1568.7584023\ttotal: 1m 42s\tremaining: 58.4s\n",
      "636:\tlearn: 1568.6471362\ttotal: 1m 42s\tremaining: 58.2s\n",
      "637:\tlearn: 1568.6379800\ttotal: 1m 42s\tremaining: 58.1s\n",
      "638:\tlearn: 1568.3683811\ttotal: 1m 42s\tremaining: 57.9s\n",
      "639:\tlearn: 1568.3421052\ttotal: 1m 42s\tremaining: 57.8s\n",
      "640:\tlearn: 1568.2611619\ttotal: 1m 42s\tremaining: 57.6s\n",
      "641:\tlearn: 1568.1928052\ttotal: 1m 42s\tremaining: 57.4s\n",
      "642:\tlearn: 1568.1644785\ttotal: 1m 43s\tremaining: 57.3s\n",
      "643:\tlearn: 1567.8114584\ttotal: 1m 43s\tremaining: 57.1s\n",
      "644:\tlearn: 1567.7964687\ttotal: 1m 43s\tremaining: 56.9s\n",
      "645:\tlearn: 1567.5412672\ttotal: 1m 43s\tremaining: 56.7s\n",
      "646:\tlearn: 1567.3556428\ttotal: 1m 43s\tremaining: 56.6s\n",
      "647:\tlearn: 1567.3314330\ttotal: 1m 43s\tremaining: 56.4s\n",
      "648:\tlearn: 1567.1035074\ttotal: 1m 44s\tremaining: 56.3s\n",
      "649:\tlearn: 1567.0952553\ttotal: 1m 44s\tremaining: 56.1s\n",
      "650:\tlearn: 1567.0007121\ttotal: 1m 44s\tremaining: 55.9s\n",
      "651:\tlearn: 1566.8880318\ttotal: 1m 44s\tremaining: 55.8s\n",
      "652:\tlearn: 1566.8526927\ttotal: 1m 44s\tremaining: 55.6s\n",
      "653:\tlearn: 1566.5639893\ttotal: 1m 44s\tremaining: 55.5s\n",
      "654:\tlearn: 1566.4348688\ttotal: 1m 45s\tremaining: 55.3s\n",
      "655:\tlearn: 1566.4171623\ttotal: 1m 45s\tremaining: 55.1s\n",
      "656:\tlearn: 1566.4144134\ttotal: 1m 45s\tremaining: 55s\n"
     ]
    },
    {
     "name": "stdout",
     "output_type": "stream",
     "text": [
      "657:\tlearn: 1566.2670200\ttotal: 1m 45s\tremaining: 54.8s\n",
      "658:\tlearn: 1566.0282558\ttotal: 1m 45s\tremaining: 54.6s\n",
      "659:\tlearn: 1565.8498314\ttotal: 1m 45s\tremaining: 54.5s\n",
      "660:\tlearn: 1565.7934876\ttotal: 1m 45s\tremaining: 54.3s\n",
      "661:\tlearn: 1565.7007976\ttotal: 1m 46s\tremaining: 54.2s\n",
      "662:\tlearn: 1565.5044382\ttotal: 1m 46s\tremaining: 54s\n",
      "663:\tlearn: 1565.3478667\ttotal: 1m 46s\tremaining: 53.8s\n",
      "664:\tlearn: 1565.2477153\ttotal: 1m 46s\tremaining: 53.6s\n",
      "665:\tlearn: 1565.0813386\ttotal: 1m 46s\tremaining: 53.5s\n",
      "666:\tlearn: 1565.0811002\ttotal: 1m 46s\tremaining: 53.3s\n",
      "667:\tlearn: 1565.0023132\ttotal: 1m 46s\tremaining: 53.2s\n",
      "668:\tlearn: 1564.8464751\ttotal: 1m 47s\tremaining: 53s\n",
      "669:\tlearn: 1564.7657050\ttotal: 1m 47s\tremaining: 52.8s\n",
      "670:\tlearn: 1564.4341364\ttotal: 1m 47s\tremaining: 52.7s\n",
      "671:\tlearn: 1564.2599491\ttotal: 1m 47s\tremaining: 52.6s\n",
      "672:\tlearn: 1564.2042036\ttotal: 1m 47s\tremaining: 52.4s\n",
      "673:\tlearn: 1564.1851392\ttotal: 1m 47s\tremaining: 52.2s\n",
      "674:\tlearn: 1564.1703226\ttotal: 1m 48s\tremaining: 52.1s\n",
      "675:\tlearn: 1564.1186073\ttotal: 1m 48s\tremaining: 51.9s\n",
      "676:\tlearn: 1563.9493837\ttotal: 1m 48s\tremaining: 51.7s\n",
      "677:\tlearn: 1563.8421207\ttotal: 1m 48s\tremaining: 51.6s\n",
      "678:\tlearn: 1563.6949732\ttotal: 1m 48s\tremaining: 51.4s\n",
      "679:\tlearn: 1563.6676892\ttotal: 1m 48s\tremaining: 51.3s\n",
      "680:\tlearn: 1563.4571306\ttotal: 1m 49s\tremaining: 51.1s\n",
      "681:\tlearn: 1563.4242995\ttotal: 1m 49s\tremaining: 50.9s\n",
      "682:\tlearn: 1563.3579367\ttotal: 1m 49s\tremaining: 50.8s\n",
      "683:\tlearn: 1563.3180482\ttotal: 1m 49s\tremaining: 50.6s\n",
      "684:\tlearn: 1563.2340109\ttotal: 1m 49s\tremaining: 50.4s\n",
      "685:\tlearn: 1563.2034118\ttotal: 1m 49s\tremaining: 50.3s\n",
      "686:\tlearn: 1562.9792531\ttotal: 1m 49s\tremaining: 50.1s\n",
      "687:\tlearn: 1562.8749865\ttotal: 1m 50s\tremaining: 49.9s\n",
      "688:\tlearn: 1562.8211711\ttotal: 1m 50s\tremaining: 49.8s\n",
      "689:\tlearn: 1562.8156291\ttotal: 1m 50s\tremaining: 49.6s\n",
      "690:\tlearn: 1562.6932969\ttotal: 1m 50s\tremaining: 49.5s\n",
      "691:\tlearn: 1562.4597025\ttotal: 1m 50s\tremaining: 49.3s\n",
      "692:\tlearn: 1562.2404340\ttotal: 1m 50s\tremaining: 49.1s\n",
      "693:\tlearn: 1562.0123522\ttotal: 1m 51s\tremaining: 49s\n",
      "694:\tlearn: 1561.8547759\ttotal: 1m 51s\tremaining: 48.8s\n",
      "695:\tlearn: 1561.7537356\ttotal: 1m 51s\tremaining: 48.7s\n",
      "696:\tlearn: 1561.7161071\ttotal: 1m 51s\tremaining: 48.5s\n",
      "697:\tlearn: 1561.6750628\ttotal: 1m 51s\tremaining: 48.4s\n",
      "698:\tlearn: 1561.4904423\ttotal: 1m 51s\tremaining: 48.2s\n",
      "699:\tlearn: 1561.2913216\ttotal: 1m 52s\tremaining: 48s\n",
      "700:\tlearn: 1561.2028991\ttotal: 1m 52s\tremaining: 47.8s\n",
      "701:\tlearn: 1561.1978940\ttotal: 1m 52s\tremaining: 47.7s\n",
      "702:\tlearn: 1561.1316273\ttotal: 1m 52s\tremaining: 47.5s\n",
      "703:\tlearn: 1561.0967148\ttotal: 1m 52s\tremaining: 47.4s\n",
      "704:\tlearn: 1560.9441227\ttotal: 1m 52s\tremaining: 47.2s\n",
      "705:\tlearn: 1560.9165384\ttotal: 1m 52s\tremaining: 47s\n",
      "706:\tlearn: 1560.8682987\ttotal: 1m 53s\tremaining: 46.9s\n",
      "707:\tlearn: 1560.5787886\ttotal: 1m 53s\tremaining: 46.7s\n",
      "708:\tlearn: 1560.4224743\ttotal: 1m 53s\tremaining: 46.5s\n",
      "709:\tlearn: 1560.4059096\ttotal: 1m 53s\tremaining: 46.4s\n",
      "710:\tlearn: 1560.2913711\ttotal: 1m 53s\tremaining: 46.2s\n",
      "711:\tlearn: 1560.0864162\ttotal: 1m 53s\tremaining: 46s\n",
      "712:\tlearn: 1559.9881037\ttotal: 1m 53s\tremaining: 45.9s\n",
      "713:\tlearn: 1559.9636368\ttotal: 1m 54s\tremaining: 45.7s\n",
      "714:\tlearn: 1559.8917112\ttotal: 1m 54s\tremaining: 45.5s\n",
      "715:\tlearn: 1559.8180990\ttotal: 1m 54s\tremaining: 45.4s\n",
      "716:\tlearn: 1559.7642368\ttotal: 1m 54s\tremaining: 45.2s\n",
      "717:\tlearn: 1559.6098343\ttotal: 1m 54s\tremaining: 45.1s\n",
      "718:\tlearn: 1559.5053751\ttotal: 1m 54s\tremaining: 44.9s\n",
      "719:\tlearn: 1559.4848750\ttotal: 1m 55s\tremaining: 44.7s\n",
      "720:\tlearn: 1559.3968493\ttotal: 1m 55s\tremaining: 44.6s\n",
      "721:\tlearn: 1559.3436171\ttotal: 1m 55s\tremaining: 44.4s\n",
      "722:\tlearn: 1559.3279861\ttotal: 1m 55s\tremaining: 44.3s\n",
      "723:\tlearn: 1559.2931299\ttotal: 1m 55s\tremaining: 44.1s\n",
      "724:\tlearn: 1559.2607353\ttotal: 1m 55s\tremaining: 43.9s\n",
      "725:\tlearn: 1559.1011658\ttotal: 1m 55s\tremaining: 43.8s\n",
      "726:\tlearn: 1559.0380990\ttotal: 1m 56s\tremaining: 43.6s\n",
      "727:\tlearn: 1559.0232999\ttotal: 1m 56s\tremaining: 43.4s\n",
      "728:\tlearn: 1558.8292304\ttotal: 1m 56s\tremaining: 43.3s\n",
      "729:\tlearn: 1558.6292166\ttotal: 1m 56s\tremaining: 43.1s\n",
      "730:\tlearn: 1558.3604473\ttotal: 1m 56s\tremaining: 43s\n",
      "731:\tlearn: 1558.2518549\ttotal: 1m 57s\tremaining: 42.8s\n",
      "732:\tlearn: 1558.1820384\ttotal: 1m 57s\tremaining: 42.7s\n",
      "733:\tlearn: 1557.8799573\ttotal: 1m 57s\tremaining: 42.5s\n",
      "734:\tlearn: 1557.7703185\ttotal: 1m 57s\tremaining: 42.4s\n",
      "735:\tlearn: 1557.5682637\ttotal: 1m 57s\tremaining: 42.2s\n",
      "736:\tlearn: 1557.3816681\ttotal: 1m 57s\tremaining: 42s\n",
      "737:\tlearn: 1557.2624941\ttotal: 1m 57s\tremaining: 41.9s\n",
      "738:\tlearn: 1557.1772435\ttotal: 1m 58s\tremaining: 41.7s\n",
      "739:\tlearn: 1556.9530723\ttotal: 1m 58s\tremaining: 41.5s\n",
      "740:\tlearn: 1556.9215066\ttotal: 1m 58s\tremaining: 41.4s\n",
      "741:\tlearn: 1556.8697497\ttotal: 1m 58s\tremaining: 41.2s\n",
      "742:\tlearn: 1556.8044341\ttotal: 1m 58s\tremaining: 41.1s\n",
      "743:\tlearn: 1556.7856855\ttotal: 1m 58s\tremaining: 40.9s\n",
      "744:\tlearn: 1556.7381350\ttotal: 1m 59s\tremaining: 40.7s\n",
      "745:\tlearn: 1556.7088267\ttotal: 1m 59s\tremaining: 40.6s\n",
      "746:\tlearn: 1556.6545624\ttotal: 1m 59s\tremaining: 40.4s\n",
      "747:\tlearn: 1556.4529316\ttotal: 1m 59s\tremaining: 40.3s\n",
      "748:\tlearn: 1556.1878631\ttotal: 1m 59s\tremaining: 40.1s\n",
      "749:\tlearn: 1556.1630911\ttotal: 1m 59s\tremaining: 39.9s\n",
      "750:\tlearn: 1556.1426324\ttotal: 1m 59s\tremaining: 39.8s\n",
      "751:\tlearn: 1555.9703244\ttotal: 2m\tremaining: 39.6s\n",
      "752:\tlearn: 1555.9543910\ttotal: 2m\tremaining: 39.4s\n",
      "753:\tlearn: 1555.7507920\ttotal: 2m\tremaining: 39.3s\n",
      "754:\tlearn: 1555.7460090\ttotal: 2m\tremaining: 39.1s\n",
      "755:\tlearn: 1555.5947294\ttotal: 2m\tremaining: 39s\n",
      "756:\tlearn: 1555.4885448\ttotal: 2m\tremaining: 38.8s\n",
      "757:\tlearn: 1555.3720126\ttotal: 2m 1s\tremaining: 38.6s\n",
      "758:\tlearn: 1555.0959241\ttotal: 2m 1s\tremaining: 38.5s\n",
      "759:\tlearn: 1555.0599753\ttotal: 2m 1s\tremaining: 38.3s\n",
      "760:\tlearn: 1554.9524104\ttotal: 2m 1s\tremaining: 38.2s\n",
      "761:\tlearn: 1554.8399347\ttotal: 2m 1s\tremaining: 38s\n",
      "762:\tlearn: 1554.6247851\ttotal: 2m 1s\tremaining: 37.8s\n",
      "763:\tlearn: 1554.5900010\ttotal: 2m 1s\tremaining: 37.7s\n",
      "764:\tlearn: 1554.5822214\ttotal: 2m 2s\tremaining: 37.5s\n",
      "765:\tlearn: 1554.3706802\ttotal: 2m 2s\tremaining: 37.4s\n",
      "766:\tlearn: 1554.3130724\ttotal: 2m 2s\tremaining: 37.2s\n",
      "767:\tlearn: 1554.0581201\ttotal: 2m 2s\tremaining: 37s\n",
      "768:\tlearn: 1554.0510965\ttotal: 2m 2s\tremaining: 36.9s\n",
      "769:\tlearn: 1553.9600282\ttotal: 2m 2s\tremaining: 36.7s\n",
      "770:\tlearn: 1553.9036221\ttotal: 2m 3s\tremaining: 36.6s\n",
      "771:\tlearn: 1553.8700974\ttotal: 2m 3s\tremaining: 36.4s\n",
      "772:\tlearn: 1553.7150477\ttotal: 2m 3s\tremaining: 36.3s\n",
      "773:\tlearn: 1553.6582756\ttotal: 2m 3s\tremaining: 36.1s\n",
      "774:\tlearn: 1553.5770805\ttotal: 2m 3s\tremaining: 35.9s\n",
      "775:\tlearn: 1553.4853432\ttotal: 2m 3s\tremaining: 35.8s\n",
      "776:\tlearn: 1553.3313943\ttotal: 2m 4s\tremaining: 35.6s\n",
      "777:\tlearn: 1553.3265124\ttotal: 2m 4s\tremaining: 35.5s\n",
      "778:\tlearn: 1553.1784878\ttotal: 2m 4s\tremaining: 35.3s\n",
      "779:\tlearn: 1553.0208306\ttotal: 2m 4s\tremaining: 35.1s\n",
      "780:\tlearn: 1552.8666084\ttotal: 2m 4s\tremaining: 35s\n",
      "781:\tlearn: 1552.8089663\ttotal: 2m 4s\tremaining: 34.8s\n",
      "782:\tlearn: 1552.8048691\ttotal: 2m 5s\tremaining: 34.7s\n",
      "783:\tlearn: 1552.7204085\ttotal: 2m 5s\tremaining: 34.5s\n",
      "784:\tlearn: 1552.7105254\ttotal: 2m 5s\tremaining: 34.3s\n",
      "785:\tlearn: 1552.5702806\ttotal: 2m 5s\tremaining: 34.2s\n",
      "786:\tlearn: 1552.4986043\ttotal: 2m 5s\tremaining: 34s\n",
      "787:\tlearn: 1552.3060566\ttotal: 2m 5s\tremaining: 33.9s\n",
      "788:\tlearn: 1552.2606924\ttotal: 2m 6s\tremaining: 33.7s\n",
      "789:\tlearn: 1552.0874113\ttotal: 2m 6s\tremaining: 33.6s\n",
      "790:\tlearn: 1551.7089117\ttotal: 2m 6s\tremaining: 33.4s\n",
      "791:\tlearn: 1551.6178408\ttotal: 2m 6s\tremaining: 33.3s\n",
      "792:\tlearn: 1551.4471061\ttotal: 2m 6s\tremaining: 33.1s\n",
      "793:\tlearn: 1551.2770359\ttotal: 2m 6s\tremaining: 32.9s\n",
      "794:\tlearn: 1551.1626733\ttotal: 2m 7s\tremaining: 32.8s\n",
      "795:\tlearn: 1551.0666022\ttotal: 2m 7s\tremaining: 32.6s\n",
      "796:\tlearn: 1551.0490648\ttotal: 2m 7s\tremaining: 32.5s\n",
      "797:\tlearn: 1550.7355961\ttotal: 2m 7s\tremaining: 32.3s\n",
      "798:\tlearn: 1550.6748150\ttotal: 2m 7s\tremaining: 32.1s\n",
      "799:\tlearn: 1550.5857545\ttotal: 2m 7s\tremaining: 32s\n",
      "800:\tlearn: 1550.4322217\ttotal: 2m 8s\tremaining: 31.8s\n",
      "801:\tlearn: 1550.2979162\ttotal: 2m 8s\tremaining: 31.7s\n",
      "802:\tlearn: 1550.1732092\ttotal: 2m 8s\tremaining: 31.5s\n",
      "803:\tlearn: 1550.0571610\ttotal: 2m 8s\tremaining: 31.3s\n",
      "804:\tlearn: 1549.8856815\ttotal: 2m 8s\tremaining: 31.2s\n",
      "805:\tlearn: 1549.7587906\ttotal: 2m 8s\tremaining: 31s\n",
      "806:\tlearn: 1549.6438775\ttotal: 2m 9s\tremaining: 30.9s\n"
     ]
    },
    {
     "name": "stdout",
     "output_type": "stream",
     "text": [
      "807:\tlearn: 1549.4963252\ttotal: 2m 9s\tremaining: 30.7s\n",
      "808:\tlearn: 1549.4893628\ttotal: 2m 9s\tremaining: 30.5s\n",
      "809:\tlearn: 1549.4102753\ttotal: 2m 9s\tremaining: 30.4s\n",
      "810:\tlearn: 1549.3902522\ttotal: 2m 9s\tremaining: 30.2s\n",
      "811:\tlearn: 1549.3452374\ttotal: 2m 9s\tremaining: 30.1s\n",
      "812:\tlearn: 1549.2256897\ttotal: 2m 9s\tremaining: 29.9s\n",
      "813:\tlearn: 1548.8900509\ttotal: 2m 10s\tremaining: 29.7s\n",
      "814:\tlearn: 1548.8448651\ttotal: 2m 10s\tremaining: 29.6s\n",
      "815:\tlearn: 1548.8269586\ttotal: 2m 10s\tremaining: 29.4s\n",
      "816:\tlearn: 1548.7739974\ttotal: 2m 10s\tremaining: 29.2s\n",
      "817:\tlearn: 1548.6861115\ttotal: 2m 10s\tremaining: 29.1s\n",
      "818:\tlearn: 1548.6005538\ttotal: 2m 10s\tremaining: 28.9s\n",
      "819:\tlearn: 1548.4827530\ttotal: 2m 10s\tremaining: 28.7s\n",
      "820:\tlearn: 1548.3592588\ttotal: 2m 11s\tremaining: 28.6s\n",
      "821:\tlearn: 1548.2101702\ttotal: 2m 11s\tremaining: 28.4s\n",
      "822:\tlearn: 1548.1311862\ttotal: 2m 11s\tremaining: 28.3s\n",
      "823:\tlearn: 1548.1219772\ttotal: 2m 11s\tremaining: 28.1s\n",
      "824:\tlearn: 1548.0288645\ttotal: 2m 11s\tremaining: 28s\n",
      "825:\tlearn: 1547.9656573\ttotal: 2m 12s\tremaining: 27.8s\n",
      "826:\tlearn: 1547.9313834\ttotal: 2m 12s\tremaining: 27.6s\n",
      "827:\tlearn: 1547.7791360\ttotal: 2m 12s\tremaining: 27.5s\n",
      "828:\tlearn: 1547.7067816\ttotal: 2m 12s\tremaining: 27.3s\n",
      "829:\tlearn: 1547.6263136\ttotal: 2m 12s\tremaining: 27.2s\n",
      "830:\tlearn: 1547.5308862\ttotal: 2m 12s\tremaining: 27s\n",
      "831:\tlearn: 1547.3936222\ttotal: 2m 13s\tremaining: 26.9s\n",
      "832:\tlearn: 1547.0572508\ttotal: 2m 13s\tremaining: 26.7s\n",
      "833:\tlearn: 1546.9286145\ttotal: 2m 13s\tremaining: 26.6s\n",
      "834:\tlearn: 1546.7975689\ttotal: 2m 13s\tremaining: 26.4s\n",
      "835:\tlearn: 1546.7317993\ttotal: 2m 13s\tremaining: 26.2s\n",
      "836:\tlearn: 1546.6855626\ttotal: 2m 13s\tremaining: 26.1s\n",
      "837:\tlearn: 1546.5321136\ttotal: 2m 14s\tremaining: 25.9s\n",
      "838:\tlearn: 1546.4471554\ttotal: 2m 14s\tremaining: 25.8s\n",
      "839:\tlearn: 1546.3984191\ttotal: 2m 14s\tremaining: 25.6s\n",
      "840:\tlearn: 1546.2794466\ttotal: 2m 14s\tremaining: 25.4s\n",
      "841:\tlearn: 1546.1637824\ttotal: 2m 14s\tremaining: 25.3s\n",
      "842:\tlearn: 1546.1553252\ttotal: 2m 14s\tremaining: 25.1s\n",
      "843:\tlearn: 1546.1338250\ttotal: 2m 15s\tremaining: 25s\n",
      "844:\tlearn: 1546.0738053\ttotal: 2m 15s\tremaining: 24.8s\n",
      "845:\tlearn: 1546.0477988\ttotal: 2m 15s\tremaining: 24.6s\n",
      "846:\tlearn: 1545.9801834\ttotal: 2m 15s\tremaining: 24.5s\n",
      "847:\tlearn: 1545.8672727\ttotal: 2m 15s\tremaining: 24.3s\n",
      "848:\tlearn: 1545.8044360\ttotal: 2m 15s\tremaining: 24.2s\n",
      "849:\tlearn: 1545.5691645\ttotal: 2m 15s\tremaining: 24s\n",
      "850:\tlearn: 1545.4516382\ttotal: 2m 16s\tremaining: 23.8s\n",
      "851:\tlearn: 1545.4152121\ttotal: 2m 16s\tremaining: 23.7s\n",
      "852:\tlearn: 1545.3558386\ttotal: 2m 16s\tremaining: 23.5s\n",
      "853:\tlearn: 1545.2113657\ttotal: 2m 16s\tremaining: 23.4s\n",
      "854:\tlearn: 1545.0832581\ttotal: 2m 16s\tremaining: 23.2s\n",
      "855:\tlearn: 1544.9206951\ttotal: 2m 17s\tremaining: 23.1s\n",
      "856:\tlearn: 1544.7556318\ttotal: 2m 17s\tremaining: 22.9s\n",
      "857:\tlearn: 1544.7482364\ttotal: 2m 17s\tremaining: 22.7s\n",
      "858:\tlearn: 1544.6900769\ttotal: 2m 17s\tremaining: 22.6s\n",
      "859:\tlearn: 1544.6445241\ttotal: 2m 17s\tremaining: 22.4s\n",
      "860:\tlearn: 1544.4998770\ttotal: 2m 17s\tremaining: 22.3s\n",
      "861:\tlearn: 1544.4349293\ttotal: 2m 18s\tremaining: 22.1s\n",
      "862:\tlearn: 1544.3850853\ttotal: 2m 18s\tremaining: 21.9s\n",
      "863:\tlearn: 1544.2124550\ttotal: 2m 18s\tremaining: 21.8s\n",
      "864:\tlearn: 1544.0432998\ttotal: 2m 18s\tremaining: 21.6s\n",
      "865:\tlearn: 1543.9841910\ttotal: 2m 18s\tremaining: 21.5s\n",
      "866:\tlearn: 1543.9387929\ttotal: 2m 18s\tremaining: 21.3s\n",
      "867:\tlearn: 1543.9253428\ttotal: 2m 19s\tremaining: 21.1s\n",
      "868:\tlearn: 1543.9050812\ttotal: 2m 19s\tremaining: 21s\n",
      "869:\tlearn: 1543.6345089\ttotal: 2m 19s\tremaining: 20.8s\n",
      "870:\tlearn: 1543.5112489\ttotal: 2m 19s\tremaining: 20.7s\n",
      "871:\tlearn: 1543.3843971\ttotal: 2m 19s\tremaining: 20.5s\n",
      "872:\tlearn: 1543.3495223\ttotal: 2m 19s\tremaining: 20.4s\n",
      "873:\tlearn: 1543.2811760\ttotal: 2m 20s\tremaining: 20.2s\n",
      "874:\tlearn: 1543.1436219\ttotal: 2m 20s\tremaining: 20s\n",
      "875:\tlearn: 1543.0931332\ttotal: 2m 20s\tremaining: 19.9s\n",
      "876:\tlearn: 1542.8859088\ttotal: 2m 20s\tremaining: 19.7s\n",
      "877:\tlearn: 1542.8717245\ttotal: 2m 20s\tremaining: 19.5s\n",
      "878:\tlearn: 1542.8579448\ttotal: 2m 20s\tremaining: 19.4s\n",
      "879:\tlearn: 1542.8247354\ttotal: 2m 20s\tremaining: 19.2s\n",
      "880:\tlearn: 1542.7161362\ttotal: 2m 21s\tremaining: 19.1s\n",
      "881:\tlearn: 1542.6436217\ttotal: 2m 21s\tremaining: 18.9s\n",
      "882:\tlearn: 1542.3711911\ttotal: 2m 21s\tremaining: 18.7s\n",
      "883:\tlearn: 1542.2906409\ttotal: 2m 21s\tremaining: 18.6s\n",
      "884:\tlearn: 1542.2322415\ttotal: 2m 21s\tremaining: 18.4s\n",
      "885:\tlearn: 1542.0774708\ttotal: 2m 21s\tremaining: 18.3s\n",
      "886:\tlearn: 1541.9773457\ttotal: 2m 22s\tremaining: 18.1s\n",
      "887:\tlearn: 1541.7585510\ttotal: 2m 22s\tremaining: 17.9s\n",
      "888:\tlearn: 1541.7186092\ttotal: 2m 22s\tremaining: 17.8s\n",
      "889:\tlearn: 1541.6279760\ttotal: 2m 22s\tremaining: 17.6s\n",
      "890:\tlearn: 1541.3911654\ttotal: 2m 22s\tremaining: 17.5s\n",
      "891:\tlearn: 1541.1611933\ttotal: 2m 23s\tremaining: 17.3s\n",
      "892:\tlearn: 1540.9850826\ttotal: 2m 23s\tremaining: 17.2s\n",
      "893:\tlearn: 1540.7144143\ttotal: 2m 23s\tremaining: 17s\n",
      "894:\tlearn: 1540.5889778\ttotal: 2m 23s\tremaining: 16.8s\n",
      "895:\tlearn: 1540.4943638\ttotal: 2m 23s\tremaining: 16.7s\n",
      "896:\tlearn: 1540.4133650\ttotal: 2m 23s\tremaining: 16.5s\n",
      "897:\tlearn: 1540.2825936\ttotal: 2m 23s\tremaining: 16.3s\n",
      "898:\tlearn: 1540.1937253\ttotal: 2m 24s\tremaining: 16.2s\n",
      "899:\tlearn: 1540.1930522\ttotal: 2m 24s\tremaining: 16s\n",
      "900:\tlearn: 1540.0232093\ttotal: 2m 24s\tremaining: 15.9s\n",
      "901:\tlearn: 1539.8849699\ttotal: 2m 24s\tremaining: 15.7s\n",
      "902:\tlearn: 1539.8295252\ttotal: 2m 24s\tremaining: 15.5s\n",
      "903:\tlearn: 1539.7613904\ttotal: 2m 24s\tremaining: 15.4s\n",
      "904:\tlearn: 1539.6140595\ttotal: 2m 24s\tremaining: 15.2s\n",
      "905:\tlearn: 1539.5534720\ttotal: 2m 25s\tremaining: 15.1s\n",
      "906:\tlearn: 1539.5135487\ttotal: 2m 25s\tremaining: 14.9s\n",
      "907:\tlearn: 1539.3584315\ttotal: 2m 25s\tremaining: 14.7s\n",
      "908:\tlearn: 1539.2496383\ttotal: 2m 25s\tremaining: 14.6s\n",
      "909:\tlearn: 1538.9861730\ttotal: 2m 25s\tremaining: 14.4s\n",
      "910:\tlearn: 1538.9102173\ttotal: 2m 25s\tremaining: 14.3s\n",
      "911:\tlearn: 1538.7756960\ttotal: 2m 26s\tremaining: 14.1s\n",
      "912:\tlearn: 1538.5706723\ttotal: 2m 26s\tremaining: 13.9s\n",
      "913:\tlearn: 1538.4045394\ttotal: 2m 26s\tremaining: 13.8s\n",
      "914:\tlearn: 1538.1883733\ttotal: 2m 26s\tremaining: 13.6s\n",
      "915:\tlearn: 1538.0174542\ttotal: 2m 26s\tremaining: 13.4s\n",
      "916:\tlearn: 1537.7935944\ttotal: 2m 26s\tremaining: 13.3s\n",
      "917:\tlearn: 1537.3345215\ttotal: 2m 26s\tremaining: 13.1s\n",
      "918:\tlearn: 1537.2006958\ttotal: 2m 27s\tremaining: 13s\n",
      "919:\tlearn: 1537.0535126\ttotal: 2m 27s\tremaining: 12.8s\n",
      "920:\tlearn: 1537.0352621\ttotal: 2m 27s\tremaining: 12.7s\n",
      "921:\tlearn: 1536.9656386\ttotal: 2m 27s\tremaining: 12.5s\n",
      "922:\tlearn: 1536.8792041\ttotal: 2m 27s\tremaining: 12.3s\n",
      "923:\tlearn: 1536.7994122\ttotal: 2m 27s\tremaining: 12.2s\n",
      "924:\tlearn: 1536.6302164\ttotal: 2m 28s\tremaining: 12s\n",
      "925:\tlearn: 1536.5560798\ttotal: 2m 28s\tremaining: 11.8s\n",
      "926:\tlearn: 1536.5126979\ttotal: 2m 28s\tremaining: 11.7s\n",
      "927:\tlearn: 1536.3220288\ttotal: 2m 28s\tremaining: 11.5s\n",
      "928:\tlearn: 1536.3019568\ttotal: 2m 28s\tremaining: 11.4s\n",
      "929:\tlearn: 1536.1520337\ttotal: 2m 28s\tremaining: 11.2s\n",
      "930:\tlearn: 1536.1461070\ttotal: 2m 28s\tremaining: 11s\n",
      "931:\tlearn: 1536.1207093\ttotal: 2m 29s\tremaining: 10.9s\n",
      "932:\tlearn: 1536.0499704\ttotal: 2m 29s\tremaining: 10.7s\n",
      "933:\tlearn: 1536.0012396\ttotal: 2m 29s\tremaining: 10.6s\n",
      "934:\tlearn: 1535.7809154\ttotal: 2m 29s\tremaining: 10.4s\n",
      "935:\tlearn: 1535.5776075\ttotal: 2m 29s\tremaining: 10.2s\n",
      "936:\tlearn: 1535.5354433\ttotal: 2m 29s\tremaining: 10.1s\n",
      "937:\tlearn: 1535.4994941\ttotal: 2m 30s\tremaining: 9.91s\n",
      "938:\tlearn: 1535.4344394\ttotal: 2m 30s\tremaining: 9.75s\n",
      "939:\tlearn: 1535.4218026\ttotal: 2m 30s\tremaining: 9.59s\n",
      "940:\tlearn: 1535.4102743\ttotal: 2m 30s\tremaining: 9.43s\n",
      "941:\tlearn: 1535.3430434\ttotal: 2m 30s\tremaining: 9.28s\n",
      "942:\tlearn: 1535.2645474\ttotal: 2m 30s\tremaining: 9.12s\n",
      "943:\tlearn: 1535.1872611\ttotal: 2m 31s\tremaining: 8.96s\n",
      "944:\tlearn: 1535.0987324\ttotal: 2m 31s\tremaining: 8.8s\n",
      "945:\tlearn: 1534.9161476\ttotal: 2m 31s\tremaining: 8.64s\n",
      "946:\tlearn: 1534.8661936\ttotal: 2m 31s\tremaining: 8.48s\n",
      "947:\tlearn: 1534.7469615\ttotal: 2m 31s\tremaining: 8.32s\n",
      "948:\tlearn: 1534.7094780\ttotal: 2m 31s\tremaining: 8.16s\n",
      "949:\tlearn: 1534.6738672\ttotal: 2m 31s\tremaining: 8s\n",
      "950:\tlearn: 1534.6371738\ttotal: 2m 32s\tremaining: 7.84s\n",
      "951:\tlearn: 1534.5939334\ttotal: 2m 32s\tremaining: 7.68s\n",
      "952:\tlearn: 1534.4339457\ttotal: 2m 32s\tremaining: 7.52s\n",
      "953:\tlearn: 1534.3486795\ttotal: 2m 32s\tremaining: 7.36s\n"
     ]
    },
    {
     "name": "stdout",
     "output_type": "stream",
     "text": [
      "954:\tlearn: 1534.3267877\ttotal: 2m 32s\tremaining: 7.2s\n",
      "955:\tlearn: 1534.2961064\ttotal: 2m 32s\tremaining: 7.04s\n",
      "956:\tlearn: 1534.1107924\ttotal: 2m 33s\tremaining: 6.88s\n",
      "957:\tlearn: 1533.9028753\ttotal: 2m 33s\tremaining: 6.72s\n",
      "958:\tlearn: 1533.8619085\ttotal: 2m 33s\tremaining: 6.56s\n",
      "959:\tlearn: 1533.6296322\ttotal: 2m 33s\tremaining: 6.4s\n",
      "960:\tlearn: 1533.5548587\ttotal: 2m 33s\tremaining: 6.25s\n",
      "961:\tlearn: 1533.5486878\ttotal: 2m 34s\tremaining: 6.08s\n",
      "962:\tlearn: 1533.3516352\ttotal: 2m 34s\tremaining: 5.92s\n",
      "963:\tlearn: 1533.3153350\ttotal: 2m 34s\tremaining: 5.76s\n",
      "964:\tlearn: 1533.2943749\ttotal: 2m 34s\tremaining: 5.6s\n",
      "965:\tlearn: 1533.1158287\ttotal: 2m 34s\tremaining: 5.44s\n",
      "966:\tlearn: 1532.8505115\ttotal: 2m 34s\tremaining: 5.28s\n",
      "967:\tlearn: 1532.7539234\ttotal: 2m 34s\tremaining: 5.12s\n",
      "968:\tlearn: 1532.7132417\ttotal: 2m 35s\tremaining: 4.96s\n",
      "969:\tlearn: 1532.6614539\ttotal: 2m 35s\tremaining: 4.8s\n",
      "970:\tlearn: 1532.5442139\ttotal: 2m 35s\tremaining: 4.64s\n",
      "971:\tlearn: 1532.4802845\ttotal: 2m 35s\tremaining: 4.48s\n",
      "972:\tlearn: 1532.4226076\ttotal: 2m 35s\tremaining: 4.32s\n",
      "973:\tlearn: 1532.2540064\ttotal: 2m 35s\tremaining: 4.16s\n",
      "974:\tlearn: 1532.1146672\ttotal: 2m 36s\tremaining: 4s\n",
      "975:\tlearn: 1532.0017745\ttotal: 2m 36s\tremaining: 3.85s\n",
      "976:\tlearn: 1531.7984495\ttotal: 2m 36s\tremaining: 3.69s\n",
      "977:\tlearn: 1531.7464021\ttotal: 2m 36s\tremaining: 3.52s\n",
      "978:\tlearn: 1531.5455395\ttotal: 2m 36s\tremaining: 3.37s\n",
      "979:\tlearn: 1531.4661746\ttotal: 2m 37s\tremaining: 3.21s\n",
      "980:\tlearn: 1531.1579753\ttotal: 2m 37s\tremaining: 3.05s\n",
      "981:\tlearn: 1531.0764468\ttotal: 2m 37s\tremaining: 2.88s\n",
      "982:\tlearn: 1531.0063498\ttotal: 2m 37s\tremaining: 2.73s\n",
      "983:\tlearn: 1530.9091766\ttotal: 2m 37s\tremaining: 2.56s\n",
      "984:\tlearn: 1530.8504298\ttotal: 2m 37s\tremaining: 2.4s\n",
      "985:\tlearn: 1530.7553969\ttotal: 2m 38s\tremaining: 2.24s\n",
      "986:\tlearn: 1530.6705854\ttotal: 2m 38s\tremaining: 2.08s\n",
      "987:\tlearn: 1530.6584265\ttotal: 2m 38s\tremaining: 1.92s\n",
      "988:\tlearn: 1530.6259942\ttotal: 2m 38s\tremaining: 1.76s\n",
      "989:\tlearn: 1530.4038123\ttotal: 2m 38s\tremaining: 1.6s\n",
      "990:\tlearn: 1530.3404426\ttotal: 2m 38s\tremaining: 1.44s\n",
      "991:\tlearn: 1530.2766744\ttotal: 2m 38s\tremaining: 1.28s\n",
      "992:\tlearn: 1530.1276418\ttotal: 2m 39s\tremaining: 1.12s\n",
      "993:\tlearn: 1530.0910181\ttotal: 2m 39s\tremaining: 960ms\n",
      "994:\tlearn: 1530.0068431\ttotal: 2m 39s\tremaining: 800ms\n",
      "995:\tlearn: 1529.9496102\ttotal: 2m 39s\tremaining: 640ms\n",
      "996:\tlearn: 1529.8936825\ttotal: 2m 39s\tremaining: 480ms\n",
      "997:\tlearn: 1529.6545259\ttotal: 2m 39s\tremaining: 320ms\n",
      "998:\tlearn: 1529.6257511\ttotal: 2m 39s\tremaining: 160ms\n",
      "999:\tlearn: 1529.4252579\ttotal: 2m 40s\tremaining: 0us\n",
      "[CV 3/3; 1/2] END .....learning_rate=0.1, random_state=12345; total time= 2.7min\n",
      "[CV 1/3; 2/2] START learning_rate=0.2, random_state=12345.......................\n",
      "0:\tlearn: 3851.1152967\ttotal: 224ms\tremaining: 3m 44s\n",
      "1:\tlearn: 3421.4208431\ttotal: 437ms\tremaining: 3m 37s\n",
      "2:\tlearn: 3087.9788912\ttotal: 667ms\tremaining: 3m 41s\n",
      "3:\tlearn: 2850.4517157\ttotal: 825ms\tremaining: 3m 25s\n",
      "4:\tlearn: 2649.5207640\ttotal: 967ms\tremaining: 3m 12s\n",
      "5:\tlearn: 2477.5428185\ttotal: 1.14s\tremaining: 3m 8s\n",
      "6:\tlearn: 2362.6950907\ttotal: 1.33s\tremaining: 3m 8s\n",
      "7:\tlearn: 2262.4805853\ttotal: 1.51s\tremaining: 3m 6s\n",
      "8:\tlearn: 2185.4915737\ttotal: 1.71s\tremaining: 3m 7s\n",
      "9:\tlearn: 2125.3133839\ttotal: 1.87s\tremaining: 3m 5s\n",
      "10:\tlearn: 2071.3251699\ttotal: 2.05s\tremaining: 3m 4s\n",
      "11:\tlearn: 2027.5867261\ttotal: 2.23s\tremaining: 3m 4s\n",
      "12:\tlearn: 1996.1879747\ttotal: 2.43s\tremaining: 3m 4s\n",
      "13:\tlearn: 1971.6262346\ttotal: 2.55s\tremaining: 2m 59s\n",
      "14:\tlearn: 1949.5718967\ttotal: 2.71s\tremaining: 2m 58s\n",
      "15:\tlearn: 1929.7735112\ttotal: 2.89s\tremaining: 2m 57s\n",
      "16:\tlearn: 1917.5037909\ttotal: 3.04s\tremaining: 2m 55s\n",
      "17:\tlearn: 1906.1463738\ttotal: 3.21s\tremaining: 2m 55s\n",
      "18:\tlearn: 1891.7137026\ttotal: 3.36s\tremaining: 2m 53s\n",
      "19:\tlearn: 1879.5407830\ttotal: 3.53s\tremaining: 2m 53s\n",
      "20:\tlearn: 1869.5125349\ttotal: 3.77s\tremaining: 2m 55s\n",
      "21:\tlearn: 1860.9224357\ttotal: 3.94s\tremaining: 2m 55s\n",
      "22:\tlearn: 1852.1136768\ttotal: 4.11s\tremaining: 2m 54s\n",
      "23:\tlearn: 1844.0826190\ttotal: 4.28s\tremaining: 2m 53s\n",
      "24:\tlearn: 1838.7751796\ttotal: 4.42s\tremaining: 2m 52s\n",
      "25:\tlearn: 1833.8370313\ttotal: 4.62s\tremaining: 2m 53s\n",
      "26:\tlearn: 1824.9373602\ttotal: 4.75s\tremaining: 2m 51s\n",
      "27:\tlearn: 1819.4076229\ttotal: 4.95s\tremaining: 2m 51s\n",
      "28:\tlearn: 1813.7894365\ttotal: 5.08s\tremaining: 2m 50s\n",
      "29:\tlearn: 1809.3999915\ttotal: 5.22s\tremaining: 2m 48s\n",
      "30:\tlearn: 1803.6388882\ttotal: 5.37s\tremaining: 2m 47s\n",
      "31:\tlearn: 1800.0821925\ttotal: 5.49s\tremaining: 2m 45s\n",
      "32:\tlearn: 1795.5938082\ttotal: 5.59s\tremaining: 2m 43s\n",
      "33:\tlearn: 1791.3963945\ttotal: 5.79s\tremaining: 2m 44s\n",
      "34:\tlearn: 1785.5017115\ttotal: 5.93s\tremaining: 2m 43s\n",
      "35:\tlearn: 1781.7778569\ttotal: 6.1s\tremaining: 2m 43s\n",
      "36:\tlearn: 1778.3358287\ttotal: 6.25s\tremaining: 2m 42s\n",
      "37:\tlearn: 1775.6191245\ttotal: 6.38s\tremaining: 2m 41s\n",
      "38:\tlearn: 1771.1019367\ttotal: 6.61s\tremaining: 2m 42s\n",
      "39:\tlearn: 1768.4078160\ttotal: 6.8s\tremaining: 2m 43s\n",
      "40:\tlearn: 1766.4618417\ttotal: 6.94s\tremaining: 2m 42s\n",
      "41:\tlearn: 1763.6040581\ttotal: 7.1s\tremaining: 2m 41s\n",
      "42:\tlearn: 1761.2794137\ttotal: 7.28s\tremaining: 2m 42s\n",
      "43:\tlearn: 1758.2141876\ttotal: 7.44s\tremaining: 2m 41s\n",
      "44:\tlearn: 1753.6058850\ttotal: 7.56s\tremaining: 2m 40s\n",
      "45:\tlearn: 1751.3263249\ttotal: 7.67s\tremaining: 2m 39s\n",
      "46:\tlearn: 1747.9883847\ttotal: 7.79s\tremaining: 2m 38s\n",
      "47:\tlearn: 1745.0884914\ttotal: 7.95s\tremaining: 2m 37s\n",
      "48:\tlearn: 1744.0558963\ttotal: 8.11s\tremaining: 2m 37s\n",
      "49:\tlearn: 1741.3003815\ttotal: 8.28s\tremaining: 2m 37s\n",
      "50:\tlearn: 1739.6995935\ttotal: 8.42s\tremaining: 2m 36s\n",
      "51:\tlearn: 1737.5879438\ttotal: 8.58s\tremaining: 2m 36s\n",
      "52:\tlearn: 1734.5263630\ttotal: 8.75s\tremaining: 2m 36s\n",
      "53:\tlearn: 1732.3348708\ttotal: 8.93s\tremaining: 2m 36s\n",
      "54:\tlearn: 1730.0720446\ttotal: 9.06s\tremaining: 2m 35s\n",
      "55:\tlearn: 1728.5748083\ttotal: 9.26s\tremaining: 2m 36s\n",
      "56:\tlearn: 1726.5889759\ttotal: 9.45s\tremaining: 2m 36s\n",
      "57:\tlearn: 1725.8959877\ttotal: 9.66s\tremaining: 2m 36s\n",
      "58:\tlearn: 1724.6105122\ttotal: 9.86s\tremaining: 2m 37s\n",
      "59:\tlearn: 1721.0612480\ttotal: 10s\tremaining: 2m 36s\n",
      "60:\tlearn: 1718.6686988\ttotal: 10.2s\tremaining: 2m 37s\n",
      "61:\tlearn: 1715.8422658\ttotal: 10.4s\tremaining: 2m 37s\n",
      "62:\tlearn: 1714.6123291\ttotal: 10.5s\tremaining: 2m 36s\n",
      "63:\tlearn: 1713.8701610\ttotal: 10.7s\tremaining: 2m 36s\n",
      "64:\tlearn: 1711.0133184\ttotal: 10.8s\tremaining: 2m 35s\n",
      "65:\tlearn: 1707.7380052\ttotal: 11s\tremaining: 2m 35s\n",
      "66:\tlearn: 1706.2128367\ttotal: 11.1s\tremaining: 2m 34s\n",
      "67:\tlearn: 1704.9285851\ttotal: 11.2s\tremaining: 2m 33s\n",
      "68:\tlearn: 1702.4226106\ttotal: 11.4s\tremaining: 2m 33s\n",
      "69:\tlearn: 1700.9799475\ttotal: 11.6s\tremaining: 2m 33s\n",
      "70:\tlearn: 1699.2506302\ttotal: 11.7s\tremaining: 2m 32s\n",
      "71:\tlearn: 1696.8483879\ttotal: 11.9s\tremaining: 2m 32s\n",
      "72:\tlearn: 1695.6677222\ttotal: 12.1s\tremaining: 2m 33s\n",
      "73:\tlearn: 1694.2664143\ttotal: 12.3s\tremaining: 2m 33s\n",
      "74:\tlearn: 1692.2119270\ttotal: 12.5s\tremaining: 2m 33s\n",
      "75:\tlearn: 1690.6410364\ttotal: 12.6s\tremaining: 2m 33s\n",
      "76:\tlearn: 1689.6073137\ttotal: 12.8s\tremaining: 2m 33s\n",
      "77:\tlearn: 1687.8665502\ttotal: 13s\tremaining: 2m 33s\n",
      "78:\tlearn: 1686.2838135\ttotal: 13.2s\tremaining: 2m 33s\n",
      "79:\tlearn: 1684.1194722\ttotal: 13.4s\tremaining: 2m 33s\n",
      "80:\tlearn: 1683.0539904\ttotal: 13.5s\tremaining: 2m 33s\n",
      "81:\tlearn: 1681.2813371\ttotal: 13.7s\tremaining: 2m 33s\n",
      "82:\tlearn: 1679.7829295\ttotal: 13.8s\tremaining: 2m 32s\n",
      "83:\tlearn: 1678.1865248\ttotal: 14s\tremaining: 2m 32s\n",
      "84:\tlearn: 1677.0410491\ttotal: 14.1s\tremaining: 2m 32s\n",
      "85:\tlearn: 1675.2128420\ttotal: 14.3s\tremaining: 2m 31s\n",
      "86:\tlearn: 1674.1321499\ttotal: 14.4s\tremaining: 2m 31s\n",
      "87:\tlearn: 1672.9513827\ttotal: 14.6s\tremaining: 2m 31s\n",
      "88:\tlearn: 1671.5665816\ttotal: 14.8s\tremaining: 2m 31s\n",
      "89:\tlearn: 1670.3982411\ttotal: 14.9s\tremaining: 2m 31s\n",
      "90:\tlearn: 1668.9399769\ttotal: 15.1s\tremaining: 2m 30s\n",
      "91:\tlearn: 1666.7764921\ttotal: 15.3s\tremaining: 2m 30s\n",
      "92:\tlearn: 1665.4819658\ttotal: 15.4s\tremaining: 2m 30s\n",
      "93:\tlearn: 1664.6352164\ttotal: 15.6s\tremaining: 2m 29s\n",
      "94:\tlearn: 1663.5057505\ttotal: 15.8s\tremaining: 2m 30s\n",
      "95:\tlearn: 1662.0733131\ttotal: 15.9s\tremaining: 2m 29s\n",
      "96:\tlearn: 1661.3475828\ttotal: 16.1s\tremaining: 2m 29s\n",
      "97:\tlearn: 1660.0144287\ttotal: 16.3s\tremaining: 2m 29s\n",
      "98:\tlearn: 1659.0612081\ttotal: 16.4s\tremaining: 2m 29s\n",
      "99:\tlearn: 1658.4378608\ttotal: 16.6s\tremaining: 2m 29s\n"
     ]
    },
    {
     "name": "stdout",
     "output_type": "stream",
     "text": [
      "100:\tlearn: 1657.2819797\ttotal: 16.8s\tremaining: 2m 29s\n",
      "101:\tlearn: 1656.6400350\ttotal: 16.9s\tremaining: 2m 28s\n",
      "102:\tlearn: 1655.5521467\ttotal: 17s\tremaining: 2m 28s\n",
      "103:\tlearn: 1654.6425777\ttotal: 17.2s\tremaining: 2m 27s\n",
      "104:\tlearn: 1653.2708807\ttotal: 17.3s\tremaining: 2m 27s\n",
      "105:\tlearn: 1652.4131338\ttotal: 17.5s\tremaining: 2m 27s\n",
      "106:\tlearn: 1651.2918664\ttotal: 17.7s\tremaining: 2m 27s\n",
      "107:\tlearn: 1650.5122676\ttotal: 17.9s\tremaining: 2m 27s\n",
      "108:\tlearn: 1649.6579751\ttotal: 18s\tremaining: 2m 27s\n",
      "109:\tlearn: 1648.9404392\ttotal: 18.2s\tremaining: 2m 26s\n",
      "110:\tlearn: 1648.0665803\ttotal: 18.3s\tremaining: 2m 26s\n",
      "111:\tlearn: 1647.3297519\ttotal: 18.5s\tremaining: 2m 26s\n",
      "112:\tlearn: 1646.2825110\ttotal: 18.7s\tremaining: 2m 27s\n",
      "113:\tlearn: 1645.2711798\ttotal: 18.9s\tremaining: 2m 26s\n",
      "114:\tlearn: 1644.7419100\ttotal: 19.1s\tremaining: 2m 26s\n",
      "115:\tlearn: 1644.2046648\ttotal: 19.2s\tremaining: 2m 26s\n",
      "116:\tlearn: 1643.5119545\ttotal: 19.3s\tremaining: 2m 26s\n",
      "117:\tlearn: 1642.4308145\ttotal: 19.5s\tremaining: 2m 25s\n",
      "118:\tlearn: 1641.9884220\ttotal: 19.7s\tremaining: 2m 25s\n",
      "119:\tlearn: 1641.2545205\ttotal: 19.8s\tremaining: 2m 25s\n",
      "120:\tlearn: 1640.0837361\ttotal: 20s\tremaining: 2m 25s\n",
      "121:\tlearn: 1638.6919402\ttotal: 20.2s\tremaining: 2m 25s\n",
      "122:\tlearn: 1637.4962985\ttotal: 20.4s\tremaining: 2m 25s\n",
      "123:\tlearn: 1636.5286008\ttotal: 20.5s\tremaining: 2m 25s\n",
      "124:\tlearn: 1635.4865546\ttotal: 20.7s\tremaining: 2m 24s\n",
      "125:\tlearn: 1635.2716715\ttotal: 20.8s\tremaining: 2m 24s\n",
      "126:\tlearn: 1634.6616576\ttotal: 21s\tremaining: 2m 24s\n",
      "127:\tlearn: 1633.9586469\ttotal: 21.1s\tremaining: 2m 23s\n",
      "128:\tlearn: 1633.1230276\ttotal: 21.3s\tremaining: 2m 23s\n",
      "129:\tlearn: 1632.6572163\ttotal: 21.4s\tremaining: 2m 23s\n",
      "130:\tlearn: 1632.1538245\ttotal: 21.6s\tremaining: 2m 23s\n",
      "131:\tlearn: 1632.0886850\ttotal: 21.7s\tremaining: 2m 22s\n",
      "132:\tlearn: 1631.2976256\ttotal: 21.8s\tremaining: 2m 22s\n",
      "133:\tlearn: 1630.2365880\ttotal: 22s\tremaining: 2m 22s\n",
      "134:\tlearn: 1629.3783935\ttotal: 22.2s\tremaining: 2m 22s\n",
      "135:\tlearn: 1628.9577378\ttotal: 22.3s\tremaining: 2m 21s\n",
      "136:\tlearn: 1628.0171880\ttotal: 22.5s\tremaining: 2m 21s\n",
      "137:\tlearn: 1626.7829713\ttotal: 22.7s\tremaining: 2m 21s\n",
      "138:\tlearn: 1626.1398616\ttotal: 22.8s\tremaining: 2m 21s\n",
      "139:\tlearn: 1625.3476191\ttotal: 22.9s\tremaining: 2m 20s\n",
      "140:\tlearn: 1624.7051945\ttotal: 23.1s\tremaining: 2m 20s\n",
      "141:\tlearn: 1624.3666967\ttotal: 23.3s\tremaining: 2m 20s\n",
      "142:\tlearn: 1623.0507990\ttotal: 23.4s\tremaining: 2m 20s\n",
      "143:\tlearn: 1622.1678394\ttotal: 23.5s\tremaining: 2m 19s\n",
      "144:\tlearn: 1621.7686004\ttotal: 23.7s\tremaining: 2m 19s\n",
      "145:\tlearn: 1621.4101993\ttotal: 23.9s\tremaining: 2m 19s\n",
      "146:\tlearn: 1621.0061702\ttotal: 24s\tremaining: 2m 19s\n",
      "147:\tlearn: 1620.3204540\ttotal: 24.2s\tremaining: 2m 19s\n",
      "148:\tlearn: 1619.6754933\ttotal: 24.3s\tremaining: 2m 18s\n",
      "149:\tlearn: 1619.5402444\ttotal: 24.4s\tremaining: 2m 18s\n",
      "150:\tlearn: 1618.9529522\ttotal: 24.6s\tremaining: 2m 18s\n",
      "151:\tlearn: 1618.8622304\ttotal: 24.8s\tremaining: 2m 18s\n",
      "152:\tlearn: 1618.4097129\ttotal: 24.9s\tremaining: 2m 17s\n",
      "153:\tlearn: 1617.7909231\ttotal: 25s\tremaining: 2m 17s\n",
      "154:\tlearn: 1617.2543993\ttotal: 25.2s\tremaining: 2m 17s\n",
      "155:\tlearn: 1616.8289925\ttotal: 25.3s\tremaining: 2m 16s\n",
      "156:\tlearn: 1615.7915914\ttotal: 25.5s\tremaining: 2m 16s\n",
      "157:\tlearn: 1615.5165599\ttotal: 25.6s\tremaining: 2m 16s\n",
      "158:\tlearn: 1614.6355546\ttotal: 25.8s\tremaining: 2m 16s\n",
      "159:\tlearn: 1613.6900223\ttotal: 26s\tremaining: 2m 16s\n",
      "160:\tlearn: 1612.3274581\ttotal: 26.1s\tremaining: 2m 16s\n",
      "161:\tlearn: 1611.6192401\ttotal: 26.3s\tremaining: 2m 16s\n",
      "162:\tlearn: 1610.5247034\ttotal: 26.5s\tremaining: 2m 15s\n",
      "163:\tlearn: 1610.1117292\ttotal: 26.6s\tremaining: 2m 15s\n",
      "164:\tlearn: 1609.7377960\ttotal: 26.8s\tremaining: 2m 15s\n",
      "165:\tlearn: 1609.2412141\ttotal: 27s\tremaining: 2m 15s\n",
      "166:\tlearn: 1608.3986883\ttotal: 27.1s\tremaining: 2m 15s\n",
      "167:\tlearn: 1607.5328525\ttotal: 27.3s\tremaining: 2m 15s\n",
      "168:\tlearn: 1606.4802632\ttotal: 27.5s\tremaining: 2m 15s\n",
      "169:\tlearn: 1605.8026038\ttotal: 27.6s\tremaining: 2m 14s\n",
      "170:\tlearn: 1605.4934174\ttotal: 27.8s\tremaining: 2m 14s\n",
      "171:\tlearn: 1604.8112099\ttotal: 28s\tremaining: 2m 14s\n",
      "172:\tlearn: 1604.5807368\ttotal: 28.1s\tremaining: 2m 14s\n",
      "173:\tlearn: 1603.9555030\ttotal: 28.3s\tremaining: 2m 14s\n",
      "174:\tlearn: 1603.3964860\ttotal: 28.5s\tremaining: 2m 14s\n",
      "175:\tlearn: 1602.7540463\ttotal: 28.7s\tremaining: 2m 14s\n",
      "176:\tlearn: 1602.4773155\ttotal: 28.9s\tremaining: 2m 14s\n",
      "177:\tlearn: 1602.2686379\ttotal: 29s\tremaining: 2m 14s\n",
      "178:\tlearn: 1601.6919498\ttotal: 29.2s\tremaining: 2m 13s\n",
      "179:\tlearn: 1601.1525530\ttotal: 29.4s\tremaining: 2m 13s\n",
      "180:\tlearn: 1600.3984602\ttotal: 29.5s\tremaining: 2m 13s\n",
      "181:\tlearn: 1600.1269004\ttotal: 29.6s\tremaining: 2m 13s\n",
      "182:\tlearn: 1599.9193561\ttotal: 29.8s\tremaining: 2m 12s\n",
      "183:\tlearn: 1599.4329276\ttotal: 30s\tremaining: 2m 12s\n",
      "184:\tlearn: 1599.2871175\ttotal: 30.1s\tremaining: 2m 12s\n",
      "185:\tlearn: 1598.6209612\ttotal: 30.3s\tremaining: 2m 12s\n",
      "186:\tlearn: 1598.0068874\ttotal: 30.4s\tremaining: 2m 12s\n",
      "187:\tlearn: 1597.9329863\ttotal: 30.6s\tremaining: 2m 12s\n",
      "188:\tlearn: 1597.7755568\ttotal: 30.7s\tremaining: 2m 11s\n",
      "189:\tlearn: 1597.2218563\ttotal: 31s\tremaining: 2m 11s\n",
      "190:\tlearn: 1597.0692994\ttotal: 31.1s\tremaining: 2m 11s\n",
      "191:\tlearn: 1596.4139129\ttotal: 31.3s\tremaining: 2m 11s\n",
      "192:\tlearn: 1595.7340255\ttotal: 31.5s\tremaining: 2m 11s\n",
      "193:\tlearn: 1595.6883895\ttotal: 31.6s\tremaining: 2m 11s\n",
      "194:\tlearn: 1595.4614116\ttotal: 31.8s\tremaining: 2m 11s\n",
      "195:\tlearn: 1595.1368300\ttotal: 31.9s\tremaining: 2m 10s\n",
      "196:\tlearn: 1594.9593627\ttotal: 32.1s\tremaining: 2m 10s\n",
      "197:\tlearn: 1594.2567384\ttotal: 32.2s\tremaining: 2m 10s\n",
      "198:\tlearn: 1594.1570800\ttotal: 32.4s\tremaining: 2m 10s\n",
      "199:\tlearn: 1593.5463656\ttotal: 32.5s\tremaining: 2m 10s\n",
      "200:\tlearn: 1593.2033353\ttotal: 32.7s\tremaining: 2m 10s\n",
      "201:\tlearn: 1592.7948115\ttotal: 32.9s\tremaining: 2m 9s\n",
      "202:\tlearn: 1592.6603418\ttotal: 33s\tremaining: 2m 9s\n",
      "203:\tlearn: 1592.1939398\ttotal: 33.2s\tremaining: 2m 9s\n",
      "204:\tlearn: 1592.0838006\ttotal: 33.4s\tremaining: 2m 9s\n",
      "205:\tlearn: 1592.0632042\ttotal: 33.5s\tremaining: 2m 9s\n",
      "206:\tlearn: 1591.4956813\ttotal: 33.6s\tremaining: 2m 8s\n",
      "207:\tlearn: 1590.9942961\ttotal: 33.8s\tremaining: 2m 8s\n",
      "208:\tlearn: 1590.8186146\ttotal: 33.9s\tremaining: 2m 8s\n",
      "209:\tlearn: 1590.3554946\ttotal: 34.1s\tremaining: 2m 8s\n",
      "210:\tlearn: 1589.7870374\ttotal: 34.2s\tremaining: 2m 8s\n",
      "211:\tlearn: 1588.9793686\ttotal: 34.4s\tremaining: 2m 7s\n",
      "212:\tlearn: 1588.6049696\ttotal: 34.6s\tremaining: 2m 7s\n",
      "213:\tlearn: 1588.2591514\ttotal: 34.7s\tremaining: 2m 7s\n",
      "214:\tlearn: 1587.6844448\ttotal: 34.9s\tremaining: 2m 7s\n",
      "215:\tlearn: 1587.5596269\ttotal: 35.1s\tremaining: 2m 7s\n",
      "216:\tlearn: 1587.5022643\ttotal: 35.2s\tremaining: 2m 7s\n",
      "217:\tlearn: 1587.3519760\ttotal: 35.4s\tremaining: 2m 6s\n",
      "218:\tlearn: 1587.1134758\ttotal: 35.6s\tremaining: 2m 6s\n",
      "219:\tlearn: 1586.7736804\ttotal: 35.7s\tremaining: 2m 6s\n",
      "220:\tlearn: 1586.3710263\ttotal: 35.8s\tremaining: 2m 6s\n",
      "221:\tlearn: 1585.9616771\ttotal: 36s\tremaining: 2m 6s\n",
      "222:\tlearn: 1585.2005841\ttotal: 36.2s\tremaining: 2m 6s\n",
      "223:\tlearn: 1584.5886712\ttotal: 36.4s\tremaining: 2m 6s\n",
      "224:\tlearn: 1584.0388427\ttotal: 36.5s\tremaining: 2m 5s\n",
      "225:\tlearn: 1583.3787367\ttotal: 36.7s\tremaining: 2m 5s\n",
      "226:\tlearn: 1582.9048682\ttotal: 36.8s\tremaining: 2m 5s\n",
      "227:\tlearn: 1582.8275940\ttotal: 37s\tremaining: 2m 5s\n",
      "228:\tlearn: 1582.0439194\ttotal: 37.1s\tremaining: 2m 5s\n",
      "229:\tlearn: 1581.3897568\ttotal: 37.3s\tremaining: 2m 4s\n",
      "230:\tlearn: 1580.8336611\ttotal: 37.4s\tremaining: 2m 4s\n",
      "231:\tlearn: 1580.5123777\ttotal: 37.5s\tremaining: 2m 4s\n",
      "232:\tlearn: 1580.2751629\ttotal: 37.7s\tremaining: 2m 4s\n",
      "233:\tlearn: 1579.5876792\ttotal: 37.9s\tremaining: 2m 4s\n",
      "234:\tlearn: 1579.5077830\ttotal: 38s\tremaining: 2m 3s\n",
      "235:\tlearn: 1578.8523413\ttotal: 38.1s\tremaining: 2m 3s\n",
      "236:\tlearn: 1578.3866977\ttotal: 38.3s\tremaining: 2m 3s\n",
      "237:\tlearn: 1578.0813158\ttotal: 38.4s\tremaining: 2m 3s\n",
      "238:\tlearn: 1577.8396668\ttotal: 38.6s\tremaining: 2m 2s\n",
      "239:\tlearn: 1577.4516600\ttotal: 38.8s\tremaining: 2m 2s\n",
      "240:\tlearn: 1577.2269808\ttotal: 38.9s\tremaining: 2m 2s\n",
      "241:\tlearn: 1577.0319336\ttotal: 39.1s\tremaining: 2m 2s\n",
      "242:\tlearn: 1576.8367514\ttotal: 39.2s\tremaining: 2m 2s\n",
      "243:\tlearn: 1576.4722433\ttotal: 39.3s\tremaining: 2m 1s\n",
      "244:\tlearn: 1576.4093621\ttotal: 39.5s\tremaining: 2m 1s\n",
      "245:\tlearn: 1576.2592957\ttotal: 39.6s\tremaining: 2m 1s\n",
      "246:\tlearn: 1575.8617715\ttotal: 39.7s\tremaining: 2m 1s\n",
      "247:\tlearn: 1575.6029070\ttotal: 39.9s\tremaining: 2m 1s\n"
     ]
    },
    {
     "name": "stdout",
     "output_type": "stream",
     "text": [
      "248:\tlearn: 1575.4076099\ttotal: 40.1s\tremaining: 2m\n",
      "249:\tlearn: 1575.2344238\ttotal: 40.3s\tremaining: 2m\n",
      "250:\tlearn: 1574.8061639\ttotal: 40.4s\tremaining: 2m\n",
      "251:\tlearn: 1574.4799408\ttotal: 40.6s\tremaining: 2m\n",
      "252:\tlearn: 1574.4539959\ttotal: 40.8s\tremaining: 2m\n",
      "253:\tlearn: 1574.1763122\ttotal: 40.9s\tremaining: 2m\n",
      "254:\tlearn: 1573.4908271\ttotal: 41.1s\tremaining: 2m\n",
      "255:\tlearn: 1573.4187437\ttotal: 41.3s\tremaining: 1m 59s\n",
      "256:\tlearn: 1572.8904816\ttotal: 41.4s\tremaining: 1m 59s\n",
      "257:\tlearn: 1572.6184374\ttotal: 41.6s\tremaining: 1m 59s\n",
      "258:\tlearn: 1572.5266580\ttotal: 41.8s\tremaining: 1m 59s\n",
      "259:\tlearn: 1572.1501855\ttotal: 42s\tremaining: 1m 59s\n",
      "260:\tlearn: 1571.9937202\ttotal: 42.1s\tremaining: 1m 59s\n",
      "261:\tlearn: 1571.6730075\ttotal: 42.2s\tremaining: 1m 58s\n",
      "262:\tlearn: 1571.3639596\ttotal: 42.4s\tremaining: 1m 58s\n",
      "263:\tlearn: 1570.8610436\ttotal: 42.5s\tremaining: 1m 58s\n",
      "264:\tlearn: 1570.4819208\ttotal: 42.7s\tremaining: 1m 58s\n",
      "265:\tlearn: 1569.7344984\ttotal: 42.8s\tremaining: 1m 58s\n",
      "266:\tlearn: 1569.7082764\ttotal: 43s\tremaining: 1m 58s\n",
      "267:\tlearn: 1569.6134394\ttotal: 43.1s\tremaining: 1m 57s\n",
      "268:\tlearn: 1569.1269110\ttotal: 43.3s\tremaining: 1m 57s\n",
      "269:\tlearn: 1569.0809532\ttotal: 43.4s\tremaining: 1m 57s\n",
      "270:\tlearn: 1568.7384035\ttotal: 43.5s\tremaining: 1m 57s\n",
      "271:\tlearn: 1568.4941847\ttotal: 43.7s\tremaining: 1m 56s\n",
      "272:\tlearn: 1568.0732589\ttotal: 43.9s\tremaining: 1m 56s\n",
      "273:\tlearn: 1567.9034282\ttotal: 44.1s\tremaining: 1m 56s\n",
      "274:\tlearn: 1567.7235204\ttotal: 44.2s\tremaining: 1m 56s\n",
      "275:\tlearn: 1567.5893792\ttotal: 44.4s\tremaining: 1m 56s\n",
      "276:\tlearn: 1567.3684196\ttotal: 44.5s\tremaining: 1m 56s\n",
      "277:\tlearn: 1567.0563045\ttotal: 44.7s\tremaining: 1m 55s\n",
      "278:\tlearn: 1566.5540303\ttotal: 44.8s\tremaining: 1m 55s\n",
      "279:\tlearn: 1566.3100581\ttotal: 45s\tremaining: 1m 55s\n",
      "280:\tlearn: 1565.9702442\ttotal: 45.2s\tremaining: 1m 55s\n",
      "281:\tlearn: 1565.7915130\ttotal: 45.4s\tremaining: 1m 55s\n",
      "282:\tlearn: 1565.4274075\ttotal: 45.5s\tremaining: 1m 55s\n",
      "283:\tlearn: 1564.7020576\ttotal: 45.7s\tremaining: 1m 55s\n",
      "284:\tlearn: 1564.2710234\ttotal: 45.9s\tremaining: 1m 55s\n",
      "285:\tlearn: 1563.9163483\ttotal: 46.1s\tremaining: 1m 55s\n",
      "286:\tlearn: 1563.6800438\ttotal: 46.3s\tremaining: 1m 55s\n",
      "287:\tlearn: 1563.5167899\ttotal: 46.5s\tremaining: 1m 54s\n",
      "288:\tlearn: 1563.1107652\ttotal: 46.7s\tremaining: 1m 54s\n",
      "289:\tlearn: 1563.0690678\ttotal: 46.8s\tremaining: 1m 54s\n",
      "290:\tlearn: 1562.7698161\ttotal: 47s\tremaining: 1m 54s\n",
      "291:\tlearn: 1562.5749290\ttotal: 47.2s\tremaining: 1m 54s\n",
      "292:\tlearn: 1562.4836773\ttotal: 47.3s\tremaining: 1m 54s\n",
      "293:\tlearn: 1562.1187442\ttotal: 47.5s\tremaining: 1m 53s\n",
      "294:\tlearn: 1561.6672926\ttotal: 47.6s\tremaining: 1m 53s\n",
      "295:\tlearn: 1561.3795807\ttotal: 47.8s\tremaining: 1m 53s\n",
      "296:\tlearn: 1561.2995535\ttotal: 47.9s\tremaining: 1m 53s\n",
      "297:\tlearn: 1560.8060184\ttotal: 48.1s\tremaining: 1m 53s\n",
      "298:\tlearn: 1560.7714872\ttotal: 48.3s\tremaining: 1m 53s\n",
      "299:\tlearn: 1560.6189254\ttotal: 48.5s\tremaining: 1m 53s\n",
      "300:\tlearn: 1559.9773350\ttotal: 48.6s\tremaining: 1m 52s\n",
      "301:\tlearn: 1559.6713919\ttotal: 48.9s\tremaining: 1m 53s\n",
      "302:\tlearn: 1559.2798398\ttotal: 49.1s\tremaining: 1m 52s\n",
      "303:\tlearn: 1559.0790605\ttotal: 49.3s\tremaining: 1m 52s\n",
      "304:\tlearn: 1558.8934474\ttotal: 49.5s\tremaining: 1m 52s\n",
      "305:\tlearn: 1558.8083766\ttotal: 49.6s\tremaining: 1m 52s\n",
      "306:\tlearn: 1558.4885981\ttotal: 49.7s\tremaining: 1m 52s\n",
      "307:\tlearn: 1558.3958527\ttotal: 49.9s\tremaining: 1m 52s\n",
      "308:\tlearn: 1557.8630091\ttotal: 50s\tremaining: 1m 51s\n",
      "309:\tlearn: 1557.5512794\ttotal: 50.2s\tremaining: 1m 51s\n",
      "310:\tlearn: 1557.3061008\ttotal: 50.4s\tremaining: 1m 51s\n",
      "311:\tlearn: 1556.9998991\ttotal: 50.5s\tremaining: 1m 51s\n",
      "312:\tlearn: 1556.8672185\ttotal: 50.7s\tremaining: 1m 51s\n",
      "313:\tlearn: 1556.6051531\ttotal: 50.9s\tremaining: 1m 51s\n",
      "314:\tlearn: 1556.1363965\ttotal: 51s\tremaining: 1m 50s\n",
      "315:\tlearn: 1555.9966075\ttotal: 51.1s\tremaining: 1m 50s\n",
      "316:\tlearn: 1555.4740919\ttotal: 51.2s\tremaining: 1m 50s\n",
      "317:\tlearn: 1555.2234546\ttotal: 51.4s\tremaining: 1m 50s\n",
      "318:\tlearn: 1555.0561016\ttotal: 51.6s\tremaining: 1m 50s\n",
      "319:\tlearn: 1554.7394012\ttotal: 51.8s\tremaining: 1m 50s\n",
      "320:\tlearn: 1554.6652899\ttotal: 51.9s\tremaining: 1m 49s\n",
      "321:\tlearn: 1554.0778098\ttotal: 52.1s\tremaining: 1m 49s\n",
      "322:\tlearn: 1553.6883096\ttotal: 52.2s\tremaining: 1m 49s\n",
      "323:\tlearn: 1553.2589209\ttotal: 52.4s\tremaining: 1m 49s\n",
      "324:\tlearn: 1553.0041416\ttotal: 52.5s\tremaining: 1m 49s\n",
      "325:\tlearn: 1552.4700113\ttotal: 52.7s\tremaining: 1m 48s\n",
      "326:\tlearn: 1552.2735831\ttotal: 52.9s\tremaining: 1m 48s\n",
      "327:\tlearn: 1551.7477571\ttotal: 53s\tremaining: 1m 48s\n",
      "328:\tlearn: 1551.5886647\ttotal: 53.2s\tremaining: 1m 48s\n",
      "329:\tlearn: 1551.3594306\ttotal: 53.3s\tremaining: 1m 48s\n",
      "330:\tlearn: 1551.2052243\ttotal: 53.5s\tremaining: 1m 48s\n",
      "331:\tlearn: 1550.9620796\ttotal: 53.7s\tremaining: 1m 48s\n",
      "332:\tlearn: 1550.8360475\ttotal: 53.9s\tremaining: 1m 47s\n",
      "333:\tlearn: 1550.3759281\ttotal: 54s\tremaining: 1m 47s\n",
      "334:\tlearn: 1549.7699152\ttotal: 54.2s\tremaining: 1m 47s\n",
      "335:\tlearn: 1549.2963421\ttotal: 54.3s\tremaining: 1m 47s\n",
      "336:\tlearn: 1548.9789785\ttotal: 54.5s\tremaining: 1m 47s\n",
      "337:\tlearn: 1548.8108056\ttotal: 54.6s\tremaining: 1m 46s\n",
      "338:\tlearn: 1548.3113045\ttotal: 54.9s\tremaining: 1m 46s\n",
      "339:\tlearn: 1548.0324790\ttotal: 55s\tremaining: 1m 46s\n",
      "340:\tlearn: 1547.8790375\ttotal: 55.2s\tremaining: 1m 46s\n",
      "341:\tlearn: 1547.6476150\ttotal: 55.3s\tremaining: 1m 46s\n",
      "342:\tlearn: 1547.2826281\ttotal: 55.5s\tremaining: 1m 46s\n",
      "343:\tlearn: 1547.1445704\ttotal: 55.7s\tremaining: 1m 46s\n",
      "344:\tlearn: 1546.9313999\ttotal: 55.8s\tremaining: 1m 45s\n",
      "345:\tlearn: 1546.5163470\ttotal: 56s\tremaining: 1m 45s\n",
      "346:\tlearn: 1546.1611262\ttotal: 56.1s\tremaining: 1m 45s\n",
      "347:\tlearn: 1545.7488545\ttotal: 56.3s\tremaining: 1m 45s\n",
      "348:\tlearn: 1545.1847477\ttotal: 56.5s\tremaining: 1m 45s\n",
      "349:\tlearn: 1544.6778820\ttotal: 56.6s\tremaining: 1m 45s\n",
      "350:\tlearn: 1544.4523826\ttotal: 56.8s\tremaining: 1m 44s\n",
      "351:\tlearn: 1544.3836809\ttotal: 56.9s\tremaining: 1m 44s\n",
      "352:\tlearn: 1544.3171922\ttotal: 57.1s\tremaining: 1m 44s\n",
      "353:\tlearn: 1543.7405556\ttotal: 57.3s\tremaining: 1m 44s\n",
      "354:\tlearn: 1543.6101380\ttotal: 57.4s\tremaining: 1m 44s\n",
      "355:\tlearn: 1543.5287060\ttotal: 57.5s\tremaining: 1m 44s\n",
      "356:\tlearn: 1543.2741994\ttotal: 57.8s\tremaining: 1m 44s\n",
      "357:\tlearn: 1542.9414670\ttotal: 57.9s\tremaining: 1m 43s\n",
      "358:\tlearn: 1542.7550602\ttotal: 58s\tremaining: 1m 43s\n",
      "359:\tlearn: 1542.5183246\ttotal: 58.1s\tremaining: 1m 43s\n",
      "360:\tlearn: 1542.3806129\ttotal: 58.3s\tremaining: 1m 43s\n",
      "361:\tlearn: 1542.1263767\ttotal: 58.5s\tremaining: 1m 43s\n",
      "362:\tlearn: 1541.7199167\ttotal: 58.6s\tremaining: 1m 42s\n",
      "363:\tlearn: 1541.5264313\ttotal: 58.8s\tremaining: 1m 42s\n",
      "364:\tlearn: 1541.2651791\ttotal: 58.9s\tremaining: 1m 42s\n",
      "365:\tlearn: 1541.2340757\ttotal: 59.1s\tremaining: 1m 42s\n",
      "366:\tlearn: 1541.0912359\ttotal: 59.2s\tremaining: 1m 42s\n",
      "367:\tlearn: 1541.0045268\ttotal: 59.4s\tremaining: 1m 42s\n",
      "368:\tlearn: 1540.8989524\ttotal: 59.6s\tremaining: 1m 41s\n",
      "369:\tlearn: 1540.0484249\ttotal: 59.8s\tremaining: 1m 41s\n",
      "370:\tlearn: 1539.5765964\ttotal: 59.9s\tremaining: 1m 41s\n",
      "371:\tlearn: 1539.3044988\ttotal: 1m\tremaining: 1m 41s\n",
      "372:\tlearn: 1538.7940677\ttotal: 1m\tremaining: 1m 41s\n",
      "373:\tlearn: 1538.4350463\ttotal: 1m\tremaining: 1m 41s\n",
      "374:\tlearn: 1538.3066584\ttotal: 1m\tremaining: 1m 40s\n",
      "375:\tlearn: 1538.2670979\ttotal: 1m\tremaining: 1m 40s\n",
      "376:\tlearn: 1538.1204849\ttotal: 1m\tremaining: 1m 40s\n",
      "377:\tlearn: 1537.5508721\ttotal: 1m 1s\tremaining: 1m 40s\n",
      "378:\tlearn: 1537.4290176\ttotal: 1m 1s\tremaining: 1m 40s\n",
      "379:\tlearn: 1537.3442975\ttotal: 1m 1s\tremaining: 1m 40s\n",
      "380:\tlearn: 1537.1944699\ttotal: 1m 1s\tremaining: 1m 39s\n",
      "381:\tlearn: 1536.7400558\ttotal: 1m 1s\tremaining: 1m 39s\n",
      "382:\tlearn: 1536.5899323\ttotal: 1m 1s\tremaining: 1m 39s\n",
      "383:\tlearn: 1536.2836971\ttotal: 1m 1s\tremaining: 1m 39s\n",
      "384:\tlearn: 1535.8316219\ttotal: 1m 2s\tremaining: 1m 39s\n",
      "385:\tlearn: 1535.6330890\ttotal: 1m 2s\tremaining: 1m 39s\n",
      "386:\tlearn: 1535.5271869\ttotal: 1m 2s\tremaining: 1m 38s\n",
      "387:\tlearn: 1535.2340122\ttotal: 1m 2s\tremaining: 1m 38s\n",
      "388:\tlearn: 1534.8593608\ttotal: 1m 2s\tremaining: 1m 38s\n",
      "389:\tlearn: 1534.7457790\ttotal: 1m 2s\tremaining: 1m 38s\n",
      "390:\tlearn: 1534.3551627\ttotal: 1m 3s\tremaining: 1m 38s\n",
      "391:\tlearn: 1534.2468629\ttotal: 1m 3s\tremaining: 1m 38s\n",
      "392:\tlearn: 1533.8961947\ttotal: 1m 3s\tremaining: 1m 38s\n",
      "393:\tlearn: 1533.6053336\ttotal: 1m 3s\tremaining: 1m 37s\n",
      "394:\tlearn: 1533.3097445\ttotal: 1m 3s\tremaining: 1m 37s\n",
      "395:\tlearn: 1533.2707890\ttotal: 1m 4s\tremaining: 1m 37s\n"
     ]
    },
    {
     "name": "stdout",
     "output_type": "stream",
     "text": [
      "396:\tlearn: 1533.1920910\ttotal: 1m 4s\tremaining: 1m 37s\n",
      "397:\tlearn: 1533.0523173\ttotal: 1m 4s\tremaining: 1m 37s\n",
      "398:\tlearn: 1532.9482554\ttotal: 1m 4s\tremaining: 1m 37s\n",
      "399:\tlearn: 1532.8462348\ttotal: 1m 4s\tremaining: 1m 36s\n",
      "400:\tlearn: 1532.5962167\ttotal: 1m 4s\tremaining: 1m 36s\n",
      "401:\tlearn: 1532.1115272\ttotal: 1m 4s\tremaining: 1m 36s\n",
      "402:\tlearn: 1531.5471979\ttotal: 1m 5s\tremaining: 1m 36s\n",
      "403:\tlearn: 1531.2036590\ttotal: 1m 5s\tremaining: 1m 36s\n",
      "404:\tlearn: 1531.0700593\ttotal: 1m 5s\tremaining: 1m 36s\n",
      "405:\tlearn: 1531.0696008\ttotal: 1m 5s\tremaining: 1m 35s\n",
      "406:\tlearn: 1530.9653401\ttotal: 1m 5s\tremaining: 1m 35s\n",
      "407:\tlearn: 1530.9415193\ttotal: 1m 5s\tremaining: 1m 35s\n",
      "408:\tlearn: 1530.4900795\ttotal: 1m 6s\tremaining: 1m 35s\n",
      "409:\tlearn: 1530.3901437\ttotal: 1m 6s\tremaining: 1m 35s\n",
      "410:\tlearn: 1530.0608767\ttotal: 1m 6s\tremaining: 1m 35s\n",
      "411:\tlearn: 1529.8144443\ttotal: 1m 6s\tremaining: 1m 35s\n",
      "412:\tlearn: 1529.6710700\ttotal: 1m 6s\tremaining: 1m 34s\n",
      "413:\tlearn: 1529.4987930\ttotal: 1m 6s\tremaining: 1m 34s\n",
      "414:\tlearn: 1529.3344908\ttotal: 1m 7s\tremaining: 1m 34s\n",
      "415:\tlearn: 1529.2002361\ttotal: 1m 7s\tremaining: 1m 34s\n",
      "416:\tlearn: 1528.8593773\ttotal: 1m 7s\tremaining: 1m 34s\n",
      "417:\tlearn: 1528.2907261\ttotal: 1m 7s\tremaining: 1m 34s\n",
      "418:\tlearn: 1527.9889609\ttotal: 1m 7s\tremaining: 1m 33s\n",
      "419:\tlearn: 1527.8783068\ttotal: 1m 7s\tremaining: 1m 33s\n",
      "420:\tlearn: 1527.3774379\ttotal: 1m 7s\tremaining: 1m 33s\n",
      "421:\tlearn: 1527.1440773\ttotal: 1m 8s\tremaining: 1m 33s\n",
      "422:\tlearn: 1527.1436172\ttotal: 1m 8s\tremaining: 1m 32s\n",
      "423:\tlearn: 1526.9377492\ttotal: 1m 8s\tremaining: 1m 32s\n",
      "424:\tlearn: 1526.7594434\ttotal: 1m 8s\tremaining: 1m 32s\n",
      "425:\tlearn: 1526.5867285\ttotal: 1m 8s\tremaining: 1m 32s\n",
      "426:\tlearn: 1526.4843658\ttotal: 1m 8s\tremaining: 1m 32s\n",
      "427:\tlearn: 1526.3528314\ttotal: 1m 8s\tremaining: 1m 32s\n",
      "428:\tlearn: 1526.0644557\ttotal: 1m 9s\tremaining: 1m 31s\n",
      "429:\tlearn: 1525.9368238\ttotal: 1m 9s\tremaining: 1m 31s\n",
      "430:\tlearn: 1525.7847634\ttotal: 1m 9s\tremaining: 1m 31s\n",
      "431:\tlearn: 1525.5787959\ttotal: 1m 9s\tremaining: 1m 31s\n",
      "432:\tlearn: 1525.4425578\ttotal: 1m 9s\tremaining: 1m 31s\n",
      "433:\tlearn: 1525.3902765\ttotal: 1m 9s\tremaining: 1m 31s\n",
      "434:\tlearn: 1525.3730851\ttotal: 1m 10s\tremaining: 1m 30s\n",
      "435:\tlearn: 1525.0687498\ttotal: 1m 10s\tremaining: 1m 30s\n",
      "436:\tlearn: 1524.9665460\ttotal: 1m 10s\tremaining: 1m 30s\n",
      "437:\tlearn: 1524.9345279\ttotal: 1m 10s\tremaining: 1m 30s\n",
      "438:\tlearn: 1524.7266459\ttotal: 1m 10s\tremaining: 1m 30s\n",
      "439:\tlearn: 1524.6535519\ttotal: 1m 10s\tremaining: 1m 30s\n",
      "440:\tlearn: 1524.3461021\ttotal: 1m 10s\tremaining: 1m 29s\n",
      "441:\tlearn: 1524.2542331\ttotal: 1m 11s\tremaining: 1m 29s\n",
      "442:\tlearn: 1524.1712234\ttotal: 1m 11s\tremaining: 1m 29s\n",
      "443:\tlearn: 1523.8978567\ttotal: 1m 11s\tremaining: 1m 29s\n",
      "444:\tlearn: 1523.7917964\ttotal: 1m 11s\tremaining: 1m 29s\n",
      "445:\tlearn: 1523.6191992\ttotal: 1m 11s\tremaining: 1m 29s\n",
      "446:\tlearn: 1523.5742085\ttotal: 1m 11s\tremaining: 1m 29s\n",
      "447:\tlearn: 1523.5113625\ttotal: 1m 12s\tremaining: 1m 28s\n",
      "448:\tlearn: 1523.4413784\ttotal: 1m 12s\tremaining: 1m 28s\n",
      "449:\tlearn: 1523.3562467\ttotal: 1m 12s\tremaining: 1m 28s\n",
      "450:\tlearn: 1523.0470912\ttotal: 1m 12s\tremaining: 1m 28s\n",
      "451:\tlearn: 1522.9632797\ttotal: 1m 12s\tremaining: 1m 28s\n",
      "452:\tlearn: 1522.8847335\ttotal: 1m 13s\tremaining: 1m 28s\n",
      "453:\tlearn: 1522.6891234\ttotal: 1m 13s\tremaining: 1m 28s\n",
      "454:\tlearn: 1522.6197283\ttotal: 1m 13s\tremaining: 1m 28s\n",
      "455:\tlearn: 1522.4344722\ttotal: 1m 13s\tremaining: 1m 27s\n",
      "456:\tlearn: 1522.3145023\ttotal: 1m 13s\tremaining: 1m 27s\n",
      "457:\tlearn: 1522.0300166\ttotal: 1m 14s\tremaining: 1m 27s\n",
      "458:\tlearn: 1521.9975171\ttotal: 1m 14s\tremaining: 1m 27s\n",
      "459:\tlearn: 1521.9150298\ttotal: 1m 14s\tremaining: 1m 27s\n",
      "460:\tlearn: 1521.3582583\ttotal: 1m 14s\tremaining: 1m 27s\n",
      "461:\tlearn: 1521.2276076\ttotal: 1m 14s\tremaining: 1m 26s\n",
      "462:\tlearn: 1520.8396350\ttotal: 1m 14s\tremaining: 1m 26s\n",
      "463:\tlearn: 1520.7144834\ttotal: 1m 14s\tremaining: 1m 26s\n",
      "464:\tlearn: 1520.3630630\ttotal: 1m 15s\tremaining: 1m 26s\n",
      "465:\tlearn: 1520.2571634\ttotal: 1m 15s\tremaining: 1m 26s\n",
      "466:\tlearn: 1520.2204268\ttotal: 1m 15s\tremaining: 1m 26s\n",
      "467:\tlearn: 1520.1095629\ttotal: 1m 15s\tremaining: 1m 25s\n",
      "468:\tlearn: 1519.8911054\ttotal: 1m 15s\tremaining: 1m 25s\n",
      "469:\tlearn: 1519.6121295\ttotal: 1m 15s\tremaining: 1m 25s\n",
      "470:\tlearn: 1519.3155588\ttotal: 1m 16s\tremaining: 1m 25s\n",
      "471:\tlearn: 1519.2609071\ttotal: 1m 16s\tremaining: 1m 25s\n",
      "472:\tlearn: 1519.1876390\ttotal: 1m 16s\tremaining: 1m 25s\n",
      "473:\tlearn: 1518.6130053\ttotal: 1m 16s\tremaining: 1m 24s\n",
      "474:\tlearn: 1518.4393458\ttotal: 1m 16s\tremaining: 1m 24s\n",
      "475:\tlearn: 1517.8896427\ttotal: 1m 16s\tremaining: 1m 24s\n",
      "476:\tlearn: 1517.7215847\ttotal: 1m 17s\tremaining: 1m 24s\n",
      "477:\tlearn: 1517.4268625\ttotal: 1m 17s\tremaining: 1m 24s\n",
      "478:\tlearn: 1517.3048095\ttotal: 1m 17s\tremaining: 1m 24s\n",
      "479:\tlearn: 1517.1487084\ttotal: 1m 17s\tremaining: 1m 24s\n",
      "480:\tlearn: 1517.1010084\ttotal: 1m 17s\tremaining: 1m 23s\n",
      "481:\tlearn: 1517.0312023\ttotal: 1m 17s\tremaining: 1m 23s\n",
      "482:\tlearn: 1516.8603261\ttotal: 1m 18s\tremaining: 1m 23s\n",
      "483:\tlearn: 1516.7419537\ttotal: 1m 18s\tremaining: 1m 23s\n",
      "484:\tlearn: 1516.6935468\ttotal: 1m 18s\tremaining: 1m 23s\n",
      "485:\tlearn: 1516.4757910\ttotal: 1m 18s\tremaining: 1m 23s\n",
      "486:\tlearn: 1516.3265874\ttotal: 1m 18s\tremaining: 1m 22s\n",
      "487:\tlearn: 1515.8527869\ttotal: 1m 18s\tremaining: 1m 22s\n",
      "488:\tlearn: 1515.5039801\ttotal: 1m 19s\tremaining: 1m 22s\n",
      "489:\tlearn: 1515.3779644\ttotal: 1m 19s\tremaining: 1m 22s\n",
      "490:\tlearn: 1515.3570700\ttotal: 1m 19s\tremaining: 1m 22s\n",
      "491:\tlearn: 1515.1715942\ttotal: 1m 19s\tremaining: 1m 22s\n",
      "492:\tlearn: 1515.0857472\ttotal: 1m 19s\tremaining: 1m 21s\n",
      "493:\tlearn: 1514.8386080\ttotal: 1m 19s\tremaining: 1m 21s\n",
      "494:\tlearn: 1514.7406188\ttotal: 1m 20s\tremaining: 1m 21s\n",
      "495:\tlearn: 1514.7158845\ttotal: 1m 20s\tremaining: 1m 21s\n",
      "496:\tlearn: 1514.6060569\ttotal: 1m 20s\tremaining: 1m 21s\n",
      "497:\tlearn: 1514.4443504\ttotal: 1m 20s\tremaining: 1m 21s\n",
      "498:\tlearn: 1514.3867500\ttotal: 1m 20s\tremaining: 1m 21s\n",
      "499:\tlearn: 1513.9150279\ttotal: 1m 20s\tremaining: 1m 20s\n",
      "500:\tlearn: 1513.8130652\ttotal: 1m 21s\tremaining: 1m 20s\n",
      "501:\tlearn: 1513.7163087\ttotal: 1m 21s\tremaining: 1m 20s\n",
      "502:\tlearn: 1513.6994915\ttotal: 1m 21s\tremaining: 1m 20s\n",
      "503:\tlearn: 1513.6903026\ttotal: 1m 21s\tremaining: 1m 20s\n",
      "504:\tlearn: 1513.5306931\ttotal: 1m 21s\tremaining: 1m 20s\n",
      "505:\tlearn: 1513.4772290\ttotal: 1m 21s\tremaining: 1m 20s\n",
      "506:\tlearn: 1513.1936827\ttotal: 1m 22s\tremaining: 1m 19s\n",
      "507:\tlearn: 1513.0339705\ttotal: 1m 22s\tremaining: 1m 19s\n",
      "508:\tlearn: 1512.6861128\ttotal: 1m 22s\tremaining: 1m 19s\n",
      "509:\tlearn: 1512.5119469\ttotal: 1m 22s\tremaining: 1m 19s\n",
      "510:\tlearn: 1512.2977323\ttotal: 1m 22s\tremaining: 1m 19s\n",
      "511:\tlearn: 1512.0798496\ttotal: 1m 22s\tremaining: 1m 19s\n",
      "512:\tlearn: 1512.0409494\ttotal: 1m 23s\tremaining: 1m 18s\n",
      "513:\tlearn: 1511.9058320\ttotal: 1m 23s\tremaining: 1m 18s\n",
      "514:\tlearn: 1511.7994159\ttotal: 1m 23s\tremaining: 1m 18s\n",
      "515:\tlearn: 1511.6875192\ttotal: 1m 23s\tremaining: 1m 18s\n",
      "516:\tlearn: 1511.4286372\ttotal: 1m 23s\tremaining: 1m 18s\n",
      "517:\tlearn: 1511.1235637\ttotal: 1m 24s\tremaining: 1m 18s\n",
      "518:\tlearn: 1510.9644345\ttotal: 1m 24s\tremaining: 1m 18s\n",
      "519:\tlearn: 1510.7476662\ttotal: 1m 24s\tremaining: 1m 17s\n",
      "520:\tlearn: 1510.4939201\ttotal: 1m 24s\tremaining: 1m 17s\n",
      "521:\tlearn: 1510.3018131\ttotal: 1m 24s\tremaining: 1m 17s\n",
      "522:\tlearn: 1510.2189979\ttotal: 1m 24s\tremaining: 1m 17s\n",
      "523:\tlearn: 1509.9528794\ttotal: 1m 25s\tremaining: 1m 17s\n",
      "524:\tlearn: 1509.8560775\ttotal: 1m 25s\tremaining: 1m 17s\n",
      "525:\tlearn: 1509.5208756\ttotal: 1m 25s\tremaining: 1m 17s\n",
      "526:\tlearn: 1509.2576648\ttotal: 1m 25s\tremaining: 1m 16s\n",
      "527:\tlearn: 1509.0964650\ttotal: 1m 25s\tremaining: 1m 16s\n",
      "528:\tlearn: 1509.0421125\ttotal: 1m 25s\tremaining: 1m 16s\n",
      "529:\tlearn: 1509.0165679\ttotal: 1m 26s\tremaining: 1m 16s\n",
      "530:\tlearn: 1508.7554142\ttotal: 1m 26s\tremaining: 1m 16s\n",
      "531:\tlearn: 1508.6809878\ttotal: 1m 26s\tremaining: 1m 16s\n",
      "532:\tlearn: 1508.5184244\ttotal: 1m 26s\tremaining: 1m 16s\n",
      "533:\tlearn: 1508.1406332\ttotal: 1m 26s\tremaining: 1m 15s\n",
      "534:\tlearn: 1507.8927436\ttotal: 1m 27s\tremaining: 1m 15s\n",
      "535:\tlearn: 1507.8165019\ttotal: 1m 27s\tremaining: 1m 15s\n",
      "536:\tlearn: 1507.6586257\ttotal: 1m 27s\tremaining: 1m 15s\n",
      "537:\tlearn: 1507.3570476\ttotal: 1m 27s\tremaining: 1m 15s\n",
      "538:\tlearn: 1507.2597105\ttotal: 1m 27s\tremaining: 1m 15s\n",
      "539:\tlearn: 1506.7822217\ttotal: 1m 28s\tremaining: 1m 14s\n",
      "540:\tlearn: 1506.5127744\ttotal: 1m 28s\tremaining: 1m 14s\n",
      "541:\tlearn: 1506.2157201\ttotal: 1m 28s\tremaining: 1m 14s\n"
     ]
    },
    {
     "name": "stdout",
     "output_type": "stream",
     "text": [
      "542:\tlearn: 1506.0633837\ttotal: 1m 28s\tremaining: 1m 14s\n",
      "543:\tlearn: 1505.9439323\ttotal: 1m 28s\tremaining: 1m 14s\n",
      "544:\tlearn: 1505.7359497\ttotal: 1m 28s\tremaining: 1m 14s\n",
      "545:\tlearn: 1505.5573193\ttotal: 1m 29s\tremaining: 1m 14s\n",
      "546:\tlearn: 1505.5203001\ttotal: 1m 29s\tremaining: 1m 13s\n",
      "547:\tlearn: 1505.3461851\ttotal: 1m 29s\tremaining: 1m 13s\n",
      "548:\tlearn: 1505.0777022\ttotal: 1m 29s\tremaining: 1m 13s\n",
      "549:\tlearn: 1504.9491391\ttotal: 1m 29s\tremaining: 1m 13s\n",
      "550:\tlearn: 1504.9251897\ttotal: 1m 29s\tremaining: 1m 13s\n",
      "551:\tlearn: 1504.7842103\ttotal: 1m 30s\tremaining: 1m 13s\n",
      "552:\tlearn: 1504.6044885\ttotal: 1m 30s\tremaining: 1m 12s\n",
      "553:\tlearn: 1504.3072483\ttotal: 1m 30s\tremaining: 1m 12s\n",
      "554:\tlearn: 1504.2507199\ttotal: 1m 30s\tremaining: 1m 12s\n",
      "555:\tlearn: 1503.9871707\ttotal: 1m 30s\tremaining: 1m 12s\n",
      "556:\tlearn: 1503.8085084\ttotal: 1m 31s\tremaining: 1m 12s\n",
      "557:\tlearn: 1503.7340981\ttotal: 1m 31s\tremaining: 1m 12s\n",
      "558:\tlearn: 1503.7299392\ttotal: 1m 31s\tremaining: 1m 12s\n",
      "559:\tlearn: 1503.6172086\ttotal: 1m 31s\tremaining: 1m 11s\n",
      "560:\tlearn: 1503.4670589\ttotal: 1m 31s\tremaining: 1m 11s\n",
      "561:\tlearn: 1503.2691234\ttotal: 1m 31s\tremaining: 1m 11s\n",
      "562:\tlearn: 1503.1658484\ttotal: 1m 31s\tremaining: 1m 11s\n",
      "563:\tlearn: 1503.0163049\ttotal: 1m 32s\tremaining: 1m 11s\n",
      "564:\tlearn: 1502.9664650\ttotal: 1m 32s\tremaining: 1m 11s\n",
      "565:\tlearn: 1502.9212993\ttotal: 1m 32s\tremaining: 1m 10s\n",
      "566:\tlearn: 1502.7232642\ttotal: 1m 32s\tremaining: 1m 10s\n",
      "567:\tlearn: 1502.6519157\ttotal: 1m 32s\tremaining: 1m 10s\n",
      "568:\tlearn: 1502.5382905\ttotal: 1m 32s\tremaining: 1m 10s\n",
      "569:\tlearn: 1502.3236908\ttotal: 1m 32s\tremaining: 1m 10s\n",
      "570:\tlearn: 1502.1530082\ttotal: 1m 33s\tremaining: 1m 9s\n",
      "571:\tlearn: 1501.8848926\ttotal: 1m 33s\tremaining: 1m 9s\n",
      "572:\tlearn: 1501.8804295\ttotal: 1m 33s\tremaining: 1m 9s\n",
      "573:\tlearn: 1501.7515389\ttotal: 1m 33s\tremaining: 1m 9s\n",
      "574:\tlearn: 1501.4515845\ttotal: 1m 33s\tremaining: 1m 9s\n",
      "575:\tlearn: 1501.2969702\ttotal: 1m 34s\tremaining: 1m 9s\n",
      "576:\tlearn: 1501.2232786\ttotal: 1m 34s\tremaining: 1m 9s\n",
      "577:\tlearn: 1501.0691885\ttotal: 1m 34s\tremaining: 1m 8s\n",
      "578:\tlearn: 1500.7564783\ttotal: 1m 34s\tremaining: 1m 8s\n",
      "579:\tlearn: 1500.6203618\ttotal: 1m 34s\tremaining: 1m 8s\n",
      "580:\tlearn: 1500.4224893\ttotal: 1m 34s\tremaining: 1m 8s\n",
      "581:\tlearn: 1500.0716849\ttotal: 1m 35s\tremaining: 1m 8s\n",
      "582:\tlearn: 1499.8908954\ttotal: 1m 35s\tremaining: 1m 8s\n",
      "583:\tlearn: 1499.8508659\ttotal: 1m 35s\tremaining: 1m 7s\n",
      "584:\tlearn: 1499.6331095\ttotal: 1m 35s\tremaining: 1m 7s\n",
      "585:\tlearn: 1499.5343899\ttotal: 1m 35s\tremaining: 1m 7s\n",
      "586:\tlearn: 1498.9937716\ttotal: 1m 35s\tremaining: 1m 7s\n",
      "587:\tlearn: 1498.7882275\ttotal: 1m 36s\tremaining: 1m 7s\n",
      "588:\tlearn: 1498.7263761\ttotal: 1m 36s\tremaining: 1m 7s\n",
      "589:\tlearn: 1498.5517208\ttotal: 1m 36s\tremaining: 1m 6s\n",
      "590:\tlearn: 1498.3823793\ttotal: 1m 36s\tremaining: 1m 6s\n",
      "591:\tlearn: 1498.2672152\ttotal: 1m 36s\tremaining: 1m 6s\n",
      "592:\tlearn: 1497.9229542\ttotal: 1m 36s\tremaining: 1m 6s\n",
      "593:\tlearn: 1497.7443073\ttotal: 1m 37s\tremaining: 1m 6s\n",
      "594:\tlearn: 1497.6042281\ttotal: 1m 37s\tremaining: 1m 6s\n",
      "595:\tlearn: 1497.5170358\ttotal: 1m 37s\tremaining: 1m 6s\n",
      "596:\tlearn: 1497.1823804\ttotal: 1m 37s\tremaining: 1m 5s\n",
      "597:\tlearn: 1497.0606689\ttotal: 1m 37s\tremaining: 1m 5s\n",
      "598:\tlearn: 1496.9809597\ttotal: 1m 37s\tremaining: 1m 5s\n",
      "599:\tlearn: 1496.8407685\ttotal: 1m 38s\tremaining: 1m 5s\n",
      "600:\tlearn: 1496.7868898\ttotal: 1m 38s\tremaining: 1m 5s\n",
      "601:\tlearn: 1496.5887356\ttotal: 1m 38s\tremaining: 1m 5s\n",
      "602:\tlearn: 1496.2906261\ttotal: 1m 38s\tremaining: 1m 4s\n",
      "603:\tlearn: 1496.0742995\ttotal: 1m 38s\tremaining: 1m 4s\n",
      "604:\tlearn: 1496.0446847\ttotal: 1m 38s\tremaining: 1m 4s\n",
      "605:\tlearn: 1495.6863601\ttotal: 1m 39s\tremaining: 1m 4s\n",
      "606:\tlearn: 1495.5958224\ttotal: 1m 39s\tremaining: 1m 4s\n",
      "607:\tlearn: 1495.1847076\ttotal: 1m 39s\tremaining: 1m 4s\n",
      "608:\tlearn: 1495.1034578\ttotal: 1m 39s\tremaining: 1m 3s\n",
      "609:\tlearn: 1495.0884549\ttotal: 1m 39s\tremaining: 1m 3s\n",
      "610:\tlearn: 1494.9691468\ttotal: 1m 39s\tremaining: 1m 3s\n",
      "611:\tlearn: 1494.8560334\ttotal: 1m 40s\tremaining: 1m 3s\n",
      "612:\tlearn: 1494.7624842\ttotal: 1m 40s\tremaining: 1m 3s\n",
      "613:\tlearn: 1494.6776488\ttotal: 1m 40s\tremaining: 1m 3s\n",
      "614:\tlearn: 1494.5590895\ttotal: 1m 40s\tremaining: 1m 2s\n",
      "615:\tlearn: 1494.2977646\ttotal: 1m 40s\tremaining: 1m 2s\n",
      "616:\tlearn: 1493.9709060\ttotal: 1m 40s\tremaining: 1m 2s\n",
      "617:\tlearn: 1493.9554069\ttotal: 1m 40s\tremaining: 1m 2s\n",
      "618:\tlearn: 1493.7867870\ttotal: 1m 41s\tremaining: 1m 2s\n",
      "619:\tlearn: 1493.6853207\ttotal: 1m 41s\tremaining: 1m 2s\n",
      "620:\tlearn: 1493.5069328\ttotal: 1m 41s\tremaining: 1m 1s\n",
      "621:\tlearn: 1493.3519716\ttotal: 1m 41s\tremaining: 1m 1s\n",
      "622:\tlearn: 1493.0807971\ttotal: 1m 41s\tremaining: 1m 1s\n",
      "623:\tlearn: 1492.8625858\ttotal: 1m 41s\tremaining: 1m 1s\n",
      "624:\tlearn: 1492.7343375\ttotal: 1m 42s\tremaining: 1m 1s\n",
      "625:\tlearn: 1492.6361393\ttotal: 1m 42s\tremaining: 1m 1s\n",
      "626:\tlearn: 1492.5090133\ttotal: 1m 42s\tremaining: 1m\n",
      "627:\tlearn: 1492.4486630\ttotal: 1m 42s\tremaining: 1m\n",
      "628:\tlearn: 1492.3004464\ttotal: 1m 42s\tremaining: 1m\n",
      "629:\tlearn: 1492.0458918\ttotal: 1m 43s\tremaining: 1m\n",
      "630:\tlearn: 1491.7910706\ttotal: 1m 43s\tremaining: 1m\n",
      "631:\tlearn: 1491.6113203\ttotal: 1m 43s\tremaining: 1m\n",
      "632:\tlearn: 1491.2964378\ttotal: 1m 43s\tremaining: 1m\n",
      "633:\tlearn: 1491.0590237\ttotal: 1m 43s\tremaining: 59.9s\n",
      "634:\tlearn: 1490.8458666\ttotal: 1m 43s\tremaining: 59.7s\n",
      "635:\tlearn: 1490.8199664\ttotal: 1m 44s\tremaining: 59.5s\n",
      "636:\tlearn: 1490.6449117\ttotal: 1m 44s\tremaining: 59.4s\n",
      "637:\tlearn: 1490.4428569\ttotal: 1m 44s\tremaining: 59.2s\n",
      "638:\tlearn: 1490.0300983\ttotal: 1m 44s\tremaining: 59s\n",
      "639:\tlearn: 1489.9784997\ttotal: 1m 44s\tremaining: 58.9s\n",
      "640:\tlearn: 1489.8502186\ttotal: 1m 44s\tremaining: 58.7s\n",
      "641:\tlearn: 1489.8128368\ttotal: 1m 44s\tremaining: 58.5s\n",
      "642:\tlearn: 1489.7323778\ttotal: 1m 45s\tremaining: 58.3s\n",
      "643:\tlearn: 1489.6498922\ttotal: 1m 45s\tremaining: 58.1s\n",
      "644:\tlearn: 1489.4424724\ttotal: 1m 45s\tremaining: 57.9s\n",
      "645:\tlearn: 1489.3200485\ttotal: 1m 45s\tremaining: 57.8s\n",
      "646:\tlearn: 1489.0485706\ttotal: 1m 45s\tremaining: 57.6s\n",
      "647:\tlearn: 1488.8029777\ttotal: 1m 45s\tremaining: 57.4s\n",
      "648:\tlearn: 1488.7712995\ttotal: 1m 45s\tremaining: 57.3s\n",
      "649:\tlearn: 1488.6856337\ttotal: 1m 46s\tremaining: 57.1s\n",
      "650:\tlearn: 1488.5657779\ttotal: 1m 46s\tremaining: 56.9s\n",
      "651:\tlearn: 1488.3871107\ttotal: 1m 46s\tremaining: 56.7s\n",
      "652:\tlearn: 1488.2742946\ttotal: 1m 46s\tremaining: 56.6s\n",
      "653:\tlearn: 1488.1225637\ttotal: 1m 46s\tremaining: 56.4s\n",
      "654:\tlearn: 1488.0917605\ttotal: 1m 46s\tremaining: 56.2s\n",
      "655:\tlearn: 1488.0100608\ttotal: 1m 46s\tremaining: 56s\n",
      "656:\tlearn: 1487.8271815\ttotal: 1m 46s\tremaining: 55.9s\n",
      "657:\tlearn: 1487.7563763\ttotal: 1m 47s\tremaining: 55.7s\n",
      "658:\tlearn: 1487.7009613\ttotal: 1m 47s\tremaining: 55.5s\n",
      "659:\tlearn: 1487.5563514\ttotal: 1m 47s\tremaining: 55.3s\n",
      "660:\tlearn: 1487.1176219\ttotal: 1m 47s\tremaining: 55.2s\n",
      "661:\tlearn: 1486.9362580\ttotal: 1m 47s\tremaining: 55s\n",
      "662:\tlearn: 1486.7695976\ttotal: 1m 47s\tremaining: 54.9s\n",
      "663:\tlearn: 1486.4625461\ttotal: 1m 48s\tremaining: 54.7s\n",
      "664:\tlearn: 1486.2488657\ttotal: 1m 48s\tremaining: 54.5s\n",
      "665:\tlearn: 1486.1502106\ttotal: 1m 48s\tremaining: 54.3s\n",
      "666:\tlearn: 1485.9968525\ttotal: 1m 48s\tremaining: 54.2s\n",
      "667:\tlearn: 1485.9050607\ttotal: 1m 48s\tremaining: 54s\n",
      "668:\tlearn: 1485.8673403\ttotal: 1m 48s\tremaining: 53.8s\n",
      "669:\tlearn: 1485.8278072\ttotal: 1m 48s\tremaining: 53.7s\n",
      "670:\tlearn: 1485.6732731\ttotal: 1m 49s\tremaining: 53.5s\n",
      "671:\tlearn: 1485.5280208\ttotal: 1m 49s\tremaining: 53.3s\n",
      "672:\tlearn: 1485.3747649\ttotal: 1m 49s\tremaining: 53.2s\n",
      "673:\tlearn: 1485.2411531\ttotal: 1m 49s\tremaining: 53s\n",
      "674:\tlearn: 1485.1609958\ttotal: 1m 49s\tremaining: 52.9s\n",
      "675:\tlearn: 1485.1216293\ttotal: 1m 49s\tremaining: 52.7s\n",
      "676:\tlearn: 1484.9896908\ttotal: 1m 50s\tremaining: 52.6s\n",
      "677:\tlearn: 1484.6782558\ttotal: 1m 50s\tremaining: 52.4s\n",
      "678:\tlearn: 1484.3353764\ttotal: 1m 50s\tremaining: 52.2s\n",
      "679:\tlearn: 1484.2815140\ttotal: 1m 50s\tremaining: 52.1s\n",
      "680:\tlearn: 1484.2030427\ttotal: 1m 50s\tremaining: 51.9s\n",
      "681:\tlearn: 1484.0921588\ttotal: 1m 51s\tremaining: 51.8s\n",
      "682:\tlearn: 1483.8860162\ttotal: 1m 51s\tremaining: 51.6s\n",
      "683:\tlearn: 1483.7421986\ttotal: 1m 51s\tremaining: 51.5s\n",
      "684:\tlearn: 1483.6748939\ttotal: 1m 51s\tremaining: 51.3s\n",
      "685:\tlearn: 1483.5196472\ttotal: 1m 51s\tremaining: 51.2s\n",
      "686:\tlearn: 1483.1486961\ttotal: 1m 51s\tremaining: 51s\n",
      "687:\tlearn: 1482.9986852\ttotal: 1m 52s\tremaining: 50.8s\n",
      "688:\tlearn: 1482.9648635\ttotal: 1m 52s\tremaining: 50.7s\n",
      "689:\tlearn: 1482.8497704\ttotal: 1m 52s\tremaining: 50.5s\n"
     ]
    },
    {
     "name": "stdout",
     "output_type": "stream",
     "text": [
      "690:\tlearn: 1482.7604282\ttotal: 1m 52s\tremaining: 50.4s\n",
      "691:\tlearn: 1482.5782308\ttotal: 1m 52s\tremaining: 50.2s\n",
      "692:\tlearn: 1482.5449316\ttotal: 1m 53s\tremaining: 50.1s\n",
      "693:\tlearn: 1482.4117899\ttotal: 1m 53s\tremaining: 49.9s\n",
      "694:\tlearn: 1482.3804489\ttotal: 1m 53s\tremaining: 49.8s\n",
      "695:\tlearn: 1482.0940692\ttotal: 1m 53s\tremaining: 49.6s\n",
      "696:\tlearn: 1482.0036198\ttotal: 1m 53s\tremaining: 49.5s\n",
      "697:\tlearn: 1481.9794166\ttotal: 1m 53s\tremaining: 49.3s\n",
      "698:\tlearn: 1481.9396407\ttotal: 1m 54s\tremaining: 49.1s\n",
      "699:\tlearn: 1481.7332917\ttotal: 1m 54s\tremaining: 49s\n",
      "700:\tlearn: 1481.5891658\ttotal: 1m 54s\tremaining: 48.8s\n",
      "701:\tlearn: 1481.4714290\ttotal: 1m 54s\tremaining: 48.7s\n",
      "702:\tlearn: 1481.3873349\ttotal: 1m 54s\tremaining: 48.5s\n",
      "703:\tlearn: 1481.3309995\ttotal: 1m 54s\tremaining: 48.3s\n",
      "704:\tlearn: 1481.0956932\ttotal: 1m 55s\tremaining: 48.2s\n",
      "705:\tlearn: 1481.0097039\ttotal: 1m 55s\tremaining: 48s\n",
      "706:\tlearn: 1480.6956350\ttotal: 1m 55s\tremaining: 47.8s\n",
      "707:\tlearn: 1480.6140929\ttotal: 1m 55s\tremaining: 47.6s\n",
      "708:\tlearn: 1480.5180044\ttotal: 1m 55s\tremaining: 47.5s\n",
      "709:\tlearn: 1480.4561517\ttotal: 1m 55s\tremaining: 47.3s\n",
      "710:\tlearn: 1480.3803063\ttotal: 1m 55s\tremaining: 47.1s\n",
      "711:\tlearn: 1480.3326019\ttotal: 1m 56s\tremaining: 47s\n",
      "712:\tlearn: 1480.2058286\ttotal: 1m 56s\tremaining: 46.8s\n",
      "713:\tlearn: 1480.0017151\ttotal: 1m 56s\tremaining: 46.6s\n",
      "714:\tlearn: 1479.8723919\ttotal: 1m 56s\tremaining: 46.5s\n",
      "715:\tlearn: 1479.7738585\ttotal: 1m 56s\tremaining: 46.3s\n",
      "716:\tlearn: 1479.6934602\ttotal: 1m 56s\tremaining: 46.1s\n",
      "717:\tlearn: 1479.4850902\ttotal: 1m 57s\tremaining: 46s\n",
      "718:\tlearn: 1479.4608507\ttotal: 1m 57s\tremaining: 45.8s\n",
      "719:\tlearn: 1479.3132703\ttotal: 1m 57s\tremaining: 45.7s\n",
      "720:\tlearn: 1479.1366117\ttotal: 1m 57s\tremaining: 45.5s\n",
      "721:\tlearn: 1479.0107791\ttotal: 1m 57s\tremaining: 45.4s\n",
      "722:\tlearn: 1478.9398636\ttotal: 1m 57s\tremaining: 45.2s\n",
      "723:\tlearn: 1478.9259417\ttotal: 1m 58s\tremaining: 45s\n",
      "724:\tlearn: 1478.8708332\ttotal: 1m 58s\tremaining: 44.9s\n",
      "725:\tlearn: 1478.6086408\ttotal: 1m 58s\tremaining: 44.7s\n",
      "726:\tlearn: 1478.4604334\ttotal: 1m 58s\tremaining: 44.5s\n",
      "727:\tlearn: 1478.3194622\ttotal: 1m 58s\tremaining: 44.4s\n",
      "728:\tlearn: 1478.1569431\ttotal: 1m 58s\tremaining: 44.2s\n",
      "729:\tlearn: 1478.0047751\ttotal: 1m 59s\tremaining: 44s\n",
      "730:\tlearn: 1477.7369494\ttotal: 1m 59s\tremaining: 43.9s\n",
      "731:\tlearn: 1477.6801950\ttotal: 1m 59s\tremaining: 43.7s\n",
      "732:\tlearn: 1477.5068542\ttotal: 1m 59s\tremaining: 43.5s\n",
      "733:\tlearn: 1477.0623239\ttotal: 1m 59s\tremaining: 43.4s\n",
      "734:\tlearn: 1477.0358742\ttotal: 1m 59s\tremaining: 43.2s\n",
      "735:\tlearn: 1476.9162313\ttotal: 1m 59s\tremaining: 43s\n",
      "736:\tlearn: 1476.8617142\ttotal: 2m\tremaining: 42.9s\n",
      "737:\tlearn: 1476.6458877\ttotal: 2m\tremaining: 42.7s\n",
      "738:\tlearn: 1476.4473348\ttotal: 2m\tremaining: 42.5s\n",
      "739:\tlearn: 1476.3574996\ttotal: 2m\tremaining: 42.4s\n",
      "740:\tlearn: 1476.3086414\ttotal: 2m\tremaining: 42.2s\n",
      "741:\tlearn: 1476.1912482\ttotal: 2m\tremaining: 42.1s\n",
      "742:\tlearn: 1476.1746091\ttotal: 2m 1s\tremaining: 41.9s\n",
      "743:\tlearn: 1476.0896643\ttotal: 2m 1s\tremaining: 41.7s\n",
      "744:\tlearn: 1475.9355359\ttotal: 2m 1s\tremaining: 41.5s\n",
      "745:\tlearn: 1475.8623004\ttotal: 2m 1s\tremaining: 41.4s\n",
      "746:\tlearn: 1475.6414793\ttotal: 2m 1s\tremaining: 41.2s\n",
      "747:\tlearn: 1475.5364700\ttotal: 2m 1s\tremaining: 41s\n",
      "748:\tlearn: 1475.5240686\ttotal: 2m 1s\tremaining: 40.9s\n",
      "749:\tlearn: 1475.4862384\ttotal: 2m 2s\tremaining: 40.7s\n",
      "750:\tlearn: 1475.3815949\ttotal: 2m 2s\tremaining: 40.6s\n",
      "751:\tlearn: 1475.3326880\ttotal: 2m 2s\tremaining: 40.4s\n",
      "752:\tlearn: 1475.3004826\ttotal: 2m 2s\tremaining: 40.2s\n",
      "753:\tlearn: 1475.2499739\ttotal: 2m 2s\tremaining: 40s\n",
      "754:\tlearn: 1475.0977671\ttotal: 2m 2s\tremaining: 39.9s\n",
      "755:\tlearn: 1474.9206227\ttotal: 2m 3s\tremaining: 39.7s\n",
      "756:\tlearn: 1474.6214643\ttotal: 2m 3s\tremaining: 39.6s\n",
      "757:\tlearn: 1474.4602652\ttotal: 2m 3s\tremaining: 39.4s\n",
      "758:\tlearn: 1474.2980842\ttotal: 2m 3s\tremaining: 39.3s\n",
      "759:\tlearn: 1474.0782737\ttotal: 2m 3s\tremaining: 39.1s\n",
      "760:\tlearn: 1473.8880560\ttotal: 2m 3s\tremaining: 38.9s\n",
      "761:\tlearn: 1473.8451683\ttotal: 2m 4s\tremaining: 38.8s\n",
      "762:\tlearn: 1473.7552084\ttotal: 2m 4s\tremaining: 38.6s\n",
      "763:\tlearn: 1473.6401040\ttotal: 2m 4s\tremaining: 38.5s\n",
      "764:\tlearn: 1473.4304592\ttotal: 2m 4s\tremaining: 38.3s\n",
      "765:\tlearn: 1473.3956851\ttotal: 2m 4s\tremaining: 38.1s\n",
      "766:\tlearn: 1473.1538017\ttotal: 2m 4s\tremaining: 38s\n",
      "767:\tlearn: 1473.1209235\ttotal: 2m 5s\tremaining: 37.8s\n",
      "768:\tlearn: 1473.0576753\ttotal: 2m 5s\tremaining: 37.6s\n",
      "769:\tlearn: 1472.9741657\ttotal: 2m 5s\tremaining: 37.5s\n",
      "770:\tlearn: 1472.7638198\ttotal: 2m 5s\tremaining: 37.3s\n",
      "771:\tlearn: 1472.6383030\ttotal: 2m 5s\tremaining: 37.2s\n",
      "772:\tlearn: 1472.5395200\ttotal: 2m 6s\tremaining: 37s\n",
      "773:\tlearn: 1472.4749977\ttotal: 2m 6s\tremaining: 36.8s\n",
      "774:\tlearn: 1472.2435431\ttotal: 2m 6s\tremaining: 36.7s\n",
      "775:\tlearn: 1472.1726312\ttotal: 2m 6s\tremaining: 36.5s\n",
      "776:\tlearn: 1471.9462055\ttotal: 2m 6s\tremaining: 36.4s\n",
      "777:\tlearn: 1471.8595411\ttotal: 2m 6s\tremaining: 36.2s\n",
      "778:\tlearn: 1471.7196161\ttotal: 2m 6s\tremaining: 36s\n",
      "779:\tlearn: 1471.5789486\ttotal: 2m 7s\tremaining: 35.9s\n",
      "780:\tlearn: 1471.4756047\ttotal: 2m 7s\tremaining: 35.7s\n",
      "781:\tlearn: 1471.3884446\ttotal: 2m 7s\tremaining: 35.5s\n",
      "782:\tlearn: 1471.3445763\ttotal: 2m 7s\tremaining: 35.4s\n",
      "783:\tlearn: 1471.2232538\ttotal: 2m 7s\tremaining: 35.2s\n",
      "784:\tlearn: 1471.1399988\ttotal: 2m 7s\tremaining: 35s\n",
      "785:\tlearn: 1470.9239351\ttotal: 2m 8s\tremaining: 34.9s\n",
      "786:\tlearn: 1470.8907352\ttotal: 2m 8s\tremaining: 34.7s\n",
      "787:\tlearn: 1470.4899783\ttotal: 2m 8s\tremaining: 34.5s\n",
      "788:\tlearn: 1470.4683158\ttotal: 2m 8s\tremaining: 34.4s\n",
      "789:\tlearn: 1470.4006192\ttotal: 2m 8s\tremaining: 34.2s\n",
      "790:\tlearn: 1470.2052899\ttotal: 2m 8s\tremaining: 34s\n",
      "791:\tlearn: 1470.1562388\ttotal: 2m 8s\tremaining: 33.9s\n",
      "792:\tlearn: 1470.1210468\ttotal: 2m 9s\tremaining: 33.7s\n",
      "793:\tlearn: 1469.9818183\ttotal: 2m 9s\tremaining: 33.6s\n",
      "794:\tlearn: 1469.8529337\ttotal: 2m 9s\tremaining: 33.4s\n",
      "795:\tlearn: 1469.7876449\ttotal: 2m 9s\tremaining: 33.2s\n",
      "796:\tlearn: 1469.6993240\ttotal: 2m 9s\tremaining: 33.1s\n",
      "797:\tlearn: 1469.6865644\ttotal: 2m 9s\tremaining: 32.9s\n",
      "798:\tlearn: 1469.5044417\ttotal: 2m 10s\tremaining: 32.7s\n",
      "799:\tlearn: 1469.4477095\ttotal: 2m 10s\tremaining: 32.6s\n",
      "800:\tlearn: 1469.3899664\ttotal: 2m 10s\tremaining: 32.4s\n",
      "801:\tlearn: 1469.3721619\ttotal: 2m 10s\tremaining: 32.3s\n",
      "802:\tlearn: 1469.3143472\ttotal: 2m 10s\tremaining: 32.1s\n",
      "803:\tlearn: 1469.2041305\ttotal: 2m 10s\tremaining: 31.9s\n",
      "804:\tlearn: 1468.9837723\ttotal: 2m 11s\tremaining: 31.8s\n",
      "805:\tlearn: 1468.8948338\ttotal: 2m 11s\tremaining: 31.6s\n",
      "806:\tlearn: 1468.8378561\ttotal: 2m 11s\tremaining: 31.4s\n",
      "807:\tlearn: 1468.7047798\ttotal: 2m 11s\tremaining: 31.3s\n",
      "808:\tlearn: 1468.5483755\ttotal: 2m 11s\tremaining: 31.1s\n",
      "809:\tlearn: 1468.4100172\ttotal: 2m 11s\tremaining: 30.9s\n",
      "810:\tlearn: 1468.3401043\ttotal: 2m 12s\tremaining: 30.8s\n",
      "811:\tlearn: 1468.0968290\ttotal: 2m 12s\tremaining: 30.6s\n",
      "812:\tlearn: 1467.9806015\ttotal: 2m 12s\tremaining: 30.5s\n",
      "813:\tlearn: 1467.8423651\ttotal: 2m 12s\tremaining: 30.3s\n",
      "814:\tlearn: 1467.6129983\ttotal: 2m 12s\tremaining: 30.1s\n",
      "815:\tlearn: 1467.4397705\ttotal: 2m 12s\tremaining: 30s\n",
      "816:\tlearn: 1467.3978359\ttotal: 2m 13s\tremaining: 29.8s\n",
      "817:\tlearn: 1467.2571372\ttotal: 2m 13s\tremaining: 29.7s\n",
      "818:\tlearn: 1467.2286666\ttotal: 2m 13s\tremaining: 29.5s\n",
      "819:\tlearn: 1467.1277073\ttotal: 2m 13s\tremaining: 29.3s\n",
      "820:\tlearn: 1466.9234291\ttotal: 2m 13s\tremaining: 29.2s\n",
      "821:\tlearn: 1466.8617002\ttotal: 2m 13s\tremaining: 29s\n",
      "822:\tlearn: 1466.6930293\ttotal: 2m 14s\tremaining: 28.8s\n",
      "823:\tlearn: 1466.6414027\ttotal: 2m 14s\tremaining: 28.7s\n",
      "824:\tlearn: 1466.5545304\ttotal: 2m 14s\tremaining: 28.5s\n",
      "825:\tlearn: 1466.4246752\ttotal: 2m 14s\tremaining: 28.4s\n",
      "826:\tlearn: 1466.3038576\ttotal: 2m 14s\tremaining: 28.2s\n",
      "827:\tlearn: 1466.1608845\ttotal: 2m 14s\tremaining: 28s\n",
      "828:\tlearn: 1465.9173660\ttotal: 2m 15s\tremaining: 27.9s\n",
      "829:\tlearn: 1465.7810566\ttotal: 2m 15s\tremaining: 27.7s\n",
      "830:\tlearn: 1465.6946845\ttotal: 2m 15s\tremaining: 27.5s\n",
      "831:\tlearn: 1465.5185365\ttotal: 2m 15s\tremaining: 27.4s\n",
      "832:\tlearn: 1465.2076519\ttotal: 2m 15s\tremaining: 27.2s\n",
      "833:\tlearn: 1465.1958392\ttotal: 2m 15s\tremaining: 27s\n",
      "834:\tlearn: 1465.0983966\ttotal: 2m 16s\tremaining: 26.9s\n",
      "835:\tlearn: 1464.9784443\ttotal: 2m 16s\tremaining: 26.7s\n",
      "836:\tlearn: 1464.9049276\ttotal: 2m 16s\tremaining: 26.6s\n",
      "837:\tlearn: 1464.7460865\ttotal: 2m 16s\tremaining: 26.4s\n",
      "838:\tlearn: 1464.7226056\ttotal: 2m 16s\tremaining: 26.2s\n"
     ]
    },
    {
     "name": "stdout",
     "output_type": "stream",
     "text": [
      "839:\tlearn: 1464.3038602\ttotal: 2m 16s\tremaining: 26.1s\n",
      "840:\tlearn: 1464.2517695\ttotal: 2m 16s\tremaining: 25.9s\n",
      "841:\tlearn: 1464.1952602\ttotal: 2m 17s\tremaining: 25.7s\n",
      "842:\tlearn: 1464.1223563\ttotal: 2m 17s\tremaining: 25.6s\n",
      "843:\tlearn: 1464.0151632\ttotal: 2m 17s\tremaining: 25.4s\n",
      "844:\tlearn: 1463.7969590\ttotal: 2m 17s\tremaining: 25.2s\n",
      "845:\tlearn: 1463.6718895\ttotal: 2m 17s\tremaining: 25.1s\n",
      "846:\tlearn: 1463.5763396\ttotal: 2m 17s\tremaining: 24.9s\n",
      "847:\tlearn: 1463.3849061\ttotal: 2m 18s\tremaining: 24.8s\n",
      "848:\tlearn: 1463.3032374\ttotal: 2m 18s\tremaining: 24.6s\n",
      "849:\tlearn: 1463.2568698\ttotal: 2m 18s\tremaining: 24.4s\n",
      "850:\tlearn: 1463.2222413\ttotal: 2m 18s\tremaining: 24.3s\n",
      "851:\tlearn: 1463.1732295\ttotal: 2m 18s\tremaining: 24.1s\n",
      "852:\tlearn: 1462.9050170\ttotal: 2m 18s\tremaining: 24s\n",
      "853:\tlearn: 1462.7763283\ttotal: 2m 19s\tremaining: 23.8s\n",
      "854:\tlearn: 1462.5576296\ttotal: 2m 19s\tremaining: 23.6s\n",
      "855:\tlearn: 1462.4576372\ttotal: 2m 19s\tremaining: 23.5s\n",
      "856:\tlearn: 1462.3449329\ttotal: 2m 19s\tremaining: 23.3s\n",
      "857:\tlearn: 1462.3167218\ttotal: 2m 19s\tremaining: 23.1s\n",
      "858:\tlearn: 1462.2411811\ttotal: 2m 19s\tremaining: 23s\n",
      "859:\tlearn: 1462.1579439\ttotal: 2m 20s\tremaining: 22.8s\n",
      "860:\tlearn: 1462.0428565\ttotal: 2m 20s\tremaining: 22.7s\n",
      "861:\tlearn: 1461.9743980\ttotal: 2m 20s\tremaining: 22.5s\n",
      "862:\tlearn: 1461.9270926\ttotal: 2m 20s\tremaining: 22.3s\n",
      "863:\tlearn: 1461.8875314\ttotal: 2m 20s\tremaining: 22.1s\n",
      "864:\tlearn: 1461.7863963\ttotal: 2m 20s\tremaining: 22s\n",
      "865:\tlearn: 1461.7589645\ttotal: 2m 20s\tremaining: 21.8s\n",
      "866:\tlearn: 1461.6767017\ttotal: 2m 21s\tremaining: 21.6s\n",
      "867:\tlearn: 1461.4638526\ttotal: 2m 21s\tremaining: 21.5s\n",
      "868:\tlearn: 1461.3333206\ttotal: 2m 21s\tremaining: 21.3s\n",
      "869:\tlearn: 1461.1863030\ttotal: 2m 21s\tremaining: 21.2s\n",
      "870:\tlearn: 1461.1604970\ttotal: 2m 21s\tremaining: 21s\n",
      "871:\tlearn: 1461.1028651\ttotal: 2m 22s\tremaining: 20.9s\n",
      "872:\tlearn: 1461.0243443\ttotal: 2m 22s\tremaining: 20.7s\n",
      "873:\tlearn: 1460.9999294\ttotal: 2m 22s\tremaining: 20.5s\n",
      "874:\tlearn: 1460.9562986\ttotal: 2m 22s\tremaining: 20.4s\n",
      "875:\tlearn: 1460.8352445\ttotal: 2m 22s\tremaining: 20.2s\n",
      "876:\tlearn: 1460.6587686\ttotal: 2m 22s\tremaining: 20s\n",
      "877:\tlearn: 1460.5419011\ttotal: 2m 23s\tremaining: 19.9s\n",
      "878:\tlearn: 1460.4222215\ttotal: 2m 23s\tremaining: 19.7s\n",
      "879:\tlearn: 1460.3579906\ttotal: 2m 23s\tremaining: 19.6s\n",
      "880:\tlearn: 1460.1175499\ttotal: 2m 23s\tremaining: 19.4s\n",
      "881:\tlearn: 1460.0251518\ttotal: 2m 23s\tremaining: 19.3s\n",
      "882:\tlearn: 1459.9991766\ttotal: 2m 24s\tremaining: 19.1s\n",
      "883:\tlearn: 1459.8516919\ttotal: 2m 24s\tremaining: 18.9s\n",
      "884:\tlearn: 1459.6891017\ttotal: 2m 24s\tremaining: 18.8s\n",
      "885:\tlearn: 1459.4220001\ttotal: 2m 24s\tremaining: 18.6s\n",
      "886:\tlearn: 1459.1125737\ttotal: 2m 24s\tremaining: 18.4s\n",
      "887:\tlearn: 1458.9864736\ttotal: 2m 24s\tremaining: 18.3s\n",
      "888:\tlearn: 1458.9226780\ttotal: 2m 25s\tremaining: 18.1s\n",
      "889:\tlearn: 1458.8211050\ttotal: 2m 25s\tremaining: 18s\n",
      "890:\tlearn: 1458.7874032\ttotal: 2m 25s\tremaining: 17.8s\n",
      "891:\tlearn: 1458.7236972\ttotal: 2m 25s\tremaining: 17.6s\n",
      "892:\tlearn: 1458.6412410\ttotal: 2m 25s\tremaining: 17.5s\n",
      "893:\tlearn: 1458.5809069\ttotal: 2m 26s\tremaining: 17.3s\n",
      "894:\tlearn: 1458.3765509\ttotal: 2m 26s\tremaining: 17.2s\n",
      "895:\tlearn: 1457.6909778\ttotal: 2m 26s\tremaining: 17s\n",
      "896:\tlearn: 1457.6141130\ttotal: 2m 26s\tremaining: 16.8s\n",
      "897:\tlearn: 1457.5058235\ttotal: 2m 26s\tremaining: 16.7s\n",
      "898:\tlearn: 1457.4519408\ttotal: 2m 26s\tremaining: 16.5s\n",
      "899:\tlearn: 1457.3763996\ttotal: 2m 27s\tremaining: 16.3s\n",
      "900:\tlearn: 1457.3429240\ttotal: 2m 27s\tremaining: 16.2s\n",
      "901:\tlearn: 1457.2300651\ttotal: 2m 27s\tremaining: 16s\n",
      "902:\tlearn: 1457.1555466\ttotal: 2m 27s\tremaining: 15.8s\n",
      "903:\tlearn: 1457.1163873\ttotal: 2m 27s\tremaining: 15.7s\n",
      "904:\tlearn: 1457.0748409\ttotal: 2m 27s\tremaining: 15.5s\n",
      "905:\tlearn: 1456.9472284\ttotal: 2m 28s\tremaining: 15.4s\n",
      "906:\tlearn: 1456.8115986\ttotal: 2m 28s\tremaining: 15.2s\n",
      "907:\tlearn: 1456.7537135\ttotal: 2m 28s\tremaining: 15s\n",
      "908:\tlearn: 1456.7124624\ttotal: 2m 28s\tremaining: 14.9s\n",
      "909:\tlearn: 1456.4969620\ttotal: 2m 28s\tremaining: 14.7s\n",
      "910:\tlearn: 1456.4232083\ttotal: 2m 28s\tremaining: 14.5s\n",
      "911:\tlearn: 1456.3780127\ttotal: 2m 29s\tremaining: 14.4s\n",
      "912:\tlearn: 1456.3434784\ttotal: 2m 29s\tremaining: 14.2s\n",
      "913:\tlearn: 1456.2864039\ttotal: 2m 29s\tremaining: 14.1s\n",
      "914:\tlearn: 1456.1916252\ttotal: 2m 29s\tremaining: 13.9s\n",
      "915:\tlearn: 1456.0401213\ttotal: 2m 29s\tremaining: 13.7s\n",
      "916:\tlearn: 1455.9638330\ttotal: 2m 29s\tremaining: 13.6s\n",
      "917:\tlearn: 1455.9057285\ttotal: 2m 29s\tremaining: 13.4s\n",
      "918:\tlearn: 1455.6528940\ttotal: 2m 30s\tremaining: 13.2s\n",
      "919:\tlearn: 1455.6240900\ttotal: 2m 30s\tremaining: 13.1s\n",
      "920:\tlearn: 1455.5984337\ttotal: 2m 30s\tremaining: 12.9s\n",
      "921:\tlearn: 1455.5706366\ttotal: 2m 30s\tremaining: 12.7s\n",
      "922:\tlearn: 1455.5526916\ttotal: 2m 30s\tremaining: 12.6s\n",
      "923:\tlearn: 1455.5120660\ttotal: 2m 30s\tremaining: 12.4s\n",
      "924:\tlearn: 1455.3984910\ttotal: 2m 30s\tremaining: 12.2s\n",
      "925:\tlearn: 1455.3410330\ttotal: 2m 31s\tremaining: 12.1s\n",
      "926:\tlearn: 1455.3092518\ttotal: 2m 31s\tremaining: 11.9s\n",
      "927:\tlearn: 1455.2810271\ttotal: 2m 31s\tremaining: 11.7s\n",
      "928:\tlearn: 1455.2251923\ttotal: 2m 31s\tremaining: 11.6s\n",
      "929:\tlearn: 1454.9637337\ttotal: 2m 31s\tremaining: 11.4s\n",
      "930:\tlearn: 1454.8134340\ttotal: 2m 31s\tremaining: 11.3s\n",
      "931:\tlearn: 1454.7561543\ttotal: 2m 31s\tremaining: 11.1s\n",
      "932:\tlearn: 1454.7345751\ttotal: 2m 32s\tremaining: 10.9s\n",
      "933:\tlearn: 1454.6518748\ttotal: 2m 32s\tremaining: 10.8s\n",
      "934:\tlearn: 1454.6326921\ttotal: 2m 32s\tremaining: 10.6s\n",
      "935:\tlearn: 1454.5609156\ttotal: 2m 32s\tremaining: 10.4s\n",
      "936:\tlearn: 1454.5497534\ttotal: 2m 32s\tremaining: 10.3s\n",
      "937:\tlearn: 1454.3156653\ttotal: 2m 32s\tremaining: 10.1s\n",
      "938:\tlearn: 1454.2395222\ttotal: 2m 33s\tremaining: 9.95s\n",
      "939:\tlearn: 1454.1847972\ttotal: 2m 33s\tremaining: 9.78s\n",
      "940:\tlearn: 1454.0227770\ttotal: 2m 33s\tremaining: 9.62s\n",
      "941:\tlearn: 1454.0083007\ttotal: 2m 33s\tremaining: 9.46s\n",
      "942:\tlearn: 1453.7240196\ttotal: 2m 33s\tremaining: 9.29s\n",
      "943:\tlearn: 1453.5810902\ttotal: 2m 33s\tremaining: 9.13s\n",
      "944:\tlearn: 1453.4560371\ttotal: 2m 34s\tremaining: 8.97s\n",
      "945:\tlearn: 1453.4330955\ttotal: 2m 34s\tremaining: 8.8s\n",
      "946:\tlearn: 1453.2559626\ttotal: 2m 34s\tremaining: 8.64s\n",
      "947:\tlearn: 1453.1735345\ttotal: 2m 34s\tremaining: 8.47s\n",
      "948:\tlearn: 1453.0783959\ttotal: 2m 34s\tremaining: 8.31s\n",
      "949:\tlearn: 1452.9072181\ttotal: 2m 34s\tremaining: 8.15s\n",
      "950:\tlearn: 1452.8495811\ttotal: 2m 35s\tremaining: 7.99s\n",
      "951:\tlearn: 1452.7969645\ttotal: 2m 35s\tremaining: 7.82s\n",
      "952:\tlearn: 1452.5738225\ttotal: 2m 35s\tremaining: 7.66s\n",
      "953:\tlearn: 1452.5094047\ttotal: 2m 35s\tremaining: 7.5s\n",
      "954:\tlearn: 1452.4590170\ttotal: 2m 35s\tremaining: 7.34s\n",
      "955:\tlearn: 1452.3935248\ttotal: 2m 35s\tremaining: 7.17s\n",
      "956:\tlearn: 1452.2543125\ttotal: 2m 35s\tremaining: 7.01s\n",
      "957:\tlearn: 1452.2105726\ttotal: 2m 36s\tremaining: 6.85s\n",
      "958:\tlearn: 1452.1640044\ttotal: 2m 36s\tremaining: 6.68s\n",
      "959:\tlearn: 1451.9473364\ttotal: 2m 36s\tremaining: 6.52s\n",
      "960:\tlearn: 1451.8478895\ttotal: 2m 36s\tremaining: 6.35s\n",
      "961:\tlearn: 1451.6761392\ttotal: 2m 36s\tremaining: 6.19s\n",
      "962:\tlearn: 1451.5107752\ttotal: 2m 36s\tremaining: 6.03s\n",
      "963:\tlearn: 1451.4382295\ttotal: 2m 37s\tremaining: 5.87s\n",
      "964:\tlearn: 1451.4157039\ttotal: 2m 37s\tremaining: 5.7s\n",
      "965:\tlearn: 1451.2897502\ttotal: 2m 37s\tremaining: 5.54s\n",
      "966:\tlearn: 1451.1911651\ttotal: 2m 37s\tremaining: 5.37s\n",
      "967:\tlearn: 1451.1316745\ttotal: 2m 37s\tremaining: 5.21s\n",
      "968:\tlearn: 1451.0008167\ttotal: 2m 37s\tremaining: 5.05s\n",
      "969:\tlearn: 1450.6941259\ttotal: 2m 38s\tremaining: 4.89s\n",
      "970:\tlearn: 1450.2289020\ttotal: 2m 38s\tremaining: 4.72s\n",
      "971:\tlearn: 1449.9730840\ttotal: 2m 38s\tremaining: 4.56s\n",
      "972:\tlearn: 1449.7890708\ttotal: 2m 38s\tremaining: 4.4s\n",
      "973:\tlearn: 1449.6316898\ttotal: 2m 38s\tremaining: 4.24s\n",
      "974:\tlearn: 1449.6031970\ttotal: 2m 39s\tremaining: 4.08s\n",
      "975:\tlearn: 1449.5236716\ttotal: 2m 39s\tremaining: 3.91s\n",
      "976:\tlearn: 1449.4926190\ttotal: 2m 39s\tremaining: 3.75s\n",
      "977:\tlearn: 1449.3450181\ttotal: 2m 39s\tremaining: 3.59s\n",
      "978:\tlearn: 1449.2391222\ttotal: 2m 39s\tremaining: 3.42s\n",
      "979:\tlearn: 1449.2204705\ttotal: 2m 39s\tremaining: 3.26s\n",
      "980:\tlearn: 1449.1228338\ttotal: 2m 39s\tremaining: 3.1s\n",
      "981:\tlearn: 1448.9565905\ttotal: 2m 40s\tremaining: 2.93s\n",
      "982:\tlearn: 1448.8982311\ttotal: 2m 40s\tremaining: 2.77s\n",
      "983:\tlearn: 1448.7965173\ttotal: 2m 40s\tremaining: 2.61s\n",
      "984:\tlearn: 1448.6506784\ttotal: 2m 40s\tremaining: 2.44s\n",
      "985:\tlearn: 1448.6461645\ttotal: 2m 40s\tremaining: 2.28s\n"
     ]
    },
    {
     "name": "stdout",
     "output_type": "stream",
     "text": [
      "986:\tlearn: 1448.6110743\ttotal: 2m 40s\tremaining: 2.12s\n",
      "987:\tlearn: 1448.5276031\ttotal: 2m 41s\tremaining: 1.96s\n",
      "988:\tlearn: 1448.4663527\ttotal: 2m 41s\tremaining: 1.79s\n",
      "989:\tlearn: 1448.2895331\ttotal: 2m 41s\tremaining: 1.63s\n",
      "990:\tlearn: 1448.2655199\ttotal: 2m 41s\tremaining: 1.47s\n",
      "991:\tlearn: 1448.1599530\ttotal: 2m 41s\tremaining: 1.3s\n",
      "992:\tlearn: 1448.0551211\ttotal: 2m 41s\tremaining: 1.14s\n",
      "993:\tlearn: 1447.9724831\ttotal: 2m 41s\tremaining: 978ms\n",
      "994:\tlearn: 1447.8177825\ttotal: 2m 42s\tremaining: 815ms\n",
      "995:\tlearn: 1447.7716057\ttotal: 2m 42s\tremaining: 652ms\n",
      "996:\tlearn: 1447.6433512\ttotal: 2m 42s\tremaining: 489ms\n",
      "997:\tlearn: 1447.5274851\ttotal: 2m 42s\tremaining: 326ms\n",
      "998:\tlearn: 1447.4569408\ttotal: 2m 42s\tremaining: 163ms\n",
      "999:\tlearn: 1447.4352473\ttotal: 2m 42s\tremaining: 0us\n",
      "[CV 1/3; 2/2] END .....learning_rate=0.2, random_state=12345; total time= 2.8min\n",
      "[CV 2/3; 2/2] START learning_rate=0.2, random_state=12345.......................\n",
      "0:\tlearn: 3872.9917497\ttotal: 219ms\tremaining: 3m 38s\n",
      "1:\tlearn: 3443.0051258\ttotal: 425ms\tremaining: 3m 31s\n",
      "2:\tlearn: 3110.4514081\ttotal: 654ms\tremaining: 3m 37s\n",
      "3:\tlearn: 2863.9742150\ttotal: 845ms\tremaining: 3m 30s\n",
      "4:\tlearn: 2658.3231273\ttotal: 1.01s\tremaining: 3m 20s\n",
      "5:\tlearn: 2497.4965158\ttotal: 1.2s\tremaining: 3m 19s\n",
      "6:\tlearn: 2376.0826212\ttotal: 1.37s\tremaining: 3m 14s\n",
      "7:\tlearn: 2282.6117784\ttotal: 1.5s\tremaining: 3m 6s\n",
      "8:\tlearn: 2204.5236193\ttotal: 1.67s\tremaining: 3m 3s\n",
      "9:\tlearn: 2142.2525815\ttotal: 1.84s\tremaining: 3m 2s\n",
      "10:\tlearn: 2084.0519477\ttotal: 2.01s\tremaining: 3m 1s\n",
      "11:\tlearn: 2040.4670728\ttotal: 2.17s\tremaining: 2m 59s\n",
      "12:\tlearn: 2006.2107571\ttotal: 2.35s\tremaining: 2m 58s\n",
      "13:\tlearn: 1976.9306865\ttotal: 2.51s\tremaining: 2m 56s\n",
      "14:\tlearn: 1957.2994236\ttotal: 2.65s\tremaining: 2m 54s\n",
      "15:\tlearn: 1939.2357396\ttotal: 2.84s\tremaining: 2m 54s\n",
      "16:\tlearn: 1913.3073162\ttotal: 3.05s\tremaining: 2m 56s\n",
      "17:\tlearn: 1898.2306915\ttotal: 3.2s\tremaining: 2m 54s\n",
      "18:\tlearn: 1885.9997177\ttotal: 3.38s\tremaining: 2m 54s\n",
      "19:\tlearn: 1877.6472603\ttotal: 3.51s\tremaining: 2m 52s\n",
      "20:\tlearn: 1870.7857578\ttotal: 3.67s\tremaining: 2m 50s\n",
      "21:\tlearn: 1862.3382276\ttotal: 3.86s\tremaining: 2m 51s\n",
      "22:\tlearn: 1852.7291117\ttotal: 4.05s\tremaining: 2m 51s\n",
      "23:\tlearn: 1842.8095193\ttotal: 4.2s\tremaining: 2m 50s\n",
      "24:\tlearn: 1833.4748801\ttotal: 4.34s\tremaining: 2m 49s\n",
      "25:\tlearn: 1826.9214828\ttotal: 4.52s\tremaining: 2m 49s\n",
      "26:\tlearn: 1821.6465434\ttotal: 4.71s\tremaining: 2m 49s\n",
      "27:\tlearn: 1815.4722447\ttotal: 4.85s\tremaining: 2m 48s\n",
      "28:\tlearn: 1811.6483310\ttotal: 5.03s\tremaining: 2m 48s\n",
      "29:\tlearn: 1805.7627589\ttotal: 5.18s\tremaining: 2m 47s\n",
      "30:\tlearn: 1802.0119998\ttotal: 5.38s\tremaining: 2m 48s\n",
      "31:\tlearn: 1797.4143462\ttotal: 5.5s\tremaining: 2m 46s\n",
      "32:\tlearn: 1793.5519462\ttotal: 5.65s\tremaining: 2m 45s\n",
      "33:\tlearn: 1789.0522991\ttotal: 5.78s\tremaining: 2m 44s\n",
      "34:\tlearn: 1787.6490174\ttotal: 5.95s\tremaining: 2m 44s\n",
      "35:\tlearn: 1784.5169658\ttotal: 6.09s\tremaining: 2m 43s\n",
      "36:\tlearn: 1781.5484928\ttotal: 6.27s\tremaining: 2m 43s\n",
      "37:\tlearn: 1776.8207688\ttotal: 6.42s\tremaining: 2m 42s\n",
      "38:\tlearn: 1775.3621210\ttotal: 6.57s\tremaining: 2m 41s\n",
      "39:\tlearn: 1771.7525118\ttotal: 6.68s\tremaining: 2m 40s\n",
      "40:\tlearn: 1768.2246084\ttotal: 6.86s\tremaining: 2m 40s\n",
      "41:\tlearn: 1765.1047180\ttotal: 7.02s\tremaining: 2m 40s\n",
      "42:\tlearn: 1762.7344622\ttotal: 7.22s\tremaining: 2m 40s\n",
      "43:\tlearn: 1758.3929287\ttotal: 7.41s\tremaining: 2m 40s\n",
      "44:\tlearn: 1756.2881625\ttotal: 7.56s\tremaining: 2m 40s\n",
      "45:\tlearn: 1753.4689955\ttotal: 7.72s\tremaining: 2m 40s\n",
      "46:\tlearn: 1750.9600508\ttotal: 7.86s\tremaining: 2m 39s\n",
      "47:\tlearn: 1749.2299756\ttotal: 7.96s\tremaining: 2m 37s\n",
      "48:\tlearn: 1746.4631289\ttotal: 8.07s\tremaining: 2m 36s\n",
      "49:\tlearn: 1744.5491064\ttotal: 8.18s\tremaining: 2m 35s\n",
      "50:\tlearn: 1742.2480228\ttotal: 8.33s\tremaining: 2m 34s\n",
      "51:\tlearn: 1739.9627523\ttotal: 8.49s\tremaining: 2m 34s\n",
      "52:\tlearn: 1737.8494675\ttotal: 8.66s\tremaining: 2m 34s\n",
      "53:\tlearn: 1735.8532737\ttotal: 8.81s\tremaining: 2m 34s\n",
      "54:\tlearn: 1734.0694910\ttotal: 8.94s\tremaining: 2m 33s\n",
      "55:\tlearn: 1732.2619238\ttotal: 9.13s\tremaining: 2m 33s\n",
      "56:\tlearn: 1731.0299310\ttotal: 9.29s\tremaining: 2m 33s\n",
      "57:\tlearn: 1728.3748022\ttotal: 9.47s\tremaining: 2m 33s\n",
      "58:\tlearn: 1726.8797767\ttotal: 9.63s\tremaining: 2m 33s\n",
      "59:\tlearn: 1726.3230702\ttotal: 9.82s\tremaining: 2m 33s\n",
      "60:\tlearn: 1724.8794437\ttotal: 9.95s\tremaining: 2m 33s\n",
      "61:\tlearn: 1723.6630062\ttotal: 10.1s\tremaining: 2m 33s\n",
      "62:\tlearn: 1721.9512065\ttotal: 10.3s\tremaining: 2m 33s\n",
      "63:\tlearn: 1720.1898809\ttotal: 10.5s\tremaining: 2m 33s\n",
      "64:\tlearn: 1717.8519192\ttotal: 10.7s\tremaining: 2m 34s\n",
      "65:\tlearn: 1716.4160795\ttotal: 10.9s\tremaining: 2m 33s\n",
      "66:\tlearn: 1715.1629832\ttotal: 11s\tremaining: 2m 33s\n",
      "67:\tlearn: 1714.5384320\ttotal: 11.2s\tremaining: 2m 33s\n",
      "68:\tlearn: 1712.4466970\ttotal: 11.4s\tremaining: 2m 33s\n",
      "69:\tlearn: 1710.3153065\ttotal: 11.5s\tremaining: 2m 33s\n",
      "70:\tlearn: 1709.2766405\ttotal: 11.7s\tremaining: 2m 33s\n",
      "71:\tlearn: 1707.6386555\ttotal: 11.9s\tremaining: 2m 33s\n",
      "72:\tlearn: 1706.5641433\ttotal: 12.1s\tremaining: 2m 33s\n",
      "73:\tlearn: 1704.7950392\ttotal: 12.2s\tremaining: 2m 33s\n",
      "74:\tlearn: 1703.7651913\ttotal: 12.4s\tremaining: 2m 32s\n",
      "75:\tlearn: 1701.8453592\ttotal: 12.5s\tremaining: 2m 32s\n",
      "76:\tlearn: 1701.2141454\ttotal: 12.7s\tremaining: 2m 32s\n",
      "77:\tlearn: 1699.6935153\ttotal: 12.9s\tremaining: 2m 32s\n",
      "78:\tlearn: 1697.4661655\ttotal: 13.1s\tremaining: 2m 32s\n",
      "79:\tlearn: 1695.6480356\ttotal: 13.3s\tremaining: 2m 32s\n",
      "80:\tlearn: 1694.2947082\ttotal: 13.5s\tremaining: 2m 32s\n",
      "81:\tlearn: 1692.6358678\ttotal: 13.6s\tremaining: 2m 32s\n",
      "82:\tlearn: 1691.9092067\ttotal: 13.8s\tremaining: 2m 32s\n",
      "83:\tlearn: 1691.4385211\ttotal: 14s\tremaining: 2m 32s\n",
      "84:\tlearn: 1689.3121259\ttotal: 14.1s\tremaining: 2m 31s\n",
      "85:\tlearn: 1687.6582121\ttotal: 14.3s\tremaining: 2m 31s\n",
      "86:\tlearn: 1686.6825533\ttotal: 14.4s\tremaining: 2m 31s\n",
      "87:\tlearn: 1685.3075629\ttotal: 14.6s\tremaining: 2m 31s\n",
      "88:\tlearn: 1683.7355803\ttotal: 14.8s\tremaining: 2m 31s\n",
      "89:\tlearn: 1683.1176854\ttotal: 14.9s\tremaining: 2m 30s\n",
      "90:\tlearn: 1681.7672252\ttotal: 15.1s\tremaining: 2m 30s\n",
      "91:\tlearn: 1680.7841875\ttotal: 15.2s\tremaining: 2m 30s\n",
      "92:\tlearn: 1679.4518748\ttotal: 15.4s\tremaining: 2m 30s\n",
      "93:\tlearn: 1678.1205706\ttotal: 15.6s\tremaining: 2m 30s\n",
      "94:\tlearn: 1677.4862074\ttotal: 15.8s\tremaining: 2m 30s\n",
      "95:\tlearn: 1676.1792725\ttotal: 16s\tremaining: 2m 30s\n",
      "96:\tlearn: 1674.8274414\ttotal: 16.1s\tremaining: 2m 30s\n",
      "97:\tlearn: 1673.8161817\ttotal: 16.3s\tremaining: 2m 29s\n",
      "98:\tlearn: 1673.1254031\ttotal: 16.4s\tremaining: 2m 29s\n",
      "99:\tlearn: 1672.2180067\ttotal: 16.6s\tremaining: 2m 29s\n",
      "100:\tlearn: 1671.0987616\ttotal: 16.8s\tremaining: 2m 29s\n",
      "101:\tlearn: 1670.2229478\ttotal: 17s\tremaining: 2m 29s\n",
      "102:\tlearn: 1669.3573031\ttotal: 17.1s\tremaining: 2m 28s\n",
      "103:\tlearn: 1668.3683565\ttotal: 17.3s\tremaining: 2m 29s\n",
      "104:\tlearn: 1666.8096202\ttotal: 17.5s\tremaining: 2m 29s\n",
      "105:\tlearn: 1665.5912710\ttotal: 17.7s\tremaining: 2m 29s\n",
      "106:\tlearn: 1664.4800767\ttotal: 17.9s\tremaining: 2m 29s\n",
      "107:\tlearn: 1663.5166337\ttotal: 18s\tremaining: 2m 28s\n",
      "108:\tlearn: 1662.3181669\ttotal: 18.2s\tremaining: 2m 28s\n",
      "109:\tlearn: 1661.9794090\ttotal: 18.4s\tremaining: 2m 28s\n",
      "110:\tlearn: 1661.0659736\ttotal: 18.5s\tremaining: 2m 28s\n",
      "111:\tlearn: 1660.7901319\ttotal: 18.7s\tremaining: 2m 27s\n",
      "112:\tlearn: 1660.3332234\ttotal: 18.8s\tremaining: 2m 27s\n",
      "113:\tlearn: 1659.7036837\ttotal: 18.9s\tremaining: 2m 27s\n",
      "114:\tlearn: 1659.0919855\ttotal: 19.1s\tremaining: 2m 27s\n",
      "115:\tlearn: 1657.8355305\ttotal: 19.3s\tremaining: 2m 26s\n",
      "116:\tlearn: 1656.3944561\ttotal: 19.5s\tremaining: 2m 26s\n",
      "117:\tlearn: 1655.5879417\ttotal: 19.6s\tremaining: 2m 26s\n",
      "118:\tlearn: 1654.9905573\ttotal: 19.8s\tremaining: 2m 26s\n",
      "119:\tlearn: 1654.8045008\ttotal: 20s\tremaining: 2m 26s\n",
      "120:\tlearn: 1653.6262647\ttotal: 20.1s\tremaining: 2m 26s\n",
      "121:\tlearn: 1652.4340684\ttotal: 20.3s\tremaining: 2m 26s\n",
      "122:\tlearn: 1651.6857509\ttotal: 20.5s\tremaining: 2m 26s\n",
      "123:\tlearn: 1650.9823811\ttotal: 20.7s\tremaining: 2m 26s\n",
      "124:\tlearn: 1650.4292858\ttotal: 20.9s\tremaining: 2m 26s\n",
      "125:\tlearn: 1649.7082808\ttotal: 21s\tremaining: 2m 25s\n",
      "126:\tlearn: 1649.2748882\ttotal: 21.2s\tremaining: 2m 25s\n",
      "127:\tlearn: 1648.4840383\ttotal: 21.4s\tremaining: 2m 25s\n",
      "128:\tlearn: 1648.1324962\ttotal: 21.6s\tremaining: 2m 25s\n",
      "129:\tlearn: 1647.5243805\ttotal: 21.8s\tremaining: 2m 25s\n",
      "130:\tlearn: 1646.5168513\ttotal: 22s\tremaining: 2m 25s\n",
      "131:\tlearn: 1646.4104187\ttotal: 22.1s\tremaining: 2m 25s\n"
     ]
    },
    {
     "name": "stdout",
     "output_type": "stream",
     "text": [
      "132:\tlearn: 1645.7843355\ttotal: 22.3s\tremaining: 2m 25s\n",
      "133:\tlearn: 1645.3817092\ttotal: 22.4s\tremaining: 2m 24s\n",
      "134:\tlearn: 1644.8008607\ttotal: 22.6s\tremaining: 2m 24s\n",
      "135:\tlearn: 1644.1304619\ttotal: 22.8s\tremaining: 2m 24s\n",
      "136:\tlearn: 1643.4503485\ttotal: 22.9s\tremaining: 2m 24s\n",
      "137:\tlearn: 1642.8599079\ttotal: 23.1s\tremaining: 2m 24s\n",
      "138:\tlearn: 1642.6731342\ttotal: 23.2s\tremaining: 2m 23s\n",
      "139:\tlearn: 1641.4847314\ttotal: 23.4s\tremaining: 2m 23s\n",
      "140:\tlearn: 1640.3721883\ttotal: 23.5s\tremaining: 2m 23s\n",
      "141:\tlearn: 1640.1694519\ttotal: 23.6s\tremaining: 2m 22s\n",
      "142:\tlearn: 1639.2789711\ttotal: 23.7s\tremaining: 2m 22s\n",
      "143:\tlearn: 1638.9461507\ttotal: 23.9s\tremaining: 2m 22s\n",
      "144:\tlearn: 1638.5579958\ttotal: 24.1s\tremaining: 2m 21s\n",
      "145:\tlearn: 1638.0584395\ttotal: 24.2s\tremaining: 2m 21s\n",
      "146:\tlearn: 1637.8907914\ttotal: 24.4s\tremaining: 2m 21s\n",
      "147:\tlearn: 1637.4367672\ttotal: 24.5s\tremaining: 2m 21s\n",
      "148:\tlearn: 1637.2079336\ttotal: 24.7s\tremaining: 2m 21s\n",
      "149:\tlearn: 1636.5576920\ttotal: 24.8s\tremaining: 2m 20s\n",
      "150:\tlearn: 1635.3655238\ttotal: 25s\tremaining: 2m 20s\n",
      "151:\tlearn: 1634.3322815\ttotal: 25.2s\tremaining: 2m 20s\n",
      "152:\tlearn: 1633.4600254\ttotal: 25.4s\tremaining: 2m 20s\n",
      "153:\tlearn: 1632.9251404\ttotal: 25.6s\tremaining: 2m 20s\n",
      "154:\tlearn: 1632.1667429\ttotal: 25.8s\tremaining: 2m 20s\n",
      "155:\tlearn: 1631.6092019\ttotal: 25.9s\tremaining: 2m 20s\n",
      "156:\tlearn: 1631.0535806\ttotal: 26.1s\tremaining: 2m 20s\n",
      "157:\tlearn: 1630.4196844\ttotal: 26.3s\tremaining: 2m 20s\n",
      "158:\tlearn: 1629.6619262\ttotal: 26.4s\tremaining: 2m 19s\n",
      "159:\tlearn: 1629.4254216\ttotal: 26.6s\tremaining: 2m 19s\n",
      "160:\tlearn: 1629.1127642\ttotal: 26.8s\tremaining: 2m 19s\n",
      "161:\tlearn: 1629.0087597\ttotal: 26.9s\tremaining: 2m 19s\n",
      "162:\tlearn: 1628.7511910\ttotal: 27s\tremaining: 2m 18s\n",
      "163:\tlearn: 1628.0915003\ttotal: 27.2s\tremaining: 2m 18s\n",
      "164:\tlearn: 1626.9674606\ttotal: 27.4s\tremaining: 2m 18s\n",
      "165:\tlearn: 1625.9866521\ttotal: 27.5s\tremaining: 2m 18s\n",
      "166:\tlearn: 1625.0769832\ttotal: 27.7s\tremaining: 2m 18s\n",
      "167:\tlearn: 1624.2211320\ttotal: 27.9s\tremaining: 2m 17s\n",
      "168:\tlearn: 1623.7829142\ttotal: 28.1s\tremaining: 2m 17s\n",
      "169:\tlearn: 1623.0890993\ttotal: 28.2s\tremaining: 2m 17s\n",
      "170:\tlearn: 1622.5005447\ttotal: 28.3s\tremaining: 2m 17s\n",
      "171:\tlearn: 1622.2639619\ttotal: 28.5s\tremaining: 2m 17s\n",
      "172:\tlearn: 1621.9068297\ttotal: 28.7s\tremaining: 2m 17s\n",
      "173:\tlearn: 1621.5416973\ttotal: 28.8s\tremaining: 2m 16s\n",
      "174:\tlearn: 1620.8718004\ttotal: 29s\tremaining: 2m 16s\n",
      "175:\tlearn: 1620.3031894\ttotal: 29.2s\tremaining: 2m 16s\n",
      "176:\tlearn: 1620.1475586\ttotal: 29.4s\tremaining: 2m 16s\n",
      "177:\tlearn: 1619.5152141\ttotal: 29.6s\tremaining: 2m 16s\n",
      "178:\tlearn: 1618.1294885\ttotal: 29.7s\tremaining: 2m 16s\n",
      "179:\tlearn: 1617.5012389\ttotal: 29.9s\tremaining: 2m 16s\n",
      "180:\tlearn: 1617.3838020\ttotal: 30.1s\tremaining: 2m 16s\n",
      "181:\tlearn: 1617.1004698\ttotal: 30.3s\tremaining: 2m 15s\n",
      "182:\tlearn: 1616.7485418\ttotal: 30.4s\tremaining: 2m 15s\n",
      "183:\tlearn: 1615.9543388\ttotal: 30.6s\tremaining: 2m 15s\n",
      "184:\tlearn: 1615.5580576\ttotal: 30.8s\tremaining: 2m 15s\n",
      "185:\tlearn: 1614.8110805\ttotal: 30.9s\tremaining: 2m 15s\n",
      "186:\tlearn: 1614.1942025\ttotal: 31.1s\tremaining: 2m 15s\n",
      "187:\tlearn: 1613.9974372\ttotal: 31.3s\tremaining: 2m 15s\n",
      "188:\tlearn: 1613.9072307\ttotal: 31.5s\tremaining: 2m 15s\n",
      "189:\tlearn: 1613.2164653\ttotal: 31.6s\tremaining: 2m 14s\n",
      "190:\tlearn: 1613.0270613\ttotal: 31.8s\tremaining: 2m 14s\n",
      "191:\tlearn: 1612.4700474\ttotal: 32.1s\tremaining: 2m 15s\n",
      "192:\tlearn: 1612.1192722\ttotal: 32.2s\tremaining: 2m 14s\n",
      "193:\tlearn: 1611.4950789\ttotal: 32.4s\tremaining: 2m 14s\n",
      "194:\tlearn: 1611.3416699\ttotal: 32.5s\tremaining: 2m 14s\n",
      "195:\tlearn: 1610.5619052\ttotal: 32.6s\tremaining: 2m 13s\n",
      "196:\tlearn: 1610.2405638\ttotal: 32.7s\tremaining: 2m 13s\n",
      "197:\tlearn: 1609.6931896\ttotal: 32.9s\tremaining: 2m 13s\n",
      "198:\tlearn: 1608.5975825\ttotal: 33s\tremaining: 2m 12s\n",
      "199:\tlearn: 1608.0373024\ttotal: 33.2s\tremaining: 2m 12s\n",
      "200:\tlearn: 1607.5341110\ttotal: 33.4s\tremaining: 2m 12s\n",
      "201:\tlearn: 1606.5393931\ttotal: 33.5s\tremaining: 2m 12s\n",
      "202:\tlearn: 1605.4523597\ttotal: 33.6s\tremaining: 2m 12s\n",
      "203:\tlearn: 1604.3744342\ttotal: 33.8s\tremaining: 2m 12s\n",
      "204:\tlearn: 1603.6582445\ttotal: 34s\tremaining: 2m 11s\n",
      "205:\tlearn: 1603.2680917\ttotal: 34.2s\tremaining: 2m 11s\n",
      "206:\tlearn: 1603.1365905\ttotal: 34.3s\tremaining: 2m 11s\n",
      "207:\tlearn: 1602.5664388\ttotal: 34.5s\tremaining: 2m 11s\n",
      "208:\tlearn: 1601.8411576\ttotal: 34.7s\tremaining: 2m 11s\n",
      "209:\tlearn: 1601.2461287\ttotal: 34.9s\tremaining: 2m 11s\n",
      "210:\tlearn: 1601.1062835\ttotal: 35s\tremaining: 2m 10s\n",
      "211:\tlearn: 1600.4499761\ttotal: 35.2s\tremaining: 2m 10s\n",
      "212:\tlearn: 1599.8667495\ttotal: 35.3s\tremaining: 2m 10s\n",
      "213:\tlearn: 1599.4350019\ttotal: 35.5s\tremaining: 2m 10s\n",
      "214:\tlearn: 1598.5339619\ttotal: 35.6s\tremaining: 2m 10s\n",
      "215:\tlearn: 1597.7527621\ttotal: 35.8s\tremaining: 2m 10s\n",
      "216:\tlearn: 1597.4595490\ttotal: 36s\tremaining: 2m 9s\n",
      "217:\tlearn: 1596.8678714\ttotal: 36.2s\tremaining: 2m 9s\n",
      "218:\tlearn: 1596.2422048\ttotal: 36.3s\tremaining: 2m 9s\n",
      "219:\tlearn: 1595.6114311\ttotal: 36.5s\tremaining: 2m 9s\n",
      "220:\tlearn: 1595.2953179\ttotal: 36.7s\tremaining: 2m 9s\n",
      "221:\tlearn: 1595.0335110\ttotal: 36.9s\tremaining: 2m 9s\n",
      "222:\tlearn: 1594.8261391\ttotal: 37s\tremaining: 2m 8s\n",
      "223:\tlearn: 1594.7986285\ttotal: 37.1s\tremaining: 2m 8s\n",
      "224:\tlearn: 1594.2939063\ttotal: 37.3s\tremaining: 2m 8s\n",
      "225:\tlearn: 1593.5649069\ttotal: 37.5s\tremaining: 2m 8s\n",
      "226:\tlearn: 1593.3118059\ttotal: 37.7s\tremaining: 2m 8s\n",
      "227:\tlearn: 1592.7419920\ttotal: 37.9s\tremaining: 2m 8s\n",
      "228:\tlearn: 1592.1678653\ttotal: 38s\tremaining: 2m 8s\n",
      "229:\tlearn: 1591.9047272\ttotal: 38.2s\tremaining: 2m 7s\n",
      "230:\tlearn: 1591.2007925\ttotal: 38.4s\tremaining: 2m 7s\n",
      "231:\tlearn: 1590.9225113\ttotal: 38.6s\tremaining: 2m 7s\n",
      "232:\tlearn: 1590.4199208\ttotal: 38.8s\tremaining: 2m 7s\n",
      "233:\tlearn: 1590.2634376\ttotal: 38.9s\tremaining: 2m 7s\n",
      "234:\tlearn: 1590.0263945\ttotal: 39.1s\tremaining: 2m 7s\n",
      "235:\tlearn: 1589.3071497\ttotal: 39.3s\tremaining: 2m 7s\n",
      "236:\tlearn: 1588.6592075\ttotal: 39.4s\tremaining: 2m 6s\n",
      "237:\tlearn: 1588.3897323\ttotal: 39.6s\tremaining: 2m 6s\n",
      "238:\tlearn: 1587.9736800\ttotal: 39.8s\tremaining: 2m 6s\n",
      "239:\tlearn: 1587.4861414\ttotal: 39.9s\tremaining: 2m 6s\n",
      "240:\tlearn: 1586.8272672\ttotal: 40.1s\tremaining: 2m 6s\n",
      "241:\tlearn: 1586.2344360\ttotal: 40.3s\tremaining: 2m 6s\n",
      "242:\tlearn: 1585.8370341\ttotal: 40.4s\tremaining: 2m 5s\n",
      "243:\tlearn: 1585.3601328\ttotal: 40.6s\tremaining: 2m 5s\n",
      "244:\tlearn: 1585.0262127\ttotal: 40.8s\tremaining: 2m 5s\n",
      "245:\tlearn: 1584.8188028\ttotal: 40.9s\tremaining: 2m 5s\n",
      "246:\tlearn: 1584.7743349\ttotal: 41.1s\tremaining: 2m 5s\n",
      "247:\tlearn: 1584.3018445\ttotal: 41.3s\tremaining: 2m 5s\n",
      "248:\tlearn: 1583.8744465\ttotal: 41.4s\tremaining: 2m 4s\n",
      "249:\tlearn: 1583.5728562\ttotal: 41.6s\tremaining: 2m 4s\n",
      "250:\tlearn: 1583.2653199\ttotal: 41.7s\tremaining: 2m 4s\n",
      "251:\tlearn: 1582.9588773\ttotal: 41.9s\tremaining: 2m 4s\n",
      "252:\tlearn: 1582.7742513\ttotal: 42.1s\tremaining: 2m 4s\n",
      "253:\tlearn: 1582.6951783\ttotal: 42.2s\tremaining: 2m 4s\n",
      "254:\tlearn: 1582.3175577\ttotal: 42.4s\tremaining: 2m 3s\n",
      "255:\tlearn: 1581.9830959\ttotal: 42.6s\tremaining: 2m 3s\n",
      "256:\tlearn: 1581.2287214\ttotal: 42.7s\tremaining: 2m 3s\n",
      "257:\tlearn: 1580.6854424\ttotal: 42.9s\tremaining: 2m 3s\n",
      "258:\tlearn: 1580.4576960\ttotal: 43.1s\tremaining: 2m 3s\n",
      "259:\tlearn: 1580.1921558\ttotal: 43.3s\tremaining: 2m 3s\n",
      "260:\tlearn: 1579.5184351\ttotal: 43.5s\tremaining: 2m 3s\n",
      "261:\tlearn: 1578.8823793\ttotal: 43.7s\tremaining: 2m 2s\n",
      "262:\tlearn: 1578.0971917\ttotal: 43.8s\tremaining: 2m 2s\n",
      "263:\tlearn: 1577.3484204\ttotal: 44s\tremaining: 2m 2s\n",
      "264:\tlearn: 1577.0987272\ttotal: 44.1s\tremaining: 2m 2s\n",
      "265:\tlearn: 1576.7159157\ttotal: 44.2s\tremaining: 2m 2s\n",
      "266:\tlearn: 1576.2998568\ttotal: 44.4s\tremaining: 2m 1s\n",
      "267:\tlearn: 1576.2685834\ttotal: 44.5s\tremaining: 2m 1s\n",
      "268:\tlearn: 1576.1020806\ttotal: 44.7s\tremaining: 2m 1s\n",
      "269:\tlearn: 1575.9975351\ttotal: 44.8s\tremaining: 2m 1s\n",
      "270:\tlearn: 1575.3648413\ttotal: 45s\tremaining: 2m\n",
      "271:\tlearn: 1574.8376317\ttotal: 45.1s\tremaining: 2m\n",
      "272:\tlearn: 1574.0982945\ttotal: 45.3s\tremaining: 2m\n",
      "273:\tlearn: 1573.4115882\ttotal: 45.4s\tremaining: 2m\n",
      "274:\tlearn: 1573.2652378\ttotal: 45.5s\tremaining: 2m\n",
      "275:\tlearn: 1573.0097597\ttotal: 45.7s\tremaining: 1m 59s\n",
      "276:\tlearn: 1572.6830666\ttotal: 45.8s\tremaining: 1m 59s\n",
      "277:\tlearn: 1572.2740236\ttotal: 45.9s\tremaining: 1m 59s\n",
      "278:\tlearn: 1571.6200739\ttotal: 46.1s\tremaining: 1m 59s\n",
      "279:\tlearn: 1571.0952016\ttotal: 46.2s\tremaining: 1m 58s\n",
      "280:\tlearn: 1570.9643793\ttotal: 46.4s\tremaining: 1m 58s\n",
      "281:\tlearn: 1570.2879226\ttotal: 46.6s\tremaining: 1m 58s\n"
     ]
    },
    {
     "name": "stdout",
     "output_type": "stream",
     "text": [
      "282:\tlearn: 1569.9481635\ttotal: 46.7s\tremaining: 1m 58s\n",
      "283:\tlearn: 1569.7855662\ttotal: 46.9s\tremaining: 1m 58s\n",
      "284:\tlearn: 1569.3624194\ttotal: 47.1s\tremaining: 1m 58s\n",
      "285:\tlearn: 1568.7833928\ttotal: 47.3s\tremaining: 1m 57s\n",
      "286:\tlearn: 1568.2655174\ttotal: 47.5s\tremaining: 1m 57s\n",
      "287:\tlearn: 1568.0722347\ttotal: 47.7s\tremaining: 1m 57s\n",
      "288:\tlearn: 1568.0194935\ttotal: 47.8s\tremaining: 1m 57s\n",
      "289:\tlearn: 1567.8523010\ttotal: 47.9s\tremaining: 1m 57s\n",
      "290:\tlearn: 1567.7799104\ttotal: 48.1s\tremaining: 1m 57s\n",
      "291:\tlearn: 1567.4716228\ttotal: 48.3s\tremaining: 1m 57s\n",
      "292:\tlearn: 1567.2641783\ttotal: 48.5s\tremaining: 1m 56s\n",
      "293:\tlearn: 1566.6933617\ttotal: 48.7s\tremaining: 1m 56s\n",
      "294:\tlearn: 1565.9633219\ttotal: 48.8s\tremaining: 1m 56s\n",
      "295:\tlearn: 1565.7592882\ttotal: 49s\tremaining: 1m 56s\n",
      "296:\tlearn: 1565.4803386\ttotal: 49.1s\tremaining: 1m 56s\n",
      "297:\tlearn: 1564.7311683\ttotal: 49.3s\tremaining: 1m 56s\n",
      "298:\tlearn: 1564.6673357\ttotal: 49.4s\tremaining: 1m 55s\n",
      "299:\tlearn: 1564.3801676\ttotal: 49.6s\tremaining: 1m 55s\n",
      "300:\tlearn: 1563.9384286\ttotal: 49.7s\tremaining: 1m 55s\n",
      "301:\tlearn: 1563.6228387\ttotal: 49.9s\tremaining: 1m 55s\n",
      "302:\tlearn: 1563.5542580\ttotal: 50.1s\tremaining: 1m 55s\n",
      "303:\tlearn: 1563.2651260\ttotal: 50.2s\tremaining: 1m 54s\n",
      "304:\tlearn: 1563.0080939\ttotal: 50.4s\tremaining: 1m 54s\n",
      "305:\tlearn: 1562.8718288\ttotal: 50.5s\tremaining: 1m 54s\n",
      "306:\tlearn: 1562.7802680\ttotal: 50.7s\tremaining: 1m 54s\n",
      "307:\tlearn: 1562.2968220\ttotal: 50.8s\tremaining: 1m 54s\n",
      "308:\tlearn: 1562.1068677\ttotal: 51s\tremaining: 1m 54s\n",
      "309:\tlearn: 1561.4299668\ttotal: 51.2s\tremaining: 1m 53s\n",
      "310:\tlearn: 1561.3182506\ttotal: 51.3s\tremaining: 1m 53s\n",
      "311:\tlearn: 1560.9548363\ttotal: 51.5s\tremaining: 1m 53s\n",
      "312:\tlearn: 1560.6457882\ttotal: 51.7s\tremaining: 1m 53s\n",
      "313:\tlearn: 1560.3326631\ttotal: 51.8s\tremaining: 1m 53s\n",
      "314:\tlearn: 1560.1500048\ttotal: 52s\tremaining: 1m 53s\n",
      "315:\tlearn: 1559.7991892\ttotal: 52.1s\tremaining: 1m 52s\n",
      "316:\tlearn: 1559.6750976\ttotal: 52.3s\tremaining: 1m 52s\n",
      "317:\tlearn: 1559.4397402\ttotal: 52.4s\tremaining: 1m 52s\n",
      "318:\tlearn: 1559.2914964\ttotal: 52.6s\tremaining: 1m 52s\n",
      "319:\tlearn: 1558.8852755\ttotal: 52.8s\tremaining: 1m 52s\n",
      "320:\tlearn: 1558.3154602\ttotal: 53s\tremaining: 1m 52s\n",
      "321:\tlearn: 1558.0825460\ttotal: 53.1s\tremaining: 1m 51s\n",
      "322:\tlearn: 1558.0548038\ttotal: 53.3s\tremaining: 1m 51s\n",
      "323:\tlearn: 1557.4611994\ttotal: 53.4s\tremaining: 1m 51s\n",
      "324:\tlearn: 1557.4331161\ttotal: 53.5s\tremaining: 1m 51s\n",
      "325:\tlearn: 1557.3087554\ttotal: 53.7s\tremaining: 1m 51s\n",
      "326:\tlearn: 1557.2286661\ttotal: 53.8s\tremaining: 1m 50s\n",
      "327:\tlearn: 1557.1358653\ttotal: 54s\tremaining: 1m 50s\n",
      "328:\tlearn: 1556.8789680\ttotal: 54.1s\tremaining: 1m 50s\n",
      "329:\tlearn: 1556.8341456\ttotal: 54.3s\tremaining: 1m 50s\n",
      "330:\tlearn: 1556.5622487\ttotal: 54.5s\tremaining: 1m 50s\n",
      "331:\tlearn: 1556.5024292\ttotal: 54.6s\tremaining: 1m 49s\n",
      "332:\tlearn: 1556.3730697\ttotal: 54.8s\tremaining: 1m 49s\n",
      "333:\tlearn: 1556.2491586\ttotal: 55s\tremaining: 1m 49s\n",
      "334:\tlearn: 1555.6842605\ttotal: 55.2s\tremaining: 1m 49s\n",
      "335:\tlearn: 1555.4044137\ttotal: 55.3s\tremaining: 1m 49s\n",
      "336:\tlearn: 1555.1086516\ttotal: 55.5s\tremaining: 1m 49s\n",
      "337:\tlearn: 1554.8727634\ttotal: 55.7s\tremaining: 1m 49s\n",
      "338:\tlearn: 1554.5805926\ttotal: 55.8s\tremaining: 1m 48s\n",
      "339:\tlearn: 1554.3790913\ttotal: 56s\tremaining: 1m 48s\n",
      "340:\tlearn: 1554.0871805\ttotal: 56.1s\tremaining: 1m 48s\n",
      "341:\tlearn: 1553.3683306\ttotal: 56.2s\tremaining: 1m 48s\n",
      "342:\tlearn: 1553.1904523\ttotal: 56.4s\tremaining: 1m 48s\n",
      "343:\tlearn: 1552.9163770\ttotal: 56.5s\tremaining: 1m 47s\n",
      "344:\tlearn: 1552.7345119\ttotal: 56.7s\tremaining: 1m 47s\n",
      "345:\tlearn: 1552.6909689\ttotal: 56.9s\tremaining: 1m 47s\n",
      "346:\tlearn: 1552.0254992\ttotal: 57s\tremaining: 1m 47s\n",
      "347:\tlearn: 1551.6603610\ttotal: 57.2s\tremaining: 1m 47s\n",
      "348:\tlearn: 1551.2291116\ttotal: 57.3s\tremaining: 1m 46s\n",
      "349:\tlearn: 1551.1606607\ttotal: 57.5s\tremaining: 1m 46s\n",
      "350:\tlearn: 1550.7917321\ttotal: 57.7s\tremaining: 1m 46s\n",
      "351:\tlearn: 1550.5849095\ttotal: 57.9s\tremaining: 1m 46s\n",
      "352:\tlearn: 1550.3112159\ttotal: 58s\tremaining: 1m 46s\n",
      "353:\tlearn: 1550.1283057\ttotal: 58.2s\tremaining: 1m 46s\n",
      "354:\tlearn: 1549.6824542\ttotal: 58.4s\tremaining: 1m 46s\n",
      "355:\tlearn: 1549.5405794\ttotal: 58.6s\tremaining: 1m 46s\n",
      "356:\tlearn: 1549.0703008\ttotal: 58.8s\tremaining: 1m 45s\n",
      "357:\tlearn: 1548.8240481\ttotal: 59s\tremaining: 1m 45s\n",
      "358:\tlearn: 1548.5685482\ttotal: 59.2s\tremaining: 1m 45s\n",
      "359:\tlearn: 1548.3222401\ttotal: 59.4s\tremaining: 1m 45s\n",
      "360:\tlearn: 1548.2767901\ttotal: 59.6s\tremaining: 1m 45s\n",
      "361:\tlearn: 1548.1743248\ttotal: 59.7s\tremaining: 1m 45s\n",
      "362:\tlearn: 1548.0866084\ttotal: 59.8s\tremaining: 1m 44s\n",
      "363:\tlearn: 1547.7433272\ttotal: 59.9s\tremaining: 1m 44s\n",
      "364:\tlearn: 1547.3071476\ttotal: 1m\tremaining: 1m 44s\n",
      "365:\tlearn: 1546.8630513\ttotal: 1m\tremaining: 1m 44s\n",
      "366:\tlearn: 1546.6356296\ttotal: 1m\tremaining: 1m 44s\n",
      "367:\tlearn: 1546.4807420\ttotal: 1m\tremaining: 1m 44s\n",
      "368:\tlearn: 1546.2860310\ttotal: 1m\tremaining: 1m 43s\n",
      "369:\tlearn: 1546.0790465\ttotal: 1m\tremaining: 1m 43s\n",
      "370:\tlearn: 1545.7959563\ttotal: 1m 1s\tremaining: 1m 43s\n",
      "371:\tlearn: 1545.1577581\ttotal: 1m 1s\tremaining: 1m 43s\n",
      "372:\tlearn: 1544.9568752\ttotal: 1m 1s\tremaining: 1m 43s\n",
      "373:\tlearn: 1544.7357353\ttotal: 1m 1s\tremaining: 1m 43s\n",
      "374:\tlearn: 1544.3639340\ttotal: 1m 1s\tremaining: 1m 43s\n",
      "375:\tlearn: 1544.2704231\ttotal: 1m 1s\tremaining: 1m 42s\n",
      "376:\tlearn: 1544.2702378\ttotal: 1m 2s\tremaining: 1m 42s\n",
      "377:\tlearn: 1544.2113557\ttotal: 1m 2s\tremaining: 1m 42s\n",
      "378:\tlearn: 1544.1471300\ttotal: 1m 2s\tremaining: 1m 42s\n",
      "379:\tlearn: 1544.0815039\ttotal: 1m 2s\tremaining: 1m 42s\n",
      "380:\tlearn: 1543.9622842\ttotal: 1m 2s\tremaining: 1m 41s\n",
      "381:\tlearn: 1543.6068196\ttotal: 1m 2s\tremaining: 1m 41s\n",
      "382:\tlearn: 1543.4045436\ttotal: 1m 3s\tremaining: 1m 41s\n",
      "383:\tlearn: 1543.2572028\ttotal: 1m 3s\tremaining: 1m 41s\n",
      "384:\tlearn: 1542.9843821\ttotal: 1m 3s\tremaining: 1m 41s\n",
      "385:\tlearn: 1542.8163591\ttotal: 1m 3s\tremaining: 1m 41s\n",
      "386:\tlearn: 1542.7822434\ttotal: 1m 3s\tremaining: 1m 40s\n",
      "387:\tlearn: 1542.6274051\ttotal: 1m 3s\tremaining: 1m 40s\n",
      "388:\tlearn: 1542.4740454\ttotal: 1m 3s\tremaining: 1m 40s\n",
      "389:\tlearn: 1542.0951328\ttotal: 1m 4s\tremaining: 1m 40s\n",
      "390:\tlearn: 1541.6540976\ttotal: 1m 4s\tremaining: 1m 40s\n",
      "391:\tlearn: 1541.1428758\ttotal: 1m 4s\tremaining: 1m 39s\n",
      "392:\tlearn: 1540.9549716\ttotal: 1m 4s\tremaining: 1m 39s\n",
      "393:\tlearn: 1540.8331115\ttotal: 1m 4s\tremaining: 1m 39s\n",
      "394:\tlearn: 1540.2596351\ttotal: 1m 4s\tremaining: 1m 39s\n",
      "395:\tlearn: 1539.9637330\ttotal: 1m 5s\tremaining: 1m 39s\n",
      "396:\tlearn: 1539.4250399\ttotal: 1m 5s\tremaining: 1m 39s\n",
      "397:\tlearn: 1539.2906558\ttotal: 1m 5s\tremaining: 1m 39s\n",
      "398:\tlearn: 1538.9062804\ttotal: 1m 5s\tremaining: 1m 38s\n",
      "399:\tlearn: 1538.8858942\ttotal: 1m 5s\tremaining: 1m 38s\n",
      "400:\tlearn: 1538.4561748\ttotal: 1m 5s\tremaining: 1m 38s\n",
      "401:\tlearn: 1538.2639857\ttotal: 1m 6s\tremaining: 1m 38s\n",
      "402:\tlearn: 1537.9155271\ttotal: 1m 6s\tremaining: 1m 38s\n",
      "403:\tlearn: 1537.7871908\ttotal: 1m 6s\tremaining: 1m 38s\n",
      "404:\tlearn: 1537.3965658\ttotal: 1m 6s\tremaining: 1m 37s\n",
      "405:\tlearn: 1537.2605943\ttotal: 1m 6s\tremaining: 1m 37s\n",
      "406:\tlearn: 1537.2310039\ttotal: 1m 6s\tremaining: 1m 37s\n",
      "407:\tlearn: 1537.2192352\ttotal: 1m 7s\tremaining: 1m 37s\n",
      "408:\tlearn: 1537.0496031\ttotal: 1m 7s\tremaining: 1m 37s\n",
      "409:\tlearn: 1536.8311854\ttotal: 1m 7s\tremaining: 1m 36s\n",
      "410:\tlearn: 1536.7597093\ttotal: 1m 7s\tremaining: 1m 36s\n",
      "411:\tlearn: 1536.6800631\ttotal: 1m 7s\tremaining: 1m 36s\n",
      "412:\tlearn: 1536.5694345\ttotal: 1m 7s\tremaining: 1m 36s\n",
      "413:\tlearn: 1536.4689073\ttotal: 1m 7s\tremaining: 1m 36s\n",
      "414:\tlearn: 1536.2055017\ttotal: 1m 8s\tremaining: 1m 36s\n",
      "415:\tlearn: 1535.8757283\ttotal: 1m 8s\tremaining: 1m 35s\n",
      "416:\tlearn: 1535.5797754\ttotal: 1m 8s\tremaining: 1m 35s\n",
      "417:\tlearn: 1535.3146558\ttotal: 1m 8s\tremaining: 1m 35s\n",
      "418:\tlearn: 1535.2977785\ttotal: 1m 8s\tremaining: 1m 35s\n",
      "419:\tlearn: 1535.1235476\ttotal: 1m 8s\tremaining: 1m 35s\n",
      "420:\tlearn: 1534.9186449\ttotal: 1m 9s\tremaining: 1m 34s\n",
      "421:\tlearn: 1534.7188402\ttotal: 1m 9s\tremaining: 1m 34s\n",
      "422:\tlearn: 1534.5946357\ttotal: 1m 9s\tremaining: 1m 34s\n",
      "423:\tlearn: 1534.5698379\ttotal: 1m 9s\tremaining: 1m 34s\n",
      "424:\tlearn: 1534.4072883\ttotal: 1m 9s\tremaining: 1m 34s\n",
      "425:\tlearn: 1534.2240365\ttotal: 1m 9s\tremaining: 1m 34s\n",
      "426:\tlearn: 1534.1844499\ttotal: 1m 9s\tremaining: 1m 33s\n",
      "427:\tlearn: 1534.0508544\ttotal: 1m 10s\tremaining: 1m 33s\n",
      "428:\tlearn: 1533.6723143\ttotal: 1m 10s\tremaining: 1m 33s\n"
     ]
    },
    {
     "name": "stdout",
     "output_type": "stream",
     "text": [
      "429:\tlearn: 1533.5268094\ttotal: 1m 10s\tremaining: 1m 33s\n",
      "430:\tlearn: 1533.0951624\ttotal: 1m 10s\tremaining: 1m 33s\n",
      "431:\tlearn: 1532.8440714\ttotal: 1m 10s\tremaining: 1m 33s\n",
      "432:\tlearn: 1532.5486328\ttotal: 1m 11s\tremaining: 1m 33s\n",
      "433:\tlearn: 1532.2119816\ttotal: 1m 11s\tremaining: 1m 32s\n",
      "434:\tlearn: 1532.0214766\ttotal: 1m 11s\tremaining: 1m 32s\n",
      "435:\tlearn: 1531.7348720\ttotal: 1m 11s\tremaining: 1m 32s\n",
      "436:\tlearn: 1531.5449879\ttotal: 1m 11s\tremaining: 1m 32s\n",
      "437:\tlearn: 1531.3839527\ttotal: 1m 11s\tremaining: 1m 32s\n",
      "438:\tlearn: 1531.1740262\ttotal: 1m 11s\tremaining: 1m 31s\n",
      "439:\tlearn: 1530.8531698\ttotal: 1m 12s\tremaining: 1m 31s\n",
      "440:\tlearn: 1530.7253767\ttotal: 1m 12s\tremaining: 1m 31s\n",
      "441:\tlearn: 1530.5686928\ttotal: 1m 12s\tremaining: 1m 31s\n",
      "442:\tlearn: 1530.4476533\ttotal: 1m 12s\tremaining: 1m 31s\n",
      "443:\tlearn: 1530.2899033\ttotal: 1m 12s\tremaining: 1m 31s\n",
      "444:\tlearn: 1530.2308105\ttotal: 1m 13s\tremaining: 1m 31s\n",
      "445:\tlearn: 1530.1954296\ttotal: 1m 13s\tremaining: 1m 30s\n",
      "446:\tlearn: 1530.0193279\ttotal: 1m 13s\tremaining: 1m 30s\n",
      "447:\tlearn: 1529.9858756\ttotal: 1m 13s\tremaining: 1m 30s\n",
      "448:\tlearn: 1529.7754110\ttotal: 1m 13s\tremaining: 1m 30s\n",
      "449:\tlearn: 1529.3507065\ttotal: 1m 13s\tremaining: 1m 30s\n",
      "450:\tlearn: 1529.2218587\ttotal: 1m 14s\tremaining: 1m 30s\n",
      "451:\tlearn: 1528.7701558\ttotal: 1m 14s\tremaining: 1m 29s\n",
      "452:\tlearn: 1528.4970233\ttotal: 1m 14s\tremaining: 1m 29s\n",
      "453:\tlearn: 1528.0168580\ttotal: 1m 14s\tremaining: 1m 29s\n",
      "454:\tlearn: 1527.6650767\ttotal: 1m 14s\tremaining: 1m 29s\n",
      "455:\tlearn: 1527.3940212\ttotal: 1m 14s\tremaining: 1m 29s\n",
      "456:\tlearn: 1527.0613751\ttotal: 1m 14s\tremaining: 1m 28s\n",
      "457:\tlearn: 1526.9230895\ttotal: 1m 15s\tremaining: 1m 28s\n",
      "458:\tlearn: 1526.5391120\ttotal: 1m 15s\tremaining: 1m 28s\n",
      "459:\tlearn: 1526.4653865\ttotal: 1m 15s\tremaining: 1m 28s\n",
      "460:\tlearn: 1526.3317843\ttotal: 1m 15s\tremaining: 1m 28s\n",
      "461:\tlearn: 1526.2396243\ttotal: 1m 15s\tremaining: 1m 28s\n",
      "462:\tlearn: 1526.0741916\ttotal: 1m 15s\tremaining: 1m 27s\n",
      "463:\tlearn: 1525.7832531\ttotal: 1m 15s\tremaining: 1m 27s\n",
      "464:\tlearn: 1525.4140484\ttotal: 1m 16s\tremaining: 1m 27s\n",
      "465:\tlearn: 1525.1442792\ttotal: 1m 16s\tremaining: 1m 27s\n",
      "466:\tlearn: 1525.1135564\ttotal: 1m 16s\tremaining: 1m 27s\n",
      "467:\tlearn: 1524.8256850\ttotal: 1m 16s\tremaining: 1m 27s\n",
      "468:\tlearn: 1524.4852108\ttotal: 1m 16s\tremaining: 1m 26s\n",
      "469:\tlearn: 1524.3289558\ttotal: 1m 16s\tremaining: 1m 26s\n",
      "470:\tlearn: 1524.2284328\ttotal: 1m 17s\tremaining: 1m 26s\n",
      "471:\tlearn: 1524.1586195\ttotal: 1m 17s\tremaining: 1m 26s\n",
      "472:\tlearn: 1524.0888773\ttotal: 1m 17s\tremaining: 1m 26s\n",
      "473:\tlearn: 1524.0863964\ttotal: 1m 17s\tremaining: 1m 26s\n",
      "474:\tlearn: 1523.8520354\ttotal: 1m 17s\tremaining: 1m 25s\n",
      "475:\tlearn: 1523.5105365\ttotal: 1m 17s\tremaining: 1m 25s\n",
      "476:\tlearn: 1523.3083524\ttotal: 1m 18s\tremaining: 1m 25s\n",
      "477:\tlearn: 1523.1900403\ttotal: 1m 18s\tremaining: 1m 25s\n",
      "478:\tlearn: 1523.1359936\ttotal: 1m 18s\tremaining: 1m 25s\n",
      "479:\tlearn: 1522.7854601\ttotal: 1m 18s\tremaining: 1m 25s\n",
      "480:\tlearn: 1522.5792694\ttotal: 1m 18s\tremaining: 1m 24s\n",
      "481:\tlearn: 1522.5160774\ttotal: 1m 18s\tremaining: 1m 24s\n",
      "482:\tlearn: 1522.4852779\ttotal: 1m 19s\tremaining: 1m 24s\n",
      "483:\tlearn: 1522.4597759\ttotal: 1m 19s\tremaining: 1m 24s\n",
      "484:\tlearn: 1522.2250827\ttotal: 1m 19s\tremaining: 1m 24s\n",
      "485:\tlearn: 1522.1134615\ttotal: 1m 19s\tremaining: 1m 24s\n",
      "486:\tlearn: 1521.9840022\ttotal: 1m 19s\tremaining: 1m 23s\n",
      "487:\tlearn: 1521.7705396\ttotal: 1m 19s\tremaining: 1m 23s\n",
      "488:\tlearn: 1521.6926990\ttotal: 1m 20s\tremaining: 1m 23s\n",
      "489:\tlearn: 1521.6920308\ttotal: 1m 20s\tremaining: 1m 23s\n",
      "490:\tlearn: 1521.6048947\ttotal: 1m 20s\tremaining: 1m 23s\n",
      "491:\tlearn: 1521.4885866\ttotal: 1m 20s\tremaining: 1m 22s\n",
      "492:\tlearn: 1521.4367138\ttotal: 1m 20s\tremaining: 1m 22s\n",
      "493:\tlearn: 1521.3102385\ttotal: 1m 20s\tremaining: 1m 22s\n",
      "494:\tlearn: 1521.1643056\ttotal: 1m 20s\tremaining: 1m 22s\n",
      "495:\tlearn: 1521.0379884\ttotal: 1m 21s\tremaining: 1m 22s\n",
      "496:\tlearn: 1520.8068316\ttotal: 1m 21s\tremaining: 1m 22s\n",
      "497:\tlearn: 1520.3456473\ttotal: 1m 21s\tremaining: 1m 22s\n",
      "498:\tlearn: 1520.2926960\ttotal: 1m 21s\tremaining: 1m 21s\n",
      "499:\tlearn: 1520.1594425\ttotal: 1m 21s\tremaining: 1m 21s\n",
      "500:\tlearn: 1519.7471353\ttotal: 1m 21s\tremaining: 1m 21s\n",
      "501:\tlearn: 1519.5281985\ttotal: 1m 22s\tremaining: 1m 21s\n",
      "502:\tlearn: 1519.4961384\ttotal: 1m 22s\tremaining: 1m 21s\n",
      "503:\tlearn: 1519.3227686\ttotal: 1m 22s\tremaining: 1m 21s\n",
      "504:\tlearn: 1519.2767612\ttotal: 1m 22s\tremaining: 1m 20s\n",
      "505:\tlearn: 1519.0977242\ttotal: 1m 22s\tremaining: 1m 20s\n",
      "506:\tlearn: 1518.9247725\ttotal: 1m 22s\tremaining: 1m 20s\n",
      "507:\tlearn: 1518.5473346\ttotal: 1m 23s\tremaining: 1m 20s\n",
      "508:\tlearn: 1518.4955246\ttotal: 1m 23s\tremaining: 1m 20s\n",
      "509:\tlearn: 1518.3932496\ttotal: 1m 23s\tremaining: 1m 20s\n",
      "510:\tlearn: 1518.2451343\ttotal: 1m 23s\tremaining: 1m 19s\n",
      "511:\tlearn: 1517.9921568\ttotal: 1m 23s\tremaining: 1m 19s\n",
      "512:\tlearn: 1517.8548073\ttotal: 1m 23s\tremaining: 1m 19s\n",
      "513:\tlearn: 1517.5216789\ttotal: 1m 24s\tremaining: 1m 19s\n",
      "514:\tlearn: 1517.2730173\ttotal: 1m 24s\tremaining: 1m 19s\n",
      "515:\tlearn: 1517.0104996\ttotal: 1m 24s\tremaining: 1m 19s\n",
      "516:\tlearn: 1516.8381777\ttotal: 1m 24s\tremaining: 1m 19s\n",
      "517:\tlearn: 1516.7059774\ttotal: 1m 24s\tremaining: 1m 18s\n",
      "518:\tlearn: 1516.6744769\ttotal: 1m 24s\tremaining: 1m 18s\n",
      "519:\tlearn: 1516.6422013\ttotal: 1m 25s\tremaining: 1m 18s\n",
      "520:\tlearn: 1516.3894818\ttotal: 1m 25s\tremaining: 1m 18s\n",
      "521:\tlearn: 1516.3166740\ttotal: 1m 25s\tremaining: 1m 18s\n",
      "522:\tlearn: 1516.2110541\ttotal: 1m 25s\tremaining: 1m 18s\n",
      "523:\tlearn: 1516.1476595\ttotal: 1m 25s\tremaining: 1m 17s\n",
      "524:\tlearn: 1515.9759125\ttotal: 1m 26s\tremaining: 1m 17s\n",
      "525:\tlearn: 1515.6666449\ttotal: 1m 26s\tremaining: 1m 17s\n",
      "526:\tlearn: 1515.2597567\ttotal: 1m 26s\tremaining: 1m 17s\n",
      "527:\tlearn: 1514.9923663\ttotal: 1m 26s\tremaining: 1m 17s\n",
      "528:\tlearn: 1514.8009987\ttotal: 1m 26s\tremaining: 1m 17s\n",
      "529:\tlearn: 1514.5658535\ttotal: 1m 26s\tremaining: 1m 17s\n",
      "530:\tlearn: 1514.3039690\ttotal: 1m 27s\tremaining: 1m 16s\n",
      "531:\tlearn: 1513.9808479\ttotal: 1m 27s\tremaining: 1m 16s\n",
      "532:\tlearn: 1513.6573549\ttotal: 1m 27s\tremaining: 1m 16s\n",
      "533:\tlearn: 1513.3796750\ttotal: 1m 27s\tremaining: 1m 16s\n",
      "534:\tlearn: 1513.3387002\ttotal: 1m 27s\tremaining: 1m 16s\n",
      "535:\tlearn: 1513.1434304\ttotal: 1m 28s\tremaining: 1m 16s\n",
      "536:\tlearn: 1512.7210474\ttotal: 1m 28s\tremaining: 1m 16s\n",
      "537:\tlearn: 1512.6818327\ttotal: 1m 28s\tremaining: 1m 15s\n",
      "538:\tlearn: 1512.6581998\ttotal: 1m 28s\tremaining: 1m 15s\n",
      "539:\tlearn: 1512.3632042\ttotal: 1m 28s\tremaining: 1m 15s\n",
      "540:\tlearn: 1512.2829798\ttotal: 1m 28s\tremaining: 1m 15s\n",
      "541:\tlearn: 1511.9524110\ttotal: 1m 29s\tremaining: 1m 15s\n",
      "542:\tlearn: 1511.7423733\ttotal: 1m 29s\tremaining: 1m 15s\n",
      "543:\tlearn: 1511.4989150\ttotal: 1m 29s\tremaining: 1m 14s\n",
      "544:\tlearn: 1511.4052631\ttotal: 1m 29s\tremaining: 1m 14s\n",
      "545:\tlearn: 1511.2410790\ttotal: 1m 29s\tremaining: 1m 14s\n",
      "546:\tlearn: 1511.1776551\ttotal: 1m 29s\tremaining: 1m 14s\n",
      "547:\tlearn: 1511.1012772\ttotal: 1m 29s\tremaining: 1m 14s\n",
      "548:\tlearn: 1511.0288067\ttotal: 1m 30s\tremaining: 1m 13s\n",
      "549:\tlearn: 1510.8913257\ttotal: 1m 30s\tremaining: 1m 13s\n",
      "550:\tlearn: 1510.8171295\ttotal: 1m 30s\tremaining: 1m 13s\n",
      "551:\tlearn: 1510.6385372\ttotal: 1m 30s\tremaining: 1m 13s\n",
      "552:\tlearn: 1510.3716984\ttotal: 1m 30s\tremaining: 1m 13s\n",
      "553:\tlearn: 1510.1552638\ttotal: 1m 30s\tremaining: 1m 13s\n",
      "554:\tlearn: 1510.1126966\ttotal: 1m 31s\tremaining: 1m 13s\n",
      "555:\tlearn: 1509.8558602\ttotal: 1m 31s\tremaining: 1m 12s\n",
      "556:\tlearn: 1509.7994598\ttotal: 1m 31s\tremaining: 1m 12s\n",
      "557:\tlearn: 1509.5478934\ttotal: 1m 31s\tremaining: 1m 12s\n",
      "558:\tlearn: 1509.3903904\ttotal: 1m 31s\tremaining: 1m 12s\n",
      "559:\tlearn: 1509.3281714\ttotal: 1m 32s\tremaining: 1m 12s\n",
      "560:\tlearn: 1509.1656514\ttotal: 1m 32s\tremaining: 1m 12s\n",
      "561:\tlearn: 1508.8231952\ttotal: 1m 32s\tremaining: 1m 11s\n",
      "562:\tlearn: 1508.7723463\ttotal: 1m 32s\tremaining: 1m 11s\n",
      "563:\tlearn: 1508.7160096\ttotal: 1m 32s\tremaining: 1m 11s\n",
      "564:\tlearn: 1508.5213972\ttotal: 1m 32s\tremaining: 1m 11s\n",
      "565:\tlearn: 1508.3743097\ttotal: 1m 32s\tremaining: 1m 11s\n",
      "566:\tlearn: 1508.1169353\ttotal: 1m 33s\tremaining: 1m 11s\n",
      "567:\tlearn: 1508.0859268\ttotal: 1m 33s\tremaining: 1m 10s\n",
      "568:\tlearn: 1507.9005659\ttotal: 1m 33s\tremaining: 1m 10s\n",
      "569:\tlearn: 1507.8168065\ttotal: 1m 33s\tremaining: 1m 10s\n",
      "570:\tlearn: 1507.7862887\ttotal: 1m 33s\tremaining: 1m 10s\n",
      "571:\tlearn: 1507.7140783\ttotal: 1m 33s\tremaining: 1m 10s\n",
      "572:\tlearn: 1507.5046588\ttotal: 1m 34s\tremaining: 1m 10s\n",
      "573:\tlearn: 1507.3008085\ttotal: 1m 34s\tremaining: 1m 9s\n"
     ]
    },
    {
     "name": "stdout",
     "output_type": "stream",
     "text": [
      "574:\tlearn: 1507.2546151\ttotal: 1m 34s\tremaining: 1m 9s\n",
      "575:\tlearn: 1506.8953784\ttotal: 1m 34s\tremaining: 1m 9s\n",
      "576:\tlearn: 1506.8877036\ttotal: 1m 34s\tremaining: 1m 9s\n",
      "577:\tlearn: 1506.5752090\ttotal: 1m 34s\tremaining: 1m 9s\n",
      "578:\tlearn: 1506.4202702\ttotal: 1m 35s\tremaining: 1m 9s\n",
      "579:\tlearn: 1506.3358044\ttotal: 1m 35s\tremaining: 1m 8s\n",
      "580:\tlearn: 1506.2322133\ttotal: 1m 35s\tremaining: 1m 8s\n",
      "581:\tlearn: 1506.0675733\ttotal: 1m 35s\tremaining: 1m 8s\n",
      "582:\tlearn: 1505.7854165\ttotal: 1m 35s\tremaining: 1m 8s\n",
      "583:\tlearn: 1505.4478593\ttotal: 1m 35s\tremaining: 1m 8s\n",
      "584:\tlearn: 1505.4116744\ttotal: 1m 36s\tremaining: 1m 8s\n",
      "585:\tlearn: 1505.2177190\ttotal: 1m 36s\tremaining: 1m 7s\n",
      "586:\tlearn: 1505.1843269\ttotal: 1m 36s\tremaining: 1m 7s\n",
      "587:\tlearn: 1505.1458209\ttotal: 1m 36s\tremaining: 1m 7s\n",
      "588:\tlearn: 1505.0000352\ttotal: 1m 36s\tremaining: 1m 7s\n",
      "589:\tlearn: 1504.6232943\ttotal: 1m 36s\tremaining: 1m 7s\n",
      "590:\tlearn: 1504.3658161\ttotal: 1m 37s\tremaining: 1m 7s\n",
      "591:\tlearn: 1504.2584898\ttotal: 1m 37s\tremaining: 1m 7s\n",
      "592:\tlearn: 1503.8458919\ttotal: 1m 37s\tremaining: 1m 6s\n",
      "593:\tlearn: 1503.5306400\ttotal: 1m 37s\tremaining: 1m 6s\n",
      "594:\tlearn: 1503.4290249\ttotal: 1m 37s\tremaining: 1m 6s\n",
      "595:\tlearn: 1503.1412689\ttotal: 1m 37s\tremaining: 1m 6s\n",
      "596:\tlearn: 1503.1123232\ttotal: 1m 38s\tremaining: 1m 6s\n",
      "597:\tlearn: 1503.0452756\ttotal: 1m 38s\tremaining: 1m 6s\n",
      "598:\tlearn: 1503.0188539\ttotal: 1m 38s\tremaining: 1m 5s\n",
      "599:\tlearn: 1502.9182290\ttotal: 1m 38s\tremaining: 1m 5s\n",
      "600:\tlearn: 1502.8310258\ttotal: 1m 38s\tremaining: 1m 5s\n",
      "601:\tlearn: 1502.6600179\ttotal: 1m 38s\tremaining: 1m 5s\n",
      "602:\tlearn: 1502.3370841\ttotal: 1m 39s\tremaining: 1m 5s\n",
      "603:\tlearn: 1502.1465003\ttotal: 1m 39s\tremaining: 1m 5s\n",
      "604:\tlearn: 1502.0610677\ttotal: 1m 39s\tremaining: 1m 4s\n",
      "605:\tlearn: 1501.8442836\ttotal: 1m 39s\tremaining: 1m 4s\n",
      "606:\tlearn: 1501.5766274\ttotal: 1m 39s\tremaining: 1m 4s\n",
      "607:\tlearn: 1501.4625575\ttotal: 1m 39s\tremaining: 1m 4s\n",
      "608:\tlearn: 1501.3120018\ttotal: 1m 40s\tremaining: 1m 4s\n",
      "609:\tlearn: 1501.2835455\ttotal: 1m 40s\tremaining: 1m 4s\n",
      "610:\tlearn: 1501.0446387\ttotal: 1m 40s\tremaining: 1m 3s\n",
      "611:\tlearn: 1500.9850641\ttotal: 1m 40s\tremaining: 1m 3s\n",
      "612:\tlearn: 1500.9388569\ttotal: 1m 40s\tremaining: 1m 3s\n",
      "613:\tlearn: 1500.7547534\ttotal: 1m 40s\tremaining: 1m 3s\n",
      "614:\tlearn: 1500.7194621\ttotal: 1m 41s\tremaining: 1m 3s\n",
      "615:\tlearn: 1500.6188758\ttotal: 1m 41s\tremaining: 1m 3s\n",
      "616:\tlearn: 1500.5965653\ttotal: 1m 41s\tremaining: 1m 2s\n",
      "617:\tlearn: 1500.3608832\ttotal: 1m 41s\tremaining: 1m 2s\n",
      "618:\tlearn: 1500.2697499\ttotal: 1m 41s\tremaining: 1m 2s\n",
      "619:\tlearn: 1500.0931860\ttotal: 1m 41s\tremaining: 1m 2s\n",
      "620:\tlearn: 1499.9285815\ttotal: 1m 42s\tremaining: 1m 2s\n",
      "621:\tlearn: 1499.7924385\ttotal: 1m 42s\tremaining: 1m 2s\n",
      "622:\tlearn: 1499.6919322\ttotal: 1m 42s\tremaining: 1m 1s\n",
      "623:\tlearn: 1499.5026953\ttotal: 1m 42s\tremaining: 1m 1s\n",
      "624:\tlearn: 1499.3639017\ttotal: 1m 42s\tremaining: 1m 1s\n",
      "625:\tlearn: 1499.2970994\ttotal: 1m 42s\tremaining: 1m 1s\n",
      "626:\tlearn: 1499.2431039\ttotal: 1m 42s\tremaining: 1m 1s\n",
      "627:\tlearn: 1499.1011117\ttotal: 1m 43s\tremaining: 1m 1s\n",
      "628:\tlearn: 1498.9993648\ttotal: 1m 43s\tremaining: 1m\n",
      "629:\tlearn: 1498.8400116\ttotal: 1m 43s\tremaining: 1m\n",
      "630:\tlearn: 1498.7702520\ttotal: 1m 43s\tremaining: 1m\n",
      "631:\tlearn: 1498.3604114\ttotal: 1m 43s\tremaining: 1m\n",
      "632:\tlearn: 1498.2804999\ttotal: 1m 43s\tremaining: 1m\n",
      "633:\tlearn: 1498.1672467\ttotal: 1m 44s\tremaining: 1m\n",
      "634:\tlearn: 1498.0016919\ttotal: 1m 44s\tremaining: 59.9s\n",
      "635:\tlearn: 1497.6429370\ttotal: 1m 44s\tremaining: 59.8s\n",
      "636:\tlearn: 1497.5624198\ttotal: 1m 44s\tremaining: 59.6s\n",
      "637:\tlearn: 1497.4063222\ttotal: 1m 44s\tremaining: 59.5s\n",
      "638:\tlearn: 1497.1262220\ttotal: 1m 44s\tremaining: 59.3s\n",
      "639:\tlearn: 1497.0365393\ttotal: 1m 45s\tremaining: 59.1s\n",
      "640:\tlearn: 1496.9158210\ttotal: 1m 45s\tremaining: 59s\n",
      "641:\tlearn: 1496.8587939\ttotal: 1m 45s\tremaining: 58.8s\n",
      "642:\tlearn: 1496.6675338\ttotal: 1m 45s\tremaining: 58.6s\n",
      "643:\tlearn: 1496.4623291\ttotal: 1m 45s\tremaining: 58.5s\n",
      "644:\tlearn: 1496.4115133\ttotal: 1m 45s\tremaining: 58.3s\n",
      "645:\tlearn: 1496.1865482\ttotal: 1m 45s\tremaining: 58.1s\n",
      "646:\tlearn: 1496.1001539\ttotal: 1m 46s\tremaining: 57.9s\n",
      "647:\tlearn: 1495.7154532\ttotal: 1m 46s\tremaining: 57.7s\n",
      "648:\tlearn: 1495.5994021\ttotal: 1m 46s\tremaining: 57.6s\n",
      "649:\tlearn: 1495.5822478\ttotal: 1m 46s\tremaining: 57.4s\n",
      "650:\tlearn: 1495.5726191\ttotal: 1m 46s\tremaining: 57.2s\n",
      "651:\tlearn: 1495.4896679\ttotal: 1m 46s\tremaining: 57.1s\n",
      "652:\tlearn: 1495.4082155\ttotal: 1m 47s\tremaining: 56.9s\n",
      "653:\tlearn: 1495.3356435\ttotal: 1m 47s\tremaining: 56.7s\n",
      "654:\tlearn: 1495.2771894\ttotal: 1m 47s\tremaining: 56.5s\n",
      "655:\tlearn: 1495.2547552\ttotal: 1m 47s\tremaining: 56.4s\n",
      "656:\tlearn: 1495.1666088\ttotal: 1m 47s\tremaining: 56.2s\n",
      "657:\tlearn: 1494.8974784\ttotal: 1m 47s\tremaining: 56.1s\n",
      "658:\tlearn: 1494.6722356\ttotal: 1m 48s\tremaining: 55.9s\n",
      "659:\tlearn: 1494.6104827\ttotal: 1m 48s\tremaining: 55.7s\n",
      "660:\tlearn: 1494.5111464\ttotal: 1m 48s\tremaining: 55.6s\n",
      "661:\tlearn: 1494.3664373\ttotal: 1m 48s\tremaining: 55.4s\n",
      "662:\tlearn: 1494.2705549\ttotal: 1m 48s\tremaining: 55.2s\n",
      "663:\tlearn: 1494.0758205\ttotal: 1m 48s\tremaining: 55.1s\n",
      "664:\tlearn: 1493.8345601\ttotal: 1m 49s\tremaining: 54.9s\n",
      "665:\tlearn: 1493.5774270\ttotal: 1m 49s\tremaining: 54.8s\n",
      "666:\tlearn: 1493.5659437\ttotal: 1m 49s\tremaining: 54.6s\n",
      "667:\tlearn: 1493.5361831\ttotal: 1m 49s\tremaining: 54.5s\n",
      "668:\tlearn: 1493.4753062\ttotal: 1m 49s\tremaining: 54.3s\n",
      "669:\tlearn: 1493.2803963\ttotal: 1m 49s\tremaining: 54.1s\n",
      "670:\tlearn: 1493.1845934\ttotal: 1m 50s\tremaining: 54s\n",
      "671:\tlearn: 1493.1629973\ttotal: 1m 50s\tremaining: 53.8s\n",
      "672:\tlearn: 1492.9582655\ttotal: 1m 50s\tremaining: 53.6s\n",
      "673:\tlearn: 1492.7756241\ttotal: 1m 50s\tremaining: 53.5s\n",
      "674:\tlearn: 1492.6674682\ttotal: 1m 50s\tremaining: 53.3s\n",
      "675:\tlearn: 1492.5729469\ttotal: 1m 50s\tremaining: 53.2s\n",
      "676:\tlearn: 1492.5165958\ttotal: 1m 51s\tremaining: 53s\n",
      "677:\tlearn: 1492.4573054\ttotal: 1m 51s\tremaining: 52.8s\n",
      "678:\tlearn: 1492.2257186\ttotal: 1m 51s\tremaining: 52.6s\n",
      "679:\tlearn: 1492.1465237\ttotal: 1m 51s\tremaining: 52.5s\n",
      "680:\tlearn: 1492.0585268\ttotal: 1m 51s\tremaining: 52.3s\n",
      "681:\tlearn: 1491.9638140\ttotal: 1m 51s\tremaining: 52.2s\n",
      "682:\tlearn: 1491.9451816\ttotal: 1m 52s\tremaining: 52s\n",
      "683:\tlearn: 1491.9154946\ttotal: 1m 52s\tremaining: 51.8s\n",
      "684:\tlearn: 1491.5733642\ttotal: 1m 52s\tremaining: 51.6s\n",
      "685:\tlearn: 1491.5083299\ttotal: 1m 52s\tremaining: 51.5s\n",
      "686:\tlearn: 1491.4224134\ttotal: 1m 52s\tremaining: 51.3s\n",
      "687:\tlearn: 1491.3361058\ttotal: 1m 52s\tremaining: 51.1s\n",
      "688:\tlearn: 1491.1448471\ttotal: 1m 52s\tremaining: 51s\n",
      "689:\tlearn: 1491.0869646\ttotal: 1m 53s\tremaining: 50.8s\n",
      "690:\tlearn: 1490.8675799\ttotal: 1m 53s\tremaining: 50.7s\n",
      "691:\tlearn: 1490.8575927\ttotal: 1m 53s\tremaining: 50.5s\n",
      "692:\tlearn: 1490.8207220\ttotal: 1m 53s\tremaining: 50.3s\n",
      "693:\tlearn: 1490.7785460\ttotal: 1m 53s\tremaining: 50.1s\n",
      "694:\tlearn: 1490.7516995\ttotal: 1m 53s\tremaining: 50s\n",
      "695:\tlearn: 1490.6103540\ttotal: 1m 54s\tremaining: 49.8s\n",
      "696:\tlearn: 1490.5380752\ttotal: 1m 54s\tremaining: 49.6s\n",
      "697:\tlearn: 1490.5007698\ttotal: 1m 54s\tremaining: 49.5s\n",
      "698:\tlearn: 1490.3078958\ttotal: 1m 54s\tremaining: 49.3s\n",
      "699:\tlearn: 1489.8033850\ttotal: 1m 54s\tremaining: 49.2s\n",
      "700:\tlearn: 1489.7261292\ttotal: 1m 54s\tremaining: 49s\n",
      "701:\tlearn: 1489.6348867\ttotal: 1m 55s\tremaining: 48.8s\n",
      "702:\tlearn: 1489.4440393\ttotal: 1m 55s\tremaining: 48.7s\n",
      "703:\tlearn: 1489.3029892\ttotal: 1m 55s\tremaining: 48.5s\n",
      "704:\tlearn: 1489.2184463\ttotal: 1m 55s\tremaining: 48.3s\n",
      "705:\tlearn: 1489.1354998\ttotal: 1m 55s\tremaining: 48.2s\n",
      "706:\tlearn: 1489.0611222\ttotal: 1m 55s\tremaining: 48s\n",
      "707:\tlearn: 1488.9601456\ttotal: 1m 55s\tremaining: 47.8s\n",
      "708:\tlearn: 1488.9393763\ttotal: 1m 56s\tremaining: 47.7s\n",
      "709:\tlearn: 1488.8600090\ttotal: 1m 56s\tremaining: 47.5s\n",
      "710:\tlearn: 1488.6191376\ttotal: 1m 56s\tremaining: 47.3s\n",
      "711:\tlearn: 1488.4869046\ttotal: 1m 56s\tremaining: 47.2s\n",
      "712:\tlearn: 1488.1912590\ttotal: 1m 56s\tremaining: 47s\n",
      "713:\tlearn: 1487.9962586\ttotal: 1m 57s\tremaining: 46.9s\n",
      "714:\tlearn: 1487.5989955\ttotal: 1m 57s\tremaining: 46.7s\n",
      "715:\tlearn: 1487.5377580\ttotal: 1m 57s\tremaining: 46.6s\n",
      "716:\tlearn: 1487.4733028\ttotal: 1m 57s\tremaining: 46.4s\n",
      "717:\tlearn: 1487.3995945\ttotal: 1m 57s\tremaining: 46.2s\n",
      "718:\tlearn: 1487.2585789\ttotal: 1m 57s\tremaining: 46.1s\n",
      "719:\tlearn: 1487.0386932\ttotal: 1m 58s\tremaining: 45.9s\n",
      "720:\tlearn: 1486.9598139\ttotal: 1m 58s\tremaining: 45.8s\n",
      "721:\tlearn: 1486.7639783\ttotal: 1m 58s\tremaining: 45.6s\n"
     ]
    },
    {
     "name": "stdout",
     "output_type": "stream",
     "text": [
      "722:\tlearn: 1486.7065311\ttotal: 1m 58s\tremaining: 45.4s\n",
      "723:\tlearn: 1486.6949330\ttotal: 1m 58s\tremaining: 45.2s\n",
      "724:\tlearn: 1486.6491598\ttotal: 1m 58s\tremaining: 45.1s\n",
      "725:\tlearn: 1486.5972898\ttotal: 1m 58s\tremaining: 44.9s\n",
      "726:\tlearn: 1486.4359178\ttotal: 1m 59s\tremaining: 44.7s\n",
      "727:\tlearn: 1486.2725248\ttotal: 1m 59s\tremaining: 44.5s\n",
      "728:\tlearn: 1486.1588337\ttotal: 1m 59s\tremaining: 44.4s\n",
      "729:\tlearn: 1485.8978337\ttotal: 1m 59s\tremaining: 44.2s\n",
      "730:\tlearn: 1485.8076548\ttotal: 1m 59s\tremaining: 44.1s\n",
      "731:\tlearn: 1485.5428418\ttotal: 1m 59s\tremaining: 43.9s\n",
      "732:\tlearn: 1485.4225553\ttotal: 1m 59s\tremaining: 43.7s\n",
      "733:\tlearn: 1485.3781580\ttotal: 2m\tremaining: 43.5s\n",
      "734:\tlearn: 1485.2296496\ttotal: 2m\tremaining: 43.4s\n",
      "735:\tlearn: 1485.2221508\ttotal: 2m\tremaining: 43.2s\n",
      "736:\tlearn: 1485.1587824\ttotal: 2m\tremaining: 43s\n",
      "737:\tlearn: 1485.0852890\ttotal: 2m\tremaining: 42.9s\n",
      "738:\tlearn: 1484.9385032\ttotal: 2m\tremaining: 42.7s\n",
      "739:\tlearn: 1484.8298109\ttotal: 2m 1s\tremaining: 42.5s\n",
      "740:\tlearn: 1484.7128891\ttotal: 2m 1s\tremaining: 42.3s\n",
      "741:\tlearn: 1484.6837254\ttotal: 2m 1s\tremaining: 42.1s\n",
      "742:\tlearn: 1484.6478621\ttotal: 2m 1s\tremaining: 42s\n",
      "743:\tlearn: 1484.5967800\ttotal: 2m 1s\tremaining: 41.8s\n",
      "744:\tlearn: 1484.5087628\ttotal: 2m 1s\tremaining: 41.6s\n",
      "745:\tlearn: 1484.4366449\ttotal: 2m 1s\tremaining: 41.5s\n",
      "746:\tlearn: 1484.4055520\ttotal: 2m 1s\tremaining: 41.3s\n",
      "747:\tlearn: 1484.0921883\ttotal: 2m 2s\tremaining: 41.2s\n",
      "748:\tlearn: 1484.0140100\ttotal: 2m 2s\tremaining: 41s\n",
      "749:\tlearn: 1483.7036220\ttotal: 2m 2s\tremaining: 40.9s\n",
      "750:\tlearn: 1483.3620726\ttotal: 2m 2s\tremaining: 40.7s\n",
      "751:\tlearn: 1483.0581925\ttotal: 2m 3s\tremaining: 40.6s\n",
      "752:\tlearn: 1483.0318400\ttotal: 2m 3s\tremaining: 40.4s\n",
      "753:\tlearn: 1482.9936661\ttotal: 2m 3s\tremaining: 40.2s\n",
      "754:\tlearn: 1482.9024424\ttotal: 2m 3s\tremaining: 40.1s\n",
      "755:\tlearn: 1482.8237277\ttotal: 2m 3s\tremaining: 39.9s\n",
      "756:\tlearn: 1482.6061327\ttotal: 2m 3s\tremaining: 39.8s\n",
      "757:\tlearn: 1482.5579987\ttotal: 2m 4s\tremaining: 39.6s\n",
      "758:\tlearn: 1482.3870791\ttotal: 2m 4s\tremaining: 39.4s\n",
      "759:\tlearn: 1482.2674008\ttotal: 2m 4s\tremaining: 39.3s\n",
      "760:\tlearn: 1482.1829305\ttotal: 2m 4s\tremaining: 39.1s\n",
      "761:\tlearn: 1482.0140088\ttotal: 2m 4s\tremaining: 39s\n",
      "762:\tlearn: 1481.8215316\ttotal: 2m 4s\tremaining: 38.8s\n",
      "763:\tlearn: 1481.6922519\ttotal: 2m 5s\tremaining: 38.6s\n",
      "764:\tlearn: 1481.6554693\ttotal: 2m 5s\tremaining: 38.5s\n",
      "765:\tlearn: 1481.4062872\ttotal: 2m 5s\tremaining: 38.3s\n",
      "766:\tlearn: 1481.2459461\ttotal: 2m 5s\tremaining: 38.1s\n",
      "767:\tlearn: 1481.1129120\ttotal: 2m 5s\tremaining: 37.9s\n",
      "768:\tlearn: 1480.8476344\ttotal: 2m 5s\tremaining: 37.8s\n",
      "769:\tlearn: 1480.6544564\ttotal: 2m 5s\tremaining: 37.6s\n",
      "770:\tlearn: 1480.4978950\ttotal: 2m 6s\tremaining: 37.4s\n",
      "771:\tlearn: 1480.4216208\ttotal: 2m 6s\tremaining: 37.3s\n",
      "772:\tlearn: 1480.1155212\ttotal: 2m 6s\tremaining: 37.1s\n",
      "773:\tlearn: 1480.0175102\ttotal: 2m 6s\tremaining: 37s\n",
      "774:\tlearn: 1479.9990477\ttotal: 2m 6s\tremaining: 36.8s\n",
      "775:\tlearn: 1479.8241319\ttotal: 2m 6s\tremaining: 36.6s\n",
      "776:\tlearn: 1479.6174909\ttotal: 2m 7s\tremaining: 36.5s\n",
      "777:\tlearn: 1479.4891136\ttotal: 2m 7s\tremaining: 36.3s\n",
      "778:\tlearn: 1479.3847103\ttotal: 2m 7s\tremaining: 36.1s\n",
      "779:\tlearn: 1479.3672388\ttotal: 2m 7s\tremaining: 36s\n",
      "780:\tlearn: 1479.2814675\ttotal: 2m 7s\tremaining: 35.8s\n",
      "781:\tlearn: 1479.1099000\ttotal: 2m 7s\tremaining: 35.6s\n",
      "782:\tlearn: 1478.9631067\ttotal: 2m 7s\tremaining: 35.5s\n",
      "783:\tlearn: 1478.9229095\ttotal: 2m 8s\tremaining: 35.3s\n",
      "784:\tlearn: 1478.5565346\ttotal: 2m 8s\tremaining: 35.1s\n",
      "785:\tlearn: 1478.3950462\ttotal: 2m 8s\tremaining: 35s\n",
      "786:\tlearn: 1478.2087955\ttotal: 2m 8s\tremaining: 34.8s\n",
      "787:\tlearn: 1477.9677585\ttotal: 2m 8s\tremaining: 34.7s\n",
      "788:\tlearn: 1477.9187996\ttotal: 2m 8s\tremaining: 34.5s\n",
      "789:\tlearn: 1477.5581345\ttotal: 2m 9s\tremaining: 34.3s\n",
      "790:\tlearn: 1477.4257796\ttotal: 2m 9s\tremaining: 34.1s\n",
      "791:\tlearn: 1477.3949868\ttotal: 2m 9s\tremaining: 34s\n",
      "792:\tlearn: 1477.3309948\ttotal: 2m 9s\tremaining: 33.8s\n",
      "793:\tlearn: 1477.2701007\ttotal: 2m 9s\tremaining: 33.6s\n",
      "794:\tlearn: 1477.2238430\ttotal: 2m 9s\tremaining: 33.5s\n",
      "795:\tlearn: 1477.0601457\ttotal: 2m 10s\tremaining: 33.3s\n",
      "796:\tlearn: 1476.9027556\ttotal: 2m 10s\tremaining: 33.2s\n",
      "797:\tlearn: 1476.7567371\ttotal: 2m 10s\tremaining: 33s\n",
      "798:\tlearn: 1476.7264842\ttotal: 2m 10s\tremaining: 32.9s\n",
      "799:\tlearn: 1476.5816565\ttotal: 2m 10s\tremaining: 32.7s\n",
      "800:\tlearn: 1476.3414491\ttotal: 2m 10s\tremaining: 32.5s\n",
      "801:\tlearn: 1476.2826387\ttotal: 2m 11s\tremaining: 32.4s\n",
      "802:\tlearn: 1476.2044796\ttotal: 2m 11s\tremaining: 32.2s\n",
      "803:\tlearn: 1476.1520746\ttotal: 2m 11s\tremaining: 32s\n",
      "804:\tlearn: 1475.8359365\ttotal: 2m 11s\tremaining: 31.9s\n",
      "805:\tlearn: 1475.7519397\ttotal: 2m 11s\tremaining: 31.7s\n",
      "806:\tlearn: 1475.5638396\ttotal: 2m 11s\tremaining: 31.6s\n",
      "807:\tlearn: 1475.5086724\ttotal: 2m 12s\tremaining: 31.4s\n",
      "808:\tlearn: 1475.4346502\ttotal: 2m 12s\tremaining: 31.2s\n",
      "809:\tlearn: 1475.2624281\ttotal: 2m 12s\tremaining: 31.1s\n",
      "810:\tlearn: 1475.1422323\ttotal: 2m 12s\tremaining: 30.9s\n",
      "811:\tlearn: 1475.0096283\ttotal: 2m 12s\tremaining: 30.8s\n",
      "812:\tlearn: 1474.7421575\ttotal: 2m 13s\tremaining: 30.6s\n",
      "813:\tlearn: 1474.5820994\ttotal: 2m 13s\tremaining: 30.4s\n",
      "814:\tlearn: 1474.4483511\ttotal: 2m 13s\tremaining: 30.3s\n",
      "815:\tlearn: 1474.0482851\ttotal: 2m 13s\tremaining: 30.1s\n",
      "816:\tlearn: 1473.8480279\ttotal: 2m 13s\tremaining: 29.9s\n",
      "817:\tlearn: 1473.7880815\ttotal: 2m 13s\tremaining: 29.8s\n",
      "818:\tlearn: 1473.6453703\ttotal: 2m 14s\tremaining: 29.6s\n",
      "819:\tlearn: 1473.4877600\ttotal: 2m 14s\tremaining: 29.5s\n",
      "820:\tlearn: 1473.1529794\ttotal: 2m 14s\tremaining: 29.3s\n",
      "821:\tlearn: 1473.1320732\ttotal: 2m 14s\tremaining: 29.1s\n",
      "822:\tlearn: 1473.1147605\ttotal: 2m 14s\tremaining: 29s\n",
      "823:\tlearn: 1473.0081623\ttotal: 2m 14s\tremaining: 28.8s\n",
      "824:\tlearn: 1472.9232290\ttotal: 2m 15s\tremaining: 28.7s\n",
      "825:\tlearn: 1472.8624284\ttotal: 2m 15s\tremaining: 28.5s\n",
      "826:\tlearn: 1472.6316170\ttotal: 2m 15s\tremaining: 28.3s\n",
      "827:\tlearn: 1472.5384869\ttotal: 2m 15s\tremaining: 28.2s\n",
      "828:\tlearn: 1472.4879357\ttotal: 2m 15s\tremaining: 28s\n",
      "829:\tlearn: 1472.4218198\ttotal: 2m 15s\tremaining: 27.8s\n",
      "830:\tlearn: 1472.4010313\ttotal: 2m 16s\tremaining: 27.7s\n",
      "831:\tlearn: 1472.2127890\ttotal: 2m 16s\tremaining: 27.5s\n",
      "832:\tlearn: 1472.0975101\ttotal: 2m 16s\tremaining: 27.3s\n",
      "833:\tlearn: 1472.0655473\ttotal: 2m 16s\tremaining: 27.2s\n",
      "834:\tlearn: 1472.0541684\ttotal: 2m 16s\tremaining: 27s\n",
      "835:\tlearn: 1472.0382390\ttotal: 2m 16s\tremaining: 26.9s\n",
      "836:\tlearn: 1471.9335861\ttotal: 2m 17s\tremaining: 26.7s\n",
      "837:\tlearn: 1471.8528122\ttotal: 2m 17s\tremaining: 26.5s\n",
      "838:\tlearn: 1471.7697298\ttotal: 2m 17s\tremaining: 26.3s\n",
      "839:\tlearn: 1471.6352680\ttotal: 2m 17s\tremaining: 26.2s\n",
      "840:\tlearn: 1471.4267594\ttotal: 2m 17s\tremaining: 26s\n",
      "841:\tlearn: 1471.3508111\ttotal: 2m 17s\tremaining: 25.8s\n",
      "842:\tlearn: 1471.2299232\ttotal: 2m 17s\tremaining: 25.7s\n",
      "843:\tlearn: 1471.1869951\ttotal: 2m 18s\tremaining: 25.5s\n",
      "844:\tlearn: 1471.0633979\ttotal: 2m 18s\tremaining: 25.4s\n",
      "845:\tlearn: 1471.0580783\ttotal: 2m 18s\tremaining: 25.2s\n",
      "846:\tlearn: 1470.8917835\ttotal: 2m 18s\tremaining: 25s\n",
      "847:\tlearn: 1470.7791454\ttotal: 2m 18s\tremaining: 24.9s\n",
      "848:\tlearn: 1470.7671203\ttotal: 2m 18s\tremaining: 24.7s\n",
      "849:\tlearn: 1470.7465397\ttotal: 2m 18s\tremaining: 24.5s\n",
      "850:\tlearn: 1470.6244784\ttotal: 2m 19s\tremaining: 24.4s\n",
      "851:\tlearn: 1470.5309106\ttotal: 2m 19s\tremaining: 24.2s\n",
      "852:\tlearn: 1470.4998482\ttotal: 2m 19s\tremaining: 24s\n",
      "853:\tlearn: 1470.3068196\ttotal: 2m 19s\tremaining: 23.9s\n",
      "854:\tlearn: 1470.2426750\ttotal: 2m 19s\tremaining: 23.7s\n",
      "855:\tlearn: 1470.2117477\ttotal: 2m 19s\tremaining: 23.5s\n",
      "856:\tlearn: 1470.1662357\ttotal: 2m 20s\tremaining: 23.4s\n",
      "857:\tlearn: 1469.9577731\ttotal: 2m 20s\tremaining: 23.2s\n",
      "858:\tlearn: 1469.9168009\ttotal: 2m 20s\tremaining: 23.1s\n",
      "859:\tlearn: 1469.8389374\ttotal: 2m 20s\tremaining: 22.9s\n",
      "860:\tlearn: 1469.8061107\ttotal: 2m 20s\tremaining: 22.8s\n",
      "861:\tlearn: 1469.6495457\ttotal: 2m 21s\tremaining: 22.6s\n",
      "862:\tlearn: 1469.5364790\ttotal: 2m 21s\tremaining: 22.4s\n",
      "863:\tlearn: 1469.3562848\ttotal: 2m 21s\tremaining: 22.3s\n",
      "864:\tlearn: 1469.2391836\ttotal: 2m 21s\tremaining: 22.1s\n",
      "865:\tlearn: 1469.1425159\ttotal: 2m 21s\tremaining: 21.9s\n",
      "866:\tlearn: 1468.7376256\ttotal: 2m 21s\tremaining: 21.8s\n",
      "867:\tlearn: 1468.7247689\ttotal: 2m 22s\tremaining: 21.6s\n",
      "868:\tlearn: 1468.6984289\ttotal: 2m 22s\tremaining: 21.4s\n",
      "869:\tlearn: 1468.6159305\ttotal: 2m 22s\tremaining: 21.3s\n",
      "870:\tlearn: 1468.4213841\ttotal: 2m 22s\tremaining: 21.1s\n"
     ]
    },
    {
     "name": "stdout",
     "output_type": "stream",
     "text": [
      "871:\tlearn: 1468.3880401\ttotal: 2m 22s\tremaining: 21s\n",
      "872:\tlearn: 1468.1262547\ttotal: 2m 22s\tremaining: 20.8s\n",
      "873:\tlearn: 1468.0299337\ttotal: 2m 23s\tremaining: 20.6s\n",
      "874:\tlearn: 1468.0078244\ttotal: 2m 23s\tremaining: 20.5s\n",
      "875:\tlearn: 1467.9740145\ttotal: 2m 23s\tremaining: 20.3s\n",
      "876:\tlearn: 1467.9448703\ttotal: 2m 23s\tremaining: 20.1s\n",
      "877:\tlearn: 1467.9152290\ttotal: 2m 23s\tremaining: 20s\n",
      "878:\tlearn: 1467.8534998\ttotal: 2m 23s\tremaining: 19.8s\n",
      "879:\tlearn: 1467.6938215\ttotal: 2m 24s\tremaining: 19.7s\n",
      "880:\tlearn: 1467.6144102\ttotal: 2m 24s\tremaining: 19.5s\n",
      "881:\tlearn: 1467.4390890\ttotal: 2m 24s\tremaining: 19.3s\n",
      "882:\tlearn: 1467.0422841\ttotal: 2m 24s\tremaining: 19.2s\n",
      "883:\tlearn: 1466.7056142\ttotal: 2m 24s\tremaining: 19s\n",
      "884:\tlearn: 1466.6358023\ttotal: 2m 25s\tremaining: 18.8s\n",
      "885:\tlearn: 1466.3438061\ttotal: 2m 25s\tremaining: 18.7s\n",
      "886:\tlearn: 1466.2040609\ttotal: 2m 25s\tremaining: 18.5s\n",
      "887:\tlearn: 1466.1860060\ttotal: 2m 25s\tremaining: 18.4s\n",
      "888:\tlearn: 1466.0577931\ttotal: 2m 25s\tremaining: 18.2s\n",
      "889:\tlearn: 1466.0074374\ttotal: 2m 25s\tremaining: 18s\n",
      "890:\tlearn: 1465.9046757\ttotal: 2m 25s\tremaining: 17.9s\n",
      "891:\tlearn: 1465.8516504\ttotal: 2m 26s\tremaining: 17.7s\n",
      "892:\tlearn: 1465.7632939\ttotal: 2m 26s\tremaining: 17.5s\n",
      "893:\tlearn: 1465.6619821\ttotal: 2m 26s\tremaining: 17.4s\n",
      "894:\tlearn: 1465.6188379\ttotal: 2m 26s\tremaining: 17.2s\n",
      "895:\tlearn: 1465.5352739\ttotal: 2m 26s\tremaining: 17s\n",
      "896:\tlearn: 1465.4479703\ttotal: 2m 26s\tremaining: 16.9s\n",
      "897:\tlearn: 1465.3341094\ttotal: 2m 27s\tremaining: 16.7s\n",
      "898:\tlearn: 1465.2562034\ttotal: 2m 27s\tremaining: 16.5s\n",
      "899:\tlearn: 1465.1903303\ttotal: 2m 27s\tremaining: 16.4s\n",
      "900:\tlearn: 1465.1766043\ttotal: 2m 27s\tremaining: 16.2s\n",
      "901:\tlearn: 1465.0110336\ttotal: 2m 27s\tremaining: 16s\n",
      "902:\tlearn: 1464.9508235\ttotal: 2m 27s\tremaining: 15.9s\n",
      "903:\tlearn: 1464.7930464\ttotal: 2m 28s\tremaining: 15.7s\n",
      "904:\tlearn: 1464.5975540\ttotal: 2m 28s\tremaining: 15.6s\n",
      "905:\tlearn: 1464.5005417\ttotal: 2m 28s\tremaining: 15.4s\n",
      "906:\tlearn: 1464.2754265\ttotal: 2m 28s\tremaining: 15.2s\n",
      "907:\tlearn: 1464.1780690\ttotal: 2m 28s\tremaining: 15.1s\n",
      "908:\tlearn: 1464.1677995\ttotal: 2m 29s\tremaining: 14.9s\n",
      "909:\tlearn: 1464.0333890\ttotal: 2m 29s\tremaining: 14.8s\n",
      "910:\tlearn: 1463.9262073\ttotal: 2m 29s\tremaining: 14.6s\n",
      "911:\tlearn: 1463.6961822\ttotal: 2m 29s\tremaining: 14.4s\n",
      "912:\tlearn: 1463.5708289\ttotal: 2m 29s\tremaining: 14.3s\n",
      "913:\tlearn: 1463.4142088\ttotal: 2m 29s\tremaining: 14.1s\n",
      "914:\tlearn: 1463.2123064\ttotal: 2m 30s\tremaining: 13.9s\n",
      "915:\tlearn: 1462.8958536\ttotal: 2m 30s\tremaining: 13.8s\n",
      "916:\tlearn: 1462.7319557\ttotal: 2m 30s\tremaining: 13.6s\n",
      "917:\tlearn: 1462.7094886\ttotal: 2m 30s\tremaining: 13.5s\n",
      "918:\tlearn: 1462.6331046\ttotal: 2m 30s\tremaining: 13.3s\n",
      "919:\tlearn: 1462.5483653\ttotal: 2m 30s\tremaining: 13.1s\n",
      "920:\tlearn: 1462.4663646\ttotal: 2m 31s\tremaining: 13s\n",
      "921:\tlearn: 1462.4453278\ttotal: 2m 31s\tremaining: 12.8s\n",
      "922:\tlearn: 1462.4144912\ttotal: 2m 31s\tremaining: 12.6s\n",
      "923:\tlearn: 1462.3892473\ttotal: 2m 31s\tremaining: 12.5s\n",
      "924:\tlearn: 1462.3595327\ttotal: 2m 31s\tremaining: 12.3s\n",
      "925:\tlearn: 1462.2481591\ttotal: 2m 31s\tremaining: 12.1s\n",
      "926:\tlearn: 1462.1914880\ttotal: 2m 32s\tremaining: 12s\n",
      "927:\tlearn: 1462.1211664\ttotal: 2m 32s\tremaining: 11.8s\n",
      "928:\tlearn: 1462.0335227\ttotal: 2m 32s\tremaining: 11.6s\n",
      "929:\tlearn: 1461.8785301\ttotal: 2m 32s\tremaining: 11.5s\n",
      "930:\tlearn: 1461.7783564\ttotal: 2m 32s\tremaining: 11.3s\n",
      "931:\tlearn: 1461.4647898\ttotal: 2m 32s\tremaining: 11.2s\n",
      "932:\tlearn: 1461.3475933\ttotal: 2m 32s\tremaining: 11s\n",
      "933:\tlearn: 1461.0964066\ttotal: 2m 33s\tremaining: 10.8s\n",
      "934:\tlearn: 1460.9026343\ttotal: 2m 33s\tremaining: 10.7s\n",
      "935:\tlearn: 1460.8923372\ttotal: 2m 33s\tremaining: 10.5s\n",
      "936:\tlearn: 1460.8617032\ttotal: 2m 33s\tremaining: 10.3s\n",
      "937:\tlearn: 1460.7219968\ttotal: 2m 33s\tremaining: 10.2s\n",
      "938:\tlearn: 1460.6823208\ttotal: 2m 33s\tremaining: 10s\n",
      "939:\tlearn: 1460.5765125\ttotal: 2m 34s\tremaining: 9.83s\n",
      "940:\tlearn: 1460.5345990\ttotal: 2m 34s\tremaining: 9.67s\n",
      "941:\tlearn: 1460.4825078\ttotal: 2m 34s\tremaining: 9.5s\n",
      "942:\tlearn: 1460.1910212\ttotal: 2m 34s\tremaining: 9.34s\n",
      "943:\tlearn: 1459.9824830\ttotal: 2m 34s\tremaining: 9.18s\n",
      "944:\tlearn: 1459.9396026\ttotal: 2m 34s\tremaining: 9.01s\n",
      "945:\tlearn: 1459.6564654\ttotal: 2m 34s\tremaining: 8.85s\n",
      "946:\tlearn: 1459.6441517\ttotal: 2m 35s\tremaining: 8.68s\n",
      "947:\tlearn: 1459.5567857\ttotal: 2m 35s\tremaining: 8.52s\n",
      "948:\tlearn: 1459.5484381\ttotal: 2m 35s\tremaining: 8.35s\n",
      "949:\tlearn: 1459.4322175\ttotal: 2m 35s\tremaining: 8.19s\n",
      "950:\tlearn: 1459.0775651\ttotal: 2m 35s\tremaining: 8.02s\n",
      "951:\tlearn: 1458.9937746\ttotal: 2m 35s\tremaining: 7.86s\n",
      "952:\tlearn: 1458.9334497\ttotal: 2m 36s\tremaining: 7.69s\n",
      "953:\tlearn: 1458.8484839\ttotal: 2m 36s\tremaining: 7.53s\n",
      "954:\tlearn: 1458.7144133\ttotal: 2m 36s\tremaining: 7.37s\n",
      "955:\tlearn: 1458.6481073\ttotal: 2m 36s\tremaining: 7.2s\n",
      "956:\tlearn: 1458.3712855\ttotal: 2m 36s\tremaining: 7.04s\n",
      "957:\tlearn: 1458.3287091\ttotal: 2m 36s\tremaining: 6.88s\n",
      "958:\tlearn: 1458.1223791\ttotal: 2m 37s\tremaining: 6.71s\n",
      "959:\tlearn: 1458.0347394\ttotal: 2m 37s\tremaining: 6.55s\n",
      "960:\tlearn: 1457.7712632\ttotal: 2m 37s\tremaining: 6.38s\n",
      "961:\tlearn: 1457.7141568\ttotal: 2m 37s\tremaining: 6.22s\n",
      "962:\tlearn: 1457.6937991\ttotal: 2m 37s\tremaining: 6.05s\n",
      "963:\tlearn: 1457.5252125\ttotal: 2m 37s\tremaining: 5.89s\n",
      "964:\tlearn: 1457.3626863\ttotal: 2m 37s\tremaining: 5.73s\n",
      "965:\tlearn: 1457.1594311\ttotal: 2m 38s\tremaining: 5.56s\n",
      "966:\tlearn: 1457.0323728\ttotal: 2m 38s\tremaining: 5.4s\n",
      "967:\tlearn: 1456.9300108\ttotal: 2m 38s\tremaining: 5.24s\n",
      "968:\tlearn: 1456.6411647\ttotal: 2m 38s\tremaining: 5.07s\n",
      "969:\tlearn: 1456.4919580\ttotal: 2m 38s\tremaining: 4.91s\n",
      "970:\tlearn: 1456.4329371\ttotal: 2m 38s\tremaining: 4.75s\n",
      "971:\tlearn: 1456.4129132\ttotal: 2m 39s\tremaining: 4.58s\n",
      "972:\tlearn: 1456.3768854\ttotal: 2m 39s\tremaining: 4.42s\n",
      "973:\tlearn: 1456.3342039\ttotal: 2m 39s\tremaining: 4.26s\n",
      "974:\tlearn: 1456.3028498\ttotal: 2m 39s\tremaining: 4.09s\n",
      "975:\tlearn: 1456.2284754\ttotal: 2m 39s\tremaining: 3.93s\n",
      "976:\tlearn: 1455.8805298\ttotal: 2m 39s\tremaining: 3.77s\n",
      "977:\tlearn: 1455.8317847\ttotal: 2m 40s\tremaining: 3.6s\n",
      "978:\tlearn: 1455.7732213\ttotal: 2m 40s\tremaining: 3.44s\n",
      "979:\tlearn: 1455.7232765\ttotal: 2m 40s\tremaining: 3.27s\n",
      "980:\tlearn: 1455.7086435\ttotal: 2m 40s\tremaining: 3.11s\n",
      "981:\tlearn: 1455.6386823\ttotal: 2m 40s\tremaining: 2.95s\n",
      "982:\tlearn: 1455.4627810\ttotal: 2m 40s\tremaining: 2.78s\n",
      "983:\tlearn: 1455.2987816\ttotal: 2m 41s\tremaining: 2.62s\n",
      "984:\tlearn: 1455.2596836\ttotal: 2m 41s\tremaining: 2.46s\n",
      "985:\tlearn: 1455.1232061\ttotal: 2m 41s\tremaining: 2.29s\n",
      "986:\tlearn: 1455.1068431\ttotal: 2m 41s\tremaining: 2.13s\n",
      "987:\tlearn: 1454.9866301\ttotal: 2m 41s\tremaining: 1.97s\n",
      "988:\tlearn: 1454.8944308\ttotal: 2m 42s\tremaining: 1.8s\n",
      "989:\tlearn: 1454.8155147\ttotal: 2m 42s\tremaining: 1.64s\n",
      "990:\tlearn: 1454.7005414\ttotal: 2m 42s\tremaining: 1.47s\n",
      "991:\tlearn: 1454.6126584\ttotal: 2m 42s\tremaining: 1.31s\n",
      "992:\tlearn: 1454.4646856\ttotal: 2m 42s\tremaining: 1.15s\n",
      "993:\tlearn: 1454.4426479\ttotal: 2m 42s\tremaining: 983ms\n",
      "994:\tlearn: 1454.4386456\ttotal: 2m 43s\tremaining: 819ms\n",
      "995:\tlearn: 1454.3643658\ttotal: 2m 43s\tremaining: 656ms\n",
      "996:\tlearn: 1454.3519149\ttotal: 2m 43s\tremaining: 492ms\n",
      "997:\tlearn: 1454.2037649\ttotal: 2m 43s\tremaining: 328ms\n",
      "998:\tlearn: 1454.1306107\ttotal: 2m 43s\tremaining: 164ms\n",
      "999:\tlearn: 1453.8488933\ttotal: 2m 43s\tremaining: 0us\n",
      "[CV 2/3; 2/2] END .....learning_rate=0.2, random_state=12345; total time= 2.8min\n",
      "[CV 3/3; 2/2] START learning_rate=0.2, random_state=12345.......................\n",
      "0:\tlearn: 3863.5385288\ttotal: 212ms\tremaining: 3m 32s\n",
      "1:\tlearn: 3442.2505526\ttotal: 397ms\tremaining: 3m 18s\n",
      "2:\tlearn: 3106.0985231\ttotal: 632ms\tremaining: 3m 30s\n",
      "3:\tlearn: 2864.9247584\ttotal: 788ms\tremaining: 3m 16s\n",
      "4:\tlearn: 2672.2285723\ttotal: 927ms\tremaining: 3m 4s\n",
      "5:\tlearn: 2511.8825597\ttotal: 1.08s\tremaining: 2m 58s\n",
      "6:\tlearn: 2400.9372622\ttotal: 1.25s\tremaining: 2m 57s\n",
      "7:\tlearn: 2289.5222858\ttotal: 1.47s\tremaining: 3m 2s\n",
      "8:\tlearn: 2197.8022209\ttotal: 1.67s\tremaining: 3m 4s\n",
      "9:\tlearn: 2139.8471425\ttotal: 1.82s\tremaining: 3m\n",
      "10:\tlearn: 2087.6008441\ttotal: 1.98s\tremaining: 2m 58s\n",
      "11:\tlearn: 2045.7090337\ttotal: 2.17s\tremaining: 2m 58s\n",
      "12:\tlearn: 2006.1826843\ttotal: 2.3s\tremaining: 2m 54s\n",
      "13:\tlearn: 1976.0308258\ttotal: 2.48s\tremaining: 2m 54s\n",
      "14:\tlearn: 1951.8301983\ttotal: 2.67s\tremaining: 2m 55s\n",
      "15:\tlearn: 1934.1044563\ttotal: 2.8s\tremaining: 2m 52s\n"
     ]
    },
    {
     "name": "stdout",
     "output_type": "stream",
     "text": [
      "16:\tlearn: 1917.8277085\ttotal: 2.92s\tremaining: 2m 49s\n",
      "17:\tlearn: 1904.9935421\ttotal: 3.08s\tremaining: 2m 48s\n",
      "18:\tlearn: 1895.7522996\ttotal: 3.19s\tremaining: 2m 44s\n",
      "19:\tlearn: 1883.8532019\ttotal: 3.36s\tremaining: 2m 44s\n",
      "20:\tlearn: 1867.5078273\ttotal: 3.5s\tremaining: 2m 43s\n",
      "21:\tlearn: 1860.1136653\ttotal: 3.64s\tremaining: 2m 41s\n",
      "22:\tlearn: 1851.4884679\ttotal: 3.79s\tremaining: 2m 41s\n",
      "23:\tlearn: 1844.9942612\ttotal: 3.99s\tremaining: 2m 42s\n",
      "24:\tlearn: 1838.3749748\ttotal: 4.17s\tremaining: 2m 42s\n",
      "25:\tlearn: 1829.6619662\ttotal: 4.34s\tremaining: 2m 42s\n",
      "26:\tlearn: 1821.1559403\ttotal: 4.52s\tremaining: 2m 42s\n",
      "27:\tlearn: 1815.6562010\ttotal: 4.71s\tremaining: 2m 43s\n",
      "28:\tlearn: 1810.7677722\ttotal: 4.83s\tremaining: 2m 41s\n",
      "29:\tlearn: 1806.2794326\ttotal: 4.98s\tremaining: 2m 40s\n",
      "30:\tlearn: 1801.5264910\ttotal: 5.11s\tremaining: 2m 39s\n",
      "31:\tlearn: 1797.6588907\ttotal: 5.26s\tremaining: 2m 39s\n",
      "32:\tlearn: 1793.8672366\ttotal: 5.39s\tremaining: 2m 38s\n",
      "33:\tlearn: 1791.1856014\ttotal: 5.54s\tremaining: 2m 37s\n",
      "34:\tlearn: 1787.1437970\ttotal: 5.7s\tremaining: 2m 37s\n",
      "35:\tlearn: 1782.6332106\ttotal: 5.85s\tremaining: 2m 36s\n",
      "36:\tlearn: 1779.5535767\ttotal: 6.03s\tremaining: 2m 36s\n",
      "37:\tlearn: 1775.0083503\ttotal: 6.18s\tremaining: 2m 36s\n",
      "38:\tlearn: 1771.9597467\ttotal: 6.37s\tremaining: 2m 37s\n",
      "39:\tlearn: 1770.1015146\ttotal: 6.5s\tremaining: 2m 36s\n",
      "40:\tlearn: 1767.1415995\ttotal: 6.65s\tremaining: 2m 35s\n",
      "41:\tlearn: 1765.4416765\ttotal: 6.77s\tremaining: 2m 34s\n",
      "42:\tlearn: 1762.5105580\ttotal: 6.96s\tremaining: 2m 34s\n",
      "43:\tlearn: 1759.6917902\ttotal: 7.09s\tremaining: 2m 34s\n",
      "44:\tlearn: 1758.2651907\ttotal: 7.22s\tremaining: 2m 33s\n",
      "45:\tlearn: 1754.9275320\ttotal: 7.31s\tremaining: 2m 31s\n",
      "46:\tlearn: 1751.3289140\ttotal: 7.44s\tremaining: 2m 30s\n",
      "47:\tlearn: 1749.3369941\ttotal: 7.61s\tremaining: 2m 30s\n",
      "48:\tlearn: 1746.4660538\ttotal: 7.84s\tremaining: 2m 32s\n",
      "49:\tlearn: 1745.1602086\ttotal: 8s\tremaining: 2m 32s\n",
      "50:\tlearn: 1743.1496031\ttotal: 8.18s\tremaining: 2m 32s\n",
      "51:\tlearn: 1741.8836376\ttotal: 8.36s\tremaining: 2m 32s\n",
      "52:\tlearn: 1740.6262885\ttotal: 8.51s\tremaining: 2m 32s\n",
      "53:\tlearn: 1738.4097541\ttotal: 8.68s\tremaining: 2m 32s\n",
      "54:\tlearn: 1736.4624676\ttotal: 8.83s\tremaining: 2m 31s\n",
      "55:\tlearn: 1733.6779111\ttotal: 8.99s\tremaining: 2m 31s\n",
      "56:\tlearn: 1733.2345123\ttotal: 9.12s\tremaining: 2m 30s\n",
      "57:\tlearn: 1730.8361692\ttotal: 9.29s\tremaining: 2m 30s\n",
      "58:\tlearn: 1729.7114324\ttotal: 9.44s\tremaining: 2m 30s\n",
      "59:\tlearn: 1726.3997963\ttotal: 9.58s\tremaining: 2m 30s\n",
      "60:\tlearn: 1724.0183077\ttotal: 9.73s\tremaining: 2m 29s\n",
      "61:\tlearn: 1723.3410282\ttotal: 9.87s\tremaining: 2m 29s\n",
      "62:\tlearn: 1721.3778601\ttotal: 10.1s\tremaining: 2m 29s\n",
      "63:\tlearn: 1719.4456009\ttotal: 10.3s\tremaining: 2m 29s\n",
      "64:\tlearn: 1718.0053851\ttotal: 10.4s\tremaining: 2m 30s\n",
      "65:\tlearn: 1716.1630005\ttotal: 10.6s\tremaining: 2m 29s\n",
      "66:\tlearn: 1714.5458928\ttotal: 10.7s\tremaining: 2m 29s\n",
      "67:\tlearn: 1713.7993507\ttotal: 10.9s\tremaining: 2m 28s\n",
      "68:\tlearn: 1712.5102071\ttotal: 11s\tremaining: 2m 28s\n",
      "69:\tlearn: 1711.5839546\ttotal: 11.2s\tremaining: 2m 28s\n",
      "70:\tlearn: 1708.9269331\ttotal: 11.4s\tremaining: 2m 28s\n",
      "71:\tlearn: 1708.2369266\ttotal: 11.5s\tremaining: 2m 28s\n",
      "72:\tlearn: 1706.3681585\ttotal: 11.7s\tremaining: 2m 28s\n",
      "73:\tlearn: 1705.4216291\ttotal: 11.8s\tremaining: 2m 28s\n",
      "74:\tlearn: 1703.8116848\ttotal: 12s\tremaining: 2m 27s\n",
      "75:\tlearn: 1702.2201337\ttotal: 12.1s\tremaining: 2m 27s\n",
      "76:\tlearn: 1701.4434004\ttotal: 12.3s\tremaining: 2m 27s\n",
      "77:\tlearn: 1700.2528116\ttotal: 12.4s\tremaining: 2m 27s\n",
      "78:\tlearn: 1699.0743350\ttotal: 12.6s\tremaining: 2m 27s\n",
      "79:\tlearn: 1697.5065577\ttotal: 12.8s\tremaining: 2m 27s\n",
      "80:\tlearn: 1696.5084357\ttotal: 13s\tremaining: 2m 27s\n",
      "81:\tlearn: 1695.3482025\ttotal: 13.2s\tremaining: 2m 27s\n",
      "82:\tlearn: 1693.8653316\ttotal: 13.3s\tremaining: 2m 26s\n",
      "83:\tlearn: 1693.2765048\ttotal: 13.4s\tremaining: 2m 25s\n",
      "84:\tlearn: 1692.1454996\ttotal: 13.5s\tremaining: 2m 25s\n",
      "85:\tlearn: 1690.7061170\ttotal: 13.7s\tremaining: 2m 25s\n",
      "86:\tlearn: 1689.7047046\ttotal: 13.8s\tremaining: 2m 25s\n",
      "87:\tlearn: 1687.8349460\ttotal: 14s\tremaining: 2m 24s\n",
      "88:\tlearn: 1686.7628627\ttotal: 14.1s\tremaining: 2m 24s\n",
      "89:\tlearn: 1685.9750723\ttotal: 14.3s\tremaining: 2m 24s\n",
      "90:\tlearn: 1685.5825907\ttotal: 14.4s\tremaining: 2m 23s\n",
      "91:\tlearn: 1684.8301418\ttotal: 14.5s\tremaining: 2m 23s\n",
      "92:\tlearn: 1683.3473628\ttotal: 14.6s\tremaining: 2m 22s\n",
      "93:\tlearn: 1681.6954513\ttotal: 14.7s\tremaining: 2m 22s\n",
      "94:\tlearn: 1680.1342813\ttotal: 14.9s\tremaining: 2m 22s\n",
      "95:\tlearn: 1679.0753887\ttotal: 15.1s\tremaining: 2m 22s\n",
      "96:\tlearn: 1677.9514066\ttotal: 15.3s\tremaining: 2m 21s\n",
      "97:\tlearn: 1676.5215483\ttotal: 15.4s\tremaining: 2m 21s\n",
      "98:\tlearn: 1676.2615819\ttotal: 15.6s\tremaining: 2m 21s\n",
      "99:\tlearn: 1674.8071231\ttotal: 15.7s\tremaining: 2m 21s\n",
      "100:\tlearn: 1673.4265707\ttotal: 15.9s\tremaining: 2m 21s\n",
      "101:\tlearn: 1672.2941961\ttotal: 16s\tremaining: 2m 21s\n",
      "102:\tlearn: 1670.8764037\ttotal: 16.2s\tremaining: 2m 20s\n",
      "103:\tlearn: 1669.3122082\ttotal: 16.3s\tremaining: 2m 20s\n",
      "104:\tlearn: 1667.7892054\ttotal: 16.5s\tremaining: 2m 20s\n",
      "105:\tlearn: 1667.0485410\ttotal: 16.6s\tremaining: 2m 20s\n",
      "106:\tlearn: 1666.3500442\ttotal: 16.7s\tremaining: 2m 19s\n",
      "107:\tlearn: 1665.9893074\ttotal: 16.9s\tremaining: 2m 19s\n",
      "108:\tlearn: 1664.5406292\ttotal: 17s\tremaining: 2m 19s\n",
      "109:\tlearn: 1663.3362469\ttotal: 17.2s\tremaining: 2m 18s\n",
      "110:\tlearn: 1663.0648699\ttotal: 17.3s\tremaining: 2m 18s\n",
      "111:\tlearn: 1662.3853099\ttotal: 17.5s\tremaining: 2m 18s\n",
      "112:\tlearn: 1661.4489725\ttotal: 17.7s\tremaining: 2m 18s\n",
      "113:\tlearn: 1661.0689078\ttotal: 17.9s\tremaining: 2m 18s\n",
      "114:\tlearn: 1660.3914504\ttotal: 18s\tremaining: 2m 18s\n",
      "115:\tlearn: 1659.2427619\ttotal: 18.1s\tremaining: 2m 18s\n",
      "116:\tlearn: 1658.2483651\ttotal: 18.3s\tremaining: 2m 17s\n",
      "117:\tlearn: 1657.3137595\ttotal: 18.5s\tremaining: 2m 18s\n",
      "118:\tlearn: 1656.6097857\ttotal: 18.6s\tremaining: 2m 17s\n",
      "119:\tlearn: 1655.9963492\ttotal: 18.8s\tremaining: 2m 17s\n",
      "120:\tlearn: 1655.6671349\ttotal: 18.9s\tremaining: 2m 17s\n",
      "121:\tlearn: 1655.3513587\ttotal: 19.1s\tremaining: 2m 17s\n",
      "122:\tlearn: 1654.3007214\ttotal: 19.3s\tremaining: 2m 17s\n",
      "123:\tlearn: 1652.9873081\ttotal: 19.5s\tremaining: 2m 17s\n",
      "124:\tlearn: 1651.6456894\ttotal: 19.6s\tremaining: 2m 17s\n",
      "125:\tlearn: 1650.6044343\ttotal: 19.8s\tremaining: 2m 17s\n",
      "126:\tlearn: 1649.7011956\ttotal: 20s\tremaining: 2m 17s\n",
      "127:\tlearn: 1649.4018532\ttotal: 20.1s\tremaining: 2m 17s\n",
      "128:\tlearn: 1648.2888402\ttotal: 20.3s\tremaining: 2m 17s\n",
      "129:\tlearn: 1647.2405013\ttotal: 20.5s\tremaining: 2m 17s\n",
      "130:\tlearn: 1646.5925135\ttotal: 20.6s\tremaining: 2m 16s\n",
      "131:\tlearn: 1646.1199100\ttotal: 20.8s\tremaining: 2m 17s\n",
      "132:\tlearn: 1645.6582712\ttotal: 21s\tremaining: 2m 16s\n",
      "133:\tlearn: 1644.7120500\ttotal: 21.2s\tremaining: 2m 16s\n",
      "134:\tlearn: 1644.0701777\ttotal: 21.3s\tremaining: 2m 16s\n",
      "135:\tlearn: 1643.9312860\ttotal: 21.4s\tremaining: 2m 16s\n",
      "136:\tlearn: 1643.4473437\ttotal: 21.6s\tremaining: 2m 15s\n",
      "137:\tlearn: 1642.2041517\ttotal: 21.7s\tremaining: 2m 15s\n",
      "138:\tlearn: 1640.9359282\ttotal: 21.9s\tremaining: 2m 15s\n",
      "139:\tlearn: 1639.9906387\ttotal: 22s\tremaining: 2m 15s\n",
      "140:\tlearn: 1639.5807346\ttotal: 22.1s\tremaining: 2m 14s\n",
      "141:\tlearn: 1638.9634717\ttotal: 22.3s\tremaining: 2m 14s\n",
      "142:\tlearn: 1637.9377199\ttotal: 22.5s\tremaining: 2m 14s\n",
      "143:\tlearn: 1636.8483698\ttotal: 22.6s\tremaining: 2m 14s\n",
      "144:\tlearn: 1635.9156723\ttotal: 22.8s\tremaining: 2m 14s\n",
      "145:\tlearn: 1635.1098201\ttotal: 22.9s\tremaining: 2m 13s\n",
      "146:\tlearn: 1634.0430876\ttotal: 23s\tremaining: 2m 13s\n",
      "147:\tlearn: 1633.3406518\ttotal: 23.2s\tremaining: 2m 13s\n",
      "148:\tlearn: 1632.7407808\ttotal: 23.3s\tremaining: 2m 13s\n",
      "149:\tlearn: 1632.2786783\ttotal: 23.5s\tremaining: 2m 12s\n",
      "150:\tlearn: 1631.9859306\ttotal: 23.6s\tremaining: 2m 12s\n",
      "151:\tlearn: 1631.5634222\ttotal: 23.7s\tremaining: 2m 12s\n",
      "152:\tlearn: 1631.1577069\ttotal: 23.8s\tremaining: 2m 11s\n",
      "153:\tlearn: 1630.4608526\ttotal: 24s\tremaining: 2m 11s\n",
      "154:\tlearn: 1629.6993284\ttotal: 24.1s\tremaining: 2m 11s\n",
      "155:\tlearn: 1628.7572527\ttotal: 24.3s\tremaining: 2m 11s\n",
      "156:\tlearn: 1628.4331897\ttotal: 24.4s\tremaining: 2m 11s\n",
      "157:\tlearn: 1627.1794111\ttotal: 24.6s\tremaining: 2m 11s\n",
      "158:\tlearn: 1626.1958088\ttotal: 24.8s\tremaining: 2m 11s\n",
      "159:\tlearn: 1625.8230719\ttotal: 24.9s\tremaining: 2m 10s\n",
      "160:\tlearn: 1625.4041997\ttotal: 25.1s\tremaining: 2m 10s\n",
      "161:\tlearn: 1625.0091549\ttotal: 25.3s\tremaining: 2m 11s\n",
      "162:\tlearn: 1624.5481290\ttotal: 25.5s\tremaining: 2m 10s\n",
      "163:\tlearn: 1623.4794324\ttotal: 25.6s\tremaining: 2m 10s\n",
      "164:\tlearn: 1623.3422103\ttotal: 25.8s\tremaining: 2m 10s\n"
     ]
    },
    {
     "name": "stdout",
     "output_type": "stream",
     "text": [
      "165:\tlearn: 1622.3995723\ttotal: 26s\tremaining: 2m 10s\n",
      "166:\tlearn: 1622.1813257\ttotal: 26.1s\tremaining: 2m 10s\n",
      "167:\tlearn: 1621.9100410\ttotal: 26.3s\tremaining: 2m 10s\n",
      "168:\tlearn: 1621.2157715\ttotal: 26.4s\tremaining: 2m 10s\n",
      "169:\tlearn: 1620.6910554\ttotal: 26.6s\tremaining: 2m 9s\n",
      "170:\tlearn: 1620.0925287\ttotal: 26.8s\tremaining: 2m 9s\n",
      "171:\tlearn: 1619.3330774\ttotal: 27s\tremaining: 2m 9s\n",
      "172:\tlearn: 1618.5763279\ttotal: 27.1s\tremaining: 2m 9s\n",
      "173:\tlearn: 1617.6236399\ttotal: 27.3s\tremaining: 2m 9s\n",
      "174:\tlearn: 1617.1405258\ttotal: 27.4s\tremaining: 2m 9s\n",
      "175:\tlearn: 1616.7000319\ttotal: 27.6s\tremaining: 2m 9s\n",
      "176:\tlearn: 1615.8295559\ttotal: 27.7s\tremaining: 2m 9s\n",
      "177:\tlearn: 1614.9591948\ttotal: 27.9s\tremaining: 2m 9s\n",
      "178:\tlearn: 1614.5830891\ttotal: 28s\tremaining: 2m 8s\n",
      "179:\tlearn: 1614.2433837\ttotal: 28.2s\tremaining: 2m 8s\n",
      "180:\tlearn: 1614.0005531\ttotal: 28.4s\tremaining: 2m 8s\n",
      "181:\tlearn: 1613.1476874\ttotal: 28.5s\tremaining: 2m 8s\n",
      "182:\tlearn: 1612.4356195\ttotal: 28.7s\tremaining: 2m 8s\n",
      "183:\tlearn: 1611.6633245\ttotal: 28.9s\tremaining: 2m 8s\n",
      "184:\tlearn: 1610.8867650\ttotal: 29s\tremaining: 2m 7s\n",
      "185:\tlearn: 1610.6036192\ttotal: 29.2s\tremaining: 2m 7s\n",
      "186:\tlearn: 1610.0644638\ttotal: 29.3s\tremaining: 2m 7s\n",
      "187:\tlearn: 1609.3533078\ttotal: 29.5s\tremaining: 2m 7s\n",
      "188:\tlearn: 1608.7532573\ttotal: 29.7s\tremaining: 2m 7s\n",
      "189:\tlearn: 1608.6810900\ttotal: 29.9s\tremaining: 2m 7s\n",
      "190:\tlearn: 1608.3564945\ttotal: 30.1s\tremaining: 2m 7s\n",
      "191:\tlearn: 1607.6727296\ttotal: 30.2s\tremaining: 2m 7s\n",
      "192:\tlearn: 1607.4247382\ttotal: 30.4s\tremaining: 2m 7s\n",
      "193:\tlearn: 1606.8183657\ttotal: 30.6s\tremaining: 2m 6s\n",
      "194:\tlearn: 1605.9980960\ttotal: 30.7s\tremaining: 2m 6s\n",
      "195:\tlearn: 1605.3443835\ttotal: 30.9s\tremaining: 2m 6s\n",
      "196:\tlearn: 1605.2801287\ttotal: 31.1s\tremaining: 2m 6s\n",
      "197:\tlearn: 1604.9848067\ttotal: 31.2s\tremaining: 2m 6s\n",
      "198:\tlearn: 1604.2676799\ttotal: 31.4s\tremaining: 2m 6s\n",
      "199:\tlearn: 1603.4469799\ttotal: 31.6s\tremaining: 2m 6s\n",
      "200:\tlearn: 1603.0627005\ttotal: 31.8s\tremaining: 2m 6s\n",
      "201:\tlearn: 1602.5121306\ttotal: 31.9s\tremaining: 2m 5s\n",
      "202:\tlearn: 1601.7136944\ttotal: 32s\tremaining: 2m 5s\n",
      "203:\tlearn: 1601.5086823\ttotal: 32.1s\tremaining: 2m 5s\n",
      "204:\tlearn: 1601.1620101\ttotal: 32.3s\tremaining: 2m 5s\n",
      "205:\tlearn: 1600.6056119\ttotal: 32.5s\tremaining: 2m 5s\n",
      "206:\tlearn: 1600.0552446\ttotal: 32.6s\tremaining: 2m 4s\n",
      "207:\tlearn: 1599.8377060\ttotal: 32.8s\tremaining: 2m 5s\n",
      "208:\tlearn: 1599.4054857\ttotal: 33s\tremaining: 2m 4s\n",
      "209:\tlearn: 1599.3167953\ttotal: 33.1s\tremaining: 2m 4s\n",
      "210:\tlearn: 1598.7881346\ttotal: 33.3s\tremaining: 2m 4s\n",
      "211:\tlearn: 1598.3176433\ttotal: 33.4s\tremaining: 2m 4s\n",
      "212:\tlearn: 1597.7858523\ttotal: 33.6s\tremaining: 2m 4s\n",
      "213:\tlearn: 1597.7674062\ttotal: 33.7s\tremaining: 2m 3s\n",
      "214:\tlearn: 1597.6521815\ttotal: 33.8s\tremaining: 2m 3s\n",
      "215:\tlearn: 1597.1890355\ttotal: 33.9s\tremaining: 2m 3s\n",
      "216:\tlearn: 1596.6803440\ttotal: 34.1s\tremaining: 2m 2s\n",
      "217:\tlearn: 1596.4670480\ttotal: 34.3s\tremaining: 2m 2s\n",
      "218:\tlearn: 1595.9439662\ttotal: 34.4s\tremaining: 2m 2s\n",
      "219:\tlearn: 1595.6460697\ttotal: 34.6s\tremaining: 2m 2s\n",
      "220:\tlearn: 1595.3003897\ttotal: 34.8s\tremaining: 2m 2s\n",
      "221:\tlearn: 1595.0040162\ttotal: 34.9s\tremaining: 2m 2s\n",
      "222:\tlearn: 1594.6288485\ttotal: 35.1s\tremaining: 2m 2s\n",
      "223:\tlearn: 1594.3589984\ttotal: 35.2s\tremaining: 2m 2s\n",
      "224:\tlearn: 1593.9300857\ttotal: 35.4s\tremaining: 2m 2s\n",
      "225:\tlearn: 1593.4642838\ttotal: 35.6s\tremaining: 2m 1s\n",
      "226:\tlearn: 1593.3177544\ttotal: 35.7s\tremaining: 2m 1s\n",
      "227:\tlearn: 1593.1128995\ttotal: 35.9s\tremaining: 2m 1s\n",
      "228:\tlearn: 1592.7181418\ttotal: 36.1s\tremaining: 2m 1s\n",
      "229:\tlearn: 1592.6712328\ttotal: 36.2s\tremaining: 2m 1s\n",
      "230:\tlearn: 1592.5390232\ttotal: 36.3s\tremaining: 2m\n",
      "231:\tlearn: 1592.2974675\ttotal: 36.5s\tremaining: 2m\n",
      "232:\tlearn: 1591.6578921\ttotal: 36.6s\tremaining: 2m\n",
      "233:\tlearn: 1591.2888898\ttotal: 36.8s\tremaining: 2m\n",
      "234:\tlearn: 1591.0002661\ttotal: 37s\tremaining: 2m\n",
      "235:\tlearn: 1590.7364483\ttotal: 37.2s\tremaining: 2m\n",
      "236:\tlearn: 1590.0981986\ttotal: 37.4s\tremaining: 2m\n",
      "237:\tlearn: 1590.0297224\ttotal: 37.5s\tremaining: 2m\n",
      "238:\tlearn: 1589.4130845\ttotal: 37.7s\tremaining: 1m 59s\n",
      "239:\tlearn: 1589.3544746\ttotal: 37.8s\tremaining: 1m 59s\n",
      "240:\tlearn: 1589.0554487\ttotal: 37.9s\tremaining: 1m 59s\n",
      "241:\tlearn: 1588.9903581\ttotal: 38.1s\tremaining: 1m 59s\n",
      "242:\tlearn: 1588.6295184\ttotal: 38.2s\tremaining: 1m 59s\n",
      "243:\tlearn: 1588.1749525\ttotal: 38.4s\tremaining: 1m 58s\n",
      "244:\tlearn: 1588.0819833\ttotal: 38.5s\tremaining: 1m 58s\n",
      "245:\tlearn: 1587.2217100\ttotal: 38.7s\tremaining: 1m 58s\n",
      "246:\tlearn: 1586.6360905\ttotal: 38.9s\tremaining: 1m 58s\n",
      "247:\tlearn: 1586.2473524\ttotal: 39s\tremaining: 1m 58s\n",
      "248:\tlearn: 1586.0891563\ttotal: 39.2s\tremaining: 1m 58s\n",
      "249:\tlearn: 1585.4579097\ttotal: 39.3s\tremaining: 1m 57s\n",
      "250:\tlearn: 1585.0747486\ttotal: 39.5s\tremaining: 1m 57s\n",
      "251:\tlearn: 1584.7701627\ttotal: 39.6s\tremaining: 1m 57s\n",
      "252:\tlearn: 1584.6815518\ttotal: 39.7s\tremaining: 1m 57s\n",
      "253:\tlearn: 1584.5270081\ttotal: 39.9s\tremaining: 1m 57s\n",
      "254:\tlearn: 1584.3102013\ttotal: 40s\tremaining: 1m 56s\n",
      "255:\tlearn: 1584.1908709\ttotal: 40.2s\tremaining: 1m 56s\n",
      "256:\tlearn: 1583.9163939\ttotal: 40.3s\tremaining: 1m 56s\n",
      "257:\tlearn: 1583.3620888\ttotal: 40.5s\tremaining: 1m 56s\n",
      "258:\tlearn: 1583.3399971\ttotal: 40.6s\tremaining: 1m 56s\n",
      "259:\tlearn: 1582.9198021\ttotal: 40.8s\tremaining: 1m 56s\n",
      "260:\tlearn: 1582.5276820\ttotal: 41s\tremaining: 1m 56s\n",
      "261:\tlearn: 1582.2109252\ttotal: 41.1s\tremaining: 1m 55s\n",
      "262:\tlearn: 1581.7951728\ttotal: 41.3s\tremaining: 1m 55s\n",
      "263:\tlearn: 1581.3888809\ttotal: 41.5s\tremaining: 1m 55s\n",
      "264:\tlearn: 1581.2271266\ttotal: 41.6s\tremaining: 1m 55s\n",
      "265:\tlearn: 1580.9720255\ttotal: 41.8s\tremaining: 1m 55s\n",
      "266:\tlearn: 1580.7349808\ttotal: 41.9s\tremaining: 1m 55s\n",
      "267:\tlearn: 1580.2414105\ttotal: 42.1s\tremaining: 1m 55s\n",
      "268:\tlearn: 1579.9944265\ttotal: 42.3s\tremaining: 1m 54s\n",
      "269:\tlearn: 1579.9109689\ttotal: 42.4s\tremaining: 1m 54s\n",
      "270:\tlearn: 1579.7112063\ttotal: 42.5s\tremaining: 1m 54s\n",
      "271:\tlearn: 1579.3926173\ttotal: 42.7s\tremaining: 1m 54s\n",
      "272:\tlearn: 1579.1328649\ttotal: 42.9s\tremaining: 1m 54s\n",
      "273:\tlearn: 1578.6413330\ttotal: 43.1s\tremaining: 1m 54s\n",
      "274:\tlearn: 1578.0549689\ttotal: 43.3s\tremaining: 1m 54s\n",
      "275:\tlearn: 1577.4264597\ttotal: 43.4s\tremaining: 1m 53s\n",
      "276:\tlearn: 1577.2192972\ttotal: 43.6s\tremaining: 1m 53s\n",
      "277:\tlearn: 1576.4948913\ttotal: 43.7s\tremaining: 1m 53s\n",
      "278:\tlearn: 1576.2129148\ttotal: 43.9s\tremaining: 1m 53s\n",
      "279:\tlearn: 1576.1188647\ttotal: 44.1s\tremaining: 1m 53s\n",
      "280:\tlearn: 1576.0523090\ttotal: 44.2s\tremaining: 1m 53s\n",
      "281:\tlearn: 1575.9729314\ttotal: 44.4s\tremaining: 1m 53s\n",
      "282:\tlearn: 1575.6773703\ttotal: 44.5s\tremaining: 1m 52s\n",
      "283:\tlearn: 1575.5224989\ttotal: 44.7s\tremaining: 1m 52s\n",
      "284:\tlearn: 1575.3621781\ttotal: 44.9s\tremaining: 1m 52s\n",
      "285:\tlearn: 1575.1211843\ttotal: 45s\tremaining: 1m 52s\n",
      "286:\tlearn: 1574.6556591\ttotal: 45.2s\tremaining: 1m 52s\n",
      "287:\tlearn: 1574.5709930\ttotal: 45.4s\tremaining: 1m 52s\n",
      "288:\tlearn: 1574.2980638\ttotal: 45.5s\tremaining: 1m 52s\n",
      "289:\tlearn: 1574.2056222\ttotal: 45.7s\tremaining: 1m 51s\n",
      "290:\tlearn: 1574.1397405\ttotal: 45.8s\tremaining: 1m 51s\n",
      "291:\tlearn: 1574.0826318\ttotal: 46s\tremaining: 1m 51s\n",
      "292:\tlearn: 1573.9585343\ttotal: 46.1s\tremaining: 1m 51s\n",
      "293:\tlearn: 1573.6031850\ttotal: 46.3s\tremaining: 1m 51s\n",
      "294:\tlearn: 1573.1854238\ttotal: 46.5s\tremaining: 1m 51s\n",
      "295:\tlearn: 1572.8867692\ttotal: 46.6s\tremaining: 1m 50s\n",
      "296:\tlearn: 1572.3703976\ttotal: 46.8s\tremaining: 1m 50s\n",
      "297:\tlearn: 1572.2898737\ttotal: 46.9s\tremaining: 1m 50s\n",
      "298:\tlearn: 1571.6734419\ttotal: 47.1s\tremaining: 1m 50s\n",
      "299:\tlearn: 1571.6202556\ttotal: 47.2s\tremaining: 1m 50s\n",
      "300:\tlearn: 1571.4564521\ttotal: 47.4s\tremaining: 1m 50s\n",
      "301:\tlearn: 1571.3925597\ttotal: 47.6s\tremaining: 1m 50s\n",
      "302:\tlearn: 1571.2759551\ttotal: 47.9s\tremaining: 1m 50s\n",
      "303:\tlearn: 1571.1612096\ttotal: 48s\tremaining: 1m 49s\n",
      "304:\tlearn: 1570.7847230\ttotal: 48.2s\tremaining: 1m 49s\n",
      "305:\tlearn: 1570.3963186\ttotal: 48.3s\tremaining: 1m 49s\n",
      "306:\tlearn: 1570.3015821\ttotal: 48.5s\tremaining: 1m 49s\n",
      "307:\tlearn: 1570.2472035\ttotal: 48.6s\tremaining: 1m 49s\n",
      "308:\tlearn: 1570.0791492\ttotal: 48.9s\tremaining: 1m 49s\n",
      "309:\tlearn: 1569.6633938\ttotal: 49s\tremaining: 1m 49s\n",
      "310:\tlearn: 1569.0828266\ttotal: 49.2s\tremaining: 1m 49s\n",
      "311:\tlearn: 1568.7214987\ttotal: 49.4s\tremaining: 1m 48s\n",
      "312:\tlearn: 1568.5830634\ttotal: 49.5s\tremaining: 1m 48s\n",
      "313:\tlearn: 1568.2257412\ttotal: 49.7s\tremaining: 1m 48s\n"
     ]
    },
    {
     "name": "stdout",
     "output_type": "stream",
     "text": [
      "314:\tlearn: 1568.1775330\ttotal: 49.8s\tremaining: 1m 48s\n",
      "315:\tlearn: 1567.9983717\ttotal: 50s\tremaining: 1m 48s\n",
      "316:\tlearn: 1567.2406472\ttotal: 50.2s\tremaining: 1m 48s\n",
      "317:\tlearn: 1566.9134049\ttotal: 50.4s\tremaining: 1m 48s\n",
      "318:\tlearn: 1566.7888072\ttotal: 50.6s\tremaining: 1m 47s\n",
      "319:\tlearn: 1566.1934771\ttotal: 50.7s\tremaining: 1m 47s\n",
      "320:\tlearn: 1565.6607022\ttotal: 50.9s\tremaining: 1m 47s\n",
      "321:\tlearn: 1565.4483851\ttotal: 51.1s\tremaining: 1m 47s\n",
      "322:\tlearn: 1565.0566910\ttotal: 51.2s\tremaining: 1m 47s\n",
      "323:\tlearn: 1565.0068977\ttotal: 51.4s\tremaining: 1m 47s\n",
      "324:\tlearn: 1564.1509463\ttotal: 51.5s\tremaining: 1m 47s\n",
      "325:\tlearn: 1563.9217956\ttotal: 51.7s\tremaining: 1m 46s\n",
      "326:\tlearn: 1563.8899060\ttotal: 51.8s\tremaining: 1m 46s\n",
      "327:\tlearn: 1563.7803568\ttotal: 52s\tremaining: 1m 46s\n",
      "328:\tlearn: 1563.6755644\ttotal: 52.1s\tremaining: 1m 46s\n",
      "329:\tlearn: 1563.4303678\ttotal: 52.3s\tremaining: 1m 46s\n",
      "330:\tlearn: 1563.2219923\ttotal: 52.4s\tremaining: 1m 45s\n",
      "331:\tlearn: 1562.9663938\ttotal: 52.6s\tremaining: 1m 45s\n",
      "332:\tlearn: 1562.7549881\ttotal: 52.7s\tremaining: 1m 45s\n",
      "333:\tlearn: 1562.2471291\ttotal: 52.9s\tremaining: 1m 45s\n",
      "334:\tlearn: 1562.1025574\ttotal: 53s\tremaining: 1m 45s\n",
      "335:\tlearn: 1561.9313153\ttotal: 53.2s\tremaining: 1m 45s\n",
      "336:\tlearn: 1561.7742119\ttotal: 53.3s\tremaining: 1m 44s\n",
      "337:\tlearn: 1561.5079843\ttotal: 53.5s\tremaining: 1m 44s\n",
      "338:\tlearn: 1561.2400942\ttotal: 53.7s\tremaining: 1m 44s\n",
      "339:\tlearn: 1561.1350998\ttotal: 53.8s\tremaining: 1m 44s\n",
      "340:\tlearn: 1561.0590876\ttotal: 54s\tremaining: 1m 44s\n",
      "341:\tlearn: 1560.6911655\ttotal: 54.2s\tremaining: 1m 44s\n",
      "342:\tlearn: 1560.2203673\ttotal: 54.4s\tremaining: 1m 44s\n",
      "343:\tlearn: 1560.1973076\ttotal: 54.5s\tremaining: 1m 43s\n",
      "344:\tlearn: 1559.9479996\ttotal: 54.7s\tremaining: 1m 43s\n",
      "345:\tlearn: 1559.6655638\ttotal: 54.9s\tremaining: 1m 43s\n",
      "346:\tlearn: 1559.5589523\ttotal: 55.1s\tremaining: 1m 43s\n",
      "347:\tlearn: 1559.4008265\ttotal: 55.3s\tremaining: 1m 43s\n",
      "348:\tlearn: 1559.3310034\ttotal: 55.5s\tremaining: 1m 43s\n",
      "349:\tlearn: 1559.1253005\ttotal: 55.6s\tremaining: 1m 43s\n",
      "350:\tlearn: 1559.0366082\ttotal: 55.8s\tremaining: 1m 43s\n",
      "351:\tlearn: 1558.8506238\ttotal: 56s\tremaining: 1m 43s\n",
      "352:\tlearn: 1558.5544668\ttotal: 56.2s\tremaining: 1m 42s\n",
      "353:\tlearn: 1558.5491818\ttotal: 56.3s\tremaining: 1m 42s\n",
      "354:\tlearn: 1558.3786676\ttotal: 56.5s\tremaining: 1m 42s\n",
      "355:\tlearn: 1558.3044673\ttotal: 56.6s\tremaining: 1m 42s\n",
      "356:\tlearn: 1557.8146847\ttotal: 56.8s\tremaining: 1m 42s\n",
      "357:\tlearn: 1557.8036082\ttotal: 57s\tremaining: 1m 42s\n",
      "358:\tlearn: 1557.7101762\ttotal: 57.1s\tremaining: 1m 42s\n",
      "359:\tlearn: 1557.2773684\ttotal: 57.3s\tremaining: 1m 41s\n",
      "360:\tlearn: 1557.0883714\ttotal: 57.4s\tremaining: 1m 41s\n",
      "361:\tlearn: 1556.7151282\ttotal: 57.7s\tremaining: 1m 41s\n",
      "362:\tlearn: 1556.2913365\ttotal: 57.8s\tremaining: 1m 41s\n",
      "363:\tlearn: 1556.1542253\ttotal: 58s\tremaining: 1m 41s\n",
      "364:\tlearn: 1555.6525647\ttotal: 58.1s\tremaining: 1m 41s\n",
      "365:\tlearn: 1555.5092502\ttotal: 58.3s\tremaining: 1m 40s\n",
      "366:\tlearn: 1555.2607497\ttotal: 58.4s\tremaining: 1m 40s\n",
      "367:\tlearn: 1554.9286777\ttotal: 58.6s\tremaining: 1m 40s\n",
      "368:\tlearn: 1554.7381196\ttotal: 58.7s\tremaining: 1m 40s\n",
      "369:\tlearn: 1554.5552925\ttotal: 58.9s\tremaining: 1m 40s\n",
      "370:\tlearn: 1554.0186112\ttotal: 59s\tremaining: 1m 40s\n",
      "371:\tlearn: 1553.6712335\ttotal: 59.2s\tremaining: 1m 39s\n",
      "372:\tlearn: 1553.6160560\ttotal: 59.3s\tremaining: 1m 39s\n",
      "373:\tlearn: 1553.5585741\ttotal: 59.4s\tremaining: 1m 39s\n",
      "374:\tlearn: 1553.2472498\ttotal: 59.6s\tremaining: 1m 39s\n",
      "375:\tlearn: 1552.8006953\ttotal: 59.8s\tremaining: 1m 39s\n",
      "376:\tlearn: 1552.7210409\ttotal: 59.9s\tremaining: 1m 38s\n",
      "377:\tlearn: 1552.6775460\ttotal: 1m\tremaining: 1m 38s\n",
      "378:\tlearn: 1552.6200612\ttotal: 1m\tremaining: 1m 38s\n",
      "379:\tlearn: 1552.5539155\ttotal: 1m\tremaining: 1m 38s\n",
      "380:\tlearn: 1552.5157056\ttotal: 1m\tremaining: 1m 38s\n",
      "381:\tlearn: 1552.1623125\ttotal: 1m\tremaining: 1m 38s\n",
      "382:\tlearn: 1552.1428872\ttotal: 1m\tremaining: 1m 37s\n",
      "383:\tlearn: 1552.0464277\ttotal: 1m\tremaining: 1m 37s\n",
      "384:\tlearn: 1551.8781838\ttotal: 1m 1s\tremaining: 1m 37s\n",
      "385:\tlearn: 1551.7114466\ttotal: 1m 1s\tremaining: 1m 37s\n",
      "386:\tlearn: 1551.4617318\ttotal: 1m 1s\tremaining: 1m 37s\n",
      "387:\tlearn: 1551.3509251\ttotal: 1m 1s\tremaining: 1m 37s\n",
      "388:\tlearn: 1551.0669118\ttotal: 1m 1s\tremaining: 1m 36s\n",
      "389:\tlearn: 1550.7727207\ttotal: 1m 1s\tremaining: 1m 36s\n",
      "390:\tlearn: 1550.6141560\ttotal: 1m 2s\tremaining: 1m 36s\n",
      "391:\tlearn: 1550.5264699\ttotal: 1m 2s\tremaining: 1m 36s\n",
      "392:\tlearn: 1550.1158245\ttotal: 1m 2s\tremaining: 1m 36s\n",
      "393:\tlearn: 1549.9575800\ttotal: 1m 2s\tremaining: 1m 36s\n",
      "394:\tlearn: 1549.8405083\ttotal: 1m 2s\tremaining: 1m 35s\n",
      "395:\tlearn: 1549.5941452\ttotal: 1m 2s\tremaining: 1m 35s\n",
      "396:\tlearn: 1549.4651052\ttotal: 1m 2s\tremaining: 1m 35s\n",
      "397:\tlearn: 1549.4391077\ttotal: 1m 3s\tremaining: 1m 35s\n",
      "398:\tlearn: 1549.0027383\ttotal: 1m 3s\tremaining: 1m 35s\n",
      "399:\tlearn: 1548.8975299\ttotal: 1m 3s\tremaining: 1m 35s\n",
      "400:\tlearn: 1548.7462637\ttotal: 1m 3s\tremaining: 1m 34s\n",
      "401:\tlearn: 1548.4507024\ttotal: 1m 3s\tremaining: 1m 34s\n",
      "402:\tlearn: 1548.4305295\ttotal: 1m 3s\tremaining: 1m 34s\n",
      "403:\tlearn: 1548.2283031\ttotal: 1m 3s\tremaining: 1m 34s\n",
      "404:\tlearn: 1548.0325104\ttotal: 1m 4s\tremaining: 1m 34s\n",
      "405:\tlearn: 1547.9118494\ttotal: 1m 4s\tremaining: 1m 34s\n",
      "406:\tlearn: 1547.8283020\ttotal: 1m 4s\tremaining: 1m 33s\n",
      "407:\tlearn: 1547.7822385\ttotal: 1m 4s\tremaining: 1m 33s\n",
      "408:\tlearn: 1547.6595257\ttotal: 1m 4s\tremaining: 1m 33s\n",
      "409:\tlearn: 1547.4053847\ttotal: 1m 4s\tremaining: 1m 33s\n",
      "410:\tlearn: 1547.3457495\ttotal: 1m 4s\tremaining: 1m 32s\n",
      "411:\tlearn: 1547.2683920\ttotal: 1m 4s\tremaining: 1m 32s\n",
      "412:\tlearn: 1547.0184408\ttotal: 1m 5s\tremaining: 1m 32s\n",
      "413:\tlearn: 1546.5048214\ttotal: 1m 5s\tremaining: 1m 32s\n",
      "414:\tlearn: 1546.2916910\ttotal: 1m 5s\tremaining: 1m 32s\n",
      "415:\tlearn: 1546.2652738\ttotal: 1m 5s\tremaining: 1m 32s\n",
      "416:\tlearn: 1546.1326404\ttotal: 1m 5s\tremaining: 1m 31s\n",
      "417:\tlearn: 1546.0061418\ttotal: 1m 5s\tremaining: 1m 31s\n",
      "418:\tlearn: 1545.8442104\ttotal: 1m 6s\tremaining: 1m 31s\n",
      "419:\tlearn: 1545.7301207\ttotal: 1m 6s\tremaining: 1m 31s\n",
      "420:\tlearn: 1545.5064713\ttotal: 1m 6s\tremaining: 1m 31s\n",
      "421:\tlearn: 1545.2072953\ttotal: 1m 6s\tremaining: 1m 31s\n",
      "422:\tlearn: 1545.0560308\ttotal: 1m 6s\tremaining: 1m 30s\n",
      "423:\tlearn: 1544.9282650\ttotal: 1m 6s\tremaining: 1m 30s\n",
      "424:\tlearn: 1544.5923183\ttotal: 1m 6s\tremaining: 1m 30s\n",
      "425:\tlearn: 1544.5310740\ttotal: 1m 7s\tremaining: 1m 30s\n",
      "426:\tlearn: 1544.3138678\ttotal: 1m 7s\tremaining: 1m 30s\n",
      "427:\tlearn: 1543.8001547\ttotal: 1m 7s\tremaining: 1m 30s\n",
      "428:\tlearn: 1543.3940106\ttotal: 1m 7s\tremaining: 1m 30s\n",
      "429:\tlearn: 1543.1388159\ttotal: 1m 7s\tremaining: 1m 29s\n",
      "430:\tlearn: 1542.9022049\ttotal: 1m 7s\tremaining: 1m 29s\n",
      "431:\tlearn: 1542.7330692\ttotal: 1m 8s\tremaining: 1m 29s\n",
      "432:\tlearn: 1542.5677404\ttotal: 1m 8s\tremaining: 1m 29s\n",
      "433:\tlearn: 1542.0054222\ttotal: 1m 8s\tremaining: 1m 29s\n",
      "434:\tlearn: 1541.6277949\ttotal: 1m 8s\tremaining: 1m 29s\n",
      "435:\tlearn: 1541.5193731\ttotal: 1m 8s\tremaining: 1m 28s\n",
      "436:\tlearn: 1541.3678449\ttotal: 1m 8s\tremaining: 1m 28s\n",
      "437:\tlearn: 1541.0297116\ttotal: 1m 9s\tremaining: 1m 28s\n",
      "438:\tlearn: 1540.9297860\ttotal: 1m 9s\tremaining: 1m 28s\n",
      "439:\tlearn: 1540.6257294\ttotal: 1m 9s\tremaining: 1m 28s\n",
      "440:\tlearn: 1540.2493895\ttotal: 1m 9s\tremaining: 1m 28s\n",
      "441:\tlearn: 1540.0661671\ttotal: 1m 9s\tremaining: 1m 28s\n",
      "442:\tlearn: 1539.9630644\ttotal: 1m 9s\tremaining: 1m 27s\n",
      "443:\tlearn: 1539.8083086\ttotal: 1m 10s\tremaining: 1m 27s\n",
      "444:\tlearn: 1539.6258333\ttotal: 1m 10s\tremaining: 1m 27s\n",
      "445:\tlearn: 1539.4487226\ttotal: 1m 10s\tremaining: 1m 27s\n",
      "446:\tlearn: 1539.3138536\ttotal: 1m 10s\tremaining: 1m 27s\n",
      "447:\tlearn: 1539.3060577\ttotal: 1m 10s\tremaining: 1m 27s\n",
      "448:\tlearn: 1539.1728297\ttotal: 1m 10s\tremaining: 1m 26s\n",
      "449:\tlearn: 1539.0870568\ttotal: 1m 11s\tremaining: 1m 26s\n",
      "450:\tlearn: 1538.8641965\ttotal: 1m 11s\tremaining: 1m 26s\n",
      "451:\tlearn: 1538.5680209\ttotal: 1m 11s\tremaining: 1m 26s\n",
      "452:\tlearn: 1538.5336126\ttotal: 1m 11s\tremaining: 1m 26s\n",
      "453:\tlearn: 1538.4175272\ttotal: 1m 11s\tremaining: 1m 26s\n",
      "454:\tlearn: 1538.3730628\ttotal: 1m 11s\tremaining: 1m 26s\n",
      "455:\tlearn: 1538.0747956\ttotal: 1m 12s\tremaining: 1m 25s\n",
      "456:\tlearn: 1537.5617118\ttotal: 1m 12s\tremaining: 1m 25s\n",
      "457:\tlearn: 1537.4529365\ttotal: 1m 12s\tremaining: 1m 25s\n",
      "458:\tlearn: 1537.4131416\ttotal: 1m 12s\tremaining: 1m 25s\n",
      "459:\tlearn: 1537.2699947\ttotal: 1m 12s\tremaining: 1m 25s\n",
      "460:\tlearn: 1537.2126917\ttotal: 1m 12s\tremaining: 1m 25s\n"
     ]
    },
    {
     "name": "stdout",
     "output_type": "stream",
     "text": [
      "461:\tlearn: 1537.1947909\ttotal: 1m 13s\tremaining: 1m 25s\n",
      "462:\tlearn: 1536.9053583\ttotal: 1m 13s\tremaining: 1m 24s\n",
      "463:\tlearn: 1536.6811329\ttotal: 1m 13s\tremaining: 1m 24s\n",
      "464:\tlearn: 1536.6167614\ttotal: 1m 13s\tremaining: 1m 24s\n",
      "465:\tlearn: 1536.5241291\ttotal: 1m 13s\tremaining: 1m 24s\n",
      "466:\tlearn: 1536.3019104\ttotal: 1m 13s\tremaining: 1m 24s\n",
      "467:\tlearn: 1536.0340007\ttotal: 1m 13s\tremaining: 1m 24s\n",
      "468:\tlearn: 1535.8628616\ttotal: 1m 14s\tremaining: 1m 23s\n",
      "469:\tlearn: 1535.6460239\ttotal: 1m 14s\tremaining: 1m 23s\n",
      "470:\tlearn: 1535.5904841\ttotal: 1m 14s\tremaining: 1m 23s\n",
      "471:\tlearn: 1535.4718874\ttotal: 1m 14s\tremaining: 1m 23s\n",
      "472:\tlearn: 1535.2329878\ttotal: 1m 14s\tremaining: 1m 23s\n",
      "473:\tlearn: 1535.1706149\ttotal: 1m 14s\tremaining: 1m 23s\n",
      "474:\tlearn: 1535.1019628\ttotal: 1m 15s\tremaining: 1m 22s\n",
      "475:\tlearn: 1535.0468726\ttotal: 1m 15s\tremaining: 1m 22s\n",
      "476:\tlearn: 1534.8608974\ttotal: 1m 15s\tremaining: 1m 22s\n",
      "477:\tlearn: 1534.5809831\ttotal: 1m 15s\tremaining: 1m 22s\n",
      "478:\tlearn: 1534.3668414\ttotal: 1m 15s\tremaining: 1m 22s\n",
      "479:\tlearn: 1534.2635196\ttotal: 1m 15s\tremaining: 1m 22s\n",
      "480:\tlearn: 1534.1236982\ttotal: 1m 16s\tremaining: 1m 22s\n",
      "481:\tlearn: 1534.0453887\ttotal: 1m 16s\tremaining: 1m 21s\n",
      "482:\tlearn: 1533.6635071\ttotal: 1m 16s\tremaining: 1m 21s\n",
      "483:\tlearn: 1533.6271777\ttotal: 1m 16s\tremaining: 1m 21s\n",
      "484:\tlearn: 1533.5357359\ttotal: 1m 16s\tremaining: 1m 21s\n",
      "485:\tlearn: 1533.2652238\ttotal: 1m 16s\tremaining: 1m 21s\n",
      "486:\tlearn: 1533.0398532\ttotal: 1m 17s\tremaining: 1m 21s\n",
      "487:\tlearn: 1532.9468839\ttotal: 1m 17s\tremaining: 1m 21s\n",
      "488:\tlearn: 1532.8791584\ttotal: 1m 17s\tremaining: 1m 20s\n",
      "489:\tlearn: 1532.8483957\ttotal: 1m 17s\tremaining: 1m 20s\n",
      "490:\tlearn: 1532.7160930\ttotal: 1m 17s\tremaining: 1m 20s\n",
      "491:\tlearn: 1532.5637986\ttotal: 1m 17s\tremaining: 1m 20s\n",
      "492:\tlearn: 1532.4566176\ttotal: 1m 18s\tremaining: 1m 20s\n",
      "493:\tlearn: 1532.3426019\ttotal: 1m 18s\tremaining: 1m 20s\n",
      "494:\tlearn: 1531.9870617\ttotal: 1m 18s\tremaining: 1m 20s\n",
      "495:\tlearn: 1531.9264830\ttotal: 1m 18s\tremaining: 1m 19s\n",
      "496:\tlearn: 1531.8710005\ttotal: 1m 18s\tremaining: 1m 19s\n",
      "497:\tlearn: 1531.7396878\ttotal: 1m 18s\tremaining: 1m 19s\n",
      "498:\tlearn: 1531.5976344\ttotal: 1m 19s\tremaining: 1m 19s\n",
      "499:\tlearn: 1531.4773530\ttotal: 1m 19s\tremaining: 1m 19s\n",
      "500:\tlearn: 1531.2337732\ttotal: 1m 19s\tremaining: 1m 19s\n",
      "501:\tlearn: 1531.2020991\ttotal: 1m 19s\tremaining: 1m 18s\n",
      "502:\tlearn: 1531.0941096\ttotal: 1m 19s\tremaining: 1m 18s\n",
      "503:\tlearn: 1530.8659717\ttotal: 1m 19s\tremaining: 1m 18s\n",
      "504:\tlearn: 1530.8588892\ttotal: 1m 20s\tremaining: 1m 18s\n",
      "505:\tlearn: 1530.8147754\ttotal: 1m 20s\tremaining: 1m 18s\n",
      "506:\tlearn: 1530.7832825\ttotal: 1m 20s\tremaining: 1m 18s\n",
      "507:\tlearn: 1530.7242670\ttotal: 1m 20s\tremaining: 1m 18s\n",
      "508:\tlearn: 1530.5370337\ttotal: 1m 20s\tremaining: 1m 17s\n",
      "509:\tlearn: 1530.4147155\ttotal: 1m 20s\tremaining: 1m 17s\n",
      "510:\tlearn: 1530.3913865\ttotal: 1m 21s\tremaining: 1m 17s\n",
      "511:\tlearn: 1530.3341074\ttotal: 1m 21s\tremaining: 1m 17s\n",
      "512:\tlearn: 1530.1930307\ttotal: 1m 21s\tremaining: 1m 17s\n",
      "513:\tlearn: 1529.9491002\ttotal: 1m 21s\tremaining: 1m 17s\n",
      "514:\tlearn: 1529.7102882\ttotal: 1m 21s\tremaining: 1m 16s\n",
      "515:\tlearn: 1529.4307028\ttotal: 1m 21s\tremaining: 1m 16s\n",
      "516:\tlearn: 1529.3522273\ttotal: 1m 21s\tremaining: 1m 16s\n",
      "517:\tlearn: 1529.2706752\ttotal: 1m 22s\tremaining: 1m 16s\n",
      "518:\tlearn: 1529.0718636\ttotal: 1m 22s\tremaining: 1m 16s\n",
      "519:\tlearn: 1528.9790456\ttotal: 1m 22s\tremaining: 1m 16s\n",
      "520:\tlearn: 1528.9694308\ttotal: 1m 22s\tremaining: 1m 15s\n",
      "521:\tlearn: 1528.6067886\ttotal: 1m 22s\tremaining: 1m 15s\n",
      "522:\tlearn: 1528.4995219\ttotal: 1m 22s\tremaining: 1m 15s\n",
      "523:\tlearn: 1528.4487116\ttotal: 1m 23s\tremaining: 1m 15s\n",
      "524:\tlearn: 1528.4409271\ttotal: 1m 23s\tremaining: 1m 15s\n",
      "525:\tlearn: 1528.2952608\ttotal: 1m 23s\tremaining: 1m 15s\n",
      "526:\tlearn: 1527.8707184\ttotal: 1m 23s\tremaining: 1m 14s\n",
      "527:\tlearn: 1527.7610097\ttotal: 1m 23s\tremaining: 1m 14s\n",
      "528:\tlearn: 1527.7208084\ttotal: 1m 23s\tremaining: 1m 14s\n",
      "529:\tlearn: 1527.6272620\ttotal: 1m 24s\tremaining: 1m 14s\n",
      "530:\tlearn: 1527.5069267\ttotal: 1m 24s\tremaining: 1m 14s\n",
      "531:\tlearn: 1527.2695210\ttotal: 1m 24s\tremaining: 1m 14s\n",
      "532:\tlearn: 1527.1277570\ttotal: 1m 24s\tremaining: 1m 13s\n",
      "533:\tlearn: 1526.9778811\ttotal: 1m 24s\tremaining: 1m 13s\n",
      "534:\tlearn: 1526.9619274\ttotal: 1m 24s\tremaining: 1m 13s\n",
      "535:\tlearn: 1526.8117364\ttotal: 1m 25s\tremaining: 1m 13s\n",
      "536:\tlearn: 1526.3732845\ttotal: 1m 25s\tremaining: 1m 13s\n",
      "537:\tlearn: 1526.2044138\ttotal: 1m 25s\tremaining: 1m 13s\n",
      "538:\tlearn: 1526.1473198\ttotal: 1m 25s\tremaining: 1m 13s\n",
      "539:\tlearn: 1525.8325034\ttotal: 1m 25s\tremaining: 1m 13s\n",
      "540:\tlearn: 1525.7799358\ttotal: 1m 25s\tremaining: 1m 12s\n",
      "541:\tlearn: 1525.3538886\ttotal: 1m 25s\tremaining: 1m 12s\n",
      "542:\tlearn: 1525.1184657\ttotal: 1m 26s\tremaining: 1m 12s\n",
      "543:\tlearn: 1524.6523124\ttotal: 1m 26s\tremaining: 1m 12s\n",
      "544:\tlearn: 1524.6485085\ttotal: 1m 26s\tremaining: 1m 12s\n",
      "545:\tlearn: 1524.6150764\ttotal: 1m 26s\tremaining: 1m 12s\n",
      "546:\tlearn: 1524.6074695\ttotal: 1m 26s\tremaining: 1m 11s\n",
      "547:\tlearn: 1524.6010089\ttotal: 1m 26s\tremaining: 1m 11s\n",
      "548:\tlearn: 1524.5949067\ttotal: 1m 27s\tremaining: 1m 11s\n",
      "549:\tlearn: 1524.5656258\ttotal: 1m 27s\tremaining: 1m 11s\n",
      "550:\tlearn: 1524.3134800\ttotal: 1m 27s\tremaining: 1m 11s\n",
      "551:\tlearn: 1524.0832236\ttotal: 1m 27s\tremaining: 1m 11s\n",
      "552:\tlearn: 1523.9459133\ttotal: 1m 27s\tremaining: 1m 10s\n",
      "553:\tlearn: 1523.7882968\ttotal: 1m 27s\tremaining: 1m 10s\n",
      "554:\tlearn: 1523.6880961\ttotal: 1m 27s\tremaining: 1m 10s\n",
      "555:\tlearn: 1523.5353115\ttotal: 1m 28s\tremaining: 1m 10s\n",
      "556:\tlearn: 1523.5283698\ttotal: 1m 28s\tremaining: 1m 10s\n",
      "557:\tlearn: 1523.2807412\ttotal: 1m 28s\tremaining: 1m 10s\n",
      "558:\tlearn: 1523.0165895\ttotal: 1m 28s\tremaining: 1m 9s\n",
      "559:\tlearn: 1522.7546499\ttotal: 1m 28s\tremaining: 1m 9s\n",
      "560:\tlearn: 1522.4354523\ttotal: 1m 29s\tremaining: 1m 9s\n",
      "561:\tlearn: 1522.1544977\ttotal: 1m 29s\tremaining: 1m 9s\n",
      "562:\tlearn: 1522.0465349\ttotal: 1m 29s\tremaining: 1m 9s\n",
      "563:\tlearn: 1521.9154994\ttotal: 1m 29s\tremaining: 1m 9s\n",
      "564:\tlearn: 1521.7420502\ttotal: 1m 29s\tremaining: 1m 9s\n",
      "565:\tlearn: 1521.5276788\ttotal: 1m 29s\tremaining: 1m 8s\n",
      "566:\tlearn: 1521.2813994\ttotal: 1m 30s\tremaining: 1m 8s\n",
      "567:\tlearn: 1521.1646097\ttotal: 1m 30s\tremaining: 1m 8s\n",
      "568:\tlearn: 1520.9460237\ttotal: 1m 30s\tremaining: 1m 8s\n",
      "569:\tlearn: 1520.8856870\ttotal: 1m 30s\tremaining: 1m 8s\n",
      "570:\tlearn: 1520.8433235\ttotal: 1m 30s\tremaining: 1m 8s\n",
      "571:\tlearn: 1520.6723848\ttotal: 1m 30s\tremaining: 1m 7s\n",
      "572:\tlearn: 1520.4783811\ttotal: 1m 30s\tremaining: 1m 7s\n",
      "573:\tlearn: 1520.4477627\ttotal: 1m 30s\tremaining: 1m 7s\n",
      "574:\tlearn: 1520.4451655\ttotal: 1m 31s\tremaining: 1m 7s\n",
      "575:\tlearn: 1520.2398232\ttotal: 1m 31s\tremaining: 1m 7s\n",
      "576:\tlearn: 1520.0139271\ttotal: 1m 31s\tremaining: 1m 6s\n",
      "577:\tlearn: 1519.6920397\ttotal: 1m 31s\tremaining: 1m 6s\n",
      "578:\tlearn: 1519.4981229\ttotal: 1m 31s\tremaining: 1m 6s\n",
      "579:\tlearn: 1519.4167174\ttotal: 1m 31s\tremaining: 1m 6s\n",
      "580:\tlearn: 1519.2919006\ttotal: 1m 32s\tremaining: 1m 6s\n",
      "581:\tlearn: 1519.2477352\ttotal: 1m 32s\tremaining: 1m 6s\n",
      "582:\tlearn: 1519.1597357\ttotal: 1m 32s\tremaining: 1m 6s\n",
      "583:\tlearn: 1519.0524073\ttotal: 1m 32s\tremaining: 1m 5s\n",
      "584:\tlearn: 1518.5468264\ttotal: 1m 32s\tremaining: 1m 5s\n",
      "585:\tlearn: 1518.3044694\ttotal: 1m 32s\tremaining: 1m 5s\n",
      "586:\tlearn: 1518.2374781\ttotal: 1m 33s\tremaining: 1m 5s\n",
      "587:\tlearn: 1518.1038097\ttotal: 1m 33s\tremaining: 1m 5s\n",
      "588:\tlearn: 1517.9073445\ttotal: 1m 33s\tremaining: 1m 5s\n",
      "589:\tlearn: 1517.7828831\ttotal: 1m 33s\tremaining: 1m 4s\n",
      "590:\tlearn: 1517.6507241\ttotal: 1m 33s\tremaining: 1m 4s\n",
      "591:\tlearn: 1517.4465095\ttotal: 1m 33s\tremaining: 1m 4s\n",
      "592:\tlearn: 1517.3566297\ttotal: 1m 33s\tremaining: 1m 4s\n",
      "593:\tlearn: 1517.1578900\ttotal: 1m 34s\tremaining: 1m 4s\n",
      "594:\tlearn: 1516.9672206\ttotal: 1m 34s\tremaining: 1m 4s\n",
      "595:\tlearn: 1516.6569340\ttotal: 1m 34s\tremaining: 1m 4s\n",
      "596:\tlearn: 1516.5828888\ttotal: 1m 34s\tremaining: 1m 3s\n",
      "597:\tlearn: 1516.3284335\ttotal: 1m 34s\tremaining: 1m 3s\n",
      "598:\tlearn: 1516.2937479\ttotal: 1m 35s\tremaining: 1m 3s\n",
      "599:\tlearn: 1516.2409323\ttotal: 1m 35s\tremaining: 1m 3s\n",
      "600:\tlearn: 1515.7349494\ttotal: 1m 35s\tremaining: 1m 3s\n",
      "601:\tlearn: 1515.6051816\ttotal: 1m 35s\tremaining: 1m 3s\n",
      "602:\tlearn: 1515.5317020\ttotal: 1m 35s\tremaining: 1m 3s\n",
      "603:\tlearn: 1515.4624912\ttotal: 1m 35s\tremaining: 1m 2s\n",
      "604:\tlearn: 1515.4422164\ttotal: 1m 36s\tremaining: 1m 2s\n",
      "605:\tlearn: 1515.1847925\ttotal: 1m 36s\tremaining: 1m 2s\n",
      "606:\tlearn: 1515.0245428\ttotal: 1m 36s\tremaining: 1m 2s\n"
     ]
    },
    {
     "name": "stdout",
     "output_type": "stream",
     "text": [
      "607:\tlearn: 1514.8929923\ttotal: 1m 36s\tremaining: 1m 2s\n",
      "608:\tlearn: 1514.8423716\ttotal: 1m 36s\tremaining: 1m 2s\n",
      "609:\tlearn: 1514.7849721\ttotal: 1m 36s\tremaining: 1m 1s\n",
      "610:\tlearn: 1514.5198016\ttotal: 1m 36s\tremaining: 1m 1s\n",
      "611:\tlearn: 1514.4207531\ttotal: 1m 37s\tremaining: 1m 1s\n",
      "612:\tlearn: 1514.4014259\ttotal: 1m 37s\tremaining: 1m 1s\n",
      "613:\tlearn: 1514.3947083\ttotal: 1m 37s\tremaining: 1m 1s\n",
      "614:\tlearn: 1514.2674763\ttotal: 1m 37s\tremaining: 1m 1s\n",
      "615:\tlearn: 1513.9571826\ttotal: 1m 37s\tremaining: 1m 1s\n",
      "616:\tlearn: 1513.8898471\ttotal: 1m 38s\tremaining: 1m\n",
      "617:\tlearn: 1513.8293485\ttotal: 1m 38s\tremaining: 1m\n",
      "618:\tlearn: 1513.7001569\ttotal: 1m 38s\tremaining: 1m\n",
      "619:\tlearn: 1513.3082916\ttotal: 1m 38s\tremaining: 1m\n",
      "620:\tlearn: 1513.2421418\ttotal: 1m 38s\tremaining: 1m\n",
      "621:\tlearn: 1513.1355982\ttotal: 1m 38s\tremaining: 1m\n",
      "622:\tlearn: 1512.6634612\ttotal: 1m 39s\tremaining: 59.9s\n",
      "623:\tlearn: 1512.5867971\ttotal: 1m 39s\tremaining: 59.8s\n",
      "624:\tlearn: 1512.4996576\ttotal: 1m 39s\tremaining: 59.7s\n",
      "625:\tlearn: 1512.4599293\ttotal: 1m 39s\tremaining: 59.5s\n",
      "626:\tlearn: 1512.3381038\ttotal: 1m 39s\tremaining: 59.3s\n",
      "627:\tlearn: 1512.2707916\ttotal: 1m 39s\tremaining: 59.2s\n",
      "628:\tlearn: 1512.0702239\ttotal: 1m 40s\tremaining: 59s\n",
      "629:\tlearn: 1511.4697233\ttotal: 1m 40s\tremaining: 58.9s\n",
      "630:\tlearn: 1511.2486427\ttotal: 1m 40s\tremaining: 58.7s\n",
      "631:\tlearn: 1511.1940191\ttotal: 1m 40s\tremaining: 58.5s\n",
      "632:\tlearn: 1511.1396590\ttotal: 1m 40s\tremaining: 58.4s\n",
      "633:\tlearn: 1511.1213258\ttotal: 1m 40s\tremaining: 58.3s\n",
      "634:\tlearn: 1511.0130773\ttotal: 1m 41s\tremaining: 58.1s\n",
      "635:\tlearn: 1510.8822308\ttotal: 1m 41s\tremaining: 58s\n",
      "636:\tlearn: 1510.8605919\ttotal: 1m 41s\tremaining: 57.8s\n",
      "637:\tlearn: 1510.7779222\ttotal: 1m 41s\tremaining: 57.6s\n",
      "638:\tlearn: 1510.6643691\ttotal: 1m 41s\tremaining: 57.5s\n",
      "639:\tlearn: 1510.4923156\ttotal: 1m 41s\tremaining: 57.3s\n",
      "640:\tlearn: 1510.3887340\ttotal: 1m 42s\tremaining: 57.2s\n",
      "641:\tlearn: 1510.2577189\ttotal: 1m 42s\tremaining: 57s\n",
      "642:\tlearn: 1510.1454955\ttotal: 1m 42s\tremaining: 56.9s\n",
      "643:\tlearn: 1510.1147826\ttotal: 1m 42s\tremaining: 56.7s\n",
      "644:\tlearn: 1509.8727291\ttotal: 1m 42s\tremaining: 56.6s\n",
      "645:\tlearn: 1509.8430118\ttotal: 1m 42s\tremaining: 56.4s\n",
      "646:\tlearn: 1509.6277018\ttotal: 1m 43s\tremaining: 56.3s\n",
      "647:\tlearn: 1509.5758470\ttotal: 1m 43s\tremaining: 56.1s\n",
      "648:\tlearn: 1509.3322957\ttotal: 1m 43s\tremaining: 56s\n",
      "649:\tlearn: 1509.2667355\ttotal: 1m 43s\tremaining: 55.8s\n",
      "650:\tlearn: 1509.0807106\ttotal: 1m 43s\tremaining: 55.7s\n",
      "651:\tlearn: 1508.9343735\ttotal: 1m 44s\tremaining: 55.5s\n",
      "652:\tlearn: 1508.8445647\ttotal: 1m 44s\tremaining: 55.4s\n",
      "653:\tlearn: 1508.5280052\ttotal: 1m 44s\tremaining: 55.2s\n",
      "654:\tlearn: 1508.2462367\ttotal: 1m 44s\tremaining: 55s\n",
      "655:\tlearn: 1507.9822959\ttotal: 1m 44s\tremaining: 54.9s\n",
      "656:\tlearn: 1507.6248299\ttotal: 1m 44s\tremaining: 54.7s\n",
      "657:\tlearn: 1507.3601285\ttotal: 1m 44s\tremaining: 54.5s\n",
      "658:\tlearn: 1507.2378012\ttotal: 1m 45s\tremaining: 54.4s\n",
      "659:\tlearn: 1507.0923645\ttotal: 1m 45s\tremaining: 54.2s\n",
      "660:\tlearn: 1506.9900114\ttotal: 1m 45s\tremaining: 54.1s\n",
      "661:\tlearn: 1506.8849018\ttotal: 1m 45s\tremaining: 53.9s\n",
      "662:\tlearn: 1506.6894208\ttotal: 1m 45s\tremaining: 53.8s\n",
      "663:\tlearn: 1506.2224450\ttotal: 1m 45s\tremaining: 53.6s\n",
      "664:\tlearn: 1506.0376700\ttotal: 1m 46s\tremaining: 53.5s\n",
      "665:\tlearn: 1505.9532953\ttotal: 1m 46s\tremaining: 53.3s\n",
      "666:\tlearn: 1505.7530141\ttotal: 1m 46s\tremaining: 53.1s\n",
      "667:\tlearn: 1505.5026403\ttotal: 1m 46s\tremaining: 53s\n",
      "668:\tlearn: 1505.2773888\ttotal: 1m 46s\tremaining: 52.8s\n",
      "669:\tlearn: 1505.2036068\ttotal: 1m 46s\tremaining: 52.7s\n",
      "670:\tlearn: 1505.1685442\ttotal: 1m 47s\tremaining: 52.5s\n",
      "671:\tlearn: 1504.8822646\ttotal: 1m 47s\tremaining: 52.4s\n",
      "672:\tlearn: 1504.7118733\ttotal: 1m 47s\tremaining: 52.2s\n",
      "673:\tlearn: 1504.5750962\ttotal: 1m 47s\tremaining: 52.1s\n",
      "674:\tlearn: 1504.5025426\ttotal: 1m 47s\tremaining: 51.9s\n",
      "675:\tlearn: 1504.0787900\ttotal: 1m 48s\tremaining: 51.8s\n",
      "676:\tlearn: 1503.8601142\ttotal: 1m 48s\tremaining: 51.7s\n",
      "677:\tlearn: 1503.7071029\ttotal: 1m 48s\tremaining: 51.5s\n",
      "678:\tlearn: 1503.7000962\ttotal: 1m 48s\tremaining: 51.3s\n",
      "679:\tlearn: 1503.5426238\ttotal: 1m 48s\tremaining: 51.2s\n",
      "680:\tlearn: 1503.2177803\ttotal: 1m 48s\tremaining: 51s\n",
      "681:\tlearn: 1502.8799549\ttotal: 1m 49s\tremaining: 50.9s\n",
      "682:\tlearn: 1502.7803565\ttotal: 1m 49s\tremaining: 50.7s\n",
      "683:\tlearn: 1502.6772044\ttotal: 1m 49s\tremaining: 50.5s\n",
      "684:\tlearn: 1502.5623553\ttotal: 1m 49s\tremaining: 50.4s\n",
      "685:\tlearn: 1502.4777304\ttotal: 1m 49s\tremaining: 50.2s\n",
      "686:\tlearn: 1502.3828167\ttotal: 1m 49s\tremaining: 50.1s\n",
      "687:\tlearn: 1502.0621626\ttotal: 1m 50s\tremaining: 49.9s\n",
      "688:\tlearn: 1501.9783070\ttotal: 1m 50s\tremaining: 49.7s\n",
      "689:\tlearn: 1501.8241621\ttotal: 1m 50s\tremaining: 49.6s\n",
      "690:\tlearn: 1501.4636284\ttotal: 1m 50s\tremaining: 49.4s\n",
      "691:\tlearn: 1501.4067490\ttotal: 1m 50s\tremaining: 49.2s\n",
      "692:\tlearn: 1501.1132615\ttotal: 1m 50s\tremaining: 49.1s\n",
      "693:\tlearn: 1500.9927979\ttotal: 1m 50s\tremaining: 48.9s\n",
      "694:\tlearn: 1500.9214745\ttotal: 1m 51s\tremaining: 48.8s\n",
      "695:\tlearn: 1500.8006778\ttotal: 1m 51s\tremaining: 48.6s\n",
      "696:\tlearn: 1500.5376019\ttotal: 1m 51s\tremaining: 48.4s\n",
      "697:\tlearn: 1500.5189535\ttotal: 1m 51s\tremaining: 48.3s\n",
      "698:\tlearn: 1500.5073156\ttotal: 1m 51s\tremaining: 48.1s\n",
      "699:\tlearn: 1500.3915858\ttotal: 1m 51s\tremaining: 48s\n",
      "700:\tlearn: 1500.2998562\ttotal: 1m 52s\tremaining: 47.8s\n",
      "701:\tlearn: 1500.2555823\ttotal: 1m 52s\tremaining: 47.6s\n",
      "702:\tlearn: 1500.0346052\ttotal: 1m 52s\tremaining: 47.5s\n",
      "703:\tlearn: 1499.8502655\ttotal: 1m 52s\tremaining: 47.3s\n",
      "704:\tlearn: 1499.8342295\ttotal: 1m 52s\tremaining: 47.2s\n",
      "705:\tlearn: 1499.8069806\ttotal: 1m 52s\tremaining: 47s\n",
      "706:\tlearn: 1499.5828705\ttotal: 1m 53s\tremaining: 46.9s\n",
      "707:\tlearn: 1499.4513870\ttotal: 1m 53s\tremaining: 46.7s\n",
      "708:\tlearn: 1499.3688394\ttotal: 1m 53s\tremaining: 46.6s\n",
      "709:\tlearn: 1499.2274920\ttotal: 1m 53s\tremaining: 46.4s\n",
      "710:\tlearn: 1498.9965579\ttotal: 1m 53s\tremaining: 46.3s\n",
      "711:\tlearn: 1498.8809776\ttotal: 1m 54s\tremaining: 46.1s\n",
      "712:\tlearn: 1498.5581060\ttotal: 1m 54s\tremaining: 46s\n",
      "713:\tlearn: 1498.4652501\ttotal: 1m 54s\tremaining: 45.8s\n",
      "714:\tlearn: 1498.3127980\ttotal: 1m 54s\tremaining: 45.7s\n",
      "715:\tlearn: 1498.2207463\ttotal: 1m 54s\tremaining: 45.5s\n",
      "716:\tlearn: 1498.0081588\ttotal: 1m 54s\tremaining: 45.4s\n",
      "717:\tlearn: 1497.7892027\ttotal: 1m 55s\tremaining: 45.2s\n",
      "718:\tlearn: 1497.7328920\ttotal: 1m 55s\tremaining: 45s\n",
      "719:\tlearn: 1497.5858600\ttotal: 1m 55s\tremaining: 44.9s\n",
      "720:\tlearn: 1497.4043951\ttotal: 1m 55s\tremaining: 44.7s\n",
      "721:\tlearn: 1497.3870066\ttotal: 1m 55s\tremaining: 44.6s\n",
      "722:\tlearn: 1497.3360055\ttotal: 1m 55s\tremaining: 44.4s\n",
      "723:\tlearn: 1497.0005068\ttotal: 1m 56s\tremaining: 44.3s\n",
      "724:\tlearn: 1496.9224171\ttotal: 1m 56s\tremaining: 44.1s\n",
      "725:\tlearn: 1496.8998852\ttotal: 1m 56s\tremaining: 43.9s\n",
      "726:\tlearn: 1496.8352982\ttotal: 1m 56s\tremaining: 43.8s\n",
      "727:\tlearn: 1496.7900790\ttotal: 1m 56s\tremaining: 43.6s\n",
      "728:\tlearn: 1496.4820510\ttotal: 1m 56s\tremaining: 43.4s\n",
      "729:\tlearn: 1496.3604624\ttotal: 1m 57s\tremaining: 43.3s\n",
      "730:\tlearn: 1496.3511765\ttotal: 1m 57s\tremaining: 43.1s\n",
      "731:\tlearn: 1496.1659566\ttotal: 1m 57s\tremaining: 42.9s\n",
      "732:\tlearn: 1495.8551414\ttotal: 1m 57s\tremaining: 42.8s\n",
      "733:\tlearn: 1495.7429389\ttotal: 1m 57s\tremaining: 42.6s\n",
      "734:\tlearn: 1495.6687601\ttotal: 1m 57s\tremaining: 42.5s\n",
      "735:\tlearn: 1495.6355605\ttotal: 1m 57s\tremaining: 42.3s\n",
      "736:\tlearn: 1495.4702410\ttotal: 1m 58s\tremaining: 42.1s\n",
      "737:\tlearn: 1495.2205288\ttotal: 1m 58s\tremaining: 42s\n",
      "738:\tlearn: 1495.0837873\ttotal: 1m 58s\tremaining: 41.8s\n",
      "739:\tlearn: 1494.7995224\ttotal: 1m 58s\tremaining: 41.7s\n",
      "740:\tlearn: 1494.6444695\ttotal: 1m 58s\tremaining: 41.5s\n",
      "741:\tlearn: 1494.3316207\ttotal: 1m 59s\tremaining: 41.4s\n",
      "742:\tlearn: 1494.3091961\ttotal: 1m 59s\tremaining: 41.2s\n",
      "743:\tlearn: 1494.2938341\ttotal: 1m 59s\tremaining: 41.1s\n",
      "744:\tlearn: 1494.2196229\ttotal: 1m 59s\tremaining: 40.9s\n",
      "745:\tlearn: 1493.9852991\ttotal: 1m 59s\tremaining: 40.8s\n",
      "746:\tlearn: 1493.8746090\ttotal: 1m 59s\tremaining: 40.6s\n",
      "747:\tlearn: 1493.7999079\ttotal: 2m\tremaining: 40.4s\n",
      "748:\tlearn: 1493.6453129\ttotal: 2m\tremaining: 40.3s\n",
      "749:\tlearn: 1493.2733276\ttotal: 2m\tremaining: 40.1s\n",
      "750:\tlearn: 1493.1497754\ttotal: 2m\tremaining: 40s\n",
      "751:\tlearn: 1493.0826082\ttotal: 2m\tremaining: 39.8s\n",
      "752:\tlearn: 1493.0634741\ttotal: 2m\tremaining: 39.6s\n",
      "753:\tlearn: 1492.9595503\ttotal: 2m\tremaining: 39.5s\n",
      "754:\tlearn: 1492.7943984\ttotal: 2m 1s\tremaining: 39.3s\n",
      "755:\tlearn: 1492.7455111\ttotal: 2m 1s\tremaining: 39.1s\n"
     ]
    },
    {
     "name": "stdout",
     "output_type": "stream",
     "text": [
      "756:\tlearn: 1492.5962797\ttotal: 2m 1s\tremaining: 39s\n",
      "757:\tlearn: 1492.3901330\ttotal: 2m 1s\tremaining: 38.8s\n",
      "758:\tlearn: 1492.3005023\ttotal: 2m 1s\tremaining: 38.6s\n",
      "759:\tlearn: 1492.2839140\ttotal: 2m 1s\tremaining: 38.5s\n",
      "760:\tlearn: 1491.9870472\ttotal: 2m 2s\tremaining: 38.3s\n",
      "761:\tlearn: 1491.7652233\ttotal: 2m 2s\tremaining: 38.2s\n",
      "762:\tlearn: 1491.6705336\ttotal: 2m 2s\tremaining: 38s\n",
      "763:\tlearn: 1491.5568891\ttotal: 2m 2s\tremaining: 37.9s\n",
      "764:\tlearn: 1491.4821705\ttotal: 2m 2s\tremaining: 37.7s\n",
      "765:\tlearn: 1491.4554490\ttotal: 2m 2s\tremaining: 37.5s\n",
      "766:\tlearn: 1491.2157573\ttotal: 2m 3s\tremaining: 37.4s\n",
      "767:\tlearn: 1491.0600860\ttotal: 2m 3s\tremaining: 37.2s\n",
      "768:\tlearn: 1490.9626427\ttotal: 2m 3s\tremaining: 37.1s\n",
      "769:\tlearn: 1490.6962229\ttotal: 2m 3s\tremaining: 36.9s\n",
      "770:\tlearn: 1490.4048115\ttotal: 2m 3s\tremaining: 36.8s\n",
      "771:\tlearn: 1490.3474387\ttotal: 2m 3s\tremaining: 36.6s\n",
      "772:\tlearn: 1490.2555315\ttotal: 2m 4s\tremaining: 36.4s\n",
      "773:\tlearn: 1490.1727475\ttotal: 2m 4s\tremaining: 36.3s\n",
      "774:\tlearn: 1489.9285368\ttotal: 2m 4s\tremaining: 36.1s\n",
      "775:\tlearn: 1489.6121149\ttotal: 2m 4s\tremaining: 36s\n",
      "776:\tlearn: 1489.3223647\ttotal: 2m 4s\tremaining: 35.8s\n",
      "777:\tlearn: 1489.1601998\ttotal: 2m 4s\tremaining: 35.6s\n",
      "778:\tlearn: 1489.0827121\ttotal: 2m 5s\tremaining: 35.5s\n",
      "779:\tlearn: 1489.0597929\ttotal: 2m 5s\tremaining: 35.3s\n",
      "780:\tlearn: 1488.8322420\ttotal: 2m 5s\tremaining: 35.2s\n",
      "781:\tlearn: 1488.4968524\ttotal: 2m 5s\tremaining: 35s\n",
      "782:\tlearn: 1488.1245187\ttotal: 2m 5s\tremaining: 34.9s\n",
      "783:\tlearn: 1488.0990883\ttotal: 2m 5s\tremaining: 34.7s\n",
      "784:\tlearn: 1487.9445995\ttotal: 2m 6s\tremaining: 34.5s\n",
      "785:\tlearn: 1487.9002638\ttotal: 2m 6s\tremaining: 34.4s\n",
      "786:\tlearn: 1487.7346277\ttotal: 2m 6s\tremaining: 34.2s\n",
      "787:\tlearn: 1487.6123306\ttotal: 2m 6s\tremaining: 34.1s\n",
      "788:\tlearn: 1487.4233788\ttotal: 2m 6s\tremaining: 33.9s\n",
      "789:\tlearn: 1487.3664025\ttotal: 2m 6s\tremaining: 33.7s\n",
      "790:\tlearn: 1487.2271387\ttotal: 2m 7s\tremaining: 33.6s\n",
      "791:\tlearn: 1487.2246408\ttotal: 2m 7s\tremaining: 33.4s\n",
      "792:\tlearn: 1487.1045487\ttotal: 2m 7s\tremaining: 33.2s\n",
      "793:\tlearn: 1487.0143272\ttotal: 2m 7s\tremaining: 33.1s\n",
      "794:\tlearn: 1486.8811306\ttotal: 2m 7s\tremaining: 32.9s\n",
      "795:\tlearn: 1486.7542629\ttotal: 2m 7s\tremaining: 32.7s\n",
      "796:\tlearn: 1486.6136275\ttotal: 2m 7s\tremaining: 32.6s\n",
      "797:\tlearn: 1486.5283460\ttotal: 2m 8s\tremaining: 32.4s\n",
      "798:\tlearn: 1486.4792727\ttotal: 2m 8s\tremaining: 32.3s\n",
      "799:\tlearn: 1486.1458952\ttotal: 2m 8s\tremaining: 32.1s\n",
      "800:\tlearn: 1485.9570701\ttotal: 2m 8s\tremaining: 32s\n",
      "801:\tlearn: 1485.5882851\ttotal: 2m 8s\tremaining: 31.8s\n",
      "802:\tlearn: 1485.3942962\ttotal: 2m 8s\tremaining: 31.6s\n",
      "803:\tlearn: 1485.1599287\ttotal: 2m 9s\tremaining: 31.5s\n",
      "804:\tlearn: 1485.1189582\ttotal: 2m 9s\tremaining: 31.3s\n",
      "805:\tlearn: 1485.0200408\ttotal: 2m 9s\tremaining: 31.2s\n",
      "806:\tlearn: 1484.9391430\ttotal: 2m 9s\tremaining: 31s\n",
      "807:\tlearn: 1484.8467613\ttotal: 2m 9s\tremaining: 30.8s\n",
      "808:\tlearn: 1484.7540716\ttotal: 2m 9s\tremaining: 30.7s\n",
      "809:\tlearn: 1484.6841603\ttotal: 2m 10s\tremaining: 30.5s\n",
      "810:\tlearn: 1484.4954123\ttotal: 2m 10s\tremaining: 30.4s\n",
      "811:\tlearn: 1484.4405360\ttotal: 2m 10s\tremaining: 30.2s\n",
      "812:\tlearn: 1484.3138906\ttotal: 2m 10s\tremaining: 30s\n",
      "813:\tlearn: 1484.0880928\ttotal: 2m 10s\tremaining: 29.9s\n",
      "814:\tlearn: 1483.9436437\ttotal: 2m 11s\tremaining: 29.7s\n",
      "815:\tlearn: 1483.6442340\ttotal: 2m 11s\tremaining: 29.6s\n",
      "816:\tlearn: 1483.4651245\ttotal: 2m 11s\tremaining: 29.4s\n",
      "817:\tlearn: 1483.4526837\ttotal: 2m 11s\tremaining: 29.3s\n",
      "818:\tlearn: 1483.3456872\ttotal: 2m 11s\tremaining: 29.1s\n",
      "819:\tlearn: 1483.2833135\ttotal: 2m 11s\tremaining: 28.9s\n",
      "820:\tlearn: 1483.1301753\ttotal: 2m 12s\tremaining: 28.8s\n",
      "821:\tlearn: 1483.0664360\ttotal: 2m 12s\tremaining: 28.6s\n",
      "822:\tlearn: 1482.9760812\ttotal: 2m 12s\tremaining: 28.5s\n",
      "823:\tlearn: 1482.8444826\ttotal: 2m 12s\tremaining: 28.3s\n",
      "824:\tlearn: 1482.6954899\ttotal: 2m 12s\tremaining: 28.2s\n",
      "825:\tlearn: 1482.5895370\ttotal: 2m 12s\tremaining: 28s\n",
      "826:\tlearn: 1482.5469702\ttotal: 2m 13s\tremaining: 27.8s\n",
      "827:\tlearn: 1482.4987852\ttotal: 2m 13s\tremaining: 27.7s\n",
      "828:\tlearn: 1482.4828464\ttotal: 2m 13s\tremaining: 27.5s\n",
      "829:\tlearn: 1482.4179641\ttotal: 2m 13s\tremaining: 27.3s\n",
      "830:\tlearn: 1482.2045920\ttotal: 2m 13s\tremaining: 27.2s\n",
      "831:\tlearn: 1481.9250035\ttotal: 2m 13s\tremaining: 27s\n",
      "832:\tlearn: 1481.8797003\ttotal: 2m 13s\tremaining: 26.9s\n",
      "833:\tlearn: 1481.7409201\ttotal: 2m 14s\tremaining: 26.7s\n",
      "834:\tlearn: 1481.4804059\ttotal: 2m 14s\tremaining: 26.5s\n",
      "835:\tlearn: 1481.2973462\ttotal: 2m 14s\tremaining: 26.4s\n",
      "836:\tlearn: 1481.2734118\ttotal: 2m 14s\tremaining: 26.2s\n",
      "837:\tlearn: 1481.2134118\ttotal: 2m 14s\tremaining: 26.1s\n",
      "838:\tlearn: 1481.0746342\ttotal: 2m 14s\tremaining: 25.9s\n",
      "839:\tlearn: 1480.9986902\ttotal: 2m 15s\tremaining: 25.8s\n",
      "840:\tlearn: 1480.7659678\ttotal: 2m 15s\tremaining: 25.6s\n",
      "841:\tlearn: 1480.6925727\ttotal: 2m 15s\tremaining: 25.4s\n",
      "842:\tlearn: 1480.6443240\ttotal: 2m 15s\tremaining: 25.3s\n",
      "843:\tlearn: 1480.5812628\ttotal: 2m 15s\tremaining: 25.1s\n",
      "844:\tlearn: 1480.4604185\ttotal: 2m 16s\tremaining: 25s\n",
      "845:\tlearn: 1480.3560024\ttotal: 2m 16s\tremaining: 24.8s\n",
      "846:\tlearn: 1480.1894818\ttotal: 2m 16s\tremaining: 24.6s\n",
      "847:\tlearn: 1480.1174867\ttotal: 2m 16s\tremaining: 24.5s\n",
      "848:\tlearn: 1479.7054446\ttotal: 2m 16s\tremaining: 24.3s\n",
      "849:\tlearn: 1479.5621537\ttotal: 2m 16s\tremaining: 24.2s\n",
      "850:\tlearn: 1479.4794619\ttotal: 2m 17s\tremaining: 24s\n",
      "851:\tlearn: 1479.2252966\ttotal: 2m 17s\tremaining: 23.8s\n",
      "852:\tlearn: 1479.1736207\ttotal: 2m 17s\tremaining: 23.7s\n",
      "853:\tlearn: 1478.9539821\ttotal: 2m 17s\tremaining: 23.5s\n",
      "854:\tlearn: 1478.7583448\ttotal: 2m 17s\tremaining: 23.4s\n",
      "855:\tlearn: 1478.7444930\ttotal: 2m 17s\tremaining: 23.2s\n",
      "856:\tlearn: 1478.5957698\ttotal: 2m 18s\tremaining: 23s\n",
      "857:\tlearn: 1478.4885786\ttotal: 2m 18s\tremaining: 22.9s\n",
      "858:\tlearn: 1478.1695903\ttotal: 2m 18s\tremaining: 22.7s\n",
      "859:\tlearn: 1478.1284881\ttotal: 2m 18s\tremaining: 22.6s\n",
      "860:\tlearn: 1477.8781936\ttotal: 2m 18s\tremaining: 22.4s\n",
      "861:\tlearn: 1477.6622587\ttotal: 2m 19s\tremaining: 22.3s\n",
      "862:\tlearn: 1477.5892448\ttotal: 2m 19s\tremaining: 22.1s\n",
      "863:\tlearn: 1477.4981239\ttotal: 2m 19s\tremaining: 21.9s\n",
      "864:\tlearn: 1477.2846388\ttotal: 2m 19s\tremaining: 21.8s\n",
      "865:\tlearn: 1477.0456848\ttotal: 2m 19s\tremaining: 21.6s\n",
      "866:\tlearn: 1476.7353099\ttotal: 2m 19s\tremaining: 21.5s\n",
      "867:\tlearn: 1476.4961935\ttotal: 2m 20s\tremaining: 21.3s\n",
      "868:\tlearn: 1476.3596233\ttotal: 2m 20s\tremaining: 21.1s\n",
      "869:\tlearn: 1476.3304781\ttotal: 2m 20s\tremaining: 21s\n",
      "870:\tlearn: 1476.2679197\ttotal: 2m 20s\tremaining: 20.8s\n",
      "871:\tlearn: 1476.2168341\ttotal: 2m 20s\tremaining: 20.7s\n",
      "872:\tlearn: 1475.8847397\ttotal: 2m 20s\tremaining: 20.5s\n",
      "873:\tlearn: 1475.7167323\ttotal: 2m 21s\tremaining: 20.3s\n",
      "874:\tlearn: 1475.6777975\ttotal: 2m 21s\tremaining: 20.2s\n",
      "875:\tlearn: 1475.4030181\ttotal: 2m 21s\tremaining: 20s\n",
      "876:\tlearn: 1475.3713011\ttotal: 2m 21s\tremaining: 19.9s\n",
      "877:\tlearn: 1475.3475538\ttotal: 2m 21s\tremaining: 19.7s\n",
      "878:\tlearn: 1475.1500995\ttotal: 2m 21s\tremaining: 19.5s\n",
      "879:\tlearn: 1475.0685564\ttotal: 2m 22s\tremaining: 19.4s\n",
      "880:\tlearn: 1474.6119078\ttotal: 2m 22s\tremaining: 19.2s\n",
      "881:\tlearn: 1474.5255359\ttotal: 2m 22s\tremaining: 19s\n",
      "882:\tlearn: 1474.4908344\ttotal: 2m 22s\tremaining: 18.9s\n",
      "883:\tlearn: 1474.3620992\ttotal: 2m 22s\tremaining: 18.7s\n",
      "884:\tlearn: 1473.9275565\ttotal: 2m 22s\tremaining: 18.6s\n",
      "885:\tlearn: 1473.9111708\ttotal: 2m 22s\tremaining: 18.4s\n",
      "886:\tlearn: 1473.8970196\ttotal: 2m 22s\tremaining: 18.2s\n",
      "887:\tlearn: 1473.7066212\ttotal: 2m 23s\tremaining: 18.1s\n",
      "888:\tlearn: 1473.7002775\ttotal: 2m 23s\tremaining: 17.9s\n",
      "889:\tlearn: 1473.4644517\ttotal: 2m 23s\tremaining: 17.7s\n",
      "890:\tlearn: 1473.4008525\ttotal: 2m 23s\tremaining: 17.6s\n",
      "891:\tlearn: 1473.3089758\ttotal: 2m 23s\tremaining: 17.4s\n",
      "892:\tlearn: 1473.2923778\ttotal: 2m 23s\tremaining: 17.2s\n",
      "893:\tlearn: 1473.1799728\ttotal: 2m 23s\tremaining: 17.1s\n",
      "894:\tlearn: 1473.0491291\ttotal: 2m 24s\tremaining: 16.9s\n",
      "895:\tlearn: 1472.9123043\ttotal: 2m 24s\tremaining: 16.8s\n",
      "896:\tlearn: 1472.8791523\ttotal: 2m 24s\tremaining: 16.6s\n",
      "897:\tlearn: 1472.8320949\ttotal: 2m 24s\tremaining: 16.4s\n",
      "898:\tlearn: 1472.7191559\ttotal: 2m 24s\tremaining: 16.3s\n",
      "899:\tlearn: 1472.6609951\ttotal: 2m 25s\tremaining: 16.1s\n",
      "900:\tlearn: 1472.4452637\ttotal: 2m 25s\tremaining: 16s\n",
      "901:\tlearn: 1472.4163098\ttotal: 2m 25s\tremaining: 15.8s\n",
      "902:\tlearn: 1472.4004260\ttotal: 2m 25s\tremaining: 15.6s\n",
      "903:\tlearn: 1472.3926666\ttotal: 2m 25s\tremaining: 15.5s\n",
      "904:\tlearn: 1472.2474798\ttotal: 2m 25s\tremaining: 15.3s\n"
     ]
    },
    {
     "name": "stdout",
     "output_type": "stream",
     "text": [
      "905:\tlearn: 1472.2042707\ttotal: 2m 25s\tremaining: 15.1s\n",
      "906:\tlearn: 1471.8892657\ttotal: 2m 26s\tremaining: 15s\n",
      "907:\tlearn: 1471.6432543\ttotal: 2m 26s\tremaining: 14.8s\n",
      "908:\tlearn: 1471.2298782\ttotal: 2m 26s\tremaining: 14.7s\n",
      "909:\tlearn: 1471.1389074\ttotal: 2m 26s\tremaining: 14.5s\n",
      "910:\tlearn: 1471.0937650\ttotal: 2m 26s\tremaining: 14.3s\n",
      "911:\tlearn: 1471.0293683\ttotal: 2m 27s\tremaining: 14.2s\n",
      "912:\tlearn: 1470.7605470\ttotal: 2m 27s\tremaining: 14s\n",
      "913:\tlearn: 1470.6020215\ttotal: 2m 27s\tremaining: 13.9s\n",
      "914:\tlearn: 1470.5782569\ttotal: 2m 27s\tremaining: 13.7s\n",
      "915:\tlearn: 1470.5397686\ttotal: 2m 27s\tremaining: 13.5s\n",
      "916:\tlearn: 1470.2942227\ttotal: 2m 27s\tremaining: 13.4s\n",
      "917:\tlearn: 1470.1932283\ttotal: 2m 28s\tremaining: 13.2s\n",
      "918:\tlearn: 1470.0228664\ttotal: 2m 28s\tremaining: 13.1s\n",
      "919:\tlearn: 1469.8981132\ttotal: 2m 28s\tremaining: 12.9s\n",
      "920:\tlearn: 1469.7801442\ttotal: 2m 28s\tremaining: 12.7s\n",
      "921:\tlearn: 1469.7791433\ttotal: 2m 28s\tremaining: 12.6s\n",
      "922:\tlearn: 1469.3429241\ttotal: 2m 28s\tremaining: 12.4s\n",
      "923:\tlearn: 1469.2847532\ttotal: 2m 29s\tremaining: 12.3s\n",
      "924:\tlearn: 1469.2512103\ttotal: 2m 29s\tremaining: 12.1s\n",
      "925:\tlearn: 1469.1384054\ttotal: 2m 29s\tremaining: 11.9s\n",
      "926:\tlearn: 1469.1085194\ttotal: 2m 29s\tremaining: 11.8s\n",
      "927:\tlearn: 1468.7426765\ttotal: 2m 29s\tremaining: 11.6s\n",
      "928:\tlearn: 1468.5501530\ttotal: 2m 29s\tremaining: 11.5s\n",
      "929:\tlearn: 1468.4655852\ttotal: 2m 30s\tremaining: 11.3s\n",
      "930:\tlearn: 1468.2833650\ttotal: 2m 30s\tremaining: 11.1s\n",
      "931:\tlearn: 1468.1328438\ttotal: 2m 30s\tremaining: 11s\n",
      "932:\tlearn: 1468.1121989\ttotal: 2m 30s\tremaining: 10.8s\n",
      "933:\tlearn: 1467.8907631\ttotal: 2m 30s\tremaining: 10.7s\n",
      "934:\tlearn: 1467.7382818\ttotal: 2m 31s\tremaining: 10.5s\n",
      "935:\tlearn: 1467.5765467\ttotal: 2m 31s\tremaining: 10.3s\n",
      "936:\tlearn: 1467.4666753\ttotal: 2m 31s\tremaining: 10.2s\n",
      "937:\tlearn: 1467.2296789\ttotal: 2m 31s\tremaining: 10s\n",
      "938:\tlearn: 1467.1017929\ttotal: 2m 31s\tremaining: 9.86s\n",
      "939:\tlearn: 1467.0553706\ttotal: 2m 31s\tremaining: 9.7s\n",
      "940:\tlearn: 1466.9230755\ttotal: 2m 32s\tremaining: 9.53s\n",
      "941:\tlearn: 1466.6788803\ttotal: 2m 32s\tremaining: 9.37s\n",
      "942:\tlearn: 1466.4748658\ttotal: 2m 32s\tremaining: 9.21s\n",
      "943:\tlearn: 1466.3546987\ttotal: 2m 32s\tremaining: 9.05s\n",
      "944:\tlearn: 1466.3425725\ttotal: 2m 32s\tremaining: 8.89s\n",
      "945:\tlearn: 1466.2761466\ttotal: 2m 32s\tremaining: 8.72s\n",
      "946:\tlearn: 1466.1759197\ttotal: 2m 33s\tremaining: 8.56s\n",
      "947:\tlearn: 1466.1162206\ttotal: 2m 33s\tremaining: 8.4s\n",
      "948:\tlearn: 1466.0141293\ttotal: 2m 33s\tremaining: 8.24s\n",
      "949:\tlearn: 1465.8205476\ttotal: 2m 33s\tremaining: 8.08s\n",
      "950:\tlearn: 1465.7717007\ttotal: 2m 33s\tremaining: 7.92s\n",
      "951:\tlearn: 1465.5426608\ttotal: 2m 33s\tremaining: 7.76s\n",
      "952:\tlearn: 1465.5246803\ttotal: 2m 34s\tremaining: 7.6s\n",
      "953:\tlearn: 1465.5208779\ttotal: 2m 34s\tremaining: 7.44s\n",
      "954:\tlearn: 1465.3511092\ttotal: 2m 34s\tremaining: 7.28s\n",
      "955:\tlearn: 1465.2340401\ttotal: 2m 34s\tremaining: 7.12s\n",
      "956:\tlearn: 1465.2028326\ttotal: 2m 34s\tremaining: 6.95s\n",
      "957:\tlearn: 1465.0968770\ttotal: 2m 34s\tremaining: 6.79s\n",
      "958:\tlearn: 1464.9884422\ttotal: 2m 35s\tremaining: 6.63s\n",
      "959:\tlearn: 1464.9127004\ttotal: 2m 35s\tremaining: 6.47s\n",
      "960:\tlearn: 1464.8937693\ttotal: 2m 35s\tremaining: 6.31s\n",
      "961:\tlearn: 1464.7604662\ttotal: 2m 35s\tremaining: 6.15s\n",
      "962:\tlearn: 1464.7386168\ttotal: 2m 35s\tremaining: 5.99s\n",
      "963:\tlearn: 1464.7151778\ttotal: 2m 35s\tremaining: 5.82s\n",
      "964:\tlearn: 1464.6958053\ttotal: 2m 36s\tremaining: 5.66s\n",
      "965:\tlearn: 1464.5063431\ttotal: 2m 36s\tremaining: 5.5s\n",
      "966:\tlearn: 1464.3613638\ttotal: 2m 36s\tremaining: 5.33s\n",
      "967:\tlearn: 1464.3004820\ttotal: 2m 36s\tremaining: 5.17s\n",
      "968:\tlearn: 1464.2379753\ttotal: 2m 36s\tremaining: 5.01s\n",
      "969:\tlearn: 1464.1270074\ttotal: 2m 36s\tremaining: 4.85s\n",
      "970:\tlearn: 1464.0101957\ttotal: 2m 37s\tremaining: 4.69s\n",
      "971:\tlearn: 1463.8995019\ttotal: 2m 37s\tremaining: 4.53s\n",
      "972:\tlearn: 1463.8326342\ttotal: 2m 37s\tremaining: 4.37s\n",
      "973:\tlearn: 1463.7601700\ttotal: 2m 37s\tremaining: 4.21s\n",
      "974:\tlearn: 1463.4188940\ttotal: 2m 37s\tremaining: 4.05s\n",
      "975:\tlearn: 1463.1538880\ttotal: 2m 38s\tremaining: 3.89s\n",
      "976:\tlearn: 1462.8862143\ttotal: 2m 38s\tremaining: 3.72s\n",
      "977:\tlearn: 1462.7162062\ttotal: 2m 38s\tremaining: 3.56s\n",
      "978:\tlearn: 1462.5466000\ttotal: 2m 38s\tremaining: 3.4s\n",
      "979:\tlearn: 1462.4481880\ttotal: 2m 38s\tremaining: 3.24s\n",
      "980:\tlearn: 1462.3698028\ttotal: 2m 38s\tremaining: 3.08s\n",
      "981:\tlearn: 1462.2987234\ttotal: 2m 39s\tremaining: 2.92s\n",
      "982:\tlearn: 1462.2622676\ttotal: 2m 39s\tremaining: 2.75s\n",
      "983:\tlearn: 1462.1724264\ttotal: 2m 39s\tremaining: 2.59s\n",
      "984:\tlearn: 1462.1426352\ttotal: 2m 39s\tremaining: 2.43s\n",
      "985:\tlearn: 1462.1202335\ttotal: 2m 39s\tremaining: 2.27s\n",
      "986:\tlearn: 1462.0414142\ttotal: 2m 39s\tremaining: 2.11s\n",
      "987:\tlearn: 1461.8570795\ttotal: 2m 40s\tremaining: 1.94s\n",
      "988:\tlearn: 1461.6663003\ttotal: 2m 40s\tremaining: 1.78s\n",
      "989:\tlearn: 1461.6040225\ttotal: 2m 40s\tremaining: 1.62s\n",
      "990:\tlearn: 1461.5954073\ttotal: 2m 40s\tremaining: 1.46s\n",
      "991:\tlearn: 1461.3129193\ttotal: 2m 40s\tremaining: 1.3s\n",
      "992:\tlearn: 1461.2222643\ttotal: 2m 40s\tremaining: 1.13s\n",
      "993:\tlearn: 1461.0367438\ttotal: 2m 41s\tremaining: 972ms\n",
      "994:\tlearn: 1460.9171513\ttotal: 2m 41s\tremaining: 810ms\n",
      "995:\tlearn: 1460.9098445\ttotal: 2m 41s\tremaining: 648ms\n",
      "996:\tlearn: 1460.8614481\ttotal: 2m 41s\tremaining: 486ms\n",
      "997:\tlearn: 1460.8163164\ttotal: 2m 41s\tremaining: 324ms\n",
      "998:\tlearn: 1460.7323468\ttotal: 2m 41s\tremaining: 162ms\n",
      "999:\tlearn: 1460.6695967\ttotal: 2m 42s\tremaining: 0us\n",
      "[CV 3/3; 2/2] END .....learning_rate=0.2, random_state=12345; total time= 2.8min\n",
      "0:\tlearn: 3854.5554468\ttotal: 371ms\tremaining: 6m 10s\n",
      "1:\tlearn: 3432.5165530\ttotal: 693ms\tremaining: 5m 45s\n",
      "2:\tlearn: 3099.6448850\ttotal: 985ms\tremaining: 5m 27s\n",
      "3:\tlearn: 2837.0727192\ttotal: 1.21s\tremaining: 5m 1s\n",
      "4:\tlearn: 2645.0415484\ttotal: 1.46s\tremaining: 4m 50s\n",
      "5:\tlearn: 2493.6848344\ttotal: 1.73s\tremaining: 4m 46s\n",
      "6:\tlearn: 2373.9881990\ttotal: 2.02s\tremaining: 4m 47s\n",
      "7:\tlearn: 2271.3467774\ttotal: 2.35s\tremaining: 4m 51s\n",
      "8:\tlearn: 2185.6278479\ttotal: 2.66s\tremaining: 4m 52s\n",
      "9:\tlearn: 2115.9900146\ttotal: 2.92s\tremaining: 4m 49s\n",
      "10:\tlearn: 2062.1292575\ttotal: 3.14s\tremaining: 4m 42s\n",
      "11:\tlearn: 2025.4192597\ttotal: 3.34s\tremaining: 4m 34s\n",
      "12:\tlearn: 1992.7061287\ttotal: 3.54s\tremaining: 4m 28s\n",
      "13:\tlearn: 1966.6777641\ttotal: 3.79s\tremaining: 4m 26s\n",
      "14:\tlearn: 1946.3500284\ttotal: 4.03s\tremaining: 4m 24s\n",
      "15:\tlearn: 1929.9609096\ttotal: 4.31s\tremaining: 4m 24s\n",
      "16:\tlearn: 1914.6074032\ttotal: 4.5s\tremaining: 4m 20s\n",
      "17:\tlearn: 1899.6169234\ttotal: 4.68s\tremaining: 4m 15s\n",
      "18:\tlearn: 1889.7527659\ttotal: 4.88s\tremaining: 4m 12s\n",
      "19:\tlearn: 1876.7155307\ttotal: 5.21s\tremaining: 4m 15s\n",
      "20:\tlearn: 1868.3473167\ttotal: 5.48s\tremaining: 4m 15s\n",
      "21:\tlearn: 1861.6043933\ttotal: 5.68s\tremaining: 4m 12s\n",
      "22:\tlearn: 1856.3502415\ttotal: 5.92s\tremaining: 4m 11s\n",
      "23:\tlearn: 1850.7901950\ttotal: 6.15s\tremaining: 4m 10s\n",
      "24:\tlearn: 1843.2251033\ttotal: 6.34s\tremaining: 4m 7s\n",
      "25:\tlearn: 1832.3203094\ttotal: 6.58s\tremaining: 4m 6s\n",
      "26:\tlearn: 1826.6694612\ttotal: 6.82s\tremaining: 4m 5s\n",
      "27:\tlearn: 1821.6140096\ttotal: 7.13s\tremaining: 4m 7s\n",
      "28:\tlearn: 1815.4168230\ttotal: 7.31s\tremaining: 4m 4s\n",
      "29:\tlearn: 1810.2195602\ttotal: 7.57s\tremaining: 4m 4s\n",
      "30:\tlearn: 1804.5876643\ttotal: 7.91s\tremaining: 4m 7s\n",
      "31:\tlearn: 1799.7535980\ttotal: 8.13s\tremaining: 4m 6s\n",
      "32:\tlearn: 1794.6061379\ttotal: 8.33s\tremaining: 4m 4s\n",
      "33:\tlearn: 1791.3561947\ttotal: 8.56s\tremaining: 4m 3s\n",
      "34:\tlearn: 1788.2227580\ttotal: 8.82s\tremaining: 4m 3s\n",
      "35:\tlearn: 1785.0343749\ttotal: 9.07s\tremaining: 4m 2s\n",
      "36:\tlearn: 1777.4014032\ttotal: 9.27s\tremaining: 4m 1s\n",
      "37:\tlearn: 1775.3055668\ttotal: 9.48s\tremaining: 4m\n",
      "38:\tlearn: 1773.9178878\ttotal: 9.64s\tremaining: 3m 57s\n",
      "39:\tlearn: 1768.3369842\ttotal: 9.89s\tremaining: 3m 57s\n",
      "40:\tlearn: 1766.1096557\ttotal: 10.1s\tremaining: 3m 56s\n",
      "41:\tlearn: 1763.2332069\ttotal: 10.4s\tremaining: 3m 57s\n",
      "42:\tlearn: 1759.7479714\ttotal: 10.7s\tremaining: 3m 57s\n",
      "43:\tlearn: 1756.8965385\ttotal: 10.9s\tremaining: 3m 57s\n",
      "44:\tlearn: 1753.0676184\ttotal: 11.1s\tremaining: 3m 56s\n",
      "45:\tlearn: 1751.1532000\ttotal: 11.3s\tremaining: 3m 55s\n",
      "46:\tlearn: 1747.2484143\ttotal: 11.6s\tremaining: 3m 54s\n",
      "47:\tlearn: 1743.0306613\ttotal: 11.8s\tremaining: 3m 53s\n",
      "48:\tlearn: 1740.4890896\ttotal: 12s\tremaining: 3m 52s\n",
      "49:\tlearn: 1737.2329026\ttotal: 12.2s\tremaining: 3m 52s\n",
      "50:\tlearn: 1734.9928836\ttotal: 12.5s\tremaining: 3m 52s\n",
      "51:\tlearn: 1732.3266355\ttotal: 12.7s\tremaining: 3m 51s\n"
     ]
    },
    {
     "name": "stdout",
     "output_type": "stream",
     "text": [
      "52:\tlearn: 1730.3711045\ttotal: 13s\tremaining: 3m 52s\n",
      "53:\tlearn: 1728.3866830\ttotal: 13.3s\tremaining: 3m 52s\n",
      "54:\tlearn: 1727.1565551\ttotal: 13.5s\tremaining: 3m 51s\n",
      "55:\tlearn: 1726.0553164\ttotal: 13.7s\tremaining: 3m 50s\n",
      "56:\tlearn: 1724.4810456\ttotal: 13.8s\tremaining: 3m 49s\n",
      "57:\tlearn: 1722.2944969\ttotal: 14.1s\tremaining: 3m 49s\n",
      "58:\tlearn: 1720.9666371\ttotal: 14.4s\tremaining: 3m 49s\n",
      "59:\tlearn: 1718.9468844\ttotal: 14.6s\tremaining: 3m 48s\n",
      "60:\tlearn: 1717.0936673\ttotal: 14.8s\tremaining: 3m 47s\n",
      "61:\tlearn: 1715.6220199\ttotal: 15s\tremaining: 3m 47s\n",
      "62:\tlearn: 1714.0837264\ttotal: 15.2s\tremaining: 3m 46s\n",
      "63:\tlearn: 1713.4183471\ttotal: 15.5s\tremaining: 3m 46s\n",
      "64:\tlearn: 1711.9879191\ttotal: 15.7s\tremaining: 3m 46s\n",
      "65:\tlearn: 1709.4866476\ttotal: 16s\tremaining: 3m 46s\n",
      "66:\tlearn: 1707.5114882\ttotal: 16.2s\tremaining: 3m 45s\n",
      "67:\tlearn: 1705.2589634\ttotal: 16.4s\tremaining: 3m 44s\n",
      "68:\tlearn: 1703.7813987\ttotal: 16.7s\tremaining: 3m 44s\n",
      "69:\tlearn: 1701.7583873\ttotal: 17s\tremaining: 3m 45s\n",
      "70:\tlearn: 1700.5302922\ttotal: 17.2s\tremaining: 3m 44s\n",
      "71:\tlearn: 1698.9273486\ttotal: 17.5s\tremaining: 3m 44s\n",
      "72:\tlearn: 1696.8598071\ttotal: 17.7s\tremaining: 3m 44s\n",
      "73:\tlearn: 1695.5208889\ttotal: 17.9s\tremaining: 3m 44s\n",
      "74:\tlearn: 1694.5787372\ttotal: 18.2s\tremaining: 3m 44s\n",
      "75:\tlearn: 1693.6333335\ttotal: 18.4s\tremaining: 3m 44s\n",
      "76:\tlearn: 1691.8714979\ttotal: 18.6s\tremaining: 3m 43s\n",
      "77:\tlearn: 1690.1318431\ttotal: 18.9s\tremaining: 3m 43s\n",
      "78:\tlearn: 1689.1729514\ttotal: 19.1s\tremaining: 3m 42s\n",
      "79:\tlearn: 1687.8357247\ttotal: 19.3s\tremaining: 3m 41s\n",
      "80:\tlearn: 1686.2558320\ttotal: 19.6s\tremaining: 3m 42s\n",
      "81:\tlearn: 1685.2596158\ttotal: 19.8s\tremaining: 3m 41s\n",
      "82:\tlearn: 1683.7909943\ttotal: 20s\tremaining: 3m 41s\n",
      "83:\tlearn: 1682.5221703\ttotal: 20.3s\tremaining: 3m 41s\n",
      "84:\tlearn: 1681.4965155\ttotal: 20.5s\tremaining: 3m 40s\n",
      "85:\tlearn: 1680.1902110\ttotal: 20.7s\tremaining: 3m 39s\n",
      "86:\tlearn: 1679.4498281\ttotal: 20.9s\tremaining: 3m 39s\n",
      "87:\tlearn: 1678.1438897\ttotal: 21.1s\tremaining: 3m 38s\n",
      "88:\tlearn: 1677.0873599\ttotal: 21.4s\tremaining: 3m 38s\n",
      "89:\tlearn: 1675.8848546\ttotal: 21.6s\tremaining: 3m 38s\n",
      "90:\tlearn: 1674.0400664\ttotal: 21.9s\tremaining: 3m 38s\n",
      "91:\tlearn: 1672.8517234\ttotal: 22.1s\tremaining: 3m 38s\n",
      "92:\tlearn: 1671.9518911\ttotal: 22.3s\tremaining: 3m 37s\n",
      "93:\tlearn: 1671.5519451\ttotal: 22.6s\tremaining: 3m 37s\n",
      "94:\tlearn: 1670.5434470\ttotal: 22.9s\tremaining: 3m 37s\n",
      "95:\tlearn: 1669.9292445\ttotal: 23.1s\tremaining: 3m 37s\n",
      "96:\tlearn: 1668.3028804\ttotal: 23.3s\tremaining: 3m 36s\n",
      "97:\tlearn: 1667.6084340\ttotal: 23.6s\tremaining: 3m 36s\n",
      "98:\tlearn: 1666.6120091\ttotal: 23.8s\tremaining: 3m 36s\n",
      "99:\tlearn: 1666.3149767\ttotal: 24s\tremaining: 3m 36s\n",
      "100:\tlearn: 1664.9739579\ttotal: 24.3s\tremaining: 3m 36s\n",
      "101:\tlearn: 1663.3235161\ttotal: 24.5s\tremaining: 3m 35s\n",
      "102:\tlearn: 1661.9199918\ttotal: 24.7s\tremaining: 3m 35s\n",
      "103:\tlearn: 1661.1594502\ttotal: 25s\tremaining: 3m 35s\n",
      "104:\tlearn: 1659.8446571\ttotal: 25.3s\tremaining: 3m 35s\n",
      "105:\tlearn: 1659.2790062\ttotal: 25.5s\tremaining: 3m 35s\n",
      "106:\tlearn: 1658.7669926\ttotal: 25.8s\tremaining: 3m 35s\n",
      "107:\tlearn: 1657.4152270\ttotal: 26s\tremaining: 3m 34s\n",
      "108:\tlearn: 1656.5407292\ttotal: 26.3s\tremaining: 3m 34s\n",
      "109:\tlearn: 1655.9736864\ttotal: 26.5s\tremaining: 3m 34s\n",
      "110:\tlearn: 1654.7214507\ttotal: 26.7s\tremaining: 3m 34s\n",
      "111:\tlearn: 1653.7677178\ttotal: 26.9s\tremaining: 3m 33s\n",
      "112:\tlearn: 1652.9053557\ttotal: 27.2s\tremaining: 3m 33s\n",
      "113:\tlearn: 1652.2042500\ttotal: 27.5s\tremaining: 3m 33s\n",
      "114:\tlearn: 1651.6125224\ttotal: 27.7s\tremaining: 3m 33s\n",
      "115:\tlearn: 1651.1700211\ttotal: 28s\tremaining: 3m 33s\n",
      "116:\tlearn: 1650.6086088\ttotal: 28.2s\tremaining: 3m 32s\n",
      "117:\tlearn: 1649.7045329\ttotal: 28.4s\tremaining: 3m 32s\n",
      "118:\tlearn: 1649.3383812\ttotal: 28.6s\tremaining: 3m 31s\n",
      "119:\tlearn: 1648.5182038\ttotal: 28.9s\tremaining: 3m 31s\n",
      "120:\tlearn: 1647.9522584\ttotal: 29.2s\tremaining: 3m 32s\n",
      "121:\tlearn: 1646.9248111\ttotal: 29.4s\tremaining: 3m 31s\n",
      "122:\tlearn: 1645.1048007\ttotal: 29.6s\tremaining: 3m 31s\n",
      "123:\tlearn: 1644.3876238\ttotal: 29.8s\tremaining: 3m 30s\n",
      "124:\tlearn: 1643.4991939\ttotal: 30.1s\tremaining: 3m 30s\n",
      "125:\tlearn: 1642.6795729\ttotal: 30.3s\tremaining: 3m 30s\n",
      "126:\tlearn: 1642.5081242\ttotal: 30.5s\tremaining: 3m 29s\n",
      "127:\tlearn: 1641.8887438\ttotal: 30.8s\tremaining: 3m 29s\n",
      "128:\tlearn: 1641.5223135\ttotal: 31s\tremaining: 3m 29s\n",
      "129:\tlearn: 1640.2928379\ttotal: 31.2s\tremaining: 3m 28s\n",
      "130:\tlearn: 1640.2582591\ttotal: 31.4s\tremaining: 3m 28s\n",
      "131:\tlearn: 1639.5726012\ttotal: 31.7s\tremaining: 3m 28s\n",
      "132:\tlearn: 1638.5674570\ttotal: 32s\tremaining: 3m 28s\n",
      "133:\tlearn: 1637.8581526\ttotal: 32.2s\tremaining: 3m 28s\n",
      "134:\tlearn: 1636.9518432\ttotal: 32.5s\tremaining: 3m 28s\n",
      "135:\tlearn: 1636.5032018\ttotal: 32.7s\tremaining: 3m 28s\n",
      "136:\tlearn: 1635.9366721\ttotal: 32.9s\tremaining: 3m 27s\n",
      "137:\tlearn: 1635.6703019\ttotal: 33.2s\tremaining: 3m 27s\n",
      "138:\tlearn: 1634.8999346\ttotal: 33.5s\tremaining: 3m 27s\n",
      "139:\tlearn: 1634.1853390\ttotal: 33.7s\tremaining: 3m 26s\n",
      "140:\tlearn: 1633.2339600\ttotal: 33.9s\tremaining: 3m 26s\n",
      "141:\tlearn: 1632.7543125\ttotal: 34.3s\tremaining: 3m 26s\n",
      "142:\tlearn: 1631.7555297\ttotal: 34.5s\tremaining: 3m 27s\n",
      "143:\tlearn: 1631.4615776\ttotal: 34.8s\tremaining: 3m 26s\n",
      "144:\tlearn: 1630.6002409\ttotal: 35s\tremaining: 3m 26s\n",
      "145:\tlearn: 1629.9123068\ttotal: 35.3s\tremaining: 3m 26s\n",
      "146:\tlearn: 1629.0010614\ttotal: 35.5s\tremaining: 3m 25s\n",
      "147:\tlearn: 1628.4810322\ttotal: 35.7s\tremaining: 3m 25s\n",
      "148:\tlearn: 1628.3360078\ttotal: 35.9s\tremaining: 3m 24s\n",
      "149:\tlearn: 1627.7980534\ttotal: 36s\tremaining: 3m 24s\n",
      "150:\tlearn: 1627.3663492\ttotal: 36.3s\tremaining: 3m 24s\n",
      "151:\tlearn: 1626.9510618\ttotal: 36.6s\tremaining: 3m 24s\n",
      "152:\tlearn: 1626.3963899\ttotal: 36.9s\tremaining: 3m 24s\n",
      "153:\tlearn: 1625.9816752\ttotal: 37.1s\tremaining: 3m 23s\n",
      "154:\tlearn: 1625.3331404\ttotal: 37.4s\tremaining: 3m 23s\n",
      "155:\tlearn: 1624.6764932\ttotal: 37.6s\tremaining: 3m 23s\n",
      "156:\tlearn: 1624.1961595\ttotal: 37.9s\tremaining: 3m 23s\n",
      "157:\tlearn: 1623.7057950\ttotal: 38.1s\tremaining: 3m 22s\n",
      "158:\tlearn: 1623.1427505\ttotal: 38.3s\tremaining: 3m 22s\n",
      "159:\tlearn: 1622.4548067\ttotal: 38.5s\tremaining: 3m 22s\n",
      "160:\tlearn: 1622.0132133\ttotal: 38.8s\tremaining: 3m 22s\n",
      "161:\tlearn: 1620.9516946\ttotal: 39s\tremaining: 3m 21s\n",
      "162:\tlearn: 1620.2754859\ttotal: 39.3s\tremaining: 3m 21s\n",
      "163:\tlearn: 1619.6579743\ttotal: 39.6s\tremaining: 3m 21s\n",
      "164:\tlearn: 1619.1104990\ttotal: 39.8s\tremaining: 3m 21s\n",
      "165:\tlearn: 1618.7057638\ttotal: 40s\tremaining: 3m 21s\n",
      "166:\tlearn: 1617.7655545\ttotal: 40.3s\tremaining: 3m 21s\n",
      "167:\tlearn: 1616.9891736\ttotal: 40.6s\tremaining: 3m 20s\n",
      "168:\tlearn: 1616.6071959\ttotal: 40.9s\tremaining: 3m 20s\n",
      "169:\tlearn: 1615.7749018\ttotal: 41.1s\tremaining: 3m 20s\n",
      "170:\tlearn: 1615.6786298\ttotal: 41.4s\tremaining: 3m 20s\n",
      "171:\tlearn: 1615.1768660\ttotal: 41.6s\tremaining: 3m 20s\n",
      "172:\tlearn: 1614.6591806\ttotal: 41.9s\tremaining: 3m 20s\n",
      "173:\tlearn: 1614.1516955\ttotal: 42.1s\tremaining: 3m 19s\n",
      "174:\tlearn: 1613.4415885\ttotal: 42.3s\tremaining: 3m 19s\n",
      "175:\tlearn: 1612.0220472\ttotal: 42.6s\tremaining: 3m 19s\n",
      "176:\tlearn: 1611.6125512\ttotal: 42.8s\tremaining: 3m 19s\n",
      "177:\tlearn: 1611.3926054\ttotal: 43.1s\tremaining: 3m 18s\n",
      "178:\tlearn: 1610.9638194\ttotal: 43.3s\tremaining: 3m 18s\n",
      "179:\tlearn: 1610.7419012\ttotal: 43.5s\tremaining: 3m 18s\n",
      "180:\tlearn: 1610.2662052\ttotal: 43.7s\tremaining: 3m 17s\n",
      "181:\tlearn: 1610.1261212\ttotal: 43.9s\tremaining: 3m 17s\n",
      "182:\tlearn: 1609.4419002\ttotal: 44.2s\tremaining: 3m 17s\n",
      "183:\tlearn: 1609.1395600\ttotal: 44.6s\tremaining: 3m 17s\n",
      "184:\tlearn: 1608.7787519\ttotal: 44.8s\tremaining: 3m 17s\n",
      "185:\tlearn: 1608.3651369\ttotal: 45s\tremaining: 3m 16s\n",
      "186:\tlearn: 1608.1960955\ttotal: 45.2s\tremaining: 3m 16s\n",
      "187:\tlearn: 1607.9697606\ttotal: 45.5s\tremaining: 3m 16s\n",
      "188:\tlearn: 1607.5028733\ttotal: 45.8s\tremaining: 3m 16s\n",
      "189:\tlearn: 1607.2366123\ttotal: 46.1s\tremaining: 3m 16s\n",
      "190:\tlearn: 1606.7961414\ttotal: 46.3s\tremaining: 3m 16s\n",
      "191:\tlearn: 1606.3836433\ttotal: 46.6s\tremaining: 3m 16s\n",
      "192:\tlearn: 1605.4783772\ttotal: 46.9s\tremaining: 3m 15s\n",
      "193:\tlearn: 1604.9023778\ttotal: 47.2s\tremaining: 3m 15s\n",
      "194:\tlearn: 1604.4201611\ttotal: 47.4s\tremaining: 3m 15s\n",
      "195:\tlearn: 1603.4300882\ttotal: 47.6s\tremaining: 3m 15s\n",
      "196:\tlearn: 1603.1302758\ttotal: 47.8s\tremaining: 3m 14s\n",
      "197:\tlearn: 1602.5732912\ttotal: 48s\tremaining: 3m 14s\n",
      "198:\tlearn: 1602.3168674\ttotal: 48.3s\tremaining: 3m 14s\n",
      "199:\tlearn: 1601.9337561\ttotal: 48.6s\tremaining: 3m 14s\n"
     ]
    },
    {
     "name": "stdout",
     "output_type": "stream",
     "text": [
      "200:\tlearn: 1601.2722204\ttotal: 48.9s\tremaining: 3m 14s\n",
      "201:\tlearn: 1600.6377890\ttotal: 49.1s\tremaining: 3m 14s\n",
      "202:\tlearn: 1600.1390879\ttotal: 49.4s\tremaining: 3m 13s\n",
      "203:\tlearn: 1599.7869019\ttotal: 49.5s\tremaining: 3m 13s\n",
      "204:\tlearn: 1599.7473615\ttotal: 49.7s\tremaining: 3m 12s\n",
      "205:\tlearn: 1599.2447124\ttotal: 49.9s\tremaining: 3m 12s\n",
      "206:\tlearn: 1598.6110569\ttotal: 50.2s\tremaining: 3m 12s\n",
      "207:\tlearn: 1597.9816525\ttotal: 50.4s\tremaining: 3m 12s\n",
      "208:\tlearn: 1597.5278275\ttotal: 50.7s\tremaining: 3m 11s\n",
      "209:\tlearn: 1597.3826000\ttotal: 51s\tremaining: 3m 11s\n",
      "210:\tlearn: 1597.0937060\ttotal: 51.2s\tremaining: 3m 11s\n",
      "211:\tlearn: 1596.8894784\ttotal: 51.5s\tremaining: 3m 11s\n",
      "212:\tlearn: 1596.5792645\ttotal: 51.7s\tremaining: 3m 11s\n",
      "213:\tlearn: 1596.1702420\ttotal: 52s\tremaining: 3m 10s\n",
      "214:\tlearn: 1595.7009692\ttotal: 52.3s\tremaining: 3m 10s\n",
      "215:\tlearn: 1595.6436785\ttotal: 52.6s\tremaining: 3m 10s\n",
      "216:\tlearn: 1595.4977945\ttotal: 52.8s\tremaining: 3m 10s\n",
      "217:\tlearn: 1595.1164353\ttotal: 53s\tremaining: 3m 10s\n",
      "218:\tlearn: 1594.7966586\ttotal: 53.3s\tremaining: 3m 10s\n",
      "219:\tlearn: 1594.6858192\ttotal: 53.5s\tremaining: 3m 9s\n",
      "220:\tlearn: 1594.4475107\ttotal: 53.8s\tremaining: 3m 9s\n",
      "221:\tlearn: 1593.5348178\ttotal: 54s\tremaining: 3m 9s\n",
      "222:\tlearn: 1592.8890005\ttotal: 54.3s\tremaining: 3m 9s\n",
      "223:\tlearn: 1592.5432812\ttotal: 54.5s\tremaining: 3m 8s\n",
      "224:\tlearn: 1592.1668743\ttotal: 54.7s\tremaining: 3m 8s\n",
      "225:\tlearn: 1592.0248637\ttotal: 55s\tremaining: 3m 8s\n",
      "226:\tlearn: 1591.5846243\ttotal: 55.3s\tremaining: 3m 8s\n",
      "227:\tlearn: 1591.1685624\ttotal: 55.5s\tremaining: 3m 7s\n",
      "228:\tlearn: 1590.7284434\ttotal: 55.8s\tremaining: 3m 7s\n",
      "229:\tlearn: 1590.3725790\ttotal: 56s\tremaining: 3m 7s\n",
      "230:\tlearn: 1590.2258379\ttotal: 56.2s\tremaining: 3m 7s\n",
      "231:\tlearn: 1590.0697835\ttotal: 56.4s\tremaining: 3m 6s\n",
      "232:\tlearn: 1589.8972975\ttotal: 56.7s\tremaining: 3m 6s\n",
      "233:\tlearn: 1589.7600013\ttotal: 56.9s\tremaining: 3m 6s\n",
      "234:\tlearn: 1589.6449319\ttotal: 57.1s\tremaining: 3m 5s\n",
      "235:\tlearn: 1589.3221028\ttotal: 57.4s\tremaining: 3m 5s\n",
      "236:\tlearn: 1588.9160832\ttotal: 57.7s\tremaining: 3m 5s\n",
      "237:\tlearn: 1588.8893125\ttotal: 57.9s\tremaining: 3m 5s\n",
      "238:\tlearn: 1588.5405225\ttotal: 58.1s\tremaining: 3m 5s\n",
      "239:\tlearn: 1588.4517455\ttotal: 58.4s\tremaining: 3m 4s\n",
      "240:\tlearn: 1587.9969551\ttotal: 58.6s\tremaining: 3m 4s\n",
      "241:\tlearn: 1587.7962109\ttotal: 58.9s\tremaining: 3m 4s\n",
      "242:\tlearn: 1587.7431455\ttotal: 59.1s\tremaining: 3m 3s\n",
      "243:\tlearn: 1587.1016720\ttotal: 59.3s\tremaining: 3m 3s\n",
      "244:\tlearn: 1587.0167497\ttotal: 59.5s\tremaining: 3m 3s\n",
      "245:\tlearn: 1586.4468244\ttotal: 59.8s\tremaining: 3m 3s\n",
      "246:\tlearn: 1586.0930016\ttotal: 60s\tremaining: 3m 2s\n",
      "247:\tlearn: 1585.7037426\ttotal: 1m\tremaining: 3m 2s\n",
      "248:\tlearn: 1585.2765332\ttotal: 1m\tremaining: 3m 2s\n",
      "249:\tlearn: 1585.1959735\ttotal: 1m\tremaining: 3m 2s\n",
      "250:\tlearn: 1585.0086070\ttotal: 1m 1s\tremaining: 3m 2s\n",
      "251:\tlearn: 1584.5235061\ttotal: 1m 1s\tremaining: 3m 1s\n",
      "252:\tlearn: 1584.3672342\ttotal: 1m 1s\tremaining: 3m 1s\n",
      "253:\tlearn: 1584.0741865\ttotal: 1m 1s\tremaining: 3m 1s\n",
      "254:\tlearn: 1583.9736242\ttotal: 1m 1s\tremaining: 3m\n",
      "255:\tlearn: 1583.7013379\ttotal: 1m 2s\tremaining: 3m\n",
      "256:\tlearn: 1583.6112309\ttotal: 1m 2s\tremaining: 3m\n",
      "257:\tlearn: 1583.5261023\ttotal: 1m 2s\tremaining: 3m\n",
      "258:\tlearn: 1583.3727580\ttotal: 1m 2s\tremaining: 3m\n",
      "259:\tlearn: 1582.8218534\ttotal: 1m 3s\tremaining: 2m 59s\n",
      "260:\tlearn: 1582.4968974\ttotal: 1m 3s\tremaining: 2m 59s\n",
      "261:\tlearn: 1582.4621692\ttotal: 1m 3s\tremaining: 2m 58s\n",
      "262:\tlearn: 1582.2694637\ttotal: 1m 3s\tremaining: 2m 58s\n",
      "263:\tlearn: 1581.9239260\ttotal: 1m 3s\tremaining: 2m 58s\n",
      "264:\tlearn: 1581.4224812\ttotal: 1m 4s\tremaining: 2m 58s\n",
      "265:\tlearn: 1580.8183367\ttotal: 1m 4s\tremaining: 2m 58s\n",
      "266:\tlearn: 1580.6305818\ttotal: 1m 4s\tremaining: 2m 57s\n",
      "267:\tlearn: 1580.2314740\ttotal: 1m 5s\tremaining: 2m 57s\n",
      "268:\tlearn: 1579.7457478\ttotal: 1m 5s\tremaining: 2m 57s\n",
      "269:\tlearn: 1579.5222781\ttotal: 1m 5s\tremaining: 2m 57s\n",
      "270:\tlearn: 1578.8634664\ttotal: 1m 5s\tremaining: 2m 57s\n",
      "271:\tlearn: 1578.5380631\ttotal: 1m 6s\tremaining: 2m 57s\n",
      "272:\tlearn: 1578.3398728\ttotal: 1m 6s\tremaining: 2m 56s\n",
      "273:\tlearn: 1577.9870087\ttotal: 1m 6s\tremaining: 2m 56s\n",
      "274:\tlearn: 1577.7694937\ttotal: 1m 6s\tremaining: 2m 56s\n",
      "275:\tlearn: 1577.5155877\ttotal: 1m 7s\tremaining: 2m 56s\n",
      "276:\tlearn: 1577.4292036\ttotal: 1m 7s\tremaining: 2m 56s\n",
      "277:\tlearn: 1577.1784740\ttotal: 1m 7s\tremaining: 2m 55s\n",
      "278:\tlearn: 1576.6254342\ttotal: 1m 8s\tremaining: 2m 55s\n",
      "279:\tlearn: 1576.5379691\ttotal: 1m 8s\tremaining: 2m 55s\n",
      "280:\tlearn: 1576.4166151\ttotal: 1m 8s\tremaining: 2m 55s\n",
      "281:\tlearn: 1576.3025847\ttotal: 1m 8s\tremaining: 2m 55s\n",
      "282:\tlearn: 1576.1530558\ttotal: 1m 9s\tremaining: 2m 54s\n",
      "283:\tlearn: 1575.5573012\ttotal: 1m 9s\tremaining: 2m 54s\n",
      "284:\tlearn: 1575.3794556\ttotal: 1m 9s\tremaining: 2m 54s\n",
      "285:\tlearn: 1575.2693523\ttotal: 1m 9s\tremaining: 2m 54s\n",
      "286:\tlearn: 1574.8657784\ttotal: 1m 10s\tremaining: 2m 54s\n",
      "287:\tlearn: 1574.5759262\ttotal: 1m 10s\tremaining: 2m 53s\n",
      "288:\tlearn: 1574.5269146\ttotal: 1m 10s\tremaining: 2m 53s\n",
      "289:\tlearn: 1574.1796304\ttotal: 1m 10s\tremaining: 2m 53s\n",
      "290:\tlearn: 1574.1157306\ttotal: 1m 11s\tremaining: 2m 53s\n",
      "291:\tlearn: 1574.1053254\ttotal: 1m 11s\tremaining: 2m 52s\n",
      "292:\tlearn: 1573.5667679\ttotal: 1m 11s\tremaining: 2m 52s\n",
      "293:\tlearn: 1573.1589368\ttotal: 1m 11s\tremaining: 2m 51s\n",
      "294:\tlearn: 1572.6440638\ttotal: 1m 11s\tremaining: 2m 51s\n",
      "295:\tlearn: 1572.2269634\ttotal: 1m 12s\tremaining: 2m 51s\n",
      "296:\tlearn: 1571.9386201\ttotal: 1m 12s\tremaining: 2m 51s\n",
      "297:\tlearn: 1571.8886845\ttotal: 1m 12s\tremaining: 2m 51s\n",
      "298:\tlearn: 1571.5033229\ttotal: 1m 12s\tremaining: 2m 50s\n",
      "299:\tlearn: 1570.9526223\ttotal: 1m 13s\tremaining: 2m 50s\n",
      "300:\tlearn: 1570.3749423\ttotal: 1m 13s\tremaining: 2m 50s\n",
      "301:\tlearn: 1570.2605083\ttotal: 1m 13s\tremaining: 2m 50s\n",
      "302:\tlearn: 1569.9497770\ttotal: 1m 13s\tremaining: 2m 50s\n",
      "303:\tlearn: 1569.8054579\ttotal: 1m 14s\tremaining: 2m 50s\n",
      "304:\tlearn: 1569.7537246\ttotal: 1m 14s\tremaining: 2m 49s\n",
      "305:\tlearn: 1569.5878405\ttotal: 1m 14s\tremaining: 2m 49s\n",
      "306:\tlearn: 1569.2519405\ttotal: 1m 15s\tremaining: 2m 49s\n",
      "307:\tlearn: 1569.0658897\ttotal: 1m 15s\tremaining: 2m 49s\n",
      "308:\tlearn: 1568.6780799\ttotal: 1m 15s\tremaining: 2m 48s\n",
      "309:\tlearn: 1568.3382374\ttotal: 1m 15s\tremaining: 2m 48s\n",
      "310:\tlearn: 1568.0832684\ttotal: 1m 16s\tremaining: 2m 48s\n",
      "311:\tlearn: 1567.6386119\ttotal: 1m 16s\tremaining: 2m 48s\n",
      "312:\tlearn: 1567.0927676\ttotal: 1m 16s\tremaining: 2m 48s\n",
      "313:\tlearn: 1566.6885052\ttotal: 1m 16s\tremaining: 2m 47s\n",
      "314:\tlearn: 1566.5664503\ttotal: 1m 17s\tremaining: 2m 47s\n",
      "315:\tlearn: 1566.3585079\ttotal: 1m 17s\tremaining: 2m 47s\n",
      "316:\tlearn: 1565.9397468\ttotal: 1m 17s\tremaining: 2m 47s\n",
      "317:\tlearn: 1565.8011327\ttotal: 1m 17s\tremaining: 2m 46s\n",
      "318:\tlearn: 1565.5552676\ttotal: 1m 18s\tremaining: 2m 46s\n",
      "319:\tlearn: 1565.1133807\ttotal: 1m 18s\tremaining: 2m 46s\n",
      "320:\tlearn: 1565.0833066\ttotal: 1m 18s\tremaining: 2m 46s\n",
      "321:\tlearn: 1564.5938047\ttotal: 1m 18s\tremaining: 2m 46s\n",
      "322:\tlearn: 1564.5370501\ttotal: 1m 19s\tremaining: 2m 45s\n",
      "323:\tlearn: 1564.4196727\ttotal: 1m 19s\tremaining: 2m 45s\n",
      "324:\tlearn: 1564.2772454\ttotal: 1m 19s\tremaining: 2m 45s\n",
      "325:\tlearn: 1563.9421930\ttotal: 1m 19s\tremaining: 2m 45s\n",
      "326:\tlearn: 1563.7575271\ttotal: 1m 20s\tremaining: 2m 44s\n",
      "327:\tlearn: 1563.5552018\ttotal: 1m 20s\tremaining: 2m 44s\n",
      "328:\tlearn: 1563.2295913\ttotal: 1m 20s\tremaining: 2m 44s\n",
      "329:\tlearn: 1562.9685379\ttotal: 1m 20s\tremaining: 2m 43s\n",
      "330:\tlearn: 1562.8290334\ttotal: 1m 20s\tremaining: 2m 43s\n",
      "331:\tlearn: 1562.6396877\ttotal: 1m 21s\tremaining: 2m 43s\n",
      "332:\tlearn: 1562.3353933\ttotal: 1m 21s\tremaining: 2m 42s\n",
      "333:\tlearn: 1561.9849182\ttotal: 1m 21s\tremaining: 2m 42s\n",
      "334:\tlearn: 1561.6179071\ttotal: 1m 21s\tremaining: 2m 42s\n",
      "335:\tlearn: 1561.2023098\ttotal: 1m 22s\tremaining: 2m 42s\n",
      "336:\tlearn: 1560.9480235\ttotal: 1m 22s\tremaining: 2m 42s\n",
      "337:\tlearn: 1560.9157150\ttotal: 1m 22s\tremaining: 2m 42s\n",
      "338:\tlearn: 1560.3439606\ttotal: 1m 23s\tremaining: 2m 41s\n",
      "339:\tlearn: 1560.1899623\ttotal: 1m 23s\tremaining: 2m 41s\n",
      "340:\tlearn: 1559.9142876\ttotal: 1m 23s\tremaining: 2m 41s\n",
      "341:\tlearn: 1559.6460585\ttotal: 1m 23s\tremaining: 2m 41s\n",
      "342:\tlearn: 1559.3978252\ttotal: 1m 24s\tremaining: 2m 40s\n",
      "343:\tlearn: 1559.3225891\ttotal: 1m 24s\tremaining: 2m 40s\n",
      "344:\tlearn: 1559.1238873\ttotal: 1m 24s\tremaining: 2m 40s\n",
      "345:\tlearn: 1558.8869515\ttotal: 1m 24s\tremaining: 2m 40s\n",
      "346:\tlearn: 1558.8093105\ttotal: 1m 25s\tremaining: 2m 40s\n"
     ]
    },
    {
     "name": "stdout",
     "output_type": "stream",
     "text": [
      "347:\tlearn: 1558.5170904\ttotal: 1m 25s\tremaining: 2m 39s\n",
      "348:\tlearn: 1558.3228191\ttotal: 1m 25s\tremaining: 2m 39s\n",
      "349:\tlearn: 1558.1712872\ttotal: 1m 25s\tremaining: 2m 39s\n",
      "350:\tlearn: 1557.9482789\ttotal: 1m 25s\tremaining: 2m 38s\n",
      "351:\tlearn: 1557.8928509\ttotal: 1m 26s\tremaining: 2m 38s\n",
      "352:\tlearn: 1557.8189192\ttotal: 1m 26s\tremaining: 2m 38s\n",
      "353:\tlearn: 1557.2425616\ttotal: 1m 26s\tremaining: 2m 38s\n",
      "354:\tlearn: 1557.0923277\ttotal: 1m 26s\tremaining: 2m 37s\n",
      "355:\tlearn: 1556.7862593\ttotal: 1m 27s\tremaining: 2m 37s\n",
      "356:\tlearn: 1556.2787320\ttotal: 1m 27s\tremaining: 2m 37s\n",
      "357:\tlearn: 1556.2099441\ttotal: 1m 27s\tremaining: 2m 37s\n",
      "358:\tlearn: 1556.0537126\ttotal: 1m 27s\tremaining: 2m 36s\n",
      "359:\tlearn: 1555.6289609\ttotal: 1m 28s\tremaining: 2m 36s\n",
      "360:\tlearn: 1555.0671520\ttotal: 1m 28s\tremaining: 2m 36s\n",
      "361:\tlearn: 1554.9200676\ttotal: 1m 28s\tremaining: 2m 36s\n",
      "362:\tlearn: 1554.7362414\ttotal: 1m 28s\tremaining: 2m 35s\n",
      "363:\tlearn: 1554.3077274\ttotal: 1m 29s\tremaining: 2m 35s\n",
      "364:\tlearn: 1553.7148346\ttotal: 1m 29s\tremaining: 2m 35s\n",
      "365:\tlearn: 1553.5301848\ttotal: 1m 29s\tremaining: 2m 35s\n",
      "366:\tlearn: 1553.3759304\ttotal: 1m 29s\tremaining: 2m 35s\n",
      "367:\tlearn: 1553.1876342\ttotal: 1m 30s\tremaining: 2m 34s\n",
      "368:\tlearn: 1552.7376931\ttotal: 1m 30s\tremaining: 2m 34s\n",
      "369:\tlearn: 1552.6782571\ttotal: 1m 30s\tremaining: 2m 34s\n",
      "370:\tlearn: 1552.5943045\ttotal: 1m 31s\tremaining: 2m 34s\n",
      "371:\tlearn: 1552.1823784\ttotal: 1m 31s\tremaining: 2m 34s\n",
      "372:\tlearn: 1551.8161666\ttotal: 1m 31s\tremaining: 2m 34s\n",
      "373:\tlearn: 1551.5625510\ttotal: 1m 31s\tremaining: 2m 33s\n",
      "374:\tlearn: 1551.4184833\ttotal: 1m 32s\tremaining: 2m 33s\n",
      "375:\tlearn: 1550.9241779\ttotal: 1m 32s\tremaining: 2m 33s\n",
      "376:\tlearn: 1550.5034952\ttotal: 1m 32s\tremaining: 2m 33s\n",
      "377:\tlearn: 1550.3179298\ttotal: 1m 33s\tremaining: 2m 33s\n",
      "378:\tlearn: 1550.2107352\ttotal: 1m 33s\tremaining: 2m 33s\n",
      "379:\tlearn: 1550.1443248\ttotal: 1m 33s\tremaining: 2m 32s\n",
      "380:\tlearn: 1549.7689936\ttotal: 1m 34s\tremaining: 2m 32s\n",
      "381:\tlearn: 1549.5560898\ttotal: 1m 34s\tremaining: 2m 32s\n",
      "382:\tlearn: 1549.5393061\ttotal: 1m 34s\tremaining: 2m 32s\n",
      "383:\tlearn: 1549.4739320\ttotal: 1m 34s\tremaining: 2m 31s\n",
      "384:\tlearn: 1549.4231197\ttotal: 1m 34s\tremaining: 2m 31s\n",
      "385:\tlearn: 1549.0744104\ttotal: 1m 35s\tremaining: 2m 31s\n",
      "386:\tlearn: 1549.0307019\ttotal: 1m 35s\tremaining: 2m 31s\n",
      "387:\tlearn: 1548.8376081\ttotal: 1m 35s\tremaining: 2m 30s\n",
      "388:\tlearn: 1548.8314596\ttotal: 1m 35s\tremaining: 2m 30s\n",
      "389:\tlearn: 1548.6585229\ttotal: 1m 36s\tremaining: 2m 30s\n",
      "390:\tlearn: 1548.3582428\ttotal: 1m 36s\tremaining: 2m 30s\n",
      "391:\tlearn: 1548.2424685\ttotal: 1m 36s\tremaining: 2m 29s\n",
      "392:\tlearn: 1548.0662724\ttotal: 1m 36s\tremaining: 2m 29s\n",
      "393:\tlearn: 1548.0292805\ttotal: 1m 37s\tremaining: 2m 29s\n",
      "394:\tlearn: 1547.8356596\ttotal: 1m 37s\tremaining: 2m 29s\n",
      "395:\tlearn: 1547.4877437\ttotal: 1m 37s\tremaining: 2m 29s\n",
      "396:\tlearn: 1547.2510205\ttotal: 1m 38s\tremaining: 2m 29s\n",
      "397:\tlearn: 1547.0516477\ttotal: 1m 38s\tremaining: 2m 28s\n",
      "398:\tlearn: 1546.8671456\ttotal: 1m 38s\tremaining: 2m 28s\n",
      "399:\tlearn: 1546.6151740\ttotal: 1m 39s\tremaining: 2m 28s\n",
      "400:\tlearn: 1546.5218287\ttotal: 1m 39s\tremaining: 2m 28s\n",
      "401:\tlearn: 1546.3521357\ttotal: 1m 39s\tremaining: 2m 28s\n",
      "402:\tlearn: 1546.1854211\ttotal: 1m 39s\tremaining: 2m 27s\n",
      "403:\tlearn: 1546.0200679\ttotal: 1m 40s\tremaining: 2m 27s\n",
      "404:\tlearn: 1545.9371921\ttotal: 1m 40s\tremaining: 2m 27s\n",
      "405:\tlearn: 1545.6764199\ttotal: 1m 40s\tremaining: 2m 27s\n",
      "406:\tlearn: 1545.4596531\ttotal: 1m 40s\tremaining: 2m 26s\n",
      "407:\tlearn: 1545.1020564\ttotal: 1m 41s\tremaining: 2m 26s\n",
      "408:\tlearn: 1544.8949854\ttotal: 1m 41s\tremaining: 2m 26s\n",
      "409:\tlearn: 1544.4742467\ttotal: 1m 41s\tremaining: 2m 26s\n",
      "410:\tlearn: 1544.3061094\ttotal: 1m 41s\tremaining: 2m 26s\n",
      "411:\tlearn: 1543.9450033\ttotal: 1m 42s\tremaining: 2m 25s\n",
      "412:\tlearn: 1543.8900802\ttotal: 1m 42s\tremaining: 2m 25s\n",
      "413:\tlearn: 1543.7964687\ttotal: 1m 42s\tremaining: 2m 25s\n",
      "414:\tlearn: 1543.6928889\ttotal: 1m 42s\tremaining: 2m 25s\n",
      "415:\tlearn: 1543.2267945\ttotal: 1m 43s\tremaining: 2m 24s\n",
      "416:\tlearn: 1543.0101868\ttotal: 1m 43s\tremaining: 2m 24s\n",
      "417:\tlearn: 1542.6662257\ttotal: 1m 43s\tremaining: 2m 24s\n",
      "418:\tlearn: 1542.6287857\ttotal: 1m 43s\tremaining: 2m 23s\n",
      "419:\tlearn: 1542.5836760\ttotal: 1m 44s\tremaining: 2m 23s\n",
      "420:\tlearn: 1542.3764314\ttotal: 1m 44s\tremaining: 2m 23s\n",
      "421:\tlearn: 1542.1666413\ttotal: 1m 44s\tremaining: 2m 23s\n",
      "422:\tlearn: 1541.9115783\ttotal: 1m 44s\tremaining: 2m 22s\n",
      "423:\tlearn: 1541.8227106\ttotal: 1m 44s\tremaining: 2m 22s\n",
      "424:\tlearn: 1541.4947186\ttotal: 1m 45s\tremaining: 2m 22s\n",
      "425:\tlearn: 1541.3624054\ttotal: 1m 45s\tremaining: 2m 22s\n",
      "426:\tlearn: 1541.3097137\ttotal: 1m 45s\tremaining: 2m 21s\n",
      "427:\tlearn: 1541.1960657\ttotal: 1m 46s\tremaining: 2m 21s\n",
      "428:\tlearn: 1540.7668063\ttotal: 1m 46s\tremaining: 2m 21s\n",
      "429:\tlearn: 1540.6108883\ttotal: 1m 46s\tremaining: 2m 21s\n",
      "430:\tlearn: 1540.2275490\ttotal: 1m 46s\tremaining: 2m 21s\n",
      "431:\tlearn: 1539.9435585\ttotal: 1m 47s\tremaining: 2m 20s\n",
      "432:\tlearn: 1539.7955228\ttotal: 1m 47s\tremaining: 2m 20s\n",
      "433:\tlearn: 1539.6396416\ttotal: 1m 47s\tremaining: 2m 20s\n",
      "434:\tlearn: 1539.4254875\ttotal: 1m 47s\tremaining: 2m 20s\n",
      "435:\tlearn: 1539.3547509\ttotal: 1m 48s\tremaining: 2m 19s\n",
      "436:\tlearn: 1539.2412402\ttotal: 1m 48s\tremaining: 2m 19s\n",
      "437:\tlearn: 1538.8594313\ttotal: 1m 48s\tremaining: 2m 19s\n",
      "438:\tlearn: 1538.6257209\ttotal: 1m 48s\tremaining: 2m 18s\n",
      "439:\tlearn: 1538.5788916\ttotal: 1m 49s\tremaining: 2m 18s\n",
      "440:\tlearn: 1538.2098395\ttotal: 1m 49s\tremaining: 2m 18s\n",
      "441:\tlearn: 1537.8121193\ttotal: 1m 49s\tremaining: 2m 18s\n",
      "442:\tlearn: 1537.6254092\ttotal: 1m 49s\tremaining: 2m 17s\n",
      "443:\tlearn: 1537.4141217\ttotal: 1m 50s\tremaining: 2m 17s\n",
      "444:\tlearn: 1537.1469101\ttotal: 1m 50s\tremaining: 2m 17s\n",
      "445:\tlearn: 1536.7582655\ttotal: 1m 50s\tremaining: 2m 17s\n",
      "446:\tlearn: 1536.6025131\ttotal: 1m 50s\tremaining: 2m 17s\n",
      "447:\tlearn: 1536.4593619\ttotal: 1m 51s\tremaining: 2m 16s\n",
      "448:\tlearn: 1536.3490656\ttotal: 1m 51s\tremaining: 2m 16s\n",
      "449:\tlearn: 1536.3191205\ttotal: 1m 51s\tremaining: 2m 16s\n",
      "450:\tlearn: 1536.0345129\ttotal: 1m 51s\tremaining: 2m 16s\n",
      "451:\tlearn: 1535.7318372\ttotal: 1m 52s\tremaining: 2m 16s\n",
      "452:\tlearn: 1535.6450625\ttotal: 1m 52s\tremaining: 2m 15s\n",
      "453:\tlearn: 1535.5239352\ttotal: 1m 52s\tremaining: 2m 15s\n",
      "454:\tlearn: 1535.2566050\ttotal: 1m 53s\tremaining: 2m 15s\n",
      "455:\tlearn: 1535.1088734\ttotal: 1m 53s\tremaining: 2m 15s\n",
      "456:\tlearn: 1534.9416817\ttotal: 1m 53s\tremaining: 2m 14s\n",
      "457:\tlearn: 1534.8720458\ttotal: 1m 53s\tremaining: 2m 14s\n",
      "458:\tlearn: 1534.5744080\ttotal: 1m 53s\tremaining: 2m 14s\n",
      "459:\tlearn: 1533.9293353\ttotal: 1m 54s\tremaining: 2m 14s\n",
      "460:\tlearn: 1533.9069348\ttotal: 1m 54s\tremaining: 2m 13s\n",
      "461:\tlearn: 1533.7079742\ttotal: 1m 54s\tremaining: 2m 13s\n",
      "462:\tlearn: 1533.4898882\ttotal: 1m 55s\tremaining: 2m 13s\n",
      "463:\tlearn: 1533.0703661\ttotal: 1m 55s\tremaining: 2m 13s\n",
      "464:\tlearn: 1532.6789837\ttotal: 1m 55s\tremaining: 2m 13s\n",
      "465:\tlearn: 1532.5103857\ttotal: 1m 55s\tremaining: 2m 12s\n",
      "466:\tlearn: 1532.4223888\ttotal: 1m 56s\tremaining: 2m 12s\n",
      "467:\tlearn: 1532.3793868\ttotal: 1m 56s\tremaining: 2m 12s\n",
      "468:\tlearn: 1532.2215268\ttotal: 1m 56s\tremaining: 2m 11s\n",
      "469:\tlearn: 1532.2010037\ttotal: 1m 56s\tremaining: 2m 11s\n",
      "470:\tlearn: 1532.0356070\ttotal: 1m 57s\tremaining: 2m 11s\n",
      "471:\tlearn: 1531.6419377\ttotal: 1m 57s\tremaining: 2m 11s\n",
      "472:\tlearn: 1531.2811510\ttotal: 1m 57s\tremaining: 2m 10s\n",
      "473:\tlearn: 1531.0622371\ttotal: 1m 57s\tremaining: 2m 10s\n",
      "474:\tlearn: 1530.9596979\ttotal: 1m 58s\tremaining: 2m 10s\n",
      "475:\tlearn: 1530.7500810\ttotal: 1m 58s\tremaining: 2m 10s\n",
      "476:\tlearn: 1530.6553947\ttotal: 1m 58s\tremaining: 2m 10s\n",
      "477:\tlearn: 1530.4766151\ttotal: 1m 58s\tremaining: 2m 9s\n",
      "478:\tlearn: 1530.1751356\ttotal: 1m 59s\tremaining: 2m 9s\n",
      "479:\tlearn: 1530.0606368\ttotal: 1m 59s\tremaining: 2m 9s\n",
      "480:\tlearn: 1530.0369439\ttotal: 1m 59s\tremaining: 2m 9s\n",
      "481:\tlearn: 1529.9857093\ttotal: 1m 59s\tremaining: 2m 8s\n",
      "482:\tlearn: 1529.8454144\ttotal: 2m\tremaining: 2m 8s\n",
      "483:\tlearn: 1529.7966142\ttotal: 2m\tremaining: 2m 8s\n",
      "484:\tlearn: 1529.7049554\ttotal: 2m\tremaining: 2m 8s\n",
      "485:\tlearn: 1529.4914720\ttotal: 2m\tremaining: 2m 7s\n",
      "486:\tlearn: 1529.3634932\ttotal: 2m 1s\tremaining: 2m 7s\n",
      "487:\tlearn: 1529.3397521\ttotal: 2m 1s\tremaining: 2m 7s\n",
      "488:\tlearn: 1529.2695985\ttotal: 2m 1s\tremaining: 2m 7s\n",
      "489:\tlearn: 1529.0172759\ttotal: 2m 2s\tremaining: 2m 7s\n",
      "490:\tlearn: 1528.7585041\ttotal: 2m 2s\tremaining: 2m 6s\n",
      "491:\tlearn: 1528.5537816\ttotal: 2m 2s\tremaining: 2m 6s\n"
     ]
    },
    {
     "name": "stdout",
     "output_type": "stream",
     "text": [
      "492:\tlearn: 1528.5356354\ttotal: 2m 2s\tremaining: 2m 6s\n",
      "493:\tlearn: 1528.5010536\ttotal: 2m 3s\tremaining: 2m 6s\n",
      "494:\tlearn: 1528.4379916\ttotal: 2m 3s\tremaining: 2m 5s\n",
      "495:\tlearn: 1528.3459694\ttotal: 2m 3s\tremaining: 2m 5s\n",
      "496:\tlearn: 1528.2707296\ttotal: 2m 3s\tremaining: 2m 5s\n",
      "497:\tlearn: 1528.1969718\ttotal: 2m 4s\tremaining: 2m 5s\n",
      "498:\tlearn: 1527.9337388\ttotal: 2m 4s\tremaining: 2m 4s\n",
      "499:\tlearn: 1527.9035927\ttotal: 2m 4s\tremaining: 2m 4s\n",
      "500:\tlearn: 1527.7181250\ttotal: 2m 4s\tremaining: 2m 4s\n",
      "501:\tlearn: 1527.5414642\ttotal: 2m 5s\tremaining: 2m 4s\n",
      "502:\tlearn: 1527.2775971\ttotal: 2m 5s\tremaining: 2m 3s\n",
      "503:\tlearn: 1527.1141191\ttotal: 2m 5s\tremaining: 2m 3s\n",
      "504:\tlearn: 1526.8887933\ttotal: 2m 5s\tremaining: 2m 3s\n",
      "505:\tlearn: 1526.5958317\ttotal: 2m 6s\tremaining: 2m 3s\n",
      "506:\tlearn: 1526.5706322\ttotal: 2m 6s\tremaining: 2m 2s\n",
      "507:\tlearn: 1526.2970814\ttotal: 2m 6s\tremaining: 2m 2s\n",
      "508:\tlearn: 1526.2811920\ttotal: 2m 6s\tremaining: 2m 2s\n",
      "509:\tlearn: 1525.8811708\ttotal: 2m 7s\tremaining: 2m 2s\n",
      "510:\tlearn: 1525.7559035\ttotal: 2m 7s\tremaining: 2m 1s\n",
      "511:\tlearn: 1525.6665902\ttotal: 2m 7s\tremaining: 2m 1s\n",
      "512:\tlearn: 1525.5483829\ttotal: 2m 7s\tremaining: 2m 1s\n",
      "513:\tlearn: 1525.4843414\ttotal: 2m 8s\tremaining: 2m 1s\n",
      "514:\tlearn: 1525.4445597\ttotal: 2m 8s\tremaining: 2m\n",
      "515:\tlearn: 1525.3497055\ttotal: 2m 8s\tremaining: 2m\n",
      "516:\tlearn: 1525.0167492\ttotal: 2m 8s\tremaining: 2m\n",
      "517:\tlearn: 1524.9305570\ttotal: 2m 9s\tremaining: 2m\n",
      "518:\tlearn: 1524.8269300\ttotal: 2m 9s\tremaining: 2m\n",
      "519:\tlearn: 1524.4586144\ttotal: 2m 9s\tremaining: 1m 59s\n",
      "520:\tlearn: 1524.2950771\ttotal: 2m 9s\tremaining: 1m 59s\n",
      "521:\tlearn: 1524.0684896\ttotal: 2m 10s\tremaining: 1m 59s\n",
      "522:\tlearn: 1523.9309527\ttotal: 2m 10s\tremaining: 1m 59s\n",
      "523:\tlearn: 1523.7939134\ttotal: 2m 10s\tremaining: 1m 58s\n",
      "524:\tlearn: 1523.5723537\ttotal: 2m 11s\tremaining: 1m 58s\n",
      "525:\tlearn: 1523.3742361\ttotal: 2m 11s\tremaining: 1m 58s\n",
      "526:\tlearn: 1523.1104417\ttotal: 2m 11s\tremaining: 1m 58s\n",
      "527:\tlearn: 1522.9856134\ttotal: 2m 11s\tremaining: 1m 57s\n",
      "528:\tlearn: 1522.9647528\ttotal: 2m 11s\tremaining: 1m 57s\n",
      "529:\tlearn: 1522.7477253\ttotal: 2m 12s\tremaining: 1m 57s\n",
      "530:\tlearn: 1522.6168571\ttotal: 2m 12s\tremaining: 1m 57s\n",
      "531:\tlearn: 1522.5209867\ttotal: 2m 12s\tremaining: 1m 56s\n",
      "532:\tlearn: 1522.4587170\ttotal: 2m 12s\tremaining: 1m 56s\n",
      "533:\tlearn: 1522.4238142\ttotal: 2m 13s\tremaining: 1m 56s\n",
      "534:\tlearn: 1522.3165650\ttotal: 2m 13s\tremaining: 1m 56s\n",
      "535:\tlearn: 1521.8836598\ttotal: 2m 13s\tremaining: 1m 55s\n",
      "536:\tlearn: 1521.7627780\ttotal: 2m 14s\tremaining: 1m 55s\n",
      "537:\tlearn: 1521.6598994\ttotal: 2m 14s\tremaining: 1m 55s\n",
      "538:\tlearn: 1521.4966920\ttotal: 2m 14s\tremaining: 1m 54s\n",
      "539:\tlearn: 1521.3139355\ttotal: 2m 14s\tremaining: 1m 54s\n",
      "540:\tlearn: 1521.2623430\ttotal: 2m 14s\tremaining: 1m 54s\n",
      "541:\tlearn: 1521.1041252\ttotal: 2m 15s\tremaining: 1m 54s\n",
      "542:\tlearn: 1520.9107500\ttotal: 2m 15s\tremaining: 1m 53s\n",
      "543:\tlearn: 1520.6079272\ttotal: 2m 15s\tremaining: 1m 53s\n",
      "544:\tlearn: 1520.4183404\ttotal: 2m 15s\tremaining: 1m 53s\n",
      "545:\tlearn: 1520.1498954\ttotal: 2m 16s\tremaining: 1m 53s\n",
      "546:\tlearn: 1519.9619209\ttotal: 2m 16s\tremaining: 1m 52s\n",
      "547:\tlearn: 1519.7380449\ttotal: 2m 16s\tremaining: 1m 52s\n",
      "548:\tlearn: 1519.4714257\ttotal: 2m 16s\tremaining: 1m 52s\n",
      "549:\tlearn: 1519.2944624\ttotal: 2m 17s\tremaining: 1m 52s\n",
      "550:\tlearn: 1519.0814717\ttotal: 2m 17s\tremaining: 1m 51s\n",
      "551:\tlearn: 1519.0312693\ttotal: 2m 17s\tremaining: 1m 51s\n",
      "552:\tlearn: 1518.8060599\ttotal: 2m 17s\tremaining: 1m 51s\n",
      "553:\tlearn: 1518.7436780\ttotal: 2m 18s\tremaining: 1m 51s\n",
      "554:\tlearn: 1518.5285591\ttotal: 2m 18s\tremaining: 1m 50s\n",
      "555:\tlearn: 1518.3409258\ttotal: 2m 18s\tremaining: 1m 50s\n",
      "556:\tlearn: 1518.2120477\ttotal: 2m 18s\tremaining: 1m 50s\n",
      "557:\tlearn: 1518.1955267\ttotal: 2m 19s\tremaining: 1m 50s\n",
      "558:\tlearn: 1518.0743660\ttotal: 2m 19s\tremaining: 1m 49s\n",
      "559:\tlearn: 1518.0295117\ttotal: 2m 19s\tremaining: 1m 49s\n",
      "560:\tlearn: 1517.8795426\ttotal: 2m 19s\tremaining: 1m 49s\n",
      "561:\tlearn: 1517.6618297\ttotal: 2m 20s\tremaining: 1m 49s\n",
      "562:\tlearn: 1517.5258677\ttotal: 2m 20s\tremaining: 1m 48s\n",
      "563:\tlearn: 1517.4290986\ttotal: 2m 20s\tremaining: 1m 48s\n",
      "564:\tlearn: 1517.2842028\ttotal: 2m 20s\tremaining: 1m 48s\n",
      "565:\tlearn: 1517.2170304\ttotal: 2m 20s\tremaining: 1m 47s\n",
      "566:\tlearn: 1516.9313211\ttotal: 2m 20s\tremaining: 1m 47s\n",
      "567:\tlearn: 1516.7517486\ttotal: 2m 21s\tremaining: 1m 47s\n",
      "568:\tlearn: 1516.5443929\ttotal: 2m 21s\tremaining: 1m 47s\n",
      "569:\tlearn: 1516.3987321\ttotal: 2m 21s\tremaining: 1m 46s\n",
      "570:\tlearn: 1516.2808711\ttotal: 2m 21s\tremaining: 1m 46s\n",
      "571:\tlearn: 1516.1834161\ttotal: 2m 22s\tremaining: 1m 46s\n",
      "572:\tlearn: 1516.0116155\ttotal: 2m 22s\tremaining: 1m 46s\n",
      "573:\tlearn: 1516.0040841\ttotal: 2m 22s\tremaining: 1m 45s\n",
      "574:\tlearn: 1515.8235046\ttotal: 2m 22s\tremaining: 1m 45s\n",
      "575:\tlearn: 1515.7775419\ttotal: 2m 23s\tremaining: 1m 45s\n",
      "576:\tlearn: 1515.5042235\ttotal: 2m 23s\tremaining: 1m 45s\n",
      "577:\tlearn: 1515.3301740\ttotal: 2m 23s\tremaining: 1m 44s\n",
      "578:\tlearn: 1515.0418682\ttotal: 2m 23s\tremaining: 1m 44s\n",
      "579:\tlearn: 1514.9968718\ttotal: 2m 24s\tremaining: 1m 44s\n",
      "580:\tlearn: 1514.8817851\ttotal: 2m 24s\tremaining: 1m 44s\n",
      "581:\tlearn: 1514.8620432\ttotal: 2m 24s\tremaining: 1m 43s\n",
      "582:\tlearn: 1514.7874983\ttotal: 2m 25s\tremaining: 1m 43s\n",
      "583:\tlearn: 1514.5512686\ttotal: 2m 25s\tremaining: 1m 43s\n",
      "584:\tlearn: 1514.2299824\ttotal: 2m 25s\tremaining: 1m 43s\n",
      "585:\tlearn: 1513.7100599\ttotal: 2m 25s\tremaining: 1m 42s\n",
      "586:\tlearn: 1513.4795094\ttotal: 2m 25s\tremaining: 1m 42s\n",
      "587:\tlearn: 1513.3309289\ttotal: 2m 26s\tremaining: 1m 42s\n",
      "588:\tlearn: 1513.2353724\ttotal: 2m 26s\tremaining: 1m 42s\n",
      "589:\tlearn: 1512.8958866\ttotal: 2m 26s\tremaining: 1m 41s\n",
      "590:\tlearn: 1512.8190881\ttotal: 2m 26s\tremaining: 1m 41s\n",
      "591:\tlearn: 1512.8037367\ttotal: 2m 27s\tremaining: 1m 41s\n",
      "592:\tlearn: 1512.7035622\ttotal: 2m 27s\tremaining: 1m 41s\n",
      "593:\tlearn: 1512.6766732\ttotal: 2m 27s\tremaining: 1m 40s\n",
      "594:\tlearn: 1512.5115867\ttotal: 2m 28s\tremaining: 1m 40s\n",
      "595:\tlearn: 1512.4569788\ttotal: 2m 28s\tremaining: 1m 40s\n",
      "596:\tlearn: 1512.3344847\ttotal: 2m 28s\tremaining: 1m 40s\n",
      "597:\tlearn: 1512.2896486\ttotal: 2m 29s\tremaining: 1m 40s\n",
      "598:\tlearn: 1512.2637728\ttotal: 2m 29s\tremaining: 1m 39s\n",
      "599:\tlearn: 1511.9722020\ttotal: 2m 29s\tremaining: 1m 39s\n",
      "600:\tlearn: 1511.9540497\ttotal: 2m 29s\tremaining: 1m 39s\n",
      "601:\tlearn: 1511.8130233\ttotal: 2m 30s\tremaining: 1m 39s\n",
      "602:\tlearn: 1511.7695764\ttotal: 2m 30s\tremaining: 1m 39s\n",
      "603:\tlearn: 1511.5207857\ttotal: 2m 30s\tremaining: 1m 38s\n",
      "604:\tlearn: 1511.4831345\ttotal: 2m 30s\tremaining: 1m 38s\n",
      "605:\tlearn: 1511.2969673\ttotal: 2m 31s\tremaining: 1m 38s\n",
      "606:\tlearn: 1510.9342579\ttotal: 2m 31s\tremaining: 1m 38s\n",
      "607:\tlearn: 1510.7747768\ttotal: 2m 31s\tremaining: 1m 37s\n",
      "608:\tlearn: 1510.6573812\ttotal: 2m 31s\tremaining: 1m 37s\n",
      "609:\tlearn: 1510.6076158\ttotal: 2m 32s\tremaining: 1m 37s\n",
      "610:\tlearn: 1510.2874184\ttotal: 2m 32s\tremaining: 1m 37s\n",
      "611:\tlearn: 1510.1552687\ttotal: 2m 32s\tremaining: 1m 36s\n",
      "612:\tlearn: 1510.1136726\ttotal: 2m 33s\tremaining: 1m 36s\n",
      "613:\tlearn: 1510.0056105\ttotal: 2m 33s\tremaining: 1m 36s\n",
      "614:\tlearn: 1509.8944456\ttotal: 2m 33s\tremaining: 1m 36s\n",
      "615:\tlearn: 1509.8129101\ttotal: 2m 33s\tremaining: 1m 35s\n",
      "616:\tlearn: 1509.7490088\ttotal: 2m 34s\tremaining: 1m 35s\n",
      "617:\tlearn: 1509.7128246\ttotal: 2m 34s\tremaining: 1m 35s\n",
      "618:\tlearn: 1509.5341288\ttotal: 2m 34s\tremaining: 1m 35s\n",
      "619:\tlearn: 1509.4584529\ttotal: 2m 34s\tremaining: 1m 34s\n",
      "620:\tlearn: 1509.4020224\ttotal: 2m 34s\tremaining: 1m 34s\n",
      "621:\tlearn: 1509.2922003\ttotal: 2m 35s\tremaining: 1m 34s\n",
      "622:\tlearn: 1509.2425003\ttotal: 2m 35s\tremaining: 1m 33s\n",
      "623:\tlearn: 1509.0243915\ttotal: 2m 35s\tremaining: 1m 33s\n",
      "624:\tlearn: 1509.0002246\ttotal: 2m 35s\tremaining: 1m 33s\n",
      "625:\tlearn: 1508.6969652\ttotal: 2m 36s\tremaining: 1m 33s\n",
      "626:\tlearn: 1508.6434574\ttotal: 2m 36s\tremaining: 1m 32s\n",
      "627:\tlearn: 1508.6293998\ttotal: 2m 36s\tremaining: 1m 32s\n",
      "628:\tlearn: 1508.4234259\ttotal: 2m 36s\tremaining: 1m 32s\n",
      "629:\tlearn: 1508.1437370\ttotal: 2m 36s\tremaining: 1m 32s\n",
      "630:\tlearn: 1508.0605353\ttotal: 2m 37s\tremaining: 1m 31s\n",
      "631:\tlearn: 1507.8347680\ttotal: 2m 37s\tremaining: 1m 31s\n",
      "632:\tlearn: 1507.6165060\ttotal: 2m 37s\tremaining: 1m 31s\n",
      "633:\tlearn: 1507.5366724\ttotal: 2m 37s\tremaining: 1m 31s\n",
      "634:\tlearn: 1507.3780108\ttotal: 2m 38s\tremaining: 1m 30s\n",
      "635:\tlearn: 1507.3405296\ttotal: 2m 38s\tremaining: 1m 30s\n",
      "636:\tlearn: 1507.1682762\ttotal: 2m 38s\tremaining: 1m 30s\n"
     ]
    },
    {
     "name": "stdout",
     "output_type": "stream",
     "text": [
      "637:\tlearn: 1507.0923336\ttotal: 2m 38s\tremaining: 1m 30s\n",
      "638:\tlearn: 1507.0344169\ttotal: 2m 39s\tremaining: 1m 29s\n",
      "639:\tlearn: 1507.0135503\ttotal: 2m 39s\tremaining: 1m 29s\n",
      "640:\tlearn: 1506.8618724\ttotal: 2m 39s\tremaining: 1m 29s\n",
      "641:\tlearn: 1506.7433067\ttotal: 2m 39s\tremaining: 1m 29s\n",
      "642:\tlearn: 1506.5458608\ttotal: 2m 39s\tremaining: 1m 28s\n",
      "643:\tlearn: 1506.4314924\ttotal: 2m 40s\tremaining: 1m 28s\n",
      "644:\tlearn: 1506.4069633\ttotal: 2m 40s\tremaining: 1m 28s\n",
      "645:\tlearn: 1506.1802629\ttotal: 2m 40s\tremaining: 1m 28s\n",
      "646:\tlearn: 1506.0349382\ttotal: 2m 41s\tremaining: 1m 27s\n",
      "647:\tlearn: 1505.8382369\ttotal: 2m 41s\tremaining: 1m 27s\n",
      "648:\tlearn: 1505.8326761\ttotal: 2m 41s\tremaining: 1m 27s\n",
      "649:\tlearn: 1505.6346112\ttotal: 2m 41s\tremaining: 1m 27s\n",
      "650:\tlearn: 1505.6036011\ttotal: 2m 42s\tremaining: 1m 26s\n",
      "651:\tlearn: 1505.4926166\ttotal: 2m 42s\tremaining: 1m 26s\n",
      "652:\tlearn: 1505.3500622\ttotal: 2m 42s\tremaining: 1m 26s\n",
      "653:\tlearn: 1505.1310515\ttotal: 2m 42s\tremaining: 1m 26s\n",
      "654:\tlearn: 1505.0152048\ttotal: 2m 43s\tremaining: 1m 25s\n",
      "655:\tlearn: 1504.9374928\ttotal: 2m 43s\tremaining: 1m 25s\n",
      "656:\tlearn: 1504.7765020\ttotal: 2m 43s\tremaining: 1m 25s\n",
      "657:\tlearn: 1504.4394520\ttotal: 2m 43s\tremaining: 1m 25s\n",
      "658:\tlearn: 1504.4075933\ttotal: 2m 44s\tremaining: 1m 24s\n",
      "659:\tlearn: 1504.2640845\ttotal: 2m 44s\tremaining: 1m 24s\n",
      "660:\tlearn: 1503.9819340\ttotal: 2m 44s\tremaining: 1m 24s\n",
      "661:\tlearn: 1503.8657463\ttotal: 2m 44s\tremaining: 1m 24s\n",
      "662:\tlearn: 1503.7576229\ttotal: 2m 45s\tremaining: 1m 23s\n",
      "663:\tlearn: 1503.6693256\ttotal: 2m 45s\tremaining: 1m 23s\n",
      "664:\tlearn: 1503.6600355\ttotal: 2m 45s\tremaining: 1m 23s\n",
      "665:\tlearn: 1503.5671479\ttotal: 2m 45s\tremaining: 1m 23s\n",
      "666:\tlearn: 1503.2762401\ttotal: 2m 45s\tremaining: 1m 22s\n",
      "667:\tlearn: 1503.0214099\ttotal: 2m 46s\tremaining: 1m 22s\n",
      "668:\tlearn: 1502.8060658\ttotal: 2m 46s\tremaining: 1m 22s\n",
      "669:\tlearn: 1502.6255833\ttotal: 2m 46s\tremaining: 1m 22s\n",
      "670:\tlearn: 1502.5538805\ttotal: 2m 46s\tremaining: 1m 21s\n",
      "671:\tlearn: 1502.1701223\ttotal: 2m 47s\tremaining: 1m 21s\n",
      "672:\tlearn: 1502.1584935\ttotal: 2m 47s\tremaining: 1m 21s\n",
      "673:\tlearn: 1502.0146043\ttotal: 2m 47s\tremaining: 1m 21s\n",
      "674:\tlearn: 1501.8084449\ttotal: 2m 48s\tremaining: 1m 20s\n",
      "675:\tlearn: 1501.7146369\ttotal: 2m 48s\tremaining: 1m 20s\n",
      "676:\tlearn: 1501.5793841\ttotal: 2m 48s\tremaining: 1m 20s\n",
      "677:\tlearn: 1501.4975525\ttotal: 2m 48s\tremaining: 1m 20s\n",
      "678:\tlearn: 1501.2641103\ttotal: 2m 49s\tremaining: 1m 19s\n",
      "679:\tlearn: 1500.9933888\ttotal: 2m 49s\tremaining: 1m 19s\n",
      "680:\tlearn: 1500.8955478\ttotal: 2m 49s\tremaining: 1m 19s\n",
      "681:\tlearn: 1500.7902869\ttotal: 2m 49s\tremaining: 1m 19s\n",
      "682:\tlearn: 1500.6399598\ttotal: 2m 50s\tremaining: 1m 18s\n",
      "683:\tlearn: 1500.5473315\ttotal: 2m 50s\tremaining: 1m 18s\n",
      "684:\tlearn: 1500.4731012\ttotal: 2m 50s\tremaining: 1m 18s\n",
      "685:\tlearn: 1500.3395133\ttotal: 2m 50s\tremaining: 1m 18s\n",
      "686:\tlearn: 1500.1875320\ttotal: 2m 51s\tremaining: 1m 17s\n",
      "687:\tlearn: 1500.1764623\ttotal: 2m 51s\tremaining: 1m 17s\n",
      "688:\tlearn: 1500.1162304\ttotal: 2m 51s\tremaining: 1m 17s\n",
      "689:\tlearn: 1500.0791610\ttotal: 2m 51s\tremaining: 1m 17s\n",
      "690:\tlearn: 1499.9566587\ttotal: 2m 52s\tremaining: 1m 16s\n",
      "691:\tlearn: 1499.8237972\ttotal: 2m 52s\tremaining: 1m 16s\n",
      "692:\tlearn: 1499.7517737\ttotal: 2m 52s\tremaining: 1m 16s\n",
      "693:\tlearn: 1499.7393942\ttotal: 2m 52s\tremaining: 1m 16s\n",
      "694:\tlearn: 1499.7193078\ttotal: 2m 53s\tremaining: 1m 15s\n",
      "695:\tlearn: 1499.6292104\ttotal: 2m 53s\tremaining: 1m 15s\n",
      "696:\tlearn: 1499.5938442\ttotal: 2m 53s\tremaining: 1m 15s\n",
      "697:\tlearn: 1499.5750296\ttotal: 2m 53s\tremaining: 1m 15s\n",
      "698:\tlearn: 1499.5283896\ttotal: 2m 53s\tremaining: 1m 14s\n",
      "699:\tlearn: 1499.4354233\ttotal: 2m 54s\tremaining: 1m 14s\n",
      "700:\tlearn: 1499.4031589\ttotal: 2m 54s\tremaining: 1m 14s\n",
      "701:\tlearn: 1499.1601527\ttotal: 2m 54s\tremaining: 1m 14s\n",
      "702:\tlearn: 1499.1325577\ttotal: 2m 55s\tremaining: 1m 13s\n",
      "703:\tlearn: 1499.0430432\ttotal: 2m 55s\tremaining: 1m 13s\n",
      "704:\tlearn: 1499.0287252\ttotal: 2m 55s\tremaining: 1m 13s\n",
      "705:\tlearn: 1498.8416776\ttotal: 2m 55s\tremaining: 1m 13s\n",
      "706:\tlearn: 1498.7301648\ttotal: 2m 55s\tremaining: 1m 12s\n",
      "707:\tlearn: 1498.5524491\ttotal: 2m 56s\tremaining: 1m 12s\n",
      "708:\tlearn: 1498.4744108\ttotal: 2m 56s\tremaining: 1m 12s\n",
      "709:\tlearn: 1498.3855152\ttotal: 2m 56s\tremaining: 1m 12s\n",
      "710:\tlearn: 1498.3579273\ttotal: 2m 56s\tremaining: 1m 11s\n",
      "711:\tlearn: 1498.3468334\ttotal: 2m 57s\tremaining: 1m 11s\n",
      "712:\tlearn: 1498.3226932\ttotal: 2m 57s\tremaining: 1m 11s\n",
      "713:\tlearn: 1498.2676628\ttotal: 2m 57s\tremaining: 1m 11s\n",
      "714:\tlearn: 1498.1580238\ttotal: 2m 57s\tremaining: 1m 10s\n",
      "715:\tlearn: 1498.1418623\ttotal: 2m 58s\tremaining: 1m 10s\n",
      "716:\tlearn: 1498.1382687\ttotal: 2m 58s\tremaining: 1m 10s\n",
      "717:\tlearn: 1497.8948788\ttotal: 2m 58s\tremaining: 1m 10s\n",
      "718:\tlearn: 1497.7216349\ttotal: 2m 58s\tremaining: 1m 9s\n",
      "719:\tlearn: 1497.6927261\ttotal: 2m 58s\tremaining: 1m 9s\n",
      "720:\tlearn: 1497.4928133\ttotal: 2m 59s\tremaining: 1m 9s\n",
      "721:\tlearn: 1497.3459668\ttotal: 2m 59s\tremaining: 1m 9s\n",
      "722:\tlearn: 1497.3130049\ttotal: 2m 59s\tremaining: 1m 8s\n",
      "723:\tlearn: 1497.2112638\ttotal: 2m 59s\tremaining: 1m 8s\n",
      "724:\tlearn: 1496.9611321\ttotal: 3m\tremaining: 1m 8s\n",
      "725:\tlearn: 1496.8784799\ttotal: 3m\tremaining: 1m 8s\n",
      "726:\tlearn: 1496.7149091\ttotal: 3m\tremaining: 1m 7s\n",
      "727:\tlearn: 1496.4685096\ttotal: 3m 1s\tremaining: 1m 7s\n",
      "728:\tlearn: 1496.2782705\ttotal: 3m 1s\tremaining: 1m 7s\n",
      "729:\tlearn: 1496.2460502\ttotal: 3m 1s\tremaining: 1m 7s\n",
      "730:\tlearn: 1495.9178588\ttotal: 3m 1s\tremaining: 1m 6s\n",
      "731:\tlearn: 1495.7810706\ttotal: 3m 2s\tremaining: 1m 6s\n",
      "732:\tlearn: 1495.7431407\ttotal: 3m 2s\tremaining: 1m 6s\n",
      "733:\tlearn: 1495.4651175\ttotal: 3m 2s\tremaining: 1m 6s\n",
      "734:\tlearn: 1495.4280468\ttotal: 3m 2s\tremaining: 1m 5s\n",
      "735:\tlearn: 1495.3985389\ttotal: 3m 2s\tremaining: 1m 5s\n",
      "736:\tlearn: 1495.3804850\ttotal: 3m 3s\tremaining: 1m 5s\n",
      "737:\tlearn: 1495.2591635\ttotal: 3m 3s\tremaining: 1m 5s\n",
      "738:\tlearn: 1495.0231912\ttotal: 3m 3s\tremaining: 1m 4s\n",
      "739:\tlearn: 1495.0012974\ttotal: 3m 3s\tremaining: 1m 4s\n",
      "740:\tlearn: 1494.9105790\ttotal: 3m 4s\tremaining: 1m 4s\n",
      "741:\tlearn: 1494.7875060\ttotal: 3m 4s\tremaining: 1m 4s\n",
      "742:\tlearn: 1494.6525823\ttotal: 3m 4s\tremaining: 1m 3s\n",
      "743:\tlearn: 1494.5118518\ttotal: 3m 4s\tremaining: 1m 3s\n",
      "744:\tlearn: 1494.3818762\ttotal: 3m 5s\tremaining: 1m 3s\n",
      "745:\tlearn: 1494.0151023\ttotal: 3m 5s\tremaining: 1m 3s\n",
      "746:\tlearn: 1493.8333632\ttotal: 3m 5s\tremaining: 1m 2s\n",
      "747:\tlearn: 1493.6962103\ttotal: 3m 5s\tremaining: 1m 2s\n",
      "748:\tlearn: 1493.5793027\ttotal: 3m 6s\tremaining: 1m 2s\n",
      "749:\tlearn: 1493.5571105\ttotal: 3m 6s\tremaining: 1m 2s\n",
      "750:\tlearn: 1493.5310747\ttotal: 3m 6s\tremaining: 1m 1s\n",
      "751:\tlearn: 1493.4731390\ttotal: 3m 6s\tremaining: 1m 1s\n",
      "752:\tlearn: 1493.4613487\ttotal: 3m 7s\tremaining: 1m 1s\n",
      "753:\tlearn: 1493.4273551\ttotal: 3m 7s\tremaining: 1m 1s\n",
      "754:\tlearn: 1493.3944910\ttotal: 3m 7s\tremaining: 1m\n",
      "755:\tlearn: 1493.2692160\ttotal: 3m 8s\tremaining: 1m\n",
      "756:\tlearn: 1493.0147444\ttotal: 3m 8s\tremaining: 1m\n",
      "757:\tlearn: 1492.8854470\ttotal: 3m 8s\tremaining: 1m\n",
      "758:\tlearn: 1492.7705312\ttotal: 3m 8s\tremaining: 60s\n",
      "759:\tlearn: 1492.5822471\ttotal: 3m 9s\tremaining: 59.7s\n",
      "760:\tlearn: 1492.3998057\ttotal: 3m 9s\tremaining: 59.5s\n",
      "761:\tlearn: 1492.3421146\ttotal: 3m 9s\tremaining: 59.2s\n",
      "762:\tlearn: 1492.2106144\ttotal: 3m 9s\tremaining: 59s\n",
      "763:\tlearn: 1492.1705719\ttotal: 3m 10s\tremaining: 58.8s\n",
      "764:\tlearn: 1492.0482289\ttotal: 3m 10s\tremaining: 58.5s\n",
      "765:\tlearn: 1492.0177977\ttotal: 3m 10s\tremaining: 58.3s\n",
      "766:\tlearn: 1491.9563421\ttotal: 3m 10s\tremaining: 58s\n",
      "767:\tlearn: 1491.9150894\ttotal: 3m 11s\tremaining: 57.8s\n",
      "768:\tlearn: 1491.8020569\ttotal: 3m 11s\tremaining: 57.5s\n",
      "769:\tlearn: 1491.7228844\ttotal: 3m 11s\tremaining: 57.3s\n",
      "770:\tlearn: 1491.6449743\ttotal: 3m 12s\tremaining: 57.1s\n",
      "771:\tlearn: 1491.6354130\ttotal: 3m 12s\tremaining: 56.8s\n",
      "772:\tlearn: 1491.4967439\ttotal: 3m 12s\tremaining: 56.6s\n",
      "773:\tlearn: 1491.4790692\ttotal: 3m 12s\tremaining: 56.3s\n",
      "774:\tlearn: 1491.2847243\ttotal: 3m 12s\tremaining: 56s\n",
      "775:\tlearn: 1491.0204550\ttotal: 3m 13s\tremaining: 55.8s\n",
      "776:\tlearn: 1490.9315290\ttotal: 3m 13s\tremaining: 55.5s\n",
      "777:\tlearn: 1490.8708381\ttotal: 3m 13s\tremaining: 55.3s\n",
      "778:\tlearn: 1490.7646784\ttotal: 3m 13s\tremaining: 55s\n",
      "779:\tlearn: 1490.6559041\ttotal: 3m 14s\tremaining: 54.8s\n",
      "780:\tlearn: 1490.5719832\ttotal: 3m 14s\tremaining: 54.5s\n",
      "781:\tlearn: 1490.2001626\ttotal: 3m 14s\tremaining: 54.3s\n",
      "782:\tlearn: 1490.0672979\ttotal: 3m 15s\tremaining: 54.1s\n",
      "783:\tlearn: 1489.8750738\ttotal: 3m 15s\tremaining: 53.8s\n"
     ]
    },
    {
     "name": "stdout",
     "output_type": "stream",
     "text": [
      "784:\tlearn: 1489.8362387\ttotal: 3m 15s\tremaining: 53.6s\n",
      "785:\tlearn: 1489.8100947\ttotal: 3m 15s\tremaining: 53.3s\n",
      "786:\tlearn: 1489.7412247\ttotal: 3m 16s\tremaining: 53.1s\n",
      "787:\tlearn: 1489.6408852\ttotal: 3m 16s\tremaining: 52.8s\n",
      "788:\tlearn: 1489.6262159\ttotal: 3m 16s\tremaining: 52.6s\n",
      "789:\tlearn: 1489.5933181\ttotal: 3m 16s\tremaining: 52.3s\n",
      "790:\tlearn: 1489.5293103\ttotal: 3m 16s\tremaining: 52s\n",
      "791:\tlearn: 1489.2262530\ttotal: 3m 17s\tremaining: 51.8s\n",
      "792:\tlearn: 1489.2005048\ttotal: 3m 17s\tremaining: 51.5s\n",
      "793:\tlearn: 1489.0914234\ttotal: 3m 17s\tremaining: 51.3s\n",
      "794:\tlearn: 1489.0128823\ttotal: 3m 17s\tremaining: 51s\n",
      "795:\tlearn: 1488.9001069\ttotal: 3m 18s\tremaining: 50.8s\n",
      "796:\tlearn: 1488.8189760\ttotal: 3m 18s\tremaining: 50.5s\n",
      "797:\tlearn: 1488.6738843\ttotal: 3m 18s\tremaining: 50.3s\n",
      "798:\tlearn: 1488.5771955\ttotal: 3m 18s\tremaining: 50s\n",
      "799:\tlearn: 1488.3901641\ttotal: 3m 19s\tremaining: 49.8s\n",
      "800:\tlearn: 1488.2881596\ttotal: 3m 19s\tremaining: 49.6s\n",
      "801:\tlearn: 1488.0796500\ttotal: 3m 19s\tremaining: 49.3s\n",
      "802:\tlearn: 1488.0704397\ttotal: 3m 19s\tremaining: 49s\n",
      "803:\tlearn: 1487.8996021\ttotal: 3m 20s\tremaining: 48.8s\n",
      "804:\tlearn: 1487.6124320\ttotal: 3m 20s\tremaining: 48.6s\n",
      "805:\tlearn: 1487.4281997\ttotal: 3m 20s\tremaining: 48.4s\n",
      "806:\tlearn: 1487.2079869\ttotal: 3m 21s\tremaining: 48.1s\n",
      "807:\tlearn: 1487.0057030\ttotal: 3m 21s\tremaining: 47.9s\n",
      "808:\tlearn: 1486.8635656\ttotal: 3m 21s\tremaining: 47.6s\n",
      "809:\tlearn: 1486.4939632\ttotal: 3m 21s\tremaining: 47.4s\n",
      "810:\tlearn: 1486.4196175\ttotal: 3m 22s\tremaining: 47.1s\n",
      "811:\tlearn: 1486.3554015\ttotal: 3m 22s\tremaining: 46.9s\n",
      "812:\tlearn: 1486.2868019\ttotal: 3m 22s\tremaining: 46.6s\n",
      "813:\tlearn: 1486.1868176\ttotal: 3m 23s\tremaining: 46.4s\n",
      "814:\tlearn: 1486.1528793\ttotal: 3m 23s\tremaining: 46.1s\n",
      "815:\tlearn: 1485.9175598\ttotal: 3m 23s\tremaining: 45.9s\n",
      "816:\tlearn: 1485.8843692\ttotal: 3m 23s\tremaining: 45.6s\n",
      "817:\tlearn: 1485.8060572\ttotal: 3m 24s\tremaining: 45.4s\n",
      "818:\tlearn: 1485.5992561\ttotal: 3m 24s\tremaining: 45.1s\n",
      "819:\tlearn: 1485.4888009\ttotal: 3m 24s\tremaining: 44.9s\n",
      "820:\tlearn: 1485.4103984\ttotal: 3m 24s\tremaining: 44.6s\n",
      "821:\tlearn: 1485.1770451\ttotal: 3m 24s\tremaining: 44.4s\n",
      "822:\tlearn: 1484.9268531\ttotal: 3m 25s\tremaining: 44.1s\n",
      "823:\tlearn: 1484.8388360\ttotal: 3m 25s\tremaining: 43.9s\n",
      "824:\tlearn: 1484.7020118\ttotal: 3m 25s\tremaining: 43.6s\n",
      "825:\tlearn: 1484.6035753\ttotal: 3m 26s\tremaining: 43.4s\n",
      "826:\tlearn: 1484.5215199\ttotal: 3m 26s\tremaining: 43.2s\n",
      "827:\tlearn: 1484.3230485\ttotal: 3m 26s\tremaining: 42.9s\n",
      "828:\tlearn: 1484.2964663\ttotal: 3m 26s\tremaining: 42.7s\n",
      "829:\tlearn: 1484.0358201\ttotal: 3m 27s\tremaining: 42.4s\n",
      "830:\tlearn: 1483.9603999\ttotal: 3m 27s\tremaining: 42.2s\n",
      "831:\tlearn: 1483.7880490\ttotal: 3m 27s\tremaining: 41.9s\n",
      "832:\tlearn: 1483.5326888\ttotal: 3m 27s\tremaining: 41.7s\n",
      "833:\tlearn: 1483.5096423\ttotal: 3m 28s\tremaining: 41.4s\n",
      "834:\tlearn: 1483.4557560\ttotal: 3m 28s\tremaining: 41.2s\n",
      "835:\tlearn: 1483.4159173\ttotal: 3m 28s\tremaining: 40.9s\n",
      "836:\tlearn: 1483.3745681\ttotal: 3m 28s\tremaining: 40.7s\n",
      "837:\tlearn: 1483.3170103\ttotal: 3m 29s\tremaining: 40.4s\n",
      "838:\tlearn: 1483.2827218\ttotal: 3m 29s\tremaining: 40.2s\n",
      "839:\tlearn: 1483.2392553\ttotal: 3m 29s\tremaining: 39.9s\n",
      "840:\tlearn: 1483.1094902\ttotal: 3m 29s\tremaining: 39.7s\n",
      "841:\tlearn: 1483.0906334\ttotal: 3m 30s\tremaining: 39.4s\n",
      "842:\tlearn: 1483.0144104\ttotal: 3m 30s\tremaining: 39.2s\n",
      "843:\tlearn: 1482.7331822\ttotal: 3m 30s\tremaining: 38.9s\n",
      "844:\tlearn: 1482.6833052\ttotal: 3m 30s\tremaining: 38.7s\n",
      "845:\tlearn: 1482.6768371\ttotal: 3m 31s\tremaining: 38.4s\n",
      "846:\tlearn: 1482.5146621\ttotal: 3m 31s\tremaining: 38.2s\n",
      "847:\tlearn: 1482.3868264\ttotal: 3m 31s\tremaining: 37.9s\n",
      "848:\tlearn: 1482.2370628\ttotal: 3m 31s\tremaining: 37.7s\n",
      "849:\tlearn: 1482.1394191\ttotal: 3m 32s\tremaining: 37.5s\n",
      "850:\tlearn: 1482.1024640\ttotal: 3m 32s\tremaining: 37.2s\n",
      "851:\tlearn: 1482.0751054\ttotal: 3m 32s\tremaining: 37s\n",
      "852:\tlearn: 1481.9910877\ttotal: 3m 32s\tremaining: 36.7s\n",
      "853:\tlearn: 1481.7897023\ttotal: 3m 33s\tremaining: 36.4s\n",
      "854:\tlearn: 1481.5169279\ttotal: 3m 33s\tremaining: 36.2s\n",
      "855:\tlearn: 1481.4916467\ttotal: 3m 33s\tremaining: 36s\n",
      "856:\tlearn: 1481.3842546\ttotal: 3m 33s\tremaining: 35.7s\n",
      "857:\tlearn: 1481.3650170\ttotal: 3m 34s\tremaining: 35.5s\n",
      "858:\tlearn: 1481.2999775\ttotal: 3m 34s\tremaining: 35.2s\n",
      "859:\tlearn: 1481.2555132\ttotal: 3m 34s\tremaining: 35s\n",
      "860:\tlearn: 1481.1343121\ttotal: 3m 35s\tremaining: 34.7s\n",
      "861:\tlearn: 1481.0035806\ttotal: 3m 35s\tremaining: 34.5s\n",
      "862:\tlearn: 1480.8159174\ttotal: 3m 35s\tremaining: 34.2s\n",
      "863:\tlearn: 1480.6119952\ttotal: 3m 35s\tremaining: 34s\n",
      "864:\tlearn: 1480.5564437\ttotal: 3m 36s\tremaining: 33.7s\n",
      "865:\tlearn: 1480.4904964\ttotal: 3m 36s\tremaining: 33.5s\n",
      "866:\tlearn: 1480.3817027\ttotal: 3m 36s\tremaining: 33.2s\n",
      "867:\tlearn: 1480.2542408\ttotal: 3m 36s\tremaining: 33s\n",
      "868:\tlearn: 1480.2484366\ttotal: 3m 37s\tremaining: 32.7s\n",
      "869:\tlearn: 1479.9971500\ttotal: 3m 37s\tremaining: 32.5s\n",
      "870:\tlearn: 1479.8531627\ttotal: 3m 37s\tremaining: 32.2s\n",
      "871:\tlearn: 1479.7930420\ttotal: 3m 37s\tremaining: 32s\n",
      "872:\tlearn: 1479.7856495\ttotal: 3m 38s\tremaining: 31.8s\n",
      "873:\tlearn: 1479.7792980\ttotal: 3m 38s\tremaining: 31.5s\n",
      "874:\tlearn: 1479.7235981\ttotal: 3m 38s\tremaining: 31.3s\n",
      "875:\tlearn: 1479.6515789\ttotal: 3m 38s\tremaining: 31s\n",
      "876:\tlearn: 1479.6322183\ttotal: 3m 39s\tremaining: 30.7s\n",
      "877:\tlearn: 1479.5996778\ttotal: 3m 39s\tremaining: 30.5s\n",
      "878:\tlearn: 1479.5737042\ttotal: 3m 39s\tremaining: 30.2s\n",
      "879:\tlearn: 1479.5261720\ttotal: 3m 39s\tremaining: 30s\n",
      "880:\tlearn: 1479.4106654\ttotal: 3m 40s\tremaining: 29.7s\n",
      "881:\tlearn: 1479.2399299\ttotal: 3m 40s\tremaining: 29.5s\n",
      "882:\tlearn: 1479.1836720\ttotal: 3m 40s\tremaining: 29.2s\n",
      "883:\tlearn: 1479.1773786\ttotal: 3m 40s\tremaining: 29s\n",
      "884:\tlearn: 1479.1600742\ttotal: 3m 41s\tremaining: 28.7s\n",
      "885:\tlearn: 1479.0691836\ttotal: 3m 41s\tremaining: 28.5s\n",
      "886:\tlearn: 1478.9381794\ttotal: 3m 41s\tremaining: 28.2s\n",
      "887:\tlearn: 1478.9046485\ttotal: 3m 41s\tremaining: 28s\n",
      "888:\tlearn: 1478.8129587\ttotal: 3m 42s\tremaining: 27.7s\n",
      "889:\tlearn: 1478.7431297\ttotal: 3m 42s\tremaining: 27.5s\n",
      "890:\tlearn: 1478.6836340\ttotal: 3m 42s\tremaining: 27.2s\n",
      "891:\tlearn: 1478.6026301\ttotal: 3m 42s\tremaining: 27s\n",
      "892:\tlearn: 1478.5650994\ttotal: 3m 43s\tremaining: 26.7s\n",
      "893:\tlearn: 1478.4795279\ttotal: 3m 43s\tremaining: 26.5s\n",
      "894:\tlearn: 1478.4442729\ttotal: 3m 43s\tremaining: 26.2s\n",
      "895:\tlearn: 1478.4168573\ttotal: 3m 43s\tremaining: 26s\n",
      "896:\tlearn: 1478.2483300\ttotal: 3m 44s\tremaining: 25.7s\n",
      "897:\tlearn: 1478.1947206\ttotal: 3m 44s\tremaining: 25.5s\n",
      "898:\tlearn: 1477.9788235\ttotal: 3m 44s\tremaining: 25.2s\n",
      "899:\tlearn: 1477.8966134\ttotal: 3m 44s\tremaining: 25s\n",
      "900:\tlearn: 1477.8519322\ttotal: 3m 45s\tremaining: 24.8s\n",
      "901:\tlearn: 1477.7999507\ttotal: 3m 45s\tremaining: 24.5s\n",
      "902:\tlearn: 1477.6833671\ttotal: 3m 45s\tremaining: 24.3s\n",
      "903:\tlearn: 1477.6452297\ttotal: 3m 46s\tremaining: 24s\n",
      "904:\tlearn: 1477.6135225\ttotal: 3m 46s\tremaining: 23.8s\n",
      "905:\tlearn: 1477.4415359\ttotal: 3m 46s\tremaining: 23.5s\n",
      "906:\tlearn: 1477.3079803\ttotal: 3m 46s\tremaining: 23.3s\n",
      "907:\tlearn: 1477.2286397\ttotal: 3m 47s\tremaining: 23s\n",
      "908:\tlearn: 1476.9498101\ttotal: 3m 47s\tremaining: 22.8s\n",
      "909:\tlearn: 1476.7906846\ttotal: 3m 47s\tremaining: 22.5s\n",
      "910:\tlearn: 1476.7024342\ttotal: 3m 47s\tremaining: 22.3s\n",
      "911:\tlearn: 1476.6400095\ttotal: 3m 48s\tremaining: 22s\n",
      "912:\tlearn: 1476.5903953\ttotal: 3m 48s\tremaining: 21.8s\n",
      "913:\tlearn: 1476.5097611\ttotal: 3m 48s\tremaining: 21.5s\n",
      "914:\tlearn: 1476.3917679\ttotal: 3m 48s\tremaining: 21.3s\n",
      "915:\tlearn: 1476.3686882\ttotal: 3m 49s\tremaining: 21s\n",
      "916:\tlearn: 1476.3451995\ttotal: 3m 49s\tremaining: 20.8s\n",
      "917:\tlearn: 1476.2566534\ttotal: 3m 49s\tremaining: 20.5s\n",
      "918:\tlearn: 1476.0428490\ttotal: 3m 49s\tremaining: 20.3s\n",
      "919:\tlearn: 1475.9856896\ttotal: 3m 50s\tremaining: 20s\n",
      "920:\tlearn: 1475.7842531\ttotal: 3m 50s\tremaining: 19.8s\n",
      "921:\tlearn: 1475.7335506\ttotal: 3m 50s\tremaining: 19.5s\n",
      "922:\tlearn: 1475.6888718\ttotal: 3m 50s\tremaining: 19.2s\n",
      "923:\tlearn: 1475.6063890\ttotal: 3m 51s\tremaining: 19s\n",
      "924:\tlearn: 1475.5949591\ttotal: 3m 51s\tremaining: 18.8s\n",
      "925:\tlearn: 1475.4877123\ttotal: 3m 51s\tremaining: 18.5s\n",
      "926:\tlearn: 1475.4532188\ttotal: 3m 51s\tremaining: 18.3s\n",
      "927:\tlearn: 1475.4087612\ttotal: 3m 52s\tremaining: 18s\n",
      "928:\tlearn: 1475.3972258\ttotal: 3m 52s\tremaining: 17.8s\n",
      "929:\tlearn: 1475.3102927\ttotal: 3m 52s\tremaining: 17.5s\n",
      "930:\tlearn: 1475.0230928\ttotal: 3m 52s\tremaining: 17.3s\n",
      "931:\tlearn: 1474.9092338\ttotal: 3m 53s\tremaining: 17s\n",
      "932:\tlearn: 1474.8858702\ttotal: 3m 53s\tremaining: 16.7s\n"
     ]
    },
    {
     "name": "stdout",
     "output_type": "stream",
     "text": [
      "933:\tlearn: 1474.6658132\ttotal: 3m 53s\tremaining: 16.5s\n",
      "934:\tlearn: 1474.5358541\ttotal: 3m 53s\tremaining: 16.2s\n",
      "935:\tlearn: 1474.4910080\ttotal: 3m 53s\tremaining: 16s\n",
      "936:\tlearn: 1474.3390833\ttotal: 3m 54s\tremaining: 15.7s\n",
      "937:\tlearn: 1474.2732543\ttotal: 3m 54s\tremaining: 15.5s\n",
      "938:\tlearn: 1474.2533682\ttotal: 3m 54s\tremaining: 15.3s\n",
      "939:\tlearn: 1474.0355365\ttotal: 3m 55s\tremaining: 15s\n",
      "940:\tlearn: 1473.9222333\ttotal: 3m 55s\tremaining: 14.8s\n",
      "941:\tlearn: 1473.7710708\ttotal: 3m 55s\tremaining: 14.5s\n",
      "942:\tlearn: 1473.5518184\ttotal: 3m 55s\tremaining: 14.3s\n",
      "943:\tlearn: 1473.4365449\ttotal: 3m 56s\tremaining: 14s\n",
      "944:\tlearn: 1473.2383140\ttotal: 3m 56s\tremaining: 13.8s\n",
      "945:\tlearn: 1473.0294245\ttotal: 3m 56s\tremaining: 13.5s\n",
      "946:\tlearn: 1472.8523890\ttotal: 3m 56s\tremaining: 13.3s\n",
      "947:\tlearn: 1472.6577485\ttotal: 3m 57s\tremaining: 13s\n",
      "948:\tlearn: 1472.5329381\ttotal: 3m 57s\tremaining: 12.8s\n",
      "949:\tlearn: 1472.5162749\ttotal: 3m 57s\tremaining: 12.5s\n",
      "950:\tlearn: 1472.3444023\ttotal: 3m 57s\tremaining: 12.3s\n",
      "951:\tlearn: 1472.2737058\ttotal: 3m 58s\tremaining: 12s\n",
      "952:\tlearn: 1472.1469903\ttotal: 3m 58s\tremaining: 11.8s\n",
      "953:\tlearn: 1471.9883134\ttotal: 3m 58s\tremaining: 11.5s\n",
      "954:\tlearn: 1471.8572453\ttotal: 3m 58s\tremaining: 11.3s\n",
      "955:\tlearn: 1471.8205886\ttotal: 3m 59s\tremaining: 11s\n",
      "956:\tlearn: 1471.6891678\ttotal: 3m 59s\tremaining: 10.8s\n",
      "957:\tlearn: 1471.6078547\ttotal: 3m 59s\tremaining: 10.5s\n",
      "958:\tlearn: 1471.5849867\ttotal: 3m 59s\tremaining: 10.2s\n",
      "959:\tlearn: 1471.2667087\ttotal: 4m\tremaining: 10s\n",
      "960:\tlearn: 1471.1126746\ttotal: 4m\tremaining: 9.75s\n",
      "961:\tlearn: 1471.0368247\ttotal: 4m\tremaining: 9.5s\n",
      "962:\tlearn: 1470.8873039\ttotal: 4m\tremaining: 9.25s\n",
      "963:\tlearn: 1470.8690249\ttotal: 4m 1s\tremaining: 9.01s\n",
      "964:\tlearn: 1470.7834728\ttotal: 4m 1s\tremaining: 8.76s\n",
      "965:\tlearn: 1470.6959219\ttotal: 4m 1s\tremaining: 8.51s\n",
      "966:\tlearn: 1470.5174677\ttotal: 4m 1s\tremaining: 8.26s\n",
      "967:\tlearn: 1470.4281409\ttotal: 4m 2s\tremaining: 8.01s\n",
      "968:\tlearn: 1470.3385694\ttotal: 4m 2s\tremaining: 7.76s\n",
      "969:\tlearn: 1470.2951614\ttotal: 4m 2s\tremaining: 7.51s\n",
      "970:\tlearn: 1470.2448820\ttotal: 4m 3s\tremaining: 7.26s\n",
      "971:\tlearn: 1470.1760738\ttotal: 4m 3s\tremaining: 7.01s\n",
      "972:\tlearn: 1470.0684992\ttotal: 4m 3s\tremaining: 6.76s\n",
      "973:\tlearn: 1469.9746691\ttotal: 4m 3s\tremaining: 6.51s\n",
      "974:\tlearn: 1469.7888832\ttotal: 4m 4s\tremaining: 6.26s\n",
      "975:\tlearn: 1469.6436199\ttotal: 4m 4s\tremaining: 6.01s\n",
      "976:\tlearn: 1469.5647840\ttotal: 4m 4s\tremaining: 5.75s\n",
      "977:\tlearn: 1469.4883721\ttotal: 4m 4s\tremaining: 5.5s\n",
      "978:\tlearn: 1469.4445465\ttotal: 4m 5s\tremaining: 5.25s\n",
      "979:\tlearn: 1469.2230421\ttotal: 4m 5s\tremaining: 5s\n",
      "980:\tlearn: 1469.1610359\ttotal: 4m 5s\tremaining: 4.75s\n",
      "981:\tlearn: 1469.1341868\ttotal: 4m 5s\tremaining: 4.5s\n",
      "982:\tlearn: 1469.1061642\ttotal: 4m 5s\tremaining: 4.25s\n",
      "983:\tlearn: 1468.9486893\ttotal: 4m 6s\tremaining: 4s\n",
      "984:\tlearn: 1468.9065260\ttotal: 4m 6s\tremaining: 3.75s\n",
      "985:\tlearn: 1468.7588473\ttotal: 4m 6s\tremaining: 3.5s\n",
      "986:\tlearn: 1468.5722114\ttotal: 4m 7s\tremaining: 3.25s\n",
      "987:\tlearn: 1468.4457277\ttotal: 4m 7s\tremaining: 3s\n",
      "988:\tlearn: 1468.4347149\ttotal: 4m 7s\tremaining: 2.75s\n",
      "989:\tlearn: 1468.3794382\ttotal: 4m 8s\tremaining: 2.5s\n",
      "990:\tlearn: 1468.3706487\ttotal: 4m 8s\tremaining: 2.25s\n",
      "991:\tlearn: 1468.2308517\ttotal: 4m 8s\tremaining: 2s\n",
      "992:\tlearn: 1468.1203029\ttotal: 4m 8s\tremaining: 1.75s\n",
      "993:\tlearn: 1467.9883992\ttotal: 4m 9s\tremaining: 1.5s\n",
      "994:\tlearn: 1467.8830538\ttotal: 4m 9s\tremaining: 1.25s\n",
      "995:\tlearn: 1467.7598503\ttotal: 4m 9s\tremaining: 1s\n",
      "996:\tlearn: 1467.5870998\ttotal: 4m 9s\tremaining: 752ms\n",
      "997:\tlearn: 1467.4302750\ttotal: 4m 10s\tremaining: 502ms\n",
      "998:\tlearn: 1467.2618710\ttotal: 4m 10s\tremaining: 251ms\n",
      "999:\tlearn: 1467.1382847\ttotal: 4m 10s\tremaining: 0us\n",
      "{'learning_rate': 0.2, 'random_state': 12345}\n",
      "RMSE для CatBoostRegressor модели на тестовой выборке: 1576.064905688303\n",
      "CPU times: user 20min 34s, sys: 4.87 s, total: 20min 39s\n",
      "Wall time: 20min 54s\n"
     ]
    }
   ],
   "source": [
    "%%time\n",
    "\n",
    "# catboost\n",
    "parameters = [{'learning_rate':[.1, .2], 'random_state':[12345]}]\n",
    "model_cat = CatBoostRegressor(cat_features=cat_features) \n",
    "gscv = GridSearchCV(model_cat, parameters, scoring='neg_mean_squared_error', cv=3, verbose=100)\n",
    "gscv.fit(features_train, target_train)\n",
    "\n",
    "print(gscv.best_params_)\n",
    "\n",
    "mts = gscv.cv_results_['mean_test_score']\n",
    "    \n",
    "rmse_cat =(max(mts) * -1) ** .5\n",
    "\n",
    "print(\"RMSE для CatBoostRegressor модели на тестовой выборке:\", rmse_cat )"
   ]
  },
  {
   "cell_type": "code",
   "execution_count": 80,
   "metadata": {},
   "outputs": [
    {
     "name": "stdout",
     "output_type": "stream",
     "text": [
      "CPU times: user 4min 9s, sys: 536 ms, total: 4min 9s\n",
      "Wall time: 4min 11s\n"
     ]
    }
   ],
   "source": [
    "%%time\n",
    "\n",
    "# catboost\n",
    "model_cat = CatBoostRegressor(learning_rate=0.4, random_state=RAN_ST,  verbose=False) \n",
    "\n",
    "start = time.time()\n",
    "model_cat.fit(features_train, target_train, cat_features=cat_features)\n",
    "end = time.time()\n",
    "t_cat_fit=round(end-start,2)\n",
    "\n",
    "start = time.time()\n",
    "preds_cat = model_cat.predict(features_train)\n",
    "end = time.time()\n",
    "t_cat_pr=round(end-start,2)\n"
   ]
  },
  {
   "cell_type": "markdown",
   "metadata": {},
   "source": [
    "**LGBM**"
   ]
  },
  {
   "cell_type": "markdown",
   "metadata": {},
   "source": [
    "Сначала Поймал ошибку LGBM: \n",
    "\n",
    "-- ValueError: DataFrame.dtypes for data must be int, float or bool.\n",
    "Did not expect the data types in the following fields: VehicleType, Gearbox, Model, FuelType, Brand, Repaired --\n",
    "\n",
    "Поэтому сделал OrdinalEncoder"
   ]
  },
  {
   "cell_type": "markdown",
   "metadata": {},
   "source": [
    "<div class=\"alert alert-block alert-info\">\n",
    "<b>Совет:</b> Подскажу с LGBM - достаточно просто пометить данные через `.astype('category')` и модель сможет сама обработать сырые данные\n",
    "</div>\n",
    "Спасибо большое"
   ]
  },
  {
   "cell_type": "code",
   "execution_count": 81,
   "metadata": {},
   "outputs": [],
   "source": [
    "encoder = OrdinalEncoder(handle_unknown='use_encoded_value', unknown_value=-1)\n",
    "features_train_ordinal = pd.DataFrame(encoder.fit_transform(features_train),columns=features.columns)\n",
    "features_test_ordinal = pd.DataFrame(encoder.transform(features_test),columns=features.columns)"
   ]
  },
  {
   "cell_type": "code",
   "execution_count": 82,
   "metadata": {},
   "outputs": [
    {
     "data": {
      "text/html": [
       "<div>\n",
       "<style scoped>\n",
       "    .dataframe tbody tr th:only-of-type {\n",
       "        vertical-align: middle;\n",
       "    }\n",
       "\n",
       "    .dataframe tbody tr th {\n",
       "        vertical-align: top;\n",
       "    }\n",
       "\n",
       "    .dataframe thead th {\n",
       "        text-align: right;\n",
       "    }\n",
       "</style>\n",
       "<table border=\"1\" class=\"dataframe\">\n",
       "  <thead>\n",
       "    <tr style=\"text-align: right;\">\n",
       "      <th></th>\n",
       "      <th>VehicleType</th>\n",
       "      <th>RegistrationYear</th>\n",
       "      <th>Gearbox</th>\n",
       "      <th>Power</th>\n",
       "      <th>Model</th>\n",
       "      <th>Kilometer</th>\n",
       "      <th>FuelType</th>\n",
       "      <th>Brand</th>\n",
       "      <th>Repaired</th>\n",
       "    </tr>\n",
       "  </thead>\n",
       "  <tbody>\n",
       "    <tr>\n",
       "      <th>0</th>\n",
       "      <td>8.0</td>\n",
       "      <td>53.0</td>\n",
       "      <td>1.0</td>\n",
       "      <td>220.0</td>\n",
       "      <td>31.0</td>\n",
       "      <td>12.0</td>\n",
       "      <td>1.0</td>\n",
       "      <td>1.0</td>\n",
       "      <td>0.0</td>\n",
       "    </tr>\n",
       "    <tr>\n",
       "      <th>1</th>\n",
       "      <td>7.0</td>\n",
       "      <td>30.0</td>\n",
       "      <td>2.0</td>\n",
       "      <td>0.0</td>\n",
       "      <td>166.0</td>\n",
       "      <td>0.0</td>\n",
       "      <td>5.0</td>\n",
       "      <td>0.0</td>\n",
       "      <td>1.0</td>\n",
       "    </tr>\n",
       "    <tr>\n",
       "      <th>2</th>\n",
       "      <td>5.0</td>\n",
       "      <td>51.0</td>\n",
       "      <td>1.0</td>\n",
       "      <td>50.0</td>\n",
       "      <td>5.0</td>\n",
       "      <td>8.0</td>\n",
       "      <td>4.0</td>\n",
       "      <td>19.0</td>\n",
       "      <td>0.0</td>\n",
       "    </tr>\n",
       "    <tr>\n",
       "      <th>3</th>\n",
       "      <td>4.0</td>\n",
       "      <td>61.0</td>\n",
       "      <td>1.0</td>\n",
       "      <td>150.0</td>\n",
       "      <td>241.0</td>\n",
       "      <td>3.0</td>\n",
       "      <td>4.0</td>\n",
       "      <td>2.0</td>\n",
       "      <td>0.0</td>\n",
       "    </tr>\n",
       "    <tr>\n",
       "      <th>4</th>\n",
       "      <td>1.0</td>\n",
       "      <td>61.0</td>\n",
       "      <td>0.0</td>\n",
       "      <td>177.0</td>\n",
       "      <td>6.0</td>\n",
       "      <td>7.0</td>\n",
       "      <td>4.0</td>\n",
       "      <td>2.0</td>\n",
       "      <td>0.0</td>\n",
       "    </tr>\n",
       "  </tbody>\n",
       "</table>\n",
       "</div>"
      ],
      "text/plain": [
       "   VehicleType  RegistrationYear  Gearbox  Power  Model  Kilometer  FuelType  \\\n",
       "0          8.0              53.0      1.0  220.0   31.0       12.0       1.0   \n",
       "1          7.0              30.0      2.0    0.0  166.0        0.0       5.0   \n",
       "2          5.0              51.0      1.0   50.0    5.0        8.0       4.0   \n",
       "3          4.0              61.0      1.0  150.0  241.0        3.0       4.0   \n",
       "4          1.0              61.0      0.0  177.0    6.0        7.0       4.0   \n",
       "\n",
       "   Brand  Repaired  \n",
       "0    1.0       0.0  \n",
       "1    0.0       1.0  \n",
       "2   19.0       0.0  \n",
       "3    2.0       0.0  \n",
       "4    2.0       0.0  "
      ]
     },
     "execution_count": 82,
     "metadata": {},
     "output_type": "execute_result"
    }
   ],
   "source": [
    "features_train_ordinal.head()"
   ]
  },
  {
   "cell_type": "code",
   "execution_count": 83,
   "metadata": {},
   "outputs": [
    {
     "data": {
      "text/html": [
       "<div>\n",
       "<style scoped>\n",
       "    .dataframe tbody tr th:only-of-type {\n",
       "        vertical-align: middle;\n",
       "    }\n",
       "\n",
       "    .dataframe tbody tr th {\n",
       "        vertical-align: top;\n",
       "    }\n",
       "\n",
       "    .dataframe thead th {\n",
       "        text-align: right;\n",
       "    }\n",
       "</style>\n",
       "<table border=\"1\" class=\"dataframe\">\n",
       "  <thead>\n",
       "    <tr style=\"text-align: right;\">\n",
       "      <th></th>\n",
       "      <th>VehicleType</th>\n",
       "      <th>RegistrationYear</th>\n",
       "      <th>Gearbox</th>\n",
       "      <th>Power</th>\n",
       "      <th>Model</th>\n",
       "      <th>Kilometer</th>\n",
       "      <th>FuelType</th>\n",
       "      <th>Brand</th>\n",
       "      <th>Repaired</th>\n",
       "    </tr>\n",
       "  </thead>\n",
       "  <tbody>\n",
       "    <tr>\n",
       "      <th>0</th>\n",
       "      <td>4.0</td>\n",
       "      <td>54.0</td>\n",
       "      <td>1.0</td>\n",
       "      <td>143.0</td>\n",
       "      <td>11.0</td>\n",
       "      <td>12.0</td>\n",
       "      <td>4.0</td>\n",
       "      <td>2.0</td>\n",
       "      <td>0.0</td>\n",
       "    </tr>\n",
       "    <tr>\n",
       "      <th>1</th>\n",
       "      <td>5.0</td>\n",
       "      <td>51.0</td>\n",
       "      <td>1.0</td>\n",
       "      <td>58.0</td>\n",
       "      <td>166.0</td>\n",
       "      <td>11.0</td>\n",
       "      <td>5.0</td>\n",
       "      <td>12.0</td>\n",
       "      <td>0.0</td>\n",
       "    </tr>\n",
       "    <tr>\n",
       "      <th>2</th>\n",
       "      <td>5.0</td>\n",
       "      <td>48.0</td>\n",
       "      <td>1.0</td>\n",
       "      <td>45.0</td>\n",
       "      <td>5.0</td>\n",
       "      <td>12.0</td>\n",
       "      <td>4.0</td>\n",
       "      <td>25.0</td>\n",
       "      <td>0.0</td>\n",
       "    </tr>\n",
       "    <tr>\n",
       "      <th>3</th>\n",
       "      <td>8.0</td>\n",
       "      <td>56.0</td>\n",
       "      <td>1.0</td>\n",
       "      <td>140.0</td>\n",
       "      <td>170.0</td>\n",
       "      <td>12.0</td>\n",
       "      <td>4.0</td>\n",
       "      <td>38.0</td>\n",
       "      <td>0.0</td>\n",
       "    </tr>\n",
       "    <tr>\n",
       "      <th>4</th>\n",
       "      <td>5.0</td>\n",
       "      <td>55.0</td>\n",
       "      <td>1.0</td>\n",
       "      <td>68.0</td>\n",
       "      <td>5.0</td>\n",
       "      <td>12.0</td>\n",
       "      <td>4.0</td>\n",
       "      <td>25.0</td>\n",
       "      <td>0.0</td>\n",
       "    </tr>\n",
       "  </tbody>\n",
       "</table>\n",
       "</div>"
      ],
      "text/plain": [
       "   VehicleType  RegistrationYear  Gearbox  Power  Model  Kilometer  FuelType  \\\n",
       "0          4.0              54.0      1.0  143.0   11.0       12.0       4.0   \n",
       "1          5.0              51.0      1.0   58.0  166.0       11.0       5.0   \n",
       "2          5.0              48.0      1.0   45.0    5.0       12.0       4.0   \n",
       "3          8.0              56.0      1.0  140.0  170.0       12.0       4.0   \n",
       "4          5.0              55.0      1.0   68.0    5.0       12.0       4.0   \n",
       "\n",
       "   Brand  Repaired  \n",
       "0    2.0       0.0  \n",
       "1   12.0       0.0  \n",
       "2   25.0       0.0  \n",
       "3   38.0       0.0  \n",
       "4   25.0       0.0  "
      ]
     },
     "execution_count": 83,
     "metadata": {},
     "output_type": "execute_result"
    }
   ],
   "source": [
    "features_test_ordinal.head()"
   ]
  },
  {
   "cell_type": "code",
   "execution_count": 84,
   "metadata": {},
   "outputs": [],
   "source": [
    "params = {\"iterations\": 20,\n",
    "          \"learning_rate\": 1,\n",
    "          \"max_depth\": None,\n",
    "          \"loss_function\": \"RMSE\",\n",
    "          \"random_state\": 12345,\n",
    "          \"bootstrap_type\": 'gbdt',\n",
    "          \"min_data_in_leaf\": 1,\n",
    "          \"nthread\": 3\n",
    "\n",
    "          }\n",
    "\n",
    "lgbm_train_data = lightgbm.Dataset(features_train_ordinal, label=target_train)\n",
    "\n",
    "arguments = {'learning_rate': 1,\n",
    "         'metric': 'rmse',\n",
    "         'seed': 12345,\n",
    "         'objective': 'regression',\n",
    "         'verbosity': -1,\n",
    "        }\n",
    "\n",
    "max_depth = [1, 6, 11]"
   ]
  },
  {
   "cell_type": "markdown",
   "metadata": {},
   "source": []
  },
  {
   "cell_type": "code",
   "execution_count": 85,
   "metadata": {},
   "outputs": [
    {
     "name": "stdout",
     "output_type": "stream",
     "text": [
      "CPU times: user 3 µs, sys: 0 ns, total: 3 µs\n",
      "Wall time: 5.72 µs\n"
     ]
    },
    {
     "name": "stderr",
     "output_type": "stream",
     "text": [
      "/opt/conda/lib/python3.9/site-packages/lightgbm/basic.py:2068: UserWarning: categorical_feature in Dataset is overridden.\n",
      "New categorical_feature is ['Brand', 'FuelType', 'Gearbox', 'Model', 'Repaired', 'VehicleType']\n",
      "  _log_warning('categorical_feature in Dataset is overridden.\\n'\n",
      "/opt/conda/lib/python3.9/site-packages/sklearn/model_selection/_split.py:666: UserWarning: The least populated class in y has only 1 members, which is less than n_splits=3.\n",
      "  warnings.warn((\"The least populated class in y has only %d\"\n",
      "/opt/conda/lib/python3.9/site-packages/sklearn/model_selection/_split.py:666: UserWarning: The least populated class in y has only 1 members, which is less than n_splits=3.\n",
      "  warnings.warn((\"The least populated class in y has only %d\"\n",
      "/opt/conda/lib/python3.9/site-packages/sklearn/model_selection/_split.py:666: UserWarning: The least populated class in y has only 1 members, which is less than n_splits=3.\n",
      "  warnings.warn((\"The least populated class in y has only %d\"\n"
     ]
    }
   ],
   "source": [
    "%time\n",
    "\n",
    "best_score = 5000\n",
    "for depth in max_depth:\n",
    "    arguments['max_depth'] = depth\n",
    "    score = lightgbm.cv(arguments, lgbm_train_data, nfold=3,categorical_feature=cat_features)\n",
    "    score = pd.DataFrame(score).iloc[-1]['rmse-mean']\n",
    "    if score < best_score:\n",
    "        best_score = score\n",
    "        best_depth = depth"
   ]
  },
  {
   "cell_type": "code",
   "execution_count": 86,
   "metadata": {},
   "outputs": [
    {
     "name": "stdout",
     "output_type": "stream",
     "text": [
      "1689.5279032924227 11\n"
     ]
    }
   ],
   "source": [
    "print(best_score, best_depth)"
   ]
  },
  {
   "cell_type": "code",
   "execution_count": 87,
   "metadata": {},
   "outputs": [
    {
     "name": "stdout",
     "output_type": "stream",
     "text": [
      "1689.5279032924227 11\n",
      "CPU times: user 18 s, sys: 31.5 ms, total: 18.1 s\n",
      "Wall time: 18 s\n"
     ]
    }
   ],
   "source": [
    "%%time\n",
    "start = time.time()\n",
    "params['max_depth'] = best_depth\n",
    "lgbm_model = lightgbm.train(arguments, lgbm_train_data, categorical_feature=cat_features, num_boost_round=400)\n",
    "end = time.time()\n",
    "t_lg_fit=round(end-start,2)\n",
    "\n",
    "start = time.time()\n",
    "params['max_depth'] = 6\n",
    "lgbm_test_data = lightgbm.Dataset(features_train_ordinal, label=target_train)\n",
    "preds_lgbm = lgbm_model.predict(features_train_ordinal)\n",
    "\n",
    "end = time.time()\n",
    "t_lg_pr=round(end-start,2)\n",
    "\n",
    "print(best_score, best_depth)\n",
    "rmse_lg=best_score"
   ]
  },
  {
   "cell_type": "markdown",
   "metadata": {},
   "source": [
    "## Анализ моделей"
   ]
  },
  {
   "cell_type": "code",
   "execution_count": 88,
   "metadata": {},
   "outputs": [],
   "source": [
    "lin_array =    [rmse_lr,  t_lr_fit,  t_lr_pr]\n",
    "tree_array =   [rmse_tr,  t_tr_fit,  t_tr_pr]\n",
    "forest_array = [rmse_fr,  t_fr_fit,  t_fr_pr]\n",
    "cat_array =    [rmse_cat, t_cat_fit, t_cat_pr]\n",
    "lg_array =     [rmse_lg,  t_lg_fit,  t_lg_pr]\n",
    "rezult={'Линейная регрессия':np.array(lin_array), 'Дерево Решения':np.array(tree_array),'Случайный лес':np.array(forest_array), \n",
    "        'CatBoost':np.array(cat_array), 'LGBM':np.array(lg_array)}\n",
    "rezult_df=pd.DataFrame(rezult,index=['rmse', 'time_fit', 'time_predict'])\n"
   ]
  },
  {
   "cell_type": "code",
   "execution_count": 89,
   "metadata": {},
   "outputs": [
    {
     "data": {
      "text/html": [
       "<div>\n",
       "<style scoped>\n",
       "    .dataframe tbody tr th:only-of-type {\n",
       "        vertical-align: middle;\n",
       "    }\n",
       "\n",
       "    .dataframe tbody tr th {\n",
       "        vertical-align: top;\n",
       "    }\n",
       "\n",
       "    .dataframe thead th {\n",
       "        text-align: right;\n",
       "    }\n",
       "</style>\n",
       "<table border=\"1\" class=\"dataframe\">\n",
       "  <thead>\n",
       "    <tr style=\"text-align: right;\">\n",
       "      <th></th>\n",
       "      <th>rmse</th>\n",
       "      <th>time_fit</th>\n",
       "      <th>time_predict</th>\n",
       "    </tr>\n",
       "  </thead>\n",
       "  <tbody>\n",
       "    <tr>\n",
       "      <th>Линейная регрессия</th>\n",
       "      <td>2680.298757</td>\n",
       "      <td>15.80</td>\n",
       "      <td>0.31</td>\n",
       "    </tr>\n",
       "    <tr>\n",
       "      <th>Дерево Решения</th>\n",
       "      <td>1837.610814</td>\n",
       "      <td>5.11</td>\n",
       "      <td>0.32</td>\n",
       "    </tr>\n",
       "    <tr>\n",
       "      <th>Случайный лес</th>\n",
       "      <td>1748.000000</td>\n",
       "      <td>231.57</td>\n",
       "      <td>2.84</td>\n",
       "    </tr>\n",
       "    <tr>\n",
       "      <th>CatBoost</th>\n",
       "      <td>1576.064906</td>\n",
       "      <td>249.17</td>\n",
       "      <td>2.55</td>\n",
       "    </tr>\n",
       "    <tr>\n",
       "      <th>LGBM</th>\n",
       "      <td>1689.527903</td>\n",
       "      <td>12.71</td>\n",
       "      <td>5.32</td>\n",
       "    </tr>\n",
       "  </tbody>\n",
       "</table>\n",
       "</div>"
      ],
      "text/plain": [
       "                           rmse  time_fit  time_predict\n",
       "Линейная регрессия  2680.298757     15.80          0.31\n",
       "Дерево Решения      1837.610814      5.11          0.32\n",
       "Случайный лес       1748.000000    231.57          2.84\n",
       "CatBoost            1576.064906    249.17          2.55\n",
       "LGBM                1689.527903     12.71          5.32"
      ]
     },
     "execution_count": 89,
     "metadata": {},
     "output_type": "execute_result"
    }
   ],
   "source": [
    "rezult_df.T"
   ]
  },
  {
   "cell_type": "markdown",
   "metadata": {},
   "source": [
    "Вывод:\n",
    "Наилучшее качество получилось на модели Catboost, время обучения было дольше остальных и составило 4 min 23s.\n",
    "LGBMRegressor предсказала незначительно хуже."
   ]
  },
  {
   "cell_type": "markdown",
   "metadata": {},
   "source": [
    "Проверим качество лучшей модели на тестовой выборке:"
   ]
  },
  {
   "cell_type": "code",
   "execution_count": 90,
   "metadata": {},
   "outputs": [
    {
     "name": "stdout",
     "output_type": "stream",
     "text": [
      "CPU times: user 4min 4s, sys: 827 ms, total: 4min 4s\n",
      "Wall time: 4min 8s\n"
     ]
    },
    {
     "data": {
      "text/plain": [
       "1567.2539155032384"
      ]
     },
     "execution_count": 90,
     "metadata": {},
     "output_type": "execute_result"
    }
   ],
   "source": [
    "%%time\n",
    "model_cat.fit(features_train, target_train, cat_features=cat_features)\n",
    "preds_cat = model_cat.predict(features_test)   \n",
    "metric_test = mean_squared_error(target_test, preds_cat, squared=False)\n",
    "metric_test"
   ]
  },
  {
   "cell_type": "code",
   "execution_count": 91,
   "metadata": {},
   "outputs": [
    {
     "name": "stdout",
     "output_type": "stream",
     "text": [
      "CPU times: user 4min 4s, sys: 587 ms, total: 4min 5s\n",
      "Wall time: 4min 7s\n"
     ]
    }
   ],
   "source": [
    "%%time\n",
    "model_cat.fit(features_train, target_train, cat_features=cat_features)\n",
    "\n",
    "cat_imp = pd.Series(model_cat.feature_importances_, features_train.columns)"
   ]
  },
  {
   "cell_type": "code",
   "execution_count": 92,
   "metadata": {},
   "outputs": [
    {
     "data": {
      "image/png": "[encoded data removed]",
      "text/plain": [
       "<Figure size 720x432 with 1 Axes>"
      ]
     },
     "metadata": {
      "needs_background": "light"
     },
     "output_type": "display_data"
    }
   ],
   "source": [
    "fig, ax = plt.subplots(figsize=(10,6))\n",
    "cat_imp.plot.bar(ax=ax)\n",
    "ax.set_title(\"Важность признаков\")\n",
    "ax.set_ylabel('Важность, %')\n",
    "fig.tight_layout()"
   ]
  },
  {
   "cell_type": "code",
   "execution_count": 93,
   "metadata": {},
   "outputs": [],
   "source": [
    "# model_skl_iris = RandomForestClassifier()\n",
    "# model_skl_iris.fit(X = df_iris.drop(['target'], axis=1),\n",
    "#                    y = df_iris['target'])\n",
    "\n",
    "# skl_iris_imp = pd.Series(model_skl_iris.feature_importances_,\n",
    "#                          df_iris.drop(['target'], axis=1).columns)\n",
    "\n",
    "# fig, ax = plt.subplots(figsize=(16,14))\n",
    "# skl_iris_imp.plot.bar(ax=ax)\n",
    "# ax.set_title(\"Важность признаков\")\n",
    "# ax.set_ylabel('Важность')\n",
    "# fig.tight_layout()"
   ]
  },
  {
   "cell_type": "markdown",
   "metadata": {},
   "source": [
    "## Чек-лист проверки"
   ]
  },
  {
   "cell_type": "markdown",
   "metadata": {},
   "source": [
    "Поставьте 'x' в выполненных пунктах. Далее нажмите Shift+Enter."
   ]
  },
  {
   "cell_type": "markdown",
   "metadata": {},
   "source": [
    "- [x]  Jupyter Notebook открыт\n",
    "- [x]  Весь код выполняется без ошибок\n",
    "- [x]  Ячейки с кодом расположены в порядке исполнения\n",
    "- [x]  Выполнена загрузка и подготовка данных\n",
    "- [x]  Выполнено обучение моделей\n",
    "- [x]  Есть анализ скорости работы и качества моделей"
   ]
  },
  {
   "cell_type": "code",
   "execution_count": null,
   "metadata": {},
   "outputs": [],
   "source": []
  }
 ],
 "metadata": {
  "ExecuteTimeLog": [
   {
    "duration": 1688,
    "start_time": "2023-04-12T07:02:59.576Z"
   },
   {
    "duration": 1078,
    "start_time": "2023-04-12T07:03:18.905Z"
   },
   {
    "duration": 18,
    "start_time": "2023-04-12T07:03:22.605Z"
   },
   {
    "duration": 120,
    "start_time": "2023-04-12T07:03:51.832Z"
   },
   {
    "duration": 197,
    "start_time": "2023-04-12T07:03:56.980Z"
   },
   {
    "duration": 420,
    "start_time": "2023-04-12T07:04:53.848Z"
   },
   {
    "duration": 475,
    "start_time": "2023-04-12T07:06:55.403Z"
   },
   {
    "duration": 448,
    "start_time": "2023-04-12T07:07:30.523Z"
   },
   {
    "duration": 442,
    "start_time": "2023-04-12T07:07:45.446Z"
   },
   {
    "duration": 408,
    "start_time": "2023-04-12T07:07:49.407Z"
   },
   {
    "duration": 176,
    "start_time": "2023-04-12T08:23:55.814Z"
   },
   {
    "duration": 1241,
    "start_time": "2023-04-12T08:27:35.089Z"
   },
   {
    "duration": 183,
    "start_time": "2023-04-12T08:28:03.388Z"
   },
   {
    "duration": 43,
    "start_time": "2023-04-12T08:32:18.469Z"
   },
   {
    "duration": 59,
    "start_time": "2023-04-12T08:32:31.439Z"
   },
   {
    "duration": 65,
    "start_time": "2023-04-12T08:32:39.909Z"
   },
   {
    "duration": 40,
    "start_time": "2023-04-12T08:32:52.864Z"
   },
   {
    "duration": 46,
    "start_time": "2023-04-12T08:34:20.206Z"
   },
   {
    "duration": 34,
    "start_time": "2023-04-12T08:34:40.743Z"
   },
   {
    "duration": 94,
    "start_time": "2023-04-12T08:35:07.484Z"
   },
   {
    "duration": 947,
    "start_time": "2023-04-12T08:42:20.532Z"
   },
   {
    "duration": 5,
    "start_time": "2023-04-12T08:42:38.963Z"
   },
   {
    "duration": 43,
    "start_time": "2023-04-12T08:42:48.902Z"
   },
   {
    "duration": 9,
    "start_time": "2023-04-12T08:51:28.840Z"
   },
   {
    "duration": 37,
    "start_time": "2023-04-12T08:52:03.277Z"
   },
   {
    "duration": 26,
    "start_time": "2023-04-12T08:52:10.858Z"
   },
   {
    "duration": 169,
    "start_time": "2023-04-12T08:52:59.869Z"
   },
   {
    "duration": 301,
    "start_time": "2023-04-12T08:55:24.392Z"
   },
   {
    "duration": 46,
    "start_time": "2023-04-12T11:48:52.840Z"
   },
   {
    "duration": 47,
    "start_time": "2023-04-12T11:49:03.692Z"
   },
   {
    "duration": 94,
    "start_time": "2023-04-12T11:49:34.402Z"
   },
   {
    "duration": 96,
    "start_time": "2023-04-12T11:49:44.093Z"
   },
   {
    "duration": 9,
    "start_time": "2023-04-12T11:53:48.456Z"
   },
   {
    "duration": 49,
    "start_time": "2023-04-12T11:54:01.404Z"
   },
   {
    "duration": 104,
    "start_time": "2023-04-12T11:54:20.105Z"
   },
   {
    "duration": 23,
    "start_time": "2023-04-12T11:54:28.743Z"
   },
   {
    "duration": 11,
    "start_time": "2023-04-12T11:56:06.251Z"
   },
   {
    "duration": 92,
    "start_time": "2023-04-12T11:56:12.705Z"
   },
   {
    "duration": 79,
    "start_time": "2023-04-12T11:56:34.735Z"
   },
   {
    "duration": 16,
    "start_time": "2023-04-12T12:09:08.760Z"
   },
   {
    "duration": 2,
    "start_time": "2023-04-12T12:11:03.551Z"
   },
   {
    "duration": 90,
    "start_time": "2023-04-12T12:40:18.052Z"
   },
   {
    "duration": 329,
    "start_time": "2023-04-12T12:41:09.373Z"
   },
   {
    "duration": 468,
    "start_time": "2023-04-12T12:42:04.282Z"
   },
   {
    "duration": 515,
    "start_time": "2023-04-12T12:42:58.844Z"
   },
   {
    "duration": 76,
    "start_time": "2023-04-12T12:44:42.679Z"
   },
   {
    "duration": 45,
    "start_time": "2023-04-12T12:44:53.945Z"
   },
   {
    "duration": 1076,
    "start_time": "2023-04-12T12:45:08.802Z"
   },
   {
    "duration": 917,
    "start_time": "2023-04-12T12:45:37.481Z"
   },
   {
    "duration": 12,
    "start_time": "2023-04-12T12:45:46.368Z"
   },
   {
    "duration": 2086,
    "start_time": "2023-04-12T12:46:00.482Z"
   },
   {
    "duration": 2035,
    "start_time": "2023-04-12T12:46:41.052Z"
   },
   {
    "duration": 391,
    "start_time": "2023-04-12T12:47:08.059Z"
   },
   {
    "duration": 359,
    "start_time": "2023-04-12T12:47:15.687Z"
   },
   {
    "duration": 2624,
    "start_time": "2023-04-12T12:50:05.190Z"
   },
   {
    "duration": 2,
    "start_time": "2023-04-12T12:50:11.569Z"
   },
   {
    "duration": 1354,
    "start_time": "2023-04-12T12:50:13.352Z"
   },
   {
    "duration": 45,
    "start_time": "2023-04-12T12:50:14.710Z"
   },
   {
    "duration": 141,
    "start_time": "2023-04-12T12:50:18.458Z"
   },
   {
    "duration": 534,
    "start_time": "2023-04-12T12:50:25.158Z"
   },
   {
    "duration": 576,
    "start_time": "2023-04-12T12:50:26.977Z"
   },
   {
    "duration": 488,
    "start_time": "2023-04-12T12:50:29.070Z"
   },
   {
    "duration": 291,
    "start_time": "2023-04-12T12:50:36.709Z"
   },
   {
    "duration": 169,
    "start_time": "2023-04-12T12:50:42.099Z"
   },
   {
    "duration": 46,
    "start_time": "2023-04-12T12:50:49.656Z"
   },
   {
    "duration": 86,
    "start_time": "2023-04-12T12:51:00.170Z"
   },
   {
    "duration": 107,
    "start_time": "2023-04-12T12:51:03.780Z"
   },
   {
    "duration": 33,
    "start_time": "2023-04-12T12:51:06.453Z"
   },
   {
    "duration": 125,
    "start_time": "2023-04-12T12:51:11.311Z"
   },
   {
    "duration": 47,
    "start_time": "2023-04-12T12:51:12.811Z"
   },
   {
    "duration": 3,
    "start_time": "2023-04-12T12:51:15.011Z"
   },
   {
    "duration": 111,
    "start_time": "2023-04-12T12:51:52.291Z"
   },
   {
    "duration": 8,
    "start_time": "2023-04-12T12:52:15.837Z"
   },
   {
    "duration": 325,
    "start_time": "2023-04-12T12:52:19.185Z"
   },
   {
    "duration": 90,
    "start_time": "2023-04-12T12:52:56.765Z"
   },
   {
    "duration": 411,
    "start_time": "2023-04-12T12:53:00.050Z"
   },
   {
    "duration": 64,
    "start_time": "2023-04-12T12:55:43.787Z"
   },
   {
    "duration": 3,
    "start_time": "2023-04-12T12:55:46.907Z"
   },
   {
    "duration": 103,
    "start_time": "2023-04-12T12:55:48.150Z"
   },
   {
    "duration": 900,
    "start_time": "2023-04-12T12:58:02.253Z"
   },
   {
    "duration": 467,
    "start_time": "2023-04-12T12:58:26.097Z"
   },
   {
    "duration": 62,
    "start_time": "2023-04-12T12:58:32.553Z"
   },
   {
    "duration": 171,
    "start_time": "2023-04-12T12:58:37.239Z"
   },
   {
    "duration": 78427,
    "start_time": "2023-04-12T13:00:03.809Z"
   },
   {
    "duration": 0,
    "start_time": "2023-04-12T13:01:22.247Z"
   },
   {
    "duration": 14,
    "start_time": "2023-04-12T13:01:35.714Z"
   },
   {
    "duration": 6,
    "start_time": "2023-04-12T13:01:35.731Z"
   },
   {
    "duration": 826,
    "start_time": "2023-04-12T13:01:35.747Z"
   },
   {
    "duration": 13,
    "start_time": "2023-04-12T13:01:36.575Z"
   },
   {
    "duration": 161,
    "start_time": "2023-04-12T13:01:36.589Z"
   },
   {
    "duration": 495,
    "start_time": "2023-04-12T13:01:36.751Z"
   },
   {
    "duration": 489,
    "start_time": "2023-04-12T13:01:37.249Z"
   },
   {
    "duration": 457,
    "start_time": "2023-04-12T13:01:37.739Z"
   },
   {
    "duration": 182,
    "start_time": "2023-04-12T13:01:38.197Z"
   },
   {
    "duration": 173,
    "start_time": "2023-04-12T13:01:38.381Z"
   },
   {
    "duration": 37,
    "start_time": "2023-04-12T13:01:38.556Z"
   },
   {
    "duration": 102,
    "start_time": "2023-04-12T13:01:38.595Z"
   },
   {
    "duration": 57,
    "start_time": "2023-04-12T13:01:38.698Z"
   },
   {
    "duration": 108,
    "start_time": "2023-04-12T13:01:38.757Z"
   },
   {
    "duration": 9,
    "start_time": "2023-04-12T13:01:38.867Z"
   },
   {
    "duration": 2,
    "start_time": "2023-04-12T13:01:38.879Z"
   },
   {
    "duration": 120,
    "start_time": "2023-04-12T13:01:38.882Z"
   },
   {
    "duration": 21,
    "start_time": "2023-04-12T13:03:09.050Z"
   },
   {
    "duration": 3267,
    "start_time": "2023-04-12T13:03:46.145Z"
   },
   {
    "duration": 1587,
    "start_time": "2023-04-12T13:05:53.747Z"
   },
   {
    "duration": 10,
    "start_time": "2023-04-12T13:05:55.336Z"
   },
   {
    "duration": 942,
    "start_time": "2023-04-12T13:05:55.355Z"
   },
   {
    "duration": 49,
    "start_time": "2023-04-12T13:05:56.301Z"
   },
   {
    "duration": 179,
    "start_time": "2023-04-12T13:05:56.359Z"
   },
   {
    "duration": 515,
    "start_time": "2023-04-12T13:05:56.541Z"
   },
   {
    "duration": 609,
    "start_time": "2023-04-12T13:05:57.063Z"
   },
   {
    "duration": 514,
    "start_time": "2023-04-12T13:05:57.675Z"
   },
   {
    "duration": 180,
    "start_time": "2023-04-12T13:05:58.191Z"
   },
   {
    "duration": 183,
    "start_time": "2023-04-12T13:05:58.372Z"
   },
   {
    "duration": 45,
    "start_time": "2023-04-12T13:05:58.558Z"
   },
   {
    "duration": 98,
    "start_time": "2023-04-12T13:05:58.605Z"
   },
   {
    "duration": 58,
    "start_time": "2023-04-12T13:05:58.705Z"
   },
   {
    "duration": 116,
    "start_time": "2023-04-12T13:05:58.766Z"
   },
   {
    "duration": 29,
    "start_time": "2023-04-12T13:05:58.884Z"
   },
   {
    "duration": 11,
    "start_time": "2023-04-12T13:05:58.915Z"
   },
   {
    "duration": 100,
    "start_time": "2023-04-12T13:05:58.927Z"
   },
   {
    "duration": 9,
    "start_time": "2023-04-12T13:05:59.029Z"
   },
   {
    "duration": 6625,
    "start_time": "2023-04-12T13:05:59.040Z"
   },
   {
    "duration": 71,
    "start_time": "2023-04-12T13:06:05.667Z"
   },
   {
    "duration": 349,
    "start_time": "2023-04-12T13:06:05.755Z"
   },
   {
    "duration": 150,
    "start_time": "2023-04-12T13:10:33.539Z"
   },
   {
    "duration": 37,
    "start_time": "2023-04-12T14:10:18.717Z"
   },
   {
    "duration": 14,
    "start_time": "2023-04-12T14:10:42.359Z"
   },
   {
    "duration": 44,
    "start_time": "2023-04-12T14:13:32.531Z"
   },
   {
    "duration": 11,
    "start_time": "2023-04-12T14:14:11.956Z"
   },
   {
    "duration": 12,
    "start_time": "2023-04-12T14:14:33.163Z"
   },
   {
    "duration": 24,
    "start_time": "2023-04-12T14:16:35.859Z"
   },
   {
    "duration": 10,
    "start_time": "2023-04-12T14:19:13.380Z"
   },
   {
    "duration": 11,
    "start_time": "2023-04-12T14:19:59.359Z"
   },
   {
    "duration": 19,
    "start_time": "2023-04-12T14:20:08.750Z"
   },
   {
    "duration": 10,
    "start_time": "2023-04-12T14:20:10.361Z"
   },
   {
    "duration": 4,
    "start_time": "2023-04-12T14:20:23.255Z"
   },
   {
    "duration": 20,
    "start_time": "2023-04-12T14:20:28.159Z"
   },
   {
    "duration": 277,
    "start_time": "2023-04-12T14:21:02.793Z"
   },
   {
    "duration": 13,
    "start_time": "2023-04-12T14:31:11.360Z"
   },
   {
    "duration": 1594,
    "start_time": "2023-04-12T14:31:45.474Z"
   },
   {
    "duration": 3,
    "start_time": "2023-04-12T14:31:47.070Z"
   },
   {
    "duration": 983,
    "start_time": "2023-04-12T14:31:47.074Z"
   },
   {
    "duration": 19,
    "start_time": "2023-04-12T14:31:48.059Z"
   },
   {
    "duration": 161,
    "start_time": "2023-04-12T14:31:48.080Z"
   },
   {
    "duration": 527,
    "start_time": "2023-04-12T14:31:48.248Z"
   },
   {
    "duration": 556,
    "start_time": "2023-04-12T14:31:48.777Z"
   },
   {
    "duration": 511,
    "start_time": "2023-04-12T14:31:49.338Z"
   },
   {
    "duration": 195,
    "start_time": "2023-04-12T14:31:49.853Z"
   },
   {
    "duration": 175,
    "start_time": "2023-04-12T14:31:50.050Z"
   },
   {
    "duration": 56,
    "start_time": "2023-04-12T14:31:50.227Z"
   },
   {
    "duration": 115,
    "start_time": "2023-04-12T14:31:50.285Z"
   },
   {
    "duration": 62,
    "start_time": "2023-04-12T14:31:50.402Z"
   },
   {
    "duration": 112,
    "start_time": "2023-04-12T14:31:50.467Z"
   },
   {
    "duration": 26,
    "start_time": "2023-04-12T14:31:50.581Z"
   },
   {
    "duration": 2,
    "start_time": "2023-04-12T14:31:50.610Z"
   },
   {
    "duration": 119,
    "start_time": "2023-04-12T14:31:50.614Z"
   },
   {
    "duration": 234,
    "start_time": "2023-04-12T14:31:50.735Z"
   },
   {
    "duration": 0,
    "start_time": "2023-04-12T14:31:50.971Z"
   },
   {
    "duration": 0,
    "start_time": "2023-04-12T14:31:50.973Z"
   },
   {
    "duration": 0,
    "start_time": "2023-04-12T14:31:50.974Z"
   },
   {
    "duration": 0,
    "start_time": "2023-04-12T14:31:50.975Z"
   },
   {
    "duration": 0,
    "start_time": "2023-04-12T14:31:50.977Z"
   },
   {
    "duration": 0,
    "start_time": "2023-04-12T14:31:50.978Z"
   },
   {
    "duration": 0,
    "start_time": "2023-04-12T14:31:50.979Z"
   },
   {
    "duration": 0,
    "start_time": "2023-04-12T14:31:50.980Z"
   },
   {
    "duration": 0,
    "start_time": "2023-04-12T14:31:50.982Z"
   },
   {
    "duration": 0,
    "start_time": "2023-04-12T14:31:50.983Z"
   },
   {
    "duration": 0,
    "start_time": "2023-04-12T14:31:50.984Z"
   },
   {
    "duration": 0,
    "start_time": "2023-04-12T14:31:50.986Z"
   },
   {
    "duration": 11,
    "start_time": "2023-04-12T14:32:03.048Z"
   },
   {
    "duration": 17,
    "start_time": "2023-04-12T14:32:04.763Z"
   },
   {
    "duration": 38,
    "start_time": "2023-04-12T14:32:06.064Z"
   },
   {
    "duration": 324,
    "start_time": "2023-04-12T14:32:07.663Z"
   },
   {
    "duration": 3,
    "start_time": "2023-04-12T14:32:10.293Z"
   },
   {
    "duration": 23,
    "start_time": "2023-04-12T14:32:11.015Z"
   },
   {
    "duration": 19,
    "start_time": "2023-04-12T14:32:12.258Z"
   },
   {
    "duration": 27,
    "start_time": "2023-04-12T14:32:13.701Z"
   },
   {
    "duration": 1230,
    "start_time": "2023-04-12T14:33:40.052Z"
   },
   {
    "duration": 35,
    "start_time": "2023-04-12T14:34:18.648Z"
   },
   {
    "duration": 3,
    "start_time": "2023-04-12T14:34:26.208Z"
   },
   {
    "duration": 31,
    "start_time": "2023-04-12T14:34:28.204Z"
   },
   {
    "duration": 66,
    "start_time": "2023-04-12T14:34:29.504Z"
   },
   {
    "duration": 664,
    "start_time": "2023-04-12T14:34:30.935Z"
   },
   {
    "duration": 213,
    "start_time": "2023-04-12T14:34:35.653Z"
   },
   {
    "duration": 1671,
    "start_time": "2023-04-12T18:21:40.306Z"
   },
   {
    "duration": 2,
    "start_time": "2023-04-12T18:21:41.979Z"
   },
   {
    "duration": 2936,
    "start_time": "2023-04-12T18:21:41.983Z"
   },
   {
    "duration": 17,
    "start_time": "2023-04-12T18:21:44.920Z"
   },
   {
    "duration": 130,
    "start_time": "2023-04-12T18:21:44.939Z"
   },
   {
    "duration": 501,
    "start_time": "2023-04-12T18:21:45.071Z"
   },
   {
    "duration": 595,
    "start_time": "2023-04-12T18:21:45.574Z"
   },
   {
    "duration": 535,
    "start_time": "2023-04-12T18:21:46.171Z"
   },
   {
    "duration": 180,
    "start_time": "2023-04-12T18:21:46.708Z"
   },
   {
    "duration": 170,
    "start_time": "2023-04-12T18:21:46.890Z"
   },
   {
    "duration": 48,
    "start_time": "2023-04-12T18:21:47.062Z"
   },
   {
    "duration": 88,
    "start_time": "2023-04-12T18:21:47.111Z"
   },
   {
    "duration": 41,
    "start_time": "2023-04-12T18:21:47.201Z"
   },
   {
    "duration": 78,
    "start_time": "2023-04-12T18:21:47.245Z"
   },
   {
    "duration": 37,
    "start_time": "2023-04-12T18:21:47.324Z"
   },
   {
    "duration": 2,
    "start_time": "2023-04-12T18:21:47.363Z"
   },
   {
    "duration": 96,
    "start_time": "2023-04-12T18:21:47.366Z"
   },
   {
    "duration": 3,
    "start_time": "2023-04-12T18:21:47.464Z"
   },
   {
    "duration": 0,
    "start_time": "2023-04-12T18:21:47.468Z"
   },
   {
    "duration": 282,
    "start_time": "2023-04-12T18:22:00.497Z"
   },
   {
    "duration": 8,
    "start_time": "2023-04-12T18:22:43.892Z"
   },
   {
    "duration": 115,
    "start_time": "2023-04-12T18:22:44.027Z"
   },
   {
    "duration": 10,
    "start_time": "2023-04-12T18:22:57.299Z"
   },
   {
    "duration": 6,
    "start_time": "2023-04-12T18:23:14.331Z"
   },
   {
    "duration": 12,
    "start_time": "2023-04-12T18:24:39.445Z"
   },
   {
    "duration": 11,
    "start_time": "2023-04-12T18:25:27.607Z"
   },
   {
    "duration": 14,
    "start_time": "2023-04-12T18:26:08.349Z"
   },
   {
    "duration": 15,
    "start_time": "2023-04-12T18:26:27.245Z"
   },
   {
    "duration": 4,
    "start_time": "2023-04-12T18:27:04.847Z"
   },
   {
    "duration": 237,
    "start_time": "2023-04-12T18:27:05.062Z"
   },
   {
    "duration": 4,
    "start_time": "2023-04-12T18:27:36.350Z"
   },
   {
    "duration": 6,
    "start_time": "2023-04-12T18:27:46.894Z"
   },
   {
    "duration": 15,
    "start_time": "2023-04-12T18:28:35.756Z"
   },
   {
    "duration": 12,
    "start_time": "2023-04-12T18:28:50.288Z"
   },
   {
    "duration": 12,
    "start_time": "2023-04-12T18:30:35.589Z"
   },
   {
    "duration": 13,
    "start_time": "2023-04-12T18:31:50.714Z"
   },
   {
    "duration": 5,
    "start_time": "2023-04-12T18:32:04.530Z"
   },
   {
    "duration": 10,
    "start_time": "2023-04-12T18:32:21.449Z"
   },
   {
    "duration": 12,
    "start_time": "2023-04-12T18:32:37.695Z"
   },
   {
    "duration": 8,
    "start_time": "2023-04-12T18:35:29.344Z"
   },
   {
    "duration": 8,
    "start_time": "2023-04-12T18:35:39.341Z"
   },
   {
    "duration": 6,
    "start_time": "2023-04-12T18:35:55.252Z"
   },
   {
    "duration": 6,
    "start_time": "2023-04-12T18:36:20.924Z"
   },
   {
    "duration": 12,
    "start_time": "2023-04-12T18:38:39.430Z"
   },
   {
    "duration": 9,
    "start_time": "2023-04-12T18:38:54.175Z"
   },
   {
    "duration": 14,
    "start_time": "2023-04-12T18:40:16.688Z"
   },
   {
    "duration": 12,
    "start_time": "2023-04-12T18:40:37.913Z"
   },
   {
    "duration": 132,
    "start_time": "2023-04-12T18:40:38.011Z"
   },
   {
    "duration": 40,
    "start_time": "2023-04-12T18:40:42.485Z"
   },
   {
    "duration": 10,
    "start_time": "2023-04-12T18:40:45.108Z"
   },
   {
    "duration": 11,
    "start_time": "2023-04-12T18:43:20.205Z"
   },
   {
    "duration": 110,
    "start_time": "2023-04-12T18:43:20.258Z"
   },
   {
    "duration": 14,
    "start_time": "2023-04-12T18:44:25.035Z"
   },
   {
    "duration": 7,
    "start_time": "2023-04-12T18:44:39.501Z"
   },
   {
    "duration": 131,
    "start_time": "2023-04-12T18:44:39.535Z"
   },
   {
    "duration": 10,
    "start_time": "2023-04-12T18:45:58.773Z"
   },
   {
    "duration": 33,
    "start_time": "2023-04-12T18:46:11.985Z"
   },
   {
    "duration": 8,
    "start_time": "2023-04-12T18:46:43.658Z"
   },
   {
    "duration": 3,
    "start_time": "2023-04-12T18:51:03.969Z"
   },
   {
    "duration": 3,
    "start_time": "2023-04-12T18:51:04.752Z"
   },
   {
    "duration": 17,
    "start_time": "2023-04-12T18:51:05.561Z"
   },
   {
    "duration": 30,
    "start_time": "2023-04-12T18:51:06.720Z"
   },
   {
    "duration": 960,
    "start_time": "2023-04-12T18:54:43.221Z"
   },
   {
    "duration": 196,
    "start_time": "2023-04-12T18:54:48.900Z"
   },
   {
    "duration": 336,
    "start_time": "2023-04-12T18:55:40.839Z"
   },
   {
    "duration": 4048,
    "start_time": "2023-04-13T08:05:27.532Z"
   },
   {
    "duration": 8,
    "start_time": "2023-04-13T08:05:31.585Z"
   },
   {
    "duration": 3783,
    "start_time": "2023-04-13T08:05:31.596Z"
   },
   {
    "duration": 39,
    "start_time": "2023-04-13T08:05:35.381Z"
   },
   {
    "duration": 226,
    "start_time": "2023-04-13T08:05:35.422Z"
   },
   {
    "duration": 638,
    "start_time": "2023-04-13T08:05:35.651Z"
   },
   {
    "duration": 665,
    "start_time": "2023-04-13T08:05:36.293Z"
   },
   {
    "duration": 601,
    "start_time": "2023-04-13T08:05:36.960Z"
   },
   {
    "duration": 211,
    "start_time": "2023-04-13T08:05:37.563Z"
   },
   {
    "duration": 299,
    "start_time": "2023-04-13T08:05:37.775Z"
   },
   {
    "duration": 67,
    "start_time": "2023-04-13T08:05:38.076Z"
   },
   {
    "duration": 154,
    "start_time": "2023-04-13T08:05:38.146Z"
   },
   {
    "duration": 69,
    "start_time": "2023-04-13T08:05:38.302Z"
   },
   {
    "duration": 158,
    "start_time": "2023-04-13T08:05:38.373Z"
   },
   {
    "duration": 29,
    "start_time": "2023-04-13T08:05:38.533Z"
   },
   {
    "duration": 66,
    "start_time": "2023-04-13T08:05:38.564Z"
   },
   {
    "duration": 21,
    "start_time": "2023-04-13T08:05:38.634Z"
   },
   {
    "duration": 130,
    "start_time": "2023-04-13T08:05:38.657Z"
   },
   {
    "duration": 41,
    "start_time": "2023-04-13T08:05:38.796Z"
   },
   {
    "duration": 9,
    "start_time": "2023-04-13T08:05:38.839Z"
   },
   {
    "duration": 63,
    "start_time": "2023-04-13T08:05:38.849Z"
   },
   {
    "duration": 12,
    "start_time": "2023-04-13T08:05:38.917Z"
   },
   {
    "duration": 198,
    "start_time": "2023-04-13T08:05:38.932Z"
   },
   {
    "duration": 34,
    "start_time": "2023-04-13T08:05:39.131Z"
   },
   {
    "duration": 413,
    "start_time": "2023-04-13T08:05:39.167Z"
   },
   {
    "duration": 12,
    "start_time": "2023-04-13T08:05:39.582Z"
   },
   {
    "duration": 27,
    "start_time": "2023-04-13T08:05:39.598Z"
   },
   {
    "duration": 30,
    "start_time": "2023-04-13T08:05:39.627Z"
   },
   {
    "duration": 1156,
    "start_time": "2023-04-13T08:05:39.659Z"
   },
   {
    "duration": 5809,
    "start_time": "2023-04-13T08:05:40.817Z"
   },
   {
    "duration": 590,
    "start_time": "2023-04-13T08:05:46.628Z"
   },
   {
    "duration": 0,
    "start_time": "2023-04-13T08:05:47.220Z"
   },
   {
    "duration": 0,
    "start_time": "2023-04-13T08:05:47.221Z"
   },
   {
    "duration": 0,
    "start_time": "2023-04-13T08:05:47.222Z"
   },
   {
    "duration": 0,
    "start_time": "2023-04-13T08:05:47.223Z"
   },
   {
    "duration": 0,
    "start_time": "2023-04-13T08:05:47.224Z"
   },
   {
    "duration": 0,
    "start_time": "2023-04-13T08:05:47.225Z"
   },
   {
    "duration": 428,
    "start_time": "2023-04-13T08:07:59.215Z"
   },
   {
    "duration": 253,
    "start_time": "2023-04-13T08:08:13.134Z"
   },
   {
    "duration": 62127,
    "start_time": "2023-04-13T08:08:22.536Z"
   },
   {
    "duration": 6,
    "start_time": "2023-04-13T08:10:35.663Z"
   },
   {
    "duration": 51607,
    "start_time": "2023-04-13T08:12:34.312Z"
   },
   {
    "duration": 83604,
    "start_time": "2023-04-13T08:13:47.746Z"
   },
   {
    "duration": 325,
    "start_time": "2023-04-13T08:15:11.353Z"
   },
   {
    "duration": 517,
    "start_time": "2023-04-13T08:18:51.601Z"
   },
   {
    "duration": 782,
    "start_time": "2023-04-13T08:19:23.873Z"
   },
   {
    "duration": 2337209,
    "start_time": "2023-04-13T08:26:36.973Z"
   },
   {
    "duration": 0,
    "start_time": "2023-04-13T09:05:34.765Z"
   },
   {
    "duration": 2066,
    "start_time": "2023-04-13T09:06:38.972Z"
   },
   {
    "duration": 3,
    "start_time": "2023-04-13T09:06:41.040Z"
   },
   {
    "duration": 991,
    "start_time": "2023-04-13T09:06:41.045Z"
   },
   {
    "duration": 20,
    "start_time": "2023-04-13T09:06:42.038Z"
   },
   {
    "duration": 225,
    "start_time": "2023-04-13T09:06:42.062Z"
   },
   {
    "duration": 542,
    "start_time": "2023-04-13T09:06:42.291Z"
   },
   {
    "duration": 589,
    "start_time": "2023-04-13T09:06:42.835Z"
   },
   {
    "duration": 551,
    "start_time": "2023-04-13T09:06:43.425Z"
   },
   {
    "duration": 235,
    "start_time": "2023-04-13T09:06:43.977Z"
   },
   {
    "duration": 172,
    "start_time": "2023-04-13T09:06:44.214Z"
   },
   {
    "duration": 49,
    "start_time": "2023-04-13T09:06:44.388Z"
   },
   {
    "duration": 97,
    "start_time": "2023-04-13T09:06:44.439Z"
   },
   {
    "duration": 74,
    "start_time": "2023-04-13T09:06:44.537Z"
   },
   {
    "duration": 123,
    "start_time": "2023-04-13T09:06:44.615Z"
   },
   {
    "duration": 48,
    "start_time": "2023-04-13T09:06:44.741Z"
   },
   {
    "duration": 50,
    "start_time": "2023-04-13T09:06:44.791Z"
   },
   {
    "duration": 34,
    "start_time": "2023-04-13T09:06:44.843Z"
   },
   {
    "duration": 213,
    "start_time": "2023-04-13T09:06:44.880Z"
   },
   {
    "duration": 32,
    "start_time": "2023-04-13T09:06:45.095Z"
   },
   {
    "duration": 45,
    "start_time": "2023-04-13T09:06:45.129Z"
   },
   {
    "duration": 83,
    "start_time": "2023-04-13T09:06:45.176Z"
   },
   {
    "duration": 10,
    "start_time": "2023-04-13T09:06:45.262Z"
   },
   {
    "duration": 88,
    "start_time": "2023-04-13T09:06:45.274Z"
   },
   {
    "duration": 12,
    "start_time": "2023-04-13T09:06:45.364Z"
   },
   {
    "duration": 231,
    "start_time": "2023-04-13T09:06:45.378Z"
   },
   {
    "duration": 43,
    "start_time": "2023-04-13T09:06:45.611Z"
   },
   {
    "duration": 351,
    "start_time": "2023-04-13T09:06:45.656Z"
   },
   {
    "duration": 3,
    "start_time": "2023-04-13T09:06:46.009Z"
   },
   {
    "duration": 37,
    "start_time": "2023-04-13T09:06:46.014Z"
   },
   {
    "duration": 42,
    "start_time": "2023-04-13T09:06:46.053Z"
   },
   {
    "duration": 841,
    "start_time": "2023-04-13T09:06:46.097Z"
   },
   {
    "duration": 428,
    "start_time": "2023-04-13T09:06:46.940Z"
   },
   {
    "duration": 191,
    "start_time": "2023-04-13T09:06:47.370Z"
   },
   {
    "duration": 55429,
    "start_time": "2023-04-13T09:06:47.562Z"
   },
   {
    "duration": 21795,
    "start_time": "2023-04-13T09:07:42.993Z"
   },
   {
    "duration": 3900826,
    "start_time": "2023-04-13T09:08:04.790Z"
   },
   {
    "duration": 3,
    "start_time": "2023-04-13T10:13:05.618Z"
   },
   {
    "duration": 13,
    "start_time": "2023-04-13T10:13:05.622Z"
   },
   {
    "duration": 597,
    "start_time": "2023-04-13T13:27:42.136Z"
   },
   {
    "duration": 5,
    "start_time": "2023-04-13T13:33:35.634Z"
   },
   {
    "duration": 30,
    "start_time": "2023-04-13T13:33:35.642Z"
   },
   {
    "duration": 849,
    "start_time": "2023-04-13T13:33:35.674Z"
   },
   {
    "duration": 13,
    "start_time": "2023-04-13T13:33:36.525Z"
   },
   {
    "duration": 144,
    "start_time": "2023-04-13T13:33:36.540Z"
   },
   {
    "duration": 429,
    "start_time": "2023-04-13T13:33:36.685Z"
   },
   {
    "duration": 444,
    "start_time": "2023-04-13T13:33:37.115Z"
   },
   {
    "duration": 454,
    "start_time": "2023-04-13T13:33:37.561Z"
   },
   {
    "duration": 175,
    "start_time": "2023-04-13T13:33:38.017Z"
   },
   {
    "duration": 151,
    "start_time": "2023-04-13T13:33:38.193Z"
   },
   {
    "duration": 42,
    "start_time": "2023-04-13T13:33:38.346Z"
   },
   {
    "duration": 95,
    "start_time": "2023-04-13T13:33:38.389Z"
   },
   {
    "duration": 32,
    "start_time": "2023-04-13T13:33:38.486Z"
   },
   {
    "duration": 108,
    "start_time": "2023-04-13T13:33:38.520Z"
   },
   {
    "duration": 11,
    "start_time": "2023-04-13T13:33:38.629Z"
   },
   {
    "duration": 44,
    "start_time": "2023-04-13T13:33:38.642Z"
   },
   {
    "duration": 15,
    "start_time": "2023-04-13T13:33:38.688Z"
   },
   {
    "duration": 104,
    "start_time": "2023-04-13T13:33:38.705Z"
   },
   {
    "duration": 15,
    "start_time": "2023-04-13T13:33:38.811Z"
   },
   {
    "duration": 29,
    "start_time": "2023-04-13T13:33:38.828Z"
   },
   {
    "duration": 45,
    "start_time": "2023-04-13T13:33:38.859Z"
   },
   {
    "duration": 8,
    "start_time": "2023-04-13T13:33:38.905Z"
   },
   {
    "duration": 34,
    "start_time": "2023-04-13T13:33:38.914Z"
   },
   {
    "duration": 18,
    "start_time": "2023-04-13T13:33:38.951Z"
   },
   {
    "duration": 180,
    "start_time": "2023-04-13T13:33:38.971Z"
   },
   {
    "duration": 41,
    "start_time": "2023-04-13T13:33:39.153Z"
   },
   {
    "duration": 336,
    "start_time": "2023-04-13T13:33:39.195Z"
   },
   {
    "duration": 3,
    "start_time": "2023-04-13T13:33:39.533Z"
   },
   {
    "duration": 3,
    "start_time": "2023-04-13T13:34:23.905Z"
   },
   {
    "duration": 3,
    "start_time": "2023-04-13T13:34:25.126Z"
   },
   {
    "duration": 10,
    "start_time": "2023-04-13T13:42:49.046Z"
   },
   {
    "duration": 12,
    "start_time": "2023-04-13T13:44:23.971Z"
   },
   {
    "duration": 21,
    "start_time": "2023-04-13T13:44:40.307Z"
   },
   {
    "duration": 3,
    "start_time": "2023-04-13T13:44:46.172Z"
   },
   {
    "duration": 73,
    "start_time": "2023-04-13T13:44:51.632Z"
   },
   {
    "duration": 11,
    "start_time": "2023-04-13T13:45:30.526Z"
   },
   {
    "duration": 386198,
    "start_time": "2023-04-13T13:45:51.405Z"
   },
   {
    "duration": 12,
    "start_time": "2023-04-13T13:53:38.647Z"
   },
   {
    "duration": 4,
    "start_time": "2023-04-13T13:53:53.246Z"
   },
   {
    "duration": 8,
    "start_time": "2023-04-13T13:54:07.606Z"
   },
   {
    "duration": 8,
    "start_time": "2023-04-13T13:54:46.374Z"
   },
   {
    "duration": 276319,
    "start_time": "2023-04-13T13:56:34.653Z"
   },
   {
    "duration": 363,
    "start_time": "2023-04-13T14:08:47.411Z"
   },
   {
    "duration": 754,
    "start_time": "2023-04-13T14:20:18.175Z"
   },
   {
    "duration": 712,
    "start_time": "2023-04-13T14:22:51.314Z"
   },
   {
    "duration": 675,
    "start_time": "2023-04-13T14:23:13.774Z"
   },
   {
    "duration": 15,
    "start_time": "2023-04-13T14:24:15.233Z"
   },
   {
    "duration": 12,
    "start_time": "2023-04-13T14:24:42.078Z"
   },
   {
    "duration": 47,
    "start_time": "2023-04-13T14:24:43.954Z"
   },
   {
    "duration": 5868,
    "start_time": "2023-04-13T14:24:45.554Z"
   },
   {
    "duration": 5,
    "start_time": "2023-04-13T14:27:17.847Z"
   },
   {
    "duration": 25,
    "start_time": "2023-04-13T14:27:17.854Z"
   },
   {
    "duration": 802,
    "start_time": "2023-04-13T14:27:17.881Z"
   },
   {
    "duration": 13,
    "start_time": "2023-04-13T14:27:18.685Z"
   },
   {
    "duration": 140,
    "start_time": "2023-04-13T14:27:18.700Z"
   },
   {
    "duration": 401,
    "start_time": "2023-04-13T14:27:18.842Z"
   },
   {
    "duration": 454,
    "start_time": "2023-04-13T14:27:19.244Z"
   },
   {
    "duration": 479,
    "start_time": "2023-04-13T14:27:19.700Z"
   },
   {
    "duration": 163,
    "start_time": "2023-04-13T14:27:20.183Z"
   },
   {
    "duration": 146,
    "start_time": "2023-04-13T14:27:20.348Z"
   },
   {
    "duration": 33,
    "start_time": "2023-04-13T14:27:20.496Z"
   },
   {
    "duration": 103,
    "start_time": "2023-04-13T14:27:20.531Z"
   },
   {
    "duration": 75,
    "start_time": "2023-04-13T14:27:20.636Z"
   },
   {
    "duration": 278,
    "start_time": "2023-04-13T14:27:20.714Z"
   },
   {
    "duration": 13,
    "start_time": "2023-04-13T14:27:20.995Z"
   },
   {
    "duration": 66,
    "start_time": "2023-04-13T14:27:21.011Z"
   },
   {
    "duration": 17,
    "start_time": "2023-04-13T14:27:21.083Z"
   },
   {
    "duration": 98,
    "start_time": "2023-04-13T14:27:21.102Z"
   },
   {
    "duration": 29,
    "start_time": "2023-04-13T14:27:21.202Z"
   },
   {
    "duration": 34,
    "start_time": "2023-04-13T14:27:21.233Z"
   },
   {
    "duration": 59,
    "start_time": "2023-04-13T14:27:21.269Z"
   },
   {
    "duration": 8,
    "start_time": "2023-04-13T14:27:21.330Z"
   },
   {
    "duration": 28,
    "start_time": "2023-04-13T14:27:21.339Z"
   },
   {
    "duration": 7,
    "start_time": "2023-04-13T14:27:21.369Z"
   },
   {
    "duration": 159,
    "start_time": "2023-04-13T14:27:21.378Z"
   },
   {
    "duration": 32,
    "start_time": "2023-04-13T14:27:21.538Z"
   },
   {
    "duration": 280,
    "start_time": "2023-04-13T14:27:21.584Z"
   },
   {
    "duration": 3,
    "start_time": "2023-04-13T14:27:21.866Z"
   },
   {
    "duration": 11,
    "start_time": "2023-04-13T14:27:29.448Z"
   },
   {
    "duration": 3,
    "start_time": "2023-04-13T14:27:44.668Z"
   },
   {
    "duration": 16,
    "start_time": "2023-04-13T14:29:07.666Z"
   },
   {
    "duration": 98,
    "start_time": "2023-04-13T14:29:10.498Z"
   },
   {
    "duration": 324303,
    "start_time": "2023-04-13T14:29:13.611Z"
   },
   {
    "duration": 738,
    "start_time": "2023-04-13T14:35:29.270Z"
   },
   {
    "duration": 19,
    "start_time": "2023-04-13T14:35:30.691Z"
   },
   {
    "duration": 15,
    "start_time": "2023-04-13T14:35:41.935Z"
   },
   {
    "duration": 467,
    "start_time": "2023-04-13T14:35:46.830Z"
   },
   {
    "duration": 13,
    "start_time": "2023-04-13T14:37:13.952Z"
   },
   {
    "duration": 11,
    "start_time": "2023-04-13T14:37:24.710Z"
   },
   {
    "duration": 23,
    "start_time": "2023-04-13T14:37:39.879Z"
   },
   {
    "duration": 10,
    "start_time": "2023-04-13T14:41:08.367Z"
   },
   {
    "duration": 5,
    "start_time": "2023-04-13T14:41:20.711Z"
   },
   {
    "duration": 4,
    "start_time": "2023-04-13T14:42:25.207Z"
   },
   {
    "duration": 43,
    "start_time": "2023-04-13T14:44:36.927Z"
   },
   {
    "duration": 21901,
    "start_time": "2023-04-13T14:44:45.307Z"
   },
   {
    "duration": 98,
    "start_time": "2023-04-13T14:48:46.346Z"
   },
   {
    "duration": 42,
    "start_time": "2023-04-13T14:48:46.447Z"
   },
   {
    "duration": 782,
    "start_time": "2023-04-13T14:48:46.491Z"
   },
   {
    "duration": 20,
    "start_time": "2023-04-13T14:48:47.275Z"
   },
   {
    "duration": 147,
    "start_time": "2023-04-13T14:48:47.297Z"
   },
   {
    "duration": 393,
    "start_time": "2023-04-13T14:48:47.448Z"
   },
   {
    "duration": 438,
    "start_time": "2023-04-13T14:48:47.843Z"
   },
   {
    "duration": 422,
    "start_time": "2023-04-13T14:48:48.283Z"
   },
   {
    "duration": 163,
    "start_time": "2023-04-13T14:48:48.706Z"
   },
   {
    "duration": 147,
    "start_time": "2023-04-13T14:48:48.871Z"
   },
   {
    "duration": 31,
    "start_time": "2023-04-13T14:48:49.020Z"
   },
   {
    "duration": 90,
    "start_time": "2023-04-13T14:48:49.052Z"
   },
   {
    "duration": 44,
    "start_time": "2023-04-13T14:48:49.144Z"
   },
   {
    "duration": 108,
    "start_time": "2023-04-13T14:48:49.190Z"
   },
   {
    "duration": 11,
    "start_time": "2023-04-13T14:48:49.300Z"
   },
   {
    "duration": 39,
    "start_time": "2023-04-13T14:48:49.313Z"
   },
   {
    "duration": 18,
    "start_time": "2023-04-13T14:48:49.354Z"
   },
   {
    "duration": 103,
    "start_time": "2023-04-13T14:48:49.374Z"
   },
   {
    "duration": 18,
    "start_time": "2023-04-13T14:48:49.479Z"
   },
   {
    "duration": 13,
    "start_time": "2023-04-13T14:48:49.499Z"
   },
   {
    "duration": 35,
    "start_time": "2023-04-13T14:48:49.514Z"
   },
   {
    "duration": 24,
    "start_time": "2023-04-13T14:48:49.550Z"
   },
   {
    "duration": 46,
    "start_time": "2023-04-13T14:48:49.576Z"
   },
   {
    "duration": 8,
    "start_time": "2023-04-13T14:48:49.624Z"
   },
   {
    "duration": 162,
    "start_time": "2023-04-13T14:48:49.633Z"
   },
   {
    "duration": 34,
    "start_time": "2023-04-13T14:48:49.797Z"
   },
   {
    "duration": 340,
    "start_time": "2023-04-13T14:48:49.833Z"
   },
   {
    "duration": 8,
    "start_time": "2023-04-13T14:48:50.175Z"
   },
   {
    "duration": 13,
    "start_time": "2023-04-13T14:49:05.387Z"
   },
   {
    "duration": 3,
    "start_time": "2023-04-13T14:49:32.846Z"
   },
   {
    "duration": 17,
    "start_time": "2023-04-13T14:49:33.687Z"
   },
   {
    "duration": 86,
    "start_time": "2023-04-13T14:49:34.528Z"
   },
   {
    "duration": 1618,
    "start_time": "2023-04-13T14:52:51.187Z"
   },
   {
    "duration": 2,
    "start_time": "2023-04-13T14:52:52.807Z"
   },
   {
    "duration": 846,
    "start_time": "2023-04-13T14:52:52.811Z"
   },
   {
    "duration": 24,
    "start_time": "2023-04-13T14:52:53.659Z"
   },
   {
    "duration": 134,
    "start_time": "2023-04-13T14:52:53.685Z"
   },
   {
    "duration": 471,
    "start_time": "2023-04-13T14:52:53.821Z"
   },
   {
    "duration": 481,
    "start_time": "2023-04-13T14:52:54.294Z"
   },
   {
    "duration": 506,
    "start_time": "2023-04-13T14:52:54.777Z"
   },
   {
    "duration": 158,
    "start_time": "2023-04-13T14:52:55.284Z"
   },
   {
    "duration": 149,
    "start_time": "2023-04-13T14:52:55.444Z"
   },
   {
    "duration": 45,
    "start_time": "2023-04-13T14:52:55.595Z"
   },
   {
    "duration": 102,
    "start_time": "2023-04-13T14:52:55.641Z"
   },
   {
    "duration": 31,
    "start_time": "2023-04-13T14:52:55.745Z"
   },
   {
    "duration": 112,
    "start_time": "2023-04-13T14:52:55.782Z"
   },
   {
    "duration": 26,
    "start_time": "2023-04-13T14:52:55.895Z"
   },
   {
    "duration": 113,
    "start_time": "2023-04-13T14:52:55.922Z"
   },
   {
    "duration": 9,
    "start_time": "2023-04-13T14:52:56.037Z"
   },
   {
    "duration": 94,
    "start_time": "2023-04-13T14:52:56.048Z"
   },
   {
    "duration": 7,
    "start_time": "2023-04-13T14:52:56.144Z"
   },
   {
    "duration": 10,
    "start_time": "2023-04-13T14:52:56.153Z"
   },
   {
    "duration": 59,
    "start_time": "2023-04-13T14:52:56.165Z"
   },
   {
    "duration": 8,
    "start_time": "2023-04-13T14:52:56.225Z"
   },
   {
    "duration": 35,
    "start_time": "2023-04-13T14:52:56.235Z"
   },
   {
    "duration": 10,
    "start_time": "2023-04-13T14:52:56.271Z"
   },
   {
    "duration": 151,
    "start_time": "2023-04-13T14:52:56.283Z"
   },
   {
    "duration": 31,
    "start_time": "2023-04-13T14:52:56.436Z"
   },
   {
    "duration": 290,
    "start_time": "2023-04-13T14:52:56.468Z"
   },
   {
    "duration": 2,
    "start_time": "2023-04-13T14:52:56.760Z"
   },
   {
    "duration": 30,
    "start_time": "2023-04-13T14:52:56.763Z"
   },
   {
    "duration": 8,
    "start_time": "2023-04-13T14:52:56.794Z"
   },
   {
    "duration": 40,
    "start_time": "2023-04-13T14:52:56.803Z"
   },
   {
    "duration": 808,
    "start_time": "2023-04-13T14:52:56.845Z"
   },
   {
    "duration": 418,
    "start_time": "2023-04-13T14:52:57.656Z"
   },
   {
    "duration": 173,
    "start_time": "2023-04-13T14:52:58.075Z"
   },
   {
    "duration": 24236,
    "start_time": "2023-04-13T14:52:58.249Z"
   },
   {
    "duration": 20462,
    "start_time": "2023-04-13T14:53:22.487Z"
   },
   {
    "duration": 655676,
    "start_time": "2023-04-13T14:53:42.951Z"
   },
   {
    "duration": 3,
    "start_time": "2023-04-13T15:04:38.628Z"
   },
   {
    "duration": 17,
    "start_time": "2023-04-13T15:04:38.633Z"
   },
   {
    "duration": 46,
    "start_time": "2023-04-13T15:04:38.652Z"
   },
   {
    "duration": 90,
    "start_time": "2023-04-13T15:04:38.702Z"
   },
   {
    "duration": 87791,
    "start_time": "2023-04-13T15:04:38.794Z"
   },
   {
    "duration": 0,
    "start_time": "2023-04-13T15:06:06.588Z"
   },
   {
    "duration": 0,
    "start_time": "2023-04-13T15:06:06.589Z"
   },
   {
    "duration": 0,
    "start_time": "2023-04-13T15:06:06.591Z"
   },
   {
    "duration": 0,
    "start_time": "2023-04-13T15:06:06.592Z"
   },
   {
    "duration": 0,
    "start_time": "2023-04-13T15:06:06.594Z"
   },
   {
    "duration": 0,
    "start_time": "2023-04-13T15:06:06.595Z"
   },
   {
    "duration": 0,
    "start_time": "2023-04-13T15:06:06.596Z"
   },
   {
    "duration": 0,
    "start_time": "2023-04-13T15:06:06.598Z"
   },
   {
    "duration": 0,
    "start_time": "2023-04-13T15:06:06.602Z"
   },
   {
    "duration": 2246,
    "start_time": "2023-04-13T16:22:29.368Z"
   },
   {
    "duration": 3,
    "start_time": "2023-04-13T16:22:31.616Z"
   },
   {
    "duration": 3406,
    "start_time": "2023-04-13T16:22:31.621Z"
   },
   {
    "duration": 27,
    "start_time": "2023-04-13T16:22:35.030Z"
   },
   {
    "duration": 233,
    "start_time": "2023-04-13T16:22:35.060Z"
   },
   {
    "duration": 678,
    "start_time": "2023-04-13T16:22:35.296Z"
   },
   {
    "duration": 751,
    "start_time": "2023-04-13T16:22:35.976Z"
   },
   {
    "duration": 670,
    "start_time": "2023-04-13T16:22:36.730Z"
   },
   {
    "duration": 175,
    "start_time": "2023-04-13T16:22:37.402Z"
   },
   {
    "duration": 163,
    "start_time": "2023-04-13T16:22:37.579Z"
   },
   {
    "duration": 54,
    "start_time": "2023-04-13T16:22:37.744Z"
   },
   {
    "duration": 165,
    "start_time": "2023-04-13T16:22:37.800Z"
   },
   {
    "duration": 68,
    "start_time": "2023-04-13T16:22:37.967Z"
   },
   {
    "duration": 130,
    "start_time": "2023-04-13T16:22:38.039Z"
   },
   {
    "duration": 25,
    "start_time": "2023-04-13T16:22:38.171Z"
   },
   {
    "duration": 109,
    "start_time": "2023-04-13T16:22:38.198Z"
   },
   {
    "duration": 9,
    "start_time": "2023-04-13T16:22:38.309Z"
   },
   {
    "duration": 153,
    "start_time": "2023-04-13T16:22:38.320Z"
   },
   {
    "duration": 13,
    "start_time": "2023-04-13T16:22:38.475Z"
   },
   {
    "duration": 10,
    "start_time": "2023-04-13T16:22:38.490Z"
   },
   {
    "duration": 73,
    "start_time": "2023-04-13T16:22:38.502Z"
   },
   {
    "duration": 10,
    "start_time": "2023-04-13T16:22:38.577Z"
   },
   {
    "duration": 39,
    "start_time": "2023-04-13T16:22:38.595Z"
   },
   {
    "duration": 11,
    "start_time": "2023-04-13T16:22:38.636Z"
   },
   {
    "duration": 249,
    "start_time": "2023-04-13T16:22:38.649Z"
   },
   {
    "duration": 44,
    "start_time": "2023-04-13T16:22:38.900Z"
   },
   {
    "duration": 438,
    "start_time": "2023-04-13T16:22:38.946Z"
   },
   {
    "duration": 4,
    "start_time": "2023-04-13T16:22:39.385Z"
   },
   {
    "duration": 21,
    "start_time": "2023-04-13T16:22:39.391Z"
   },
   {
    "duration": 5,
    "start_time": "2023-04-13T16:22:39.415Z"
   },
   {
    "duration": 37,
    "start_time": "2023-04-13T16:22:39.422Z"
   },
   {
    "duration": 680,
    "start_time": "2023-04-13T16:22:39.471Z"
   },
   {
    "duration": 333,
    "start_time": "2023-04-13T16:22:40.153Z"
   },
   {
    "duration": 176,
    "start_time": "2023-04-13T16:22:40.488Z"
   },
   {
    "duration": 34615,
    "start_time": "2023-04-13T16:22:40.666Z"
   },
   {
    "duration": 17458,
    "start_time": "2023-04-13T16:23:15.284Z"
   },
   {
    "duration": 274568,
    "start_time": "2023-04-13T16:23:32.743Z"
   },
   {
    "duration": 2,
    "start_time": "2023-04-13T16:28:07.312Z"
   },
   {
    "duration": 6,
    "start_time": "2023-04-13T16:28:07.316Z"
   },
   {
    "duration": 34,
    "start_time": "2023-04-13T16:28:07.324Z"
   },
   {
    "duration": 114,
    "start_time": "2023-04-13T16:28:07.362Z"
   },
   {
    "duration": 281132,
    "start_time": "2023-04-13T16:28:07.477Z"
   },
   {
    "duration": 17,
    "start_time": "2023-04-13T16:32:48.611Z"
   },
   {
    "duration": 565,
    "start_time": "2023-04-13T16:32:48.629Z"
   },
   {
    "duration": 11,
    "start_time": "2023-04-13T16:32:49.196Z"
   },
   {
    "duration": 46,
    "start_time": "2023-04-13T16:32:49.209Z"
   },
   {
    "duration": 12,
    "start_time": "2023-04-13T17:03:49.330Z"
   },
   {
    "duration": 0,
    "start_time": "2023-04-13T17:03:49.343Z"
   },
   {
    "duration": 0,
    "start_time": "2023-04-13T17:03:49.344Z"
   },
   {
    "duration": 1866,
    "start_time": "2023-04-13T17:04:42.853Z"
   },
   {
    "duration": 3,
    "start_time": "2023-04-13T17:04:44.720Z"
   },
   {
    "duration": 796,
    "start_time": "2023-04-13T17:04:44.724Z"
   },
   {
    "duration": 15,
    "start_time": "2023-04-13T17:04:45.522Z"
   },
   {
    "duration": 105,
    "start_time": "2023-04-13T17:04:45.538Z"
   },
   {
    "duration": 425,
    "start_time": "2023-04-13T17:04:45.645Z"
   },
   {
    "duration": 442,
    "start_time": "2023-04-13T17:04:46.072Z"
   },
   {
    "duration": 371,
    "start_time": "2023-04-13T17:04:46.516Z"
   },
   {
    "duration": 150,
    "start_time": "2023-04-13T17:04:46.888Z"
   },
   {
    "duration": 147,
    "start_time": "2023-04-13T17:04:47.040Z"
   },
   {
    "duration": 42,
    "start_time": "2023-04-13T17:04:47.189Z"
   },
   {
    "duration": 81,
    "start_time": "2023-04-13T17:04:47.233Z"
   },
   {
    "duration": 28,
    "start_time": "2023-04-13T17:04:47.315Z"
   },
   {
    "duration": 109,
    "start_time": "2023-04-13T17:04:47.344Z"
   },
   {
    "duration": 25,
    "start_time": "2023-04-13T17:04:47.455Z"
   },
   {
    "duration": 46,
    "start_time": "2023-04-13T17:04:47.482Z"
   },
   {
    "duration": 12,
    "start_time": "2023-04-13T17:04:47.529Z"
   },
   {
    "duration": 88,
    "start_time": "2023-04-13T17:04:47.543Z"
   },
   {
    "duration": 75,
    "start_time": "2023-04-13T17:04:47.633Z"
   },
   {
    "duration": 7,
    "start_time": "2023-04-13T17:04:47.709Z"
   },
   {
    "duration": 34,
    "start_time": "2023-04-13T17:04:47.717Z"
   },
   {
    "duration": 24,
    "start_time": "2023-04-13T17:04:47.752Z"
   },
   {
    "duration": 36,
    "start_time": "2023-04-13T17:04:47.778Z"
   },
   {
    "duration": 10,
    "start_time": "2023-04-13T17:04:47.816Z"
   },
   {
    "duration": 167,
    "start_time": "2023-04-13T17:04:47.828Z"
   },
   {
    "duration": 37,
    "start_time": "2023-04-13T17:04:47.997Z"
   },
   {
    "duration": 302,
    "start_time": "2023-04-13T17:04:48.036Z"
   },
   {
    "duration": 3,
    "start_time": "2023-04-13T17:04:48.341Z"
   },
   {
    "duration": 27,
    "start_time": "2023-04-13T17:04:48.345Z"
   },
   {
    "duration": 4,
    "start_time": "2023-04-13T17:04:48.373Z"
   },
   {
    "duration": 33,
    "start_time": "2023-04-13T17:04:48.378Z"
   },
   {
    "duration": 573,
    "start_time": "2023-04-13T17:04:48.413Z"
   },
   {
    "duration": 328,
    "start_time": "2023-04-13T17:04:48.988Z"
   },
   {
    "duration": 150,
    "start_time": "2023-04-13T17:04:49.318Z"
   },
   {
    "duration": 232,
    "start_time": "2023-04-13T17:04:49.472Z"
   },
   {
    "duration": 97,
    "start_time": "2023-04-13T17:04:49.706Z"
   },
   {
    "duration": 124,
    "start_time": "2023-04-13T17:04:49.804Z"
   },
   {
    "duration": 2,
    "start_time": "2023-04-13T17:04:49.930Z"
   },
   {
    "duration": 5,
    "start_time": "2023-04-13T17:04:49.934Z"
   },
   {
    "duration": 28,
    "start_time": "2023-04-13T17:04:49.941Z"
   },
   {
    "duration": 54,
    "start_time": "2023-04-13T17:04:49.970Z"
   },
   {
    "duration": 98,
    "start_time": "2023-04-13T17:04:50.026Z"
   },
   {
    "duration": 18,
    "start_time": "2023-04-13T17:04:50.126Z"
   },
   {
    "duration": 564,
    "start_time": "2023-04-13T17:04:50.146Z"
   },
   {
    "duration": 12,
    "start_time": "2023-04-13T17:04:50.712Z"
   },
   {
    "duration": 43,
    "start_time": "2023-04-13T17:04:50.725Z"
   },
   {
    "duration": 45,
    "start_time": "2023-04-13T17:04:50.770Z"
   },
   {
    "duration": 0,
    "start_time": "2023-04-13T17:04:50.817Z"
   },
   {
    "duration": 0,
    "start_time": "2023-04-13T17:04:50.818Z"
   },
   {
    "duration": 54,
    "start_time": "2023-04-13T17:06:11.316Z"
   },
   {
    "duration": 193,
    "start_time": "2023-04-13T17:06:25.373Z"
   },
   {
    "duration": 1551,
    "start_time": "2023-04-13T17:08:04.081Z"
   },
   {
    "duration": 3,
    "start_time": "2023-04-13T17:08:05.634Z"
   },
   {
    "duration": 883,
    "start_time": "2023-04-13T17:08:05.639Z"
   },
   {
    "duration": 17,
    "start_time": "2023-04-13T17:08:06.524Z"
   },
   {
    "duration": 118,
    "start_time": "2023-04-13T17:08:06.544Z"
   },
   {
    "duration": 393,
    "start_time": "2023-04-13T17:08:06.664Z"
   },
   {
    "duration": 437,
    "start_time": "2023-04-13T17:08:07.060Z"
   },
   {
    "duration": 385,
    "start_time": "2023-04-13T17:08:07.499Z"
   },
   {
    "duration": 146,
    "start_time": "2023-04-13T17:08:07.886Z"
   },
   {
    "duration": 147,
    "start_time": "2023-04-13T17:08:08.033Z"
   },
   {
    "duration": 44,
    "start_time": "2023-04-13T17:08:08.182Z"
   },
   {
    "duration": 86,
    "start_time": "2023-04-13T17:08:08.228Z"
   },
   {
    "duration": 32,
    "start_time": "2023-04-13T17:08:08.316Z"
   },
   {
    "duration": 93,
    "start_time": "2023-04-13T17:08:08.351Z"
   },
   {
    "duration": 34,
    "start_time": "2023-04-13T17:08:08.446Z"
   },
   {
    "duration": 81,
    "start_time": "2023-04-13T17:08:08.482Z"
   },
   {
    "duration": 21,
    "start_time": "2023-04-13T17:08:08.565Z"
   },
   {
    "duration": 130,
    "start_time": "2023-04-13T17:08:08.587Z"
   },
   {
    "duration": 9,
    "start_time": "2023-04-13T17:08:08.718Z"
   },
   {
    "duration": 7,
    "start_time": "2023-04-13T17:08:08.729Z"
   },
   {
    "duration": 53,
    "start_time": "2023-04-13T17:08:08.738Z"
   },
   {
    "duration": 8,
    "start_time": "2023-04-13T17:08:08.792Z"
   },
   {
    "duration": 34,
    "start_time": "2023-04-13T17:08:08.802Z"
   },
   {
    "duration": 9,
    "start_time": "2023-04-13T17:08:08.837Z"
   },
   {
    "duration": 212,
    "start_time": "2023-04-13T17:08:08.848Z"
   },
   {
    "duration": 41,
    "start_time": "2023-04-13T17:08:09.062Z"
   },
   {
    "duration": 325,
    "start_time": "2023-04-13T17:08:09.105Z"
   },
   {
    "duration": 2,
    "start_time": "2023-04-13T17:08:09.432Z"
   },
   {
    "duration": 17,
    "start_time": "2023-04-13T17:08:09.436Z"
   },
   {
    "duration": 18,
    "start_time": "2023-04-13T17:08:09.455Z"
   },
   {
    "duration": 26,
    "start_time": "2023-04-13T17:08:09.475Z"
   },
   {
    "duration": 545,
    "start_time": "2023-04-13T17:08:09.503Z"
   },
   {
    "duration": 308,
    "start_time": "2023-04-13T17:08:10.050Z"
   },
   {
    "duration": 157,
    "start_time": "2023-04-13T17:08:10.359Z"
   },
   {
    "duration": 30278,
    "start_time": "2023-04-13T17:08:10.518Z"
   },
   {
    "duration": 15964,
    "start_time": "2023-04-13T17:08:40.797Z"
   },
   {
    "duration": 252904,
    "start_time": "2023-04-13T17:08:56.763Z"
   },
   {
    "duration": 4,
    "start_time": "2023-04-13T17:13:09.668Z"
   },
   {
    "duration": 10,
    "start_time": "2023-04-13T17:13:09.674Z"
   },
   {
    "duration": 33,
    "start_time": "2023-04-13T17:13:09.685Z"
   },
   {
    "duration": 62,
    "start_time": "2023-04-13T17:13:09.722Z"
   },
   {
    "duration": 278221,
    "start_time": "2023-04-13T17:13:09.786Z"
   },
   {
    "duration": 19,
    "start_time": "2023-04-13T17:17:48.010Z"
   },
   {
    "duration": 569,
    "start_time": "2023-04-13T17:17:48.031Z"
   },
   {
    "duration": 12,
    "start_time": "2023-04-13T17:17:48.602Z"
   },
   {
    "duration": 42,
    "start_time": "2023-04-13T17:17:48.615Z"
   },
   {
    "duration": 2548359,
    "start_time": "2023-04-13T17:17:48.658Z"
   },
   {
    "duration": 11,
    "start_time": "2023-04-13T18:00:17.019Z"
   },
   {
    "duration": 0,
    "start_time": "2023-04-13T18:00:17.032Z"
   },
   {
    "duration": 99,
    "start_time": "2023-04-13T18:03:23.007Z"
   },
   {
    "duration": 264314,
    "start_time": "2023-04-13T18:04:08.448Z"
   },
   {
    "duration": 1495,
    "start_time": "2023-04-13T18:09:06.866Z"
   },
   {
    "duration": 2,
    "start_time": "2023-04-13T18:09:08.363Z"
   },
   {
    "duration": 739,
    "start_time": "2023-04-13T18:09:08.367Z"
   },
   {
    "duration": 21,
    "start_time": "2023-04-13T18:09:09.108Z"
   },
   {
    "duration": 159,
    "start_time": "2023-04-13T18:09:09.132Z"
   },
   {
    "duration": 407,
    "start_time": "2023-04-13T18:09:09.293Z"
   },
   {
    "duration": 417,
    "start_time": "2023-04-13T18:09:09.701Z"
   },
   {
    "duration": 373,
    "start_time": "2023-04-13T18:09:10.119Z"
   },
   {
    "duration": 164,
    "start_time": "2023-04-13T18:09:10.493Z"
   },
   {
    "duration": 151,
    "start_time": "2023-04-13T18:09:10.659Z"
   },
   {
    "duration": 42,
    "start_time": "2023-04-13T18:09:10.812Z"
   },
   {
    "duration": 124,
    "start_time": "2023-04-13T18:09:10.856Z"
   },
   {
    "duration": 42,
    "start_time": "2023-04-13T18:09:10.983Z"
   },
   {
    "duration": 110,
    "start_time": "2023-04-13T18:09:11.030Z"
   },
   {
    "duration": 33,
    "start_time": "2023-04-13T18:09:11.142Z"
   },
   {
    "duration": 108,
    "start_time": "2023-04-13T18:09:11.177Z"
   },
   {
    "duration": 3,
    "start_time": "2023-04-13T18:09:11.287Z"
   },
   {
    "duration": 131,
    "start_time": "2023-04-13T18:09:11.291Z"
   },
   {
    "duration": 7,
    "start_time": "2023-04-13T18:09:11.424Z"
   },
   {
    "duration": 6,
    "start_time": "2023-04-13T18:09:11.433Z"
   },
   {
    "duration": 64,
    "start_time": "2023-04-13T18:09:11.441Z"
   },
   {
    "duration": 8,
    "start_time": "2023-04-13T18:09:11.506Z"
   },
   {
    "duration": 33,
    "start_time": "2023-04-13T18:09:11.516Z"
   },
   {
    "duration": 24,
    "start_time": "2023-04-13T18:09:11.551Z"
   },
   {
    "duration": 176,
    "start_time": "2023-04-13T18:09:11.577Z"
   },
   {
    "duration": 37,
    "start_time": "2023-04-13T18:09:11.754Z"
   },
   {
    "duration": 281,
    "start_time": "2023-04-13T18:09:11.793Z"
   },
   {
    "duration": 3,
    "start_time": "2023-04-13T18:09:12.075Z"
   },
   {
    "duration": 12,
    "start_time": "2023-04-13T18:09:12.080Z"
   },
   {
    "duration": 3,
    "start_time": "2023-04-13T18:09:12.094Z"
   },
   {
    "duration": 35,
    "start_time": "2023-04-13T18:09:12.098Z"
   },
   {
    "duration": 705,
    "start_time": "2023-04-13T18:09:12.135Z"
   },
   {
    "duration": 355,
    "start_time": "2023-04-13T18:09:12.841Z"
   },
   {
    "duration": 161,
    "start_time": "2023-04-13T18:09:13.197Z"
   },
   {
    "duration": 28921,
    "start_time": "2023-04-13T18:09:13.360Z"
   },
   {
    "duration": 16676,
    "start_time": "2023-04-13T18:09:42.283Z"
   },
   {
    "duration": 277808,
    "start_time": "2023-04-13T18:09:58.961Z"
   },
   {
    "duration": 2,
    "start_time": "2023-04-13T18:14:36.771Z"
   },
   {
    "duration": 28,
    "start_time": "2023-04-13T18:14:36.775Z"
   },
   {
    "duration": 36,
    "start_time": "2023-04-13T18:14:36.804Z"
   },
   {
    "duration": 79,
    "start_time": "2023-04-13T18:14:36.843Z"
   },
   {
    "duration": 289865,
    "start_time": "2023-04-13T18:14:36.924Z"
   },
   {
    "duration": 20,
    "start_time": "2023-04-13T18:19:26.791Z"
   },
   {
    "duration": 643,
    "start_time": "2023-04-13T18:19:26.813Z"
   },
   {
    "duration": 16,
    "start_time": "2023-04-13T18:19:27.457Z"
   },
   {
    "duration": 70,
    "start_time": "2023-04-13T18:19:27.475Z"
   },
   {
    "duration": 3099999,
    "start_time": "2023-04-13T18:19:27.547Z"
   },
   {
    "duration": 1378,
    "start_time": "2023-04-13T19:17:16.634Z"
   },
   {
    "duration": 3,
    "start_time": "2023-04-13T19:17:18.014Z"
   },
   {
    "duration": 723,
    "start_time": "2023-04-13T19:17:18.019Z"
   },
   {
    "duration": 15,
    "start_time": "2023-04-13T19:17:18.744Z"
   },
   {
    "duration": 116,
    "start_time": "2023-04-13T19:17:18.762Z"
   },
   {
    "duration": 397,
    "start_time": "2023-04-13T19:17:18.880Z"
   },
   {
    "duration": 411,
    "start_time": "2023-04-13T19:17:19.279Z"
   },
   {
    "duration": 367,
    "start_time": "2023-04-13T19:17:19.692Z"
   },
   {
    "duration": 150,
    "start_time": "2023-04-13T19:17:20.060Z"
   },
   {
    "duration": 141,
    "start_time": "2023-04-13T19:17:20.211Z"
   },
   {
    "duration": 48,
    "start_time": "2023-04-13T19:17:20.354Z"
   },
   {
    "duration": 76,
    "start_time": "2023-04-13T19:17:20.404Z"
   },
   {
    "duration": 29,
    "start_time": "2023-04-13T19:17:20.482Z"
   },
   {
    "duration": 89,
    "start_time": "2023-04-13T19:17:20.513Z"
   },
   {
    "duration": 28,
    "start_time": "2023-04-13T19:17:20.604Z"
   },
   {
    "duration": 96,
    "start_time": "2023-04-13T19:17:20.634Z"
   },
   {
    "duration": 13,
    "start_time": "2023-04-13T19:17:20.731Z"
   },
   {
    "duration": 89,
    "start_time": "2023-04-13T19:17:20.745Z"
   },
   {
    "duration": 10,
    "start_time": "2023-04-13T19:17:20.836Z"
   },
   {
    "duration": 12,
    "start_time": "2023-04-13T19:17:20.847Z"
   },
   {
    "duration": 56,
    "start_time": "2023-04-13T19:17:20.860Z"
   },
   {
    "duration": 7,
    "start_time": "2023-04-13T19:17:20.917Z"
   },
   {
    "duration": 34,
    "start_time": "2023-04-13T19:17:20.925Z"
   },
   {
    "duration": 11,
    "start_time": "2023-04-13T19:17:20.961Z"
   },
   {
    "duration": 187,
    "start_time": "2023-04-13T19:17:20.975Z"
   },
   {
    "duration": 37,
    "start_time": "2023-04-13T19:17:21.164Z"
   },
   {
    "duration": 328,
    "start_time": "2023-04-13T19:17:21.203Z"
   },
   {
    "duration": 2,
    "start_time": "2023-04-13T19:17:21.533Z"
   },
   {
    "duration": 68,
    "start_time": "2023-04-13T19:17:21.536Z"
   },
   {
    "duration": 3,
    "start_time": "2023-04-13T19:17:21.607Z"
   },
   {
    "duration": 32,
    "start_time": "2023-04-13T19:17:21.611Z"
   },
   {
    "duration": 655,
    "start_time": "2023-04-13T19:17:21.644Z"
   },
   {
    "duration": 353,
    "start_time": "2023-04-13T19:17:22.301Z"
   },
   {
    "duration": 164,
    "start_time": "2023-04-13T19:17:22.656Z"
   },
   {
    "duration": 33766,
    "start_time": "2023-04-13T19:17:22.822Z"
   },
   {
    "duration": 17768,
    "start_time": "2023-04-13T19:17:56.591Z"
   },
   {
    "duration": 262726,
    "start_time": "2023-04-13T19:18:14.361Z"
   },
   {
    "duration": 2,
    "start_time": "2023-04-13T19:22:37.089Z"
   },
   {
    "duration": 7,
    "start_time": "2023-04-13T19:22:37.093Z"
   },
   {
    "duration": 25,
    "start_time": "2023-04-13T19:22:37.104Z"
   },
   {
    "duration": 62,
    "start_time": "2023-04-13T19:22:37.132Z"
   },
   {
    "duration": 276961,
    "start_time": "2023-04-13T19:22:37.196Z"
   },
   {
    "duration": 26,
    "start_time": "2023-04-13T19:27:14.159Z"
   },
   {
    "duration": 707,
    "start_time": "2023-04-13T19:27:14.187Z"
   },
   {
    "duration": 13,
    "start_time": "2023-04-13T19:27:14.895Z"
   },
   {
    "duration": 41,
    "start_time": "2023-04-13T19:27:14.910Z"
   },
   {
    "duration": 184,
    "start_time": "2023-04-13T19:27:14.953Z"
   },
   {
    "duration": 0,
    "start_time": "2023-04-13T19:27:15.139Z"
   },
   {
    "duration": 0,
    "start_time": "2023-04-13T19:27:15.140Z"
   },
   {
    "duration": 0,
    "start_time": "2023-04-13T19:27:15.142Z"
   },
   {
    "duration": 4,
    "start_time": "2023-04-13T19:29:40.762Z"
   },
   {
    "duration": 5,
    "start_time": "2023-04-13T19:29:49.720Z"
   },
   {
    "duration": 491578,
    "start_time": "2023-04-13T19:29:57.111Z"
   },
   {
    "duration": 8,
    "start_time": "2023-04-13T19:38:08.853Z"
   },
   {
    "duration": 0,
    "start_time": "2023-04-13T19:38:08.863Z"
   },
   {
    "duration": 93,
    "start_time": "2023-04-13T19:38:38.964Z"
   },
   {
    "duration": 3,
    "start_time": "2023-04-13T19:38:48.805Z"
   },
   {
    "duration": 130672,
    "start_time": "2023-04-13T19:38:55.207Z"
   },
   {
    "duration": 4,
    "start_time": "2023-04-13T19:41:19.203Z"
   },
   {
    "duration": 8,
    "start_time": "2023-04-13T19:41:20.949Z"
   },
   {
    "duration": 1367,
    "start_time": "2023-04-13T19:42:48.342Z"
   },
   {
    "duration": 2,
    "start_time": "2023-04-13T19:42:49.711Z"
   },
   {
    "duration": 704,
    "start_time": "2023-04-13T19:42:49.715Z"
   },
   {
    "duration": 14,
    "start_time": "2023-04-13T19:42:50.420Z"
   },
   {
    "duration": 115,
    "start_time": "2023-04-13T19:42:50.435Z"
   },
   {
    "duration": 378,
    "start_time": "2023-04-13T19:42:50.552Z"
   },
   {
    "duration": 422,
    "start_time": "2023-04-13T19:42:50.931Z"
   },
   {
    "duration": 378,
    "start_time": "2023-04-13T19:42:51.354Z"
   },
   {
    "duration": 140,
    "start_time": "2023-04-13T19:42:51.733Z"
   },
   {
    "duration": 134,
    "start_time": "2023-04-13T19:42:51.874Z"
   },
   {
    "duration": 41,
    "start_time": "2023-04-13T19:42:52.009Z"
   },
   {
    "duration": 78,
    "start_time": "2023-04-13T19:42:52.051Z"
   },
   {
    "duration": 26,
    "start_time": "2023-04-13T19:42:52.131Z"
   },
   {
    "duration": 75,
    "start_time": "2023-04-13T19:42:52.171Z"
   },
   {
    "duration": 29,
    "start_time": "2023-04-13T19:42:52.248Z"
   },
   {
    "duration": 77,
    "start_time": "2023-04-13T19:42:52.278Z"
   },
   {
    "duration": 3,
    "start_time": "2023-04-13T19:42:52.356Z"
   },
   {
    "duration": 75,
    "start_time": "2023-04-13T19:42:52.360Z"
   },
   {
    "duration": 7,
    "start_time": "2023-04-13T19:42:52.436Z"
   },
   {
    "duration": 6,
    "start_time": "2023-04-13T19:42:52.444Z"
   },
   {
    "duration": 48,
    "start_time": "2023-04-13T19:42:52.451Z"
   },
   {
    "duration": 6,
    "start_time": "2023-04-13T19:42:52.500Z"
   },
   {
    "duration": 34,
    "start_time": "2023-04-13T19:42:52.507Z"
   },
   {
    "duration": 7,
    "start_time": "2023-04-13T19:42:52.542Z"
   },
   {
    "duration": 153,
    "start_time": "2023-04-13T19:42:52.550Z"
   },
   {
    "duration": 30,
    "start_time": "2023-04-13T19:42:52.705Z"
   },
   {
    "duration": 289,
    "start_time": "2023-04-13T19:42:52.736Z"
   },
   {
    "duration": 1,
    "start_time": "2023-04-13T19:42:53.027Z"
   },
   {
    "duration": 47,
    "start_time": "2023-04-13T19:42:53.030Z"
   },
   {
    "duration": 3,
    "start_time": "2023-04-13T19:42:53.079Z"
   },
   {
    "duration": 32,
    "start_time": "2023-04-13T19:42:53.083Z"
   },
   {
    "duration": 534,
    "start_time": "2023-04-13T19:42:53.116Z"
   },
   {
    "duration": 309,
    "start_time": "2023-04-13T19:42:53.652Z"
   },
   {
    "duration": 150,
    "start_time": "2023-04-13T19:42:53.963Z"
   },
   {
    "duration": 20164,
    "start_time": "2023-04-13T19:42:54.115Z"
   },
   {
    "duration": 15296,
    "start_time": "2023-04-13T19:43:14.281Z"
   },
   {
    "duration": 247352,
    "start_time": "2023-04-13T19:43:29.579Z"
   },
   {
    "duration": 3,
    "start_time": "2023-04-13T19:47:36.932Z"
   },
   {
    "duration": 8,
    "start_time": "2023-04-13T19:47:36.936Z"
   },
   {
    "duration": 40,
    "start_time": "2023-04-13T19:47:36.945Z"
   },
   {
    "duration": 74,
    "start_time": "2023-04-13T19:47:36.989Z"
   },
   {
    "duration": 272473,
    "start_time": "2023-04-13T19:47:37.065Z"
   },
   {
    "duration": 18,
    "start_time": "2023-04-13T19:52:09.540Z"
   },
   {
    "duration": 590,
    "start_time": "2023-04-13T19:52:09.560Z"
   },
   {
    "duration": 12,
    "start_time": "2023-04-13T19:52:10.152Z"
   },
   {
    "duration": 30,
    "start_time": "2023-04-13T19:52:10.171Z"
   },
   {
    "duration": 3,
    "start_time": "2023-04-13T19:52:10.203Z"
   },
   {
    "duration": 76666,
    "start_time": "2023-04-13T19:52:10.208Z"
   },
   {
    "duration": 14303,
    "start_time": "2023-04-13T19:53:26.876Z"
   },
   {
    "duration": 4,
    "start_time": "2023-04-13T19:53:41.181Z"
   },
   {
    "duration": 94,
    "start_time": "2023-04-13T19:53:41.186Z"
   },
   {
    "duration": 1882,
    "start_time": "2023-04-17T06:39:08.207Z"
   },
   {
    "duration": 6,
    "start_time": "2023-04-17T06:39:10.092Z"
   },
   {
    "duration": 1415,
    "start_time": "2023-04-17T06:39:10.100Z"
   },
   {
    "duration": 18,
    "start_time": "2023-04-17T06:39:11.517Z"
   },
   {
    "duration": 159,
    "start_time": "2023-04-17T06:39:11.537Z"
   },
   {
    "duration": 534,
    "start_time": "2023-04-17T06:39:11.698Z"
   },
   {
    "duration": 581,
    "start_time": "2023-04-17T06:39:12.235Z"
   },
   {
    "duration": 527,
    "start_time": "2023-04-17T06:39:12.818Z"
   },
   {
    "duration": 189,
    "start_time": "2023-04-17T06:39:13.347Z"
   },
   {
    "duration": 175,
    "start_time": "2023-04-17T06:39:13.537Z"
   },
   {
    "duration": 44,
    "start_time": "2023-04-17T06:39:13.714Z"
   },
   {
    "duration": 106,
    "start_time": "2023-04-17T06:39:13.760Z"
   },
   {
    "duration": 50,
    "start_time": "2023-04-17T06:39:13.868Z"
   },
   {
    "duration": 51,
    "start_time": "2023-04-17T06:39:21.867Z"
   },
   {
    "duration": 97,
    "start_time": "2023-04-17T06:56:10.318Z"
   },
   {
    "duration": 7,
    "start_time": "2023-04-17T06:56:14.364Z"
   },
   {
    "duration": 7,
    "start_time": "2023-04-17T06:56:33.030Z"
   },
   {
    "duration": 7,
    "start_time": "2023-04-17T06:56:34.126Z"
   },
   {
    "duration": 1404,
    "start_time": "2023-04-17T06:57:16.825Z"
   },
   {
    "duration": 3,
    "start_time": "2023-04-17T06:57:18.231Z"
   },
   {
    "duration": 874,
    "start_time": "2023-04-17T06:57:18.235Z"
   },
   {
    "duration": 16,
    "start_time": "2023-04-17T06:57:19.111Z"
   },
   {
    "duration": 135,
    "start_time": "2023-04-17T06:57:19.130Z"
   },
   {
    "duration": 469,
    "start_time": "2023-04-17T06:57:19.267Z"
   },
   {
    "duration": 505,
    "start_time": "2023-04-17T06:57:19.738Z"
   },
   {
    "duration": 462,
    "start_time": "2023-04-17T06:57:20.245Z"
   },
   {
    "duration": 170,
    "start_time": "2023-04-17T06:57:20.709Z"
   },
   {
    "duration": 167,
    "start_time": "2023-04-17T06:57:20.884Z"
   },
   {
    "duration": 49,
    "start_time": "2023-04-17T06:57:21.053Z"
   },
   {
    "duration": 94,
    "start_time": "2023-04-17T06:57:21.103Z"
   },
   {
    "duration": 32,
    "start_time": "2023-04-17T06:57:21.199Z"
   },
   {
    "duration": 34,
    "start_time": "2023-04-17T06:57:21.233Z"
   },
   {
    "duration": 18,
    "start_time": "2023-04-17T06:57:21.285Z"
   },
   {
    "duration": 35,
    "start_time": "2023-04-17T06:57:31.073Z"
   },
   {
    "duration": 26,
    "start_time": "2023-04-17T06:59:16.756Z"
   },
   {
    "duration": 33,
    "start_time": "2023-04-17T06:59:17.963Z"
   },
   {
    "duration": 7,
    "start_time": "2023-04-17T07:01:45.183Z"
   },
   {
    "duration": 3133,
    "start_time": "2023-04-17T07:08:01.217Z"
   },
   {
    "duration": 126,
    "start_time": "2023-04-17T07:09:39.019Z"
   },
   {
    "duration": 107,
    "start_time": "2023-04-17T07:09:47.414Z"
   },
   {
    "duration": 5007,
    "start_time": "2023-04-17T07:10:05.190Z"
   },
   {
    "duration": 5389,
    "start_time": "2023-04-17T07:16:11.605Z"
   },
   {
    "duration": 10,
    "start_time": "2023-04-17T07:17:10.834Z"
   },
   {
    "duration": 39318,
    "start_time": "2023-04-17T07:18:13.910Z"
   },
   {
    "duration": 8,
    "start_time": "2023-04-17T08:21:27.847Z"
   },
   {
    "duration": 11,
    "start_time": "2023-04-17T08:46:00.161Z"
   },
   {
    "duration": 803,
    "start_time": "2023-04-17T08:46:13.991Z"
   },
   {
    "duration": 10,
    "start_time": "2023-04-17T08:46:20.549Z"
   },
   {
    "duration": 587,
    "start_time": "2023-04-17T08:46:43.631Z"
   },
   {
    "duration": 372,
    "start_time": "2023-04-17T08:48:02.140Z"
   },
   {
    "duration": 70,
    "start_time": "2023-04-17T08:48:48.066Z"
   },
   {
    "duration": 15,
    "start_time": "2023-04-17T08:49:06.717Z"
   },
   {
    "duration": 9,
    "start_time": "2023-04-17T08:50:28.009Z"
   },
   {
    "duration": 11,
    "start_time": "2023-04-17T08:50:37.223Z"
   },
   {
    "duration": 39,
    "start_time": "2023-04-17T08:55:38.424Z"
   },
   {
    "duration": 34,
    "start_time": "2023-04-17T08:56:06.640Z"
   },
   {
    "duration": 7,
    "start_time": "2023-04-17T10:15:14.522Z"
   },
   {
    "duration": 7,
    "start_time": "2023-04-17T10:15:17.630Z"
   },
   {
    "duration": 4,
    "start_time": "2023-04-17T10:16:16.846Z"
   },
   {
    "duration": 1437,
    "start_time": "2023-04-17T10:16:17.541Z"
   },
   {
    "duration": 6,
    "start_time": "2023-04-17T10:16:18.980Z"
   },
   {
    "duration": 786,
    "start_time": "2023-04-17T10:16:19.411Z"
   },
   {
    "duration": 18,
    "start_time": "2023-04-17T10:16:20.311Z"
   },
   {
    "duration": 127,
    "start_time": "2023-04-17T10:16:21.427Z"
   },
   {
    "duration": 422,
    "start_time": "2023-04-17T10:16:22.610Z"
   },
   {
    "duration": 451,
    "start_time": "2023-04-17T10:16:23.446Z"
   },
   {
    "duration": 436,
    "start_time": "2023-04-17T10:16:24.347Z"
   },
   {
    "duration": 127,
    "start_time": "2023-04-17T10:16:25.619Z"
   },
   {
    "duration": 45,
    "start_time": "2023-04-17T10:17:12.811Z"
   },
   {
    "duration": 8,
    "start_time": "2023-04-17T10:17:34.686Z"
   },
   {
    "duration": 7,
    "start_time": "2023-04-17T10:17:43.326Z"
   },
   {
    "duration": 7,
    "start_time": "2023-04-17T10:17:55.614Z"
   },
   {
    "duration": 67,
    "start_time": "2023-04-17T10:18:06.410Z"
   },
   {
    "duration": 8,
    "start_time": "2023-04-17T10:22:00.913Z"
   },
   {
    "duration": 161,
    "start_time": "2023-04-17T10:22:15.108Z"
   },
   {
    "duration": 188,
    "start_time": "2023-04-17T10:23:21.206Z"
   },
   {
    "duration": 68,
    "start_time": "2023-04-17T10:27:00.011Z"
   },
   {
    "duration": 15,
    "start_time": "2023-04-17T10:27:13.986Z"
   },
   {
    "duration": 48,
    "start_time": "2023-04-17T10:27:35.950Z"
   },
   {
    "duration": 149,
    "start_time": "2023-04-17T10:28:01.001Z"
   },
   {
    "duration": 49,
    "start_time": "2023-04-17T10:28:22.326Z"
   },
   {
    "duration": 11,
    "start_time": "2023-04-17T10:28:41.446Z"
   },
   {
    "duration": 31,
    "start_time": "2023-04-17T10:38:03.793Z"
   },
   {
    "duration": 28,
    "start_time": "2023-04-17T10:38:50.424Z"
   },
   {
    "duration": 31,
    "start_time": "2023-04-17T10:38:57.749Z"
   },
   {
    "duration": 79,
    "start_time": "2023-04-17T10:41:18.466Z"
   },
   {
    "duration": 9,
    "start_time": "2023-04-17T10:42:09.985Z"
   },
   {
    "duration": 57,
    "start_time": "2023-04-17T10:42:34.274Z"
   },
   {
    "duration": 42,
    "start_time": "2023-04-17T10:42:43.404Z"
   },
   {
    "duration": 29,
    "start_time": "2023-04-17T10:43:20.990Z"
   },
   {
    "duration": 30,
    "start_time": "2023-04-17T10:44:24.445Z"
   },
   {
    "duration": 11,
    "start_time": "2023-04-17T10:48:04.702Z"
   },
   {
    "duration": 44,
    "start_time": "2023-04-17T10:48:16.429Z"
   },
   {
    "duration": 43,
    "start_time": "2023-04-17T10:48:18.145Z"
   },
   {
    "duration": 16,
    "start_time": "2023-04-17T10:52:07.466Z"
   },
   {
    "duration": 3,
    "start_time": "2023-04-17T10:52:40.476Z"
   },
   {
    "duration": 1524,
    "start_time": "2023-04-17T10:52:40.481Z"
   },
   {
    "duration": 2,
    "start_time": "2023-04-17T10:52:42.007Z"
   },
   {
    "duration": 829,
    "start_time": "2023-04-17T10:52:42.010Z"
   },
   {
    "duration": 17,
    "start_time": "2023-04-17T10:52:42.841Z"
   },
   {
    "duration": 147,
    "start_time": "2023-04-17T10:52:42.860Z"
   },
   {
    "duration": 472,
    "start_time": "2023-04-17T10:52:43.009Z"
   },
   {
    "duration": 521,
    "start_time": "2023-04-17T10:52:43.483Z"
   },
   {
    "duration": 579,
    "start_time": "2023-04-17T10:52:44.006Z"
   },
   {
    "duration": 158,
    "start_time": "2023-04-17T10:52:44.587Z"
   },
   {
    "duration": 131,
    "start_time": "2023-04-17T10:52:44.746Z"
   },
   {
    "duration": 181,
    "start_time": "2023-04-17T10:52:44.878Z"
   },
   {
    "duration": 169,
    "start_time": "2023-04-17T10:52:45.061Z"
   },
   {
    "duration": 111,
    "start_time": "2023-04-17T10:52:45.233Z"
   },
   {
    "duration": 44,
    "start_time": "2023-04-17T10:52:45.346Z"
   },
   {
    "duration": 35,
    "start_time": "2023-04-17T10:52:45.392Z"
   },
   {
    "duration": 115,
    "start_time": "2023-04-17T10:52:45.429Z"
   },
   {
    "duration": 40,
    "start_time": "2023-04-17T10:52:45.546Z"
   },
   {
    "duration": 121,
    "start_time": "2023-04-17T10:52:45.588Z"
   },
   {
    "duration": 33,
    "start_time": "2023-04-17T10:52:45.711Z"
   },
   {
    "duration": 3,
    "start_time": "2023-04-17T10:52:45.746Z"
   },
   {
    "duration": 121,
    "start_time": "2023-04-17T10:52:45.751Z"
   },
   {
    "duration": 14,
    "start_time": "2023-04-17T10:52:45.875Z"
   },
   {
    "duration": 8,
    "start_time": "2023-04-17T10:52:45.891Z"
   },
   {
    "duration": 6,
    "start_time": "2023-04-17T10:52:45.901Z"
   },
   {
    "duration": 10,
    "start_time": "2023-04-17T10:52:45.908Z"
   },
   {
    "duration": 95,
    "start_time": "2023-04-17T10:52:45.920Z"
   },
   {
    "duration": 10,
    "start_time": "2023-04-17T10:52:46.017Z"
   },
   {
    "duration": 9,
    "start_time": "2023-04-17T10:52:46.028Z"
   },
   {
    "duration": 54,
    "start_time": "2023-04-17T10:52:46.038Z"
   },
   {
    "duration": 9,
    "start_time": "2023-04-17T10:52:46.094Z"
   },
   {
    "duration": 143,
    "start_time": "2023-04-17T10:52:46.105Z"
   },
   {
    "duration": 10,
    "start_time": "2023-04-17T10:52:46.250Z"
   },
   {
    "duration": 45,
    "start_time": "2023-04-17T10:52:46.262Z"
   },
   {
    "duration": 27,
    "start_time": "2023-04-17T10:52:46.309Z"
   },
   {
    "duration": 11,
    "start_time": "2023-04-17T10:52:46.337Z"
   },
   {
    "duration": 167,
    "start_time": "2023-04-17T10:52:46.350Z"
   },
   {
    "duration": 11,
    "start_time": "2023-04-17T10:52:46.518Z"
   },
   {
    "duration": 32,
    "start_time": "2023-04-17T10:52:46.531Z"
   },
   {
    "duration": 31,
    "start_time": "2023-04-17T10:53:11.522Z"
   },
   {
    "duration": 143,
    "start_time": "2023-04-17T10:53:17.316Z"
   },
   {
    "duration": 150,
    "start_time": "2023-04-17T10:57:00.378Z"
   },
   {
    "duration": 118,
    "start_time": "2023-04-17T10:57:23.160Z"
   },
   {
    "duration": 116,
    "start_time": "2023-04-17T10:57:59.014Z"
   },
   {
    "duration": 115,
    "start_time": "2023-04-17T10:59:24.411Z"
   },
   {
    "duration": 113,
    "start_time": "2023-04-17T10:59:41.230Z"
   },
   {
    "duration": 382,
    "start_time": "2023-04-17T11:00:03.114Z"
   },
   {
    "duration": 5243,
    "start_time": "2023-04-17T11:00:06.351Z"
   },
   {
    "duration": 3,
    "start_time": "2023-04-17T11:00:38.912Z"
   },
   {
    "duration": 61,
    "start_time": "2023-04-17T11:00:39.869Z"
   },
   {
    "duration": 5,
    "start_time": "2023-04-17T11:08:28.613Z"
   },
   {
    "duration": 128,
    "start_time": "2023-04-17T11:10:00.426Z"
   },
   {
    "duration": 11,
    "start_time": "2023-04-17T11:10:08.600Z"
   },
   {
    "duration": 10,
    "start_time": "2023-04-17T11:10:19.346Z"
   },
   {
    "duration": 4,
    "start_time": "2023-04-17T11:10:25.485Z"
   },
   {
    "duration": 6,
    "start_time": "2023-04-17T11:11:09.754Z"
   },
   {
    "duration": 4,
    "start_time": "2023-04-17T11:11:51.727Z"
   },
   {
    "duration": 3,
    "start_time": "2023-04-17T11:11:58.789Z"
   },
   {
    "duration": 7,
    "start_time": "2023-04-17T11:46:17.816Z"
   },
   {
    "duration": 65,
    "start_time": "2023-04-17T12:26:17.325Z"
   },
   {
    "duration": 4,
    "start_time": "2023-04-17T12:48:48.315Z"
   },
   {
    "duration": 1509,
    "start_time": "2023-04-17T12:48:48.321Z"
   },
   {
    "duration": 3,
    "start_time": "2023-04-17T12:48:49.832Z"
   },
   {
    "duration": 866,
    "start_time": "2023-04-17T12:48:49.836Z"
   },
   {
    "duration": 17,
    "start_time": "2023-04-17T12:48:50.704Z"
   },
   {
    "duration": 148,
    "start_time": "2023-04-17T12:48:50.723Z"
   },
   {
    "duration": 473,
    "start_time": "2023-04-17T12:48:50.872Z"
   },
   {
    "duration": 535,
    "start_time": "2023-04-17T12:48:51.347Z"
   },
   {
    "duration": 475,
    "start_time": "2023-04-17T12:48:51.883Z"
   },
   {
    "duration": 157,
    "start_time": "2023-04-17T12:48:52.360Z"
   },
   {
    "duration": 133,
    "start_time": "2023-04-17T12:48:52.518Z"
   },
   {
    "duration": 182,
    "start_time": "2023-04-17T12:48:52.653Z"
   },
   {
    "duration": 172,
    "start_time": "2023-04-17T12:48:52.837Z"
   },
   {
    "duration": 109,
    "start_time": "2023-04-17T12:48:53.012Z"
   },
   {
    "duration": 36,
    "start_time": "2023-04-17T12:48:53.123Z"
   },
   {
    "duration": 52,
    "start_time": "2023-04-17T12:48:53.161Z"
   },
   {
    "duration": 125,
    "start_time": "2023-04-17T12:48:53.215Z"
   },
   {
    "duration": 43,
    "start_time": "2023-04-17T12:48:53.342Z"
   },
   {
    "duration": 104,
    "start_time": "2023-04-17T12:48:53.387Z"
   },
   {
    "duration": 36,
    "start_time": "2023-04-17T12:48:53.493Z"
   },
   {
    "duration": 9,
    "start_time": "2023-04-17T12:48:53.532Z"
   },
   {
    "duration": 121,
    "start_time": "2023-04-17T12:48:53.543Z"
   },
   {
    "duration": 9,
    "start_time": "2023-04-17T12:48:53.665Z"
   },
   {
    "duration": 8,
    "start_time": "2023-04-17T12:48:53.685Z"
   },
   {
    "duration": 22,
    "start_time": "2023-04-17T12:48:53.695Z"
   },
   {
    "duration": 7,
    "start_time": "2023-04-17T12:48:53.720Z"
   },
   {
    "duration": 90,
    "start_time": "2023-04-17T12:48:53.729Z"
   },
   {
    "duration": 12,
    "start_time": "2023-04-17T12:48:53.821Z"
   },
   {
    "duration": 10,
    "start_time": "2023-04-17T12:48:53.835Z"
   },
   {
    "duration": 58,
    "start_time": "2023-04-17T12:48:53.846Z"
   },
   {
    "duration": 9,
    "start_time": "2023-04-17T12:48:53.906Z"
   },
   {
    "duration": 164,
    "start_time": "2023-04-17T12:48:53.916Z"
   },
   {
    "duration": 11,
    "start_time": "2023-04-17T12:48:54.082Z"
   },
   {
    "duration": 33,
    "start_time": "2023-04-17T12:48:54.094Z"
   },
   {
    "duration": 57,
    "start_time": "2023-04-17T12:48:54.129Z"
   },
   {
    "duration": 32,
    "start_time": "2023-04-17T12:48:54.188Z"
   },
   {
    "duration": 173,
    "start_time": "2023-04-17T12:48:54.222Z"
   },
   {
    "duration": 33,
    "start_time": "2023-04-17T12:48:54.397Z"
   },
   {
    "duration": 53,
    "start_time": "2023-04-17T12:48:54.433Z"
   },
   {
    "duration": 140,
    "start_time": "2023-04-17T12:48:54.488Z"
   },
   {
    "duration": 35,
    "start_time": "2023-04-17T12:48:54.632Z"
   },
   {
    "duration": 304,
    "start_time": "2023-04-17T12:48:54.668Z"
   },
   {
    "duration": 5054,
    "start_time": "2023-04-17T12:48:54.973Z"
   },
   {
    "duration": 3,
    "start_time": "2023-04-17T12:49:00.029Z"
   },
   {
    "duration": 20,
    "start_time": "2023-04-17T12:49:00.033Z"
   },
   {
    "duration": 9,
    "start_time": "2023-04-17T12:49:00.055Z"
   },
   {
    "duration": 16,
    "start_time": "2023-04-17T12:49:00.065Z"
   },
   {
    "duration": 60,
    "start_time": "2023-04-17T12:49:00.083Z"
   },
   {
    "duration": 23,
    "start_time": "2023-04-17T12:49:00.145Z"
   },
   {
    "duration": 942,
    "start_time": "2023-04-17T12:49:00.169Z"
   },
   {
    "duration": 385,
    "start_time": "2023-04-17T12:49:01.113Z"
   },
   {
    "duration": 130,
    "start_time": "2023-04-17T12:49:01.501Z"
   },
   {
    "duration": 0,
    "start_time": "2023-04-17T12:49:01.632Z"
   },
   {
    "duration": 160,
    "start_time": "2023-04-17T12:49:41.858Z"
   },
   {
    "duration": 21833,
    "start_time": "2023-04-17T12:49:59.057Z"
   },
   {
    "duration": 43,
    "start_time": "2023-04-17T12:50:45.007Z"
   },
   {
    "duration": 73,
    "start_time": "2023-04-17T12:51:56.634Z"
   },
   {
    "duration": 58,
    "start_time": "2023-04-17T12:52:30.926Z"
   },
   {
    "duration": 132392,
    "start_time": "2023-04-17T12:53:10.394Z"
   },
   {
    "duration": 8,
    "start_time": "2023-04-17T12:56:42.579Z"
   },
   {
    "duration": 10,
    "start_time": "2023-04-17T13:01:51.047Z"
   },
   {
    "duration": 6,
    "start_time": "2023-04-17T13:02:35.933Z"
   },
   {
    "duration": 175137,
    "start_time": "2023-04-17T13:12:12.406Z"
   },
   {
    "duration": 7,
    "start_time": "2023-04-17T13:27:31.310Z"
   },
   {
    "duration": 3,
    "start_time": "2023-04-17T13:35:48.725Z"
   },
   {
    "duration": 450,
    "start_time": "2023-04-17T13:49:34.354Z"
   },
   {
    "duration": 4,
    "start_time": "2023-04-17T13:49:52.076Z"
   },
   {
    "duration": 53,
    "start_time": "2023-04-17T13:50:40.682Z"
   },
   {
    "duration": 10,
    "start_time": "2023-04-17T13:51:07.539Z"
   },
   {
    "duration": 4,
    "start_time": "2023-04-17T13:52:03.500Z"
   },
   {
    "duration": 5,
    "start_time": "2023-04-17T13:53:43.422Z"
   },
   {
    "duration": 7348,
    "start_time": "2023-04-17T13:54:02.865Z"
   },
   {
    "duration": 5,
    "start_time": "2023-04-17T13:55:16.574Z"
   },
   {
    "duration": 3539822,
    "start_time": "2023-04-17T14:02:03.435Z"
   },
   {
    "duration": 5,
    "start_time": "2023-04-17T16:24:55.404Z"
   },
   {
    "duration": 1886,
    "start_time": "2023-04-17T16:24:55.417Z"
   },
   {
    "duration": 0,
    "start_time": "2023-04-17T16:24:57.306Z"
   },
   {
    "duration": 0,
    "start_time": "2023-04-17T16:24:57.308Z"
   },
   {
    "duration": 0,
    "start_time": "2023-04-17T16:24:57.309Z"
   },
   {
    "duration": 0,
    "start_time": "2023-04-17T16:24:57.311Z"
   },
   {
    "duration": 0,
    "start_time": "2023-04-17T16:24:57.312Z"
   },
   {
    "duration": 0,
    "start_time": "2023-04-17T16:24:57.313Z"
   },
   {
    "duration": 0,
    "start_time": "2023-04-17T16:24:57.314Z"
   },
   {
    "duration": 0,
    "start_time": "2023-04-17T16:24:57.315Z"
   },
   {
    "duration": 0,
    "start_time": "2023-04-17T16:24:57.316Z"
   },
   {
    "duration": 0,
    "start_time": "2023-04-17T16:24:57.318Z"
   },
   {
    "duration": 0,
    "start_time": "2023-04-17T16:24:57.319Z"
   },
   {
    "duration": 0,
    "start_time": "2023-04-17T16:24:57.320Z"
   },
   {
    "duration": 0,
    "start_time": "2023-04-17T16:24:57.321Z"
   },
   {
    "duration": 0,
    "start_time": "2023-04-17T16:24:57.322Z"
   },
   {
    "duration": 0,
    "start_time": "2023-04-17T16:24:57.323Z"
   },
   {
    "duration": 0,
    "start_time": "2023-04-17T16:24:57.324Z"
   },
   {
    "duration": 0,
    "start_time": "2023-04-17T16:24:57.325Z"
   },
   {
    "duration": 0,
    "start_time": "2023-04-17T16:24:57.327Z"
   },
   {
    "duration": 0,
    "start_time": "2023-04-17T16:24:57.328Z"
   },
   {
    "duration": 0,
    "start_time": "2023-04-17T16:24:57.329Z"
   },
   {
    "duration": 0,
    "start_time": "2023-04-17T16:24:57.330Z"
   },
   {
    "duration": 0,
    "start_time": "2023-04-17T16:24:57.331Z"
   },
   {
    "duration": 0,
    "start_time": "2023-04-17T16:24:57.333Z"
   },
   {
    "duration": 0,
    "start_time": "2023-04-17T16:24:57.334Z"
   },
   {
    "duration": 0,
    "start_time": "2023-04-17T16:24:57.335Z"
   },
   {
    "duration": 0,
    "start_time": "2023-04-17T16:24:57.336Z"
   },
   {
    "duration": 0,
    "start_time": "2023-04-17T16:24:57.337Z"
   },
   {
    "duration": 0,
    "start_time": "2023-04-17T16:24:57.388Z"
   },
   {
    "duration": 0,
    "start_time": "2023-04-17T16:24:57.389Z"
   },
   {
    "duration": 0,
    "start_time": "2023-04-17T16:24:57.390Z"
   },
   {
    "duration": 0,
    "start_time": "2023-04-17T16:24:57.391Z"
   },
   {
    "duration": 0,
    "start_time": "2023-04-17T16:24:57.392Z"
   },
   {
    "duration": 0,
    "start_time": "2023-04-17T16:24:57.393Z"
   },
   {
    "duration": 0,
    "start_time": "2023-04-17T16:24:57.394Z"
   },
   {
    "duration": 0,
    "start_time": "2023-04-17T16:24:57.395Z"
   },
   {
    "duration": 0,
    "start_time": "2023-04-17T16:24:57.396Z"
   },
   {
    "duration": 0,
    "start_time": "2023-04-17T16:24:57.397Z"
   },
   {
    "duration": 0,
    "start_time": "2023-04-17T16:24:57.398Z"
   },
   {
    "duration": 0,
    "start_time": "2023-04-17T16:24:57.400Z"
   },
   {
    "duration": 0,
    "start_time": "2023-04-17T16:24:57.401Z"
   },
   {
    "duration": 0,
    "start_time": "2023-04-17T16:24:57.403Z"
   },
   {
    "duration": 0,
    "start_time": "2023-04-17T16:24:57.403Z"
   },
   {
    "duration": 0,
    "start_time": "2023-04-17T16:24:57.405Z"
   },
   {
    "duration": 0,
    "start_time": "2023-04-17T16:24:57.406Z"
   },
   {
    "duration": 0,
    "start_time": "2023-04-17T16:24:57.407Z"
   },
   {
    "duration": 0,
    "start_time": "2023-04-17T16:24:57.409Z"
   },
   {
    "duration": 0,
    "start_time": "2023-04-17T16:24:57.411Z"
   },
   {
    "duration": 0,
    "start_time": "2023-04-17T16:24:57.412Z"
   },
   {
    "duration": 0,
    "start_time": "2023-04-17T16:24:57.413Z"
   },
   {
    "duration": 0,
    "start_time": "2023-04-17T16:24:57.415Z"
   },
   {
    "duration": 0,
    "start_time": "2023-04-17T16:24:57.416Z"
   },
   {
    "duration": 0,
    "start_time": "2023-04-17T16:24:57.417Z"
   },
   {
    "duration": 0,
    "start_time": "2023-04-17T16:24:57.418Z"
   },
   {
    "duration": 0,
    "start_time": "2023-04-17T16:24:57.419Z"
   },
   {
    "duration": 0,
    "start_time": "2023-04-17T16:24:57.421Z"
   },
   {
    "duration": 0,
    "start_time": "2023-04-17T16:24:57.422Z"
   },
   {
    "duration": 3644,
    "start_time": "2023-04-17T16:26:05.236Z"
   },
   {
    "duration": 1580,
    "start_time": "2023-04-17T16:26:08.883Z"
   },
   {
    "duration": 3,
    "start_time": "2023-04-17T16:26:10.465Z"
   },
   {
    "duration": 1163,
    "start_time": "2023-04-17T16:26:10.471Z"
   },
   {
    "duration": 18,
    "start_time": "2023-04-17T16:26:11.636Z"
   },
   {
    "duration": 144,
    "start_time": "2023-04-17T16:26:11.656Z"
   },
   {
    "duration": 528,
    "start_time": "2023-04-17T16:26:11.802Z"
   },
   {
    "duration": 568,
    "start_time": "2023-04-17T16:26:12.332Z"
   },
   {
    "duration": 499,
    "start_time": "2023-04-17T16:26:12.902Z"
   },
   {
    "duration": 157,
    "start_time": "2023-04-17T16:26:13.404Z"
   },
   {
    "duration": 148,
    "start_time": "2023-04-17T16:26:13.563Z"
   },
   {
    "duration": 192,
    "start_time": "2023-04-17T16:26:13.712Z"
   },
   {
    "duration": 184,
    "start_time": "2023-04-17T16:26:13.905Z"
   },
   {
    "duration": 112,
    "start_time": "2023-04-17T16:26:14.091Z"
   },
   {
    "duration": 45,
    "start_time": "2023-04-17T16:26:14.205Z"
   },
   {
    "duration": 57,
    "start_time": "2023-04-17T16:26:14.251Z"
   },
   {
    "duration": 54,
    "start_time": "2023-04-17T16:26:14.309Z"
   },
   {
    "duration": 38,
    "start_time": "2023-04-17T16:26:14.365Z"
   },
   {
    "duration": 103,
    "start_time": "2023-04-17T16:26:14.405Z"
   },
   {
    "duration": 36,
    "start_time": "2023-04-17T16:26:14.511Z"
   },
   {
    "duration": 14,
    "start_time": "2023-04-17T16:26:14.548Z"
   },
   {
    "duration": 206,
    "start_time": "2023-04-17T16:26:14.563Z"
   },
   {
    "duration": 20,
    "start_time": "2023-04-17T16:26:14.773Z"
   },
   {
    "duration": 8,
    "start_time": "2023-04-17T16:26:14.795Z"
   },
   {
    "duration": 13,
    "start_time": "2023-04-17T16:26:14.805Z"
   },
   {
    "duration": 17,
    "start_time": "2023-04-17T16:26:14.819Z"
   },
   {
    "duration": 96,
    "start_time": "2023-04-17T16:26:14.837Z"
   },
   {
    "duration": 10,
    "start_time": "2023-04-17T16:26:14.937Z"
   },
   {
    "duration": 8,
    "start_time": "2023-04-17T16:26:14.949Z"
   },
   {
    "duration": 56,
    "start_time": "2023-04-17T16:26:14.958Z"
   },
   {
    "duration": 9,
    "start_time": "2023-04-17T16:26:15.017Z"
   },
   {
    "duration": 160,
    "start_time": "2023-04-17T16:26:15.027Z"
   },
   {
    "duration": 11,
    "start_time": "2023-04-17T16:26:15.189Z"
   },
   {
    "duration": 34,
    "start_time": "2023-04-17T16:26:15.201Z"
   },
   {
    "duration": 54,
    "start_time": "2023-04-17T16:26:15.237Z"
   },
   {
    "duration": 30,
    "start_time": "2023-04-17T16:26:15.292Z"
   },
   {
    "duration": 175,
    "start_time": "2023-04-17T16:26:15.324Z"
   },
   {
    "duration": 30,
    "start_time": "2023-04-17T16:26:15.501Z"
   },
   {
    "duration": 35,
    "start_time": "2023-04-17T16:26:15.533Z"
   },
   {
    "duration": 133,
    "start_time": "2023-04-17T16:26:15.587Z"
   },
   {
    "duration": 36,
    "start_time": "2023-04-17T16:26:15.722Z"
   },
   {
    "duration": 330,
    "start_time": "2023-04-17T16:26:15.760Z"
   },
   {
    "duration": 5134,
    "start_time": "2023-04-17T16:26:16.092Z"
   },
   {
    "duration": 2,
    "start_time": "2023-04-17T16:26:21.228Z"
   },
   {
    "duration": 32,
    "start_time": "2023-04-17T16:26:21.232Z"
   },
   {
    "duration": 17,
    "start_time": "2023-04-17T16:26:21.265Z"
   },
   {
    "duration": 8,
    "start_time": "2023-04-17T16:26:21.284Z"
   },
   {
    "duration": 28,
    "start_time": "2023-04-17T16:26:21.294Z"
   },
   {
    "duration": 20,
    "start_time": "2023-04-17T16:26:21.324Z"
   },
   {
    "duration": 129,
    "start_time": "2023-04-17T16:26:21.346Z"
   },
   {
    "duration": 0,
    "start_time": "2023-04-17T16:26:21.476Z"
   },
   {
    "duration": 0,
    "start_time": "2023-04-17T16:26:21.478Z"
   },
   {
    "duration": 0,
    "start_time": "2023-04-17T16:26:21.479Z"
   },
   {
    "duration": 0,
    "start_time": "2023-04-17T16:26:21.480Z"
   },
   {
    "duration": 0,
    "start_time": "2023-04-17T16:26:21.487Z"
   },
   {
    "duration": 0,
    "start_time": "2023-04-17T16:26:21.488Z"
   },
   {
    "duration": 0,
    "start_time": "2023-04-17T16:26:21.489Z"
   },
   {
    "duration": 0,
    "start_time": "2023-04-17T16:26:21.490Z"
   },
   {
    "duration": 887,
    "start_time": "2023-04-17T16:27:07.064Z"
   },
   {
    "duration": 384,
    "start_time": "2023-04-17T16:27:09.984Z"
   },
   {
    "duration": 167,
    "start_time": "2023-04-17T16:27:14.217Z"
   },
   {
    "duration": 169,
    "start_time": "2023-04-17T16:27:44.220Z"
   },
   {
    "duration": 21777,
    "start_time": "2023-04-17T16:27:48.109Z"
   },
   {
    "duration": 26849,
    "start_time": "2023-04-17T16:28:09.889Z"
   },
   {
    "duration": 3,
    "start_time": "2023-04-17T16:28:36.740Z"
   },
   {
    "duration": 10,
    "start_time": "2023-04-17T16:28:36.744Z"
   },
   {
    "duration": 80,
    "start_time": "2023-04-17T16:28:36.756Z"
   },
   {
    "duration": 2364,
    "start_time": "2023-04-17T16:28:48.092Z"
   },
   {
    "duration": 1572,
    "start_time": "2023-04-17T16:28:50.459Z"
   },
   {
    "duration": 3,
    "start_time": "2023-04-17T16:28:52.032Z"
   },
   {
    "duration": 908,
    "start_time": "2023-04-17T16:28:52.037Z"
   },
   {
    "duration": 18,
    "start_time": "2023-04-17T16:28:52.947Z"
   },
   {
    "duration": 165,
    "start_time": "2023-04-17T16:28:52.966Z"
   },
   {
    "duration": 510,
    "start_time": "2023-04-17T16:28:53.133Z"
   },
   {
    "duration": 556,
    "start_time": "2023-04-17T16:28:53.645Z"
   },
   {
    "duration": 491,
    "start_time": "2023-04-17T16:28:54.203Z"
   },
   {
    "duration": 157,
    "start_time": "2023-04-17T16:28:54.698Z"
   },
   {
    "duration": 131,
    "start_time": "2023-04-17T16:28:54.857Z"
   },
   {
    "duration": 202,
    "start_time": "2023-04-17T16:28:54.990Z"
   },
   {
    "duration": 198,
    "start_time": "2023-04-17T16:28:55.194Z"
   },
   {
    "duration": 122,
    "start_time": "2023-04-17T16:28:55.394Z"
   },
   {
    "duration": 36,
    "start_time": "2023-04-17T16:28:55.518Z"
   },
   {
    "duration": 53,
    "start_time": "2023-04-17T16:28:55.556Z"
   },
   {
    "duration": 42,
    "start_time": "2023-04-17T16:28:55.611Z"
   },
   {
    "duration": 37,
    "start_time": "2023-04-17T16:28:55.655Z"
   },
   {
    "duration": 104,
    "start_time": "2023-04-17T16:28:55.694Z"
   },
   {
    "duration": 34,
    "start_time": "2023-04-17T16:28:55.800Z"
   },
   {
    "duration": 9,
    "start_time": "2023-04-17T16:28:55.835Z"
   },
   {
    "duration": 205,
    "start_time": "2023-04-17T16:28:55.846Z"
   },
   {
    "duration": 7,
    "start_time": "2023-04-17T16:28:56.053Z"
   },
   {
    "duration": 8,
    "start_time": "2023-04-17T16:28:56.062Z"
   },
   {
    "duration": 10,
    "start_time": "2023-04-17T16:28:56.088Z"
   },
   {
    "duration": 7,
    "start_time": "2023-04-17T16:28:56.100Z"
   },
   {
    "duration": 91,
    "start_time": "2023-04-17T16:28:56.108Z"
   },
   {
    "duration": 10,
    "start_time": "2023-04-17T16:28:56.203Z"
   },
   {
    "duration": 9,
    "start_time": "2023-04-17T16:28:56.215Z"
   },
   {
    "duration": 36,
    "start_time": "2023-04-17T16:28:56.226Z"
   },
   {
    "duration": 9,
    "start_time": "2023-04-17T16:28:56.288Z"
   },
   {
    "duration": 156,
    "start_time": "2023-04-17T16:28:56.298Z"
   },
   {
    "duration": 11,
    "start_time": "2023-04-17T16:28:56.456Z"
   },
   {
    "duration": 49,
    "start_time": "2023-04-17T16:28:56.469Z"
   },
   {
    "duration": 29,
    "start_time": "2023-04-17T16:28:56.520Z"
   },
   {
    "duration": 11,
    "start_time": "2023-04-17T16:28:56.551Z"
   },
   {
    "duration": 181,
    "start_time": "2023-04-17T16:28:56.564Z"
   },
   {
    "duration": 11,
    "start_time": "2023-04-17T16:28:56.747Z"
   },
   {
    "duration": 51,
    "start_time": "2023-04-17T16:28:56.760Z"
   },
   {
    "duration": 139,
    "start_time": "2023-04-17T16:28:56.814Z"
   },
   {
    "duration": 37,
    "start_time": "2023-04-17T16:28:56.955Z"
   },
   {
    "duration": 300,
    "start_time": "2023-04-17T16:28:56.994Z"
   },
   {
    "duration": 4998,
    "start_time": "2023-04-17T16:28:57.295Z"
   },
   {
    "duration": 3,
    "start_time": "2023-04-17T16:29:02.294Z"
   },
   {
    "duration": 12,
    "start_time": "2023-04-17T16:29:02.298Z"
   },
   {
    "duration": 26,
    "start_time": "2023-04-17T16:29:02.312Z"
   },
   {
    "duration": 11,
    "start_time": "2023-04-17T16:29:02.340Z"
   },
   {
    "duration": 26,
    "start_time": "2023-04-17T16:29:02.352Z"
   },
   {
    "duration": 21,
    "start_time": "2023-04-17T16:29:02.380Z"
   },
   {
    "duration": 915,
    "start_time": "2023-04-17T16:29:02.403Z"
   },
   {
    "duration": 416,
    "start_time": "2023-04-17T16:29:03.320Z"
   },
   {
    "duration": 166,
    "start_time": "2023-04-17T16:29:03.738Z"
   },
   {
    "duration": 25384,
    "start_time": "2023-04-17T16:29:03.906Z"
   },
   {
    "duration": 95318,
    "start_time": "2023-04-17T16:29:29.292Z"
   },
   {
    "duration": 3,
    "start_time": "2023-04-17T16:31:04.612Z"
   },
   {
    "duration": 23,
    "start_time": "2023-04-17T16:31:04.617Z"
   },
   {
    "duration": 2,
    "start_time": "2023-04-17T16:31:43.573Z"
   },
   {
    "duration": 7725,
    "start_time": "2023-04-17T16:31:43.633Z"
   },
   {
    "duration": 3197723,
    "start_time": "2023-04-17T16:31:51.360Z"
   },
   {
    "duration": 2470,
    "start_time": "2023-04-17T17:26:21.943Z"
   },
   {
    "duration": 1546,
    "start_time": "2023-04-17T17:26:24.416Z"
   },
   {
    "duration": 3,
    "start_time": "2023-04-17T17:26:25.964Z"
   },
   {
    "duration": 948,
    "start_time": "2023-04-17T17:26:25.969Z"
   },
   {
    "duration": 18,
    "start_time": "2023-04-17T17:26:26.918Z"
   },
   {
    "duration": 172,
    "start_time": "2023-04-17T17:26:26.938Z"
   },
   {
    "duration": 520,
    "start_time": "2023-04-17T17:26:27.111Z"
   },
   {
    "duration": 586,
    "start_time": "2023-04-17T17:26:27.632Z"
   },
   {
    "duration": 526,
    "start_time": "2023-04-17T17:26:28.220Z"
   },
   {
    "duration": 171,
    "start_time": "2023-04-17T17:26:28.748Z"
   },
   {
    "duration": 135,
    "start_time": "2023-04-17T17:26:28.921Z"
   },
   {
    "duration": 185,
    "start_time": "2023-04-17T17:26:29.058Z"
   },
   {
    "duration": 173,
    "start_time": "2023-04-17T17:26:29.245Z"
   },
   {
    "duration": 122,
    "start_time": "2023-04-17T17:26:29.420Z"
   },
   {
    "duration": 57,
    "start_time": "2023-04-17T17:26:29.544Z"
   },
   {
    "duration": 36,
    "start_time": "2023-04-17T17:26:29.603Z"
   },
   {
    "duration": 45,
    "start_time": "2023-04-17T17:26:29.640Z"
   },
   {
    "duration": 42,
    "start_time": "2023-04-17T17:26:29.686Z"
   },
   {
    "duration": 111,
    "start_time": "2023-04-17T17:26:29.730Z"
   },
   {
    "duration": 35,
    "start_time": "2023-04-17T17:26:29.842Z"
   },
   {
    "duration": 10,
    "start_time": "2023-04-17T17:26:29.893Z"
   },
   {
    "duration": 210,
    "start_time": "2023-04-17T17:26:29.904Z"
   },
   {
    "duration": 8,
    "start_time": "2023-04-17T17:26:30.116Z"
   },
   {
    "duration": 40,
    "start_time": "2023-04-17T17:26:30.126Z"
   },
   {
    "duration": 37,
    "start_time": "2023-04-17T17:26:30.168Z"
   },
   {
    "duration": 24,
    "start_time": "2023-04-17T17:26:30.207Z"
   },
   {
    "duration": 105,
    "start_time": "2023-04-17T17:26:30.233Z"
   },
   {
    "duration": 11,
    "start_time": "2023-04-17T17:26:30.342Z"
   },
   {
    "duration": 65,
    "start_time": "2023-04-17T17:26:30.355Z"
   },
   {
    "duration": 76,
    "start_time": "2023-04-17T17:26:30.422Z"
   },
   {
    "duration": 9,
    "start_time": "2023-04-17T17:26:30.500Z"
   },
   {
    "duration": 170,
    "start_time": "2023-04-17T17:26:30.510Z"
   },
   {
    "duration": 14,
    "start_time": "2023-04-17T17:26:30.681Z"
   },
   {
    "duration": 83,
    "start_time": "2023-04-17T17:26:30.697Z"
   },
   {
    "duration": 40,
    "start_time": "2023-04-17T17:26:30.783Z"
   },
   {
    "duration": 23,
    "start_time": "2023-04-17T17:26:30.825Z"
   },
   {
    "duration": 242,
    "start_time": "2023-04-17T17:26:30.850Z"
   },
   {
    "duration": 19,
    "start_time": "2023-04-17T17:26:31.094Z"
   },
   {
    "duration": 83,
    "start_time": "2023-04-17T17:26:31.115Z"
   },
   {
    "duration": 145,
    "start_time": "2023-04-17T17:26:31.200Z"
   },
   {
    "duration": 46,
    "start_time": "2023-04-17T17:26:31.347Z"
   },
   {
    "duration": 309,
    "start_time": "2023-04-17T17:26:31.395Z"
   },
   {
    "duration": 5219,
    "start_time": "2023-04-17T17:26:31.706Z"
   },
   {
    "duration": 3,
    "start_time": "2023-04-17T17:26:36.927Z"
   },
   {
    "duration": 26,
    "start_time": "2023-04-17T17:26:36.931Z"
   },
   {
    "duration": 22,
    "start_time": "2023-04-17T17:26:36.958Z"
   },
   {
    "duration": 6,
    "start_time": "2023-04-17T17:26:36.982Z"
   },
   {
    "duration": 56,
    "start_time": "2023-04-17T17:26:36.992Z"
   },
   {
    "duration": 21,
    "start_time": "2023-04-17T17:26:37.051Z"
   },
   {
    "duration": 959,
    "start_time": "2023-04-17T17:26:37.074Z"
   },
   {
    "duration": 419,
    "start_time": "2023-04-17T17:26:38.035Z"
   },
   {
    "duration": 179,
    "start_time": "2023-04-17T17:26:38.456Z"
   },
   {
    "duration": 52857,
    "start_time": "2023-04-17T17:26:38.637Z"
   },
   {
    "duration": 98744,
    "start_time": "2023-04-17T17:27:31.496Z"
   },
   {
    "duration": 3,
    "start_time": "2023-04-17T17:29:10.242Z"
   },
   {
    "duration": 11,
    "start_time": "2023-04-17T17:29:10.246Z"
   },
   {
    "duration": 8400,
    "start_time": "2023-04-17T17:29:10.259Z"
   },
   {
    "duration": 8221,
    "start_time": "2023-04-17T17:29:50.919Z"
   },
   {
    "duration": 2674567,
    "start_time": "2023-04-17T17:30:07.873Z"
   },
   {
    "duration": 355124,
    "start_time": "2023-04-17T18:20:45.555Z"
   },
   {
    "duration": 6,
    "start_time": "2023-04-17T18:26:40.681Z"
   },
   {
    "duration": 80199,
    "start_time": "2023-04-17T18:27:28.484Z"
   },
   {
    "duration": 3,
    "start_time": "2023-04-17T18:31:10.719Z"
   },
   {
    "duration": 354583,
    "start_time": "2023-04-17T18:31:13.623Z"
   },
   {
    "duration": 16,
    "start_time": "2023-04-17T18:39:19.493Z"
   },
   {
    "duration": 76,
    "start_time": "2023-04-17T18:39:19.580Z"
   },
   {
    "duration": 266233,
    "start_time": "2023-04-17T18:39:27.893Z"
   },
   {
    "duration": 582,
    "start_time": "2023-04-17T18:44:32.644Z"
   },
   {
    "duration": 15,
    "start_time": "2023-04-17T18:44:39.087Z"
   },
   {
    "duration": 15,
    "start_time": "2023-04-17T18:44:39.184Z"
   },
   {
    "duration": 4,
    "start_time": "2023-04-17T18:44:39.239Z"
   },
   {
    "duration": 16,
    "start_time": "2023-04-17T18:44:58.755Z"
   },
   {
    "duration": 107,
    "start_time": "2023-04-17T18:44:58.815Z"
   },
   {
    "duration": 42894,
    "start_time": "2023-04-17T18:47:38.603Z"
   },
   {
    "duration": 15709,
    "start_time": "2023-04-17T18:48:21.499Z"
   },
   {
    "duration": 10,
    "start_time": "2023-04-17T18:57:50.704Z"
   },
   {
    "duration": 17402,
    "start_time": "2023-04-17T18:57:50.722Z"
   },
   {
    "duration": 3,
    "start_time": "2023-04-17T19:06:10.654Z"
   },
   {
    "duration": 38786,
    "start_time": "2023-04-17T19:06:33.303Z"
   },
   {
    "duration": 3,
    "start_time": "2023-04-17T19:09:47.833Z"
   },
   {
    "duration": 42979,
    "start_time": "2023-04-17T19:10:05.862Z"
   },
   {
    "duration": 23,
    "start_time": "2023-04-17T19:10:59.241Z"
   },
   {
    "duration": 9,
    "start_time": "2023-04-17T19:10:59.294Z"
   },
   {
    "duration": 5,
    "start_time": "2023-04-17T19:11:57.147Z"
   },
   {
    "duration": 11,
    "start_time": "2023-04-17T19:12:00.697Z"
   },
   {
    "duration": 267302,
    "start_time": "2023-04-17T19:13:29.474Z"
   },
   {
    "duration": 12,
    "start_time": "2023-04-17T19:17:56.778Z"
   },
   {
    "duration": 5321,
    "start_time": "2023-04-17T19:18:39.754Z"
   },
   {
    "duration": 4577,
    "start_time": "2023-04-17T19:19:58.616Z"
   },
   {
    "duration": 4153,
    "start_time": "2023-04-17T19:21:35.699Z"
   },
   {
    "duration": 267726,
    "start_time": "2023-04-17T19:22:30.754Z"
   },
   {
    "duration": 262703,
    "start_time": "2023-04-17T19:27:40.206Z"
   },
   {
    "duration": 363,
    "start_time": "2023-04-17T19:33:16.530Z"
   },
   {
    "duration": 167,
    "start_time": "2023-04-17T21:00:19.965Z"
   },
   {
    "duration": 3143,
    "start_time": "2023-04-17T21:00:46.317Z"
   },
   {
    "duration": 1754,
    "start_time": "2023-04-17T21:00:49.462Z"
   },
   {
    "duration": 2,
    "start_time": "2023-04-17T21:00:51.218Z"
   },
   {
    "duration": 1063,
    "start_time": "2023-04-17T21:00:51.222Z"
   },
   {
    "duration": 16,
    "start_time": "2023-04-17T21:00:52.287Z"
   },
   {
    "duration": 135,
    "start_time": "2023-04-17T21:00:52.304Z"
   },
   {
    "duration": 432,
    "start_time": "2023-04-17T21:00:52.440Z"
   },
   {
    "duration": 509,
    "start_time": "2023-04-17T21:00:52.873Z"
   },
   {
    "duration": 434,
    "start_time": "2023-04-17T21:00:53.384Z"
   },
   {
    "duration": 134,
    "start_time": "2023-04-17T21:00:53.821Z"
   },
   {
    "duration": 113,
    "start_time": "2023-04-17T21:00:53.957Z"
   },
   {
    "duration": 159,
    "start_time": "2023-04-17T21:00:54.072Z"
   },
   {
    "duration": 152,
    "start_time": "2023-04-17T21:00:54.232Z"
   },
   {
    "duration": 116,
    "start_time": "2023-04-17T21:00:54.386Z"
   },
   {
    "duration": 46,
    "start_time": "2023-04-17T21:00:54.504Z"
   },
   {
    "duration": 38,
    "start_time": "2023-04-17T21:00:54.552Z"
   },
   {
    "duration": 47,
    "start_time": "2023-04-17T21:00:54.592Z"
   },
   {
    "duration": 39,
    "start_time": "2023-04-17T21:00:54.650Z"
   },
   {
    "duration": 104,
    "start_time": "2023-04-17T21:00:54.691Z"
   },
   {
    "duration": 32,
    "start_time": "2023-04-17T21:00:54.796Z"
   },
   {
    "duration": 2,
    "start_time": "2023-04-17T21:00:54.830Z"
   },
   {
    "duration": 162,
    "start_time": "2023-04-17T21:00:54.848Z"
   },
   {
    "duration": 9,
    "start_time": "2023-04-17T21:00:55.011Z"
   },
   {
    "duration": 8,
    "start_time": "2023-04-17T21:00:55.021Z"
   },
   {
    "duration": 25,
    "start_time": "2023-04-17T21:00:55.030Z"
   },
   {
    "duration": 9,
    "start_time": "2023-04-17T21:00:55.057Z"
   },
   {
    "duration": 94,
    "start_time": "2023-04-17T21:00:55.068Z"
   },
   {
    "duration": 10,
    "start_time": "2023-04-17T21:00:55.166Z"
   },
   {
    "duration": 9,
    "start_time": "2023-04-17T21:00:55.178Z"
   },
   {
    "duration": 63,
    "start_time": "2023-04-17T21:00:55.189Z"
   },
   {
    "duration": 10,
    "start_time": "2023-04-17T21:00:55.253Z"
   },
   {
    "duration": 1492,
    "start_time": "2023-04-17T21:00:55.265Z"
   },
   {
    "duration": 0,
    "start_time": "2023-04-17T21:00:56.758Z"
   },
   {
    "duration": 0,
    "start_time": "2023-04-17T21:00:56.759Z"
   },
   {
    "duration": 0,
    "start_time": "2023-04-17T21:00:56.760Z"
   },
   {
    "duration": 0,
    "start_time": "2023-04-17T21:00:56.761Z"
   },
   {
    "duration": 0,
    "start_time": "2023-04-17T21:00:56.762Z"
   },
   {
    "duration": 0,
    "start_time": "2023-04-17T21:00:56.763Z"
   },
   {
    "duration": 0,
    "start_time": "2023-04-17T21:00:56.764Z"
   },
   {
    "duration": 0,
    "start_time": "2023-04-17T21:00:56.765Z"
   },
   {
    "duration": 0,
    "start_time": "2023-04-17T21:00:56.766Z"
   },
   {
    "duration": 0,
    "start_time": "2023-04-17T21:00:56.767Z"
   },
   {
    "duration": 0,
    "start_time": "2023-04-17T21:00:56.767Z"
   },
   {
    "duration": 0,
    "start_time": "2023-04-17T21:00:56.768Z"
   },
   {
    "duration": 0,
    "start_time": "2023-04-17T21:00:56.769Z"
   },
   {
    "duration": 0,
    "start_time": "2023-04-17T21:00:56.769Z"
   },
   {
    "duration": 0,
    "start_time": "2023-04-17T21:00:56.770Z"
   },
   {
    "duration": 0,
    "start_time": "2023-04-17T21:00:56.771Z"
   },
   {
    "duration": 0,
    "start_time": "2023-04-17T21:00:56.771Z"
   },
   {
    "duration": 0,
    "start_time": "2023-04-17T21:00:56.772Z"
   },
   {
    "duration": 0,
    "start_time": "2023-04-17T21:00:56.773Z"
   },
   {
    "duration": 0,
    "start_time": "2023-04-17T21:00:56.774Z"
   },
   {
    "duration": 2335,
    "start_time": "2023-04-17T21:02:08.731Z"
   },
   {
    "duration": 0,
    "start_time": "2023-04-17T21:02:11.068Z"
   },
   {
    "duration": 0,
    "start_time": "2023-04-17T21:02:11.070Z"
   },
   {
    "duration": 2545,
    "start_time": "2023-04-17T21:03:49.249Z"
   },
   {
    "duration": 1278,
    "start_time": "2023-04-17T21:04:55.471Z"
   },
   {
    "duration": 0,
    "start_time": "2023-04-17T21:04:56.751Z"
   },
   {
    "duration": 1414,
    "start_time": "2023-04-17T21:05:23.526Z"
   },
   {
    "duration": 0,
    "start_time": "2023-04-17T21:05:24.941Z"
   },
   {
    "duration": 0,
    "start_time": "2023-04-17T21:05:24.942Z"
   },
   {
    "duration": 1244,
    "start_time": "2023-04-17T21:05:57.697Z"
   },
   {
    "duration": 0,
    "start_time": "2023-04-17T21:05:58.943Z"
   },
   {
    "duration": 2041,
    "start_time": "2023-04-17T21:06:36.304Z"
   },
   {
    "duration": 0,
    "start_time": "2023-04-17T21:06:38.347Z"
   },
   {
    "duration": 2232,
    "start_time": "2023-04-17T21:07:17.671Z"
   },
   {
    "duration": 1683,
    "start_time": "2023-04-17T21:07:19.906Z"
   },
   {
    "duration": 3,
    "start_time": "2023-04-17T21:07:21.591Z"
   },
   {
    "duration": 834,
    "start_time": "2023-04-17T21:07:21.595Z"
   },
   {
    "duration": 17,
    "start_time": "2023-04-17T21:07:22.432Z"
   },
   {
    "duration": 129,
    "start_time": "2023-04-17T21:07:22.451Z"
   },
   {
    "duration": 437,
    "start_time": "2023-04-17T21:07:22.582Z"
   },
   {
    "duration": 498,
    "start_time": "2023-04-17T21:07:23.021Z"
   },
   {
    "duration": 432,
    "start_time": "2023-04-17T21:07:23.520Z"
   },
   {
    "duration": 130,
    "start_time": "2023-04-17T21:07:23.953Z"
   },
   {
    "duration": 112,
    "start_time": "2023-04-17T21:07:24.084Z"
   },
   {
    "duration": 155,
    "start_time": "2023-04-17T21:07:24.197Z"
   },
   {
    "duration": 154,
    "start_time": "2023-04-17T21:07:24.353Z"
   },
   {
    "duration": 109,
    "start_time": "2023-04-17T21:07:24.510Z"
   },
   {
    "duration": 39,
    "start_time": "2023-04-17T21:07:24.622Z"
   },
   {
    "duration": 62,
    "start_time": "2023-04-17T21:07:24.663Z"
   },
   {
    "duration": 40,
    "start_time": "2023-04-17T21:07:24.727Z"
   },
   {
    "duration": 29,
    "start_time": "2023-04-17T21:07:24.768Z"
   },
   {
    "duration": 152,
    "start_time": "2023-04-17T21:07:24.799Z"
   },
   {
    "duration": 29,
    "start_time": "2023-04-17T21:07:24.952Z"
   },
   {
    "duration": 16,
    "start_time": "2023-04-17T21:07:24.983Z"
   },
   {
    "duration": 99,
    "start_time": "2023-04-17T21:07:25.001Z"
   },
   {
    "duration": 8,
    "start_time": "2023-04-17T21:07:25.102Z"
   },
   {
    "duration": 9,
    "start_time": "2023-04-17T21:07:25.112Z"
   },
   {
    "duration": 30,
    "start_time": "2023-04-17T21:07:25.122Z"
   },
   {
    "duration": 7,
    "start_time": "2023-04-17T21:07:25.154Z"
   },
   {
    "duration": 75,
    "start_time": "2023-04-17T21:07:25.163Z"
   },
   {
    "duration": 15,
    "start_time": "2023-04-17T21:07:25.240Z"
   },
   {
    "duration": 12,
    "start_time": "2023-04-17T21:07:25.256Z"
   },
   {
    "duration": 45,
    "start_time": "2023-04-17T21:07:25.269Z"
   },
   {
    "duration": 8,
    "start_time": "2023-04-17T21:07:25.315Z"
   },
   {
    "duration": 8,
    "start_time": "2023-04-17T21:07:34.382Z"
   },
   {
    "duration": 31,
    "start_time": "2023-04-17T21:07:34.506Z"
   },
   {
    "duration": 1689,
    "start_time": "2023-04-17T21:07:39.977Z"
   },
   {
    "duration": 3,
    "start_time": "2023-04-17T21:08:14.602Z"
   },
   {
    "duration": 5,
    "start_time": "2023-04-17T21:08:14.674Z"
   },
   {
    "duration": 31,
    "start_time": "2023-04-17T21:08:16.795Z"
   },
   {
    "duration": 25,
    "start_time": "2023-04-17T21:08:16.875Z"
   },
   {
    "duration": 9,
    "start_time": "2023-04-17T21:08:16.932Z"
   },
   {
    "duration": 142,
    "start_time": "2023-04-17T21:08:18.834Z"
   },
   {
    "duration": 9,
    "start_time": "2023-04-17T21:08:21.026Z"
   },
   {
    "duration": 30,
    "start_time": "2023-04-17T21:08:26.275Z"
   },
   {
    "duration": 120,
    "start_time": "2023-04-17T21:08:26.330Z"
   },
   {
    "duration": 32,
    "start_time": "2023-04-17T21:08:27.179Z"
   },
   {
    "duration": 279,
    "start_time": "2023-04-17T21:08:28.530Z"
   },
   {
    "duration": 2148,
    "start_time": "2023-04-17T21:09:53.917Z"
   },
   {
    "duration": 1427,
    "start_time": "2023-04-17T21:09:56.068Z"
   },
   {
    "duration": 3,
    "start_time": "2023-04-17T21:09:57.496Z"
   },
   {
    "duration": 801,
    "start_time": "2023-04-17T21:09:57.502Z"
   },
   {
    "duration": 17,
    "start_time": "2023-04-17T21:09:58.304Z"
   },
   {
    "duration": 133,
    "start_time": "2023-04-17T21:09:58.323Z"
   },
   {
    "duration": 417,
    "start_time": "2023-04-17T21:09:58.458Z"
   },
   {
    "duration": 452,
    "start_time": "2023-04-17T21:09:58.877Z"
   },
   {
    "duration": 420,
    "start_time": "2023-04-17T21:09:59.331Z"
   },
   {
    "duration": 170,
    "start_time": "2023-04-17T21:09:59.754Z"
   },
   {
    "duration": 114,
    "start_time": "2023-04-17T21:09:59.926Z"
   },
   {
    "duration": 157,
    "start_time": "2023-04-17T21:10:00.048Z"
   },
   {
    "duration": 182,
    "start_time": "2023-04-17T21:10:00.207Z"
   },
   {
    "duration": 92,
    "start_time": "2023-04-17T21:10:00.391Z"
   },
   {
    "duration": 47,
    "start_time": "2023-04-17T21:10:00.484Z"
   },
   {
    "duration": 94,
    "start_time": "2023-04-17T21:10:00.533Z"
   },
   {
    "duration": 59,
    "start_time": "2023-04-17T21:10:00.629Z"
   },
   {
    "duration": 44,
    "start_time": "2023-04-17T21:10:00.690Z"
   },
   {
    "duration": 113,
    "start_time": "2023-04-17T21:10:00.736Z"
   },
   {
    "duration": 32,
    "start_time": "2023-04-17T21:10:00.851Z"
   },
   {
    "duration": 43,
    "start_time": "2023-04-17T21:10:00.884Z"
   },
   {
    "duration": 196,
    "start_time": "2023-04-17T21:10:00.929Z"
   },
   {
    "duration": 9,
    "start_time": "2023-04-17T21:10:01.126Z"
   },
   {
    "duration": 24,
    "start_time": "2023-04-17T21:10:01.137Z"
   },
   {
    "duration": 29,
    "start_time": "2023-04-17T21:10:01.163Z"
   },
   {
    "duration": 28,
    "start_time": "2023-04-17T21:10:01.194Z"
   },
   {
    "duration": 89,
    "start_time": "2023-04-17T21:10:01.224Z"
   },
   {
    "duration": 10,
    "start_time": "2023-04-17T21:10:01.318Z"
   },
   {
    "duration": 38,
    "start_time": "2023-04-17T21:10:01.329Z"
   },
   {
    "duration": 103,
    "start_time": "2023-04-17T21:10:01.368Z"
   },
   {
    "duration": 32,
    "start_time": "2023-04-17T21:10:01.473Z"
   },
   {
    "duration": 35,
    "start_time": "2023-04-17T21:10:01.506Z"
   },
   {
    "duration": 62,
    "start_time": "2023-04-17T21:10:01.542Z"
   },
   {
    "duration": 54,
    "start_time": "2023-04-17T21:10:01.606Z"
   },
   {
    "duration": 34,
    "start_time": "2023-04-17T21:10:01.661Z"
   },
   {
    "duration": 25,
    "start_time": "2023-04-17T21:10:01.696Z"
   },
   {
    "duration": 190,
    "start_time": "2023-04-17T21:10:01.723Z"
   },
   {
    "duration": 24,
    "start_time": "2023-04-17T21:10:01.914Z"
   },
   {
    "duration": 58,
    "start_time": "2023-04-17T21:10:01.940Z"
   },
   {
    "duration": 114,
    "start_time": "2023-04-17T21:10:01.999Z"
   },
   {
    "duration": 35,
    "start_time": "2023-04-17T21:10:02.114Z"
   },
   {
    "duration": 313,
    "start_time": "2023-04-17T21:10:02.150Z"
   },
   {
    "duration": 4250,
    "start_time": "2023-04-17T21:10:02.465Z"
   },
   {
    "duration": 3,
    "start_time": "2023-04-17T21:10:06.716Z"
   },
   {
    "duration": 15,
    "start_time": "2023-04-17T21:10:06.720Z"
   },
   {
    "duration": 21,
    "start_time": "2023-04-17T21:10:06.737Z"
   },
   {
    "duration": 20,
    "start_time": "2023-04-17T21:10:06.760Z"
   },
   {
    "duration": 59,
    "start_time": "2023-04-17T21:10:06.781Z"
   },
   {
    "duration": 23,
    "start_time": "2023-04-17T21:10:06.841Z"
   },
   {
    "duration": 464,
    "start_time": "2023-04-17T21:10:06.865Z"
   },
   {
    "duration": 240,
    "start_time": "2023-04-17T21:10:07.331Z"
   },
   {
    "duration": 129,
    "start_time": "2023-04-17T21:10:07.572Z"
   },
   {
    "duration": 225,
    "start_time": "2023-04-17T21:10:14.388Z"
   },
   {
    "duration": 137,
    "start_time": "2023-04-17T21:10:50.380Z"
   },
   {
    "duration": 21080,
    "start_time": "2023-04-17T21:11:04.970Z"
   },
   {
    "duration": 95370,
    "start_time": "2023-04-17T21:12:37.182Z"
   },
   {
    "duration": 2,
    "start_time": "2023-04-17T21:14:26.191Z"
   },
   {
    "duration": 2,
    "start_time": "2023-04-17T21:14:26.259Z"
   },
   {
    "duration": 119,
    "start_time": "2023-04-17T21:14:29.678Z"
   },
   {
    "duration": 114,
    "start_time": "2023-04-17T21:15:06.635Z"
   },
   {
    "duration": 5025,
    "start_time": "2023-04-17T21:15:17.647Z"
   },
   {
    "duration": 87,
    "start_time": "2023-04-17T21:16:24.345Z"
   },
   {
    "duration": 233249,
    "start_time": "2023-04-17T21:16:39.337Z"
   },
   {
    "duration": 3,
    "start_time": "2023-04-17T21:20:32.587Z"
   },
   {
    "duration": 2,
    "start_time": "2023-04-17T21:21:15.594Z"
   },
   {
    "duration": 26,
    "start_time": "2023-04-17T21:21:15.723Z"
   },
   {
    "duration": 71,
    "start_time": "2023-04-17T21:21:15.788Z"
   },
   {
    "duration": 83,
    "start_time": "2023-04-17T21:21:53.044Z"
   },
   {
    "duration": 90,
    "start_time": "2023-04-17T21:23:55.046Z"
   },
   {
    "duration": 44,
    "start_time": "2023-04-17T21:27:08.256Z"
   },
   {
    "duration": 351344,
    "start_time": "2023-04-17T21:27:24.462Z"
   },
   {
    "duration": 519,
    "start_time": "2023-04-17T21:33:45.106Z"
   },
   {
    "duration": 14,
    "start_time": "2023-04-17T21:33:48.045Z"
   },
   {
    "duration": 13,
    "start_time": "2023-04-17T21:33:48.103Z"
   },
   {
    "duration": 5,
    "start_time": "2023-04-17T21:33:51.430Z"
   },
   {
    "duration": 1017858,
    "start_time": "2023-04-17T21:34:07.606Z"
   },
   {
    "duration": 0,
    "start_time": "2023-04-17T21:51:05.466Z"
   },
   {
    "duration": 0,
    "start_time": "2023-04-17T21:51:05.467Z"
   },
   {
    "duration": 0,
    "start_time": "2023-04-17T21:51:05.468Z"
   },
   {
    "duration": 0,
    "start_time": "2023-04-17T21:51:05.469Z"
   },
   {
    "duration": 0,
    "start_time": "2023-04-17T21:51:05.470Z"
   },
   {
    "duration": 0,
    "start_time": "2023-04-17T21:51:05.471Z"
   },
   {
    "duration": 0,
    "start_time": "2023-04-17T21:51:05.472Z"
   },
   {
    "duration": 0,
    "start_time": "2023-04-17T21:51:05.473Z"
   },
   {
    "duration": 334952,
    "start_time": "2023-04-17T21:51:20.706Z"
   },
   {
    "duration": 0,
    "start_time": "2023-04-17T21:56:55.659Z"
   },
   {
    "duration": 0,
    "start_time": "2023-04-17T21:56:55.660Z"
   },
   {
    "duration": 3,
    "start_time": "2023-04-17T21:57:06.185Z"
   },
   {
    "duration": 3609,
    "start_time": "2023-04-18T10:18:18.661Z"
   },
   {
    "duration": 2108,
    "start_time": "2023-04-18T10:18:22.274Z"
   },
   {
    "duration": 3,
    "start_time": "2023-04-18T10:18:24.385Z"
   },
   {
    "duration": 1487,
    "start_time": "2023-04-18T10:18:24.390Z"
   },
   {
    "duration": 31,
    "start_time": "2023-04-18T10:18:25.880Z"
   },
   {
    "duration": 179,
    "start_time": "2023-04-18T10:18:25.914Z"
   },
   {
    "duration": 626,
    "start_time": "2023-04-18T10:18:26.095Z"
   },
   {
    "duration": 677,
    "start_time": "2023-04-18T10:18:26.728Z"
   },
   {
    "duration": 600,
    "start_time": "2023-04-18T10:18:27.407Z"
   },
   {
    "duration": 179,
    "start_time": "2023-04-18T10:18:28.010Z"
   },
   {
    "duration": 162,
    "start_time": "2023-04-18T10:18:28.191Z"
   },
   {
    "duration": 201,
    "start_time": "2023-04-18T10:18:28.357Z"
   },
   {
    "duration": 176,
    "start_time": "2023-04-18T10:18:28.561Z"
   },
   {
    "duration": 116,
    "start_time": "2023-04-18T10:18:28.742Z"
   },
   {
    "duration": 32,
    "start_time": "2023-04-18T10:18:28.860Z"
   },
   {
    "duration": 61,
    "start_time": "2023-04-18T10:18:28.894Z"
   },
   {
    "duration": 50,
    "start_time": "2023-04-18T10:18:28.957Z"
   },
   {
    "duration": 35,
    "start_time": "2023-04-18T10:18:29.009Z"
   },
   {
    "duration": 131,
    "start_time": "2023-04-18T10:18:50.030Z"
   },
   {
    "duration": 41,
    "start_time": "2023-04-18T10:18:52.736Z"
   },
   {
    "duration": 3,
    "start_time": "2023-04-18T10:18:57.621Z"
   },
   {
    "duration": 101,
    "start_time": "2023-04-18T10:18:58.367Z"
   },
   {
    "duration": 9,
    "start_time": "2023-04-18T10:19:05.475Z"
   },
   {
    "duration": 10,
    "start_time": "2023-04-18T10:19:06.856Z"
   },
   {
    "duration": 10,
    "start_time": "2023-04-18T10:19:07.513Z"
   },
   {
    "duration": 9,
    "start_time": "2023-04-18T10:19:08.225Z"
   },
   {
    "duration": 182,
    "start_time": "2023-04-18T10:19:09.656Z"
   },
   {
    "duration": 13,
    "start_time": "2023-04-18T10:19:10.257Z"
   },
   {
    "duration": 9,
    "start_time": "2023-04-18T10:19:10.985Z"
   },
   {
    "duration": 47,
    "start_time": "2023-04-18T10:19:11.825Z"
   },
   {
    "duration": 10,
    "start_time": "2023-04-18T10:19:24.079Z"
   },
   {
    "duration": 3260,
    "start_time": "2023-04-18T10:19:47.329Z"
   },
   {
    "duration": 2296,
    "start_time": "2023-04-18T10:24:38.642Z"
   },
   {
    "duration": 11,
    "start_time": "2023-04-18T10:30:16.863Z"
   },
   {
    "duration": 7,
    "start_time": "2023-04-18T10:31:10.765Z"
   },
   {
    "duration": 7,
    "start_time": "2023-04-18T10:31:26.266Z"
   },
   {
    "duration": 12,
    "start_time": "2023-04-18T10:31:45.758Z"
   },
   {
    "duration": 97,
    "start_time": "2023-04-18T10:32:03.117Z"
   },
   {
    "duration": 2011,
    "start_time": "2023-04-18T10:32:09.360Z"
   },
   {
    "duration": 1763,
    "start_time": "2023-04-18T10:32:46.934Z"
   },
   {
    "duration": 1432,
    "start_time": "2023-04-18T10:33:21.555Z"
   },
   {
    "duration": 61,
    "start_time": "2023-04-18T10:38:44.622Z"
   },
   {
    "duration": 2609,
    "start_time": "2023-04-18T10:38:59.136Z"
   },
   {
    "duration": 1749,
    "start_time": "2023-04-18T10:39:01.748Z"
   },
   {
    "duration": 4,
    "start_time": "2023-04-18T10:39:03.499Z"
   },
   {
    "duration": 1133,
    "start_time": "2023-04-18T10:39:03.504Z"
   },
   {
    "duration": 25,
    "start_time": "2023-04-18T10:39:04.642Z"
   },
   {
    "duration": 151,
    "start_time": "2023-04-18T10:39:04.669Z"
   },
   {
    "duration": 613,
    "start_time": "2023-04-18T10:39:04.822Z"
   },
   {
    "duration": 717,
    "start_time": "2023-04-18T10:39:05.437Z"
   },
   {
    "duration": 616,
    "start_time": "2023-04-18T10:39:06.156Z"
   },
   {
    "duration": 179,
    "start_time": "2023-04-18T10:39:06.774Z"
   },
   {
    "duration": 137,
    "start_time": "2023-04-18T10:39:06.955Z"
   },
   {
    "duration": 216,
    "start_time": "2023-04-18T10:39:07.095Z"
   },
   {
    "duration": 196,
    "start_time": "2023-04-18T10:39:07.314Z"
   },
   {
    "duration": 112,
    "start_time": "2023-04-18T10:39:07.513Z"
   },
   {
    "duration": 62,
    "start_time": "2023-04-18T10:39:07.628Z"
   },
   {
    "duration": 68,
    "start_time": "2023-04-18T10:39:07.691Z"
   },
   {
    "duration": 57,
    "start_time": "2023-04-18T10:39:07.761Z"
   },
   {
    "duration": 39,
    "start_time": "2023-04-18T10:39:07.820Z"
   },
   {
    "duration": 214,
    "start_time": "2023-04-18T10:39:07.862Z"
   },
   {
    "duration": 33,
    "start_time": "2023-04-18T10:39:08.079Z"
   },
   {
    "duration": 51,
    "start_time": "2023-04-18T10:39:08.114Z"
   },
   {
    "duration": 142,
    "start_time": "2023-04-18T10:39:08.168Z"
   },
   {
    "duration": 9,
    "start_time": "2023-04-18T10:39:08.312Z"
   },
   {
    "duration": 45,
    "start_time": "2023-04-18T10:39:08.323Z"
   },
   {
    "duration": 25,
    "start_time": "2023-04-18T10:39:08.370Z"
   },
   {
    "duration": 50,
    "start_time": "2023-04-18T10:39:08.397Z"
   },
   {
    "duration": 112,
    "start_time": "2023-04-18T10:39:08.455Z"
   },
   {
    "duration": 15,
    "start_time": "2023-04-18T10:39:08.569Z"
   },
   {
    "duration": 13,
    "start_time": "2023-04-18T10:39:08.586Z"
   },
   {
    "duration": 93,
    "start_time": "2023-04-18T10:39:08.601Z"
   },
   {
    "duration": 12,
    "start_time": "2023-04-18T10:39:08.697Z"
   },
   {
    "duration": 3,
    "start_time": "2023-04-18T10:39:08.712Z"
   },
   {
    "duration": 2939,
    "start_time": "2023-04-18T10:39:43.652Z"
   },
   {
    "duration": 6143,
    "start_time": "2023-04-18T10:40:18.840Z"
   },
   {
    "duration": 3,
    "start_time": "2023-04-18T10:41:41.465Z"
   },
   {
    "duration": 8,
    "start_time": "2023-04-18T10:41:53.567Z"
   },
   {
    "duration": 181,
    "start_time": "2023-04-18T10:42:01.417Z"
   },
   {
    "duration": 221,
    "start_time": "2023-04-18T10:42:27.821Z"
   },
   {
    "duration": 1511,
    "start_time": "2023-04-18T10:43:30.209Z"
   },
   {
    "duration": 2910,
    "start_time": "2023-04-18T10:52:10.563Z"
   },
   {
    "duration": 9,
    "start_time": "2023-04-18T10:52:13.476Z"
   },
   {
    "duration": 21,
    "start_time": "2023-04-18T10:52:13.488Z"
   },
   {
    "duration": 1240,
    "start_time": "2023-04-18T10:52:13.513Z"
   },
   {
    "duration": 31,
    "start_time": "2023-04-18T10:52:14.764Z"
   },
   {
    "duration": 289,
    "start_time": "2023-04-18T10:52:14.798Z"
   },
   {
    "duration": 715,
    "start_time": "2023-04-18T10:52:15.090Z"
   },
   {
    "duration": 777,
    "start_time": "2023-04-18T10:52:15.807Z"
   },
   {
    "duration": 698,
    "start_time": "2023-04-18T10:52:16.588Z"
   },
   {
    "duration": 217,
    "start_time": "2023-04-18T10:52:17.292Z"
   },
   {
    "duration": 146,
    "start_time": "2023-04-18T10:52:17.511Z"
   },
   {
    "duration": 236,
    "start_time": "2023-04-18T10:52:17.659Z"
   },
   {
    "duration": 225,
    "start_time": "2023-04-18T10:52:17.897Z"
   },
   {
    "duration": 155,
    "start_time": "2023-04-18T10:52:18.125Z"
   },
   {
    "duration": 56,
    "start_time": "2023-04-18T10:52:18.282Z"
   },
   {
    "duration": 108,
    "start_time": "2023-04-18T10:52:18.345Z"
   },
   {
    "duration": 90,
    "start_time": "2023-04-18T10:52:18.456Z"
   },
   {
    "duration": 67,
    "start_time": "2023-04-18T10:52:18.549Z"
   },
   {
    "duration": 127,
    "start_time": "2023-04-18T10:52:18.620Z"
   },
   {
    "duration": 58,
    "start_time": "2023-04-18T10:52:18.750Z"
   },
   {
    "duration": 3,
    "start_time": "2023-04-18T10:52:18.810Z"
   },
   {
    "duration": 143,
    "start_time": "2023-04-18T10:52:18.815Z"
   },
   {
    "duration": 25,
    "start_time": "2023-04-18T10:52:18.960Z"
   },
   {
    "duration": 15,
    "start_time": "2023-04-18T10:52:18.988Z"
   },
   {
    "duration": 10,
    "start_time": "2023-04-18T10:52:19.005Z"
   },
   {
    "duration": 33,
    "start_time": "2023-04-18T10:52:19.017Z"
   },
   {
    "duration": 72,
    "start_time": "2023-04-18T10:52:19.052Z"
   },
   {
    "duration": 22,
    "start_time": "2023-04-18T10:52:19.128Z"
   },
   {
    "duration": 52,
    "start_time": "2023-04-18T10:52:19.151Z"
   },
   {
    "duration": 66,
    "start_time": "2023-04-18T10:52:19.206Z"
   },
   {
    "duration": 11,
    "start_time": "2023-04-18T10:52:19.274Z"
   },
   {
    "duration": 10,
    "start_time": "2023-04-18T10:52:19.287Z"
   },
   {
    "duration": 33,
    "start_time": "2023-04-18T10:52:19.299Z"
   },
   {
    "duration": 145,
    "start_time": "2023-04-18T10:52:19.335Z"
   },
   {
    "duration": 35,
    "start_time": "2023-04-18T10:52:19.485Z"
   },
   {
    "duration": 23,
    "start_time": "2023-04-18T10:52:19.523Z"
   },
   {
    "duration": 336,
    "start_time": "2023-04-18T10:52:19.549Z"
   },
   {
    "duration": 15,
    "start_time": "2023-04-18T10:52:19.887Z"
   },
   {
    "duration": 54,
    "start_time": "2023-04-18T10:52:19.905Z"
   },
   {
    "duration": 192,
    "start_time": "2023-04-18T10:52:19.961Z"
   },
   {
    "duration": 51,
    "start_time": "2023-04-18T10:52:20.156Z"
   },
   {
    "duration": 485,
    "start_time": "2023-04-18T10:52:20.209Z"
   },
   {
    "duration": 5760,
    "start_time": "2023-04-18T10:52:20.697Z"
   },
   {
    "duration": 3,
    "start_time": "2023-04-18T10:52:26.460Z"
   },
   {
    "duration": 6,
    "start_time": "2023-04-18T10:52:26.466Z"
   },
   {
    "duration": 28,
    "start_time": "2023-04-18T10:52:26.474Z"
   },
   {
    "duration": 8,
    "start_time": "2023-04-18T10:52:26.504Z"
   },
   {
    "duration": 68,
    "start_time": "2023-04-18T10:52:26.514Z"
   },
   {
    "duration": 38,
    "start_time": "2023-04-18T10:52:26.595Z"
   },
   {
    "duration": 1296,
    "start_time": "2023-04-18T10:52:26.637Z"
   },
   {
    "duration": 429,
    "start_time": "2023-04-18T10:52:27.934Z"
   },
   {
    "duration": 183,
    "start_time": "2023-04-18T10:52:28.365Z"
   },
   {
    "duration": 127,
    "start_time": "2023-04-18T10:53:06.117Z"
   },
   {
    "duration": 101,
    "start_time": "2023-04-18T10:53:23.652Z"
   },
   {
    "duration": 15,
    "start_time": "2023-04-18T10:55:02.815Z"
   },
   {
    "duration": 110,
    "start_time": "2023-04-18T10:55:23.621Z"
   },
   {
    "duration": 2459,
    "start_time": "2023-04-18T10:55:47.737Z"
   },
   {
    "duration": 1724,
    "start_time": "2023-04-18T10:55:50.199Z"
   },
   {
    "duration": 0,
    "start_time": "2023-04-18T10:55:51.927Z"
   },
   {
    "duration": 0,
    "start_time": "2023-04-18T10:55:51.928Z"
   },
   {
    "duration": 0,
    "start_time": "2023-04-18T10:55:51.929Z"
   },
   {
    "duration": 0,
    "start_time": "2023-04-18T10:55:51.930Z"
   },
   {
    "duration": 0,
    "start_time": "2023-04-18T10:55:51.950Z"
   },
   {
    "duration": 0,
    "start_time": "2023-04-18T10:55:51.952Z"
   },
   {
    "duration": 0,
    "start_time": "2023-04-18T10:55:51.953Z"
   },
   {
    "duration": 0,
    "start_time": "2023-04-18T10:55:51.954Z"
   },
   {
    "duration": 0,
    "start_time": "2023-04-18T10:55:51.954Z"
   },
   {
    "duration": 0,
    "start_time": "2023-04-18T10:55:51.955Z"
   },
   {
    "duration": 0,
    "start_time": "2023-04-18T10:55:51.956Z"
   },
   {
    "duration": 0,
    "start_time": "2023-04-18T10:55:51.958Z"
   },
   {
    "duration": 0,
    "start_time": "2023-04-18T10:55:51.959Z"
   },
   {
    "duration": 0,
    "start_time": "2023-04-18T10:55:51.960Z"
   },
   {
    "duration": 0,
    "start_time": "2023-04-18T10:55:51.961Z"
   },
   {
    "duration": 0,
    "start_time": "2023-04-18T10:55:51.962Z"
   },
   {
    "duration": 0,
    "start_time": "2023-04-18T10:55:51.964Z"
   },
   {
    "duration": 0,
    "start_time": "2023-04-18T10:55:51.965Z"
   },
   {
    "duration": 0,
    "start_time": "2023-04-18T10:55:51.966Z"
   },
   {
    "duration": 0,
    "start_time": "2023-04-18T10:55:51.967Z"
   },
   {
    "duration": 0,
    "start_time": "2023-04-18T10:55:51.968Z"
   },
   {
    "duration": 0,
    "start_time": "2023-04-18T10:55:51.969Z"
   },
   {
    "duration": 1,
    "start_time": "2023-04-18T10:55:51.970Z"
   },
   {
    "duration": 0,
    "start_time": "2023-04-18T10:55:51.972Z"
   },
   {
    "duration": 0,
    "start_time": "2023-04-18T10:55:51.973Z"
   },
   {
    "duration": 0,
    "start_time": "2023-04-18T10:55:51.974Z"
   },
   {
    "duration": 0,
    "start_time": "2023-04-18T10:55:51.975Z"
   },
   {
    "duration": 0,
    "start_time": "2023-04-18T10:55:51.977Z"
   },
   {
    "duration": 0,
    "start_time": "2023-04-18T10:55:51.977Z"
   },
   {
    "duration": 0,
    "start_time": "2023-04-18T10:55:51.978Z"
   },
   {
    "duration": 0,
    "start_time": "2023-04-18T10:55:51.979Z"
   },
   {
    "duration": 0,
    "start_time": "2023-04-18T10:55:51.980Z"
   },
   {
    "duration": 0,
    "start_time": "2023-04-18T10:55:51.981Z"
   },
   {
    "duration": 0,
    "start_time": "2023-04-18T10:55:51.983Z"
   },
   {
    "duration": 0,
    "start_time": "2023-04-18T10:55:51.984Z"
   },
   {
    "duration": 0,
    "start_time": "2023-04-18T10:55:51.985Z"
   },
   {
    "duration": 0,
    "start_time": "2023-04-18T10:55:51.986Z"
   },
   {
    "duration": 0,
    "start_time": "2023-04-18T10:55:52.050Z"
   },
   {
    "duration": 0,
    "start_time": "2023-04-18T10:55:52.052Z"
   },
   {
    "duration": 0,
    "start_time": "2023-04-18T10:55:52.054Z"
   },
   {
    "duration": 0,
    "start_time": "2023-04-18T10:55:52.056Z"
   },
   {
    "duration": 0,
    "start_time": "2023-04-18T10:55:52.057Z"
   },
   {
    "duration": 0,
    "start_time": "2023-04-18T10:55:52.059Z"
   },
   {
    "duration": 0,
    "start_time": "2023-04-18T10:55:52.060Z"
   },
   {
    "duration": 0,
    "start_time": "2023-04-18T10:55:52.063Z"
   },
   {
    "duration": 0,
    "start_time": "2023-04-18T10:55:52.064Z"
   },
   {
    "duration": 0,
    "start_time": "2023-04-18T10:55:52.066Z"
   },
   {
    "duration": 0,
    "start_time": "2023-04-18T10:55:52.067Z"
   },
   {
    "duration": 0,
    "start_time": "2023-04-18T10:55:52.069Z"
   },
   {
    "duration": 0,
    "start_time": "2023-04-18T10:55:52.071Z"
   },
   {
    "duration": 0,
    "start_time": "2023-04-18T10:55:52.072Z"
   },
   {
    "duration": 23,
    "start_time": "2023-04-18T10:57:01.533Z"
   },
   {
    "duration": 22,
    "start_time": "2023-04-18T10:57:17.822Z"
   },
   {
    "duration": 22,
    "start_time": "2023-04-18T10:57:37.421Z"
   },
   {
    "duration": 22,
    "start_time": "2023-04-18T10:58:22.316Z"
   },
   {
    "duration": 2783,
    "start_time": "2023-04-18T11:01:16.335Z"
   },
   {
    "duration": 20,
    "start_time": "2023-04-18T11:01:19.120Z"
   },
   {
    "duration": 0,
    "start_time": "2023-04-18T11:01:19.149Z"
   },
   {
    "duration": 0,
    "start_time": "2023-04-18T11:01:19.152Z"
   },
   {
    "duration": 0,
    "start_time": "2023-04-18T11:01:19.155Z"
   },
   {
    "duration": 0,
    "start_time": "2023-04-18T11:01:19.156Z"
   },
   {
    "duration": 0,
    "start_time": "2023-04-18T11:01:19.157Z"
   },
   {
    "duration": 0,
    "start_time": "2023-04-18T11:01:19.158Z"
   },
   {
    "duration": 0,
    "start_time": "2023-04-18T11:01:19.159Z"
   },
   {
    "duration": 0,
    "start_time": "2023-04-18T11:01:19.160Z"
   },
   {
    "duration": 0,
    "start_time": "2023-04-18T11:01:19.161Z"
   },
   {
    "duration": 0,
    "start_time": "2023-04-18T11:01:19.162Z"
   },
   {
    "duration": 0,
    "start_time": "2023-04-18T11:01:19.163Z"
   },
   {
    "duration": 0,
    "start_time": "2023-04-18T11:01:19.164Z"
   },
   {
    "duration": 0,
    "start_time": "2023-04-18T11:01:19.165Z"
   },
   {
    "duration": 0,
    "start_time": "2023-04-18T11:01:19.166Z"
   },
   {
    "duration": 0,
    "start_time": "2023-04-18T11:01:19.167Z"
   },
   {
    "duration": 0,
    "start_time": "2023-04-18T11:01:19.168Z"
   },
   {
    "duration": 0,
    "start_time": "2023-04-18T11:01:19.169Z"
   },
   {
    "duration": 0,
    "start_time": "2023-04-18T11:01:19.171Z"
   },
   {
    "duration": 0,
    "start_time": "2023-04-18T11:01:19.173Z"
   },
   {
    "duration": 0,
    "start_time": "2023-04-18T11:01:19.178Z"
   },
   {
    "duration": 0,
    "start_time": "2023-04-18T11:01:19.179Z"
   },
   {
    "duration": 0,
    "start_time": "2023-04-18T11:01:19.181Z"
   },
   {
    "duration": 0,
    "start_time": "2023-04-18T11:01:19.182Z"
   },
   {
    "duration": 0,
    "start_time": "2023-04-18T11:01:19.183Z"
   },
   {
    "duration": 0,
    "start_time": "2023-04-18T11:01:19.184Z"
   },
   {
    "duration": 0,
    "start_time": "2023-04-18T11:01:19.186Z"
   },
   {
    "duration": 0,
    "start_time": "2023-04-18T11:01:19.187Z"
   },
   {
    "duration": 0,
    "start_time": "2023-04-18T11:01:19.188Z"
   },
   {
    "duration": 0,
    "start_time": "2023-04-18T11:01:19.189Z"
   },
   {
    "duration": 0,
    "start_time": "2023-04-18T11:01:19.190Z"
   },
   {
    "duration": 0,
    "start_time": "2023-04-18T11:01:19.192Z"
   },
   {
    "duration": 0,
    "start_time": "2023-04-18T11:01:19.193Z"
   },
   {
    "duration": 0,
    "start_time": "2023-04-18T11:01:19.194Z"
   },
   {
    "duration": 0,
    "start_time": "2023-04-18T11:01:19.195Z"
   },
   {
    "duration": 0,
    "start_time": "2023-04-18T11:01:19.241Z"
   },
   {
    "duration": 0,
    "start_time": "2023-04-18T11:01:19.245Z"
   },
   {
    "duration": 0,
    "start_time": "2023-04-18T11:01:19.247Z"
   },
   {
    "duration": 0,
    "start_time": "2023-04-18T11:01:19.248Z"
   },
   {
    "duration": 0,
    "start_time": "2023-04-18T11:01:19.249Z"
   },
   {
    "duration": 0,
    "start_time": "2023-04-18T11:01:19.251Z"
   },
   {
    "duration": 0,
    "start_time": "2023-04-18T11:01:19.252Z"
   },
   {
    "duration": 0,
    "start_time": "2023-04-18T11:01:19.254Z"
   },
   {
    "duration": 0,
    "start_time": "2023-04-18T11:01:19.255Z"
   },
   {
    "duration": 0,
    "start_time": "2023-04-18T11:01:19.257Z"
   },
   {
    "duration": 0,
    "start_time": "2023-04-18T11:01:19.259Z"
   },
   {
    "duration": 0,
    "start_time": "2023-04-18T11:01:19.260Z"
   },
   {
    "duration": 0,
    "start_time": "2023-04-18T11:01:19.262Z"
   },
   {
    "duration": 0,
    "start_time": "2023-04-18T11:01:19.263Z"
   },
   {
    "duration": 0,
    "start_time": "2023-04-18T11:01:19.264Z"
   },
   {
    "duration": 0,
    "start_time": "2023-04-18T11:01:19.266Z"
   },
   {
    "duration": 71,
    "start_time": "2023-04-18T11:02:27.432Z"
   },
   {
    "duration": 2604,
    "start_time": "2023-04-18T11:03:40.223Z"
   },
   {
    "duration": 1781,
    "start_time": "2023-04-18T11:03:42.831Z"
   },
   {
    "duration": 4,
    "start_time": "2023-04-18T11:03:44.614Z"
   },
   {
    "duration": 1098,
    "start_time": "2023-04-18T11:03:44.620Z"
   },
   {
    "duration": 32,
    "start_time": "2023-04-18T11:03:45.721Z"
   },
   {
    "duration": 143,
    "start_time": "2023-04-18T11:03:45.755Z"
   },
   {
    "duration": 578,
    "start_time": "2023-04-18T11:03:45.900Z"
   },
   {
    "duration": 679,
    "start_time": "2023-04-18T11:03:46.479Z"
   },
   {
    "duration": 575,
    "start_time": "2023-04-18T11:03:47.161Z"
   },
   {
    "duration": 183,
    "start_time": "2023-04-18T11:03:47.739Z"
   },
   {
    "duration": 170,
    "start_time": "2023-04-18T11:03:47.926Z"
   },
   {
    "duration": 249,
    "start_time": "2023-04-18T11:03:48.098Z"
   },
   {
    "duration": 194,
    "start_time": "2023-04-18T11:03:48.349Z"
   },
   {
    "duration": 103,
    "start_time": "2023-04-18T11:03:48.557Z"
   },
   {
    "duration": 33,
    "start_time": "2023-04-18T11:03:48.662Z"
   },
   {
    "duration": 50,
    "start_time": "2023-04-18T11:03:48.697Z"
   },
   {
    "duration": 136,
    "start_time": "2023-04-18T11:03:48.755Z"
   },
   {
    "duration": 32,
    "start_time": "2023-04-18T11:03:48.893Z"
   },
   {
    "duration": 117,
    "start_time": "2023-04-18T11:03:48.941Z"
   },
   {
    "duration": 31,
    "start_time": "2023-04-18T11:03:49.061Z"
   },
   {
    "duration": 11,
    "start_time": "2023-04-18T11:03:49.094Z"
   },
   {
    "duration": 129,
    "start_time": "2023-04-18T11:03:49.111Z"
   },
   {
    "duration": 17,
    "start_time": "2023-04-18T11:03:49.246Z"
   },
   {
    "duration": 11,
    "start_time": "2023-04-18T11:03:49.266Z"
   },
   {
    "duration": 13,
    "start_time": "2023-04-18T11:03:49.279Z"
   },
   {
    "duration": 9,
    "start_time": "2023-04-18T11:03:49.294Z"
   },
   {
    "duration": 113,
    "start_time": "2023-04-18T11:03:49.305Z"
   },
   {
    "duration": 26,
    "start_time": "2023-04-18T11:03:49.421Z"
   },
   {
    "duration": 23,
    "start_time": "2023-04-18T11:03:49.450Z"
   },
   {
    "duration": 58,
    "start_time": "2023-04-18T11:03:49.476Z"
   },
   {
    "duration": 23,
    "start_time": "2023-04-18T11:03:49.536Z"
   },
   {
    "duration": 14,
    "start_time": "2023-04-18T11:03:49.561Z"
   },
   {
    "duration": 37,
    "start_time": "2023-04-18T11:03:49.577Z"
   },
   {
    "duration": 60,
    "start_time": "2023-04-18T11:03:49.615Z"
   },
   {
    "duration": 34,
    "start_time": "2023-04-18T11:03:49.677Z"
   },
   {
    "duration": 44,
    "start_time": "2023-04-18T11:03:49.713Z"
   },
   {
    "duration": 200,
    "start_time": "2023-04-18T11:03:49.760Z"
   },
   {
    "duration": 26,
    "start_time": "2023-04-18T11:03:49.962Z"
   },
   {
    "duration": 36,
    "start_time": "2023-04-18T11:03:49.990Z"
   },
   {
    "duration": 152,
    "start_time": "2023-04-18T11:03:50.044Z"
   },
   {
    "duration": 56,
    "start_time": "2023-04-18T11:03:50.200Z"
   },
   {
    "duration": 329,
    "start_time": "2023-04-18T11:03:50.258Z"
   },
   {
    "duration": 4943,
    "start_time": "2023-04-18T11:03:50.589Z"
   },
   {
    "duration": 3,
    "start_time": "2023-04-18T11:03:55.534Z"
   },
   {
    "duration": 36,
    "start_time": "2023-04-18T11:03:55.546Z"
   },
   {
    "duration": 42,
    "start_time": "2023-04-18T11:03:55.584Z"
   },
   {
    "duration": 36,
    "start_time": "2023-04-18T11:03:55.629Z"
   },
   {
    "duration": 70,
    "start_time": "2023-04-18T11:03:55.668Z"
   },
   {
    "duration": 37,
    "start_time": "2023-04-18T11:03:55.741Z"
   },
   {
    "duration": 1247,
    "start_time": "2023-04-18T11:03:55.782Z"
   },
   {
    "duration": 461,
    "start_time": "2023-04-18T11:03:57.031Z"
   },
   {
    "duration": 189,
    "start_time": "2023-04-18T11:03:57.495Z"
   },
   {
    "duration": 215,
    "start_time": "2023-04-18T11:04:04.211Z"
   },
   {
    "duration": 52,
    "start_time": "2023-04-18T11:05:13.467Z"
   },
   {
    "duration": 200,
    "start_time": "2023-04-18T11:05:45.690Z"
   },
   {
    "duration": 161,
    "start_time": "2023-04-18T11:06:16.624Z"
   },
   {
    "duration": 92,
    "start_time": "2023-04-18T11:13:09.311Z"
   },
   {
    "duration": 150746,
    "start_time": "2023-04-18T11:22:24.112Z"
   },
   {
    "duration": 0,
    "start_time": "2023-04-18T11:24:54.862Z"
   },
   {
    "duration": 49494,
    "start_time": "2023-04-18T11:25:05.567Z"
   },
   {
    "duration": 2657,
    "start_time": "2023-04-18T11:26:45.029Z"
   },
   {
    "duration": 1828,
    "start_time": "2023-04-18T11:26:47.688Z"
   },
   {
    "duration": 4,
    "start_time": "2023-04-18T11:26:49.518Z"
   },
   {
    "duration": 1063,
    "start_time": "2023-04-18T11:26:49.525Z"
   },
   {
    "duration": 19,
    "start_time": "2023-04-18T11:26:50.590Z"
   },
   {
    "duration": 153,
    "start_time": "2023-04-18T11:26:50.611Z"
   },
   {
    "duration": 605,
    "start_time": "2023-04-18T11:26:50.766Z"
   },
   {
    "duration": 624,
    "start_time": "2023-04-18T11:26:51.373Z"
   },
   {
    "duration": 561,
    "start_time": "2023-04-18T11:26:51.999Z"
   },
   {
    "duration": 162,
    "start_time": "2023-04-18T11:26:52.563Z"
   },
   {
    "duration": 151,
    "start_time": "2023-04-18T11:26:52.727Z"
   },
   {
    "duration": 205,
    "start_time": "2023-04-18T11:26:52.880Z"
   },
   {
    "duration": 193,
    "start_time": "2023-04-18T11:26:53.087Z"
   },
   {
    "duration": 108,
    "start_time": "2023-04-18T11:26:53.282Z"
   },
   {
    "duration": 32,
    "start_time": "2023-04-18T11:26:53.392Z"
   },
   {
    "duration": 51,
    "start_time": "2023-04-18T11:26:53.441Z"
   },
   {
    "duration": 41,
    "start_time": "2023-04-18T11:26:53.494Z"
   },
   {
    "duration": 40,
    "start_time": "2023-04-18T11:26:53.537Z"
   },
   {
    "duration": 109,
    "start_time": "2023-04-18T11:26:53.579Z"
   },
   {
    "duration": 32,
    "start_time": "2023-04-18T11:26:53.690Z"
   },
   {
    "duration": 16,
    "start_time": "2023-04-18T11:26:53.724Z"
   },
   {
    "duration": 218,
    "start_time": "2023-04-18T11:26:53.742Z"
   },
   {
    "duration": 11,
    "start_time": "2023-04-18T11:26:53.962Z"
   },
   {
    "duration": 16,
    "start_time": "2023-04-18T11:26:53.975Z"
   },
   {
    "duration": 8,
    "start_time": "2023-04-18T11:26:53.993Z"
   },
   {
    "duration": 40,
    "start_time": "2023-04-18T11:26:54.003Z"
   },
   {
    "duration": 86,
    "start_time": "2023-04-18T11:26:54.053Z"
   },
   {
    "duration": 17,
    "start_time": "2023-04-18T11:26:54.143Z"
   },
   {
    "duration": 20,
    "start_time": "2023-04-18T11:26:54.162Z"
   },
   {
    "duration": 48,
    "start_time": "2023-04-18T11:26:54.185Z"
   },
   {
    "duration": 12,
    "start_time": "2023-04-18T11:26:54.246Z"
   },
   {
    "duration": 6,
    "start_time": "2023-04-18T11:26:54.260Z"
   },
   {
    "duration": 21,
    "start_time": "2023-04-18T11:26:54.268Z"
   },
   {
    "duration": 41,
    "start_time": "2023-04-18T11:26:54.291Z"
   },
   {
    "duration": 36,
    "start_time": "2023-04-18T11:26:54.341Z"
   },
   {
    "duration": 25,
    "start_time": "2023-04-18T11:26:54.379Z"
   },
   {
    "duration": 210,
    "start_time": "2023-04-18T11:26:54.406Z"
   },
   {
    "duration": 43,
    "start_time": "2023-04-18T11:26:54.618Z"
   },
   {
    "duration": 47,
    "start_time": "2023-04-18T11:26:54.664Z"
   },
   {
    "duration": 166,
    "start_time": "2023-04-18T11:26:54.714Z"
   },
   {
    "duration": 39,
    "start_time": "2023-04-18T11:26:54.882Z"
   },
   {
    "duration": 404,
    "start_time": "2023-04-18T11:26:54.947Z"
   },
   {
    "duration": 5168,
    "start_time": "2023-04-18T11:26:55.355Z"
   },
   {
    "duration": 4,
    "start_time": "2023-04-18T11:27:00.525Z"
   },
   {
    "duration": 93,
    "start_time": "2023-04-18T11:27:00.531Z"
   },
   {
    "duration": 74,
    "start_time": "2023-04-18T11:27:00.627Z"
   },
   {
    "duration": 62,
    "start_time": "2023-04-18T11:27:00.703Z"
   },
   {
    "duration": 65,
    "start_time": "2023-04-18T11:27:00.767Z"
   },
   {
    "duration": 28,
    "start_time": "2023-04-18T11:27:00.834Z"
   },
   {
    "duration": 1294,
    "start_time": "2023-04-18T11:27:00.864Z"
   },
   {
    "duration": 596,
    "start_time": "2023-04-18T11:27:02.162Z"
   },
   {
    "duration": 212,
    "start_time": "2023-04-18T11:27:02.761Z"
   },
   {
    "duration": 154110,
    "start_time": "2023-04-18T11:27:19.514Z"
   },
   {
    "duration": 205670,
    "start_time": "2023-04-18T11:30:31.230Z"
   },
   {
    "duration": 2556,
    "start_time": "2023-04-18T11:37:33.524Z"
   },
   {
    "duration": 1731,
    "start_time": "2023-04-18T11:37:36.083Z"
   },
   {
    "duration": 4,
    "start_time": "2023-04-18T11:37:37.816Z"
   },
   {
    "duration": 1155,
    "start_time": "2023-04-18T11:37:37.821Z"
   },
   {
    "duration": 21,
    "start_time": "2023-04-18T11:37:38.978Z"
   },
   {
    "duration": 167,
    "start_time": "2023-04-18T11:37:39.001Z"
   },
   {
    "duration": 587,
    "start_time": "2023-04-18T11:37:39.170Z"
   },
   {
    "duration": 627,
    "start_time": "2023-04-18T11:37:39.759Z"
   },
   {
    "duration": 549,
    "start_time": "2023-04-18T11:37:40.388Z"
   },
   {
    "duration": 171,
    "start_time": "2023-04-18T11:37:40.939Z"
   },
   {
    "duration": 151,
    "start_time": "2023-04-18T11:37:41.113Z"
   },
   {
    "duration": 244,
    "start_time": "2023-04-18T11:37:41.266Z"
   },
   {
    "duration": 196,
    "start_time": "2023-04-18T11:37:41.513Z"
   },
   {
    "duration": 158,
    "start_time": "2023-04-18T11:37:41.713Z"
   },
   {
    "duration": 33,
    "start_time": "2023-04-18T11:37:41.873Z"
   },
   {
    "duration": 53,
    "start_time": "2023-04-18T11:37:41.909Z"
   },
   {
    "duration": 130,
    "start_time": "2023-04-18T11:37:41.964Z"
   },
   {
    "duration": 33,
    "start_time": "2023-04-18T11:37:42.096Z"
   },
   {
    "duration": 129,
    "start_time": "2023-04-18T11:37:42.131Z"
   },
   {
    "duration": 32,
    "start_time": "2023-04-18T11:37:42.262Z"
   },
   {
    "duration": 6,
    "start_time": "2023-04-18T11:37:42.296Z"
   },
   {
    "duration": 186,
    "start_time": "2023-04-18T11:37:42.304Z"
   },
   {
    "duration": 10,
    "start_time": "2023-04-18T11:37:42.492Z"
   },
   {
    "duration": 31,
    "start_time": "2023-04-18T11:37:42.504Z"
   },
   {
    "duration": 27,
    "start_time": "2023-04-18T11:37:42.537Z"
   },
   {
    "duration": 10,
    "start_time": "2023-04-18T11:37:42.566Z"
   },
   {
    "duration": 103,
    "start_time": "2023-04-18T11:37:42.578Z"
   },
   {
    "duration": 15,
    "start_time": "2023-04-18T11:37:42.683Z"
   },
   {
    "duration": 43,
    "start_time": "2023-04-18T11:37:42.700Z"
   },
   {
    "duration": 50,
    "start_time": "2023-04-18T11:37:42.745Z"
   },
   {
    "duration": 9,
    "start_time": "2023-04-18T11:37:42.798Z"
   },
   {
    "duration": 10,
    "start_time": "2023-04-18T11:37:42.808Z"
   },
   {
    "duration": 39,
    "start_time": "2023-04-18T11:37:42.820Z"
   },
   {
    "duration": 51,
    "start_time": "2023-04-18T11:37:42.862Z"
   },
   {
    "duration": 53,
    "start_time": "2023-04-18T11:37:42.915Z"
   },
   {
    "duration": 13,
    "start_time": "2023-04-18T11:37:42.970Z"
   },
   {
    "duration": 240,
    "start_time": "2023-04-18T11:37:42.985Z"
   },
   {
    "duration": 44,
    "start_time": "2023-04-18T11:37:43.227Z"
   },
   {
    "duration": 41,
    "start_time": "2023-04-18T11:37:43.274Z"
   },
   {
    "duration": 165,
    "start_time": "2023-04-18T11:37:43.317Z"
   },
   {
    "duration": 39,
    "start_time": "2023-04-18T11:37:43.488Z"
   },
   {
    "duration": 314,
    "start_time": "2023-04-18T11:37:43.542Z"
   },
   {
    "duration": 4971,
    "start_time": "2023-04-18T11:37:43.858Z"
   },
   {
    "duration": 12,
    "start_time": "2023-04-18T11:37:48.830Z"
   },
   {
    "duration": 21,
    "start_time": "2023-04-18T11:37:48.855Z"
   },
   {
    "duration": 8,
    "start_time": "2023-04-18T11:37:48.878Z"
   },
   {
    "duration": 10,
    "start_time": "2023-04-18T11:37:48.888Z"
   },
   {
    "duration": 58,
    "start_time": "2023-04-18T11:37:48.900Z"
   },
   {
    "duration": 23,
    "start_time": "2023-04-18T11:37:48.960Z"
   },
   {
    "duration": 1141,
    "start_time": "2023-04-18T11:37:48.985Z"
   },
   {
    "duration": 406,
    "start_time": "2023-04-18T11:37:50.128Z"
   },
   {
    "duration": 161,
    "start_time": "2023-04-18T11:37:50.546Z"
   },
   {
    "duration": 139850,
    "start_time": "2023-04-18T11:37:50.709Z"
   },
   {
    "duration": 46650,
    "start_time": "2023-04-18T11:40:10.562Z"
   },
   {
    "duration": 0,
    "start_time": "2023-04-18T11:40:57.214Z"
   },
   {
    "duration": 0,
    "start_time": "2023-04-18T11:40:57.216Z"
   },
   {
    "duration": 0,
    "start_time": "2023-04-18T11:40:57.217Z"
   },
   {
    "duration": 0,
    "start_time": "2023-04-18T11:40:57.219Z"
   },
   {
    "duration": 0,
    "start_time": "2023-04-18T11:40:57.220Z"
   },
   {
    "duration": 0,
    "start_time": "2023-04-18T11:40:57.241Z"
   },
   {
    "duration": 0,
    "start_time": "2023-04-18T11:40:57.244Z"
   },
   {
    "duration": 0,
    "start_time": "2023-04-18T11:40:57.245Z"
   },
   {
    "duration": 0,
    "start_time": "2023-04-18T11:40:57.246Z"
   },
   {
    "duration": 0,
    "start_time": "2023-04-18T11:40:57.247Z"
   },
   {
    "duration": 0,
    "start_time": "2023-04-18T11:40:57.247Z"
   },
   {
    "duration": 0,
    "start_time": "2023-04-18T11:40:57.248Z"
   },
   {
    "duration": 0,
    "start_time": "2023-04-18T11:40:57.254Z"
   },
   {
    "duration": 0,
    "start_time": "2023-04-18T11:40:57.255Z"
   },
   {
    "duration": 0,
    "start_time": "2023-04-18T11:40:57.256Z"
   },
   {
    "duration": 0,
    "start_time": "2023-04-18T11:40:57.256Z"
   },
   {
    "duration": 0,
    "start_time": "2023-04-18T11:40:57.258Z"
   },
   {
    "duration": 0,
    "start_time": "2023-04-18T11:40:57.260Z"
   },
   {
    "duration": 0,
    "start_time": "2023-04-18T11:40:57.262Z"
   },
   {
    "duration": 0,
    "start_time": "2023-04-18T11:40:57.263Z"
   },
   {
    "duration": 0,
    "start_time": "2023-04-18T11:40:57.264Z"
   },
   {
    "duration": 0,
    "start_time": "2023-04-18T11:40:57.266Z"
   },
   {
    "duration": 0,
    "start_time": "2023-04-18T11:40:57.268Z"
   },
   {
    "duration": 2704,
    "start_time": "2023-04-18T11:43:15.255Z"
   },
   {
    "duration": 1782,
    "start_time": "2023-04-18T11:43:17.963Z"
   },
   {
    "duration": 9,
    "start_time": "2023-04-18T11:43:19.753Z"
   },
   {
    "duration": 1077,
    "start_time": "2023-04-18T11:43:19.765Z"
   },
   {
    "duration": 31,
    "start_time": "2023-04-18T11:43:20.852Z"
   },
   {
    "duration": 227,
    "start_time": "2023-04-18T11:43:20.886Z"
   },
   {
    "duration": 664,
    "start_time": "2023-04-18T11:43:21.115Z"
   },
   {
    "duration": 677,
    "start_time": "2023-04-18T11:43:21.781Z"
   },
   {
    "duration": 707,
    "start_time": "2023-04-18T11:43:22.462Z"
   },
   {
    "duration": 188,
    "start_time": "2023-04-18T11:43:23.171Z"
   },
   {
    "duration": 145,
    "start_time": "2023-04-18T11:43:23.362Z"
   },
   {
    "duration": 229,
    "start_time": "2023-04-18T11:43:23.509Z"
   },
   {
    "duration": 204,
    "start_time": "2023-04-18T11:43:23.743Z"
   },
   {
    "duration": 122,
    "start_time": "2023-04-18T11:43:23.951Z"
   },
   {
    "duration": 54,
    "start_time": "2023-04-18T11:43:24.075Z"
   },
   {
    "duration": 150,
    "start_time": "2023-04-18T11:43:24.131Z"
   },
   {
    "duration": 130,
    "start_time": "2023-04-18T11:43:24.283Z"
   },
   {
    "duration": 76,
    "start_time": "2023-04-18T11:43:24.415Z"
   },
   {
    "duration": 130,
    "start_time": "2023-04-18T11:43:24.493Z"
   },
   {
    "duration": 48,
    "start_time": "2023-04-18T11:43:24.625Z"
   },
   {
    "duration": 67,
    "start_time": "2023-04-18T11:43:24.675Z"
   },
   {
    "duration": 229,
    "start_time": "2023-04-18T11:43:24.751Z"
   },
   {
    "duration": 8,
    "start_time": "2023-04-18T11:43:24.982Z"
   },
   {
    "duration": 48,
    "start_time": "2023-04-18T11:43:24.992Z"
   },
   {
    "duration": 126,
    "start_time": "2023-04-18T11:43:25.042Z"
   },
   {
    "duration": 71,
    "start_time": "2023-04-18T11:43:25.170Z"
   },
   {
    "duration": 118,
    "start_time": "2023-04-18T11:43:25.244Z"
   },
   {
    "duration": 15,
    "start_time": "2023-04-18T11:43:25.364Z"
   },
   {
    "duration": 10,
    "start_time": "2023-04-18T11:43:25.381Z"
   },
   {
    "duration": 68,
    "start_time": "2023-04-18T11:43:25.393Z"
   },
   {
    "duration": 9,
    "start_time": "2023-04-18T11:43:25.464Z"
   },
   {
    "duration": 16,
    "start_time": "2023-04-18T11:43:25.476Z"
   },
   {
    "duration": 34,
    "start_time": "2023-04-18T11:43:25.494Z"
   },
   {
    "duration": 48,
    "start_time": "2023-04-18T11:43:25.531Z"
   },
   {
    "duration": 34,
    "start_time": "2023-04-18T11:43:25.581Z"
   },
   {
    "duration": 42,
    "start_time": "2023-04-18T11:43:25.617Z"
   },
   {
    "duration": 221,
    "start_time": "2023-04-18T11:43:25.661Z"
   },
   {
    "duration": 34,
    "start_time": "2023-04-18T11:43:25.884Z"
   },
   {
    "duration": 58,
    "start_time": "2023-04-18T11:43:25.920Z"
   },
   {
    "duration": 164,
    "start_time": "2023-04-18T11:43:25.979Z"
   },
   {
    "duration": 38,
    "start_time": "2023-04-18T11:43:26.150Z"
   },
   {
    "duration": 388,
    "start_time": "2023-04-18T11:43:26.191Z"
   },
   {
    "duration": 5124,
    "start_time": "2023-04-18T11:43:26.582Z"
   },
   {
    "duration": 4,
    "start_time": "2023-04-18T11:43:31.708Z"
   },
   {
    "duration": 49,
    "start_time": "2023-04-18T11:43:31.715Z"
   },
   {
    "duration": 38,
    "start_time": "2023-04-18T11:43:31.766Z"
   },
   {
    "duration": 32,
    "start_time": "2023-04-18T11:43:31.806Z"
   },
   {
    "duration": 80,
    "start_time": "2023-04-18T11:43:31.841Z"
   },
   {
    "duration": 134,
    "start_time": "2023-04-18T11:43:31.923Z"
   },
   {
    "duration": 1252,
    "start_time": "2023-04-18T11:43:32.059Z"
   },
   {
    "duration": 407,
    "start_time": "2023-04-18T11:43:33.314Z"
   },
   {
    "duration": 184,
    "start_time": "2023-04-18T11:43:33.724Z"
   },
   {
    "duration": 152539,
    "start_time": "2023-04-18T11:43:33.911Z"
   },
   {
    "duration": 52796,
    "start_time": "2023-04-18T11:46:06.453Z"
   },
   {
    "duration": 161021,
    "start_time": "2023-04-18T11:46:59.251Z"
   },
   {
    "duration": 4,
    "start_time": "2023-04-18T11:49:40.274Z"
   },
   {
    "duration": 13,
    "start_time": "2023-04-18T11:49:40.280Z"
   },
   {
    "duration": 8876,
    "start_time": "2023-04-18T11:49:40.296Z"
   },
   {
    "duration": 3,
    "start_time": "2023-04-18T11:49:49.174Z"
   },
   {
    "duration": 411549,
    "start_time": "2023-04-18T11:49:49.179Z"
   },
   {
    "duration": 3,
    "start_time": "2023-04-18T11:56:40.730Z"
   },
   {
    "duration": 42,
    "start_time": "2023-04-18T11:56:40.742Z"
   },
   {
    "duration": 94,
    "start_time": "2023-04-18T11:56:40.786Z"
   },
   {
    "duration": 441,
    "start_time": "2023-04-18T11:56:40.882Z"
   },
   {
    "duration": 552,
    "start_time": "2023-04-18T11:56:41.325Z"
   },
   {
    "duration": 17,
    "start_time": "2023-04-18T11:56:41.879Z"
   },
   {
    "duration": 25,
    "start_time": "2023-04-18T11:56:41.899Z"
   },
   {
    "duration": 13,
    "start_time": "2023-04-18T11:56:41.941Z"
   },
   {
    "duration": 3198,
    "start_time": "2023-04-18T15:56:04.076Z"
   },
   {
    "duration": 1640,
    "start_time": "2023-04-18T15:56:07.276Z"
   },
   {
    "duration": 3,
    "start_time": "2023-04-18T15:56:08.918Z"
   },
   {
    "duration": 1107,
    "start_time": "2023-04-18T15:56:08.922Z"
   },
   {
    "duration": 18,
    "start_time": "2023-04-18T15:56:10.032Z"
   },
   {
    "duration": 134,
    "start_time": "2023-04-18T15:56:10.051Z"
   },
   {
    "duration": 488,
    "start_time": "2023-04-18T15:56:10.187Z"
   },
   {
    "duration": 520,
    "start_time": "2023-04-18T15:56:10.677Z"
   },
   {
    "duration": 465,
    "start_time": "2023-04-18T15:56:11.199Z"
   },
   {
    "duration": 148,
    "start_time": "2023-04-18T15:56:11.665Z"
   },
   {
    "duration": 127,
    "start_time": "2023-04-18T15:56:11.815Z"
   },
   {
    "duration": 189,
    "start_time": "2023-04-18T15:56:11.944Z"
   },
   {
    "duration": 173,
    "start_time": "2023-04-18T15:56:12.135Z"
   },
   {
    "duration": 112,
    "start_time": "2023-04-18T15:56:12.312Z"
   },
   {
    "duration": 35,
    "start_time": "2023-04-18T15:56:12.434Z"
   },
   {
    "duration": 41,
    "start_time": "2023-04-18T15:56:12.471Z"
   },
   {
    "duration": 127,
    "start_time": "2023-04-18T15:56:12.514Z"
   },
   {
    "duration": 36,
    "start_time": "2023-04-18T15:56:12.643Z"
   },
   {
    "duration": 119,
    "start_time": "2023-04-18T15:56:12.680Z"
   },
   {
    "duration": 37,
    "start_time": "2023-04-18T15:56:12.801Z"
   },
   {
    "duration": 22,
    "start_time": "2023-04-18T15:56:12.839Z"
   },
   {
    "duration": 117,
    "start_time": "2023-04-18T15:56:12.863Z"
   },
   {
    "duration": 8,
    "start_time": "2023-04-18T15:56:12.982Z"
   },
   {
    "duration": 16,
    "start_time": "2023-04-18T15:56:12.992Z"
   },
   {
    "duration": 18,
    "start_time": "2023-04-18T15:56:13.010Z"
   },
   {
    "duration": 11,
    "start_time": "2023-04-18T15:56:13.029Z"
   },
   {
    "duration": 87,
    "start_time": "2023-04-18T15:56:13.041Z"
   },
   {
    "duration": 12,
    "start_time": "2023-04-18T15:56:13.130Z"
   },
   {
    "duration": 9,
    "start_time": "2023-04-18T15:56:13.144Z"
   },
   {
    "duration": 43,
    "start_time": "2023-04-18T15:56:13.154Z"
   },
   {
    "duration": 9,
    "start_time": "2023-04-18T15:56:13.199Z"
   },
   {
    "duration": 24,
    "start_time": "2023-04-18T15:56:13.210Z"
   },
   {
    "duration": 19,
    "start_time": "2023-04-18T15:56:13.236Z"
   },
   {
    "duration": 32,
    "start_time": "2023-04-18T15:56:13.257Z"
   },
   {
    "duration": 46,
    "start_time": "2023-04-18T15:56:13.291Z"
   },
   {
    "duration": 10,
    "start_time": "2023-04-18T15:56:13.339Z"
   },
   {
    "duration": 184,
    "start_time": "2023-04-18T15:56:13.351Z"
   },
   {
    "duration": 25,
    "start_time": "2023-04-18T15:56:13.538Z"
   },
   {
    "duration": 34,
    "start_time": "2023-04-18T15:56:13.564Z"
   },
   {
    "duration": 159,
    "start_time": "2023-04-18T15:56:13.600Z"
   },
   {
    "duration": 36,
    "start_time": "2023-04-18T15:56:13.765Z"
   },
   {
    "duration": 386,
    "start_time": "2023-04-18T15:56:13.803Z"
   },
   {
    "duration": 4607,
    "start_time": "2023-04-18T15:56:14.191Z"
   },
   {
    "duration": 2,
    "start_time": "2023-04-18T15:56:18.800Z"
   },
   {
    "duration": 14,
    "start_time": "2023-04-18T15:56:18.804Z"
   },
   {
    "duration": 8,
    "start_time": "2023-04-18T15:56:18.820Z"
   },
   {
    "duration": 7,
    "start_time": "2023-04-18T15:56:18.834Z"
   },
   {
    "duration": 42,
    "start_time": "2023-04-18T15:56:18.843Z"
   },
   {
    "duration": 22,
    "start_time": "2023-04-18T15:56:18.887Z"
   },
   {
    "duration": 817,
    "start_time": "2023-04-18T15:56:18.911Z"
   },
   {
    "duration": 362,
    "start_time": "2023-04-18T15:56:19.734Z"
   },
   {
    "duration": 164,
    "start_time": "2023-04-18T15:56:20.098Z"
   },
   {
    "duration": 63785,
    "start_time": "2023-04-18T15:56:20.263Z"
   },
   {
    "duration": 23687,
    "start_time": "2023-04-18T15:57:24.053Z"
   },
   {
    "duration": 125798,
    "start_time": "2023-04-18T15:57:47.833Z"
   },
   {
    "duration": 2,
    "start_time": "2023-04-18T15:59:53.634Z"
   },
   {
    "duration": 25,
    "start_time": "2023-04-18T15:59:53.638Z"
   },
   {
    "duration": 7169,
    "start_time": "2023-04-18T15:59:53.665Z"
   },
   {
    "duration": 3,
    "start_time": "2023-04-18T16:00:00.837Z"
   },
   {
    "duration": 324386,
    "start_time": "2023-04-18T16:00:00.842Z"
   },
   {
    "duration": 6,
    "start_time": "2023-04-18T16:05:25.230Z"
   },
   {
    "duration": 35,
    "start_time": "2023-04-18T16:05:25.238Z"
   },
   {
    "duration": 98,
    "start_time": "2023-04-18T16:05:25.275Z"
   },
   {
    "duration": 209,
    "start_time": "2023-04-18T16:05:25.375Z"
   },
   {
    "duration": 264999,
    "start_time": "2023-04-18T16:05:25.587Z"
   },
   {
    "duration": 477,
    "start_time": "2023-04-18T16:09:50.588Z"
   },
   {
    "duration": 15,
    "start_time": "2023-04-18T16:09:51.067Z"
   },
   {
    "duration": 22,
    "start_time": "2023-04-18T16:09:51.083Z"
   },
   {
    "duration": 18,
    "start_time": "2023-04-18T16:09:51.106Z"
   },
   {
    "duration": 34212,
    "start_time": "2023-04-18T16:09:51.126Z"
   },
   {
    "duration": 6,
    "start_time": "2023-04-18T16:10:25.346Z"
   },
   {
    "duration": 20101,
    "start_time": "2023-04-18T16:10:25.354Z"
   },
   {
    "duration": 16,
    "start_time": "2023-04-18T16:10:45.457Z"
   },
   {
    "duration": 0,
    "start_time": "2023-04-18T16:10:45.475Z"
   },
   {
    "duration": 0,
    "start_time": "2023-04-18T16:10:45.535Z"
   },
   {
    "duration": 0,
    "start_time": "2023-04-18T16:10:45.537Z"
   },
   {
    "duration": 0,
    "start_time": "2023-04-18T16:10:45.538Z"
   },
   {
    "duration": 0,
    "start_time": "2023-04-18T16:10:45.540Z"
   },
   {
    "duration": 0,
    "start_time": "2023-04-18T16:10:45.541Z"
   },
   {
    "duration": 90,
    "start_time": "2023-04-18T16:13:45.433Z"
   },
   {
    "duration": 43,
    "start_time": "2023-04-18T16:15:40.174Z"
   },
   {
    "duration": 106907,
    "start_time": "2023-04-18T16:16:27.458Z"
   },
   {
    "duration": 37133,
    "start_time": "2023-04-18T16:18:14.367Z"
   },
   {
    "duration": 2203,
    "start_time": "2023-04-18T16:19:07.828Z"
   },
   {
    "duration": 1667,
    "start_time": "2023-04-18T16:19:10.034Z"
   },
   {
    "duration": 2,
    "start_time": "2023-04-18T16:19:11.703Z"
   },
   {
    "duration": 1041,
    "start_time": "2023-04-18T16:19:11.707Z"
   },
   {
    "duration": 19,
    "start_time": "2023-04-18T16:19:12.750Z"
   },
   {
    "duration": 151,
    "start_time": "2023-04-18T16:19:12.771Z"
   },
   {
    "duration": 598,
    "start_time": "2023-04-18T16:19:12.924Z"
   },
   {
    "duration": 582,
    "start_time": "2023-04-18T16:19:13.524Z"
   },
   {
    "duration": 524,
    "start_time": "2023-04-18T16:19:14.108Z"
   },
   {
    "duration": 164,
    "start_time": "2023-04-18T16:19:14.635Z"
   },
   {
    "duration": 142,
    "start_time": "2023-04-18T16:19:14.801Z"
   },
   {
    "duration": 196,
    "start_time": "2023-04-18T16:19:14.945Z"
   },
   {
    "duration": 178,
    "start_time": "2023-04-18T16:19:15.143Z"
   },
   {
    "duration": 125,
    "start_time": "2023-04-18T16:19:15.322Z"
   },
   {
    "duration": 37,
    "start_time": "2023-04-18T16:19:15.449Z"
   },
   {
    "duration": 51,
    "start_time": "2023-04-18T16:19:15.487Z"
   },
   {
    "duration": 38,
    "start_time": "2023-04-18T16:19:15.540Z"
   },
   {
    "duration": 54,
    "start_time": "2023-04-18T16:19:15.580Z"
   },
   {
    "duration": 107,
    "start_time": "2023-04-18T16:19:15.635Z"
   },
   {
    "duration": 35,
    "start_time": "2023-04-18T16:19:15.744Z"
   },
   {
    "duration": 5,
    "start_time": "2023-04-18T16:19:15.781Z"
   },
   {
    "duration": 218,
    "start_time": "2023-04-18T16:19:15.787Z"
   },
   {
    "duration": 10,
    "start_time": "2023-04-18T16:19:16.006Z"
   },
   {
    "duration": 25,
    "start_time": "2023-04-18T16:19:16.018Z"
   },
   {
    "duration": 10,
    "start_time": "2023-04-18T16:19:16.045Z"
   },
   {
    "duration": 8,
    "start_time": "2023-04-18T16:19:16.057Z"
   },
   {
    "duration": 108,
    "start_time": "2023-04-18T16:19:16.067Z"
   },
   {
    "duration": 13,
    "start_time": "2023-04-18T16:19:16.179Z"
   },
   {
    "duration": 8,
    "start_time": "2023-04-18T16:19:16.193Z"
   },
   {
    "duration": 59,
    "start_time": "2023-04-18T16:19:16.203Z"
   },
   {
    "duration": 9,
    "start_time": "2023-04-18T16:19:16.263Z"
   },
   {
    "duration": 3,
    "start_time": "2023-04-18T16:19:16.273Z"
   },
   {
    "duration": 16,
    "start_time": "2023-04-18T16:19:16.277Z"
   },
   {
    "duration": 53,
    "start_time": "2023-04-18T16:19:16.295Z"
   },
   {
    "duration": 30,
    "start_time": "2023-04-18T16:19:16.350Z"
   },
   {
    "duration": 11,
    "start_time": "2023-04-18T16:19:16.382Z"
   },
   {
    "duration": 199,
    "start_time": "2023-04-18T16:19:16.394Z"
   },
   {
    "duration": 11,
    "start_time": "2023-04-18T16:19:16.595Z"
   },
   {
    "duration": 53,
    "start_time": "2023-04-18T16:19:16.608Z"
   },
   {
    "duration": 145,
    "start_time": "2023-04-18T16:19:16.663Z"
   },
   {
    "duration": 43,
    "start_time": "2023-04-18T16:19:16.810Z"
   },
   {
    "duration": 304,
    "start_time": "2023-04-18T16:19:16.855Z"
   },
   {
    "duration": 4614,
    "start_time": "2023-04-18T16:19:17.162Z"
   },
   {
    "duration": 3,
    "start_time": "2023-04-18T16:19:21.778Z"
   },
   {
    "duration": 10,
    "start_time": "2023-04-18T16:19:21.782Z"
   },
   {
    "duration": 17,
    "start_time": "2023-04-18T16:19:21.794Z"
   },
   {
    "duration": 4,
    "start_time": "2023-04-18T16:19:21.813Z"
   },
   {
    "duration": 46,
    "start_time": "2023-04-18T16:19:21.819Z"
   },
   {
    "duration": 20,
    "start_time": "2023-04-18T16:19:21.866Z"
   },
   {
    "duration": 723,
    "start_time": "2023-04-18T16:19:21.888Z"
   },
   {
    "duration": 354,
    "start_time": "2023-04-18T16:19:22.613Z"
   },
   {
    "duration": 164,
    "start_time": "2023-04-18T16:19:22.969Z"
   },
   {
    "duration": 86507,
    "start_time": "2023-04-18T16:19:23.135Z"
   },
   {
    "duration": 31090,
    "start_time": "2023-04-18T16:20:49.645Z"
   },
   {
    "duration": 151653,
    "start_time": "2023-04-18T16:21:20.737Z"
   },
   {
    "duration": 2,
    "start_time": "2023-04-18T16:23:52.393Z"
   },
   {
    "duration": 15,
    "start_time": "2023-04-18T16:23:52.397Z"
   },
   {
    "duration": 8366,
    "start_time": "2023-04-18T16:23:52.415Z"
   },
   {
    "duration": 5,
    "start_time": "2023-04-18T16:24:00.784Z"
   },
   {
    "duration": 319380,
    "start_time": "2023-04-18T16:24:00.791Z"
   },
   {
    "duration": 3,
    "start_time": "2023-04-18T16:29:20.173Z"
   },
   {
    "duration": 39,
    "start_time": "2023-04-18T16:29:20.178Z"
   },
   {
    "duration": 68,
    "start_time": "2023-04-18T16:29:20.219Z"
   },
   {
    "duration": 3060,
    "start_time": "2023-04-19T06:27:35.617Z"
   },
   {
    "duration": 1669,
    "start_time": "2023-04-19T06:27:38.680Z"
   },
   {
    "duration": 2,
    "start_time": "2023-04-19T06:27:40.350Z"
   },
   {
    "duration": 1047,
    "start_time": "2023-04-19T06:27:40.354Z"
   },
   {
    "duration": 17,
    "start_time": "2023-04-19T06:27:41.403Z"
   },
   {
    "duration": 126,
    "start_time": "2023-04-19T06:27:41.421Z"
   },
   {
    "duration": 454,
    "start_time": "2023-04-19T06:27:41.549Z"
   },
   {
    "duration": 440,
    "start_time": "2023-04-19T06:27:42.005Z"
   },
   {
    "duration": 391,
    "start_time": "2023-04-19T06:27:42.447Z"
   },
   {
    "duration": 134,
    "start_time": "2023-04-19T06:27:42.839Z"
   },
   {
    "duration": 107,
    "start_time": "2023-04-19T06:27:42.975Z"
   },
   {
    "duration": 165,
    "start_time": "2023-04-19T06:27:43.084Z"
   },
   {
    "duration": 155,
    "start_time": "2023-04-19T06:27:43.250Z"
   },
   {
    "duration": 96,
    "start_time": "2023-04-19T06:27:43.408Z"
   },
   {
    "duration": 31,
    "start_time": "2023-04-19T06:27:43.505Z"
   },
   {
    "duration": 42,
    "start_time": "2023-04-19T06:27:43.549Z"
   },
   {
    "duration": 87,
    "start_time": "2023-04-19T06:27:43.592Z"
   },
   {
    "duration": 30,
    "start_time": "2023-04-19T06:27:43.681Z"
   },
   {
    "duration": 101,
    "start_time": "2023-04-19T06:27:43.712Z"
   },
   {
    "duration": 35,
    "start_time": "2023-04-19T06:27:43.814Z"
   },
   {
    "duration": 4,
    "start_time": "2023-04-19T06:27:43.851Z"
   },
   {
    "duration": 108,
    "start_time": "2023-04-19T06:27:43.857Z"
   },
   {
    "duration": 8,
    "start_time": "2023-04-19T06:27:43.966Z"
   },
   {
    "duration": 7,
    "start_time": "2023-04-19T06:27:43.975Z"
   },
   {
    "duration": 15,
    "start_time": "2023-04-19T06:27:43.983Z"
   },
   {
    "duration": 6,
    "start_time": "2023-04-19T06:27:43.999Z"
   },
   {
    "duration": 91,
    "start_time": "2023-04-19T06:27:44.007Z"
   },
   {
    "duration": 7,
    "start_time": "2023-04-19T06:27:44.100Z"
   },
   {
    "duration": 7,
    "start_time": "2023-04-19T06:27:44.109Z"
   },
   {
    "duration": 53,
    "start_time": "2023-04-19T06:27:44.117Z"
   },
   {
    "duration": 8,
    "start_time": "2023-04-19T06:27:44.172Z"
   },
   {
    "duration": 5,
    "start_time": "2023-04-19T06:27:44.181Z"
   },
   {
    "duration": 11,
    "start_time": "2023-04-19T06:27:44.188Z"
   },
   {
    "duration": 28,
    "start_time": "2023-04-19T06:27:44.200Z"
   },
   {
    "duration": 40,
    "start_time": "2023-04-19T06:27:44.229Z"
   },
   {
    "duration": 7,
    "start_time": "2023-04-19T06:27:44.271Z"
   },
   {
    "duration": 175,
    "start_time": "2023-04-19T06:27:44.280Z"
   },
   {
    "duration": 27,
    "start_time": "2023-04-19T06:27:44.459Z"
   },
   {
    "duration": 41,
    "start_time": "2023-04-19T06:27:44.490Z"
   },
   {
    "duration": 166,
    "start_time": "2023-04-19T06:27:44.533Z"
   },
   {
    "duration": 44,
    "start_time": "2023-04-19T06:27:44.706Z"
   },
   {
    "duration": 371,
    "start_time": "2023-04-19T06:27:44.752Z"
   },
   {
    "duration": 4457,
    "start_time": "2023-04-19T06:27:45.125Z"
   },
   {
    "duration": 3,
    "start_time": "2023-04-19T06:27:49.584Z"
   },
   {
    "duration": 9,
    "start_time": "2023-04-19T06:27:49.589Z"
   },
   {
    "duration": 6,
    "start_time": "2023-04-19T06:27:49.600Z"
   },
   {
    "duration": 15,
    "start_time": "2023-04-19T06:27:49.608Z"
   },
   {
    "duration": 50,
    "start_time": "2023-04-19T06:27:49.624Z"
   },
   {
    "duration": 20,
    "start_time": "2023-04-19T06:27:49.676Z"
   },
   {
    "duration": 590,
    "start_time": "2023-04-19T06:27:49.698Z"
   },
   {
    "duration": 255,
    "start_time": "2023-04-19T06:27:50.290Z"
   },
   {
    "duration": 154,
    "start_time": "2023-04-19T06:27:50.549Z"
   },
   {
    "duration": 49549,
    "start_time": "2023-04-19T06:27:50.705Z"
   },
   {
    "duration": 16194,
    "start_time": "2023-04-19T06:28:40.255Z"
   },
   {
    "duration": 96970,
    "start_time": "2023-04-19T06:28:56.451Z"
   },
   {
    "duration": 2,
    "start_time": "2023-04-19T06:30:33.423Z"
   },
   {
    "duration": 10,
    "start_time": "2023-04-19T06:30:33.426Z"
   },
   {
    "duration": 5450,
    "start_time": "2023-04-19T06:30:33.437Z"
   },
   {
    "duration": 3,
    "start_time": "2023-04-19T06:30:38.890Z"
   },
   {
    "duration": 234421,
    "start_time": "2023-04-19T06:30:38.895Z"
   },
   {
    "duration": 3,
    "start_time": "2023-04-19T06:34:33.318Z"
   },
   {
    "duration": 47,
    "start_time": "2023-04-19T06:34:33.323Z"
   },
   {
    "duration": 80,
    "start_time": "2023-04-19T06:34:33.372Z"
   },
   {
    "duration": 1254566,
    "start_time": "2023-04-19T07:09:41.525Z"
   },
   {
    "duration": 251729,
    "start_time": "2023-04-19T07:33:25.171Z"
   },
   {
    "duration": 463,
    "start_time": "2023-04-19T07:40:45.571Z"
   },
   {
    "duration": 12,
    "start_time": "2023-04-19T07:40:52.598Z"
   },
   {
    "duration": 14,
    "start_time": "2023-04-19T07:40:57.290Z"
   },
   {
    "duration": 4,
    "start_time": "2023-04-19T07:41:00.042Z"
   },
   {
    "duration": 31086,
    "start_time": "2023-04-19T07:41:07.675Z"
   },
   {
    "duration": 3,
    "start_time": "2023-04-19T07:46:48.971Z"
   },
   {
    "duration": 18034,
    "start_time": "2023-04-19T07:46:52.041Z"
   },
   {
    "duration": 5,
    "start_time": "2023-04-19T07:49:54.791Z"
   },
   {
    "duration": 9,
    "start_time": "2023-04-19T07:49:56.610Z"
   },
   {
    "duration": 248475,
    "start_time": "2023-04-19T07:50:34.794Z"
   },
   {
    "duration": 247430,
    "start_time": "2023-04-19T07:56:43.910Z"
   },
   {
    "duration": 281,
    "start_time": "2023-04-19T08:01:05.752Z"
   },
   {
    "duration": 3,
    "start_time": "2023-04-19T08:01:20.151Z"
   }
  ],
  "kernelspec": {
   "display_name": "Python 3 (ipykernel)",
   "language": "python",
   "name": "python3"
  },
  "language_info": {
   "codemirror_mode": {
    "name": "ipython",
    "version": 3
   },
   "file_extension": ".py",
   "mimetype": "text/x-python",
   "name": "python",
   "nbconvert_exporter": "python",
   "pygments_lexer": "ipython3",
   "version": "3.9.5"
  },
  "toc": {
   "base_numbering": 1,
   "nav_menu": {},
   "number_sections": true,
   "sideBar": true,
   "skip_h1_title": true,
   "title_cell": "Table of Contents",
   "title_sidebar": "Contents",
   "toc_cell": false,
   "toc_position": {},
   "toc_section_display": true,
   "toc_window_display": false
  }
 },
 "nbformat": 4,
 "nbformat_minor": 2
}
