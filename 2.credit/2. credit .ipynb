{
 "cells": [
  {
   "cell_type": "markdown",
   "id": "0900fe1b",
   "metadata": {
    "deletable": false,
    "editable": false,
    "id": "c81daeeb"
   },
   "source": [
    "# Исследование надежности заемщиков\n"
   ]
  },
  {
   "cell_type": "markdown",
   "id": "c4e26ebb",
   "metadata": {
    "deletable": false,
    "editable": false,
    "id": "827c20bf"
   },
   "source": [
    "Во второй части проекта вы выполните шаги 3 и 4. Их вручную проверит ревьюер.\n",
    "Чтобы вам не пришлось писать код заново для шагов 1 и 2, мы добавили авторские решения в ячейки с кодом. \n",
    "\n"
   ]
  },
  {
   "cell_type": "markdown",
   "id": "b3fb2ce9",
   "metadata": {
    "deletable": false,
    "editable": false,
    "id": "744d7639"
   },
   "source": [
    "## Откройте таблицу и изучите общую информацию о данных"
   ]
  },
  {
   "cell_type": "markdown",
   "id": "1f6ab6c7",
   "metadata": {
    "deletable": false,
    "editable": false,
    "id": "e7a14c31"
   },
   "source": [
    "**Задание 1. Импортируйте библиотеку pandas. Считайте данные из csv-файла в датафрейм и сохраните в переменную `data`. Путь к файлу:**\n",
    "\n",
    "`/datasets/data.csv`"
   ]
  },
  {
   "cell_type": "code",
   "execution_count": 1,
   "id": "933ec548",
   "metadata": {
    "deletable": false,
    "id": "7bcf75c9"
   },
   "outputs": [],
   "source": [
    "import pandas as pd\n",
    "\n",
    "try:\n",
    "    data = pd.read_csv('/datasets/data.csv')\n",
    "except:\n",
    "    data = pd.read_csv('https://code.s3.yandex.net/datasets/data.csv')"
   ]
  },
  {
   "cell_type": "markdown",
   "id": "cc48bacb",
   "metadata": {
    "deletable": false,
    "editable": false,
    "id": "b8038fe3"
   },
   "source": [
    "**Задание 2. Выведите первые 20 строчек датафрейма `data` на экран.**"
   ]
  },
  {
   "cell_type": "code",
   "execution_count": 2,
   "id": "59fb9618",
   "metadata": {
    "deletable": false,
    "id": "2a7cab99",
    "outputId": "1a8f3ef2-d323-4ec2-ddf7-89670b5944c4"
   },
   "outputs": [
    {
     "data": {
      "text/html": [
       "<div>\n",
       "<style scoped>\n",
       "    .dataframe tbody tr th:only-of-type {\n",
       "        vertical-align: middle;\n",
       "    }\n",
       "\n",
       "    .dataframe tbody tr th {\n",
       "        vertical-align: top;\n",
       "    }\n",
       "\n",
       "    .dataframe thead th {\n",
       "        text-align: right;\n",
       "    }\n",
       "</style>\n",
       "<table border=\"1\" class=\"dataframe\">\n",
       "  <thead>\n",
       "    <tr style=\"text-align: right;\">\n",
       "      <th></th>\n",
       "      <th>children</th>\n",
       "      <th>days_employed</th>\n",
       "      <th>dob_years</th>\n",
       "      <th>education</th>\n",
       "      <th>education_id</th>\n",
       "      <th>family_status</th>\n",
       "      <th>family_status_id</th>\n",
       "      <th>gender</th>\n",
       "      <th>income_type</th>\n",
       "      <th>debt</th>\n",
       "      <th>total_income</th>\n",
       "      <th>purpose</th>\n",
       "    </tr>\n",
       "  </thead>\n",
       "  <tbody>\n",
       "    <tr>\n",
       "      <th>0</th>\n",
       "      <td>1</td>\n",
       "      <td>-8437.673028</td>\n",
       "      <td>42</td>\n",
       "      <td>высшее</td>\n",
       "      <td>0</td>\n",
       "      <td>женат / замужем</td>\n",
       "      <td>0</td>\n",
       "      <td>F</td>\n",
       "      <td>сотрудник</td>\n",
       "      <td>0</td>\n",
       "      <td>253875.639453</td>\n",
       "      <td>покупка жилья</td>\n",
       "    </tr>\n",
       "    <tr>\n",
       "      <th>1</th>\n",
       "      <td>1</td>\n",
       "      <td>-4024.803754</td>\n",
       "      <td>36</td>\n",
       "      <td>среднее</td>\n",
       "      <td>1</td>\n",
       "      <td>женат / замужем</td>\n",
       "      <td>0</td>\n",
       "      <td>F</td>\n",
       "      <td>сотрудник</td>\n",
       "      <td>0</td>\n",
       "      <td>112080.014102</td>\n",
       "      <td>приобретение автомобиля</td>\n",
       "    </tr>\n",
       "    <tr>\n",
       "      <th>2</th>\n",
       "      <td>0</td>\n",
       "      <td>-5623.422610</td>\n",
       "      <td>33</td>\n",
       "      <td>Среднее</td>\n",
       "      <td>1</td>\n",
       "      <td>женат / замужем</td>\n",
       "      <td>0</td>\n",
       "      <td>M</td>\n",
       "      <td>сотрудник</td>\n",
       "      <td>0</td>\n",
       "      <td>145885.952297</td>\n",
       "      <td>покупка жилья</td>\n",
       "    </tr>\n",
       "    <tr>\n",
       "      <th>3</th>\n",
       "      <td>3</td>\n",
       "      <td>-4124.747207</td>\n",
       "      <td>32</td>\n",
       "      <td>среднее</td>\n",
       "      <td>1</td>\n",
       "      <td>женат / замужем</td>\n",
       "      <td>0</td>\n",
       "      <td>M</td>\n",
       "      <td>сотрудник</td>\n",
       "      <td>0</td>\n",
       "      <td>267628.550329</td>\n",
       "      <td>дополнительное образование</td>\n",
       "    </tr>\n",
       "    <tr>\n",
       "      <th>4</th>\n",
       "      <td>0</td>\n",
       "      <td>340266.072047</td>\n",
       "      <td>53</td>\n",
       "      <td>среднее</td>\n",
       "      <td>1</td>\n",
       "      <td>гражданский брак</td>\n",
       "      <td>1</td>\n",
       "      <td>F</td>\n",
       "      <td>пенсионер</td>\n",
       "      <td>0</td>\n",
       "      <td>158616.077870</td>\n",
       "      <td>сыграть свадьбу</td>\n",
       "    </tr>\n",
       "    <tr>\n",
       "      <th>5</th>\n",
       "      <td>0</td>\n",
       "      <td>-926.185831</td>\n",
       "      <td>27</td>\n",
       "      <td>высшее</td>\n",
       "      <td>0</td>\n",
       "      <td>гражданский брак</td>\n",
       "      <td>1</td>\n",
       "      <td>M</td>\n",
       "      <td>компаньон</td>\n",
       "      <td>0</td>\n",
       "      <td>255763.565419</td>\n",
       "      <td>покупка жилья</td>\n",
       "    </tr>\n",
       "    <tr>\n",
       "      <th>6</th>\n",
       "      <td>0</td>\n",
       "      <td>-2879.202052</td>\n",
       "      <td>43</td>\n",
       "      <td>высшее</td>\n",
       "      <td>0</td>\n",
       "      <td>женат / замужем</td>\n",
       "      <td>0</td>\n",
       "      <td>F</td>\n",
       "      <td>компаньон</td>\n",
       "      <td>0</td>\n",
       "      <td>240525.971920</td>\n",
       "      <td>операции с жильем</td>\n",
       "    </tr>\n",
       "    <tr>\n",
       "      <th>7</th>\n",
       "      <td>0</td>\n",
       "      <td>-152.779569</td>\n",
       "      <td>50</td>\n",
       "      <td>СРЕДНЕЕ</td>\n",
       "      <td>1</td>\n",
       "      <td>женат / замужем</td>\n",
       "      <td>0</td>\n",
       "      <td>M</td>\n",
       "      <td>сотрудник</td>\n",
       "      <td>0</td>\n",
       "      <td>135823.934197</td>\n",
       "      <td>образование</td>\n",
       "    </tr>\n",
       "    <tr>\n",
       "      <th>8</th>\n",
       "      <td>2</td>\n",
       "      <td>-6929.865299</td>\n",
       "      <td>35</td>\n",
       "      <td>ВЫСШЕЕ</td>\n",
       "      <td>0</td>\n",
       "      <td>гражданский брак</td>\n",
       "      <td>1</td>\n",
       "      <td>F</td>\n",
       "      <td>сотрудник</td>\n",
       "      <td>0</td>\n",
       "      <td>95856.832424</td>\n",
       "      <td>на проведение свадьбы</td>\n",
       "    </tr>\n",
       "    <tr>\n",
       "      <th>9</th>\n",
       "      <td>0</td>\n",
       "      <td>-2188.756445</td>\n",
       "      <td>41</td>\n",
       "      <td>среднее</td>\n",
       "      <td>1</td>\n",
       "      <td>женат / замужем</td>\n",
       "      <td>0</td>\n",
       "      <td>M</td>\n",
       "      <td>сотрудник</td>\n",
       "      <td>0</td>\n",
       "      <td>144425.938277</td>\n",
       "      <td>покупка жилья для семьи</td>\n",
       "    </tr>\n",
       "    <tr>\n",
       "      <th>10</th>\n",
       "      <td>2</td>\n",
       "      <td>-4171.483647</td>\n",
       "      <td>36</td>\n",
       "      <td>высшее</td>\n",
       "      <td>0</td>\n",
       "      <td>женат / замужем</td>\n",
       "      <td>0</td>\n",
       "      <td>M</td>\n",
       "      <td>компаньон</td>\n",
       "      <td>0</td>\n",
       "      <td>113943.491460</td>\n",
       "      <td>покупка недвижимости</td>\n",
       "    </tr>\n",
       "    <tr>\n",
       "      <th>11</th>\n",
       "      <td>0</td>\n",
       "      <td>-792.701887</td>\n",
       "      <td>40</td>\n",
       "      <td>среднее</td>\n",
       "      <td>1</td>\n",
       "      <td>женат / замужем</td>\n",
       "      <td>0</td>\n",
       "      <td>F</td>\n",
       "      <td>сотрудник</td>\n",
       "      <td>0</td>\n",
       "      <td>77069.234271</td>\n",
       "      <td>покупка коммерческой недвижимости</td>\n",
       "    </tr>\n",
       "    <tr>\n",
       "      <th>12</th>\n",
       "      <td>0</td>\n",
       "      <td>NaN</td>\n",
       "      <td>65</td>\n",
       "      <td>среднее</td>\n",
       "      <td>1</td>\n",
       "      <td>гражданский брак</td>\n",
       "      <td>1</td>\n",
       "      <td>M</td>\n",
       "      <td>пенсионер</td>\n",
       "      <td>0</td>\n",
       "      <td>NaN</td>\n",
       "      <td>сыграть свадьбу</td>\n",
       "    </tr>\n",
       "    <tr>\n",
       "      <th>13</th>\n",
       "      <td>0</td>\n",
       "      <td>-1846.641941</td>\n",
       "      <td>54</td>\n",
       "      <td>неоконченное высшее</td>\n",
       "      <td>2</td>\n",
       "      <td>женат / замужем</td>\n",
       "      <td>0</td>\n",
       "      <td>F</td>\n",
       "      <td>сотрудник</td>\n",
       "      <td>0</td>\n",
       "      <td>130458.228857</td>\n",
       "      <td>приобретение автомобиля</td>\n",
       "    </tr>\n",
       "    <tr>\n",
       "      <th>14</th>\n",
       "      <td>0</td>\n",
       "      <td>-1844.956182</td>\n",
       "      <td>56</td>\n",
       "      <td>высшее</td>\n",
       "      <td>0</td>\n",
       "      <td>гражданский брак</td>\n",
       "      <td>1</td>\n",
       "      <td>F</td>\n",
       "      <td>компаньон</td>\n",
       "      <td>1</td>\n",
       "      <td>165127.911772</td>\n",
       "      <td>покупка жилой недвижимости</td>\n",
       "    </tr>\n",
       "    <tr>\n",
       "      <th>15</th>\n",
       "      <td>1</td>\n",
       "      <td>-972.364419</td>\n",
       "      <td>26</td>\n",
       "      <td>среднее</td>\n",
       "      <td>1</td>\n",
       "      <td>женат / замужем</td>\n",
       "      <td>0</td>\n",
       "      <td>F</td>\n",
       "      <td>сотрудник</td>\n",
       "      <td>0</td>\n",
       "      <td>116820.904450</td>\n",
       "      <td>строительство собственной недвижимости</td>\n",
       "    </tr>\n",
       "    <tr>\n",
       "      <th>16</th>\n",
       "      <td>0</td>\n",
       "      <td>-1719.934226</td>\n",
       "      <td>35</td>\n",
       "      <td>среднее</td>\n",
       "      <td>1</td>\n",
       "      <td>женат / замужем</td>\n",
       "      <td>0</td>\n",
       "      <td>F</td>\n",
       "      <td>сотрудник</td>\n",
       "      <td>0</td>\n",
       "      <td>289202.704229</td>\n",
       "      <td>недвижимость</td>\n",
       "    </tr>\n",
       "    <tr>\n",
       "      <th>17</th>\n",
       "      <td>0</td>\n",
       "      <td>-2369.999720</td>\n",
       "      <td>33</td>\n",
       "      <td>высшее</td>\n",
       "      <td>0</td>\n",
       "      <td>гражданский брак</td>\n",
       "      <td>1</td>\n",
       "      <td>M</td>\n",
       "      <td>сотрудник</td>\n",
       "      <td>0</td>\n",
       "      <td>90410.586745</td>\n",
       "      <td>строительство недвижимости</td>\n",
       "    </tr>\n",
       "    <tr>\n",
       "      <th>18</th>\n",
       "      <td>0</td>\n",
       "      <td>400281.136913</td>\n",
       "      <td>53</td>\n",
       "      <td>среднее</td>\n",
       "      <td>1</td>\n",
       "      <td>вдовец / вдова</td>\n",
       "      <td>2</td>\n",
       "      <td>F</td>\n",
       "      <td>пенсионер</td>\n",
       "      <td>0</td>\n",
       "      <td>56823.777243</td>\n",
       "      <td>на покупку подержанного автомобиля</td>\n",
       "    </tr>\n",
       "    <tr>\n",
       "      <th>19</th>\n",
       "      <td>0</td>\n",
       "      <td>-10038.818549</td>\n",
       "      <td>48</td>\n",
       "      <td>СРЕДНЕЕ</td>\n",
       "      <td>1</td>\n",
       "      <td>в разводе</td>\n",
       "      <td>3</td>\n",
       "      <td>F</td>\n",
       "      <td>сотрудник</td>\n",
       "      <td>0</td>\n",
       "      <td>242831.107982</td>\n",
       "      <td>на покупку своего автомобиля</td>\n",
       "    </tr>\n",
       "  </tbody>\n",
       "</table>\n",
       "</div>"
      ],
      "text/plain": [
       "    children  days_employed  dob_years            education  education_id  \\\n",
       "0          1   -8437.673028         42               высшее             0   \n",
       "1          1   -4024.803754         36              среднее             1   \n",
       "2          0   -5623.422610         33              Среднее             1   \n",
       "3          3   -4124.747207         32              среднее             1   \n",
       "4          0  340266.072047         53              среднее             1   \n",
       "5          0    -926.185831         27               высшее             0   \n",
       "6          0   -2879.202052         43               высшее             0   \n",
       "7          0    -152.779569         50              СРЕДНЕЕ             1   \n",
       "8          2   -6929.865299         35               ВЫСШЕЕ             0   \n",
       "9          0   -2188.756445         41              среднее             1   \n",
       "10         2   -4171.483647         36               высшее             0   \n",
       "11         0    -792.701887         40              среднее             1   \n",
       "12         0            NaN         65              среднее             1   \n",
       "13         0   -1846.641941         54  неоконченное высшее             2   \n",
       "14         0   -1844.956182         56               высшее             0   \n",
       "15         1    -972.364419         26              среднее             1   \n",
       "16         0   -1719.934226         35              среднее             1   \n",
       "17         0   -2369.999720         33               высшее             0   \n",
       "18         0  400281.136913         53              среднее             1   \n",
       "19         0  -10038.818549         48              СРЕДНЕЕ             1   \n",
       "\n",
       "       family_status  family_status_id gender income_type  debt  \\\n",
       "0    женат / замужем                 0      F   сотрудник     0   \n",
       "1    женат / замужем                 0      F   сотрудник     0   \n",
       "2    женат / замужем                 0      M   сотрудник     0   \n",
       "3    женат / замужем                 0      M   сотрудник     0   \n",
       "4   гражданский брак                 1      F   пенсионер     0   \n",
       "5   гражданский брак                 1      M   компаньон     0   \n",
       "6    женат / замужем                 0      F   компаньон     0   \n",
       "7    женат / замужем                 0      M   сотрудник     0   \n",
       "8   гражданский брак                 1      F   сотрудник     0   \n",
       "9    женат / замужем                 0      M   сотрудник     0   \n",
       "10   женат / замужем                 0      M   компаньон     0   \n",
       "11   женат / замужем                 0      F   сотрудник     0   \n",
       "12  гражданский брак                 1      M   пенсионер     0   \n",
       "13   женат / замужем                 0      F   сотрудник     0   \n",
       "14  гражданский брак                 1      F   компаньон     1   \n",
       "15   женат / замужем                 0      F   сотрудник     0   \n",
       "16   женат / замужем                 0      F   сотрудник     0   \n",
       "17  гражданский брак                 1      M   сотрудник     0   \n",
       "18    вдовец / вдова                 2      F   пенсионер     0   \n",
       "19         в разводе                 3      F   сотрудник     0   \n",
       "\n",
       "     total_income                                 purpose  \n",
       "0   253875.639453                           покупка жилья  \n",
       "1   112080.014102                 приобретение автомобиля  \n",
       "2   145885.952297                           покупка жилья  \n",
       "3   267628.550329              дополнительное образование  \n",
       "4   158616.077870                         сыграть свадьбу  \n",
       "5   255763.565419                           покупка жилья  \n",
       "6   240525.971920                       операции с жильем  \n",
       "7   135823.934197                             образование  \n",
       "8    95856.832424                   на проведение свадьбы  \n",
       "9   144425.938277                 покупка жилья для семьи  \n",
       "10  113943.491460                    покупка недвижимости  \n",
       "11   77069.234271       покупка коммерческой недвижимости  \n",
       "12            NaN                         сыграть свадьбу  \n",
       "13  130458.228857                 приобретение автомобиля  \n",
       "14  165127.911772              покупка жилой недвижимости  \n",
       "15  116820.904450  строительство собственной недвижимости  \n",
       "16  289202.704229                            недвижимость  \n",
       "17   90410.586745              строительство недвижимости  \n",
       "18   56823.777243      на покупку подержанного автомобиля  \n",
       "19  242831.107982            на покупку своего автомобиля  "
      ]
     },
     "execution_count": 2,
     "metadata": {},
     "output_type": "execute_result"
    }
   ],
   "source": [
    "data.head(20)"
   ]
  },
  {
   "cell_type": "markdown",
   "id": "ad6132c7",
   "metadata": {
    "deletable": false,
    "editable": false,
    "id": "1c12e233"
   },
   "source": [
    "**Задание 3. Выведите основную информацию о датафрейме с помощью метода `info()`.**"
   ]
  },
  {
   "cell_type": "code",
   "execution_count": 3,
   "id": "f6c28564",
   "metadata": {
    "deletable": false,
    "id": "2b757bca",
    "outputId": "15376089-8dad-46c9-b520-c05248d43158"
   },
   "outputs": [
    {
     "name": "stdout",
     "output_type": "stream",
     "text": [
      "<class 'pandas.core.frame.DataFrame'>\n",
      "RangeIndex: 21525 entries, 0 to 21524\n",
      "Data columns (total 12 columns):\n",
      " #   Column            Non-Null Count  Dtype  \n",
      "---  ------            --------------  -----  \n",
      " 0   children          21525 non-null  int64  \n",
      " 1   days_employed     19351 non-null  float64\n",
      " 2   dob_years         21525 non-null  int64  \n",
      " 3   education         21525 non-null  object \n",
      " 4   education_id      21525 non-null  int64  \n",
      " 5   family_status     21525 non-null  object \n",
      " 6   family_status_id  21525 non-null  int64  \n",
      " 7   gender            21525 non-null  object \n",
      " 8   income_type       21525 non-null  object \n",
      " 9   debt              21525 non-null  int64  \n",
      " 10  total_income      19351 non-null  float64\n",
      " 11  purpose           21525 non-null  object \n",
      "dtypes: float64(2), int64(5), object(5)\n",
      "memory usage: 2.0+ MB\n"
     ]
    }
   ],
   "source": [
    "data.info()"
   ]
  },
  {
   "cell_type": "markdown",
   "id": "a20547a0",
   "metadata": {
    "deletable": false,
    "editable": false,
    "id": "333ec665"
   },
   "source": [
    "## Предобработка данных"
   ]
  },
  {
   "cell_type": "markdown",
   "id": "3ebd5908",
   "metadata": {
    "deletable": false,
    "editable": false,
    "id": "02d92d53"
   },
   "source": [
    "### Удаление пропусков"
   ]
  },
  {
   "cell_type": "markdown",
   "id": "175753a1",
   "metadata": {
    "deletable": false,
    "editable": false,
    "id": "cd84967c"
   },
   "source": [
    "**Задание 4. Выведите количество пропущенных значений для каждого столбца. Используйте комбинацию двух методов.**"
   ]
  },
  {
   "cell_type": "code",
   "execution_count": 4,
   "id": "571265b0",
   "metadata": {
    "deletable": false,
    "id": "7f9b2309",
    "outputId": "81f4d817-781c-465c-ed15-91ce4446810d"
   },
   "outputs": [
    {
     "data": {
      "text/plain": [
       "children               0\n",
       "days_employed       2174\n",
       "dob_years              0\n",
       "education              0\n",
       "education_id           0\n",
       "family_status          0\n",
       "family_status_id       0\n",
       "gender                 0\n",
       "income_type            0\n",
       "debt                   0\n",
       "total_income        2174\n",
       "purpose                0\n",
       "dtype: int64"
      ]
     },
     "execution_count": 4,
     "metadata": {},
     "output_type": "execute_result"
    }
   ],
   "source": [
    "data.isna().sum()"
   ]
  },
  {
   "cell_type": "markdown",
   "id": "7793037a",
   "metadata": {
    "deletable": false,
    "editable": false,
    "id": "db86e27b"
   },
   "source": [
    "**Задание 5. В двух столбцах есть пропущенные значения. Один из них — `days_employed`. Пропуски в этом столбце вы обработаете на следующем этапе. Другой столбец с пропущенными значениями — `total_income` — хранит данные о доходах. На сумму дохода сильнее всего влияет тип занятости, поэтому заполнить пропуски в этом столбце нужно медианным значением по каждому типу из столбца `income_type`. Например, у человека с типом занятости `сотрудник` пропуск в столбце `total_income` должен быть заполнен медианным доходом среди всех записей с тем же типом.**"
   ]
  },
  {
   "cell_type": "code",
   "execution_count": 5,
   "id": "5fbeedc2",
   "metadata": {
    "deletable": false,
    "id": "42006a93"
   },
   "outputs": [],
   "source": [
    "for t in data['income_type'].unique():\n",
    "    data.loc[(data['income_type'] == t) & (data['total_income'].isna()), 'total_income'] = \\\n",
    "    data.loc[(data['income_type'] == t), 'total_income'].median()"
   ]
  },
  {
   "cell_type": "markdown",
   "id": "0703b88e",
   "metadata": {
    "deletable": false,
    "editable": false,
    "id": "89da5ece"
   },
   "source": [
    "### Обработка аномальных значений"
   ]
  },
  {
   "cell_type": "markdown",
   "id": "221a869e",
   "metadata": {
    "deletable": false,
    "editable": false,
    "id": "57964554"
   },
   "source": [
    "**Задание 6. В данных могут встречаться артефакты (аномалии) — значения, которые не отражают действительность и появились по какой-то ошибке. таким артефактом будет отрицательное количество дней трудового стажа в столбце `days_employed`. Для реальных данных это нормально. Обработайте значения в этом столбце: замените все отрицательные значения положительными с помощью метода `abs()`.**"
   ]
  },
  {
   "cell_type": "code",
   "execution_count": 6,
   "id": "4ac500d0",
   "metadata": {
    "deletable": false,
    "id": "f6f055bf"
   },
   "outputs": [],
   "source": [
    "data['days_employed'] = data['days_employed'].abs()"
   ]
  },
  {
   "cell_type": "markdown",
   "id": "8c875412",
   "metadata": {
    "deletable": false,
    "editable": false,
    "id": "6107dd2f"
   },
   "source": [
    "**Задание 7. Для каждого типа занятости выведите медианное значение трудового стажа `days_employed` в днях.**"
   ]
  },
  {
   "cell_type": "code",
   "execution_count": 7,
   "id": "a473846b",
   "metadata": {
    "deletable": false,
    "id": "85a5faf6",
    "outputId": "801ef80e-522b-4668-f34e-565af7432bcf"
   },
   "outputs": [
    {
     "data": {
      "text/plain": [
       "income_type\n",
       "безработный        366413.652744\n",
       "в декрете            3296.759962\n",
       "госслужащий          2689.368353\n",
       "компаньон            1547.382223\n",
       "пенсионер          365213.306266\n",
       "предприниматель       520.848083\n",
       "сотрудник            1574.202821\n",
       "студент               578.751554\n",
       "Name: days_employed, dtype: float64"
      ]
     },
     "execution_count": 7,
     "metadata": {},
     "output_type": "execute_result"
    }
   ],
   "source": [
    "data.groupby('income_type')['days_employed'].agg('median')"
   ]
  },
  {
   "cell_type": "markdown",
   "id": "caa61912",
   "metadata": {
    "deletable": false,
    "editable": false,
    "id": "38d1a030"
   },
   "source": [
    "У двух типов (безработные и пенсионеры) получатся аномально большие значения. Исправить такие значения сложно, поэтому оставьте их как есть. Тем более этот столбец не понадобится вам для исследования."
   ]
  },
  {
   "cell_type": "markdown",
   "id": "a806cfea",
   "metadata": {
    "deletable": false,
    "editable": false,
    "id": "d8a9f147"
   },
   "source": [
    "**Задание 8. Выведите перечень уникальных значений столбца `children`.**"
   ]
  },
  {
   "cell_type": "code",
   "execution_count": 8,
   "id": "fe3ee029",
   "metadata": {
    "deletable": false,
    "id": "ef5056eb",
    "outputId": "6975b15c-7f95-4697-d16d-a0c79b657b03"
   },
   "outputs": [
    {
     "data": {
      "text/plain": [
       "array([ 1,  0,  3,  2, -1,  4, 20,  5])"
      ]
     },
     "execution_count": 8,
     "metadata": {},
     "output_type": "execute_result"
    }
   ],
   "source": [
    "data['children'].unique()"
   ]
  },
  {
   "cell_type": "markdown",
   "id": "734485b3",
   "metadata": {
    "deletable": false,
    "editable": false,
    "id": "40b9ebf2"
   },
   "source": [
    "**Задание 9. В столбце `children` есть два аномальных значения. Удалите строки, в которых встречаются такие аномальные значения из датафрейма `data`.**"
   ]
  },
  {
   "cell_type": "code",
   "execution_count": 9,
   "id": "4cd295ec",
   "metadata": {
    "deletable": false,
    "id": "3ff9801d"
   },
   "outputs": [],
   "source": [
    "data = data[(data['children'] != -1) & (data['children'] != 20)]"
   ]
  },
  {
   "cell_type": "markdown",
   "id": "96ead102",
   "metadata": {
    "deletable": false,
    "editable": false,
    "id": "bbc4d0ce"
   },
   "source": [
    "**Задание 10. Ещё раз выведите перечень уникальных значений столбца `children`, чтобы убедиться, что артефакты удалены.**"
   ]
  },
  {
   "cell_type": "code",
   "execution_count": 10,
   "id": "909b9d38",
   "metadata": {
    "deletable": false,
    "id": "ad4fa8b7",
    "outputId": "b2097101-d49d-44d9-901b-32a65c9463d1"
   },
   "outputs": [
    {
     "data": {
      "text/plain": [
       "array([1, 0, 3, 2, 4, 5])"
      ]
     },
     "execution_count": 10,
     "metadata": {},
     "output_type": "execute_result"
    }
   ],
   "source": [
    "data['children'].unique()"
   ]
  },
  {
   "cell_type": "markdown",
   "id": "780cc736",
   "metadata": {
    "deletable": false,
    "editable": false,
    "id": "75440b63"
   },
   "source": [
    "### Удаление пропусков (продолжение)"
   ]
  },
  {
   "cell_type": "markdown",
   "id": "48897d24",
   "metadata": {
    "deletable": false,
    "editable": false,
    "id": "f4ea573f"
   },
   "source": [
    "**Задание 11. Заполните пропуски в столбце `days_employed` медианными значениями по каждого типа занятости `income_type`.**"
   ]
  },
  {
   "cell_type": "code",
   "execution_count": 11,
   "id": "eefcef13",
   "metadata": {
    "deletable": false,
    "id": "af6b1a7e"
   },
   "outputs": [],
   "source": [
    "for t in data['income_type'].unique():\n",
    "    data.loc[(data['income_type'] == t) & (data['days_employed'].isna()), 'days_employed'] = \\\n",
    "    data.loc[(data['income_type'] == t), 'days_employed'].median()"
   ]
  },
  {
   "cell_type": "markdown",
   "id": "8212a23c",
   "metadata": {
    "deletable": false,
    "editable": false,
    "id": "2753f40d"
   },
   "source": [
    "**Задание 12. Убедитесь, что все пропуски заполнены. Проверьте себя и ещё раз выведите количество пропущенных значений для каждого столбца с помощью двух методов.**"
   ]
  },
  {
   "cell_type": "code",
   "execution_count": 12,
   "id": "4cf75607",
   "metadata": {
    "deletable": false,
    "id": "55f78bc2",
    "outputId": "8da1e4e1-358e-4e87-98c9-f261bce0a7b2"
   },
   "outputs": [
    {
     "data": {
      "text/plain": [
       "children            0\n",
       "days_employed       0\n",
       "dob_years           0\n",
       "education           0\n",
       "education_id        0\n",
       "family_status       0\n",
       "family_status_id    0\n",
       "gender              0\n",
       "income_type         0\n",
       "debt                0\n",
       "total_income        0\n",
       "purpose             0\n",
       "dtype: int64"
      ]
     },
     "execution_count": 12,
     "metadata": {},
     "output_type": "execute_result"
    }
   ],
   "source": [
    "data.isna().sum()"
   ]
  },
  {
   "cell_type": "markdown",
   "id": "3099bf4f",
   "metadata": {
    "deletable": false,
    "editable": false,
    "id": "ddc81e43"
   },
   "source": [
    "### Изменение типов данных"
   ]
  },
  {
   "cell_type": "markdown",
   "id": "a5459885",
   "metadata": {
    "deletable": false,
    "editable": false,
    "id": "42d19d24"
   },
   "source": [
    "**Задание 13. Замените вещественный тип данных в столбце `total_income` на целочисленный с помощью метода `astype()`.**"
   ]
  },
  {
   "cell_type": "code",
   "execution_count": 13,
   "id": "e9bf9ce1",
   "metadata": {
    "deletable": false,
    "id": "920b65ad"
   },
   "outputs": [],
   "source": [
    "data['total_income'] = data['total_income'].astype(int)"
   ]
  },
  {
   "cell_type": "markdown",
   "id": "512f0fa5",
   "metadata": {
    "deletable": false,
    "editable": false,
    "id": "80c420ba"
   },
   "source": [
    "### Обработка дубликатов"
   ]
  },
  {
   "cell_type": "markdown",
   "id": "17eab695",
   "metadata": {
    "deletable": false,
    "editable": false
   },
   "source": [
    "**Задание 14. Обработайте неявные дубликаты в столбце `education`. В этом столбце есть одни и те же значения, но записанные по-разному: с использованием заглавных и строчных букв. Приведите их к нижнему регистру. Проверьте остальные столбцы.**"
   ]
  },
  {
   "cell_type": "code",
   "execution_count": 14,
   "id": "a54e5901",
   "metadata": {
    "deletable": false
   },
   "outputs": [],
   "source": [
    "data['education'] = data['education'].str.lower()"
   ]
  },
  {
   "cell_type": "markdown",
   "id": "11378e24",
   "metadata": {
    "deletable": false,
    "editable": false,
    "id": "dc587695"
   },
   "source": [
    "**Задание 15. Выведите на экран количество строк-дубликатов в данных. Если такие строки присутствуют, удалите их.**"
   ]
  },
  {
   "cell_type": "code",
   "execution_count": 15,
   "id": "ebef704b",
   "metadata": {
    "deletable": false,
    "id": "3ee445e4",
    "outputId": "9684deba-1934-42d1-99e1-cda61740f822"
   },
   "outputs": [
    {
     "data": {
      "text/plain": [
       "71"
      ]
     },
     "execution_count": 15,
     "metadata": {},
     "output_type": "execute_result"
    }
   ],
   "source": [
    "data.duplicated().sum()"
   ]
  },
  {
   "cell_type": "code",
   "execution_count": 16,
   "id": "a9db9edf",
   "metadata": {
    "deletable": false,
    "id": "8575fe05"
   },
   "outputs": [],
   "source": [
    "data = data.drop_duplicates()"
   ]
  },
  {
   "cell_type": "markdown",
   "id": "94fe075a",
   "metadata": {
    "deletable": false,
    "editable": false,
    "id": "9904cf55"
   },
   "source": [
    "### Категоризация данных"
   ]
  },
  {
   "cell_type": "markdown",
   "id": "f5ca9cc6",
   "metadata": {
    "deletable": false,
    "editable": false,
    "id": "72fcc8a2"
   },
   "source": [
    "**Задание 16. На основании диапазонов, указанных ниже, создайте в датафрейме `data` столбец `total_income_category` с категориями:**\n",
    "\n",
    "- 0–30000 — `'E'`;\n",
    "- 30001–50000 — `'D'`;\n",
    "- 50001–200000 — `'C'`;\n",
    "- 200001–1000000 — `'B'`;\n",
    "- 1000001 и выше — `'A'`.\n",
    "\n",
    "\n",
    "**Например, кредитополучателю с доходом 25000 нужно назначить категорию `'E'`, а клиенту, получающему 235000, — `'B'`. Используйте собственную функцию с именем `categorize_income()` и метод `apply()`.**"
   ]
  },
  {
   "cell_type": "code",
   "execution_count": 17,
   "id": "f4d2c021",
   "metadata": {
    "deletable": false,
    "id": "e1771346"
   },
   "outputs": [],
   "source": [
    "def categorize_income(income):\n",
    "    try:\n",
    "        if 0 <= income <= 30000:\n",
    "            return 'E'\n",
    "        elif 30001 <= income <= 50000:\n",
    "            return 'D'\n",
    "        elif 50001 <= income <= 200000:\n",
    "            return 'C'\n",
    "        elif 200001 <= income <= 1000000:\n",
    "            return 'B'\n",
    "        elif income >= 1000001:\n",
    "            return 'A'\n",
    "    except:\n",
    "        pass"
   ]
  },
  {
   "cell_type": "code",
   "execution_count": 18,
   "id": "98b4efe0",
   "metadata": {
    "deletable": false,
    "id": "d5f3586d"
   },
   "outputs": [],
   "source": [
    "data['total_income_category'] = data['total_income'].apply(categorize_income)"
   ]
  },
  {
   "cell_type": "markdown",
   "id": "ef995fe7",
   "metadata": {
    "deletable": false,
    "editable": false,
    "id": "dde49b5c"
   },
   "source": [
    "**Задание 17. Выведите на экран перечень уникальных целей взятия кредита из столбца `purpose`.**"
   ]
  },
  {
   "cell_type": "code",
   "execution_count": 19,
   "id": "f4202a08",
   "metadata": {
    "deletable": false,
    "id": "f67ce9b3",
    "outputId": "673c12d9-7d7e-4ae0-9812-c622c89dd244"
   },
   "outputs": [
    {
     "data": {
      "text/plain": [
       "array(['покупка жилья', 'приобретение автомобиля',\n",
       "       'дополнительное образование', 'сыграть свадьбу',\n",
       "       'операции с жильем', 'образование', 'на проведение свадьбы',\n",
       "       'покупка жилья для семьи', 'покупка недвижимости',\n",
       "       'покупка коммерческой недвижимости', 'покупка жилой недвижимости',\n",
       "       'строительство собственной недвижимости', 'недвижимость',\n",
       "       'строительство недвижимости', 'на покупку подержанного автомобиля',\n",
       "       'на покупку своего автомобиля',\n",
       "       'операции с коммерческой недвижимостью',\n",
       "       'строительство жилой недвижимости', 'жилье',\n",
       "       'операции со своей недвижимостью', 'автомобили',\n",
       "       'заняться образованием', 'сделка с подержанным автомобилем',\n",
       "       'получение образования', 'автомобиль', 'свадьба',\n",
       "       'получение дополнительного образования', 'покупка своего жилья',\n",
       "       'операции с недвижимостью', 'получение высшего образования',\n",
       "       'свой автомобиль', 'сделка с автомобилем',\n",
       "       'профильное образование', 'высшее образование',\n",
       "       'покупка жилья для сдачи', 'на покупку автомобиля', 'ремонт жилью',\n",
       "       'заняться высшим образованием'], dtype=object)"
      ]
     },
     "execution_count": 19,
     "metadata": {},
     "output_type": "execute_result"
    }
   ],
   "source": [
    "data['purpose'].unique()"
   ]
  },
  {
   "cell_type": "markdown",
   "id": "c8cd7681",
   "metadata": {
    "deletable": false,
    "editable": false,
    "id": "85d0aef0"
   },
   "source": [
    "**Задание 18. Создайте функцию, которая на основании данных из столбца `purpose` сформирует новый столбец `purpose_category`, в который войдут следующие категории:**\n",
    "\n",
    "- `'операции с автомобилем'`,\n",
    "- `'операции с недвижимостью'`,\n",
    "- `'проведение свадьбы'`,\n",
    "- `'получение образования'`.\n",
    "\n",
    "**Например, если в столбце `purpose` находится подстрока `'на покупку автомобиля'`, то в столбце `purpose_category` должна появиться строка `'операции с автомобилем'`.**\n",
    "\n",
    "**Используйте собственную функцию с именем `categorize_purpose()` и метод `apply()`. Изучите данные в столбце `purpose` и определите, какие подстроки помогут вам правильно определить категорию.**"
   ]
  },
  {
   "cell_type": "code",
   "execution_count": 20,
   "id": "cb65c917",
   "metadata": {
    "deletable": false,
    "id": "e149fab4"
   },
   "outputs": [],
   "source": [
    "def categorize_purpose(row):\n",
    "    try:\n",
    "        if 'автом' in row:\n",
    "            return 'операции с автомобилем'\n",
    "        elif 'жил' in row or 'недвиж' in row:\n",
    "            return 'операции с недвижимостью'\n",
    "        elif 'свад' in row:\n",
    "            return 'проведение свадьбы'\n",
    "        elif 'образов' in row:\n",
    "            return 'получение образования'\n",
    "    except:\n",
    "        return 'нет категории'"
   ]
  },
  {
   "cell_type": "code",
   "execution_count": 21,
   "id": "773518da",
   "metadata": {
    "deletable": false,
    "id": "bf36e69b"
   },
   "outputs": [],
   "source": [
    "data['purpose_category'] = data['purpose'].apply(categorize_purpose)"
   ]
  },
  {
   "cell_type": "markdown",
   "id": "e2ed5222",
   "metadata": {
    "deletable": false,
    "editable": false,
    "id": "09b242bf"
   },
   "source": [
    "### Шаг 3. Исследуйте данные и ответьте на вопросы"
   ]
  },
  {
   "cell_type": "markdown",
   "id": "a5841e98",
   "metadata": {
    "deletable": false,
    "editable": false,
    "id": "c5d66278"
   },
   "source": [
    "#### 3.1 Есть ли зависимость между количеством детей и возвратом кредита в срок?"
   ]
  },
  {
   "cell_type": "code",
   "execution_count": 22,
   "id": "45469cc0",
   "metadata": {
    "deletable": false,
    "id": "2cacfc4a"
   },
   "outputs": [
    {
     "data": {
      "text/html": [
       "<div>\n",
       "<style scoped>\n",
       "    .dataframe tbody tr th:only-of-type {\n",
       "        vertical-align: middle;\n",
       "    }\n",
       "\n",
       "    .dataframe tbody tr th {\n",
       "        vertical-align: top;\n",
       "    }\n",
       "\n",
       "    .dataframe thead tr th {\n",
       "        text-align: left;\n",
       "    }\n",
       "\n",
       "    .dataframe thead tr:last-of-type th {\n",
       "        text-align: right;\n",
       "    }\n",
       "</style>\n",
       "<table border=\"1\" class=\"dataframe\">\n",
       "  <thead>\n",
       "    <tr>\n",
       "      <th></th>\n",
       "      <th colspan=\"3\" halign=\"left\">debt</th>\n",
       "    </tr>\n",
       "    <tr>\n",
       "      <th></th>\n",
       "      <th>количечество_наблюдений</th>\n",
       "      <th>количество_дефолтов</th>\n",
       "      <th>уровень дефолта</th>\n",
       "    </tr>\n",
       "    <tr>\n",
       "      <th>children</th>\n",
       "      <th></th>\n",
       "      <th></th>\n",
       "      <th></th>\n",
       "    </tr>\n",
       "  </thead>\n",
       "  <tbody>\n",
       "    <tr>\n",
       "      <th>0</th>\n",
       "      <td>14091</td>\n",
       "      <td>1063</td>\n",
       "      <td>0.075438</td>\n",
       "    </tr>\n",
       "    <tr>\n",
       "      <th>1</th>\n",
       "      <td>4808</td>\n",
       "      <td>444</td>\n",
       "      <td>0.092346</td>\n",
       "    </tr>\n",
       "    <tr>\n",
       "      <th>2</th>\n",
       "      <td>2052</td>\n",
       "      <td>194</td>\n",
       "      <td>0.094542</td>\n",
       "    </tr>\n",
       "    <tr>\n",
       "      <th>3</th>\n",
       "      <td>330</td>\n",
       "      <td>27</td>\n",
       "      <td>0.081818</td>\n",
       "    </tr>\n",
       "    <tr>\n",
       "      <th>4</th>\n",
       "      <td>41</td>\n",
       "      <td>4</td>\n",
       "      <td>0.097561</td>\n",
       "    </tr>\n",
       "    <tr>\n",
       "      <th>5</th>\n",
       "      <td>9</td>\n",
       "      <td>0</td>\n",
       "      <td>0.000000</td>\n",
       "    </tr>\n",
       "  </tbody>\n",
       "</table>\n",
       "</div>"
      ],
      "text/plain": [
       "                            debt                                    \n",
       "         количечество_наблюдений количество_дефолтов уровень дефолта\n",
       "children                                                            \n",
       "0                          14091                1063        0.075438\n",
       "1                           4808                 444        0.092346\n",
       "2                           2052                 194        0.094542\n",
       "3                            330                  27        0.081818\n",
       "4                             41                   4        0.097561\n",
       "5                              9                   0        0.000000"
      ]
     },
     "execution_count": 22,
     "metadata": {},
     "output_type": "execute_result"
    }
   ],
   "source": [
    "#находим количество наблюдений и просрочек для каждой группы  \n",
    "defoult = data.groupby('children').agg({'debt': ['count', 'sum', 'mean']}).rename(columns={'count': 'количечество_наблюдений', 'sum': 'количество_дефолтов','mean': 'уровень дефолта' })\n",
    "defoult"
   ]
  },
  {
   "cell_type": "markdown",
   "id": "da324a78",
   "metadata": {
    "deletable": false,
    "id": "3a6b99ec"
   },
   "source": [
    "**Вывод:** cамые ненадежные заемщики с самой высокой долей просрочек 9,8% - это многодетные семьи с 4-мя детьми;\n",
    "самые надежные заемщики с самой низкой долей просрочек по кредиту 7,5% - это заемщики без детей.\n",
    "\n",
    "Необходимо отметить, что для семей с пятью детьми, доля просрочек в данном наблюдении равна нулю. Однако, было бы неправильно делать вывод о том, что многодетные семьи с 5-ю детьми являются надежными заемщики. В рассматриваемом массиве данных, количество наблюдений с многодетными семьями с 5-ю детьми не велико и статистически не значимо."
   ]
  },
  {
   "cell_type": "markdown",
   "id": "a57aef3f",
   "metadata": {
    "deletable": false,
    "editable": false,
    "id": "97be82ca"
   },
   "source": [
    "#### 3.2 Есть ли зависимость между семейным положением и возвратом кредита в срок?"
   ]
  },
  {
   "cell_type": "code",
   "execution_count": 30,
   "id": "94e112a8",
   "metadata": {
    "deletable": false,
    "id": "dc3f7ee8"
   },
   "outputs": [
    {
     "data": {
      "text/html": [
       "<div>\n",
       "<style scoped>\n",
       "    .dataframe tbody tr th:only-of-type {\n",
       "        vertical-align: middle;\n",
       "    }\n",
       "\n",
       "    .dataframe tbody tr th {\n",
       "        vertical-align: top;\n",
       "    }\n",
       "\n",
       "    .dataframe thead th {\n",
       "        text-align: right;\n",
       "    }\n",
       "</style>\n",
       "<table border=\"1\" class=\"dataframe\">\n",
       "  <thead>\n",
       "    <tr style=\"text-align: right;\">\n",
       "      <th></th>\n",
       "      <th>debt_mean</th>\n",
       "      <th>debt_cnt</th>\n",
       "      <th>debt_sum</th>\n",
       "    </tr>\n",
       "    <tr>\n",
       "      <th>family_status</th>\n",
       "      <th></th>\n",
       "      <th></th>\n",
       "      <th></th>\n",
       "    </tr>\n",
       "  </thead>\n",
       "  <tbody>\n",
       "    <tr>\n",
       "      <th>Не женат / не замужем</th>\n",
       "      <td>0.097639</td>\n",
       "      <td>2796</td>\n",
       "      <td>273</td>\n",
       "    </tr>\n",
       "    <tr>\n",
       "      <th>в разводе</th>\n",
       "      <td>0.070648</td>\n",
       "      <td>1189</td>\n",
       "      <td>84</td>\n",
       "    </tr>\n",
       "    <tr>\n",
       "      <th>вдовец / вдова</th>\n",
       "      <td>0.066246</td>\n",
       "      <td>951</td>\n",
       "      <td>63</td>\n",
       "    </tr>\n",
       "    <tr>\n",
       "      <th>гражданский брак</th>\n",
       "      <td>0.093130</td>\n",
       "      <td>4134</td>\n",
       "      <td>385</td>\n",
       "    </tr>\n",
       "    <tr>\n",
       "      <th>женат / замужем</th>\n",
       "      <td>0.075606</td>\n",
       "      <td>12261</td>\n",
       "      <td>927</td>\n",
       "    </tr>\n",
       "  </tbody>\n",
       "</table>\n",
       "</div>"
      ],
      "text/plain": [
       "                       debt_mean  debt_cnt  debt_sum\n",
       "family_status                                       \n",
       "Не женат / не замужем   0.097639      2796       273\n",
       "в разводе               0.070648      1189        84\n",
       "вдовец / вдова          0.066246       951        63\n",
       "гражданский брак        0.093130      4134       385\n",
       "женат / замужем         0.075606     12261       927"
      ]
     },
     "execution_count": 30,
     "metadata": {},
     "output_type": "execute_result"
    }
   ],
   "source": [
    "#находим количество наблюдений и просрочек для каждой группы  \n",
    "#defoult = data.groupby('family_status').agg({'debt': ['count', 'sum', 'mean']})\n",
    "#db = db.sort_values(by='radius', ascending=False) \n",
    "#print(f'Доля русского языка в интернете составляет {russian_web_part:.2%}')\n",
    "\n",
    "defoult = data.groupby('family_status').agg(debt_mean=('debt', 'mean'), debt_cnt=('debt', 'count'), debt_sum=('debt', 'sum'))\n",
    "defoult.sort_values(by='debt_mean', ascending=False)\n",
    "defoult"
   ]
  },
  {
   "cell_type": "markdown",
   "id": "ad81e65a",
   "metadata": {
    "deletable": false,
    "id": "1cef7837"
   },
   "source": [
    "**Вывод:** \n",
    "\n",
    "Одинокие заемщики без семьи имеют наибольшую долю просрочек по кредитам (9,8%). На втором месте в списке нарушителей платежной дисциплины идут заемщики, находящиеся в гражданском браке (9,3%).  \n",
    "\n",
    "Наименьшая доля просрочек по кредитам 6,6%) выявлена у овдовевших супругов."
   ]
  },
  {
   "cell_type": "markdown",
   "id": "0b9d1cea",
   "metadata": {
    "deletable": false,
    "editable": false,
    "id": "1e8b2fca"
   },
   "source": [
    "#### 3.3 Есть ли зависимость между уровнем дохода и возвратом кредита в срок?"
   ]
  },
  {
   "cell_type": "code",
   "execution_count": null,
   "id": "c56573bf",
   "metadata": {
    "deletable": false,
    "id": "cd7e3720"
   },
   "outputs": [],
   "source": [
    "#находим количество наблюдений и просрочек для каждой группы  \n",
    "defoult = data.groupby('total_income_category').agg({'debt': ['count', 'sum', 'mean']}).rename(columns={'count': 'количечество_наблюдений', 'sum': 'количество_дефолтов','mean': 'уровень дефолта' })\n",
    "defoult"
   ]
  },
  {
   "cell_type": "markdown",
   "id": "ce78d409",
   "metadata": {
    "deletable": false,
    "id": "e8593def"
   },
   "source": [
    "**Вывод:** \n",
    "\n",
    "Самая высокая доля просрочек по кредитам (9,1%) у заемщиков из категории 'Е' с уровнем дохода до 30 тыс. руб, которые относятся к категории \"малоимущих\";\n",
    "\n",
    "Далее по росту надежности следуют потенциальные заемщики из категорий 'А' с доходом выше 1 млн. руб (доля просрочек 8%) и 'С' с доходом 50–200 тыс руб (доля просрочек 8,5%);\n",
    "\n",
    "Самые надежные заемщики попадают в категорию 'D' с доходом 30–50 тыс. руб. (доля просрочек = 6%). С большой долей вероятности можно предположить, что в этой группе доминируют люди пенсионного возраста, которые отличаются высокой платежной дисциплиной."
   ]
  },
  {
   "cell_type": "markdown",
   "id": "f0dbb9a7",
   "metadata": {
    "deletable": false,
    "editable": false,
    "id": "99ecbd1f"
   },
   "source": [
    "#### 3.4 Как разные цели кредита влияют на его возврат в срок?"
   ]
  },
  {
   "cell_type": "code",
   "execution_count": null,
   "id": "1c9dd22f",
   "metadata": {
    "deletable": false,
    "id": "2b687290"
   },
   "outputs": [],
   "source": [
    "#находим количество наблюдений и просрочек для каждой группы  \n",
    "defoult = data.groupby('purpose_category').agg({'debt': ['count', 'sum', 'mean']}).rename(columns={'count': 'количечество_наблюдений', 'sum': 'количество_дефолтов','mean': 'уровень дефолта' })\n",
    "defoult"
   ]
  },
  {
   "cell_type": "markdown",
   "id": "087b46d0",
   "metadata": {
    "deletable": false,
    "id": "b4bb2ce6"
   },
   "source": [
    "**Вывод:** самые ненадежные заемщики это те, кто берут кредиты на покупку автомобиля (просрочка - 9,3%) и на образование (доля просрочки 9,3%);\n",
    "самые надежные заемщики берут кредиты на операции с недвижимостью (просрочка - 7,3%)."
   ]
  },
  {
   "cell_type": "markdown",
   "id": "fb3c0281",
   "metadata": {
    "deletable": false,
    "editable": false,
    "id": "09c3ac4c"
   },
   "source": [
    "#### 3.5 Приведите возможные причины появления пропусков в исходных данных."
   ]
  },
  {
   "cell_type": "markdown",
   "id": "56dca461",
   "metadata": {
    "deletable": false,
    "id": "9da2ceda"
   },
   "source": [
    "*Ответ:* \n",
    "Традиционными причинами, приводящими к появлению пропусков, являются:\n",
    "- невозможность их получения или обработки;\n",
    "- искажение или сокрытие информации;\n",
    "- всевозможные поломки технического оборудования;\n",
    "- природные явления;\n",
    "- экономические причины и т.д. "
   ]
  },
  {
   "cell_type": "markdown",
   "id": "1f69aae5",
   "metadata": {
    "deletable": false,
    "editable": false,
    "id": "7b0487d6"
   },
   "source": [
    "#### 3.6 Объясните, почему заполнить пропуски медианным значением — лучшее решение для количественных переменных."
   ]
  },
  {
   "cell_type": "markdown",
   "id": "af60b19a",
   "metadata": {
    "deletable": false,
    "id": "7ecf2b8e"
   },
   "source": [
    "*Ответ:* Медиана более робастная характеристика, так как на нее не влияют случайные выбросы и шум. К тому же, если данные имеют нормальное распределение и их количество велико, то медиана будет равняться среднему значению."
   ]
  },
  {
   "cell_type": "markdown",
   "id": "e3565371",
   "metadata": {
    "deletable": false,
    "editable": false,
    "id": "6db5255a"
   },
   "source": [
    "### Шаг 4: общий вывод."
   ]
  },
  {
   "cell_type": "markdown",
   "id": "7800f2f3",
   "metadata": {
    "deletable": false,
    "id": "bad65432"
   },
   "source": [
    "Таким бразом, на основании проведенного исследования можно сделать вывод о высоких рисках кредитования заемщиков не состоящих в официальных отношениях, а также заемщиков имеющих 4 детей. \n",
    "\n",
    "Самая высокая доля просрочек по кредитам (9,1%) наблюдается у заемщиков с уровнем дохода до 30 тыс. руб, которые относятся к категории \"малоимущих\".\n",
    "\n",
    "С точки зрения целей кредитования, наиболее рисковыми являются ссуды на покупку автомобиля и на образование практически с одинаковым уровнем вероятности дефолта - 9,3%.\n",
    "\n",
    "При этом необходимо отметить, что девиация просроченных выплат по каждой из категорий примерно одинакова. В среднем, это диапазоны от 7 до 9 процентов. В остальном, разница в абсолютных цифрах не такая большая."
   ]
  }
 ],
 "metadata": {
  "ExecuteTimeLog": [
   {
    "duration": 46,
    "start_time": "2022-12-02T07:07:47.142Z"
   },
   {
    "duration": 14,
    "start_time": "2022-12-02T07:09:13.302Z"
   },
   {
    "duration": 5,
    "start_time": "2022-12-02T07:12:09.661Z"
   },
   {
    "duration": 557,
    "start_time": "2022-12-02T07:13:46.331Z"
   },
   {
    "duration": 34,
    "start_time": "2022-12-02T07:13:46.890Z"
   },
   {
    "duration": 18,
    "start_time": "2022-12-02T07:13:46.929Z"
   },
   {
    "duration": 10,
    "start_time": "2022-12-02T07:13:46.948Z"
   },
   {
    "duration": 34,
    "start_time": "2022-12-02T07:13:46.960Z"
   },
   {
    "duration": 4,
    "start_time": "2022-12-02T07:13:46.995Z"
   },
   {
    "duration": 37,
    "start_time": "2022-12-02T07:13:47.005Z"
   },
   {
    "duration": 10,
    "start_time": "2022-12-02T07:13:47.043Z"
   },
   {
    "duration": 11,
    "start_time": "2022-12-02T07:13:47.055Z"
   },
   {
    "duration": 5,
    "start_time": "2022-12-02T07:13:47.067Z"
   },
   {
    "duration": 65,
    "start_time": "2022-12-02T07:13:47.074Z"
   },
   {
    "duration": 9,
    "start_time": "2022-12-02T07:13:47.141Z"
   },
   {
    "duration": 8,
    "start_time": "2022-12-02T07:13:47.151Z"
   },
   {
    "duration": 14,
    "start_time": "2022-12-02T07:13:47.161Z"
   },
   {
    "duration": 31,
    "start_time": "2022-12-02T07:13:47.177Z"
   },
   {
    "duration": 23,
    "start_time": "2022-12-02T07:13:47.216Z"
   },
   {
    "duration": 4,
    "start_time": "2022-12-02T07:13:47.241Z"
   },
   {
    "duration": 13,
    "start_time": "2022-12-02T07:13:47.247Z"
   },
   {
    "duration": 8,
    "start_time": "2022-12-02T07:13:47.261Z"
   },
   {
    "duration": 10,
    "start_time": "2022-12-02T07:13:47.271Z"
   },
   {
    "duration": 64,
    "start_time": "2022-12-02T07:13:47.283Z"
   },
   {
    "duration": 20,
    "start_time": "2022-12-02T07:13:54.424Z"
   },
   {
    "duration": 7,
    "start_time": "2022-12-02T07:16:29.660Z"
   },
   {
    "duration": 70,
    "start_time": "2022-12-02T07:22:25.192Z"
   },
   {
    "duration": 10,
    "start_time": "2022-12-02T07:23:03.141Z"
   },
   {
    "duration": 11,
    "start_time": "2022-12-02T07:23:43.250Z"
   },
   {
    "duration": 18,
    "start_time": "2022-12-02T07:36:24.500Z"
   },
   {
    "duration": 11,
    "start_time": "2022-12-02T07:37:01.881Z"
   },
   {
    "duration": 22,
    "start_time": "2022-12-02T07:43:30.400Z"
   },
   {
    "duration": 13,
    "start_time": "2022-12-02T07:54:45.841Z"
   },
   {
    "duration": 14,
    "start_time": "2022-12-02T07:55:15.424Z"
   },
   {
    "duration": 37,
    "start_time": "2022-12-02T07:55:37.690Z"
   },
   {
    "duration": 90,
    "start_time": "2022-12-02T08:01:56.887Z"
   },
   {
    "duration": 79,
    "start_time": "2022-12-02T08:02:38.740Z"
   },
   {
    "duration": 74,
    "start_time": "2022-12-02T08:02:47.120Z"
   },
   {
    "duration": 79,
    "start_time": "2022-12-02T08:05:11.400Z"
   },
   {
    "duration": 82,
    "start_time": "2022-12-02T08:05:26.970Z"
   },
   {
    "duration": 110,
    "start_time": "2022-12-02T08:05:46.019Z"
   },
   {
    "duration": 20,
    "start_time": "2022-12-02T08:06:42.980Z"
   },
   {
    "duration": 19,
    "start_time": "2022-12-02T08:19:35.679Z"
   },
   {
    "duration": 18,
    "start_time": "2022-12-02T08:19:55.100Z"
   },
   {
    "duration": 13,
    "start_time": "2022-12-02T08:25:19.640Z"
   },
   {
    "duration": 25,
    "start_time": "2022-12-02T08:29:35.501Z"
   },
   {
    "duration": 20,
    "start_time": "2022-12-02T08:35:47.575Z"
   },
   {
    "duration": 21,
    "start_time": "2022-12-02T08:36:17.675Z"
   },
   {
    "duration": 23,
    "start_time": "2022-12-02T08:48:22.575Z"
   },
   {
    "duration": 22,
    "start_time": "2022-12-02T08:49:27.437Z"
   },
   {
    "duration": 18,
    "start_time": "2022-12-02T09:03:46.056Z"
   },
   {
    "duration": 516,
    "start_time": "2022-12-02T09:56:59.724Z"
   },
   {
    "duration": 28,
    "start_time": "2022-12-02T09:57:00.242Z"
   },
   {
    "duration": 35,
    "start_time": "2022-12-02T09:57:00.272Z"
   },
   {
    "duration": 12,
    "start_time": "2022-12-02T09:57:00.310Z"
   },
   {
    "duration": 66,
    "start_time": "2022-12-02T09:57:00.325Z"
   },
   {
    "duration": 13,
    "start_time": "2022-12-02T09:57:00.393Z"
   },
   {
    "duration": 14,
    "start_time": "2022-12-02T09:57:00.407Z"
   },
   {
    "duration": 32,
    "start_time": "2022-12-02T09:57:00.423Z"
   },
   {
    "duration": 20,
    "start_time": "2022-12-02T09:57:00.457Z"
   },
   {
    "duration": 15,
    "start_time": "2022-12-02T09:57:00.479Z"
   },
   {
    "duration": 74,
    "start_time": "2022-12-02T09:57:00.497Z"
   },
   {
    "duration": 16,
    "start_time": "2022-12-02T09:57:00.573Z"
   },
   {
    "duration": 14,
    "start_time": "2022-12-02T09:57:00.591Z"
   },
   {
    "duration": 17,
    "start_time": "2022-12-02T09:57:00.608Z"
   },
   {
    "duration": 46,
    "start_time": "2022-12-02T09:57:00.627Z"
   },
   {
    "duration": 19,
    "start_time": "2022-12-02T09:57:00.675Z"
   },
   {
    "duration": 15,
    "start_time": "2022-12-02T09:57:00.696Z"
   },
   {
    "duration": 45,
    "start_time": "2022-12-02T09:57:00.713Z"
   },
   {
    "duration": 14,
    "start_time": "2022-12-02T09:57:00.760Z"
   },
   {
    "duration": 54,
    "start_time": "2022-12-02T09:57:00.776Z"
   },
   {
    "duration": 29,
    "start_time": "2022-12-02T09:57:00.831Z"
   },
   {
    "duration": 79,
    "start_time": "2022-12-02T09:57:00.862Z"
   },
   {
    "duration": 0,
    "start_time": "2022-12-02T09:57:00.942Z"
   },
   {
    "duration": 0,
    "start_time": "2022-12-02T09:57:00.944Z"
   },
   {
    "duration": 0,
    "start_time": "2022-12-02T09:57:00.945Z"
   },
   {
    "duration": 79,
    "start_time": "2022-12-02T09:57:26.273Z"
   },
   {
    "duration": 17,
    "start_time": "2022-12-02T09:57:26.354Z"
   },
   {
    "duration": 35,
    "start_time": "2022-12-02T09:57:26.373Z"
   },
   {
    "duration": 15,
    "start_time": "2022-12-02T09:57:26.410Z"
   },
   {
    "duration": 55,
    "start_time": "2022-12-02T09:57:26.428Z"
   },
   {
    "duration": 4,
    "start_time": "2022-12-02T09:57:26.506Z"
   },
   {
    "duration": 17,
    "start_time": "2022-12-02T09:57:26.512Z"
   },
   {
    "duration": 5,
    "start_time": "2022-12-02T09:57:26.531Z"
   },
   {
    "duration": 11,
    "start_time": "2022-12-02T09:57:26.538Z"
   },
   {
    "duration": 6,
    "start_time": "2022-12-02T09:57:26.552Z"
   },
   {
    "duration": 87,
    "start_time": "2022-12-02T09:57:26.560Z"
   },
   {
    "duration": 16,
    "start_time": "2022-12-02T09:57:26.649Z"
   },
   {
    "duration": 9,
    "start_time": "2022-12-02T09:57:26.668Z"
   },
   {
    "duration": 27,
    "start_time": "2022-12-02T09:57:26.681Z"
   },
   {
    "duration": 30,
    "start_time": "2022-12-02T09:57:26.710Z"
   },
   {
    "duration": 22,
    "start_time": "2022-12-02T09:57:26.742Z"
   },
   {
    "duration": 4,
    "start_time": "2022-12-02T09:57:26.766Z"
   },
   {
    "duration": 39,
    "start_time": "2022-12-02T09:57:26.772Z"
   },
   {
    "duration": 9,
    "start_time": "2022-12-02T09:57:26.813Z"
   },
   {
    "duration": 11,
    "start_time": "2022-12-02T09:57:26.824Z"
   },
   {
    "duration": 19,
    "start_time": "2022-12-02T09:57:26.839Z"
   },
   {
    "duration": 15,
    "start_time": "2022-12-02T09:57:26.860Z"
   },
   {
    "duration": 0,
    "start_time": "2022-12-02T09:57:26.877Z"
   },
   {
    "duration": 0,
    "start_time": "2022-12-02T09:57:26.879Z"
   },
   {
    "duration": 20,
    "start_time": "2022-12-02T09:58:24.442Z"
   },
   {
    "duration": 28,
    "start_time": "2022-12-02T09:58:27.383Z"
   },
   {
    "duration": 18,
    "start_time": "2022-12-02T09:58:29.771Z"
   },
   {
    "duration": 18,
    "start_time": "2022-12-02T09:59:10.392Z"
   },
   {
    "duration": 645,
    "start_time": "2022-12-02T09:59:23.316Z"
   },
   {
    "duration": 48,
    "start_time": "2022-12-02T09:59:23.964Z"
   },
   {
    "duration": 23,
    "start_time": "2022-12-02T09:59:24.013Z"
   },
   {
    "duration": 17,
    "start_time": "2022-12-02T09:59:24.039Z"
   },
   {
    "duration": 78,
    "start_time": "2022-12-02T09:59:24.059Z"
   },
   {
    "duration": 4,
    "start_time": "2022-12-02T09:59:24.140Z"
   },
   {
    "duration": 24,
    "start_time": "2022-12-02T09:59:24.146Z"
   },
   {
    "duration": 14,
    "start_time": "2022-12-02T09:59:24.171Z"
   },
   {
    "duration": 19,
    "start_time": "2022-12-02T09:59:24.187Z"
   },
   {
    "duration": 26,
    "start_time": "2022-12-02T09:59:24.207Z"
   },
   {
    "duration": 45,
    "start_time": "2022-12-02T09:59:24.235Z"
   },
   {
    "duration": 16,
    "start_time": "2022-12-02T09:59:24.282Z"
   },
   {
    "duration": 64,
    "start_time": "2022-12-02T09:59:24.300Z"
   },
   {
    "duration": 22,
    "start_time": "2022-12-02T09:59:24.367Z"
   },
   {
    "duration": 60,
    "start_time": "2022-12-02T09:59:24.391Z"
   },
   {
    "duration": 26,
    "start_time": "2022-12-02T09:59:24.454Z"
   },
   {
    "duration": 5,
    "start_time": "2022-12-02T09:59:24.482Z"
   },
   {
    "duration": 36,
    "start_time": "2022-12-02T09:59:24.489Z"
   },
   {
    "duration": 19,
    "start_time": "2022-12-02T09:59:24.526Z"
   },
   {
    "duration": 10,
    "start_time": "2022-12-02T09:59:24.547Z"
   },
   {
    "duration": 10,
    "start_time": "2022-12-02T09:59:24.559Z"
   },
   {
    "duration": 30,
    "start_time": "2022-12-02T09:59:24.571Z"
   },
   {
    "duration": 31,
    "start_time": "2022-12-02T09:59:24.603Z"
   },
   {
    "duration": 23,
    "start_time": "2022-12-02T09:59:24.636Z"
   },
   {
    "duration": 33,
    "start_time": "2022-12-02T09:59:24.661Z"
   },
   {
    "duration": 572,
    "start_time": "2022-12-02T10:00:09.504Z"
   },
   {
    "duration": 25,
    "start_time": "2022-12-02T10:00:10.078Z"
   },
   {
    "duration": 20,
    "start_time": "2022-12-02T10:00:10.106Z"
   },
   {
    "duration": 30,
    "start_time": "2022-12-02T10:00:10.129Z"
   },
   {
    "duration": 64,
    "start_time": "2022-12-02T10:00:10.165Z"
   },
   {
    "duration": 21,
    "start_time": "2022-12-02T10:00:10.233Z"
   },
   {
    "duration": 15,
    "start_time": "2022-12-02T10:00:10.257Z"
   },
   {
    "duration": 5,
    "start_time": "2022-12-02T10:00:10.274Z"
   },
   {
    "duration": 13,
    "start_time": "2022-12-02T10:00:10.282Z"
   },
   {
    "duration": 57,
    "start_time": "2022-12-02T10:00:10.301Z"
   },
   {
    "duration": 76,
    "start_time": "2022-12-02T10:00:10.361Z"
   },
   {
    "duration": 17,
    "start_time": "2022-12-02T10:00:10.449Z"
   },
   {
    "duration": 7,
    "start_time": "2022-12-02T10:00:10.468Z"
   },
   {
    "duration": 20,
    "start_time": "2022-12-02T10:00:10.477Z"
   },
   {
    "duration": 39,
    "start_time": "2022-12-02T10:00:10.499Z"
   },
   {
    "duration": 19,
    "start_time": "2022-12-02T10:00:10.540Z"
   },
   {
    "duration": 4,
    "start_time": "2022-12-02T10:00:10.560Z"
   },
   {
    "duration": 25,
    "start_time": "2022-12-02T10:00:10.566Z"
   },
   {
    "duration": 25,
    "start_time": "2022-12-02T10:00:10.593Z"
   },
   {
    "duration": 30,
    "start_time": "2022-12-02T10:00:10.621Z"
   },
   {
    "duration": 12,
    "start_time": "2022-12-02T10:00:10.653Z"
   },
   {
    "duration": 27,
    "start_time": "2022-12-02T10:00:10.667Z"
   },
   {
    "duration": 24,
    "start_time": "2022-12-02T10:00:10.695Z"
   },
   {
    "duration": 35,
    "start_time": "2022-12-02T10:00:10.723Z"
   },
   {
    "duration": 27,
    "start_time": "2022-12-02T10:00:10.760Z"
   },
   {
    "duration": 82,
    "start_time": "2022-12-02T12:14:18.999Z"
   },
   {
    "duration": 43,
    "start_time": "2022-12-02T13:29:41.505Z"
   },
   {
    "duration": 502,
    "start_time": "2022-12-02T13:30:33.420Z"
   },
   {
    "duration": 27,
    "start_time": "2022-12-02T13:30:33.924Z"
   },
   {
    "duration": 30,
    "start_time": "2022-12-02T13:30:33.953Z"
   },
   {
    "duration": 11,
    "start_time": "2022-12-02T13:30:33.985Z"
   },
   {
    "duration": 59,
    "start_time": "2022-12-02T13:30:33.999Z"
   },
   {
    "duration": 4,
    "start_time": "2022-12-02T13:30:34.060Z"
   },
   {
    "duration": 17,
    "start_time": "2022-12-02T13:30:34.066Z"
   },
   {
    "duration": 15,
    "start_time": "2022-12-02T13:30:34.085Z"
   },
   {
    "duration": 12,
    "start_time": "2022-12-02T13:30:34.103Z"
   },
   {
    "duration": 12,
    "start_time": "2022-12-02T13:30:34.117Z"
   },
   {
    "duration": 53,
    "start_time": "2022-12-02T13:30:34.131Z"
   },
   {
    "duration": 15,
    "start_time": "2022-12-02T13:30:34.186Z"
   },
   {
    "duration": 11,
    "start_time": "2022-12-02T13:30:34.203Z"
   },
   {
    "duration": 18,
    "start_time": "2022-12-02T13:30:34.217Z"
   },
   {
    "duration": 26,
    "start_time": "2022-12-02T13:30:34.237Z"
   },
   {
    "duration": 33,
    "start_time": "2022-12-02T13:30:34.265Z"
   },
   {
    "duration": 4,
    "start_time": "2022-12-02T13:30:34.300Z"
   },
   {
    "duration": 15,
    "start_time": "2022-12-02T13:30:34.306Z"
   },
   {
    "duration": 7,
    "start_time": "2022-12-02T13:30:34.323Z"
   },
   {
    "duration": 4,
    "start_time": "2022-12-02T13:30:34.332Z"
   },
   {
    "duration": 11,
    "start_time": "2022-12-02T13:30:34.338Z"
   },
   {
    "duration": 7,
    "start_time": "2022-12-02T13:30:43.081Z"
   },
   {
    "duration": 13,
    "start_time": "2022-12-02T13:31:08.991Z"
   },
   {
    "duration": 67,
    "start_time": "2022-12-02T13:33:06.322Z"
   },
   {
    "duration": 9,
    "start_time": "2022-12-02T13:35:55.677Z"
   },
   {
    "duration": 7,
    "start_time": "2022-12-02T13:38:27.502Z"
   },
   {
    "duration": 7,
    "start_time": "2022-12-02T13:39:44.600Z"
   },
   {
    "duration": 46,
    "start_time": "2022-12-03T13:09:53.699Z"
   },
   {
    "duration": 57,
    "start_time": "2022-12-03T13:14:33.493Z"
   },
   {
    "duration": 8,
    "start_time": "2022-12-03T13:22:15.103Z"
   },
   {
    "duration": 710,
    "start_time": "2022-12-03T13:22:45.728Z"
   },
   {
    "duration": 31,
    "start_time": "2022-12-03T13:22:46.446Z"
   },
   {
    "duration": 18,
    "start_time": "2022-12-03T13:22:46.479Z"
   },
   {
    "duration": 10,
    "start_time": "2022-12-03T13:22:46.501Z"
   },
   {
    "duration": 42,
    "start_time": "2022-12-03T13:22:46.513Z"
   },
   {
    "duration": 4,
    "start_time": "2022-12-03T13:22:46.557Z"
   },
   {
    "duration": 52,
    "start_time": "2022-12-03T13:22:46.563Z"
   },
   {
    "duration": 10,
    "start_time": "2022-12-03T13:22:46.617Z"
   },
   {
    "duration": 29,
    "start_time": "2022-12-03T13:22:46.629Z"
   },
   {
    "duration": 7,
    "start_time": "2022-12-03T13:22:46.661Z"
   },
   {
    "duration": 45,
    "start_time": "2022-12-03T13:22:46.670Z"
   },
   {
    "duration": 11,
    "start_time": "2022-12-03T13:22:46.717Z"
   },
   {
    "duration": 12,
    "start_time": "2022-12-03T13:22:46.730Z"
   },
   {
    "duration": 26,
    "start_time": "2022-12-03T13:22:46.744Z"
   },
   {
    "duration": 45,
    "start_time": "2022-12-03T13:22:46.772Z"
   },
   {
    "duration": 23,
    "start_time": "2022-12-03T13:22:46.819Z"
   },
   {
    "duration": 5,
    "start_time": "2022-12-03T13:22:46.843Z"
   },
   {
    "duration": 17,
    "start_time": "2022-12-03T13:22:46.849Z"
   },
   {
    "duration": 29,
    "start_time": "2022-12-03T13:22:46.868Z"
   },
   {
    "duration": 5,
    "start_time": "2022-12-03T13:22:46.899Z"
   },
   {
    "duration": 12,
    "start_time": "2022-12-03T13:22:46.905Z"
   },
   {
    "duration": 14,
    "start_time": "2022-12-03T13:23:03.381Z"
   },
   {
    "duration": 73,
    "start_time": "2022-12-03T13:24:07.395Z"
   },
   {
    "duration": 510,
    "start_time": "2022-12-03T13:24:44.768Z"
   },
   {
    "duration": 22,
    "start_time": "2022-12-03T13:24:45.280Z"
   },
   {
    "duration": 13,
    "start_time": "2022-12-03T13:24:45.304Z"
   },
   {
    "duration": 8,
    "start_time": "2022-12-03T13:24:45.319Z"
   },
   {
    "duration": 35,
    "start_time": "2022-12-03T13:24:45.329Z"
   },
   {
    "duration": 3,
    "start_time": "2022-12-03T13:24:45.365Z"
   },
   {
    "duration": 8,
    "start_time": "2022-12-03T13:24:45.396Z"
   },
   {
    "duration": 5,
    "start_time": "2022-12-03T13:24:45.405Z"
   },
   {
    "duration": 9,
    "start_time": "2022-12-03T13:24:45.411Z"
   },
   {
    "duration": 4,
    "start_time": "2022-12-03T13:24:45.422Z"
   },
   {
    "duration": 33,
    "start_time": "2022-12-03T13:24:45.427Z"
   },
   {
    "duration": 36,
    "start_time": "2022-12-03T13:24:45.461Z"
   },
   {
    "duration": 4,
    "start_time": "2022-12-03T13:24:45.499Z"
   },
   {
    "duration": 13,
    "start_time": "2022-12-03T13:24:45.505Z"
   },
   {
    "duration": 21,
    "start_time": "2022-12-03T13:24:45.519Z"
   },
   {
    "duration": 17,
    "start_time": "2022-12-03T13:24:45.542Z"
   },
   {
    "duration": 4,
    "start_time": "2022-12-03T13:24:45.560Z"
   },
   {
    "duration": 10,
    "start_time": "2022-12-03T13:24:45.596Z"
   },
   {
    "duration": 23,
    "start_time": "2022-12-03T13:24:45.607Z"
   },
   {
    "duration": 5,
    "start_time": "2022-12-03T13:24:45.631Z"
   },
   {
    "duration": 10,
    "start_time": "2022-12-03T13:24:45.638Z"
   },
   {
    "duration": 72,
    "start_time": "2022-12-03T13:25:09.683Z"
   },
   {
    "duration": 16,
    "start_time": "2022-12-03T13:25:33.227Z"
   },
   {
    "duration": 17,
    "start_time": "2022-12-03T13:25:35.988Z"
   },
   {
    "duration": 9,
    "start_time": "2022-12-03T13:26:14.073Z"
   },
   {
    "duration": 10,
    "start_time": "2022-12-03T13:26:18.941Z"
   },
   {
    "duration": 15,
    "start_time": "2022-12-03T13:26:31.850Z"
   },
   {
    "duration": 15,
    "start_time": "2022-12-03T13:35:36.363Z"
   },
   {
    "duration": 8,
    "start_time": "2022-12-03T13:37:18.052Z"
   },
   {
    "duration": 14,
    "start_time": "2022-12-03T13:37:29.412Z"
   },
   {
    "duration": 14,
    "start_time": "2022-12-03T13:39:24.559Z"
   },
   {
    "duration": 66,
    "start_time": "2022-12-03T13:49:02.945Z"
   },
   {
    "duration": 48,
    "start_time": "2022-12-03T13:49:33.647Z"
   },
   {
    "duration": 14,
    "start_time": "2022-12-03T13:51:06.261Z"
   },
   {
    "duration": 15,
    "start_time": "2022-12-03T13:53:18.349Z"
   },
   {
    "duration": 16,
    "start_time": "2022-12-03T14:15:17.909Z"
   },
   {
    "duration": 413,
    "start_time": "2022-12-03T14:24:36.940Z"
   },
   {
    "duration": 21,
    "start_time": "2022-12-03T14:24:37.355Z"
   },
   {
    "duration": 14,
    "start_time": "2022-12-03T14:24:37.378Z"
   },
   {
    "duration": 9,
    "start_time": "2022-12-03T14:24:37.393Z"
   },
   {
    "duration": 39,
    "start_time": "2022-12-03T14:24:37.404Z"
   },
   {
    "duration": 3,
    "start_time": "2022-12-03T14:24:37.445Z"
   },
   {
    "duration": 12,
    "start_time": "2022-12-03T14:24:37.449Z"
   },
   {
    "duration": 4,
    "start_time": "2022-12-03T14:24:37.463Z"
   },
   {
    "duration": 29,
    "start_time": "2022-12-03T14:24:37.468Z"
   },
   {
    "duration": 4,
    "start_time": "2022-12-03T14:24:37.499Z"
   },
   {
    "duration": 32,
    "start_time": "2022-12-03T14:24:37.505Z"
   },
   {
    "duration": 8,
    "start_time": "2022-12-03T14:24:37.539Z"
   },
   {
    "duration": 15,
    "start_time": "2022-12-03T14:24:37.548Z"
   },
   {
    "duration": 21,
    "start_time": "2022-12-03T14:24:37.565Z"
   },
   {
    "duration": 33,
    "start_time": "2022-12-03T14:24:37.587Z"
   },
   {
    "duration": 19,
    "start_time": "2022-12-03T14:24:37.621Z"
   },
   {
    "duration": 3,
    "start_time": "2022-12-03T14:24:37.641Z"
   },
   {
    "duration": 31,
    "start_time": "2022-12-03T14:24:37.646Z"
   },
   {
    "duration": 13,
    "start_time": "2022-12-03T14:24:37.679Z"
   },
   {
    "duration": 17,
    "start_time": "2022-12-03T14:24:37.694Z"
   },
   {
    "duration": 19,
    "start_time": "2022-12-03T14:24:37.713Z"
   },
   {
    "duration": 19,
    "start_time": "2022-12-03T14:24:37.733Z"
   },
   {
    "duration": 23,
    "start_time": "2022-12-03T14:24:37.753Z"
   },
   {
    "duration": 21,
    "start_time": "2022-12-03T14:24:37.778Z"
   },
   {
    "duration": 19,
    "start_time": "2022-12-03T14:24:37.800Z"
   },
   {
    "duration": 545,
    "start_time": "2022-12-09T21:16:14.347Z"
   },
   {
    "duration": 23,
    "start_time": "2022-12-09T21:16:14.894Z"
   },
   {
    "duration": 21,
    "start_time": "2022-12-09T21:16:14.919Z"
   },
   {
    "duration": 23,
    "start_time": "2022-12-09T21:16:14.943Z"
   },
   {
    "duration": 71,
    "start_time": "2022-12-09T21:16:14.967Z"
   },
   {
    "duration": 3,
    "start_time": "2022-12-09T21:16:15.039Z"
   },
   {
    "duration": 14,
    "start_time": "2022-12-09T21:16:15.044Z"
   },
   {
    "duration": 4,
    "start_time": "2022-12-09T21:16:15.060Z"
   },
   {
    "duration": 8,
    "start_time": "2022-12-09T21:16:15.066Z"
   },
   {
    "duration": 15,
    "start_time": "2022-12-09T21:16:15.077Z"
   },
   {
    "duration": 38,
    "start_time": "2022-12-09T21:16:15.094Z"
   },
   {
    "duration": 12,
    "start_time": "2022-12-09T21:16:15.133Z"
   },
   {
    "duration": 8,
    "start_time": "2022-12-09T21:16:15.147Z"
   },
   {
    "duration": 41,
    "start_time": "2022-12-09T21:16:15.157Z"
   },
   {
    "duration": 29,
    "start_time": "2022-12-09T21:16:15.201Z"
   },
   {
    "duration": 19,
    "start_time": "2022-12-09T21:16:15.232Z"
   },
   {
    "duration": 7,
    "start_time": "2022-12-09T21:16:15.252Z"
   },
   {
    "duration": 32,
    "start_time": "2022-12-09T21:16:15.261Z"
   },
   {
    "duration": 29,
    "start_time": "2022-12-09T21:16:15.295Z"
   },
   {
    "duration": 20,
    "start_time": "2022-12-09T21:16:15.326Z"
   },
   {
    "duration": 64,
    "start_time": "2022-12-09T21:16:15.348Z"
   },
   {
    "duration": 53,
    "start_time": "2022-12-09T21:16:15.414Z"
   },
   {
    "duration": 20,
    "start_time": "2022-12-09T21:16:33.998Z"
   },
   {
    "duration": 81,
    "start_time": "2022-12-09T21:36:11.302Z"
   },
   {
    "duration": 69,
    "start_time": "2022-12-09T21:46:34.870Z"
   },
   {
    "duration": 17,
    "start_time": "2022-12-09T21:46:56.148Z"
   },
   {
    "duration": 19,
    "start_time": "2022-12-09T21:47:34.835Z"
   },
   {
    "duration": 24,
    "start_time": "2022-12-09T21:48:14.131Z"
   },
   {
    "duration": 17,
    "start_time": "2022-12-09T21:48:41.084Z"
   },
   {
    "duration": 784,
    "start_time": "2022-12-10T20:57:17.541Z"
   },
   {
    "duration": 22,
    "start_time": "2022-12-10T20:57:18.327Z"
   },
   {
    "duration": 28,
    "start_time": "2022-12-10T20:57:18.350Z"
   },
   {
    "duration": 14,
    "start_time": "2022-12-10T20:57:18.380Z"
   },
   {
    "duration": 35,
    "start_time": "2022-12-10T20:57:18.396Z"
   },
   {
    "duration": 3,
    "start_time": "2022-12-10T20:57:18.432Z"
   },
   {
    "duration": 24,
    "start_time": "2022-12-10T20:57:18.436Z"
   },
   {
    "duration": 7,
    "start_time": "2022-12-10T20:57:18.461Z"
   },
   {
    "duration": 19,
    "start_time": "2022-12-10T20:57:18.473Z"
   },
   {
    "duration": 4,
    "start_time": "2022-12-10T20:57:18.494Z"
   },
   {
    "duration": 34,
    "start_time": "2022-12-10T20:57:18.500Z"
   },
   {
    "duration": 26,
    "start_time": "2022-12-10T20:57:18.536Z"
   },
   {
    "duration": 12,
    "start_time": "2022-12-10T20:57:18.565Z"
   },
   {
    "duration": 15,
    "start_time": "2022-12-10T20:57:18.580Z"
   },
   {
    "duration": 22,
    "start_time": "2022-12-10T20:57:18.596Z"
   },
   {
    "duration": 17,
    "start_time": "2022-12-10T20:57:18.619Z"
   },
   {
    "duration": 4,
    "start_time": "2022-12-10T20:57:18.637Z"
   },
   {
    "duration": 28,
    "start_time": "2022-12-10T20:57:18.642Z"
   },
   {
    "duration": 20,
    "start_time": "2022-12-10T20:57:18.673Z"
   },
   {
    "duration": 4,
    "start_time": "2022-12-10T20:57:18.694Z"
   },
   {
    "duration": 14,
    "start_time": "2022-12-10T20:57:18.699Z"
   },
   {
    "duration": 15,
    "start_time": "2022-12-10T20:57:18.715Z"
   },
   {
    "duration": 51,
    "start_time": "2022-12-10T20:57:33.199Z"
   },
   {
    "duration": 52,
    "start_time": "2022-12-10T20:58:31.486Z"
   },
   {
    "duration": 57,
    "start_time": "2022-12-10T20:59:31.942Z"
   },
   {
    "duration": 71,
    "start_time": "2022-12-10T21:04:56.714Z"
   },
   {
    "duration": 77,
    "start_time": "2022-12-10T21:07:02.411Z"
   },
   {
    "duration": 67,
    "start_time": "2022-12-10T21:10:03.149Z"
   },
   {
    "duration": 64,
    "start_time": "2022-12-10T21:11:35.437Z"
   },
   {
    "duration": 18,
    "start_time": "2022-12-10T21:17:11.699Z"
   }
  ],
  "colab": {
   "name": "dpp_template_part2.ipynb",
   "provenance": []
  },
  "kernelspec": {
   "display_name": "Python 3 (ipykernel)",
   "language": "python",
   "name": "python3"
  },
  "language_info": {
   "codemirror_mode": {
    "name": "ipython",
    "version": 3
   },
   "file_extension": ".py",
   "mimetype": "text/x-python",
   "name": "python",
   "nbconvert_exporter": "python",
   "pygments_lexer": "ipython3",
   "version": "3.9.5"
  },
  "toc": {
   "base_numbering": 1,
   "nav_menu": {},
   "number_sections": true,
   "sideBar": true,
   "skip_h1_title": true,
   "title_cell": "Table of Contents",
   "title_sidebar": "Contents",
   "toc_cell": false,
   "toc_position": {},
   "toc_section_display": true,
   "toc_window_display": false
  }
 },
 "nbformat": 4,
 "nbformat_minor": 5
}
