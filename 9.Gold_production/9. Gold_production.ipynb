{
 "cells": [
  {
   "cell_type": "markdown",
   "metadata": {
    "toc": true
   },
   "source": [
    "<h1>Содержание<span class=\"tocSkip\"></span></h1>\n",
    "<div class=\"toc\"><ul class=\"toc-item\"><li><span><a href=\"#Подготовка-данных\" data-toc-modified-id=\"Подготовка-данных-1\"><span class=\"toc-item-num\">1&nbsp;&nbsp;</span>Подготовка данных</a></span><ul class=\"toc-item\"><li><span><a href=\"#Проверка-формулы-вычисления-эффективности-обогащения\" data-toc-modified-id=\"Проверка-формулы-вычисления-эффективности-обогащения-1.1\"><span class=\"toc-item-num\">1.1&nbsp;&nbsp;</span>Проверка формулы вычисления эффективности обогащения</a></span></li><li><span><a href=\"#Анализ-признаков,-недоступных-в-тестовой-выборке.\" data-toc-modified-id=\"Анализ-признаков,-недоступных-в-тестовой-выборке.-1.2\"><span class=\"toc-item-num\">1.2&nbsp;&nbsp;</span>Анализ признаков, недоступных в тестовой выборке.</a></span></li><li><span><a href=\"#Предобработка-данных\" data-toc-modified-id=\"Предобработка-данных-1.3\"><span class=\"toc-item-num\">1.3&nbsp;&nbsp;</span>Предобработка данных</a></span></li></ul></li><li><span><a href=\"#Анализ-данных\" data-toc-modified-id=\"Анализ-данных-2\"><span class=\"toc-item-num\">2&nbsp;&nbsp;</span>Анализ данных</a></span><ul class=\"toc-item\"><li><span><a href=\"#Изменение-концентрации-элементов-на-каждом-этапе\" data-toc-modified-id=\"Изменение-концентрации-элементов-на-каждом-этапе-2.1\"><span class=\"toc-item-num\">2.1&nbsp;&nbsp;</span>Изменение концентрации элементов на каждом этапе</a></span></li><li><span><a href=\"#Анлиз-распределения-размеров-гранул-на-обучающей-и-тестовой-выборках\" data-toc-modified-id=\"Анлиз-распределения-размеров-гранул-на-обучающей-и-тестовой-выборках-2.2\"><span class=\"toc-item-num\">2.2&nbsp;&nbsp;</span>Анлиз распределения размеров гранул на обучающей и тестовой выборках</a></span></li><li><span><a href=\"#Исследование-суммарных-концентрации\" data-toc-modified-id=\"Исследование-суммарных-концентрации-2.3\"><span class=\"toc-item-num\">2.3&nbsp;&nbsp;</span>Исследование суммарных концентрации</a></span></li></ul></li><li><span><a href=\"#Модель\" data-toc-modified-id=\"Модель-3\"><span class=\"toc-item-num\">3&nbsp;&nbsp;</span>Модель</a></span><ul class=\"toc-item\"><li><span><a href=\"#Функция-для-вычисления-итогового-sMAPE\" data-toc-modified-id=\"Функция-для-вычисления-итогового-sMAPE-3.1\"><span class=\"toc-item-num\">3.1&nbsp;&nbsp;</span>Функция для вычисления итогового <em>sMAPE</em></a></span></li><li><span><a href=\"#Построение-несколько-моделей\" data-toc-modified-id=\"Построение-несколько-моделей-3.2\"><span class=\"toc-item-num\">3.2&nbsp;&nbsp;</span>Построение несколько моделей</a></span></li><li><span><a href=\"#Выбор-лучшей-модели-и--её-проверка\" data-toc-modified-id=\"Выбор-лучшей-модели-и--её-проверка-3.3\"><span class=\"toc-item-num\">3.3&nbsp;&nbsp;</span>Выбор лучшей модели и  её проверка</a></span></li></ul></li><li><span><a href=\"#Чек-лист-готовности-проекта\" data-toc-modified-id=\"Чек-лист-готовности-проекта-4\"><span class=\"toc-item-num\">4&nbsp;&nbsp;</span>Чек-лист готовности проекта</a></span></li></ul></div>"
   ]
  },
  {
   "cell_type": "markdown",
   "metadata": {},
   "source": [
    "# Восстановление золота из руды"
   ]
  },
  {
   "cell_type": "markdown",
   "metadata": {},
   "source": [
    "Подготовьте прототип модели машинного обучения для «Цифры». Компания разрабатывает решения для эффективной работы промышленных предприятий.\n",
    "\n",
    "Модель должна предсказать коэффициент восстановления золота из золотосодержащей руды. Используйте данные с параметрами добычи и очистки. \n",
    "\n",
    "Модель поможет оптимизировать производство, чтобы не запускать предприятие с убыточными характеристиками.\n",
    "\n",
    "Вам нужно:\n",
    "\n",
    "1. Подготовить данные;\n",
    "2. Провести исследовательский анализ данных;\n",
    "3. Построить и обучить модель.\n",
    "\n",
    "Чтобы выполнить проект, обращайтесь к библиотекам *pandas*, *matplotlib* и *sklearn.* Вам поможет их документация."
   ]
  },
  {
   "cell_type": "code",
   "execution_count": 1,
   "metadata": {},
   "outputs": [],
   "source": [
    "#Импортируем необходимые библиотеки\n",
    "import pandas as pd\n",
    "import numpy as np\n",
    "from scipy import stats\n",
    "from numpy.random import RandomState\n",
    "\n",
    "# Графики\n",
    "import matplotlib.pyplot as plt\n",
    "import seaborn as sns\n",
    "\n",
    "# Модели машинного обучения\n",
    "from sklearn.tree import DecisionTreeRegressor\n",
    "from sklearn.ensemble import RandomForestRegressor\n",
    "from sklearn.linear_model import LinearRegression\n",
    "\n",
    "# Метрики\n",
    "from sklearn.metrics import mean_absolute_error, make_scorer\n",
    "\n",
    "from sklearn.metrics import make_scorer, mean_absolute_error\n",
    "from sklearn.model_selection import train_test_split, cross_val_score\n",
    "from sklearn.dummy import DummyRegressor\n",
    "\n",
    "# Преобразования\n",
    "from sklearn.preprocessing import StandardScaler"
   ]
  },
  {
   "cell_type": "code",
   "execution_count": 2,
   "metadata": {},
   "outputs": [],
   "source": [
    "# Определим random_state\n",
    "state =  RandomState(12345)"
   ]
  },
  {
   "cell_type": "markdown",
   "metadata": {},
   "source": [
    "## Подготовка данных"
   ]
  },
  {
   "cell_type": "markdown",
   "metadata": {},
   "source": [
    "**В рамках подготовки данных необходимо:** \n",
    "\n",
    " -  Проверить формулу вычисления эффективности обогащения\n",
    " -  Проанализировать признаки, недоступные в тестовой выборке\n",
    " -  Провести предобработку данных"
   ]
  },
  {
   "cell_type": "code",
   "execution_count": 3,
   "metadata": {},
   "outputs": [],
   "source": [
    "data_train = pd.read_csv(\"/datasets/gold_recovery_train_new.csv\")\n",
    "data_test = pd.read_csv(\"/datasets/gold_recovery_test_new.csv\")\n",
    "data_full = pd.read_csv(\"/datasets/gold_recovery_full_new.csv\")\n",
    "\n",
    "data_list = [data_train, data_test, data_full]"
   ]
  },
  {
   "cell_type": "code",
   "execution_count": 4,
   "metadata": {
    "scrolled": true
   },
   "outputs": [
    {
     "data": {
      "text/html": [
       "<div>\n",
       "<style scoped>\n",
       "    .dataframe tbody tr th:only-of-type {\n",
       "        vertical-align: middle;\n",
       "    }\n",
       "\n",
       "    .dataframe tbody tr th {\n",
       "        vertical-align: top;\n",
       "    }\n",
       "\n",
       "    .dataframe thead th {\n",
       "        text-align: right;\n",
       "    }\n",
       "</style>\n",
       "<table border=\"1\" class=\"dataframe\">\n",
       "  <thead>\n",
       "    <tr style=\"text-align: right;\">\n",
       "      <th></th>\n",
       "      <th>date</th>\n",
       "      <th>final.output.concentrate_ag</th>\n",
       "      <th>final.output.concentrate_pb</th>\n",
       "      <th>final.output.concentrate_sol</th>\n",
       "      <th>final.output.concentrate_au</th>\n",
       "      <th>final.output.recovery</th>\n",
       "      <th>final.output.tail_ag</th>\n",
       "      <th>final.output.tail_pb</th>\n",
       "      <th>final.output.tail_sol</th>\n",
       "      <th>final.output.tail_au</th>\n",
       "      <th>...</th>\n",
       "      <th>secondary_cleaner.state.floatbank4_a_air</th>\n",
       "      <th>secondary_cleaner.state.floatbank4_a_level</th>\n",
       "      <th>secondary_cleaner.state.floatbank4_b_air</th>\n",
       "      <th>secondary_cleaner.state.floatbank4_b_level</th>\n",
       "      <th>secondary_cleaner.state.floatbank5_a_air</th>\n",
       "      <th>secondary_cleaner.state.floatbank5_a_level</th>\n",
       "      <th>secondary_cleaner.state.floatbank5_b_air</th>\n",
       "      <th>secondary_cleaner.state.floatbank5_b_level</th>\n",
       "      <th>secondary_cleaner.state.floatbank6_a_air</th>\n",
       "      <th>secondary_cleaner.state.floatbank6_a_level</th>\n",
       "    </tr>\n",
       "  </thead>\n",
       "  <tbody>\n",
       "    <tr>\n",
       "      <th>0</th>\n",
       "      <td>2016-01-15 00:00:00</td>\n",
       "      <td>6.055403</td>\n",
       "      <td>9.889648</td>\n",
       "      <td>5.507324</td>\n",
       "      <td>42.192020</td>\n",
       "      <td>70.541216</td>\n",
       "      <td>10.411962</td>\n",
       "      <td>0.895447</td>\n",
       "      <td>16.904297</td>\n",
       "      <td>2.143149</td>\n",
       "      <td>...</td>\n",
       "      <td>14.016835</td>\n",
       "      <td>-502.488007</td>\n",
       "      <td>12.099931</td>\n",
       "      <td>-504.715942</td>\n",
       "      <td>9.925633</td>\n",
       "      <td>-498.310211</td>\n",
       "      <td>8.079666</td>\n",
       "      <td>-500.470978</td>\n",
       "      <td>14.151341</td>\n",
       "      <td>-605.841980</td>\n",
       "    </tr>\n",
       "    <tr>\n",
       "      <th>1</th>\n",
       "      <td>2016-01-15 01:00:00</td>\n",
       "      <td>6.029369</td>\n",
       "      <td>9.968944</td>\n",
       "      <td>5.257781</td>\n",
       "      <td>42.701629</td>\n",
       "      <td>69.266198</td>\n",
       "      <td>10.462676</td>\n",
       "      <td>0.927452</td>\n",
       "      <td>16.634514</td>\n",
       "      <td>2.224930</td>\n",
       "      <td>...</td>\n",
       "      <td>13.992281</td>\n",
       "      <td>-505.503262</td>\n",
       "      <td>11.950531</td>\n",
       "      <td>-501.331529</td>\n",
       "      <td>10.039245</td>\n",
       "      <td>-500.169983</td>\n",
       "      <td>7.984757</td>\n",
       "      <td>-500.582168</td>\n",
       "      <td>13.998353</td>\n",
       "      <td>-599.787184</td>\n",
       "    </tr>\n",
       "    <tr>\n",
       "      <th>2</th>\n",
       "      <td>2016-01-15 02:00:00</td>\n",
       "      <td>6.055926</td>\n",
       "      <td>10.213995</td>\n",
       "      <td>5.383759</td>\n",
       "      <td>42.657501</td>\n",
       "      <td>68.116445</td>\n",
       "      <td>10.507046</td>\n",
       "      <td>0.953716</td>\n",
       "      <td>16.208849</td>\n",
       "      <td>2.257889</td>\n",
       "      <td>...</td>\n",
       "      <td>14.015015</td>\n",
       "      <td>-502.520901</td>\n",
       "      <td>11.912783</td>\n",
       "      <td>-501.133383</td>\n",
       "      <td>10.070913</td>\n",
       "      <td>-500.129135</td>\n",
       "      <td>8.013877</td>\n",
       "      <td>-500.517572</td>\n",
       "      <td>14.028663</td>\n",
       "      <td>-601.427363</td>\n",
       "    </tr>\n",
       "    <tr>\n",
       "      <th>3</th>\n",
       "      <td>2016-01-15 03:00:00</td>\n",
       "      <td>6.047977</td>\n",
       "      <td>9.977019</td>\n",
       "      <td>4.858634</td>\n",
       "      <td>42.689819</td>\n",
       "      <td>68.347543</td>\n",
       "      <td>10.422762</td>\n",
       "      <td>0.883763</td>\n",
       "      <td>16.532835</td>\n",
       "      <td>2.146849</td>\n",
       "      <td>...</td>\n",
       "      <td>14.036510</td>\n",
       "      <td>-500.857308</td>\n",
       "      <td>11.999550</td>\n",
       "      <td>-501.193686</td>\n",
       "      <td>9.970366</td>\n",
       "      <td>-499.201640</td>\n",
       "      <td>7.977324</td>\n",
       "      <td>-500.255908</td>\n",
       "      <td>14.005551</td>\n",
       "      <td>-599.996129</td>\n",
       "    </tr>\n",
       "    <tr>\n",
       "      <th>4</th>\n",
       "      <td>2016-01-15 04:00:00</td>\n",
       "      <td>6.148599</td>\n",
       "      <td>10.142511</td>\n",
       "      <td>4.939416</td>\n",
       "      <td>42.774141</td>\n",
       "      <td>66.927016</td>\n",
       "      <td>10.360302</td>\n",
       "      <td>0.792826</td>\n",
       "      <td>16.525686</td>\n",
       "      <td>2.055292</td>\n",
       "      <td>...</td>\n",
       "      <td>14.027298</td>\n",
       "      <td>-499.838632</td>\n",
       "      <td>11.953070</td>\n",
       "      <td>-501.053894</td>\n",
       "      <td>9.925709</td>\n",
       "      <td>-501.686727</td>\n",
       "      <td>7.894242</td>\n",
       "      <td>-500.356035</td>\n",
       "      <td>13.996647</td>\n",
       "      <td>-601.496691</td>\n",
       "    </tr>\n",
       "    <tr>\n",
       "      <th>5</th>\n",
       "      <td>2016-01-15 05:00:00</td>\n",
       "      <td>6.482968</td>\n",
       "      <td>10.049416</td>\n",
       "      <td>5.480257</td>\n",
       "      <td>41.633678</td>\n",
       "      <td>69.465816</td>\n",
       "      <td>10.182708</td>\n",
       "      <td>0.664118</td>\n",
       "      <td>16.999638</td>\n",
       "      <td>1.918586</td>\n",
       "      <td>...</td>\n",
       "      <td>13.938497</td>\n",
       "      <td>-500.970168</td>\n",
       "      <td>11.883350</td>\n",
       "      <td>-500.395298</td>\n",
       "      <td>10.054147</td>\n",
       "      <td>-496.374715</td>\n",
       "      <td>7.965083</td>\n",
       "      <td>-499.364752</td>\n",
       "      <td>14.017067</td>\n",
       "      <td>-599.707915</td>\n",
       "    </tr>\n",
       "    <tr>\n",
       "      <th>6</th>\n",
       "      <td>2016-01-15 06:00:00</td>\n",
       "      <td>6.533849</td>\n",
       "      <td>10.058141</td>\n",
       "      <td>4.569100</td>\n",
       "      <td>41.995316</td>\n",
       "      <td>69.300835</td>\n",
       "      <td>10.304598</td>\n",
       "      <td>0.807342</td>\n",
       "      <td>16.723575</td>\n",
       "      <td>2.058913</td>\n",
       "      <td>...</td>\n",
       "      <td>14.046819</td>\n",
       "      <td>-500.971133</td>\n",
       "      <td>12.091543</td>\n",
       "      <td>-500.501426</td>\n",
       "      <td>10.003247</td>\n",
       "      <td>-497.083180</td>\n",
       "      <td>8.010890</td>\n",
       "      <td>-500.002423</td>\n",
       "      <td>14.029649</td>\n",
       "      <td>-600.905470</td>\n",
       "    </tr>\n",
       "    <tr>\n",
       "      <th>7</th>\n",
       "      <td>2016-01-15 07:00:00</td>\n",
       "      <td>6.130823</td>\n",
       "      <td>9.935481</td>\n",
       "      <td>4.389813</td>\n",
       "      <td>42.452727</td>\n",
       "      <td>70.230976</td>\n",
       "      <td>10.443288</td>\n",
       "      <td>0.949346</td>\n",
       "      <td>16.689959</td>\n",
       "      <td>2.143437</td>\n",
       "      <td>...</td>\n",
       "      <td>13.974691</td>\n",
       "      <td>-501.819696</td>\n",
       "      <td>12.101324</td>\n",
       "      <td>-500.583446</td>\n",
       "      <td>9.873169</td>\n",
       "      <td>-499.171928</td>\n",
       "      <td>7.993381</td>\n",
       "      <td>-499.794518</td>\n",
       "      <td>13.984498</td>\n",
       "      <td>-600.411070</td>\n",
       "    </tr>\n",
       "    <tr>\n",
       "      <th>8</th>\n",
       "      <td>2016-01-15 08:00:00</td>\n",
       "      <td>5.834140</td>\n",
       "      <td>10.071156</td>\n",
       "      <td>4.876389</td>\n",
       "      <td>43.404078</td>\n",
       "      <td>69.688595</td>\n",
       "      <td>10.420140</td>\n",
       "      <td>1.065453</td>\n",
       "      <td>17.201948</td>\n",
       "      <td>2.209881</td>\n",
       "      <td>...</td>\n",
       "      <td>13.964030</td>\n",
       "      <td>-504.252450</td>\n",
       "      <td>12.060738</td>\n",
       "      <td>-501.174549</td>\n",
       "      <td>10.033838</td>\n",
       "      <td>-501.178133</td>\n",
       "      <td>7.881604</td>\n",
       "      <td>-499.729434</td>\n",
       "      <td>13.967135</td>\n",
       "      <td>-599.061188</td>\n",
       "    </tr>\n",
       "    <tr>\n",
       "      <th>9</th>\n",
       "      <td>2016-01-15 09:00:00</td>\n",
       "      <td>5.687063</td>\n",
       "      <td>9.980404</td>\n",
       "      <td>5.282514</td>\n",
       "      <td>43.235220</td>\n",
       "      <td>70.279619</td>\n",
       "      <td>10.487013</td>\n",
       "      <td>1.159805</td>\n",
       "      <td>17.483979</td>\n",
       "      <td>2.209593</td>\n",
       "      <td>...</td>\n",
       "      <td>13.989632</td>\n",
       "      <td>-503.195299</td>\n",
       "      <td>12.052233</td>\n",
       "      <td>-500.928547</td>\n",
       "      <td>9.962574</td>\n",
       "      <td>-502.986357</td>\n",
       "      <td>7.979219</td>\n",
       "      <td>-500.146835</td>\n",
       "      <td>13.981614</td>\n",
       "      <td>-598.070855</td>\n",
       "    </tr>\n",
       "  </tbody>\n",
       "</table>\n",
       "<p>10 rows × 87 columns</p>\n",
       "</div>"
      ],
      "text/plain": [
       "                  date  final.output.concentrate_ag  \\\n",
       "0  2016-01-15 00:00:00                     6.055403   \n",
       "1  2016-01-15 01:00:00                     6.029369   \n",
       "2  2016-01-15 02:00:00                     6.055926   \n",
       "3  2016-01-15 03:00:00                     6.047977   \n",
       "4  2016-01-15 04:00:00                     6.148599   \n",
       "5  2016-01-15 05:00:00                     6.482968   \n",
       "6  2016-01-15 06:00:00                     6.533849   \n",
       "7  2016-01-15 07:00:00                     6.130823   \n",
       "8  2016-01-15 08:00:00                     5.834140   \n",
       "9  2016-01-15 09:00:00                     5.687063   \n",
       "\n",
       "   final.output.concentrate_pb  final.output.concentrate_sol  \\\n",
       "0                     9.889648                      5.507324   \n",
       "1                     9.968944                      5.257781   \n",
       "2                    10.213995                      5.383759   \n",
       "3                     9.977019                      4.858634   \n",
       "4                    10.142511                      4.939416   \n",
       "5                    10.049416                      5.480257   \n",
       "6                    10.058141                      4.569100   \n",
       "7                     9.935481                      4.389813   \n",
       "8                    10.071156                      4.876389   \n",
       "9                     9.980404                      5.282514   \n",
       "\n",
       "   final.output.concentrate_au  final.output.recovery  final.output.tail_ag  \\\n",
       "0                    42.192020              70.541216             10.411962   \n",
       "1                    42.701629              69.266198             10.462676   \n",
       "2                    42.657501              68.116445             10.507046   \n",
       "3                    42.689819              68.347543             10.422762   \n",
       "4                    42.774141              66.927016             10.360302   \n",
       "5                    41.633678              69.465816             10.182708   \n",
       "6                    41.995316              69.300835             10.304598   \n",
       "7                    42.452727              70.230976             10.443288   \n",
       "8                    43.404078              69.688595             10.420140   \n",
       "9                    43.235220              70.279619             10.487013   \n",
       "\n",
       "   final.output.tail_pb  final.output.tail_sol  final.output.tail_au  ...  \\\n",
       "0              0.895447              16.904297              2.143149  ...   \n",
       "1              0.927452              16.634514              2.224930  ...   \n",
       "2              0.953716              16.208849              2.257889  ...   \n",
       "3              0.883763              16.532835              2.146849  ...   \n",
       "4              0.792826              16.525686              2.055292  ...   \n",
       "5              0.664118              16.999638              1.918586  ...   \n",
       "6              0.807342              16.723575              2.058913  ...   \n",
       "7              0.949346              16.689959              2.143437  ...   \n",
       "8              1.065453              17.201948              2.209881  ...   \n",
       "9              1.159805              17.483979              2.209593  ...   \n",
       "\n",
       "   secondary_cleaner.state.floatbank4_a_air  \\\n",
       "0                                 14.016835   \n",
       "1                                 13.992281   \n",
       "2                                 14.015015   \n",
       "3                                 14.036510   \n",
       "4                                 14.027298   \n",
       "5                                 13.938497   \n",
       "6                                 14.046819   \n",
       "7                                 13.974691   \n",
       "8                                 13.964030   \n",
       "9                                 13.989632   \n",
       "\n",
       "   secondary_cleaner.state.floatbank4_a_level  \\\n",
       "0                                 -502.488007   \n",
       "1                                 -505.503262   \n",
       "2                                 -502.520901   \n",
       "3                                 -500.857308   \n",
       "4                                 -499.838632   \n",
       "5                                 -500.970168   \n",
       "6                                 -500.971133   \n",
       "7                                 -501.819696   \n",
       "8                                 -504.252450   \n",
       "9                                 -503.195299   \n",
       "\n",
       "   secondary_cleaner.state.floatbank4_b_air  \\\n",
       "0                                 12.099931   \n",
       "1                                 11.950531   \n",
       "2                                 11.912783   \n",
       "3                                 11.999550   \n",
       "4                                 11.953070   \n",
       "5                                 11.883350   \n",
       "6                                 12.091543   \n",
       "7                                 12.101324   \n",
       "8                                 12.060738   \n",
       "9                                 12.052233   \n",
       "\n",
       "   secondary_cleaner.state.floatbank4_b_level  \\\n",
       "0                                 -504.715942   \n",
       "1                                 -501.331529   \n",
       "2                                 -501.133383   \n",
       "3                                 -501.193686   \n",
       "4                                 -501.053894   \n",
       "5                                 -500.395298   \n",
       "6                                 -500.501426   \n",
       "7                                 -500.583446   \n",
       "8                                 -501.174549   \n",
       "9                                 -500.928547   \n",
       "\n",
       "   secondary_cleaner.state.floatbank5_a_air  \\\n",
       "0                                  9.925633   \n",
       "1                                 10.039245   \n",
       "2                                 10.070913   \n",
       "3                                  9.970366   \n",
       "4                                  9.925709   \n",
       "5                                 10.054147   \n",
       "6                                 10.003247   \n",
       "7                                  9.873169   \n",
       "8                                 10.033838   \n",
       "9                                  9.962574   \n",
       "\n",
       "   secondary_cleaner.state.floatbank5_a_level  \\\n",
       "0                                 -498.310211   \n",
       "1                                 -500.169983   \n",
       "2                                 -500.129135   \n",
       "3                                 -499.201640   \n",
       "4                                 -501.686727   \n",
       "5                                 -496.374715   \n",
       "6                                 -497.083180   \n",
       "7                                 -499.171928   \n",
       "8                                 -501.178133   \n",
       "9                                 -502.986357   \n",
       "\n",
       "   secondary_cleaner.state.floatbank5_b_air  \\\n",
       "0                                  8.079666   \n",
       "1                                  7.984757   \n",
       "2                                  8.013877   \n",
       "3                                  7.977324   \n",
       "4                                  7.894242   \n",
       "5                                  7.965083   \n",
       "6                                  8.010890   \n",
       "7                                  7.993381   \n",
       "8                                  7.881604   \n",
       "9                                  7.979219   \n",
       "\n",
       "   secondary_cleaner.state.floatbank5_b_level  \\\n",
       "0                                 -500.470978   \n",
       "1                                 -500.582168   \n",
       "2                                 -500.517572   \n",
       "3                                 -500.255908   \n",
       "4                                 -500.356035   \n",
       "5                                 -499.364752   \n",
       "6                                 -500.002423   \n",
       "7                                 -499.794518   \n",
       "8                                 -499.729434   \n",
       "9                                 -500.146835   \n",
       "\n",
       "   secondary_cleaner.state.floatbank6_a_air  \\\n",
       "0                                 14.151341   \n",
       "1                                 13.998353   \n",
       "2                                 14.028663   \n",
       "3                                 14.005551   \n",
       "4                                 13.996647   \n",
       "5                                 14.017067   \n",
       "6                                 14.029649   \n",
       "7                                 13.984498   \n",
       "8                                 13.967135   \n",
       "9                                 13.981614   \n",
       "\n",
       "   secondary_cleaner.state.floatbank6_a_level  \n",
       "0                                 -605.841980  \n",
       "1                                 -599.787184  \n",
       "2                                 -601.427363  \n",
       "3                                 -599.996129  \n",
       "4                                 -601.496691  \n",
       "5                                 -599.707915  \n",
       "6                                 -600.905470  \n",
       "7                                 -600.411070  \n",
       "8                                 -599.061188  \n",
       "9                                 -598.070855  \n",
       "\n",
       "[10 rows x 87 columns]"
      ]
     },
     "execution_count": 4,
     "metadata": {},
     "output_type": "execute_result"
    }
   ],
   "source": [
    "data_train.head(10)"
   ]
  },
  {
   "cell_type": "code",
   "execution_count": 5,
   "metadata": {},
   "outputs": [
    {
     "name": "stdout",
     "output_type": "stream",
     "text": [
      "(14149, 87)\n",
      "(5290, 53)\n",
      "(19439, 87)\n"
     ]
    }
   ],
   "source": [
    "for df in data_list:\n",
    "    print(df.shape)"
   ]
  },
  {
   "cell_type": "code",
   "execution_count": 6,
   "metadata": {},
   "outputs": [
    {
     "name": "stdout",
     "output_type": "stream",
     "text": [
      "0\n",
      "0\n",
      "0\n"
     ]
    }
   ],
   "source": [
    "for df in data_list:\n",
    "    print(df.duplicated().sum())"
   ]
  },
  {
   "cell_type": "code",
   "execution_count": 7,
   "metadata": {},
   "outputs": [
    {
     "name": "stdout",
     "output_type": "stream",
     "text": [
      "<class 'pandas.core.frame.DataFrame'>\n",
      "RangeIndex: 14149 entries, 0 to 14148\n",
      "Data columns (total 87 columns):\n",
      " #   Column                                              Non-Null Count  Dtype  \n",
      "---  ------                                              --------------  -----  \n",
      " 0   date                                                14149 non-null  object \n",
      " 1   final.output.concentrate_ag                         14148 non-null  float64\n",
      " 2   final.output.concentrate_pb                         14148 non-null  float64\n",
      " 3   final.output.concentrate_sol                        13938 non-null  float64\n",
      " 4   final.output.concentrate_au                         14149 non-null  float64\n",
      " 5   final.output.recovery                               14149 non-null  float64\n",
      " 6   final.output.tail_ag                                14149 non-null  float64\n",
      " 7   final.output.tail_pb                                14049 non-null  float64\n",
      " 8   final.output.tail_sol                               14144 non-null  float64\n",
      " 9   final.output.tail_au                                14149 non-null  float64\n",
      " 10  primary_cleaner.input.sulfate                       14129 non-null  float64\n",
      " 11  primary_cleaner.input.depressant                    14117 non-null  float64\n",
      " 12  primary_cleaner.input.feed_size                     14149 non-null  float64\n",
      " 13  primary_cleaner.input.xanthate                      14049 non-null  float64\n",
      " 14  primary_cleaner.output.concentrate_ag               14149 non-null  float64\n",
      " 15  primary_cleaner.output.concentrate_pb               14063 non-null  float64\n",
      " 16  primary_cleaner.output.concentrate_sol              13863 non-null  float64\n",
      " 17  primary_cleaner.output.concentrate_au               14149 non-null  float64\n",
      " 18  primary_cleaner.output.tail_ag                      14148 non-null  float64\n",
      " 19  primary_cleaner.output.tail_pb                      14134 non-null  float64\n",
      " 20  primary_cleaner.output.tail_sol                     14103 non-null  float64\n",
      " 21  primary_cleaner.output.tail_au                      14149 non-null  float64\n",
      " 22  primary_cleaner.state.floatbank8_a_air              14145 non-null  float64\n",
      " 23  primary_cleaner.state.floatbank8_a_level            14148 non-null  float64\n",
      " 24  primary_cleaner.state.floatbank8_b_air              14145 non-null  float64\n",
      " 25  primary_cleaner.state.floatbank8_b_level            14148 non-null  float64\n",
      " 26  primary_cleaner.state.floatbank8_c_air              14147 non-null  float64\n",
      " 27  primary_cleaner.state.floatbank8_c_level            14148 non-null  float64\n",
      " 28  primary_cleaner.state.floatbank8_d_air              14146 non-null  float64\n",
      " 29  primary_cleaner.state.floatbank8_d_level            14148 non-null  float64\n",
      " 30  rougher.calculation.sulfate_to_au_concentrate       14148 non-null  float64\n",
      " 31  rougher.calculation.floatbank10_sulfate_to_au_feed  14148 non-null  float64\n",
      " 32  rougher.calculation.floatbank11_sulfate_to_au_feed  14148 non-null  float64\n",
      " 33  rougher.calculation.au_pb_ratio                     14149 non-null  float64\n",
      " 34  rougher.input.feed_ag                               14149 non-null  float64\n",
      " 35  rougher.input.feed_pb                               14049 non-null  float64\n",
      " 36  rougher.input.feed_rate                             14141 non-null  float64\n",
      " 37  rougher.input.feed_size                             14005 non-null  float64\n",
      " 38  rougher.input.feed_sol                              14071 non-null  float64\n",
      " 39  rougher.input.feed_au                               14149 non-null  float64\n",
      " 40  rougher.input.floatbank10_sulfate                   14120 non-null  float64\n",
      " 41  rougher.input.floatbank10_xanthate                  14141 non-null  float64\n",
      " 42  rougher.input.floatbank11_sulfate                   14113 non-null  float64\n",
      " 43  rougher.input.floatbank11_xanthate                  13721 non-null  float64\n",
      " 44  rougher.output.concentrate_ag                       14149 non-null  float64\n",
      " 45  rougher.output.concentrate_pb                       14149 non-null  float64\n",
      " 46  rougher.output.concentrate_sol                      14127 non-null  float64\n",
      " 47  rougher.output.concentrate_au                       14149 non-null  float64\n",
      " 48  rougher.output.recovery                             14149 non-null  float64\n",
      " 49  rougher.output.tail_ag                              14148 non-null  float64\n",
      " 50  rougher.output.tail_pb                              14149 non-null  float64\n",
      " 51  rougher.output.tail_sol                             14149 non-null  float64\n",
      " 52  rougher.output.tail_au                              14149 non-null  float64\n",
      " 53  rougher.state.floatbank10_a_air                     14148 non-null  float64\n",
      " 54  rougher.state.floatbank10_a_level                   14148 non-null  float64\n",
      " 55  rougher.state.floatbank10_b_air                     14148 non-null  float64\n",
      " 56  rougher.state.floatbank10_b_level                   14148 non-null  float64\n",
      " 57  rougher.state.floatbank10_c_air                     14148 non-null  float64\n",
      " 58  rougher.state.floatbank10_c_level                   14148 non-null  float64\n",
      " 59  rougher.state.floatbank10_d_air                     14149 non-null  float64\n",
      " 60  rougher.state.floatbank10_d_level                   14149 non-null  float64\n",
      " 61  rougher.state.floatbank10_e_air                     13713 non-null  float64\n",
      " 62  rougher.state.floatbank10_e_level                   14149 non-null  float64\n",
      " 63  rougher.state.floatbank10_f_air                     14149 non-null  float64\n",
      " 64  rougher.state.floatbank10_f_level                   14149 non-null  float64\n",
      " 65  secondary_cleaner.output.tail_ag                    14147 non-null  float64\n",
      " 66  secondary_cleaner.output.tail_pb                    14139 non-null  float64\n",
      " 67  secondary_cleaner.output.tail_sol                   12544 non-null  float64\n",
      " 68  secondary_cleaner.output.tail_au                    14149 non-null  float64\n",
      " 69  secondary_cleaner.state.floatbank2_a_air            13932 non-null  float64\n",
      " 70  secondary_cleaner.state.floatbank2_a_level          14148 non-null  float64\n",
      " 71  secondary_cleaner.state.floatbank2_b_air            14128 non-null  float64\n",
      " 72  secondary_cleaner.state.floatbank2_b_level          14148 non-null  float64\n",
      " 73  secondary_cleaner.state.floatbank3_a_air            14145 non-null  float64\n",
      " 74  secondary_cleaner.state.floatbank3_a_level          14148 non-null  float64\n",
      " 75  secondary_cleaner.state.floatbank3_b_air            14148 non-null  float64\n",
      " 76  secondary_cleaner.state.floatbank3_b_level          14148 non-null  float64\n",
      " 77  secondary_cleaner.state.floatbank4_a_air            14143 non-null  float64\n",
      " 78  secondary_cleaner.state.floatbank4_a_level          14148 non-null  float64\n",
      " 79  secondary_cleaner.state.floatbank4_b_air            14148 non-null  float64\n",
      " 80  secondary_cleaner.state.floatbank4_b_level          14148 non-null  float64\n",
      " 81  secondary_cleaner.state.floatbank5_a_air            14148 non-null  float64\n",
      " 82  secondary_cleaner.state.floatbank5_a_level          14148 non-null  float64\n",
      " 83  secondary_cleaner.state.floatbank5_b_air            14148 non-null  float64\n",
      " 84  secondary_cleaner.state.floatbank5_b_level          14148 non-null  float64\n",
      " 85  secondary_cleaner.state.floatbank6_a_air            14147 non-null  float64\n",
      " 86  secondary_cleaner.state.floatbank6_a_level          14148 non-null  float64\n",
      "dtypes: float64(86), object(1)\n",
      "memory usage: 9.4+ MB\n",
      "None\n",
      "<class 'pandas.core.frame.DataFrame'>\n",
      "RangeIndex: 5290 entries, 0 to 5289\n",
      "Data columns (total 53 columns):\n",
      " #   Column                                      Non-Null Count  Dtype  \n",
      "---  ------                                      --------------  -----  \n",
      " 0   date                                        5290 non-null   object \n",
      " 1   primary_cleaner.input.sulfate               5286 non-null   float64\n",
      " 2   primary_cleaner.input.depressant            5285 non-null   float64\n",
      " 3   primary_cleaner.input.feed_size             5290 non-null   float64\n",
      " 4   primary_cleaner.input.xanthate              5286 non-null   float64\n",
      " 5   primary_cleaner.state.floatbank8_a_air      5290 non-null   float64\n",
      " 6   primary_cleaner.state.floatbank8_a_level    5290 non-null   float64\n",
      " 7   primary_cleaner.state.floatbank8_b_air      5290 non-null   float64\n",
      " 8   primary_cleaner.state.floatbank8_b_level    5290 non-null   float64\n",
      " 9   primary_cleaner.state.floatbank8_c_air      5290 non-null   float64\n",
      " 10  primary_cleaner.state.floatbank8_c_level    5290 non-null   float64\n",
      " 11  primary_cleaner.state.floatbank8_d_air      5290 non-null   float64\n",
      " 12  primary_cleaner.state.floatbank8_d_level    5290 non-null   float64\n",
      " 13  rougher.input.feed_ag                       5290 non-null   float64\n",
      " 14  rougher.input.feed_pb                       5290 non-null   float64\n",
      " 15  rougher.input.feed_rate                     5287 non-null   float64\n",
      " 16  rougher.input.feed_size                     5289 non-null   float64\n",
      " 17  rougher.input.feed_sol                      5269 non-null   float64\n",
      " 18  rougher.input.feed_au                       5290 non-null   float64\n",
      " 19  rougher.input.floatbank10_sulfate           5285 non-null   float64\n",
      " 20  rougher.input.floatbank10_xanthate          5290 non-null   float64\n",
      " 21  rougher.input.floatbank11_sulfate           5282 non-null   float64\n",
      " 22  rougher.input.floatbank11_xanthate          5265 non-null   float64\n",
      " 23  rougher.state.floatbank10_a_air             5290 non-null   float64\n",
      " 24  rougher.state.floatbank10_a_level           5290 non-null   float64\n",
      " 25  rougher.state.floatbank10_b_air             5290 non-null   float64\n",
      " 26  rougher.state.floatbank10_b_level           5290 non-null   float64\n",
      " 27  rougher.state.floatbank10_c_air             5290 non-null   float64\n",
      " 28  rougher.state.floatbank10_c_level           5290 non-null   float64\n",
      " 29  rougher.state.floatbank10_d_air             5290 non-null   float64\n",
      " 30  rougher.state.floatbank10_d_level           5290 non-null   float64\n",
      " 31  rougher.state.floatbank10_e_air             5290 non-null   float64\n",
      " 32  rougher.state.floatbank10_e_level           5290 non-null   float64\n",
      " 33  rougher.state.floatbank10_f_air             5290 non-null   float64\n",
      " 34  rougher.state.floatbank10_f_level           5290 non-null   float64\n",
      " 35  secondary_cleaner.state.floatbank2_a_air    5287 non-null   float64\n",
      " 36  secondary_cleaner.state.floatbank2_a_level  5290 non-null   float64\n",
      " 37  secondary_cleaner.state.floatbank2_b_air    5288 non-null   float64\n",
      " 38  secondary_cleaner.state.floatbank2_b_level  5290 non-null   float64\n",
      " 39  secondary_cleaner.state.floatbank3_a_air    5281 non-null   float64\n",
      " 40  secondary_cleaner.state.floatbank3_a_level  5290 non-null   float64\n",
      " 41  secondary_cleaner.state.floatbank3_b_air    5290 non-null   float64\n",
      " 42  secondary_cleaner.state.floatbank3_b_level  5290 non-null   float64\n",
      " 43  secondary_cleaner.state.floatbank4_a_air    5290 non-null   float64\n",
      " 44  secondary_cleaner.state.floatbank4_a_level  5290 non-null   float64\n",
      " 45  secondary_cleaner.state.floatbank4_b_air    5290 non-null   float64\n",
      " 46  secondary_cleaner.state.floatbank4_b_level  5290 non-null   float64\n",
      " 47  secondary_cleaner.state.floatbank5_a_air    5290 non-null   float64\n",
      " 48  secondary_cleaner.state.floatbank5_a_level  5290 non-null   float64\n",
      " 49  secondary_cleaner.state.floatbank5_b_air    5290 non-null   float64\n",
      " 50  secondary_cleaner.state.floatbank5_b_level  5290 non-null   float64\n",
      " 51  secondary_cleaner.state.floatbank6_a_air    5290 non-null   float64\n",
      " 52  secondary_cleaner.state.floatbank6_a_level  5290 non-null   float64\n",
      "dtypes: float64(52), object(1)\n",
      "memory usage: 2.1+ MB\n",
      "None\n",
      "<class 'pandas.core.frame.DataFrame'>\n",
      "RangeIndex: 19439 entries, 0 to 19438\n",
      "Data columns (total 87 columns):\n",
      " #   Column                                              Non-Null Count  Dtype  \n",
      "---  ------                                              --------------  -----  \n",
      " 0   date                                                19439 non-null  object \n",
      " 1   final.output.concentrate_ag                         19438 non-null  float64\n",
      " 2   final.output.concentrate_pb                         19438 non-null  float64\n",
      " 3   final.output.concentrate_sol                        19228 non-null  float64\n",
      " 4   final.output.concentrate_au                         19439 non-null  float64\n",
      " 5   final.output.recovery                               19439 non-null  float64\n",
      " 6   final.output.tail_ag                                19438 non-null  float64\n",
      " 7   final.output.tail_pb                                19338 non-null  float64\n",
      " 8   final.output.tail_sol                               19433 non-null  float64\n",
      " 9   final.output.tail_au                                19439 non-null  float64\n",
      " 10  primary_cleaner.input.sulfate                       19415 non-null  float64\n",
      " 11  primary_cleaner.input.depressant                    19402 non-null  float64\n",
      " 12  primary_cleaner.input.feed_size                     19439 non-null  float64\n",
      " 13  primary_cleaner.input.xanthate                      19335 non-null  float64\n",
      " 14  primary_cleaner.output.concentrate_ag               19439 non-null  float64\n",
      " 15  primary_cleaner.output.concentrate_pb               19323 non-null  float64\n",
      " 16  primary_cleaner.output.concentrate_sol              19069 non-null  float64\n",
      " 17  primary_cleaner.output.concentrate_au               19439 non-null  float64\n",
      " 18  primary_cleaner.output.tail_ag                      19435 non-null  float64\n",
      " 19  primary_cleaner.output.tail_pb                      19418 non-null  float64\n",
      " 20  primary_cleaner.output.tail_sol                     19377 non-null  float64\n",
      " 21  primary_cleaner.output.tail_au                      19439 non-null  float64\n",
      " 22  primary_cleaner.state.floatbank8_a_air              19435 non-null  float64\n",
      " 23  primary_cleaner.state.floatbank8_a_level            19438 non-null  float64\n",
      " 24  primary_cleaner.state.floatbank8_b_air              19435 non-null  float64\n",
      " 25  primary_cleaner.state.floatbank8_b_level            19438 non-null  float64\n",
      " 26  primary_cleaner.state.floatbank8_c_air              19437 non-null  float64\n",
      " 27  primary_cleaner.state.floatbank8_c_level            19438 non-null  float64\n",
      " 28  primary_cleaner.state.floatbank8_d_air              19436 non-null  float64\n",
      " 29  primary_cleaner.state.floatbank8_d_level            19438 non-null  float64\n",
      " 30  rougher.calculation.sulfate_to_au_concentrate       19437 non-null  float64\n",
      " 31  rougher.calculation.floatbank10_sulfate_to_au_feed  19437 non-null  float64\n",
      " 32  rougher.calculation.floatbank11_sulfate_to_au_feed  19437 non-null  float64\n",
      " 33  rougher.calculation.au_pb_ratio                     19439 non-null  float64\n",
      " 34  rougher.input.feed_ag                               19439 non-null  float64\n",
      " 35  rougher.input.feed_pb                               19339 non-null  float64\n",
      " 36  rougher.input.feed_rate                             19428 non-null  float64\n",
      " 37  rougher.input.feed_size                             19294 non-null  float64\n",
      " 38  rougher.input.feed_sol                              19340 non-null  float64\n",
      " 39  rougher.input.feed_au                               19439 non-null  float64\n",
      " 40  rougher.input.floatbank10_sulfate                   19405 non-null  float64\n",
      " 41  rougher.input.floatbank10_xanthate                  19431 non-null  float64\n",
      " 42  rougher.input.floatbank11_sulfate                   19395 non-null  float64\n",
      " 43  rougher.input.floatbank11_xanthate                  18986 non-null  float64\n",
      " 44  rougher.output.concentrate_ag                       19439 non-null  float64\n",
      " 45  rougher.output.concentrate_pb                       19439 non-null  float64\n",
      " 46  rougher.output.concentrate_sol                      19416 non-null  float64\n",
      " 47  rougher.output.concentrate_au                       19439 non-null  float64\n",
      " 48  rougher.output.recovery                             19439 non-null  float64\n",
      " 49  rougher.output.tail_ag                              19438 non-null  float64\n",
      " 50  rougher.output.tail_pb                              19439 non-null  float64\n",
      " 51  rougher.output.tail_sol                             19439 non-null  float64\n",
      " 52  rougher.output.tail_au                              19439 non-null  float64\n",
      " 53  rougher.state.floatbank10_a_air                     19438 non-null  float64\n",
      " 54  rougher.state.floatbank10_a_level                   19438 non-null  float64\n",
      " 55  rougher.state.floatbank10_b_air                     19438 non-null  float64\n",
      " 56  rougher.state.floatbank10_b_level                   19438 non-null  float64\n",
      " 57  rougher.state.floatbank10_c_air                     19438 non-null  float64\n",
      " 58  rougher.state.floatbank10_c_level                   19438 non-null  float64\n",
      " 59  rougher.state.floatbank10_d_air                     19439 non-null  float64\n",
      " 60  rougher.state.floatbank10_d_level                   19439 non-null  float64\n",
      " 61  rougher.state.floatbank10_e_air                     19003 non-null  float64\n",
      " 62  rougher.state.floatbank10_e_level                   19439 non-null  float64\n",
      " 63  rougher.state.floatbank10_f_air                     19439 non-null  float64\n",
      " 64  rougher.state.floatbank10_f_level                   19439 non-null  float64\n",
      " 65  secondary_cleaner.output.tail_ag                    19437 non-null  float64\n",
      " 66  secondary_cleaner.output.tail_pb                    19427 non-null  float64\n",
      " 67  secondary_cleaner.output.tail_sol                   17691 non-null  float64\n",
      " 68  secondary_cleaner.output.tail_au                    19439 non-null  float64\n",
      " 69  secondary_cleaner.state.floatbank2_a_air            19219 non-null  float64\n",
      " 70  secondary_cleaner.state.floatbank2_a_level          19438 non-null  float64\n",
      " 71  secondary_cleaner.state.floatbank2_b_air            19416 non-null  float64\n",
      " 72  secondary_cleaner.state.floatbank2_b_level          19438 non-null  float64\n",
      " 73  secondary_cleaner.state.floatbank3_a_air            19426 non-null  float64\n",
      " 74  secondary_cleaner.state.floatbank3_a_level          19438 non-null  float64\n",
      " 75  secondary_cleaner.state.floatbank3_b_air            19438 non-null  float64\n",
      " 76  secondary_cleaner.state.floatbank3_b_level          19438 non-null  float64\n",
      " 77  secondary_cleaner.state.floatbank4_a_air            19433 non-null  float64\n",
      " 78  secondary_cleaner.state.floatbank4_a_level          19438 non-null  float64\n",
      " 79  secondary_cleaner.state.floatbank4_b_air            19438 non-null  float64\n",
      " 80  secondary_cleaner.state.floatbank4_b_level          19438 non-null  float64\n",
      " 81  secondary_cleaner.state.floatbank5_a_air            19438 non-null  float64\n",
      " 82  secondary_cleaner.state.floatbank5_a_level          19438 non-null  float64\n",
      " 83  secondary_cleaner.state.floatbank5_b_air            19438 non-null  float64\n",
      " 84  secondary_cleaner.state.floatbank5_b_level          19438 non-null  float64\n",
      " 85  secondary_cleaner.state.floatbank6_a_air            19437 non-null  float64\n",
      " 86  secondary_cleaner.state.floatbank6_a_level          19438 non-null  float64\n",
      "dtypes: float64(86), object(1)\n",
      "memory usage: 12.9+ MB\n",
      "None\n"
     ]
    }
   ],
   "source": [
    "for df in data_list:\n",
    "    print(df.info())"
   ]
  },
  {
   "cell_type": "code",
   "execution_count": 8,
   "metadata": {
    "scrolled": true
   },
   "outputs": [
    {
     "name": "stdout",
     "output_type": "stream",
     "text": [
      "date                                            0\n",
      "final.output.concentrate_ag                     1\n",
      "final.output.concentrate_pb                     1\n",
      "final.output.concentrate_sol                  211\n",
      "final.output.concentrate_au                     0\n",
      "                                             ... \n",
      "secondary_cleaner.state.floatbank5_a_level      1\n",
      "secondary_cleaner.state.floatbank5_b_air        1\n",
      "secondary_cleaner.state.floatbank5_b_level      1\n",
      "secondary_cleaner.state.floatbank6_a_air        2\n",
      "secondary_cleaner.state.floatbank6_a_level      1\n",
      "Length: 87, dtype: int64\n",
      "date                                           0\n",
      "primary_cleaner.input.sulfate                  4\n",
      "primary_cleaner.input.depressant               5\n",
      "primary_cleaner.input.feed_size                0\n",
      "primary_cleaner.input.xanthate                 4\n",
      "primary_cleaner.state.floatbank8_a_air         0\n",
      "primary_cleaner.state.floatbank8_a_level       0\n",
      "primary_cleaner.state.floatbank8_b_air         0\n",
      "primary_cleaner.state.floatbank8_b_level       0\n",
      "primary_cleaner.state.floatbank8_c_air         0\n",
      "primary_cleaner.state.floatbank8_c_level       0\n",
      "primary_cleaner.state.floatbank8_d_air         0\n",
      "primary_cleaner.state.floatbank8_d_level       0\n",
      "rougher.input.feed_ag                          0\n",
      "rougher.input.feed_pb                          0\n",
      "rougher.input.feed_rate                        3\n",
      "rougher.input.feed_size                        1\n",
      "rougher.input.feed_sol                        21\n",
      "rougher.input.feed_au                          0\n",
      "rougher.input.floatbank10_sulfate              5\n",
      "rougher.input.floatbank10_xanthate             0\n",
      "rougher.input.floatbank11_sulfate              8\n",
      "rougher.input.floatbank11_xanthate            25\n",
      "rougher.state.floatbank10_a_air                0\n",
      "rougher.state.floatbank10_a_level              0\n",
      "rougher.state.floatbank10_b_air                0\n",
      "rougher.state.floatbank10_b_level              0\n",
      "rougher.state.floatbank10_c_air                0\n",
      "rougher.state.floatbank10_c_level              0\n",
      "rougher.state.floatbank10_d_air                0\n",
      "rougher.state.floatbank10_d_level              0\n",
      "rougher.state.floatbank10_e_air                0\n",
      "rougher.state.floatbank10_e_level              0\n",
      "rougher.state.floatbank10_f_air                0\n",
      "rougher.state.floatbank10_f_level              0\n",
      "secondary_cleaner.state.floatbank2_a_air       3\n",
      "secondary_cleaner.state.floatbank2_a_level     0\n",
      "secondary_cleaner.state.floatbank2_b_air       2\n",
      "secondary_cleaner.state.floatbank2_b_level     0\n",
      "secondary_cleaner.state.floatbank3_a_air       9\n",
      "secondary_cleaner.state.floatbank3_a_level     0\n",
      "secondary_cleaner.state.floatbank3_b_air       0\n",
      "secondary_cleaner.state.floatbank3_b_level     0\n",
      "secondary_cleaner.state.floatbank4_a_air       0\n",
      "secondary_cleaner.state.floatbank4_a_level     0\n",
      "secondary_cleaner.state.floatbank4_b_air       0\n",
      "secondary_cleaner.state.floatbank4_b_level     0\n",
      "secondary_cleaner.state.floatbank5_a_air       0\n",
      "secondary_cleaner.state.floatbank5_a_level     0\n",
      "secondary_cleaner.state.floatbank5_b_air       0\n",
      "secondary_cleaner.state.floatbank5_b_level     0\n",
      "secondary_cleaner.state.floatbank6_a_air       0\n",
      "secondary_cleaner.state.floatbank6_a_level     0\n",
      "dtype: int64\n",
      "date                                            0\n",
      "final.output.concentrate_ag                     1\n",
      "final.output.concentrate_pb                     1\n",
      "final.output.concentrate_sol                  211\n",
      "final.output.concentrate_au                     0\n",
      "                                             ... \n",
      "secondary_cleaner.state.floatbank5_a_level      1\n",
      "secondary_cleaner.state.floatbank5_b_air        1\n",
      "secondary_cleaner.state.floatbank5_b_level      1\n",
      "secondary_cleaner.state.floatbank6_a_air        2\n",
      "secondary_cleaner.state.floatbank6_a_level      1\n",
      "Length: 87, dtype: int64\n"
     ]
    }
   ],
   "source": [
    "for df in data_list:\n",
    "    print(df.isna().sum())"
   ]
  },
  {
   "cell_type": "code",
   "execution_count": 9,
   "metadata": {
    "scrolled": true
   },
   "outputs": [
    {
     "data": {
      "text/html": [
       "<div>\n",
       "<style scoped>\n",
       "    .dataframe tbody tr th:only-of-type {\n",
       "        vertical-align: middle;\n",
       "    }\n",
       "\n",
       "    .dataframe tbody tr th {\n",
       "        vertical-align: top;\n",
       "    }\n",
       "\n",
       "    .dataframe thead th {\n",
       "        text-align: right;\n",
       "    }\n",
       "</style>\n",
       "<table border=\"1\" class=\"dataframe\">\n",
       "  <thead>\n",
       "    <tr style=\"text-align: right;\">\n",
       "      <th></th>\n",
       "      <th>full_parameter_name</th>\n",
       "    </tr>\n",
       "  </thead>\n",
       "  <tbody>\n",
       "    <tr>\n",
       "      <th>0</th>\n",
       "      <td>date</td>\n",
       "    </tr>\n",
       "    <tr>\n",
       "      <th>1</th>\n",
       "      <td>final.output.concentrate_ag</td>\n",
       "    </tr>\n",
       "    <tr>\n",
       "      <th>2</th>\n",
       "      <td>final.output.concentrate_pb</td>\n",
       "    </tr>\n",
       "    <tr>\n",
       "      <th>3</th>\n",
       "      <td>final.output.concentrate_sol</td>\n",
       "    </tr>\n",
       "    <tr>\n",
       "      <th>4</th>\n",
       "      <td>final.output.concentrate_au</td>\n",
       "    </tr>\n",
       "    <tr>\n",
       "      <th>...</th>\n",
       "      <td>...</td>\n",
       "    </tr>\n",
       "    <tr>\n",
       "      <th>82</th>\n",
       "      <td>secondary_cleaner.state.floatbank5_a_level</td>\n",
       "    </tr>\n",
       "    <tr>\n",
       "      <th>83</th>\n",
       "      <td>secondary_cleaner.state.floatbank5_b_air</td>\n",
       "    </tr>\n",
       "    <tr>\n",
       "      <th>84</th>\n",
       "      <td>secondary_cleaner.state.floatbank5_b_level</td>\n",
       "    </tr>\n",
       "    <tr>\n",
       "      <th>85</th>\n",
       "      <td>secondary_cleaner.state.floatbank6_a_air</td>\n",
       "    </tr>\n",
       "    <tr>\n",
       "      <th>86</th>\n",
       "      <td>secondary_cleaner.state.floatbank6_a_level</td>\n",
       "    </tr>\n",
       "  </tbody>\n",
       "</table>\n",
       "<p>87 rows × 1 columns</p>\n",
       "</div>"
      ],
      "text/plain": [
       "                           full_parameter_name\n",
       "0                                         date\n",
       "1                  final.output.concentrate_ag\n",
       "2                  final.output.concentrate_pb\n",
       "3                 final.output.concentrate_sol\n",
       "4                  final.output.concentrate_au\n",
       "..                                         ...\n",
       "82  secondary_cleaner.state.floatbank5_a_level\n",
       "83    secondary_cleaner.state.floatbank5_b_air\n",
       "84  secondary_cleaner.state.floatbank5_b_level\n",
       "85    secondary_cleaner.state.floatbank6_a_air\n",
       "86  secondary_cleaner.state.floatbank6_a_level\n",
       "\n",
       "[87 rows x 1 columns]"
      ]
     },
     "execution_count": 9,
     "metadata": {},
     "output_type": "execute_result"
    }
   ],
   "source": [
    "#Исследование данных data_full\n",
    "df_columns = (\n",
    "    data_full.columns\n",
    "    .rename(\"full_parameter_name\")\n",
    "    .to_frame()\n",
    "    .reset_index(drop=True)\n",
    ")\n",
    "df_columns"
   ]
  },
  {
   "cell_type": "code",
   "execution_count": 10,
   "metadata": {},
   "outputs": [
    {
     "data": {
      "text/html": [
       "<div>\n",
       "<style scoped>\n",
       "    .dataframe tbody tr th:only-of-type {\n",
       "        vertical-align: middle;\n",
       "    }\n",
       "\n",
       "    .dataframe tbody tr th {\n",
       "        vertical-align: top;\n",
       "    }\n",
       "\n",
       "    .dataframe thead th {\n",
       "        text-align: right;\n",
       "    }\n",
       "</style>\n",
       "<table border=\"1\" class=\"dataframe\">\n",
       "  <thead>\n",
       "    <tr style=\"text-align: right;\">\n",
       "      <th></th>\n",
       "      <th>full_parameter_name</th>\n",
       "    </tr>\n",
       "  </thead>\n",
       "  <tbody>\n",
       "    <tr>\n",
       "      <th>1</th>\n",
       "      <td>final.output.concentrate_ag</td>\n",
       "    </tr>\n",
       "    <tr>\n",
       "      <th>2</th>\n",
       "      <td>final.output.concentrate_pb</td>\n",
       "    </tr>\n",
       "  </tbody>\n",
       "</table>\n",
       "</div>"
      ],
      "text/plain": [
       "           full_parameter_name\n",
       "1  final.output.concentrate_ag\n",
       "2  final.output.concentrate_pb"
      ]
     },
     "execution_count": 10,
     "metadata": {},
     "output_type": "execute_result"
    }
   ],
   "source": [
    "#Исследование данных data_full\n",
    "# Убираем дату из первой строки\n",
    "df_columns = df_columns.loc[1:]\n",
    "df_columns.head(2)"
   ]
  },
  {
   "cell_type": "code",
   "execution_count": 11,
   "metadata": {
    "scrolled": true
   },
   "outputs": [
    {
     "data": {
      "text/html": [
       "<div>\n",
       "<style scoped>\n",
       "    .dataframe tbody tr th:only-of-type {\n",
       "        vertical-align: middle;\n",
       "    }\n",
       "\n",
       "    .dataframe tbody tr th {\n",
       "        vertical-align: top;\n",
       "    }\n",
       "\n",
       "    .dataframe thead th {\n",
       "        text-align: right;\n",
       "    }\n",
       "</style>\n",
       "<table border=\"1\" class=\"dataframe\">\n",
       "  <thead>\n",
       "    <tr style=\"text-align: right;\">\n",
       "      <th></th>\n",
       "      <th>full_parameter_name</th>\n",
       "      <th>stage</th>\n",
       "      <th>parameter_type</th>\n",
       "      <th>parameter_name</th>\n",
       "    </tr>\n",
       "  </thead>\n",
       "  <tbody>\n",
       "    <tr>\n",
       "      <th>1</th>\n",
       "      <td>final.output.concentrate_ag</td>\n",
       "      <td>final</td>\n",
       "      <td>output</td>\n",
       "      <td>concentrate_ag</td>\n",
       "    </tr>\n",
       "    <tr>\n",
       "      <th>2</th>\n",
       "      <td>final.output.concentrate_pb</td>\n",
       "      <td>final</td>\n",
       "      <td>output</td>\n",
       "      <td>concentrate_pb</td>\n",
       "    </tr>\n",
       "    <tr>\n",
       "      <th>3</th>\n",
       "      <td>final.output.concentrate_sol</td>\n",
       "      <td>final</td>\n",
       "      <td>output</td>\n",
       "      <td>concentrate_sol</td>\n",
       "    </tr>\n",
       "    <tr>\n",
       "      <th>4</th>\n",
       "      <td>final.output.concentrate_au</td>\n",
       "      <td>final</td>\n",
       "      <td>output</td>\n",
       "      <td>concentrate_au</td>\n",
       "    </tr>\n",
       "    <tr>\n",
       "      <th>5</th>\n",
       "      <td>final.output.recovery</td>\n",
       "      <td>final</td>\n",
       "      <td>output</td>\n",
       "      <td>recovery</td>\n",
       "    </tr>\n",
       "    <tr>\n",
       "      <th>...</th>\n",
       "      <td>...</td>\n",
       "      <td>...</td>\n",
       "      <td>...</td>\n",
       "      <td>...</td>\n",
       "    </tr>\n",
       "    <tr>\n",
       "      <th>82</th>\n",
       "      <td>secondary_cleaner.state.floatbank5_a_level</td>\n",
       "      <td>secondary_cleaner</td>\n",
       "      <td>state</td>\n",
       "      <td>floatbank5_a_level</td>\n",
       "    </tr>\n",
       "    <tr>\n",
       "      <th>83</th>\n",
       "      <td>secondary_cleaner.state.floatbank5_b_air</td>\n",
       "      <td>secondary_cleaner</td>\n",
       "      <td>state</td>\n",
       "      <td>floatbank5_b_air</td>\n",
       "    </tr>\n",
       "    <tr>\n",
       "      <th>84</th>\n",
       "      <td>secondary_cleaner.state.floatbank5_b_level</td>\n",
       "      <td>secondary_cleaner</td>\n",
       "      <td>state</td>\n",
       "      <td>floatbank5_b_level</td>\n",
       "    </tr>\n",
       "    <tr>\n",
       "      <th>85</th>\n",
       "      <td>secondary_cleaner.state.floatbank6_a_air</td>\n",
       "      <td>secondary_cleaner</td>\n",
       "      <td>state</td>\n",
       "      <td>floatbank6_a_air</td>\n",
       "    </tr>\n",
       "    <tr>\n",
       "      <th>86</th>\n",
       "      <td>secondary_cleaner.state.floatbank6_a_level</td>\n",
       "      <td>secondary_cleaner</td>\n",
       "      <td>state</td>\n",
       "      <td>floatbank6_a_level</td>\n",
       "    </tr>\n",
       "  </tbody>\n",
       "</table>\n",
       "<p>86 rows × 4 columns</p>\n",
       "</div>"
      ],
      "text/plain": [
       "                           full_parameter_name              stage  \\\n",
       "1                  final.output.concentrate_ag              final   \n",
       "2                  final.output.concentrate_pb              final   \n",
       "3                 final.output.concentrate_sol              final   \n",
       "4                  final.output.concentrate_au              final   \n",
       "5                        final.output.recovery              final   \n",
       "..                                         ...                ...   \n",
       "82  secondary_cleaner.state.floatbank5_a_level  secondary_cleaner   \n",
       "83    secondary_cleaner.state.floatbank5_b_air  secondary_cleaner   \n",
       "84  secondary_cleaner.state.floatbank5_b_level  secondary_cleaner   \n",
       "85    secondary_cleaner.state.floatbank6_a_air  secondary_cleaner   \n",
       "86  secondary_cleaner.state.floatbank6_a_level  secondary_cleaner   \n",
       "\n",
       "   parameter_type      parameter_name  \n",
       "1          output      concentrate_ag  \n",
       "2          output      concentrate_pb  \n",
       "3          output     concentrate_sol  \n",
       "4          output      concentrate_au  \n",
       "5          output            recovery  \n",
       "..            ...                 ...  \n",
       "82          state  floatbank5_a_level  \n",
       "83          state    floatbank5_b_air  \n",
       "84          state  floatbank5_b_level  \n",
       "85          state    floatbank6_a_air  \n",
       "86          state  floatbank6_a_level  \n",
       "\n",
       "[86 rows x 4 columns]"
      ]
     },
     "execution_count": 11,
     "metadata": {},
     "output_type": "execute_result"
    }
   ],
   "source": [
    "#Исследование данных data_full\n",
    "# Разбиваем full_parameter_name на три новых столбца\n",
    "df_columns = pd.concat(\n",
    "    [\n",
    "     df_columns,\n",
    "     df_columns[\"full_parameter_name\"]\n",
    "     .str.split(\".\", expand=True)\n",
    "     .rename(columns={0: \"stage\", 1: \"parameter_type\", 2: \"parameter_name\"}),\n",
    "    ],\n",
    "    axis=1,\n",
    ")\n",
    "\n",
    "df_columns"
   ]
  },
  {
   "cell_type": "markdown",
   "metadata": {},
   "source": [
    "В данных:\n",
    "\n",
    " - Есть пропуски , однако их немного. Первоначально собирался их удалить, однако по рекомендации наставника заменил методом ffill.\n",
    "\n",
    " - Для столбца date изменим тип с object на datetime, в остальном типы данных соответствует требованиям.\n",
    "\n",
    " - Регистр названий столбцов в датасетах соответствует стандарту."
   ]
  },
  {
   "cell_type": "code",
   "execution_count": 12,
   "metadata": {},
   "outputs": [
    {
     "name": "stdout",
     "output_type": "stream",
     "text": [
      "date                                          0\n",
      "final.output.concentrate_ag                   0\n",
      "final.output.concentrate_pb                   0\n",
      "final.output.concentrate_sol                  0\n",
      "final.output.concentrate_au                   0\n",
      "                                             ..\n",
      "secondary_cleaner.state.floatbank5_a_level    0\n",
      "secondary_cleaner.state.floatbank5_b_air      0\n",
      "secondary_cleaner.state.floatbank5_b_level    0\n",
      "secondary_cleaner.state.floatbank6_a_air      0\n",
      "secondary_cleaner.state.floatbank6_a_level    0\n",
      "Length: 87, dtype: int64\n"
     ]
    }
   ],
   "source": [
    "#Удаляем пропуски\n",
    "# for df in data_list:\n",
    "#     #df.dropna(inplace = True)\n",
    "#     #df = df.fillna(method=\"ffill\")\n",
    "#     df = df.ffill(axis = 0)\n",
    "data_train = data_train.fillna(method=\"ffill\")\n",
    "print(data_train.isna().sum())"
   ]
  },
  {
   "cell_type": "code",
   "execution_count": 13,
   "metadata": {
    "scrolled": true
   },
   "outputs": [
    {
     "name": "stdout",
     "output_type": "stream",
     "text": [
      "date                                          0\n",
      "primary_cleaner.input.sulfate                 0\n",
      "primary_cleaner.input.depressant              0\n",
      "primary_cleaner.input.feed_size               0\n",
      "primary_cleaner.input.xanthate                0\n",
      "primary_cleaner.state.floatbank8_a_air        0\n",
      "primary_cleaner.state.floatbank8_a_level      0\n",
      "primary_cleaner.state.floatbank8_b_air        0\n",
      "primary_cleaner.state.floatbank8_b_level      0\n",
      "primary_cleaner.state.floatbank8_c_air        0\n",
      "primary_cleaner.state.floatbank8_c_level      0\n",
      "primary_cleaner.state.floatbank8_d_air        0\n",
      "primary_cleaner.state.floatbank8_d_level      0\n",
      "rougher.input.feed_ag                         0\n",
      "rougher.input.feed_pb                         0\n",
      "rougher.input.feed_rate                       0\n",
      "rougher.input.feed_size                       0\n",
      "rougher.input.feed_sol                        0\n",
      "rougher.input.feed_au                         0\n",
      "rougher.input.floatbank10_sulfate             0\n",
      "rougher.input.floatbank10_xanthate            0\n",
      "rougher.input.floatbank11_sulfate             0\n",
      "rougher.input.floatbank11_xanthate            0\n",
      "rougher.state.floatbank10_a_air               0\n",
      "rougher.state.floatbank10_a_level             0\n",
      "rougher.state.floatbank10_b_air               0\n",
      "rougher.state.floatbank10_b_level             0\n",
      "rougher.state.floatbank10_c_air               0\n",
      "rougher.state.floatbank10_c_level             0\n",
      "rougher.state.floatbank10_d_air               0\n",
      "rougher.state.floatbank10_d_level             0\n",
      "rougher.state.floatbank10_e_air               0\n",
      "rougher.state.floatbank10_e_level             0\n",
      "rougher.state.floatbank10_f_air               0\n",
      "rougher.state.floatbank10_f_level             0\n",
      "secondary_cleaner.state.floatbank2_a_air      0\n",
      "secondary_cleaner.state.floatbank2_a_level    0\n",
      "secondary_cleaner.state.floatbank2_b_air      0\n",
      "secondary_cleaner.state.floatbank2_b_level    0\n",
      "secondary_cleaner.state.floatbank3_a_air      0\n",
      "secondary_cleaner.state.floatbank3_a_level    0\n",
      "secondary_cleaner.state.floatbank3_b_air      0\n",
      "secondary_cleaner.state.floatbank3_b_level    0\n",
      "secondary_cleaner.state.floatbank4_a_air      0\n",
      "secondary_cleaner.state.floatbank4_a_level    0\n",
      "secondary_cleaner.state.floatbank4_b_air      0\n",
      "secondary_cleaner.state.floatbank4_b_level    0\n",
      "secondary_cleaner.state.floatbank5_a_air      0\n",
      "secondary_cleaner.state.floatbank5_a_level    0\n",
      "secondary_cleaner.state.floatbank5_b_air      0\n",
      "secondary_cleaner.state.floatbank5_b_level    0\n",
      "secondary_cleaner.state.floatbank6_a_air      0\n",
      "secondary_cleaner.state.floatbank6_a_level    0\n",
      "dtype: int64\n"
     ]
    }
   ],
   "source": [
    "data_test = data_test.fillna(method=\"ffill\")\n",
    "print(data_test.isna().sum())"
   ]
  },
  {
   "cell_type": "code",
   "execution_count": 14,
   "metadata": {
    "scrolled": true
   },
   "outputs": [
    {
     "name": "stdout",
     "output_type": "stream",
     "text": [
      "date                                          0\n",
      "final.output.concentrate_ag                   0\n",
      "final.output.concentrate_pb                   0\n",
      "final.output.concentrate_sol                  0\n",
      "final.output.concentrate_au                   0\n",
      "                                             ..\n",
      "secondary_cleaner.state.floatbank5_a_level    0\n",
      "secondary_cleaner.state.floatbank5_b_air      0\n",
      "secondary_cleaner.state.floatbank5_b_level    0\n",
      "secondary_cleaner.state.floatbank6_a_air      0\n",
      "secondary_cleaner.state.floatbank6_a_level    0\n",
      "Length: 87, dtype: int64\n"
     ]
    }
   ],
   "source": [
    "data_full = data_full.fillna(method=\"ffill\")\n",
    "print(data_full.isna().sum())"
   ]
  },
  {
   "cell_type": "markdown",
   "metadata": {},
   "source": [
    "### Проверка формулы вычисления эффективности обогащения"
   ]
  },
  {
   "cell_type": "markdown",
   "metadata": {},
   "source": [
    "**Изучение параметров производственного процесса**\n",
    "\n",
    "Задачи:\n",
    "\n",
    " - понять структуру общего набора данных\n",
    " - изучить связь данных с производственным процессом\n",
    " - разобраться в 87 признаках для будущих предсказаний\n",
    "\n",
    "Целевой признак и этапы процесса\n",
    "У нас есть данные с 4-х последовательных этапов процесса добычи золота из руды:\n",
    "\n",
    " - rougher — флотация(gолучаем черновой концентрат)\n",
    " - primary_cleaner — первичная очистка\n",
    " - secondary_cleaner — вторичная очистка\n",
    " - final — финальные характеристики (получаем финальный концентрат)\n",
    "\n",
    "Эффективность процесса получения золота из золотосодержащей руды (обогащения) оценивается с помощью коэффициента восстановления для обоих концентратов:\n",
    "\n",
    "recovery = (C(F-T)/(F(C-T))*100%, где:\n",
    "\n",
    " - C — доля золота в концентрате ПОСЛЕ флотации/очистки;\n",
    " - F — доля золота в сырье/концентрате ДО флотации/очистки;\n",
    " - T — доля золота в отвальных ХВОСТАХ после флотации/очистки.\n",
    "\n",
    "Целевые признаки для предсказания:\n",
    "\n",
    " - rougher.output.recovery\n",
    " - final.output.recovery"
   ]
  },
  {
   "cell_type": "markdown",
   "metadata": {},
   "source": [
    "Напишем формулу эффективности обогащения и найдем MAE.\n",
    "\n",
    "Для этого вычислите её на обучающей выборке для признака rougher.output.recovery. Найдем MAE между полученными значениями и значением признака.\n",
    "\n",
    " - C - это rougher.output.concentrate_au\n",
    " - F - это rougher.input.feed_au\n",
    " - T - это rougher.output.tail_au\n",
    " \n",
    "Значение признака - rougher.output.recovery"
   ]
  },
  {
   "cell_type": "code",
   "execution_count": 15,
   "metadata": {},
   "outputs": [],
   "source": [
    "C = data_train['rougher.output.concentrate_au']\n",
    "F = data_train['rougher.input.feed_au']\n",
    "T = data_train['rougher.output.tail_au']\n",
    "recovery = (C*(F-T)/(F*(C-T)))*100"
   ]
  },
  {
   "cell_type": "code",
   "execution_count": 16,
   "metadata": {},
   "outputs": [
    {
     "data": {
      "text/plain": [
       "0        87.107763\n",
       "1        86.843261\n",
       "2        86.842308\n",
       "3        87.226430\n",
       "4        86.688794\n",
       "           ...    \n",
       "14144    89.574376\n",
       "14145    87.724007\n",
       "14146    88.890579\n",
       "14147    89.858126\n",
       "14148    89.514960\n",
       "Length: 14149, dtype: float64"
      ]
     },
     "execution_count": 16,
     "metadata": {},
     "output_type": "execute_result"
    }
   ],
   "source": [
    "recovery"
   ]
  },
  {
   "cell_type": "code",
   "execution_count": 17,
   "metadata": {},
   "outputs": [
    {
     "name": "stdout",
     "output_type": "stream",
     "text": [
      "MAE = 9.73512347450521e-15\n"
     ]
    }
   ],
   "source": [
    "print('MAE =', mean_absolute_error(data_train['rougher.output.recovery'], recovery))"
   ]
  },
  {
   "cell_type": "markdown",
   "metadata": {},
   "source": [
    "MAE - средний модуль разности, и показывает как сильно предсказания в среднем отличаются от истинных значений. Полученное значение говорит об отсутствии разницы."
   ]
  },
  {
   "cell_type": "markdown",
   "metadata": {},
   "source": [
    "### Анализ признаков, недоступных в тестовой выборке."
   ]
  },
  {
   "cell_type": "code",
   "execution_count": 18,
   "metadata": {},
   "outputs": [],
   "source": [
    "missed_signs = set(data_train.columns) - set(data_test.columns)\n"
   ]
  },
  {
   "cell_type": "code",
   "execution_count": 19,
   "metadata": {},
   "outputs": [
    {
     "data": {
      "text/plain": [
       "{'final.output.concentrate_ag',\n",
       " 'final.output.concentrate_au',\n",
       " 'final.output.concentrate_pb',\n",
       " 'final.output.concentrate_sol',\n",
       " 'final.output.recovery',\n",
       " 'final.output.tail_ag',\n",
       " 'final.output.tail_au',\n",
       " 'final.output.tail_pb',\n",
       " 'final.output.tail_sol',\n",
       " 'primary_cleaner.output.concentrate_ag',\n",
       " 'primary_cleaner.output.concentrate_au',\n",
       " 'primary_cleaner.output.concentrate_pb',\n",
       " 'primary_cleaner.output.concentrate_sol',\n",
       " 'primary_cleaner.output.tail_ag',\n",
       " 'primary_cleaner.output.tail_au',\n",
       " 'primary_cleaner.output.tail_pb',\n",
       " 'primary_cleaner.output.tail_sol',\n",
       " 'rougher.calculation.au_pb_ratio',\n",
       " 'rougher.calculation.floatbank10_sulfate_to_au_feed',\n",
       " 'rougher.calculation.floatbank11_sulfate_to_au_feed',\n",
       " 'rougher.calculation.sulfate_to_au_concentrate',\n",
       " 'rougher.output.concentrate_ag',\n",
       " 'rougher.output.concentrate_au',\n",
       " 'rougher.output.concentrate_pb',\n",
       " 'rougher.output.concentrate_sol',\n",
       " 'rougher.output.recovery',\n",
       " 'rougher.output.tail_ag',\n",
       " 'rougher.output.tail_au',\n",
       " 'rougher.output.tail_pb',\n",
       " 'rougher.output.tail_sol',\n",
       " 'secondary_cleaner.output.tail_ag',\n",
       " 'secondary_cleaner.output.tail_au',\n",
       " 'secondary_cleaner.output.tail_pb',\n",
       " 'secondary_cleaner.output.tail_sol'}"
      ]
     },
     "execution_count": 19,
     "metadata": {},
     "output_type": "execute_result"
    }
   ],
   "source": [
    "missed_signs"
   ]
  },
  {
   "cell_type": "code",
   "execution_count": 20,
   "metadata": {},
   "outputs": [
    {
     "name": "stdout",
     "output_type": "stream",
     "text": [
      "Количество отсутствующих признаков = 34\n"
     ]
    }
   ],
   "source": [
    "print('Количество отсутствующих признаков =', len(missed_signs))"
   ]
  },
  {
   "cell_type": "markdown",
   "metadata": {},
   "source": [
    "В основном в тестовой выборке отсутствуют значения типа \"параметры продукта\", и в меньшем количестве значения типа \"расчетные характеристики\". Отсутствие признаков можно обьяснить тем, что они рассчитываются значительно позже.\n",
    "\n",
    "В тестовой выборки в том числе отсутствуют целевые признаки rougher.output.recovery и final.output.recovery, которые будут нужны для расчета метрики качества. Добавим их в тестовую выборку."
   ]
  },
  {
   "cell_type": "markdown",
   "metadata": {},
   "source": [
    "### Предобработка данных"
   ]
  },
  {
   "cell_type": "code",
   "execution_count": 21,
   "metadata": {},
   "outputs": [],
   "source": [
    "#Изменим тип данных колонки date в датасетах с object на datetime.\n",
    "for df in data_list:\n",
    "    df['date'] = pd.to_datetime(df['date'], format='%Y-%m-%d %H:%M:%S')\n",
    "    df['date'].dtypes"
   ]
  },
  {
   "cell_type": "code",
   "execution_count": 22,
   "metadata": {},
   "outputs": [],
   "source": [
    "#Добавим в тестовую выборку целевые признаки rougher.output.recovery и final.output.recovery,\n",
    "data_test = data_test.merge(data_full.loc[:, ['date','rougher.output.recovery','final.output.recovery']], on='date')"
   ]
  },
  {
   "cell_type": "markdown",
   "metadata": {},
   "source": [
    "Удалим лить колонку date, как не информативную для дальнейшего обучения модели."
   ]
  },
  {
   "cell_type": "code",
   "execution_count": 23,
   "metadata": {},
   "outputs": [],
   "source": [
    "data_train = data_train.drop('date', axis=1)\n",
    "data_test = data_test.drop('date', axis=1)"
   ]
  },
  {
   "cell_type": "code",
   "execution_count": 24,
   "metadata": {},
   "outputs": [],
   "source": [
    "# scaler = StandardScaler()\n",
    "# scaler.fit(features_train[numeric])\n",
    "# features_train[numeric] = scaler.transform(features_train[numeric])\n",
    "# features_valid[numeric] = scaler.transform(features_valid[numeric])# < преобразуйте валидационную выборку >\n",
    "# #scaler.fit_transform(features_train[numeric])"
   ]
  },
  {
   "cell_type": "markdown",
   "metadata": {},
   "source": [
    "## Анализ данных"
   ]
  },
  {
   "cell_type": "markdown",
   "metadata": {},
   "source": [
    "**В рамках анализа данных необходимо:** \n",
    "\n",
    " - Исследовать изменение концентрации элементов на каждом этапе\n",
    " - Проанализировать распределения размеров гранул на обучающей и тестовой выборках\n",
    " - Исследовать суммарные концентрации"
   ]
  },
  {
   "cell_type": "markdown",
   "metadata": {},
   "source": [
    "### Изменение концентрации элементов на каждом этапе"
   ]
  },
  {
   "cell_type": "code",
   "execution_count": 25,
   "metadata": {},
   "outputs": [
    {
     "data": {
      "image/png": "[encoded data removed]",
      "text/plain": [
       "<Figure size 1080x1224 with 3 Axes>"
      ]
     },
     "metadata": {
      "needs_background": "light"
     },
     "output_type": "display_data"
    }
   ],
   "source": [
    "position = 0\n",
    "plt.figure(figsize=[15, 17])\n",
    "plt.subplots_adjust(top=0.94, wspace=0.2, hspace=0.3)\n",
    "\n",
    "for metal in ['au', 'ag', 'pb']:\n",
    "    position += 1\n",
    "    plt.subplot(3, 1, position)\n",
    "    plt.title(f'ГРАФИК РАСПРЕДЕЛЕНИЯ МЕТАЛЛА {str(metal).upper()} НА РАЗЛИЧНЫХ ЭТАПАХ ОЧИТСКИ', fontsize=13)\n",
    "    \n",
    "    sns.histplot(data_train[f'rougher.input.feed_{metal}'], color='r', label='Сырье', kde=False)\n",
    "    sns.histplot(data_train[f'rougher.output.concentrate_{metal}'], color='b', label='Концентрация после флотации', kde=False)\n",
    "    sns.histplot(data_train[f'primary_cleaner.output.concentrate_{metal}'], color='g', label='Концентрация после первичной очистки', kde=False)\n",
    "    sns.histplot(data_train[f'final.output.concentrate_{metal}'], color='y', label='Финальная концетрация металла',kde=False)\n",
    "    plt.xlabel('Концентрация металла')\n",
    "    plt.ylabel('Количество наблюдений')\n",
    "    plt.legend()\n",
    "plt.show();"
   ]
  },
  {
   "cell_type": "markdown",
   "metadata": {},
   "source": [
    " - Доля золота на после каждого этапа очитски постепенно увеличивается.\n",
    " - Доля серебра увеличивается на этапе флотации, а затем постепенно уменьшается.\n",
    " - Доля свинца сначала увеличивается на этапе флотации и после первичной очитски, затем остатется примерно на одном уровне."
   ]
  },
  {
   "cell_type": "markdown",
   "metadata": {},
   "source": [
    "<div class=\"alert alert-success\">\n",
    "<h2> Комментарий ревьюера <a class=\"tocSkip\"> </h2>\n",
    "\n",
    "<b>Верно!👍:\\\n",
    "</b> Мне интересно было изучить твои графики, практичный и красочный графический анализ. Видно, что золото растёт в концентрации - это здорово!) А серебро падает - ведь наша цель -  золото, верно?)\n",
    "А свинец - это побочный элемент химических реакций, по этой причине немного и увеличивается его концентрация"
   ]
  },
  {
   "cell_type": "markdown",
   "metadata": {},
   "source": [
    "### Анлиз распределения размеров гранул на обучающей и тестовой выборках"
   ]
  },
  {
   "cell_type": "code",
   "execution_count": 26,
   "metadata": {},
   "outputs": [
    {
     "data": {
      "image/png": "[encoded data removed]",
      "text/plain": [
       "<Figure size 1080x1224 with 2 Axes>"
      ]
     },
     "metadata": {
      "needs_background": "light"
     },
     "output_type": "display_data"
    }
   ],
   "source": [
    "position = 0\n",
    "plt.figure(figsize=[15, 17])\n",
    "plt.subplots_adjust(top=0.90, wspace=0.2, hspace=0.2)\n",
    "\n",
    "for stage in ['rougher', 'primary_cleaner']:\n",
    "    position += 1\n",
    "    plt.subplot(2, 1, position)\n",
    "    plt.title(f'ГРАФИК РАСПРЕДЕЛЕНИЯ ГРАНУЛ ДЛЯ ЭТАПА {str(stage).upper()} НА ОБУЧАЮЩЕЙ и ТЕСТОВОЙ ВЫБОРКАХ', fontsize=13)\n",
    "    sns.set_style('darkgrid')\n",
    "    plt.hist(data_train[f'{stage}.input.feed_size'], color='g', label='Обучающая выборка', density=True)\n",
    "    plt.hist(data_test[f'{stage}.input.feed_size'], color='y', label='Тестовая выборка', density=True)\n",
    "    plt.xlabel('Размер гранул')\n",
    "    plt.ylabel('Количество наблюдений')\n",
    "    plt.legend()\n",
    "plt.show();"
   ]
  },
  {
   "cell_type": "markdown",
   "metadata": {},
   "source": [
    "Значимых различий между распределениями для выборок не наблюдается."
   ]
  },
  {
   "cell_type": "markdown",
   "metadata": {},
   "source": [
    "### Исследование суммарных концентрации"
   ]
  },
  {
   "cell_type": "code",
   "execution_count": 27,
   "metadata": {},
   "outputs": [],
   "source": [
    "sum_concentrate_of_rougher_input = 0\n",
    "sum_concentrate_of_rougher_output = 0\n",
    "\n",
    "sum_concentrate_of_final_output = 0\n",
    "for metal in ['au', 'ag', 'pb', 'sol']:\n",
    "    sum_concentrate_of_rougher_input += data_train[f'rougher.input.feed_{metal}']\n",
    "    sum_concentrate_of_rougher_output += data_train[f'rougher.output.concentrate_{metal}']\n",
    "\n",
    "    sum_concentrate_of_final_output += data_train[f'final.output.concentrate_{metal}']"
   ]
  },
  {
   "cell_type": "code",
   "execution_count": 28,
   "metadata": {},
   "outputs": [
    {
     "data": {
      "image/png": "[encoded data removed]",
      "text/plain": [
       "<Figure size 1080x648 with 1 Axes>"
      ]
     },
     "metadata": {},
     "output_type": "display_data"
    }
   ],
   "source": [
    "\n",
    "# Dataset:\n",
    "a = pd.DataFrame({ 'group' : 'input', 'value': sum_concentrate_of_rougher_input })\n",
    "b = pd.DataFrame({ 'group' : 'output', 'value': sum_concentrate_of_rougher_output })\n",
    "c = pd.DataFrame({ 'group' : 'final', 'value': sum_concentrate_of_final_output })\n",
    "ds=a.append(b).append(c)\n",
    "\n",
    "\n",
    " # Usual boxplot\n",
    "plt.figure(figsize=[15, 9])\n",
    "sns.boxplot(x='group', y='value', data=ds,linewidth=3, palette = sns.dark_palette(\"green\", 3))\n",
    "sns.set(style=\"dark\")\n",
    "\n",
    "plt.title(\"Распределение\", loc=\"center\",  fontsize=15)\n",
    "plt.xlabel('Этап наблюдения')\n",
    "plt.ylabel('Распределение концентрации веществ')\n",
    "#plt.legend()\n",
    "plt.show()\n"
   ]
  },
  {
   "cell_type": "code",
   "execution_count": 29,
   "metadata": {},
   "outputs": [
    {
     "data": {
      "image/png": "[encoded data removed]",
      "text/plain": [
       "<Figure size 1080x648 with 1 Axes>"
      ]
     },
     "metadata": {},
     "output_type": "display_data"
    }
   ],
   "source": [
    "plt.figure(figsize=[15, 9])\n",
    "plt.suptitle('ГРАФИК СУММАРНОЙ КОНЦЕНТРАЦИИ ВЕЩЕСТВ НА РАЗНЫХ СТАДИЯХ.', fontsize=15)\n",
    "\n",
    "sns.histplot(sum_concentrate_of_rougher_input, color='y', label='Сырье', kde=False)\n",
    "sns.histplot(sum_concentrate_of_rougher_output, color='b', label='Концентрация после флотации', kde=False)\n",
    "# sns.histplot(sum_concentrate_of_primary_cleaner_output, color='g', label='Концентрация после первичной очистки', kde=False)\n",
    "sns.histplot(sum_concentrate_of_final_output, color='r', label='Финальная концетрация',kde=False)\n",
    "plt.xlabel('Концентрация веществ')\n",
    "plt.ylabel('Количество наблюдений')\n",
    "plt.legend()\n",
    "plt.show();\n"
   ]
  },
  {
   "cell_type": "markdown",
   "metadata": {},
   "source": [
    "Суммарная концентрация веществ увеличивается к финальному этапу, а диапазон распределения суммарной концентрации веществ уменьшается."
   ]
  },
  {
   "cell_type": "code",
   "execution_count": 30,
   "metadata": {},
   "outputs": [],
   "source": [
    "# mas_sum_consentr = [sum_concentrate_of_rougher_input, sum_concentrate_of_rougher_output, sum_concentrate_of_final_output]\n",
    "# for sum_consentr in mas_sum_consentr:\n",
    "#     index_to_del_mas=np.where(np.abs(stats.zscore(sum_consentr)) > 3)\n",
    "#     index_to_del = pd.Series(index_to_del_mas)\n",
    "#     data_train = data_train.drop(index=index_to_del)\n"
   ]
  },
  {
   "cell_type": "code",
   "execution_count": 31,
   "metadata": {},
   "outputs": [],
   "source": [
    "data_train = data_train[(data_train['rougher.output.concentrate_au'] != 0)\n",
    "                        & (data_train['rougher.output.concentrate_ag'] != 0)\n",
    "                        & (data_train['rougher.output.concentrate_pb'] != 0)\n",
    "                        & (data_train['rougher.output.concentrate_sol'] != 0)]\n",
    "\n",
    "data_train = data_train[(data_train['final.output.concentrate_au'] != 0) \n",
    "                      & (data_train['final.output.concentrate_ag'] != 0) \n",
    "                      & (data_train['final.output.concentrate_pb'] != 0) \n",
    "                      & (data_train['final.output.concentrate_sol'] != 0)]"
   ]
  },
  {
   "cell_type": "code",
   "execution_count": 32,
   "metadata": {},
   "outputs": [],
   "source": [
    "data_full = data_full[(data_full['rougher.output.concentrate_au'] != 0) \n",
    "                  & (data_full['rougher.output.concentrate_ag'] != 0) \n",
    "                  & (data_full['rougher.output.concentrate_pb'] != 0) \n",
    "                  & (data_full['rougher.output.concentrate_sol'] != 0)]\n",
    "\n",
    "data_full = data_full[(data_full['final.output.concentrate_au'] != 0) \n",
    "                  & (data_full['final.output.concentrate_ag'] != 0) \n",
    "                  & (data_full['final.output.concentrate_pb'] != 0) \n",
    "                  & (data_full['final.output.concentrate_sol'] != 0)]\n"
   ]
  },
  {
   "cell_type": "markdown",
   "metadata": {},
   "source": [
    "<div class=\"alert alert-success\">\n",
    "<h2> Комментарий ревьюера v.2 <a class=\"tocSkip\"> </h2>\n",
    "\n",
    "<b>Все отлично!👍:</b>"
   ]
  },
  {
   "cell_type": "markdown",
   "metadata": {},
   "source": [
    "## Модель"
   ]
  },
  {
   "cell_type": "markdown",
   "metadata": {},
   "source": [
    "**В рамках модели необходимо:** \n",
    "\n",
    " - Написать функцию для вычисления итогового *sMAPE*\n",
    " - Построить несколько моделей\n",
    " - Выбранть лучшую модель и  её качество проверить на тестовой выборке"
   ]
  },
  {
   "cell_type": "markdown",
   "metadata": {},
   "source": [
    "### Функция для вычисления итогового *sMAPE*"
   ]
  },
  {
   "cell_type": "markdown",
   "metadata": {},
   "source": [
    "Функция для вычисления sMAPE"
   ]
  },
  {
   "cell_type": "code",
   "execution_count": 33,
   "metadata": {},
   "outputs": [],
   "source": [
    "def get_smape(target, predict):\n",
    "    smape = (1/len(target))*np.sum((np.abs(target - predict))/( (np.abs(target)+np.abs(predict))/2))*100\n",
    "    return smape"
   ]
  },
  {
   "cell_type": "code",
   "execution_count": 34,
   "metadata": {},
   "outputs": [],
   "source": [
    "smape_scorer = make_scorer(get_smape, greater_is_better = False)"
   ]
  },
  {
   "cell_type": "markdown",
   "metadata": {},
   "source": [
    " Функция для вычисления итогового *sMAPE*"
   ]
  },
  {
   "cell_type": "code",
   "execution_count": 35,
   "metadata": {},
   "outputs": [],
   "source": [
    "def get_final_smape(rougher, final):\n",
    "    final_smape = 0.25*rougher+0.75*final\n",
    "    return final_smape"
   ]
  },
  {
   "cell_type": "markdown",
   "metadata": {},
   "source": [
    "### Построение несколько моделей"
   ]
  },
  {
   "cell_type": "code",
   "execution_count": 36,
   "metadata": {},
   "outputs": [],
   "source": [
    "signs_for_delete_without_target_signs = missed_signs - set(['rougher.output.recovery','final.output.recovery'])"
   ]
  },
  {
   "cell_type": "code",
   "execution_count": 37,
   "metadata": {},
   "outputs": [],
   "source": [
    "data_train = data_train .drop(columns=signs_for_delete_without_target_signs, axis=1)"
   ]
  },
  {
   "cell_type": "code",
   "execution_count": 38,
   "metadata": {},
   "outputs": [],
   "source": [
    "features_train = data_train.drop(['rougher.output.recovery','final.output.recovery'], axis=1)\n",
    "target_train_rougher = data_train['rougher.output.recovery']\n",
    "target_train_final = data_train['final.output.recovery']"
   ]
  },
  {
   "cell_type": "code",
   "execution_count": 39,
   "metadata": {},
   "outputs": [
    {
     "name": "stdout",
     "output_type": "stream",
     "text": [
      "sMAPE: 10.059261443482796\n"
     ]
    }
   ],
   "source": [
    "#Линейная регрессия\n",
    "model_lr_rougher = LinearRegression()\n",
    "smape_rougher = cross_val_score(model_lr_rougher,\n",
    "                          features_train,\n",
    "                          target_train_rougher,\n",
    "                          scoring=smape_scorer,\n",
    "                          cv=5)\n",
    "final_smape_rougher = smape_rougher.mean()\n",
    "\n",
    "model_lr_final = LinearRegression()\n",
    "smape_final = cross_val_score(model_lr_final,\n",
    "                        features_train,\n",
    "                        target_train_final,\n",
    "                        scoring=smape_scorer,\n",
    "                        cv=5)\n",
    "final_smape_final = smape_final.mean()\n",
    "best_model_for_lr = get_final_smape(final_smape_rougher, final_smape_final)*(-1)\n",
    "print('sMAPE:', best_model_for_lr)"
   ]
  },
  {
   "cell_type": "code",
   "execution_count": 40,
   "metadata": {},
   "outputs": [
    {
     "name": "stdout",
     "output_type": "stream",
     "text": [
      "sMAPE: 8.925785452030949 max_depth: 3\n",
      "CPU times: user 57.7 s, sys: 225 ms, total: 57.9 s\n",
      "Wall time: 58 s\n"
     ]
    }
   ],
   "source": [
    "%%time\n",
    "#Дерево решений\n",
    "best_model_for_dt = 100\n",
    "d_dt = 0\n",
    "for d in range(1, 15, 1):\n",
    "    model_dt_rougher = DecisionTreeRegressor(max_depth=d, random_state=state)\n",
    "    smape_rougher = cross_val_score(model_dt_rougher,\n",
    "                              features_train,\n",
    "                              target_train_rougher,\n",
    "                              scoring=smape_scorer,\n",
    "                              cv=5)\n",
    "    final_smape_rougher = smape_rougher.mean()\n",
    "\n",
    "    model_dt_final = DecisionTreeRegressor(max_depth=d, random_state=state)\n",
    "    smape_final = cross_val_score(model_dt_final, \n",
    "                                  features_train,\n",
    "                                  target_train_final,\n",
    "                                  scoring=smape_scorer,\n",
    "                                  cv=5)\n",
    "    final_smape_final = smape_final.mean()\n",
    "    result_smape = get_final_smape(final_smape_rougher, final_smape_final)*(-1)\n",
    "    if result_smape < best_model_for_dt:\n",
    "        best_model_for_dt = result_smape\n",
    "        d_dt = d\n",
    "print('sMAPE:', best_model_for_dt,  'max_depth:',  d_dt)"
   ]
  },
  {
   "cell_type": "code",
   "execution_count": 41,
   "metadata": {},
   "outputs": [
    {
     "name": "stdout",
     "output_type": "stream",
     "text": [
      "sMAPE: 8.529258429567625 max_depth: 4 max_n_estimators: 10\n",
      "CPU times: user 1min 19s, sys: 312 ms, total: 1min 19s\n",
      "Wall time: 1min 19s\n"
     ]
    }
   ],
   "source": [
    "%%time\n",
    "#Случайный лес \n",
    "\n",
    "best_model_for_rf = 100\n",
    "n_rf = 0\n",
    "d_rf = 0\n",
    "for n in range(1, 15, 3):\n",
    "    for d in range(2,5,2):\n",
    "        model_rf_rougher = RandomForestRegressor(n_estimators=n, max_depth=d, random_state=state)\n",
    "        smape_rougher = cross_val_score(model_rf_rougher,\n",
    "                                  features_train,\n",
    "                                  target_train_rougher,\n",
    "                                  scoring=smape_scorer,\n",
    "                                  cv=5)\n",
    "        final_smape_rougher = smape_rougher.mean()\n",
    "\n",
    "        model_rf_final = RandomForestRegressor(n_estimators=n, max_depth=d, random_state=state)\n",
    "        smape_final = cross_val_score(model_rf_final,\n",
    "                                features_train,\n",
    "                                target_train_final,\n",
    "                                scoring=smape_scorer,\n",
    "                                cv=5)\n",
    "        final_smape_final = smape_final.mean()\n",
    "        result_smape = get_final_smape(final_smape_rougher, final_smape_final)*(-1)\n",
    "        if result_smape < best_model_for_rf:\n",
    "            best_model_for_rf = result_smape\n",
    "            n_rf = n\n",
    "            d_rf = d\n",
    "            \n",
    "print('sMAPE:', best_model_for_rf, 'max_depth:', d_rf, 'max_n_estimators:',n_rf)"
   ]
  },
  {
   "cell_type": "code",
   "execution_count": 42,
   "metadata": {},
   "outputs": [],
   "source": [
    "# #Случайный лес из моей предыдущей работы\n",
    "# #%%time\n",
    "# r2_forest = 0\n",
    "# n_estim_forest = 0\n",
    "# depth_forest = 0\n",
    "# for n_estim in range(40,100,1):\n",
    "#     for max_depth in range(3,15,1):\n",
    "#         model_forest=RandomForestClassifier(\n",
    "#             max_depth=max_depth,n_estimators=n_estim,random_state=ran_st).fit(features_train,target_train)\n",
    "#         predict_forest = model_forest.predict(features_valid)\n",
    "#         mae = mean_absolute_error(target_valid, predict_forest)\n",
    "#         rmse = mean_squared_error(target_valid, predict_forest)**0.5\n",
    "#         r2 =  r2_score(target_valid, predict_forest)\n",
    "#         if r2_forest > r2:\n",
    "#             r2_forest = r2\n",
    "#             depth_forest = depth\n",
    "#             n_estim_forest = n_estim\n",
    "#             mae_forest = mae\n",
    "#             rmse_forest = rmse \n",
    "\n",
    "# best_model_forest = RandomForestClassifier(\n",
    "#     max_depth=depth_max,n_estimators=n_estim_forest,random_state=ran_st).fit(features_train,target_train)\n",
    "\n",
    "# print('R2:', r2_forest, 'MAE:', mae_forest, 'RMSE:', rmse_forest,'max_depth:', depth_forest, 'max_n_estimators:', n_estim_forest)\n",
    "# tree_array =   [r2_tree,   mae_tree,   rmse_tree]\n",
    "# forest_array = [r2_forest, mae_forest, rmse_forest]\n",
    "# log_array =    [r2_log,    mae_log,    rmse_log]\n",
    "# result={'Дерево Решения':np.array(tree_array),'Случайный лес':np.array(forest_array),'Логистическая регрессия':np.array(log_array)}\n",
    "# result_df=pd.DataFrame(result,index=['R2','MAE', 'RMSE'])"
   ]
  },
  {
   "cell_type": "markdown",
   "metadata": {},
   "source": [
    "### Выбор лучшей модели и  её проверка"
   ]
  },
  {
   "cell_type": "code",
   "execution_count": 43,
   "metadata": {},
   "outputs": [],
   "source": [
    "tree_array =   [best_model_for_dt]\n",
    "forest_array = [best_model_for_rf]\n",
    "log_array =    [best_model_for_lr]\n",
    "result={'Дерево Решения':np.array(tree_array),'Случайный лес':np.array(forest_array),'Логистическая регрессия':np.array(log_array)}\n",
    "result_df=pd.DataFrame(result,index=['smape'])"
   ]
  },
  {
   "cell_type": "code",
   "execution_count": 44,
   "metadata": {},
   "outputs": [
    {
     "data": {
      "text/html": [
       "<div>\n",
       "<style scoped>\n",
       "    .dataframe tbody tr th:only-of-type {\n",
       "        vertical-align: middle;\n",
       "    }\n",
       "\n",
       "    .dataframe tbody tr th {\n",
       "        vertical-align: top;\n",
       "    }\n",
       "\n",
       "    .dataframe thead th {\n",
       "        text-align: right;\n",
       "    }\n",
       "</style>\n",
       "<table border=\"1\" class=\"dataframe\">\n",
       "  <thead>\n",
       "    <tr style=\"text-align: right;\">\n",
       "      <th></th>\n",
       "      <th>Дерево Решения</th>\n",
       "      <th>Случайный лес</th>\n",
       "      <th>Логистическая регрессия</th>\n",
       "    </tr>\n",
       "  </thead>\n",
       "  <tbody>\n",
       "    <tr>\n",
       "      <th>smape</th>\n",
       "      <td>8.925785</td>\n",
       "      <td>8.529258</td>\n",
       "      <td>10.059261</td>\n",
       "    </tr>\n",
       "  </tbody>\n",
       "</table>\n",
       "</div>"
      ],
      "text/plain": [
       "       Дерево Решения  Случайный лес  Логистическая регрессия\n",
       "smape        8.925785       8.529258                10.059261"
      ]
     },
     "execution_count": 44,
     "metadata": {},
     "output_type": "execute_result"
    }
   ],
   "source": [
    "result_df"
   ]
  },
  {
   "cell_type": "markdown",
   "metadata": {},
   "source": [
    "Лучшая модель - RandomForestRegressor\n",
    "\n",
    "Применим лучшую модель на тестовой выборке\n",
    "\n",
    "Подготовим данные для тестирования"
   ]
  },
  {
   "cell_type": "code",
   "execution_count": 45,
   "metadata": {},
   "outputs": [],
   "source": [
    "features_test = data_test.drop(['rougher.output.recovery','final.output.recovery'], axis=1)\n",
    "target_test_rougher = data_test['rougher.output.recovery']\n",
    "target_test_final = data_test['final.output.recovery']"
   ]
  },
  {
   "cell_type": "code",
   "execution_count": 46,
   "metadata": {
    "scrolled": true
   },
   "outputs": [
    {
     "name": "stdout",
     "output_type": "stream",
     "text": [
      "<class 'pandas.core.frame.DataFrame'>\n",
      "Int64Index: 13792 entries, 0 to 14148\n",
      "Data columns (total 52 columns):\n",
      " #   Column                                      Non-Null Count  Dtype  \n",
      "---  ------                                      --------------  -----  \n",
      " 0   primary_cleaner.input.sulfate               13792 non-null  float64\n",
      " 1   primary_cleaner.input.depressant            13792 non-null  float64\n",
      " 2   primary_cleaner.input.feed_size             13792 non-null  float64\n",
      " 3   primary_cleaner.input.xanthate              13792 non-null  float64\n",
      " 4   primary_cleaner.state.floatbank8_a_air      13792 non-null  float64\n",
      " 5   primary_cleaner.state.floatbank8_a_level    13792 non-null  float64\n",
      " 6   primary_cleaner.state.floatbank8_b_air      13792 non-null  float64\n",
      " 7   primary_cleaner.state.floatbank8_b_level    13792 non-null  float64\n",
      " 8   primary_cleaner.state.floatbank8_c_air      13792 non-null  float64\n",
      " 9   primary_cleaner.state.floatbank8_c_level    13792 non-null  float64\n",
      " 10  primary_cleaner.state.floatbank8_d_air      13792 non-null  float64\n",
      " 11  primary_cleaner.state.floatbank8_d_level    13792 non-null  float64\n",
      " 12  rougher.input.feed_ag                       13792 non-null  float64\n",
      " 13  rougher.input.feed_pb                       13792 non-null  float64\n",
      " 14  rougher.input.feed_rate                     13792 non-null  float64\n",
      " 15  rougher.input.feed_size                     13792 non-null  float64\n",
      " 16  rougher.input.feed_sol                      13792 non-null  float64\n",
      " 17  rougher.input.feed_au                       13792 non-null  float64\n",
      " 18  rougher.input.floatbank10_sulfate           13792 non-null  float64\n",
      " 19  rougher.input.floatbank10_xanthate          13792 non-null  float64\n",
      " 20  rougher.input.floatbank11_sulfate           13792 non-null  float64\n",
      " 21  rougher.input.floatbank11_xanthate          13792 non-null  float64\n",
      " 22  rougher.state.floatbank10_a_air             13792 non-null  float64\n",
      " 23  rougher.state.floatbank10_a_level           13792 non-null  float64\n",
      " 24  rougher.state.floatbank10_b_air             13792 non-null  float64\n",
      " 25  rougher.state.floatbank10_b_level           13792 non-null  float64\n",
      " 26  rougher.state.floatbank10_c_air             13792 non-null  float64\n",
      " 27  rougher.state.floatbank10_c_level           13792 non-null  float64\n",
      " 28  rougher.state.floatbank10_d_air             13792 non-null  float64\n",
      " 29  rougher.state.floatbank10_d_level           13792 non-null  float64\n",
      " 30  rougher.state.floatbank10_e_air             13792 non-null  float64\n",
      " 31  rougher.state.floatbank10_e_level           13792 non-null  float64\n",
      " 32  rougher.state.floatbank10_f_air             13792 non-null  float64\n",
      " 33  rougher.state.floatbank10_f_level           13792 non-null  float64\n",
      " 34  secondary_cleaner.state.floatbank2_a_air    13792 non-null  float64\n",
      " 35  secondary_cleaner.state.floatbank2_a_level  13792 non-null  float64\n",
      " 36  secondary_cleaner.state.floatbank2_b_air    13792 non-null  float64\n",
      " 37  secondary_cleaner.state.floatbank2_b_level  13792 non-null  float64\n",
      " 38  secondary_cleaner.state.floatbank3_a_air    13792 non-null  float64\n",
      " 39  secondary_cleaner.state.floatbank3_a_level  13792 non-null  float64\n",
      " 40  secondary_cleaner.state.floatbank3_b_air    13792 non-null  float64\n",
      " 41  secondary_cleaner.state.floatbank3_b_level  13792 non-null  float64\n",
      " 42  secondary_cleaner.state.floatbank4_a_air    13792 non-null  float64\n",
      " 43  secondary_cleaner.state.floatbank4_a_level  13792 non-null  float64\n",
      " 44  secondary_cleaner.state.floatbank4_b_air    13792 non-null  float64\n",
      " 45  secondary_cleaner.state.floatbank4_b_level  13792 non-null  float64\n",
      " 46  secondary_cleaner.state.floatbank5_a_air    13792 non-null  float64\n",
      " 47  secondary_cleaner.state.floatbank5_a_level  13792 non-null  float64\n",
      " 48  secondary_cleaner.state.floatbank5_b_air    13792 non-null  float64\n",
      " 49  secondary_cleaner.state.floatbank5_b_level  13792 non-null  float64\n",
      " 50  secondary_cleaner.state.floatbank6_a_air    13792 non-null  float64\n",
      " 51  secondary_cleaner.state.floatbank6_a_level  13792 non-null  float64\n",
      "dtypes: float64(52)\n",
      "memory usage: 5.6 MB\n"
     ]
    }
   ],
   "source": [
    "features_train.info()"
   ]
  },
  {
   "cell_type": "code",
   "execution_count": 47,
   "metadata": {},
   "outputs": [],
   "source": [
    "model_test_rougher = RandomForestRegressor(n_estimators=n_rf, max_depth=d_rf, random_state=state)\n",
    "model_test_rougher.fit(features_train, target_train_rougher)\n",
    "predicted_rougher = model_test_rougher.predict(features_test)\n",
    "\n",
    "model_test_final = RandomForestRegressor(\n",
    "    n_estimators=n_rf, max_depth=d_rf, random_state=state).fit(features_train, target_train_final)\n",
    "predicted_final = model_test_final.predict(features_test)\n",
    "\n",
    "smape_test_rougher = get_smape(target_test_rougher, predicted_rougher)\n",
    "smape_test_final = get_smape(target_test_final, predicted_final)\n",
    "final_smape_test = get_final_smape(smape_test_rougher, smape_test_final)"
   ]
  },
  {
   "cell_type": "code",
   "execution_count": 48,
   "metadata": {},
   "outputs": [
    {
     "name": "stdout",
     "output_type": "stream",
     "text": [
      "SMAPE ДЛЯ ТЕСТОВОЙ ВЫБОРКИ СОСТОВЛЯЕТ - 9.504033186609172\n"
     ]
    }
   ],
   "source": [
    "print(f'SMAPE ДЛЯ ТЕСТОВОЙ ВЫБОРКИ СОСТОВЛЯЕТ - {final_smape_test}')"
   ]
  },
  {
   "cell_type": "markdown",
   "metadata": {},
   "source": [
    "Проверим полученную модель на адекватность. Вычислим показатель sMape для константной модели и сравним с результатами лучшей модели."
   ]
  },
  {
   "cell_type": "code",
   "execution_count": 49,
   "metadata": {},
   "outputs": [],
   "source": [
    "dummy_regr_for_rougher = DummyRegressor(strategy=\"mean\")\n",
    "dummy_regr_for_final = DummyRegressor(strategy=\"mean\")\n",
    "\n",
    "dummy_regr_for_rougher.fit(features_train, target_train_rougher)\n",
    "dummy_regr_for_final.fit(features_train, target_train_final)\n",
    "\n",
    "dummy_predicted_rougher = dummy_regr_for_rougher.predict(features_test)\n",
    "dummy_predicted_final = dummy_regr_for_final.predict(features_test)\n",
    "\n",
    "smape_for_const_rougher = get_smape(target_test_rougher, dummy_predicted_rougher)\n",
    "smape_for_const_final = get_smape(target_test_final, dummy_predicted_final)\n",
    "\n",
    "final_smape_for_const = get_final_smape(smape_for_const_rougher, smape_for_const_final)"
   ]
  },
  {
   "cell_type": "code",
   "execution_count": 50,
   "metadata": {},
   "outputs": [
    {
     "name": "stdout",
     "output_type": "stream",
     "text": [
      "ПОКАЗАТЕЛЬ SMAPE ДЛЯ КОНСТАНТНОЙ МОДЕЛИ - 9.82146839182027\n"
     ]
    }
   ],
   "source": [
    "print(f'ПОКАЗАТЕЛЬ SMAPE ДЛЯ КОНСТАНТНОЙ МОДЕЛИ - {final_smape_for_const}')"
   ]
  },
  {
   "cell_type": "markdown",
   "metadata": {},
   "source": [
    "Показатель модели меньше показателя константной модели, что означает ее хорошее качество."
   ]
  },
  {
   "cell_type": "markdown",
   "metadata": {},
   "source": [
    "**Вывод**\n",
    "\n",
    "Моделью с лучшими результатами прогноза является - RandomForest, ее показатель меньше показателя константной модели, что означает хорошее качество. Модель проверена на адекватность.\n",
    "\n",
    "Установленно, что мере прохождения стадий технологического процесса доля золота и свинца увеличичвается, а серебра уменьшается. Общее суммарное количество веществ снижается по мере прохождения этапов обработки."
   ]
  },
  {
   "cell_type": "markdown",
   "metadata": {},
   "source": [
    "## Чек-лист готовности проекта"
   ]
  },
  {
   "cell_type": "markdown",
   "metadata": {},
   "source": [
    "- [x]  Jupyter Notebook открыт\n",
    "- [x]  Весь код выполняется без ошибок\n",
    "- [x]  Ячейки с кодом расположены в порядке выполнения\n",
    "- [x]  Выполнен шаг 1: данные подготовлены\n",
    "    - [x]  Проверена формула вычисления эффективности обогащения\n",
    "    - [x]  Проанализированы признаки, недоступные в тестовой выборке\n",
    "    - [x]  Проведена предобработка данных\n",
    "- [x]  Выполнен шаг 2: данные проанализированы\n",
    "    - [x]  Исследовано изменение концентрации элементов на каждом этапе\n",
    "    - [x]  Проанализированы распределения размеров гранул на обучающей и тестовой выборках\n",
    "    - [x]  Исследованы суммарные концентрации\n",
    "- [x]  Выполнен шаг 3: построена модель прогнозирования\n",
    "    - [x]  Написана функция для вычисления итогового *sMAPE*\n",
    "    - [x]  Обучено и проверено несколько моделей\n",
    "    - [x]  Выбрана лучшая модель, её качество проверено на тестовой выборке"
   ]
  },
  {
   "cell_type": "code",
   "execution_count": null,
   "metadata": {},
   "outputs": [],
   "source": []
  }
 ],
 "metadata": {
  "ExecuteTimeLog": [
   {
    "duration": 1638,
    "start_time": "2023-03-13T08:07:31.022Z"
   },
   {
    "duration": 2670,
    "start_time": "2023-03-13T08:07:34.130Z"
   },
   {
    "duration": 37,
    "start_time": "2023-03-13T08:07:39.508Z"
   },
   {
    "duration": 29,
    "start_time": "2023-03-13T08:08:20.014Z"
   },
   {
    "duration": 107,
    "start_time": "2023-03-13T08:08:59.911Z"
   },
   {
    "duration": 241,
    "start_time": "2023-03-13T08:09:08.712Z"
   },
   {
    "duration": 232,
    "start_time": "2023-03-13T08:09:24.526Z"
   },
   {
    "duration": 36,
    "start_time": "2023-03-13T08:09:49.574Z"
   },
   {
    "duration": 35,
    "start_time": "2023-03-13T08:10:29.224Z"
   },
   {
    "duration": 17,
    "start_time": "2023-03-13T08:10:40.761Z"
   },
   {
    "duration": 16,
    "start_time": "2023-03-13T08:11:52.496Z"
   },
   {
    "duration": 4,
    "start_time": "2023-03-13T08:13:49.673Z"
   },
   {
    "duration": 11,
    "start_time": "2023-03-13T11:42:00.699Z"
   },
   {
    "duration": 9,
    "start_time": "2023-03-13T11:47:28.989Z"
   },
   {
    "duration": 46,
    "start_time": "2023-03-13T11:49:42.314Z"
   },
   {
    "duration": 20,
    "start_time": "2023-03-13T12:01:45.180Z"
   },
   {
    "duration": 41,
    "start_time": "2023-03-13T12:05:49.108Z"
   },
   {
    "duration": 18,
    "start_time": "2023-03-13T12:12:06.888Z"
   },
   {
    "duration": 10,
    "start_time": "2023-03-13T12:31:40.773Z"
   },
   {
    "duration": 12,
    "start_time": "2023-03-13T12:32:12.253Z"
   },
   {
    "duration": 10,
    "start_time": "2023-03-13T12:32:18.856Z"
   },
   {
    "duration": 10,
    "start_time": "2023-03-13T12:32:19.558Z"
   },
   {
    "duration": 11,
    "start_time": "2023-03-13T12:33:13.149Z"
   },
   {
    "duration": 46,
    "start_time": "2023-03-13T12:33:16.401Z"
   },
   {
    "duration": 13,
    "start_time": "2023-03-13T12:34:03.760Z"
   },
   {
    "duration": 6,
    "start_time": "2023-03-13T12:34:14.250Z"
   },
   {
    "duration": 12,
    "start_time": "2023-03-13T12:34:19.122Z"
   },
   {
    "duration": 7,
    "start_time": "2023-03-13T12:34:33.993Z"
   },
   {
    "duration": 8,
    "start_time": "2023-03-13T12:38:24.033Z"
   },
   {
    "duration": 4,
    "start_time": "2023-03-13T12:38:52.782Z"
   },
   {
    "duration": 5,
    "start_time": "2023-03-13T12:39:07.509Z"
   },
   {
    "duration": 53,
    "start_time": "2023-03-13T12:56:35.592Z"
   },
   {
    "duration": 7,
    "start_time": "2023-03-13T12:56:43.994Z"
   },
   {
    "duration": 6,
    "start_time": "2023-03-13T12:56:48.593Z"
   },
   {
    "duration": 5,
    "start_time": "2023-03-13T12:56:49.813Z"
   },
   {
    "duration": 4,
    "start_time": "2023-03-13T13:45:53.433Z"
   },
   {
    "duration": 19,
    "start_time": "2023-03-13T13:46:18.353Z"
   },
   {
    "duration": 3,
    "start_time": "2023-03-13T13:46:58.353Z"
   },
   {
    "duration": 5,
    "start_time": "2023-03-13T13:47:21.193Z"
   },
   {
    "duration": 4,
    "start_time": "2023-03-13T13:48:34.420Z"
   },
   {
    "duration": 3,
    "start_time": "2023-03-13T13:48:43.041Z"
   },
   {
    "duration": 1604,
    "start_time": "2023-03-13T14:01:00.146Z"
   },
   {
    "duration": 784,
    "start_time": "2023-03-13T14:01:01.753Z"
   },
   {
    "duration": 42,
    "start_time": "2023-03-13T14:01:02.539Z"
   },
   {
    "duration": 4,
    "start_time": "2023-03-13T14:01:02.584Z"
   },
   {
    "duration": 306,
    "start_time": "2023-03-13T14:01:02.590Z"
   },
   {
    "duration": 61,
    "start_time": "2023-03-13T14:01:02.898Z"
   },
   {
    "duration": 22,
    "start_time": "2023-03-13T14:01:02.962Z"
   },
   {
    "duration": 19,
    "start_time": "2023-03-13T14:01:02.986Z"
   },
   {
    "duration": 30,
    "start_time": "2023-03-13T14:01:03.007Z"
   },
   {
    "duration": 40,
    "start_time": "2023-03-13T14:01:21.177Z"
   },
   {
    "duration": 47,
    "start_time": "2023-03-13T19:18:18.205Z"
   },
   {
    "duration": 1811,
    "start_time": "2023-03-13T19:19:06.992Z"
   },
   {
    "duration": 3136,
    "start_time": "2023-03-13T19:19:08.806Z"
   },
   {
    "duration": 31,
    "start_time": "2023-03-13T19:19:11.944Z"
   },
   {
    "duration": 4,
    "start_time": "2023-03-13T19:19:11.977Z"
   },
   {
    "duration": 266,
    "start_time": "2023-03-13T19:19:11.984Z"
   },
   {
    "duration": 57,
    "start_time": "2023-03-13T19:19:12.252Z"
   },
   {
    "duration": 21,
    "start_time": "2023-03-13T19:19:12.311Z"
   },
   {
    "duration": 14,
    "start_time": "2023-03-13T19:19:12.334Z"
   },
   {
    "duration": 3,
    "start_time": "2023-03-13T19:19:12.350Z"
   },
   {
    "duration": 81,
    "start_time": "2023-03-13T19:19:32.094Z"
   },
   {
    "duration": 62,
    "start_time": "2023-03-13T19:19:51.753Z"
   },
   {
    "duration": 36,
    "start_time": "2023-03-13T19:20:29.027Z"
   },
   {
    "duration": 113,
    "start_time": "2023-03-13T21:04:09.889Z"
   },
   {
    "duration": 9,
    "start_time": "2023-03-13T21:09:56.301Z"
   },
   {
    "duration": 3,
    "start_time": "2023-03-13T21:10:07.521Z"
   },
   {
    "duration": 8,
    "start_time": "2023-03-13T21:10:56.587Z"
   },
   {
    "duration": 9,
    "start_time": "2023-03-13T21:11:21.460Z"
   },
   {
    "duration": 22,
    "start_time": "2023-03-13T21:12:13.488Z"
   },
   {
    "duration": 12,
    "start_time": "2023-03-13T21:57:14.237Z"
   },
   {
    "duration": 9,
    "start_time": "2023-03-13T21:57:31.430Z"
   },
   {
    "duration": 22,
    "start_time": "2023-03-13T21:57:36.179Z"
   },
   {
    "duration": 7,
    "start_time": "2023-03-13T21:57:43.443Z"
   },
   {
    "duration": 17,
    "start_time": "2023-03-13T21:57:47.876Z"
   },
   {
    "duration": 16,
    "start_time": "2023-03-13T21:58:53.505Z"
   },
   {
    "duration": 31,
    "start_time": "2023-03-13T21:59:42.962Z"
   },
   {
    "duration": 7,
    "start_time": "2023-03-13T22:00:09.152Z"
   },
   {
    "duration": 13,
    "start_time": "2023-03-13T22:00:12.260Z"
   },
   {
    "duration": 14,
    "start_time": "2023-03-13T22:00:17.527Z"
   },
   {
    "duration": 7,
    "start_time": "2023-03-13T22:00:20.573Z"
   },
   {
    "duration": 30,
    "start_time": "2023-03-13T22:00:29.271Z"
   },
   {
    "duration": 1508,
    "start_time": "2023-03-14T07:19:09.203Z"
   },
   {
    "duration": 2498,
    "start_time": "2023-03-14T07:19:10.713Z"
   },
   {
    "duration": 23,
    "start_time": "2023-03-14T07:19:13.212Z"
   },
   {
    "duration": 3,
    "start_time": "2023-03-14T07:19:13.237Z"
   },
   {
    "duration": 231,
    "start_time": "2023-03-14T07:19:13.241Z"
   },
   {
    "duration": 125,
    "start_time": "2023-03-14T07:19:13.473Z"
   },
   {
    "duration": 0,
    "start_time": "2023-03-14T07:19:13.600Z"
   },
   {
    "duration": 0,
    "start_time": "2023-03-14T07:19:13.601Z"
   },
   {
    "duration": 0,
    "start_time": "2023-03-14T07:19:13.603Z"
   },
   {
    "duration": 0,
    "start_time": "2023-03-14T07:19:13.604Z"
   },
   {
    "duration": 0,
    "start_time": "2023-03-14T07:19:13.605Z"
   },
   {
    "duration": 0,
    "start_time": "2023-03-14T07:19:13.606Z"
   },
   {
    "duration": 0,
    "start_time": "2023-03-14T07:19:13.607Z"
   },
   {
    "duration": 0,
    "start_time": "2023-03-14T07:19:13.608Z"
   },
   {
    "duration": 0,
    "start_time": "2023-03-14T07:19:13.609Z"
   },
   {
    "duration": 0,
    "start_time": "2023-03-14T07:19:13.609Z"
   },
   {
    "duration": 0,
    "start_time": "2023-03-14T07:19:13.610Z"
   },
   {
    "duration": 0,
    "start_time": "2023-03-14T07:19:13.611Z"
   },
   {
    "duration": 0,
    "start_time": "2023-03-14T07:19:13.612Z"
   },
   {
    "duration": 0,
    "start_time": "2023-03-14T07:19:13.613Z"
   },
   {
    "duration": 0,
    "start_time": "2023-03-14T07:19:13.613Z"
   },
   {
    "duration": 0,
    "start_time": "2023-03-14T07:19:13.614Z"
   },
   {
    "duration": 135,
    "start_time": "2023-03-14T07:19:48.022Z"
   },
   {
    "duration": 1,
    "start_time": "2023-03-14T07:19:59.664Z"
   },
   {
    "duration": 362,
    "start_time": "2023-03-14T07:20:01.425Z"
   },
   {
    "duration": 2,
    "start_time": "2023-03-14T07:20:12.697Z"
   },
   {
    "duration": 13,
    "start_time": "2023-03-14T07:20:16.018Z"
   },
   {
    "duration": 2,
    "start_time": "2023-03-14T07:20:16.917Z"
   },
   {
    "duration": 15,
    "start_time": "2023-03-14T07:20:17.637Z"
   },
   {
    "duration": 23,
    "start_time": "2023-03-14T07:33:00.338Z"
   },
   {
    "duration": 6,
    "start_time": "2023-03-14T07:33:01.210Z"
   },
   {
    "duration": 4,
    "start_time": "2023-03-14T07:33:05.002Z"
   },
   {
    "duration": 2,
    "start_time": "2023-03-14T07:33:09.537Z"
   },
   {
    "duration": 4,
    "start_time": "2023-03-14T07:33:12.436Z"
   },
   {
    "duration": 3,
    "start_time": "2023-03-14T07:33:18.784Z"
   },
   {
    "duration": 57,
    "start_time": "2023-03-14T12:53:46.205Z"
   },
   {
    "duration": 6,
    "start_time": "2023-03-14T14:25:49.475Z"
   },
   {
    "duration": 7,
    "start_time": "2023-03-14T14:26:32.920Z"
   },
   {
    "duration": 5,
    "start_time": "2023-03-14T14:26:52.876Z"
   },
   {
    "duration": 12,
    "start_time": "2023-03-14T14:30:59.084Z"
   },
   {
    "duration": 1334,
    "start_time": "2023-03-14T14:31:17.836Z"
   },
   {
    "duration": 73,
    "start_time": "2023-03-14T14:31:30.181Z"
   },
   {
    "duration": 11,
    "start_time": "2023-03-14T14:31:37.309Z"
   },
   {
    "duration": 2314,
    "start_time": "2023-03-14T19:11:41.043Z"
   },
   {
    "duration": 176,
    "start_time": "2023-03-14T19:11:43.360Z"
   },
   {
    "duration": 0,
    "start_time": "2023-03-14T19:11:43.540Z"
   },
   {
    "duration": 0,
    "start_time": "2023-03-14T19:11:43.542Z"
   },
   {
    "duration": 0,
    "start_time": "2023-03-14T19:11:43.544Z"
   },
   {
    "duration": 0,
    "start_time": "2023-03-14T19:11:43.545Z"
   },
   {
    "duration": 0,
    "start_time": "2023-03-14T19:11:43.547Z"
   },
   {
    "duration": 0,
    "start_time": "2023-03-14T19:11:43.548Z"
   },
   {
    "duration": 0,
    "start_time": "2023-03-14T19:11:43.550Z"
   },
   {
    "duration": 0,
    "start_time": "2023-03-14T19:11:43.551Z"
   },
   {
    "duration": 0,
    "start_time": "2023-03-14T19:11:43.552Z"
   },
   {
    "duration": 0,
    "start_time": "2023-03-14T19:11:43.553Z"
   },
   {
    "duration": 0,
    "start_time": "2023-03-14T19:11:43.555Z"
   },
   {
    "duration": 0,
    "start_time": "2023-03-14T19:11:43.556Z"
   },
   {
    "duration": 0,
    "start_time": "2023-03-14T19:11:43.558Z"
   },
   {
    "duration": 0,
    "start_time": "2023-03-14T19:11:43.559Z"
   },
   {
    "duration": 0,
    "start_time": "2023-03-14T19:11:43.560Z"
   },
   {
    "duration": 1,
    "start_time": "2023-03-14T19:11:43.561Z"
   },
   {
    "duration": 0,
    "start_time": "2023-03-14T19:11:43.563Z"
   },
   {
    "duration": 0,
    "start_time": "2023-03-14T19:11:43.565Z"
   },
   {
    "duration": 0,
    "start_time": "2023-03-14T19:11:43.566Z"
   },
   {
    "duration": 0,
    "start_time": "2023-03-14T19:11:43.567Z"
   },
   {
    "duration": 0,
    "start_time": "2023-03-14T19:11:43.568Z"
   },
   {
    "duration": 0,
    "start_time": "2023-03-14T19:11:43.570Z"
   },
   {
    "duration": 0,
    "start_time": "2023-03-14T19:11:43.571Z"
   },
   {
    "duration": 0,
    "start_time": "2023-03-14T19:11:43.572Z"
   },
   {
    "duration": 0,
    "start_time": "2023-03-14T19:11:43.574Z"
   },
   {
    "duration": 0,
    "start_time": "2023-03-14T19:11:43.575Z"
   },
   {
    "duration": 0,
    "start_time": "2023-03-14T19:11:43.623Z"
   },
   {
    "duration": 0,
    "start_time": "2023-03-14T19:11:43.625Z"
   },
   {
    "duration": 0,
    "start_time": "2023-03-14T19:11:43.630Z"
   },
   {
    "duration": 0,
    "start_time": "2023-03-14T19:11:43.631Z"
   },
   {
    "duration": 0,
    "start_time": "2023-03-14T19:11:43.633Z"
   },
   {
    "duration": 0,
    "start_time": "2023-03-14T19:11:43.634Z"
   },
   {
    "duration": 0,
    "start_time": "2023-03-14T19:11:43.636Z"
   },
   {
    "duration": 0,
    "start_time": "2023-03-14T19:11:43.637Z"
   },
   {
    "duration": 2056,
    "start_time": "2023-03-14T19:13:13.819Z"
   },
   {
    "duration": 10,
    "start_time": "2023-03-14T19:13:15.879Z"
   },
   {
    "duration": 2271,
    "start_time": "2023-03-14T19:13:15.896Z"
   },
   {
    "duration": 55,
    "start_time": "2023-03-14T19:13:18.170Z"
   },
   {
    "duration": 5,
    "start_time": "2023-03-14T19:13:18.229Z"
   },
   {
    "duration": 405,
    "start_time": "2023-03-14T19:13:18.237Z"
   },
   {
    "duration": 4,
    "start_time": "2023-03-14T19:13:18.644Z"
   },
   {
    "duration": 12,
    "start_time": "2023-03-14T19:13:18.650Z"
   },
   {
    "duration": 51,
    "start_time": "2023-03-14T19:13:18.665Z"
   },
   {
    "duration": 11,
    "start_time": "2023-03-14T19:13:18.721Z"
   },
   {
    "duration": 10,
    "start_time": "2023-03-14T19:13:18.735Z"
   },
   {
    "duration": 7,
    "start_time": "2023-03-14T19:13:18.747Z"
   },
   {
    "duration": 4,
    "start_time": "2023-03-14T19:13:18.757Z"
   },
   {
    "duration": 5,
    "start_time": "2023-03-14T19:13:18.765Z"
   },
   {
    "duration": 8,
    "start_time": "2023-03-14T19:13:18.774Z"
   },
   {
    "duration": 63,
    "start_time": "2023-03-14T19:13:18.785Z"
   },
   {
    "duration": 34,
    "start_time": "2023-03-14T19:13:18.852Z"
   },
   {
    "duration": 33,
    "start_time": "2023-03-14T19:13:18.889Z"
   },
   {
    "duration": 18,
    "start_time": "2023-03-14T19:13:18.924Z"
   },
   {
    "duration": 23,
    "start_time": "2023-03-14T19:13:18.946Z"
   },
   {
    "duration": 7,
    "start_time": "2023-03-14T19:13:18.972Z"
   },
   {
    "duration": 494,
    "start_time": "2023-03-14T19:13:18.982Z"
   },
   {
    "duration": 0,
    "start_time": "2023-03-14T19:13:19.478Z"
   },
   {
    "duration": 0,
    "start_time": "2023-03-14T19:13:19.480Z"
   },
   {
    "duration": 0,
    "start_time": "2023-03-14T19:13:19.482Z"
   },
   {
    "duration": 0,
    "start_time": "2023-03-14T19:13:19.484Z"
   },
   {
    "duration": 0,
    "start_time": "2023-03-14T19:13:19.485Z"
   },
   {
    "duration": 0,
    "start_time": "2023-03-14T19:13:19.486Z"
   },
   {
    "duration": 0,
    "start_time": "2023-03-14T19:13:19.488Z"
   },
   {
    "duration": 0,
    "start_time": "2023-03-14T19:13:19.489Z"
   },
   {
    "duration": 0,
    "start_time": "2023-03-14T19:13:19.491Z"
   },
   {
    "duration": 0,
    "start_time": "2023-03-14T19:13:19.492Z"
   },
   {
    "duration": 0,
    "start_time": "2023-03-14T19:13:19.493Z"
   },
   {
    "duration": 0,
    "start_time": "2023-03-14T19:13:19.495Z"
   },
   {
    "duration": 0,
    "start_time": "2023-03-14T19:13:19.497Z"
   },
   {
    "duration": 0,
    "start_time": "2023-03-14T19:13:19.498Z"
   },
   {
    "duration": 7,
    "start_time": "2023-03-14T19:13:20.066Z"
   },
   {
    "duration": 18,
    "start_time": "2023-03-14T19:13:20.075Z"
   },
   {
    "duration": 1129,
    "start_time": "2023-03-14T19:13:20.096Z"
   },
   {
    "duration": 42,
    "start_time": "2023-03-14T19:13:21.227Z"
   },
   {
    "duration": 5,
    "start_time": "2023-03-14T19:13:21.273Z"
   },
   {
    "duration": 402,
    "start_time": "2023-03-14T19:13:21.281Z"
   },
   {
    "duration": 3,
    "start_time": "2023-03-14T19:13:21.686Z"
   },
   {
    "duration": 5,
    "start_time": "2023-03-14T19:13:21.691Z"
   },
   {
    "duration": 40,
    "start_time": "2023-03-14T19:13:21.699Z"
   },
   {
    "duration": 8,
    "start_time": "2023-03-14T19:13:21.742Z"
   },
   {
    "duration": 11,
    "start_time": "2023-03-14T19:13:21.753Z"
   },
   {
    "duration": 6,
    "start_time": "2023-03-14T19:13:21.767Z"
   },
   {
    "duration": 4,
    "start_time": "2023-03-14T19:13:21.777Z"
   },
   {
    "duration": 41,
    "start_time": "2023-03-14T19:13:21.783Z"
   },
   {
    "duration": 5,
    "start_time": "2023-03-14T19:13:21.826Z"
   },
   {
    "duration": 22,
    "start_time": "2023-03-14T19:13:21.838Z"
   },
   {
    "duration": 12,
    "start_time": "2023-03-14T19:13:21.863Z"
   },
   {
    "duration": 14,
    "start_time": "2023-03-14T19:13:21.877Z"
   },
   {
    "duration": 35,
    "start_time": "2023-03-14T19:13:21.893Z"
   },
   {
    "duration": 24,
    "start_time": "2023-03-14T19:13:21.934Z"
   },
   {
    "duration": 27,
    "start_time": "2023-03-14T19:13:21.962Z"
   },
   {
    "duration": 280,
    "start_time": "2023-03-14T19:13:21.991Z"
   },
   {
    "duration": 0,
    "start_time": "2023-03-14T19:13:22.274Z"
   },
   {
    "duration": 0,
    "start_time": "2023-03-14T19:13:22.276Z"
   },
   {
    "duration": 0,
    "start_time": "2023-03-14T19:13:22.279Z"
   },
   {
    "duration": 0,
    "start_time": "2023-03-14T19:13:22.280Z"
   },
   {
    "duration": 0,
    "start_time": "2023-03-14T19:13:22.281Z"
   },
   {
    "duration": 0,
    "start_time": "2023-03-14T19:13:22.283Z"
   },
   {
    "duration": 0,
    "start_time": "2023-03-14T19:13:22.284Z"
   },
   {
    "duration": 0,
    "start_time": "2023-03-14T19:13:22.285Z"
   },
   {
    "duration": 0,
    "start_time": "2023-03-14T19:13:22.286Z"
   },
   {
    "duration": 0,
    "start_time": "2023-03-14T19:13:22.287Z"
   },
   {
    "duration": 0,
    "start_time": "2023-03-14T19:13:22.288Z"
   },
   {
    "duration": 0,
    "start_time": "2023-03-14T19:13:22.290Z"
   },
   {
    "duration": 0,
    "start_time": "2023-03-14T19:13:22.291Z"
   },
   {
    "duration": 0,
    "start_time": "2023-03-14T19:13:22.293Z"
   },
   {
    "duration": 3436,
    "start_time": "2023-03-14T19:15:22.198Z"
   },
   {
    "duration": 27,
    "start_time": "2023-03-14T19:16:48.451Z"
   },
   {
    "duration": 1818,
    "start_time": "2023-03-14T19:17:08.967Z"
   },
   {
    "duration": 3522,
    "start_time": "2023-03-14T19:17:46.878Z"
   },
   {
    "duration": 3,
    "start_time": "2023-03-14T19:18:05.195Z"
   },
   {
    "duration": 17,
    "start_time": "2023-03-14T19:18:05.201Z"
   },
   {
    "duration": 12,
    "start_time": "2023-03-14T19:18:05.220Z"
   },
   {
    "duration": 18,
    "start_time": "2023-03-14T19:18:05.236Z"
   },
   {
    "duration": 0,
    "start_time": "2023-03-14T19:18:05.257Z"
   },
   {
    "duration": 0,
    "start_time": "2023-03-14T19:18:05.258Z"
   },
   {
    "duration": 0,
    "start_time": "2023-03-14T19:18:05.260Z"
   },
   {
    "duration": 0,
    "start_time": "2023-03-14T19:18:05.261Z"
   },
   {
    "duration": 0,
    "start_time": "2023-03-14T19:18:05.263Z"
   },
   {
    "duration": 0,
    "start_time": "2023-03-14T19:18:05.264Z"
   },
   {
    "duration": 0,
    "start_time": "2023-03-14T19:18:05.265Z"
   },
   {
    "duration": 0,
    "start_time": "2023-03-14T19:18:05.266Z"
   },
   {
    "duration": 0,
    "start_time": "2023-03-14T19:18:05.267Z"
   },
   {
    "duration": 0,
    "start_time": "2023-03-14T19:18:05.268Z"
   },
   {
    "duration": 2,
    "start_time": "2023-03-14T19:40:28.763Z"
   },
   {
    "duration": 81,
    "start_time": "2023-03-14T19:40:34.993Z"
   },
   {
    "duration": 3,
    "start_time": "2023-03-14T19:41:43.572Z"
   },
   {
    "duration": 75,
    "start_time": "2023-03-14T19:45:02.602Z"
   },
   {
    "duration": 67,
    "start_time": "2023-03-14T19:46:13.561Z"
   },
   {
    "duration": 9,
    "start_time": "2023-03-14T19:49:01.312Z"
   },
   {
    "duration": 33,
    "start_time": "2023-03-14T19:50:47.368Z"
   },
   {
    "duration": 35,
    "start_time": "2023-03-14T19:51:31.278Z"
   },
   {
    "duration": 1422,
    "start_time": "2023-03-14T19:51:55.611Z"
   },
   {
    "duration": 3,
    "start_time": "2023-03-14T19:51:57.035Z"
   },
   {
    "duration": 701,
    "start_time": "2023-03-14T19:51:57.040Z"
   },
   {
    "duration": 29,
    "start_time": "2023-03-14T19:51:57.744Z"
   },
   {
    "duration": 3,
    "start_time": "2023-03-14T19:51:57.775Z"
   },
   {
    "duration": 282,
    "start_time": "2023-03-14T19:51:57.779Z"
   },
   {
    "duration": 2,
    "start_time": "2023-03-14T19:51:58.063Z"
   },
   {
    "duration": 8,
    "start_time": "2023-03-14T19:51:58.067Z"
   },
   {
    "duration": 24,
    "start_time": "2023-03-14T19:51:58.077Z"
   },
   {
    "duration": 9,
    "start_time": "2023-03-14T19:51:58.121Z"
   },
   {
    "duration": 8,
    "start_time": "2023-03-14T19:51:58.131Z"
   },
   {
    "duration": 8,
    "start_time": "2023-03-14T19:51:58.142Z"
   },
   {
    "duration": 6,
    "start_time": "2023-03-14T19:51:58.151Z"
   },
   {
    "duration": 6,
    "start_time": "2023-03-14T19:51:58.158Z"
   },
   {
    "duration": 4,
    "start_time": "2023-03-14T19:51:58.166Z"
   },
   {
    "duration": 52,
    "start_time": "2023-03-14T19:51:58.172Z"
   },
   {
    "duration": 17,
    "start_time": "2023-03-14T19:51:58.226Z"
   },
   {
    "duration": 37,
    "start_time": "2023-03-14T19:51:58.245Z"
   },
   {
    "duration": 9,
    "start_time": "2023-03-14T19:51:58.285Z"
   },
   {
    "duration": 16,
    "start_time": "2023-03-14T19:51:58.296Z"
   },
   {
    "duration": 5,
    "start_time": "2023-03-14T19:51:58.313Z"
   },
   {
    "duration": 3735,
    "start_time": "2023-03-14T19:51:58.322Z"
   },
   {
    "duration": 4,
    "start_time": "2023-03-14T19:52:02.060Z"
   },
   {
    "duration": 16,
    "start_time": "2023-03-14T19:52:02.066Z"
   },
   {
    "duration": 9,
    "start_time": "2023-03-14T19:52:02.084Z"
   },
   {
    "duration": 18,
    "start_time": "2023-03-14T19:52:02.095Z"
   },
   {
    "duration": 39,
    "start_time": "2023-03-14T19:52:06.183Z"
   },
   {
    "duration": 185,
    "start_time": "2023-03-14T19:52:56.145Z"
   },
   {
    "duration": 221,
    "start_time": "2023-03-14T19:57:32.900Z"
   },
   {
    "duration": 492,
    "start_time": "2023-03-14T19:59:47.314Z"
   },
   {
    "duration": 506,
    "start_time": "2023-03-14T20:00:02.443Z"
   },
   {
    "duration": 14,
    "start_time": "2023-03-14T20:08:01.550Z"
   },
   {
    "duration": 11,
    "start_time": "2023-03-14T20:08:04.252Z"
   },
   {
    "duration": 6,
    "start_time": "2023-03-14T20:08:39.047Z"
   },
   {
    "duration": 1245,
    "start_time": "2023-03-14T20:08:40.589Z"
   },
   {
    "duration": 1449,
    "start_time": "2023-03-14T20:13:08.499Z"
   },
   {
    "duration": 3,
    "start_time": "2023-03-14T20:13:09.950Z"
   },
   {
    "duration": 746,
    "start_time": "2023-03-14T20:13:09.955Z"
   },
   {
    "duration": 34,
    "start_time": "2023-03-14T20:13:10.703Z"
   },
   {
    "duration": 3,
    "start_time": "2023-03-14T20:13:10.741Z"
   },
   {
    "duration": 270,
    "start_time": "2023-03-14T20:13:10.746Z"
   },
   {
    "duration": 3,
    "start_time": "2023-03-14T20:13:11.021Z"
   },
   {
    "duration": 6,
    "start_time": "2023-03-14T20:13:11.026Z"
   },
   {
    "duration": 31,
    "start_time": "2023-03-14T20:13:11.033Z"
   },
   {
    "duration": 8,
    "start_time": "2023-03-14T20:13:11.066Z"
   },
   {
    "duration": 5,
    "start_time": "2023-03-14T20:13:11.076Z"
   },
   {
    "duration": 7,
    "start_time": "2023-03-14T20:13:11.083Z"
   },
   {
    "duration": 34,
    "start_time": "2023-03-14T20:13:11.091Z"
   },
   {
    "duration": 14,
    "start_time": "2023-03-14T20:13:11.130Z"
   },
   {
    "duration": 4,
    "start_time": "2023-03-14T20:13:11.146Z"
   },
   {
    "duration": 15,
    "start_time": "2023-03-14T20:13:11.152Z"
   },
   {
    "duration": 12,
    "start_time": "2023-03-14T20:13:11.168Z"
   },
   {
    "duration": 9,
    "start_time": "2023-03-14T20:13:11.182Z"
   },
   {
    "duration": 34,
    "start_time": "2023-03-14T20:13:11.192Z"
   },
   {
    "duration": 14,
    "start_time": "2023-03-14T20:13:11.227Z"
   },
   {
    "duration": 3,
    "start_time": "2023-03-14T20:13:11.242Z"
   },
   {
    "duration": 3346,
    "start_time": "2023-03-14T20:13:11.247Z"
   },
   {
    "duration": 507,
    "start_time": "2023-03-14T20:13:14.595Z"
   },
   {
    "duration": 7,
    "start_time": "2023-03-14T20:13:15.104Z"
   },
   {
    "duration": 1322,
    "start_time": "2023-03-14T20:13:15.120Z"
   },
   {
    "duration": 4,
    "start_time": "2023-03-14T20:13:16.443Z"
   },
   {
    "duration": 8,
    "start_time": "2023-03-14T20:13:16.449Z"
   },
   {
    "duration": 5,
    "start_time": "2023-03-14T20:13:16.459Z"
   },
   {
    "duration": 9,
    "start_time": "2023-03-14T20:13:16.466Z"
   },
   {
    "duration": 76,
    "start_time": "2023-03-14T20:13:16.477Z"
   },
   {
    "duration": 172,
    "start_time": "2023-03-14T20:13:16.555Z"
   },
   {
    "duration": 0,
    "start_time": "2023-03-14T20:13:16.728Z"
   },
   {
    "duration": 0,
    "start_time": "2023-03-14T20:13:16.729Z"
   },
   {
    "duration": 0,
    "start_time": "2023-03-14T20:13:16.731Z"
   },
   {
    "duration": 0,
    "start_time": "2023-03-14T20:13:16.732Z"
   },
   {
    "duration": 0,
    "start_time": "2023-03-14T20:13:16.733Z"
   },
   {
    "duration": 0,
    "start_time": "2023-03-14T20:13:16.734Z"
   },
   {
    "duration": 0,
    "start_time": "2023-03-14T20:13:16.734Z"
   },
   {
    "duration": 0,
    "start_time": "2023-03-14T20:13:16.735Z"
   },
   {
    "duration": 0,
    "start_time": "2023-03-14T20:13:16.736Z"
   },
   {
    "duration": 0,
    "start_time": "2023-03-14T20:13:16.737Z"
   },
   {
    "duration": 3194,
    "start_time": "2023-03-14T20:15:37.097Z"
   },
   {
    "duration": 7,
    "start_time": "2023-03-14T20:16:21.807Z"
   },
   {
    "duration": 1269,
    "start_time": "2023-03-14T20:16:24.009Z"
   },
   {
    "duration": 67,
    "start_time": "2023-03-14T20:37:34.849Z"
   },
   {
    "duration": 7,
    "start_time": "2023-03-14T20:38:55.374Z"
   },
   {
    "duration": 73,
    "start_time": "2023-03-14T20:39:14.386Z"
   },
   {
    "duration": 79,
    "start_time": "2023-03-14T20:40:00.476Z"
   },
   {
    "duration": 69,
    "start_time": "2023-03-14T20:40:03.501Z"
   },
   {
    "duration": 4,
    "start_time": "2023-03-14T20:40:18.851Z"
   },
   {
    "duration": 752,
    "start_time": "2023-03-14T20:40:24.292Z"
   },
   {
    "duration": 3523,
    "start_time": "2023-03-14T20:40:43.970Z"
   },
   {
    "duration": 3723,
    "start_time": "2023-03-14T20:42:19.531Z"
   },
   {
    "duration": 3668,
    "start_time": "2023-03-14T20:42:47.710Z"
   },
   {
    "duration": 3706,
    "start_time": "2023-03-14T20:42:59.668Z"
   },
   {
    "duration": 1345,
    "start_time": "2023-03-14T20:47:37.053Z"
   },
   {
    "duration": 3,
    "start_time": "2023-03-14T20:47:38.400Z"
   },
   {
    "duration": 684,
    "start_time": "2023-03-14T20:47:38.405Z"
   },
   {
    "duration": 32,
    "start_time": "2023-03-14T20:47:39.090Z"
   },
   {
    "duration": 3,
    "start_time": "2023-03-14T20:47:39.124Z"
   },
   {
    "duration": 258,
    "start_time": "2023-03-14T20:47:39.129Z"
   },
   {
    "duration": 2,
    "start_time": "2023-03-14T20:47:39.388Z"
   },
   {
    "duration": 3,
    "start_time": "2023-03-14T20:47:39.392Z"
   },
   {
    "duration": 39,
    "start_time": "2023-03-14T20:47:39.397Z"
   },
   {
    "duration": 6,
    "start_time": "2023-03-14T20:47:39.438Z"
   },
   {
    "duration": 5,
    "start_time": "2023-03-14T20:47:39.445Z"
   },
   {
    "duration": 12,
    "start_time": "2023-03-14T20:47:39.451Z"
   },
   {
    "duration": 3,
    "start_time": "2023-03-14T20:47:39.464Z"
   },
   {
    "duration": 4,
    "start_time": "2023-03-14T20:47:39.470Z"
   },
   {
    "duration": 4,
    "start_time": "2023-03-14T20:47:39.476Z"
   },
   {
    "duration": 39,
    "start_time": "2023-03-14T20:47:39.482Z"
   },
   {
    "duration": 11,
    "start_time": "2023-03-14T20:47:39.524Z"
   },
   {
    "duration": 10,
    "start_time": "2023-03-14T20:47:39.536Z"
   },
   {
    "duration": 9,
    "start_time": "2023-03-14T20:47:39.547Z"
   },
   {
    "duration": 17,
    "start_time": "2023-03-14T20:47:39.558Z"
   },
   {
    "duration": 7,
    "start_time": "2023-03-14T20:47:39.577Z"
   },
   {
    "duration": 3164,
    "start_time": "2023-03-14T20:47:39.586Z"
   },
   {
    "duration": 449,
    "start_time": "2023-03-14T20:47:42.751Z"
   },
   {
    "duration": 8,
    "start_time": "2023-03-14T20:47:43.201Z"
   },
   {
    "duration": 1314,
    "start_time": "2023-03-14T20:47:43.210Z"
   },
   {
    "duration": 3,
    "start_time": "2023-03-14T20:47:44.526Z"
   },
   {
    "duration": 9,
    "start_time": "2023-03-14T20:47:44.531Z"
   },
   {
    "duration": 4,
    "start_time": "2023-03-14T20:47:44.541Z"
   },
   {
    "duration": 8,
    "start_time": "2023-03-14T20:47:44.546Z"
   },
   {
    "duration": 73,
    "start_time": "2023-03-14T20:47:44.555Z"
   },
   {
    "duration": 799,
    "start_time": "2023-03-14T20:47:44.630Z"
   },
   {
    "duration": 3834,
    "start_time": "2023-03-14T20:47:45.431Z"
   },
   {
    "duration": 2,
    "start_time": "2023-03-14T20:47:49.267Z"
   },
   {
    "duration": 7,
    "start_time": "2023-03-14T20:47:49.271Z"
   },
   {
    "duration": 11,
    "start_time": "2023-03-14T20:47:49.279Z"
   },
   {
    "duration": 129,
    "start_time": "2023-03-14T20:47:49.292Z"
   },
   {
    "duration": 0,
    "start_time": "2023-03-14T20:47:49.422Z"
   },
   {
    "duration": 1,
    "start_time": "2023-03-14T20:47:49.423Z"
   },
   {
    "duration": 0,
    "start_time": "2023-03-14T20:47:49.425Z"
   },
   {
    "duration": 0,
    "start_time": "2023-03-14T20:47:49.426Z"
   },
   {
    "duration": 48,
    "start_time": "2023-03-15T09:22:26.935Z"
   },
   {
    "duration": 1684,
    "start_time": "2023-03-15T10:06:27.517Z"
   },
   {
    "duration": 2,
    "start_time": "2023-03-15T10:06:29.204Z"
   },
   {
    "duration": 2030,
    "start_time": "2023-03-15T10:06:29.208Z"
   },
   {
    "duration": 35,
    "start_time": "2023-03-15T10:06:31.240Z"
   },
   {
    "duration": 18,
    "start_time": "2023-03-15T10:06:31.277Z"
   },
   {
    "duration": 318,
    "start_time": "2023-03-15T10:06:31.297Z"
   },
   {
    "duration": 2,
    "start_time": "2023-03-15T10:06:31.617Z"
   },
   {
    "duration": 35,
    "start_time": "2023-03-15T10:06:31.621Z"
   },
   {
    "duration": 62,
    "start_time": "2023-03-15T10:06:31.658Z"
   },
   {
    "duration": 37,
    "start_time": "2023-03-15T10:06:31.721Z"
   },
   {
    "duration": 108,
    "start_time": "2023-03-15T10:06:31.760Z"
   },
   {
    "duration": 60,
    "start_time": "2023-03-15T10:06:31.870Z"
   },
   {
    "duration": 8,
    "start_time": "2023-03-15T10:06:31.932Z"
   },
   {
    "duration": 21,
    "start_time": "2023-03-15T10:06:31.944Z"
   },
   {
    "duration": 9,
    "start_time": "2023-03-15T10:06:31.968Z"
   },
   {
    "duration": 5,
    "start_time": "2023-03-15T10:06:31.980Z"
   },
   {
    "duration": 15,
    "start_time": "2023-03-15T10:06:31.987Z"
   },
   {
    "duration": 38,
    "start_time": "2023-03-15T10:06:32.004Z"
   },
   {
    "duration": 27,
    "start_time": "2023-03-15T10:06:32.044Z"
   },
   {
    "duration": 19,
    "start_time": "2023-03-15T10:06:32.072Z"
   },
   {
    "duration": 30,
    "start_time": "2023-03-15T10:06:32.092Z"
   },
   {
    "duration": 4,
    "start_time": "2023-03-15T10:06:32.124Z"
   },
   {
    "duration": 3281,
    "start_time": "2023-03-15T10:06:32.130Z"
   },
   {
    "duration": 448,
    "start_time": "2023-03-15T10:06:35.413Z"
   },
   {
    "duration": 7,
    "start_time": "2023-03-15T10:06:35.863Z"
   },
   {
    "duration": 1348,
    "start_time": "2023-03-15T10:06:35.871Z"
   },
   {
    "duration": 4,
    "start_time": "2023-03-15T10:06:37.220Z"
   },
   {
    "duration": 6,
    "start_time": "2023-03-15T10:06:37.225Z"
   },
   {
    "duration": 20,
    "start_time": "2023-03-15T10:06:37.233Z"
   },
   {
    "duration": 7,
    "start_time": "2023-03-15T10:06:37.255Z"
   },
   {
    "duration": 106,
    "start_time": "2023-03-15T10:06:37.264Z"
   },
   {
    "duration": 1402,
    "start_time": "2023-03-15T10:06:37.371Z"
   },
   {
    "duration": 6537,
    "start_time": "2023-03-15T10:06:38.775Z"
   },
   {
    "duration": 3,
    "start_time": "2023-03-15T10:06:45.314Z"
   },
   {
    "duration": 27,
    "start_time": "2023-03-15T10:06:45.318Z"
   },
   {
    "duration": 12,
    "start_time": "2023-03-15T10:06:45.348Z"
   },
   {
    "duration": 128,
    "start_time": "2023-03-15T10:06:45.362Z"
   },
   {
    "duration": 0,
    "start_time": "2023-03-15T10:06:45.492Z"
   },
   {
    "duration": 0,
    "start_time": "2023-03-15T10:06:45.493Z"
   },
   {
    "duration": 0,
    "start_time": "2023-03-15T10:06:45.495Z"
   },
   {
    "duration": 0,
    "start_time": "2023-03-15T10:06:45.496Z"
   },
   {
    "duration": 28,
    "start_time": "2023-03-15T10:08:09.516Z"
   },
   {
    "duration": 9,
    "start_time": "2023-03-15T10:08:44.514Z"
   },
   {
    "duration": 33,
    "start_time": "2023-03-15T10:09:51.528Z"
   },
   {
    "duration": 24,
    "start_time": "2023-03-15T10:16:31.604Z"
   },
   {
    "duration": 31,
    "start_time": "2023-03-15T10:16:38.472Z"
   },
   {
    "duration": 40,
    "start_time": "2023-03-15T10:16:47.628Z"
   },
   {
    "duration": 29,
    "start_time": "2023-03-15T10:22:06.933Z"
   },
   {
    "duration": 14,
    "start_time": "2023-03-15T10:23:40.173Z"
   },
   {
    "duration": 10,
    "start_time": "2023-03-15T10:25:03.253Z"
   },
   {
    "duration": 1583,
    "start_time": "2023-03-15T10:30:56.613Z"
   },
   {
    "duration": 3,
    "start_time": "2023-03-15T10:30:58.199Z"
   },
   {
    "duration": 784,
    "start_time": "2023-03-15T10:30:58.204Z"
   },
   {
    "duration": 40,
    "start_time": "2023-03-15T10:30:58.990Z"
   },
   {
    "duration": 16,
    "start_time": "2023-03-15T10:30:59.033Z"
   },
   {
    "duration": 291,
    "start_time": "2023-03-15T10:30:59.052Z"
   },
   {
    "duration": 8,
    "start_time": "2023-03-15T10:30:59.346Z"
   },
   {
    "duration": 7,
    "start_time": "2023-03-15T10:30:59.357Z"
   },
   {
    "duration": 26,
    "start_time": "2023-03-15T10:30:59.365Z"
   },
   {
    "duration": 9,
    "start_time": "2023-03-15T10:30:59.393Z"
   },
   {
    "duration": 25,
    "start_time": "2023-03-15T10:30:59.404Z"
   },
   {
    "duration": 31,
    "start_time": "2023-03-15T10:30:59.431Z"
   },
   {
    "duration": 21,
    "start_time": "2023-03-15T10:30:59.464Z"
   },
   {
    "duration": 22,
    "start_time": "2023-03-15T10:30:59.488Z"
   },
   {
    "duration": 8,
    "start_time": "2023-03-15T10:30:59.512Z"
   },
   {
    "duration": 19,
    "start_time": "2023-03-15T10:30:59.522Z"
   },
   {
    "duration": 65,
    "start_time": "2023-03-15T10:30:59.542Z"
   },
   {
    "duration": 6,
    "start_time": "2023-03-15T10:30:59.609Z"
   },
   {
    "duration": 7,
    "start_time": "2023-03-15T10:30:59.616Z"
   },
   {
    "duration": 6,
    "start_time": "2023-03-15T10:30:59.625Z"
   },
   {
    "duration": 19,
    "start_time": "2023-03-15T10:30:59.633Z"
   },
   {
    "duration": 20,
    "start_time": "2023-03-15T10:30:59.655Z"
   },
   {
    "duration": 13,
    "start_time": "2023-03-15T10:30:59.677Z"
   },
   {
    "duration": 6,
    "start_time": "2023-03-15T10:30:59.692Z"
   },
   {
    "duration": 3519,
    "start_time": "2023-03-15T10:30:59.700Z"
   },
   {
    "duration": 545,
    "start_time": "2023-03-15T10:31:03.221Z"
   },
   {
    "duration": 7,
    "start_time": "2023-03-15T10:31:03.768Z"
   },
   {
    "duration": 1556,
    "start_time": "2023-03-15T10:31:03.777Z"
   },
   {
    "duration": 4,
    "start_time": "2023-03-15T10:31:05.335Z"
   },
   {
    "duration": 14,
    "start_time": "2023-03-15T10:31:05.341Z"
   },
   {
    "duration": 29,
    "start_time": "2023-03-15T10:31:05.357Z"
   },
   {
    "duration": 37,
    "start_time": "2023-03-15T10:31:05.388Z"
   },
   {
    "duration": 12,
    "start_time": "2023-03-15T10:31:05.427Z"
   },
   {
    "duration": 4124,
    "start_time": "2023-03-15T10:31:05.441Z"
   },
   {
    "duration": 82503,
    "start_time": "2023-03-15T10:31:09.568Z"
   },
   {
    "duration": 600823,
    "start_time": "2023-03-15T10:32:32.073Z"
   },
   {
    "duration": 0,
    "start_time": "2023-03-15T10:42:32.898Z"
   },
   {
    "duration": 0,
    "start_time": "2023-03-15T10:42:32.899Z"
   },
   {
    "duration": 0,
    "start_time": "2023-03-15T10:42:32.901Z"
   },
   {
    "duration": 1,
    "start_time": "2023-03-15T10:42:32.901Z"
   },
   {
    "duration": 0,
    "start_time": "2023-03-15T10:42:32.903Z"
   },
   {
    "duration": 0,
    "start_time": "2023-03-15T10:42:32.904Z"
   },
   {
    "duration": 0,
    "start_time": "2023-03-15T10:42:32.905Z"
   },
   {
    "duration": 0,
    "start_time": "2023-03-15T10:42:32.907Z"
   },
   {
    "duration": 28224,
    "start_time": "2023-03-15T10:43:08.124Z"
   },
   {
    "duration": 355611,
    "start_time": "2023-03-15T10:43:50.612Z"
   },
   {
    "duration": 4,
    "start_time": "2023-03-15T10:51:56.629Z"
   },
   {
    "duration": 9,
    "start_time": "2023-03-15T10:51:58.428Z"
   },
   {
    "duration": 12,
    "start_time": "2023-03-15T10:52:22.628Z"
   },
   {
    "duration": 6,
    "start_time": "2023-03-15T10:53:27.913Z"
   },
   {
    "duration": 2989,
    "start_time": "2023-03-15T10:53:32.312Z"
   },
   {
    "duration": 152,
    "start_time": "2023-03-15T11:00:19.611Z"
   },
   {
    "duration": 344481,
    "start_time": "2023-03-15T11:00:35.987Z"
   },
   {
    "duration": 0,
    "start_time": "2023-03-15T11:06:20.471Z"
   },
   {
    "duration": 1420,
    "start_time": "2023-03-15T11:06:35.473Z"
   },
   {
    "duration": 3,
    "start_time": "2023-03-15T11:06:36.895Z"
   },
   {
    "duration": 713,
    "start_time": "2023-03-15T11:06:36.900Z"
   },
   {
    "duration": 39,
    "start_time": "2023-03-15T11:06:37.616Z"
   },
   {
    "duration": 4,
    "start_time": "2023-03-15T11:06:37.657Z"
   },
   {
    "duration": 290,
    "start_time": "2023-03-15T11:06:37.663Z"
   },
   {
    "duration": 3,
    "start_time": "2023-03-15T11:06:37.955Z"
   },
   {
    "duration": 23,
    "start_time": "2023-03-15T11:06:37.960Z"
   },
   {
    "duration": 33,
    "start_time": "2023-03-15T11:06:37.986Z"
   },
   {
    "duration": 8,
    "start_time": "2023-03-15T11:06:38.024Z"
   },
   {
    "duration": 19,
    "start_time": "2023-03-15T11:06:38.034Z"
   },
   {
    "duration": 18,
    "start_time": "2023-03-15T11:06:38.055Z"
   },
   {
    "duration": 8,
    "start_time": "2023-03-15T11:06:38.075Z"
   },
   {
    "duration": 23,
    "start_time": "2023-03-15T11:06:38.086Z"
   },
   {
    "duration": 7,
    "start_time": "2023-03-15T11:06:38.111Z"
   },
   {
    "duration": 35,
    "start_time": "2023-03-15T11:06:38.120Z"
   },
   {
    "duration": 13,
    "start_time": "2023-03-15T11:06:38.156Z"
   },
   {
    "duration": 3,
    "start_time": "2023-03-15T11:06:38.171Z"
   },
   {
    "duration": 7,
    "start_time": "2023-03-15T11:06:38.176Z"
   },
   {
    "duration": 5,
    "start_time": "2023-03-15T11:06:38.185Z"
   },
   {
    "duration": 18,
    "start_time": "2023-03-15T11:06:38.191Z"
   },
   {
    "duration": 48,
    "start_time": "2023-03-15T11:06:38.210Z"
   },
   {
    "duration": 13,
    "start_time": "2023-03-15T11:06:38.260Z"
   },
   {
    "duration": 3,
    "start_time": "2023-03-15T11:06:38.275Z"
   },
   {
    "duration": 3528,
    "start_time": "2023-03-15T11:06:38.279Z"
   },
   {
    "duration": 469,
    "start_time": "2023-03-15T11:06:41.809Z"
   },
   {
    "duration": 7,
    "start_time": "2023-03-15T11:06:42.279Z"
   },
   {
    "duration": 1333,
    "start_time": "2023-03-15T11:06:42.290Z"
   },
   {
    "duration": 3,
    "start_time": "2023-03-15T11:06:43.625Z"
   },
   {
    "duration": 13,
    "start_time": "2023-03-15T11:06:43.630Z"
   },
   {
    "duration": 8,
    "start_time": "2023-03-15T11:06:43.645Z"
   },
   {
    "duration": 8,
    "start_time": "2023-03-15T11:06:43.655Z"
   },
   {
    "duration": 16,
    "start_time": "2023-03-15T11:06:43.665Z"
   },
   {
    "duration": 3871,
    "start_time": "2023-03-15T11:06:43.683Z"
   },
   {
    "duration": 13763,
    "start_time": "2023-03-15T11:06:47.556Z"
   },
   {
    "duration": 0,
    "start_time": "2023-03-15T11:07:01.321Z"
   },
   {
    "duration": 0,
    "start_time": "2023-03-15T11:07:01.322Z"
   },
   {
    "duration": 0,
    "start_time": "2023-03-15T11:07:01.323Z"
   },
   {
    "duration": 0,
    "start_time": "2023-03-15T11:07:01.324Z"
   },
   {
    "duration": 0,
    "start_time": "2023-03-15T11:07:01.326Z"
   },
   {
    "duration": 0,
    "start_time": "2023-03-15T11:07:01.327Z"
   },
   {
    "duration": 0,
    "start_time": "2023-03-15T11:07:01.328Z"
   },
   {
    "duration": 0,
    "start_time": "2023-03-15T11:07:01.330Z"
   },
   {
    "duration": 0,
    "start_time": "2023-03-15T11:07:01.354Z"
   },
   {
    "duration": 221,
    "start_time": "2023-03-15T11:07:37.303Z"
   },
   {
    "duration": 3341,
    "start_time": "2023-03-15T11:07:59.504Z"
   },
   {
    "duration": 1450,
    "start_time": "2023-03-15T11:08:23.041Z"
   },
   {
    "duration": 3,
    "start_time": "2023-03-15T11:08:24.493Z"
   },
   {
    "duration": 668,
    "start_time": "2023-03-15T11:08:24.498Z"
   },
   {
    "duration": 32,
    "start_time": "2023-03-15T11:08:25.169Z"
   },
   {
    "duration": 5,
    "start_time": "2023-03-15T11:08:25.202Z"
   },
   {
    "duration": 256,
    "start_time": "2023-03-15T11:08:25.208Z"
   },
   {
    "duration": 3,
    "start_time": "2023-03-15T11:08:25.465Z"
   },
   {
    "duration": 16,
    "start_time": "2023-03-15T11:08:25.469Z"
   },
   {
    "duration": 11,
    "start_time": "2023-03-15T11:08:25.486Z"
   },
   {
    "duration": 9,
    "start_time": "2023-03-15T11:08:25.499Z"
   },
   {
    "duration": 17,
    "start_time": "2023-03-15T11:08:25.510Z"
   },
   {
    "duration": 29,
    "start_time": "2023-03-15T11:08:25.528Z"
   },
   {
    "duration": 8,
    "start_time": "2023-03-15T11:08:25.559Z"
   },
   {
    "duration": 21,
    "start_time": "2023-03-15T11:08:25.569Z"
   },
   {
    "duration": 7,
    "start_time": "2023-03-15T11:08:25.592Z"
   },
   {
    "duration": 6,
    "start_time": "2023-03-15T11:08:25.600Z"
   },
   {
    "duration": 7,
    "start_time": "2023-03-15T11:08:25.607Z"
   },
   {
    "duration": 3,
    "start_time": "2023-03-15T11:08:25.615Z"
   },
   {
    "duration": 5,
    "start_time": "2023-03-15T11:08:25.654Z"
   },
   {
    "duration": 5,
    "start_time": "2023-03-15T11:08:25.661Z"
   },
   {
    "duration": 36,
    "start_time": "2023-03-15T11:08:25.667Z"
   },
   {
    "duration": 15,
    "start_time": "2023-03-15T11:08:25.705Z"
   },
   {
    "duration": 11,
    "start_time": "2023-03-15T11:08:25.722Z"
   },
   {
    "duration": 4,
    "start_time": "2023-03-15T11:08:25.735Z"
   },
   {
    "duration": 3208,
    "start_time": "2023-03-15T11:08:25.752Z"
   },
   {
    "duration": 515,
    "start_time": "2023-03-15T11:08:28.962Z"
   },
   {
    "duration": 8,
    "start_time": "2023-03-15T11:08:29.479Z"
   },
   {
    "duration": 1349,
    "start_time": "2023-03-15T11:08:29.490Z"
   },
   {
    "duration": 4,
    "start_time": "2023-03-15T11:08:30.841Z"
   },
   {
    "duration": 40,
    "start_time": "2023-03-15T11:08:30.846Z"
   },
   {
    "duration": 39,
    "start_time": "2023-03-15T11:08:30.888Z"
   },
   {
    "duration": 48,
    "start_time": "2023-03-15T11:08:30.929Z"
   },
   {
    "duration": 40,
    "start_time": "2023-03-15T11:08:30.978Z"
   },
   {
    "duration": 4235,
    "start_time": "2023-03-15T11:08:31.019Z"
   },
   {
    "duration": 83783,
    "start_time": "2023-03-15T11:08:35.256Z"
   },
   {
    "duration": 2036475,
    "start_time": "2023-03-15T11:09:59.041Z"
   },
   {
    "duration": 0,
    "start_time": "2023-03-15T11:43:55.518Z"
   },
   {
    "duration": 0,
    "start_time": "2023-03-15T11:43:55.519Z"
   },
   {
    "duration": 0,
    "start_time": "2023-03-15T11:43:55.520Z"
   },
   {
    "duration": 0,
    "start_time": "2023-03-15T11:43:55.521Z"
   },
   {
    "duration": 0,
    "start_time": "2023-03-15T11:43:55.522Z"
   },
   {
    "duration": 0,
    "start_time": "2023-03-15T11:43:55.523Z"
   },
   {
    "duration": 0,
    "start_time": "2023-03-15T11:43:55.524Z"
   },
   {
    "duration": 0,
    "start_time": "2023-03-15T11:43:55.525Z"
   },
   {
    "duration": 1441528,
    "start_time": "2023-03-15T11:44:15.887Z"
   },
   {
    "duration": 1551,
    "start_time": "2023-03-15T12:09:05.978Z"
   },
   {
    "duration": 3,
    "start_time": "2023-03-15T12:09:07.531Z"
   },
   {
    "duration": 764,
    "start_time": "2023-03-15T12:09:07.535Z"
   },
   {
    "duration": 33,
    "start_time": "2023-03-15T12:09:08.301Z"
   },
   {
    "duration": 4,
    "start_time": "2023-03-15T12:09:08.336Z"
   },
   {
    "duration": 308,
    "start_time": "2023-03-15T12:09:08.354Z"
   },
   {
    "duration": 5,
    "start_time": "2023-03-15T12:09:08.671Z"
   },
   {
    "duration": 6,
    "start_time": "2023-03-15T12:09:08.678Z"
   },
   {
    "duration": 13,
    "start_time": "2023-03-15T12:09:08.686Z"
   },
   {
    "duration": 8,
    "start_time": "2023-03-15T12:09:08.701Z"
   },
   {
    "duration": 16,
    "start_time": "2023-03-15T12:09:08.710Z"
   },
   {
    "duration": 34,
    "start_time": "2023-03-15T12:09:08.728Z"
   },
   {
    "duration": 17,
    "start_time": "2023-03-15T12:09:08.767Z"
   },
   {
    "duration": 21,
    "start_time": "2023-03-15T12:09:08.788Z"
   },
   {
    "duration": 6,
    "start_time": "2023-03-15T12:09:08.811Z"
   },
   {
    "duration": 5,
    "start_time": "2023-03-15T12:09:08.819Z"
   },
   {
    "duration": 19,
    "start_time": "2023-03-15T12:09:08.826Z"
   },
   {
    "duration": 44,
    "start_time": "2023-03-15T12:09:08.847Z"
   },
   {
    "duration": 15,
    "start_time": "2023-03-15T12:09:08.893Z"
   },
   {
    "duration": 4,
    "start_time": "2023-03-15T12:09:08.910Z"
   },
   {
    "duration": 21,
    "start_time": "2023-03-15T12:09:08.916Z"
   },
   {
    "duration": 25,
    "start_time": "2023-03-15T12:09:08.939Z"
   },
   {
    "duration": 19,
    "start_time": "2023-03-15T12:09:08.968Z"
   },
   {
    "duration": 3,
    "start_time": "2023-03-15T12:09:08.989Z"
   },
   {
    "duration": 3741,
    "start_time": "2023-03-15T12:09:08.994Z"
   },
   {
    "duration": 503,
    "start_time": "2023-03-15T12:09:12.738Z"
   },
   {
    "duration": 17,
    "start_time": "2023-03-15T12:09:13.242Z"
   },
   {
    "duration": 1541,
    "start_time": "2023-03-15T12:09:13.261Z"
   },
   {
    "duration": 4,
    "start_time": "2023-03-15T12:09:14.804Z"
   },
   {
    "duration": 4,
    "start_time": "2023-03-15T12:09:14.810Z"
   },
   {
    "duration": 12,
    "start_time": "2023-03-15T12:09:14.816Z"
   },
   {
    "duration": 11,
    "start_time": "2023-03-15T12:09:14.830Z"
   },
   {
    "duration": 24,
    "start_time": "2023-03-15T12:09:14.843Z"
   },
   {
    "duration": 8088,
    "start_time": "2023-03-15T12:09:14.871Z"
   },
   {
    "duration": 86956,
    "start_time": "2023-03-15T12:09:22.961Z"
   },
   {
    "duration": 337344,
    "start_time": "2023-03-15T12:10:49.919Z"
   },
   {
    "duration": 0,
    "start_time": "2023-03-15T12:16:27.265Z"
   },
   {
    "duration": 0,
    "start_time": "2023-03-15T12:16:27.267Z"
   },
   {
    "duration": 0,
    "start_time": "2023-03-15T12:16:27.268Z"
   },
   {
    "duration": 0,
    "start_time": "2023-03-15T12:16:27.269Z"
   },
   {
    "duration": 0,
    "start_time": "2023-03-15T12:16:27.270Z"
   },
   {
    "duration": 0,
    "start_time": "2023-03-15T12:16:27.271Z"
   },
   {
    "duration": 0,
    "start_time": "2023-03-15T12:16:27.271Z"
   },
   {
    "duration": 0,
    "start_time": "2023-03-15T12:16:27.272Z"
   },
   {
    "duration": 1643,
    "start_time": "2023-03-15T12:19:22.182Z"
   },
   {
    "duration": 3,
    "start_time": "2023-03-15T12:19:23.828Z"
   },
   {
    "duration": 861,
    "start_time": "2023-03-15T12:19:23.832Z"
   },
   {
    "duration": 31,
    "start_time": "2023-03-15T12:19:24.695Z"
   },
   {
    "duration": 26,
    "start_time": "2023-03-15T12:19:24.729Z"
   },
   {
    "duration": 307,
    "start_time": "2023-03-15T12:19:24.757Z"
   },
   {
    "duration": 4,
    "start_time": "2023-03-15T12:19:25.067Z"
   },
   {
    "duration": 6,
    "start_time": "2023-03-15T12:19:25.073Z"
   },
   {
    "duration": 12,
    "start_time": "2023-03-15T12:19:25.081Z"
   },
   {
    "duration": 13,
    "start_time": "2023-03-15T12:19:25.096Z"
   },
   {
    "duration": 39,
    "start_time": "2023-03-15T12:19:25.112Z"
   },
   {
    "duration": 34,
    "start_time": "2023-03-15T12:19:25.156Z"
   },
   {
    "duration": 11,
    "start_time": "2023-03-15T12:19:25.192Z"
   },
   {
    "duration": 24,
    "start_time": "2023-03-15T12:19:25.206Z"
   },
   {
    "duration": 20,
    "start_time": "2023-03-15T12:19:25.233Z"
   },
   {
    "duration": 21,
    "start_time": "2023-03-15T12:19:25.255Z"
   },
   {
    "duration": 5,
    "start_time": "2023-03-15T12:19:25.279Z"
   },
   {
    "duration": 5,
    "start_time": "2023-03-15T12:19:25.287Z"
   },
   {
    "duration": 8,
    "start_time": "2023-03-15T12:19:25.294Z"
   },
   {
    "duration": 8,
    "start_time": "2023-03-15T12:19:25.304Z"
   },
   {
    "duration": 23,
    "start_time": "2023-03-15T12:19:25.314Z"
   },
   {
    "duration": 42,
    "start_time": "2023-03-15T12:19:25.339Z"
   },
   {
    "duration": 14,
    "start_time": "2023-03-15T12:19:25.386Z"
   },
   {
    "duration": 14,
    "start_time": "2023-03-15T12:19:25.403Z"
   },
   {
    "duration": 3600,
    "start_time": "2023-03-15T12:19:25.419Z"
   },
   {
    "duration": 523,
    "start_time": "2023-03-15T12:19:29.022Z"
   },
   {
    "duration": 12,
    "start_time": "2023-03-15T12:19:29.556Z"
   },
   {
    "duration": 1524,
    "start_time": "2023-03-15T12:19:29.571Z"
   },
   {
    "duration": 3,
    "start_time": "2023-03-15T12:19:31.097Z"
   },
   {
    "duration": 46,
    "start_time": "2023-03-15T12:19:31.103Z"
   },
   {
    "duration": 52,
    "start_time": "2023-03-15T12:19:31.151Z"
   },
   {
    "duration": 46,
    "start_time": "2023-03-15T12:19:31.206Z"
   },
   {
    "duration": 52,
    "start_time": "2023-03-15T12:19:31.254Z"
   },
   {
    "duration": 7360,
    "start_time": "2023-03-15T12:19:31.308Z"
   },
   {
    "duration": 87950,
    "start_time": "2023-03-15T12:19:38.758Z"
   },
   {
    "duration": 693114,
    "start_time": "2023-03-15T12:21:06.709Z"
   },
   {
    "duration": 3,
    "start_time": "2023-03-15T12:32:39.826Z"
   },
   {
    "duration": 47,
    "start_time": "2023-03-15T12:32:39.831Z"
   },
   {
    "duration": 20,
    "start_time": "2023-03-15T12:32:39.880Z"
   },
   {
    "duration": 27,
    "start_time": "2023-03-15T12:32:39.903Z"
   },
   {
    "duration": 10435,
    "start_time": "2023-03-15T12:32:39.934Z"
   },
   {
    "duration": 0,
    "start_time": "2023-03-15T12:32:50.371Z"
   },
   {
    "duration": 0,
    "start_time": "2023-03-15T12:32:50.372Z"
   },
   {
    "duration": 0,
    "start_time": "2023-03-15T12:32:50.373Z"
   },
   {
    "duration": 5,
    "start_time": "2023-03-15T12:34:13.089Z"
   },
   {
    "duration": 3,
    "start_time": "2023-03-15T12:34:25.241Z"
   },
   {
    "duration": 32,
    "start_time": "2023-03-15T12:35:45.000Z"
   },
   {
    "duration": 11305,
    "start_time": "2023-03-15T12:36:09.470Z"
   },
   {
    "duration": 10739,
    "start_time": "2023-03-15T12:36:45.609Z"
   },
   {
    "duration": 10547,
    "start_time": "2023-03-15T12:39:36.397Z"
   },
   {
    "duration": 17,
    "start_time": "2023-03-15T12:40:42.479Z"
   },
   {
    "duration": 15,
    "start_time": "2023-03-15T12:41:08.637Z"
   },
   {
    "duration": 10919,
    "start_time": "2023-03-15T12:42:19.816Z"
   },
   {
    "duration": 40,
    "start_time": "2023-03-15T12:48:07.471Z"
   },
   {
    "duration": 20,
    "start_time": "2023-03-15T12:48:22.460Z"
   },
   {
    "duration": 3,
    "start_time": "2023-03-15T12:52:39.861Z"
   },
   {
    "duration": 1559,
    "start_time": "2023-03-15T12:54:20.449Z"
   },
   {
    "duration": 3,
    "start_time": "2023-03-15T12:54:22.011Z"
   },
   {
    "duration": 775,
    "start_time": "2023-03-15T12:54:22.017Z"
   },
   {
    "duration": 33,
    "start_time": "2023-03-15T12:54:22.794Z"
   },
   {
    "duration": 4,
    "start_time": "2023-03-15T12:54:22.831Z"
   },
   {
    "duration": 297,
    "start_time": "2023-03-15T12:54:22.837Z"
   },
   {
    "duration": 48,
    "start_time": "2023-03-15T12:54:23.136Z"
   },
   {
    "duration": 21,
    "start_time": "2023-03-15T12:54:23.186Z"
   },
   {
    "duration": 14,
    "start_time": "2023-03-15T12:54:23.209Z"
   },
   {
    "duration": 34,
    "start_time": "2023-03-15T12:54:23.226Z"
   },
   {
    "duration": 28,
    "start_time": "2023-03-15T12:54:23.262Z"
   },
   {
    "duration": 36,
    "start_time": "2023-03-15T12:54:23.292Z"
   },
   {
    "duration": 29,
    "start_time": "2023-03-15T12:54:23.331Z"
   },
   {
    "duration": 23,
    "start_time": "2023-03-15T12:54:23.364Z"
   },
   {
    "duration": 9,
    "start_time": "2023-03-15T12:54:23.388Z"
   },
   {
    "duration": 8,
    "start_time": "2023-03-15T12:54:23.400Z"
   },
   {
    "duration": 8,
    "start_time": "2023-03-15T12:54:23.411Z"
   },
   {
    "duration": 6,
    "start_time": "2023-03-15T12:54:23.455Z"
   },
   {
    "duration": 18,
    "start_time": "2023-03-15T12:54:23.463Z"
   },
   {
    "duration": 14,
    "start_time": "2023-03-15T12:54:23.482Z"
   },
   {
    "duration": 17,
    "start_time": "2023-03-15T12:54:23.498Z"
   },
   {
    "duration": 22,
    "start_time": "2023-03-15T12:54:23.517Z"
   },
   {
    "duration": 15,
    "start_time": "2023-03-15T12:54:23.554Z"
   },
   {
    "duration": 3,
    "start_time": "2023-03-15T12:54:23.571Z"
   },
   {
    "duration": 3719,
    "start_time": "2023-03-15T12:54:23.577Z"
   },
   {
    "duration": 662,
    "start_time": "2023-03-15T12:54:27.298Z"
   },
   {
    "duration": 9,
    "start_time": "2023-03-15T12:54:27.961Z"
   },
   {
    "duration": 1508,
    "start_time": "2023-03-15T12:54:27.973Z"
   },
   {
    "duration": 5,
    "start_time": "2023-03-15T12:54:29.483Z"
   },
   {
    "duration": 8,
    "start_time": "2023-03-15T12:54:29.491Z"
   },
   {
    "duration": 6,
    "start_time": "2023-03-15T12:54:29.501Z"
   },
   {
    "duration": 6,
    "start_time": "2023-03-15T12:54:29.508Z"
   },
   {
    "duration": 9,
    "start_time": "2023-03-15T12:54:29.516Z"
   },
   {
    "duration": 27,
    "start_time": "2023-03-15T12:54:29.529Z"
   },
   {
    "duration": 3599,
    "start_time": "2023-03-15T12:54:29.558Z"
   },
   {
    "duration": 55151,
    "start_time": "2023-03-15T12:54:33.160Z"
   },
   {
    "duration": 424893,
    "start_time": "2023-03-15T12:55:28.313Z"
   },
   {
    "duration": 5,
    "start_time": "2023-03-15T13:02:33.208Z"
   },
   {
    "duration": 18,
    "start_time": "2023-03-15T13:02:33.215Z"
   },
   {
    "duration": 20,
    "start_time": "2023-03-15T13:02:33.235Z"
   },
   {
    "duration": 15,
    "start_time": "2023-03-15T13:02:33.263Z"
   },
   {
    "duration": 17,
    "start_time": "2023-03-15T13:02:33.286Z"
   },
   {
    "duration": 14146,
    "start_time": "2023-03-15T13:02:33.306Z"
   },
   {
    "duration": 15,
    "start_time": "2023-03-15T13:02:47.456Z"
   },
   {
    "duration": 156,
    "start_time": "2023-03-15T13:02:47.473Z"
   },
   {
    "duration": 0,
    "start_time": "2023-03-15T13:02:47.632Z"
   },
   {
    "duration": 5,
    "start_time": "2023-03-15T13:10:33.799Z"
   },
   {
    "duration": 17,
    "start_time": "2023-03-15T13:10:43.342Z"
   },
   {
    "duration": 18,
    "start_time": "2023-03-15T13:14:21.999Z"
   },
   {
    "duration": 12,
    "start_time": "2023-03-15T13:14:48.775Z"
   },
   {
    "duration": 5,
    "start_time": "2023-03-15T13:15:00.731Z"
   },
   {
    "duration": 1814,
    "start_time": "2023-03-15T13:17:58.211Z"
   },
   {
    "duration": 4,
    "start_time": "2023-03-15T13:18:00.027Z"
   },
   {
    "duration": 836,
    "start_time": "2023-03-15T13:18:00.034Z"
   },
   {
    "duration": 45,
    "start_time": "2023-03-15T13:18:00.875Z"
   },
   {
    "duration": 23,
    "start_time": "2023-03-15T13:18:00.923Z"
   },
   {
    "duration": 324,
    "start_time": "2023-03-15T13:18:00.947Z"
   },
   {
    "duration": 54,
    "start_time": "2023-03-15T13:18:01.273Z"
   },
   {
    "duration": 42,
    "start_time": "2023-03-15T13:18:01.330Z"
   },
   {
    "duration": 26,
    "start_time": "2023-03-15T13:18:01.375Z"
   },
   {
    "duration": 33,
    "start_time": "2023-03-15T13:18:01.404Z"
   },
   {
    "duration": 70,
    "start_time": "2023-03-15T13:18:01.440Z"
   },
   {
    "duration": 82,
    "start_time": "2023-03-15T13:18:01.513Z"
   },
   {
    "duration": 95,
    "start_time": "2023-03-15T13:18:01.597Z"
   },
   {
    "duration": 51,
    "start_time": "2023-03-15T13:18:01.697Z"
   },
   {
    "duration": 30,
    "start_time": "2023-03-15T13:18:01.751Z"
   },
   {
    "duration": 23,
    "start_time": "2023-03-15T13:18:01.783Z"
   },
   {
    "duration": 31,
    "start_time": "2023-03-15T13:18:01.809Z"
   },
   {
    "duration": 26,
    "start_time": "2023-03-15T13:18:01.842Z"
   },
   {
    "duration": 23,
    "start_time": "2023-03-15T13:18:01.877Z"
   },
   {
    "duration": 25,
    "start_time": "2023-03-15T13:18:01.902Z"
   },
   {
    "duration": 48,
    "start_time": "2023-03-15T13:18:01.929Z"
   },
   {
    "duration": 17,
    "start_time": "2023-03-15T13:18:01.979Z"
   },
   {
    "duration": 30,
    "start_time": "2023-03-15T13:18:01.999Z"
   },
   {
    "duration": 21,
    "start_time": "2023-03-15T13:18:02.031Z"
   },
   {
    "duration": 3965,
    "start_time": "2023-03-15T13:18:02.059Z"
   },
   {
    "duration": 671,
    "start_time": "2023-03-15T13:18:06.026Z"
   },
   {
    "duration": 10,
    "start_time": "2023-03-15T13:18:06.699Z"
   },
   {
    "duration": 1601,
    "start_time": "2023-03-15T13:18:06.712Z"
   },
   {
    "duration": 6,
    "start_time": "2023-03-15T13:18:08.316Z"
   },
   {
    "duration": 17,
    "start_time": "2023-03-15T13:18:08.325Z"
   },
   {
    "duration": 4,
    "start_time": "2023-03-15T13:18:08.345Z"
   },
   {
    "duration": 23,
    "start_time": "2023-03-15T13:18:08.351Z"
   },
   {
    "duration": 7,
    "start_time": "2023-03-15T13:18:08.379Z"
   },
   {
    "duration": 10,
    "start_time": "2023-03-15T13:18:08.389Z"
   },
   {
    "duration": 6453,
    "start_time": "2023-03-15T13:18:08.402Z"
   },
   {
    "duration": 56913,
    "start_time": "2023-03-15T13:18:14.857Z"
   },
   {
    "duration": 77370,
    "start_time": "2023-03-15T13:19:11.772Z"
   },
   {
    "duration": 3,
    "start_time": "2023-03-15T13:20:29.144Z"
   },
   {
    "duration": 16,
    "start_time": "2023-03-15T13:20:29.153Z"
   },
   {
    "duration": 15,
    "start_time": "2023-03-15T13:20:29.173Z"
   },
   {
    "duration": 6,
    "start_time": "2023-03-15T13:20:29.193Z"
   },
   {
    "duration": 32,
    "start_time": "2023-03-15T13:20:29.202Z"
   },
   {
    "duration": 4780,
    "start_time": "2023-03-15T13:20:29.236Z"
   },
   {
    "duration": 4,
    "start_time": "2023-03-15T13:20:34.020Z"
   },
   {
    "duration": 14,
    "start_time": "2023-03-15T13:20:34.026Z"
   },
   {
    "duration": 13,
    "start_time": "2023-03-15T13:20:34.044Z"
   },
   {
    "duration": 1815,
    "start_time": "2023-03-16T07:13:11.307Z"
   },
   {
    "duration": 3,
    "start_time": "2023-03-16T07:13:13.125Z"
   },
   {
    "duration": 2694,
    "start_time": "2023-03-16T07:13:13.130Z"
   },
   {
    "duration": 33,
    "start_time": "2023-03-16T07:13:15.826Z"
   },
   {
    "duration": 7,
    "start_time": "2023-03-16T07:13:15.862Z"
   },
   {
    "duration": 275,
    "start_time": "2023-03-16T07:13:15.871Z"
   },
   {
    "duration": 48,
    "start_time": "2023-03-16T07:13:16.148Z"
   },
   {
    "duration": 18,
    "start_time": "2023-03-16T07:13:16.199Z"
   },
   {
    "duration": 10,
    "start_time": "2023-03-16T07:13:16.219Z"
   },
   {
    "duration": 12,
    "start_time": "2023-03-16T07:13:16.230Z"
   },
   {
    "duration": 42,
    "start_time": "2023-03-16T07:13:16.244Z"
   },
   {
    "duration": 20,
    "start_time": "2023-03-16T07:13:16.288Z"
   },
   {
    "duration": 8,
    "start_time": "2023-03-16T07:13:16.310Z"
   },
   {
    "duration": 23,
    "start_time": "2023-03-16T07:13:16.321Z"
   },
   {
    "duration": 103,
    "start_time": "2023-03-16T07:13:16.373Z"
   },
   {
    "duration": 0,
    "start_time": "2023-03-16T07:13:16.478Z"
   },
   {
    "duration": 0,
    "start_time": "2023-03-16T07:13:16.479Z"
   },
   {
    "duration": 0,
    "start_time": "2023-03-16T07:13:16.480Z"
   },
   {
    "duration": 0,
    "start_time": "2023-03-16T07:13:16.482Z"
   },
   {
    "duration": 0,
    "start_time": "2023-03-16T07:13:16.483Z"
   },
   {
    "duration": 0,
    "start_time": "2023-03-16T07:13:16.485Z"
   },
   {
    "duration": 0,
    "start_time": "2023-03-16T07:13:16.486Z"
   },
   {
    "duration": 0,
    "start_time": "2023-03-16T07:13:16.487Z"
   },
   {
    "duration": 0,
    "start_time": "2023-03-16T07:13:16.488Z"
   },
   {
    "duration": 0,
    "start_time": "2023-03-16T07:13:16.490Z"
   },
   {
    "duration": 0,
    "start_time": "2023-03-16T07:13:16.491Z"
   },
   {
    "duration": 0,
    "start_time": "2023-03-16T07:13:16.493Z"
   },
   {
    "duration": 128,
    "start_time": "2023-03-16T07:13:20.113Z"
   },
   {
    "duration": 19,
    "start_time": "2023-03-16T07:13:40.381Z"
   },
   {
    "duration": 7,
    "start_time": "2023-03-16T07:14:52.943Z"
   },
   {
    "duration": 6,
    "start_time": "2023-03-16T07:14:54.890Z"
   },
   {
    "duration": 4,
    "start_time": "2023-03-16T07:14:56.888Z"
   },
   {
    "duration": 4,
    "start_time": "2023-03-16T07:15:10.121Z"
   },
   {
    "duration": 4,
    "start_time": "2023-03-16T07:15:10.977Z"
   },
   {
    "duration": 3,
    "start_time": "2023-03-16T07:15:15.482Z"
   },
   {
    "duration": 14,
    "start_time": "2023-03-16T07:15:18.748Z"
   },
   {
    "duration": 16,
    "start_time": "2023-03-16T07:15:21.123Z"
   },
   {
    "duration": 12,
    "start_time": "2023-03-16T07:15:24.177Z"
   },
   {
    "duration": 3,
    "start_time": "2023-03-16T07:15:24.789Z"
   },
   {
    "duration": 3524,
    "start_time": "2023-03-16T07:15:29.116Z"
   },
   {
    "duration": 504,
    "start_time": "2023-03-16T07:15:32.642Z"
   },
   {
    "duration": 8,
    "start_time": "2023-03-16T07:15:36.885Z"
   },
   {
    "duration": 1237,
    "start_time": "2023-03-16T07:15:38.582Z"
   },
   {
    "duration": 482,
    "start_time": "2023-03-16T07:16:15.337Z"
   },
   {
    "duration": 1178,
    "start_time": "2023-03-16T07:17:41.205Z"
   },
   {
    "duration": 20,
    "start_time": "2023-03-16T07:21:24.183Z"
   },
   {
    "duration": 446,
    "start_time": "2023-03-16T07:28:34.131Z"
   },
   {
    "duration": 6,
    "start_time": "2023-03-16T07:30:36.792Z"
   },
   {
    "duration": 2,
    "start_time": "2023-03-16T07:31:39.738Z"
   },
   {
    "duration": 1183,
    "start_time": "2023-03-16T07:31:40.971Z"
   },
   {
    "duration": 5,
    "start_time": "2023-03-16T07:31:47.009Z"
   },
   {
    "duration": 4,
    "start_time": "2023-03-16T07:31:47.598Z"
   },
   {
    "duration": 4,
    "start_time": "2023-03-16T07:31:48.993Z"
   },
   {
    "duration": 3,
    "start_time": "2023-03-16T07:31:50.771Z"
   },
   {
    "duration": 8,
    "start_time": "2023-03-16T07:31:51.174Z"
   },
   {
    "duration": 7,
    "start_time": "2023-03-16T07:31:51.636Z"
   },
   {
    "duration": 2745,
    "start_time": "2023-03-16T07:31:52.433Z"
   },
   {
    "duration": 59720,
    "start_time": "2023-03-16T07:31:59.269Z"
   },
   {
    "duration": 88339,
    "start_time": "2023-03-16T07:46:15.508Z"
   },
   {
    "duration": 5,
    "start_time": "2023-03-16T07:51:26.928Z"
   },
   {
    "duration": 9,
    "start_time": "2023-03-16T07:51:29.519Z"
   },
   {
    "duration": 6,
    "start_time": "2023-03-16T07:51:35.197Z"
   },
   {
    "duration": 15,
    "start_time": "2023-03-16T07:51:36.192Z"
   },
   {
    "duration": 5519,
    "start_time": "2023-03-16T07:51:37.877Z"
   },
   {
    "duration": 4,
    "start_time": "2023-03-16T07:51:43.398Z"
   },
   {
    "duration": 9,
    "start_time": "2023-03-16T07:51:52.208Z"
   },
   {
    "duration": 3,
    "start_time": "2023-03-16T07:51:53.198Z"
   },
   {
    "duration": 137,
    "start_time": "2023-03-16T07:55:42.044Z"
   },
   {
    "duration": 217,
    "start_time": "2023-03-16T07:56:32.662Z"
   },
   {
    "duration": 135,
    "start_time": "2023-03-16T07:57:15.452Z"
   },
   {
    "duration": 12,
    "start_time": "2023-03-16T09:02:26.035Z"
   },
   {
    "duration": 5,
    "start_time": "2023-03-16T09:02:43.637Z"
   },
   {
    "duration": 13,
    "start_time": "2023-03-16T09:03:14.518Z"
   },
   {
    "duration": 16,
    "start_time": "2023-03-16T09:03:27.486Z"
   },
   {
    "duration": 7,
    "start_time": "2023-03-16T09:03:55.941Z"
   },
   {
    "duration": 9,
    "start_time": "2023-03-16T09:06:27.724Z"
   },
   {
    "duration": 9,
    "start_time": "2023-03-16T09:06:46.353Z"
   },
   {
    "duration": 54,
    "start_time": "2023-03-16T13:13:14.534Z"
   },
   {
    "duration": 1823,
    "start_time": "2023-03-16T13:13:31.914Z"
   },
   {
    "duration": 3,
    "start_time": "2023-03-16T13:13:33.740Z"
   },
   {
    "duration": 3321,
    "start_time": "2023-03-16T13:13:33.744Z"
   },
   {
    "duration": 39,
    "start_time": "2023-03-16T13:13:37.068Z"
   },
   {
    "duration": 6,
    "start_time": "2023-03-16T13:13:37.110Z"
   },
   {
    "duration": 315,
    "start_time": "2023-03-16T13:13:37.118Z"
   },
   {
    "duration": 45,
    "start_time": "2023-03-16T13:13:37.435Z"
   },
   {
    "duration": 21,
    "start_time": "2023-03-16T13:13:37.482Z"
   },
   {
    "duration": 12,
    "start_time": "2023-03-16T13:13:37.505Z"
   },
   {
    "duration": 43,
    "start_time": "2023-03-16T13:13:37.520Z"
   },
   {
    "duration": 29,
    "start_time": "2023-03-16T13:13:37.565Z"
   },
   {
    "duration": 40,
    "start_time": "2023-03-16T13:13:37.596Z"
   },
   {
    "duration": 8,
    "start_time": "2023-03-16T13:13:37.637Z"
   },
   {
    "duration": 25,
    "start_time": "2023-03-16T13:13:37.647Z"
   },
   {
    "duration": 9,
    "start_time": "2023-03-16T13:13:37.677Z"
   },
   {
    "duration": 23,
    "start_time": "2023-03-16T13:13:37.688Z"
   },
   {
    "duration": 41,
    "start_time": "2023-03-16T13:13:37.713Z"
   },
   {
    "duration": 33,
    "start_time": "2023-03-16T13:13:37.757Z"
   },
   {
    "duration": 18,
    "start_time": "2023-03-16T13:13:37.793Z"
   },
   {
    "duration": 23,
    "start_time": "2023-03-16T13:13:37.813Z"
   },
   {
    "duration": 26,
    "start_time": "2023-03-16T13:13:37.839Z"
   },
   {
    "duration": 19,
    "start_time": "2023-03-16T13:13:37.867Z"
   },
   {
    "duration": 31,
    "start_time": "2023-03-16T13:13:37.888Z"
   },
   {
    "duration": 18,
    "start_time": "2023-03-16T13:13:37.920Z"
   },
   {
    "duration": 3659,
    "start_time": "2023-03-16T13:13:37.940Z"
   },
   {
    "duration": 524,
    "start_time": "2023-03-16T13:13:41.601Z"
   },
   {
    "duration": 7,
    "start_time": "2023-03-16T13:13:42.127Z"
   },
   {
    "duration": 15,
    "start_time": "2023-03-16T13:13:42.136Z"
   },
   {
    "duration": 18,
    "start_time": "2023-03-16T13:13:42.152Z"
   },
   {
    "duration": 126,
    "start_time": "2023-03-16T13:14:17.980Z"
   },
   {
    "duration": 20,
    "start_time": "2023-03-16T13:14:32.772Z"
   },
   {
    "duration": 15,
    "start_time": "2023-03-16T13:24:57.536Z"
   },
   {
    "duration": 24,
    "start_time": "2023-03-16T13:25:25.402Z"
   },
   {
    "duration": 14,
    "start_time": "2023-03-16T13:25:37.208Z"
   },
   {
    "duration": 31,
    "start_time": "2023-03-16T13:26:21.400Z"
   },
   {
    "duration": 19,
    "start_time": "2023-03-16T13:26:27.475Z"
   },
   {
    "duration": 15,
    "start_time": "2023-03-16T13:27:05.194Z"
   },
   {
    "duration": 191,
    "start_time": "2023-03-16T13:27:25.733Z"
   },
   {
    "duration": 7,
    "start_time": "2023-03-16T13:28:12.012Z"
   },
   {
    "duration": 12,
    "start_time": "2023-03-16T13:28:15.808Z"
   },
   {
    "duration": 14,
    "start_time": "2023-03-16T13:29:22.280Z"
   },
   {
    "duration": 193,
    "start_time": "2023-03-16T13:29:52.730Z"
   },
   {
    "duration": 14,
    "start_time": "2023-03-16T13:30:09.493Z"
   },
   {
    "duration": 8,
    "start_time": "2023-03-16T13:32:01.291Z"
   },
   {
    "duration": 11,
    "start_time": "2023-03-16T13:32:10.589Z"
   },
   {
    "duration": 7,
    "start_time": "2023-03-16T13:32:45.186Z"
   },
   {
    "duration": 6,
    "start_time": "2023-03-16T13:32:58.394Z"
   },
   {
    "duration": 191,
    "start_time": "2023-03-16T13:33:45.573Z"
   },
   {
    "duration": 9,
    "start_time": "2023-03-16T13:33:51.455Z"
   },
   {
    "duration": 4,
    "start_time": "2023-03-16T13:34:05.688Z"
   },
   {
    "duration": 18,
    "start_time": "2023-03-16T13:34:30.813Z"
   },
   {
    "duration": 15,
    "start_time": "2023-03-16T13:35:51.754Z"
   },
   {
    "duration": 16,
    "start_time": "2023-03-16T13:36:05.429Z"
   },
   {
    "duration": 9,
    "start_time": "2023-03-16T13:36:12.240Z"
   },
   {
    "duration": 9,
    "start_time": "2023-03-16T13:36:23.780Z"
   },
   {
    "duration": 16,
    "start_time": "2023-03-16T13:36:44.213Z"
   },
   {
    "duration": 16,
    "start_time": "2023-03-16T13:36:51.127Z"
   },
   {
    "duration": 179,
    "start_time": "2023-03-16T13:37:25.898Z"
   },
   {
    "duration": 17,
    "start_time": "2023-03-16T13:39:06.596Z"
   },
   {
    "duration": 12,
    "start_time": "2023-03-16T13:39:23.778Z"
   },
   {
    "duration": 12,
    "start_time": "2023-03-16T13:40:44.403Z"
   },
   {
    "duration": 11,
    "start_time": "2023-03-16T13:41:54.696Z"
   },
   {
    "duration": 12,
    "start_time": "2023-03-16T13:42:25.088Z"
   },
   {
    "duration": 16,
    "start_time": "2023-03-16T13:42:41.622Z"
   },
   {
    "duration": 19,
    "start_time": "2023-03-16T13:42:49.314Z"
   },
   {
    "duration": 20,
    "start_time": "2023-03-16T13:43:33.700Z"
   },
   {
    "duration": 14,
    "start_time": "2023-03-16T13:46:27.084Z"
   },
   {
    "duration": 17,
    "start_time": "2023-03-16T13:51:37.288Z"
   },
   {
    "duration": 15,
    "start_time": "2023-03-16T13:51:59.178Z"
   },
   {
    "duration": 15,
    "start_time": "2023-03-16T13:52:19.654Z"
   },
   {
    "duration": 14,
    "start_time": "2023-03-16T13:52:28.124Z"
   },
   {
    "duration": 11,
    "start_time": "2023-03-16T13:52:46.339Z"
   },
   {
    "duration": 10,
    "start_time": "2023-03-16T14:03:51.582Z"
   },
   {
    "duration": 4,
    "start_time": "2023-03-16T14:04:19.174Z"
   },
   {
    "duration": 5,
    "start_time": "2023-03-16T14:05:01.988Z"
   },
   {
    "duration": 4,
    "start_time": "2023-03-16T14:05:20.252Z"
   },
   {
    "duration": 5,
    "start_time": "2023-03-16T14:06:27.132Z"
   },
   {
    "duration": 311,
    "start_time": "2023-03-16T14:07:05.493Z"
   },
   {
    "duration": 74,
    "start_time": "2023-03-16T14:08:56.015Z"
   },
   {
    "duration": 4,
    "start_time": "2023-03-16T14:09:54.908Z"
   },
   {
    "duration": 10,
    "start_time": "2023-03-16T14:10:02.341Z"
   },
   {
    "duration": 4,
    "start_time": "2023-03-16T14:10:49.288Z"
   },
   {
    "duration": 17,
    "start_time": "2023-03-16T14:13:56.360Z"
   },
   {
    "duration": 6,
    "start_time": "2023-03-16T14:15:06.922Z"
   },
   {
    "duration": 1394,
    "start_time": "2023-03-16T14:17:59.341Z"
   },
   {
    "duration": 95,
    "start_time": "2023-03-16T14:27:12.035Z"
   },
   {
    "duration": 11,
    "start_time": "2023-03-16T14:27:25.740Z"
   },
   {
    "duration": 14,
    "start_time": "2023-03-16T14:29:30.784Z"
   },
   {
    "duration": 12,
    "start_time": "2023-03-16T14:30:12.553Z"
   },
   {
    "duration": 9,
    "start_time": "2023-03-16T14:31:16.610Z"
   },
   {
    "duration": 11,
    "start_time": "2023-03-16T14:33:45.752Z"
   },
   {
    "duration": 11,
    "start_time": "2023-03-16T14:34:31.879Z"
   },
   {
    "duration": 15,
    "start_time": "2023-03-16T14:36:25.588Z"
   },
   {
    "duration": 10,
    "start_time": "2023-03-16T14:36:57.657Z"
   },
   {
    "duration": 7,
    "start_time": "2023-03-16T14:37:22.212Z"
   },
   {
    "duration": 6,
    "start_time": "2023-03-16T14:38:02.132Z"
   },
   {
    "duration": 6,
    "start_time": "2023-03-16T14:38:06.513Z"
   },
   {
    "duration": 6,
    "start_time": "2023-03-16T14:38:55.039Z"
   },
   {
    "duration": 169,
    "start_time": "2023-03-16T14:41:31.740Z"
   },
   {
    "duration": 16,
    "start_time": "2023-03-16T14:42:58.748Z"
   },
   {
    "duration": 190,
    "start_time": "2023-03-16T14:43:35.696Z"
   },
   {
    "duration": 22,
    "start_time": "2023-03-16T14:46:12.531Z"
   },
   {
    "duration": 228,
    "start_time": "2023-03-16T14:46:52.484Z"
   },
   {
    "duration": 167,
    "start_time": "2023-03-16T14:47:21.395Z"
   },
   {
    "duration": 157,
    "start_time": "2023-03-16T14:47:56.585Z"
   },
   {
    "duration": 298,
    "start_time": "2023-03-16T14:50:01.173Z"
   },
   {
    "duration": 172,
    "start_time": "2023-03-16T14:50:13.421Z"
   },
   {
    "duration": 185,
    "start_time": "2023-03-16T14:50:19.352Z"
   },
   {
    "duration": 176,
    "start_time": "2023-03-16T14:50:30.746Z"
   },
   {
    "duration": 177,
    "start_time": "2023-03-16T14:51:06.889Z"
   },
   {
    "duration": 14,
    "start_time": "2023-03-16T14:56:54.391Z"
   },
   {
    "duration": 211,
    "start_time": "2023-03-16T14:57:21.204Z"
   },
   {
    "duration": 11,
    "start_time": "2023-03-16T17:11:59.114Z"
   },
   {
    "duration": 53,
    "start_time": "2023-03-16T17:12:46.106Z"
   },
   {
    "duration": 50,
    "start_time": "2023-03-16T17:17:50.107Z"
   },
   {
    "duration": 1557,
    "start_time": "2023-03-16T17:18:05.218Z"
   },
   {
    "duration": 4,
    "start_time": "2023-03-16T17:18:06.778Z"
   },
   {
    "duration": 2240,
    "start_time": "2023-03-16T17:18:06.783Z"
   },
   {
    "duration": 35,
    "start_time": "2023-03-16T17:18:09.025Z"
   },
   {
    "duration": 4,
    "start_time": "2023-03-16T17:18:09.062Z"
   },
   {
    "duration": 316,
    "start_time": "2023-03-16T17:18:09.068Z"
   },
   {
    "duration": 37,
    "start_time": "2023-03-16T17:18:09.389Z"
   },
   {
    "duration": 17,
    "start_time": "2023-03-16T17:18:09.428Z"
   },
   {
    "duration": 10,
    "start_time": "2023-03-16T17:18:09.446Z"
   },
   {
    "duration": 36,
    "start_time": "2023-03-16T17:18:09.458Z"
   },
   {
    "duration": 14,
    "start_time": "2023-03-16T17:18:09.496Z"
   },
   {
    "duration": 19,
    "start_time": "2023-03-16T17:18:09.511Z"
   },
   {
    "duration": 9,
    "start_time": "2023-03-16T17:18:09.532Z"
   },
   {
    "duration": 57,
    "start_time": "2023-03-16T17:18:09.545Z"
   },
   {
    "duration": 7,
    "start_time": "2023-03-16T17:18:09.604Z"
   },
   {
    "duration": 5,
    "start_time": "2023-03-16T17:18:09.613Z"
   },
   {
    "duration": 5,
    "start_time": "2023-03-16T17:18:09.619Z"
   },
   {
    "duration": 3,
    "start_time": "2023-03-16T17:18:09.625Z"
   },
   {
    "duration": 6,
    "start_time": "2023-03-16T17:18:09.629Z"
   },
   {
    "duration": 3,
    "start_time": "2023-03-16T17:18:09.637Z"
   },
   {
    "duration": 52,
    "start_time": "2023-03-16T17:18:09.641Z"
   },
   {
    "duration": 12,
    "start_time": "2023-03-16T17:18:09.695Z"
   },
   {
    "duration": 12,
    "start_time": "2023-03-16T17:18:09.709Z"
   },
   {
    "duration": 2,
    "start_time": "2023-03-16T17:18:09.723Z"
   },
   {
    "duration": 3179,
    "start_time": "2023-03-16T17:18:09.727Z"
   },
   {
    "duration": 455,
    "start_time": "2023-03-16T17:18:12.909Z"
   },
   {
    "duration": 7,
    "start_time": "2023-03-16T17:18:13.366Z"
   },
   {
    "duration": 226,
    "start_time": "2023-03-16T17:18:13.375Z"
   },
   {
    "duration": 229,
    "start_time": "2023-03-16T17:18:20.476Z"
   },
   {
    "duration": 277,
    "start_time": "2023-03-16T17:20:21.327Z"
   },
   {
    "duration": 219,
    "start_time": "2023-03-16T17:20:39.595Z"
   },
   {
    "duration": 221,
    "start_time": "2023-03-16T17:24:18.681Z"
   },
   {
    "duration": 216,
    "start_time": "2023-03-16T17:24:52.086Z"
   },
   {
    "duration": 405,
    "start_time": "2023-03-16T17:25:12.058Z"
   },
   {
    "duration": 237,
    "start_time": "2023-03-16T17:28:36.616Z"
   },
   {
    "duration": 212,
    "start_time": "2023-03-16T17:29:01.207Z"
   },
   {
    "duration": 215,
    "start_time": "2023-03-16T17:29:47.922Z"
   },
   {
    "duration": 45,
    "start_time": "2023-03-16T17:31:13.512Z"
   },
   {
    "duration": 47,
    "start_time": "2023-03-16T17:31:40.588Z"
   },
   {
    "duration": 18,
    "start_time": "2023-03-16T17:33:02.113Z"
   },
   {
    "duration": 41,
    "start_time": "2023-03-16T17:40:48.799Z"
   },
   {
    "duration": 226,
    "start_time": "2023-03-16T17:41:45.482Z"
   },
   {
    "duration": 220,
    "start_time": "2023-03-16T17:45:32.801Z"
   },
   {
    "duration": 202,
    "start_time": "2023-03-16T17:45:45.854Z"
   },
   {
    "duration": 201,
    "start_time": "2023-03-16T17:46:01.108Z"
   },
   {
    "duration": 18,
    "start_time": "2023-03-16T17:47:52.178Z"
   },
   {
    "duration": 17,
    "start_time": "2023-03-16T17:48:40.254Z"
   },
   {
    "duration": 212,
    "start_time": "2023-03-16T17:49:16.769Z"
   },
   {
    "duration": 245,
    "start_time": "2023-03-16T17:49:28.176Z"
   },
   {
    "duration": 278,
    "start_time": "2023-03-16T17:49:36.010Z"
   },
   {
    "duration": 203,
    "start_time": "2023-03-16T17:49:46.370Z"
   },
   {
    "duration": 200,
    "start_time": "2023-03-16T17:50:10.062Z"
   },
   {
    "duration": 255,
    "start_time": "2023-03-16T17:51:27.338Z"
   },
   {
    "duration": 211,
    "start_time": "2023-03-16T17:52:26.591Z"
   },
   {
    "duration": 199,
    "start_time": "2023-03-16T17:53:13.414Z"
   },
   {
    "duration": 263,
    "start_time": "2023-03-16T17:55:24.004Z"
   },
   {
    "duration": 45,
    "start_time": "2023-03-16T17:56:08.955Z"
   },
   {
    "duration": 214,
    "start_time": "2023-03-16T17:57:20.176Z"
   },
   {
    "duration": 192,
    "start_time": "2023-03-16T17:57:33.568Z"
   },
   {
    "duration": 204,
    "start_time": "2023-03-16T17:57:41.508Z"
   },
   {
    "duration": 213,
    "start_time": "2023-03-16T17:58:07.898Z"
   },
   {
    "duration": 356,
    "start_time": "2023-03-16T18:17:38.028Z"
   },
   {
    "duration": 217,
    "start_time": "2023-03-16T18:17:48.068Z"
   },
   {
    "duration": 225,
    "start_time": "2023-03-16T18:17:54.827Z"
   },
   {
    "duration": 214,
    "start_time": "2023-03-16T18:18:02.421Z"
   },
   {
    "duration": 222,
    "start_time": "2023-03-16T18:18:11.528Z"
   },
   {
    "duration": 221,
    "start_time": "2023-03-16T18:18:25.836Z"
   },
   {
    "duration": 49,
    "start_time": "2023-03-16T18:32:04.680Z"
   },
   {
    "duration": 47,
    "start_time": "2023-03-16T18:35:42.820Z"
   },
   {
    "duration": 52,
    "start_time": "2023-03-16T18:36:15.763Z"
   },
   {
    "duration": 41,
    "start_time": "2023-03-16T18:36:44.425Z"
   },
   {
    "duration": 10,
    "start_time": "2023-03-16T18:36:59.168Z"
   },
   {
    "duration": 11,
    "start_time": "2023-03-16T18:39:24.315Z"
   },
   {
    "duration": 12,
    "start_time": "2023-03-16T18:39:57.340Z"
   },
   {
    "duration": 20,
    "start_time": "2023-03-16T18:40:36.652Z"
   },
   {
    "duration": 30,
    "start_time": "2023-03-16T18:47:56.351Z"
   },
   {
    "duration": 16,
    "start_time": "2023-03-16T18:49:20.114Z"
   },
   {
    "duration": 14,
    "start_time": "2023-03-16T18:50:11.013Z"
   },
   {
    "duration": 17,
    "start_time": "2023-03-16T18:50:30.541Z"
   },
   {
    "duration": 12,
    "start_time": "2023-03-16T18:50:47.947Z"
   },
   {
    "duration": 19,
    "start_time": "2023-03-16T18:51:44.529Z"
   },
   {
    "duration": 9,
    "start_time": "2023-03-16T18:53:25.746Z"
   },
   {
    "duration": 10,
    "start_time": "2023-03-16T18:55:23.496Z"
   },
   {
    "duration": 14,
    "start_time": "2023-03-16T18:55:40.637Z"
   },
   {
    "duration": 70,
    "start_time": "2023-03-16T18:56:13.967Z"
   },
   {
    "duration": 43,
    "start_time": "2023-03-16T18:56:31.724Z"
   },
   {
    "duration": 13,
    "start_time": "2023-03-16T18:56:46.699Z"
   },
   {
    "duration": 9,
    "start_time": "2023-03-16T18:57:14.850Z"
   },
   {
    "duration": 12,
    "start_time": "2023-03-16T18:57:34.688Z"
   },
   {
    "duration": 11,
    "start_time": "2023-03-16T19:06:09.655Z"
   },
   {
    "duration": 23,
    "start_time": "2023-03-16T19:08:45.792Z"
   },
   {
    "duration": 19,
    "start_time": "2023-03-16T19:09:00.130Z"
   },
   {
    "duration": 17,
    "start_time": "2023-03-16T19:09:53.847Z"
   },
   {
    "duration": 9,
    "start_time": "2023-03-16T19:12:02.342Z"
   },
   {
    "duration": 7,
    "start_time": "2023-03-16T19:22:25.897Z"
   },
   {
    "duration": 46,
    "start_time": "2023-03-16T19:22:55.244Z"
   },
   {
    "duration": 50,
    "start_time": "2023-03-16T19:23:15.092Z"
   },
   {
    "duration": 53,
    "start_time": "2023-03-16T19:23:39.689Z"
   },
   {
    "duration": 54,
    "start_time": "2023-03-16T19:23:56.869Z"
   },
   {
    "duration": 11,
    "start_time": "2023-03-16T19:25:16.513Z"
   },
   {
    "duration": 874,
    "start_time": "2023-03-16T19:25:36.969Z"
   },
   {
    "duration": 19,
    "start_time": "2023-03-16T19:26:01.076Z"
   },
   {
    "duration": 23,
    "start_time": "2023-03-16T19:26:22.402Z"
   },
   {
    "duration": 19,
    "start_time": "2023-03-16T19:27:11.378Z"
   },
   {
    "duration": 18,
    "start_time": "2023-03-16T19:27:21.514Z"
   },
   {
    "duration": 17,
    "start_time": "2023-03-16T19:30:38.056Z"
   },
   {
    "duration": 3,
    "start_time": "2023-03-16T19:31:23.823Z"
   },
   {
    "duration": 28,
    "start_time": "2023-03-16T19:34:29.076Z"
   },
   {
    "duration": 1607,
    "start_time": "2023-03-16T19:36:45.921Z"
   },
   {
    "duration": 4,
    "start_time": "2023-03-16T19:36:47.533Z"
   },
   {
    "duration": 2233,
    "start_time": "2023-03-16T19:36:47.539Z"
   },
   {
    "duration": 43,
    "start_time": "2023-03-16T19:36:49.774Z"
   },
   {
    "duration": 3,
    "start_time": "2023-03-16T19:36:49.820Z"
   },
   {
    "duration": 284,
    "start_time": "2023-03-16T19:36:49.825Z"
   },
   {
    "duration": 34,
    "start_time": "2023-03-16T19:36:50.112Z"
   },
   {
    "duration": 14,
    "start_time": "2023-03-16T19:36:50.147Z"
   },
   {
    "duration": 34,
    "start_time": "2023-03-16T19:36:50.163Z"
   },
   {
    "duration": 13,
    "start_time": "2023-03-16T19:36:50.200Z"
   },
   {
    "duration": 16,
    "start_time": "2023-03-16T19:36:50.215Z"
   },
   {
    "duration": 20,
    "start_time": "2023-03-16T19:36:50.233Z"
   },
   {
    "duration": 39,
    "start_time": "2023-03-16T19:36:50.255Z"
   },
   {
    "duration": 25,
    "start_time": "2023-03-16T19:36:50.299Z"
   },
   {
    "duration": 6,
    "start_time": "2023-03-16T19:36:50.326Z"
   },
   {
    "duration": 5,
    "start_time": "2023-03-16T19:36:50.333Z"
   },
   {
    "duration": 5,
    "start_time": "2023-03-16T19:36:50.340Z"
   },
   {
    "duration": 4,
    "start_time": "2023-03-16T19:36:50.346Z"
   },
   {
    "duration": 9,
    "start_time": "2023-03-16T19:36:50.390Z"
   },
   {
    "duration": 6,
    "start_time": "2023-03-16T19:36:50.401Z"
   },
   {
    "duration": 13,
    "start_time": "2023-03-16T19:36:50.411Z"
   },
   {
    "duration": 15,
    "start_time": "2023-03-16T19:36:50.426Z"
   },
   {
    "duration": 13,
    "start_time": "2023-03-16T19:36:50.442Z"
   },
   {
    "duration": 32,
    "start_time": "2023-03-16T19:36:50.457Z"
   },
   {
    "duration": 3517,
    "start_time": "2023-03-16T19:36:50.493Z"
   },
   {
    "duration": 455,
    "start_time": "2023-03-16T19:36:54.012Z"
   },
   {
    "duration": 8,
    "start_time": "2023-03-16T19:36:54.468Z"
   },
   {
    "duration": 235,
    "start_time": "2023-03-16T19:36:54.477Z"
   },
   {
    "duration": 1510,
    "start_time": "2023-03-16T19:36:54.715Z"
   },
   {
    "duration": 3,
    "start_time": "2023-03-16T19:36:56.226Z"
   },
   {
    "duration": 19,
    "start_time": "2023-03-16T19:36:56.230Z"
   },
   {
    "duration": 39,
    "start_time": "2023-03-16T19:36:56.251Z"
   },
   {
    "duration": 10,
    "start_time": "2023-03-16T19:36:56.292Z"
   },
   {
    "duration": 5,
    "start_time": "2023-03-16T19:36:56.306Z"
   },
   {
    "duration": 5,
    "start_time": "2023-03-16T19:36:56.313Z"
   },
   {
    "duration": 4,
    "start_time": "2023-03-16T19:36:56.321Z"
   },
   {
    "duration": 8,
    "start_time": "2023-03-16T19:36:56.327Z"
   },
   {
    "duration": 11,
    "start_time": "2023-03-16T19:36:56.337Z"
   },
   {
    "duration": 5252,
    "start_time": "2023-03-16T19:36:56.349Z"
   },
   {
    "duration": 58055,
    "start_time": "2023-03-16T19:37:01.606Z"
   },
   {
    "duration": 79952,
    "start_time": "2023-03-16T19:37:59.664Z"
   },
   {
    "duration": 3,
    "start_time": "2023-03-16T19:39:19.618Z"
   },
   {
    "duration": 24,
    "start_time": "2023-03-16T19:39:19.622Z"
   },
   {
    "duration": 10,
    "start_time": "2023-03-16T19:39:19.648Z"
   },
   {
    "duration": 14,
    "start_time": "2023-03-16T19:39:19.660Z"
   },
   {
    "duration": 40,
    "start_time": "2023-03-16T19:39:19.676Z"
   },
   {
    "duration": 3663,
    "start_time": "2023-03-16T19:39:19.718Z"
   },
   {
    "duration": 3,
    "start_time": "2023-03-16T19:39:23.383Z"
   },
   {
    "duration": 15,
    "start_time": "2023-03-16T19:39:23.390Z"
   },
   {
    "duration": 6,
    "start_time": "2023-03-16T19:39:23.408Z"
   }
  ],
  "kernelspec": {
   "display_name": "Python 3 (ipykernel)",
   "language": "python",
   "name": "python3"
  },
  "language_info": {
   "codemirror_mode": {
    "name": "ipython",
    "version": 3
   },
   "file_extension": ".py",
   "mimetype": "text/x-python",
   "name": "python",
   "nbconvert_exporter": "python",
   "pygments_lexer": "ipython3",
   "version": "3.9.5"
  },
  "toc": {
   "base_numbering": 1,
   "nav_menu": {},
   "number_sections": true,
   "sideBar": true,
   "skip_h1_title": true,
   "title_cell": "Содержание",
   "title_sidebar": "Contents",
   "toc_cell": true,
   "toc_position": {
    "height": "calc(100% - 180px)",
    "left": "10px",
    "top": "150px",
    "width": "165px"
   },
   "toc_section_display": true,
   "toc_window_display": true
  }
 },
 "nbformat": 4,
 "nbformat_minor": 2
}
