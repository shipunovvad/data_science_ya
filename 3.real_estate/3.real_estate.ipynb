{
 "cells": [
  {
   "cell_type": "markdown",
   "metadata": {},
   "source": [
    "# Исследование объявлений о продаже квартир\n",
    "\n",
    "В вашем распоряжении данные сервиса Яндекс.Недвижимость — архив объявлений о продаже квартир в Санкт-Петербурге и соседних населённых пунктов за несколько лет. Нужно научиться определять рыночную стоимость объектов недвижимости. Ваша задача — установить параметры. Это позволит построить автоматизированную систему: она отследит аномалии и мошенническую деятельность. \n",
    "\n",
    "По каждой квартире на продажу доступны два вида данных. Первые вписаны пользователем, вторые — получены автоматически на основе картографических данных. Например, расстояние до центра, аэропорта, ближайшего парка и водоёма. "
   ]
  },
  {
   "cell_type": "markdown",
   "metadata": {},
   "source": [
    "### Откройте файл с данными и изучите общую информацию. "
   ]
  },
  {
   "cell_type": "code",
   "execution_count": 1,
   "metadata": {},
   "outputs": [],
   "source": [
    "import pandas as pd\n",
    "import numpy as np"
   ]
  },
  {
   "cell_type": "code",
   "execution_count": 2,
   "metadata": {},
   "outputs": [],
   "source": [
    "data = pd.read_csv('/datasets/real_estate_data.csv', sep='\\t')"
   ]
  },
  {
   "cell_type": "markdown",
   "metadata": {},
   "source": [
    "#### Изучаем общую информацию о полученных данных"
   ]
  },
  {
   "cell_type": "code",
   "execution_count": 3,
   "metadata": {},
   "outputs": [
    {
     "data": {
      "text/html": [
       "<div>\n",
       "<style scoped>\n",
       "    .dataframe tbody tr th:only-of-type {\n",
       "        vertical-align: middle;\n",
       "    }\n",
       "\n",
       "    .dataframe tbody tr th {\n",
       "        vertical-align: top;\n",
       "    }\n",
       "\n",
       "    .dataframe thead th {\n",
       "        text-align: right;\n",
       "    }\n",
       "</style>\n",
       "<table border=\"1\" class=\"dataframe\">\n",
       "  <thead>\n",
       "    <tr style=\"text-align: right;\">\n",
       "      <th></th>\n",
       "      <th>total_images</th>\n",
       "      <th>last_price</th>\n",
       "      <th>total_area</th>\n",
       "      <th>first_day_exposition</th>\n",
       "      <th>rooms</th>\n",
       "      <th>ceiling_height</th>\n",
       "      <th>floors_total</th>\n",
       "      <th>living_area</th>\n",
       "      <th>floor</th>\n",
       "      <th>is_apartment</th>\n",
       "      <th>studio</th>\n",
       "      <th>open_plan</th>\n",
       "      <th>kitchen_area</th>\n",
       "      <th>balcony</th>\n",
       "      <th>locality_name</th>\n",
       "      <th>airports_nearest</th>\n",
       "      <th>cityCenters_nearest</th>\n",
       "      <th>parks_around3000</th>\n",
       "      <th>parks_nearest</th>\n",
       "      <th>ponds_around3000</th>\n",
       "      <th>ponds_nearest</th>\n",
       "      <th>days_exposition</th>\n",
       "    </tr>\n",
       "  </thead>\n",
       "  <tbody>\n",
       "    <tr>\n",
       "      <th>0</th>\n",
       "      <td>20</td>\n",
       "      <td>13000000.0</td>\n",
       "      <td>108.00</td>\n",
       "      <td>2019-03-07T00:00:00</td>\n",
       "      <td>3</td>\n",
       "      <td>2.70</td>\n",
       "      <td>16.0</td>\n",
       "      <td>51.00</td>\n",
       "      <td>8</td>\n",
       "      <td>NaN</td>\n",
       "      <td>False</td>\n",
       "      <td>False</td>\n",
       "      <td>25.00</td>\n",
       "      <td>NaN</td>\n",
       "      <td>Санкт-Петербург</td>\n",
       "      <td>18863.0</td>\n",
       "      <td>16028.0</td>\n",
       "      <td>1.0</td>\n",
       "      <td>482.0</td>\n",
       "      <td>2.0</td>\n",
       "      <td>755.0</td>\n",
       "      <td>NaN</td>\n",
       "    </tr>\n",
       "    <tr>\n",
       "      <th>1</th>\n",
       "      <td>7</td>\n",
       "      <td>3350000.0</td>\n",
       "      <td>40.40</td>\n",
       "      <td>2018-12-04T00:00:00</td>\n",
       "      <td>1</td>\n",
       "      <td>NaN</td>\n",
       "      <td>11.0</td>\n",
       "      <td>18.60</td>\n",
       "      <td>1</td>\n",
       "      <td>NaN</td>\n",
       "      <td>False</td>\n",
       "      <td>False</td>\n",
       "      <td>11.00</td>\n",
       "      <td>2.0</td>\n",
       "      <td>посёлок Шушары</td>\n",
       "      <td>12817.0</td>\n",
       "      <td>18603.0</td>\n",
       "      <td>0.0</td>\n",
       "      <td>NaN</td>\n",
       "      <td>0.0</td>\n",
       "      <td>NaN</td>\n",
       "      <td>81.0</td>\n",
       "    </tr>\n",
       "    <tr>\n",
       "      <th>2</th>\n",
       "      <td>10</td>\n",
       "      <td>5196000.0</td>\n",
       "      <td>56.00</td>\n",
       "      <td>2015-08-20T00:00:00</td>\n",
       "      <td>2</td>\n",
       "      <td>NaN</td>\n",
       "      <td>5.0</td>\n",
       "      <td>34.30</td>\n",
       "      <td>4</td>\n",
       "      <td>NaN</td>\n",
       "      <td>False</td>\n",
       "      <td>False</td>\n",
       "      <td>8.30</td>\n",
       "      <td>0.0</td>\n",
       "      <td>Санкт-Петербург</td>\n",
       "      <td>21741.0</td>\n",
       "      <td>13933.0</td>\n",
       "      <td>1.0</td>\n",
       "      <td>90.0</td>\n",
       "      <td>2.0</td>\n",
       "      <td>574.0</td>\n",
       "      <td>558.0</td>\n",
       "    </tr>\n",
       "    <tr>\n",
       "      <th>3</th>\n",
       "      <td>0</td>\n",
       "      <td>64900000.0</td>\n",
       "      <td>159.00</td>\n",
       "      <td>2015-07-24T00:00:00</td>\n",
       "      <td>3</td>\n",
       "      <td>NaN</td>\n",
       "      <td>14.0</td>\n",
       "      <td>NaN</td>\n",
       "      <td>9</td>\n",
       "      <td>NaN</td>\n",
       "      <td>False</td>\n",
       "      <td>False</td>\n",
       "      <td>NaN</td>\n",
       "      <td>0.0</td>\n",
       "      <td>Санкт-Петербург</td>\n",
       "      <td>28098.0</td>\n",
       "      <td>6800.0</td>\n",
       "      <td>2.0</td>\n",
       "      <td>84.0</td>\n",
       "      <td>3.0</td>\n",
       "      <td>234.0</td>\n",
       "      <td>424.0</td>\n",
       "    </tr>\n",
       "    <tr>\n",
       "      <th>4</th>\n",
       "      <td>2</td>\n",
       "      <td>10000000.0</td>\n",
       "      <td>100.00</td>\n",
       "      <td>2018-06-19T00:00:00</td>\n",
       "      <td>2</td>\n",
       "      <td>3.03</td>\n",
       "      <td>14.0</td>\n",
       "      <td>32.00</td>\n",
       "      <td>13</td>\n",
       "      <td>NaN</td>\n",
       "      <td>False</td>\n",
       "      <td>False</td>\n",
       "      <td>41.00</td>\n",
       "      <td>NaN</td>\n",
       "      <td>Санкт-Петербург</td>\n",
       "      <td>31856.0</td>\n",
       "      <td>8098.0</td>\n",
       "      <td>2.0</td>\n",
       "      <td>112.0</td>\n",
       "      <td>1.0</td>\n",
       "      <td>48.0</td>\n",
       "      <td>121.0</td>\n",
       "    </tr>\n",
       "    <tr>\n",
       "      <th>5</th>\n",
       "      <td>10</td>\n",
       "      <td>2890000.0</td>\n",
       "      <td>30.40</td>\n",
       "      <td>2018-09-10T00:00:00</td>\n",
       "      <td>1</td>\n",
       "      <td>NaN</td>\n",
       "      <td>12.0</td>\n",
       "      <td>14.40</td>\n",
       "      <td>5</td>\n",
       "      <td>NaN</td>\n",
       "      <td>False</td>\n",
       "      <td>False</td>\n",
       "      <td>9.10</td>\n",
       "      <td>NaN</td>\n",
       "      <td>городской посёлок Янино-1</td>\n",
       "      <td>NaN</td>\n",
       "      <td>NaN</td>\n",
       "      <td>NaN</td>\n",
       "      <td>NaN</td>\n",
       "      <td>NaN</td>\n",
       "      <td>NaN</td>\n",
       "      <td>55.0</td>\n",
       "    </tr>\n",
       "    <tr>\n",
       "      <th>6</th>\n",
       "      <td>6</td>\n",
       "      <td>3700000.0</td>\n",
       "      <td>37.30</td>\n",
       "      <td>2017-11-02T00:00:00</td>\n",
       "      <td>1</td>\n",
       "      <td>NaN</td>\n",
       "      <td>26.0</td>\n",
       "      <td>10.60</td>\n",
       "      <td>6</td>\n",
       "      <td>NaN</td>\n",
       "      <td>False</td>\n",
       "      <td>False</td>\n",
       "      <td>14.40</td>\n",
       "      <td>1.0</td>\n",
       "      <td>посёлок Парголово</td>\n",
       "      <td>52996.0</td>\n",
       "      <td>19143.0</td>\n",
       "      <td>0.0</td>\n",
       "      <td>NaN</td>\n",
       "      <td>0.0</td>\n",
       "      <td>NaN</td>\n",
       "      <td>155.0</td>\n",
       "    </tr>\n",
       "    <tr>\n",
       "      <th>7</th>\n",
       "      <td>5</td>\n",
       "      <td>7915000.0</td>\n",
       "      <td>71.60</td>\n",
       "      <td>2019-04-18T00:00:00</td>\n",
       "      <td>2</td>\n",
       "      <td>NaN</td>\n",
       "      <td>24.0</td>\n",
       "      <td>NaN</td>\n",
       "      <td>22</td>\n",
       "      <td>NaN</td>\n",
       "      <td>False</td>\n",
       "      <td>False</td>\n",
       "      <td>18.90</td>\n",
       "      <td>2.0</td>\n",
       "      <td>Санкт-Петербург</td>\n",
       "      <td>23982.0</td>\n",
       "      <td>11634.0</td>\n",
       "      <td>0.0</td>\n",
       "      <td>NaN</td>\n",
       "      <td>0.0</td>\n",
       "      <td>NaN</td>\n",
       "      <td>NaN</td>\n",
       "    </tr>\n",
       "    <tr>\n",
       "      <th>8</th>\n",
       "      <td>20</td>\n",
       "      <td>2900000.0</td>\n",
       "      <td>33.16</td>\n",
       "      <td>2018-05-23T00:00:00</td>\n",
       "      <td>1</td>\n",
       "      <td>NaN</td>\n",
       "      <td>27.0</td>\n",
       "      <td>15.43</td>\n",
       "      <td>26</td>\n",
       "      <td>NaN</td>\n",
       "      <td>False</td>\n",
       "      <td>False</td>\n",
       "      <td>8.81</td>\n",
       "      <td>NaN</td>\n",
       "      <td>посёлок Мурино</td>\n",
       "      <td>NaN</td>\n",
       "      <td>NaN</td>\n",
       "      <td>NaN</td>\n",
       "      <td>NaN</td>\n",
       "      <td>NaN</td>\n",
       "      <td>NaN</td>\n",
       "      <td>189.0</td>\n",
       "    </tr>\n",
       "    <tr>\n",
       "      <th>9</th>\n",
       "      <td>18</td>\n",
       "      <td>5400000.0</td>\n",
       "      <td>61.00</td>\n",
       "      <td>2017-02-26T00:00:00</td>\n",
       "      <td>3</td>\n",
       "      <td>2.50</td>\n",
       "      <td>9.0</td>\n",
       "      <td>43.60</td>\n",
       "      <td>7</td>\n",
       "      <td>NaN</td>\n",
       "      <td>False</td>\n",
       "      <td>False</td>\n",
       "      <td>6.50</td>\n",
       "      <td>2.0</td>\n",
       "      <td>Санкт-Петербург</td>\n",
       "      <td>50898.0</td>\n",
       "      <td>15008.0</td>\n",
       "      <td>0.0</td>\n",
       "      <td>NaN</td>\n",
       "      <td>0.0</td>\n",
       "      <td>NaN</td>\n",
       "      <td>289.0</td>\n",
       "    </tr>\n",
       "  </tbody>\n",
       "</table>\n",
       "</div>"
      ],
      "text/plain": [
       "   total_images  last_price  total_area first_day_exposition  rooms  \\\n",
       "0            20  13000000.0      108.00  2019-03-07T00:00:00      3   \n",
       "1             7   3350000.0       40.40  2018-12-04T00:00:00      1   \n",
       "2            10   5196000.0       56.00  2015-08-20T00:00:00      2   \n",
       "3             0  64900000.0      159.00  2015-07-24T00:00:00      3   \n",
       "4             2  10000000.0      100.00  2018-06-19T00:00:00      2   \n",
       "5            10   2890000.0       30.40  2018-09-10T00:00:00      1   \n",
       "6             6   3700000.0       37.30  2017-11-02T00:00:00      1   \n",
       "7             5   7915000.0       71.60  2019-04-18T00:00:00      2   \n",
       "8            20   2900000.0       33.16  2018-05-23T00:00:00      1   \n",
       "9            18   5400000.0       61.00  2017-02-26T00:00:00      3   \n",
       "\n",
       "   ceiling_height  floors_total  living_area  floor is_apartment  studio  \\\n",
       "0            2.70          16.0        51.00      8          NaN   False   \n",
       "1             NaN          11.0        18.60      1          NaN   False   \n",
       "2             NaN           5.0        34.30      4          NaN   False   \n",
       "3             NaN          14.0          NaN      9          NaN   False   \n",
       "4            3.03          14.0        32.00     13          NaN   False   \n",
       "5             NaN          12.0        14.40      5          NaN   False   \n",
       "6             NaN          26.0        10.60      6          NaN   False   \n",
       "7             NaN          24.0          NaN     22          NaN   False   \n",
       "8             NaN          27.0        15.43     26          NaN   False   \n",
       "9            2.50           9.0        43.60      7          NaN   False   \n",
       "\n",
       "   open_plan  kitchen_area  balcony              locality_name  \\\n",
       "0      False         25.00      NaN            Санкт-Петербург   \n",
       "1      False         11.00      2.0             посёлок Шушары   \n",
       "2      False          8.30      0.0            Санкт-Петербург   \n",
       "3      False           NaN      0.0            Санкт-Петербург   \n",
       "4      False         41.00      NaN            Санкт-Петербург   \n",
       "5      False          9.10      NaN  городской посёлок Янино-1   \n",
       "6      False         14.40      1.0          посёлок Парголово   \n",
       "7      False         18.90      2.0            Санкт-Петербург   \n",
       "8      False          8.81      NaN             посёлок Мурино   \n",
       "9      False          6.50      2.0            Санкт-Петербург   \n",
       "\n",
       "   airports_nearest  cityCenters_nearest  parks_around3000  parks_nearest  \\\n",
       "0           18863.0              16028.0               1.0          482.0   \n",
       "1           12817.0              18603.0               0.0            NaN   \n",
       "2           21741.0              13933.0               1.0           90.0   \n",
       "3           28098.0               6800.0               2.0           84.0   \n",
       "4           31856.0               8098.0               2.0          112.0   \n",
       "5               NaN                  NaN               NaN            NaN   \n",
       "6           52996.0              19143.0               0.0            NaN   \n",
       "7           23982.0              11634.0               0.0            NaN   \n",
       "8               NaN                  NaN               NaN            NaN   \n",
       "9           50898.0              15008.0               0.0            NaN   \n",
       "\n",
       "   ponds_around3000  ponds_nearest  days_exposition  \n",
       "0               2.0          755.0              NaN  \n",
       "1               0.0            NaN             81.0  \n",
       "2               2.0          574.0            558.0  \n",
       "3               3.0          234.0            424.0  \n",
       "4               1.0           48.0            121.0  \n",
       "5               NaN            NaN             55.0  \n",
       "6               0.0            NaN            155.0  \n",
       "7               0.0            NaN              NaN  \n",
       "8               NaN            NaN            189.0  \n",
       "9               0.0            NaN            289.0  "
      ]
     },
     "execution_count": 3,
     "metadata": {},
     "output_type": "execute_result"
    }
   ],
   "source": [
    "pd.set_option('display.max_columns', None)\n",
    "data.head(10) # Выводим на экран первые 10 строк"
   ]
  },
  {
   "cell_type": "code",
   "execution_count": 4,
   "metadata": {},
   "outputs": [],
   "source": [
    "#data.info()"
   ]
  },
  {
   "cell_type": "markdown",
   "metadata": {},
   "source": [
    "#### Построим  общую гистограмму для всех числовых столбцов таблицы."
   ]
  },
  {
   "cell_type": "code",
   "execution_count": 5,
   "metadata": {
    "scrolled": true
   },
   "outputs": [],
   "source": [
    "#data.hist(figsize=(15, 20));"
   ]
  },
  {
   "cell_type": "markdown",
   "metadata": {},
   "source": [
    "#### Предварительна оценка проблем с данными ####\n",
    "\n",
    "- Названия столбцов: соответствуют нотациям, кроме одного столбца.\n",
    "- Прпуски данных: в нескольких столбцах имеются пропущенные значения. Например в солбцах balcony и ceiling_height их величина превышает  30% от всех значений. \n",
    "- Дубликаты: необходимо проверить данные на явные и неявные дубликаты с целью удаления или замены. \n",
    "- Тип данных: тип данных в нескольких столбцах должен быть изменен, например:\n",
    "        first_day_exposition -> date\n",
    "        floors_total -> Int8 nullable-integer extension dtype\n",
    "        is_apartment -> bool \n",
    "        прочее\n",
    " - Значения: Анализ гистограмм показывает наличие \"длинных хвостов\" у нескольких переменных, а также выбивающиеся из логики значения, например в last_price, total_area и другие. \n",
    " \n",
    " ###### В рамках работы по предобработке данных могут быть выявлены другие проблемы, которые надо будет решить или устранить. #######"
   ]
  },
  {
   "cell_type": "markdown",
   "metadata": {},
   "source": [
    "### Предобработка данных"
   ]
  },
  {
   "cell_type": "markdown",
   "metadata": {},
   "source": [
    "#### Переименуем столбцы, которые имеют названия,  не соответствующие нотациям "
   ]
  },
  {
   "cell_type": "code",
   "execution_count": 6,
   "metadata": {},
   "outputs": [],
   "source": [
    "data.rename(columns={'cityCenters_nearest' : 'city_centers_nearest'}, inplace=True)# "
   ]
  },
  {
   "cell_type": "markdown",
   "metadata": {},
   "source": [
    "#### Проверим массив на наличие пропусков "
   ]
  },
  {
   "cell_type": "code",
   "execution_count": 7,
   "metadata": {},
   "outputs": [
    {
     "data": {
      "text/plain": [
       "total_images                0\n",
       "last_price                  0\n",
       "total_area                  0\n",
       "first_day_exposition        0\n",
       "rooms                       0\n",
       "ceiling_height           9195\n",
       "floors_total               86\n",
       "living_area              1903\n",
       "floor                       0\n",
       "is_apartment            20924\n",
       "studio                      0\n",
       "open_plan                   0\n",
       "kitchen_area             2278\n",
       "balcony                 11519\n",
       "locality_name              49\n",
       "airports_nearest         5542\n",
       "city_centers_nearest     5519\n",
       "parks_around3000         5518\n",
       "parks_nearest           15620\n",
       "ponds_around3000         5518\n",
       "ponds_nearest           14589\n",
       "days_exposition          3181\n",
       "dtype: int64"
      ]
     },
     "execution_count": 7,
     "metadata": {},
     "output_type": "execute_result"
    }
   ],
   "source": [
    "data.isna().sum()"
   ]
  },
  {
   "cell_type": "raw",
   "metadata": {},
   "source": [
    "#### Описание пропущеных значений и наши действия с ними ####\n",
    "Количество обнаруженных Null из 23699:\n",
    "\n",
    "- 9195 ceiling_height - практически в трети объявлений пропущена высота потолков, заменим на медиану.\n",
    "\n",
    "- 86 floors_total - данные просто не заполнили, из выборки, оставим Null.\n",
    "\n",
    "- 1903 living_area - оставим Null.\n",
    "\n",
    "- 2775 is_apartment - значений, можем предположить что это не апартаменты и присвоить False.\n",
    "\n",
    "- 2278 kitchen_area - проверить не студия ли это? Если нет, то оставим Null.\n",
    "\n",
    "- 11519 balcony - скорее всего там нет балконов, заполняем 0\n",
    "\n",
    "- 49 locality_name - данные просто не заполнили, оставим Null\n",
    "\n",
    "- 5542 airports_nearest - аэропортов рядом нет, оставляем Null\n",
    "\n",
    "- 5519 city_centers_nearest - центр города не близко, оставляем Null\n",
    "\n",
    "- 5518 parks_around3000 - значит парков нет в радиусе 3км, оставляем Null\n",
    "\n",
    "- 15620 parks_nearest - значит парков нет, оставляем Null\n",
    "\n",
    "- 5518 ponds_around3000 - значит прудов нет в радиусе 3км, оставляем Null\n",
    "\n",
    "- 14589 ponds_nearest - оставляем Null\n",
    "\n",
    "- 3181 days_exposition - объявление не было опубликовано, оставляем Null "
   ]
  },
  {
   "cell_type": "code",
   "execution_count": 8,
   "metadata": {},
   "outputs": [],
   "source": [
    "# Делаем замены в тех столбцах, которые мы определили \n",
    "data['ceiling_height'] = data['ceiling_height'].fillna(data['ceiling_height'].median())\n",
    "data['is_apartment'] = data['is_apartment'].fillna('False')\n",
    "data['balcony'] = data['balcony'].fillna(0)\n",
    "data['locality_name'].dropna(inplace=True)\n",
    "data['floors_total'].dropna(inplace=True)\n"
   ]
  },
  {
   "cell_type": "markdown",
   "metadata": {},
   "source": [
    "###### проверяем резульат замены "
   ]
  },
  {
   "cell_type": "code",
   "execution_count": 9,
   "metadata": {},
   "outputs": [
    {
     "name": "stdout",
     "output_type": "stream",
     "text": [
      "<class 'pandas.core.frame.DataFrame'>\n",
      "RangeIndex: 23699 entries, 0 to 23698\n",
      "Data columns (total 22 columns):\n",
      " #   Column                Non-Null Count  Dtype  \n",
      "---  ------                --------------  -----  \n",
      " 0   total_images          23699 non-null  int64  \n",
      " 1   last_price            23699 non-null  float64\n",
      " 2   total_area            23699 non-null  float64\n",
      " 3   first_day_exposition  23699 non-null  object \n",
      " 4   rooms                 23699 non-null  int64  \n",
      " 5   ceiling_height        23699 non-null  float64\n",
      " 6   floors_total          23613 non-null  float64\n",
      " 7   living_area           21796 non-null  float64\n",
      " 8   floor                 23699 non-null  int64  \n",
      " 9   is_apartment          23699 non-null  object \n",
      " 10  studio                23699 non-null  bool   \n",
      " 11  open_plan             23699 non-null  bool   \n",
      " 12  kitchen_area          21421 non-null  float64\n",
      " 13  balcony               23699 non-null  float64\n",
      " 14  locality_name         23650 non-null  object \n",
      " 15  airports_nearest      18157 non-null  float64\n",
      " 16  city_centers_nearest  18180 non-null  float64\n",
      " 17  parks_around3000      18181 non-null  float64\n",
      " 18  parks_nearest         8079 non-null   float64\n",
      " 19  ponds_around3000      18181 non-null  float64\n",
      " 20  ponds_nearest         9110 non-null   float64\n",
      " 21  days_exposition       20518 non-null  float64\n",
      "dtypes: bool(2), float64(14), int64(3), object(3)\n",
      "memory usage: 3.7+ MB\n"
     ]
    }
   ],
   "source": [
    "data.info()# "
   ]
  },
  {
   "cell_type": "markdown",
   "metadata": {},
   "source": [
    "### Изменение типов данных"
   ]
  },
  {
   "cell_type": "markdown",
   "metadata": {},
   "source": [
    "Опрелеляем, какие столбцы будут изменены\n",
    "last_price - int64\n",
    "\n",
    "first_day_exposition - date\n",
    "\n",
    "floors_total - Int8 nullable-integer extension dtype\n",
    "\n",
    "is_apartment - bool\n",
    "\n",
    "balcony - int8\n",
    "\n",
    "days_exposition - int64\n",
    "\n",
    "Изменение типа first_day_exposition необходимо, чтобы можно было работать в дальнейшем как с датой.\n",
    "Изменение типа is_apartment необходимо, чтобы работать с булевым значением и сэкономить память.\n",
    "\n",
    "Изменение типов во всех остальных случаях необзодимо, чтобы сэкономить память."
   ]
  },
  {
   "cell_type": "code",
   "execution_count": 10,
   "metadata": {},
   "outputs": [
    {
     "name": "stdout",
     "output_type": "stream",
     "text": [
      "1 done\n",
      "2 done\n",
      "3 done\n",
      "4 done\n",
      "5 done\n",
      "6 done\n"
     ]
    }
   ],
   "source": [
    "try:\n",
    "    data['last_price'] = data['last_price'].astype('int64')\n",
    "    print('1 done')\n",
    "except:\n",
    "    print('last_price int type conversion fail')\n",
    "    \n",
    "try:    \n",
    "    data['first_day_exposition'] = pd.to_datetime(data['first_day_exposition'],format='%Y-%m-%dT%H:%M:%S')\n",
    "    print('2 done')\n",
    "except:\n",
    "    print('first_day_exposition to_datetime type conversion fail')\n",
    "    \n",
    "try:\n",
    "    data['floors_total'] =  data['floors_total'].astype('Int8')\n",
    "    print('3 done')\n",
    "except:\n",
    "    print('floors_total int8 type conversion fail')\n",
    "      \n",
    "try:\n",
    "    data['is_apartment'] = data['is_apartment'].map({'False':False, 'True':True})\n",
    "    print('4 done')\n",
    "except:\n",
    "    print('is_apartment bool type conversion fail')\n",
    "        \n",
    "try:\n",
    "    data['balcony'] = data['balcony'].astype('int8')\n",
    "    print('5 done')\n",
    "except:\n",
    "    print('balcony int8 type conversion fail')\n",
    "    \n",
    "try:\n",
    "    data['days_exposition'] = np.floor(pd.to_numeric(data['days_exposition'], errors='coerce')).astype('Int64')\n",
    "    print('6 done')\n",
    "except:\n",
    "    print('days_exposition int64 type conversion fail')"
   ]
  },
  {
   "cell_type": "markdown",
   "metadata": {},
   "source": [
    "<div class=\"alert alert-success\">\n",
    "<b>✔️ Комментарий ревьюера v1:</b> \n",
    "<br>Изменение типов данных проведено верно. Можно ещё заменить тип данных с float64 на float32 для экономии памяти.\n",
    "</div>"
   ]
  },
  {
   "cell_type": "markdown",
   "metadata": {},
   "source": [
    "Проверим данные"
   ]
  },
  {
   "cell_type": "code",
   "execution_count": 11,
   "metadata": {},
   "outputs": [
    {
     "name": "stdout",
     "output_type": "stream",
     "text": [
      "<class 'pandas.core.frame.DataFrame'>\n",
      "RangeIndex: 23699 entries, 0 to 23698\n",
      "Data columns (total 22 columns):\n",
      " #   Column                Non-Null Count  Dtype         \n",
      "---  ------                --------------  -----         \n",
      " 0   total_images          23699 non-null  int64         \n",
      " 1   last_price            23699 non-null  int64         \n",
      " 2   total_area            23699 non-null  float64       \n",
      " 3   first_day_exposition  23699 non-null  datetime64[ns]\n",
      " 4   rooms                 23699 non-null  int64         \n",
      " 5   ceiling_height        23699 non-null  float64       \n",
      " 6   floors_total          23613 non-null  Int8          \n",
      " 7   living_area           21796 non-null  float64       \n",
      " 8   floor                 23699 non-null  int64         \n",
      " 9   is_apartment          20924 non-null  object        \n",
      " 10  studio                23699 non-null  bool          \n",
      " 11  open_plan             23699 non-null  bool          \n",
      " 12  kitchen_area          21421 non-null  float64       \n",
      " 13  balcony               23699 non-null  int8          \n",
      " 14  locality_name         23650 non-null  object        \n",
      " 15  airports_nearest      18157 non-null  float64       \n",
      " 16  city_centers_nearest  18180 non-null  float64       \n",
      " 17  parks_around3000      18181 non-null  float64       \n",
      " 18  parks_nearest         8079 non-null   float64       \n",
      " 19  ponds_around3000      18181 non-null  float64       \n",
      " 20  ponds_nearest         9110 non-null   float64       \n",
      " 21  days_exposition       20518 non-null  Int64         \n",
      "dtypes: Int64(1), Int8(1), bool(2), datetime64[ns](1), float64(10), int64(4), int8(1), object(2)\n",
      "memory usage: 3.4+ MB\n"
     ]
    }
   ],
   "source": [
    "data.info()"
   ]
  },
  {
   "cell_type": "markdown",
   "metadata": {},
   "source": [
    "#### Изучение уникальных значений"
   ]
  },
  {
   "cell_type": "code",
   "execution_count": 12,
   "metadata": {},
   "outputs": [
    {
     "data": {
      "text/plain": [
       "365"
      ]
     },
     "execution_count": 12,
     "metadata": {},
     "output_type": "execute_result"
    }
   ],
   "source": [
    "data['locality_name'].unique().shape[0]"
   ]
  },
  {
   "cell_type": "markdown",
   "metadata": {},
   "source": [
    "#### удаление дубликатов\n",
    "\n",
    "- Приводим всё к нижнему регистру\n",
    "- Заменяем все \"ё\" на \"е\"\n",
    "- Заменяем \"городской поселок\" на \"поселок городского типа\"\n"
   ]
  },
  {
   "cell_type": "code",
   "execution_count": 13,
   "metadata": {},
   "outputs": [],
   "source": [
    "data['locality_name'] = data['locality_name'].str.lower()\n",
    "data['locality_name'] = data['locality_name'].str.replace('ё', 'е')\n",
    "data['locality_name'] = data['locality_name'].str.replace('городской поселок','поселок городского типа')"
   ]
  },
  {
   "cell_type": "markdown",
   "metadata": {},
   "source": [
    "Проверяем наличие явных дубликатов"
   ]
  },
  {
   "cell_type": "code",
   "execution_count": 14,
   "metadata": {},
   "outputs": [
    {
     "name": "stdout",
     "output_type": "stream",
     "text": [
      "Количетво явных дубликатов: 0\n"
     ]
    }
   ],
   "source": [
    "print('Количетво явных дубликатов:', data.duplicated().sum())"
   ]
  },
  {
   "cell_type": "markdown",
   "metadata": {},
   "source": [
    "Устраняем неявные дубликаты, например:\n",
    "«поселок Рябово» и «поселок городского типа Рябово»"
   ]
  },
  {
   "cell_type": "code",
   "execution_count": 15,
   "metadata": {},
   "outputs": [
    {
     "name": "stdout",
     "output_type": "stream",
     "text": [
      "Ошибка в цикле из-за значения: nan\n",
      "0                      санкт-петербург\n",
      "1                       поселок шушары\n",
      "2      поселок городского типа янино-1\n",
      "3                    поселок парголово\n",
      "4                       поселок мурино\n",
      "                    ...               \n",
      "319                     деревня нижняя\n",
      "320          коттеджный поселок лесное\n",
      "321                  деревня тихковицы\n",
      "322             деревня борисова грива\n",
      "323               поселок дзержинского\n",
      "Length: 324, dtype: object\n"
     ]
    }
   ],
   "source": [
    "locality_township = []\n",
    "\n",
    "for i in data['locality_name'].unique():\n",
    "    try:\n",
    "        if 'городского типа' in i:\n",
    "            locality_township.append(i)\n",
    "    except:\n",
    "         print('Ошибка в цикле из-за значения:', i)\n",
    "\n",
    "unique_locality = pd.Series(data['locality_name'].unique())\n",
    "\n",
    "print(unique_locality)"
   ]
  },
  {
   "cell_type": "code",
   "execution_count": 16,
   "metadata": {},
   "outputs": [
    {
     "name": "stdout",
     "output_type": "stream",
     "text": [
      "павлово\n",
      "рахья\n",
      "федоровское\n",
      "приладожский\n",
      "рябово\n"
     ]
    }
   ],
   "source": [
    "locality_df = pd.DataFrame(locality_township)\n",
    "locality_df = locality_df.rename(columns={0:'name'})\n",
    "locality_df['name'] = locality_df['name'].str.replace('поселок городского типа ', '')\n",
    "\n",
    "for index, row in locality_df.iterrows():\n",
    "    if unique_locality.str.contains(row['name']).sum() > 1:\n",
    "        print(row['name'])\n",
    "        data['locality_name'] = data['locality_name'].str.replace('поселок '+row['name'], 'поселок городского типа '+row['name'])\n",
    "        \n",
    "            "
   ]
  },
  {
   "cell_type": "markdown",
   "metadata": {},
   "source": [
    "<div class=\"alert alert-success\">\n",
    "<b>✔️ Комментарий ревьюера v1:</b> \n",
    "<br>Супер! Здесь всё верно)\n",
    "</div>"
   ]
  },
  {
   "cell_type": "markdown",
   "metadata": {},
   "source": [
    "#### Устранение выбросов"
   ]
  },
  {
   "cell_type": "markdown",
   "metadata": {},
   "source": [
    "Рассмотрим как распределены зачения в Датафрейме"
   ]
  },
  {
   "cell_type": "code",
   "execution_count": 17,
   "metadata": {},
   "outputs": [
    {
     "data": {
      "text/html": [
       "<div>\n",
       "<style scoped>\n",
       "    .dataframe tbody tr th:only-of-type {\n",
       "        vertical-align: middle;\n",
       "    }\n",
       "\n",
       "    .dataframe tbody tr th {\n",
       "        vertical-align: top;\n",
       "    }\n",
       "\n",
       "    .dataframe thead th {\n",
       "        text-align: right;\n",
       "    }\n",
       "</style>\n",
       "<table border=\"1\" class=\"dataframe\">\n",
       "  <thead>\n",
       "    <tr style=\"text-align: right;\">\n",
       "      <th></th>\n",
       "      <th>total_images</th>\n",
       "      <th>last_price</th>\n",
       "      <th>total_area</th>\n",
       "      <th>rooms</th>\n",
       "      <th>ceiling_height</th>\n",
       "      <th>floors_total</th>\n",
       "      <th>living_area</th>\n",
       "      <th>floor</th>\n",
       "      <th>kitchen_area</th>\n",
       "      <th>balcony</th>\n",
       "      <th>airports_nearest</th>\n",
       "      <th>city_centers_nearest</th>\n",
       "      <th>parks_around3000</th>\n",
       "      <th>parks_nearest</th>\n",
       "      <th>ponds_around3000</th>\n",
       "      <th>ponds_nearest</th>\n",
       "      <th>days_exposition</th>\n",
       "    </tr>\n",
       "  </thead>\n",
       "  <tbody>\n",
       "    <tr>\n",
       "      <th>count</th>\n",
       "      <td>23699.000000</td>\n",
       "      <td>2.369900e+04</td>\n",
       "      <td>23699.000000</td>\n",
       "      <td>23699.000000</td>\n",
       "      <td>23699.000000</td>\n",
       "      <td>23613.000000</td>\n",
       "      <td>21796.000000</td>\n",
       "      <td>23699.000000</td>\n",
       "      <td>21421.000000</td>\n",
       "      <td>23699.000000</td>\n",
       "      <td>18157.000000</td>\n",
       "      <td>18180.000000</td>\n",
       "      <td>18181.000000</td>\n",
       "      <td>8079.000000</td>\n",
       "      <td>18181.000000</td>\n",
       "      <td>9110.000000</td>\n",
       "      <td>20518.000000</td>\n",
       "    </tr>\n",
       "    <tr>\n",
       "      <th>mean</th>\n",
       "      <td>9.858475</td>\n",
       "      <td>6.541549e+06</td>\n",
       "      <td>60.348651</td>\n",
       "      <td>2.070636</td>\n",
       "      <td>2.724358</td>\n",
       "      <td>10.673824</td>\n",
       "      <td>34.457852</td>\n",
       "      <td>5.892358</td>\n",
       "      <td>10.569807</td>\n",
       "      <td>0.591080</td>\n",
       "      <td>28793.672193</td>\n",
       "      <td>14191.277833</td>\n",
       "      <td>0.611408</td>\n",
       "      <td>490.804555</td>\n",
       "      <td>0.770255</td>\n",
       "      <td>517.980900</td>\n",
       "      <td>180.888634</td>\n",
       "    </tr>\n",
       "    <tr>\n",
       "      <th>std</th>\n",
       "      <td>5.682529</td>\n",
       "      <td>1.088701e+07</td>\n",
       "      <td>35.654083</td>\n",
       "      <td>1.078405</td>\n",
       "      <td>0.988298</td>\n",
       "      <td>6.597173</td>\n",
       "      <td>22.030445</td>\n",
       "      <td>4.885249</td>\n",
       "      <td>5.905438</td>\n",
       "      <td>0.959298</td>\n",
       "      <td>12630.880622</td>\n",
       "      <td>8608.386210</td>\n",
       "      <td>0.802074</td>\n",
       "      <td>342.317995</td>\n",
       "      <td>0.938346</td>\n",
       "      <td>277.720643</td>\n",
       "      <td>219.727988</td>\n",
       "    </tr>\n",
       "    <tr>\n",
       "      <th>min</th>\n",
       "      <td>0.000000</td>\n",
       "      <td>1.219000e+04</td>\n",
       "      <td>12.000000</td>\n",
       "      <td>0.000000</td>\n",
       "      <td>1.000000</td>\n",
       "      <td>1.000000</td>\n",
       "      <td>2.000000</td>\n",
       "      <td>1.000000</td>\n",
       "      <td>1.300000</td>\n",
       "      <td>0.000000</td>\n",
       "      <td>0.000000</td>\n",
       "      <td>181.000000</td>\n",
       "      <td>0.000000</td>\n",
       "      <td>1.000000</td>\n",
       "      <td>0.000000</td>\n",
       "      <td>13.000000</td>\n",
       "      <td>1.000000</td>\n",
       "    </tr>\n",
       "    <tr>\n",
       "      <th>25%</th>\n",
       "      <td>6.000000</td>\n",
       "      <td>3.400000e+06</td>\n",
       "      <td>40.000000</td>\n",
       "      <td>1.000000</td>\n",
       "      <td>2.600000</td>\n",
       "      <td>5.000000</td>\n",
       "      <td>18.600000</td>\n",
       "      <td>2.000000</td>\n",
       "      <td>7.000000</td>\n",
       "      <td>0.000000</td>\n",
       "      <td>18585.000000</td>\n",
       "      <td>9238.000000</td>\n",
       "      <td>0.000000</td>\n",
       "      <td>288.000000</td>\n",
       "      <td>0.000000</td>\n",
       "      <td>294.000000</td>\n",
       "      <td>45.000000</td>\n",
       "    </tr>\n",
       "    <tr>\n",
       "      <th>50%</th>\n",
       "      <td>9.000000</td>\n",
       "      <td>4.650000e+06</td>\n",
       "      <td>52.000000</td>\n",
       "      <td>2.000000</td>\n",
       "      <td>2.650000</td>\n",
       "      <td>9.000000</td>\n",
       "      <td>30.000000</td>\n",
       "      <td>4.000000</td>\n",
       "      <td>9.100000</td>\n",
       "      <td>0.000000</td>\n",
       "      <td>26726.000000</td>\n",
       "      <td>13098.500000</td>\n",
       "      <td>0.000000</td>\n",
       "      <td>455.000000</td>\n",
       "      <td>1.000000</td>\n",
       "      <td>502.000000</td>\n",
       "      <td>95.000000</td>\n",
       "    </tr>\n",
       "    <tr>\n",
       "      <th>75%</th>\n",
       "      <td>14.000000</td>\n",
       "      <td>6.800000e+06</td>\n",
       "      <td>69.900000</td>\n",
       "      <td>3.000000</td>\n",
       "      <td>2.700000</td>\n",
       "      <td>16.000000</td>\n",
       "      <td>42.300000</td>\n",
       "      <td>8.000000</td>\n",
       "      <td>12.000000</td>\n",
       "      <td>1.000000</td>\n",
       "      <td>37273.000000</td>\n",
       "      <td>16293.000000</td>\n",
       "      <td>1.000000</td>\n",
       "      <td>612.000000</td>\n",
       "      <td>1.000000</td>\n",
       "      <td>729.000000</td>\n",
       "      <td>232.000000</td>\n",
       "    </tr>\n",
       "    <tr>\n",
       "      <th>max</th>\n",
       "      <td>50.000000</td>\n",
       "      <td>7.630000e+08</td>\n",
       "      <td>900.000000</td>\n",
       "      <td>19.000000</td>\n",
       "      <td>100.000000</td>\n",
       "      <td>60.000000</td>\n",
       "      <td>409.700000</td>\n",
       "      <td>33.000000</td>\n",
       "      <td>112.000000</td>\n",
       "      <td>5.000000</td>\n",
       "      <td>84869.000000</td>\n",
       "      <td>65968.000000</td>\n",
       "      <td>3.000000</td>\n",
       "      <td>3190.000000</td>\n",
       "      <td>3.000000</td>\n",
       "      <td>1344.000000</td>\n",
       "      <td>1580.000000</td>\n",
       "    </tr>\n",
       "  </tbody>\n",
       "</table>\n",
       "</div>"
      ],
      "text/plain": [
       "       total_images    last_price    total_area         rooms  ceiling_height  \\\n",
       "count  23699.000000  2.369900e+04  23699.000000  23699.000000    23699.000000   \n",
       "mean       9.858475  6.541549e+06     60.348651      2.070636        2.724358   \n",
       "std        5.682529  1.088701e+07     35.654083      1.078405        0.988298   \n",
       "min        0.000000  1.219000e+04     12.000000      0.000000        1.000000   \n",
       "25%        6.000000  3.400000e+06     40.000000      1.000000        2.600000   \n",
       "50%        9.000000  4.650000e+06     52.000000      2.000000        2.650000   \n",
       "75%       14.000000  6.800000e+06     69.900000      3.000000        2.700000   \n",
       "max       50.000000  7.630000e+08    900.000000     19.000000      100.000000   \n",
       "\n",
       "       floors_total   living_area         floor  kitchen_area       balcony  \\\n",
       "count  23613.000000  21796.000000  23699.000000  21421.000000  23699.000000   \n",
       "mean      10.673824     34.457852      5.892358     10.569807      0.591080   \n",
       "std        6.597173     22.030445      4.885249      5.905438      0.959298   \n",
       "min        1.000000      2.000000      1.000000      1.300000      0.000000   \n",
       "25%        5.000000     18.600000      2.000000      7.000000      0.000000   \n",
       "50%        9.000000     30.000000      4.000000      9.100000      0.000000   \n",
       "75%       16.000000     42.300000      8.000000     12.000000      1.000000   \n",
       "max       60.000000    409.700000     33.000000    112.000000      5.000000   \n",
       "\n",
       "       airports_nearest  city_centers_nearest  parks_around3000  \\\n",
       "count      18157.000000          18180.000000      18181.000000   \n",
       "mean       28793.672193          14191.277833          0.611408   \n",
       "std        12630.880622           8608.386210          0.802074   \n",
       "min            0.000000            181.000000          0.000000   \n",
       "25%        18585.000000           9238.000000          0.000000   \n",
       "50%        26726.000000          13098.500000          0.000000   \n",
       "75%        37273.000000          16293.000000          1.000000   \n",
       "max        84869.000000          65968.000000          3.000000   \n",
       "\n",
       "       parks_nearest  ponds_around3000  ponds_nearest  days_exposition  \n",
       "count    8079.000000      18181.000000    9110.000000     20518.000000  \n",
       "mean      490.804555          0.770255     517.980900       180.888634  \n",
       "std       342.317995          0.938346     277.720643       219.727988  \n",
       "min         1.000000          0.000000      13.000000         1.000000  \n",
       "25%       288.000000          0.000000     294.000000        45.000000  \n",
       "50%       455.000000          1.000000     502.000000        95.000000  \n",
       "75%       612.000000          1.000000     729.000000       232.000000  \n",
       "max      3190.000000          3.000000    1344.000000      1580.000000  "
      ]
     },
     "execution_count": 17,
     "metadata": {},
     "output_type": "execute_result"
    }
   ],
   "source": [
    "data.describe()"
   ]
  },
  {
   "cell_type": "markdown",
   "metadata": {},
   "source": [
    "#### Найдем и устраним редкие и выбивающиеся из логики значения ####\n",
    "\n",
    "Все нормально с данными в столбцах: \n",
    "\n",
    "total_images\n",
    "floors_total\n",
    "floor\n",
    "balcony\tairports_nearest\t\n",
    "city_centers_nearest\t\n",
    "parks_around3000\t\n",
    "parks_nearest\n",
    "ponds_around3000\t\n",
    "ponds_nearest\t\n",
    "days_expositi"
   ]
  },
  {
   "cell_type": "markdown",
   "metadata": {},
   "source": [
    "Столбец last_price - посмотрим на квартиры от 0 до 20 млн руб.,\n",
    "Квартир стоимостью 0 - нет. Есть одна квартира стоимостью меньше 100 000, её мы учитывать не будем.\n",
    "225 квартир стоимостью меньше 1 млн - не похоже на выброс, оставляем.\n",
    "Убираем слишком дорогие квартиры стоимостью больше 100.000.000."
   ]
  },
  {
   "cell_type": "code",
   "execution_count": 18,
   "metadata": {},
   "outputs": [
    {
     "name": "stdout",
     "output_type": "stream",
     "text": [
      "Квартир стоимостью 0: 0\n",
      "Квартир стоимостью меньше 100.000: 1\n",
      "Квартир стоимостью больше 100.000.000: 37\n",
      "Квартир стоимостью больше 100.000.000: 37\n"
     ]
    }
   ],
   "source": [
    "print('Квартир стоимостью 0:', data.query('last_price == 0')['last_price'].count())\n",
    "print('Квартир стоимостью меньше 100.000:', data.query('last_price < 100000')['last_price'].count())\n",
    "print('Квартир стоимостью больше 100.000.000:', data.query('last_price > 100000000')['last_price'].count())\n",
    "print('Квартир стоимостью больше 100.000.000:', data.query('last_price > 100000000')['last_price'].count())\n",
    "data.drop(index=data.query('last_price > 100000000').index,inplace=True)"
   ]
  },
  {
   "cell_type": "markdown",
   "metadata": {},
   "source": [
    "total_area - нет квартир площадью меньше 10 кв.м., но есть меньше 20 , что похоже не является ошибкой.\n",
    "На других сайтах по недвижимости (например cian), такие квартиры тоже есть.\n",
    "Квартиры со слишком большой площадью более 500 кв.м. лучше удалить."
   ]
  },
  {
   "cell_type": "code",
   "execution_count": 19,
   "metadata": {},
   "outputs": [
    {
     "name": "stdout",
     "output_type": "stream",
     "text": [
      "Квартир площадью менее 10 кв.м.: 0\n",
      "Квартир площадью более 500 кв.м.: 3\n"
     ]
    },
    {
     "data": {
      "image/png": "[encoded data removed]",
      "text/plain": [
       "<Figure size 432x288 with 1 Axes>"
      ]
     },
     "metadata": {
      "needs_background": "light"
     },
     "output_type": "display_data"
    },
    {
     "data": {
      "image/png": "[encoded data removed]",
      "text/plain": [
       "<Figure size 432x288 with 1 Axes>"
      ]
     },
     "metadata": {
      "needs_background": "light"
     },
     "output_type": "display_data"
    }
   ],
   "source": [
    "print('Квартир площадью менее 10 кв.м.:',data.query('total_area < 10')['total_area'].count()) \n",
    "print('Квартир площадью более 500 кв.м.:',data.query('total_area > 500')['total_area'].count())\n",
    "\n",
    "data.drop(index=data.query('total_area > 500').index,inplace=True)\n",
    "\n",
    "data.hist('total_area', bins=50, range=(0,900));\n",
    "data.hist('total_area', bins=50, range=(0,100));"
   ]
  },
  {
   "cell_type": "markdown",
   "metadata": {},
   "source": [
    "rooms - есть нулевые значения, 195.\n",
    "Проверим, может это студии, апартаменты или свободная планировка?\n",
    "Похоже так и есть.\n",
    "Квартиры без комнат не апартаменты и не свободная планировка - 0.\n",
    "Максимальное значение аж 19 комнат, но такое тоже бывает."
   ]
  },
  {
   "cell_type": "code",
   "execution_count": 20,
   "metadata": {},
   "outputs": [
    {
     "name": "stdout",
     "output_type": "stream",
     "text": [
      "Квартиры без комнат: 197\n",
      "Квартиры без комнат и студии: 138\n",
      "Квартиры без комнат и апартаменты: 0\n",
      "Квартиры без комнат и свободная планировка: 59\n",
      "Квартиры без комнат не апартаменты и не свободная планировка: 0\n"
     ]
    }
   ],
   "source": [
    "print('Квартиры без комнат:',data.query('rooms == 0')['rooms'].count())\n",
    "\n",
    "print('Квартиры без комнат и студии:',data.query('rooms == 0 and studio')['rooms'].count()) \n",
    "\n",
    "print('Квартиры без комнат и апартаменты:',data.query('rooms == 0 and is_apartment')['rooms'].count()) \n",
    "\n",
    "print('Квартиры без комнат и свободная планировка:',data.query('rooms == 0 and open_plan')['rooms'].count())\n",
    "\n",
    "print('Квартиры без комнат не апартаменты и не свободная планировка:',data.query('rooms == 0 and ~open_plan and ~studio')['rooms'].count())\n",
    "\n",
    "data.drop(index=data.query('rooms > 7').index,inplace=True)"
   ]
  },
  {
   "cell_type": "markdown",
   "metadata": {},
   "source": [
    "ceiling_height - высота потолков.\n",
    "В жилых домах устанавливается с учетом минимальных требований, установленных СНиПом и комфортного пребывания в нем.\n",
    "Независимо от года постройки и от типа здания, высота от пола до потолка должна быть в пределах 2,5-3,2 метров.\n",
    "\n",
    "Можно предположить, что квартиры с высотой потолков 25-36м на самом деле являются опечаткой и соотвествуют 2.5-3.6м\n",
    "Исходя их этого предполагаем, что все квартиры с высотой потолков от 36м являются выбросами."
   ]
  },
  {
   "cell_type": "code",
   "execution_count": 21,
   "metadata": {},
   "outputs": [
    {
     "name": "stdout",
     "output_type": "stream",
     "text": [
      "Квартир с потолками от 4 до 5м: 36 шт.\n",
      "Квартир с потолками от 5 до 25м: 14 шт.\n",
      "Квартир с потолками от 25м до 36м: 19 шт.\n",
      "Квартир с потолками от 25м до 36м: 0 шт.\n",
      "Квартир с потолками от 50м: 1 шт.\n"
     ]
    }
   ],
   "source": [
    "print('Квартир с потолками от 4 до 5м: ' + str(data.query('ceiling_height > 4 and ceiling_height <= 5')['ceiling_height'].count()) + ' шт.')\n",
    "print('Квартир с потолками от 5 до 25м: ' + str(data.query('ceiling_height > 5 and ceiling_height < 25')['ceiling_height'].count()) + ' шт.')\n",
    "print('Квартир с потолками от 25м до 36м: ' + str(data.query('ceiling_height >= 25 and ceiling_height <= 36')['ceiling_height'].count()) + ' шт.')\n",
    "print('Квартир с потолками от 25м до 36м: ' + str(data.query('ceiling_height > 36 and ceiling_height < 50')['ceiling_height'].count()) + ' шт.')\n",
    "print('Квартир с потолками от 50м: ' + str(data.query('ceiling_height >= 50')['ceiling_height'].count()) + ' шт.')"
   ]
  },
  {
   "cell_type": "markdown",
   "metadata": {},
   "source": [
    "Удаляем квартиры с высотой потолков от 4 до 25метров.\n",
    "Для квартир с высотой потолков до 25 до 36 метров предполагаем, что это опечатка и делим на 10, получая 2.5 и 3.6 метра.\n",
    "Удаляем квартиры с высотой потолков от 36 метров."
   ]
  },
  {
   "cell_type": "code",
   "execution_count": 22,
   "metadata": {},
   "outputs": [],
   "source": [
    "data.drop(index=data.query('ceiling_height > 4 and ceiling_height < 25').index,inplace=True)\n",
    "\n",
    "data.update(data[(data['ceiling_height'] >= 25) & (data['ceiling_height'] <= 36)]['ceiling_height']/10)\n",
    "\n",
    "data.drop(index=data.query('ceiling_height > 36').index,inplace=True)"
   ]
  },
  {
   "cell_type": "markdown",
   "metadata": {},
   "source": [
    "living_area - Имеем большое количество квартир с жилой площадью от 10 до 60 кв.м.\n",
    "Здесь интерсуют квартиры с жилой площадью меньше 10 кв.м. их 25!\n",
    "Судя по гистограмме есть даже с с жилой площадью 2 кв.м.\n",
    "Отбросим значения с жилой площадью меньше 10кв.м. и с площадью более 200 кв.м."
   ]
  },
  {
   "cell_type": "code",
   "execution_count": 23,
   "metadata": {},
   "outputs": [
    {
     "name": "stdout",
     "output_type": "stream",
     "text": [
      "Жилая площадь меньше 10 кв.м.:  25\n",
      "Жилая площадь больше общей:  0\n",
      "Жилая площадь больше 200:  12\n"
     ]
    }
   ],
   "source": [
    "print('Жилая площадь меньше 10 кв.м.: ',data.query('living_area < 10')['living_area'].count())\n",
    "print('Жилая площадь больше общей: ',data.query('living_area > total_area')['living_area'].count())\n",
    "print('Жилая площадь больше 200: ',data.query('living_area > 200')['living_area'].count())\n",
    "\n",
    "data.drop(index=data.query('living_area < 10').index,inplace=True)\n",
    "data.drop(index=data.query('living_area > 200').index,inplace=True)"
   ]
  },
  {
   "cell_type": "markdown",
   "metadata": {},
   "source": [
    "kitchen_area - площадь кухни. Здесь есть одна квартира с площадью кухни меньше 1 кв. метра. Явно аномалия.\n",
    "Немало кухонь с площадью 5 кв.м. Кухонь с площадью более 30 кв.м. довольно мало.\n",
    "Удалим строки с кухнами менее 2кв.м. и больше 50кв.м."
   ]
  },
  {
   "cell_type": "code",
   "execution_count": 24,
   "metadata": {},
   "outputs": [
    {
     "name": "stdout",
     "output_type": "stream",
     "text": [
      "Площадь кухни меньше 2 кв.м.:  1\n",
      "Площадь кухни 5 кв.м.:  352\n",
      "Площадь кухни больше 50 кв.м.:  33\n",
      "Площадь кухни больше общей:  0\n"
     ]
    }
   ],
   "source": [
    "print('Площадь кухни меньше 2 кв.м.: ',data.query('kitchen_area < 2')['living_area'].count())\n",
    "print('Площадь кухни 5 кв.м.: ',data.query('kitchen_area == 5')['living_area'].count())\n",
    "print('Площадь кухни больше 50 кв.м.: ',data.query('kitchen_area > 50')['living_area'].count())\n",
    "print('Площадь кухни больше общей: ',data.query('kitchen_area > total_area')['living_area'].count())\n",
    "\n",
    "data.drop(index=data.query('kitchen_area < 2').index,inplace=True)\n",
    "data.drop(index=data.query('kitchen_area > 50').index,inplace=True)\n"
   ]
  },
  {
   "cell_type": "markdown",
   "metadata": {},
   "source": [
    "days_exposition - сколько дней было размещено объявление видим, что в целом график нормальный. Нулевых значений нет. Объявления, которые висели дольше 3-х лет отбросим."
   ]
  },
  {
   "cell_type": "code",
   "execution_count": 25,
   "metadata": {},
   "outputs": [
    {
     "name": "stdout",
     "output_type": "stream",
     "text": [
      "Объявление не было оопубликовано:  0\n",
      "Объявлению больше 3 лет :  165\n"
     ]
    }
   ],
   "source": [
    "print('Объявление не было оопубликовано: ',data.query('days_exposition == 0')['days_exposition'].count())\n",
    "\n",
    "print('Объявлению больше 3 лет : ',data.query('days_exposition > 365*3')['days_exposition'].count())\n",
    "\n",
    "data.drop(index=data.query('days_exposition > 365*3').index,inplace=True)"
   ]
  },
  {
   "cell_type": "markdown",
   "metadata": {},
   "source": [
    "Cбросим индексацию после удаления строк."
   ]
  },
  {
   "cell_type": "code",
   "execution_count": 26,
   "metadata": {},
   "outputs": [],
   "source": [
    "data.reset_index(drop=True,inplace=True)"
   ]
  },
  {
   "cell_type": "markdown",
   "metadata": {},
   "source": [
    "Еще раз посмотрим на данные."
   ]
  },
  {
   "cell_type": "code",
   "execution_count": 27,
   "metadata": {},
   "outputs": [
    {
     "name": "stdout",
     "output_type": "stream",
     "text": [
      "<class 'pandas.core.frame.DataFrame'>\n",
      "RangeIndex: 23344 entries, 0 to 23343\n",
      "Data columns (total 22 columns):\n",
      " #   Column                Non-Null Count  Dtype         \n",
      "---  ------                --------------  -----         \n",
      " 0   total_images          23344 non-null  int64         \n",
      " 1   last_price            23344 non-null  int64         \n",
      " 2   total_area            23344 non-null  float64       \n",
      " 3   first_day_exposition  23344 non-null  datetime64[ns]\n",
      " 4   rooms                 23344 non-null  int64         \n",
      " 5   ceiling_height        23344 non-null  float64       \n",
      " 6   floors_total          23260 non-null  Int8          \n",
      " 7   living_area           21467 non-null  float64       \n",
      " 8   floor                 23344 non-null  int64         \n",
      " 9   is_apartment          20612 non-null  object        \n",
      " 10  studio                23344 non-null  bool          \n",
      " 11  open_plan             23344 non-null  bool          \n",
      " 12  kitchen_area          21097 non-null  float64       \n",
      " 13  balcony               23344 non-null  int8          \n",
      " 14  locality_name         23295 non-null  object        \n",
      " 15  airports_nearest      17834 non-null  float64       \n",
      " 16  city_centers_nearest  17854 non-null  float64       \n",
      " 17  parks_around3000      17855 non-null  float64       \n",
      " 18  parks_nearest         7880 non-null   float64       \n",
      " 19  ponds_around3000      17855 non-null  float64       \n",
      " 20  ponds_nearest         8899 non-null   float64       \n",
      " 21  days_exposition       20194 non-null  Int64         \n",
      "dtypes: Int64(1), Int8(1), bool(2), datetime64[ns](1), float64(10), int64(4), int8(1), object(2)\n",
      "memory usage: 3.3+ MB\n"
     ]
    }
   ],
   "source": [
    "data.info()"
   ]
  },
  {
   "cell_type": "markdown",
   "metadata": {},
   "source": [
    "### Посчитайте и добавьте в таблицу новые столбцы"
   ]
  },
  {
   "cell_type": "markdown",
   "metadata": {},
   "source": [
    "цена одного квадратного метра"
   ]
  },
  {
   "cell_type": "code",
   "execution_count": 28,
   "metadata": {},
   "outputs": [],
   "source": [
    "data['cost_per_sqm'] = data['last_price'] / data['total_area']"
   ]
  },
  {
   "cell_type": "markdown",
   "metadata": {},
   "source": [
    "день публикации объявления (0 - понедельник, 1 - вторник и т.д.)"
   ]
  },
  {
   "cell_type": "code",
   "execution_count": 29,
   "metadata": {},
   "outputs": [],
   "source": [
    "data['dayofweek'] = data['first_day_exposition'].dt.dayofweek"
   ]
  },
  {
   "cell_type": "markdown",
   "metadata": {},
   "source": [
    "месяц публикации объявления"
   ]
  },
  {
   "cell_type": "code",
   "execution_count": 30,
   "metadata": {},
   "outputs": [],
   "source": [
    "data['month'] = data['first_day_exposition'].dt.month"
   ]
  },
  {
   "cell_type": "markdown",
   "metadata": {},
   "source": [
    "год публикации объявления"
   ]
  },
  {
   "cell_type": "code",
   "execution_count": 31,
   "metadata": {},
   "outputs": [],
   "source": [
    "data['year'] = data['first_day_exposition'].dt.year"
   ]
  },
  {
   "cell_type": "markdown",
   "metadata": {},
   "source": [
    "тип этажа квартиры (значения — «первый», «последний», «другой»)"
   ]
  },
  {
   "cell_type": "code",
   "execution_count": 32,
   "metadata": {},
   "outputs": [
    {
     "data": {
      "text/plain": [
       "floor\n",
       "2     3306\n",
       "3     3027\n",
       "1     2883\n",
       "4     2749\n",
       "5     2577\n",
       "6     1284\n",
       "7     1193\n",
       "8     1070\n",
       "9     1041\n",
       "10     681\n",
       "12     521\n",
       "11     518\n",
       "13     375\n",
       "15     340\n",
       "14     332\n",
       "16     312\n",
       "17     225\n",
       "18     177\n",
       "19     146\n",
       "21     122\n",
       "22     111\n",
       "20     109\n",
       "23      99\n",
       "24      63\n",
       "25      44\n",
       "26      23\n",
       "27      10\n",
       "28       1\n",
       "29       1\n",
       "30       1\n",
       "31       1\n",
       "32       1\n",
       "33       1\n",
       "Name: floor, dtype: int64"
      ]
     },
     "execution_count": 32,
     "metadata": {},
     "output_type": "execute_result"
    }
   ],
   "source": [
    "# вспомогательный код\n",
    "#print(data['floor'])\n",
    "data.groupby(by='floor')['floor'].count().sort_values(ascending=False)"
   ]
  },
  {
   "cell_type": "code",
   "execution_count": 33,
   "metadata": {},
   "outputs": [],
   "source": [
    "data['floor_category'] = data.apply(\n",
    "    lambda x: 'первый' if (x.floor == 1) \n",
    "    else ('последний' if (x.floor == x.floors_total) & isinstance(x.floors_total,int) \n",
    "    else 'другой'), axis=1\n",
    ")\n",
    "\n",
    "data['floor_category_digit'] = data.apply(\n",
    "    lambda x: 0 if (x.floor == 1) \n",
    "    else (2 if (x.floor == x.floors_total) & isinstance(x.floors_total,int) \n",
    "    else 1), axis=1\n",
    ")"
   ]
  },
  {
   "cell_type": "code",
   "execution_count": 34,
   "metadata": {},
   "outputs": [
    {
     "data": {
      "text/plain": [
       "<bound method IndexOpsMixin.value_counts of 0        другой\n",
       "1        первый\n",
       "2        другой\n",
       "3        другой\n",
       "4        другой\n",
       "          ...  \n",
       "23339    другой\n",
       "23340    другой\n",
       "23341    первый\n",
       "23342    другой\n",
       "23343    первый\n",
       "Name: floor_category, Length: 23344, dtype: object>"
      ]
     },
     "execution_count": 34,
     "metadata": {},
     "output_type": "execute_result"
    }
   ],
   "source": [
    "data['floor_category'].value_counts "
   ]
  },
  {
   "cell_type": "markdown",
   "metadata": {},
   "source": [
    "расстояние до центра города в километрах (переведите из м в км и округлите до целых значений)."
   ]
  },
  {
   "cell_type": "code",
   "execution_count": 35,
   "metadata": {},
   "outputs": [
    {
     "name": "stdout",
     "output_type": "stream",
     "text": [
      "city_centers_nearest_km ok\n"
     ]
    }
   ],
   "source": [
    "data['city_centers_nearest_km'] = round(data['city_centers_nearest'] / 1000)\n",
    "try:\n",
    "    data['city_centers_nearest_km'] =  data['city_centers_nearest_km'].astype('Int32')\n",
    "    print('city_centers_nearest_km ok')\n",
    "except:\n",
    "    print('city_centers_nearest_km Int32 type conversion fail')"
   ]
  },
  {
   "cell_type": "markdown",
   "metadata": {},
   "source": [
    "### Проведите исследовательский анализ данных"
   ]
  },
  {
   "cell_type": "markdown",
   "metadata": {},
   "source": [
    "#### Изучите параметры объектов"
   ]
  },
  {
   "cell_type": "markdown",
   "metadata": {},
   "source": [
    "Рассмотрим получившийся Датасет"
   ]
  },
  {
   "cell_type": "code",
   "execution_count": 36,
   "metadata": {},
   "outputs": [
    {
     "data": {
      "text/html": [
       "<div>\n",
       "<style scoped>\n",
       "    .dataframe tbody tr th:only-of-type {\n",
       "        vertical-align: middle;\n",
       "    }\n",
       "\n",
       "    .dataframe tbody tr th {\n",
       "        vertical-align: top;\n",
       "    }\n",
       "\n",
       "    .dataframe thead th {\n",
       "        text-align: right;\n",
       "    }\n",
       "</style>\n",
       "<table border=\"1\" class=\"dataframe\">\n",
       "  <thead>\n",
       "    <tr style=\"text-align: right;\">\n",
       "      <th></th>\n",
       "      <th>total_images</th>\n",
       "      <th>last_price</th>\n",
       "      <th>total_area</th>\n",
       "      <th>rooms</th>\n",
       "      <th>ceiling_height</th>\n",
       "      <th>floors_total</th>\n",
       "      <th>living_area</th>\n",
       "      <th>floor</th>\n",
       "      <th>kitchen_area</th>\n",
       "      <th>balcony</th>\n",
       "      <th>airports_nearest</th>\n",
       "      <th>city_centers_nearest</th>\n",
       "      <th>parks_around3000</th>\n",
       "      <th>parks_nearest</th>\n",
       "      <th>ponds_around3000</th>\n",
       "      <th>ponds_nearest</th>\n",
       "      <th>days_exposition</th>\n",
       "      <th>cost_per_sqm</th>\n",
       "      <th>dayofweek</th>\n",
       "      <th>month</th>\n",
       "      <th>year</th>\n",
       "      <th>floor_category_digit</th>\n",
       "      <th>city_centers_nearest_km</th>\n",
       "    </tr>\n",
       "  </thead>\n",
       "  <tbody>\n",
       "    <tr>\n",
       "      <th>count</th>\n",
       "      <td>23344.000000</td>\n",
       "      <td>2.334400e+04</td>\n",
       "      <td>23344.000000</td>\n",
       "      <td>23344.000000</td>\n",
       "      <td>23344.000000</td>\n",
       "      <td>23260.000000</td>\n",
       "      <td>21467.000000</td>\n",
       "      <td>23344.000000</td>\n",
       "      <td>21097.000000</td>\n",
       "      <td>23344.000000</td>\n",
       "      <td>17834.000000</td>\n",
       "      <td>17854.000000</td>\n",
       "      <td>17855.000000</td>\n",
       "      <td>7880.000000</td>\n",
       "      <td>17855.000000</td>\n",
       "      <td>8899.000000</td>\n",
       "      <td>20194.000000</td>\n",
       "      <td>23344.000000</td>\n",
       "      <td>23344.000000</td>\n",
       "      <td>23344.000000</td>\n",
       "      <td>23344.000000</td>\n",
       "      <td>23344.000000</td>\n",
       "      <td>17854.000000</td>\n",
       "    </tr>\n",
       "    <tr>\n",
       "      <th>mean</th>\n",
       "      <td>9.855552</td>\n",
       "      <td>6.101167e+06</td>\n",
       "      <td>59.044296</td>\n",
       "      <td>2.047850</td>\n",
       "      <td>2.690516</td>\n",
       "      <td>10.701634</td>\n",
       "      <td>33.738735</td>\n",
       "      <td>5.899803</td>\n",
       "      <td>10.369187</td>\n",
       "      <td>0.592786</td>\n",
       "      <td>28817.701581</td>\n",
       "      <td>14271.285034</td>\n",
       "      <td>0.604088</td>\n",
       "      <td>490.495558</td>\n",
       "      <td>0.762251</td>\n",
       "      <td>520.283403</td>\n",
       "      <td>171.340398</td>\n",
       "      <td>98124.810935</td>\n",
       "      <td>2.572481</td>\n",
       "      <td>6.400403</td>\n",
       "      <td>2017.387166</td>\n",
       "      <td>1.016107</td>\n",
       "      <td>14.264871</td>\n",
       "    </tr>\n",
       "    <tr>\n",
       "      <th>std</th>\n",
       "      <td>5.674679</td>\n",
       "      <td>5.918501e+06</td>\n",
       "      <td>30.331663</td>\n",
       "      <td>1.019737</td>\n",
       "      <td>0.200877</td>\n",
       "      <td>6.603241</td>\n",
       "      <td>19.120833</td>\n",
       "      <td>4.889704</td>\n",
       "      <td>5.117656</td>\n",
       "      <td>0.959467</td>\n",
       "      <td>12672.764831</td>\n",
       "      <td>8577.965653</td>\n",
       "      <td>0.795920</td>\n",
       "      <td>339.676113</td>\n",
       "      <td>0.932461</td>\n",
       "      <td>277.820486</td>\n",
       "      <td>197.065815</td>\n",
       "      <td>42175.128649</td>\n",
       "      <td>1.790216</td>\n",
       "      <td>3.487288</td>\n",
       "      <td>1.019847</td>\n",
       "      <td>0.512699</td>\n",
       "      <td>8.585498</td>\n",
       "    </tr>\n",
       "    <tr>\n",
       "      <th>min</th>\n",
       "      <td>0.000000</td>\n",
       "      <td>1.219000e+04</td>\n",
       "      <td>12.000000</td>\n",
       "      <td>0.000000</td>\n",
       "      <td>1.000000</td>\n",
       "      <td>1.000000</td>\n",
       "      <td>10.000000</td>\n",
       "      <td>1.000000</td>\n",
       "      <td>2.000000</td>\n",
       "      <td>0.000000</td>\n",
       "      <td>0.000000</td>\n",
       "      <td>181.000000</td>\n",
       "      <td>0.000000</td>\n",
       "      <td>1.000000</td>\n",
       "      <td>0.000000</td>\n",
       "      <td>13.000000</td>\n",
       "      <td>1.000000</td>\n",
       "      <td>111.834862</td>\n",
       "      <td>0.000000</td>\n",
       "      <td>1.000000</td>\n",
       "      <td>2014.000000</td>\n",
       "      <td>0.000000</td>\n",
       "      <td>0.000000</td>\n",
       "    </tr>\n",
       "    <tr>\n",
       "      <th>25%</th>\n",
       "      <td>6.000000</td>\n",
       "      <td>3.400000e+06</td>\n",
       "      <td>40.000000</td>\n",
       "      <td>1.000000</td>\n",
       "      <td>2.600000</td>\n",
       "      <td>5.000000</td>\n",
       "      <td>18.600000</td>\n",
       "      <td>2.000000</td>\n",
       "      <td>7.000000</td>\n",
       "      <td>0.000000</td>\n",
       "      <td>18510.000000</td>\n",
       "      <td>9415.250000</td>\n",
       "      <td>0.000000</td>\n",
       "      <td>288.000000</td>\n",
       "      <td>0.000000</td>\n",
       "      <td>297.000000</td>\n",
       "      <td>44.000000</td>\n",
       "      <td>76452.018602</td>\n",
       "      <td>1.000000</td>\n",
       "      <td>3.000000</td>\n",
       "      <td>2017.000000</td>\n",
       "      <td>1.000000</td>\n",
       "      <td>9.000000</td>\n",
       "    </tr>\n",
       "    <tr>\n",
       "      <th>50%</th>\n",
       "      <td>9.000000</td>\n",
       "      <td>4.600000e+06</td>\n",
       "      <td>52.000000</td>\n",
       "      <td>2.000000</td>\n",
       "      <td>2.650000</td>\n",
       "      <td>9.000000</td>\n",
       "      <td>30.000000</td>\n",
       "      <td>4.000000</td>\n",
       "      <td>9.000000</td>\n",
       "      <td>0.000000</td>\n",
       "      <td>26798.000000</td>\n",
       "      <td>13149.000000</td>\n",
       "      <td>0.000000</td>\n",
       "      <td>455.000000</td>\n",
       "      <td>0.000000</td>\n",
       "      <td>504.000000</td>\n",
       "      <td>93.000000</td>\n",
       "      <td>94789.198262</td>\n",
       "      <td>3.000000</td>\n",
       "      <td>6.000000</td>\n",
       "      <td>2017.000000</td>\n",
       "      <td>1.000000</td>\n",
       "      <td>13.000000</td>\n",
       "    </tr>\n",
       "    <tr>\n",
       "      <th>75%</th>\n",
       "      <td>14.000000</td>\n",
       "      <td>6.700000e+06</td>\n",
       "      <td>69.000000</td>\n",
       "      <td>3.000000</td>\n",
       "      <td>2.700000</td>\n",
       "      <td>16.000000</td>\n",
       "      <td>42.000000</td>\n",
       "      <td>8.000000</td>\n",
       "      <td>12.000000</td>\n",
       "      <td>1.000000</td>\n",
       "      <td>37347.000000</td>\n",
       "      <td>16330.500000</td>\n",
       "      <td>1.000000</td>\n",
       "      <td>612.000000</td>\n",
       "      <td>1.000000</td>\n",
       "      <td>733.000000</td>\n",
       "      <td>224.000000</td>\n",
       "      <td>113740.173260</td>\n",
       "      <td>4.000000</td>\n",
       "      <td>10.000000</td>\n",
       "      <td>2018.000000</td>\n",
       "      <td>1.000000</td>\n",
       "      <td>16.000000</td>\n",
       "    </tr>\n",
       "    <tr>\n",
       "      <th>max</th>\n",
       "      <td>50.000000</td>\n",
       "      <td>9.900000e+07</td>\n",
       "      <td>494.100000</td>\n",
       "      <td>7.000000</td>\n",
       "      <td>4.000000</td>\n",
       "      <td>60.000000</td>\n",
       "      <td>200.000000</td>\n",
       "      <td>33.000000</td>\n",
       "      <td>50.000000</td>\n",
       "      <td>5.000000</td>\n",
       "      <td>84853.000000</td>\n",
       "      <td>65952.000000</td>\n",
       "      <td>3.000000</td>\n",
       "      <td>3190.000000</td>\n",
       "      <td>3.000000</td>\n",
       "      <td>1344.000000</td>\n",
       "      <td>1095.000000</td>\n",
       "      <td>848484.848485</td>\n",
       "      <td>6.000000</td>\n",
       "      <td>12.000000</td>\n",
       "      <td>2019.000000</td>\n",
       "      <td>2.000000</td>\n",
       "      <td>66.000000</td>\n",
       "    </tr>\n",
       "  </tbody>\n",
       "</table>\n",
       "</div>"
      ],
      "text/plain": [
       "       total_images    last_price    total_area         rooms  ceiling_height  \\\n",
       "count  23344.000000  2.334400e+04  23344.000000  23344.000000    23344.000000   \n",
       "mean       9.855552  6.101167e+06     59.044296      2.047850        2.690516   \n",
       "std        5.674679  5.918501e+06     30.331663      1.019737        0.200877   \n",
       "min        0.000000  1.219000e+04     12.000000      0.000000        1.000000   \n",
       "25%        6.000000  3.400000e+06     40.000000      1.000000        2.600000   \n",
       "50%        9.000000  4.600000e+06     52.000000      2.000000        2.650000   \n",
       "75%       14.000000  6.700000e+06     69.000000      3.000000        2.700000   \n",
       "max       50.000000  9.900000e+07    494.100000      7.000000        4.000000   \n",
       "\n",
       "       floors_total   living_area         floor  kitchen_area       balcony  \\\n",
       "count  23260.000000  21467.000000  23344.000000  21097.000000  23344.000000   \n",
       "mean      10.701634     33.738735      5.899803     10.369187      0.592786   \n",
       "std        6.603241     19.120833      4.889704      5.117656      0.959467   \n",
       "min        1.000000     10.000000      1.000000      2.000000      0.000000   \n",
       "25%        5.000000     18.600000      2.000000      7.000000      0.000000   \n",
       "50%        9.000000     30.000000      4.000000      9.000000      0.000000   \n",
       "75%       16.000000     42.000000      8.000000     12.000000      1.000000   \n",
       "max       60.000000    200.000000     33.000000     50.000000      5.000000   \n",
       "\n",
       "       airports_nearest  city_centers_nearest  parks_around3000  \\\n",
       "count      17834.000000          17854.000000      17855.000000   \n",
       "mean       28817.701581          14271.285034          0.604088   \n",
       "std        12672.764831           8577.965653          0.795920   \n",
       "min            0.000000            181.000000          0.000000   \n",
       "25%        18510.000000           9415.250000          0.000000   \n",
       "50%        26798.000000          13149.000000          0.000000   \n",
       "75%        37347.000000          16330.500000          1.000000   \n",
       "max        84853.000000          65952.000000          3.000000   \n",
       "\n",
       "       parks_nearest  ponds_around3000  ponds_nearest  days_exposition  \\\n",
       "count    7880.000000      17855.000000    8899.000000     20194.000000   \n",
       "mean      490.495558          0.762251     520.283403       171.340398   \n",
       "std       339.676113          0.932461     277.820486       197.065815   \n",
       "min         1.000000          0.000000      13.000000         1.000000   \n",
       "25%       288.000000          0.000000     297.000000        44.000000   \n",
       "50%       455.000000          0.000000     504.000000        93.000000   \n",
       "75%       612.000000          1.000000     733.000000       224.000000   \n",
       "max      3190.000000          3.000000    1344.000000      1095.000000   \n",
       "\n",
       "        cost_per_sqm     dayofweek         month          year  \\\n",
       "count   23344.000000  23344.000000  23344.000000  23344.000000   \n",
       "mean    98124.810935      2.572481      6.400403   2017.387166   \n",
       "std     42175.128649      1.790216      3.487288      1.019847   \n",
       "min       111.834862      0.000000      1.000000   2014.000000   \n",
       "25%     76452.018602      1.000000      3.000000   2017.000000   \n",
       "50%     94789.198262      3.000000      6.000000   2017.000000   \n",
       "75%    113740.173260      4.000000     10.000000   2018.000000   \n",
       "max    848484.848485      6.000000     12.000000   2019.000000   \n",
       "\n",
       "       floor_category_digit  city_centers_nearest_km  \n",
       "count          23344.000000             17854.000000  \n",
       "mean               1.016107                14.264871  \n",
       "std                0.512699                 8.585498  \n",
       "min                0.000000                 0.000000  \n",
       "25%                1.000000                 9.000000  \n",
       "50%                1.000000                13.000000  \n",
       "75%                1.000000                16.000000  \n",
       "max                2.000000                66.000000  "
      ]
     },
     "execution_count": 36,
     "metadata": {},
     "output_type": "execute_result"
    }
   ],
   "source": [
    "data.describe()"
   ]
  },
  {
   "cell_type": "markdown",
   "metadata": {},
   "source": [
    "######Изучим следующие параметры объектов и построим отдельные гистограммы для каждого из параметров:######\n",
    "общая площадь;\n",
    "жилая площадь;\n",
    "площадь кухни;\n",
    "цена объекта;\n",
    "количество комнат;\n",
    "высота потолков;\n",
    "этаж квартиры;\n",
    "тип этажа квартиры («первый», «последний», «другой»);\n",
    "общее количество этажей в доме;\n",
    "расстояние до центра города в метрах;\n",
    "расстояние до ближайшего аэропорта;\n",
    "расстояние до ближайшего парка;\n",
    "день и месяц публикации объявления."
   ]
  },
  {
   "cell_type": "code",
   "execution_count": 37,
   "metadata": {},
   "outputs": [
    {
     "data": {
      "text/plain": [
       "array([[<AxesSubplot:title={'center':'month'}>]], dtype=object)"
      ]
     },
     "execution_count": 37,
     "metadata": {},
     "output_type": "execute_result"
    },
    {
     "data": {
      "image/png": "[encoded data removed]",
      "text/plain": [
       "<Figure size 432x288 with 1 Axes>"
      ]
     },
     "metadata": {
      "needs_background": "light"
     },
     "output_type": "display_data"
    },
    {
     "data": {
      "image/png": "[encoded data removed]",
      "text/plain": [
       "<Figure size 432x288 with 1 Axes>"
      ]
     },
     "metadata": {
      "needs_background": "light"
     },
     "output_type": "display_data"
    },
    {
     "data": {
      "image/png": "[encoded data removed]",
      "text/plain": [
       "<Figure size 432x288 with 1 Axes>"
      ]
     },
     "metadata": {
      "needs_background": "light"
     },
     "output_type": "display_data"
    },
    {
     "data": {
      "image/png": "[encoded data removed]",
      "text/plain": [
       "<Figure size 432x288 with 1 Axes>"
      ]
     },
     "metadata": {
      "needs_background": "light"
     },
     "output_type": "display_data"
    },
    {
     "data": {
      "image/png": "[encoded data removed]",
      "text/plain": [
       "<Figure size 432x288 with 1 Axes>"
      ]
     },
     "metadata": {
      "needs_background": "light"
     },
     "output_type": "display_data"
    },
    {
     "data": {
      "image/png": "[encoded data removed]",
      "text/plain": [
       "<Figure size 432x288 with 1 Axes>"
      ]
     },
     "metadata": {
      "needs_background": "light"
     },
     "output_type": "display_data"
    },
    {
     "data": {
      "image/png": "[encoded data removed]",
      "text/plain": [
       "<Figure size 432x288 with 1 Axes>"
      ]
     },
     "metadata": {
      "needs_background": "light"
     },
     "output_type": "display_data"
    },
    {
     "data": {
      "image/png": "[encoded data removed]",
      "text/plain": [
       "<Figure size 432x288 with 1 Axes>"
      ]
     },
     "metadata": {
      "needs_background": "light"
     },
     "output_type": "display_data"
    },
    {
     "data": {
      "image/png": "[encoded data removed]",
      "text/plain": [
       "<Figure size 432x288 with 1 Axes>"
      ]
     },
     "metadata": {
      "needs_background": "light"
     },
     "output_type": "display_data"
    },
    {
     "data": {
      "image/png": "[encoded data removed]",
      "text/plain": [
       "<Figure size 432x288 with 1 Axes>"
      ]
     },
     "metadata": {
      "needs_background": "light"
     },
     "output_type": "display_data"
    },
    {
     "data": {
      "image/png": "[encoded data removed]",
      "text/plain": [
       "<Figure size 432x288 with 1 Axes>"
      ]
     },
     "metadata": {
      "needs_background": "light"
     },
     "output_type": "display_data"
    },
    {
     "data": {
      "image/png": "[encoded data removed]",
      "text/plain": [
       "<Figure size 432x288 with 1 Axes>"
      ]
     },
     "metadata": {
      "needs_background": "light"
     },
     "output_type": "display_data"
    },
    {
     "data": {
      "image/png": "[encoded data removed]",
      "text/plain": [
       "<Figure size 432x288 with 1 Axes>"
      ]
     },
     "metadata": {
      "needs_background": "light"
     },
     "output_type": "display_data"
    },
    {
     "data": {
      "image/png": "[encoded data removed]",
      "text/plain": [
       "<Figure size 432x288 with 1 Axes>"
      ]
     },
     "metadata": {
      "needs_background": "light"
     },
     "output_type": "display_data"
    }
   ],
   "source": [
    "data.hist('total_area', bins=100);\n",
    "\n",
    "data.hist('living_area', bins=50, range=(0,50));\n",
    "\n",
    "data.hist('kitchen_area', bins=20, range=(0,20));\n",
    "\n",
    "data.hist('last_price', bins=100, range=(0,2e+07));\n",
    "\n",
    "data.hist('rooms', bins=data['rooms'].max());\n",
    "\n",
    "data.hist('ceiling_height', bins=30);\n",
    "\n",
    "data.hist('floor', bins=data['floor'].max())\n",
    "\n",
    "data.hist('floor_category_digit');\n",
    "\n",
    "data.hist('floors_total', bins=data['floors_total'].max());\n",
    "\n",
    "data.hist('city_centers_nearest', bins=100);\n",
    "\n",
    "data.hist('airports_nearest', bins=100);\n",
    "\n",
    "data.hist('parks_nearest', bins=100);\n",
    "\n",
    "data.hist('dayofweek', bins=7);\n",
    "\n",
    "data.hist('month', bins=12)"
   ]
  },
  {
   "cell_type": "markdown",
   "metadata": {},
   "source": [
    "Общая площадь: \n",
    "Наблюдаем очень малое количество квартир с общей площадью более 100 кв.м.\n",
    "\n",
    "жилая площадь:\n",
    "Наблюдаем два пика - на 18 кв.м. и на 30 кв.м. \n",
    "\n",
    "площадь кухни:\n",
    "Данные по площади кухни выглядят приемлемыми.\n",
    "\n",
    "цена объекта:\n",
    "Цена объекта выглядит хорошо. Очень длинный \"хвост\" вправо - это похоже илитная недвижимость.\n",
    "\n",
    "количество комнат:\n",
    "Больше всего двух- и трёх-комнатных квартир, но встречаются и редкие исключения.\n",
    "\n",
    "высота потолков:\n",
    "Здесь два пика 2.5м и 3м.\n",
    "\n",
    "этаж квартиры;\n",
    "Больше всего квартир с 1 по 5 этаж. \n",
    "\n",
    "общее количество этажей в доме:\n",
    "Наблюдаются явные пики: 5-этажная застройка, 9-этажная застройка.\n",
    "\n",
    "расстояние до центра города в метрах;\n",
    "Два пика, один маленький, 5км и другой побльшой от 10 км. до 15 км. \n",
    "\n",
    "расстояние до ближайшего аэропорта:\n",
    "Не репрезентативно для нашего исследования.\n",
    "\n",
    "расстояние до ближайшего парка:\n",
    "Больше всего квартир с парками на расстоянии до 750м.\n",
    "\n",
    "день и месяц публикации объявления:\n",
    "Наблюдаем провал публикаций объявлений в субботу и воскресенье, что логично. Так же видим что с февраля по апрель наблюдалосась повышенная активность. Так же был плавный рост активности с июля по ноябрь. Провалы в декабре, январе и мае."
   ]
  },
  {
   "cell_type": "markdown",
   "metadata": {},
   "source": [
    "#### Изучите, как быстро продавались квартиры (столбец days_exposition)."
   ]
  },
  {
   "cell_type": "code",
   "execution_count": 38,
   "metadata": {},
   "outputs": [
    {
     "name": "stdout",
     "output_type": "stream",
     "text": [
      "Среднее время продажи квартиры в днях: 171\n",
      "Медианное время продажи квартиры в днях: 93\n",
      "\n",
      "[Выбросы] Количество объявлений, которые сняты через:\n",
      "45 дней: 879\n",
      "60 дней: 536\n",
      "90 дней: 202\n"
     ]
    },
    {
     "data": {
      "image/png": "[encoded data removed]",
      "text/plain": [
       "<Figure size 432x288 with 1 Axes>"
      ]
     },
     "metadata": {
      "needs_background": "light"
     },
     "output_type": "display_data"
    },
    {
     "data": {
      "image/png": "[encoded data removed]",
      "text/plain": [
       "<Figure size 432x288 with 1 Axes>"
      ]
     },
     "metadata": {
      "needs_background": "light"
     },
     "output_type": "display_data"
    }
   ],
   "source": [
    "data.hist('days_exposition', bins=100);\n",
    "data.hist('days_exposition', bins=100, range = (0,100));\n",
    "print(f'Среднее время продажи квартиры в днях:',int(data['days_exposition'].mean()))\n",
    "print('Медианное время продажи квартиры в днях:',int(data['days_exposition'].median()))\n",
    "\n",
    "print('\\n[Выбросы] Количество объявлений, которые сняты через:')\n",
    "print('45 дней:',data[data['days_exposition']==45]['days_exposition'].count())\n",
    "print('60 дней:',data[data['days_exposition']==60]['days_exposition'].count())\n",
    "print('90 дней:',data[data['days_exposition']==90]['days_exposition'].count())"
   ]
  },
  {
   "cell_type": "markdown",
   "metadata": {},
   "source": [
    "Можно сказать, что среднее время продажи квартиры составляет 181 день или полгода. Но если взять медиану - то это 95 дней, в два раза меньше. Это потому, что есть пул квартир, которые продавались несколько лет."
   ]
  },
  {
   "cell_type": "markdown",
   "metadata": {},
   "source": [
    "#### Какие факторы больше всего влияют на общую (полную) стоимость объекта"
   ]
  },
  {
   "cell_type": "code",
   "execution_count": 39,
   "metadata": {},
   "outputs": [
    {
     "name": "stdout",
     "output_type": "stream",
     "text": [
      "Корреляция между last_price и total_area составляет: 75.50%\n",
      "Корреляция между last_price и living_area составляет: 66.53%\n",
      "Корреляция между last_price и kitchen_area составляет: 55.89%\n",
      "Корреляция между last_price и rooms составляет: 45.77%\n",
      "Корреляция между last_price и floor_category_digit составляет: 5.67%\n"
     ]
    }
   ],
   "source": [
    "list_for_graph = ['total_area',\n",
    "                  'living_area',\n",
    "                  'kitchen_area',\n",
    "                  'rooms',\n",
    "                  'floor_category_digit'\n",
    "                  ]\n",
    "\n",
    "for entry in list_for_graph:\n",
    "    correlation = data['last_price'].corr(data[entry])\n",
    "    print(f'Корреляция между last_price и {entry} составляет: {correlation:0.2%}')"
   ]
  },
  {
   "cell_type": "markdown",
   "metadata": {},
   "source": [
    "Построим графики для анализа звисимости цена от:\n",
    "общей площади;\n",
    "жилой площади;\n",
    "площади кухни;\n",
    "количества комнат;\n",
    "этажа, на котором расположена квартира (первый, последний, другой);\n",
    "даты размещения (день недели, месяц, год)."
   ]
  },
  {
   "cell_type": "code",
   "execution_count": 40,
   "metadata": {},
   "outputs": [
    {
     "data": {
      "image/png": "[encoded data removed]",
      "text/plain": [
       "<Figure size 432x288 with 1 Axes>"
      ]
     },
     "metadata": {
      "needs_background": "light"
     },
     "output_type": "display_data"
    },
    {
     "data": {
      "image/png": "[encoded data removed]",
      "text/plain": [
       "<Figure size 432x288 with 1 Axes>"
      ]
     },
     "metadata": {
      "needs_background": "light"
     },
     "output_type": "display_data"
    },
    {
     "data": {
      "image/png": "[encoded data removed]",
      "text/plain": [
       "<Figure size 432x288 with 1 Axes>"
      ]
     },
     "metadata": {
      "needs_background": "light"
     },
     "output_type": "display_data"
    },
    {
     "data": {
      "image/png": "[encoded data removed]",
      "text/plain": [
       "<Figure size 432x288 with 1 Axes>"
      ]
     },
     "metadata": {
      "needs_background": "light"
     },
     "output_type": "display_data"
    },
    {
     "data": {
      "image/png": "[encoded data removed]",
      "text/plain": [
       "<Figure size 432x288 with 1 Axes>"
      ]
     },
     "metadata": {
      "needs_background": "light"
     },
     "output_type": "display_data"
    },
    {
     "data": {
      "image/png": "[encoded data removed]",
      "text/plain": [
       "<Figure size 432x288 with 1 Axes>"
      ]
     },
     "metadata": {
      "needs_background": "light"
     },
     "output_type": "display_data"
    },
    {
     "data": {
      "image/png": "[encoded data removed]",
      "text/plain": [
       "<Figure size 432x288 with 1 Axes>"
      ]
     },
     "metadata": {
      "needs_background": "light"
     },
     "output_type": "display_data"
    },
    {
     "data": {
      "image/png": "[encoded data removed]",
      "text/plain": [
       "<Figure size 432x288 with 1 Axes>"
      ]
     },
     "metadata": {
      "needs_background": "light"
     },
     "output_type": "display_data"
    },
    {
     "data": {
      "image/png": "[encoded data removed]",
      "text/plain": [
       "<Figure size 432x288 with 1 Axes>"
      ]
     },
     "metadata": {
      "needs_background": "light"
     },
     "output_type": "display_data"
    },
    {
     "data": {
      "image/png": "[encoded data removed]",
      "text/plain": [
       "<Figure size 432x288 with 1 Axes>"
      ]
     },
     "metadata": {
      "needs_background": "light"
     },
     "output_type": "display_data"
    },
    {
     "data": {
      "image/png": "[encoded data removed]",
      "text/plain": [
       "<Figure size 432x288 with 1 Axes>"
      ]
     },
     "metadata": {
      "needs_background": "light"
     },
     "output_type": "display_data"
    },
    {
     "data": {
      "image/png": "[encoded data removed]",
      "text/plain": [
       "<Figure size 432x288 with 1 Axes>"
      ]
     },
     "metadata": {
      "needs_background": "light"
     },
     "output_type": "display_data"
    }
   ],
   "source": [
    "data.plot(x='last_price', y='total_area', kind='scatter', alpha=0.2)\n",
    "data.plot(x='last_price', y='living_area', kind='scatter', alpha=0.2)\n",
    "data.plot(x='last_price', y='kitchen_area', kind='scatter', alpha=0.2)\n",
    "data.pivot_table(index='rooms',values='last_price').plot(y='last_price', kind='bar');\n",
    "data.pivot_table(index='floor_category',values='last_price').plot(y='last_price', kind='barh');\n",
    "data.plot(x='last_price', y='floor_category', kind='scatter', alpha=0.2)\n",
    "\n",
    "\n",
    "data.pivot_table(index='dayofweek',values='last_price',aggfunc='mean').plot(y='last_price', kind='line', title='mean');\n",
    "data.pivot_table(index='dayofweek',values='last_price',aggfunc='median').plot(y='last_price', kind='line', title='median');\n",
    "\n",
    "data.pivot_table(index='month',values='last_price',aggfunc='mean').plot(y='last_price', kind='line', title='mean');\n",
    "data.pivot_table(index='month',values='last_price',aggfunc='median').plot(y='last_price', kind='line', title='median');\n",
    "\n",
    "data.pivot_table(index='year',values='last_price',aggfunc='mean').plot(y='last_price', kind='line', title='mean');\n",
    "data.pivot_table(index='year',values='last_price',aggfunc='median').plot(y='last_price', kind='line', title='median');"
   ]
  },
  {
   "cell_type": "markdown",
   "metadata": {},
   "source": [
    "Цена по убыванию зависит от:\n",
    "\n",
    "- общей площади;\n",
    "- жилой площади;\n",
    "- площади кухни;\n",
    "- количества комнат.\n",
    "\n",
    "\n",
    "Цена практически на зависит от:\n",
    "\n",
    "этажа, на котором расположена квартира;\n",
    "даты размещения."
   ]
  },
  {
   "cell_type": "markdown",
   "metadata": {},
   "source": [
    "#### Cредняя цена одного квадратного метра в топ-10 населенных пунктах"
   ]
  },
  {
   "cell_type": "code",
   "execution_count": 41,
   "metadata": {},
   "outputs": [
    {
     "data": {
      "text/plain": [
       "<AxesSubplot:ylabel='locality_name'>"
      ]
     },
     "execution_count": 41,
     "metadata": {},
     "output_type": "execute_result"
    },
    {
     "data": {
      "image/png": "[encoded data removed]",
      "text/plain": [
       "<Figure size 432x288 with 1 Axes>"
      ]
     },
     "metadata": {
      "needs_background": "light"
     },
     "output_type": "display_data"
    }
   ],
   "source": [
    "top_10 = data.pivot_table(index='locality_name', values=['last_price','total_area'] ,aggfunc=['sum','count'])\n",
    "top_10.columns=['last_price_sum','total_area_sum','last_price_count','total_area_count']\n",
    "top_10.pop('total_area_count')\n",
    "top_10.sort_values(by=['last_price_count'],ascending=False, inplace=True)\n",
    "top_10 = top_10.iloc[:10]\n",
    "top_10['price_per_sq_m'] = top_10['last_price_sum']/top_10['total_area_sum']\n",
    "top_10.sort_values(by=['price_per_sq_m'],ascending=True, inplace=True)\n",
    "top_10['price_per_sq_m'].plot(kind='barh')"
   ]
  },
  {
   "cell_type": "markdown",
   "metadata": {},
   "source": [
    "Смая дорогая недвижимость в Санкт-Петербурге.\n",
    "В ТОП-10 входят ближайшие к Санкт-Петербургу города."
   ]
  },
  {
   "cell_type": "markdown",
   "metadata": {},
   "source": [
    "#### Как стоимость объектов зависит от расстояния до центра города."
   ]
  },
  {
   "cell_type": "code",
   "execution_count": 42,
   "metadata": {},
   "outputs": [
    {
     "data": {
      "text/plain": [
       "<AxesSubplot:xlabel='city_centers_nearest_km'>"
      ]
     },
     "execution_count": 42,
     "metadata": {},
     "output_type": "execute_result"
    },
    {
     "data": {
      "image/png": "[encoded data removed]",
      "text/plain": [
       "<Figure size 432x288 with 1 Axes>"
      ]
     },
     "metadata": {
      "needs_background": "light"
     },
     "output_type": "display_data"
    }
   ],
   "source": [
    "(\n",
    "    data[data['locality_name']=='санкт-петербург']\n",
    "    .pivot_table(\n",
    "        index='city_centers_nearest_km',\n",
    "        values='last_price',\n",
    "        aggfunc='mean')\n",
    "    .plot(kind='bar')\n",
    ")"
   ]
  },
  {
   "cell_type": "markdown",
   "metadata": {},
   "source": [
    "С большим отрывом лидирует недвижимость до 1 км.\n",
    "Видим более низкие цены на недвижимость на расстоянии от 1 км. до 7 км. включительно.\n",
    "Далее цена спадает на расстоянии от 8 км. до 27 км.\n",
    "Видим пик на 27км, его сложно объяснить, возможно это недвижимость в \"особом\" районе."
   ]
  },
  {
   "cell_type": "markdown",
   "metadata": {},
   "source": [
    "<div class=\"alert alert-success\">\n",
    "<b>✔️ Комментарий ревьюера v1:</b>\n",
    "<br>Верно 👍\n",
    "</div>"
   ]
  },
  {
   "cell_type": "markdown",
   "metadata": {},
   "source": [
    "### Общий вывод"
   ]
  },
  {
   "cell_type": "markdown",
   "metadata": {},
   "source": [
    "Целью проекта было исследование данных по продаже недвижимости в Санкт-Петербурге и области. \n",
    "Анализ строился на основании данных, находящихся в файле  '/datasets/real_estate_data.csv'.\n",
    "Предварительна оценка данных показала наличие следующих проблем:\n",
    "- Пропуски данных: в нескольких столбцах имеются пропущенные значения. \n",
    "- Наличие дубликатов: необходимо проверить данные на явные и неявные дубликаты с целью удаления или замены. \n",
    "- Ошибки типов данных.\n",
    "- Значения: наличие \"длинных хвостов\" у нескольких переменных, а также выбивающиеся значения. \n",
    " \n",
    "Все вышеизложенное было устранено в рамках предварительной работы с данными.\n",
    "Для проведения исследования были добавлены дополнительные столбцы.\n",
    "Проведено исследование на основематриц  корреляции и графиков зависимости одних перемен от других\n",
    "\n",
    "По результатам проведенного анализа можно сделать следующие основные выводы:\n",
    "Цена по убыванию зависит от следующих факторов:\n",
    "общей площади;\n",
    "жилой площади;\n",
    "площади кухни;\n",
    "количества комнат.\n",
    "\n",
    "В 27 км от центра Санкт-Петербурга есть недвижимость по цене почти равная недвижимости в 8 км. от центра;\n",
    "\n",
    "В ТОП-10 входят в основном ближайшие к Санкт-Петербургу города и самые крупные города области:\n",
    "Пушкин;\n",
    "Гатчина;\n",
    "Всеволожск;\n",
    "Выборг.\n",
    "\n",
    "Быстрые продажи -  это до 90 дней, а необычно долгие - свыше 180 дней."
   ]
  },
  {
   "cell_type": "markdown",
   "metadata": {},
   "source": [
    "**Чек-лист готовности проекта**\n",
    "\n",
    "Поставьте 'x' в выполненных пунктах. Далее нажмите Shift+Enter."
   ]
  },
  {
   "cell_type": "markdown",
   "metadata": {},
   "source": [
    "- [x]  открыт файл\n",
    "- [x]  файлы изучены (выведены первые строки, метод `info()`, гистограммы и т.д.)\n",
    "- [x]  определены пропущенные значения\n",
    "- [x]  заполнены пропущенные значения там, где это возможно\n",
    "- [x]  есть пояснение, какие пропущенные значения обнаружены\n",
    "- [x]  изменены типы данных\n",
    "- [x]  есть пояснение, в каких столбцах изменены типы и почему\n",
    "- [x]  устранены неявные дубликаты в названиях населённых пунктов\n",
    "- [x]  устранены редкие и выбивающиеся значения (аномалии) во всех столбцах\n",
    "- [x]  посчитано и добавлено в таблицу: цена одного квадратного метра\n",
    "- [x]  посчитано и добавлено в таблицу: день публикации объявления (0 - понедельник, 1 - вторник и т.д.)\n",
    "- [x]  посчитано и добавлено в таблицу: месяц публикации объявления\n",
    "- [x]  посчитано и добавлено в таблицу: год публикации объявления\n",
    "- [x]  посчитано и добавлено в таблицу: тип этажа квартиры (значения — «первый», «последний», «другой»)\n",
    "- [x]  посчитано и добавлено в таблицу: расстояние в км до центра города\n",
    "- [x]  изучены и описаны следующие параметры:\n",
    "        - общая площадь;\n",
    "        - жилая площадь;\n",
    "        - площадь кухни;\n",
    "        - цена объекта;\n",
    "        - количество комнат;\n",
    "        - высота потолков;\n",
    "        - этаж квартиры;\n",
    "        - тип этажа квартиры («первый», «последний», «другой»);\n",
    "        - общее количество этажей в доме;\n",
    "        - расстояние до центра города в метрах;\n",
    "        - расстояние до ближайшего аэропорта;\n",
    "        - расстояние до ближайшего парка;\n",
    "        - день и месяц публикации объявления\n",
    "- [x]  построены гистограммы для каждого параметра\n",
    "- [x]  выполнено задание: \"Изучите, как быстро продавались квартиры (столбец days_exposition). Этот параметр показывает, сколько дней «висело» каждое объявление.\n",
    "    - Постройте гистограмму.\n",
    "    - Посчитайте среднее и медиану.\n",
    "    - В ячейке типа markdown опишите, сколько обычно занимает продажа. Какие продажи можно считать быстрыми, а какие — необычно долгими?\"\n",
    "- [x]  выполнено задание: \"Какие факторы больше всего влияют на общую (полную) стоимость объекта? Постройте графики, которые покажут зависимость цены от указанных ниже параметров. Для подготовки данных перед визуализацией вы можете использовать сводные таблицы.\"\n",
    "        - общей площади;\n",
    "        - жилой площади;\n",
    "        - площади кухни;\n",
    "        - количество комнат;\n",
    "        - типа этажа, на котором расположена квартира (первый, последний, другой);\n",
    "        - даты размещения (день недели, месяц, год);\n",
    "- [x]  выполнено задание: \"Посчитайте среднюю цену одного квадратного метра в 10 населённых пунктах с наибольшим числом объявлений. Выделите населённые пункты с самой высокой и низкой стоимостью квадратного метра. Эти данные можно найти по имени в столбце `locality_name`.\"\n",
    "- [x]  выполнено задание: \"Ранее вы посчитали расстояние до центра в километрах. Теперь выделите квартиры в Санкт-Петербурге с помощью столбца `locality_name` и вычислите среднюю цену каждого километра. Опишите, как стоимость объектов зависит от расстояния до центра города.\"\n",
    "- [x]  в каждом этапе есть промежуточные выводы\n",
    "- [x]  есть общий вывод"
   ]
  }
 ],
 "metadata": {
  "ExecuteTimeLog": [
   {
    "duration": 53,
    "start_time": "2022-12-16T12:27:48.418Z"
   },
   {
    "duration": 702,
    "start_time": "2022-12-16T12:27:58.848Z"
   },
   {
    "duration": 92,
    "start_time": "2022-12-16T12:29:58.267Z"
   },
   {
    "duration": 118,
    "start_time": "2022-12-16T12:31:19.216Z"
   },
   {
    "duration": 2367,
    "start_time": "2022-12-16T12:32:42.245Z"
   },
   {
    "duration": 2624,
    "start_time": "2022-12-16T12:41:00.855Z"
   },
   {
    "duration": 48,
    "start_time": "2022-12-16T13:11:51.395Z"
   },
   {
    "duration": 2622,
    "start_time": "2022-12-16T13:11:59.873Z"
   },
   {
    "duration": 47,
    "start_time": "2022-12-16T13:20:52.952Z"
   },
   {
    "duration": 486,
    "start_time": "2022-12-16T13:21:09.525Z"
   },
   {
    "duration": 47,
    "start_time": "2022-12-16T13:21:10.012Z"
   },
   {
    "duration": 17,
    "start_time": "2022-12-16T13:21:10.062Z"
   },
   {
    "duration": 2128,
    "start_time": "2022-12-16T13:22:08.392Z"
   },
   {
    "duration": 3,
    "start_time": "2022-12-16T13:23:24.973Z"
   },
   {
    "duration": 10,
    "start_time": "2022-12-16T13:24:35.132Z"
   },
   {
    "duration": 477,
    "start_time": "2022-12-16T13:25:54.432Z"
   },
   {
    "duration": 36,
    "start_time": "2022-12-16T13:25:54.911Z"
   },
   {
    "duration": 13,
    "start_time": "2022-12-16T13:25:54.949Z"
   },
   {
    "duration": 2208,
    "start_time": "2022-12-16T13:25:54.964Z"
   },
   {
    "duration": 4,
    "start_time": "2022-12-16T13:25:57.173Z"
   },
   {
    "duration": 9,
    "start_time": "2022-12-16T13:26:36.844Z"
   },
   {
    "duration": 504,
    "start_time": "2022-12-16T13:27:25.487Z"
   },
   {
    "duration": 35,
    "start_time": "2022-12-16T13:27:25.993Z"
   },
   {
    "duration": 15,
    "start_time": "2022-12-16T13:27:26.030Z"
   },
   {
    "duration": 2136,
    "start_time": "2022-12-16T13:27:26.047Z"
   },
   {
    "duration": 4,
    "start_time": "2022-12-16T13:27:28.185Z"
   },
   {
    "duration": 13,
    "start_time": "2022-12-16T13:27:28.191Z"
   },
   {
    "duration": 11,
    "start_time": "2022-12-17T10:21:56.003Z"
   },
   {
    "duration": 520,
    "start_time": "2022-12-17T10:22:12.142Z"
   },
   {
    "duration": 33,
    "start_time": "2022-12-17T10:22:14.956Z"
   },
   {
    "duration": 305,
    "start_time": "2022-12-17T16:55:59.289Z"
   },
   {
    "duration": 0,
    "start_time": "2022-12-17T16:55:59.605Z"
   },
   {
    "duration": 0,
    "start_time": "2022-12-17T16:55:59.606Z"
   },
   {
    "duration": 0,
    "start_time": "2022-12-17T16:55:59.607Z"
   },
   {
    "duration": 0,
    "start_time": "2022-12-17T16:55:59.607Z"
   },
   {
    "duration": 0,
    "start_time": "2022-12-17T16:55:59.608Z"
   },
   {
    "duration": 0,
    "start_time": "2022-12-17T16:55:59.609Z"
   },
   {
    "duration": 0,
    "start_time": "2022-12-17T16:55:59.610Z"
   },
   {
    "duration": 0,
    "start_time": "2022-12-17T16:55:59.611Z"
   },
   {
    "duration": 0,
    "start_time": "2022-12-17T16:55:59.612Z"
   },
   {
    "duration": 0,
    "start_time": "2022-12-17T16:55:59.613Z"
   },
   {
    "duration": 0,
    "start_time": "2022-12-17T16:55:59.614Z"
   },
   {
    "duration": 0,
    "start_time": "2022-12-17T16:55:59.615Z"
   },
   {
    "duration": 0,
    "start_time": "2022-12-17T16:55:59.616Z"
   },
   {
    "duration": 0,
    "start_time": "2022-12-17T16:55:59.617Z"
   },
   {
    "duration": 328,
    "start_time": "2022-12-17T16:56:58.667Z"
   },
   {
    "duration": 37,
    "start_time": "2022-12-17T16:56:58.997Z"
   },
   {
    "duration": 16,
    "start_time": "2022-12-17T16:56:59.036Z"
   },
   {
    "duration": 2355,
    "start_time": "2022-12-17T16:56:59.054Z"
   },
   {
    "duration": 3,
    "start_time": "2022-12-17T16:57:01.412Z"
   },
   {
    "duration": 36,
    "start_time": "2022-12-17T16:57:01.417Z"
   },
   {
    "duration": 19,
    "start_time": "2022-12-17T16:57:01.455Z"
   },
   {
    "duration": 41,
    "start_time": "2022-12-17T16:57:01.476Z"
   },
   {
    "duration": 23,
    "start_time": "2022-12-17T16:57:01.519Z"
   },
   {
    "duration": 15,
    "start_time": "2022-12-17T16:57:01.544Z"
   },
   {
    "duration": 6,
    "start_time": "2022-12-17T16:57:01.561Z"
   },
   {
    "duration": 59,
    "start_time": "2022-12-17T16:57:01.568Z"
   },
   {
    "duration": 25,
    "start_time": "2022-12-17T16:57:01.629Z"
   },
   {
    "duration": 8,
    "start_time": "2022-12-17T16:57:01.656Z"
   },
   {
    "duration": 124,
    "start_time": "2022-12-17T16:57:01.666Z"
   },
   {
    "duration": 10,
    "start_time": "2022-12-17T16:59:56.446Z"
   },
   {
    "duration": 90,
    "start_time": "2022-12-17T17:01:22.540Z"
   },
   {
    "duration": 6,
    "start_time": "2022-12-17T17:03:11.122Z"
   },
   {
    "duration": 6,
    "start_time": "2022-12-17T17:03:46.885Z"
   },
   {
    "duration": 560,
    "start_time": "2022-12-18T11:11:51.721Z"
   },
   {
    "duration": 36,
    "start_time": "2022-12-18T11:11:52.282Z"
   },
   {
    "duration": 13,
    "start_time": "2022-12-18T11:11:52.320Z"
   },
   {
    "duration": 2374,
    "start_time": "2022-12-18T11:11:52.335Z"
   },
   {
    "duration": 4,
    "start_time": "2022-12-18T11:11:54.712Z"
   },
   {
    "duration": 18,
    "start_time": "2022-12-18T11:11:54.719Z"
   },
   {
    "duration": 7,
    "start_time": "2022-12-18T11:11:54.739Z"
   },
   {
    "duration": 15,
    "start_time": "2022-12-18T11:11:54.748Z"
   },
   {
    "duration": 22,
    "start_time": "2022-12-18T11:11:54.764Z"
   },
   {
    "duration": 29,
    "start_time": "2022-12-18T11:11:54.789Z"
   },
   {
    "duration": 5,
    "start_time": "2022-12-18T11:11:54.820Z"
   },
   {
    "duration": 34,
    "start_time": "2022-12-18T11:11:54.826Z"
   },
   {
    "duration": 24,
    "start_time": "2022-12-18T11:11:54.862Z"
   },
   {
    "duration": 28,
    "start_time": "2022-12-18T11:11:54.888Z"
   },
   {
    "duration": 114,
    "start_time": "2022-12-18T11:11:54.918Z"
   },
   {
    "duration": 98,
    "start_time": "2022-12-18T11:11:55.034Z"
   },
   {
    "duration": 24,
    "start_time": "2022-12-18T11:11:55.134Z"
   },
   {
    "duration": 383,
    "start_time": "2022-12-18T11:11:55.160Z"
   },
   {
    "duration": 29,
    "start_time": "2022-12-18T11:11:55.545Z"
   },
   {
    "duration": 38,
    "start_time": "2022-12-18T11:11:55.575Z"
   },
   {
    "duration": 25,
    "start_time": "2022-12-18T11:11:55.615Z"
   },
   {
    "duration": 26,
    "start_time": "2022-12-18T11:11:55.642Z"
   },
   {
    "duration": 51,
    "start_time": "2022-12-18T11:11:55.670Z"
   },
   {
    "duration": 19,
    "start_time": "2022-12-18T11:11:55.723Z"
   },
   {
    "duration": 3,
    "start_time": "2022-12-18T11:11:55.744Z"
   },
   {
    "duration": 16,
    "start_time": "2022-12-18T11:11:55.750Z"
   },
   {
    "duration": 5,
    "start_time": "2022-12-18T11:11:55.768Z"
   },
   {
    "duration": 37,
    "start_time": "2022-12-18T11:11:55.776Z"
   },
   {
    "duration": 5,
    "start_time": "2022-12-18T11:11:55.815Z"
   },
   {
    "duration": 8,
    "start_time": "2022-12-18T11:11:55.822Z"
   },
   {
    "duration": 422,
    "start_time": "2022-12-18T11:11:55.831Z"
   },
   {
    "duration": 0,
    "start_time": "2022-12-18T11:11:56.254Z"
   },
   {
    "duration": 0,
    "start_time": "2022-12-18T11:11:56.256Z"
   },
   {
    "duration": 290,
    "start_time": "2022-12-18T11:14:13.781Z"
   },
   {
    "duration": 307,
    "start_time": "2022-12-18T11:14:49.598Z"
   },
   {
    "duration": 313,
    "start_time": "2022-12-18T11:17:50.162Z"
   },
   {
    "duration": 328,
    "start_time": "2022-12-18T11:17:53.230Z"
   },
   {
    "duration": 5,
    "start_time": "2022-12-18T12:21:04.451Z"
   },
   {
    "duration": 1918,
    "start_time": "2022-12-18T12:22:20.333Z"
   },
   {
    "duration": 8,
    "start_time": "2022-12-18T12:24:22.716Z"
   },
   {
    "duration": 9,
    "start_time": "2022-12-18T12:25:07.956Z"
   },
   {
    "duration": 9,
    "start_time": "2022-12-18T12:25:14.175Z"
   },
   {
    "duration": 499,
    "start_time": "2022-12-18T12:26:06.914Z"
   },
   {
    "duration": 36,
    "start_time": "2022-12-18T12:26:07.415Z"
   },
   {
    "duration": 15,
    "start_time": "2022-12-18T12:26:07.452Z"
   },
   {
    "duration": 2144,
    "start_time": "2022-12-18T12:26:07.469Z"
   },
   {
    "duration": 4,
    "start_time": "2022-12-18T12:26:09.615Z"
   },
   {
    "duration": 21,
    "start_time": "2022-12-18T12:26:09.620Z"
   },
   {
    "duration": 8,
    "start_time": "2022-12-18T12:26:09.642Z"
   },
   {
    "duration": 15,
    "start_time": "2022-12-18T12:26:09.652Z"
   },
   {
    "duration": 23,
    "start_time": "2022-12-18T12:26:09.669Z"
   },
   {
    "duration": 30,
    "start_time": "2022-12-18T12:26:09.694Z"
   },
   {
    "duration": 5,
    "start_time": "2022-12-18T12:26:09.726Z"
   },
   {
    "duration": 36,
    "start_time": "2022-12-18T12:26:09.732Z"
   },
   {
    "duration": 45,
    "start_time": "2022-12-18T12:26:09.770Z"
   },
   {
    "duration": 21,
    "start_time": "2022-12-18T12:26:09.818Z"
   },
   {
    "duration": 103,
    "start_time": "2022-12-18T12:26:09.841Z"
   },
   {
    "duration": 96,
    "start_time": "2022-12-18T12:26:09.946Z"
   },
   {
    "duration": 21,
    "start_time": "2022-12-18T12:26:10.043Z"
   },
   {
    "duration": 428,
    "start_time": "2022-12-18T12:26:10.065Z"
   },
   {
    "duration": 38,
    "start_time": "2022-12-18T12:26:10.495Z"
   },
   {
    "duration": 22,
    "start_time": "2022-12-18T12:26:10.535Z"
   },
   {
    "duration": 26,
    "start_time": "2022-12-18T12:26:10.559Z"
   },
   {
    "duration": 45,
    "start_time": "2022-12-18T12:26:10.587Z"
   },
   {
    "duration": 32,
    "start_time": "2022-12-18T12:26:10.633Z"
   },
   {
    "duration": 17,
    "start_time": "2022-12-18T12:26:10.667Z"
   },
   {
    "duration": 3,
    "start_time": "2022-12-18T12:26:10.685Z"
   },
   {
    "duration": 41,
    "start_time": "2022-12-18T12:26:10.690Z"
   },
   {
    "duration": 4,
    "start_time": "2022-12-18T12:26:10.732Z"
   },
   {
    "duration": 11,
    "start_time": "2022-12-18T12:26:10.738Z"
   },
   {
    "duration": 5,
    "start_time": "2022-12-18T12:26:10.751Z"
   },
   {
    "duration": 5,
    "start_time": "2022-12-18T12:26:10.758Z"
   },
   {
    "duration": 5,
    "start_time": "2022-12-18T12:26:24.235Z"
   },
   {
    "duration": 130,
    "start_time": "2022-12-18T12:28:05.936Z"
   },
   {
    "duration": 138,
    "start_time": "2022-12-18T12:34:56.217Z"
   },
   {
    "duration": 1214,
    "start_time": "2022-12-18T12:36:15.749Z"
   },
   {
    "duration": 48,
    "start_time": "2022-12-18T12:39:52.609Z"
   },
   {
    "duration": 477,
    "start_time": "2022-12-18T12:41:57.341Z"
   },
   {
    "duration": 45,
    "start_time": "2022-12-18T12:41:57.820Z"
   },
   {
    "duration": 16,
    "start_time": "2022-12-18T12:41:57.866Z"
   },
   {
    "duration": 2170,
    "start_time": "2022-12-18T12:41:57.883Z"
   },
   {
    "duration": 4,
    "start_time": "2022-12-18T12:42:00.055Z"
   },
   {
    "duration": 28,
    "start_time": "2022-12-18T12:42:00.060Z"
   },
   {
    "duration": 11,
    "start_time": "2022-12-18T12:42:00.090Z"
   },
   {
    "duration": 28,
    "start_time": "2022-12-18T12:42:00.103Z"
   },
   {
    "duration": 29,
    "start_time": "2022-12-18T12:42:00.134Z"
   },
   {
    "duration": 13,
    "start_time": "2022-12-18T12:42:00.165Z"
   },
   {
    "duration": 5,
    "start_time": "2022-12-18T12:42:00.180Z"
   },
   {
    "duration": 56,
    "start_time": "2022-12-18T12:42:00.187Z"
   },
   {
    "duration": 24,
    "start_time": "2022-12-18T12:42:00.245Z"
   },
   {
    "duration": 10,
    "start_time": "2022-12-18T12:42:00.271Z"
   },
   {
    "duration": 175,
    "start_time": "2022-12-18T12:42:00.282Z"
   },
   {
    "duration": 125,
    "start_time": "2022-12-18T12:42:00.459Z"
   },
   {
    "duration": 34,
    "start_time": "2022-12-18T12:42:00.586Z"
   },
   {
    "duration": 374,
    "start_time": "2022-12-18T12:42:00.622Z"
   },
   {
    "duration": 38,
    "start_time": "2022-12-18T12:42:00.997Z"
   },
   {
    "duration": 19,
    "start_time": "2022-12-18T12:42:01.037Z"
   },
   {
    "duration": 24,
    "start_time": "2022-12-18T12:42:01.057Z"
   },
   {
    "duration": 48,
    "start_time": "2022-12-18T12:42:01.083Z"
   },
   {
    "duration": 29,
    "start_time": "2022-12-18T12:42:01.133Z"
   },
   {
    "duration": 16,
    "start_time": "2022-12-18T12:42:01.164Z"
   },
   {
    "duration": 3,
    "start_time": "2022-12-18T12:42:01.182Z"
   },
   {
    "duration": 39,
    "start_time": "2022-12-18T12:42:01.187Z"
   },
   {
    "duration": 6,
    "start_time": "2022-12-18T12:42:01.229Z"
   },
   {
    "duration": 14,
    "start_time": "2022-12-18T12:42:01.237Z"
   },
   {
    "duration": 27,
    "start_time": "2022-12-18T12:42:01.254Z"
   },
   {
    "duration": 38,
    "start_time": "2022-12-18T12:42:01.283Z"
   },
   {
    "duration": 146,
    "start_time": "2022-12-18T12:42:01.324Z"
   },
   {
    "duration": 72,
    "start_time": "2022-12-18T12:42:07.813Z"
   },
   {
    "duration": 7,
    "start_time": "2022-12-18T12:42:24.172Z"
   },
   {
    "duration": 69,
    "start_time": "2022-12-18T12:45:18.109Z"
   },
   {
    "duration": 295,
    "start_time": "2022-12-18T12:45:56.054Z"
   },
   {
    "duration": 5,
    "start_time": "2022-12-18T12:47:05.221Z"
   },
   {
    "duration": 3,
    "start_time": "2022-12-18T12:47:50.109Z"
   },
   {
    "duration": 4,
    "start_time": "2022-12-18T13:00:18.760Z"
   },
   {
    "duration": 103,
    "start_time": "2022-12-18T13:00:38.284Z"
   },
   {
    "duration": 3,
    "start_time": "2022-12-18T13:01:36.573Z"
   },
   {
    "duration": 4,
    "start_time": "2022-12-18T13:02:46.317Z"
   },
   {
    "duration": 2,
    "start_time": "2022-12-18T13:03:08.744Z"
   },
   {
    "duration": 4,
    "start_time": "2022-12-18T13:03:11.630Z"
   },
   {
    "duration": 1539,
    "start_time": "2022-12-18T13:14:18.927Z"
   },
   {
    "duration": 544,
    "start_time": "2022-12-18T20:26:05.303Z"
   },
   {
    "duration": 39,
    "start_time": "2022-12-18T20:26:05.848Z"
   },
   {
    "duration": 15,
    "start_time": "2022-12-18T20:26:05.890Z"
   },
   {
    "duration": 2380,
    "start_time": "2022-12-18T20:26:05.907Z"
   },
   {
    "duration": 4,
    "start_time": "2022-12-18T20:26:08.289Z"
   },
   {
    "duration": 12,
    "start_time": "2022-12-18T20:26:08.294Z"
   },
   {
    "duration": 8,
    "start_time": "2022-12-18T20:26:08.308Z"
   },
   {
    "duration": 15,
    "start_time": "2022-12-18T20:26:08.318Z"
   },
   {
    "duration": 31,
    "start_time": "2022-12-18T20:26:08.334Z"
   },
   {
    "duration": 13,
    "start_time": "2022-12-18T20:26:08.368Z"
   },
   {
    "duration": 5,
    "start_time": "2022-12-18T20:26:08.382Z"
   },
   {
    "duration": 38,
    "start_time": "2022-12-18T20:26:08.388Z"
   },
   {
    "duration": 48,
    "start_time": "2022-12-18T20:26:08.428Z"
   },
   {
    "duration": 9,
    "start_time": "2022-12-18T20:26:08.478Z"
   },
   {
    "duration": 119,
    "start_time": "2022-12-18T20:26:08.489Z"
   },
   {
    "duration": 105,
    "start_time": "2022-12-18T20:26:08.609Z"
   },
   {
    "duration": 36,
    "start_time": "2022-12-18T20:26:08.716Z"
   },
   {
    "duration": 402,
    "start_time": "2022-12-18T20:26:08.754Z"
   },
   {
    "duration": 32,
    "start_time": "2022-12-18T20:26:09.158Z"
   },
   {
    "duration": 21,
    "start_time": "2022-12-18T20:26:09.192Z"
   },
   {
    "duration": 54,
    "start_time": "2022-12-18T20:26:09.215Z"
   },
   {
    "duration": 25,
    "start_time": "2022-12-18T20:26:09.271Z"
   },
   {
    "duration": 28,
    "start_time": "2022-12-18T20:26:09.297Z"
   },
   {
    "duration": 43,
    "start_time": "2022-12-18T20:26:09.327Z"
   },
   {
    "duration": 3,
    "start_time": "2022-12-18T20:26:09.372Z"
   },
   {
    "duration": 18,
    "start_time": "2022-12-18T20:26:09.377Z"
   },
   {
    "duration": 4,
    "start_time": "2022-12-18T20:26:09.397Z"
   },
   {
    "duration": 10,
    "start_time": "2022-12-18T20:26:09.404Z"
   },
   {
    "duration": 7,
    "start_time": "2022-12-18T20:26:09.416Z"
   },
   {
    "duration": 31,
    "start_time": "2022-12-18T20:26:09.425Z"
   },
   {
    "duration": 96,
    "start_time": "2022-12-18T20:26:18.227Z"
   },
   {
    "duration": 46,
    "start_time": "2022-12-18T20:26:18.325Z"
   },
   {
    "duration": 19,
    "start_time": "2022-12-18T20:26:18.372Z"
   },
   {
    "duration": 2008,
    "start_time": "2022-12-18T20:26:18.393Z"
   },
   {
    "duration": 3,
    "start_time": "2022-12-18T20:26:20.403Z"
   },
   {
    "duration": 15,
    "start_time": "2022-12-18T20:26:20.407Z"
   },
   {
    "duration": 7,
    "start_time": "2022-12-18T20:26:20.423Z"
   },
   {
    "duration": 27,
    "start_time": "2022-12-18T20:26:20.432Z"
   },
   {
    "duration": 21,
    "start_time": "2022-12-18T20:26:20.461Z"
   },
   {
    "duration": 15,
    "start_time": "2022-12-18T20:26:20.485Z"
   },
   {
    "duration": 5,
    "start_time": "2022-12-18T20:26:20.502Z"
   },
   {
    "duration": 67,
    "start_time": "2022-12-18T20:26:20.509Z"
   },
   {
    "duration": 23,
    "start_time": "2022-12-18T20:26:20.577Z"
   },
   {
    "duration": 10,
    "start_time": "2022-12-18T20:26:20.602Z"
   },
   {
    "duration": 114,
    "start_time": "2022-12-18T20:26:20.613Z"
   },
   {
    "duration": 102,
    "start_time": "2022-12-18T20:26:20.728Z"
   },
   {
    "duration": 31,
    "start_time": "2022-12-18T20:26:20.832Z"
   },
   {
    "duration": 375,
    "start_time": "2022-12-18T20:26:20.865Z"
   },
   {
    "duration": 38,
    "start_time": "2022-12-18T20:26:21.242Z"
   },
   {
    "duration": 21,
    "start_time": "2022-12-18T20:26:21.281Z"
   },
   {
    "duration": 25,
    "start_time": "2022-12-18T20:26:21.304Z"
   },
   {
    "duration": 49,
    "start_time": "2022-12-18T20:26:21.331Z"
   },
   {
    "duration": 30,
    "start_time": "2022-12-18T20:26:21.381Z"
   },
   {
    "duration": 40,
    "start_time": "2022-12-18T20:26:21.412Z"
   },
   {
    "duration": 4,
    "start_time": "2022-12-18T20:26:21.454Z"
   },
   {
    "duration": 25,
    "start_time": "2022-12-18T20:26:21.460Z"
   },
   {
    "duration": 4,
    "start_time": "2022-12-18T20:26:21.487Z"
   },
   {
    "duration": 7,
    "start_time": "2022-12-18T20:26:21.493Z"
   },
   {
    "duration": 6,
    "start_time": "2022-12-18T20:26:21.502Z"
   },
   {
    "duration": 6,
    "start_time": "2022-12-18T20:26:21.509Z"
   },
   {
    "duration": 8,
    "start_time": "2022-12-18T20:26:21.517Z"
   },
   {
    "duration": 1246,
    "start_time": "2022-12-18T20:26:21.527Z"
   },
   {
    "duration": 6,
    "start_time": "2022-12-18T20:26:22.779Z"
   },
   {
    "duration": 9,
    "start_time": "2022-12-18T20:26:22.786Z"
   },
   {
    "duration": 123,
    "start_time": "2022-12-18T20:27:33.408Z"
   },
   {
    "duration": 1444,
    "start_time": "2022-12-18T20:27:33.533Z"
   },
   {
    "duration": 0,
    "start_time": "2022-12-18T20:27:34.979Z"
   },
   {
    "duration": 0,
    "start_time": "2022-12-18T20:27:34.980Z"
   },
   {
    "duration": 0,
    "start_time": "2022-12-18T20:27:34.982Z"
   },
   {
    "duration": 0,
    "start_time": "2022-12-18T20:27:34.983Z"
   },
   {
    "duration": 1393,
    "start_time": "2022-12-18T20:29:24.005Z"
   },
   {
    "duration": 2758,
    "start_time": "2022-12-18T20:30:46.834Z"
   },
   {
    "duration": 2947,
    "start_time": "2022-12-18T20:31:51.168Z"
   },
   {
    "duration": 2612,
    "start_time": "2022-12-18T20:34:23.082Z"
   },
   {
    "duration": 463,
    "start_time": "2022-12-18T20:34:25.696Z"
   },
   {
    "duration": 10,
    "start_time": "2022-12-18T20:34:26.161Z"
   },
   {
    "duration": 175,
    "start_time": "2022-12-18T20:34:26.173Z"
   },
   {
    "duration": 9,
    "start_time": "2022-12-18T20:34:26.352Z"
   },
   {
    "duration": 247,
    "start_time": "2022-12-18T20:37:43.859Z"
   },
   {
    "duration": 1961,
    "start_time": "2022-12-18T20:39:33.763Z"
   },
   {
    "duration": 427,
    "start_time": "2022-12-18T20:52:31.099Z"
   },
   {
    "duration": 34,
    "start_time": "2022-12-18T20:52:31.528Z"
   },
   {
    "duration": 16,
    "start_time": "2022-12-18T20:52:31.563Z"
   },
   {
    "duration": 2150,
    "start_time": "2022-12-18T20:52:31.580Z"
   },
   {
    "duration": 4,
    "start_time": "2022-12-18T20:52:33.732Z"
   },
   {
    "duration": 19,
    "start_time": "2022-12-18T20:52:33.738Z"
   },
   {
    "duration": 6,
    "start_time": "2022-12-18T20:52:33.759Z"
   },
   {
    "duration": 18,
    "start_time": "2022-12-18T20:52:33.767Z"
   },
   {
    "duration": 21,
    "start_time": "2022-12-18T20:52:33.786Z"
   },
   {
    "duration": 12,
    "start_time": "2022-12-18T20:52:33.809Z"
   },
   {
    "duration": 32,
    "start_time": "2022-12-18T20:52:33.823Z"
   },
   {
    "duration": 38,
    "start_time": "2022-12-18T20:52:33.856Z"
   },
   {
    "duration": 25,
    "start_time": "2022-12-18T20:52:33.895Z"
   },
   {
    "duration": 29,
    "start_time": "2022-12-18T20:52:33.923Z"
   },
   {
    "duration": 108,
    "start_time": "2022-12-18T20:52:33.954Z"
   },
   {
    "duration": 90,
    "start_time": "2022-12-18T20:52:34.063Z"
   },
   {
    "duration": 21,
    "start_time": "2022-12-18T20:52:34.154Z"
   },
   {
    "duration": 370,
    "start_time": "2022-12-18T20:52:34.177Z"
   },
   {
    "duration": 31,
    "start_time": "2022-12-18T20:52:34.556Z"
   },
   {
    "duration": 22,
    "start_time": "2022-12-18T20:52:34.589Z"
   },
   {
    "duration": 48,
    "start_time": "2022-12-18T20:52:34.613Z"
   },
   {
    "duration": 23,
    "start_time": "2022-12-18T20:52:34.663Z"
   },
   {
    "duration": 25,
    "start_time": "2022-12-18T20:52:34.688Z"
   },
   {
    "duration": 39,
    "start_time": "2022-12-18T20:52:34.715Z"
   },
   {
    "duration": 3,
    "start_time": "2022-12-18T20:52:34.756Z"
   },
   {
    "duration": 21,
    "start_time": "2022-12-18T20:52:34.761Z"
   },
   {
    "duration": 4,
    "start_time": "2022-12-18T20:52:34.784Z"
   },
   {
    "duration": 7,
    "start_time": "2022-12-18T20:52:34.790Z"
   },
   {
    "duration": 6,
    "start_time": "2022-12-18T20:52:34.798Z"
   },
   {
    "duration": 6,
    "start_time": "2022-12-18T20:52:34.805Z"
   },
   {
    "duration": 7,
    "start_time": "2022-12-18T20:52:34.812Z"
   },
   {
    "duration": 1185,
    "start_time": "2022-12-18T20:52:34.820Z"
   },
   {
    "duration": 5,
    "start_time": "2022-12-18T20:52:36.007Z"
   },
   {
    "duration": 8,
    "start_time": "2022-12-18T20:52:36.013Z"
   },
   {
    "duration": 120,
    "start_time": "2022-12-18T20:52:36.023Z"
   },
   {
    "duration": 2587,
    "start_time": "2022-12-18T20:52:36.145Z"
   },
   {
    "duration": 467,
    "start_time": "2022-12-18T20:52:38.734Z"
   },
   {
    "duration": 12,
    "start_time": "2022-12-18T20:52:39.203Z"
   },
   {
    "duration": 1859,
    "start_time": "2022-12-18T20:52:39.217Z"
   },
   {
    "duration": 170,
    "start_time": "2022-12-18T20:52:41.078Z"
   },
   {
    "duration": 249,
    "start_time": "2022-12-18T20:52:41.253Z"
   },
   {
    "duration": 16,
    "start_time": "2022-12-18T21:16:53.590Z"
   },
   {
    "duration": 7,
    "start_time": "2022-12-18T21:17:28.629Z"
   },
   {
    "duration": 16,
    "start_time": "2022-12-18T21:17:54.818Z"
   },
   {
    "duration": 99,
    "start_time": "2022-12-18T21:17:58.579Z"
   },
   {
    "duration": 5,
    "start_time": "2022-12-18T21:18:28.819Z"
   },
   {
    "duration": 5,
    "start_time": "2022-12-18T21:18:35.139Z"
   },
   {
    "duration": 418,
    "start_time": "2022-12-19T10:03:31.247Z"
   },
   {
    "duration": 151,
    "start_time": "2022-12-19T10:03:31.667Z"
   },
   {
    "duration": 3,
    "start_time": "2022-12-19T10:03:31.819Z"
   },
   {
    "duration": 27,
    "start_time": "2022-12-19T10:03:31.824Z"
   },
   {
    "duration": 2311,
    "start_time": "2022-12-19T10:03:31.852Z"
   },
   {
    "duration": 3,
    "start_time": "2022-12-19T10:03:34.165Z"
   },
   {
    "duration": 14,
    "start_time": "2022-12-19T10:03:34.170Z"
   },
   {
    "duration": 11,
    "start_time": "2022-12-19T10:03:34.185Z"
   },
   {
    "duration": 20,
    "start_time": "2022-12-19T10:03:34.198Z"
   },
   {
    "duration": 39,
    "start_time": "2022-12-19T10:03:34.222Z"
   },
   {
    "duration": 16,
    "start_time": "2022-12-19T10:03:34.263Z"
   },
   {
    "duration": 6,
    "start_time": "2022-12-19T10:03:34.281Z"
   },
   {
    "duration": 41,
    "start_time": "2022-12-19T10:03:34.288Z"
   },
   {
    "duration": 44,
    "start_time": "2022-12-19T10:03:34.331Z"
   },
   {
    "duration": 9,
    "start_time": "2022-12-19T10:03:34.377Z"
   },
   {
    "duration": 120,
    "start_time": "2022-12-19T10:03:34.388Z"
   },
   {
    "duration": 109,
    "start_time": "2022-12-19T10:03:34.510Z"
   },
   {
    "duration": 39,
    "start_time": "2022-12-19T10:03:34.622Z"
   },
   {
    "duration": 380,
    "start_time": "2022-12-19T10:03:34.663Z"
   },
   {
    "duration": 31,
    "start_time": "2022-12-19T10:03:35.045Z"
   },
   {
    "duration": 20,
    "start_time": "2022-12-19T10:03:35.078Z"
   },
   {
    "duration": 25,
    "start_time": "2022-12-19T10:03:35.100Z"
   },
   {
    "duration": 47,
    "start_time": "2022-12-19T10:03:35.127Z"
   },
   {
    "duration": 28,
    "start_time": "2022-12-19T10:03:35.176Z"
   },
   {
    "duration": 16,
    "start_time": "2022-12-19T10:03:35.206Z"
   },
   {
    "duration": 28,
    "start_time": "2022-12-19T10:03:35.224Z"
   },
   {
    "duration": 15,
    "start_time": "2022-12-19T10:03:35.254Z"
   },
   {
    "duration": 4,
    "start_time": "2022-12-19T10:03:35.273Z"
   },
   {
    "duration": 10,
    "start_time": "2022-12-19T10:03:35.279Z"
   },
   {
    "duration": 14,
    "start_time": "2022-12-19T10:03:35.290Z"
   },
   {
    "duration": 8,
    "start_time": "2022-12-19T10:03:35.305Z"
   },
   {
    "duration": 6,
    "start_time": "2022-12-19T10:03:35.314Z"
   },
   {
    "duration": 1201,
    "start_time": "2022-12-19T10:03:35.322Z"
   },
   {
    "duration": 6,
    "start_time": "2022-12-19T10:03:36.525Z"
   },
   {
    "duration": 8,
    "start_time": "2022-12-19T10:03:36.533Z"
   },
   {
    "duration": 110,
    "start_time": "2022-12-19T10:03:36.552Z"
   },
   {
    "duration": 2566,
    "start_time": "2022-12-19T10:03:36.664Z"
   },
   {
    "duration": 485,
    "start_time": "2022-12-19T10:03:39.232Z"
   },
   {
    "duration": 8,
    "start_time": "2022-12-19T10:03:39.719Z"
   },
   {
    "duration": 1911,
    "start_time": "2022-12-19T10:03:39.728Z"
   },
   {
    "duration": 172,
    "start_time": "2022-12-19T10:03:41.641Z"
   },
   {
    "duration": 253,
    "start_time": "2022-12-19T10:03:41.816Z"
   },
   {
    "duration": 451,
    "start_time": "2022-12-19T10:05:12.835Z"
   },
   {
    "duration": 90,
    "start_time": "2022-12-19T10:05:13.288Z"
   },
   {
    "duration": 35,
    "start_time": "2022-12-19T10:05:13.379Z"
   },
   {
    "duration": 16,
    "start_time": "2022-12-19T10:05:13.416Z"
   },
   {
    "duration": 2247,
    "start_time": "2022-12-19T10:05:13.452Z"
   },
   {
    "duration": 3,
    "start_time": "2022-12-19T10:05:15.701Z"
   },
   {
    "duration": 13,
    "start_time": "2022-12-19T10:05:15.706Z"
   },
   {
    "duration": 9,
    "start_time": "2022-12-19T10:05:15.721Z"
   },
   {
    "duration": 15,
    "start_time": "2022-12-19T10:05:15.732Z"
   },
   {
    "duration": 23,
    "start_time": "2022-12-19T10:05:15.749Z"
   },
   {
    "duration": 14,
    "start_time": "2022-12-19T10:05:15.773Z"
   },
   {
    "duration": 4,
    "start_time": "2022-12-19T10:05:15.789Z"
   },
   {
    "duration": 60,
    "start_time": "2022-12-19T10:05:15.795Z"
   },
   {
    "duration": 24,
    "start_time": "2022-12-19T10:05:15.857Z"
   },
   {
    "duration": 9,
    "start_time": "2022-12-19T10:05:15.883Z"
   },
   {
    "duration": 122,
    "start_time": "2022-12-19T10:05:15.894Z"
   },
   {
    "duration": 101,
    "start_time": "2022-12-19T10:05:16.018Z"
   },
   {
    "duration": 33,
    "start_time": "2022-12-19T10:05:16.121Z"
   },
   {
    "duration": 393,
    "start_time": "2022-12-19T10:05:16.155Z"
   },
   {
    "duration": 27,
    "start_time": "2022-12-19T10:05:16.549Z"
   },
   {
    "duration": 21,
    "start_time": "2022-12-19T10:05:16.578Z"
   },
   {
    "duration": 52,
    "start_time": "2022-12-19T10:05:16.600Z"
   },
   {
    "duration": 26,
    "start_time": "2022-12-19T10:05:16.654Z"
   },
   {
    "duration": 28,
    "start_time": "2022-12-19T10:05:16.682Z"
   },
   {
    "duration": 41,
    "start_time": "2022-12-19T10:05:16.711Z"
   },
   {
    "duration": 4,
    "start_time": "2022-12-19T10:05:16.754Z"
   },
   {
    "duration": 18,
    "start_time": "2022-12-19T10:05:16.759Z"
   },
   {
    "duration": 5,
    "start_time": "2022-12-19T10:05:16.781Z"
   },
   {
    "duration": 16,
    "start_time": "2022-12-19T10:05:16.787Z"
   },
   {
    "duration": 9,
    "start_time": "2022-12-19T10:05:16.805Z"
   },
   {
    "duration": 11,
    "start_time": "2022-12-19T10:05:16.816Z"
   },
   {
    "duration": 26,
    "start_time": "2022-12-19T10:05:16.829Z"
   },
   {
    "duration": 1192,
    "start_time": "2022-12-19T10:05:16.857Z"
   },
   {
    "duration": 5,
    "start_time": "2022-12-19T10:05:18.051Z"
   },
   {
    "duration": 12,
    "start_time": "2022-12-19T10:05:18.058Z"
   },
   {
    "duration": 119,
    "start_time": "2022-12-19T10:05:18.071Z"
   },
   {
    "duration": 2764,
    "start_time": "2022-12-19T10:05:18.191Z"
   },
   {
    "duration": 535,
    "start_time": "2022-12-19T10:05:20.957Z"
   },
   {
    "duration": 10,
    "start_time": "2022-12-19T10:05:21.494Z"
   },
   {
    "duration": 2032,
    "start_time": "2022-12-19T10:05:21.506Z"
   },
   {
    "duration": 186,
    "start_time": "2022-12-19T10:05:23.539Z"
   },
   {
    "duration": 265,
    "start_time": "2022-12-19T10:05:23.726Z"
   },
   {
    "duration": 420,
    "start_time": "2022-12-19T19:12:35.103Z"
   },
   {
    "duration": 103,
    "start_time": "2022-12-19T19:12:35.525Z"
   },
   {
    "duration": 35,
    "start_time": "2022-12-19T19:12:35.630Z"
   },
   {
    "duration": 23,
    "start_time": "2022-12-19T19:12:35.666Z"
   },
   {
    "duration": 2491,
    "start_time": "2022-12-19T19:12:35.691Z"
   },
   {
    "duration": 4,
    "start_time": "2022-12-19T19:12:38.184Z"
   },
   {
    "duration": 28,
    "start_time": "2022-12-19T19:12:38.190Z"
   },
   {
    "duration": 16,
    "start_time": "2022-12-19T19:12:38.220Z"
   },
   {
    "duration": 22,
    "start_time": "2022-12-19T19:12:38.239Z"
   },
   {
    "duration": 46,
    "start_time": "2022-12-19T19:12:38.278Z"
   },
   {
    "duration": 43,
    "start_time": "2022-12-19T19:12:38.326Z"
   },
   {
    "duration": 50,
    "start_time": "2022-12-19T19:12:38.371Z"
   },
   {
    "duration": 43,
    "start_time": "2022-12-19T19:12:38.424Z"
   },
   {
    "duration": 36,
    "start_time": "2022-12-19T19:12:38.470Z"
   },
   {
    "duration": 25,
    "start_time": "2022-12-19T19:12:38.508Z"
   },
   {
    "duration": 147,
    "start_time": "2022-12-19T19:12:38.536Z"
   },
   {
    "duration": 141,
    "start_time": "2022-12-19T19:12:38.685Z"
   },
   {
    "duration": 33,
    "start_time": "2022-12-19T19:12:38.829Z"
   },
   {
    "duration": 455,
    "start_time": "2022-12-19T19:12:38.879Z"
   },
   {
    "duration": 51,
    "start_time": "2022-12-19T19:12:39.336Z"
   },
   {
    "duration": 28,
    "start_time": "2022-12-19T19:12:39.389Z"
   },
   {
    "duration": 28,
    "start_time": "2022-12-19T19:12:39.419Z"
   },
   {
    "duration": 58,
    "start_time": "2022-12-19T19:12:39.449Z"
   },
   {
    "duration": 36,
    "start_time": "2022-12-19T19:12:39.510Z"
   },
   {
    "duration": 44,
    "start_time": "2022-12-19T19:12:39.548Z"
   },
   {
    "duration": 9,
    "start_time": "2022-12-19T19:12:39.594Z"
   },
   {
    "duration": 23,
    "start_time": "2022-12-19T19:12:39.605Z"
   },
   {
    "duration": 4,
    "start_time": "2022-12-19T19:12:39.630Z"
   },
   {
    "duration": 9,
    "start_time": "2022-12-19T19:12:39.635Z"
   },
   {
    "duration": 6,
    "start_time": "2022-12-19T19:12:39.647Z"
   },
   {
    "duration": 11,
    "start_time": "2022-12-19T19:12:39.678Z"
   },
   {
    "duration": 37,
    "start_time": "2022-12-19T19:12:39.691Z"
   },
   {
    "duration": 1539,
    "start_time": "2022-12-19T19:12:39.730Z"
   },
   {
    "duration": 16,
    "start_time": "2022-12-19T19:12:41.278Z"
   },
   {
    "duration": 21,
    "start_time": "2022-12-19T19:12:41.296Z"
   },
   {
    "duration": 160,
    "start_time": "2022-12-19T19:12:41.320Z"
   },
   {
    "duration": 3178,
    "start_time": "2022-12-19T19:12:41.482Z"
   },
   {
    "duration": 577,
    "start_time": "2022-12-19T19:12:44.661Z"
   },
   {
    "duration": 11,
    "start_time": "2022-12-19T19:12:45.240Z"
   },
   {
    "duration": 2311,
    "start_time": "2022-12-19T19:12:45.253Z"
   },
   {
    "duration": 217,
    "start_time": "2022-12-19T19:12:47.568Z"
   },
   {
    "duration": 322,
    "start_time": "2022-12-19T19:12:47.787Z"
   },
   {
    "duration": 353,
    "start_time": "2022-12-20T06:46:14.860Z"
   },
   {
    "duration": 134,
    "start_time": "2022-12-20T06:46:17.656Z"
   },
   {
    "duration": 30,
    "start_time": "2022-12-20T06:46:21.015Z"
   },
   {
    "duration": 3,
    "start_time": "2022-12-20T06:46:32.089Z"
   },
   {
    "duration": 4,
    "start_time": "2022-12-20T06:46:51.020Z"
   },
   {
    "duration": 4,
    "start_time": "2022-12-20T06:46:59.134Z"
   },
   {
    "duration": 79,
    "start_time": "2022-12-20T06:47:12.887Z"
   },
   {
    "duration": 8,
    "start_time": "2022-12-20T06:47:24.634Z"
   },
   {
    "duration": 9,
    "start_time": "2022-12-20T06:47:29.327Z"
   },
   {
    "duration": 4,
    "start_time": "2022-12-20T06:50:06.535Z"
   },
   {
    "duration": 4,
    "start_time": "2022-12-20T06:50:34.091Z"
   },
   {
    "duration": 7,
    "start_time": "2022-12-20T06:51:36.049Z"
   },
   {
    "duration": 3,
    "start_time": "2022-12-20T06:58:13.145Z"
   },
   {
    "duration": 4,
    "start_time": "2022-12-20T07:08:39.302Z"
   },
   {
    "duration": 22,
    "start_time": "2022-12-20T07:10:06.319Z"
   },
   {
    "duration": 8,
    "start_time": "2022-12-20T07:11:06.071Z"
   },
   {
    "duration": 7,
    "start_time": "2022-12-20T07:11:44.012Z"
   },
   {
    "duration": 4,
    "start_time": "2022-12-20T07:11:57.194Z"
   },
   {
    "duration": 21,
    "start_time": "2022-12-20T07:12:33.573Z"
   },
   {
    "duration": 9,
    "start_time": "2022-12-20T07:13:19.106Z"
   },
   {
    "duration": 13,
    "start_time": "2022-12-20T07:16:31.108Z"
   },
   {
    "duration": 12,
    "start_time": "2022-12-20T07:21:58.689Z"
   },
   {
    "duration": 12,
    "start_time": "2022-12-20T07:22:13.237Z"
   },
   {
    "duration": 6,
    "start_time": "2022-12-20T07:23:38.442Z"
   },
   {
    "duration": 40,
    "start_time": "2022-12-20T07:25:04.591Z"
   },
   {
    "duration": 36,
    "start_time": "2022-12-20T08:07:11.380Z"
   },
   {
    "duration": 11,
    "start_time": "2022-12-20T08:09:12.586Z"
   },
   {
    "duration": 9,
    "start_time": "2022-12-20T08:09:39.079Z"
   },
   {
    "duration": 42,
    "start_time": "2022-12-20T08:52:15.893Z"
   },
   {
    "duration": 2,
    "start_time": "2022-12-20T08:52:21.127Z"
   },
   {
    "duration": 5,
    "start_time": "2022-12-20T08:52:25.402Z"
   },
   {
    "duration": 364,
    "start_time": "2022-12-20T08:52:35.157Z"
   },
   {
    "duration": 86,
    "start_time": "2022-12-20T08:52:38.200Z"
   },
   {
    "duration": 55,
    "start_time": "2022-12-20T08:52:44.378Z"
   },
   {
    "duration": 31,
    "start_time": "2022-12-20T08:53:49.926Z"
   },
   {
    "duration": 29,
    "start_time": "2022-12-20T08:54:04.926Z"
   },
   {
    "duration": 10,
    "start_time": "2022-12-20T08:55:21.017Z"
   },
   {
    "duration": 14,
    "start_time": "2022-12-20T08:55:43.406Z"
   },
   {
    "duration": 15,
    "start_time": "2022-12-20T08:56:45.553Z"
   },
   {
    "duration": 15,
    "start_time": "2022-12-20T08:56:58.094Z"
   },
   {
    "duration": 28,
    "start_time": "2022-12-20T08:57:13.053Z"
   },
   {
    "duration": 35,
    "start_time": "2022-12-20T09:46:35.158Z"
   },
   {
    "duration": 16,
    "start_time": "2022-12-20T09:46:48.898Z"
   },
   {
    "duration": 14,
    "start_time": "2022-12-20T09:51:52.831Z"
   },
   {
    "duration": 15,
    "start_time": "2022-12-20T09:52:07.732Z"
   },
   {
    "duration": 14,
    "start_time": "2022-12-20T10:50:26.355Z"
   },
   {
    "duration": 30,
    "start_time": "2022-12-20T10:50:37.975Z"
   },
   {
    "duration": 27,
    "start_time": "2022-12-20T10:50:55.254Z"
   },
   {
    "duration": 8,
    "start_time": "2022-12-20T11:10:11.528Z"
   },
   {
    "duration": 7,
    "start_time": "2022-12-20T11:10:26.144Z"
   },
   {
    "duration": 7,
    "start_time": "2022-12-20T11:10:42.329Z"
   },
   {
    "duration": 43,
    "start_time": "2022-12-20T11:11:34.191Z"
   },
   {
    "duration": 6,
    "start_time": "2022-12-20T11:11:49.301Z"
   },
   {
    "duration": 3,
    "start_time": "2022-12-20T11:12:26.108Z"
   },
   {
    "duration": 3,
    "start_time": "2022-12-21T12:39:40.394Z"
   },
   {
    "duration": 391,
    "start_time": "2022-12-21T12:40:18.426Z"
   },
   {
    "duration": 356,
    "start_time": "2022-12-21T12:40:18.818Z"
   },
   {
    "duration": 37,
    "start_time": "2022-12-21T12:40:19.176Z"
   },
   {
    "duration": 3,
    "start_time": "2022-12-21T12:40:19.215Z"
   },
   {
    "duration": 10,
    "start_time": "2022-12-21T12:40:19.221Z"
   },
   {
    "duration": 11,
    "start_time": "2022-12-21T12:40:19.233Z"
   },
   {
    "duration": 15,
    "start_time": "2022-12-21T12:40:19.246Z"
   },
   {
    "duration": 21,
    "start_time": "2022-12-21T12:40:19.263Z"
   },
   {
    "duration": 16,
    "start_time": "2022-12-21T12:40:19.286Z"
   },
   {
    "duration": 25,
    "start_time": "2022-12-21T12:40:19.304Z"
   },
   {
    "duration": 17,
    "start_time": "2022-12-21T12:40:19.331Z"
   },
   {
    "duration": 32,
    "start_time": "2022-12-21T12:40:19.349Z"
   },
   {
    "duration": 37,
    "start_time": "2022-12-21T12:40:19.382Z"
   },
   {
    "duration": 25,
    "start_time": "2022-12-21T12:40:19.422Z"
   },
   {
    "duration": 9,
    "start_time": "2022-12-21T12:40:19.448Z"
   },
   {
    "duration": 136,
    "start_time": "2022-12-21T12:40:19.458Z"
   },
   {
    "duration": 96,
    "start_time": "2022-12-21T12:40:19.595Z"
   },
   {
    "duration": 22,
    "start_time": "2022-12-21T12:40:19.693Z"
   },
   {
    "duration": 754,
    "start_time": "2022-12-21T12:40:19.717Z"
   },
   {
    "duration": 30,
    "start_time": "2022-12-21T12:40:20.473Z"
   },
   {
    "duration": 18,
    "start_time": "2022-12-21T12:40:20.505Z"
   },
   {
    "duration": 28,
    "start_time": "2022-12-21T12:40:20.524Z"
   },
   {
    "duration": 45,
    "start_time": "2022-12-21T12:40:20.554Z"
   },
   {
    "duration": 27,
    "start_time": "2022-12-21T12:40:20.600Z"
   },
   {
    "duration": 43,
    "start_time": "2022-12-21T12:40:20.629Z"
   },
   {
    "duration": 14,
    "start_time": "2022-12-21T12:40:20.674Z"
   },
   {
    "duration": 25,
    "start_time": "2022-12-21T12:40:20.689Z"
   },
   {
    "duration": 10,
    "start_time": "2022-12-21T12:40:20.715Z"
   },
   {
    "duration": 21,
    "start_time": "2022-12-21T12:40:20.726Z"
   },
   {
    "duration": 5,
    "start_time": "2022-12-21T12:40:20.749Z"
   },
   {
    "duration": 9,
    "start_time": "2022-12-21T12:40:20.756Z"
   },
   {
    "duration": 6,
    "start_time": "2022-12-21T12:40:20.766Z"
   },
   {
    "duration": 1200,
    "start_time": "2022-12-21T12:40:20.773Z"
   },
   {
    "duration": 6,
    "start_time": "2022-12-21T12:40:21.976Z"
   },
   {
    "duration": 8,
    "start_time": "2022-12-21T12:40:21.983Z"
   },
   {
    "duration": 142,
    "start_time": "2022-12-21T12:40:21.993Z"
   },
   {
    "duration": 2705,
    "start_time": "2022-12-21T12:40:22.137Z"
   },
   {
    "duration": 595,
    "start_time": "2022-12-21T12:40:24.844Z"
   },
   {
    "duration": 9,
    "start_time": "2022-12-21T12:40:25.442Z"
   },
   {
    "duration": 1987,
    "start_time": "2022-12-21T12:40:25.453Z"
   },
   {
    "duration": 184,
    "start_time": "2022-12-21T12:40:27.445Z"
   },
   {
    "duration": 273,
    "start_time": "2022-12-21T12:40:27.631Z"
   },
   {
    "duration": 399,
    "start_time": "2023-09-25T08:27:53.686Z"
   },
   {
    "duration": 196,
    "start_time": "2023-09-25T08:27:54.088Z"
   },
   {
    "duration": 48,
    "start_time": "2023-09-25T08:27:54.287Z"
   },
   {
    "duration": 3,
    "start_time": "2023-09-25T08:27:54.337Z"
   },
   {
    "duration": 19,
    "start_time": "2023-09-25T08:27:54.343Z"
   },
   {
    "duration": 4,
    "start_time": "2023-09-25T08:27:54.364Z"
   },
   {
    "duration": 34,
    "start_time": "2023-09-25T08:27:54.370Z"
   },
   {
    "duration": 13,
    "start_time": "2023-09-25T08:27:54.406Z"
   },
   {
    "duration": 20,
    "start_time": "2023-09-25T08:27:54.421Z"
   },
   {
    "duration": 46,
    "start_time": "2023-09-25T08:27:54.442Z"
   },
   {
    "duration": 23,
    "start_time": "2023-09-25T08:27:54.491Z"
   },
   {
    "duration": 7,
    "start_time": "2023-09-25T08:27:54.516Z"
   },
   {
    "duration": 55,
    "start_time": "2023-09-25T08:27:54.525Z"
   },
   {
    "duration": 29,
    "start_time": "2023-09-25T08:27:54.583Z"
   },
   {
    "duration": 14,
    "start_time": "2023-09-25T08:27:54.614Z"
   },
   {
    "duration": 117,
    "start_time": "2023-09-25T08:27:54.645Z"
   },
   {
    "duration": 101,
    "start_time": "2023-09-25T08:27:54.765Z"
   },
   {
    "duration": 27,
    "start_time": "2023-09-25T08:27:54.867Z"
   },
   {
    "duration": 822,
    "start_time": "2023-09-25T08:27:54.896Z"
   },
   {
    "duration": 53,
    "start_time": "2023-09-25T08:27:55.720Z"
   },
   {
    "duration": 24,
    "start_time": "2023-09-25T08:27:55.775Z"
   },
   {
    "duration": 55,
    "start_time": "2023-09-25T08:27:55.802Z"
   },
   {
    "duration": 32,
    "start_time": "2023-09-25T08:27:55.860Z"
   },
   {
    "duration": 51,
    "start_time": "2023-09-25T08:27:55.893Z"
   },
   {
    "duration": 22,
    "start_time": "2023-09-25T08:27:55.946Z"
   },
   {
    "duration": 6,
    "start_time": "2023-09-25T08:27:55.970Z"
   },
   {
    "duration": 45,
    "start_time": "2023-09-25T08:27:55.978Z"
   },
   {
    "duration": 19,
    "start_time": "2023-09-25T08:27:56.025Z"
   },
   {
    "duration": 16,
    "start_time": "2023-09-25T08:27:56.046Z"
   },
   {
    "duration": 18,
    "start_time": "2023-09-25T08:27:56.064Z"
   },
   {
    "duration": 15,
    "start_time": "2023-09-25T08:27:56.084Z"
   },
   {
    "duration": 19,
    "start_time": "2023-09-25T08:27:56.101Z"
   },
   {
    "duration": 1238,
    "start_time": "2023-09-25T08:27:56.121Z"
   },
   {
    "duration": 6,
    "start_time": "2023-09-25T08:27:57.361Z"
   },
   {
    "duration": 57,
    "start_time": "2023-09-25T08:27:57.369Z"
   },
   {
    "duration": 134,
    "start_time": "2023-09-25T08:27:57.428Z"
   },
   {
    "duration": 3093,
    "start_time": "2023-09-25T08:27:57.564Z"
   },
   {
    "duration": 676,
    "start_time": "2023-09-25T08:28:00.659Z"
   },
   {
    "duration": 13,
    "start_time": "2023-09-25T08:28:01.338Z"
   },
   {
    "duration": 2487,
    "start_time": "2023-09-25T08:28:01.353Z"
   },
   {
    "duration": 211,
    "start_time": "2023-09-25T08:28:03.847Z"
   },
   {
    "duration": 385,
    "start_time": "2023-09-25T08:28:04.060Z"
   }
  ],
  "kernelspec": {
   "display_name": "Python 3 (ipykernel)",
   "language": "python",
   "name": "python3"
  },
  "language_info": {
   "codemirror_mode": {
    "name": "ipython",
    "version": 3
   },
   "file_extension": ".py",
   "mimetype": "text/x-python",
   "name": "python",
   "nbconvert_exporter": "python",
   "pygments_lexer": "ipython3",
   "version": "3.9.5"
  },
  "toc": {
   "base_numbering": 1,
   "nav_menu": {},
   "number_sections": true,
   "sideBar": true,
   "skip_h1_title": true,
   "title_cell": "Table of Contents",
   "title_sidebar": "Contents",
   "toc_cell": false,
   "toc_position": {},
   "toc_section_display": true,
   "toc_window_display": false
  }
 },
 "nbformat": 4,
 "nbformat_minor": 2
}
