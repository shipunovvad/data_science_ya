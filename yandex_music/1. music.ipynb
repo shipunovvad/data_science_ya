{
 "cells": [
  {
   "cell_type": "markdown",
   "metadata": {
    "deletable": false,
    "editable": false,
    "id": "E0vqbgi9ay0H"
   },
   "source": [
    "# Яндекс Музыка"
   ]
  },
  {
   "cell_type": "markdown",
   "metadata": {
    "deletable": false,
    "editable": false,
    "id": "VUC88oWjTJw2"
   },
   "source": [
    "Сравнение Москвы и Петербурга окружено мифами. Например:\n",
    " * Москва — мегаполис, подчинённый жёсткому ритму рабочей недели;\n",
    " * Петербург — культурная столица, со своими вкусами.\n",
    "\n",
    "На данных Яндекс Музыки вы сравните поведение пользователей двух столиц.\n",
    "\n",
    "**Цель исследования** — проверьте три гипотезы:\n",
    "1. Активность пользователей зависит от дня недели. Причём в Москве и Петербурге это проявляется по-разному.\n",
    "2. В понедельник утром в Москве преобладают одни жанры, а в Петербурге — другие. Так же и вечером пятницы преобладают разные жанры — в зависимости от города. \n",
    "3. Москва и Петербург предпочитают разные жанры музыки. В Москве чаще слушают поп-музыку, в Петербурге — русский рэп.\n",
    "\n",
    "**Ход исследования**\n",
    "\n",
    "Данные о поведении пользователей вы получите из файла `yandex_music_project.csv`. О качестве данных ничего не известно. Поэтому перед проверкой гипотез понадобится обзор данных. \n",
    "\n",
    "Вы проверите данные на ошибки и оцените их влияние на исследование. Затем, на этапе предобработки вы поищете возможность исправить самые критичные ошибки данных.\n",
    " \n",
    "Таким образом, исследование пройдёт в три этапа:\n",
    " 1. Обзор данных.\n",
    " 2. Предобработка данных.\n",
    " 3. Проверка гипотез.\n",
    "\n"
   ]
  },
  {
   "cell_type": "markdown",
   "metadata": {
    "deletable": false,
    "editable": false,
    "id": "Ml1hmfXC_Zcs"
   },
   "source": [
    "## Обзор данных\n",
    "\n",
    "Составьте первое представление о данных Яндекс Музыки.\n",
    "\n",
    "\n"
   ]
  },
  {
   "cell_type": "markdown",
   "metadata": {
    "deletable": false,
    "editable": false,
    "id": "57eAOGIz_Zcs",
    "tags": [
     "start_task"
    ]
   },
   "source": [
    "**Задание 1**\n",
    "\n",
    "Основной инструмент аналитика — `pandas`. Импортируйте эту библиотеку."
   ]
  },
  {
   "cell_type": "code",
   "execution_count": 1,
   "metadata": {
    "deletable": false,
    "id": "AXN7PHPN_Zcs"
   },
   "outputs": [],
   "source": [
    "import pandas as pd# импорт библиотеки pandas"
   ]
  },
  {
   "cell_type": "markdown",
   "metadata": {
    "deletable": false,
    "editable": false,
    "id": "SG23P8tt_Zcs",
    "tags": [
     "start_task"
    ]
   },
   "source": [
    "**Задание 2**\n",
    "\n",
    "Прочитайте файл `yandex_music_project.csv` из папки `/datasets` и сохраните его в переменной `df`:"
   ]
  },
  {
   "cell_type": "code",
   "execution_count": 2,
   "metadata": {
    "deletable": false,
    "id": "fFVu7vqh_Zct"
   },
   "outputs": [],
   "source": [
    "df = pd.read_csv('/datasets/yandex_music_project.csv')# чтение файла с данными и сохранение в df"
   ]
  },
  {
   "cell_type": "markdown",
   "metadata": {
    "deletable": false,
    "editable": false,
    "id": "rDoOMd3uTqnZ",
    "tags": [
     "start_task"
    ]
   },
   "source": [
    "**Задание 3**\n",
    "\n",
    "\n",
    "Выведите на экран первые десять строк таблицы:"
   ]
  },
  {
   "cell_type": "code",
   "execution_count": 3,
   "metadata": {
    "deletable": false,
    "id": "oWTVX3gW_Zct"
   },
   "outputs": [
    {
     "data": {
      "text/html": [
       "<div>\n",
       "<style scoped>\n",
       "    .dataframe tbody tr th:only-of-type {\n",
       "        vertical-align: middle;\n",
       "    }\n",
       "\n",
       "    .dataframe tbody tr th {\n",
       "        vertical-align: top;\n",
       "    }\n",
       "\n",
       "    .dataframe thead th {\n",
       "        text-align: right;\n",
       "    }\n",
       "</style>\n",
       "<table border=\"1\" class=\"dataframe\">\n",
       "  <thead>\n",
       "    <tr style=\"text-align: right;\">\n",
       "      <th></th>\n",
       "      <th>userID</th>\n",
       "      <th>Track</th>\n",
       "      <th>artist</th>\n",
       "      <th>genre</th>\n",
       "      <th>City</th>\n",
       "      <th>time</th>\n",
       "      <th>Day</th>\n",
       "    </tr>\n",
       "  </thead>\n",
       "  <tbody>\n",
       "    <tr>\n",
       "      <th>0</th>\n",
       "      <td>FFB692EC</td>\n",
       "      <td>Kamigata To Boots</td>\n",
       "      <td>The Mass Missile</td>\n",
       "      <td>rock</td>\n",
       "      <td>Saint-Petersburg</td>\n",
       "      <td>20:28:33</td>\n",
       "      <td>Wednesday</td>\n",
       "    </tr>\n",
       "    <tr>\n",
       "      <th>1</th>\n",
       "      <td>55204538</td>\n",
       "      <td>Delayed Because of Accident</td>\n",
       "      <td>Andreas Rönnberg</td>\n",
       "      <td>rock</td>\n",
       "      <td>Moscow</td>\n",
       "      <td>14:07:09</td>\n",
       "      <td>Friday</td>\n",
       "    </tr>\n",
       "    <tr>\n",
       "      <th>2</th>\n",
       "      <td>20EC38</td>\n",
       "      <td>Funiculì funiculà</td>\n",
       "      <td>Mario Lanza</td>\n",
       "      <td>pop</td>\n",
       "      <td>Saint-Petersburg</td>\n",
       "      <td>20:58:07</td>\n",
       "      <td>Wednesday</td>\n",
       "    </tr>\n",
       "    <tr>\n",
       "      <th>3</th>\n",
       "      <td>A3DD03C9</td>\n",
       "      <td>Dragons in the Sunset</td>\n",
       "      <td>Fire + Ice</td>\n",
       "      <td>folk</td>\n",
       "      <td>Saint-Petersburg</td>\n",
       "      <td>08:37:09</td>\n",
       "      <td>Monday</td>\n",
       "    </tr>\n",
       "    <tr>\n",
       "      <th>4</th>\n",
       "      <td>E2DC1FAE</td>\n",
       "      <td>Soul People</td>\n",
       "      <td>Space Echo</td>\n",
       "      <td>dance</td>\n",
       "      <td>Moscow</td>\n",
       "      <td>08:34:34</td>\n",
       "      <td>Monday</td>\n",
       "    </tr>\n",
       "    <tr>\n",
       "      <th>5</th>\n",
       "      <td>842029A1</td>\n",
       "      <td>Преданная</td>\n",
       "      <td>IMPERVTOR</td>\n",
       "      <td>rusrap</td>\n",
       "      <td>Saint-Petersburg</td>\n",
       "      <td>13:09:41</td>\n",
       "      <td>Friday</td>\n",
       "    </tr>\n",
       "    <tr>\n",
       "      <th>6</th>\n",
       "      <td>4CB90AA5</td>\n",
       "      <td>True</td>\n",
       "      <td>Roman Messer</td>\n",
       "      <td>dance</td>\n",
       "      <td>Moscow</td>\n",
       "      <td>13:00:07</td>\n",
       "      <td>Wednesday</td>\n",
       "    </tr>\n",
       "    <tr>\n",
       "      <th>7</th>\n",
       "      <td>F03E1C1F</td>\n",
       "      <td>Feeling This Way</td>\n",
       "      <td>Polina Griffith</td>\n",
       "      <td>dance</td>\n",
       "      <td>Moscow</td>\n",
       "      <td>20:47:49</td>\n",
       "      <td>Wednesday</td>\n",
       "    </tr>\n",
       "    <tr>\n",
       "      <th>8</th>\n",
       "      <td>8FA1D3BE</td>\n",
       "      <td>И вновь продолжается бой</td>\n",
       "      <td>NaN</td>\n",
       "      <td>ruspop</td>\n",
       "      <td>Moscow</td>\n",
       "      <td>09:17:40</td>\n",
       "      <td>Friday</td>\n",
       "    </tr>\n",
       "    <tr>\n",
       "      <th>9</th>\n",
       "      <td>E772D5C0</td>\n",
       "      <td>Pessimist</td>\n",
       "      <td>NaN</td>\n",
       "      <td>dance</td>\n",
       "      <td>Saint-Petersburg</td>\n",
       "      <td>21:20:49</td>\n",
       "      <td>Wednesday</td>\n",
       "    </tr>\n",
       "  </tbody>\n",
       "</table>\n",
       "</div>"
      ],
      "text/plain": [
       "     userID                        Track            artist   genre  \\\n",
       "0  FFB692EC            Kamigata To Boots  The Mass Missile    rock   \n",
       "1  55204538  Delayed Because of Accident  Andreas Rönnberg    rock   \n",
       "2    20EC38            Funiculì funiculà       Mario Lanza     pop   \n",
       "3  A3DD03C9        Dragons in the Sunset        Fire + Ice    folk   \n",
       "4  E2DC1FAE                  Soul People        Space Echo   dance   \n",
       "5  842029A1                    Преданная         IMPERVTOR  rusrap   \n",
       "6  4CB90AA5                         True      Roman Messer   dance   \n",
       "7  F03E1C1F             Feeling This Way   Polina Griffith   dance   \n",
       "8  8FA1D3BE     И вновь продолжается бой               NaN  ruspop   \n",
       "9  E772D5C0                    Pessimist               NaN   dance   \n",
       "\n",
       "             City        time        Day  \n",
       "0  Saint-Petersburg  20:28:33  Wednesday  \n",
       "1            Moscow  14:07:09     Friday  \n",
       "2  Saint-Petersburg  20:58:07  Wednesday  \n",
       "3  Saint-Petersburg  08:37:09     Monday  \n",
       "4            Moscow  08:34:34     Monday  \n",
       "5  Saint-Petersburg  13:09:41     Friday  \n",
       "6            Moscow  13:00:07  Wednesday  \n",
       "7            Moscow  20:47:49  Wednesday  \n",
       "8            Moscow  09:17:40     Friday  \n",
       "9  Saint-Petersburg  21:20:49  Wednesday  "
      ]
     },
     "execution_count": 3,
     "metadata": {},
     "output_type": "execute_result"
    }
   ],
   "source": [
    "df.head(10)# получение первых 10 строк таблицы df"
   ]
  },
  {
   "cell_type": "markdown",
   "metadata": {
    "deletable": false,
    "editable": false,
    "id": "EO73Kwic_Zct",
    "tags": [
     "start_task"
    ]
   },
   "source": [
    "**Задание 4**\n",
    "\n",
    "\n",
    "Одной командой получить общую информацию о таблице c помощью метода `info()`:"
   ]
  },
  {
   "cell_type": "code",
   "execution_count": 4,
   "metadata": {
    "deletable": false,
    "id": "DSf2kIb-_Zct",
    "scrolled": false
   },
   "outputs": [
    {
     "name": "stdout",
     "output_type": "stream",
     "text": [
      "<class 'pandas.core.frame.DataFrame'>\n",
      "RangeIndex: 65079 entries, 0 to 65078\n",
      "Data columns (total 7 columns):\n",
      " #   Column    Non-Null Count  Dtype \n",
      "---  ------    --------------  ----- \n",
      " 0     userID  65079 non-null  object\n",
      " 1   Track     63848 non-null  object\n",
      " 2   artist    57876 non-null  object\n",
      " 3   genre     63881 non-null  object\n",
      " 4     City    65079 non-null  object\n",
      " 5   time      65079 non-null  object\n",
      " 6   Day       65079 non-null  object\n",
      "dtypes: object(7)\n",
      "memory usage: 3.5+ MB\n"
     ]
    }
   ],
   "source": [
    "df.info()# получение общей информации о данных в таблице df"
   ]
  },
  {
   "cell_type": "markdown",
   "metadata": {
    "deletable": false,
    "editable": false,
    "id": "TaQ2Iwbr_Zct"
   },
   "source": [
    "Итак, в таблице семь столбцов. Тип данных во всех столбцах — `object`.\n",
    "\n",
    "Согласно документации к данным:\n",
    "* `userID` — идентификатор пользователя;\n",
    "* `Track` — название трека;  \n",
    "* `artist` — имя исполнителя;\n",
    "* `genre` — название жанра;\n",
    "* `City` — город пользователя;\n",
    "* `time` — время начала прослушивания;\n",
    "* `Day` — день недели.\n",
    "\n",
    "Количество значений в столбцах различается. Значит, в данных есть пропущенные значения."
   ]
  },
  {
   "cell_type": "markdown",
   "metadata": {
    "deletable": false,
    "editable": false,
    "id": "rAfziTBDmf2h",
    "tags": [
     "start_task"
    ]
   },
   "source": [
    "**Задание 5**\n",
    "\n",
    "**Вопрос со свободной формой ответа**\n",
    "\n",
    "В названиях колонок видны нарушения стиля:\n",
    "* Строчные буквы сочетаются с прописными.\n",
    "* Встречаются пробелы.\n",
    "\n",
    "Какое третье нарушение?"
   ]
  },
  {
   "cell_type": "code",
   "execution_count": 5,
   "metadata": {
    "id": "jD8EXEIvmf2h"
   },
   "outputs": [],
   "source": [
    "# Нет нижних подчеркиваний"
   ]
  },
  {
   "cell_type": "markdown",
   "metadata": {
    "deletable": false,
    "editable": false,
    "id": "MCB6-dXG_Zct"
   },
   "source": [
    "**Выводы**\n",
    "\n",
    "В каждой строке таблицы — данные о прослушанном треке. Часть колонок описывает саму композицию: название, исполнителя и жанр. Остальные данные рассказывают о пользователе: из какого он города, когда он слушал музыку. \n",
    "\n",
    "Предварительно можно утверждать, что данных достаточно для проверки гипотез. Но встречаются пропуски в данных, а в названиях колонок — расхождения с хорошим стилем.\n",
    "\n",
    "Чтобы двигаться дальше, нужно устранить проблемы в данных."
   ]
  },
  {
   "cell_type": "markdown",
   "metadata": {
    "deletable": false,
    "editable": false,
    "id": "SjYF6Ub9_Zct"
   },
   "source": [
    "## Предобработка данных\n",
    "Исправьте стиль в заголовках столбцов, исключите пропуски. Затем проверьте данные на дубликаты."
   ]
  },
  {
   "cell_type": "markdown",
   "metadata": {
    "deletable": false,
    "editable": false,
    "id": "dIaKXr29_Zct",
    "tags": [
     "start_task"
    ]
   },
   "source": [
    "### Стиль заголовков\n",
    "\n",
    "**Задание 6**\n",
    "\n",
    "Выведите на экран названия столбцов:"
   ]
  },
  {
   "cell_type": "code",
   "execution_count": 6,
   "metadata": {
    "deletable": false,
    "id": "oKOTdF_Q_Zct"
   },
   "outputs": [
    {
     "data": {
      "text/plain": [
       "Index(['  userID', 'Track', 'artist', 'genre', '  City  ', 'time', 'Day'], dtype='object')"
      ]
     },
     "execution_count": 6,
     "metadata": {},
     "output_type": "execute_result"
    }
   ],
   "source": [
    "df.columns# перечень названий столбцов таблицы df"
   ]
  },
  {
   "cell_type": "markdown",
   "metadata": {
    "deletable": false,
    "editable": false,
    "id": "zj5534cv_Zct",
    "tags": [
     "start_task"
    ]
   },
   "source": [
    "**Задание 7**\n",
    "\n",
    "\n",
    "Приведите названия в соответствие с хорошим стилем:\n",
    "* несколько слов в названии запишите в «змеином_регистре»,\n",
    "* все символы сделайте строчными,\n",
    "* устраните пробелы.\n",
    "\n",
    "Для этого переименуйте колонки так:\n",
    "* `'  userID'` → `'user_id'`;\n",
    "* `'Track'` → `'track'`;\n",
    "* `'  City  '` → `'city'`;\n",
    "* `'Day'` → `'day'`."
   ]
  },
  {
   "cell_type": "code",
   "execution_count": 7,
   "metadata": {
    "deletable": false,
    "id": "ISlFqs5y_Zct"
   },
   "outputs": [],
   "source": [
    "df = df.rename(columns={'  userID': 'user_id', 'Track': 'track', '  City  ': 'city', 'Day': 'day'})  # переименование столбцов"
   ]
  },
  {
   "cell_type": "markdown",
   "metadata": {
    "deletable": false,
    "editable": false,
    "id": "1dqbh00J_Zct",
    "tags": [
     "start_task"
    ]
   },
   "source": [
    "**Задание 8**\n",
    "\n",
    "\n",
    "Проверьте результат. Для этого ещё раз выведите на экран названия столбцов:"
   ]
  },
  {
   "cell_type": "code",
   "execution_count": 8,
   "metadata": {
    "deletable": false,
    "id": "d4NOAmTW_Zct"
   },
   "outputs": [
    {
     "data": {
      "text/plain": [
       "Index(['user_id', 'track', 'artist', 'genre', 'city', 'time', 'day'], dtype='object')"
      ]
     },
     "execution_count": 8,
     "metadata": {},
     "output_type": "execute_result"
    }
   ],
   "source": [
    "df.columns # проверка результатов - перечень названий столбцов"
   ]
  },
  {
   "cell_type": "markdown",
   "metadata": {
    "deletable": false,
    "editable": false,
    "id": "5ISfbcfY_Zct",
    "tags": [
     "start_task"
    ]
   },
   "source": [
    "### Пропуски значений\n",
    "\n",
    "**Задание 9**\n",
    "\n",
    "Сначала посчитайте, сколько в таблице пропущенных значений. Для этого достаточно двух методов `pandas`:"
   ]
  },
  {
   "cell_type": "code",
   "execution_count": 9,
   "metadata": {
    "deletable": false,
    "id": "RskX29qr_Zct"
   },
   "outputs": [
    {
     "data": {
      "text/plain": [
       "user_id       0\n",
       "track      1231\n",
       "artist     7203\n",
       "genre      1198\n",
       "city          0\n",
       "time          0\n",
       "day           0\n",
       "dtype: int64"
      ]
     },
     "execution_count": 9,
     "metadata": {},
     "output_type": "execute_result"
    }
   ],
   "source": [
    "df.isna().sum() # подсчёт пропусков"
   ]
  },
  {
   "cell_type": "markdown",
   "metadata": {
    "deletable": false,
    "editable": false,
    "id": "qubhgnlO_Zct"
   },
   "source": [
    "Не все пропущенные значения влияют на исследование. Так в `track` и `artist` пропуски не важны для вашей работы. Достаточно заменить их явными обозначениями.\n",
    "\n",
    "Но пропуски в `genre` могут помешать сравнению музыкальных вкусов в Москве и Санкт-Петербурге. На практике было бы правильно установить причину пропусков и восстановить данные. Такой возможности нет в учебном проекте. Придётся:\n",
    "* заполнить и эти пропуски явными обозначениями;\n",
    "* оценить, насколько они повредят расчётам. "
   ]
  },
  {
   "cell_type": "markdown",
   "metadata": {
    "deletable": false,
    "editable": false,
    "id": "fSv2laPA_Zct",
    "tags": [
     "start_task"
    ]
   },
   "source": [
    "**Задание 10**\n",
    "\n",
    "Замените пропущенные значения в столбцах `track`, `artist` и `genre` на строку `'unknown'`. Для этого создайте список `columns_to_replace`, переберите его элементы циклом `for` и для каждого столбца выполните замену пропущенных значений:"
   ]
  },
  {
   "cell_type": "code",
   "execution_count": 10,
   "metadata": {
    "deletable": false,
    "id": "KplB5qWs_Zct"
   },
   "outputs": [],
   "source": [
    "columns_to_replace = ['track', 'artist', 'genre'] # перебор названий столбцов в цикле и замена пропущенных значений на 'unknown'\n",
    "for column in columns_to_replace:\n",
    "    df[column] = df[column].fillna('unknown')"
   ]
  },
  {
   "cell_type": "markdown",
   "metadata": {
    "deletable": false,
    "editable": false,
    "id": "Ilsm-MZo_Zct",
    "tags": [
     "start_task"
    ]
   },
   "source": [
    "**Задание 11**\n",
    "\n",
    "Убедитесь, что в таблице не осталось пропусков. Для этого ещё раз посчитайте пропущенные значения."
   ]
  },
  {
   "cell_type": "code",
   "execution_count": 11,
   "metadata": {
    "deletable": false,
    "id": "Tq4nYRX4_Zct"
   },
   "outputs": [
    {
     "data": {
      "text/plain": [
       "user_id    0\n",
       "track      0\n",
       "artist     0\n",
       "genre      0\n",
       "city       0\n",
       "time       0\n",
       "day        0\n",
       "dtype: int64"
      ]
     },
     "execution_count": 11,
     "metadata": {},
     "output_type": "execute_result"
    }
   ],
   "source": [
    "df.isna().sum() # подсчёт пропусков"
   ]
  },
  {
   "cell_type": "markdown",
   "metadata": {
    "deletable": false,
    "editable": false,
    "id": "BWKRtBJ3_Zct",
    "tags": [
     "start_task"
    ]
   },
   "source": [
    "### Дубликаты\n",
    "\n",
    "**Задание 12**\n",
    "\n",
    "Посчитайте явные дубликаты в таблице одной командой:"
   ]
  },
  {
   "cell_type": "code",
   "execution_count": 12,
   "metadata": {
    "deletable": false,
    "id": "36eES_S0_Zct"
   },
   "outputs": [
    {
     "data": {
      "text/plain": [
       "3826"
      ]
     },
     "execution_count": 12,
     "metadata": {},
     "output_type": "execute_result"
    }
   ],
   "source": [
    "df.duplicated().sum() # подсчёт явных дубликатов"
   ]
  },
  {
   "cell_type": "markdown",
   "metadata": {
    "deletable": false,
    "editable": false,
    "id": "Ot25h6XR_Zct",
    "tags": [
     "start_task"
    ]
   },
   "source": [
    "**Задание 13**\n",
    "\n",
    "Вызовите специальный метод `pandas`, чтобы удалить явные дубликаты:"
   ]
  },
  {
   "cell_type": "code",
   "execution_count": 13,
   "metadata": {
    "deletable": false,
    "id": "exFHq6tt_Zct"
   },
   "outputs": [],
   "source": [
    "df= df.drop_duplicates() # удаление явных дубликатов"
   ]
  },
  {
   "cell_type": "markdown",
   "metadata": {
    "deletable": false,
    "editable": false,
    "id": "Im2YwBEG_Zct",
    "tags": [
     "start_task"
    ]
   },
   "source": [
    "**Задание 14**\n",
    "\n",
    "Ещё раз посчитайте явные дубликаты в таблице — убедитесь, что полностью от них избавились:"
   ]
  },
  {
   "cell_type": "code",
   "execution_count": 14,
   "metadata": {
    "deletable": false,
    "id": "-8PuNWQ0_Zct"
   },
   "outputs": [
    {
     "data": {
      "text/plain": [
       "0"
      ]
     },
     "execution_count": 14,
     "metadata": {},
     "output_type": "execute_result"
    }
   ],
   "source": [
    "df.duplicated().sum() # проверка на отсутствие дубликатов"
   ]
  },
  {
   "cell_type": "markdown",
   "metadata": {
    "deletable": false,
    "editable": false,
    "id": "QlFBsxAr_Zct"
   },
   "source": [
    "Теперь избавьтесь от неявных дубликатов в колонке `genre`. Например, название одного и того же жанра может быть записано немного по-разному. Такие ошибки тоже повлияют на результат исследования."
   ]
  },
  {
   "cell_type": "markdown",
   "metadata": {
    "deletable": false,
    "editable": false,
    "id": "eSjWwsOh_Zct",
    "tags": [
     "start_task"
    ]
   },
   "source": [
    "**Задание 15**\n",
    "\n",
    "Выведите на экран список уникальных названий жанров, отсортированный в алфавитном порядке. Для этого:\n",
    "1. извлеките нужный столбец датафрейма; \n",
    "2. примените к нему метод сортировки;\n",
    "3. для отсортированного столбца вызовите метод, который вернёт уникальные значения из столбца."
   ]
  },
  {
   "cell_type": "code",
   "execution_count": 15,
   "metadata": {
    "deletable": false,
    "id": "JIUcqzZN_Zct"
   },
   "outputs": [
    {
     "name": "stdout",
     "output_type": "stream",
     "text": [
      "['acid' 'acoustic' 'action' 'adult' 'africa' 'afrikaans' 'alternative'\n",
      " 'alternativepunk' 'ambient' 'americana' 'animated' 'anime' 'arabesk'\n",
      " 'arabic' 'arena' 'argentinetango' 'art' 'audiobook' 'author' 'avantgarde'\n",
      " 'axé' 'baile' 'balkan' 'beats' 'bigroom' 'black' 'bluegrass' 'blues'\n",
      " 'bollywood' 'bossa' 'brazilian' 'breakbeat' 'breaks' 'broadway'\n",
      " 'cantautori' 'cantopop' 'canzone' 'caribbean' 'caucasian' 'celtic'\n",
      " 'chamber' 'chanson' 'children' 'chill' 'chinese' 'choral' 'christian'\n",
      " 'christmas' 'classical' 'classicmetal' 'club' 'colombian' 'comedy'\n",
      " 'conjazz' 'contemporary' 'country' 'cuban' 'dance' 'dancehall' 'dancepop'\n",
      " 'dark' 'death' 'deep' 'deutschrock' 'deutschspr' 'dirty' 'disco' 'dnb'\n",
      " 'documentary' 'downbeat' 'downtempo' 'drum' 'dub' 'dubstep' 'eastern'\n",
      " 'easy' 'electronic' 'electropop' 'emo' 'entehno' 'epicmetal' 'estrada'\n",
      " 'ethnic' 'eurofolk' 'european' 'experimental' 'extrememetal' 'fado'\n",
      " 'fairytail' 'film' 'fitness' 'flamenco' 'folk' 'folklore' 'folkmetal'\n",
      " 'folkrock' 'folktronica' 'forró' 'frankreich' 'französisch' 'french'\n",
      " 'funk' 'future' 'gangsta' 'garage' 'german' 'ghazal' 'gitarre' 'glitch'\n",
      " 'gospel' 'gothic' 'grime' 'grunge' 'gypsy' 'handsup' \"hard'n'heavy\"\n",
      " 'hardcore' 'hardstyle' 'hardtechno' 'hip' 'hip-hop' 'hiphop' 'historisch'\n",
      " 'holiday' 'hop' 'horror' 'house' 'hymn' 'idm' 'independent' 'indian'\n",
      " 'indie' 'indipop' 'industrial' 'inspirational' 'instrumental'\n",
      " 'international' 'irish' 'jam' 'japanese' 'jazz' 'jewish' 'jpop' 'jungle'\n",
      " 'k-pop' 'karadeniz' 'karaoke' 'kayokyoku' 'korean' 'laiko' 'latin'\n",
      " 'latino' 'leftfield' 'local' 'lounge' 'loungeelectronic' 'lovers'\n",
      " 'malaysian' 'mandopop' 'marschmusik' 'meditative' 'mediterranean'\n",
      " 'melodic' 'metal' 'metalcore' 'mexican' 'middle' 'minimal'\n",
      " 'miscellaneous' 'modern' 'mood' 'mpb' 'muslim' 'native' 'neoklassik'\n",
      " 'neue' 'new' 'newage' 'newwave' 'nu' 'nujazz' 'numetal' 'oceania' 'old'\n",
      " 'opera' 'orchestral' 'other' 'piano' 'podcasts' 'pop' 'popdance'\n",
      " 'popelectronic' 'popeurodance' 'poprussian' 'post' 'posthardcore'\n",
      " 'postrock' 'power' 'progmetal' 'progressive' 'psychedelic' 'punjabi'\n",
      " 'punk' 'quebecois' 'ragga' 'ram' 'rancheras' 'rap' 'rave' 'reggae'\n",
      " 'reggaeton' 'regional' 'relax' 'religious' 'retro' 'rhythm' 'rnb' 'rnr'\n",
      " 'rock' 'rockabilly' 'rockalternative' 'rockindie' 'rockother' 'romance'\n",
      " 'roots' 'ruspop' 'rusrap' 'rusrock' 'russian' 'salsa' 'samba' 'scenic'\n",
      " 'schlager' 'self' 'sertanejo' 'shanson' 'shoegazing' 'showtunes' 'singer'\n",
      " 'ska' 'skarock' 'slow' 'smooth' 'soft' 'soul' 'soulful' 'sound'\n",
      " 'soundtrack' 'southern' 'specialty' 'speech' 'spiritual' 'sport'\n",
      " 'stonerrock' 'surf' 'swing' 'synthpop' 'synthrock' 'sängerportrait'\n",
      " 'tango' 'tanzorchester' 'taraftar' 'tatar' 'tech' 'techno' 'teen'\n",
      " 'thrash' 'top' 'traditional' 'tradjazz' 'trance' 'tribal' 'trip'\n",
      " 'triphop' 'tropical' 'türk' 'türkçe' 'ukrrock' 'unknown' 'urban' 'uzbek'\n",
      " 'variété' 'vi' 'videogame' 'vocal' 'western' 'world' 'worldbeat' 'ïîï'\n",
      " 'электроника']\n"
     ]
    }
   ],
   "source": [
    "genre_column = df['genre'].sort_values().unique() # Просмотр уникальных названий жанров \n",
    "print(genre_column)"
   ]
  },
  {
   "cell_type": "markdown",
   "metadata": {
    "deletable": false,
    "editable": false,
    "id": "qej-Qmuo_Zct",
    "tags": [
     "start_task"
    ]
   },
   "source": [
    "**Задание 16**\n",
    "\n",
    "Просмотрите список и найдите неявные дубликаты названия `hiphop`. Это могут быть названия с ошибками или альтернативные названия того же жанра.\n",
    "\n",
    "Вы увидите следующие неявные дубликаты:\n",
    "* *hip*,\n",
    "* *hop*,\n",
    "* *hip-hop*.\n",
    "\n",
    "Чтобы очистить от них таблицу используйте метод `replace()` с двумя аргументами: списком строк-дубликатов (включащий *hip*, *hop* и *hip-hop*) и строкой с правильным значением. Вам нужно исправить колонку `genre` в таблице `df`: заменить каждое значение из списка дубликатов на верное. Вместо `hip`, `hop` и `hip-hop` в таблице должно быть значение `hiphop`:"
   ]
  },
  {
   "cell_type": "code",
   "execution_count": 16,
   "metadata": {
    "deletable": false,
    "id": "ErNDkmns_Zct"
   },
   "outputs": [],
   "source": [
    "first_name = ['hip', 'hop', 'hip-hop'] # переменная с неправильным списком\n",
    "cor_name = 'hiphop' # переменная с правильным значением\n",
    "for name in first_name: # удаление неявных дубликатов# Устранение неявных дубликатов\n",
    "    df['genre'] = df['genre'].replace(name, cor_name) # replace для каждого неправильного"
   ]
  },
  {
   "cell_type": "markdown",
   "metadata": {
    "deletable": false,
    "editable": false,
    "id": "zQKF16_RG15m",
    "tags": [
     "start_task"
    ]
   },
   "source": [
    "**Задание 17**\n",
    "\n",
    "Проверьте, что заменили неправильные названия:\n",
    "\n",
    "*   hip,\n",
    "*   hop,\n",
    "*   hip-hop.\n",
    "\n",
    "Выведите отсортированный список уникальных значений столбца `genre`:"
   ]
  },
  {
   "cell_type": "code",
   "execution_count": 17,
   "metadata": {
    "deletable": false,
    "id": "wvixALnFG15m"
   },
   "outputs": [
    {
     "data": {
      "text/plain": [
       "array(['acid', 'acoustic', 'action', 'adult', 'africa', 'afrikaans',\n",
       "       'alternative', 'alternativepunk', 'ambient', 'americana',\n",
       "       'animated', 'anime', 'arabesk', 'arabic', 'arena',\n",
       "       'argentinetango', 'art', 'audiobook', 'author', 'avantgarde',\n",
       "       'axé', 'baile', 'balkan', 'beats', 'bigroom', 'black', 'bluegrass',\n",
       "       'blues', 'bollywood', 'bossa', 'brazilian', 'breakbeat', 'breaks',\n",
       "       'broadway', 'cantautori', 'cantopop', 'canzone', 'caribbean',\n",
       "       'caucasian', 'celtic', 'chamber', 'chanson', 'children', 'chill',\n",
       "       'chinese', 'choral', 'christian', 'christmas', 'classical',\n",
       "       'classicmetal', 'club', 'colombian', 'comedy', 'conjazz',\n",
       "       'contemporary', 'country', 'cuban', 'dance', 'dancehall',\n",
       "       'dancepop', 'dark', 'death', 'deep', 'deutschrock', 'deutschspr',\n",
       "       'dirty', 'disco', 'dnb', 'documentary', 'downbeat', 'downtempo',\n",
       "       'drum', 'dub', 'dubstep', 'eastern', 'easy', 'electronic',\n",
       "       'electropop', 'emo', 'entehno', 'epicmetal', 'estrada', 'ethnic',\n",
       "       'eurofolk', 'european', 'experimental', 'extrememetal', 'fado',\n",
       "       'fairytail', 'film', 'fitness', 'flamenco', 'folk', 'folklore',\n",
       "       'folkmetal', 'folkrock', 'folktronica', 'forró', 'frankreich',\n",
       "       'französisch', 'french', 'funk', 'future', 'gangsta', 'garage',\n",
       "       'german', 'ghazal', 'gitarre', 'glitch', 'gospel', 'gothic',\n",
       "       'grime', 'grunge', 'gypsy', 'handsup', \"hard'n'heavy\", 'hardcore',\n",
       "       'hardstyle', 'hardtechno', 'hiphop', 'historisch', 'holiday',\n",
       "       'horror', 'house', 'hymn', 'idm', 'independent', 'indian', 'indie',\n",
       "       'indipop', 'industrial', 'inspirational', 'instrumental',\n",
       "       'international', 'irish', 'jam', 'japanese', 'jazz', 'jewish',\n",
       "       'jpop', 'jungle', 'k-pop', 'karadeniz', 'karaoke', 'kayokyoku',\n",
       "       'korean', 'laiko', 'latin', 'latino', 'leftfield', 'local',\n",
       "       'lounge', 'loungeelectronic', 'lovers', 'malaysian', 'mandopop',\n",
       "       'marschmusik', 'meditative', 'mediterranean', 'melodic', 'metal',\n",
       "       'metalcore', 'mexican', 'middle', 'minimal', 'miscellaneous',\n",
       "       'modern', 'mood', 'mpb', 'muslim', 'native', 'neoklassik', 'neue',\n",
       "       'new', 'newage', 'newwave', 'nu', 'nujazz', 'numetal', 'oceania',\n",
       "       'old', 'opera', 'orchestral', 'other', 'piano', 'podcasts', 'pop',\n",
       "       'popdance', 'popelectronic', 'popeurodance', 'poprussian', 'post',\n",
       "       'posthardcore', 'postrock', 'power', 'progmetal', 'progressive',\n",
       "       'psychedelic', 'punjabi', 'punk', 'quebecois', 'ragga', 'ram',\n",
       "       'rancheras', 'rap', 'rave', 'reggae', 'reggaeton', 'regional',\n",
       "       'relax', 'religious', 'retro', 'rhythm', 'rnb', 'rnr', 'rock',\n",
       "       'rockabilly', 'rockalternative', 'rockindie', 'rockother',\n",
       "       'romance', 'roots', 'ruspop', 'rusrap', 'rusrock', 'russian',\n",
       "       'salsa', 'samba', 'scenic', 'schlager', 'self', 'sertanejo',\n",
       "       'shanson', 'shoegazing', 'showtunes', 'singer', 'ska', 'skarock',\n",
       "       'slow', 'smooth', 'soft', 'soul', 'soulful', 'sound', 'soundtrack',\n",
       "       'southern', 'specialty', 'speech', 'spiritual', 'sport',\n",
       "       'stonerrock', 'surf', 'swing', 'synthpop', 'synthrock',\n",
       "       'sängerportrait', 'tango', 'tanzorchester', 'taraftar', 'tatar',\n",
       "       'tech', 'techno', 'teen', 'thrash', 'top', 'traditional',\n",
       "       'tradjazz', 'trance', 'tribal', 'trip', 'triphop', 'tropical',\n",
       "       'türk', 'türkçe', 'ukrrock', 'unknown', 'urban', 'uzbek',\n",
       "       'variété', 'vi', 'videogame', 'vocal', 'western', 'world',\n",
       "       'worldbeat', 'ïîï', 'электроника'], dtype=object)"
      ]
     },
     "execution_count": 17,
     "metadata": {},
     "output_type": "execute_result"
    }
   ],
   "source": [
    "df['genre'].sort_values().unique() # Проверка на неявные дубликаты"
   ]
  },
  {
   "cell_type": "markdown",
   "metadata": {
    "deletable": false,
    "editable": false,
    "id": "jz6a9-7HQUDd"
   },
   "source": [
    "**Выводы**\n",
    "\n",
    "Предобработка обнаружила три проблемы в данных:\n",
    "\n",
    "- нарушения в стиле заголовков,\n",
    "- пропущенные значения,\n",
    "- дубликаты — явные и неявные.\n",
    "\n",
    "Вы исправили заголовки, чтобы упростить работу с таблицей. Без дубликатов исследование станет более точным.\n",
    "\n",
    "Пропущенные значения вы заменили на `'unknown'`. Ещё предстоит увидеть, не повредят ли исследованию пропуски в колонке `genre`.\n",
    "\n",
    "Теперь можно перейти к проверке гипотез. "
   ]
  },
  {
   "cell_type": "markdown",
   "metadata": {
    "deletable": false,
    "editable": false,
    "id": "WttZHXH0SqKk"
   },
   "source": [
    "## Проверка гипотез"
   ]
  },
  {
   "cell_type": "markdown",
   "metadata": {
    "deletable": false,
    "editable": false,
    "id": "Im936VVi_Zcu"
   },
   "source": [
    "### Сравнение поведения пользователей двух столиц"
   ]
  },
  {
   "cell_type": "markdown",
   "metadata": {
    "deletable": false,
    "editable": false,
    "id": "nwt_MuaL_Zcu"
   },
   "source": [
    "Первая гипотеза утверждает, что пользователи по-разному слушают музыку в Москве и Санкт-Петербурге. Проверьте это предположение по данным о трёх днях недели — понедельнике, среде и пятнице. Для этого:\n",
    "\n",
    "* Разделите пользователей Москвы и Санкт-Петербурга.\n",
    "* Сравните, сколько треков послушала каждая группа пользователей в понедельник, среду и пятницу.\n"
   ]
  },
  {
   "cell_type": "markdown",
   "metadata": {
    "deletable": false,
    "editable": false,
    "id": "8Dw_YMmT_Zcu",
    "tags": [
     "start_task"
    ]
   },
   "source": [
    "**Задание 18**\n",
    "\n",
    "Для тренировки сначала выполните каждый из расчётов по отдельности. \n",
    "\n",
    "Оцените активность пользователей в каждом городе. Сгруппируйте данные по городу и посчитайте прослушивания в каждой группе.\n",
    "\n"
   ]
  },
  {
   "cell_type": "code",
   "execution_count": 18,
   "metadata": {
    "deletable": false,
    "id": "0_Qs96oh_Zcu"
   },
   "outputs": [
    {
     "data": {
      "text/plain": [
       "city\n",
       "Moscow              42741\n",
       "Saint-Petersburg    18512\n",
       "Name: track, dtype: int64"
      ]
     },
     "execution_count": 18,
     "metadata": {},
     "output_type": "execute_result"
    }
   ],
   "source": [
    "df.groupby('city')['track'].count()# Подсчёт прослушиваний в каждом городе"
   ]
  },
  {
   "cell_type": "markdown",
   "metadata": {
    "deletable": false,
    "editable": false,
    "id": "dzli3w8o_Zcu",
    "tags": [
     "start_task"
    ]
   },
   "source": [
    "В Москве прослушиваний больше, чем в Петербурге. Из этого не следует, что московские пользователи чаще слушают музыку. Просто самих пользователей в Москве больше.\n",
    "\n",
    "**Задание 19**\n",
    "\n",
    "Теперь сгруппируйте данные по дню недели и посчитайте прослушивания в понедельник, среду и пятницу. Учтите, что в данных есть информация о прослушиваниях только за эти дни.\n"
   ]
  },
  {
   "cell_type": "code",
   "execution_count": 19,
   "metadata": {
    "deletable": false,
    "id": "uZMKjiJz_Zcu"
   },
   "outputs": [
    {
     "data": {
      "text/plain": [
       "day\n",
       "Friday       21840\n",
       "Monday       21354\n",
       "Wednesday    18059\n",
       "Name: track, dtype: int64"
      ]
     },
     "execution_count": 19,
     "metadata": {},
     "output_type": "execute_result"
    }
   ],
   "source": [
    "df.groupby('day')['track'].count()# Подсчёт прослушиваний в каждый из трёх дней"
   ]
  },
  {
   "cell_type": "markdown",
   "metadata": {
    "deletable": false,
    "editable": false,
    "id": "cC2tNrlL_Zcu"
   },
   "source": [
    "В среднем пользователи из двух городов менее активны по средам. Но картина может измениться, если рассмотреть каждый город в отдельности."
   ]
  },
  {
   "cell_type": "markdown",
   "metadata": {
    "deletable": false,
    "editable": false,
    "id": "POzs8bGa_Zcu",
    "tags": [
     "start_task"
    ]
   },
   "source": [
    "**Задание 20**\n",
    "\n",
    "\n",
    "Вы видели, как работает группировка по городу и по дням недели. Теперь напишите функцию, которая объединит два эти расчёта.\n",
    "\n",
    "Создайте функцию `number_tracks()`, которая посчитает прослушивания для заданного дня и города. Ей понадобятся два параметра:\n",
    "* день недели,\n",
    "* название города.\n",
    "\n",
    "В функции сохраните в переменную строки исходной таблицы, у которых значение:\n",
    "  * в колонке `day` равно параметру `day`,\n",
    "  * в колонке `city` равно параметру `city`.\n",
    "\n",
    "Для этого примените последовательную фильтрацию с логической индексацией (или сложные логические выражения в одну строку, если вы уже знакомы с ними).\n",
    "\n",
    "Затем посчитайте значения в столбце `user_id` получившейся таблицы. Результат сохраните в новую переменную. Верните эту переменную из функции."
   ]
  },
  {
   "cell_type": "code",
   "execution_count": 20,
   "metadata": {
    "deletable": false,
    "id": "Nz3GdQB1_Zcu"
   },
   "outputs": [],
   "source": [
    "# <создание функции number_tracks()>\n",
    "# Объявляется функция с двумя параметрами: day, city.\n",
    "\n",
    "def number_tracks (day, city):# В переменной track_list сохраняются те строки таблицы df, для которых \n",
    "# значение в столбце 'day' равно параметру day и одновременно значение\n",
    "# в столбце 'city' равно параметру city (используйте последовательную фильтрацию\n",
    "# с помощью логической индексации или сложные логические выражения в одну строку, если вы уже знакомы с ними).\n",
    "    track_list=df[(df['day'] == day) & (df['city'] == city)]\n",
    "# В переменной track_list_count сохраняется число значений столбца 'user_id',\n",
    "    track_list_count = track_list['user_id'].count()\n",
    "# рассчитанное методом count() для таблицы track_list.\n",
    "# Функция возвращает число - значение track_list_count.\n",
    "    return track_list_count\n",
    "# Функция для подсчёта прослушиваний для конкретного города и дня.\n",
    "# С помощью последовательной фильтрации с логической индексацией она \n",
    "# сначала получит из исходной таблицы строки с нужным днём,\n",
    "# затем из результата отфильтрует строки с нужным городом,\n",
    "# методом count() посчитает количество значений в колонке user_id. \n",
    "# Это количество функция вернёт в качестве результата"
   ]
  },
  {
   "cell_type": "markdown",
   "metadata": {
    "deletable": false,
    "editable": false,
    "id": "ytf7xFrFJQ2r",
    "tags": [
     "start_task"
    ]
   },
   "source": [
    "**Задание 21**\n",
    "\n",
    "Вызовите `number_tracks()` шесть раз, меняя значение параметров — так, чтобы получить данные для каждого города в каждый из трёх дней."
   ]
  },
  {
   "cell_type": "code",
   "execution_count": 21,
   "metadata": {
    "deletable": false,
    "id": "rJcRATNQ_Zcu"
   },
   "outputs": [
    {
     "data": {
      "text/plain": [
       "15740"
      ]
     },
     "execution_count": 21,
     "metadata": {},
     "output_type": "execute_result"
    }
   ],
   "source": [
    "number_tracks ('Monday', 'Moscow')# количество прослушиваний в Москве по понедельникам"
   ]
  },
  {
   "cell_type": "code",
   "execution_count": 22,
   "metadata": {
    "deletable": false,
    "id": "hq_ncZ5T_Zcu"
   },
   "outputs": [
    {
     "data": {
      "text/plain": [
       "5614"
      ]
     },
     "execution_count": 22,
     "metadata": {},
     "output_type": "execute_result"
    }
   ],
   "source": [
    "number_tracks('Monday', 'Saint-Petersburg') #количество прослушиваний в Санкт-Петербурге по понедельникам# "
   ]
  },
  {
   "cell_type": "code",
   "execution_count": 23,
   "metadata": {
    "deletable": false,
    "id": "_NTy2VPU_Zcu"
   },
   "outputs": [
    {
     "data": {
      "text/plain": [
       "11056"
      ]
     },
     "execution_count": 23,
     "metadata": {},
     "output_type": "execute_result"
    }
   ],
   "source": [
    "number_tracks('Wednesday', 'Moscow')# количество прослушиваний в Москве по средам"
   ]
  },
  {
   "cell_type": "code",
   "execution_count": 24,
   "metadata": {
    "deletable": false,
    "id": "j2y3TAwo_Zcu"
   },
   "outputs": [
    {
     "data": {
      "text/plain": [
       "7003"
      ]
     },
     "execution_count": 24,
     "metadata": {},
     "output_type": "execute_result"
    }
   ],
   "source": [
    "number_tracks('Wednesday', 'Saint-Petersburg')# количество прослушиваний в Санкт-Петербурге по средам"
   ]
  },
  {
   "cell_type": "code",
   "execution_count": 25,
   "metadata": {
    "deletable": false,
    "id": "vYDw5u_K_Zcu"
   },
   "outputs": [
    {
     "data": {
      "text/plain": [
       "15945"
      ]
     },
     "execution_count": 25,
     "metadata": {},
     "output_type": "execute_result"
    }
   ],
   "source": [
    "number_tracks('Friday', 'Moscow')# количество прослушиваний в Москве по пятницам"
   ]
  },
  {
   "cell_type": "code",
   "execution_count": 26,
   "metadata": {
    "deletable": false,
    "id": "8_yzFtW3_Zcu"
   },
   "outputs": [
    {
     "data": {
      "text/plain": [
       "5895"
      ]
     },
     "execution_count": 26,
     "metadata": {},
     "output_type": "execute_result"
    }
   ],
   "source": [
    "number_tracks('Friday', 'Saint-Petersburg')# количество прослушиваний в Санкт-Петербурге по пятницам"
   ]
  },
  {
   "cell_type": "markdown",
   "metadata": {
    "deletable": false,
    "editable": false,
    "id": "7QXffbO-_Zcu",
    "tags": [
     "start_task"
    ]
   },
   "source": [
    "**Задание 22**\n",
    "\n",
    "Создайте c помощью конструктора `pd.DataFrame` таблицу, где\n",
    "* названия колонок — `['city', 'monday', 'wednesday', 'friday']`;\n",
    "* данные — результаты, которые вы получили с помощью `number_tracks`."
   ]
  },
  {
   "cell_type": "code",
   "execution_count": 27,
   "metadata": {
    "deletable": false,
    "id": "APAcLpOr_Zcu"
   },
   "outputs": [],
   "source": [
    "data = [['Moscow', 15740, 11056, 15945],\n",
    "        ['Saint-Petersburg', 5614, 7003, 5895]] \n",
    "columns = ['city', 'monday', 'wednesday', 'friday'] \n",
    "table = pd.DataFrame(data = data, columns = columns) # Таблица с результатами"
   ]
  },
  {
   "cell_type": "markdown",
   "metadata": {
    "deletable": false,
    "editable": false,
    "id": "-EgPIHYu_Zcu"
   },
   "source": [
    "**Выводы**\n",
    "\n",
    "Данные показывают разницу поведения пользователей:\n",
    "\n",
    "- В Москве пик прослушиваний приходится на понедельник и пятницу, а в среду заметен спад.\n",
    "- В Петербурге, наоборот, больше слушают музыку по средам. Активность в понедельник и пятницу здесь почти в равной мере уступает среде.\n",
    "\n",
    "Значит, данные говорят в пользу первой гипотезы."
   ]
  },
  {
   "cell_type": "markdown",
   "metadata": {
    "deletable": false,
    "editable": false,
    "id": "atZAxtq4_Zcu"
   },
   "source": [
    "### Музыка в начале и в конце недели"
   ]
  },
  {
   "cell_type": "markdown",
   "metadata": {
    "deletable": false,
    "editable": false,
    "id": "eXrQqXFH_Zcu"
   },
   "source": [
    "Согласно второй гипотезе, утром в понедельник в Москве преобладают одни жанры, а в Петербурге — другие. Так же и вечером пятницы преобладают разные жанры — в зависимости от города."
   ]
  },
  {
   "cell_type": "markdown",
   "metadata": {
    "deletable": false,
    "editable": false,
    "id": "S8UcW6Hw_Zcu",
    "tags": [
     "start_task"
    ]
   },
   "source": [
    "**Задание 23**\n",
    "\n",
    "Сохраните таблицы с данными в две переменные:\n",
    "* по Москве — в `moscow_general`;\n",
    "* по Санкт-Петербургу — в `spb_general`."
   ]
  },
  {
   "cell_type": "code",
   "execution_count": 28,
   "metadata": {
    "deletable": false,
    "id": "qeaFfM_P_Zcu"
   },
   "outputs": [],
   "source": [
    "# получение таблицы moscow_general из тех строк таблицы df, \n",
    "# для которых значение в столбце 'city' равно 'Moscow'\n",
    "moscow_general = df[df['city'] == 'Moscow']"
   ]
  },
  {
   "cell_type": "code",
   "execution_count": 29,
   "metadata": {
    "deletable": false,
    "id": "ORaVRKto_Zcu"
   },
   "outputs": [],
   "source": [
    "# получение таблицы spb_general из тех строк таблицы df,\n",
    "# для которых значение в столбце 'city' равно 'Saint-Petersburg'\n",
    "spb_general = df[df['city'] == 'Saint-Petersburg'] "
   ]
  },
  {
   "cell_type": "markdown",
   "metadata": {
    "deletable": false,
    "editable": false,
    "id": "MEJV-CX2_Zcu",
    "tags": [
     "start_task"
    ]
   },
   "source": [
    "**Задание 24**\n",
    "\n",
    "Создайте функцию `genre_weekday()` с четырьмя параметрами:\n",
    "* таблица (датафрейм) с данными,\n",
    "* день недели,\n",
    "* начальная временная метка в формате 'hh:mm', \n",
    "* последняя временная метка в формате 'hh:mm'.\n",
    "\n",
    "Функция должна вернуть информацию о топ-10 жанров тех треков, которые прослушивали в указанный день, в промежутке между двумя отметками времени."
   ]
  },
  {
   "cell_type": "code",
   "execution_count": 30,
   "metadata": {
    "deletable": false,
    "id": "laJT9BYl_Zcu"
   },
   "outputs": [],
   "source": [
    "# Объявление функции genre_weekday() с параметрами table, day, time1, time2,\n",
    "# которая возвращает информацию о самых популярных жанрах в указанный день в\n",
    "# заданное время:\n",
    "# 1) в переменную genre_df сохраняются те строки переданного датафрейма table, для\n",
    "#    которых одновременно:\n",
    "#    - значение в столбце day равно значению аргумента day\n",
    "#    - значение в столбце time больше значения аргумента time1\n",
    "#    - значение в столбце time меньше значения аргумента time2\n",
    "#    Используйте последовательную фильтрацию с помощью логической индексации.\n",
    "# 2) сгруппировать датафрейм genre_df по столбцу genre, взять один из его\n",
    "#    столбцов и посчитать методом count() количество записей для каждого из\n",
    "#    присутствующих жанров, получившийся Series записать в переменную\n",
    "#    genre_df_count\n",
    "# 3) отсортировать genre_df_count по убыванию встречаемости и сохранить\n",
    "#    в переменную genre_df_sorted\n",
    "# 4) вернуть Series из 10 первых значений genre_df_sorted, это будут топ-10\n",
    "#    популярных жанров (в указанный день, в заданное время)\n",
    "\n",
    "def genre_weekday(df, day, time1, time2):\n",
    "    # последовательная фильтрация\n",
    "    # оставляем в genre_df только те строки df, у которых день равен day\n",
    "    genre_df = df[df['day'] == day]# ваш код здесь\n",
    "    # оставляем в genre_df только те строки genre_df, у которых время меньше time2\n",
    "    genre_df = genre_df[genre_df['time'] < time2] # ваш код здесь\n",
    "    # оставляем в genre_df только те строки genre_df, у которых время больше time1\n",
    "    genre_df = genre_df[genre_df['time'] > time1] # ваш код здесь\n",
    "    # сгруппируем отфильтрованный датафрейм по столбцу с названиями жанров, возьмём столбец genre и посчитаем кол-во строк для каждого жанра методом count()\n",
    "    genre_df_grouped = genre_df.groupby('genre')['genre'].count()  # ваш код здесь\n",
    "    # отсортируем результат по убыванию (чтобы в начале Series оказались самые популярные жанры)\n",
    "    genre_df_sorted = genre_df_grouped.sort_values(ascending=False) # ваш код здесь\n",
    "    # вернём Series с 10 самыми популярными жанрами в указанный отрезок времени заданного дня\n",
    "    return genre_df_sorted[:10] \n",
    "   "
   ]
  },
  {
   "cell_type": "markdown",
   "metadata": {
    "deletable": false,
    "editable": false,
    "id": "la2s2_PF_Zcu",
    "tags": [
     "start_task"
    ]
   },
   "source": [
    "**Задание 25**\n",
    "\n",
    "\n",
    "Cравните результаты функции `genre_weekday()` для Москвы и Санкт-Петербурга в понедельник утром (с 7:00 до 11:00) и в пятницу вечером (с 17:00 до 23:00):"
   ]
  },
  {
   "cell_type": "code",
   "execution_count": 31,
   "metadata": {
    "deletable": false,
    "id": "yz7itPUQ_Zcu"
   },
   "outputs": [
    {
     "data": {
      "text/plain": [
       "genre\n",
       "pop            781\n",
       "dance          549\n",
       "electronic     480\n",
       "rock           474\n",
       "hiphop         286\n",
       "ruspop         186\n",
       "world          181\n",
       "rusrap         175\n",
       "alternative    164\n",
       "unknown        161\n",
       "Name: genre, dtype: int64"
      ]
     },
     "execution_count": 31,
     "metadata": {},
     "output_type": "execute_result"
    }
   ],
   "source": [
    "# вызов функции для утра понедельника в Москве (вместо df — таблица moscow_general)\n",
    "# объекты, хранящие время, являются строками и сравниваются как строки\n",
    "# пример вызова: genre_weekday(moscow_general, 'Monday', '07:00', '11:00')\n",
    "genre_weekday(moscow_general, 'Monday', '07:00', '11:00')"
   ]
  },
  {
   "cell_type": "code",
   "execution_count": 32,
   "metadata": {
    "deletable": false,
    "id": "kwUcHPdy_Zcu"
   },
   "outputs": [
    {
     "data": {
      "text/plain": [
       "genre\n",
       "pop            218\n",
       "dance          182\n",
       "rock           162\n",
       "electronic     147\n",
       "hiphop          80\n",
       "ruspop          64\n",
       "alternative     58\n",
       "rusrap          55\n",
       "jazz            44\n",
       "classical       40\n",
       "Name: genre, dtype: int64"
      ]
     },
     "execution_count": 32,
     "metadata": {},
     "output_type": "execute_result"
    }
   ],
   "source": [
    "# вызов функции для утра понедельника в Петербурге (вместо df — таблица spb_general)\n",
    "genre_weekday(spb_general, 'Monday', '07:00', '11:00')"
   ]
  },
  {
   "cell_type": "code",
   "execution_count": 33,
   "metadata": {
    "deletable": false,
    "id": "EzXVRE1o_Zcu"
   },
   "outputs": [
    {
     "data": {
      "text/plain": [
       "genre\n",
       "pop            713\n",
       "rock           517\n",
       "dance          495\n",
       "electronic     482\n",
       "hiphop         273\n",
       "world          208\n",
       "ruspop         170\n",
       "alternative    163\n",
       "classical      163\n",
       "rusrap         142\n",
       "Name: genre, dtype: int64"
      ]
     },
     "execution_count": 33,
     "metadata": {},
     "output_type": "execute_result"
    }
   ],
   "source": [
    "# вызов функции для вечера пятницы в Москве\n",
    "genre_weekday(moscow_general, 'Friday', '17:00', '23:00')"
   ]
  },
  {
   "cell_type": "code",
   "execution_count": 34,
   "metadata": {
    "deletable": false,
    "id": "JZaEKu5v_Zcu"
   },
   "outputs": [
    {
     "data": {
      "text/plain": [
       "genre\n",
       "pop            256\n",
       "electronic     216\n",
       "rock           216\n",
       "dance          210\n",
       "hiphop          97\n",
       "alternative     63\n",
       "jazz            61\n",
       "classical       60\n",
       "rusrap          59\n",
       "world           54\n",
       "Name: genre, dtype: int64"
      ]
     },
     "execution_count": 34,
     "metadata": {},
     "output_type": "execute_result"
    }
   ],
   "source": [
    "# вызов функции для вечера пятницы в Петербурге\n",
    "genre_weekday(spb_general, 'Friday', '17:00', '23:00')"
   ]
  },
  {
   "cell_type": "markdown",
   "metadata": {
    "deletable": false,
    "editable": false,
    "id": "wrCe4MNX_Zcu"
   },
   "source": [
    "**Выводы**\n",
    "\n",
    "Если сравнить топ-10 жанров в понедельник утром, можно сделать такие выводы:\n",
    "\n",
    "1. В Москве и Петербурге слушают похожую музыку. Единственное отличие — в московский рейтинг вошёл жанр “world”, а в петербургский — джаз и классика.\n",
    "\n",
    "2. В Москве пропущенных значений оказалось так много, что значение `'unknown'` заняло десятое место среди самых популярных жанров. Значит, пропущенные значения занимают существенную долю в данных и угрожают достоверности исследования.\n",
    "\n",
    "Вечер пятницы не меняет эту картину. Некоторые жанры поднимаются немного выше, другие спускаются, но в целом топ-10 остаётся тем же самым.\n",
    "\n",
    "Таким образом, вторая гипотеза подтвердилась лишь частично:\n",
    "* Пользователи слушают похожую музыку в начале недели и в конце.\n",
    "* Разница между Москвой и Петербургом не слишком выражена. В Москве чаще слушают русскую популярную музыку, в Петербурге — джаз.\n",
    "\n",
    "Однако пропуски в данных ставят под сомнение этот результат. В Москве их так много, что рейтинг топ-10 мог бы выглядеть иначе, если бы не утерянные  данные о жанрах."
   ]
  },
  {
   "cell_type": "markdown",
   "metadata": {
    "deletable": false,
    "editable": false,
    "id": "JolODAqr_Zcu"
   },
   "source": [
    "### Жанровые предпочтения в Москве и Петербурге\n",
    "\n",
    "Гипотеза: Петербург — столица рэпа, музыку этого жанра там слушают чаще, чем в Москве.  А Москва — город контрастов, в котором, тем не менее, преобладает поп-музыка."
   ]
  },
  {
   "cell_type": "markdown",
   "metadata": {
    "deletable": false,
    "editable": false,
    "id": "DlegSvaT_Zcu",
    "tags": [
     "start_task"
    ]
   },
   "source": [
    "**Задание 26**\n",
    "\n",
    "Сгруппируйте таблицу `moscow_general` по жанру и посчитайте прослушивания треков каждого жанра методом `count()`. Затем отсортируйте результат в порядке убывания и сохраните его в таблице `moscow_genres`."
   ]
  },
  {
   "cell_type": "code",
   "execution_count": 35,
   "metadata": {
    "deletable": false,
    "id": "r19lIPke_Zcu"
   },
   "outputs": [],
   "source": [
    "# одной строкой: группировка таблицы moscow_general по столбцу 'genre', \n",
    "# подсчёт числа значений 'genre' в этой группировке методом count(), \n",
    "moscow_genres = moscow_general.groupby('genre')['genre'].count()\n",
    "moscow_genres = moscow_genres.sort_values(ascending=False)# сортировка получившегося Series в порядке убывания и сохранение в moscow_genres"
   ]
  },
  {
   "cell_type": "markdown",
   "metadata": {
    "deletable": false,
    "editable": false,
    "id": "6kMuomxTiIr8",
    "tags": [
     "start_task"
    ]
   },
   "source": [
    "**Задание 27**\n",
    "\n",
    "Выведите на экран первые десять строк `moscow_genres`:"
   ]
  },
  {
   "cell_type": "code",
   "execution_count": 36,
   "metadata": {
    "deletable": false,
    "id": "WhCSooF8_Zcv"
   },
   "outputs": [
    {
     "data": {
      "text/plain": [
       "genre\n",
       "pop            5892\n",
       "dance          4435\n",
       "rock           3965\n",
       "electronic     3786\n",
       "hiphop         2096\n",
       "classical      1616\n",
       "world          1432\n",
       "alternative    1379\n",
       "ruspop         1372\n",
       "rusrap         1161\n",
       "Name: genre, dtype: int64"
      ]
     },
     "execution_count": 36,
     "metadata": {},
     "output_type": "execute_result"
    }
   ],
   "source": [
    "moscow_genres[:10]# просмотр первых 10 строк moscow_genres"
   ]
  },
  {
   "cell_type": "markdown",
   "metadata": {
    "deletable": false,
    "editable": false,
    "id": "cnPG2vnN_Zcv",
    "tags": [
     "start_task"
    ]
   },
   "source": [
    "**Задание 28**\n",
    "\n",
    "\n",
    "Теперь повторите то же и для Петербурга.\n",
    "\n",
    "Сгруппируйте таблицу `spb_general` по жанру. Посчитайте прослушивания треков каждого жанра. Результат отсортируйте в порядке убывания и сохраните в таблице `spb_genres`:\n"
   ]
  },
  {
   "cell_type": "code",
   "execution_count": 37,
   "metadata": {
    "deletable": false,
    "id": "gluLIpE7_Zcv"
   },
   "outputs": [],
   "source": [
    "# одной строкой: группировка таблицы spb_general по столбцу 'genre', \n",
    "# подсчёт числа значений 'genre' в этой группировке методом count(), \n",
    "spb_genres = spb_general.groupby('genre')['genre'].count()\n",
    "spb_genres = spb_genres.sort_values(ascending=False)# сортировка получившегося Series в порядке убывания и сохранение в spb_genres"
   ]
  },
  {
   "cell_type": "markdown",
   "metadata": {
    "deletable": false,
    "editable": false,
    "id": "5Doha_ODgyQ8",
    "tags": [
     "start_task"
    ]
   },
   "source": [
    "**Задание 29**\n",
    "\n",
    "Выведите на экран первые десять строк `spb_genres`:"
   ]
  },
  {
   "cell_type": "code",
   "execution_count": 38,
   "metadata": {
    "deletable": false,
    "id": "uaGJHjVU_Zcv"
   },
   "outputs": [
    {
     "data": {
      "text/plain": [
       "genre\n",
       "pop            2431\n",
       "dance          1932\n",
       "rock           1879\n",
       "electronic     1736\n",
       "hiphop          960\n",
       "alternative     649\n",
       "classical       646\n",
       "rusrap          564\n",
       "ruspop          538\n",
       "world           515\n",
       "Name: genre, dtype: int64"
      ]
     },
     "execution_count": 38,
     "metadata": {},
     "output_type": "execute_result"
    }
   ],
   "source": [
    "spb_genres[:10]# просмотр первых 10 строк spb_genres"
   ]
  },
  {
   "cell_type": "markdown",
   "metadata": {
    "deletable": false,
    "editable": false,
    "id": "RY51YJYu_Zcv"
   },
   "source": [
    "**Выводы**"
   ]
  },
  {
   "cell_type": "markdown",
   "metadata": {
    "deletable": false,
    "editable": false,
    "id": "nVhnJEm__Zcv"
   },
   "source": [
    "Гипотеза частично подтвердилась:\n",
    "* Поп-музыка — самый популярный жанр в Москве, как и предполагала гипотеза. Более того, в топ-10 жанров встречается близкий жанр — русская популярная музыка.\n",
    "* Вопреки ожиданиям, рэп одинаково популярен в Москве и Петербурге. \n"
   ]
  },
  {
   "cell_type": "markdown",
   "metadata": {
    "deletable": false,
    "editable": false,
    "id": "ykKQ0N65_Zcv"
   },
   "source": [
    "## Итоги исследования"
   ]
  },
  {
   "cell_type": "markdown",
   "metadata": {
    "deletable": false,
    "editable": false,
    "id": "tjUwbHb3_Zcv"
   },
   "source": [
    "Вы проверили три гипотезы и установили:\n",
    "\n",
    "1. День недели по-разному влияет на активность пользователей в Москве и Петербурге. \n",
    "\n",
    "Первая гипотеза полностью подтвердилась.\n",
    "\n",
    "2. Музыкальные предпочтения не сильно меняются в течение недели — будь то Москва или Петербург. Небольшие различия заметны в начале недели, по понедельникам:\n",
    "* в Москве слушают музыку жанра “world”,\n",
    "* в Петербурге — джаз и классику.\n",
    "\n",
    "Таким образом, вторая гипотеза подтвердилась лишь отчасти. Этот результат мог оказаться иным, если бы не пропуски в данных.\n",
    "\n",
    "3. Во вкусах пользователей Москвы и Петербурга больше общего чем различий. Вопреки ожиданиям, предпочтения жанров в Петербурге напоминают московские.\n",
    "\n",
    "Третья гипотеза не подтвердилась. Если различия в предпочтениях и существуют, на основной массе пользователей они незаметны.\n",
    "\n",
    "**На практике исследования содержат проверки статистических гипотез.**\n",
    "Из данных одного сервиса не всегда можно сделать вывод о всех жителях города.\n",
    "Проверки статистических гипотез покажут, насколько они достоверны, исходя из имеющихся данных. \n",
    "С методами проверок гипотез вы ещё познакомитесь в следующих темах."
   ]
  },
  {
   "cell_type": "code",
   "execution_count": null,
   "metadata": {},
   "outputs": [],
   "source": []
  }
 ],
 "metadata": {
  "ExecuteTimeLog": [
   {
    "duration": 46,
    "start_time": "2022-11-17T20:40:09.782Z"
   },
   {
    "duration": 45,
    "start_time": "2022-11-18T09:26:47.557Z"
   },
   {
    "duration": 6,
    "start_time": "2022-11-18T09:28:43.109Z"
   },
   {
    "duration": 6,
    "start_time": "2022-11-18T09:34:05.864Z"
   },
   {
    "duration": 6,
    "start_time": "2022-11-18T09:34:24.337Z"
   },
   {
    "duration": 6,
    "start_time": "2022-11-18T09:38:11.349Z"
   },
   {
    "duration": 449,
    "start_time": "2022-11-18T10:36:23.449Z"
   },
   {
    "duration": 184,
    "start_time": "2022-11-18T10:36:23.900Z"
   },
   {
    "duration": 18,
    "start_time": "2022-11-18T10:36:24.085Z"
   },
   {
    "duration": 42,
    "start_time": "2022-11-18T10:36:24.105Z"
   },
   {
    "duration": 3,
    "start_time": "2022-11-18T10:36:24.150Z"
   },
   {
    "duration": 10,
    "start_time": "2022-11-18T10:36:24.155Z"
   },
   {
    "duration": 14,
    "start_time": "2022-11-18T10:36:24.167Z"
   },
   {
    "duration": 18,
    "start_time": "2022-11-18T10:36:24.182Z"
   },
   {
    "duration": 34,
    "start_time": "2022-11-18T10:36:24.201Z"
   },
   {
    "duration": 45,
    "start_time": "2022-11-18T10:36:24.237Z"
   },
   {
    "duration": 27,
    "start_time": "2022-11-18T10:36:24.283Z"
   },
   {
    "duration": 80,
    "start_time": "2022-11-18T10:36:24.311Z"
   },
   {
    "duration": 3,
    "start_time": "2022-11-18T10:36:24.393Z"
   },
   {
    "duration": 45,
    "start_time": "2022-11-18T10:36:24.398Z"
   },
   {
    "duration": 419,
    "start_time": "2022-11-18T10:45:19.919Z"
   },
   {
    "duration": 169,
    "start_time": "2022-11-18T10:45:20.340Z"
   },
   {
    "duration": 24,
    "start_time": "2022-11-18T10:45:20.511Z"
   },
   {
    "duration": 31,
    "start_time": "2022-11-18T10:45:20.536Z"
   },
   {
    "duration": 3,
    "start_time": "2022-11-18T10:45:20.569Z"
   },
   {
    "duration": 11,
    "start_time": "2022-11-18T10:45:20.574Z"
   },
   {
    "duration": 30,
    "start_time": "2022-11-18T10:45:20.587Z"
   },
   {
    "duration": 8,
    "start_time": "2022-11-18T10:45:20.619Z"
   },
   {
    "duration": 30,
    "start_time": "2022-11-18T10:45:20.629Z"
   },
   {
    "duration": 28,
    "start_time": "2022-11-18T10:45:20.661Z"
   },
   {
    "duration": 24,
    "start_time": "2022-11-18T10:45:20.691Z"
   },
   {
    "duration": 68,
    "start_time": "2022-11-18T10:45:20.717Z"
   },
   {
    "duration": 2,
    "start_time": "2022-11-18T10:45:20.787Z"
   },
   {
    "duration": 70,
    "start_time": "2022-11-18T10:45:20.794Z"
   },
   {
    "duration": 0,
    "start_time": "2022-11-18T10:45:20.866Z"
   },
   {
    "duration": 0,
    "start_time": "2022-11-18T10:45:20.867Z"
   },
   {
    "duration": 0,
    "start_time": "2022-11-18T10:45:20.869Z"
   },
   {
    "duration": 0,
    "start_time": "2022-11-18T10:45:20.870Z"
   },
   {
    "duration": 0,
    "start_time": "2022-11-18T10:45:20.871Z"
   },
   {
    "duration": 0,
    "start_time": "2022-11-18T10:45:20.873Z"
   },
   {
    "duration": 0,
    "start_time": "2022-11-18T10:45:20.874Z"
   },
   {
    "duration": 0,
    "start_time": "2022-11-18T10:45:20.875Z"
   },
   {
    "duration": 0,
    "start_time": "2022-11-18T10:45:20.877Z"
   },
   {
    "duration": 0,
    "start_time": "2022-11-18T10:45:20.878Z"
   },
   {
    "duration": 0,
    "start_time": "2022-11-18T10:45:20.879Z"
   },
   {
    "duration": 0,
    "start_time": "2022-11-18T10:45:20.880Z"
   },
   {
    "duration": 0,
    "start_time": "2022-11-18T10:45:20.882Z"
   },
   {
    "duration": 0,
    "start_time": "2022-11-18T10:45:20.883Z"
   },
   {
    "duration": 0,
    "start_time": "2022-11-18T10:45:20.884Z"
   },
   {
    "duration": 0,
    "start_time": "2022-11-18T10:45:20.886Z"
   },
   {
    "duration": 0,
    "start_time": "2022-11-18T10:45:20.887Z"
   },
   {
    "duration": 0,
    "start_time": "2022-11-18T10:45:20.888Z"
   },
   {
    "duration": 0,
    "start_time": "2022-11-18T10:45:20.889Z"
   },
   {
    "duration": 0,
    "start_time": "2022-11-18T10:45:20.890Z"
   },
   {
    "duration": 0,
    "start_time": "2022-11-18T10:45:20.892Z"
   },
   {
    "duration": 0,
    "start_time": "2022-11-18T10:45:20.892Z"
   },
   {
    "duration": 0,
    "start_time": "2022-11-18T10:45:20.936Z"
   },
   {
    "duration": 0,
    "start_time": "2022-11-18T10:45:20.937Z"
   },
   {
    "duration": 393,
    "start_time": "2022-11-18T10:50:55.798Z"
   },
   {
    "duration": 167,
    "start_time": "2022-11-18T10:50:56.193Z"
   },
   {
    "duration": 16,
    "start_time": "2022-11-18T10:50:56.362Z"
   },
   {
    "duration": 37,
    "start_time": "2022-11-18T10:50:56.379Z"
   },
   {
    "duration": 2,
    "start_time": "2022-11-18T10:50:56.418Z"
   },
   {
    "duration": 26,
    "start_time": "2022-11-18T10:50:56.434Z"
   },
   {
    "duration": 28,
    "start_time": "2022-11-18T10:50:56.461Z"
   },
   {
    "duration": 15,
    "start_time": "2022-11-18T10:50:56.491Z"
   },
   {
    "duration": 46,
    "start_time": "2022-11-18T10:50:56.508Z"
   },
   {
    "duration": 25,
    "start_time": "2022-11-18T10:50:56.556Z"
   },
   {
    "duration": 24,
    "start_time": "2022-11-18T10:50:56.583Z"
   },
   {
    "duration": 79,
    "start_time": "2022-11-18T10:50:56.609Z"
   },
   {
    "duration": 90,
    "start_time": "2022-11-18T10:50:56.689Z"
   },
   {
    "duration": 72,
    "start_time": "2022-11-18T10:50:56.785Z"
   },
   {
    "duration": 46,
    "start_time": "2022-11-18T10:50:56.858Z"
   },
   {
    "duration": 2,
    "start_time": "2022-11-18T10:50:56.906Z"
   },
   {
    "duration": 25,
    "start_time": "2022-11-18T10:50:56.910Z"
   },
   {
    "duration": 12,
    "start_time": "2022-11-18T10:50:56.937Z"
   },
   {
    "duration": 31,
    "start_time": "2022-11-18T10:50:56.951Z"
   },
   {
    "duration": 14,
    "start_time": "2022-11-18T10:50:56.984Z"
   },
   {
    "duration": 8,
    "start_time": "2022-11-18T10:50:56.999Z"
   },
   {
    "duration": 10,
    "start_time": "2022-11-18T10:50:57.008Z"
   },
   {
    "duration": 14,
    "start_time": "2022-11-18T10:50:57.020Z"
   },
   {
    "duration": 19,
    "start_time": "2022-11-18T10:50:57.035Z"
   },
   {
    "duration": 20,
    "start_time": "2022-11-18T10:50:57.056Z"
   },
   {
    "duration": 11,
    "start_time": "2022-11-18T10:50:57.077Z"
   },
   {
    "duration": 7,
    "start_time": "2022-11-18T10:50:57.089Z"
   },
   {
    "duration": 12,
    "start_time": "2022-11-18T10:50:57.098Z"
   },
   {
    "duration": 6,
    "start_time": "2022-11-18T10:50:57.111Z"
   },
   {
    "duration": 45,
    "start_time": "2022-11-18T10:50:57.119Z"
   },
   {
    "duration": 0,
    "start_time": "2022-11-18T10:50:57.166Z"
   },
   {
    "duration": 1,
    "start_time": "2022-11-18T10:50:57.167Z"
   },
   {
    "duration": 0,
    "start_time": "2022-11-18T10:50:57.169Z"
   },
   {
    "duration": 0,
    "start_time": "2022-11-18T10:50:57.170Z"
   },
   {
    "duration": 0,
    "start_time": "2022-11-18T10:50:57.171Z"
   },
   {
    "duration": 0,
    "start_time": "2022-11-18T10:50:57.172Z"
   },
   {
    "duration": 0,
    "start_time": "2022-11-18T10:50:57.173Z"
   },
   {
    "duration": 0,
    "start_time": "2022-11-18T10:50:57.174Z"
   },
   {
    "duration": 2,
    "start_time": "2022-11-18T10:51:15.372Z"
   },
   {
    "duration": 188,
    "start_time": "2022-11-18T10:51:15.377Z"
   },
   {
    "duration": 10,
    "start_time": "2022-11-18T10:51:15.567Z"
   },
   {
    "duration": 43,
    "start_time": "2022-11-18T10:51:15.579Z"
   },
   {
    "duration": 12,
    "start_time": "2022-11-18T10:51:15.625Z"
   },
   {
    "duration": 14,
    "start_time": "2022-11-18T10:51:15.638Z"
   },
   {
    "duration": 22,
    "start_time": "2022-11-18T10:51:15.654Z"
   },
   {
    "duration": 9,
    "start_time": "2022-11-18T10:51:15.678Z"
   },
   {
    "duration": 30,
    "start_time": "2022-11-18T10:51:15.689Z"
   },
   {
    "duration": 18,
    "start_time": "2022-11-18T10:51:15.720Z"
   },
   {
    "duration": 24,
    "start_time": "2022-11-18T10:51:15.739Z"
   },
   {
    "duration": 71,
    "start_time": "2022-11-18T10:51:15.765Z"
   },
   {
    "duration": 76,
    "start_time": "2022-11-18T10:51:15.839Z"
   },
   {
    "duration": 72,
    "start_time": "2022-11-18T10:51:15.917Z"
   },
   {
    "duration": 59,
    "start_time": "2022-11-18T10:51:15.991Z"
   },
   {
    "duration": 2,
    "start_time": "2022-11-18T10:51:16.052Z"
   },
   {
    "duration": 9,
    "start_time": "2022-11-18T10:51:16.056Z"
   },
   {
    "duration": 20,
    "start_time": "2022-11-18T10:51:16.067Z"
   },
   {
    "duration": 6,
    "start_time": "2022-11-18T10:51:16.088Z"
   },
   {
    "duration": 6,
    "start_time": "2022-11-18T10:51:16.096Z"
   },
   {
    "duration": 11,
    "start_time": "2022-11-18T10:51:16.104Z"
   },
   {
    "duration": 17,
    "start_time": "2022-11-18T10:51:16.116Z"
   },
   {
    "duration": 7,
    "start_time": "2022-11-18T10:51:16.135Z"
   },
   {
    "duration": 4,
    "start_time": "2022-11-18T10:51:16.143Z"
   },
   {
    "duration": 6,
    "start_time": "2022-11-18T10:51:16.149Z"
   },
   {
    "duration": 13,
    "start_time": "2022-11-18T10:51:16.157Z"
   },
   {
    "duration": 7,
    "start_time": "2022-11-18T10:51:16.171Z"
   },
   {
    "duration": 6,
    "start_time": "2022-11-18T10:51:16.179Z"
   },
   {
    "duration": 9,
    "start_time": "2022-11-18T10:51:16.186Z"
   },
   {
    "duration": 51,
    "start_time": "2022-11-18T10:51:16.197Z"
   },
   {
    "duration": 0,
    "start_time": "2022-11-18T10:51:16.250Z"
   },
   {
    "duration": 0,
    "start_time": "2022-11-18T10:51:16.251Z"
   },
   {
    "duration": 0,
    "start_time": "2022-11-18T10:51:16.252Z"
   },
   {
    "duration": 0,
    "start_time": "2022-11-18T10:51:16.253Z"
   },
   {
    "duration": 0,
    "start_time": "2022-11-18T10:51:16.254Z"
   },
   {
    "duration": 0,
    "start_time": "2022-11-18T10:51:16.255Z"
   },
   {
    "duration": 0,
    "start_time": "2022-11-18T10:51:16.256Z"
   },
   {
    "duration": 0,
    "start_time": "2022-11-18T10:51:16.257Z"
   },
   {
    "duration": 66,
    "start_time": "2022-11-18T11:01:26.886Z"
   },
   {
    "duration": 402,
    "start_time": "2022-11-18T11:04:24.838Z"
   },
   {
    "duration": 174,
    "start_time": "2022-11-18T11:04:25.242Z"
   },
   {
    "duration": 19,
    "start_time": "2022-11-18T11:04:25.417Z"
   },
   {
    "duration": 55,
    "start_time": "2022-11-18T11:04:25.438Z"
   },
   {
    "duration": 8,
    "start_time": "2022-11-18T11:04:25.495Z"
   },
   {
    "duration": 10,
    "start_time": "2022-11-18T11:04:25.505Z"
   },
   {
    "duration": 28,
    "start_time": "2022-11-18T11:04:25.516Z"
   },
   {
    "duration": 15,
    "start_time": "2022-11-18T11:04:25.546Z"
   },
   {
    "duration": 38,
    "start_time": "2022-11-18T11:04:25.563Z"
   },
   {
    "duration": 29,
    "start_time": "2022-11-18T11:04:25.603Z"
   },
   {
    "duration": 24,
    "start_time": "2022-11-18T11:04:25.634Z"
   },
   {
    "duration": 94,
    "start_time": "2022-11-18T11:04:25.659Z"
   },
   {
    "duration": 80,
    "start_time": "2022-11-18T11:04:25.755Z"
   },
   {
    "duration": 67,
    "start_time": "2022-11-18T11:04:25.838Z"
   },
   {
    "duration": 62,
    "start_time": "2022-11-18T11:04:25.907Z"
   },
   {
    "duration": 6,
    "start_time": "2022-11-18T11:04:25.970Z"
   },
   {
    "duration": 6,
    "start_time": "2022-11-18T11:04:25.977Z"
   },
   {
    "duration": 12,
    "start_time": "2022-11-18T11:04:25.985Z"
   },
   {
    "duration": 13,
    "start_time": "2022-11-18T11:04:25.999Z"
   },
   {
    "duration": 7,
    "start_time": "2022-11-18T11:04:26.014Z"
   },
   {
    "duration": 33,
    "start_time": "2022-11-18T11:04:26.023Z"
   },
   {
    "duration": 6,
    "start_time": "2022-11-18T11:04:26.058Z"
   },
   {
    "duration": 10,
    "start_time": "2022-11-18T11:04:26.066Z"
   },
   {
    "duration": 13,
    "start_time": "2022-11-18T11:04:26.077Z"
   },
   {
    "duration": 12,
    "start_time": "2022-11-18T11:04:26.091Z"
   },
   {
    "duration": 8,
    "start_time": "2022-11-18T11:04:26.104Z"
   },
   {
    "duration": 19,
    "start_time": "2022-11-18T11:04:26.113Z"
   },
   {
    "duration": 9,
    "start_time": "2022-11-18T11:04:26.133Z"
   },
   {
    "duration": 13,
    "start_time": "2022-11-18T11:04:26.144Z"
   },
   {
    "duration": 47,
    "start_time": "2022-11-18T11:04:26.159Z"
   },
   {
    "duration": 0,
    "start_time": "2022-11-18T11:04:26.208Z"
   },
   {
    "duration": 0,
    "start_time": "2022-11-18T11:04:26.209Z"
   },
   {
    "duration": 0,
    "start_time": "2022-11-18T11:04:26.210Z"
   },
   {
    "duration": 0,
    "start_time": "2022-11-18T11:04:26.211Z"
   },
   {
    "duration": 0,
    "start_time": "2022-11-18T11:04:26.212Z"
   },
   {
    "duration": 0,
    "start_time": "2022-11-18T11:04:26.213Z"
   },
   {
    "duration": 0,
    "start_time": "2022-11-18T11:04:26.214Z"
   },
   {
    "duration": 0,
    "start_time": "2022-11-18T11:04:26.215Z"
   },
   {
    "duration": 399,
    "start_time": "2022-11-18T12:19:30.811Z"
   },
   {
    "duration": 180,
    "start_time": "2022-11-18T12:19:31.211Z"
   },
   {
    "duration": 15,
    "start_time": "2022-11-18T12:19:31.393Z"
   },
   {
    "duration": 46,
    "start_time": "2022-11-18T12:19:31.410Z"
   },
   {
    "duration": 9,
    "start_time": "2022-11-18T12:19:31.458Z"
   },
   {
    "duration": 8,
    "start_time": "2022-11-18T12:19:31.469Z"
   },
   {
    "duration": 14,
    "start_time": "2022-11-18T12:19:31.478Z"
   },
   {
    "duration": 10,
    "start_time": "2022-11-18T12:19:31.493Z"
   },
   {
    "duration": 29,
    "start_time": "2022-11-18T12:19:31.505Z"
   },
   {
    "duration": 37,
    "start_time": "2022-11-18T12:19:31.538Z"
   },
   {
    "duration": 31,
    "start_time": "2022-11-18T12:19:31.577Z"
   },
   {
    "duration": 87,
    "start_time": "2022-11-18T12:19:31.610Z"
   },
   {
    "duration": 91,
    "start_time": "2022-11-18T12:19:31.699Z"
   },
   {
    "duration": 84,
    "start_time": "2022-11-18T12:19:31.793Z"
   },
   {
    "duration": 50,
    "start_time": "2022-11-18T12:19:31.878Z"
   },
   {
    "duration": 0,
    "start_time": "2022-11-18T12:19:31.930Z"
   },
   {
    "duration": 0,
    "start_time": "2022-11-18T12:19:31.931Z"
   },
   {
    "duration": 0,
    "start_time": "2022-11-18T12:19:31.933Z"
   },
   {
    "duration": 0,
    "start_time": "2022-11-18T12:19:31.934Z"
   },
   {
    "duration": 0,
    "start_time": "2022-11-18T12:19:31.938Z"
   },
   {
    "duration": 0,
    "start_time": "2022-11-18T12:19:31.939Z"
   },
   {
    "duration": 0,
    "start_time": "2022-11-18T12:19:31.941Z"
   },
   {
    "duration": 0,
    "start_time": "2022-11-18T12:19:31.942Z"
   },
   {
    "duration": 0,
    "start_time": "2022-11-18T12:19:31.943Z"
   },
   {
    "duration": 0,
    "start_time": "2022-11-18T12:19:31.945Z"
   },
   {
    "duration": 0,
    "start_time": "2022-11-18T12:19:31.946Z"
   },
   {
    "duration": 0,
    "start_time": "2022-11-18T12:19:31.947Z"
   },
   {
    "duration": 0,
    "start_time": "2022-11-18T12:19:31.949Z"
   },
   {
    "duration": 0,
    "start_time": "2022-11-18T12:19:31.950Z"
   },
   {
    "duration": 0,
    "start_time": "2022-11-18T12:19:31.951Z"
   },
   {
    "duration": 0,
    "start_time": "2022-11-18T12:19:31.953Z"
   },
   {
    "duration": 0,
    "start_time": "2022-11-18T12:19:31.954Z"
   },
   {
    "duration": 0,
    "start_time": "2022-11-18T12:19:31.955Z"
   },
   {
    "duration": 0,
    "start_time": "2022-11-18T12:19:31.956Z"
   },
   {
    "duration": 0,
    "start_time": "2022-11-18T12:19:31.957Z"
   },
   {
    "duration": 0,
    "start_time": "2022-11-18T12:19:31.958Z"
   },
   {
    "duration": 0,
    "start_time": "2022-11-18T12:19:31.959Z"
   },
   {
    "duration": 0,
    "start_time": "2022-11-18T12:19:31.960Z"
   },
   {
    "duration": 400,
    "start_time": "2022-11-18T12:22:14.769Z"
   },
   {
    "duration": 194,
    "start_time": "2022-11-18T12:22:15.171Z"
   },
   {
    "duration": 17,
    "start_time": "2022-11-18T12:22:15.366Z"
   },
   {
    "duration": 50,
    "start_time": "2022-11-18T12:22:15.385Z"
   },
   {
    "duration": 4,
    "start_time": "2022-11-18T12:22:15.439Z"
   },
   {
    "duration": 30,
    "start_time": "2022-11-18T12:22:15.446Z"
   },
   {
    "duration": 15,
    "start_time": "2022-11-18T12:22:15.477Z"
   },
   {
    "duration": 12,
    "start_time": "2022-11-18T12:22:15.493Z"
   },
   {
    "duration": 46,
    "start_time": "2022-11-18T12:22:15.507Z"
   },
   {
    "duration": 31,
    "start_time": "2022-11-18T12:22:15.555Z"
   },
   {
    "duration": 28,
    "start_time": "2022-11-18T12:22:15.587Z"
   },
   {
    "duration": 80,
    "start_time": "2022-11-18T12:22:15.617Z"
   },
   {
    "duration": 90,
    "start_time": "2022-11-18T12:22:15.699Z"
   },
   {
    "duration": 84,
    "start_time": "2022-11-18T12:22:15.791Z"
   },
   {
    "duration": 47,
    "start_time": "2022-11-18T12:22:45.512Z"
   },
   {
    "duration": 2,
    "start_time": "2022-11-18T12:23:47.454Z"
   },
   {
    "duration": 174,
    "start_time": "2022-11-18T12:23:47.459Z"
   },
   {
    "duration": 17,
    "start_time": "2022-11-18T12:23:47.634Z"
   },
   {
    "duration": 32,
    "start_time": "2022-11-18T12:23:47.653Z"
   },
   {
    "duration": 5,
    "start_time": "2022-11-18T12:23:47.688Z"
   },
   {
    "duration": 8,
    "start_time": "2022-11-18T12:23:47.695Z"
   },
   {
    "duration": 16,
    "start_time": "2022-11-18T12:23:47.705Z"
   },
   {
    "duration": 14,
    "start_time": "2022-11-18T12:23:47.723Z"
   },
   {
    "duration": 43,
    "start_time": "2022-11-18T12:23:47.738Z"
   },
   {
    "duration": 19,
    "start_time": "2022-11-18T12:23:47.782Z"
   },
   {
    "duration": 28,
    "start_time": "2022-11-18T12:23:47.803Z"
   },
   {
    "duration": 82,
    "start_time": "2022-11-18T12:23:47.833Z"
   },
   {
    "duration": 69,
    "start_time": "2022-11-18T12:39:44.051Z"
   },
   {
    "duration": 890,
    "start_time": "2022-11-18T12:40:09.773Z"
   },
   {
    "duration": 10,
    "start_time": "2022-11-18T12:42:11.913Z"
   },
   {
    "duration": 53,
    "start_time": "2022-11-18T14:34:18.034Z"
   },
   {
    "duration": 432,
    "start_time": "2022-11-18T14:34:55.303Z"
   },
   {
    "duration": 173,
    "start_time": "2022-11-18T14:34:55.738Z"
   },
   {
    "duration": 23,
    "start_time": "2022-11-18T14:34:55.913Z"
   },
   {
    "duration": 29,
    "start_time": "2022-11-18T14:34:55.938Z"
   },
   {
    "duration": 5,
    "start_time": "2022-11-18T14:34:55.970Z"
   },
   {
    "duration": 7,
    "start_time": "2022-11-18T14:34:55.977Z"
   },
   {
    "duration": 17,
    "start_time": "2022-11-18T14:34:55.986Z"
   },
   {
    "duration": 12,
    "start_time": "2022-11-18T14:34:56.005Z"
   },
   {
    "duration": 39,
    "start_time": "2022-11-18T14:34:56.019Z"
   },
   {
    "duration": 20,
    "start_time": "2022-11-18T14:34:56.059Z"
   },
   {
    "duration": 30,
    "start_time": "2022-11-18T14:34:56.081Z"
   },
   {
    "duration": 87,
    "start_time": "2022-11-18T14:34:56.113Z"
   },
   {
    "duration": 96,
    "start_time": "2022-11-18T14:34:56.201Z"
   },
   {
    "duration": 76,
    "start_time": "2022-11-18T14:34:56.300Z"
   },
   {
    "duration": 40,
    "start_time": "2022-11-18T14:34:56.378Z"
   },
   {
    "duration": 22,
    "start_time": "2022-11-18T14:34:56.420Z"
   },
   {
    "duration": 45,
    "start_time": "2022-11-18T14:34:56.444Z"
   },
   {
    "duration": 14,
    "start_time": "2022-11-18T14:35:34.387Z"
   },
   {
    "duration": 48,
    "start_time": "2022-11-18T14:40:19.823Z"
   },
   {
    "duration": 378,
    "start_time": "2022-11-18T14:40:49.364Z"
   },
   {
    "duration": 171,
    "start_time": "2022-11-18T14:40:49.744Z"
   },
   {
    "duration": 23,
    "start_time": "2022-11-18T14:40:49.917Z"
   },
   {
    "duration": 52,
    "start_time": "2022-11-18T14:40:49.942Z"
   },
   {
    "duration": 3,
    "start_time": "2022-11-18T14:40:49.996Z"
   },
   {
    "duration": 22,
    "start_time": "2022-11-18T14:40:50.001Z"
   },
   {
    "duration": 30,
    "start_time": "2022-11-18T14:40:50.025Z"
   },
   {
    "duration": 10,
    "start_time": "2022-11-18T14:40:50.058Z"
   },
   {
    "duration": 32,
    "start_time": "2022-11-18T14:40:50.069Z"
   },
   {
    "duration": 29,
    "start_time": "2022-11-18T14:40:50.104Z"
   },
   {
    "duration": 27,
    "start_time": "2022-11-18T14:40:50.134Z"
   },
   {
    "duration": 81,
    "start_time": "2022-11-18T14:40:50.163Z"
   },
   {
    "duration": 67,
    "start_time": "2022-11-18T14:41:22.014Z"
   },
   {
    "duration": 60,
    "start_time": "2022-11-18T14:41:31.302Z"
   },
   {
    "duration": 40,
    "start_time": "2022-11-18T14:41:36.524Z"
   },
   {
    "duration": 12,
    "start_time": "2022-11-18T14:41:52.455Z"
   },
   {
    "duration": 69,
    "start_time": "2022-11-18T14:42:00.322Z"
   },
   {
    "duration": 18,
    "start_time": "2022-11-18T14:42:16.663Z"
   },
   {
    "duration": 63,
    "start_time": "2022-11-18T14:44:25.674Z"
   },
   {
    "duration": 34,
    "start_time": "2022-11-18T14:45:29.056Z"
   },
   {
    "duration": 13,
    "start_time": "2022-11-18T14:46:19.396Z"
   },
   {
    "duration": 432,
    "start_time": "2022-11-20T17:37:14.301Z"
   },
   {
    "duration": 278,
    "start_time": "2022-11-20T17:37:14.736Z"
   },
   {
    "duration": 20,
    "start_time": "2022-11-20T17:37:15.015Z"
   },
   {
    "duration": 32,
    "start_time": "2022-11-20T17:37:15.038Z"
   },
   {
    "duration": 3,
    "start_time": "2022-11-20T17:37:15.072Z"
   },
   {
    "duration": 6,
    "start_time": "2022-11-20T17:37:15.077Z"
   },
   {
    "duration": 38,
    "start_time": "2022-11-20T17:37:15.086Z"
   },
   {
    "duration": 7,
    "start_time": "2022-11-20T17:37:15.127Z"
   },
   {
    "duration": 42,
    "start_time": "2022-11-20T17:37:15.136Z"
   },
   {
    "duration": 42,
    "start_time": "2022-11-20T17:37:15.181Z"
   },
   {
    "duration": 25,
    "start_time": "2022-11-20T17:37:15.225Z"
   },
   {
    "duration": 91,
    "start_time": "2022-11-20T17:37:15.253Z"
   },
   {
    "duration": 89,
    "start_time": "2022-11-20T17:37:15.346Z"
   },
   {
    "duration": 65,
    "start_time": "2022-11-20T17:37:15.437Z"
   },
   {
    "duration": 37,
    "start_time": "2022-11-20T17:37:15.513Z"
   },
   {
    "duration": 10,
    "start_time": "2022-11-20T17:37:15.552Z"
   },
   {
    "duration": 76,
    "start_time": "2022-11-20T17:37:15.564Z"
   },
   {
    "duration": 17,
    "start_time": "2022-11-20T17:37:15.642Z"
   },
   {
    "duration": 6,
    "start_time": "2022-11-20T17:39:50.043Z"
   },
   {
    "duration": 433,
    "start_time": "2022-11-20T17:44:28.079Z"
   },
   {
    "duration": 179,
    "start_time": "2022-11-20T17:44:28.515Z"
   },
   {
    "duration": 26,
    "start_time": "2022-11-20T17:44:28.696Z"
   },
   {
    "duration": 48,
    "start_time": "2022-11-20T17:44:28.725Z"
   },
   {
    "duration": 14,
    "start_time": "2022-11-20T17:44:28.775Z"
   },
   {
    "duration": 30,
    "start_time": "2022-11-20T17:44:28.790Z"
   },
   {
    "duration": 23,
    "start_time": "2022-11-20T17:44:28.822Z"
   },
   {
    "duration": 35,
    "start_time": "2022-11-20T17:44:28.847Z"
   },
   {
    "duration": 60,
    "start_time": "2022-11-20T17:44:28.883Z"
   },
   {
    "duration": 58,
    "start_time": "2022-11-20T17:44:28.946Z"
   },
   {
    "duration": 37,
    "start_time": "2022-11-20T17:44:29.006Z"
   },
   {
    "duration": 106,
    "start_time": "2022-11-20T17:44:29.045Z"
   },
   {
    "duration": 79,
    "start_time": "2022-11-20T17:44:29.153Z"
   },
   {
    "duration": 79,
    "start_time": "2022-11-20T17:44:29.234Z"
   },
   {
    "duration": 48,
    "start_time": "2022-11-20T17:44:29.315Z"
   },
   {
    "duration": 12,
    "start_time": "2022-11-20T17:44:29.365Z"
   },
   {
    "duration": 68,
    "start_time": "2022-11-20T17:44:29.379Z"
   },
   {
    "duration": 18,
    "start_time": "2022-11-20T17:44:29.449Z"
   },
   {
    "duration": 28,
    "start_time": "2022-11-20T17:44:29.469Z"
   },
   {
    "duration": 4,
    "start_time": "2022-11-20T17:57:45.694Z"
   },
   {
    "duration": 5,
    "start_time": "2022-11-20T17:58:58.171Z"
   },
   {
    "duration": 1229,
    "start_time": "2022-11-20T18:04:40.512Z"
   },
   {
    "duration": 805,
    "start_time": "2022-11-20T18:07:23.934Z"
   },
   {
    "duration": 797,
    "start_time": "2022-11-20T18:07:51.223Z"
   },
   {
    "duration": 5,
    "start_time": "2022-11-20T18:10:08.442Z"
   },
   {
    "duration": 24,
    "start_time": "2022-11-20T18:10:19.136Z"
   },
   {
    "duration": 21,
    "start_time": "2022-11-20T18:14:58.533Z"
   },
   {
    "duration": 65,
    "start_time": "2022-11-20T18:15:05.205Z"
   },
   {
    "duration": 19,
    "start_time": "2022-11-20T18:15:27.301Z"
   },
   {
    "duration": 18,
    "start_time": "2022-11-20T18:15:30.830Z"
   },
   {
    "duration": 19,
    "start_time": "2022-11-20T18:15:34.403Z"
   },
   {
    "duration": 17,
    "start_time": "2022-11-20T18:15:37.095Z"
   },
   {
    "duration": 4,
    "start_time": "2022-11-20T18:35:42.473Z"
   },
   {
    "duration": 9,
    "start_time": "2022-11-20T18:39:25.913Z"
   },
   {
    "duration": 11,
    "start_time": "2022-11-20T18:39:42.366Z"
   },
   {
    "duration": 7,
    "start_time": "2022-11-20T18:40:12.556Z"
   },
   {
    "duration": 15,
    "start_time": "2022-11-20T18:40:14.101Z"
   },
   {
    "duration": 433,
    "start_time": "2022-11-20T18:41:46.272Z"
   },
   {
    "duration": 217,
    "start_time": "2022-11-20T18:41:46.707Z"
   },
   {
    "duration": 22,
    "start_time": "2022-11-20T18:41:46.925Z"
   },
   {
    "duration": 29,
    "start_time": "2022-11-20T18:41:46.949Z"
   },
   {
    "duration": 3,
    "start_time": "2022-11-20T18:41:46.980Z"
   },
   {
    "duration": 42,
    "start_time": "2022-11-20T18:41:46.985Z"
   },
   {
    "duration": 12,
    "start_time": "2022-11-20T18:41:47.032Z"
   },
   {
    "duration": 9,
    "start_time": "2022-11-20T18:41:47.046Z"
   },
   {
    "duration": 29,
    "start_time": "2022-11-20T18:41:47.057Z"
   },
   {
    "duration": 45,
    "start_time": "2022-11-20T18:41:47.090Z"
   },
   {
    "duration": 24,
    "start_time": "2022-11-20T18:41:47.137Z"
   },
   {
    "duration": 113,
    "start_time": "2022-11-20T18:41:47.163Z"
   },
   {
    "duration": 107,
    "start_time": "2022-11-20T18:41:47.279Z"
   },
   {
    "duration": 90,
    "start_time": "2022-11-20T18:41:47.388Z"
   },
   {
    "duration": 53,
    "start_time": "2022-11-20T18:41:47.480Z"
   },
   {
    "duration": 13,
    "start_time": "2022-11-20T18:41:47.536Z"
   },
   {
    "duration": 78,
    "start_time": "2022-11-20T18:41:47.552Z"
   },
   {
    "duration": 29,
    "start_time": "2022-11-20T18:41:47.634Z"
   },
   {
    "duration": 19,
    "start_time": "2022-11-20T18:41:47.666Z"
   },
   {
    "duration": 5,
    "start_time": "2022-11-20T18:41:47.688Z"
   },
   {
    "duration": 53,
    "start_time": "2022-11-20T18:41:47.695Z"
   },
   {
    "duration": 36,
    "start_time": "2022-11-20T18:41:47.751Z"
   },
   {
    "duration": 31,
    "start_time": "2022-11-20T18:41:47.789Z"
   },
   {
    "duration": 24,
    "start_time": "2022-11-20T18:41:47.823Z"
   },
   {
    "duration": 30,
    "start_time": "2022-11-20T18:41:47.849Z"
   },
   {
    "duration": 20,
    "start_time": "2022-11-20T18:41:47.881Z"
   },
   {
    "duration": 9,
    "start_time": "2022-11-20T18:41:47.912Z"
   },
   {
    "duration": 11,
    "start_time": "2022-11-20T18:42:25.395Z"
   },
   {
    "duration": 13,
    "start_time": "2022-11-20T18:42:30.229Z"
   },
   {
    "duration": 62,
    "start_time": "2022-11-20T19:02:31.923Z"
   },
   {
    "duration": 6,
    "start_time": "2022-11-20T19:04:27.067Z"
   },
   {
    "duration": 6,
    "start_time": "2022-11-20T19:05:38.827Z"
   },
   {
    "duration": 5,
    "start_time": "2022-11-20T19:12:53.900Z"
   },
   {
    "duration": 451,
    "start_time": "2022-11-20T19:13:46.137Z"
   },
   {
    "duration": 253,
    "start_time": "2022-11-20T19:13:46.591Z"
   },
   {
    "duration": 25,
    "start_time": "2022-11-20T19:13:46.846Z"
   },
   {
    "duration": 58,
    "start_time": "2022-11-20T19:13:46.873Z"
   },
   {
    "duration": 25,
    "start_time": "2022-11-20T19:13:46.936Z"
   },
   {
    "duration": 12,
    "start_time": "2022-11-20T19:13:46.963Z"
   },
   {
    "duration": 15,
    "start_time": "2022-11-20T19:13:46.977Z"
   },
   {
    "duration": 14,
    "start_time": "2022-11-20T19:13:46.993Z"
   },
   {
    "duration": 60,
    "start_time": "2022-11-20T19:13:47.008Z"
   },
   {
    "duration": 24,
    "start_time": "2022-11-20T19:13:47.073Z"
   },
   {
    "duration": 37,
    "start_time": "2022-11-20T19:13:47.100Z"
   },
   {
    "duration": 105,
    "start_time": "2022-11-20T19:13:47.139Z"
   },
   {
    "duration": 111,
    "start_time": "2022-11-20T19:13:47.246Z"
   },
   {
    "duration": 119,
    "start_time": "2022-11-20T19:13:47.360Z"
   },
   {
    "duration": 66,
    "start_time": "2022-11-20T19:13:47.482Z"
   },
   {
    "duration": 17,
    "start_time": "2022-11-20T19:13:47.553Z"
   },
   {
    "duration": 35,
    "start_time": "2022-11-20T19:13:47.572Z"
   },
   {
    "duration": 27,
    "start_time": "2022-11-20T19:13:47.625Z"
   },
   {
    "duration": 13,
    "start_time": "2022-11-20T19:13:47.654Z"
   },
   {
    "duration": 4,
    "start_time": "2022-11-20T19:13:47.669Z"
   },
   {
    "duration": 26,
    "start_time": "2022-11-20T19:13:47.675Z"
   },
   {
    "duration": 28,
    "start_time": "2022-11-20T19:13:47.703Z"
   },
   {
    "duration": 35,
    "start_time": "2022-11-20T19:13:47.737Z"
   },
   {
    "duration": 17,
    "start_time": "2022-11-20T19:13:47.774Z"
   },
   {
    "duration": 48,
    "start_time": "2022-11-20T19:13:47.794Z"
   },
   {
    "duration": 19,
    "start_time": "2022-11-20T19:13:47.844Z"
   },
   {
    "duration": 6,
    "start_time": "2022-11-20T19:13:47.865Z"
   },
   {
    "duration": 16,
    "start_time": "2022-11-20T19:13:47.876Z"
   },
   {
    "duration": 32,
    "start_time": "2022-11-20T19:13:47.894Z"
   },
   {
    "duration": 10,
    "start_time": "2022-11-20T19:29:09.832Z"
   },
   {
    "duration": 5,
    "start_time": "2022-11-20T19:29:48.971Z"
   },
   {
    "duration": 1229,
    "start_time": "2022-11-20T20:05:44.767Z"
   },
   {
    "duration": 1278,
    "start_time": "2022-11-20T20:05:52.244Z"
   },
   {
    "duration": 1548,
    "start_time": "2022-11-20T20:05:55.646Z"
   },
   {
    "duration": 10,
    "start_time": "2022-12-20T20:20:06.285Z"
   },
   {
    "duration": 420,
    "start_time": "2022-12-20T20:20:22.270Z"
   },
   {
    "duration": 446,
    "start_time": "2022-12-20T20:20:22.692Z"
   },
   {
    "duration": 16,
    "start_time": "2022-12-20T20:20:23.140Z"
   },
   {
    "duration": 25,
    "start_time": "2022-12-20T20:20:23.158Z"
   },
   {
    "duration": 5,
    "start_time": "2022-12-20T20:20:23.186Z"
   },
   {
    "duration": 7,
    "start_time": "2022-12-20T20:20:23.193Z"
   },
   {
    "duration": 14,
    "start_time": "2022-12-20T20:20:23.201Z"
   },
   {
    "duration": 9,
    "start_time": "2022-12-20T20:20:23.216Z"
   },
   {
    "duration": 36,
    "start_time": "2022-12-20T20:20:23.227Z"
   },
   {
    "duration": 26,
    "start_time": "2022-12-20T20:20:23.265Z"
   },
   {
    "duration": 24,
    "start_time": "2022-12-20T20:20:23.292Z"
   },
   {
    "duration": 73,
    "start_time": "2022-12-20T20:20:23.318Z"
   },
   {
    "duration": 73,
    "start_time": "2022-12-20T20:20:23.393Z"
   },
   {
    "duration": 59,
    "start_time": "2022-12-20T20:20:23.469Z"
   },
   {
    "duration": 46,
    "start_time": "2022-12-20T20:20:23.530Z"
   },
   {
    "duration": 8,
    "start_time": "2022-12-20T20:20:23.578Z"
   },
   {
    "duration": 35,
    "start_time": "2022-12-20T20:20:23.588Z"
   },
   {
    "duration": 29,
    "start_time": "2022-12-20T20:20:23.624Z"
   },
   {
    "duration": 13,
    "start_time": "2022-12-20T20:20:23.654Z"
   },
   {
    "duration": 3,
    "start_time": "2022-12-20T20:20:23.668Z"
   },
   {
    "duration": 20,
    "start_time": "2022-12-20T20:20:23.673Z"
   },
   {
    "duration": 13,
    "start_time": "2022-12-20T20:20:23.694Z"
   },
   {
    "duration": 15,
    "start_time": "2022-12-20T20:20:23.709Z"
   },
   {
    "duration": 35,
    "start_time": "2022-12-20T20:20:23.726Z"
   },
   {
    "duration": 15,
    "start_time": "2022-12-20T20:20:23.763Z"
   },
   {
    "duration": 13,
    "start_time": "2022-12-20T20:20:23.779Z"
   },
   {
    "duration": 16,
    "start_time": "2022-12-20T20:20:23.793Z"
   },
   {
    "duration": 14,
    "start_time": "2022-12-20T20:20:23.810Z"
   },
   {
    "duration": 28,
    "start_time": "2022-12-20T20:20:23.825Z"
   },
   {
    "duration": 4,
    "start_time": "2022-12-20T20:20:23.855Z"
   },
   {
    "duration": 24,
    "start_time": "2022-12-20T20:20:23.860Z"
   },
   {
    "duration": 11,
    "start_time": "2022-12-20T20:20:23.885Z"
   },
   {
    "duration": 20,
    "start_time": "2022-12-20T20:20:23.898Z"
   },
   {
    "duration": 34,
    "start_time": "2022-12-20T20:20:23.919Z"
   },
   {
    "duration": 9,
    "start_time": "2022-12-20T20:20:23.954Z"
   },
   {
    "duration": 4,
    "start_time": "2022-12-20T20:20:23.965Z"
   },
   {
    "duration": 7,
    "start_time": "2022-12-20T20:20:23.970Z"
   },
   {
    "duration": 4,
    "start_time": "2022-12-20T20:20:23.979Z"
   }
  ],
  "colab": {
   "collapsed_sections": [
    "E0vqbgi9ay0H",
    "VUC88oWjTJw2"
   ],
   "name": "automatization_template_upd4.ipynb",
   "provenance": []
  },
  "kernelspec": {
   "display_name": "Python 3 (ipykernel)",
   "language": "python",
   "name": "python3"
  },
  "language_info": {
   "codemirror_mode": {
    "name": "ipython",
    "version": 3
   },
   "file_extension": ".py",
   "mimetype": "text/x-python",
   "name": "python",
   "nbconvert_exporter": "python",
   "pygments_lexer": "ipython3",
   "version": "3.9.5"
  },
  "toc": {
   "base_numbering": 1,
   "nav_menu": {
    "height": "215px",
    "width": "403px"
   },
   "number_sections": true,
   "sideBar": true,
   "skip_h1_title": true,
   "title_cell": "Table of Contents",
   "title_sidebar": "Contents",
   "toc_cell": false,
   "toc_position": {
    "height": "calc(100% - 180px)",
    "left": "10px",
    "top": "150px",
    "width": "285.825px"
   },
   "toc_section_display": true,
   "toc_window_display": false
  }
 },
 "nbformat": 4,
 "nbformat_minor": 1
}
